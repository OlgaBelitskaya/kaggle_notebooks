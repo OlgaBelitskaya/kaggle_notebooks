{
 "cells": [
  {
   "cell_type": "code",
   "execution_count": 1,
   "metadata": {
    "_cell_guid": "b1076dfc-b9ad-4769-8c92-a6c4dae69d19",
    "_kg_hide-input": true,
    "_uuid": "8f2839f25d086af736a60e9eeb907d3b93b6e0e5",
    "execution": {
     "iopub.execute_input": "2020-08-20T09:44:25.806296Z",
     "iopub.status.busy": "2020-08-20T09:44:25.805367Z",
     "iopub.status.idle": "2020-08-20T09:44:25.808830Z",
     "shell.execute_reply": "2020-08-20T09:44:25.807958Z"
    },
    "papermill": {
     "duration": 0.022707,
     "end_time": "2020-08-20T09:44:25.809043",
     "exception": false,
     "start_time": "2020-08-20T09:44:25.786336",
     "status": "completed"
    },
    "tags": []
   },
   "outputs": [],
   "source": [
    "from IPython.display import display,HTML\n",
    "def dhtml(str):\n",
    "    display(HTML(\"\"\"<style>\n",
    "    @import 'https://fonts.googleapis.com/css?family=Akronim&effect=3d';      \n",
    "    </style><h1 class='font-effect-3d' \n",
    "    style='font-family:Akronim; color:#ff55ee; font-size:35px;'>\n",
    "    %s</h1>\"\"\"%str))\n",
    "def phtml(str):\n",
    "    display(HTML(\"\"\"<style>\n",
    "    @import 'https://fonts.googleapis.com/css?family=Smokum&effect=3d-float';      \n",
    "    </style><h1 class='font-effect-3d-float' \n",
    "    style='font-family:Smokum; color:#9955ee; font-size:25px;'>\n",
    "    %s</h1>\"\"\"%str))"
   ]
  },
  {
   "cell_type": "markdown",
   "execution_count": null,
   "metadata": {
    "papermill": {
     "duration": 0.008241,
     "end_time": "2020-08-20T09:44:25.826390",
     "exception": false,
     "start_time": "2020-08-20T09:44:25.818149",
     "status": "completed"
    },
    "tags": []
   },
   "source": [
    "Reading classics [Python Machine Learning 3rd Edition](https://github.com/rasbt/python-machine-learning-book-3rd-edition/blob/master/ch14/ch14_part2.ipynb)"
   ]
  },
  {
   "cell_type": "code",
   "execution_count": 2,
   "metadata": {
    "_cell_guid": "79c7e3d0-c299-4dcb-8224-4455121ee9b0",
    "_kg_hide-input": true,
    "_uuid": "d629ff2d2480ee46fbb7e2d37f6b5fab8052498a",
    "execution": {
     "iopub.execute_input": "2020-08-20T09:44:25.852060Z",
     "iopub.status.busy": "2020-08-20T09:44:25.851044Z",
     "iopub.status.idle": "2020-08-20T09:44:25.856201Z",
     "shell.execute_reply": "2020-08-20T09:44:25.855437Z"
    },
    "papermill": {
     "duration": 0.021469,
     "end_time": "2020-08-20T09:44:25.856347",
     "exception": false,
     "start_time": "2020-08-20T09:44:25.834878",
     "status": "completed"
    },
    "tags": []
   },
   "outputs": [
    {
     "data": {
      "text/html": [
       "<style>\n",
       "    @import 'https://fonts.googleapis.com/css?family=Akronim&effect=3d';      \n",
       "    </style><h1 class='font-effect-3d' \n",
       "    style='font-family:Akronim; color:#ff55ee; font-size:35px;'>\n",
       "    Code Modules & Functions</h1>"
      ],
      "text/plain": [
       "<IPython.core.display.HTML object>"
      ]
     },
     "metadata": {},
     "output_type": "display_data"
    }
   ],
   "source": [
    "dhtml('Code Modules & Functions')"
   ]
  },
  {
   "cell_type": "code",
   "execution_count": 3,
   "metadata": {
    "execution": {
     "iopub.execute_input": "2020-08-20T09:44:25.883513Z",
     "iopub.status.busy": "2020-08-20T09:44:25.882572Z",
     "iopub.status.idle": "2020-08-20T09:44:35.265829Z",
     "shell.execute_reply": "2020-08-20T09:44:35.265136Z"
    },
    "papermill": {
     "duration": 9.398919,
     "end_time": "2020-08-20T09:44:35.266035",
     "exception": false,
     "start_time": "2020-08-20T09:44:25.867116",
     "status": "completed"
    },
    "tags": []
   },
   "outputs": [],
   "source": [
    "import tensorflow as tf,pylab as pl\n",
    "import pandas as pd,numpy as np,seaborn as sb\n",
    "import tensorflow.keras.utils as tku\n",
    "from tensorflow.data import Dataset as tds\n",
    "import sklearn.model_selection as sms"
   ]
  },
  {
   "cell_type": "code",
   "execution_count": 4,
   "metadata": {
    "_kg_hide-input": true,
    "execution": {
     "iopub.execute_input": "2020-08-20T09:44:35.296735Z",
     "iopub.status.busy": "2020-08-20T09:44:35.295531Z",
     "iopub.status.idle": "2020-08-20T09:44:35.299195Z",
     "shell.execute_reply": "2020-08-20T09:44:35.298470Z"
    },
    "papermill": {
     "duration": 0.02393,
     "end_time": "2020-08-20T09:44:35.299374",
     "exception": false,
     "start_time": "2020-08-20T09:44:35.275444",
     "status": "completed"
    },
    "tags": []
   },
   "outputs": [],
   "source": [
    "def pd_style():\n",
    "    return [dict(selector=\"th\",\n",
    "                 props=[(\"font-size\",\"10pt\")]),\n",
    "            dict(selector=\"td\",\n",
    "                 props=[('padding',\"0em 0em\")]),\n",
    "            dict(selector=\"th:hover\",\n",
    "                 props=[(\"font-size\",\"12pt\")]),\n",
    "            dict(selector=\"tr:hover td:hover\",\n",
    "                 props=[('max-width','200px'),\n",
    "                        ('font-size','10pt')])]"
   ]
  },
  {
   "cell_type": "code",
   "execution_count": 5,
   "metadata": {
    "_kg_hide-input": true,
    "execution": {
     "iopub.execute_input": "2020-08-20T09:44:35.324115Z",
     "iopub.status.busy": "2020-08-20T09:44:35.323156Z",
     "iopub.status.idle": "2020-08-20T09:44:35.327795Z",
     "shell.execute_reply": "2020-08-20T09:44:35.327198Z"
    },
    "papermill": {
     "duration": 0.019813,
     "end_time": "2020-08-20T09:44:35.327955",
     "exception": false,
     "start_time": "2020-08-20T09:44:35.308142",
     "status": "completed"
    },
    "tags": []
   },
   "outputs": [
    {
     "data": {
      "text/html": [
       "<style>\n",
       "    @import 'https://fonts.googleapis.com/css?family=Akronim&effect=3d';      \n",
       "    </style><h1 class='font-effect-3d' \n",
       "    style='font-family:Akronim; color:#ff55ee; font-size:35px;'>\n",
       "    Data Processing</h1>"
      ],
      "text/plain": [
       "<IPython.core.display.HTML object>"
      ]
     },
     "metadata": {},
     "output_type": "display_data"
    }
   ],
   "source": [
    "dhtml('Data Processing')"
   ]
  },
  {
   "cell_type": "code",
   "execution_count": 6,
   "metadata": {
    "execution": {
     "iopub.execute_input": "2020-08-20T09:44:35.358011Z",
     "iopub.status.busy": "2020-08-20T09:44:35.356775Z",
     "iopub.status.idle": "2020-08-20T09:44:35.849258Z",
     "shell.execute_reply": "2020-08-20T09:44:35.849890Z"
    },
    "papermill": {
     "duration": 0.513087,
     "end_time": "2020-08-20T09:44:35.850121",
     "exception": false,
     "start_time": "2020-08-20T09:44:35.337034",
     "status": "completed"
    },
    "tags": []
   },
   "outputs": [
    {
     "name": "stdout",
     "output_type": "stream",
     "text": [
      "Downloading data from http://archive.ics.uci.edu/ml/machine-learning-databases/auto-mpg/auto-mpg.data\n",
      "32768/30286 [================================] - 0s 2us/step\n"
     ]
    },
    {
     "data": {
      "text/html": [
       "<style>\n",
       "    @import 'https://fonts.googleapis.com/css?family=Smokum&effect=3d-float';      \n",
       "    </style><h1 class='font-effect-3d-float' \n",
       "    style='font-family:Smokum; color:#9955ee; font-size:25px;'>\n",
       "    Data Exploration</h1>"
      ],
      "text/plain": [
       "<IPython.core.display.HTML object>"
      ]
     },
     "metadata": {},
     "output_type": "display_data"
    },
    {
     "data": {
      "text/html": [
       "<style  type=\"text/css\" >\n",
       "    #T_c1f0aba4_e2c9_11ea_93e2_0242ac130202 th {\n",
       "          font-size: 10pt;\n",
       "    }    #T_c1f0aba4_e2c9_11ea_93e2_0242ac130202 td {\n",
       "          padding: 0em 0em;\n",
       "    }    #T_c1f0aba4_e2c9_11ea_93e2_0242ac130202 th:hover {\n",
       "          font-size: 12pt;\n",
       "    }    #T_c1f0aba4_e2c9_11ea_93e2_0242ac130202 tr:hover td:hover {\n",
       "          max-width: 200px;\n",
       "          font-size: 10pt;\n",
       "    }#T_c1f0aba4_e2c9_11ea_93e2_0242ac130202row0_col0,#T_c1f0aba4_e2c9_11ea_93e2_0242ac130202row2_col0,#T_c1f0aba4_e2c9_11ea_93e2_0242ac130202row3_col0,#T_c1f0aba4_e2c9_11ea_93e2_0242ac130202row4_col0{\n",
       "            background-color:  #01feff;\n",
       "            color:  #000000;\n",
       "            max-width:  80px;\n",
       "            font-size:  1pt;\n",
       "        }#T_c1f0aba4_e2c9_11ea_93e2_0242ac130202row0_col1,#T_c1f0aba4_e2c9_11ea_93e2_0242ac130202row0_col5,#T_c1f0aba4_e2c9_11ea_93e2_0242ac130202row0_col7,#T_c1f0aba4_e2c9_11ea_93e2_0242ac130202row1_col0,#T_c1f0aba4_e2c9_11ea_93e2_0242ac130202row1_col1,#T_c1f0aba4_e2c9_11ea_93e2_0242ac130202row1_col5,#T_c1f0aba4_e2c9_11ea_93e2_0242ac130202row1_col7,#T_c1f0aba4_e2c9_11ea_93e2_0242ac130202row2_col1,#T_c1f0aba4_e2c9_11ea_93e2_0242ac130202row2_col5,#T_c1f0aba4_e2c9_11ea_93e2_0242ac130202row2_col7,#T_c1f0aba4_e2c9_11ea_93e2_0242ac130202row3_col1,#T_c1f0aba4_e2c9_11ea_93e2_0242ac130202row3_col5,#T_c1f0aba4_e2c9_11ea_93e2_0242ac130202row3_col7,#T_c1f0aba4_e2c9_11ea_93e2_0242ac130202row4_col1,#T_c1f0aba4_e2c9_11ea_93e2_0242ac130202row4_col5,#T_c1f0aba4_e2c9_11ea_93e2_0242ac130202row4_col7,#T_c1f0aba4_e2c9_11ea_93e2_0242ac130202row5_col0,#T_c1f0aba4_e2c9_11ea_93e2_0242ac130202row5_col1,#T_c1f0aba4_e2c9_11ea_93e2_0242ac130202row5_col5,#T_c1f0aba4_e2c9_11ea_93e2_0242ac130202row5_col7,#T_c1f0aba4_e2c9_11ea_93e2_0242ac130202row6_col0,#T_c1f0aba4_e2c9_11ea_93e2_0242ac130202row6_col1,#T_c1f0aba4_e2c9_11ea_93e2_0242ac130202row6_col5,#T_c1f0aba4_e2c9_11ea_93e2_0242ac130202row6_col7,#T_c1f0aba4_e2c9_11ea_93e2_0242ac130202row7_col0,#T_c1f0aba4_e2c9_11ea_93e2_0242ac130202row7_col1,#T_c1f0aba4_e2c9_11ea_93e2_0242ac130202row7_col5,#T_c1f0aba4_e2c9_11ea_93e2_0242ac130202row7_col7,#T_c1f0aba4_e2c9_11ea_93e2_0242ac130202row8_col0,#T_c1f0aba4_e2c9_11ea_93e2_0242ac130202row8_col1,#T_c1f0aba4_e2c9_11ea_93e2_0242ac130202row8_col5,#T_c1f0aba4_e2c9_11ea_93e2_0242ac130202row8_col7,#T_c1f0aba4_e2c9_11ea_93e2_0242ac130202row9_col0,#T_c1f0aba4_e2c9_11ea_93e2_0242ac130202row9_col1,#T_c1f0aba4_e2c9_11ea_93e2_0242ac130202row9_col5,#T_c1f0aba4_e2c9_11ea_93e2_0242ac130202row9_col7{\n",
       "            background-color:  #00ffff;\n",
       "            color:  #000000;\n",
       "            max-width:  80px;\n",
       "            font-size:  1pt;\n",
       "        }#T_c1f0aba4_e2c9_11ea_93e2_0242ac130202row0_col2,#T_c1f0aba4_e2c9_11ea_93e2_0242ac130202row3_col2,#T_c1f0aba4_e2c9_11ea_93e2_0242ac130202row4_col2{\n",
       "            background-color:  #16e9ff;\n",
       "            color:  #000000;\n",
       "            max-width:  80px;\n",
       "            font-size:  1pt;\n",
       "        }#T_c1f0aba4_e2c9_11ea_93e2_0242ac130202row0_col3{\n",
       "            background-color:  #09f6ff;\n",
       "            color:  #000000;\n",
       "            max-width:  80px;\n",
       "            font-size:  1pt;\n",
       "        }#T_c1f0aba4_e2c9_11ea_93e2_0242ac130202row0_col4,#T_c1f0aba4_e2c9_11ea_93e2_0242ac130202row1_col4,#T_c1f0aba4_e2c9_11ea_93e2_0242ac130202row2_col4,#T_c1f0aba4_e2c9_11ea_93e2_0242ac130202row3_col4,#T_c1f0aba4_e2c9_11ea_93e2_0242ac130202row4_col4,#T_c1f0aba4_e2c9_11ea_93e2_0242ac130202row5_col4,#T_c1f0aba4_e2c9_11ea_93e2_0242ac130202row6_col4,#T_c1f0aba4_e2c9_11ea_93e2_0242ac130202row7_col4,#T_c1f0aba4_e2c9_11ea_93e2_0242ac130202row8_col4,#T_c1f0aba4_e2c9_11ea_93e2_0242ac130202row9_col4{\n",
       "            background-color:  #ff00ff;\n",
       "            color:  #f1f1f1;\n",
       "            max-width:  80px;\n",
       "            font-size:  1pt;\n",
       "        }#T_c1f0aba4_e2c9_11ea_93e2_0242ac130202row0_col6,#T_c1f0aba4_e2c9_11ea_93e2_0242ac130202row2_col6,#T_c1f0aba4_e2c9_11ea_93e2_0242ac130202row3_col6,#T_c1f0aba4_e2c9_11ea_93e2_0242ac130202row4_col6{\n",
       "            background-color:  #05faff;\n",
       "            color:  #000000;\n",
       "            max-width:  80px;\n",
       "            font-size:  1pt;\n",
       "        }#T_c1f0aba4_e2c9_11ea_93e2_0242ac130202row1_col2{\n",
       "            background-color:  #18e7ff;\n",
       "            color:  #000000;\n",
       "            max-width:  80px;\n",
       "            font-size:  1pt;\n",
       "        }#T_c1f0aba4_e2c9_11ea_93e2_0242ac130202row1_col3,#T_c1f0aba4_e2c9_11ea_93e2_0242ac130202row2_col3,#T_c1f0aba4_e2c9_11ea_93e2_0242ac130202row3_col3,#T_c1f0aba4_e2c9_11ea_93e2_0242ac130202row5_col3{\n",
       "            background-color:  #0bf4ff;\n",
       "            color:  #000000;\n",
       "            max-width:  80px;\n",
       "            font-size:  1pt;\n",
       "        }#T_c1f0aba4_e2c9_11ea_93e2_0242ac130202row1_col6,#T_c1f0aba4_e2c9_11ea_93e2_0242ac130202row5_col6,#T_c1f0aba4_e2c9_11ea_93e2_0242ac130202row6_col6,#T_c1f0aba4_e2c9_11ea_93e2_0242ac130202row7_col6,#T_c1f0aba4_e2c9_11ea_93e2_0242ac130202row9_col6{\n",
       "            background-color:  #04fbff;\n",
       "            color:  #000000;\n",
       "            max-width:  80px;\n",
       "            font-size:  1pt;\n",
       "        }#T_c1f0aba4_e2c9_11ea_93e2_0242ac130202row2_col2{\n",
       "            background-color:  #17e8ff;\n",
       "            color:  #000000;\n",
       "            max-width:  80px;\n",
       "            font-size:  1pt;\n",
       "        }#T_c1f0aba4_e2c9_11ea_93e2_0242ac130202row4_col3{\n",
       "            background-color:  #0af5ff;\n",
       "            color:  #000000;\n",
       "            max-width:  80px;\n",
       "            font-size:  1pt;\n",
       "        }#T_c1f0aba4_e2c9_11ea_93e2_0242ac130202row5_col2,#T_c1f0aba4_e2c9_11ea_93e2_0242ac130202row9_col2{\n",
       "            background-color:  #19e6ff;\n",
       "            color:  #000000;\n",
       "            max-width:  80px;\n",
       "            font-size:  1pt;\n",
       "        }#T_c1f0aba4_e2c9_11ea_93e2_0242ac130202row6_col2,#T_c1f0aba4_e2c9_11ea_93e2_0242ac130202row7_col2,#T_c1f0aba4_e2c9_11ea_93e2_0242ac130202row8_col2{\n",
       "            background-color:  #1ae5ff;\n",
       "            color:  #000000;\n",
       "            max-width:  80px;\n",
       "            font-size:  1pt;\n",
       "        }#T_c1f0aba4_e2c9_11ea_93e2_0242ac130202row6_col3,#T_c1f0aba4_e2c9_11ea_93e2_0242ac130202row7_col3,#T_c1f0aba4_e2c9_11ea_93e2_0242ac130202row8_col3,#T_c1f0aba4_e2c9_11ea_93e2_0242ac130202row9_col3{\n",
       "            background-color:  #0cf3ff;\n",
       "            color:  #000000;\n",
       "            max-width:  80px;\n",
       "            font-size:  1pt;\n",
       "        }#T_c1f0aba4_e2c9_11ea_93e2_0242ac130202row8_col6{\n",
       "            background-color:  #03fcff;\n",
       "            color:  #000000;\n",
       "            max-width:  80px;\n",
       "            font-size:  1pt;\n",
       "        }</style><table id=\"T_c1f0aba4_e2c9_11ea_93e2_0242ac130202\" ><thead>    <tr>        <th class=\"blank level0\" ></th>        <th class=\"col_heading level0 col0\" >MPG</th>        <th class=\"col_heading level0 col1\" >Cylinders</th>        <th class=\"col_heading level0 col2\" >Displacement</th>        <th class=\"col_heading level0 col3\" >Horsepower</th>        <th class=\"col_heading level0 col4\" >Weight</th>        <th class=\"col_heading level0 col5\" >Acceleration</th>        <th class=\"col_heading level0 col6\" >ModelYear</th>        <th class=\"col_heading level0 col7\" >Origin</th>    </tr></thead><tbody>\n",
       "                <tr>\n",
       "                        <th id=\"T_c1f0aba4_e2c9_11ea_93e2_0242ac130202level0_row0\" class=\"row_heading level0 row0\" >0</th>\n",
       "                        <td id=\"T_c1f0aba4_e2c9_11ea_93e2_0242ac130202row0_col0\" class=\"data row0 col0\" >18.00</td>\n",
       "                        <td id=\"T_c1f0aba4_e2c9_11ea_93e2_0242ac130202row0_col1\" class=\"data row0 col1\" >8</td>\n",
       "                        <td id=\"T_c1f0aba4_e2c9_11ea_93e2_0242ac130202row0_col2\" class=\"data row0 col2\" >307.00</td>\n",
       "                        <td id=\"T_c1f0aba4_e2c9_11ea_93e2_0242ac130202row0_col3\" class=\"data row0 col3\" >130.00</td>\n",
       "                        <td id=\"T_c1f0aba4_e2c9_11ea_93e2_0242ac130202row0_col4\" class=\"data row0 col4\" >3504.00</td>\n",
       "                        <td id=\"T_c1f0aba4_e2c9_11ea_93e2_0242ac130202row0_col5\" class=\"data row0 col5\" >12.00</td>\n",
       "                        <td id=\"T_c1f0aba4_e2c9_11ea_93e2_0242ac130202row0_col6\" class=\"data row0 col6\" >70</td>\n",
       "                        <td id=\"T_c1f0aba4_e2c9_11ea_93e2_0242ac130202row0_col7\" class=\"data row0 col7\" >1</td>\n",
       "            </tr>\n",
       "            <tr>\n",
       "                        <th id=\"T_c1f0aba4_e2c9_11ea_93e2_0242ac130202level0_row1\" class=\"row_heading level0 row1\" >1</th>\n",
       "                        <td id=\"T_c1f0aba4_e2c9_11ea_93e2_0242ac130202row1_col0\" class=\"data row1 col0\" >15.00</td>\n",
       "                        <td id=\"T_c1f0aba4_e2c9_11ea_93e2_0242ac130202row1_col1\" class=\"data row1 col1\" >8</td>\n",
       "                        <td id=\"T_c1f0aba4_e2c9_11ea_93e2_0242ac130202row1_col2\" class=\"data row1 col2\" >350.00</td>\n",
       "                        <td id=\"T_c1f0aba4_e2c9_11ea_93e2_0242ac130202row1_col3\" class=\"data row1 col3\" >165.00</td>\n",
       "                        <td id=\"T_c1f0aba4_e2c9_11ea_93e2_0242ac130202row1_col4\" class=\"data row1 col4\" >3693.00</td>\n",
       "                        <td id=\"T_c1f0aba4_e2c9_11ea_93e2_0242ac130202row1_col5\" class=\"data row1 col5\" >11.50</td>\n",
       "                        <td id=\"T_c1f0aba4_e2c9_11ea_93e2_0242ac130202row1_col6\" class=\"data row1 col6\" >70</td>\n",
       "                        <td id=\"T_c1f0aba4_e2c9_11ea_93e2_0242ac130202row1_col7\" class=\"data row1 col7\" >1</td>\n",
       "            </tr>\n",
       "            <tr>\n",
       "                        <th id=\"T_c1f0aba4_e2c9_11ea_93e2_0242ac130202level0_row2\" class=\"row_heading level0 row2\" >2</th>\n",
       "                        <td id=\"T_c1f0aba4_e2c9_11ea_93e2_0242ac130202row2_col0\" class=\"data row2 col0\" >18.00</td>\n",
       "                        <td id=\"T_c1f0aba4_e2c9_11ea_93e2_0242ac130202row2_col1\" class=\"data row2 col1\" >8</td>\n",
       "                        <td id=\"T_c1f0aba4_e2c9_11ea_93e2_0242ac130202row2_col2\" class=\"data row2 col2\" >318.00</td>\n",
       "                        <td id=\"T_c1f0aba4_e2c9_11ea_93e2_0242ac130202row2_col3\" class=\"data row2 col3\" >150.00</td>\n",
       "                        <td id=\"T_c1f0aba4_e2c9_11ea_93e2_0242ac130202row2_col4\" class=\"data row2 col4\" >3436.00</td>\n",
       "                        <td id=\"T_c1f0aba4_e2c9_11ea_93e2_0242ac130202row2_col5\" class=\"data row2 col5\" >11.00</td>\n",
       "                        <td id=\"T_c1f0aba4_e2c9_11ea_93e2_0242ac130202row2_col6\" class=\"data row2 col6\" >70</td>\n",
       "                        <td id=\"T_c1f0aba4_e2c9_11ea_93e2_0242ac130202row2_col7\" class=\"data row2 col7\" >1</td>\n",
       "            </tr>\n",
       "            <tr>\n",
       "                        <th id=\"T_c1f0aba4_e2c9_11ea_93e2_0242ac130202level0_row3\" class=\"row_heading level0 row3\" >3</th>\n",
       "                        <td id=\"T_c1f0aba4_e2c9_11ea_93e2_0242ac130202row3_col0\" class=\"data row3 col0\" >16.00</td>\n",
       "                        <td id=\"T_c1f0aba4_e2c9_11ea_93e2_0242ac130202row3_col1\" class=\"data row3 col1\" >8</td>\n",
       "                        <td id=\"T_c1f0aba4_e2c9_11ea_93e2_0242ac130202row3_col2\" class=\"data row3 col2\" >304.00</td>\n",
       "                        <td id=\"T_c1f0aba4_e2c9_11ea_93e2_0242ac130202row3_col3\" class=\"data row3 col3\" >150.00</td>\n",
       "                        <td id=\"T_c1f0aba4_e2c9_11ea_93e2_0242ac130202row3_col4\" class=\"data row3 col4\" >3433.00</td>\n",
       "                        <td id=\"T_c1f0aba4_e2c9_11ea_93e2_0242ac130202row3_col5\" class=\"data row3 col5\" >12.00</td>\n",
       "                        <td id=\"T_c1f0aba4_e2c9_11ea_93e2_0242ac130202row3_col6\" class=\"data row3 col6\" >70</td>\n",
       "                        <td id=\"T_c1f0aba4_e2c9_11ea_93e2_0242ac130202row3_col7\" class=\"data row3 col7\" >1</td>\n",
       "            </tr>\n",
       "            <tr>\n",
       "                        <th id=\"T_c1f0aba4_e2c9_11ea_93e2_0242ac130202level0_row4\" class=\"row_heading level0 row4\" >4</th>\n",
       "                        <td id=\"T_c1f0aba4_e2c9_11ea_93e2_0242ac130202row4_col0\" class=\"data row4 col0\" >17.00</td>\n",
       "                        <td id=\"T_c1f0aba4_e2c9_11ea_93e2_0242ac130202row4_col1\" class=\"data row4 col1\" >8</td>\n",
       "                        <td id=\"T_c1f0aba4_e2c9_11ea_93e2_0242ac130202row4_col2\" class=\"data row4 col2\" >302.00</td>\n",
       "                        <td id=\"T_c1f0aba4_e2c9_11ea_93e2_0242ac130202row4_col3\" class=\"data row4 col3\" >140.00</td>\n",
       "                        <td id=\"T_c1f0aba4_e2c9_11ea_93e2_0242ac130202row4_col4\" class=\"data row4 col4\" >3449.00</td>\n",
       "                        <td id=\"T_c1f0aba4_e2c9_11ea_93e2_0242ac130202row4_col5\" class=\"data row4 col5\" >10.50</td>\n",
       "                        <td id=\"T_c1f0aba4_e2c9_11ea_93e2_0242ac130202row4_col6\" class=\"data row4 col6\" >70</td>\n",
       "                        <td id=\"T_c1f0aba4_e2c9_11ea_93e2_0242ac130202row4_col7\" class=\"data row4 col7\" >1</td>\n",
       "            </tr>\n",
       "            <tr>\n",
       "                        <th id=\"T_c1f0aba4_e2c9_11ea_93e2_0242ac130202level0_row5\" class=\"row_heading level0 row5\" >5</th>\n",
       "                        <td id=\"T_c1f0aba4_e2c9_11ea_93e2_0242ac130202row5_col0\" class=\"data row5 col0\" >15.00</td>\n",
       "                        <td id=\"T_c1f0aba4_e2c9_11ea_93e2_0242ac130202row5_col1\" class=\"data row5 col1\" >8</td>\n",
       "                        <td id=\"T_c1f0aba4_e2c9_11ea_93e2_0242ac130202row5_col2\" class=\"data row5 col2\" >429.00</td>\n",
       "                        <td id=\"T_c1f0aba4_e2c9_11ea_93e2_0242ac130202row5_col3\" class=\"data row5 col3\" >198.00</td>\n",
       "                        <td id=\"T_c1f0aba4_e2c9_11ea_93e2_0242ac130202row5_col4\" class=\"data row5 col4\" >4341.00</td>\n",
       "                        <td id=\"T_c1f0aba4_e2c9_11ea_93e2_0242ac130202row5_col5\" class=\"data row5 col5\" >10.00</td>\n",
       "                        <td id=\"T_c1f0aba4_e2c9_11ea_93e2_0242ac130202row5_col6\" class=\"data row5 col6\" >70</td>\n",
       "                        <td id=\"T_c1f0aba4_e2c9_11ea_93e2_0242ac130202row5_col7\" class=\"data row5 col7\" >1</td>\n",
       "            </tr>\n",
       "            <tr>\n",
       "                        <th id=\"T_c1f0aba4_e2c9_11ea_93e2_0242ac130202level0_row6\" class=\"row_heading level0 row6\" >6</th>\n",
       "                        <td id=\"T_c1f0aba4_e2c9_11ea_93e2_0242ac130202row6_col0\" class=\"data row6 col0\" >14.00</td>\n",
       "                        <td id=\"T_c1f0aba4_e2c9_11ea_93e2_0242ac130202row6_col1\" class=\"data row6 col1\" >8</td>\n",
       "                        <td id=\"T_c1f0aba4_e2c9_11ea_93e2_0242ac130202row6_col2\" class=\"data row6 col2\" >454.00</td>\n",
       "                        <td id=\"T_c1f0aba4_e2c9_11ea_93e2_0242ac130202row6_col3\" class=\"data row6 col3\" >220.00</td>\n",
       "                        <td id=\"T_c1f0aba4_e2c9_11ea_93e2_0242ac130202row6_col4\" class=\"data row6 col4\" >4354.00</td>\n",
       "                        <td id=\"T_c1f0aba4_e2c9_11ea_93e2_0242ac130202row6_col5\" class=\"data row6 col5\" >9.00</td>\n",
       "                        <td id=\"T_c1f0aba4_e2c9_11ea_93e2_0242ac130202row6_col6\" class=\"data row6 col6\" >70</td>\n",
       "                        <td id=\"T_c1f0aba4_e2c9_11ea_93e2_0242ac130202row6_col7\" class=\"data row6 col7\" >1</td>\n",
       "            </tr>\n",
       "            <tr>\n",
       "                        <th id=\"T_c1f0aba4_e2c9_11ea_93e2_0242ac130202level0_row7\" class=\"row_heading level0 row7\" >7</th>\n",
       "                        <td id=\"T_c1f0aba4_e2c9_11ea_93e2_0242ac130202row7_col0\" class=\"data row7 col0\" >14.00</td>\n",
       "                        <td id=\"T_c1f0aba4_e2c9_11ea_93e2_0242ac130202row7_col1\" class=\"data row7 col1\" >8</td>\n",
       "                        <td id=\"T_c1f0aba4_e2c9_11ea_93e2_0242ac130202row7_col2\" class=\"data row7 col2\" >440.00</td>\n",
       "                        <td id=\"T_c1f0aba4_e2c9_11ea_93e2_0242ac130202row7_col3\" class=\"data row7 col3\" >215.00</td>\n",
       "                        <td id=\"T_c1f0aba4_e2c9_11ea_93e2_0242ac130202row7_col4\" class=\"data row7 col4\" >4312.00</td>\n",
       "                        <td id=\"T_c1f0aba4_e2c9_11ea_93e2_0242ac130202row7_col5\" class=\"data row7 col5\" >8.50</td>\n",
       "                        <td id=\"T_c1f0aba4_e2c9_11ea_93e2_0242ac130202row7_col6\" class=\"data row7 col6\" >70</td>\n",
       "                        <td id=\"T_c1f0aba4_e2c9_11ea_93e2_0242ac130202row7_col7\" class=\"data row7 col7\" >1</td>\n",
       "            </tr>\n",
       "            <tr>\n",
       "                        <th id=\"T_c1f0aba4_e2c9_11ea_93e2_0242ac130202level0_row8\" class=\"row_heading level0 row8\" >8</th>\n",
       "                        <td id=\"T_c1f0aba4_e2c9_11ea_93e2_0242ac130202row8_col0\" class=\"data row8 col0\" >14.00</td>\n",
       "                        <td id=\"T_c1f0aba4_e2c9_11ea_93e2_0242ac130202row8_col1\" class=\"data row8 col1\" >8</td>\n",
       "                        <td id=\"T_c1f0aba4_e2c9_11ea_93e2_0242ac130202row8_col2\" class=\"data row8 col2\" >455.00</td>\n",
       "                        <td id=\"T_c1f0aba4_e2c9_11ea_93e2_0242ac130202row8_col3\" class=\"data row8 col3\" >225.00</td>\n",
       "                        <td id=\"T_c1f0aba4_e2c9_11ea_93e2_0242ac130202row8_col4\" class=\"data row8 col4\" >4425.00</td>\n",
       "                        <td id=\"T_c1f0aba4_e2c9_11ea_93e2_0242ac130202row8_col5\" class=\"data row8 col5\" >10.00</td>\n",
       "                        <td id=\"T_c1f0aba4_e2c9_11ea_93e2_0242ac130202row8_col6\" class=\"data row8 col6\" >70</td>\n",
       "                        <td id=\"T_c1f0aba4_e2c9_11ea_93e2_0242ac130202row8_col7\" class=\"data row8 col7\" >1</td>\n",
       "            </tr>\n",
       "            <tr>\n",
       "                        <th id=\"T_c1f0aba4_e2c9_11ea_93e2_0242ac130202level0_row9\" class=\"row_heading level0 row9\" >9</th>\n",
       "                        <td id=\"T_c1f0aba4_e2c9_11ea_93e2_0242ac130202row9_col0\" class=\"data row9 col0\" >15.00</td>\n",
       "                        <td id=\"T_c1f0aba4_e2c9_11ea_93e2_0242ac130202row9_col1\" class=\"data row9 col1\" >8</td>\n",
       "                        <td id=\"T_c1f0aba4_e2c9_11ea_93e2_0242ac130202row9_col2\" class=\"data row9 col2\" >390.00</td>\n",
       "                        <td id=\"T_c1f0aba4_e2c9_11ea_93e2_0242ac130202row9_col3\" class=\"data row9 col3\" >190.00</td>\n",
       "                        <td id=\"T_c1f0aba4_e2c9_11ea_93e2_0242ac130202row9_col4\" class=\"data row9 col4\" >3850.00</td>\n",
       "                        <td id=\"T_c1f0aba4_e2c9_11ea_93e2_0242ac130202row9_col5\" class=\"data row9 col5\" >8.50</td>\n",
       "                        <td id=\"T_c1f0aba4_e2c9_11ea_93e2_0242ac130202row9_col6\" class=\"data row9 col6\" >70</td>\n",
       "                        <td id=\"T_c1f0aba4_e2c9_11ea_93e2_0242ac130202row9_col7\" class=\"data row9 col7\" >1</td>\n",
       "            </tr>\n",
       "    </tbody></table>"
      ],
      "text/plain": [
       "<pandas.io.formats.style.Styler at 0x7f70ce5fc790>"
      ]
     },
     "execution_count": 6,
     "metadata": {},
     "output_type": "execute_result"
    }
   ],
   "source": [
    "url=\"http://archive.ics.uci.edu/ml/machine-learning-databases\"+\\\n",
    "    \"/auto-mpg/auto-mpg.data\"\n",
    "dp=tku.get_file(\"auto-mpg.data\",url)\n",
    "columns=['MPG','Cylinders','Displacement','Horsepower',\n",
    "         'Weight','Acceleration','ModelYear','Origin']\n",
    "numeric_columns=columns[2:6]\n",
    "df=pd.read_csv(dp,names=columns,\n",
    "               na_values=\"?\",comment='\\t',sep=\" \",\n",
    "               skipinitialspace=True)\n",
    "head_style=\"<p style='font-family:Akronim; \"+\\\n",
    "           \"color:#ff55ee; font-size:25px;'>\"\n",
    "df.head(10).style.background_gradient('cool', axis=1)\\\n",
    "    .set_properties(**{'max-width':'80px','font-size':'1pt'})\\\n",
    "    .set_caption(phtml(\"Data Exploration\"))\\\n",
    "    .set_precision(2)\\\n",
    "    .set_table_styles(pd_style())"
   ]
  },
  {
   "cell_type": "code",
   "execution_count": 7,
   "metadata": {
    "execution": {
     "iopub.execute_input": "2020-08-20T09:44:35.881785Z",
     "iopub.status.busy": "2020-08-20T09:44:35.880844Z",
     "iopub.status.idle": "2020-08-20T09:44:35.936956Z",
     "shell.execute_reply": "2020-08-20T09:44:35.937578Z"
    },
    "papermill": {
     "duration": 0.077511,
     "end_time": "2020-08-20T09:44:35.937793",
     "exception": false,
     "start_time": "2020-08-20T09:44:35.860282",
     "status": "completed"
    },
    "tags": []
   },
   "outputs": [
    {
     "data": {
      "text/html": [
       "<style  type=\"text/css\" >\n",
       "#T_c1fe87ec_e2c9_11ea_93e2_0242ac130202row0_col2{\n",
       "            background-color:  #6f90ff;\n",
       "            color:  #000000;\n",
       "        }#T_c1fe87ec_e2c9_11ea_93e2_0242ac130202row0_col3{\n",
       "            background-color:  #aa55ff;\n",
       "            color:  #000000;\n",
       "        }#T_c1fe87ec_e2c9_11ea_93e2_0242ac130202row0_col4{\n",
       "            background-color:  #8e71ff;\n",
       "            color:  #000000;\n",
       "        }#T_c1fe87ec_e2c9_11ea_93e2_0242ac130202row0_col5{\n",
       "            background-color:  #39c6ff;\n",
       "            color:  #000000;\n",
       "        }#T_c1fe87ec_e2c9_11ea_93e2_0242ac130202row1_col2,#T_c1fe87ec_e2c9_11ea_93e2_0242ac130202row1_col3,#T_c1fe87ec_e2c9_11ea_93e2_0242ac130202row4_col4,#T_c1fe87ec_e2c9_11ea_93e2_0242ac130202row6_col5{\n",
       "            background-color:  #ff00ff;\n",
       "            color:  #f1f1f1;\n",
       "        }#T_c1fe87ec_e2c9_11ea_93e2_0242ac130202row1_col4{\n",
       "            background-color:  #dc23ff;\n",
       "            color:  #f1f1f1;\n",
       "        }#T_c1fe87ec_e2c9_11ea_93e2_0242ac130202row1_col5{\n",
       "            background-color:  #3dc2ff;\n",
       "            color:  #000000;\n",
       "        }#T_c1fe87ec_e2c9_11ea_93e2_0242ac130202row2_col2{\n",
       "            background-color:  #59a6ff;\n",
       "            color:  #000000;\n",
       "        }#T_c1fe87ec_e2c9_11ea_93e2_0242ac130202row2_col3{\n",
       "            background-color:  #bb44ff;\n",
       "            color:  #000000;\n",
       "        }#T_c1fe87ec_e2c9_11ea_93e2_0242ac130202row2_col4{\n",
       "            background-color:  #a758ff;\n",
       "            color:  #000000;\n",
       "        }#T_c1fe87ec_e2c9_11ea_93e2_0242ac130202row2_col5{\n",
       "            background-color:  #2dd2ff;\n",
       "            color:  #000000;\n",
       "        }#T_c1fe87ec_e2c9_11ea_93e2_0242ac130202row3_col2,#T_c1fe87ec_e2c9_11ea_93e2_0242ac130202row7_col2{\n",
       "            background-color:  #48b7ff;\n",
       "            color:  #000000;\n",
       "        }#T_c1fe87ec_e2c9_11ea_93e2_0242ac130202row3_col3,#T_c1fe87ec_e2c9_11ea_93e2_0242ac130202row7_col3{\n",
       "            background-color:  #8877ff;\n",
       "            color:  #000000;\n",
       "        }#T_c1fe87ec_e2c9_11ea_93e2_0242ac130202row3_col4{\n",
       "            background-color:  #4ab5ff;\n",
       "            color:  #000000;\n",
       "        }#T_c1fe87ec_e2c9_11ea_93e2_0242ac130202row3_col5{\n",
       "            background-color:  #1be4ff;\n",
       "            color:  #000000;\n",
       "        }#T_c1fe87ec_e2c9_11ea_93e2_0242ac130202row4_col2{\n",
       "            background-color:  #6699ff;\n",
       "            color:  #000000;\n",
       "        }#T_c1fe87ec_e2c9_11ea_93e2_0242ac130202row4_col3{\n",
       "            background-color:  #a25dff;\n",
       "            color:  #000000;\n",
       "        }#T_c1fe87ec_e2c9_11ea_93e2_0242ac130202row4_col5{\n",
       "            background-color:  #708fff;\n",
       "            color:  #000000;\n",
       "        }#T_c1fe87ec_e2c9_11ea_93e2_0242ac130202row5_col2{\n",
       "            background-color:  #51aeff;\n",
       "            color:  #000000;\n",
       "        }#T_c1fe87ec_e2c9_11ea_93e2_0242ac130202row5_col3{\n",
       "            background-color:  #916eff;\n",
       "            color:  #000000;\n",
       "        }#T_c1fe87ec_e2c9_11ea_93e2_0242ac130202row5_col4{\n",
       "            background-color:  #ce31ff;\n",
       "            color:  #f1f1f1;\n",
       "        }#T_c1fe87ec_e2c9_11ea_93e2_0242ac130202row5_col5{\n",
       "            background-color:  #4eb1ff;\n",
       "            color:  #000000;\n",
       "        }#T_c1fe87ec_e2c9_11ea_93e2_0242ac130202row6_col2,#T_c1fe87ec_e2c9_11ea_93e2_0242ac130202row6_col3,#T_c1fe87ec_e2c9_11ea_93e2_0242ac130202row6_col4,#T_c1fe87ec_e2c9_11ea_93e2_0242ac130202row7_col5{\n",
       "            background-color:  #00ffff;\n",
       "            color:  #000000;\n",
       "        }#T_c1fe87ec_e2c9_11ea_93e2_0242ac130202row7_col4{\n",
       "            background-color:  #33ccff;\n",
       "            color:  #000000;\n",
       "        }#T_c1fe87ec_e2c9_11ea_93e2_0242ac130202row8_col2{\n",
       "            background-color:  #2bd4ff;\n",
       "            color:  #000000;\n",
       "        }#T_c1fe87ec_e2c9_11ea_93e2_0242ac130202row8_col3{\n",
       "            background-color:  #738cff;\n",
       "            color:  #000000;\n",
       "        }#T_c1fe87ec_e2c9_11ea_93e2_0242ac130202row8_col4{\n",
       "            background-color:  #9a65ff;\n",
       "            color:  #000000;\n",
       "        }#T_c1fe87ec_e2c9_11ea_93e2_0242ac130202row8_col5{\n",
       "            background-color:  #8976ff;\n",
       "            color:  #000000;\n",
       "        }#T_c1fe87ec_e2c9_11ea_93e2_0242ac130202row9_col2{\n",
       "            background-color:  #29d6ff;\n",
       "            color:  #000000;\n",
       "        }#T_c1fe87ec_e2c9_11ea_93e2_0242ac130202row9_col3{\n",
       "            background-color:  #807fff;\n",
       "            color:  #000000;\n",
       "        }#T_c1fe87ec_e2c9_11ea_93e2_0242ac130202row9_col4{\n",
       "            background-color:  #b847ff;\n",
       "            color:  #000000;\n",
       "        }#T_c1fe87ec_e2c9_11ea_93e2_0242ac130202row9_col5{\n",
       "            background-color:  #9966ff;\n",
       "            color:  #000000;\n",
       "        }</style><table id=\"T_c1fe87ec_e2c9_11ea_93e2_0242ac130202\" ><thead>    <tr>        <th class=\"blank level0\" ></th>        <th class=\"col_heading level0 col0\" >MPG</th>        <th class=\"col_heading level0 col1\" >Cylinders</th>        <th class=\"col_heading level0 col2\" >Displacement</th>        <th class=\"col_heading level0 col3\" >Horsepower</th>        <th class=\"col_heading level0 col4\" >Weight</th>        <th class=\"col_heading level0 col5\" >Acceleration</th>        <th class=\"col_heading level0 col6\" >ModelYear</th>        <th class=\"col_heading level0 col7\" >Origin</th>    </tr></thead><tbody>\n",
       "                <tr>\n",
       "                        <th id=\"T_c1fe87ec_e2c9_11ea_93e2_0242ac130202level0_row0\" class=\"row_heading level0 row0\" >382</th>\n",
       "                        <td id=\"T_c1fe87ec_e2c9_11ea_93e2_0242ac130202row0_col0\" class=\"data row0 col0\" >26.000000</td>\n",
       "                        <td id=\"T_c1fe87ec_e2c9_11ea_93e2_0242ac130202row0_col1\" class=\"data row0 col1\" >4</td>\n",
       "                        <td id=\"T_c1fe87ec_e2c9_11ea_93e2_0242ac130202row0_col2\" class=\"data row0 col2\" >156.000000</td>\n",
       "                        <td id=\"T_c1fe87ec_e2c9_11ea_93e2_0242ac130202row0_col3\" class=\"data row0 col3\" >92.000000</td>\n",
       "                        <td id=\"T_c1fe87ec_e2c9_11ea_93e2_0242ac130202row0_col4\" class=\"data row0 col4\" >2585.000000</td>\n",
       "                        <td id=\"T_c1fe87ec_e2c9_11ea_93e2_0242ac130202row0_col5\" class=\"data row0 col5\" >14.500000</td>\n",
       "                        <td id=\"T_c1fe87ec_e2c9_11ea_93e2_0242ac130202row0_col6\" class=\"data row0 col6\" >82</td>\n",
       "                        <td id=\"T_c1fe87ec_e2c9_11ea_93e2_0242ac130202row0_col7\" class=\"data row0 col7\" >1</td>\n",
       "            </tr>\n",
       "            <tr>\n",
       "                        <th id=\"T_c1fe87ec_e2c9_11ea_93e2_0242ac130202level0_row1\" class=\"row_heading level0 row1\" >383</th>\n",
       "                        <td id=\"T_c1fe87ec_e2c9_11ea_93e2_0242ac130202row1_col0\" class=\"data row1 col0\" >22.000000</td>\n",
       "                        <td id=\"T_c1fe87ec_e2c9_11ea_93e2_0242ac130202row1_col1\" class=\"data row1 col1\" >6</td>\n",
       "                        <td id=\"T_c1fe87ec_e2c9_11ea_93e2_0242ac130202row1_col2\" class=\"data row1 col2\" >232.000000</td>\n",
       "                        <td id=\"T_c1fe87ec_e2c9_11ea_93e2_0242ac130202row1_col3\" class=\"data row1 col3\" >112.000000</td>\n",
       "                        <td id=\"T_c1fe87ec_e2c9_11ea_93e2_0242ac130202row1_col4\" class=\"data row1 col4\" >2835.000000</td>\n",
       "                        <td id=\"T_c1fe87ec_e2c9_11ea_93e2_0242ac130202row1_col5\" class=\"data row1 col5\" >14.700000</td>\n",
       "                        <td id=\"T_c1fe87ec_e2c9_11ea_93e2_0242ac130202row1_col6\" class=\"data row1 col6\" >82</td>\n",
       "                        <td id=\"T_c1fe87ec_e2c9_11ea_93e2_0242ac130202row1_col7\" class=\"data row1 col7\" >1</td>\n",
       "            </tr>\n",
       "            <tr>\n",
       "                        <th id=\"T_c1fe87ec_e2c9_11ea_93e2_0242ac130202level0_row2\" class=\"row_heading level0 row2\" >384</th>\n",
       "                        <td id=\"T_c1fe87ec_e2c9_11ea_93e2_0242ac130202row2_col0\" class=\"data row2 col0\" >32.000000</td>\n",
       "                        <td id=\"T_c1fe87ec_e2c9_11ea_93e2_0242ac130202row2_col1\" class=\"data row2 col1\" >4</td>\n",
       "                        <td id=\"T_c1fe87ec_e2c9_11ea_93e2_0242ac130202row2_col2\" class=\"data row2 col2\" >144.000000</td>\n",
       "                        <td id=\"T_c1fe87ec_e2c9_11ea_93e2_0242ac130202row2_col3\" class=\"data row2 col3\" >96.000000</td>\n",
       "                        <td id=\"T_c1fe87ec_e2c9_11ea_93e2_0242ac130202row2_col4\" class=\"data row2 col4\" >2665.000000</td>\n",
       "                        <td id=\"T_c1fe87ec_e2c9_11ea_93e2_0242ac130202row2_col5\" class=\"data row2 col5\" >13.900000</td>\n",
       "                        <td id=\"T_c1fe87ec_e2c9_11ea_93e2_0242ac130202row2_col6\" class=\"data row2 col6\" >82</td>\n",
       "                        <td id=\"T_c1fe87ec_e2c9_11ea_93e2_0242ac130202row2_col7\" class=\"data row2 col7\" >3</td>\n",
       "            </tr>\n",
       "            <tr>\n",
       "                        <th id=\"T_c1fe87ec_e2c9_11ea_93e2_0242ac130202level0_row3\" class=\"row_heading level0 row3\" >385</th>\n",
       "                        <td id=\"T_c1fe87ec_e2c9_11ea_93e2_0242ac130202row3_col0\" class=\"data row3 col0\" >36.000000</td>\n",
       "                        <td id=\"T_c1fe87ec_e2c9_11ea_93e2_0242ac130202row3_col1\" class=\"data row3 col1\" >4</td>\n",
       "                        <td id=\"T_c1fe87ec_e2c9_11ea_93e2_0242ac130202row3_col2\" class=\"data row3 col2\" >135.000000</td>\n",
       "                        <td id=\"T_c1fe87ec_e2c9_11ea_93e2_0242ac130202row3_col3\" class=\"data row3 col3\" >84.000000</td>\n",
       "                        <td id=\"T_c1fe87ec_e2c9_11ea_93e2_0242ac130202row3_col4\" class=\"data row3 col4\" >2370.000000</td>\n",
       "                        <td id=\"T_c1fe87ec_e2c9_11ea_93e2_0242ac130202row3_col5\" class=\"data row3 col5\" >13.000000</td>\n",
       "                        <td id=\"T_c1fe87ec_e2c9_11ea_93e2_0242ac130202row3_col6\" class=\"data row3 col6\" >82</td>\n",
       "                        <td id=\"T_c1fe87ec_e2c9_11ea_93e2_0242ac130202row3_col7\" class=\"data row3 col7\" >1</td>\n",
       "            </tr>\n",
       "            <tr>\n",
       "                        <th id=\"T_c1fe87ec_e2c9_11ea_93e2_0242ac130202level0_row4\" class=\"row_heading level0 row4\" >386</th>\n",
       "                        <td id=\"T_c1fe87ec_e2c9_11ea_93e2_0242ac130202row4_col0\" class=\"data row4 col0\" >27.000000</td>\n",
       "                        <td id=\"T_c1fe87ec_e2c9_11ea_93e2_0242ac130202row4_col1\" class=\"data row4 col1\" >4</td>\n",
       "                        <td id=\"T_c1fe87ec_e2c9_11ea_93e2_0242ac130202row4_col2\" class=\"data row4 col2\" >151.000000</td>\n",
       "                        <td id=\"T_c1fe87ec_e2c9_11ea_93e2_0242ac130202row4_col3\" class=\"data row4 col3\" >90.000000</td>\n",
       "                        <td id=\"T_c1fe87ec_e2c9_11ea_93e2_0242ac130202row4_col4\" class=\"data row4 col4\" >2950.000000</td>\n",
       "                        <td id=\"T_c1fe87ec_e2c9_11ea_93e2_0242ac130202row4_col5\" class=\"data row4 col5\" >17.300000</td>\n",
       "                        <td id=\"T_c1fe87ec_e2c9_11ea_93e2_0242ac130202row4_col6\" class=\"data row4 col6\" >82</td>\n",
       "                        <td id=\"T_c1fe87ec_e2c9_11ea_93e2_0242ac130202row4_col7\" class=\"data row4 col7\" >1</td>\n",
       "            </tr>\n",
       "            <tr>\n",
       "                        <th id=\"T_c1fe87ec_e2c9_11ea_93e2_0242ac130202level0_row5\" class=\"row_heading level0 row5\" >387</th>\n",
       "                        <td id=\"T_c1fe87ec_e2c9_11ea_93e2_0242ac130202row5_col0\" class=\"data row5 col0\" >27.000000</td>\n",
       "                        <td id=\"T_c1fe87ec_e2c9_11ea_93e2_0242ac130202row5_col1\" class=\"data row5 col1\" >4</td>\n",
       "                        <td id=\"T_c1fe87ec_e2c9_11ea_93e2_0242ac130202row5_col2\" class=\"data row5 col2\" >140.000000</td>\n",
       "                        <td id=\"T_c1fe87ec_e2c9_11ea_93e2_0242ac130202row5_col3\" class=\"data row5 col3\" >86.000000</td>\n",
       "                        <td id=\"T_c1fe87ec_e2c9_11ea_93e2_0242ac130202row5_col4\" class=\"data row5 col4\" >2790.000000</td>\n",
       "                        <td id=\"T_c1fe87ec_e2c9_11ea_93e2_0242ac130202row5_col5\" class=\"data row5 col5\" >15.600000</td>\n",
       "                        <td id=\"T_c1fe87ec_e2c9_11ea_93e2_0242ac130202row5_col6\" class=\"data row5 col6\" >82</td>\n",
       "                        <td id=\"T_c1fe87ec_e2c9_11ea_93e2_0242ac130202row5_col7\" class=\"data row5 col7\" >1</td>\n",
       "            </tr>\n",
       "            <tr>\n",
       "                        <th id=\"T_c1fe87ec_e2c9_11ea_93e2_0242ac130202level0_row6\" class=\"row_heading level0 row6\" >388</th>\n",
       "                        <td id=\"T_c1fe87ec_e2c9_11ea_93e2_0242ac130202row6_col0\" class=\"data row6 col0\" >44.000000</td>\n",
       "                        <td id=\"T_c1fe87ec_e2c9_11ea_93e2_0242ac130202row6_col1\" class=\"data row6 col1\" >4</td>\n",
       "                        <td id=\"T_c1fe87ec_e2c9_11ea_93e2_0242ac130202row6_col2\" class=\"data row6 col2\" >97.000000</td>\n",
       "                        <td id=\"T_c1fe87ec_e2c9_11ea_93e2_0242ac130202row6_col3\" class=\"data row6 col3\" >52.000000</td>\n",
       "                        <td id=\"T_c1fe87ec_e2c9_11ea_93e2_0242ac130202row6_col4\" class=\"data row6 col4\" >2130.000000</td>\n",
       "                        <td id=\"T_c1fe87ec_e2c9_11ea_93e2_0242ac130202row6_col5\" class=\"data row6 col5\" >24.600000</td>\n",
       "                        <td id=\"T_c1fe87ec_e2c9_11ea_93e2_0242ac130202row6_col6\" class=\"data row6 col6\" >82</td>\n",
       "                        <td id=\"T_c1fe87ec_e2c9_11ea_93e2_0242ac130202row6_col7\" class=\"data row6 col7\" >2</td>\n",
       "            </tr>\n",
       "            <tr>\n",
       "                        <th id=\"T_c1fe87ec_e2c9_11ea_93e2_0242ac130202level0_row7\" class=\"row_heading level0 row7\" >389</th>\n",
       "                        <td id=\"T_c1fe87ec_e2c9_11ea_93e2_0242ac130202row7_col0\" class=\"data row7 col0\" >32.000000</td>\n",
       "                        <td id=\"T_c1fe87ec_e2c9_11ea_93e2_0242ac130202row7_col1\" class=\"data row7 col1\" >4</td>\n",
       "                        <td id=\"T_c1fe87ec_e2c9_11ea_93e2_0242ac130202row7_col2\" class=\"data row7 col2\" >135.000000</td>\n",
       "                        <td id=\"T_c1fe87ec_e2c9_11ea_93e2_0242ac130202row7_col3\" class=\"data row7 col3\" >84.000000</td>\n",
       "                        <td id=\"T_c1fe87ec_e2c9_11ea_93e2_0242ac130202row7_col4\" class=\"data row7 col4\" >2295.000000</td>\n",
       "                        <td id=\"T_c1fe87ec_e2c9_11ea_93e2_0242ac130202row7_col5\" class=\"data row7 col5\" >11.600000</td>\n",
       "                        <td id=\"T_c1fe87ec_e2c9_11ea_93e2_0242ac130202row7_col6\" class=\"data row7 col6\" >82</td>\n",
       "                        <td id=\"T_c1fe87ec_e2c9_11ea_93e2_0242ac130202row7_col7\" class=\"data row7 col7\" >1</td>\n",
       "            </tr>\n",
       "            <tr>\n",
       "                        <th id=\"T_c1fe87ec_e2c9_11ea_93e2_0242ac130202level0_row8\" class=\"row_heading level0 row8\" >390</th>\n",
       "                        <td id=\"T_c1fe87ec_e2c9_11ea_93e2_0242ac130202row8_col0\" class=\"data row8 col0\" >28.000000</td>\n",
       "                        <td id=\"T_c1fe87ec_e2c9_11ea_93e2_0242ac130202row8_col1\" class=\"data row8 col1\" >4</td>\n",
       "                        <td id=\"T_c1fe87ec_e2c9_11ea_93e2_0242ac130202row8_col2\" class=\"data row8 col2\" >120.000000</td>\n",
       "                        <td id=\"T_c1fe87ec_e2c9_11ea_93e2_0242ac130202row8_col3\" class=\"data row8 col3\" >79.000000</td>\n",
       "                        <td id=\"T_c1fe87ec_e2c9_11ea_93e2_0242ac130202row8_col4\" class=\"data row8 col4\" >2625.000000</td>\n",
       "                        <td id=\"T_c1fe87ec_e2c9_11ea_93e2_0242ac130202row8_col5\" class=\"data row8 col5\" >18.600000</td>\n",
       "                        <td id=\"T_c1fe87ec_e2c9_11ea_93e2_0242ac130202row8_col6\" class=\"data row8 col6\" >82</td>\n",
       "                        <td id=\"T_c1fe87ec_e2c9_11ea_93e2_0242ac130202row8_col7\" class=\"data row8 col7\" >1</td>\n",
       "            </tr>\n",
       "            <tr>\n",
       "                        <th id=\"T_c1fe87ec_e2c9_11ea_93e2_0242ac130202level0_row9\" class=\"row_heading level0 row9\" >391</th>\n",
       "                        <td id=\"T_c1fe87ec_e2c9_11ea_93e2_0242ac130202row9_col0\" class=\"data row9 col0\" >31.000000</td>\n",
       "                        <td id=\"T_c1fe87ec_e2c9_11ea_93e2_0242ac130202row9_col1\" class=\"data row9 col1\" >4</td>\n",
       "                        <td id=\"T_c1fe87ec_e2c9_11ea_93e2_0242ac130202row9_col2\" class=\"data row9 col2\" >119.000000</td>\n",
       "                        <td id=\"T_c1fe87ec_e2c9_11ea_93e2_0242ac130202row9_col3\" class=\"data row9 col3\" >82.000000</td>\n",
       "                        <td id=\"T_c1fe87ec_e2c9_11ea_93e2_0242ac130202row9_col4\" class=\"data row9 col4\" >2720.000000</td>\n",
       "                        <td id=\"T_c1fe87ec_e2c9_11ea_93e2_0242ac130202row9_col5\" class=\"data row9 col5\" >19.400000</td>\n",
       "                        <td id=\"T_c1fe87ec_e2c9_11ea_93e2_0242ac130202row9_col6\" class=\"data row9 col6\" >82</td>\n",
       "                        <td id=\"T_c1fe87ec_e2c9_11ea_93e2_0242ac130202row9_col7\" class=\"data row9 col7\" >1</td>\n",
       "            </tr>\n",
       "    </tbody></table>"
      ],
      "text/plain": [
       "<pandas.io.formats.style.Styler at 0x7f70d07dad90>"
      ]
     },
     "execution_count": 7,
     "metadata": {},
     "output_type": "execute_result"
    }
   ],
   "source": [
    "df=df.dropna().reset_index(drop=True)\n",
    "df.tail(10).style\\\n",
    ".background_gradient(cmap='cool',axis=0,\n",
    "                     subset=numeric_columns)"
   ]
  },
  {
   "cell_type": "code",
   "execution_count": 8,
   "metadata": {
    "execution": {
     "iopub.execute_input": "2020-08-20T09:44:35.976457Z",
     "iopub.status.busy": "2020-08-20T09:44:35.975444Z",
     "iopub.status.idle": "2020-08-20T09:44:36.031600Z",
     "shell.execute_reply": "2020-08-20T09:44:36.030621Z"
    },
    "papermill": {
     "duration": 0.08204,
     "end_time": "2020-08-20T09:44:36.031768",
     "exception": false,
     "start_time": "2020-08-20T09:44:35.949728",
     "status": "completed"
    },
    "tags": []
   },
   "outputs": [
    {
     "data": {
      "text/html": [
       "<style  type=\"text/css\" >\n",
       "#T_c20cc1ea_e2c9_11ea_93e2_0242ac130202row0_col2{\n",
       "            width:  10em;\n",
       "             height:  80%;\n",
       "            background:  linear-gradient(90deg, transparent 43.7%, #ff55ee 43.7%, #ff55ee 72.2%, transparent 72.2%);\n",
       "        }#T_c20cc1ea_e2c9_11ea_93e2_0242ac130202row0_col3{\n",
       "            width:  10em;\n",
       "             height:  80%;\n",
       "            background:  linear-gradient(90deg, transparent 66.7%, #ff55ee 66.7%, #ff55ee 87.4%, transparent 87.4%);\n",
       "        }#T_c20cc1ea_e2c9_11ea_93e2_0242ac130202row0_col4{\n",
       "            width:  10em;\n",
       "             height:  80%;\n",
       "            background:  linear-gradient(90deg, transparent 53.7%, #ff55ee 53.7%, #ff55ee 100.0%, transparent 100.0%);\n",
       "        }#T_c20cc1ea_e2c9_11ea_93e2_0242ac130202row0_col5{\n",
       "            width:  10em;\n",
       "             height:  80%;\n",
       "            background:  linear-gradient(90deg, transparent 22.3%, #ff55ee 22.3%, #ff55ee 30.3%, transparent 30.3%);\n",
       "        }#T_c20cc1ea_e2c9_11ea_93e2_0242ac130202row1_col2{\n",
       "            width:  10em;\n",
       "             height:  80%;\n",
       "            background:  linear-gradient(90deg, transparent 72.2%, #9955ee 72.2%, #9955ee 100.0%, transparent 100.0%);\n",
       "        }#T_c20cc1ea_e2c9_11ea_93e2_0242ac130202row1_col3{\n",
       "            width:  10em;\n",
       "             height:  80%;\n",
       "            background:  linear-gradient(90deg, transparent 87.4%, #9955ee 87.4%, #9955ee 100.0%, transparent 100.0%);\n",
       "        }#T_c20cc1ea_e2c9_11ea_93e2_0242ac130202row1_col4{\n",
       "            width:  10em;\n",
       "             height:  80%;\n",
       "            background:  linear-gradient(90deg, transparent 83.2%, #ff55ee 83.2%, #ff55ee 100.0%, transparent 100.0%);\n",
       "        }#T_c20cc1ea_e2c9_11ea_93e2_0242ac130202row1_col5{\n",
       "            width:  10em;\n",
       "             height:  80%;\n",
       "            background:  linear-gradient(90deg, transparent 23.8%, #ff55ee 23.8%, #ff55ee 30.3%, transparent 30.3%);\n",
       "        }#T_c20cc1ea_e2c9_11ea_93e2_0242ac130202row2_col2{\n",
       "            width:  10em;\n",
       "             height:  80%;\n",
       "            background:  linear-gradient(90deg, transparent 34.8%, #ff55ee 34.8%, #ff55ee 72.2%, transparent 72.2%);\n",
       "        }#T_c20cc1ea_e2c9_11ea_93e2_0242ac130202row2_col3{\n",
       "            width:  10em;\n",
       "             height:  80%;\n",
       "            background:  linear-gradient(90deg, transparent 73.3%, #ff55ee 73.3%, #ff55ee 87.4%, transparent 87.4%);\n",
       "        }#T_c20cc1ea_e2c9_11ea_93e2_0242ac130202row2_col4{\n",
       "            width:  10em;\n",
       "             height:  80%;\n",
       "            background:  linear-gradient(90deg, transparent 63.1%, #ff55ee 63.1%, #ff55ee 100.0%, transparent 100.0%);\n",
       "        }#T_c20cc1ea_e2c9_11ea_93e2_0242ac130202row2_col5{\n",
       "            width:  10em;\n",
       "             height:  80%;\n",
       "            background:  linear-gradient(90deg, transparent 17.7%, #ff55ee 17.7%, #ff55ee 30.3%, transparent 30.3%);\n",
       "        }#T_c20cc1ea_e2c9_11ea_93e2_0242ac130202row3_col2,#T_c20cc1ea_e2c9_11ea_93e2_0242ac130202row7_col2{\n",
       "            width:  10em;\n",
       "             height:  80%;\n",
       "            background:  linear-gradient(90deg, transparent 28.1%, #ff55ee 28.1%, #ff55ee 72.2%, transparent 72.2%);\n",
       "        }#T_c20cc1ea_e2c9_11ea_93e2_0242ac130202row3_col3,#T_c20cc1ea_e2c9_11ea_93e2_0242ac130202row7_col3{\n",
       "            width:  10em;\n",
       "             height:  80%;\n",
       "            background:  linear-gradient(90deg, transparent 53.3%, #ff55ee 53.3%, #ff55ee 87.4%, transparent 87.4%);\n",
       "        }#T_c20cc1ea_e2c9_11ea_93e2_0242ac130202row3_col4{\n",
       "            width:  10em;\n",
       "             height:  80%;\n",
       "            background:  linear-gradient(90deg, transparent 28.3%, #ff55ee 28.3%, #ff55ee 100.0%, transparent 100.0%);\n",
       "        }#T_c20cc1ea_e2c9_11ea_93e2_0242ac130202row3_col5{\n",
       "            width:  10em;\n",
       "             height:  80%;\n",
       "            background:  linear-gradient(90deg, transparent 10.8%, #ff55ee 10.8%, #ff55ee 30.3%, transparent 30.3%);\n",
       "        }#T_c20cc1ea_e2c9_11ea_93e2_0242ac130202row4_col2{\n",
       "            width:  10em;\n",
       "             height:  80%;\n",
       "            background:  linear-gradient(90deg, transparent 40.0%, #ff55ee 40.0%, #ff55ee 72.2%, transparent 72.2%);\n",
       "        }#T_c20cc1ea_e2c9_11ea_93e2_0242ac130202row4_col3{\n",
       "            width:  10em;\n",
       "             height:  80%;\n",
       "            background:  linear-gradient(90deg, transparent 63.3%, #ff55ee 63.3%, #ff55ee 87.4%, transparent 87.4%);\n",
       "        }#T_c20cc1ea_e2c9_11ea_93e2_0242ac130202row4_col4{\n",
       "            width:  10em;\n",
       "             height:  80%;\n",
       "            background:  linear-gradient(90deg, transparent 96.7%, #ff55ee 96.7%, #ff55ee 100.0%, transparent 100.0%);\n",
       "        }#T_c20cc1ea_e2c9_11ea_93e2_0242ac130202row4_col5{\n",
       "            width:  10em;\n",
       "             height:  80%;\n",
       "            background:  linear-gradient(90deg, transparent 30.3%, #9955ee 30.3%, #9955ee 43.8%, transparent 43.8%);\n",
       "        }#T_c20cc1ea_e2c9_11ea_93e2_0242ac130202row5_col2{\n",
       "            width:  10em;\n",
       "             height:  80%;\n",
       "            background:  linear-gradient(90deg, transparent 31.9%, #ff55ee 31.9%, #ff55ee 72.2%, transparent 72.2%);\n",
       "        }#T_c20cc1ea_e2c9_11ea_93e2_0242ac130202row5_col3{\n",
       "            width:  10em;\n",
       "             height:  80%;\n",
       "            background:  linear-gradient(90deg, transparent 56.7%, #ff55ee 56.7%, #ff55ee 87.4%, transparent 87.4%);\n",
       "        }#T_c20cc1ea_e2c9_11ea_93e2_0242ac130202row5_col4{\n",
       "            width:  10em;\n",
       "             height:  80%;\n",
       "            background:  linear-gradient(90deg, transparent 77.9%, #ff55ee 77.9%, #ff55ee 100.0%, transparent 100.0%);\n",
       "        }#T_c20cc1ea_e2c9_11ea_93e2_0242ac130202row5_col5{\n",
       "            width:  10em;\n",
       "             height:  80%;\n",
       "            background:  linear-gradient(90deg, transparent 30.3%, #9955ee 30.3%, #9955ee 30.8%, transparent 30.8%);\n",
       "        }#T_c20cc1ea_e2c9_11ea_93e2_0242ac130202row6_col2{\n",
       "            width:  10em;\n",
       "             height:  80%;\n",
       "            background:  linear-gradient(90deg,#ff55ee 72.2%, transparent 72.2%);\n",
       "        }#T_c20cc1ea_e2c9_11ea_93e2_0242ac130202row6_col3{\n",
       "            width:  10em;\n",
       "             height:  80%;\n",
       "            background:  linear-gradient(90deg,#ff55ee 87.4%, transparent 87.4%);\n",
       "        }#T_c20cc1ea_e2c9_11ea_93e2_0242ac130202row6_col4{\n",
       "            width:  10em;\n",
       "             height:  80%;\n",
       "            background:  linear-gradient(90deg,#ff55ee 100.0%, transparent 100.0%);\n",
       "        }#T_c20cc1ea_e2c9_11ea_93e2_0242ac130202row6_col5{\n",
       "            width:  10em;\n",
       "             height:  80%;\n",
       "            background:  linear-gradient(90deg, transparent 30.3%, #9955ee 30.3%, #9955ee 100.0%, transparent 100.0%);\n",
       "        }#T_c20cc1ea_e2c9_11ea_93e2_0242ac130202row7_col4{\n",
       "            width:  10em;\n",
       "             height:  80%;\n",
       "            background:  linear-gradient(90deg, transparent 19.5%, #ff55ee 19.5%, #ff55ee 100.0%, transparent 100.0%);\n",
       "        }#T_c20cc1ea_e2c9_11ea_93e2_0242ac130202row7_col5{\n",
       "            width:  10em;\n",
       "             height:  80%;\n",
       "            background:  linear-gradient(90deg,#ff55ee 30.3%, transparent 30.3%);\n",
       "        }#T_c20cc1ea_e2c9_11ea_93e2_0242ac130202row8_col2{\n",
       "            width:  10em;\n",
       "             height:  80%;\n",
       "            background:  linear-gradient(90deg, transparent 17.0%, #ff55ee 17.0%, #ff55ee 72.2%, transparent 72.2%);\n",
       "        }#T_c20cc1ea_e2c9_11ea_93e2_0242ac130202row8_col3{\n",
       "            width:  10em;\n",
       "             height:  80%;\n",
       "            background:  linear-gradient(90deg, transparent 45.0%, #ff55ee 45.0%, #ff55ee 87.4%, transparent 87.4%);\n",
       "        }#T_c20cc1ea_e2c9_11ea_93e2_0242ac130202row8_col4{\n",
       "            width:  10em;\n",
       "             height:  80%;\n",
       "            background:  linear-gradient(90deg, transparent 58.4%, #ff55ee 58.4%, #ff55ee 100.0%, transparent 100.0%);\n",
       "        }#T_c20cc1ea_e2c9_11ea_93e2_0242ac130202row8_col5{\n",
       "            width:  10em;\n",
       "             height:  80%;\n",
       "            background:  linear-gradient(90deg, transparent 30.3%, #9955ee 30.3%, #9955ee 53.8%, transparent 53.8%);\n",
       "        }#T_c20cc1ea_e2c9_11ea_93e2_0242ac130202row9_col2{\n",
       "            width:  10em;\n",
       "             height:  80%;\n",
       "            background:  linear-gradient(90deg, transparent 16.3%, #ff55ee 16.3%, #ff55ee 72.2%, transparent 72.2%);\n",
       "        }#T_c20cc1ea_e2c9_11ea_93e2_0242ac130202row9_col3{\n",
       "            width:  10em;\n",
       "             height:  80%;\n",
       "            background:  linear-gradient(90deg, transparent 50.0%, #ff55ee 50.0%, #ff55ee 87.4%, transparent 87.4%);\n",
       "        }#T_c20cc1ea_e2c9_11ea_93e2_0242ac130202row9_col4{\n",
       "            width:  10em;\n",
       "             height:  80%;\n",
       "            background:  linear-gradient(90deg, transparent 69.6%, #ff55ee 69.6%, #ff55ee 100.0%, transparent 100.0%);\n",
       "        }#T_c20cc1ea_e2c9_11ea_93e2_0242ac130202row9_col5{\n",
       "            width:  10em;\n",
       "             height:  80%;\n",
       "            background:  linear-gradient(90deg, transparent 30.3%, #9955ee 30.3%, #9955ee 60.0%, transparent 60.0%);\n",
       "        }</style><table id=\"T_c20cc1ea_e2c9_11ea_93e2_0242ac130202\" ><thead>    <tr>        <th class=\"blank level0\" ></th>        <th class=\"col_heading level0 col0\" >MPG</th>        <th class=\"col_heading level0 col1\" >Cylinders</th>        <th class=\"col_heading level0 col2\" >Displacement</th>        <th class=\"col_heading level0 col3\" >Horsepower</th>        <th class=\"col_heading level0 col4\" >Weight</th>        <th class=\"col_heading level0 col5\" >Acceleration</th>        <th class=\"col_heading level0 col6\" >ModelYear</th>        <th class=\"col_heading level0 col7\" >Origin</th>    </tr></thead><tbody>\n",
       "                <tr>\n",
       "                        <th id=\"T_c20cc1ea_e2c9_11ea_93e2_0242ac130202level0_row0\" class=\"row_heading level0 row0\" >382</th>\n",
       "                        <td id=\"T_c20cc1ea_e2c9_11ea_93e2_0242ac130202row0_col0\" class=\"data row0 col0\" >26.000000</td>\n",
       "                        <td id=\"T_c20cc1ea_e2c9_11ea_93e2_0242ac130202row0_col1\" class=\"data row0 col1\" >4</td>\n",
       "                        <td id=\"T_c20cc1ea_e2c9_11ea_93e2_0242ac130202row0_col2\" class=\"data row0 col2\" >-0.367073</td>\n",
       "                        <td id=\"T_c20cc1ea_e2c9_11ea_93e2_0242ac130202row0_col3\" class=\"data row0 col3\" >-0.323955</td>\n",
       "                        <td id=\"T_c20cc1ea_e2c9_11ea_93e2_0242ac130202row0_col4\" class=\"data row0 col4\" >-0.462189</td>\n",
       "                        <td id=\"T_c20cc1ea_e2c9_11ea_93e2_0242ac130202row0_col5\" class=\"data row0 col5\" >-0.377448</td>\n",
       "                        <td id=\"T_c20cc1ea_e2c9_11ea_93e2_0242ac130202row0_col6\" class=\"data row0 col6\" >82</td>\n",
       "                        <td id=\"T_c20cc1ea_e2c9_11ea_93e2_0242ac130202row0_col7\" class=\"data row0 col7\" >1</td>\n",
       "            </tr>\n",
       "            <tr>\n",
       "                        <th id=\"T_c20cc1ea_e2c9_11ea_93e2_0242ac130202level0_row1\" class=\"row_heading level0 row1\" >383</th>\n",
       "                        <td id=\"T_c20cc1ea_e2c9_11ea_93e2_0242ac130202row1_col0\" class=\"data row1 col0\" >22.000000</td>\n",
       "                        <td id=\"T_c20cc1ea_e2c9_11ea_93e2_0242ac130202row1_col1\" class=\"data row1 col1\" >6</td>\n",
       "                        <td id=\"T_c20cc1ea_e2c9_11ea_93e2_0242ac130202row1_col2\" class=\"data row1 col2\" >0.359199</td>\n",
       "                        <td id=\"T_c20cc1ea_e2c9_11ea_93e2_0242ac130202row1_col3\" class=\"data row1 col3\" >0.195645</td>\n",
       "                        <td id=\"T_c20cc1ea_e2c9_11ea_93e2_0242ac130202row1_col4\" class=\"data row1 col4\" >-0.167864</td>\n",
       "                        <td id=\"T_c20cc1ea_e2c9_11ea_93e2_0242ac130202row1_col5\" class=\"data row1 col5\" >-0.304954</td>\n",
       "                        <td id=\"T_c20cc1ea_e2c9_11ea_93e2_0242ac130202row1_col6\" class=\"data row1 col6\" >82</td>\n",
       "                        <td id=\"T_c20cc1ea_e2c9_11ea_93e2_0242ac130202row1_col7\" class=\"data row1 col7\" >1</td>\n",
       "            </tr>\n",
       "            <tr>\n",
       "                        <th id=\"T_c20cc1ea_e2c9_11ea_93e2_0242ac130202level0_row2\" class=\"row_heading level0 row2\" >384</th>\n",
       "                        <td id=\"T_c20cc1ea_e2c9_11ea_93e2_0242ac130202row2_col0\" class=\"data row2 col0\" >32.000000</td>\n",
       "                        <td id=\"T_c20cc1ea_e2c9_11ea_93e2_0242ac130202row2_col1\" class=\"data row2 col1\" >4</td>\n",
       "                        <td id=\"T_c20cc1ea_e2c9_11ea_93e2_0242ac130202row2_col2\" class=\"data row2 col2\" >-0.481748</td>\n",
       "                        <td id=\"T_c20cc1ea_e2c9_11ea_93e2_0242ac130202row2_col3\" class=\"data row2 col3\" >-0.220035</td>\n",
       "                        <td id=\"T_c20cc1ea_e2c9_11ea_93e2_0242ac130202row2_col4\" class=\"data row2 col4\" >-0.368005</td>\n",
       "                        <td id=\"T_c20cc1ea_e2c9_11ea_93e2_0242ac130202row2_col5\" class=\"data row2 col5\" >-0.594928</td>\n",
       "                        <td id=\"T_c20cc1ea_e2c9_11ea_93e2_0242ac130202row2_col6\" class=\"data row2 col6\" >82</td>\n",
       "                        <td id=\"T_c20cc1ea_e2c9_11ea_93e2_0242ac130202row2_col7\" class=\"data row2 col7\" >3</td>\n",
       "            </tr>\n",
       "            <tr>\n",
       "                        <th id=\"T_c20cc1ea_e2c9_11ea_93e2_0242ac130202level0_row3\" class=\"row_heading level0 row3\" >385</th>\n",
       "                        <td id=\"T_c20cc1ea_e2c9_11ea_93e2_0242ac130202row3_col0\" class=\"data row3 col0\" >36.000000</td>\n",
       "                        <td id=\"T_c20cc1ea_e2c9_11ea_93e2_0242ac130202row3_col1\" class=\"data row3 col1\" >4</td>\n",
       "                        <td id=\"T_c20cc1ea_e2c9_11ea_93e2_0242ac130202row3_col2\" class=\"data row3 col2\" >-0.567753</td>\n",
       "                        <td id=\"T_c20cc1ea_e2c9_11ea_93e2_0242ac130202row3_col3\" class=\"data row3 col3\" >-0.531795</td>\n",
       "                        <td id=\"T_c20cc1ea_e2c9_11ea_93e2_0242ac130202row3_col4\" class=\"data row3 col4\" >-0.715308</td>\n",
       "                        <td id=\"T_c20cc1ea_e2c9_11ea_93e2_0242ac130202row3_col5\" class=\"data row3 col5\" >-0.921150</td>\n",
       "                        <td id=\"T_c20cc1ea_e2c9_11ea_93e2_0242ac130202row3_col6\" class=\"data row3 col6\" >82</td>\n",
       "                        <td id=\"T_c20cc1ea_e2c9_11ea_93e2_0242ac130202row3_col7\" class=\"data row3 col7\" >1</td>\n",
       "            </tr>\n",
       "            <tr>\n",
       "                        <th id=\"T_c20cc1ea_e2c9_11ea_93e2_0242ac130202level0_row4\" class=\"row_heading level0 row4\" >386</th>\n",
       "                        <td id=\"T_c20cc1ea_e2c9_11ea_93e2_0242ac130202row4_col0\" class=\"data row4 col0\" >27.000000</td>\n",
       "                        <td id=\"T_c20cc1ea_e2c9_11ea_93e2_0242ac130202row4_col1\" class=\"data row4 col1\" >4</td>\n",
       "                        <td id=\"T_c20cc1ea_e2c9_11ea_93e2_0242ac130202row4_col2\" class=\"data row4 col2\" >-0.414854</td>\n",
       "                        <td id=\"T_c20cc1ea_e2c9_11ea_93e2_0242ac130202row4_col3\" class=\"data row4 col3\" >-0.375915</td>\n",
       "                        <td id=\"T_c20cc1ea_e2c9_11ea_93e2_0242ac130202row4_col4\" class=\"data row4 col4\" >-0.032475</td>\n",
       "                        <td id=\"T_c20cc1ea_e2c9_11ea_93e2_0242ac130202row4_col5\" class=\"data row4 col5\" >0.637463</td>\n",
       "                        <td id=\"T_c20cc1ea_e2c9_11ea_93e2_0242ac130202row4_col6\" class=\"data row4 col6\" >82</td>\n",
       "                        <td id=\"T_c20cc1ea_e2c9_11ea_93e2_0242ac130202row4_col7\" class=\"data row4 col7\" >1</td>\n",
       "            </tr>\n",
       "            <tr>\n",
       "                        <th id=\"T_c20cc1ea_e2c9_11ea_93e2_0242ac130202level0_row5\" class=\"row_heading level0 row5\" >387</th>\n",
       "                        <td id=\"T_c20cc1ea_e2c9_11ea_93e2_0242ac130202row5_col0\" class=\"data row5 col0\" >27.000000</td>\n",
       "                        <td id=\"T_c20cc1ea_e2c9_11ea_93e2_0242ac130202row5_col1\" class=\"data row5 col1\" >4</td>\n",
       "                        <td id=\"T_c20cc1ea_e2c9_11ea_93e2_0242ac130202row5_col2\" class=\"data row5 col2\" >-0.519972</td>\n",
       "                        <td id=\"T_c20cc1ea_e2c9_11ea_93e2_0242ac130202row5_col3\" class=\"data row5 col3\" >-0.479835</td>\n",
       "                        <td id=\"T_c20cc1ea_e2c9_11ea_93e2_0242ac130202row5_col4\" class=\"data row5 col4\" >-0.220842</td>\n",
       "                        <td id=\"T_c20cc1ea_e2c9_11ea_93e2_0242ac130202row5_col5\" class=\"data row5 col5\" >0.021267</td>\n",
       "                        <td id=\"T_c20cc1ea_e2c9_11ea_93e2_0242ac130202row5_col6\" class=\"data row5 col6\" >82</td>\n",
       "                        <td id=\"T_c20cc1ea_e2c9_11ea_93e2_0242ac130202row5_col7\" class=\"data row5 col7\" >1</td>\n",
       "            </tr>\n",
       "            <tr>\n",
       "                        <th id=\"T_c20cc1ea_e2c9_11ea_93e2_0242ac130202level0_row6\" class=\"row_heading level0 row6\" >388</th>\n",
       "                        <td id=\"T_c20cc1ea_e2c9_11ea_93e2_0242ac130202row6_col0\" class=\"data row6 col0\" >44.000000</td>\n",
       "                        <td id=\"T_c20cc1ea_e2c9_11ea_93e2_0242ac130202row6_col1\" class=\"data row6 col1\" >4</td>\n",
       "                        <td id=\"T_c20cc1ea_e2c9_11ea_93e2_0242ac130202row6_col2\" class=\"data row6 col2\" >-0.930889</td>\n",
       "                        <td id=\"T_c20cc1ea_e2c9_11ea_93e2_0242ac130202row6_col3\" class=\"data row6 col3\" >-1.363154</td>\n",
       "                        <td id=\"T_c20cc1ea_e2c9_11ea_93e2_0242ac130202row6_col4\" class=\"data row6 col4\" >-0.997859</td>\n",
       "                        <td id=\"T_c20cc1ea_e2c9_11ea_93e2_0242ac130202row6_col5\" class=\"data row6 col5\" >3.283479</td>\n",
       "                        <td id=\"T_c20cc1ea_e2c9_11ea_93e2_0242ac130202row6_col6\" class=\"data row6 col6\" >82</td>\n",
       "                        <td id=\"T_c20cc1ea_e2c9_11ea_93e2_0242ac130202row6_col7\" class=\"data row6 col7\" >2</td>\n",
       "            </tr>\n",
       "            <tr>\n",
       "                        <th id=\"T_c20cc1ea_e2c9_11ea_93e2_0242ac130202level0_row7\" class=\"row_heading level0 row7\" >389</th>\n",
       "                        <td id=\"T_c20cc1ea_e2c9_11ea_93e2_0242ac130202row7_col0\" class=\"data row7 col0\" >32.000000</td>\n",
       "                        <td id=\"T_c20cc1ea_e2c9_11ea_93e2_0242ac130202row7_col1\" class=\"data row7 col1\" >4</td>\n",
       "                        <td id=\"T_c20cc1ea_e2c9_11ea_93e2_0242ac130202row7_col2\" class=\"data row7 col2\" >-0.567753</td>\n",
       "                        <td id=\"T_c20cc1ea_e2c9_11ea_93e2_0242ac130202row7_col3\" class=\"data row7 col3\" >-0.531795</td>\n",
       "                        <td id=\"T_c20cc1ea_e2c9_11ea_93e2_0242ac130202row7_col4\" class=\"data row7 col4\" >-0.803605</td>\n",
       "                        <td id=\"T_c20cc1ea_e2c9_11ea_93e2_0242ac130202row7_col5\" class=\"data row7 col5\" >-1.428605</td>\n",
       "                        <td id=\"T_c20cc1ea_e2c9_11ea_93e2_0242ac130202row7_col6\" class=\"data row7 col6\" >82</td>\n",
       "                        <td id=\"T_c20cc1ea_e2c9_11ea_93e2_0242ac130202row7_col7\" class=\"data row7 col7\" >1</td>\n",
       "            </tr>\n",
       "            <tr>\n",
       "                        <th id=\"T_c20cc1ea_e2c9_11ea_93e2_0242ac130202level0_row8\" class=\"row_heading level0 row8\" >390</th>\n",
       "                        <td id=\"T_c20cc1ea_e2c9_11ea_93e2_0242ac130202row8_col0\" class=\"data row8 col0\" >28.000000</td>\n",
       "                        <td id=\"T_c20cc1ea_e2c9_11ea_93e2_0242ac130202row8_col1\" class=\"data row8 col1\" >4</td>\n",
       "                        <td id=\"T_c20cc1ea_e2c9_11ea_93e2_0242ac130202row8_col2\" class=\"data row8 col2\" >-0.711097</td>\n",
       "                        <td id=\"T_c20cc1ea_e2c9_11ea_93e2_0242ac130202row8_col3\" class=\"data row8 col3\" >-0.661694</td>\n",
       "                        <td id=\"T_c20cc1ea_e2c9_11ea_93e2_0242ac130202row8_col4\" class=\"data row8 col4\" >-0.415097</td>\n",
       "                        <td id=\"T_c20cc1ea_e2c9_11ea_93e2_0242ac130202row8_col5\" class=\"data row8 col5\" >1.108671</td>\n",
       "                        <td id=\"T_c20cc1ea_e2c9_11ea_93e2_0242ac130202row8_col6\" class=\"data row8 col6\" >82</td>\n",
       "                        <td id=\"T_c20cc1ea_e2c9_11ea_93e2_0242ac130202row8_col7\" class=\"data row8 col7\" >1</td>\n",
       "            </tr>\n",
       "            <tr>\n",
       "                        <th id=\"T_c20cc1ea_e2c9_11ea_93e2_0242ac130202level0_row9\" class=\"row_heading level0 row9\" >391</th>\n",
       "                        <td id=\"T_c20cc1ea_e2c9_11ea_93e2_0242ac130202row9_col0\" class=\"data row9 col0\" >31.000000</td>\n",
       "                        <td id=\"T_c20cc1ea_e2c9_11ea_93e2_0242ac130202row9_col1\" class=\"data row9 col1\" >4</td>\n",
       "                        <td id=\"T_c20cc1ea_e2c9_11ea_93e2_0242ac130202row9_col2\" class=\"data row9 col2\" >-0.720653</td>\n",
       "                        <td id=\"T_c20cc1ea_e2c9_11ea_93e2_0242ac130202row9_col3\" class=\"data row9 col3\" >-0.583754</td>\n",
       "                        <td id=\"T_c20cc1ea_e2c9_11ea_93e2_0242ac130202row9_col4\" class=\"data row9 col4\" >-0.303253</td>\n",
       "                        <td id=\"T_c20cc1ea_e2c9_11ea_93e2_0242ac130202row9_col5\" class=\"data row9 col5\" >1.398646</td>\n",
       "                        <td id=\"T_c20cc1ea_e2c9_11ea_93e2_0242ac130202row9_col6\" class=\"data row9 col6\" >82</td>\n",
       "                        <td id=\"T_c20cc1ea_e2c9_11ea_93e2_0242ac130202row9_col7\" class=\"data row9 col7\" >1</td>\n",
       "            </tr>\n",
       "    </tbody></table>"
      ],
      "text/plain": [
       "<pandas.io.formats.style.Styler at 0x7f70cddef350>"
      ]
     },
     "execution_count": 8,
     "metadata": {},
     "output_type": "execute_result"
    }
   ],
   "source": [
    "stats=df.describe().transpose()\n",
    "dfn=df.copy()\n",
    "for nc in numeric_columns:\n",
    "    mean=stats.loc[nc,'mean']\n",
    "    std=stats.loc[nc,'std']\n",
    "    dfn.loc[:,nc]=(dfn.loc[:,nc]-mean)/std\n",
    "dfn.tail(10).style\\\n",
    ".bar(align='mid',color=['#ff55ee','#9955ee'],\n",
    "     subset=numeric_columns)"
   ]
  },
  {
   "cell_type": "code",
   "execution_count": 9,
   "metadata": {
    "_kg_hide-input": true,
    "execution": {
     "iopub.execute_input": "2020-08-20T09:44:36.063369Z",
     "iopub.status.busy": "2020-08-20T09:44:36.062251Z",
     "iopub.status.idle": "2020-08-20T09:44:36.068646Z",
     "shell.execute_reply": "2020-08-20T09:44:36.067868Z"
    },
    "papermill": {
     "duration": 0.025084,
     "end_time": "2020-08-20T09:44:36.068796",
     "exception": false,
     "start_time": "2020-08-20T09:44:36.043712",
     "status": "completed"
    },
    "tags": []
   },
   "outputs": [
    {
     "data": {
      "text/html": [
       "<style>\n",
       "    @import 'https://fonts.googleapis.com/css?family=Akronim&effect=3d';      \n",
       "    </style><h1 class='font-effect-3d' \n",
       "    style='font-family:Akronim; color:#ff55ee; font-size:35px;'>\n",
       "    TF Data</h1>"
      ],
      "text/plain": [
       "<IPython.core.display.HTML object>"
      ]
     },
     "metadata": {},
     "output_type": "display_data"
    }
   ],
   "source": [
    "dhtml('TF Data')"
   ]
  },
  {
   "cell_type": "code",
   "execution_count": 10,
   "metadata": {
    "_kg_hide-output": false,
    "execution": {
     "iopub.execute_input": "2020-08-20T09:44:36.104418Z",
     "iopub.status.busy": "2020-08-20T09:44:36.102593Z",
     "iopub.status.idle": "2020-08-20T09:44:36.108878Z",
     "shell.execute_reply": "2020-08-20T09:44:36.108056Z"
    },
    "papermill": {
     "duration": 0.028571,
     "end_time": "2020-08-20T09:44:36.109078",
     "exception": false,
     "start_time": "2020-08-20T09:44:36.080507",
     "status": "completed"
    },
    "tags": []
   },
   "outputs": [
    {
     "data": {
      "text/html": [
       "<style>\n",
       "    @import 'https://fonts.googleapis.com/css?family=Smokum&effect=3d-float';      \n",
       "    </style><h1 class='font-effect-3d-float' \n",
       "    style='font-family:Smokum; color:#9955ee; font-size:25px;'>\n",
       "    NumericColumn(key='Displacement', shape=(1,), default_value=None, dtype=tf.float32, normalizer_fn=None)</h1>"
      ],
      "text/plain": [
       "<IPython.core.display.HTML object>"
      ]
     },
     "metadata": {},
     "output_type": "display_data"
    }
   ],
   "source": [
    "numeric_features=[]\n",
    "for nc in numeric_columns:\n",
    "    nf=tf.feature_column.numeric_column(key=nc)\n",
    "    numeric_features.append(nf) \n",
    "for nf in numeric_features: \n",
    "    phtml(str(nf)); break"
   ]
  },
  {
   "cell_type": "code",
   "execution_count": 11,
   "metadata": {
    "execution": {
     "iopub.execute_input": "2020-08-20T09:44:36.145666Z",
     "iopub.status.busy": "2020-08-20T09:44:36.144038Z",
     "iopub.status.idle": "2020-08-20T09:44:36.151392Z",
     "shell.execute_reply": "2020-08-20T09:44:36.150488Z"
    },
    "papermill": {
     "duration": 0.030829,
     "end_time": "2020-08-20T09:44:36.151548",
     "exception": false,
     "start_time": "2020-08-20T09:44:36.120719",
     "status": "completed"
    },
    "tags": []
   },
   "outputs": [
    {
     "data": {
      "text/html": [
       "<style>\n",
       "    @import 'https://fonts.googleapis.com/css?family=Smokum&effect=3d-float';      \n",
       "    </style><h1 class='font-effect-3d-float' \n",
       "    style='font-family:Smokum; color:#9955ee; font-size:25px;'>\n",
       "    BucketizedColumn(source_column=NumericColumn(key='ModelYear', shape=(1,), default_value=None, dtype=tf.float32, normalizer_fn=None), boundaries=(73, 76, 79))</h1>"
      ],
      "text/plain": [
       "<IPython.core.display.HTML object>"
      ]
     },
     "metadata": {},
     "output_type": "display_data"
    }
   ],
   "source": [
    "fyear=tf.feature_column.numeric_column(key=\"ModelYear\")\n",
    "fcylinders=tf.feature_column.numeric_column(key=\"Cylinders\")\n",
    "bucketized_features=[]\n",
    "fyear=tf.feature_column.bucketized_column(\n",
    "    source_column=fyear,boundaries=[73,76,79])\n",
    "fcylinders=tf.feature_column.bucketized_column(\n",
    "    source_column=fcylinders,boundaries=[4,6,8])\n",
    "bucketized_features.append(fyear)\n",
    "bucketized_features.append(fcylinders)\n",
    "for bf in bucketized_features: \n",
    "    phtml(str(bf)); break"
   ]
  },
  {
   "cell_type": "code",
   "execution_count": 12,
   "metadata": {
    "execution": {
     "iopub.execute_input": "2020-08-20T09:44:36.185146Z",
     "iopub.status.busy": "2020-08-20T09:44:36.183783Z",
     "iopub.status.idle": "2020-08-20T09:44:36.188313Z",
     "shell.execute_reply": "2020-08-20T09:44:36.188959Z"
    },
    "papermill": {
     "duration": 0.025344,
     "end_time": "2020-08-20T09:44:36.189158",
     "exception": false,
     "start_time": "2020-08-20T09:44:36.163814",
     "status": "completed"
    },
    "tags": []
   },
   "outputs": [
    {
     "data": {
      "text/html": [
       "<style>\n",
       "    @import 'https://fonts.googleapis.com/css?family=Smokum&effect=3d-float';      \n",
       "    </style><h1 class='font-effect-3d-float' \n",
       "    style='font-family:Smokum; color:#9955ee; font-size:25px;'>\n",
       "    IndicatorColumn(categorical_column=VocabularyListCategoricalColumn(key='Origin', vocabulary_list=(1, 2, 3), dtype=tf.int64, default_value=-1, num_oov_buckets=0))</h1>"
      ],
      "text/plain": [
       "<IPython.core.display.HTML object>"
      ]
     },
     "metadata": {},
     "output_type": "display_data"
    }
   ],
   "source": [
    "forigin=tf.feature_column\\\n",
    ".categorical_column_with_vocabulary_list(\n",
    "    key='Origin',vocabulary_list=[1,2,3])\n",
    "categorical_features=\\\n",
    "[tf.feature_column.indicator_column(forigin)]\n",
    "phtml(str(categorical_features[0]))"
   ]
  },
  {
   "cell_type": "code",
   "execution_count": 13,
   "metadata": {
    "execution": {
     "iopub.execute_input": "2020-08-20T09:44:36.225226Z",
     "iopub.status.busy": "2020-08-20T09:44:36.223932Z",
     "iopub.status.idle": "2020-08-20T09:44:36.229083Z",
     "shell.execute_reply": "2020-08-20T09:44:36.229760Z"
    },
    "papermill": {
     "duration": 0.028612,
     "end_time": "2020-08-20T09:44:36.229989",
     "exception": false,
     "start_time": "2020-08-20T09:44:36.201377",
     "status": "completed"
    },
    "tags": []
   },
   "outputs": [
    {
     "data": {
      "text/plain": [
       "(313, 79)"
      ]
     },
     "execution_count": 13,
     "metadata": {},
     "output_type": "execute_result"
    }
   ],
   "source": [
    "features=(numeric_features+\n",
    "          bucketized_features+ \n",
    "          categorical_features)\n",
    "dfn_train,dfn_test=\\\n",
    "sms.train_test_split(dfn,train_size=.8,shuffle=True)\n",
    "len(dfn_train),len(dfn_test)"
   ]
  },
  {
   "cell_type": "code",
   "execution_count": 14,
   "metadata": {
    "execution": {
     "iopub.execute_input": "2020-08-20T09:44:36.340173Z",
     "iopub.status.busy": "2020-08-20T09:44:36.338874Z",
     "iopub.status.idle": "2020-08-20T09:44:36.443891Z",
     "shell.execute_reply": "2020-08-20T09:44:36.443146Z"
    },
    "papermill": {
     "duration": 0.200116,
     "end_time": "2020-08-20T09:44:36.444083",
     "exception": false,
     "start_time": "2020-08-20T09:44:36.243967",
     "status": "completed"
    },
    "tags": []
   },
   "outputs": [
    {
     "data": {
      "text/html": [
       "<style>\n",
       "    @import 'https://fonts.googleapis.com/css?family=Smokum&effect=3d-float';      \n",
       "    </style><h1 class='font-effect-3d-float' \n",
       "    style='font-family:Smokum; color:#9955ee; font-size:25px;'>\n",
       "    keys: </br>dict_keys(['Cylinders', 'Displacement', 'Horsepower', 'Weight', 'Acceleration', 'ModelYear', 'Origin'])</h1>"
      ],
      "text/plain": [
       "<IPython.core.display.HTML object>"
      ]
     },
     "metadata": {},
     "output_type": "display_data"
    },
    {
     "data": {
      "text/html": [
       "<style>\n",
       "    @import 'https://fonts.googleapis.com/css?family=Smokum&effect=3d-float';      \n",
       "    </style><h1 class='font-effect-3d-float' \n",
       "    style='font-family:Smokum; color:#9955ee; font-size:25px;'>\n",
       "    batch values of `Cylinders`: </br> tf.Tensor([3 4 6 4 4 4 4 4], shape=(8,), dtype=int64)</h1>"
      ],
      "text/plain": [
       "<IPython.core.display.HTML object>"
      ]
     },
     "metadata": {},
     "output_type": "display_data"
    }
   ],
   "source": [
    "batch_size=8\n",
    "def train_input_fn(dfn_train,batch_size):\n",
    "    dft=dfn_train.copy()\n",
    "    x_train,y_train=dft,dft.pop('MPG')\n",
    "    ds_train=tds.from_tensor_slices((dict(x_train),y_train))\n",
    "    return ds_train.shuffle(1000).repeat().batch(batch_size)\n",
    "ds_train=train_input_fn(dfn_train,batch_size)\n",
    "batch=next(iter(ds_train))\n",
    "phtml('keys: </br>%s'%batch[0].keys())\n",
    "phtml('batch values of `Cylinders`: </br> %s'%batch[0]['Cylinders'])"
   ]
  },
  {
   "cell_type": "code",
   "execution_count": 15,
   "metadata": {
    "execution": {
     "iopub.execute_input": "2020-08-20T09:44:36.493253Z",
     "iopub.status.busy": "2020-08-20T09:44:36.492255Z",
     "iopub.status.idle": "2020-08-20T09:44:36.509739Z",
     "shell.execute_reply": "2020-08-20T09:44:36.508848Z"
    },
    "papermill": {
     "duration": 0.053088,
     "end_time": "2020-08-20T09:44:36.509889",
     "exception": false,
     "start_time": "2020-08-20T09:44:36.456801",
     "status": "completed"
    },
    "tags": []
   },
   "outputs": [
    {
     "data": {
      "text/html": [
       "<style>\n",
       "    @import 'https://fonts.googleapis.com/css?family=Smokum&effect=3d-float';      \n",
       "    </style><h1 class='font-effect-3d-float' \n",
       "    style='font-family:Smokum; color:#9955ee; font-size:25px;'>\n",
       "    keys: </br>dict_keys(['Cylinders', 'Displacement', 'Horsepower', 'Weight', 'Acceleration', 'ModelYear', 'Origin'])</h1>"
      ],
      "text/plain": [
       "<IPython.core.display.HTML object>"
      ]
     },
     "metadata": {},
     "output_type": "display_data"
    },
    {
     "data": {
      "text/html": [
       "<style>\n",
       "    @import 'https://fonts.googleapis.com/css?family=Smokum&effect=3d-float';      \n",
       "    </style><h1 class='font-effect-3d-float' \n",
       "    style='font-family:Smokum; color:#9955ee; font-size:25px;'>\n",
       "    batch values of `ModelYear`: </br>tf.Tensor([71 81 70 82 72 71 74 74], shape=(8,), dtype=int64)</h1>"
      ],
      "text/plain": [
       "<IPython.core.display.HTML object>"
      ]
     },
     "metadata": {},
     "output_type": "display_data"
    }
   ],
   "source": [
    "def test_input_fn(dfn_test,batch_size):\n",
    "    dft2=dfn_test.copy()\n",
    "    x_test,y_test=dft2,dft2.pop('MPG')\n",
    "    ds_test=tds.from_tensor_slices((dict(x_test),y_test))\n",
    "    return ds_test.batch(batch_size)\n",
    "ds_test=train_input_fn(dfn_test,batch_size)\n",
    "batch=next(iter(ds_test))\n",
    "phtml('keys: </br>%s'%batch[0].keys())\n",
    "phtml('batch values of `ModelYear`: </br>%s'%\\\n",
    "      batch[0]['ModelYear'])"
   ]
  },
  {
   "cell_type": "code",
   "execution_count": 16,
   "metadata": {
    "_kg_hide-input": true,
    "execution": {
     "iopub.execute_input": "2020-08-20T09:44:36.543332Z",
     "iopub.status.busy": "2020-08-20T09:44:36.542293Z",
     "iopub.status.idle": "2020-08-20T09:44:36.546734Z",
     "shell.execute_reply": "2020-08-20T09:44:36.547319Z"
    },
    "papermill": {
     "duration": 0.024377,
     "end_time": "2020-08-20T09:44:36.547520",
     "exception": false,
     "start_time": "2020-08-20T09:44:36.523143",
     "status": "completed"
    },
    "tags": []
   },
   "outputs": [
    {
     "data": {
      "text/html": [
       "<style>\n",
       "    @import 'https://fonts.googleapis.com/css?family=Akronim&effect=3d';      \n",
       "    </style><h1 class='font-effect-3d' \n",
       "    style='font-family:Akronim; color:#ff55ee; font-size:35px;'>\n",
       "    TF Regressor</h1>"
      ],
      "text/plain": [
       "<IPython.core.display.HTML object>"
      ]
     },
     "metadata": {},
     "output_type": "display_data"
    }
   ],
   "source": [
    "dhtml('TF Regressor')"
   ]
  },
  {
   "cell_type": "code",
   "execution_count": 17,
   "metadata": {
    "_kg_hide-output": false,
    "execution": {
     "iopub.execute_input": "2020-08-20T09:44:36.581635Z",
     "iopub.status.busy": "2020-08-20T09:44:36.580655Z",
     "iopub.status.idle": "2020-08-20T09:44:36.818983Z",
     "shell.execute_reply": "2020-08-20T09:44:36.818097Z"
    },
    "papermill": {
     "duration": 0.258354,
     "end_time": "2020-08-20T09:44:36.819137",
     "exception": false,
     "start_time": "2020-08-20T09:44:36.560783",
     "status": "completed"
    },
    "tags": []
   },
   "outputs": [],
   "source": [
    "reg=tf.estimator.DNNRegressor(\n",
    "    feature_columns=features,hidden_units=[32,10],\n",
    "    model_dir='models/autompg-dnnregressor/');"
   ]
  },
  {
   "cell_type": "code",
   "execution_count": 18,
   "metadata": {
    "_kg_hide-output": false,
    "execution": {
     "iopub.execute_input": "2020-08-20T09:44:36.855064Z",
     "iopub.status.busy": "2020-08-20T09:44:36.853979Z",
     "iopub.status.idle": "2020-08-20T09:45:31.719758Z",
     "shell.execute_reply": "2020-08-20T09:45:31.718873Z"
    },
    "papermill": {
     "duration": 54.887246,
     "end_time": "2020-08-20T09:45:31.719953",
     "exception": false,
     "start_time": "2020-08-20T09:44:36.832707",
     "status": "completed"
    },
    "tags": []
   },
   "outputs": [
    {
     "data": {
      "text/html": [
       "<style>\n",
       "    @import 'https://fonts.googleapis.com/css?family=Smokum&effect=3d-float';      \n",
       "    </style><h1 class='font-effect-3d-float' \n",
       "    style='font-family:Smokum; color:#9955ee; font-size:25px;'>\n",
       "    training steps: 40000</h1>"
      ],
      "text/plain": [
       "<IPython.core.display.HTML object>"
      ]
     },
     "metadata": {},
     "output_type": "display_data"
    }
   ],
   "source": [
    "epochs=1000\n",
    "steps=epochs*int(np.ceil(len(dfn_train)/batch_size))\n",
    "phtml('training steps: %d'%steps)\n",
    "reg.train(input_fn=lambda:\\\n",
    "          train_input_fn(dfn_train,\n",
    "          batch_size),steps=steps);"
   ]
  },
  {
   "cell_type": "code",
   "execution_count": 19,
   "metadata": {
    "execution": {
     "iopub.execute_input": "2020-08-20T09:45:31.760828Z",
     "iopub.status.busy": "2020-08-20T09:45:31.759590Z",
     "iopub.status.idle": "2020-08-20T09:45:31.764802Z",
     "shell.execute_reply": "2020-08-20T09:45:31.763843Z"
    },
    "papermill": {
     "duration": 0.030367,
     "end_time": "2020-08-20T09:45:31.764991",
     "exception": false,
     "start_time": "2020-08-20T09:45:31.734624",
     "status": "completed"
    },
    "tags": []
   },
   "outputs": [],
   "source": [
    "reloaded_reg=tf.estimator.DNNRegressor(\n",
    "    feature_columns=features,hidden_units=[32,10],\n",
    "    warm_start_from='models/autompg-dnnregressor/',\n",
    "    model_dir='models/autompg-dnnregressor/');"
   ]
  },
  {
   "cell_type": "code",
   "execution_count": 20,
   "metadata": {
    "execution": {
     "iopub.execute_input": "2020-08-20T09:45:31.805560Z",
     "iopub.status.busy": "2020-08-20T09:45:31.804229Z",
     "iopub.status.idle": "2020-08-20T09:45:32.871995Z",
     "shell.execute_reply": "2020-08-20T09:45:32.871180Z"
    },
    "papermill": {
     "duration": 1.092675,
     "end_time": "2020-08-20T09:45:32.872153",
     "exception": false,
     "start_time": "2020-08-20T09:45:31.779478",
     "status": "completed"
    },
    "tags": []
   },
   "outputs": [
    {
     "data": {
      "text/html": [
       "<style>\n",
       "    @import 'https://fonts.googleapis.com/css?family=Smokum&effect=3d-float';      \n",
       "    </style><h1 class='font-effect-3d-float' \n",
       "    style='font-family:Smokum; color:#9955ee; font-size:25px;'>\n",
       "    average_loss: 6.833326816558838</h1>"
      ],
      "text/plain": [
       "<IPython.core.display.HTML object>"
      ]
     },
     "metadata": {},
     "output_type": "display_data"
    },
    {
     "data": {
      "text/html": [
       "<style>\n",
       "    @import 'https://fonts.googleapis.com/css?family=Smokum&effect=3d-float';      \n",
       "    </style><h1 class='font-effect-3d-float' \n",
       "    style='font-family:Smokum; color:#9955ee; font-size:25px;'>\n",
       "    label/mean: 22.462024688720703</h1>"
      ],
      "text/plain": [
       "<IPython.core.display.HTML object>"
      ]
     },
     "metadata": {},
     "output_type": "display_data"
    },
    {
     "data": {
      "text/html": [
       "<style>\n",
       "    @import 'https://fonts.googleapis.com/css?family=Smokum&effect=3d-float';      \n",
       "    </style><h1 class='font-effect-3d-float' \n",
       "    style='font-family:Smokum; color:#9955ee; font-size:25px;'>\n",
       "    loss: 6.777703762054443</h1>"
      ],
      "text/plain": [
       "<IPython.core.display.HTML object>"
      ]
     },
     "metadata": {},
     "output_type": "display_data"
    },
    {
     "data": {
      "text/html": [
       "<style>\n",
       "    @import 'https://fonts.googleapis.com/css?family=Smokum&effect=3d-float';      \n",
       "    </style><h1 class='font-effect-3d-float' \n",
       "    style='font-family:Smokum; color:#9955ee; font-size:25px;'>\n",
       "    prediction/mean: 22.36518669128418</h1>"
      ],
      "text/plain": [
       "<IPython.core.display.HTML object>"
      ]
     },
     "metadata": {},
     "output_type": "display_data"
    },
    {
     "data": {
      "text/html": [
       "<style>\n",
       "    @import 'https://fonts.googleapis.com/css?family=Smokum&effect=3d-float';      \n",
       "    </style><h1 class='font-effect-3d-float' \n",
       "    style='font-family:Smokum; color:#9955ee; font-size:25px;'>\n",
       "    global_step: 40000</h1>"
      ],
      "text/plain": [
       "<IPython.core.display.HTML object>"
      ]
     },
     "metadata": {},
     "output_type": "display_data"
    },
    {
     "data": {
      "text/html": [
       "<style>\n",
       "    @import 'https://fonts.googleapis.com/css?family=Smokum&effect=3d-float';      \n",
       "    </style><h1 class='font-effect-3d-float' \n",
       "    style='font-family:Smokum; color:#9955ee; font-size:25px;'>\n",
       "    test average loss% 6.8333</h1>"
      ],
      "text/plain": [
       "<IPython.core.display.HTML object>"
      ]
     },
     "metadata": {},
     "output_type": "display_data"
    }
   ],
   "source": [
    "test_results=reloaded_reg\\\n",
    ".evaluate(input_fn=lambda:\\\n",
    "          test_input_fn(dfn_test,batch_size))\n",
    "for key in test_results:\n",
    "    phtml('{}: {}'.format(key,test_results[key]))\n",
    "phtml('test average loss% {:.4f}'\\\n",
    "      .format(test_results['average_loss']))"
   ]
  },
  {
   "cell_type": "code",
   "execution_count": 21,
   "metadata": {
    "execution": {
     "iopub.execute_input": "2020-08-20T09:45:32.916394Z",
     "iopub.status.busy": "2020-08-20T09:45:32.915250Z",
     "iopub.status.idle": "2020-08-20T09:45:33.603457Z",
     "shell.execute_reply": "2020-08-20T09:45:33.602505Z"
    },
    "papermill": {
     "duration": 0.714288,
     "end_time": "2020-08-20T09:45:33.603618",
     "exception": false,
     "start_time": "2020-08-20T09:45:32.889330",
     "status": "completed"
    },
    "tags": []
   },
   "outputs": [],
   "source": [
    "y_test_pred=reg.predict(input_fn=lambda:\\\n",
    "                        test_input_fn(dfn_test,batch_size))\n",
    "py_test=[]\n",
    "for i in range(len(dfn_test)):\n",
    "    py_test.append(next(iter(y_test_pred))['predictions'][0])"
   ]
  },
  {
   "cell_type": "code",
   "execution_count": 22,
   "metadata": {
    "execution": {
     "iopub.execute_input": "2020-08-20T09:45:33.647145Z",
     "iopub.status.busy": "2020-08-20T09:45:33.646077Z",
     "iopub.status.idle": "2020-08-20T09:45:33.974245Z",
     "shell.execute_reply": "2020-08-20T09:45:33.974967Z"
    },
    "papermill": {
     "duration": 0.355191,
     "end_time": "2020-08-20T09:45:33.975189",
     "exception": false,
     "start_time": "2020-08-20T09:45:33.619998",
     "status": "completed"
    },
    "tags": []
   },
   "outputs": [
    {
     "data": {
      "image/png": "[encoded data removed]",
      "text/plain": [
       "<Figure size 720x288 with 1 Axes>"
      ]
     },
     "metadata": {
      "needs_background": "light"
     },
     "output_type": "display_data"
    }
   ],
   "source": [
    "pl.figure(figsize=(10,4))\n",
    "pl.plot(range(len(dfn_test)),dfn_test['MPG'],\n",
    "        '-o',label='real data',c='#9955ee',ms=7)\n",
    "pl.plot(range(len(dfn_test)),py_test,\n",
    "        '-o',label='predictions',c='#ff55ee',ms=5)\n",
    "pl.grid(); pl.legend();"
   ]
  }
 ],
 "metadata": {
  "kernelspec": {
   "display_name": "Python 3",
   "language": "python",
   "name": "python3"
  },
  "language_info": {
   "codemirror_mode": {
    "name": "ipython",
    "version": 3
   },
   "file_extension": ".py",
   "mimetype": "text/x-python",
   "name": "python",
   "nbconvert_exporter": "python",
   "pygments_lexer": "ipython3",
   "version": "3.7.6"
  },
  "papermill": {
   "duration": 74.374845,
   "end_time": "2020-08-20T09:45:34.107269",
   "environment_variables": {},
   "exception": null,
   "input_path": "__notebook__.ipynb",
   "output_path": "__notebook__.ipynb",
   "parameters": {},
   "start_time": "2020-08-20T09:44:19.732424",
   "version": "2.1.0"
  }
 },
 "nbformat": 4,
 "nbformat_minor": 4
}
