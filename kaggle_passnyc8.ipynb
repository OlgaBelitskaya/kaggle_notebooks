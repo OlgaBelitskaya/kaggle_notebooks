{
 "cells": [
  {
   "cell_type": "markdown",
   "metadata": {},
   "source": [
    "## &#x1F310; &nbsp; Code Library, Style, and Links\n",
    "\n",
    "Useful `LINKS`:\n",
    "\n",
    "&#x1F310; &nbsp; [School Quality Reports. Educator Guide](http://schools.nyc.gov/NR/rdonlyres/967E0EE1-7E5D-4E47-BC21-573FEEE23AE2/0/201516EducatorGuideHS9252017.pdf)\n",
    "\n",
    "&#x1F310; &nbsp; [New York City Department of Education](https://www.schools.nyc.gov)\n",
    "\n",
    "&#x1F310; &nbsp; [NYC OpenData](https://opendata.cityofnewyork.us/)\n",
    "\n",
    "&#x1F310; &nbsp; [Pandas Visualization](https://pandas.pydata.org/pandas-docs/stable/visualization.html)\n",
    "\n",
    "&#x1F310; &nbsp; [Pandas Styling](https://pandas.pydata.org/pandas-docs/stable/style.html)"
   ]
  },
  {
   "cell_type": "code",
   "execution_count": 2,
   "metadata": {},
   "outputs": [
    {
     "data": {
      "text/html": [
       "<style> \n",
       "@import url('https://fonts.googleapis.com/css?family=Orbitron|Roboto');\n",
       "body {background-color: gainsboro;} \n",
       "a {color: #37c9e1; font-family: 'Roboto';} \n",
       "h1 {color: #37c9e1; font-family: 'Orbitron'; text-shadow: 4px 4px 4px #aaa;} \n",
       "h2, h3 {color: slategray; font-family: 'Orbitron'; text-shadow: 4px 4px 4px #aaa;}\n",
       "h4 {color: #37c9e1; font-family: 'Roboto';}\n",
       "span {text-shadow: 4px 4px 4px #aaa;}\n",
       "div.output_prompt, div.output_area pre {color: slategray;}\n",
       "div.input_prompt, div.output_subarea {color: #37c9e1;}      \n",
       "div.output_stderr pre {background-color: gainsboro;}  \n",
       "div.output_stderr {background-color: slategrey;}               \n",
       "</style>"
      ],
      "text/plain": [
       "<IPython.core.display.HTML object>"
      ]
     },
     "metadata": {},
     "output_type": "display_data"
    }
   ],
   "source": [
    "%%html\n",
    "<style> \n",
    "@import url('https://fonts.googleapis.com/css?family=Orbitron|Roboto');\n",
    "body {background-color: gainsboro;} \n",
    "a {color: #37c9e1; font-family: 'Roboto';} \n",
    "h1 {color: #37c9e1; font-family: 'Orbitron'; text-shadow: 4px 4px 4px #aaa;} \n",
    "h2, h3 {color: slategray; font-family: 'Orbitron'; text-shadow: 4px 4px 4px #aaa;}\n",
    "h4 {color: #37c9e1; font-family: 'Roboto';}\n",
    "span {text-shadow: 4px 4px 4px #aaa;}\n",
    "div.output_prompt, div.output_area pre {color: slategray;}\n",
    "div.input_prompt, div.output_subarea {color: #37c9e1;}      \n",
    "div.output_stderr pre {background-color: gainsboro;}  \n",
    "div.output_stderr {background-color: slategrey;}               \n",
    "</style>"
   ]
  },
  {
   "cell_type": "code",
   "execution_count": 3,
   "metadata": {},
   "outputs": [],
   "source": [
    "import numpy as np \n",
    "import pandas as pd\n",
    "import geopandas as gpd\n",
    "\n",
    "import matplotlib.pyplot as plt\n",
    "import matplotlib.cm as cm\n",
    "import seaborn as sns\n",
    "from descartes import PolygonPatch"
   ]
  },
  {
   "cell_type": "code",
   "execution_count": 4,
   "metadata": {},
   "outputs": [],
   "source": [
    "style_dict = {'background-color':'slategray',\n",
    "              'color':'#37c9e1',\n",
    "              'border-color': 'white'}"
   ]
  },
  {
   "cell_type": "markdown",
   "metadata": {},
   "source": [
    "## &#x1F310; &nbsp; Load and Preprocess the Data\n",
    "\n",
    "The series of notebooks `PASSNYC` \n",
    "\n",
    "- [PASSNYC. Data Exploration](https://www.kaggle.com/olgabelitskaya/passnyc-data-exploration)\n",
    "\n",
    "- [PASSNYC. Numeric and Categorical Variables](https://www.kaggle.com/olgabelitskaya/passnyc-numeric-and-categorical-variables)\n",
    "\n",
    "- [PASSNYC. Comparing All Districts with 5th District](passnyc-comparing-all-districts-with-5th-district)\n",
    "\n",
    "- [PASSNYC. Regression Methods](https://www.kaggle.com/olgabelitskaya/passnyc-regression-methods)\n",
    "\n",
    "- [PASSNYC. Neural Networks](https://www.kaggle.com/olgabelitskaya/passnyc-neural-networks)\n",
    "\n",
    "- [PASSNYC. Neural Networks 2](https://www.kaggle.com/olgabelitskaya/passnyc-neural-networks-2)\n",
    "\n",
    "- [PASSNYC. 32 School Districts and D5. Part 2](https://lww.kaggle.com/olgabelitskaya/passnyc-32-school-districts-and-d5-part-2)\n",
    "\n",
    "were used for exploration the following `KAGGLE` databases:\n",
    "\n",
    "- [PASSNYC: Data Science for Good Challenge](https://www.kaggle.com/passnyc/data-science-for-good)\n",
    "\n",
    "- [NY 2010 - 2016 School Safety Report](https://www.kaggle.com/new-york-city/ny-2010-2016-school-safety-report)\n",
    "\n",
    "- [NYC High School Directory](https://www.kaggle.com/new-york-city/nyc-high-school-directory)\n",
    "\n",
    "- [AP (College Board) NY School Level Results](https://www.kaggle.com/new-york-city/ap-college-board-ny-school-level-results)\n",
    "\n",
    "- [New York City SAT Results](https://www.kaggle.com/new-york-city/new-york-city-sat-results)\n",
    "\n",
    "- [NY School Districts](https://www.kaggle.com/olgabelitskaya/ny-school-districts)\n",
    "\n",
    "The main goal of these notebooks is to find a way for effective visualization of public data to identify students within New York City’s under-performing school districts and methods for increasing the diversity of students taking the Specialized High School Admissions Test (SHSAT). \n",
    "\n",
    "It could help to improve the chances of students taking the SHSAT and receiving placements in specialized high schools.\n",
    "\n",
    "Visualization allows people to detect the problems and find the decisions immediately in many practical cases. "
   ]
  },
  {
   "cell_type": "code",
   "execution_count": 5,
   "metadata": {},
   "outputs": [
    {
     "data": {
      "text/plain": [
       "((1272, 161), (140, 7), (460, 6), (478, 6), (437, 67), (6310, 34))"
      ]
     },
     "execution_count": 5,
     "metadata": {},
     "output_type": "execute_result"
    }
   ],
   "source": [
    "school_explorer = pd.read_csv('2016 School Explorer.csv')\n",
    "d5_shsat = pd.read_csv('D5 SHSAT Registrations and Testers.csv')\n",
    "high_school = pd.read_csv('2016-doe-high-school-directory.csv')\n",
    "safety = pd.read_csv('2010-2016-school-safety-report.csv')\n",
    "sat_2010 = pd.read_csv('2010-sat-college-board-school-level-results.csv')\n",
    "sat_2012 = pd.read_csv('2012-sat-results.csv')\n",
    "\n",
    "school_explorer.shape, d5_shsat.shape, sat_2010.shape, sat_2012.shape, high_school.shape, safety.shape"
   ]
  },
  {
   "cell_type": "code",
   "execution_count": null,
   "metadata": {},
   "outputs": [],
   "source": []
  }
 ],
 "metadata": {
  "kernelspec": {
   "display_name": "Python 3",
   "language": "python",
   "name": "python3"
  },
  "language_info": {
   "codemirror_mode": {
    "name": "ipython",
    "version": 3
   },
   "file_extension": ".py",
   "mimetype": "text/x-python",
   "name": "python",
   "nbconvert_exporter": "python",
   "pygments_lexer": "ipython3",
   "version": "3.6.4"
  }
 },
 "nbformat": 4,
 "nbformat_minor": 2
}
