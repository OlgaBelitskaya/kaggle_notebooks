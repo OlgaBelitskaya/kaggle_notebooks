{
 "cells": [
  {
   "cell_type": "code",
   "execution_count": 1,
   "metadata": {
    "_kg_hide-output": true
   },
   "outputs": [
    {
     "name": "stderr",
     "output_type": "stream",
     "text": [
      "── \u001b[1mAttaching packages\u001b[22m ─────────────────────────────────────── tidyverse 1.3.0 ──\n",
      "\n",
      "\u001b[32m✔\u001b[39m \u001b[34mggplot2\u001b[39m 3.3.0.\u001b[31m9000\u001b[39m     \u001b[32m✔\u001b[39m \u001b[34mpurrr  \u001b[39m 0.3.4     \n",
      "\u001b[32m✔\u001b[39m \u001b[34mtibble \u001b[39m 3.0.0          \u001b[32m✔\u001b[39m \u001b[34mdplyr  \u001b[39m 0.8.5     \n",
      "\u001b[32m✔\u001b[39m \u001b[34mtidyr  \u001b[39m 1.0.2          \u001b[32m✔\u001b[39m \u001b[34mstringr\u001b[39m 1.4.0     \n",
      "\u001b[32m✔\u001b[39m \u001b[34mreadr  \u001b[39m 1.3.1          \u001b[32m✔\u001b[39m \u001b[34mforcats\u001b[39m 0.5.0     \n",
      "\n",
      "── \u001b[1mConflicts\u001b[22m ────────────────────────────────────────── tidyverse_conflicts() ──\n",
      "\u001b[31m✖\u001b[39m \u001b[34mdplyr\u001b[39m::\u001b[32mfilter()\u001b[39m masks \u001b[34mstats\u001b[39m::filter()\n",
      "\u001b[31m✖\u001b[39m \u001b[34mdplyr\u001b[39m::\u001b[32mlag()\u001b[39m    masks \u001b[34mstats\u001b[39m::lag()\n",
      "\n",
      "\n",
      "Attaching package: ‘zoo’\n",
      "\n",
      "\n",
      "The following objects are masked from ‘package:base’:\n",
      "\n",
      "    as.Date, as.Date.numeric\n",
      "\n",
      "\n",
      "Loading required package: gsubfn\n",
      "\n",
      "Loading required package: proto\n",
      "\n",
      "Warning message:\n",
      "“no DISPLAY variable so Tk is not available”\n",
      "Loading required package: RSQLite\n",
      "\n"
     ]
    }
   ],
   "source": [
    "library(tidyverse); library(zoo); library(sqldf)"
   ]
  },
  {
   "cell_type": "markdown",
   "metadata": {},
   "source": [
    "[SageMathCell Version](https://olgabelitskaya.github.io/sql_cookbook.html) & [SageMathCell Test Example](https://olgabelitskaya.github.io/sql_test.html)\n",
    "## 📑 Creating SQL Databases"
   ]
  },
  {
   "cell_type": "code",
   "execution_count": 2,
   "metadata": {
    "_execution_state": "idle",
    "_uuid": "051d70d956493feee0c6d64651c6a088724dca2a"
   },
   "outputs": [
    {
     "data": {
      "text/html": [
       "<style>\n",
       ".list-inline {list-style: none; margin:0; padding: 0}\n",
       ".list-inline>li {display: inline-block}\n",
       ".list-inline>li:not(:last-child)::after {content: \"\\00b7\"; padding: 0 .5ex}\n",
       "</style>\n",
       "<ol class=list-inline><li>'data-science-for-good'</li><li>'nba-all-star-game-20002016'</li></ol>\n"
      ],
      "text/latex": [
       "\\begin{enumerate*}\n",
       "\\item 'data-science-for-good'\n",
       "\\item 'nba-all-star-game-20002016'\n",
       "\\end{enumerate*}\n"
      ],
      "text/markdown": [
       "1. 'data-science-for-good'\n",
       "2. 'nba-all-star-game-20002016'\n",
       "\n",
       "\n"
      ],
      "text/plain": [
       "[1] \"data-science-for-good\"      \"nba-all-star-game-20002016\""
      ]
     },
     "metadata": {},
     "output_type": "display_data"
    }
   ],
   "source": [
    "if (!is.null(getOption(\"sqldf.connection\"))) sqldf()\n",
    "sqlite<-dbDriver(\"SQLite\")\n",
    "example<-dbConnect(sqlite,dbname=\"example.db\")\n",
    "for (df in c(\"projects\",\"tasks\",\"df1\",\"df2\",\n",
    "             \"tips\",\"schooledu\",\"nba\")) {\n",
    "    if (dbExistsTable(example,df)) {\n",
    "        dbRemoveTable(example,df)}}\n",
    "list.files(path=\"../input\")"
   ]
  },
  {
   "cell_type": "markdown",
   "metadata": {},
   "source": [
    "## 📑 Creating SQL Tables"
   ]
  },
  {
   "cell_type": "code",
   "execution_count": 3,
   "metadata": {},
   "outputs": [],
   "source": [
    "st_ex<-function(str){\n",
    "    st<-do.call(paste,c(as.list(str),sep=\"\"))\n",
    "    dbExecute(st,conn=example)}\n",
    "cr_task<-function(str){\n",
    "    st<-c(\"INSERT INTO tasks(name,priority,status_id,\",\n",
    "          \"project_id,begin_date,end_date) VALUES\",str)\n",
    "    st<-do.call(paste,c(as.list(st),sep=\"\"))\n",
    "    dbExecute(st,conn=example)}"
   ]
  },
  {
   "cell_type": "code",
   "execution_count": 4,
   "metadata": {
    "_kg_hide-input": true
   },
   "outputs": [],
   "source": [
    "st1<-c(\"CREATE TABLE IF NOT EXISTS projects (\",\n",
    "       \"id integer PRIMARY KEY, \",\n",
    "       \"name text NOT NULL, \",\n",
    "       \" begin_date text, \",\n",
    "       \" end_date text);\")\n",
    "st2<-c(\"CREATE TABLE IF NOT EXISTS tasks ( \",\n",
    "       \"id integer PRIMARY KEY, \",\n",
    "       \"name text NOT NULL, \",\n",
    "       \"priority integer, \",\n",
    "       \"status_id integer NOT NULL, \",\n",
    "       \"project_id integer NOT NULL, \",\n",
    "       \"begin_date text NOT NULL, \",\n",
    "       \"end_date text NOT NULL, \",\n",
    "       \"FOREIGN KEY (project_id) REFERENCES projects (id));\")\n",
    "st3<-c(\"INSERT INTO projects(name,begin_date,end_date) \",\n",
    "       \"VALUES('SQL CookBook with SageMathCell',\",\n",
    "       \"'2020-02-04','2020-02-18');\")\n",
    "st4<-c(\"INSERT INTO projects(name,begin_date,end_date) \",\n",
    "       \"VALUES('SQL Tests','2020-01-31','2020-02-14');\")\n",
    "st5<-list(\"('Page 1',1,1,1,'2020-02-04','2020-02-12');\",\n",
    "          \"('Page 2',1,1,1,'2020-02-10','2020-02-18');\",\n",
    "          \"('Test 1',1,1,2,'2020-01-31','2020-02-01');\",\n",
    "          \"('Test 2',1,1,2,'2020-02-02','2020-02-03');\",\n",
    "          \"('Test 3',1,1,2,'2020-02-04','2020-02-05');\",\n",
    "          \"('Test 4',1,1,2,'2020-02-06','2020-02-07');\",\n",
    "          \"('Test 5',1,1,2,'2020-02-08','2020-02-09');\",\n",
    "          \"('Test 6',1,1,2,'2020-02-09','2020-02-10');\",\n",
    "          \"('Test 7',1,1,2,'2020-02-10','2020-02-11');\",\n",
    "          \"('Dublicate',1,1,2,'2020-02-11','2020-02-14')\")\n",
    "for (st in list(st1,st2,st3,st4)) {st_ex(st)}\n",
    "for (st in st5) {cr_task(st)}"
   ]
  },
  {
   "cell_type": "markdown",
   "metadata": {},
   "source": [
    "## 📑 Creating DataFrames"
   ]
  },
  {
   "cell_type": "code",
   "execution_count": 5,
   "metadata": {
    "_kg_hide-output": true
   },
   "outputs": [
    {
     "data": {
      "text/html": [
       "<table>\n",
       "<caption>A data.frame: 6 × 2</caption>\n",
       "<thead>\n",
       "\t<tr><th scope=col>key1</th><th scope=col>value1</th></tr>\n",
       "\t<tr><th scope=col>&lt;fct&gt;</th><th scope=col>&lt;int&gt;</th></tr>\n",
       "</thead>\n",
       "<tbody>\n",
       "\t<tr><td>A</td><td> 2</td></tr>\n",
       "\t<tr><td>B</td><td> 4</td></tr>\n",
       "\t<tr><td>C</td><td> 5</td></tr>\n",
       "\t<tr><td>D</td><td> 6</td></tr>\n",
       "\t<tr><td>F</td><td> 8</td></tr>\n",
       "\t<tr><td>F</td><td>10</td></tr>\n",
       "</tbody>\n",
       "</table>\n"
      ],
      "text/latex": [
       "A data.frame: 6 × 2\n",
       "\\begin{tabular}{ll}\n",
       " key1 & value1\\\\\n",
       " <fct> & <int>\\\\\n",
       "\\hline\n",
       "\t A &  2\\\\\n",
       "\t B &  4\\\\\n",
       "\t C &  5\\\\\n",
       "\t D &  6\\\\\n",
       "\t F &  8\\\\\n",
       "\t F & 10\\\\\n",
       "\\end{tabular}\n"
      ],
      "text/markdown": [
       "\n",
       "A data.frame: 6 × 2\n",
       "\n",
       "| key1 &lt;fct&gt; | value1 &lt;int&gt; |\n",
       "|---|---|\n",
       "| A |  2 |\n",
       "| B |  4 |\n",
       "| C |  5 |\n",
       "| D |  6 |\n",
       "| F |  8 |\n",
       "| F | 10 |\n",
       "\n"
      ],
      "text/plain": [
       "  key1 value1\n",
       "1 A     2    \n",
       "2 B     4    \n",
       "3 C     5    \n",
       "4 D     6    \n",
       "5 F     8    \n",
       "6 F    10    "
      ]
     },
     "metadata": {},
     "output_type": "display_data"
    },
    {
     "data": {
      "text/html": [
       "<table>\n",
       "<caption>A data.frame: 5 × 2</caption>\n",
       "<thead>\n",
       "\t<tr><th scope=col>key2</th><th scope=col>value2</th></tr>\n",
       "\t<tr><th scope=col>&lt;fct&gt;</th><th scope=col>&lt;int&gt;</th></tr>\n",
       "</thead>\n",
       "<tbody>\n",
       "\t<tr><td>B</td><td>4</td></tr>\n",
       "\t<tr><td>D</td><td>6</td></tr>\n",
       "\t<tr><td>D</td><td>3</td></tr>\n",
       "\t<tr><td>E</td><td>8</td></tr>\n",
       "\t<tr><td>F</td><td>5</td></tr>\n",
       "</tbody>\n",
       "</table>\n"
      ],
      "text/latex": [
       "A data.frame: 5 × 2\n",
       "\\begin{tabular}{ll}\n",
       " key2 & value2\\\\\n",
       " <fct> & <int>\\\\\n",
       "\\hline\n",
       "\t B & 4\\\\\n",
       "\t D & 6\\\\\n",
       "\t D & 3\\\\\n",
       "\t E & 8\\\\\n",
       "\t F & 5\\\\\n",
       "\\end{tabular}\n"
      ],
      "text/markdown": [
       "\n",
       "A data.frame: 5 × 2\n",
       "\n",
       "| key2 &lt;fct&gt; | value2 &lt;int&gt; |\n",
       "|---|---|\n",
       "| B | 4 |\n",
       "| D | 6 |\n",
       "| D | 3 |\n",
       "| E | 8 |\n",
       "| F | 5 |\n",
       "\n"
      ],
      "text/plain": [
       "  key2 value2\n",
       "1 B    4     \n",
       "2 D    6     \n",
       "3 D    3     \n",
       "4 E    8     \n",
       "5 F    5     "
      ]
     },
     "metadata": {},
     "output_type": "display_data"
    }
   ],
   "source": [
    "df1<-data.frame(key1=c('A','B','C','D','F','F'),\n",
    "                value1=sample(1:10,6))\n",
    "df2<-data.frame(key2=c('B','D','D','E','F'),\n",
    "                value2=sample(1:10,5))\n",
    "df1; df2"
   ]
  },
  {
   "cell_type": "code",
   "execution_count": 6,
   "metadata": {},
   "outputs": [],
   "source": [
    "path1<-paste0('https://raw.github.com/pydata/pandas/',\n",
    "              'master/pandas/tests/data/')\n",
    "tips<-read.csv(paste0(path1,'tips.csv'))"
   ]
  },
  {
   "cell_type": "code",
   "execution_count": 7,
   "metadata": {},
   "outputs": [],
   "source": [
    "path2<-'../input/data-science-for-good/'\n",
    "school_explorer<-read.csv(paste0(path2,'2016 School Explorer.csv'))"
   ]
  },
  {
   "cell_type": "code",
   "execution_count": 8,
   "metadata": {
    "_kg_hide-input": true
   },
   "outputs": [
    {
     "data": {
      "text/html": [
       "0"
      ],
      "text/latex": [
       "0"
      ],
      "text/markdown": [
       "0"
      ],
      "text/plain": [
       "[1] 0"
      ]
     },
     "metadata": {},
     "output_type": "display_data"
    }
   ],
   "source": [
    "school_explorer<-school_explorer[,4:161]\n",
    "school_explorer[school_explorer==\"N/A\"]<-NA\n",
    "school_explorer$School.Name<-\n",
    "as.character(school_explorer$School.Name)\n",
    "school_explorer$School.Name[c(428,1024,713,909)]<- \n",
    "c('P.S. 212 D12','P.S. 212 D30','P.S. 253 D21','P.S. 253 D27')\n",
    "school_explorer$School.Income.Estimate<-\n",
    "as.character(school_explorer$School.Income.Estimate)\n",
    "school_explorer$School.Income.Estimate<-\n",
    "sub(\"\\\\$\",\"\",school_explorer$School.Income.Estimate)\n",
    "school_explorer$School.Income.Estimate<-\n",
    "sub(\",\",\"\",school_explorer$School.Income.Estimate)\n",
    "school_explorer$School.Income.Estimate<-\n",
    "as.numeric(school_explorer$School.Income.Estimate)\n",
    "school_explorer$School.Income.Estimate<-\n",
    "na.approx(school_explorer$School.Income.Estimate)\n",
    "percent_list<-c('Percent.ELL',\n",
    "                'Percent.Asian','Percent.Black','Percent.Hispanic',\n",
    "                'Percent.Black...Hispanic','Percent.White',\n",
    "                'Student.Attendance.Rate',\n",
    "                'Percent.of.Students.Chronically.Absent',\n",
    "                'Rigorous.Instruction..','Collaborative.Teachers..',\n",
    "                'Supportive.Environment..','Effective.School.Leadership..',\n",
    "                'Strong.Family.Community.Ties..','Trust..')\n",
    "target_list<-c(\"Average.ELA.Proficiency\",\"Average.Math.Proficiency\")\n",
    "economic_list<-c(\"Economic.Need.Index\",\"School.Income.Estimate\")\n",
    "rating_list<-c('Rigorous.Instruction.Rating','Collaborative.Teachers.Rating',\n",
    "               'Supportive.Environment.Rating','Effective.School.Leadership.Rating',\n",
    "               'Strong.Family.Community.Ties.Rating','Trust.Rating',\n",
    "               'Student.Achievement.Rating')\n",
    "nastr2num<-function(x){ x<-as.numeric(sub(\"%\",\"\",x)) }\n",
    "for (el in c(percent_list,target_list,\"Economic.Need.Index\")) {\n",
    "    school_explorer[el]<-sapply(school_explorer[el],nastr2num)\n",
    "    school_explorer[el]<-na.approx(school_explorer[el]) }\n",
    "for (el in rating_list) {\n",
    "    vtable<-data.frame(table(school_explorer[el]))\n",
    "    mvalue<-as.character(vtable$Var1[vtable$Freq==max(vtable$Freq)])\n",
    "    school_explorer[el][is.na(school_explorer[el])]<-mvalue\n",
    "    school_explorer[,el]<-factor(school_explorer[,el]) }\n",
    "sum(is.na(school_explorer))"
   ]
  },
  {
   "cell_type": "code",
   "execution_count": 9,
   "metadata": {
    "_kg_hide-output": true
   },
   "outputs": [
    {
     "data": {
      "text/html": [
       "<table>\n",
       "<caption>A data.frame: 6 × 10</caption>\n",
       "<thead>\n",
       "\t<tr><th></th><th scope=col>SchoolName</th><th scope=col>SEDCode</th><th scope=col>LocationCode</th><th scope=col>District</th><th scope=col>Latitude</th><th scope=col>Longitude</th><th scope=col>AddressFull</th><th scope=col>City</th><th scope=col>Zip</th><th scope=col>Grades</th></tr>\n",
       "\t<tr><th></th><th scope=col>&lt;chr&gt;</th><th scope=col>&lt;dbl&gt;</th><th scope=col>&lt;fct&gt;</th><th scope=col>&lt;int&gt;</th><th scope=col>&lt;dbl&gt;</th><th scope=col>&lt;dbl&gt;</th><th scope=col>&lt;fct&gt;</th><th scope=col>&lt;fct&gt;</th><th scope=col>&lt;int&gt;</th><th scope=col>&lt;fct&gt;</th></tr>\n",
       "</thead>\n",
       "<tbody>\n",
       "\t<tr><th scope=row>1</th><td>P.S. 015 ROBERTO CLEMENTE     </td><td>3.101e+11</td><td>01M015</td><td>1</td><td>40.72183</td><td>-73.97877</td><td>333 E 4TH ST NEW YORK, NY 10009 </td><td>NEW YORK</td><td>10009</td><td>PK,0K,01,02,03,04,05         </td></tr>\n",
       "\t<tr><th scope=row>2</th><td>P.S. 019 ASHER LEVY           </td><td>3.101e+11</td><td>01M019</td><td>1</td><td>40.72989</td><td>-73.98423</td><td>185 1ST AVE NEW YORK, NY 10003  </td><td>NEW YORK</td><td>10003</td><td>PK,0K,01,02,03,04,05         </td></tr>\n",
       "\t<tr><th scope=row>3</th><td>P.S. 020 ANNA SILVER          </td><td>3.101e+11</td><td>01M020</td><td>1</td><td>40.72127</td><td>-73.98632</td><td>166 ESSEX ST NEW YORK, NY 10002 </td><td>NEW YORK</td><td>10002</td><td>PK,0K,01,02,03,04,05         </td></tr>\n",
       "\t<tr><th scope=row>4</th><td>P.S. 034 FRANKLIN D. ROOSEVELT</td><td>3.101e+11</td><td>01M034</td><td>1</td><td>40.72615</td><td>-73.97504</td><td>730 E 12TH ST NEW YORK, NY 10009</td><td>NEW YORK</td><td>10009</td><td>PK,0K,01,02,03,04,05,06,07,08</td></tr>\n",
       "\t<tr><th scope=row>5</th><td>THE STAR ACADEMY - P.S.63     </td><td>3.101e+11</td><td>01M063</td><td>1</td><td>40.72440</td><td>-73.98636</td><td>121 E 3RD ST NEW YORK, NY 10009 </td><td>NEW YORK</td><td>10009</td><td>PK,0K,01,02,03,04,05         </td></tr>\n",
       "\t<tr><th scope=row>6</th><td>P.S. 064 ROBERT SIMON         </td><td>3.101e+11</td><td>01M064</td><td>1</td><td>40.72375</td><td>-73.98160</td><td>600 E 6TH ST NEW YORK, NY 10009 </td><td>NEW YORK</td><td>10009</td><td>PK,0K,01,02,03,04,05         </td></tr>\n",
       "</tbody>\n",
       "</table>\n"
      ],
      "text/latex": [
       "A data.frame: 6 × 10\n",
       "\\begin{tabular}{r|llllllllll}\n",
       "  & SchoolName & SEDCode & LocationCode & District & Latitude & Longitude & AddressFull & City & Zip & Grades\\\\\n",
       "  & <chr> & <dbl> & <fct> & <int> & <dbl> & <dbl> & <fct> & <fct> & <int> & <fct>\\\\\n",
       "\\hline\n",
       "\t1 & P.S. 015 ROBERTO CLEMENTE      & 3.101e+11 & 01M015 & 1 & 40.72183 & -73.97877 & 333 E 4TH ST NEW YORK, NY 10009  & NEW YORK & 10009 & PK,0K,01,02,03,04,05         \\\\\n",
       "\t2 & P.S. 019 ASHER LEVY            & 3.101e+11 & 01M019 & 1 & 40.72989 & -73.98423 & 185 1ST AVE NEW YORK, NY 10003   & NEW YORK & 10003 & PK,0K,01,02,03,04,05         \\\\\n",
       "\t3 & P.S. 020 ANNA SILVER           & 3.101e+11 & 01M020 & 1 & 40.72127 & -73.98632 & 166 ESSEX ST NEW YORK, NY 10002  & NEW YORK & 10002 & PK,0K,01,02,03,04,05         \\\\\n",
       "\t4 & P.S. 034 FRANKLIN D. ROOSEVELT & 3.101e+11 & 01M034 & 1 & 40.72615 & -73.97504 & 730 E 12TH ST NEW YORK, NY 10009 & NEW YORK & 10009 & PK,0K,01,02,03,04,05,06,07,08\\\\\n",
       "\t5 & THE STAR ACADEMY - P.S.63      & 3.101e+11 & 01M063 & 1 & 40.72440 & -73.98636 & 121 E 3RD ST NEW YORK, NY 10009  & NEW YORK & 10009 & PK,0K,01,02,03,04,05         \\\\\n",
       "\t6 & P.S. 064 ROBERT SIMON          & 3.101e+11 & 01M064 & 1 & 40.72375 & -73.98160 & 600 E 6TH ST NEW YORK, NY 10009  & NEW YORK & 10009 & PK,0K,01,02,03,04,05         \\\\\n",
       "\\end{tabular}\n"
      ],
      "text/markdown": [
       "\n",
       "A data.frame: 6 × 10\n",
       "\n",
       "| <!--/--> | SchoolName &lt;chr&gt; | SEDCode &lt;dbl&gt; | LocationCode &lt;fct&gt; | District &lt;int&gt; | Latitude &lt;dbl&gt; | Longitude &lt;dbl&gt; | AddressFull &lt;fct&gt; | City &lt;fct&gt; | Zip &lt;int&gt; | Grades &lt;fct&gt; |\n",
       "|---|---|---|---|---|---|---|---|---|---|---|\n",
       "| 1 | P.S. 015 ROBERTO CLEMENTE      | 3.101e+11 | 01M015 | 1 | 40.72183 | -73.97877 | 333 E 4TH ST NEW YORK, NY 10009  | NEW YORK | 10009 | PK,0K,01,02,03,04,05          |\n",
       "| 2 | P.S. 019 ASHER LEVY            | 3.101e+11 | 01M019 | 1 | 40.72989 | -73.98423 | 185 1ST AVE NEW YORK, NY 10003   | NEW YORK | 10003 | PK,0K,01,02,03,04,05          |\n",
       "| 3 | P.S. 020 ANNA SILVER           | 3.101e+11 | 01M020 | 1 | 40.72127 | -73.98632 | 166 ESSEX ST NEW YORK, NY 10002  | NEW YORK | 10002 | PK,0K,01,02,03,04,05          |\n",
       "| 4 | P.S. 034 FRANKLIN D. ROOSEVELT | 3.101e+11 | 01M034 | 1 | 40.72615 | -73.97504 | 730 E 12TH ST NEW YORK, NY 10009 | NEW YORK | 10009 | PK,0K,01,02,03,04,05,06,07,08 |\n",
       "| 5 | THE STAR ACADEMY - P.S.63      | 3.101e+11 | 01M063 | 1 | 40.72440 | -73.98636 | 121 E 3RD ST NEW YORK, NY 10009  | NEW YORK | 10009 | PK,0K,01,02,03,04,05          |\n",
       "| 6 | P.S. 064 ROBERT SIMON          | 3.101e+11 | 01M064 | 1 | 40.72375 | -73.98160 | 600 E 6TH ST NEW YORK, NY 10009  | NEW YORK | 10009 | PK,0K,01,02,03,04,05          |\n",
       "\n"
      ],
      "text/plain": [
       "  SchoolName                     SEDCode   LocationCode District Latitude\n",
       "1 P.S. 015 ROBERTO CLEMENTE      3.101e+11 01M015       1        40.72183\n",
       "2 P.S. 019 ASHER LEVY            3.101e+11 01M019       1        40.72989\n",
       "3 P.S. 020 ANNA SILVER           3.101e+11 01M020       1        40.72127\n",
       "4 P.S. 034 FRANKLIN D. ROOSEVELT 3.101e+11 01M034       1        40.72615\n",
       "5 THE STAR ACADEMY - P.S.63      3.101e+11 01M063       1        40.72440\n",
       "6 P.S. 064 ROBERT SIMON          3.101e+11 01M064       1        40.72375\n",
       "  Longitude AddressFull                      City     Zip  \n",
       "1 -73.97877 333 E 4TH ST NEW YORK, NY 10009  NEW YORK 10009\n",
       "2 -73.98423 185 1ST AVE NEW YORK, NY 10003   NEW YORK 10003\n",
       "3 -73.98632 166 ESSEX ST NEW YORK, NY 10002  NEW YORK 10002\n",
       "4 -73.97504 730 E 12TH ST NEW YORK, NY 10009 NEW YORK 10009\n",
       "5 -73.98636 121 E 3RD ST NEW YORK, NY 10009  NEW YORK 10009\n",
       "6 -73.98160 600 E 6TH ST NEW YORK, NY 10009  NEW YORK 10009\n",
       "  Grades                       \n",
       "1 PK,0K,01,02,03,04,05         \n",
       "2 PK,0K,01,02,03,04,05         \n",
       "3 PK,0K,01,02,03,04,05         \n",
       "4 PK,0K,01,02,03,04,05,06,07,08\n",
       "5 PK,0K,01,02,03,04,05         \n",
       "6 PK,0K,01,02,03,04,05         "
      ]
     },
     "metadata": {},
     "output_type": "display_data"
    }
   ],
   "source": [
    "names(school_explorer)<-gsub(\"\\\\.\",\"\",names(school_explorer))\n",
    "head(school_explorer)[1:10]"
   ]
  },
  {
   "cell_type": "code",
   "execution_count": 10,
   "metadata": {},
   "outputs": [],
   "source": [
    "path3<-'../input/nba-all-star-game-20002016/'\n",
    "fn3<-'NBA All Stars 2000-2016 - Sheet1.csv'\n",
    "nba<-read.csv(paste0(path3,fn3))"
   ]
  },
  {
   "cell_type": "markdown",
   "metadata": {},
   "source": [
    "## 📑 SQL Basic Queries"
   ]
  },
  {
   "cell_type": "code",
   "execution_count": 11,
   "metadata": {
    "_kg_hide-output": true
   },
   "outputs": [
    {
     "data": {
      "text/html": [
       "<table>\n",
       "<caption>A data.frame: 10 × 11</caption>\n",
       "<thead>\n",
       "\t<tr><th scope=col>id</th><th scope=col>name</th><th scope=col>begin_date</th><th scope=col>end_date</th><th scope=col>id</th><th scope=col>name</th><th scope=col>priority</th><th scope=col>status_id</th><th scope=col>project_id</th><th scope=col>begin_date</th><th scope=col>end_date</th></tr>\n",
       "\t<tr><th scope=col>&lt;int&gt;</th><th scope=col>&lt;chr&gt;</th><th scope=col>&lt;chr&gt;</th><th scope=col>&lt;chr&gt;</th><th scope=col>&lt;int&gt;</th><th scope=col>&lt;chr&gt;</th><th scope=col>&lt;int&gt;</th><th scope=col>&lt;int&gt;</th><th scope=col>&lt;int&gt;</th><th scope=col>&lt;chr&gt;</th><th scope=col>&lt;chr&gt;</th></tr>\n",
       "</thead>\n",
       "<tbody>\n",
       "\t<tr><td>1</td><td>SQL CookBook with SageMathCell</td><td>2020-02-04</td><td>2020-02-18</td><td> 1</td><td>Page 1   </td><td>1</td><td>1</td><td>1</td><td>2020-02-04</td><td>2020-02-12</td></tr>\n",
       "\t<tr><td>1</td><td>SQL CookBook with SageMathCell</td><td>2020-02-04</td><td>2020-02-18</td><td> 2</td><td>Page 2   </td><td>1</td><td>1</td><td>1</td><td>2020-02-10</td><td>2020-02-18</td></tr>\n",
       "\t<tr><td>2</td><td>SQL Tests                     </td><td>2020-01-31</td><td>2020-02-14</td><td> 3</td><td>Test 1   </td><td>1</td><td>1</td><td>2</td><td>2020-01-31</td><td>2020-02-01</td></tr>\n",
       "\t<tr><td>2</td><td>SQL Tests                     </td><td>2020-01-31</td><td>2020-02-14</td><td> 4</td><td>Test 2   </td><td>1</td><td>1</td><td>2</td><td>2020-02-02</td><td>2020-02-03</td></tr>\n",
       "\t<tr><td>2</td><td>SQL Tests                     </td><td>2020-01-31</td><td>2020-02-14</td><td> 5</td><td>Test 3   </td><td>1</td><td>1</td><td>2</td><td>2020-02-04</td><td>2020-02-05</td></tr>\n",
       "\t<tr><td>2</td><td>SQL Tests                     </td><td>2020-01-31</td><td>2020-02-14</td><td> 6</td><td>Test 4   </td><td>1</td><td>1</td><td>2</td><td>2020-02-06</td><td>2020-02-07</td></tr>\n",
       "\t<tr><td>2</td><td>SQL Tests                     </td><td>2020-01-31</td><td>2020-02-14</td><td> 7</td><td>Test 5   </td><td>1</td><td>1</td><td>2</td><td>2020-02-08</td><td>2020-02-09</td></tr>\n",
       "\t<tr><td>2</td><td>SQL Tests                     </td><td>2020-01-31</td><td>2020-02-14</td><td> 8</td><td>Test 6   </td><td>1</td><td>1</td><td>2</td><td>2020-02-09</td><td>2020-02-10</td></tr>\n",
       "\t<tr><td>2</td><td>SQL Tests                     </td><td>2020-01-31</td><td>2020-02-14</td><td> 9</td><td>Test 7   </td><td>1</td><td>1</td><td>2</td><td>2020-02-10</td><td>2020-02-11</td></tr>\n",
       "\t<tr><td>2</td><td>SQL Tests                     </td><td>2020-01-31</td><td>2020-02-14</td><td>10</td><td>Dublicate</td><td>1</td><td>1</td><td>2</td><td>2020-02-11</td><td>2020-02-14</td></tr>\n",
       "</tbody>\n",
       "</table>\n"
      ],
      "text/latex": [
       "A data.frame: 10 × 11\n",
       "\\begin{tabular}{lllllllllll}\n",
       " id & name & begin\\_date & end\\_date & id & name & priority & status\\_id & project\\_id & begin\\_date & end\\_date\\\\\n",
       " <int> & <chr> & <chr> & <chr> & <int> & <chr> & <int> & <int> & <int> & <chr> & <chr>\\\\\n",
       "\\hline\n",
       "\t 1 & SQL CookBook with SageMathCell & 2020-02-04 & 2020-02-18 &  1 & Page 1    & 1 & 1 & 1 & 2020-02-04 & 2020-02-12\\\\\n",
       "\t 1 & SQL CookBook with SageMathCell & 2020-02-04 & 2020-02-18 &  2 & Page 2    & 1 & 1 & 1 & 2020-02-10 & 2020-02-18\\\\\n",
       "\t 2 & SQL Tests                      & 2020-01-31 & 2020-02-14 &  3 & Test 1    & 1 & 1 & 2 & 2020-01-31 & 2020-02-01\\\\\n",
       "\t 2 & SQL Tests                      & 2020-01-31 & 2020-02-14 &  4 & Test 2    & 1 & 1 & 2 & 2020-02-02 & 2020-02-03\\\\\n",
       "\t 2 & SQL Tests                      & 2020-01-31 & 2020-02-14 &  5 & Test 3    & 1 & 1 & 2 & 2020-02-04 & 2020-02-05\\\\\n",
       "\t 2 & SQL Tests                      & 2020-01-31 & 2020-02-14 &  6 & Test 4    & 1 & 1 & 2 & 2020-02-06 & 2020-02-07\\\\\n",
       "\t 2 & SQL Tests                      & 2020-01-31 & 2020-02-14 &  7 & Test 5    & 1 & 1 & 2 & 2020-02-08 & 2020-02-09\\\\\n",
       "\t 2 & SQL Tests                      & 2020-01-31 & 2020-02-14 &  8 & Test 6    & 1 & 1 & 2 & 2020-02-09 & 2020-02-10\\\\\n",
       "\t 2 & SQL Tests                      & 2020-01-31 & 2020-02-14 &  9 & Test 7    & 1 & 1 & 2 & 2020-02-10 & 2020-02-11\\\\\n",
       "\t 2 & SQL Tests                      & 2020-01-31 & 2020-02-14 & 10 & Dublicate & 1 & 1 & 2 & 2020-02-11 & 2020-02-14\\\\\n",
       "\\end{tabular}\n"
      ],
      "text/markdown": [
       "\n",
       "A data.frame: 10 × 11\n",
       "\n",
       "| id &lt;int&gt; | name &lt;chr&gt; | begin_date &lt;chr&gt; | end_date &lt;chr&gt; | id &lt;int&gt; | name &lt;chr&gt; | priority &lt;int&gt; | status_id &lt;int&gt; | project_id &lt;int&gt; | begin_date &lt;chr&gt; | end_date &lt;chr&gt; |\n",
       "|---|---|---|---|---|---|---|---|---|---|---|\n",
       "| 1 | SQL CookBook with SageMathCell | 2020-02-04 | 2020-02-18 |  1 | Page 1    | 1 | 1 | 1 | 2020-02-04 | 2020-02-12 |\n",
       "| 1 | SQL CookBook with SageMathCell | 2020-02-04 | 2020-02-18 |  2 | Page 2    | 1 | 1 | 1 | 2020-02-10 | 2020-02-18 |\n",
       "| 2 | SQL Tests                      | 2020-01-31 | 2020-02-14 |  3 | Test 1    | 1 | 1 | 2 | 2020-01-31 | 2020-02-01 |\n",
       "| 2 | SQL Tests                      | 2020-01-31 | 2020-02-14 |  4 | Test 2    | 1 | 1 | 2 | 2020-02-02 | 2020-02-03 |\n",
       "| 2 | SQL Tests                      | 2020-01-31 | 2020-02-14 |  5 | Test 3    | 1 | 1 | 2 | 2020-02-04 | 2020-02-05 |\n",
       "| 2 | SQL Tests                      | 2020-01-31 | 2020-02-14 |  6 | Test 4    | 1 | 1 | 2 | 2020-02-06 | 2020-02-07 |\n",
       "| 2 | SQL Tests                      | 2020-01-31 | 2020-02-14 |  7 | Test 5    | 1 | 1 | 2 | 2020-02-08 | 2020-02-09 |\n",
       "| 2 | SQL Tests                      | 2020-01-31 | 2020-02-14 |  8 | Test 6    | 1 | 1 | 2 | 2020-02-09 | 2020-02-10 |\n",
       "| 2 | SQL Tests                      | 2020-01-31 | 2020-02-14 |  9 | Test 7    | 1 | 1 | 2 | 2020-02-10 | 2020-02-11 |\n",
       "| 2 | SQL Tests                      | 2020-01-31 | 2020-02-14 | 10 | Dublicate | 1 | 1 | 2 | 2020-02-11 | 2020-02-14 |\n",
       "\n"
      ],
      "text/plain": [
       "   id name                           begin_date end_date   id name     \n",
       "1  1  SQL CookBook with SageMathCell 2020-02-04 2020-02-18  1 Page 1   \n",
       "2  1  SQL CookBook with SageMathCell 2020-02-04 2020-02-18  2 Page 2   \n",
       "3  2  SQL Tests                      2020-01-31 2020-02-14  3 Test 1   \n",
       "4  2  SQL Tests                      2020-01-31 2020-02-14  4 Test 2   \n",
       "5  2  SQL Tests                      2020-01-31 2020-02-14  5 Test 3   \n",
       "6  2  SQL Tests                      2020-01-31 2020-02-14  6 Test 4   \n",
       "7  2  SQL Tests                      2020-01-31 2020-02-14  7 Test 5   \n",
       "8  2  SQL Tests                      2020-01-31 2020-02-14  8 Test 6   \n",
       "9  2  SQL Tests                      2020-01-31 2020-02-14  9 Test 7   \n",
       "10 2  SQL Tests                      2020-01-31 2020-02-14 10 Dublicate\n",
       "   priority status_id project_id begin_date end_date  \n",
       "1  1        1         1          2020-02-04 2020-02-12\n",
       "2  1        1         1          2020-02-10 2020-02-18\n",
       "3  1        1         2          2020-01-31 2020-02-01\n",
       "4  1        1         2          2020-02-02 2020-02-03\n",
       "5  1        1         2          2020-02-04 2020-02-05\n",
       "6  1        1         2          2020-02-06 2020-02-07\n",
       "7  1        1         2          2020-02-08 2020-02-09\n",
       "8  1        1         2          2020-02-09 2020-02-10\n",
       "9  1        1         2          2020-02-10 2020-02-11\n",
       "10 1        1         2          2020-02-11 2020-02-14"
      ]
     },
     "metadata": {},
     "output_type": "display_data"
    }
   ],
   "source": [
    "q<-paste0(\"SELECT * FROM projects,tasks \",\n",
    "          \"WHERE projects.id=tasks.project_id;\")\n",
    "sqldf(q,conn=example)"
   ]
  },
  {
   "cell_type": "code",
   "execution_count": 12,
   "metadata": {
    "_kg_hide-output": true
   },
   "outputs": [
    {
     "data": {
      "text/html": [
       "<table>\n",
       "<caption>A data.frame: 30 × 4</caption>\n",
       "<thead>\n",
       "\t<tr><th scope=col>key1</th><th scope=col>value1</th><th scope=col>key2</th><th scope=col>value2</th></tr>\n",
       "\t<tr><th scope=col>&lt;fct&gt;</th><th scope=col>&lt;int&gt;</th><th scope=col>&lt;fct&gt;</th><th scope=col>&lt;int&gt;</th></tr>\n",
       "</thead>\n",
       "<tbody>\n",
       "\t<tr><td>A</td><td> 2</td><td>B</td><td>4</td></tr>\n",
       "\t<tr><td>A</td><td> 2</td><td>D</td><td>6</td></tr>\n",
       "\t<tr><td>A</td><td> 2</td><td>D</td><td>3</td></tr>\n",
       "\t<tr><td>A</td><td> 2</td><td>E</td><td>8</td></tr>\n",
       "\t<tr><td>A</td><td> 2</td><td>F</td><td>5</td></tr>\n",
       "\t<tr><td>B</td><td> 4</td><td>B</td><td>4</td></tr>\n",
       "\t<tr><td>B</td><td> 4</td><td>D</td><td>6</td></tr>\n",
       "\t<tr><td>B</td><td> 4</td><td>D</td><td>3</td></tr>\n",
       "\t<tr><td>B</td><td> 4</td><td>E</td><td>8</td></tr>\n",
       "\t<tr><td>B</td><td> 4</td><td>F</td><td>5</td></tr>\n",
       "\t<tr><td>C</td><td> 5</td><td>B</td><td>4</td></tr>\n",
       "\t<tr><td>C</td><td> 5</td><td>D</td><td>6</td></tr>\n",
       "\t<tr><td>C</td><td> 5</td><td>D</td><td>3</td></tr>\n",
       "\t<tr><td>C</td><td> 5</td><td>E</td><td>8</td></tr>\n",
       "\t<tr><td>C</td><td> 5</td><td>F</td><td>5</td></tr>\n",
       "\t<tr><td>D</td><td> 6</td><td>B</td><td>4</td></tr>\n",
       "\t<tr><td>D</td><td> 6</td><td>D</td><td>6</td></tr>\n",
       "\t<tr><td>D</td><td> 6</td><td>D</td><td>3</td></tr>\n",
       "\t<tr><td>D</td><td> 6</td><td>E</td><td>8</td></tr>\n",
       "\t<tr><td>D</td><td> 6</td><td>F</td><td>5</td></tr>\n",
       "\t<tr><td>F</td><td> 8</td><td>B</td><td>4</td></tr>\n",
       "\t<tr><td>F</td><td> 8</td><td>D</td><td>6</td></tr>\n",
       "\t<tr><td>F</td><td> 8</td><td>D</td><td>3</td></tr>\n",
       "\t<tr><td>F</td><td> 8</td><td>E</td><td>8</td></tr>\n",
       "\t<tr><td>F</td><td> 8</td><td>F</td><td>5</td></tr>\n",
       "\t<tr><td>F</td><td>10</td><td>B</td><td>4</td></tr>\n",
       "\t<tr><td>F</td><td>10</td><td>D</td><td>6</td></tr>\n",
       "\t<tr><td>F</td><td>10</td><td>D</td><td>3</td></tr>\n",
       "\t<tr><td>F</td><td>10</td><td>E</td><td>8</td></tr>\n",
       "\t<tr><td>F</td><td>10</td><td>F</td><td>5</td></tr>\n",
       "</tbody>\n",
       "</table>\n"
      ],
      "text/latex": [
       "A data.frame: 30 × 4\n",
       "\\begin{tabular}{llll}\n",
       " key1 & value1 & key2 & value2\\\\\n",
       " <fct> & <int> & <fct> & <int>\\\\\n",
       "\\hline\n",
       "\t A &  2 & B & 4\\\\\n",
       "\t A &  2 & D & 6\\\\\n",
       "\t A &  2 & D & 3\\\\\n",
       "\t A &  2 & E & 8\\\\\n",
       "\t A &  2 & F & 5\\\\\n",
       "\t B &  4 & B & 4\\\\\n",
       "\t B &  4 & D & 6\\\\\n",
       "\t B &  4 & D & 3\\\\\n",
       "\t B &  4 & E & 8\\\\\n",
       "\t B &  4 & F & 5\\\\\n",
       "\t C &  5 & B & 4\\\\\n",
       "\t C &  5 & D & 6\\\\\n",
       "\t C &  5 & D & 3\\\\\n",
       "\t C &  5 & E & 8\\\\\n",
       "\t C &  5 & F & 5\\\\\n",
       "\t D &  6 & B & 4\\\\\n",
       "\t D &  6 & D & 6\\\\\n",
       "\t D &  6 & D & 3\\\\\n",
       "\t D &  6 & E & 8\\\\\n",
       "\t D &  6 & F & 5\\\\\n",
       "\t F &  8 & B & 4\\\\\n",
       "\t F &  8 & D & 6\\\\\n",
       "\t F &  8 & D & 3\\\\\n",
       "\t F &  8 & E & 8\\\\\n",
       "\t F &  8 & F & 5\\\\\n",
       "\t F & 10 & B & 4\\\\\n",
       "\t F & 10 & D & 6\\\\\n",
       "\t F & 10 & D & 3\\\\\n",
       "\t F & 10 & E & 8\\\\\n",
       "\t F & 10 & F & 5\\\\\n",
       "\\end{tabular}\n"
      ],
      "text/markdown": [
       "\n",
       "A data.frame: 30 × 4\n",
       "\n",
       "| key1 &lt;fct&gt; | value1 &lt;int&gt; | key2 &lt;fct&gt; | value2 &lt;int&gt; |\n",
       "|---|---|---|---|\n",
       "| A |  2 | B | 4 |\n",
       "| A |  2 | D | 6 |\n",
       "| A |  2 | D | 3 |\n",
       "| A |  2 | E | 8 |\n",
       "| A |  2 | F | 5 |\n",
       "| B |  4 | B | 4 |\n",
       "| B |  4 | D | 6 |\n",
       "| B |  4 | D | 3 |\n",
       "| B |  4 | E | 8 |\n",
       "| B |  4 | F | 5 |\n",
       "| C |  5 | B | 4 |\n",
       "| C |  5 | D | 6 |\n",
       "| C |  5 | D | 3 |\n",
       "| C |  5 | E | 8 |\n",
       "| C |  5 | F | 5 |\n",
       "| D |  6 | B | 4 |\n",
       "| D |  6 | D | 6 |\n",
       "| D |  6 | D | 3 |\n",
       "| D |  6 | E | 8 |\n",
       "| D |  6 | F | 5 |\n",
       "| F |  8 | B | 4 |\n",
       "| F |  8 | D | 6 |\n",
       "| F |  8 | D | 3 |\n",
       "| F |  8 | E | 8 |\n",
       "| F |  8 | F | 5 |\n",
       "| F | 10 | B | 4 |\n",
       "| F | 10 | D | 6 |\n",
       "| F | 10 | D | 3 |\n",
       "| F | 10 | E | 8 |\n",
       "| F | 10 | F | 5 |\n",
       "\n"
      ],
      "text/plain": [
       "   key1 value1 key2 value2\n",
       "1  A     2     B    4     \n",
       "2  A     2     D    6     \n",
       "3  A     2     D    3     \n",
       "4  A     2     E    8     \n",
       "5  A     2     F    5     \n",
       "6  B     4     B    4     \n",
       "7  B     4     D    6     \n",
       "8  B     4     D    3     \n",
       "9  B     4     E    8     \n",
       "10 B     4     F    5     \n",
       "11 C     5     B    4     \n",
       "12 C     5     D    6     \n",
       "13 C     5     D    3     \n",
       "14 C     5     E    8     \n",
       "15 C     5     F    5     \n",
       "16 D     6     B    4     \n",
       "17 D     6     D    6     \n",
       "18 D     6     D    3     \n",
       "19 D     6     E    8     \n",
       "20 D     6     F    5     \n",
       "21 F     8     B    4     \n",
       "22 F     8     D    6     \n",
       "23 F     8     D    3     \n",
       "24 F     8     E    8     \n",
       "25 F     8     F    5     \n",
       "26 F    10     B    4     \n",
       "27 F    10     D    6     \n",
       "28 F    10     D    3     \n",
       "29 F    10     E    8     \n",
       "30 F    10     F    5     "
      ]
     },
     "metadata": {},
     "output_type": "display_data"
    }
   ],
   "source": [
    "q<-\"SELECT * from df1,df2;\"\n",
    "sqldf(q)"
   ]
  },
  {
   "cell_type": "code",
   "execution_count": 13,
   "metadata": {
    "_kg_hide-output": true
   },
   "outputs": [
    {
     "data": {
      "text/html": [
       "<table>\n",
       "<caption>A data.frame: 5 × 4</caption>\n",
       "<thead>\n",
       "\t<tr><th scope=col>key1</th><th scope=col>value1</th><th scope=col>key2</th><th scope=col>value2</th></tr>\n",
       "\t<tr><th scope=col>&lt;fct&gt;</th><th scope=col>&lt;int&gt;</th><th scope=col>&lt;fct&gt;</th><th scope=col>&lt;int&gt;</th></tr>\n",
       "</thead>\n",
       "<tbody>\n",
       "\t<tr><td>F</td><td> 8</td><td>F</td><td>5</td></tr>\n",
       "\t<tr><td>F</td><td>10</td><td>F</td><td>5</td></tr>\n",
       "\t<tr><td>D</td><td> 6</td><td>D</td><td>3</td></tr>\n",
       "\t<tr><td>D</td><td> 6</td><td>D</td><td>6</td></tr>\n",
       "\t<tr><td>B</td><td> 4</td><td>B</td><td>4</td></tr>\n",
       "</tbody>\n",
       "</table>\n"
      ],
      "text/latex": [
       "A data.frame: 5 × 4\n",
       "\\begin{tabular}{llll}\n",
       " key1 & value1 & key2 & value2\\\\\n",
       " <fct> & <int> & <fct> & <int>\\\\\n",
       "\\hline\n",
       "\t F &  8 & F & 5\\\\\n",
       "\t F & 10 & F & 5\\\\\n",
       "\t D &  6 & D & 3\\\\\n",
       "\t D &  6 & D & 6\\\\\n",
       "\t B &  4 & B & 4\\\\\n",
       "\\end{tabular}\n"
      ],
      "text/markdown": [
       "\n",
       "A data.frame: 5 × 4\n",
       "\n",
       "| key1 &lt;fct&gt; | value1 &lt;int&gt; | key2 &lt;fct&gt; | value2 &lt;int&gt; |\n",
       "|---|---|---|---|\n",
       "| F |  8 | F | 5 |\n",
       "| F | 10 | F | 5 |\n",
       "| D |  6 | D | 3 |\n",
       "| D |  6 | D | 6 |\n",
       "| B |  4 | B | 4 |\n",
       "\n"
      ],
      "text/plain": [
       "  key1 value1 key2 value2\n",
       "1 F     8     F    5     \n",
       "2 F    10     F    5     \n",
       "3 D     6     D    3     \n",
       "4 D     6     D    6     \n",
       "5 B     4     B    4     "
      ]
     },
     "metadata": {},
     "output_type": "display_data"
    }
   ],
   "source": [
    "q<-c(\"SELECT * from df1,df2 \",\n",
    "     \"WHERE df1.key1=df2.key2 AND df1.value1>2 \",\n",
    "     \"ORDER BY key1 DESC;\")\n",
    "q<-do.call(paste,c(as.list(q),sep=\"\"))\n",
    "sqldf(q)"
   ]
  },
  {
   "cell_type": "code",
   "execution_count": 14,
   "metadata": {
    "_kg_hide-output": true
   },
   "outputs": [
    {
     "data": {
      "text/html": [
       "<table>\n",
       "<caption>A data.frame: 7 × 4</caption>\n",
       "<thead>\n",
       "\t<tr><th scope=col>total_bill</th><th scope=col>tip</th><th scope=col>smoker</th><th scope=col>time</th></tr>\n",
       "\t<tr><th scope=col>&lt;dbl&gt;</th><th scope=col>&lt;dbl&gt;</th><th scope=col>&lt;fct&gt;</th><th scope=col>&lt;fct&gt;</th></tr>\n",
       "</thead>\n",
       "<tbody>\n",
       "\t<tr><td>16.99</td><td>1.01</td><td>No</td><td>Dinner</td></tr>\n",
       "\t<tr><td>10.34</td><td>1.66</td><td>No</td><td>Dinner</td></tr>\n",
       "\t<tr><td>21.01</td><td>3.50</td><td>No</td><td>Dinner</td></tr>\n",
       "\t<tr><td>23.68</td><td>3.31</td><td>No</td><td>Dinner</td></tr>\n",
       "\t<tr><td>24.59</td><td>3.61</td><td>No</td><td>Dinner</td></tr>\n",
       "\t<tr><td>25.29</td><td>4.71</td><td>No</td><td>Dinner</td></tr>\n",
       "\t<tr><td> 8.77</td><td>2.00</td><td>No</td><td>Dinner</td></tr>\n",
       "</tbody>\n",
       "</table>\n"
      ],
      "text/latex": [
       "A data.frame: 7 × 4\n",
       "\\begin{tabular}{llll}\n",
       " total\\_bill & tip & smoker & time\\\\\n",
       " <dbl> & <dbl> & <fct> & <fct>\\\\\n",
       "\\hline\n",
       "\t 16.99 & 1.01 & No & Dinner\\\\\n",
       "\t 10.34 & 1.66 & No & Dinner\\\\\n",
       "\t 21.01 & 3.50 & No & Dinner\\\\\n",
       "\t 23.68 & 3.31 & No & Dinner\\\\\n",
       "\t 24.59 & 3.61 & No & Dinner\\\\\n",
       "\t 25.29 & 4.71 & No & Dinner\\\\\n",
       "\t  8.77 & 2.00 & No & Dinner\\\\\n",
       "\\end{tabular}\n"
      ],
      "text/markdown": [
       "\n",
       "A data.frame: 7 × 4\n",
       "\n",
       "| total_bill &lt;dbl&gt; | tip &lt;dbl&gt; | smoker &lt;fct&gt; | time &lt;fct&gt; |\n",
       "|---|---|---|---|\n",
       "| 16.99 | 1.01 | No | Dinner |\n",
       "| 10.34 | 1.66 | No | Dinner |\n",
       "| 21.01 | 3.50 | No | Dinner |\n",
       "| 23.68 | 3.31 | No | Dinner |\n",
       "| 24.59 | 3.61 | No | Dinner |\n",
       "| 25.29 | 4.71 | No | Dinner |\n",
       "|  8.77 | 2.00 | No | Dinner |\n",
       "\n"
      ],
      "text/plain": [
       "  total_bill tip  smoker time  \n",
       "1 16.99      1.01 No     Dinner\n",
       "2 10.34      1.66 No     Dinner\n",
       "3 21.01      3.50 No     Dinner\n",
       "4 23.68      3.31 No     Dinner\n",
       "5 24.59      3.61 No     Dinner\n",
       "6 25.29      4.71 No     Dinner\n",
       "7  8.77      2.00 No     Dinner"
      ]
     },
     "metadata": {},
     "output_type": "display_data"
    }
   ],
   "source": [
    "q<-paste0(\"SELECT total_bill,tip,smoker,time \",\n",
    "          \"FROM tips LIMIT 7;\")\n",
    "sqldf(q)"
   ]
  },
  {
   "cell_type": "code",
   "execution_count": 15,
   "metadata": {
    "_kg_hide-output": true
   },
   "outputs": [
    {
     "data": {
      "text/html": [
       "<table>\n",
       "<caption>A data.frame: 3 × 7</caption>\n",
       "<thead>\n",
       "\t<tr><th scope=col>total_bill</th><th scope=col>tip</th><th scope=col>sex</th><th scope=col>smoker</th><th scope=col>day</th><th scope=col>time</th><th scope=col>size</th></tr>\n",
       "\t<tr><th scope=col>&lt;dbl&gt;</th><th scope=col>&lt;dbl&gt;</th><th scope=col>&lt;fct&gt;</th><th scope=col>&lt;fct&gt;</th><th scope=col>&lt;fct&gt;</th><th scope=col>&lt;fct&gt;</th><th scope=col>&lt;int&gt;</th></tr>\n",
       "</thead>\n",
       "<tbody>\n",
       "\t<tr><td>16.99</td><td>1.01</td><td>Female</td><td>No</td><td>Sun</td><td>Dinner</td><td>2</td></tr>\n",
       "\t<tr><td>10.34</td><td>1.66</td><td>Male  </td><td>No</td><td>Sun</td><td>Dinner</td><td>3</td></tr>\n",
       "\t<tr><td>21.01</td><td>3.50</td><td>Male  </td><td>No</td><td>Sun</td><td>Dinner</td><td>3</td></tr>\n",
       "</tbody>\n",
       "</table>\n"
      ],
      "text/latex": [
       "A data.frame: 3 × 7\n",
       "\\begin{tabular}{lllllll}\n",
       " total\\_bill & tip & sex & smoker & day & time & size\\\\\n",
       " <dbl> & <dbl> & <fct> & <fct> & <fct> & <fct> & <int>\\\\\n",
       "\\hline\n",
       "\t 16.99 & 1.01 & Female & No & Sun & Dinner & 2\\\\\n",
       "\t 10.34 & 1.66 & Male   & No & Sun & Dinner & 3\\\\\n",
       "\t 21.01 & 3.50 & Male   & No & Sun & Dinner & 3\\\\\n",
       "\\end{tabular}\n"
      ],
      "text/markdown": [
       "\n",
       "A data.frame: 3 × 7\n",
       "\n",
       "| total_bill &lt;dbl&gt; | tip &lt;dbl&gt; | sex &lt;fct&gt; | smoker &lt;fct&gt; | day &lt;fct&gt; | time &lt;fct&gt; | size &lt;int&gt; |\n",
       "|---|---|---|---|---|---|---|\n",
       "| 16.99 | 1.01 | Female | No | Sun | Dinner | 2 |\n",
       "| 10.34 | 1.66 | Male   | No | Sun | Dinner | 3 |\n",
       "| 21.01 | 3.50 | Male   | No | Sun | Dinner | 3 |\n",
       "\n"
      ],
      "text/plain": [
       "  total_bill tip  sex    smoker day time   size\n",
       "1 16.99      1.01 Female No     Sun Dinner 2   \n",
       "2 10.34      1.66 Male   No     Sun Dinner 3   \n",
       "3 21.01      3.50 Male   No     Sun Dinner 3   "
      ]
     },
     "metadata": {},
     "output_type": "display_data"
    }
   ],
   "source": [
    "q<-paste0(\"SELECT * FROM tips \",\n",
    "          \"WHERE time='Dinner' LIMIT 3;\")\n",
    "sqldf(q)"
   ]
  },
  {
   "cell_type": "code",
   "execution_count": 16,
   "metadata": {
    "_kg_hide-output": false
   },
   "outputs": [
    {
     "data": {
      "text/html": [
       "<table>\n",
       "<caption>A data.frame: 4 × 2</caption>\n",
       "<thead>\n",
       "\t<tr><th scope=col>COUNT(LocationCode)</th><th scope=col>TrustRating</th></tr>\n",
       "\t<tr><th scope=col>&lt;int&gt;</th><th scope=col>&lt;fct&gt;</th></tr>\n",
       "</thead>\n",
       "<tbody>\n",
       "\t<tr><td>208</td><td>Approaching Target</td></tr>\n",
       "\t<tr><td>364</td><td>Exceeding Target  </td></tr>\n",
       "\t<tr><td>669</td><td>Meeting Target    </td></tr>\n",
       "\t<tr><td> 31</td><td>Not Meeting Target</td></tr>\n",
       "</tbody>\n",
       "</table>\n"
      ],
      "text/latex": [
       "A data.frame: 4 × 2\n",
       "\\begin{tabular}{ll}\n",
       " COUNT(LocationCode) & TrustRating\\\\\n",
       " <int> & <fct>\\\\\n",
       "\\hline\n",
       "\t 208 & Approaching Target\\\\\n",
       "\t 364 & Exceeding Target  \\\\\n",
       "\t 669 & Meeting Target    \\\\\n",
       "\t  31 & Not Meeting Target\\\\\n",
       "\\end{tabular}\n"
      ],
      "text/markdown": [
       "\n",
       "A data.frame: 4 × 2\n",
       "\n",
       "| COUNT(LocationCode) &lt;int&gt; | TrustRating &lt;fct&gt; |\n",
       "|---|---|\n",
       "| 208 | Approaching Target |\n",
       "| 364 | Exceeding Target   |\n",
       "| 669 | Meeting Target     |\n",
       "|  31 | Not Meeting Target |\n",
       "\n"
      ],
      "text/plain": [
       "  COUNT(LocationCode) TrustRating       \n",
       "1 208                 Approaching Target\n",
       "2 364                 Exceeding Target  \n",
       "3 669                 Meeting Target    \n",
       "4  31                 Not Meeting Target"
      ]
     },
     "metadata": {},
     "output_type": "display_data"
    }
   ],
   "source": [
    "q<-paste0(\"SELECT COUNT(LocationCode),TrustRating \",\n",
    "          \"FROM school_explorer GROUP BY TrustRating;\")\n",
    "sqldf(q)"
   ]
  },
  {
   "cell_type": "code",
   "execution_count": 17,
   "metadata": {
    "_kg_hide-output": true
   },
   "outputs": [
    {
     "data": {
      "text/html": [
       "<table>\n",
       "<caption>A data.frame: 9 × 6</caption>\n",
       "<thead>\n",
       "\t<tr><th scope=col>cid</th><th scope=col>name</th><th scope=col>type</th><th scope=col>notnull</th><th scope=col>dflt_value</th><th scope=col>pk</th></tr>\n",
       "\t<tr><th scope=col>&lt;int&gt;</th><th scope=col>&lt;chr&gt;</th><th scope=col>&lt;chr&gt;</th><th scope=col>&lt;int&gt;</th><th scope=col>&lt;lgl&gt;</th><th scope=col>&lt;int&gt;</th></tr>\n",
       "</thead>\n",
       "<tbody>\n",
       "\t<tr><td>0</td><td>Year            </td><td>INTEGER</td><td>0</td><td>NA</td><td>0</td></tr>\n",
       "\t<tr><td>1</td><td>Player          </td><td>TEXT   </td><td>0</td><td>NA</td><td>0</td></tr>\n",
       "\t<tr><td>2</td><td>Pos             </td><td>TEXT   </td><td>0</td><td>NA</td><td>0</td></tr>\n",
       "\t<tr><td>3</td><td>HT              </td><td>TEXT   </td><td>0</td><td>NA</td><td>0</td></tr>\n",
       "\t<tr><td>4</td><td>WT              </td><td>INTEGER</td><td>0</td><td>NA</td><td>0</td></tr>\n",
       "\t<tr><td>5</td><td>Team            </td><td>TEXT   </td><td>0</td><td>NA</td><td>0</td></tr>\n",
       "\t<tr><td>6</td><td>Selection.Type  </td><td>TEXT   </td><td>0</td><td>NA</td><td>0</td></tr>\n",
       "\t<tr><td>7</td><td>NBA.Draft.Status</td><td>TEXT   </td><td>0</td><td>NA</td><td>0</td></tr>\n",
       "\t<tr><td>8</td><td>Nationality     </td><td>TEXT   </td><td>0</td><td>NA</td><td>0</td></tr>\n",
       "</tbody>\n",
       "</table>\n"
      ],
      "text/latex": [
       "A data.frame: 9 × 6\n",
       "\\begin{tabular}{llllll}\n",
       " cid & name & type & notnull & dflt\\_value & pk\\\\\n",
       " <int> & <chr> & <chr> & <int> & <lgl> & <int>\\\\\n",
       "\\hline\n",
       "\t 0 & Year             & INTEGER & 0 & NA & 0\\\\\n",
       "\t 1 & Player           & TEXT    & 0 & NA & 0\\\\\n",
       "\t 2 & Pos              & TEXT    & 0 & NA & 0\\\\\n",
       "\t 3 & HT               & TEXT    & 0 & NA & 0\\\\\n",
       "\t 4 & WT               & INTEGER & 0 & NA & 0\\\\\n",
       "\t 5 & Team             & TEXT    & 0 & NA & 0\\\\\n",
       "\t 6 & Selection.Type   & TEXT    & 0 & NA & 0\\\\\n",
       "\t 7 & NBA.Draft.Status & TEXT    & 0 & NA & 0\\\\\n",
       "\t 8 & Nationality      & TEXT    & 0 & NA & 0\\\\\n",
       "\\end{tabular}\n"
      ],
      "text/markdown": [
       "\n",
       "A data.frame: 9 × 6\n",
       "\n",
       "| cid &lt;int&gt; | name &lt;chr&gt; | type &lt;chr&gt; | notnull &lt;int&gt; | dflt_value &lt;lgl&gt; | pk &lt;int&gt; |\n",
       "|---|---|---|---|---|---|\n",
       "| 0 | Year             | INTEGER | 0 | NA | 0 |\n",
       "| 1 | Player           | TEXT    | 0 | NA | 0 |\n",
       "| 2 | Pos              | TEXT    | 0 | NA | 0 |\n",
       "| 3 | HT               | TEXT    | 0 | NA | 0 |\n",
       "| 4 | WT               | INTEGER | 0 | NA | 0 |\n",
       "| 5 | Team             | TEXT    | 0 | NA | 0 |\n",
       "| 6 | Selection.Type   | TEXT    | 0 | NA | 0 |\n",
       "| 7 | NBA.Draft.Status | TEXT    | 0 | NA | 0 |\n",
       "| 8 | Nationality      | TEXT    | 0 | NA | 0 |\n",
       "\n"
      ],
      "text/plain": [
       "  cid name             type    notnull dflt_value pk\n",
       "1 0   Year             INTEGER 0       NA         0 \n",
       "2 1   Player           TEXT    0       NA         0 \n",
       "3 2   Pos              TEXT    0       NA         0 \n",
       "4 3   HT               TEXT    0       NA         0 \n",
       "5 4   WT               INTEGER 0       NA         0 \n",
       "6 5   Team             TEXT    0       NA         0 \n",
       "7 6   Selection.Type   TEXT    0       NA         0 \n",
       "8 7   NBA.Draft.Status TEXT    0       NA         0 \n",
       "9 8   Nationality      TEXT    0       NA         0 "
      ]
     },
     "metadata": {},
     "output_type": "display_data"
    }
   ],
   "source": [
    "q<-\"PRAGMA table_info('nba');\"\n",
    "sqldf(q)"
   ]
  },
  {
   "cell_type": "code",
   "execution_count": 18,
   "metadata": {
    "_kg_hide-output": true
   },
   "outputs": [
    {
     "data": {
      "text/html": [
       "<table>\n",
       "<caption>A data.frame: 18 × 1</caption>\n",
       "<thead>\n",
       "\t<tr><th scope=col>Team</th></tr>\n",
       "\t<tr><th scope=col>&lt;fct&gt;</th></tr>\n",
       "</thead>\n",
       "<tbody>\n",
       "\t<tr><td>Cleveland Cavaliers   </td></tr>\n",
       "\t<tr><td>Washington Wizards    </td></tr>\n",
       "\t<tr><td>Toronto Raptors       </td></tr>\n",
       "\t<tr><td>Chicago Bulls         </td></tr>\n",
       "\t<tr><td>New York Knicks       </td></tr>\n",
       "\t<tr><td>Atlanta Hawks         </td></tr>\n",
       "\t<tr><td>Miami Heat            </td></tr>\n",
       "\t<tr><td>Golden State Warriors </td></tr>\n",
       "\t<tr><td>Los Angeles Lakers    </td></tr>\n",
       "\t<tr><td>New Orleans Pelicans  </td></tr>\n",
       "\t<tr><td>Memphis Grizzlies     </td></tr>\n",
       "\t<tr><td>Los Angeles Clippers  </td></tr>\n",
       "\t<tr><td>Houston Rockets       </td></tr>\n",
       "\t<tr><td>Portland Trail Blazers</td></tr>\n",
       "\t<tr><td>Oklahoma City Thunder </td></tr>\n",
       "\t<tr><td>San Antonio Spurs     </td></tr>\n",
       "\t<tr><td>Sacramento Kings      </td></tr>\n",
       "\t<tr><td>Dallas Mavericks      </td></tr>\n",
       "</tbody>\n",
       "</table>\n"
      ],
      "text/latex": [
       "A data.frame: 18 × 1\n",
       "\\begin{tabular}{l}\n",
       " Team\\\\\n",
       " <fct>\\\\\n",
       "\\hline\n",
       "\t Cleveland Cavaliers   \\\\\n",
       "\t Washington Wizards    \\\\\n",
       "\t Toronto Raptors       \\\\\n",
       "\t Chicago Bulls         \\\\\n",
       "\t New York Knicks       \\\\\n",
       "\t Atlanta Hawks         \\\\\n",
       "\t Miami Heat            \\\\\n",
       "\t Golden State Warriors \\\\\n",
       "\t Los Angeles Lakers    \\\\\n",
       "\t New Orleans Pelicans  \\\\\n",
       "\t Memphis Grizzlies     \\\\\n",
       "\t Los Angeles Clippers  \\\\\n",
       "\t Houston Rockets       \\\\\n",
       "\t Portland Trail Blazers\\\\\n",
       "\t Oklahoma City Thunder \\\\\n",
       "\t San Antonio Spurs     \\\\\n",
       "\t Sacramento Kings      \\\\\n",
       "\t Dallas Mavericks      \\\\\n",
       "\\end{tabular}\n"
      ],
      "text/markdown": [
       "\n",
       "A data.frame: 18 × 1\n",
       "\n",
       "| Team &lt;fct&gt; |\n",
       "|---|\n",
       "| Cleveland Cavaliers    |\n",
       "| Washington Wizards     |\n",
       "| Toronto Raptors        |\n",
       "| Chicago Bulls          |\n",
       "| New York Knicks        |\n",
       "| Atlanta Hawks          |\n",
       "| Miami Heat             |\n",
       "| Golden State Warriors  |\n",
       "| Los Angeles Lakers     |\n",
       "| New Orleans Pelicans   |\n",
       "| Memphis Grizzlies      |\n",
       "| Los Angeles Clippers   |\n",
       "| Houston Rockets        |\n",
       "| Portland Trail Blazers |\n",
       "| Oklahoma City Thunder  |\n",
       "| San Antonio Spurs      |\n",
       "| Sacramento Kings       |\n",
       "| Dallas Mavericks       |\n",
       "\n"
      ],
      "text/plain": [
       "   Team                  \n",
       "1  Cleveland Cavaliers   \n",
       "2  Washington Wizards    \n",
       "3  Toronto Raptors       \n",
       "4  Chicago Bulls         \n",
       "5  New York Knicks       \n",
       "6  Atlanta Hawks         \n",
       "7  Miami Heat            \n",
       "8  Golden State Warriors \n",
       "9  Los Angeles Lakers    \n",
       "10 New Orleans Pelicans  \n",
       "11 Memphis Grizzlies     \n",
       "12 Los Angeles Clippers  \n",
       "13 Houston Rockets       \n",
       "14 Portland Trail Blazers\n",
       "15 Oklahoma City Thunder \n",
       "16 San Antonio Spurs     \n",
       "17 Sacramento Kings      \n",
       "18 Dallas Mavericks      "
      ]
     },
     "metadata": {},
     "output_type": "display_data"
    }
   ],
   "source": [
    "q<-\"SELECT DISTINCT Team FROM nba WHERE Year=2014;\"\n",
    "sqldf(q)"
   ]
  },
  {
   "cell_type": "markdown",
   "metadata": {},
   "source": [
    "## 📑 Closing the Connection"
   ]
  },
  {
   "cell_type": "code",
   "execution_count": 19,
   "metadata": {
    "_kg_hide-output": true
   },
   "outputs": [
    {
     "data": {
      "text/html": [
       "<table>\n",
       "<caption>A data.frame: 2 × 5</caption>\n",
       "<thead>\n",
       "\t<tr><th scope=col>type</th><th scope=col>name</th><th scope=col>tbl_name</th><th scope=col>rootpage</th><th scope=col>sql</th></tr>\n",
       "\t<tr><th scope=col>&lt;chr&gt;</th><th scope=col>&lt;chr&gt;</th><th scope=col>&lt;chr&gt;</th><th scope=col>&lt;int&gt;</th><th scope=col>&lt;chr&gt;</th></tr>\n",
       "</thead>\n",
       "<tbody>\n",
       "\t<tr><td>table</td><td>projects</td><td>projects</td><td>2</td><td>CREATE TABLE projects (id integer PRIMARY KEY, name text NOT NULL,  begin_date text,  end_date text)                                                                                                                                            </td></tr>\n",
       "\t<tr><td>table</td><td>tasks   </td><td>tasks   </td><td>3</td><td>CREATE TABLE tasks ( id integer PRIMARY KEY, name text NOT NULL, priority integer, status_id integer NOT NULL, project_id integer NOT NULL, begin_date text NOT NULL, end_date text NOT NULL, FOREIGN KEY (project_id) REFERENCES projects (id))</td></tr>\n",
       "</tbody>\n",
       "</table>\n"
      ],
      "text/latex": [
       "A data.frame: 2 × 5\n",
       "\\begin{tabular}{lllll}\n",
       " type & name & tbl\\_name & rootpage & sql\\\\\n",
       " <chr> & <chr> & <chr> & <int> & <chr>\\\\\n",
       "\\hline\n",
       "\t table & projects & projects & 2 & CREATE TABLE projects (id integer PRIMARY KEY, name text NOT NULL,  begin\\_date text,  end\\_date text)                                                                                                                                            \\\\\n",
       "\t table & tasks    & tasks    & 3 & CREATE TABLE tasks ( id integer PRIMARY KEY, name text NOT NULL, priority integer, status\\_id integer NOT NULL, project\\_id integer NOT NULL, begin\\_date text NOT NULL, end\\_date text NOT NULL, FOREIGN KEY (project\\_id) REFERENCES projects (id))\\\\\n",
       "\\end{tabular}\n"
      ],
      "text/markdown": [
       "\n",
       "A data.frame: 2 × 5\n",
       "\n",
       "| type &lt;chr&gt; | name &lt;chr&gt; | tbl_name &lt;chr&gt; | rootpage &lt;int&gt; | sql &lt;chr&gt; |\n",
       "|---|---|---|---|---|\n",
       "| table | projects | projects | 2 | CREATE TABLE projects (id integer PRIMARY KEY, name text NOT NULL,  begin_date text,  end_date text)                                                                                                                                             |\n",
       "| table | tasks    | tasks    | 3 | CREATE TABLE tasks ( id integer PRIMARY KEY, name text NOT NULL, priority integer, status_id integer NOT NULL, project_id integer NOT NULL, begin_date text NOT NULL, end_date text NOT NULL, FOREIGN KEY (project_id) REFERENCES projects (id)) |\n",
       "\n"
      ],
      "text/plain": [
       "  type  name     tbl_name rootpage\n",
       "1 table projects projects 2       \n",
       "2 table tasks    tasks    3       \n",
       "  sql                                                                                                                                                                                                                                             \n",
       "1 CREATE TABLE projects (id integer PRIMARY KEY, name text NOT NULL,  begin_date text,  end_date text)                                                                                                                                            \n",
       "2 CREATE TABLE tasks ( id integer PRIMARY KEY, name text NOT NULL, priority integer, status_id integer NOT NULL, project_id integer NOT NULL, begin_date text NOT NULL, end_date text NOT NULL, FOREIGN KEY (project_id) REFERENCES projects (id))"
      ]
     },
     "metadata": {},
     "output_type": "display_data"
    }
   ],
   "source": [
    "sqldf(\"SELECT * from sqlite_master;\",\n",
    "       conn=example)"
   ]
  },
  {
   "cell_type": "code",
   "execution_count": 20,
   "metadata": {},
   "outputs": [
    {
     "data": {
      "text/html": [
       "TRUE"
      ],
      "text/latex": [
       "TRUE"
      ],
      "text/markdown": [
       "TRUE"
      ],
      "text/plain": [
       "[1] TRUE"
      ]
     },
     "metadata": {},
     "output_type": "display_data"
    }
   ],
   "source": [
    "dbDisconnect(example)\n",
    "dbUnloadDriver(sqlite)\n",
    "file.remove(\"example.db\")"
   ]
  }
 ],
 "metadata": {
  "kernelspec": {
   "display_name": "R",
   "language": "R",
   "name": "ir"
  },
  "language_info": {
   "codemirror_mode": "r",
   "file_extension": ".r",
   "mimetype": "text/x-r-source",
   "name": "R",
   "pygments_lexer": "r",
   "version": "3.6.3"
  }
 },
 "nbformat": 4,
 "nbformat_minor": 4
}
