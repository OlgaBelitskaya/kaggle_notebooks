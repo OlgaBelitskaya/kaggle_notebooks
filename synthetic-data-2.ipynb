{
 "cells": [
  {
   "cell_type": "code",
   "execution_count": 1,
   "metadata": {
    "_kg_hide-input": true,
    "execution": {
     "iopub.execute_input": "2020-08-07T14:50:14.820496Z",
     "iopub.status.busy": "2020-08-07T14:50:14.819307Z",
     "iopub.status.idle": "2020-08-07T14:50:14.823335Z",
     "shell.execute_reply": "2020-08-07T14:50:14.822484Z"
    },
    "papermill": {
     "duration": 0.027311,
     "end_time": "2020-08-07T14:50:14.823500",
     "exception": false,
     "start_time": "2020-08-07T14:50:14.796189",
     "status": "completed"
    },
    "tags": []
   },
   "outputs": [],
   "source": [
    "from IPython.display import display,HTML\n",
    "def dhtml(str):\n",
    "    display(HTML(\"\"\"<style>\n",
    "    @import 'https://fonts.googleapis.com/css?family=Smokum&effect=3d';      \n",
    "    </style><h1 class='font-effect-3d' \n",
    "    style='font-family:Smokum; color:#ff33aa; font-size:35px;'>\n",
    "    %s</h1>\"\"\"%str))"
   ]
  },
  {
   "cell_type": "code",
   "execution_count": 2,
   "metadata": {
    "execution": {
     "iopub.execute_input": "2020-08-07T14:50:14.859561Z",
     "iopub.status.busy": "2020-08-07T14:50:14.858336Z",
     "iopub.status.idle": "2020-08-07T14:50:14.863751Z",
     "shell.execute_reply": "2020-08-07T14:50:14.862998Z"
    },
    "papermill": {
     "duration": 0.026415,
     "end_time": "2020-08-07T14:50:14.863903",
     "exception": false,
     "start_time": "2020-08-07T14:50:14.837488",
     "status": "completed"
    },
    "tags": []
   },
   "outputs": [
    {
     "data": {
      "text/html": [
       "<style>\n",
       "    @import 'https://fonts.googleapis.com/css?family=Smokum&effect=3d';      \n",
       "    </style><h1 class='font-effect-3d' \n",
       "    style='font-family:Smokum; color:#ff33aa; font-size:35px;'>\n",
       "    Code Modules & Settings</h1>"
      ],
      "text/plain": [
       "<IPython.core.display.HTML object>"
      ]
     },
     "metadata": {},
     "output_type": "display_data"
    }
   ],
   "source": [
    "dhtml('Code Modules & Settings')"
   ]
  },
  {
   "cell_type": "code",
   "execution_count": 3,
   "metadata": {
    "_cell_guid": "b1076dfc-b9ad-4769-8c92-a6c4dae69d19",
    "_uuid": "8f2839f25d086af736a60e9eeb907d3b93b6e0e5",
    "execution": {
     "iopub.execute_input": "2020-08-07T14:50:14.902881Z",
     "iopub.status.busy": "2020-08-07T14:50:14.901868Z",
     "iopub.status.idle": "2020-08-07T14:50:23.452135Z",
     "shell.execute_reply": "2020-08-07T14:50:23.452738Z"
    },
    "papermill": {
     "duration": 8.574253,
     "end_time": "2020-08-07T14:50:23.452934",
     "exception": false,
     "start_time": "2020-08-07T14:50:14.878681",
     "status": "completed"
    },
    "tags": []
   },
   "outputs": [],
   "source": [
    "import os,numpy as np,pandas as pd\n",
    "import pylab as pl,seaborn as sn,tensorflow as tf\n",
    "from tensorflow.keras.datasets import cifar10\n",
    "from tensorflow.keras.preprocessing import image as kimg\n",
    "from tqdm import tqdm\n",
    "from tensorflow.keras.models import Sequential\n",
    "from tensorflow.keras import layers as tkl\n",
    "from tensorflow.keras import callbacks as tkc\n",
    "from PIL import ImageFile\n",
    "ImageFile.LOAD_TRUNCATED_IMAGES=True"
   ]
  },
  {
   "cell_type": "code",
   "execution_count": 4,
   "metadata": {
    "_kg_hide-input": true,
    "execution": {
     "iopub.execute_input": "2020-08-07T14:50:23.488448Z",
     "iopub.status.busy": "2020-08-07T14:50:23.487615Z",
     "iopub.status.idle": "2020-08-07T14:50:23.493719Z",
     "shell.execute_reply": "2020-08-07T14:50:23.492875Z"
    },
    "papermill": {
     "duration": 0.026407,
     "end_time": "2020-08-07T14:50:23.493880",
     "exception": false,
     "start_time": "2020-08-07T14:50:23.467473",
     "status": "completed"
    },
    "tags": []
   },
   "outputs": [
    {
     "data": {
      "text/html": [
       "<style>\n",
       "    @import 'https://fonts.googleapis.com/css?family=Smokum&effect=3d';      \n",
       "    </style><h1 class='font-effect-3d' \n",
       "    style='font-family:Smokum; color:#ff33aa; font-size:35px;'>\n",
       "    Mixed Data</h1>"
      ],
      "text/plain": [
       "<IPython.core.display.HTML object>"
      ]
     },
     "metadata": {},
     "output_type": "display_data"
    }
   ],
   "source": [
    "dhtml('Mixed Data')"
   ]
  },
  {
   "cell_type": "code",
   "execution_count": 5,
   "metadata": {
    "_cell_guid": "79c7e3d0-c299-4dcb-8224-4455121ee9b0",
    "_uuid": "d629ff2d2480ee46fbb7e2d37f6b5fab8052498a",
    "execution": {
     "iopub.execute_input": "2020-08-07T14:50:23.534598Z",
     "iopub.status.busy": "2020-08-07T14:50:23.533684Z",
     "iopub.status.idle": "2020-08-07T14:50:29.393333Z",
     "shell.execute_reply": "2020-08-07T14:50:29.392514Z"
    },
    "papermill": {
     "duration": 5.884218,
     "end_time": "2020-08-07T14:50:29.393480",
     "exception": false,
     "start_time": "2020-08-07T14:50:23.509262",
     "status": "completed"
    },
    "tags": []
   },
   "outputs": [
    {
     "name": "stdout",
     "output_type": "stream",
     "text": [
      "Downloading data from https://www.cs.toronto.edu/~kriz/cifar-10-python.tar.gz\n",
      "170500096/170498071 [==============================] - 2s 0us/step\n"
     ]
    }
   ],
   "source": [
    "n1=1000\n",
    "classes=['plane','car','bird','cat','deer',\n",
    "         'dog','frog','horse','ship','truck']\n",
    "(x,y),(_,_)=cifar10.load_data()\n",
    "x=np.array(x,dtype='float32')/255\n",
    "y=y.reshape(-1)\n",
    "N=len(y); n=int(.1*N)\n",
    "shuffle_ids=np.arange(N)\n",
    "np.random.RandomState(23).shuffle(shuffle_ids)\n",
    "shuffle_ids=shuffle_ids[:n1]\n",
    "x,y=x[shuffle_ids],y[shuffle_ids]"
   ]
  },
  {
   "cell_type": "code",
   "execution_count": 6,
   "metadata": {
    "execution": {
     "iopub.execute_input": "2020-08-07T14:50:29.469391Z",
     "iopub.status.busy": "2020-08-07T14:50:29.468602Z",
     "iopub.status.idle": "2020-08-07T14:50:29.570295Z",
     "shell.execute_reply": "2020-08-07T14:50:29.569444Z"
    },
    "papermill": {
     "duration": 0.144166,
     "end_time": "2020-08-07T14:50:29.570432",
     "exception": false,
     "start_time": "2020-08-07T14:50:29.426266",
     "status": "completed"
    },
    "tags": []
   },
   "outputs": [
    {
     "name": "stdout",
     "output_type": "stream",
     "text": [
      "[(1000, 32, 32, 3), dtype('float32'), (1000,), dtype('uint8')]\n",
      "Label:  horse\n"
     ]
    },
    {
     "data": {
      "image/png": "[encoded data removed]",
      "text/plain": [
       "<Figure size 72x72 with 1 Axes>"
      ]
     },
     "metadata": {},
     "output_type": "display_data"
    }
   ],
   "source": [
    "print([x.shape,x.dtype,y.shape,y.dtype])\n",
    "print('Label: ',classes[y[1]])\n",
    "pl.figure(figsize=(1,1))\n",
    "pl.xticks([]); pl.yticks([])\n",
    "pl.imshow(x[1]);"
   ]
  },
  {
   "cell_type": "code",
   "execution_count": 7,
   "metadata": {
    "execution": {
     "iopub.execute_input": "2020-08-07T14:50:29.650520Z",
     "iopub.status.busy": "2020-08-07T14:50:29.649690Z",
     "iopub.status.idle": "2020-08-07T14:50:32.817939Z",
     "shell.execute_reply": "2020-08-07T14:50:32.817219Z"
    },
    "papermill": {
     "duration": 3.211883,
     "end_time": "2020-08-07T14:50:32.818073",
     "exception": false,
     "start_time": "2020-08-07T14:50:29.606190",
     "status": "completed"
    },
    "tags": []
   },
   "outputs": [
    {
     "name": "stderr",
     "output_type": "stream",
     "text": [
      "100%|██████████| 1536/1536 [00:03<00:00, 500.77it/s]\n"
     ]
    }
   ],
   "source": [
    "img_size=32\n",
    "manners=['pictogram','contour','sketch']\n",
    "objects=['flower','bird','butterfly','tree',\n",
    "         'plane','crane','dog','horse','deer',\n",
    "         'truck','car','cat','frog','ship']\n",
    "fpath='../input/art-pictogram/pictogram/'\n",
    "flist=sorted(os.listdir(fpath))\n",
    "def path_to_tensor(img_path,fpath):\n",
    "    img=kimg.load_img(fpath+img_path,\n",
    "                      target_size=(img_size,img_size))\n",
    "    x=kimg.img_to_array(img)\n",
    "    return np.expand_dims(x,axis=0)\n",
    "def paths_to_tensor(img_paths,fpath):\n",
    "    tensor_list=[path_to_tensor(img_path,fpath) \n",
    "                 for img_path in tqdm(img_paths)]\n",
    "    return np.vstack(tensor_list)\n",
    "labels1=np.array([int(el[:2]) for el in flist],\n",
    "                 dtype='int8')-1\n",
    "labels2=np.array([int(el[3:6]) for el in flist],\n",
    "                 dtype='int8')-1\n",
    "images=np.array(paths_to_tensor(flist,fpath=fpath))/255\n",
    "n2=len(labels1[labels1==0])\n",
    "images=images[:n2]; labels2=labels2[:n2]\n",
    "cond=np.where([l in classes for l in objects])[0]\n",
    "cond2=np.where([l in cond for l in labels2])\n",
    "images=images[cond2]; labels=labels2[cond2]\n",
    "rd={1:2,4:0,6:5,7:7,8:4,9:9,10:1,11:3,12:6,13:8}\n",
    "labels=np.array([rd.get(x,x) for x in labels],\n",
    "                dtype='int8')"
   ]
  },
  {
   "cell_type": "code",
   "execution_count": 8,
   "metadata": {
    "execution": {
     "iopub.execute_input": "2020-08-07T14:50:32.941742Z",
     "iopub.status.busy": "2020-08-07T14:50:32.939729Z",
     "iopub.status.idle": "2020-08-07T14:50:32.997948Z",
     "shell.execute_reply": "2020-08-07T14:50:32.997266Z"
    },
    "papermill": {
     "duration": 0.13079,
     "end_time": "2020-08-07T14:50:32.998134",
     "exception": false,
     "start_time": "2020-08-07T14:50:32.867344",
     "status": "completed"
    },
    "tags": []
   },
   "outputs": [
    {
     "name": "stdout",
     "output_type": "stream",
     "text": [
      "[(757, 32, 32, 3), dtype('float32'), (757,), dtype('int8')]\n",
      "Label:  bird\n"
     ]
    },
    {
     "data": {
      "image/png": "[encoded data removed]",
      "text/plain": [
       "<Figure size 72x72 with 1 Axes>"
      ]
     },
     "metadata": {},
     "output_type": "display_data"
    }
   ],
   "source": [
    "print([images.shape,images.dtype,\n",
    "       labels.shape,labels.dtype])\n",
    "print('Label: ',classes[labels[100]])\n",
    "pl.figure(figsize=(1,1))\n",
    "pl.xticks([]); pl.yticks([])\n",
    "pl.imshow(images[100]);"
   ]
  },
  {
   "cell_type": "code",
   "execution_count": 9,
   "metadata": {
    "execution": {
     "iopub.execute_input": "2020-08-07T14:50:33.121350Z",
     "iopub.status.busy": "2020-08-07T14:50:33.120203Z",
     "iopub.status.idle": "2020-08-07T14:50:33.154418Z",
     "shell.execute_reply": "2020-08-07T14:50:33.153617Z"
    },
    "papermill": {
     "duration": 0.102048,
     "end_time": "2020-08-07T14:50:33.154581",
     "exception": false,
     "start_time": "2020-08-07T14:50:33.052533",
     "status": "completed"
    },
    "tags": []
   },
   "outputs": [
    {
     "name": "stdout",
     "output_type": "stream",
     "text": [
      "[(1757, 32, 32, 3), dtype('float32'), (1757,), dtype('int16')]\n"
     ]
    }
   ],
   "source": [
    "x=np.vstack([x,images])\n",
    "y=np.hstack([y,labels])\n",
    "N=len(y); n=int(.1*N)\n",
    "shuffle_ids=np.arange(N)\n",
    "np.random.RandomState(23).shuffle(shuffle_ids)\n",
    "x,y=x[shuffle_ids],y[shuffle_ids]\n",
    "x_test,x_valid,x_train=x[:n],x[n:2*n],x[2*n:]\n",
    "y_test,y_valid,y_train=y[:n],y[n:2*n],y[2*n:]\n",
    "print([x.shape,x.dtype,y.shape,y.dtype])"
   ]
  },
  {
   "cell_type": "code",
   "execution_count": 10,
   "metadata": {
    "execution": {
     "iopub.execute_input": "2020-08-07T14:50:33.293304Z",
     "iopub.status.busy": "2020-08-07T14:50:33.291035Z",
     "iopub.status.idle": "2020-08-07T14:50:33.793933Z",
     "shell.execute_reply": "2020-08-07T14:50:33.794564Z"
    },
    "papermill": {
     "duration": 0.577139,
     "end_time": "2020-08-07T14:50:33.794761",
     "exception": false,
     "start_time": "2020-08-07T14:50:33.217622",
     "status": "completed"
    },
    "tags": []
   },
   "outputs": [
    {
     "data": {
      "image/png": "[encoded data removed]",
      "text/plain": [
       "<Figure size 720x216 with 10 Axes>"
      ]
     },
     "metadata": {},
     "output_type": "display_data"
    }
   ],
   "source": [
    "fig=pl.figure(figsize=(10,3))\n",
    "randch=np.random.choice(x_test.shape[0],\n",
    "                        size=10,replace=False)\n",
    "for i,idx in enumerate(randch):\n",
    "    ax=fig.add_subplot(2,5,i+1,\n",
    "                       xticks=[],yticks=[])\n",
    "    ax.imshow(x_test[idx])\n",
    "    true_idx=y_test[idx]\n",
    "    ax.set_title(classes[true_idx],color=\"#ff33aa\")"
   ]
  },
  {
   "cell_type": "code",
   "execution_count": 11,
   "metadata": {
    "execution": {
     "iopub.execute_input": "2020-08-07T14:50:33.919051Z",
     "iopub.status.busy": "2020-08-07T14:50:33.910436Z",
     "iopub.status.idle": "2020-08-07T14:50:34.161002Z",
     "shell.execute_reply": "2020-08-07T14:50:34.160209Z"
    },
    "papermill": {
     "duration": 0.312868,
     "end_time": "2020-08-07T14:50:34.161158",
     "exception": false,
     "start_time": "2020-08-07T14:50:33.848290",
     "status": "completed"
    },
    "tags": []
   },
   "outputs": [
    {
     "data": {
      "image/png": "[encoded data removed]",
      "text/plain": [
       "<Figure size 504x360 with 1 Axes>"
      ]
     },
     "metadata": {
      "needs_background": "light"
     },
     "output_type": "display_data"
    }
   ],
   "source": [
    "df=pd.DataFrame(y,columns=['label'])\n",
    "df['class']=[classes[l] for l in y]\n",
    "pl.figure(figsize=(7,5))\n",
    "sn.countplot(y='class',data=df,\n",
    "             palette='Reds',alpha=.5)\n",
    "ti='Label Distribution'\n",
    "pl.title(ti,fontsize=20); pl.legend(loc=4);"
   ]
  },
  {
   "cell_type": "code",
   "execution_count": 12,
   "metadata": {
    "_kg_hide-input": true,
    "execution": {
     "iopub.execute_input": "2020-08-07T14:50:34.273906Z",
     "iopub.status.busy": "2020-08-07T14:50:34.272891Z",
     "iopub.status.idle": "2020-08-07T14:50:34.278170Z",
     "shell.execute_reply": "2020-08-07T14:50:34.277483Z"
    },
    "papermill": {
     "duration": 0.064274,
     "end_time": "2020-08-07T14:50:34.278323",
     "exception": false,
     "start_time": "2020-08-07T14:50:34.214049",
     "status": "completed"
    },
    "tags": []
   },
   "outputs": [
    {
     "data": {
      "text/html": [
       "<style>\n",
       "    @import 'https://fonts.googleapis.com/css?family=Smokum&effect=3d';      \n",
       "    </style><h1 class='font-effect-3d' \n",
       "    style='font-family:Smokum; color:#ff33aa; font-size:35px;'>\n",
       "    NN Examples</h1>"
      ],
      "text/plain": [
       "<IPython.core.display.HTML object>"
      ]
     },
     "metadata": {},
     "output_type": "display_data"
    }
   ],
   "source": [
    "dhtml('NN Examples')"
   ]
  },
  {
   "cell_type": "code",
   "execution_count": 13,
   "metadata": {
    "execution": {
     "iopub.execute_input": "2020-08-07T14:50:34.406242Z",
     "iopub.status.busy": "2020-08-07T14:50:34.405263Z",
     "iopub.status.idle": "2020-08-07T14:50:34.409787Z",
     "shell.execute_reply": "2020-08-07T14:50:34.410333Z"
    },
    "papermill": {
     "duration": 0.078045,
     "end_time": "2020-08-07T14:50:34.410571",
     "exception": false,
     "start_time": "2020-08-07T14:50:34.332526",
     "status": "completed"
    },
    "tags": []
   },
   "outputs": [],
   "source": [
    "def cnn_model():\n",
    "    model=Sequential()\n",
    "    model.add(tkl.Conv2D(32,(5,5),padding='same',\n",
    "                         input_shape=x_train.shape[1:]))\n",
    "    model.add(tkl.Activation('relu'))\n",
    "    model.add(tkl.MaxPooling2D(pool_size=(2,2)))\n",
    "    model.add(tkl.Dropout(.25))\n",
    "    model.add(tkl.Conv2D(196,(5,5)))\n",
    "    model.add(tkl.Activation('relu'))    \n",
    "    model.add(tkl.MaxPooling2D(pool_size=(2,2)))\n",
    "    model.add(tkl.Dropout(.25))\n",
    "    model.add(tkl.GlobalAveragePooling2D())    \n",
    "    model.add(tkl.Dense(512,activation='relu'))\n",
    "    model.add(tkl.Dropout(.25))         \n",
    "    model.add(tkl.Dense(128,activation='relu'))\n",
    "    model.add(tkl.Dropout(.25)) \n",
    "    model.add(tkl.Dense(10))\n",
    "    model.add(tkl.Activation('softmax'))\n",
    "    model.compile(loss='sparse_categorical_crossentropy',\n",
    "                  optimizer='adam',metrics=['accuracy'])\n",
    "    return model"
   ]
  },
  {
   "cell_type": "code",
   "execution_count": 14,
   "metadata": {
    "_kg_hide-output": true,
    "execution": {
     "iopub.execute_input": "2020-08-07T14:50:34.529755Z",
     "iopub.status.busy": "2020-08-07T14:50:34.528828Z",
     "iopub.status.idle": "2020-08-07T14:54:27.950150Z",
     "shell.execute_reply": "2020-08-07T14:54:27.949286Z"
    },
    "papermill": {
     "duration": 233.485569,
     "end_time": "2020-08-07T14:54:27.950338",
     "exception": false,
     "start_time": "2020-08-07T14:50:34.464769",
     "status": "completed"
    },
    "tags": []
   },
   "outputs": [
    {
     "name": "stdout",
     "output_type": "stream",
     "text": [
      "Epoch 1/100\n",
      "\n",
      "Epoch 00001: val_loss improved from inf to 2.29090, saving model to weights.best.hdf5\n",
      "22/22 - 4s - loss: 2.2947 - accuracy: 0.1180 - val_loss: 2.2909 - val_accuracy: 0.1829 - lr: 0.0010\n",
      "Epoch 2/100\n",
      "\n",
      "Epoch 00002: val_loss improved from 2.29090 to 2.27748, saving model to weights.best.hdf5\n",
      "22/22 - 3s - loss: 2.2876 - accuracy: 0.1073 - val_loss: 2.2775 - val_accuracy: 0.1486 - lr: 0.0010\n",
      "Epoch 3/100\n",
      "\n",
      "Epoch 00003: val_loss improved from 2.27748 to 2.26100, saving model to weights.best.hdf5\n",
      "22/22 - 3s - loss: 2.2741 - accuracy: 0.1272 - val_loss: 2.2610 - val_accuracy: 0.1429 - lr: 0.0010\n",
      "Epoch 4/100\n",
      "\n",
      "Epoch 00004: val_loss did not improve from 2.26100\n",
      "22/22 - 3s - loss: 2.2516 - accuracy: 0.1414 - val_loss: 2.2978 - val_accuracy: 0.1029 - lr: 0.0010\n",
      "Epoch 5/100\n",
      "\n",
      "Epoch 00005: val_loss improved from 2.26100 to 2.20701, saving model to weights.best.hdf5\n",
      "22/22 - 3s - loss: 2.2396 - accuracy: 0.1294 - val_loss: 2.2070 - val_accuracy: 0.1486 - lr: 0.0010\n",
      "Epoch 6/100\n",
      "\n",
      "Epoch 00006: val_loss improved from 2.20701 to 2.16840, saving model to weights.best.hdf5\n",
      "22/22 - 3s - loss: 2.2018 - accuracy: 0.1670 - val_loss: 2.1684 - val_accuracy: 0.2629 - lr: 0.0010\n",
      "Epoch 7/100\n",
      "\n",
      "Epoch 00007: val_loss improved from 2.16840 to 2.13453, saving model to weights.best.hdf5\n",
      "22/22 - 3s - loss: 2.1655 - accuracy: 0.1812 - val_loss: 2.1345 - val_accuracy: 0.2171 - lr: 0.0010\n",
      "Epoch 8/100\n",
      "\n",
      "Epoch 00008: val_loss improved from 2.13453 to 2.08199, saving model to weights.best.hdf5\n",
      "22/22 - 3s - loss: 2.0956 - accuracy: 0.2026 - val_loss: 2.0820 - val_accuracy: 0.2571 - lr: 0.0010\n",
      "Epoch 9/100\n",
      "\n",
      "Epoch 00009: val_loss improved from 2.08199 to 2.03052, saving model to weights.best.hdf5\n",
      "22/22 - 3s - loss: 2.0379 - accuracy: 0.2175 - val_loss: 2.0305 - val_accuracy: 0.2171 - lr: 0.0010\n",
      "Epoch 10/100\n",
      "\n",
      "Epoch 00010: val_loss improved from 2.03052 to 2.02290, saving model to weights.best.hdf5\n",
      "22/22 - 4s - loss: 1.9803 - accuracy: 0.2530 - val_loss: 2.0229 - val_accuracy: 0.2114 - lr: 0.0010\n",
      "Epoch 11/100\n",
      "\n",
      "Epoch 00011: val_loss improved from 2.02290 to 1.89038, saving model to weights.best.hdf5\n",
      "22/22 - 3s - loss: 1.9694 - accuracy: 0.2466 - val_loss: 1.8904 - val_accuracy: 0.3086 - lr: 0.0010\n",
      "Epoch 12/100\n",
      "\n",
      "Epoch 00012: val_loss improved from 1.89038 to 1.88845, saving model to weights.best.hdf5\n",
      "22/22 - 3s - loss: 1.8956 - accuracy: 0.2942 - val_loss: 1.8885 - val_accuracy: 0.3314 - lr: 0.0010\n",
      "Epoch 13/100\n",
      "\n",
      "Epoch 00013: val_loss did not improve from 1.88845\n",
      "22/22 - 4s - loss: 1.8949 - accuracy: 0.2814 - val_loss: 1.9197 - val_accuracy: 0.2743 - lr: 0.0010\n",
      "Epoch 14/100\n",
      "\n",
      "Epoch 00014: val_loss improved from 1.88845 to 1.86640, saving model to weights.best.hdf5\n",
      "22/22 - 3s - loss: 1.8914 - accuracy: 0.3028 - val_loss: 1.8664 - val_accuracy: 0.3371 - lr: 0.0010\n",
      "Epoch 15/100\n",
      "\n",
      "Epoch 00015: val_loss improved from 1.86640 to 1.85598, saving model to weights.best.hdf5\n",
      "22/22 - 3s - loss: 1.7919 - accuracy: 0.3340 - val_loss: 1.8560 - val_accuracy: 0.3543 - lr: 0.0010\n",
      "Epoch 16/100\n",
      "\n",
      "Epoch 00016: val_loss improved from 1.85598 to 1.83363, saving model to weights.best.hdf5\n",
      "22/22 - 3s - loss: 1.7822 - accuracy: 0.3461 - val_loss: 1.8336 - val_accuracy: 0.2857 - lr: 0.0010\n",
      "Epoch 17/100\n",
      "\n",
      "Epoch 00017: val_loss improved from 1.83363 to 1.77377, saving model to weights.best.hdf5\n",
      "22/22 - 3s - loss: 1.7908 - accuracy: 0.3177 - val_loss: 1.7738 - val_accuracy: 0.3543 - lr: 0.0010\n",
      "Epoch 18/100\n",
      "\n",
      "Epoch 00018: val_loss improved from 1.77377 to 1.75763, saving model to weights.best.hdf5\n",
      "22/22 - 3s - loss: 1.7259 - accuracy: 0.3554 - val_loss: 1.7576 - val_accuracy: 0.3657 - lr: 0.0010\n",
      "Epoch 19/100\n",
      "\n",
      "Epoch 00019: val_loss improved from 1.75763 to 1.75410, saving model to weights.best.hdf5\n",
      "22/22 - 3s - loss: 1.6813 - accuracy: 0.3603 - val_loss: 1.7541 - val_accuracy: 0.3714 - lr: 0.0010\n",
      "Epoch 20/100\n",
      "\n",
      "Epoch 00020: val_loss did not improve from 1.75410\n",
      "22/22 - 3s - loss: 1.7278 - accuracy: 0.3490 - val_loss: 1.7631 - val_accuracy: 0.4114 - lr: 0.0010\n",
      "Epoch 21/100\n",
      "\n",
      "Epoch 00021: val_loss did not improve from 1.75410\n",
      "22/22 - 3s - loss: 1.6534 - accuracy: 0.3767 - val_loss: 1.8309 - val_accuracy: 0.3143 - lr: 0.0010\n",
      "Epoch 22/100\n",
      "\n",
      "Epoch 00022: val_loss improved from 1.75410 to 1.69725, saving model to weights.best.hdf5\n",
      "22/22 - 4s - loss: 1.6472 - accuracy: 0.3930 - val_loss: 1.6972 - val_accuracy: 0.3543 - lr: 0.0010\n",
      "Epoch 23/100\n",
      "\n",
      "Epoch 00023: val_loss improved from 1.69725 to 1.64840, saving model to weights.best.hdf5\n",
      "22/22 - 3s - loss: 1.5867 - accuracy: 0.4101 - val_loss: 1.6484 - val_accuracy: 0.4229 - lr: 0.0010\n",
      "Epoch 24/100\n",
      "\n",
      "Epoch 00024: val_loss did not improve from 1.64840\n",
      "22/22 - 3s - loss: 1.5408 - accuracy: 0.4186 - val_loss: 1.6930 - val_accuracy: 0.3771 - lr: 0.0010\n",
      "Epoch 25/100\n",
      "\n",
      "Epoch 00025: val_loss improved from 1.64840 to 1.60984, saving model to weights.best.hdf5\n",
      "22/22 - 3s - loss: 1.5190 - accuracy: 0.4399 - val_loss: 1.6098 - val_accuracy: 0.3886 - lr: 0.0010\n",
      "Epoch 26/100\n",
      "\n",
      "Epoch 00026: val_loss did not improve from 1.60984\n",
      "22/22 - 4s - loss: 1.4582 - accuracy: 0.4627 - val_loss: 1.6414 - val_accuracy: 0.4114 - lr: 0.0010\n",
      "Epoch 27/100\n",
      "\n",
      "Epoch 00027: val_loss did not improve from 1.60984\n",
      "22/22 - 4s - loss: 1.4605 - accuracy: 0.4655 - val_loss: 1.6443 - val_accuracy: 0.3943 - lr: 0.0010\n",
      "Epoch 28/100\n",
      "\n",
      "Epoch 00028: val_loss did not improve from 1.60984\n",
      "22/22 - 4s - loss: 1.4577 - accuracy: 0.4591 - val_loss: 1.6320 - val_accuracy: 0.4057 - lr: 0.0010\n",
      "Epoch 29/100\n",
      "\n",
      "Epoch 00029: val_loss improved from 1.60984 to 1.58370, saving model to weights.best.hdf5\n",
      "22/22 - 3s - loss: 1.4506 - accuracy: 0.4570 - val_loss: 1.5837 - val_accuracy: 0.4400 - lr: 0.0010\n",
      "Epoch 30/100\n",
      "\n",
      "Epoch 00030: val_loss improved from 1.58370 to 1.51590, saving model to weights.best.hdf5\n",
      "22/22 - 3s - loss: 1.4021 - accuracy: 0.4911 - val_loss: 1.5159 - val_accuracy: 0.4743 - lr: 0.0010\n",
      "Epoch 31/100\n",
      "\n",
      "Epoch 00031: val_loss did not improve from 1.51590\n",
      "22/22 - 3s - loss: 1.3775 - accuracy: 0.4854 - val_loss: 1.5302 - val_accuracy: 0.4457 - lr: 0.0010\n",
      "Epoch 32/100\n",
      "\n",
      "Epoch 00032: val_loss did not improve from 1.51590\n",
      "22/22 - 3s - loss: 1.3385 - accuracy: 0.5139 - val_loss: 1.5654 - val_accuracy: 0.4514 - lr: 0.0010\n",
      "Epoch 33/100\n",
      "\n",
      "Epoch 00033: val_loss improved from 1.51590 to 1.47466, saving model to weights.best.hdf5\n",
      "22/22 - 3s - loss: 1.3401 - accuracy: 0.5167 - val_loss: 1.4747 - val_accuracy: 0.4571 - lr: 0.0010\n",
      "Epoch 34/100\n",
      "\n",
      "Epoch 00034: val_loss did not improve from 1.47466\n",
      "22/22 - 3s - loss: 1.3007 - accuracy: 0.5316 - val_loss: 1.5137 - val_accuracy: 0.4457 - lr: 0.0010\n",
      "Epoch 35/100\n",
      "\n",
      "Epoch 00035: val_loss did not improve from 1.47466\n",
      "22/22 - 3s - loss: 1.2563 - accuracy: 0.5252 - val_loss: 1.5529 - val_accuracy: 0.4457 - lr: 0.0010\n",
      "Epoch 36/100\n",
      "\n",
      "Epoch 00036: val_loss did not improve from 1.47466\n",
      "22/22 - 3s - loss: 1.2177 - accuracy: 0.5458 - val_loss: 1.5067 - val_accuracy: 0.4514 - lr: 0.0010\n",
      "Epoch 37/100\n",
      "\n",
      "Epoch 00037: val_loss did not improve from 1.47466\n",
      "22/22 - 3s - loss: 1.2015 - accuracy: 0.5515 - val_loss: 1.4850 - val_accuracy: 0.4457 - lr: 0.0010\n",
      "Epoch 38/100\n",
      "\n",
      "Epoch 00038: val_loss improved from 1.47466 to 1.46676, saving model to weights.best.hdf5\n",
      "22/22 - 3s - loss: 1.1988 - accuracy: 0.5586 - val_loss: 1.4668 - val_accuracy: 0.4743 - lr: 0.0010\n",
      "Epoch 39/100\n",
      "\n",
      "Epoch 00039: val_loss improved from 1.46676 to 1.42877, saving model to weights.best.hdf5\n",
      "22/22 - 3s - loss: 1.1559 - accuracy: 0.5679 - val_loss: 1.4288 - val_accuracy: 0.4743 - lr: 0.0010\n",
      "Epoch 40/100\n",
      "\n",
      "Epoch 00040: val_loss did not improve from 1.42877\n",
      "22/22 - 4s - loss: 1.2086 - accuracy: 0.5487 - val_loss: 1.5234 - val_accuracy: 0.4686 - lr: 0.0010\n",
      "Epoch 41/100\n",
      "\n",
      "Epoch 00041: val_loss did not improve from 1.42877\n",
      "22/22 - 4s - loss: 1.1258 - accuracy: 0.5601 - val_loss: 1.5181 - val_accuracy: 0.4743 - lr: 0.0010\n",
      "Epoch 42/100\n",
      "\n",
      "Epoch 00042: val_loss did not improve from 1.42877\n",
      "22/22 - 3s - loss: 1.1067 - accuracy: 0.6077 - val_loss: 1.4967 - val_accuracy: 0.4400 - lr: 0.0010\n",
      "Epoch 43/100\n",
      "\n",
      "Epoch 00043: val_loss improved from 1.42877 to 1.41811, saving model to weights.best.hdf5\n",
      "22/22 - 4s - loss: 1.0722 - accuracy: 0.6034 - val_loss: 1.4181 - val_accuracy: 0.5257 - lr: 0.0010\n",
      "Epoch 44/100\n",
      "\n",
      "Epoch 00044: val_loss improved from 1.41811 to 1.38758, saving model to weights.best.hdf5\n",
      "22/22 - 4s - loss: 1.0371 - accuracy: 0.6077 - val_loss: 1.3876 - val_accuracy: 0.5029 - lr: 0.0010\n",
      "Epoch 45/100\n",
      "\n",
      "Epoch 00045: val_loss did not improve from 1.38758\n",
      "22/22 - 3s - loss: 1.0540 - accuracy: 0.6190 - val_loss: 1.4973 - val_accuracy: 0.4743 - lr: 0.0010\n",
      "Epoch 46/100\n",
      "\n",
      "Epoch 00046: val_loss did not improve from 1.38758\n",
      "22/22 - 3s - loss: 1.0670 - accuracy: 0.5963 - val_loss: 1.4381 - val_accuracy: 0.4743 - lr: 0.0010\n",
      "Epoch 47/100\n",
      "\n",
      "Epoch 00047: val_loss did not improve from 1.38758\n",
      "22/22 - 3s - loss: 0.9903 - accuracy: 0.6304 - val_loss: 1.4568 - val_accuracy: 0.4800 - lr: 0.0010\n",
      "Epoch 48/100\n",
      "\n",
      "Epoch 00048: val_loss did not improve from 1.38758\n",
      "22/22 - 3s - loss: 0.9684 - accuracy: 0.6453 - val_loss: 1.4164 - val_accuracy: 0.4743 - lr: 0.0010\n",
      "Epoch 49/100\n",
      "\n",
      "Epoch 00049: val_loss did not improve from 1.38758\n",
      "\n",
      "Epoch 00049: ReduceLROnPlateau reducing learning rate to 0.000800000037997961.\n",
      "22/22 - 3s - loss: 0.9240 - accuracy: 0.6596 - val_loss: 1.4801 - val_accuracy: 0.4571 - lr: 0.0010\n",
      "Epoch 50/100\n",
      "\n",
      "Epoch 00050: val_loss did not improve from 1.38758\n",
      "22/22 - 3s - loss: 0.9266 - accuracy: 0.6688 - val_loss: 1.6620 - val_accuracy: 0.4457 - lr: 8.0000e-04\n",
      "Epoch 51/100\n",
      "\n",
      "Epoch 00051: val_loss did not improve from 1.38758\n",
      "22/22 - 3s - loss: 0.9135 - accuracy: 0.6525 - val_loss: 1.4385 - val_accuracy: 0.5029 - lr: 8.0000e-04\n",
      "Epoch 52/100\n",
      "\n",
      "Epoch 00052: val_loss did not improve from 1.38758\n",
      "22/22 - 3s - loss: 0.8953 - accuracy: 0.6660 - val_loss: 1.6059 - val_accuracy: 0.4229 - lr: 8.0000e-04\n",
      "Epoch 53/100\n",
      "\n",
      "Epoch 00053: val_loss did not improve from 1.38758\n",
      "22/22 - 3s - loss: 0.8439 - accuracy: 0.6944 - val_loss: 1.4782 - val_accuracy: 0.4914 - lr: 8.0000e-04\n",
      "Epoch 54/100\n",
      "\n",
      "Epoch 00054: val_loss did not improve from 1.38758\n",
      "\n",
      "Epoch 00054: ReduceLROnPlateau reducing learning rate to 0.0006400000303983689.\n",
      "22/22 - 3s - loss: 0.8543 - accuracy: 0.6823 - val_loss: 1.4545 - val_accuracy: 0.5143 - lr: 8.0000e-04\n",
      "Epoch 55/100\n",
      "\n",
      "Epoch 00055: val_loss did not improve from 1.38758\n",
      "22/22 - 3s - loss: 0.8330 - accuracy: 0.6915 - val_loss: 1.4864 - val_accuracy: 0.4800 - lr: 6.4000e-04\n",
      "Epoch 56/100\n",
      "\n",
      "Epoch 00056: val_loss did not improve from 1.38758\n",
      "22/22 - 3s - loss: 0.8455 - accuracy: 0.6780 - val_loss: 1.5024 - val_accuracy: 0.5314 - lr: 6.4000e-04\n",
      "Epoch 57/100\n",
      "\n",
      "Epoch 00057: val_loss did not improve from 1.38758\n",
      "22/22 - 4s - loss: 0.7988 - accuracy: 0.6944 - val_loss: 1.4053 - val_accuracy: 0.5029 - lr: 6.4000e-04\n",
      "Epoch 58/100\n",
      "\n",
      "Epoch 00058: val_loss did not improve from 1.38758\n",
      "22/22 - 3s - loss: 0.7443 - accuracy: 0.7278 - val_loss: 1.4872 - val_accuracy: 0.5029 - lr: 6.4000e-04\n",
      "Epoch 59/100\n",
      "\n",
      "Epoch 00059: val_loss did not improve from 1.38758\n",
      "\n",
      "Epoch 00059: ReduceLROnPlateau reducing learning rate to 0.0005120000336319208.\n",
      "22/22 - 4s - loss: 0.7569 - accuracy: 0.7164 - val_loss: 1.4884 - val_accuracy: 0.4971 - lr: 6.4000e-04\n",
      "Epoch 60/100\n",
      "\n",
      "Epoch 00060: val_loss did not improve from 1.38758\n",
      "22/22 - 4s - loss: 0.7149 - accuracy: 0.7356 - val_loss: 1.4940 - val_accuracy: 0.5029 - lr: 5.1200e-04\n",
      "Epoch 61/100\n",
      "\n",
      "Epoch 00061: val_loss did not improve from 1.38758\n",
      "22/22 - 3s - loss: 0.7489 - accuracy: 0.7271 - val_loss: 1.4281 - val_accuracy: 0.5257 - lr: 5.1200e-04\n",
      "Epoch 62/100\n",
      "\n",
      "Epoch 00062: val_loss did not improve from 1.38758\n",
      "22/22 - 4s - loss: 0.7115 - accuracy: 0.7264 - val_loss: 1.5396 - val_accuracy: 0.4971 - lr: 5.1200e-04\n",
      "Epoch 63/100\n",
      "\n",
      "Epoch 00063: val_loss did not improve from 1.38758\n",
      "22/22 - 3s - loss: 0.6715 - accuracy: 0.7591 - val_loss: 1.4417 - val_accuracy: 0.5257 - lr: 5.1200e-04\n",
      "Epoch 64/100\n",
      "\n",
      "Epoch 00064: val_loss did not improve from 1.38758\n",
      "\n",
      "Epoch 00064: ReduceLROnPlateau reducing learning rate to 0.00040960004553198815.\n",
      "22/22 - 3s - loss: 0.6720 - accuracy: 0.7541 - val_loss: 1.5518 - val_accuracy: 0.4514 - lr: 5.1200e-04\n",
      "Epoch 00064: early stopping\n"
     ]
    }
   ],
   "source": [
    "cnn_model=cnn_model()\n",
    "fw='weights.best.hdf5'\n",
    "early_stopping=tkc.EarlyStopping(monitor='val_loss',\n",
    "                                 patience=20,verbose=2)\n",
    "checkpointer=tkc.ModelCheckpoint(filepath=fw,verbose=2,\n",
    "                                 save_best_only=True)\n",
    "lr_reduction=tkc.ReduceLROnPlateau(monitor='val_loss',verbose=2,\n",
    "                                   patience=5,factor=.8)\n",
    "history=cnn_model.fit(x_train,y_train,epochs=100,\n",
    "                      batch_size=64,verbose=2,\n",
    "                      validation_data=(x_valid,y_valid),\n",
    "                      callbacks=[checkpointer,early_stopping,lr_reduction])"
   ]
  },
  {
   "cell_type": "code",
   "execution_count": 15,
   "metadata": {
    "execution": {
     "iopub.execute_input": "2020-08-07T14:54:28.179445Z",
     "iopub.status.busy": "2020-08-07T14:54:28.177829Z",
     "iopub.status.idle": "2020-08-07T14:54:28.344329Z",
     "shell.execute_reply": "2020-08-07T14:54:28.343655Z"
    },
    "papermill": {
     "duration": 0.287618,
     "end_time": "2020-08-07T14:54:28.344466",
     "exception": false,
     "start_time": "2020-08-07T14:54:28.056848",
     "status": "completed"
    },
    "tags": []
   },
   "outputs": [
    {
     "name": "stdout",
     "output_type": "stream",
     "text": [
      "6/6 [==============================] - 0s 16ms/step - loss: 1.5617 - accuracy: 0.4400\n"
     ]
    },
    {
     "data": {
      "text/plain": [
       "[1.5616793632507324, 0.4399999976158142]"
      ]
     },
     "execution_count": 15,
     "metadata": {},
     "output_type": "execute_result"
    }
   ],
   "source": [
    "cnn_model.load_weights(fw)\n",
    "cnn_model.evaluate(x_test,y_test)"
   ]
  }
 ],
 "metadata": {
  "kernelspec": {
   "display_name": "Python 3",
   "language": "python",
   "name": "python3"
  },
  "language_info": {
   "codemirror_mode": {
    "name": "ipython",
    "version": 3
   },
   "file_extension": ".py",
   "mimetype": "text/x-python",
   "name": "python",
   "nbconvert_exporter": "python",
   "pygments_lexer": "ipython3",
   "version": "3.7.6"
  },
  "papermill": {
   "duration": 259.681639,
   "end_time": "2020-08-07T14:54:28.563158",
   "environment_variables": {},
   "exception": null,
   "input_path": "__notebook__.ipynb",
   "output_path": "__notebook__.ipynb",
   "parameters": {},
   "start_time": "2020-08-07T14:50:08.881519",
   "version": "2.1.0"
  }
 },
 "nbformat": 4,
 "nbformat_minor": 4
}
