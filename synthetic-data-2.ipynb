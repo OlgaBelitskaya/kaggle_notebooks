{
 "cells": [
  {
   "cell_type": "code",
   "execution_count": 1,
   "metadata": {
    "_kg_hide-input": true,
    "execution": {
     "iopub.execute_input": "2020-08-28T20:26:32.061707Z",
     "iopub.status.busy": "2020-08-28T20:26:32.060933Z",
     "iopub.status.idle": "2020-08-28T20:26:32.063943Z",
     "shell.execute_reply": "2020-08-28T20:26:32.064538Z"
    },
    "papermill": {
     "duration": 0.027802,
     "end_time": "2020-08-28T20:26:32.064738",
     "exception": false,
     "start_time": "2020-08-28T20:26:32.036936",
     "status": "completed"
    },
    "tags": []
   },
   "outputs": [],
   "source": [
    "from IPython.display import display,HTML\n",
    "def dhtml(str):\n",
    "    display(HTML(\"\"\"<style>\n",
    "    @import 'https://fonts.googleapis.com/css?family=Smokum&effect=3d';      \n",
    "    </style><h1 class='font-effect-3d' \n",
    "    style='font-family:Smokum; color:#ff33aa; font-size:35px;'>\n",
    "    %s</h1>\"\"\"%str))"
   ]
  },
  {
   "cell_type": "code",
   "execution_count": 2,
   "metadata": {
    "_kg_hide-output": true,
    "execution": {
     "iopub.execute_input": "2020-08-28T20:26:32.104639Z",
     "iopub.status.busy": "2020-08-28T20:26:32.103792Z",
     "iopub.status.idle": "2020-08-28T20:26:42.188881Z",
     "shell.execute_reply": "2020-08-28T20:26:42.188201Z"
    },
    "papermill": {
     "duration": 10.107135,
     "end_time": "2020-08-28T20:26:42.189032",
     "exception": false,
     "start_time": "2020-08-28T20:26:32.081897",
     "status": "completed"
    },
    "tags": []
   },
   "outputs": [
    {
     "name": "stdout",
     "output_type": "stream",
     "text": [
      "Collecting neural_structured_learning\r\n",
      "  Downloading neural_structured_learning-1.3.1-py2.py3-none-any.whl (120 kB)\r\n",
      "\u001b[K     |████████████████████████████████| 120 kB 1.4 MB/s \r\n",
      "\u001b[?25hRequirement already satisfied, skipping upgrade: attrs in /opt/conda/lib/python3.7/site-packages (from neural_structured_learning) (19.3.0)\r\n",
      "Requirement already satisfied, skipping upgrade: absl-py in /opt/conda/lib/python3.7/site-packages (from neural_structured_learning) (0.9.0)\r\n",
      "Requirement already satisfied, skipping upgrade: six in /opt/conda/lib/python3.7/site-packages (from neural_structured_learning) (1.14.0)\r\n",
      "Requirement already satisfied, skipping upgrade: scipy in /opt/conda/lib/python3.7/site-packages (from neural_structured_learning) (1.4.1)\r\n",
      "Requirement already satisfied, skipping upgrade: numpy>=1.13.3 in /opt/conda/lib/python3.7/site-packages (from scipy->neural_structured_learning) (1.18.5)\r\n",
      "Installing collected packages: neural-structured-learning\r\n",
      "Successfully installed neural-structured-learning-1.3.1\r\n",
      "\u001b[33mWARNING: You are using pip version 20.1.1; however, version 20.2.2 is available.\r\n",
      "You should consider upgrading via the '/opt/conda/bin/python3.7 -m pip install --upgrade pip' command.\u001b[0m\r\n"
     ]
    }
   ],
   "source": [
    "!pip install --upgrade neural_structured_learning --user"
   ]
  },
  {
   "cell_type": "code",
   "execution_count": 3,
   "metadata": {
    "execution": {
     "iopub.execute_input": "2020-08-28T20:26:42.239250Z",
     "iopub.status.busy": "2020-08-28T20:26:42.238254Z",
     "iopub.status.idle": "2020-08-28T20:26:42.243306Z",
     "shell.execute_reply": "2020-08-28T20:26:42.242624Z"
    },
    "papermill": {
     "duration": 0.033527,
     "end_time": "2020-08-28T20:26:42.243436",
     "exception": false,
     "start_time": "2020-08-28T20:26:42.209909",
     "status": "completed"
    },
    "tags": []
   },
   "outputs": [
    {
     "data": {
      "text/html": [
       "<style>\n",
       "    @import 'https://fonts.googleapis.com/css?family=Smokum&effect=3d';      \n",
       "    </style><h1 class='font-effect-3d' \n",
       "    style='font-family:Smokum; color:#ff33aa; font-size:35px;'>\n",
       "    Code Modules & Settings</h1>"
      ],
      "text/plain": [
       "<IPython.core.display.HTML object>"
      ]
     },
     "metadata": {},
     "output_type": "display_data"
    }
   ],
   "source": [
    "dhtml('Code Modules & Settings')"
   ]
  },
  {
   "cell_type": "code",
   "execution_count": 4,
   "metadata": {
    "_cell_guid": "b1076dfc-b9ad-4769-8c92-a6c4dae69d19",
    "_uuid": "8f2839f25d086af736a60e9eeb907d3b93b6e0e5",
    "execution": {
     "iopub.execute_input": "2020-08-28T20:26:42.294958Z",
     "iopub.status.busy": "2020-08-28T20:26:42.294167Z",
     "iopub.status.idle": "2020-08-28T20:26:49.576802Z",
     "shell.execute_reply": "2020-08-28T20:26:49.575952Z"
    },
    "papermill": {
     "duration": 7.312167,
     "end_time": "2020-08-28T20:26:49.576936",
     "exception": false,
     "start_time": "2020-08-28T20:26:42.264769",
     "status": "completed"
    },
    "tags": []
   },
   "outputs": [],
   "source": [
    "import os,numpy as np,pandas as pd\n",
    "import pylab as pl,seaborn as sn,tensorflow as tf\n",
    "from tensorflow.keras.datasets import cifar10\n",
    "from tensorflow.keras.preprocessing import image as kimg\n",
    "from tqdm import tqdm\n",
    "from tensorflow.keras.models import Sequential\n",
    "from tensorflow.keras import layers as tkl\n",
    "from tensorflow.keras import callbacks as tkc\n",
    "import neural_structured_learning as nsl\n",
    "from PIL import ImageFile\n",
    "ImageFile.LOAD_TRUNCATED_IMAGES=True"
   ]
  },
  {
   "cell_type": "code",
   "execution_count": 5,
   "metadata": {
    "_kg_hide-input": true,
    "execution": {
     "iopub.execute_input": "2020-08-28T20:26:49.625947Z",
     "iopub.status.busy": "2020-08-28T20:26:49.624821Z",
     "iopub.status.idle": "2020-08-28T20:26:49.629554Z",
     "shell.execute_reply": "2020-08-28T20:26:49.628794Z"
    },
    "papermill": {
     "duration": 0.031126,
     "end_time": "2020-08-28T20:26:49.629683",
     "exception": false,
     "start_time": "2020-08-28T20:26:49.598557",
     "status": "completed"
    },
    "tags": []
   },
   "outputs": [
    {
     "data": {
      "text/html": [
       "<style>\n",
       "    @import 'https://fonts.googleapis.com/css?family=Smokum&effect=3d';      \n",
       "    </style><h1 class='font-effect-3d' \n",
       "    style='font-family:Smokum; color:#ff33aa; font-size:35px;'>\n",
       "    Mixed Data</h1>"
      ],
      "text/plain": [
       "<IPython.core.display.HTML object>"
      ]
     },
     "metadata": {},
     "output_type": "display_data"
    }
   ],
   "source": [
    "dhtml('Mixed Data')"
   ]
  },
  {
   "cell_type": "code",
   "execution_count": 6,
   "metadata": {
    "_cell_guid": "79c7e3d0-c299-4dcb-8224-4455121ee9b0",
    "_uuid": "d629ff2d2480ee46fbb7e2d37f6b5fab8052498a",
    "execution": {
     "iopub.execute_input": "2020-08-28T20:26:49.684416Z",
     "iopub.status.busy": "2020-08-28T20:26:49.683563Z",
     "iopub.status.idle": "2020-08-28T20:26:54.245035Z",
     "shell.execute_reply": "2020-08-28T20:26:54.244239Z"
    },
    "papermill": {
     "duration": 4.593564,
     "end_time": "2020-08-28T20:26:54.245164",
     "exception": false,
     "start_time": "2020-08-28T20:26:49.651600",
     "status": "completed"
    },
    "tags": []
   },
   "outputs": [
    {
     "name": "stdout",
     "output_type": "stream",
     "text": [
      "Downloading data from https://www.cs.toronto.edu/~kriz/cifar-10-python.tar.gz\n",
      "170500096/170498071 [==============================] - 2s 0us/step\n"
     ]
    }
   ],
   "source": [
    "n1=1100\n",
    "classes=['plane','car','bird','cat','deer',\n",
    "         'dog','frog','horse','ship','truck']\n",
    "(x,y),(_,_)=cifar10.load_data()\n",
    "x=np.array(x,dtype='float32')/255\n",
    "y=y.reshape(-1)\n",
    "N=len(y); n=int(.1*N)\n",
    "shuffle_ids=np.arange(N)\n",
    "np.random.RandomState(23).shuffle(shuffle_ids)\n",
    "shuffle_ids=shuffle_ids[:n1]\n",
    "x,y=x[shuffle_ids],y[shuffle_ids]"
   ]
  },
  {
   "cell_type": "code",
   "execution_count": 7,
   "metadata": {
    "execution": {
     "iopub.execute_input": "2020-08-28T20:26:54.325323Z",
     "iopub.status.busy": "2020-08-28T20:26:54.324411Z",
     "iopub.status.idle": "2020-08-28T20:26:54.411455Z",
     "shell.execute_reply": "2020-08-28T20:26:54.410573Z"
    },
    "papermill": {
     "duration": 0.131094,
     "end_time": "2020-08-28T20:26:54.411599",
     "exception": false,
     "start_time": "2020-08-28T20:26:54.280505",
     "status": "completed"
    },
    "tags": []
   },
   "outputs": [
    {
     "name": "stdout",
     "output_type": "stream",
     "text": [
      "[(1100, 32, 32, 3), dtype('float32'), (1100,), dtype('uint8')]\n",
      "Label:  horse\n"
     ]
    },
    {
     "data": {
      "image/png": "[encoded data removed]",
      "text/plain": [
       "<Figure size 72x72 with 1 Axes>"
      ]
     },
     "metadata": {},
     "output_type": "display_data"
    }
   ],
   "source": [
    "print([x.shape,x.dtype,y.shape,y.dtype])\n",
    "print('Label: ',classes[y[1]])\n",
    "pl.figure(figsize=(1,1))\n",
    "pl.xticks([]); pl.yticks([])\n",
    "pl.imshow(x[1]);"
   ]
  },
  {
   "cell_type": "code",
   "execution_count": 8,
   "metadata": {
    "execution": {
     "iopub.execute_input": "2020-08-28T20:26:54.505385Z",
     "iopub.status.busy": "2020-08-28T20:26:54.494620Z",
     "iopub.status.idle": "2020-08-28T20:27:00.323639Z",
     "shell.execute_reply": "2020-08-28T20:27:00.322897Z"
    },
    "papermill": {
     "duration": 5.87506,
     "end_time": "2020-08-28T20:27:00.323780",
     "exception": false,
     "start_time": "2020-08-28T20:26:54.448720",
     "status": "completed"
    },
    "tags": []
   },
   "outputs": [
    {
     "name": "stderr",
     "output_type": "stream",
     "text": [
      "100%|██████████| 3143/3143 [00:05<00:00, 550.85it/s]\n"
     ]
    }
   ],
   "source": [
    "img_size=32\n",
    "manners=['pictogram','contour','sketch']\n",
    "objects=['flower','bird','butterfly','tree',\n",
    "         'plane','crane','dog','horse',\n",
    "         'deer','truck','car','cat',\n",
    "         'frog','ship','fish','house']\n",
    "fpath='../input/art-pictogram/pictograms/'\n",
    "flist=sorted(os.listdir(fpath))\n",
    "def path_to_tensor(img_path,fpath):\n",
    "    img=kimg.load_img(fpath+img_path,\n",
    "                      target_size=(img_size,img_size))\n",
    "    x=kimg.img_to_array(img)\n",
    "    return np.expand_dims(x,axis=0)\n",
    "def paths_to_tensor(img_paths,fpath):\n",
    "    tensor_list=[path_to_tensor(img_path,fpath) \n",
    "                 for img_path in tqdm(img_paths)]\n",
    "    return np.vstack(tensor_list)\n",
    "labels1=np.array([int(el[:2]) for el in flist],\n",
    "                 dtype='int8')-1\n",
    "labels2=np.array([int(el[3:6]) for el in flist],\n",
    "                 dtype='int8')-1\n",
    "images=np.array(paths_to_tensor(flist,fpath=fpath))/255\n",
    "n2=len(labels1[labels1==0])\n",
    "images=images[:n2]; labels2=labels2[:n2]\n",
    "cond=np.where([l in classes for l in objects])[0]\n",
    "cond2=np.where([l in cond for l in labels2])\n",
    "images=images[cond2]; labels=labels2[cond2]\n",
    "rd={1:2,4:0,6:5,7:7,8:4,9:9,10:1,11:3,12:6,13:8}\n",
    "labels=np.array([rd.get(x,x) for x in labels],\n",
    "                dtype='int8')"
   ]
  },
  {
   "cell_type": "code",
   "execution_count": 9,
   "metadata": {
    "execution": {
     "iopub.execute_input": "2020-08-28T20:27:00.460605Z",
     "iopub.status.busy": "2020-08-28T20:27:00.459852Z",
     "iopub.status.idle": "2020-08-28T20:27:00.503236Z",
     "shell.execute_reply": "2020-08-28T20:27:00.502524Z"
    },
    "papermill": {
     "duration": 0.117986,
     "end_time": "2020-08-28T20:27:00.503366",
     "exception": false,
     "start_time": "2020-08-28T20:27:00.385380",
     "status": "completed"
    },
    "tags": []
   },
   "outputs": [
    {
     "name": "stdout",
     "output_type": "stream",
     "text": [
      "[(1102, 32, 32, 3), dtype('float32'), (1102,), dtype('int8')]\n",
      "Label:  bird\n"
     ]
    },
    {
     "data": {
      "image/png": "[encoded data removed]",
      "text/plain": [
       "<Figure size 72x72 with 1 Axes>"
      ]
     },
     "metadata": {},
     "output_type": "display_data"
    }
   ],
   "source": [
    "print([images.shape,images.dtype,\n",
    "       labels.shape,labels.dtype])\n",
    "print('Label: ',classes[labels[100]])\n",
    "pl.figure(figsize=(1,1))\n",
    "pl.xticks([]); pl.yticks([])\n",
    "pl.imshow(images[100]);"
   ]
  },
  {
   "cell_type": "code",
   "execution_count": 10,
   "metadata": {
    "execution": {
     "iopub.execute_input": "2020-08-28T20:27:00.636558Z",
     "iopub.status.busy": "2020-08-28T20:27:00.635743Z",
     "iopub.status.idle": "2020-08-28T20:27:00.666031Z",
     "shell.execute_reply": "2020-08-28T20:27:00.665382Z"
    },
    "papermill": {
     "duration": 0.101667,
     "end_time": "2020-08-28T20:27:00.666156",
     "exception": false,
     "start_time": "2020-08-28T20:27:00.564489",
     "status": "completed"
    },
    "tags": []
   },
   "outputs": [
    {
     "name": "stdout",
     "output_type": "stream",
     "text": [
      "[(2202, 32, 32, 3), dtype('float32'), (2202,), dtype('int16')]\n"
     ]
    }
   ],
   "source": [
    "x=np.vstack([x,images])\n",
    "y=np.hstack([y,labels])\n",
    "N=len(y); n=int(.1*N)\n",
    "shuffle_ids=np.arange(N)\n",
    "np.random.RandomState(23).shuffle(shuffle_ids)\n",
    "x,y=x[shuffle_ids],y[shuffle_ids]\n",
    "x_test,x_valid,x_train=x[:n],x[n:2*n],x[2*n:]\n",
    "y_test,y_valid,y_train=y[:n],y[n:2*n],y[2*n:]\n",
    "print([x.shape,x.dtype,y.shape,y.dtype])"
   ]
  },
  {
   "cell_type": "code",
   "execution_count": 11,
   "metadata": {
    "execution": {
     "iopub.execute_input": "2020-08-28T20:27:00.806275Z",
     "iopub.status.busy": "2020-08-28T20:27:00.798853Z",
     "iopub.status.idle": "2020-08-28T20:27:01.240755Z",
     "shell.execute_reply": "2020-08-28T20:27:01.241387Z"
    },
    "papermill": {
     "duration": 0.513786,
     "end_time": "2020-08-28T20:27:01.241560",
     "exception": false,
     "start_time": "2020-08-28T20:27:00.727774",
     "status": "completed"
    },
    "tags": []
   },
   "outputs": [
    {
     "data": {
      "image/png": "[encoded data removed]",
      "text/plain": [
       "<Figure size 720x216 with 10 Axes>"
      ]
     },
     "metadata": {},
     "output_type": "display_data"
    }
   ],
   "source": [
    "fig=pl.figure(figsize=(10,3))\n",
    "randch=np.random.choice(x_test.shape[0],\n",
    "                        size=10,replace=False)\n",
    "for i,idx in enumerate(randch):\n",
    "    ax=fig.add_subplot(2,5,i+1,\n",
    "                       xticks=[],yticks=[])\n",
    "    ax.imshow(x_test[idx])\n",
    "    true_idx=y_test[idx]\n",
    "    ax.set_title(classes[true_idx],color=\"#ff33aa\")"
   ]
  },
  {
   "cell_type": "code",
   "execution_count": 12,
   "metadata": {
    "execution": {
     "iopub.execute_input": "2020-08-28T20:27:01.389196Z",
     "iopub.status.busy": "2020-08-28T20:27:01.386083Z",
     "iopub.status.idle": "2020-08-28T20:27:01.609285Z",
     "shell.execute_reply": "2020-08-28T20:27:01.608510Z"
    },
    "papermill": {
     "duration": 0.302657,
     "end_time": "2020-08-28T20:27:01.609409",
     "exception": false,
     "start_time": "2020-08-28T20:27:01.306752",
     "status": "completed"
    },
    "tags": []
   },
   "outputs": [
    {
     "data": {
      "image/png": "[encoded data removed]",
      "text/plain": [
       "<Figure size 504x360 with 1 Axes>"
      ]
     },
     "metadata": {
      "needs_background": "light"
     },
     "output_type": "display_data"
    }
   ],
   "source": [
    "df=pd.DataFrame(y,columns=['label'])\n",
    "df['class']=[classes[l] for l in y]\n",
    "pl.figure(figsize=(7,5))\n",
    "sn.countplot(y='class',data=df,\n",
    "             palette='Reds',alpha=.5)\n",
    "ti='Label Distribution'\n",
    "pl.title(ti,fontsize=20); pl.legend(loc=4);"
   ]
  },
  {
   "cell_type": "code",
   "execution_count": 13,
   "metadata": {
    "_kg_hide-input": true,
    "execution": {
     "iopub.execute_input": "2020-08-28T20:27:01.746981Z",
     "iopub.status.busy": "2020-08-28T20:27:01.745861Z",
     "iopub.status.idle": "2020-08-28T20:27:01.750280Z",
     "shell.execute_reply": "2020-08-28T20:27:01.749550Z"
    },
    "papermill": {
     "duration": 0.075329,
     "end_time": "2020-08-28T20:27:01.750410",
     "exception": false,
     "start_time": "2020-08-28T20:27:01.675081",
     "status": "completed"
    },
    "tags": []
   },
   "outputs": [
    {
     "data": {
      "text/html": [
       "<style>\n",
       "    @import 'https://fonts.googleapis.com/css?family=Smokum&effect=3d';      \n",
       "    </style><h1 class='font-effect-3d' \n",
       "    style='font-family:Smokum; color:#ff33aa; font-size:35px;'>\n",
       "    NN Examples</h1>"
      ],
      "text/plain": [
       "<IPython.core.display.HTML object>"
      ]
     },
     "metadata": {},
     "output_type": "display_data"
    }
   ],
   "source": [
    "dhtml('NN Examples')"
   ]
  },
  {
   "cell_type": "code",
   "execution_count": 14,
   "metadata": {
    "execution": {
     "iopub.execute_input": "2020-08-28T20:27:01.899106Z",
     "iopub.status.busy": "2020-08-28T20:27:01.898275Z",
     "iopub.status.idle": "2020-08-28T20:27:01.901942Z",
     "shell.execute_reply": "2020-08-28T20:27:01.901214Z"
    },
    "papermill": {
     "duration": 0.084746,
     "end_time": "2020-08-28T20:27:01.902085",
     "exception": false,
     "start_time": "2020-08-28T20:27:01.817339",
     "status": "completed"
    },
    "tags": []
   },
   "outputs": [],
   "source": [
    "def cnn_model():\n",
    "    model=Sequential()\n",
    "    model.add(tkl.Conv2D(32,(5,5),padding='same',\n",
    "                         input_shape=x_train.shape[1:]))\n",
    "    model.add(tkl.Activation('relu'))\n",
    "    model.add(tkl.MaxPooling2D(pool_size=(2,2)))\n",
    "    model.add(tkl.Dropout(.25))\n",
    "    model.add(tkl.Conv2D(96,(5,5)))\n",
    "    model.add(tkl.Activation('relu'))    \n",
    "    model.add(tkl.MaxPooling2D(pool_size=(2,2)))\n",
    "    model.add(tkl.Dropout(.25))\n",
    "    model.add(tkl.GlobalAveragePooling2D())    \n",
    "    model.add(tkl.Dense(1024,activation='relu'))\n",
    "    model.add(tkl.Dropout(.5))         \n",
    " #   model.add(tkl.Dense(128,activation='relu'))\n",
    " #   model.add(tkl.Dropout(.25)) \n",
    "    model.add(tkl.Dense(10))\n",
    "    model.add(tkl.Activation('softmax'))\n",
    "    model.compile(loss='sparse_categorical_crossentropy',\n",
    "                  optimizer='adam',metrics=['accuracy'])\n",
    "    return model"
   ]
  },
  {
   "cell_type": "code",
   "execution_count": 15,
   "metadata": {
    "_kg_hide-output": true,
    "execution": {
     "iopub.execute_input": "2020-08-28T20:27:02.070664Z",
     "iopub.status.busy": "2020-08-28T20:27:02.069531Z",
     "iopub.status.idle": "2020-08-28T20:30:42.774187Z",
     "shell.execute_reply": "2020-08-28T20:30:42.773372Z"
    },
    "papermill": {
     "duration": 220.792897,
     "end_time": "2020-08-28T20:30:42.774328",
     "exception": false,
     "start_time": "2020-08-28T20:27:01.981431",
     "status": "completed"
    },
    "tags": []
   },
   "outputs": [
    {
     "name": "stdout",
     "output_type": "stream",
     "text": [
      "Epoch 1/100\n",
      "\n",
      "Epoch 00001: val_loss improved from inf to 2.29731, saving model to weights.best.hdf5\n",
      "28/28 - 3s - loss: 2.3054 - accuracy: 0.0993 - val_loss: 2.2973 - val_accuracy: 0.1591 - lr: 0.0010\n",
      "Epoch 2/100\n",
      "\n",
      "Epoch 00002: val_loss improved from 2.29731 to 2.22411, saving model to weights.best.hdf5\n",
      "28/28 - 2s - loss: 2.2782 - accuracy: 0.1504 - val_loss: 2.2241 - val_accuracy: 0.1636 - lr: 0.0010\n",
      "Epoch 3/100\n",
      "\n",
      "Epoch 00003: val_loss improved from 2.22411 to 2.14415, saving model to weights.best.hdf5\n",
      "28/28 - 2s - loss: 2.1944 - accuracy: 0.1697 - val_loss: 2.1441 - val_accuracy: 0.1727 - lr: 0.0010\n",
      "Epoch 4/100\n",
      "\n",
      "Epoch 00004: val_loss improved from 2.14415 to 2.07830, saving model to weights.best.hdf5\n",
      "28/28 - 2s - loss: 2.1390 - accuracy: 0.1941 - val_loss: 2.0783 - val_accuracy: 0.2182 - lr: 0.0010\n",
      "Epoch 5/100\n",
      "\n",
      "Epoch 00005: val_loss improved from 2.07830 to 2.01732, saving model to weights.best.hdf5\n",
      "28/28 - 2s - loss: 2.0757 - accuracy: 0.2157 - val_loss: 2.0173 - val_accuracy: 0.2500 - lr: 0.0010\n",
      "Epoch 6/100\n",
      "\n",
      "Epoch 00006: val_loss improved from 2.01732 to 2.01571, saving model to weights.best.hdf5\n",
      "28/28 - 2s - loss: 2.0434 - accuracy: 0.2429 - val_loss: 2.0157 - val_accuracy: 0.2500 - lr: 0.0010\n",
      "Epoch 7/100\n",
      "\n",
      "Epoch 00007: val_loss improved from 2.01571 to 1.90781, saving model to weights.best.hdf5\n",
      "28/28 - 3s - loss: 1.9697 - accuracy: 0.2474 - val_loss: 1.9078 - val_accuracy: 0.2682 - lr: 0.0010\n",
      "Epoch 8/100\n",
      "\n",
      "Epoch 00008: val_loss did not improve from 1.90781\n",
      "28/28 - 2s - loss: 1.9909 - accuracy: 0.2588 - val_loss: 1.9147 - val_accuracy: 0.3000 - lr: 0.0010\n",
      "Epoch 9/100\n",
      "\n",
      "Epoch 00009: val_loss improved from 1.90781 to 1.82143, saving model to weights.best.hdf5\n",
      "28/28 - 2s - loss: 1.8876 - accuracy: 0.2770 - val_loss: 1.8214 - val_accuracy: 0.2955 - lr: 0.0010\n",
      "Epoch 10/100\n",
      "\n",
      "Epoch 00010: val_loss improved from 1.82143 to 1.81518, saving model to weights.best.hdf5\n",
      "28/28 - 2s - loss: 1.8033 - accuracy: 0.3150 - val_loss: 1.8152 - val_accuracy: 0.3273 - lr: 0.0010\n",
      "Epoch 11/100\n",
      "\n",
      "Epoch 00011: val_loss improved from 1.81518 to 1.79578, saving model to weights.best.hdf5\n",
      "28/28 - 3s - loss: 1.7832 - accuracy: 0.3258 - val_loss: 1.7958 - val_accuracy: 0.3545 - lr: 0.0010\n",
      "Epoch 12/100\n",
      "\n",
      "Epoch 00012: val_loss improved from 1.79578 to 1.77550, saving model to weights.best.hdf5\n",
      "28/28 - 2s - loss: 1.7437 - accuracy: 0.3451 - val_loss: 1.7755 - val_accuracy: 0.3591 - lr: 0.0010\n",
      "Epoch 13/100\n",
      "\n",
      "Epoch 00013: val_loss improved from 1.77550 to 1.71947, saving model to weights.best.hdf5\n",
      "28/28 - 2s - loss: 1.7017 - accuracy: 0.3575 - val_loss: 1.7195 - val_accuracy: 0.3864 - lr: 0.0010\n",
      "Epoch 14/100\n",
      "\n",
      "Epoch 00014: val_loss did not improve from 1.71947\n",
      "28/28 - 2s - loss: 1.6990 - accuracy: 0.3740 - val_loss: 1.7247 - val_accuracy: 0.3545 - lr: 0.0010\n",
      "Epoch 15/100\n",
      "\n",
      "Epoch 00015: val_loss did not improve from 1.71947\n",
      "28/28 - 2s - loss: 1.6614 - accuracy: 0.3927 - val_loss: 1.7712 - val_accuracy: 0.3045 - lr: 0.0010\n",
      "Epoch 16/100\n",
      "\n",
      "Epoch 00016: val_loss improved from 1.71947 to 1.67962, saving model to weights.best.hdf5\n",
      "28/28 - 2s - loss: 1.6422 - accuracy: 0.3712 - val_loss: 1.6796 - val_accuracy: 0.3682 - lr: 0.0010\n",
      "Epoch 17/100\n",
      "\n",
      "Epoch 00017: val_loss did not improve from 1.67962\n",
      "28/28 - 2s - loss: 1.5659 - accuracy: 0.4154 - val_loss: 1.7071 - val_accuracy: 0.3864 - lr: 0.0010\n",
      "Epoch 18/100\n",
      "\n",
      "Epoch 00018: val_loss did not improve from 1.67962\n",
      "28/28 - 2s - loss: 1.5807 - accuracy: 0.4217 - val_loss: 1.7079 - val_accuracy: 0.4091 - lr: 0.0010\n",
      "Epoch 19/100\n",
      "\n",
      "Epoch 00019: val_loss improved from 1.67962 to 1.67630, saving model to weights.best.hdf5\n",
      "28/28 - 2s - loss: 1.5619 - accuracy: 0.4137 - val_loss: 1.6763 - val_accuracy: 0.3591 - lr: 0.0010\n",
      "Epoch 20/100\n",
      "\n",
      "Epoch 00020: val_loss improved from 1.67630 to 1.57747, saving model to weights.best.hdf5\n",
      "28/28 - 2s - loss: 1.5022 - accuracy: 0.4461 - val_loss: 1.5775 - val_accuracy: 0.4091 - lr: 0.0010\n",
      "Epoch 21/100\n",
      "\n",
      "Epoch 00021: val_loss did not improve from 1.57747\n",
      "28/28 - 2s - loss: 1.4466 - accuracy: 0.4620 - val_loss: 1.6129 - val_accuracy: 0.4500 - lr: 0.0010\n",
      "Epoch 22/100\n",
      "\n",
      "Epoch 00022: val_loss improved from 1.57747 to 1.54467, saving model to weights.best.hdf5\n",
      "28/28 - 2s - loss: 1.4386 - accuracy: 0.4711 - val_loss: 1.5447 - val_accuracy: 0.4682 - lr: 0.0010\n",
      "Epoch 23/100\n",
      "\n",
      "Epoch 00023: val_loss did not improve from 1.54467\n",
      "28/28 - 2s - loss: 1.4553 - accuracy: 0.4688 - val_loss: 1.6334 - val_accuracy: 0.4000 - lr: 0.0010\n",
      "Epoch 24/100\n",
      "\n",
      "Epoch 00024: val_loss did not improve from 1.54467\n",
      "28/28 - 2s - loss: 1.4174 - accuracy: 0.4682 - val_loss: 1.5843 - val_accuracy: 0.4273 - lr: 0.0010\n",
      "Epoch 25/100\n",
      "\n",
      "Epoch 00025: val_loss did not improve from 1.54467\n",
      "28/28 - 2s - loss: 1.3822 - accuracy: 0.4784 - val_loss: 1.5471 - val_accuracy: 0.4409 - lr: 0.0010\n",
      "Epoch 26/100\n",
      "\n",
      "Epoch 00026: val_loss improved from 1.54467 to 1.54272, saving model to weights.best.hdf5\n",
      "28/28 - 2s - loss: 1.3488 - accuracy: 0.5045 - val_loss: 1.5427 - val_accuracy: 0.4455 - lr: 0.0010\n",
      "Epoch 27/100\n",
      "\n",
      "Epoch 00027: val_loss did not improve from 1.54272\n",
      "28/28 - 2s - loss: 1.3679 - accuracy: 0.4955 - val_loss: 1.5944 - val_accuracy: 0.3955 - lr: 0.0010\n",
      "Epoch 28/100\n",
      "\n",
      "Epoch 00028: val_loss improved from 1.54272 to 1.50041, saving model to weights.best.hdf5\n",
      "28/28 - 2s - loss: 1.3365 - accuracy: 0.5074 - val_loss: 1.5004 - val_accuracy: 0.4955 - lr: 0.0010\n",
      "Epoch 29/100\n",
      "\n",
      "Epoch 00029: val_loss improved from 1.50041 to 1.48063, saving model to weights.best.hdf5\n",
      "28/28 - 2s - loss: 1.3282 - accuracy: 0.5255 - val_loss: 1.4806 - val_accuracy: 0.4636 - lr: 0.0010\n",
      "Epoch 30/100\n",
      "\n",
      "Epoch 00030: val_loss did not improve from 1.48063\n",
      "28/28 - 2s - loss: 1.2825 - accuracy: 0.5261 - val_loss: 1.5489 - val_accuracy: 0.4273 - lr: 0.0010\n",
      "Epoch 31/100\n",
      "\n",
      "Epoch 00031: val_loss improved from 1.48063 to 1.46889, saving model to weights.best.hdf5\n",
      "28/28 - 2s - loss: 1.2550 - accuracy: 0.5454 - val_loss: 1.4689 - val_accuracy: 0.4545 - lr: 0.0010\n",
      "Epoch 32/100\n",
      "\n",
      "Epoch 00032: val_loss did not improve from 1.46889\n",
      "28/28 - 2s - loss: 1.2756 - accuracy: 0.5221 - val_loss: 1.5206 - val_accuracy: 0.4455 - lr: 0.0010\n",
      "Epoch 33/100\n",
      "\n",
      "Epoch 00033: val_loss did not improve from 1.46889\n",
      "28/28 - 2s - loss: 1.2803 - accuracy: 0.5261 - val_loss: 1.4919 - val_accuracy: 0.4682 - lr: 0.0010\n",
      "Epoch 34/100\n",
      "\n",
      "Epoch 00034: val_loss improved from 1.46889 to 1.44867, saving model to weights.best.hdf5\n",
      "28/28 - 2s - loss: 1.1817 - accuracy: 0.5568 - val_loss: 1.4487 - val_accuracy: 0.5000 - lr: 0.0010\n",
      "Epoch 35/100\n",
      "\n",
      "Epoch 00035: val_loss did not improve from 1.44867\n",
      "28/28 - 2s - loss: 1.1846 - accuracy: 0.5522 - val_loss: 1.4857 - val_accuracy: 0.4773 - lr: 0.0010\n",
      "Epoch 36/100\n",
      "\n",
      "Epoch 00036: val_loss did not improve from 1.44867\n",
      "28/28 - 2s - loss: 1.1721 - accuracy: 0.5568 - val_loss: 1.5544 - val_accuracy: 0.4636 - lr: 0.0010\n",
      "Epoch 37/100\n",
      "\n",
      "Epoch 00037: val_loss did not improve from 1.44867\n",
      "28/28 - 2s - loss: 1.1389 - accuracy: 0.5891 - val_loss: 1.5565 - val_accuracy: 0.4273 - lr: 0.0010\n",
      "Epoch 38/100\n",
      "\n",
      "Epoch 00038: val_loss did not improve from 1.44867\n",
      "28/28 - 2s - loss: 1.1418 - accuracy: 0.5715 - val_loss: 1.4665 - val_accuracy: 0.4955 - lr: 0.0010\n",
      "Epoch 39/100\n",
      "\n",
      "Epoch 00039: val_loss improved from 1.44867 to 1.44397, saving model to weights.best.hdf5\n",
      "28/28 - 2s - loss: 1.1383 - accuracy: 0.5738 - val_loss: 1.4440 - val_accuracy: 0.5091 - lr: 0.0010\n",
      "Epoch 40/100\n",
      "\n",
      "Epoch 00040: val_loss improved from 1.44397 to 1.42620, saving model to weights.best.hdf5\n",
      "28/28 - 2s - loss: 1.1304 - accuracy: 0.5766 - val_loss: 1.4262 - val_accuracy: 0.4864 - lr: 0.0010\n",
      "Epoch 41/100\n",
      "\n",
      "Epoch 00041: val_loss did not improve from 1.42620\n",
      "28/28 - 2s - loss: 1.0880 - accuracy: 0.5970 - val_loss: 1.4360 - val_accuracy: 0.4864 - lr: 0.0010\n",
      "Epoch 42/100\n",
      "\n",
      "Epoch 00042: val_loss did not improve from 1.42620\n",
      "28/28 - 2s - loss: 1.0694 - accuracy: 0.6152 - val_loss: 1.4438 - val_accuracy: 0.5136 - lr: 0.0010\n",
      "Epoch 43/100\n",
      "\n",
      "Epoch 00043: val_loss improved from 1.42620 to 1.39372, saving model to weights.best.hdf5\n",
      "28/28 - 2s - loss: 1.0592 - accuracy: 0.6124 - val_loss: 1.3937 - val_accuracy: 0.5091 - lr: 0.0010\n",
      "Epoch 44/100\n",
      "\n",
      "Epoch 00044: val_loss did not improve from 1.39372\n",
      "28/28 - 2s - loss: 1.0232 - accuracy: 0.6135 - val_loss: 1.4044 - val_accuracy: 0.5318 - lr: 0.0010\n",
      "Epoch 45/100\n",
      "\n",
      "Epoch 00045: val_loss improved from 1.39372 to 1.38485, saving model to weights.best.hdf5\n",
      "28/28 - 2s - loss: 1.0123 - accuracy: 0.6442 - val_loss: 1.3848 - val_accuracy: 0.5136 - lr: 0.0010\n",
      "Epoch 46/100\n",
      "\n",
      "Epoch 00046: val_loss did not improve from 1.38485\n",
      "28/28 - 2s - loss: 1.0021 - accuracy: 0.6339 - val_loss: 1.4067 - val_accuracy: 0.5136 - lr: 0.0010\n",
      "Epoch 47/100\n",
      "\n",
      "Epoch 00047: val_loss did not improve from 1.38485\n",
      "28/28 - 2s - loss: 1.0008 - accuracy: 0.6288 - val_loss: 1.4799 - val_accuracy: 0.4955 - lr: 0.0010\n",
      "Epoch 48/100\n",
      "\n",
      "Epoch 00048: val_loss improved from 1.38485 to 1.35721, saving model to weights.best.hdf5\n",
      "28/28 - 2s - loss: 1.0011 - accuracy: 0.6334 - val_loss: 1.3572 - val_accuracy: 0.5545 - lr: 0.0010\n",
      "Epoch 49/100\n",
      "\n",
      "Epoch 00049: val_loss did not improve from 1.35721\n",
      "28/28 - 2s - loss: 0.9378 - accuracy: 0.6453 - val_loss: 1.4524 - val_accuracy: 0.5091 - lr: 0.0010\n",
      "Epoch 50/100\n",
      "\n",
      "Epoch 00050: val_loss did not improve from 1.35721\n",
      "28/28 - 2s - loss: 0.9412 - accuracy: 0.6589 - val_loss: 1.5124 - val_accuracy: 0.4864 - lr: 0.0010\n",
      "Epoch 51/100\n",
      "\n",
      "Epoch 00051: val_loss did not improve from 1.35721\n",
      "28/28 - 2s - loss: 0.9586 - accuracy: 0.6459 - val_loss: 1.4263 - val_accuracy: 0.5091 - lr: 0.0010\n",
      "Epoch 52/100\n",
      "\n",
      "Epoch 00052: val_loss did not improve from 1.35721\n",
      "28/28 - 2s - loss: 0.9092 - accuracy: 0.6561 - val_loss: 1.3881 - val_accuracy: 0.5500 - lr: 0.0010\n",
      "Epoch 53/100\n",
      "\n",
      "Epoch 00053: val_loss did not improve from 1.35721\n",
      "\n",
      "Epoch 00053: ReduceLROnPlateau reducing learning rate to 0.000800000037997961.\n",
      "28/28 - 2s - loss: 0.8900 - accuracy: 0.6748 - val_loss: 1.4448 - val_accuracy: 0.5136 - lr: 0.0010\n",
      "Epoch 54/100\n",
      "\n",
      "Epoch 00054: val_loss did not improve from 1.35721\n",
      "28/28 - 2s - loss: 0.8513 - accuracy: 0.6907 - val_loss: 1.4267 - val_accuracy: 0.5364 - lr: 8.0000e-04\n",
      "Epoch 55/100\n",
      "\n",
      "Epoch 00055: val_loss did not improve from 1.35721\n",
      "28/28 - 2s - loss: 0.8536 - accuracy: 0.6935 - val_loss: 1.3808 - val_accuracy: 0.5136 - lr: 8.0000e-04\n",
      "Epoch 56/100\n",
      "\n",
      "Epoch 00056: val_loss did not improve from 1.35721\n",
      "28/28 - 3s - loss: 0.8403 - accuracy: 0.6873 - val_loss: 1.3635 - val_accuracy: 0.5409 - lr: 8.0000e-04\n",
      "Epoch 57/100\n",
      "\n",
      "Epoch 00057: val_loss did not improve from 1.35721\n",
      "28/28 - 2s - loss: 0.7860 - accuracy: 0.7168 - val_loss: 1.5187 - val_accuracy: 0.5136 - lr: 8.0000e-04\n",
      "Epoch 58/100\n",
      "\n",
      "Epoch 00058: val_loss did not improve from 1.35721\n",
      "\n",
      "Epoch 00058: ReduceLROnPlateau reducing learning rate to 0.0006400000303983689.\n",
      "28/28 - 2s - loss: 0.7805 - accuracy: 0.7134 - val_loss: 1.4392 - val_accuracy: 0.5636 - lr: 8.0000e-04\n",
      "Epoch 59/100\n",
      "\n",
      "Epoch 00059: val_loss did not improve from 1.35721\n",
      "28/28 - 2s - loss: 0.7920 - accuracy: 0.7145 - val_loss: 1.4257 - val_accuracy: 0.5364 - lr: 6.4000e-04\n",
      "Epoch 60/100\n",
      "\n",
      "Epoch 00060: val_loss did not improve from 1.35721\n",
      "28/28 - 2s - loss: 0.7872 - accuracy: 0.7247 - val_loss: 1.3826 - val_accuracy: 0.5455 - lr: 6.4000e-04\n",
      "Epoch 61/100\n",
      "\n",
      "Epoch 00061: val_loss improved from 1.35721 to 1.32946, saving model to weights.best.hdf5\n",
      "28/28 - 2s - loss: 0.7901 - accuracy: 0.7072 - val_loss: 1.3295 - val_accuracy: 0.5818 - lr: 6.4000e-04\n",
      "Epoch 62/100\n",
      "\n",
      "Epoch 00062: val_loss did not improve from 1.32946\n",
      "28/28 - 2s - loss: 0.7474 - accuracy: 0.7316 - val_loss: 1.3802 - val_accuracy: 0.5818 - lr: 6.4000e-04\n",
      "Epoch 63/100\n",
      "\n",
      "Epoch 00063: val_loss did not improve from 1.32946\n",
      "28/28 - 2s - loss: 0.7186 - accuracy: 0.7384 - val_loss: 1.3888 - val_accuracy: 0.5455 - lr: 6.4000e-04\n",
      "Epoch 64/100\n",
      "\n",
      "Epoch 00064: val_loss did not improve from 1.32946\n",
      "28/28 - 2s - loss: 0.7164 - accuracy: 0.7299 - val_loss: 1.3477 - val_accuracy: 0.5682 - lr: 6.4000e-04\n",
      "Epoch 65/100\n",
      "\n",
      "Epoch 00065: val_loss did not improve from 1.32946\n",
      "28/28 - 2s - loss: 0.7119 - accuracy: 0.7440 - val_loss: 1.4085 - val_accuracy: 0.5500 - lr: 6.4000e-04\n",
      "Epoch 66/100\n",
      "\n",
      "Epoch 00066: val_loss did not improve from 1.32946\n",
      "\n",
      "Epoch 00066: ReduceLROnPlateau reducing learning rate to 0.0005120000336319208.\n",
      "28/28 - 2s - loss: 0.7459 - accuracy: 0.7253 - val_loss: 1.3603 - val_accuracy: 0.5273 - lr: 6.4000e-04\n",
      "Epoch 67/100\n",
      "\n",
      "Epoch 00067: val_loss did not improve from 1.32946\n",
      "28/28 - 2s - loss: 0.6822 - accuracy: 0.7565 - val_loss: 1.3901 - val_accuracy: 0.5682 - lr: 5.1200e-04\n",
      "Epoch 68/100\n",
      "\n",
      "Epoch 00068: val_loss did not improve from 1.32946\n",
      "28/28 - 2s - loss: 0.6911 - accuracy: 0.7645 - val_loss: 1.4029 - val_accuracy: 0.5591 - lr: 5.1200e-04\n",
      "Epoch 69/100\n",
      "\n",
      "Epoch 00069: val_loss did not improve from 1.32946\n",
      "28/28 - 2s - loss: 0.6833 - accuracy: 0.7486 - val_loss: 1.3530 - val_accuracy: 0.5818 - lr: 5.1200e-04\n",
      "Epoch 70/100\n",
      "\n",
      "Epoch 00070: val_loss did not improve from 1.32946\n",
      "28/28 - 2s - loss: 0.6620 - accuracy: 0.7645 - val_loss: 1.3599 - val_accuracy: 0.5818 - lr: 5.1200e-04\n",
      "Epoch 71/100\n",
      "\n",
      "Epoch 00071: val_loss improved from 1.32946 to 1.32276, saving model to weights.best.hdf5\n",
      "28/28 - 2s - loss: 0.6545 - accuracy: 0.7639 - val_loss: 1.3228 - val_accuracy: 0.5727 - lr: 5.1200e-04\n",
      "Epoch 72/100\n",
      "\n",
      "Epoch 00072: val_loss did not improve from 1.32276\n",
      "28/28 - 2s - loss: 0.6368 - accuracy: 0.7696 - val_loss: 1.4066 - val_accuracy: 0.5636 - lr: 5.1200e-04\n",
      "Epoch 73/100\n",
      "\n",
      "Epoch 00073: val_loss did not improve from 1.32276\n",
      "28/28 - 2s - loss: 0.6642 - accuracy: 0.7673 - val_loss: 1.4161 - val_accuracy: 0.5682 - lr: 5.1200e-04\n",
      "Epoch 74/100\n",
      "\n",
      "Epoch 00074: val_loss did not improve from 1.32276\n",
      "28/28 - 2s - loss: 0.6421 - accuracy: 0.7764 - val_loss: 1.4429 - val_accuracy: 0.5591 - lr: 5.1200e-04\n",
      "Epoch 75/100\n",
      "\n",
      "Epoch 00075: val_loss did not improve from 1.32276\n",
      "28/28 - 2s - loss: 0.6544 - accuracy: 0.7571 - val_loss: 1.3779 - val_accuracy: 0.5500 - lr: 5.1200e-04\n",
      "Epoch 76/100\n",
      "\n",
      "Epoch 00076: val_loss did not improve from 1.32276\n",
      "\n",
      "Epoch 00076: ReduceLROnPlateau reducing learning rate to 0.00040960004553198815.\n",
      "28/28 - 2s - loss: 0.6244 - accuracy: 0.7753 - val_loss: 1.4039 - val_accuracy: 0.5591 - lr: 5.1200e-04\n",
      "Epoch 77/100\n",
      "\n",
      "Epoch 00077: val_loss did not improve from 1.32276\n",
      "28/28 - 2s - loss: 0.6218 - accuracy: 0.7747 - val_loss: 1.3630 - val_accuracy: 0.5591 - lr: 4.0960e-04\n",
      "Epoch 78/100\n",
      "\n",
      "Epoch 00078: val_loss did not improve from 1.32276\n",
      "28/28 - 2s - loss: 0.6005 - accuracy: 0.7860 - val_loss: 1.3977 - val_accuracy: 0.5682 - lr: 4.0960e-04\n",
      "Epoch 79/100\n",
      "\n",
      "Epoch 00079: val_loss did not improve from 1.32276\n",
      "28/28 - 2s - loss: 0.6229 - accuracy: 0.7775 - val_loss: 1.3708 - val_accuracy: 0.5818 - lr: 4.0960e-04\n",
      "Epoch 80/100\n",
      "\n",
      "Epoch 00080: val_loss did not improve from 1.32276\n",
      "28/28 - 2s - loss: 0.5930 - accuracy: 0.7855 - val_loss: 1.3628 - val_accuracy: 0.5727 - lr: 4.0960e-04\n",
      "Epoch 81/100\n",
      "\n",
      "Epoch 00081: val_loss did not improve from 1.32276\n",
      "\n",
      "Epoch 00081: ReduceLROnPlateau reducing learning rate to 0.00032768002711236477.\n",
      "28/28 - 2s - loss: 0.6007 - accuracy: 0.7900 - val_loss: 1.3580 - val_accuracy: 0.5818 - lr: 4.0960e-04\n",
      "Epoch 82/100\n",
      "\n",
      "Epoch 00082: val_loss did not improve from 1.32276\n",
      "28/28 - 2s - loss: 0.5663 - accuracy: 0.7980 - val_loss: 1.3724 - val_accuracy: 0.5727 - lr: 3.2768e-04\n",
      "Epoch 83/100\n",
      "\n",
      "Epoch 00083: val_loss did not improve from 1.32276\n",
      "28/28 - 2s - loss: 0.5646 - accuracy: 0.8002 - val_loss: 1.3923 - val_accuracy: 0.5864 - lr: 3.2768e-04\n",
      "Epoch 84/100\n",
      "\n",
      "Epoch 00084: val_loss did not improve from 1.32276\n",
      "28/28 - 2s - loss: 0.5774 - accuracy: 0.8002 - val_loss: 1.3836 - val_accuracy: 0.5818 - lr: 3.2768e-04\n",
      "Epoch 85/100\n",
      "\n",
      "Epoch 00085: val_loss did not improve from 1.32276\n",
      "28/28 - 2s - loss: 0.5641 - accuracy: 0.7860 - val_loss: 1.4032 - val_accuracy: 0.5727 - lr: 3.2768e-04\n",
      "Epoch 86/100\n",
      "\n",
      "Epoch 00086: val_loss did not improve from 1.32276\n",
      "\n",
      "Epoch 00086: ReduceLROnPlateau reducing learning rate to 0.0002621440216898918.\n",
      "28/28 - 2s - loss: 0.5720 - accuracy: 0.7911 - val_loss: 1.3982 - val_accuracy: 0.6091 - lr: 3.2768e-04\n",
      "Epoch 87/100\n",
      "\n",
      "Epoch 00087: val_loss did not improve from 1.32276\n",
      "28/28 - 2s - loss: 0.5293 - accuracy: 0.8104 - val_loss: 1.4050 - val_accuracy: 0.5909 - lr: 2.6214e-04\n",
      "Epoch 88/100\n",
      "\n",
      "Epoch 00088: val_loss did not improve from 1.32276\n",
      "28/28 - 2s - loss: 0.5438 - accuracy: 0.8156 - val_loss: 1.3856 - val_accuracy: 0.5864 - lr: 2.6214e-04\n",
      "Epoch 89/100\n",
      "\n",
      "Epoch 00089: val_loss did not improve from 1.32276\n",
      "28/28 - 2s - loss: 0.5325 - accuracy: 0.8099 - val_loss: 1.4051 - val_accuracy: 0.6000 - lr: 2.6214e-04\n",
      "Epoch 90/100\n",
      "\n",
      "Epoch 00090: val_loss did not improve from 1.32276\n",
      "28/28 - 2s - loss: 0.5411 - accuracy: 0.8048 - val_loss: 1.4048 - val_accuracy: 0.5818 - lr: 2.6214e-04\n",
      "Epoch 91/100\n",
      "\n",
      "Epoch 00091: val_loss did not improve from 1.32276\n",
      "\n",
      "Epoch 00091: ReduceLROnPlateau reducing learning rate to 0.00020971521735191345.\n",
      "28/28 - 2s - loss: 0.5257 - accuracy: 0.8093 - val_loss: 1.3687 - val_accuracy: 0.6136 - lr: 2.6214e-04\n",
      "Epoch 00091: early stopping\n"
     ]
    }
   ],
   "source": [
    "cnn_model=cnn_model()\n",
    "fw='weights.best.hdf5'\n",
    "early_stopping=tkc.EarlyStopping(monitor='val_loss',\n",
    "                                 patience=20,verbose=2)\n",
    "checkpointer=tkc.ModelCheckpoint(filepath=fw,verbose=2,\n",
    "                                 save_best_only=True)\n",
    "lr_reduction=tkc.ReduceLROnPlateau(monitor='val_loss',verbose=2,\n",
    "                                   patience=5,factor=.8)\n",
    "history=cnn_model.fit(x_train,y_train,epochs=100,\n",
    "                      batch_size=64,verbose=2,\n",
    "                      validation_data=(x_valid,y_valid),\n",
    "                      callbacks=[checkpointer,\n",
    "                                 early_stopping,\n",
    "                                 lr_reduction])"
   ]
  },
  {
   "cell_type": "code",
   "execution_count": 16,
   "metadata": {
    "execution": {
     "iopub.execute_input": "2020-08-28T20:30:43.075490Z",
     "iopub.status.busy": "2020-08-28T20:30:43.074542Z",
     "iopub.status.idle": "2020-08-28T20:30:43.461474Z",
     "shell.execute_reply": "2020-08-28T20:30:43.460730Z"
    },
    "papermill": {
     "duration": 0.547174,
     "end_time": "2020-08-28T20:30:43.461598",
     "exception": false,
     "start_time": "2020-08-28T20:30:42.914424",
     "status": "completed"
    },
    "tags": []
   },
   "outputs": [
    {
     "data": {
      "image/png": "[encoded data removed]",
      "text/plain": [
       "<Figure size 720x720 with 2 Axes>"
      ]
     },
     "metadata": {
      "needs_background": "light"
     },
     "output_type": "display_data"
    }
   ],
   "source": [
    "def history_plot(fit_history):\n",
    "    pl.figure(figsize=(10,10)); pl.subplot(211)\n",
    "    keys=list(fit_history.history.keys())[0:4]\n",
    "    pl.plot(fit_history.history[keys[0]],\n",
    "            color='slategray',label='train')\n",
    "    pl.plot(fit_history.history[keys[2]],\n",
    "            color='#ff33aa',label='valid')\n",
    "    pl.xlabel(\"Epochs\"); pl.ylabel(\"Loss\")\n",
    "    pl.legend(); pl.grid()\n",
    "    pl.title('Loss Function')     \n",
    "    pl.subplot(212)\n",
    "    pl.plot(fit_history.history[keys[1]],\n",
    "            color='slategray',label='train')\n",
    "    pl.plot(fit_history.history[keys[3]],\n",
    "            color='#ff33aa',label='valid')\n",
    "    pl.xlabel(\"Epochs\"); pl.ylabel(\"Accuracy\")    \n",
    "    pl.legend(); pl.grid()\n",
    "    pl.title('Accuracy'); pl.show()\n",
    "history_plot(history)"
   ]
  },
  {
   "cell_type": "code",
   "execution_count": 17,
   "metadata": {
    "execution": {
     "iopub.execute_input": "2020-08-28T20:30:43.766301Z",
     "iopub.status.busy": "2020-08-28T20:30:43.765531Z",
     "iopub.status.idle": "2020-08-28T20:30:43.898504Z",
     "shell.execute_reply": "2020-08-28T20:30:43.897874Z"
    },
    "papermill": {
     "duration": 0.294089,
     "end_time": "2020-08-28T20:30:43.898637",
     "exception": false,
     "start_time": "2020-08-28T20:30:43.604548",
     "status": "completed"
    },
    "tags": []
   },
   "outputs": [
    {
     "name": "stdout",
     "output_type": "stream",
     "text": [
      "7/7 [==============================] - 0s 11ms/step - loss: 1.4504 - accuracy: 0.5227\n"
     ]
    },
    {
     "data": {
      "text/plain": [
       "[1.4503591060638428, 0.5227272510528564]"
      ]
     },
     "execution_count": 17,
     "metadata": {},
     "output_type": "execute_result"
    }
   ],
   "source": [
    "cnn_model.load_weights(fw)\n",
    "cnn_model.evaluate(x_test,y_test)"
   ]
  },
  {
   "cell_type": "code",
   "execution_count": 18,
   "metadata": {
    "execution": {
     "iopub.execute_input": "2020-08-28T20:30:44.222668Z",
     "iopub.status.busy": "2020-08-28T20:30:44.216368Z",
     "iopub.status.idle": "2020-08-28T20:30:44.376249Z",
     "shell.execute_reply": "2020-08-28T20:30:44.375437Z"
    },
    "papermill": {
     "duration": 0.333879,
     "end_time": "2020-08-28T20:30:44.376377",
     "exception": false,
     "start_time": "2020-08-28T20:30:44.042498",
     "status": "completed"
    },
    "tags": []
   },
   "outputs": [],
   "source": [
    "batch_size=64; img_size=32; n_classes=10; epochs=30\n",
    "base_model=tf.keras.Sequential([\n",
    "    tf.keras.Input((img_size,img_size,3),name='input'),\n",
    "    tf.keras.layers.Conv2D(32,(5,5),padding='same'),\n",
    "    tf.keras.layers.Activation('relu'),\n",
    "    tf.keras.layers.MaxPooling2D(pool_size=(2,2)),\n",
    "    tf.keras.layers.Dropout(.25),\n",
    "    tf.keras.layers.Conv2D(196,(5,5)),\n",
    "    tf.keras.layers.Activation('relu'),    \n",
    "    tf.keras.layers.MaxPooling2D(pool_size=(2,2)),\n",
    "    tf.keras.layers.Dropout(.25),\n",
    "    tf.keras.layers.GlobalMaxPooling2D(),    \n",
    "    tf.keras.layers.Dense(512),\n",
    "    tf.keras.layers.Activation('relu'),\n",
    "    tf.keras.layers.Dropout(.25),\n",
    "    tf.keras.layers.Dense(128),\n",
    "    tf.keras.layers.Activation('relu'),\n",
    "    tf.keras.layers.Dropout(.25),\n",
    "    tf.keras.layers.Dense(n_classes,\n",
    "                          activation='softmax')\n",
    "])\n",
    "adv_config=nsl.configs\\\n",
    ".make_adv_reg_config(multiplier=.2,adv_step_size=.05)\n",
    "adv_model=nsl.keras\\\n",
    ".AdversarialRegularization(base_model,adv_config=adv_config)\n",
    "adv_model.compile(optimizer='adam',\n",
    "                  loss='sparse_categorical_crossentropy',\n",
    "                  metrics=['accuracy'])"
   ]
  },
  {
   "cell_type": "code",
   "execution_count": 19,
   "metadata": {
    "_kg_hide-output": true,
    "execution": {
     "iopub.execute_input": "2020-08-28T20:30:44.680443Z",
     "iopub.status.busy": "2020-08-28T20:30:44.679322Z",
     "iopub.status.idle": "2020-08-28T20:35:11.613282Z",
     "shell.execute_reply": "2020-08-28T20:35:11.613921Z"
    },
    "papermill": {
     "duration": 267.093763,
     "end_time": "2020-08-28T20:35:11.614145",
     "exception": false,
     "start_time": "2020-08-28T20:30:44.520382",
     "status": "completed"
    },
    "tags": []
   },
   "outputs": [
    {
     "name": "stdout",
     "output_type": "stream",
     "text": [
      "Epoch 1/30\n",
      "28/28 - 8s - loss: 2.7790 - sparse_categorical_crossentropy: 2.3156 - sparse_categorical_accuracy: 0.1090 - scaled_adversarial_loss: 0.4634 - val_loss: 2.7590 - val_sparse_categorical_crossentropy: 2.2990 - val_sparse_categorical_accuracy: 0.1562 - val_scaled_adversarial_loss: 0.4600\n",
      "Epoch 2/30\n",
      "28/28 - 8s - loss: 2.7576 - sparse_categorical_crossentropy: 2.2979 - sparse_categorical_accuracy: 0.1158 - scaled_adversarial_loss: 0.4597 - val_loss: 2.7475 - val_sparse_categorical_crossentropy: 2.2893 - val_sparse_categorical_accuracy: 0.1510 - val_scaled_adversarial_loss: 0.4582\n",
      "Epoch 3/30\n",
      "28/28 - 8s - loss: 2.6975 - sparse_categorical_crossentropy: 2.2472 - sparse_categorical_accuracy: 0.1504 - scaled_adversarial_loss: 0.4503 - val_loss: 2.7876 - val_sparse_categorical_crossentropy: 2.3212 - val_sparse_categorical_accuracy: 0.0990 - val_scaled_adversarial_loss: 0.4664\n",
      "Epoch 4/30\n",
      "28/28 - 8s - loss: 2.5210 - sparse_categorical_crossentropy: 2.0976 - sparse_categorical_accuracy: 0.2072 - scaled_adversarial_loss: 0.4234 - val_loss: 2.5584 - val_sparse_categorical_crossentropy: 2.1284 - val_sparse_categorical_accuracy: 0.2240 - val_scaled_adversarial_loss: 0.4300\n",
      "Epoch 5/30\n",
      "28/28 - 8s - loss: 2.3833 - sparse_categorical_crossentropy: 1.9844 - sparse_categorical_accuracy: 0.2281 - scaled_adversarial_loss: 0.3989 - val_loss: 2.4398 - val_sparse_categorical_crossentropy: 2.0291 - val_sparse_categorical_accuracy: 0.2917 - val_scaled_adversarial_loss: 0.4107\n",
      "Epoch 6/30\n",
      "28/28 - 8s - loss: 2.2547 - sparse_categorical_crossentropy: 1.8756 - sparse_categorical_accuracy: 0.2832 - scaled_adversarial_loss: 0.3791 - val_loss: 2.3153 - val_sparse_categorical_crossentropy: 1.9244 - val_sparse_categorical_accuracy: 0.3125 - val_scaled_adversarial_loss: 0.3909\n",
      "Epoch 7/30\n",
      "28/28 - 8s - loss: 2.1180 - sparse_categorical_crossentropy: 1.7587 - sparse_categorical_accuracy: 0.3343 - scaled_adversarial_loss: 0.3594 - val_loss: 2.1533 - val_sparse_categorical_crossentropy: 1.7887 - val_sparse_categorical_accuracy: 0.3698 - val_scaled_adversarial_loss: 0.3647\n",
      "Epoch 8/30\n",
      "28/28 - 8s - loss: 1.9650 - sparse_categorical_crossentropy: 1.6303 - sparse_categorical_accuracy: 0.3956 - scaled_adversarial_loss: 0.3347 - val_loss: 2.1428 - val_sparse_categorical_crossentropy: 1.7781 - val_sparse_categorical_accuracy: 0.4271 - val_scaled_adversarial_loss: 0.3648\n",
      "Epoch 9/30\n",
      "28/28 - 8s - loss: 1.8498 - sparse_categorical_crossentropy: 1.5347 - sparse_categorical_accuracy: 0.4347 - scaled_adversarial_loss: 0.3151 - val_loss: 2.1150 - val_sparse_categorical_crossentropy: 1.7537 - val_sparse_categorical_accuracy: 0.4427 - val_scaled_adversarial_loss: 0.3613\n",
      "Epoch 10/30\n",
      "28/28 - 8s - loss: 1.7903 - sparse_categorical_crossentropy: 1.4850 - sparse_categorical_accuracy: 0.4478 - scaled_adversarial_loss: 0.3053 - val_loss: 2.0124 - val_sparse_categorical_crossentropy: 1.6672 - val_sparse_categorical_accuracy: 0.4167 - val_scaled_adversarial_loss: 0.3452\n",
      "Epoch 11/30\n",
      "28/28 - 8s - loss: 1.6896 - sparse_categorical_crossentropy: 1.4057 - sparse_categorical_accuracy: 0.4796 - scaled_adversarial_loss: 0.2839 - val_loss: 1.8713 - val_sparse_categorical_crossentropy: 1.5492 - val_sparse_categorical_accuracy: 0.4375 - val_scaled_adversarial_loss: 0.3220\n",
      "Epoch 12/30\n",
      "28/28 - 8s - loss: 1.5476 - sparse_categorical_crossentropy: 1.2813 - sparse_categorical_accuracy: 0.5227 - scaled_adversarial_loss: 0.2663 - val_loss: 1.9327 - val_sparse_categorical_crossentropy: 1.5997 - val_sparse_categorical_accuracy: 0.4062 - val_scaled_adversarial_loss: 0.3330\n",
      "Epoch 13/30\n",
      "28/28 - 10s - loss: 1.4784 - sparse_categorical_crossentropy: 1.2293 - sparse_categorical_accuracy: 0.5556 - scaled_adversarial_loss: 0.2491 - val_loss: 1.8826 - val_sparse_categorical_crossentropy: 1.5564 - val_sparse_categorical_accuracy: 0.4792 - val_scaled_adversarial_loss: 0.3262\n",
      "Epoch 14/30\n",
      "28/28 - 8s - loss: 1.4165 - sparse_categorical_crossentropy: 1.1744 - sparse_categorical_accuracy: 0.5749 - scaled_adversarial_loss: 0.2421 - val_loss: 1.8510 - val_sparse_categorical_crossentropy: 1.5299 - val_sparse_categorical_accuracy: 0.4740 - val_scaled_adversarial_loss: 0.3211\n",
      "Epoch 15/30\n",
      "28/28 - 8s - loss: 1.3212 - sparse_categorical_crossentropy: 1.0927 - sparse_categorical_accuracy: 0.5936 - scaled_adversarial_loss: 0.2286 - val_loss: 1.9027 - val_sparse_categorical_crossentropy: 1.5719 - val_sparse_categorical_accuracy: 0.4896 - val_scaled_adversarial_loss: 0.3307\n",
      "Epoch 16/30\n",
      "28/28 - 8s - loss: 1.2482 - sparse_categorical_crossentropy: 1.0357 - sparse_categorical_accuracy: 0.6005 - scaled_adversarial_loss: 0.2126 - val_loss: 1.8032 - val_sparse_categorical_crossentropy: 1.4873 - val_sparse_categorical_accuracy: 0.4688 - val_scaled_adversarial_loss: 0.3159\n",
      "Epoch 17/30\n",
      "28/28 - 8s - loss: 1.1678 - sparse_categorical_crossentropy: 0.9652 - sparse_categorical_accuracy: 0.6362 - scaled_adversarial_loss: 0.2026 - val_loss: 1.9432 - val_sparse_categorical_crossentropy: 1.6021 - val_sparse_categorical_accuracy: 0.4531 - val_scaled_adversarial_loss: 0.3411\n",
      "Epoch 18/30\n",
      "28/28 - 8s - loss: 1.0681 - sparse_categorical_crossentropy: 0.8885 - sparse_categorical_accuracy: 0.6691 - scaled_adversarial_loss: 0.1796 - val_loss: 1.8675 - val_sparse_categorical_crossentropy: 1.5381 - val_sparse_categorical_accuracy: 0.4740 - val_scaled_adversarial_loss: 0.3294\n",
      "Epoch 19/30\n",
      "28/28 - 8s - loss: 1.0529 - sparse_categorical_crossentropy: 0.8657 - sparse_categorical_accuracy: 0.6652 - scaled_adversarial_loss: 0.1872 - val_loss: 1.7340 - val_sparse_categorical_crossentropy: 1.4257 - val_sparse_categorical_accuracy: 0.4635 - val_scaled_adversarial_loss: 0.3083\n",
      "Epoch 20/30\n",
      "28/28 - 8s - loss: 1.0096 - sparse_categorical_crossentropy: 0.8332 - sparse_categorical_accuracy: 0.7015 - scaled_adversarial_loss: 0.1764 - val_loss: 1.8531 - val_sparse_categorical_crossentropy: 1.5232 - val_sparse_categorical_accuracy: 0.4479 - val_scaled_adversarial_loss: 0.3300\n",
      "Epoch 21/30\n",
      "28/28 - 8s - loss: 0.9271 - sparse_categorical_crossentropy: 0.7697 - sparse_categorical_accuracy: 0.7123 - scaled_adversarial_loss: 0.1574 - val_loss: 1.7281 - val_sparse_categorical_crossentropy: 1.4194 - val_sparse_categorical_accuracy: 0.5208 - val_scaled_adversarial_loss: 0.3087\n",
      "Epoch 22/30\n",
      "28/28 - 8s - loss: 0.9073 - sparse_categorical_crossentropy: 0.7532 - sparse_categorical_accuracy: 0.7270 - scaled_adversarial_loss: 0.1541 - val_loss: 1.7386 - val_sparse_categorical_crossentropy: 1.4282 - val_sparse_categorical_accuracy: 0.5156 - val_scaled_adversarial_loss: 0.3104\n",
      "Epoch 23/30\n",
      "28/28 - 8s - loss: 0.8382 - sparse_categorical_crossentropy: 0.6941 - sparse_categorical_accuracy: 0.7401 - scaled_adversarial_loss: 0.1441 - val_loss: 1.8767 - val_sparse_categorical_crossentropy: 1.5416 - val_sparse_categorical_accuracy: 0.4635 - val_scaled_adversarial_loss: 0.3351\n",
      "Epoch 24/30\n",
      "28/28 - 9s - loss: 0.8320 - sparse_categorical_crossentropy: 0.6857 - sparse_categorical_accuracy: 0.7440 - scaled_adversarial_loss: 0.1463 - val_loss: 1.8246 - val_sparse_categorical_crossentropy: 1.4972 - val_sparse_categorical_accuracy: 0.4844 - val_scaled_adversarial_loss: 0.3274\n",
      "Epoch 25/30\n",
      "28/28 - 8s - loss: 0.7793 - sparse_categorical_crossentropy: 0.6447 - sparse_categorical_accuracy: 0.7599 - scaled_adversarial_loss: 0.1346 - val_loss: 1.8547 - val_sparse_categorical_crossentropy: 1.5198 - val_sparse_categorical_accuracy: 0.4583 - val_scaled_adversarial_loss: 0.3350\n",
      "Epoch 26/30\n",
      "28/28 - 8s - loss: 0.6699 - sparse_categorical_crossentropy: 0.5497 - sparse_categorical_accuracy: 0.8025 - scaled_adversarial_loss: 0.1202 - val_loss: 1.9829 - val_sparse_categorical_crossentropy: 1.6241 - val_sparse_categorical_accuracy: 0.4688 - val_scaled_adversarial_loss: 0.3589\n",
      "Epoch 27/30\n",
      "28/28 - 8s - loss: 0.7146 - sparse_categorical_crossentropy: 0.5944 - sparse_categorical_accuracy: 0.7809 - scaled_adversarial_loss: 0.1202 - val_loss: 1.9543 - val_sparse_categorical_crossentropy: 1.6027 - val_sparse_categorical_accuracy: 0.4688 - val_scaled_adversarial_loss: 0.3516\n",
      "Epoch 28/30\n",
      "28/28 - 8s - loss: 0.7225 - sparse_categorical_crossentropy: 0.5991 - sparse_categorical_accuracy: 0.7866 - scaled_adversarial_loss: 0.1234 - val_loss: 1.8469 - val_sparse_categorical_crossentropy: 1.5122 - val_sparse_categorical_accuracy: 0.5260 - val_scaled_adversarial_loss: 0.3347\n",
      "Epoch 29/30\n",
      "28/28 - 8s - loss: 0.6477 - sparse_categorical_crossentropy: 0.5333 - sparse_categorical_accuracy: 0.8087 - scaled_adversarial_loss: 0.1144 - val_loss: 1.9358 - val_sparse_categorical_crossentropy: 1.5856 - val_sparse_categorical_accuracy: 0.4844 - val_scaled_adversarial_loss: 0.3502\n",
      "Epoch 30/30\n",
      "28/28 - 8s - loss: 0.6056 - sparse_categorical_crossentropy: 0.4979 - sparse_categorical_accuracy: 0.8161 - scaled_adversarial_loss: 0.1077 - val_loss: 2.2718 - val_sparse_categorical_crossentropy: 1.8599 - val_sparse_categorical_accuracy: 0.4531 - val_scaled_adversarial_loss: 0.4118\n"
     ]
    }
   ],
   "source": [
    "train=tf.data.Dataset.from_tensor_slices(\n",
    "    {'input':x_train,'label':y_train}).batch(batch_size)\n",
    "valid=tf.data.Dataset.from_tensor_slices(\n",
    "    {'input':x_valid,'label':y_valid}).batch(batch_size)\n",
    "valid_steps=x_valid.shape[0]//batch_size\n",
    "adv_model.fit(train,validation_data=valid,verbose=2,\n",
    "              validation_steps=valid_steps,epochs=epochs);"
   ]
  },
  {
   "cell_type": "code",
   "execution_count": 20,
   "metadata": {
    "execution": {
     "iopub.execute_input": "2020-08-28T20:35:11.956732Z",
     "iopub.status.busy": "2020-08-28T20:35:11.955330Z",
     "iopub.status.idle": "2020-08-28T20:35:12.897804Z",
     "shell.execute_reply": "2020-08-28T20:35:12.897126Z"
    },
    "papermill": {
     "duration": 1.116189,
     "end_time": "2020-08-28T20:35:12.897929",
     "exception": false,
     "start_time": "2020-08-28T20:35:11.781740",
     "status": "completed"
    },
    "tags": []
   },
   "outputs": [
    {
     "name": "stdout",
     "output_type": "stream",
     "text": [
      "7/7 [==============================] - 1s 72ms/step - loss: 2.1721 - sparse_categorical_crossentropy: 1.7764 - sparse_categorical_accuracy: 0.4636 - scaled_adversarial_loss: 0.3957\n"
     ]
    },
    {
     "data": {
      "text/plain": [
       "[2.172132730484009, 1.7763901948928833, 0.4636363685131073, 0.3957423269748688]"
      ]
     },
     "execution_count": 20,
     "metadata": {},
     "output_type": "execute_result"
    }
   ],
   "source": [
    "adv_model.evaluate({'input':x_test,'label':y_test})"
   ]
  }
 ],
 "metadata": {
  "kernelspec": {
   "display_name": "Python 3",
   "language": "python",
   "name": "python3"
  },
  "language_info": {
   "codemirror_mode": {
    "name": "ipython",
    "version": 3
   },
   "file_extension": ".py",
   "mimetype": "text/x-python",
   "name": "python",
   "nbconvert_exporter": "python",
   "pygments_lexer": "ipython3",
   "version": "3.7.6"
  },
  "papermill": {
   "duration": 526.096452,
   "end_time": "2020-08-28T20:35:13.180595",
   "environment_variables": {},
   "exception": null,
   "input_path": "__notebook__.ipynb",
   "output_path": "__notebook__.ipynb",
   "parameters": {},
   "start_time": "2020-08-28T20:26:27.084143",
   "version": "2.1.0"
  }
 },
 "nbformat": 4,
 "nbformat_minor": 4
}
