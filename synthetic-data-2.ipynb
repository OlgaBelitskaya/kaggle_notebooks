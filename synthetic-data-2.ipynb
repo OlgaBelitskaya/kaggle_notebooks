{
 "cells": [
  {
   "cell_type": "code",
   "execution_count": 1,
   "metadata": {
    "_kg_hide-input": true,
    "execution": {
     "iopub.execute_input": "2020-08-09T19:37:05.023174Z",
     "iopub.status.busy": "2020-08-09T19:37:05.022310Z",
     "iopub.status.idle": "2020-08-09T19:37:05.026328Z",
     "shell.execute_reply": "2020-08-09T19:37:05.025489Z"
    },
    "papermill": {
     "duration": 0.030444,
     "end_time": "2020-08-09T19:37:05.026483",
     "exception": false,
     "start_time": "2020-08-09T19:37:04.996039",
     "status": "completed"
    },
    "tags": []
   },
   "outputs": [],
   "source": [
    "from IPython.display import display,HTML\n",
    "def dhtml(str):\n",
    "    display(HTML(\"\"\"<style>\n",
    "    @import 'https://fonts.googleapis.com/css?family=Smokum&effect=3d';      \n",
    "    </style><h1 class='font-effect-3d' \n",
    "    style='font-family:Smokum; color:#ff33aa; font-size:35px;'>\n",
    "    %s</h1>\"\"\"%str))"
   ]
  },
  {
   "cell_type": "code",
   "execution_count": 2,
   "metadata": {
    "_kg_hide-output": true,
    "execution": {
     "iopub.execute_input": "2020-08-09T19:37:05.071127Z",
     "iopub.status.busy": "2020-08-09T19:37:05.070217Z",
     "iopub.status.idle": "2020-08-09T19:37:16.638099Z",
     "shell.execute_reply": "2020-08-09T19:37:16.637382Z"
    },
    "papermill": {
     "duration": 11.592515,
     "end_time": "2020-08-09T19:37:16.638234",
     "exception": false,
     "start_time": "2020-08-09T19:37:05.045719",
     "status": "completed"
    },
    "tags": []
   },
   "outputs": [
    {
     "name": "stdout",
     "output_type": "stream",
     "text": [
      "Collecting neural_structured_learning\r\n",
      "  Downloading neural_structured_learning-1.3.0-py2.py3-none-any.whl (120 kB)\r\n",
      "\u001b[K     |████████████████████████████████| 120 kB 402 kB/s \r\n",
      "\u001b[?25hRequirement already satisfied, skipping upgrade: scipy in /opt/conda/lib/python3.7/site-packages (from neural_structured_learning) (1.4.1)\r\n",
      "Requirement already satisfied, skipping upgrade: six in /opt/conda/lib/python3.7/site-packages (from neural_structured_learning) (1.14.0)\r\n",
      "Requirement already satisfied, skipping upgrade: absl-py in /opt/conda/lib/python3.7/site-packages (from neural_structured_learning) (0.9.0)\r\n",
      "Requirement already satisfied, skipping upgrade: attrs in /opt/conda/lib/python3.7/site-packages (from neural_structured_learning) (19.3.0)\r\n",
      "Requirement already satisfied, skipping upgrade: numpy>=1.13.3 in /opt/conda/lib/python3.7/site-packages (from scipy->neural_structured_learning) (1.18.5)\r\n",
      "Installing collected packages: neural-structured-learning\r\n",
      "Successfully installed neural-structured-learning-1.3.0\r\n",
      "\u001b[33mWARNING: You are using pip version 20.1.1; however, version 20.2.1 is available.\r\n",
      "You should consider upgrading via the '/opt/conda/bin/python3.7 -m pip install --upgrade pip' command.\u001b[0m\r\n"
     ]
    }
   ],
   "source": [
    "!pip install --upgrade neural_structured_learning --user"
   ]
  },
  {
   "cell_type": "code",
   "execution_count": 3,
   "metadata": {
    "execution": {
     "iopub.execute_input": "2020-08-09T19:37:16.690865Z",
     "iopub.status.busy": "2020-08-09T19:37:16.689837Z",
     "iopub.status.idle": "2020-08-09T19:37:16.694251Z",
     "shell.execute_reply": "2020-08-09T19:37:16.694862Z"
    },
    "papermill": {
     "duration": 0.034777,
     "end_time": "2020-08-09T19:37:16.695034",
     "exception": false,
     "start_time": "2020-08-09T19:37:16.660257",
     "status": "completed"
    },
    "tags": []
   },
   "outputs": [
    {
     "data": {
      "text/html": [
       "<style>\n",
       "    @import 'https://fonts.googleapis.com/css?family=Smokum&effect=3d';      \n",
       "    </style><h1 class='font-effect-3d' \n",
       "    style='font-family:Smokum; color:#ff33aa; font-size:35px;'>\n",
       "    Code Modules & Settings</h1>"
      ],
      "text/plain": [
       "<IPython.core.display.HTML object>"
      ]
     },
     "metadata": {},
     "output_type": "display_data"
    }
   ],
   "source": [
    "dhtml('Code Modules & Settings')"
   ]
  },
  {
   "cell_type": "code",
   "execution_count": 4,
   "metadata": {
    "_cell_guid": "b1076dfc-b9ad-4769-8c92-a6c4dae69d19",
    "_uuid": "8f2839f25d086af736a60e9eeb907d3b93b6e0e5",
    "execution": {
     "iopub.execute_input": "2020-08-09T19:37:16.748878Z",
     "iopub.status.busy": "2020-08-09T19:37:16.748079Z",
     "iopub.status.idle": "2020-08-09T19:37:25.699267Z",
     "shell.execute_reply": "2020-08-09T19:37:25.698552Z"
    },
    "papermill": {
     "duration": 8.982006,
     "end_time": "2020-08-09T19:37:25.699434",
     "exception": false,
     "start_time": "2020-08-09T19:37:16.717428",
     "status": "completed"
    },
    "tags": []
   },
   "outputs": [],
   "source": [
    "import os,numpy as np,pandas as pd\n",
    "import pylab as pl,seaborn as sn,tensorflow as tf\n",
    "from tensorflow.keras.datasets import cifar10\n",
    "from tensorflow.keras.preprocessing import image as kimg\n",
    "from tqdm import tqdm\n",
    "from tensorflow.keras.models import Sequential\n",
    "from tensorflow.keras import layers as tkl\n",
    "from tensorflow.keras import callbacks as tkc\n",
    "import neural_structured_learning as nsl\n",
    "from PIL import ImageFile\n",
    "ImageFile.LOAD_TRUNCATED_IMAGES=True"
   ]
  },
  {
   "cell_type": "code",
   "execution_count": 5,
   "metadata": {
    "_kg_hide-input": true,
    "execution": {
     "iopub.execute_input": "2020-08-09T19:37:25.750977Z",
     "iopub.status.busy": "2020-08-09T19:37:25.749734Z",
     "iopub.status.idle": "2020-08-09T19:37:25.755129Z",
     "shell.execute_reply": "2020-08-09T19:37:25.754471Z"
    },
    "papermill": {
     "duration": 0.033539,
     "end_time": "2020-08-09T19:37:25.755270",
     "exception": false,
     "start_time": "2020-08-09T19:37:25.721731",
     "status": "completed"
    },
    "tags": []
   },
   "outputs": [
    {
     "data": {
      "text/html": [
       "<style>\n",
       "    @import 'https://fonts.googleapis.com/css?family=Smokum&effect=3d';      \n",
       "    </style><h1 class='font-effect-3d' \n",
       "    style='font-family:Smokum; color:#ff33aa; font-size:35px;'>\n",
       "    Mixed Data</h1>"
      ],
      "text/plain": [
       "<IPython.core.display.HTML object>"
      ]
     },
     "metadata": {},
     "output_type": "display_data"
    }
   ],
   "source": [
    "dhtml('Mixed Data')"
   ]
  },
  {
   "cell_type": "code",
   "execution_count": 6,
   "metadata": {
    "_cell_guid": "79c7e3d0-c299-4dcb-8224-4455121ee9b0",
    "_uuid": "d629ff2d2480ee46fbb7e2d37f6b5fab8052498a",
    "execution": {
     "iopub.execute_input": "2020-08-09T19:37:25.814240Z",
     "iopub.status.busy": "2020-08-09T19:37:25.813435Z",
     "iopub.status.idle": "2020-08-09T19:37:35.557534Z",
     "shell.execute_reply": "2020-08-09T19:37:35.556605Z"
    },
    "papermill": {
     "duration": 9.777513,
     "end_time": "2020-08-09T19:37:35.557709",
     "exception": false,
     "start_time": "2020-08-09T19:37:25.780196",
     "status": "completed"
    },
    "tags": []
   },
   "outputs": [
    {
     "name": "stdout",
     "output_type": "stream",
     "text": [
      "Downloading data from https://www.cs.toronto.edu/~kriz/cifar-10-python.tar.gz\n",
      "170500096/170498071 [==============================] - 6s 0us/step\n"
     ]
    }
   ],
   "source": [
    "n1=1000\n",
    "classes=['plane','car','bird','cat','deer',\n",
    "         'dog','frog','horse','ship','truck']\n",
    "(x,y),(_,_)=cifar10.load_data()\n",
    "x=np.array(x,dtype='float32')/255\n",
    "y=y.reshape(-1)\n",
    "N=len(y); n=int(.1*N)\n",
    "shuffle_ids=np.arange(N)\n",
    "np.random.RandomState(23).shuffle(shuffle_ids)\n",
    "shuffle_ids=shuffle_ids[:n1]\n",
    "x,y=x[shuffle_ids],y[shuffle_ids]"
   ]
  },
  {
   "cell_type": "code",
   "execution_count": 7,
   "metadata": {
    "execution": {
     "iopub.execute_input": "2020-08-09T19:37:35.709150Z",
     "iopub.status.busy": "2020-08-09T19:37:35.707969Z",
     "iopub.status.idle": "2020-08-09T19:37:35.851435Z",
     "shell.execute_reply": "2020-08-09T19:37:35.850557Z"
    },
    "papermill": {
     "duration": 0.227883,
     "end_time": "2020-08-09T19:37:35.851589",
     "exception": false,
     "start_time": "2020-08-09T19:37:35.623706",
     "status": "completed"
    },
    "tags": []
   },
   "outputs": [
    {
     "name": "stdout",
     "output_type": "stream",
     "text": [
      "[(1000, 32, 32, 3), dtype('float32'), (1000,), dtype('uint8')]\n",
      "Label:  horse\n"
     ]
    },
    {
     "data": {
      "image/png": "[encoded data removed]",
      "text/plain": [
       "<Figure size 72x72 with 1 Axes>"
      ]
     },
     "metadata": {},
     "output_type": "display_data"
    }
   ],
   "source": [
    "print([x.shape,x.dtype,y.shape,y.dtype])\n",
    "print('Label: ',classes[y[1]])\n",
    "pl.figure(figsize=(1,1))\n",
    "pl.xticks([]); pl.yticks([])\n",
    "pl.imshow(x[1]);"
   ]
  },
  {
   "cell_type": "code",
   "execution_count": 8,
   "metadata": {
    "execution": {
     "iopub.execute_input": "2020-08-09T19:37:36.031995Z",
     "iopub.status.busy": "2020-08-09T19:37:36.030724Z",
     "iopub.status.idle": "2020-08-09T19:37:40.826444Z",
     "shell.execute_reply": "2020-08-09T19:37:40.825540Z"
    },
    "papermill": {
     "duration": 4.891778,
     "end_time": "2020-08-09T19:37:40.826581",
     "exception": false,
     "start_time": "2020-08-09T19:37:35.934803",
     "status": "completed"
    },
    "tags": []
   },
   "outputs": [
    {
     "name": "stderr",
     "output_type": "stream",
     "text": [
      "100%|██████████| 1673/1673 [00:04<00:00, 357.13it/s]\n"
     ]
    }
   ],
   "source": [
    "img_size=32\n",
    "manners=['pictogram','contour','sketch']\n",
    "objects=['flower','bird','butterfly','tree',\n",
    "         'plane','crane','dog','horse','deer',\n",
    "         'truck','car','cat','frog','ship']\n",
    "fpath='../input/art-pictogram/pictogram/'\n",
    "flist=sorted(os.listdir(fpath))\n",
    "def path_to_tensor(img_path,fpath):\n",
    "    img=kimg.load_img(fpath+img_path,\n",
    "                      target_size=(img_size,img_size))\n",
    "    x=kimg.img_to_array(img)\n",
    "    return np.expand_dims(x,axis=0)\n",
    "def paths_to_tensor(img_paths,fpath):\n",
    "    tensor_list=[path_to_tensor(img_path,fpath) \n",
    "                 for img_path in tqdm(img_paths)]\n",
    "    return np.vstack(tensor_list)\n",
    "labels1=np.array([int(el[:2]) for el in flist],\n",
    "                 dtype='int8')-1\n",
    "labels2=np.array([int(el[3:6]) for el in flist],\n",
    "                 dtype='int8')-1\n",
    "images=np.array(paths_to_tensor(flist,fpath=fpath))/255\n",
    "n2=len(labels1[labels1==0])\n",
    "images=images[:n2]; labels2=labels2[:n2]\n",
    "cond=np.where([l in classes for l in objects])[0]\n",
    "cond2=np.where([l in cond for l in labels2])\n",
    "images=images[cond2]; labels=labels2[cond2]\n",
    "rd={1:2,4:0,6:5,7:7,8:4,9:9,10:1,11:3,12:6,13:8}\n",
    "labels=np.array([rd.get(x,x) for x in labels],\n",
    "                dtype='int8')"
   ]
  },
  {
   "cell_type": "code",
   "execution_count": 9,
   "metadata": {
    "execution": {
     "iopub.execute_input": "2020-08-09T19:37:41.021160Z",
     "iopub.status.busy": "2020-08-09T19:37:41.018962Z",
     "iopub.status.idle": "2020-08-09T19:37:41.072800Z",
     "shell.execute_reply": "2020-08-09T19:37:41.071881Z"
    },
    "papermill": {
     "duration": 0.155079,
     "end_time": "2020-08-09T19:37:41.072956",
     "exception": false,
     "start_time": "2020-08-09T19:37:40.917877",
     "status": "completed"
    },
    "tags": []
   },
   "outputs": [
    {
     "name": "stdout",
     "output_type": "stream",
     "text": [
      "[(888, 32, 32, 3), dtype('float32'), (888,), dtype('int8')]\n",
      "Label:  bird\n"
     ]
    },
    {
     "data": {
      "image/png": "[encoded data removed]",
      "text/plain": [
       "<Figure size 72x72 with 1 Axes>"
      ]
     },
     "metadata": {},
     "output_type": "display_data"
    }
   ],
   "source": [
    "print([images.shape,images.dtype,\n",
    "       labels.shape,labels.dtype])\n",
    "print('Label: ',classes[labels[100]])\n",
    "pl.figure(figsize=(1,1))\n",
    "pl.xticks([]); pl.yticks([])\n",
    "pl.imshow(images[100]);"
   ]
  },
  {
   "cell_type": "code",
   "execution_count": 10,
   "metadata": {
    "execution": {
     "iopub.execute_input": "2020-08-09T19:37:41.268477Z",
     "iopub.status.busy": "2020-08-09T19:37:41.266973Z",
     "iopub.status.idle": "2020-08-09T19:37:41.294168Z",
     "shell.execute_reply": "2020-08-09T19:37:41.293337Z"
    },
    "papermill": {
     "duration": 0.123838,
     "end_time": "2020-08-09T19:37:41.294299",
     "exception": false,
     "start_time": "2020-08-09T19:37:41.170461",
     "status": "completed"
    },
    "tags": []
   },
   "outputs": [
    {
     "name": "stdout",
     "output_type": "stream",
     "text": [
      "[(1888, 32, 32, 3), dtype('float32'), (1888,), dtype('int16')]\n"
     ]
    }
   ],
   "source": [
    "x=np.vstack([x,images])\n",
    "y=np.hstack([y,labels])\n",
    "N=len(y); n=int(.1*N)\n",
    "shuffle_ids=np.arange(N)\n",
    "np.random.RandomState(23).shuffle(shuffle_ids)\n",
    "x,y=x[shuffle_ids],y[shuffle_ids]\n",
    "x_test,x_valid,x_train=x[:n],x[n:2*n],x[2*n:]\n",
    "y_test,y_valid,y_train=y[:n],y[n:2*n],y[2*n:]\n",
    "print([x.shape,x.dtype,y.shape,y.dtype])"
   ]
  },
  {
   "cell_type": "code",
   "execution_count": 11,
   "metadata": {
    "execution": {
     "iopub.execute_input": "2020-08-09T19:37:41.483154Z",
     "iopub.status.busy": "2020-08-09T19:37:41.481837Z",
     "iopub.status.idle": "2020-08-09T19:37:41.982636Z",
     "shell.execute_reply": "2020-08-09T19:37:41.981866Z"
    },
    "papermill": {
     "duration": 0.597028,
     "end_time": "2020-08-09T19:37:41.982769",
     "exception": false,
     "start_time": "2020-08-09T19:37:41.385741",
     "status": "completed"
    },
    "tags": []
   },
   "outputs": [
    {
     "data": {
      "image/png": "[encoded data removed]",
      "text/plain": [
       "<Figure size 720x216 with 10 Axes>"
      ]
     },
     "metadata": {},
     "output_type": "display_data"
    }
   ],
   "source": [
    "fig=pl.figure(figsize=(10,3))\n",
    "randch=np.random.choice(x_test.shape[0],\n",
    "                        size=10,replace=False)\n",
    "for i,idx in enumerate(randch):\n",
    "    ax=fig.add_subplot(2,5,i+1,\n",
    "                       xticks=[],yticks=[])\n",
    "    ax.imshow(x_test[idx])\n",
    "    true_idx=y_test[idx]\n",
    "    ax.set_title(classes[true_idx],color=\"#ff33aa\")"
   ]
  },
  {
   "cell_type": "code",
   "execution_count": 12,
   "metadata": {
    "execution": {
     "iopub.execute_input": "2020-08-09T19:37:42.206930Z",
     "iopub.status.busy": "2020-08-09T19:37:42.194791Z",
     "iopub.status.idle": "2020-08-09T19:37:42.434843Z",
     "shell.execute_reply": "2020-08-09T19:37:42.434108Z"
    },
    "papermill": {
     "duration": 0.355112,
     "end_time": "2020-08-09T19:37:42.434977",
     "exception": false,
     "start_time": "2020-08-09T19:37:42.079865",
     "status": "completed"
    },
    "tags": []
   },
   "outputs": [
    {
     "data": {
      "image/png": "[encoded data removed]",
      "text/plain": [
       "<Figure size 504x360 with 1 Axes>"
      ]
     },
     "metadata": {
      "needs_background": "light"
     },
     "output_type": "display_data"
    }
   ],
   "source": [
    "df=pd.DataFrame(y,columns=['label'])\n",
    "df['class']=[classes[l] for l in y]\n",
    "pl.figure(figsize=(7,5))\n",
    "sn.countplot(y='class',data=df,\n",
    "             palette='Reds',alpha=.5)\n",
    "ti='Label Distribution'\n",
    "pl.title(ti,fontsize=20); pl.legend(loc=4);"
   ]
  },
  {
   "cell_type": "code",
   "execution_count": 13,
   "metadata": {
    "_kg_hide-input": true,
    "execution": {
     "iopub.execute_input": "2020-08-09T19:37:42.634132Z",
     "iopub.status.busy": "2020-08-09T19:37:42.632960Z",
     "iopub.status.idle": "2020-08-09T19:37:42.638431Z",
     "shell.execute_reply": "2020-08-09T19:37:42.637784Z"
    },
    "papermill": {
     "duration": 0.104685,
     "end_time": "2020-08-09T19:37:42.638577",
     "exception": false,
     "start_time": "2020-08-09T19:37:42.533892",
     "status": "completed"
    },
    "tags": []
   },
   "outputs": [
    {
     "data": {
      "text/html": [
       "<style>\n",
       "    @import 'https://fonts.googleapis.com/css?family=Smokum&effect=3d';      \n",
       "    </style><h1 class='font-effect-3d' \n",
       "    style='font-family:Smokum; color:#ff33aa; font-size:35px;'>\n",
       "    NN Examples</h1>"
      ],
      "text/plain": [
       "<IPython.core.display.HTML object>"
      ]
     },
     "metadata": {},
     "output_type": "display_data"
    }
   ],
   "source": [
    "dhtml('NN Examples')"
   ]
  },
  {
   "cell_type": "code",
   "execution_count": 14,
   "metadata": {
    "execution": {
     "iopub.execute_input": "2020-08-09T19:37:42.835857Z",
     "iopub.status.busy": "2020-08-09T19:37:42.834779Z",
     "iopub.status.idle": "2020-08-09T19:37:42.838398Z",
     "shell.execute_reply": "2020-08-09T19:37:42.837589Z"
    },
    "papermill": {
     "duration": 0.1095,
     "end_time": "2020-08-09T19:37:42.838551",
     "exception": false,
     "start_time": "2020-08-09T19:37:42.729051",
     "status": "completed"
    },
    "tags": []
   },
   "outputs": [],
   "source": [
    "def cnn_model():\n",
    "    model=Sequential()\n",
    "    model.add(tkl.Conv2D(32,(5,5),padding='same',\n",
    "                         input_shape=x_train.shape[1:]))\n",
    "    model.add(tkl.Activation('relu'))\n",
    "    model.add(tkl.MaxPooling2D(pool_size=(2,2)))\n",
    "    model.add(tkl.Dropout(.25))\n",
    "    model.add(tkl.Conv2D(96,(5,5)))\n",
    "    model.add(tkl.Activation('relu'))    \n",
    "    model.add(tkl.MaxPooling2D(pool_size=(2,2)))\n",
    "    model.add(tkl.Dropout(.25))\n",
    "    model.add(tkl.GlobalAveragePooling2D())    \n",
    "    model.add(tkl.Dense(1024,activation='relu'))\n",
    "    model.add(tkl.Dropout(.5))         \n",
    " #   model.add(tkl.Dense(128,activation='relu'))\n",
    " #   model.add(tkl.Dropout(.25)) \n",
    "    model.add(tkl.Dense(10))\n",
    "    model.add(tkl.Activation('softmax'))\n",
    "    model.compile(loss='sparse_categorical_crossentropy',\n",
    "                  optimizer='adam',metrics=['accuracy'])\n",
    "    return model"
   ]
  },
  {
   "cell_type": "code",
   "execution_count": 15,
   "metadata": {
    "_kg_hide-output": true,
    "execution": {
     "iopub.execute_input": "2020-08-09T19:37:43.052811Z",
     "iopub.status.busy": "2020-08-09T19:37:43.051633Z",
     "iopub.status.idle": "2020-08-09T19:40:38.647278Z",
     "shell.execute_reply": "2020-08-09T19:40:38.646470Z"
    },
    "papermill": {
     "duration": 175.716653,
     "end_time": "2020-08-09T19:40:38.647471",
     "exception": false,
     "start_time": "2020-08-09T19:37:42.930818",
     "status": "completed"
    },
    "tags": []
   },
   "outputs": [
    {
     "name": "stdout",
     "output_type": "stream",
     "text": [
      "Epoch 1/100\n",
      "\n",
      "Epoch 00001: val_loss improved from inf to 2.26892, saving model to weights.best.hdf5\n",
      "24/24 - 2s - loss: 2.2917 - accuracy: 0.1356 - val_loss: 2.2689 - val_accuracy: 0.1489 - lr: 0.0010\n",
      "Epoch 2/100\n",
      "\n",
      "Epoch 00002: val_loss improved from 2.26892 to 2.23205, saving model to weights.best.hdf5\n",
      "24/24 - 2s - loss: 2.2376 - accuracy: 0.1720 - val_loss: 2.2321 - val_accuracy: 0.1596 - lr: 0.0010\n",
      "Epoch 3/100\n",
      "\n",
      "Epoch 00003: val_loss improved from 2.23205 to 2.16771, saving model to weights.best.hdf5\n",
      "24/24 - 2s - loss: 2.2008 - accuracy: 0.1687 - val_loss: 2.1677 - val_accuracy: 0.1968 - lr: 0.0010\n",
      "Epoch 4/100\n",
      "\n",
      "Epoch 00004: val_loss improved from 2.16771 to 2.10809, saving model to weights.best.hdf5\n",
      "24/24 - 2s - loss: 2.1563 - accuracy: 0.1938 - val_loss: 2.1081 - val_accuracy: 0.2340 - lr: 0.0010\n",
      "Epoch 5/100\n",
      "\n",
      "Epoch 00005: val_loss improved from 2.10809 to 2.06513, saving model to weights.best.hdf5\n",
      "24/24 - 2s - loss: 2.0853 - accuracy: 0.2341 - val_loss: 2.0651 - val_accuracy: 0.2447 - lr: 0.0010\n",
      "Epoch 6/100\n",
      "\n",
      "Epoch 00006: val_loss improved from 2.06513 to 1.96299, saving model to weights.best.hdf5\n",
      "24/24 - 2s - loss: 2.0046 - accuracy: 0.2639 - val_loss: 1.9630 - val_accuracy: 0.2766 - lr: 0.0010\n",
      "Epoch 7/100\n",
      "\n",
      "Epoch 00007: val_loss did not improve from 1.96299\n",
      "24/24 - 2s - loss: 1.9788 - accuracy: 0.2553 - val_loss: 1.9648 - val_accuracy: 0.2713 - lr: 0.0010\n",
      "Epoch 8/100\n",
      "\n",
      "Epoch 00008: val_loss improved from 1.96299 to 1.89512, saving model to weights.best.hdf5\n",
      "24/24 - 2s - loss: 1.9315 - accuracy: 0.2864 - val_loss: 1.8951 - val_accuracy: 0.2872 - lr: 0.0010\n",
      "Epoch 9/100\n",
      "\n",
      "Epoch 00009: val_loss improved from 1.89512 to 1.87355, saving model to weights.best.hdf5\n",
      "24/24 - 2s - loss: 1.8819 - accuracy: 0.2857 - val_loss: 1.8735 - val_accuracy: 0.3138 - lr: 0.0010\n",
      "Epoch 10/100\n",
      "\n",
      "Epoch 00010: val_loss improved from 1.87355 to 1.84968, saving model to weights.best.hdf5\n",
      "24/24 - 2s - loss: 1.8503 - accuracy: 0.3108 - val_loss: 1.8497 - val_accuracy: 0.3298 - lr: 0.0010\n",
      "Epoch 11/100\n",
      "\n",
      "Epoch 00011: val_loss did not improve from 1.84968\n",
      "24/24 - 2s - loss: 1.8097 - accuracy: 0.3307 - val_loss: 2.1033 - val_accuracy: 0.2500 - lr: 0.0010\n",
      "Epoch 12/100\n",
      "\n",
      "Epoch 00012: val_loss did not improve from 1.84968\n",
      "24/24 - 2s - loss: 1.8012 - accuracy: 0.3287 - val_loss: 1.9413 - val_accuracy: 0.3191 - lr: 0.0010\n",
      "Epoch 13/100\n",
      "\n",
      "Epoch 00013: val_loss improved from 1.84968 to 1.79661, saving model to weights.best.hdf5\n",
      "24/24 - 2s - loss: 1.7783 - accuracy: 0.3472 - val_loss: 1.7966 - val_accuracy: 0.3564 - lr: 0.0010\n",
      "Epoch 14/100\n",
      "\n",
      "Epoch 00014: val_loss improved from 1.79661 to 1.74208, saving model to weights.best.hdf5\n",
      "24/24 - 2s - loss: 1.7472 - accuracy: 0.3485 - val_loss: 1.7421 - val_accuracy: 0.3511 - lr: 0.0010\n",
      "Epoch 15/100\n",
      "\n",
      "Epoch 00015: val_loss did not improve from 1.74208\n",
      "24/24 - 2s - loss: 1.6964 - accuracy: 0.3796 - val_loss: 1.8785 - val_accuracy: 0.3511 - lr: 0.0010\n",
      "Epoch 16/100\n",
      "\n",
      "Epoch 00016: val_loss did not improve from 1.74208\n",
      "24/24 - 2s - loss: 1.6902 - accuracy: 0.3776 - val_loss: 1.8516 - val_accuracy: 0.3138 - lr: 0.0010\n",
      "Epoch 17/100\n",
      "\n",
      "Epoch 00017: val_loss improved from 1.74208 to 1.73243, saving model to weights.best.hdf5\n",
      "24/24 - 2s - loss: 1.6954 - accuracy: 0.3776 - val_loss: 1.7324 - val_accuracy: 0.3511 - lr: 0.0010\n",
      "Epoch 18/100\n",
      "\n",
      "Epoch 00018: val_loss did not improve from 1.73243\n",
      "24/24 - 2s - loss: 1.6299 - accuracy: 0.3955 - val_loss: 1.8069 - val_accuracy: 0.3404 - lr: 0.0010\n",
      "Epoch 19/100\n",
      "\n",
      "Epoch 00019: val_loss improved from 1.73243 to 1.68360, saving model to weights.best.hdf5\n",
      "24/24 - 2s - loss: 1.6372 - accuracy: 0.3995 - val_loss: 1.6836 - val_accuracy: 0.3457 - lr: 0.0010\n",
      "Epoch 20/100\n",
      "\n",
      "Epoch 00020: val_loss did not improve from 1.68360\n",
      "24/24 - 2s - loss: 1.5643 - accuracy: 0.4259 - val_loss: 1.7363 - val_accuracy: 0.3670 - lr: 0.0010\n",
      "Epoch 21/100\n",
      "\n",
      "Epoch 00021: val_loss improved from 1.68360 to 1.58970, saving model to weights.best.hdf5\n",
      "24/24 - 2s - loss: 1.5335 - accuracy: 0.4319 - val_loss: 1.5897 - val_accuracy: 0.4309 - lr: 0.0010\n",
      "Epoch 22/100\n",
      "\n",
      "Epoch 00022: val_loss improved from 1.58970 to 1.58441, saving model to weights.best.hdf5\n",
      "24/24 - 2s - loss: 1.4910 - accuracy: 0.4405 - val_loss: 1.5844 - val_accuracy: 0.4202 - lr: 0.0010\n",
      "Epoch 23/100\n",
      "\n",
      "Epoch 00023: val_loss did not improve from 1.58441\n",
      "24/24 - 2s - loss: 1.4872 - accuracy: 0.4345 - val_loss: 1.6104 - val_accuracy: 0.3777 - lr: 0.0010\n",
      "Epoch 24/100\n",
      "\n",
      "Epoch 00024: val_loss improved from 1.58441 to 1.55492, saving model to weights.best.hdf5\n",
      "24/24 - 2s - loss: 1.4593 - accuracy: 0.4431 - val_loss: 1.5549 - val_accuracy: 0.4043 - lr: 0.0010\n",
      "Epoch 25/100\n",
      "\n",
      "Epoch 00025: val_loss did not improve from 1.55492\n",
      "24/24 - 2s - loss: 1.4727 - accuracy: 0.4458 - val_loss: 1.5865 - val_accuracy: 0.3989 - lr: 0.0010\n",
      "Epoch 26/100\n",
      "\n",
      "Epoch 00026: val_loss improved from 1.55492 to 1.55226, saving model to weights.best.hdf5\n",
      "24/24 - 2s - loss: 1.4464 - accuracy: 0.4610 - val_loss: 1.5523 - val_accuracy: 0.4309 - lr: 0.0010\n",
      "Epoch 27/100\n",
      "\n",
      "Epoch 00027: val_loss improved from 1.55226 to 1.53156, saving model to weights.best.hdf5\n",
      "24/24 - 2s - loss: 1.4324 - accuracy: 0.4709 - val_loss: 1.5316 - val_accuracy: 0.4574 - lr: 0.0010\n",
      "Epoch 28/100\n",
      "\n",
      "Epoch 00028: val_loss improved from 1.53156 to 1.50934, saving model to weights.best.hdf5\n",
      "24/24 - 2s - loss: 1.3796 - accuracy: 0.4762 - val_loss: 1.5093 - val_accuracy: 0.4149 - lr: 0.0010\n",
      "Epoch 29/100\n",
      "\n",
      "Epoch 00029: val_loss improved from 1.50934 to 1.48535, saving model to weights.best.hdf5\n",
      "24/24 - 2s - loss: 1.3483 - accuracy: 0.5033 - val_loss: 1.4853 - val_accuracy: 0.4734 - lr: 0.0010\n",
      "Epoch 30/100\n",
      "\n",
      "Epoch 00030: val_loss improved from 1.48535 to 1.48373, saving model to weights.best.hdf5\n",
      "24/24 - 2s - loss: 1.3044 - accuracy: 0.5126 - val_loss: 1.4837 - val_accuracy: 0.4309 - lr: 0.0010\n",
      "Epoch 31/100\n",
      "\n",
      "Epoch 00031: val_loss improved from 1.48373 to 1.46515, saving model to weights.best.hdf5\n",
      "24/24 - 2s - loss: 1.2882 - accuracy: 0.5205 - val_loss: 1.4651 - val_accuracy: 0.4415 - lr: 0.0010\n",
      "Epoch 32/100\n",
      "\n",
      "Epoch 00032: val_loss did not improve from 1.46515\n",
      "24/24 - 2s - loss: 1.2782 - accuracy: 0.5251 - val_loss: 1.4667 - val_accuracy: 0.4521 - lr: 0.0010\n",
      "Epoch 33/100\n",
      "\n",
      "Epoch 00033: val_loss did not improve from 1.46515\n",
      "24/24 - 2s - loss: 1.2896 - accuracy: 0.5271 - val_loss: 1.5232 - val_accuracy: 0.4096 - lr: 0.0010\n",
      "Epoch 34/100\n",
      "\n",
      "Epoch 00034: val_loss improved from 1.46515 to 1.42368, saving model to weights.best.hdf5\n",
      "24/24 - 2s - loss: 1.2377 - accuracy: 0.5463 - val_loss: 1.4237 - val_accuracy: 0.4628 - lr: 0.0010\n",
      "Epoch 35/100\n",
      "\n",
      "Epoch 00035: val_loss did not improve from 1.42368\n",
      "24/24 - 2s - loss: 1.2063 - accuracy: 0.5562 - val_loss: 1.4519 - val_accuracy: 0.4521 - lr: 0.0010\n",
      "Epoch 36/100\n",
      "\n",
      "Epoch 00036: val_loss did not improve from 1.42368\n",
      "24/24 - 2s - loss: 1.1934 - accuracy: 0.5635 - val_loss: 1.4345 - val_accuracy: 0.4574 - lr: 0.0010\n",
      "Epoch 37/100\n",
      "\n",
      "Epoch 00037: val_loss did not improve from 1.42368\n",
      "24/24 - 2s - loss: 1.1613 - accuracy: 0.5648 - val_loss: 1.4907 - val_accuracy: 0.4149 - lr: 0.0010\n",
      "Epoch 38/100\n",
      "\n",
      "Epoch 00038: val_loss did not improve from 1.42368\n",
      "24/24 - 2s - loss: 1.1794 - accuracy: 0.5615 - val_loss: 1.5184 - val_accuracy: 0.4468 - lr: 0.0010\n",
      "Epoch 39/100\n",
      "\n",
      "Epoch 00039: val_loss did not improve from 1.42368\n",
      "\n",
      "Epoch 00039: ReduceLROnPlateau reducing learning rate to 0.000800000037997961.\n",
      "24/24 - 2s - loss: 1.1226 - accuracy: 0.5899 - val_loss: 1.4380 - val_accuracy: 0.4894 - lr: 0.0010\n",
      "Epoch 40/100\n",
      "\n",
      "Epoch 00040: val_loss improved from 1.42368 to 1.41770, saving model to weights.best.hdf5\n",
      "24/24 - 2s - loss: 1.1131 - accuracy: 0.5880 - val_loss: 1.4177 - val_accuracy: 0.5106 - lr: 8.0000e-04\n",
      "Epoch 41/100\n",
      "\n",
      "Epoch 00041: val_loss improved from 1.41770 to 1.36641, saving model to weights.best.hdf5\n",
      "24/24 - 2s - loss: 1.0753 - accuracy: 0.5992 - val_loss: 1.3664 - val_accuracy: 0.5160 - lr: 8.0000e-04\n",
      "Epoch 42/100\n",
      "\n",
      "Epoch 00042: val_loss did not improve from 1.36641\n",
      "24/24 - 2s - loss: 1.0685 - accuracy: 0.5979 - val_loss: 1.3879 - val_accuracy: 0.4894 - lr: 8.0000e-04\n",
      "Epoch 43/100\n",
      "\n",
      "Epoch 00043: val_loss did not improve from 1.36641\n",
      "24/24 - 2s - loss: 1.0803 - accuracy: 0.5926 - val_loss: 1.5105 - val_accuracy: 0.5000 - lr: 8.0000e-04\n",
      "Epoch 44/100\n",
      "\n",
      "Epoch 00044: val_loss did not improve from 1.36641\n",
      "24/24 - 2s - loss: 1.0374 - accuracy: 0.6144 - val_loss: 1.4156 - val_accuracy: 0.4840 - lr: 8.0000e-04\n",
      "Epoch 45/100\n",
      "\n",
      "Epoch 00045: val_loss did not improve from 1.36641\n",
      "24/24 - 2s - loss: 1.0480 - accuracy: 0.5999 - val_loss: 1.4520 - val_accuracy: 0.4840 - lr: 8.0000e-04\n",
      "Epoch 46/100\n",
      "\n",
      "Epoch 00046: val_loss did not improve from 1.36641\n",
      "\n",
      "Epoch 00046: ReduceLROnPlateau reducing learning rate to 0.0006400000303983689.\n",
      "24/24 - 2s - loss: 1.0513 - accuracy: 0.6171 - val_loss: 1.4370 - val_accuracy: 0.4787 - lr: 8.0000e-04\n",
      "Epoch 47/100\n",
      "\n",
      "Epoch 00047: val_loss did not improve from 1.36641\n",
      "24/24 - 2s - loss: 1.0153 - accuracy: 0.6270 - val_loss: 1.4713 - val_accuracy: 0.4628 - lr: 6.4000e-04\n",
      "Epoch 48/100\n",
      "\n",
      "Epoch 00048: val_loss improved from 1.36641 to 1.36516, saving model to weights.best.hdf5\n",
      "24/24 - 2s - loss: 0.9740 - accuracy: 0.6296 - val_loss: 1.3652 - val_accuracy: 0.5053 - lr: 6.4000e-04\n",
      "Epoch 49/100\n",
      "\n",
      "Epoch 00049: val_loss did not improve from 1.36516\n",
      "24/24 - 2s - loss: 0.9695 - accuracy: 0.6442 - val_loss: 1.5998 - val_accuracy: 0.4787 - lr: 6.4000e-04\n",
      "Epoch 50/100\n",
      "\n",
      "Epoch 00050: val_loss did not improve from 1.36516\n",
      "24/24 - 2s - loss: 1.0269 - accuracy: 0.6310 - val_loss: 1.3848 - val_accuracy: 0.4628 - lr: 6.4000e-04\n",
      "Epoch 51/100\n",
      "\n",
      "Epoch 00051: val_loss did not improve from 1.36516\n",
      "24/24 - 2s - loss: 0.9759 - accuracy: 0.6402 - val_loss: 1.4516 - val_accuracy: 0.5160 - lr: 6.4000e-04\n",
      "Epoch 52/100\n",
      "\n",
      "Epoch 00052: val_loss did not improve from 1.36516\n",
      "24/24 - 2s - loss: 0.9184 - accuracy: 0.6614 - val_loss: 1.3904 - val_accuracy: 0.5053 - lr: 6.4000e-04\n",
      "Epoch 53/100\n",
      "\n",
      "Epoch 00053: val_loss improved from 1.36516 to 1.34429, saving model to weights.best.hdf5\n",
      "24/24 - 2s - loss: 0.9437 - accuracy: 0.6435 - val_loss: 1.3443 - val_accuracy: 0.5160 - lr: 6.4000e-04\n",
      "Epoch 54/100\n",
      "\n",
      "Epoch 00054: val_loss did not improve from 1.34429\n",
      "24/24 - 2s - loss: 0.9015 - accuracy: 0.6680 - val_loss: 1.4171 - val_accuracy: 0.5053 - lr: 6.4000e-04\n",
      "Epoch 55/100\n",
      "\n",
      "Epoch 00055: val_loss did not improve from 1.34429\n",
      "24/24 - 2s - loss: 0.9015 - accuracy: 0.6700 - val_loss: 1.3860 - val_accuracy: 0.5000 - lr: 6.4000e-04\n",
      "Epoch 56/100\n",
      "\n",
      "Epoch 00056: val_loss did not improve from 1.34429\n",
      "24/24 - 2s - loss: 0.9024 - accuracy: 0.6581 - val_loss: 1.3737 - val_accuracy: 0.5000 - lr: 6.4000e-04\n",
      "Epoch 57/100\n",
      "\n",
      "Epoch 00057: val_loss did not improve from 1.34429\n",
      "24/24 - 2s - loss: 0.9112 - accuracy: 0.6667 - val_loss: 1.3602 - val_accuracy: 0.5053 - lr: 6.4000e-04\n",
      "Epoch 58/100\n",
      "\n",
      "Epoch 00058: val_loss did not improve from 1.34429\n",
      "\n",
      "Epoch 00058: ReduceLROnPlateau reducing learning rate to 0.0005120000336319208.\n",
      "24/24 - 2s - loss: 0.8645 - accuracy: 0.6786 - val_loss: 1.4202 - val_accuracy: 0.5266 - lr: 6.4000e-04\n",
      "Epoch 59/100\n",
      "\n",
      "Epoch 00059: val_loss did not improve from 1.34429\n",
      "24/24 - 2s - loss: 0.8608 - accuracy: 0.6858 - val_loss: 1.4012 - val_accuracy: 0.5000 - lr: 5.1200e-04\n",
      "Epoch 60/100\n",
      "\n",
      "Epoch 00060: val_loss did not improve from 1.34429\n",
      "24/24 - 2s - loss: 0.8393 - accuracy: 0.6984 - val_loss: 1.3852 - val_accuracy: 0.5000 - lr: 5.1200e-04\n",
      "Epoch 61/100\n",
      "\n",
      "Epoch 00061: val_loss did not improve from 1.34429\n",
      "24/24 - 2s - loss: 0.8348 - accuracy: 0.6819 - val_loss: 1.3507 - val_accuracy: 0.5426 - lr: 5.1200e-04\n",
      "Epoch 62/100\n",
      "\n",
      "Epoch 00062: val_loss did not improve from 1.34429\n",
      "24/24 - 2s - loss: 0.8316 - accuracy: 0.6964 - val_loss: 1.4041 - val_accuracy: 0.4787 - lr: 5.1200e-04\n",
      "Epoch 63/100\n",
      "\n",
      "Epoch 00063: val_loss did not improve from 1.34429\n",
      "\n",
      "Epoch 00063: ReduceLROnPlateau reducing learning rate to 0.00040960004553198815.\n",
      "24/24 - 2s - loss: 0.8061 - accuracy: 0.7070 - val_loss: 1.4124 - val_accuracy: 0.5053 - lr: 5.1200e-04\n",
      "Epoch 64/100\n",
      "\n",
      "Epoch 00064: val_loss did not improve from 1.34429\n",
      "24/24 - 2s - loss: 0.8103 - accuracy: 0.6951 - val_loss: 1.3922 - val_accuracy: 0.5053 - lr: 4.0960e-04\n",
      "Epoch 65/100\n",
      "\n",
      "Epoch 00065: val_loss did not improve from 1.34429\n",
      "24/24 - 2s - loss: 0.7937 - accuracy: 0.7163 - val_loss: 1.3703 - val_accuracy: 0.5319 - lr: 4.0960e-04\n",
      "Epoch 66/100\n",
      "\n",
      "Epoch 00066: val_loss improved from 1.34429 to 1.30745, saving model to weights.best.hdf5\n",
      "24/24 - 2s - loss: 0.7760 - accuracy: 0.7057 - val_loss: 1.3075 - val_accuracy: 0.5426 - lr: 4.0960e-04\n",
      "Epoch 67/100\n",
      "\n",
      "Epoch 00067: val_loss did not improve from 1.30745\n",
      "24/24 - 2s - loss: 0.8071 - accuracy: 0.7017 - val_loss: 1.5233 - val_accuracy: 0.5053 - lr: 4.0960e-04\n",
      "Epoch 68/100\n",
      "\n",
      "Epoch 00068: val_loss did not improve from 1.30745\n",
      "24/24 - 2s - loss: 0.7866 - accuracy: 0.7090 - val_loss: 1.3286 - val_accuracy: 0.5213 - lr: 4.0960e-04\n",
      "Epoch 69/100\n",
      "\n",
      "Epoch 00069: val_loss did not improve from 1.30745\n",
      "24/24 - 2s - loss: 0.7822 - accuracy: 0.7097 - val_loss: 1.4775 - val_accuracy: 0.4947 - lr: 4.0960e-04\n",
      "Epoch 70/100\n",
      "\n",
      "Epoch 00070: val_loss did not improve from 1.30745\n",
      "24/24 - 2s - loss: 0.7810 - accuracy: 0.7136 - val_loss: 1.3750 - val_accuracy: 0.5106 - lr: 4.0960e-04\n",
      "Epoch 71/100\n",
      "\n",
      "Epoch 00071: val_loss improved from 1.30745 to 1.30679, saving model to weights.best.hdf5\n",
      "24/24 - 2s - loss: 0.7432 - accuracy: 0.7235 - val_loss: 1.3068 - val_accuracy: 0.5532 - lr: 4.0960e-04\n",
      "Epoch 72/100\n",
      "\n",
      "Epoch 00072: val_loss did not improve from 1.30679\n",
      "24/24 - 2s - loss: 0.7431 - accuracy: 0.7288 - val_loss: 1.3383 - val_accuracy: 0.5479 - lr: 4.0960e-04\n",
      "Epoch 73/100\n",
      "\n",
      "Epoch 00073: val_loss did not improve from 1.30679\n",
      "24/24 - 2s - loss: 0.7434 - accuracy: 0.7163 - val_loss: 1.3729 - val_accuracy: 0.5319 - lr: 4.0960e-04\n",
      "Epoch 74/100\n",
      "\n",
      "Epoch 00074: val_loss did not improve from 1.30679\n",
      "24/24 - 2s - loss: 0.7633 - accuracy: 0.7235 - val_loss: 1.3516 - val_accuracy: 0.5479 - lr: 4.0960e-04\n",
      "Epoch 75/100\n",
      "\n",
      "Epoch 00075: val_loss did not improve from 1.30679\n",
      "24/24 - 2s - loss: 0.7850 - accuracy: 0.7123 - val_loss: 1.5208 - val_accuracy: 0.5426 - lr: 4.0960e-04\n",
      "Epoch 76/100\n",
      "\n",
      "Epoch 00076: val_loss did not improve from 1.30679\n",
      "\n",
      "Epoch 00076: ReduceLROnPlateau reducing learning rate to 0.00032768002711236477.\n",
      "24/24 - 2s - loss: 0.7582 - accuracy: 0.7030 - val_loss: 1.4320 - val_accuracy: 0.5106 - lr: 4.0960e-04\n",
      "Epoch 77/100\n",
      "\n",
      "Epoch 00077: val_loss did not improve from 1.30679\n",
      "24/24 - 2s - loss: 0.7435 - accuracy: 0.7196 - val_loss: 1.3374 - val_accuracy: 0.5372 - lr: 3.2768e-04\n",
      "Epoch 78/100\n",
      "\n",
      "Epoch 00078: val_loss did not improve from 1.30679\n",
      "24/24 - 2s - loss: 0.7602 - accuracy: 0.7156 - val_loss: 1.3872 - val_accuracy: 0.5213 - lr: 3.2768e-04\n",
      "Epoch 79/100\n",
      "\n",
      "Epoch 00079: val_loss did not improve from 1.30679\n",
      "24/24 - 2s - loss: 0.6919 - accuracy: 0.7454 - val_loss: 1.3396 - val_accuracy: 0.5372 - lr: 3.2768e-04\n",
      "Epoch 80/100\n",
      "\n",
      "Epoch 00080: val_loss did not improve from 1.30679\n",
      "24/24 - 2s - loss: 0.7082 - accuracy: 0.7440 - val_loss: 1.3611 - val_accuracy: 0.5479 - lr: 3.2768e-04\n",
      "Epoch 81/100\n",
      "\n",
      "Epoch 00081: val_loss did not improve from 1.30679\n",
      "\n",
      "Epoch 00081: ReduceLROnPlateau reducing learning rate to 0.0002621440216898918.\n",
      "24/24 - 2s - loss: 0.7087 - accuracy: 0.7507 - val_loss: 1.3292 - val_accuracy: 0.5479 - lr: 3.2768e-04\n",
      "Epoch 82/100\n",
      "\n",
      "Epoch 00082: val_loss did not improve from 1.30679\n",
      "24/24 - 2s - loss: 0.7058 - accuracy: 0.7421 - val_loss: 1.3563 - val_accuracy: 0.5213 - lr: 2.6214e-04\n",
      "Epoch 83/100\n",
      "\n",
      "Epoch 00083: val_loss did not improve from 1.30679\n",
      "24/24 - 2s - loss: 0.7068 - accuracy: 0.7454 - val_loss: 1.3460 - val_accuracy: 0.5266 - lr: 2.6214e-04\n",
      "Epoch 84/100\n",
      "\n",
      "Epoch 00084: val_loss did not improve from 1.30679\n",
      "24/24 - 2s - loss: 0.6923 - accuracy: 0.7374 - val_loss: 1.4407 - val_accuracy: 0.5053 - lr: 2.6214e-04\n",
      "Epoch 85/100\n",
      "\n",
      "Epoch 00085: val_loss did not improve from 1.30679\n",
      "24/24 - 2s - loss: 0.7064 - accuracy: 0.7447 - val_loss: 1.3896 - val_accuracy: 0.5160 - lr: 2.6214e-04\n",
      "Epoch 86/100\n",
      "\n",
      "Epoch 00086: val_loss did not improve from 1.30679\n",
      "\n",
      "Epoch 00086: ReduceLROnPlateau reducing learning rate to 0.00020971521735191345.\n",
      "24/24 - 2s - loss: 0.6882 - accuracy: 0.7388 - val_loss: 1.3684 - val_accuracy: 0.5319 - lr: 2.6214e-04\n",
      "Epoch 87/100\n",
      "\n",
      "Epoch 00087: val_loss did not improve from 1.30679\n",
      "24/24 - 2s - loss: 0.7076 - accuracy: 0.7328 - val_loss: 1.3292 - val_accuracy: 0.5372 - lr: 2.0972e-04\n",
      "Epoch 88/100\n",
      "\n",
      "Epoch 00088: val_loss did not improve from 1.30679\n",
      "24/24 - 2s - loss: 0.6555 - accuracy: 0.7626 - val_loss: 1.3257 - val_accuracy: 0.5426 - lr: 2.0972e-04\n",
      "Epoch 89/100\n",
      "\n",
      "Epoch 00089: val_loss did not improve from 1.30679\n",
      "24/24 - 2s - loss: 0.6729 - accuracy: 0.7427 - val_loss: 1.3533 - val_accuracy: 0.5585 - lr: 2.0972e-04\n",
      "Epoch 90/100\n",
      "\n",
      "Epoch 00090: val_loss did not improve from 1.30679\n",
      "24/24 - 2s - loss: 0.6651 - accuracy: 0.7553 - val_loss: 1.3406 - val_accuracy: 0.5266 - lr: 2.0972e-04\n",
      "Epoch 91/100\n",
      "\n",
      "Epoch 00091: val_loss did not improve from 1.30679\n",
      "\n",
      "Epoch 00091: ReduceLROnPlateau reducing learning rate to 0.00016777217388153076.\n",
      "24/24 - 2s - loss: 0.6636 - accuracy: 0.7526 - val_loss: 1.3893 - val_accuracy: 0.5372 - lr: 2.0972e-04\n",
      "Epoch 00091: early stopping\n"
     ]
    }
   ],
   "source": [
    "cnn_model=cnn_model()\n",
    "fw='weights.best.hdf5'\n",
    "early_stopping=tkc.EarlyStopping(monitor='val_loss',\n",
    "                                 patience=20,verbose=2)\n",
    "checkpointer=tkc.ModelCheckpoint(filepath=fw,verbose=2,\n",
    "                                 save_best_only=True)\n",
    "lr_reduction=tkc.ReduceLROnPlateau(monitor='val_loss',verbose=2,\n",
    "                                   patience=5,factor=.8)\n",
    "history=cnn_model.fit(x_train,y_train,epochs=100,\n",
    "                      batch_size=64,verbose=2,\n",
    "                      validation_data=(x_valid,y_valid),\n",
    "                      callbacks=[checkpointer,\n",
    "                                 early_stopping,\n",
    "                                 lr_reduction])"
   ]
  },
  {
   "cell_type": "code",
   "execution_count": 16,
   "metadata": {
    "execution": {
     "iopub.execute_input": "2020-08-09T19:40:38.991239Z",
     "iopub.status.busy": "2020-08-09T19:40:38.985444Z",
     "iopub.status.idle": "2020-08-09T19:40:39.434786Z",
     "shell.execute_reply": "2020-08-09T19:40:39.433972Z"
    },
    "papermill": {
     "duration": 0.622922,
     "end_time": "2020-08-09T19:40:39.434921",
     "exception": false,
     "start_time": "2020-08-09T19:40:38.811999",
     "status": "completed"
    },
    "tags": []
   },
   "outputs": [
    {
     "data": {
      "image/png": "[encoded data removed]",
      "text/plain": [
       "<Figure size 720x576 with 2 Axes>"
      ]
     },
     "metadata": {
      "needs_background": "light"
     },
     "output_type": "display_data"
    }
   ],
   "source": [
    "def history_plot(fit_history):\n",
    "    pl.figure(figsize=(10,8)); pl.subplot(211)\n",
    "    keys=list(fit_history.history.keys())[0:4]\n",
    "    pl.plot(fit_history.history[keys[0]],\n",
    "            color='slategray',label='train')\n",
    "    pl.plot(fit_history.history[keys[2]],\n",
    "            color='#ff33aa',label='valid')\n",
    "    pl.xlabel(\"Epochs\"); pl.ylabel(\"Loss\")\n",
    "    pl.legend(); pl.grid()\n",
    "    pl.title('Loss Function')     \n",
    "    pl.subplot(212)\n",
    "    pl.plot(fit_history.history[keys[1]],\n",
    "            color='slategray',label='train')\n",
    "    pl.plot(fit_history.history[keys[3]],\n",
    "            color='#ff33aa',label='valid')\n",
    "    pl.xlabel(\"Epochs\"); pl.ylabel(\"Accuracy\")    \n",
    "    pl.legend(); pl.grid()\n",
    "    pl.title('Accuracy'); pl.show()\n",
    "history_plot(history)"
   ]
  },
  {
   "cell_type": "code",
   "execution_count": 17,
   "metadata": {
    "execution": {
     "iopub.execute_input": "2020-08-09T19:40:39.777290Z",
     "iopub.status.busy": "2020-08-09T19:40:39.776519Z",
     "iopub.status.idle": "2020-08-09T19:40:39.897103Z",
     "shell.execute_reply": "2020-08-09T19:40:39.896313Z"
    },
    "papermill": {
     "duration": 0.296895,
     "end_time": "2020-08-09T19:40:39.897232",
     "exception": false,
     "start_time": "2020-08-09T19:40:39.600337",
     "status": "completed"
    },
    "tags": []
   },
   "outputs": [
    {
     "name": "stdout",
     "output_type": "stream",
     "text": [
      "6/6 [==============================] - 0s 10ms/step - loss: 1.4713 - accuracy: 0.5266\n"
     ]
    },
    {
     "data": {
      "text/plain": [
       "[1.4713399410247803, 0.5265957713127136]"
      ]
     },
     "execution_count": 17,
     "metadata": {},
     "output_type": "execute_result"
    }
   ],
   "source": [
    "cnn_model.load_weights(fw)\n",
    "cnn_model.evaluate(x_test,y_test)"
   ]
  },
  {
   "cell_type": "code",
   "execution_count": 18,
   "metadata": {
    "execution": {
     "iopub.execute_input": "2020-08-09T19:40:40.273827Z",
     "iopub.status.busy": "2020-08-09T19:40:40.252872Z",
     "iopub.status.idle": "2020-08-09T19:40:40.438508Z",
     "shell.execute_reply": "2020-08-09T19:40:40.439145Z"
    },
    "papermill": {
     "duration": 0.371193,
     "end_time": "2020-08-09T19:40:40.439331",
     "exception": false,
     "start_time": "2020-08-09T19:40:40.068138",
     "status": "completed"
    },
    "tags": []
   },
   "outputs": [],
   "source": [
    "batch_size=64; img_size=32; n_classes=10; epochs=20\n",
    "base_model=tf.keras.Sequential([\n",
    "    tf.keras.Input((img_size,img_size,3),name='input'),\n",
    "    tf.keras.layers.Conv2D(32,(5,5),padding='same'),\n",
    "    tf.keras.layers.Activation('relu'),\n",
    "    tf.keras.layers.MaxPooling2D(pool_size=(2,2)),\n",
    "    tf.keras.layers.Dropout(.25),\n",
    "    tf.keras.layers.Conv2D(196,(5,5)),\n",
    "    tf.keras.layers.Activation('relu'),    \n",
    "    tf.keras.layers.MaxPooling2D(pool_size=(2,2)),\n",
    "    tf.keras.layers.Dropout(.25),\n",
    "    tf.keras.layers.GlobalMaxPooling2D(),    \n",
    "    tf.keras.layers.Dense(512),\n",
    "    tf.keras.layers.Activation('relu'),\n",
    "    tf.keras.layers.Dropout(.25),\n",
    "    tf.keras.layers.Dense(128),\n",
    "    tf.keras.layers.Activation('relu'),\n",
    "    tf.keras.layers.Dropout(.25),\n",
    "    tf.keras.layers.Dense(n_classes,\n",
    "                          activation='softmax')\n",
    "])\n",
    "adv_config=nsl.configs\\\n",
    ".make_adv_reg_config(multiplier=.2,adv_step_size=.05)\n",
    "adv_model=nsl.keras\\\n",
    ".AdversarialRegularization(base_model,adv_config=adv_config)\n",
    "adv_model.compile(optimizer='adam',\n",
    "                  loss='sparse_categorical_crossentropy',\n",
    "                  metrics=['accuracy'])"
   ]
  },
  {
   "cell_type": "code",
   "execution_count": 19,
   "metadata": {
    "_kg_hide-output": true,
    "execution": {
     "iopub.execute_input": "2020-08-09T19:40:40.794201Z",
     "iopub.status.busy": "2020-08-09T19:40:40.793267Z",
     "iopub.status.idle": "2020-08-09T19:43:01.749724Z",
     "shell.execute_reply": "2020-08-09T19:43:01.748832Z"
    },
    "papermill": {
     "duration": 141.141206,
     "end_time": "2020-08-09T19:43:01.749882",
     "exception": false,
     "start_time": "2020-08-09T19:40:40.608676",
     "status": "completed"
    },
    "tags": []
   },
   "outputs": [
    {
     "name": "stdout",
     "output_type": "stream",
     "text": [
      "Epoch 1/20\n",
      "24/24 - 7s - loss: 2.7647 - sparse_categorical_crossentropy: 2.3039 - sparse_categorical_accuracy: 0.1111 - scaled_adversarial_loss: 0.4608 - val_loss: 2.7404 - val_sparse_categorical_crossentropy: 2.2834 - val_sparse_categorical_accuracy: 0.1484 - val_scaled_adversarial_loss: 0.4570\n",
      "Epoch 2/20\n",
      "24/24 - 6s - loss: 2.7356 - sparse_categorical_crossentropy: 2.2789 - sparse_categorical_accuracy: 0.1396 - scaled_adversarial_loss: 0.4566 - val_loss: 2.6858 - val_sparse_categorical_crossentropy: 2.2375 - val_sparse_categorical_accuracy: 0.1562 - val_scaled_adversarial_loss: 0.4482\n",
      "Epoch 3/20\n",
      "24/24 - 6s - loss: 2.6757 - sparse_categorical_crossentropy: 2.2288 - sparse_categorical_accuracy: 0.1574 - scaled_adversarial_loss: 0.4469 - val_loss: 2.6301 - val_sparse_categorical_crossentropy: 2.1905 - val_sparse_categorical_accuracy: 0.1641 - val_scaled_adversarial_loss: 0.4395\n",
      "Epoch 4/20\n",
      "24/24 - 6s - loss: 2.5712 - sparse_categorical_crossentropy: 2.1405 - sparse_categorical_accuracy: 0.1918 - scaled_adversarial_loss: 0.4307 - val_loss: 2.5392 - val_sparse_categorical_crossentropy: 2.1139 - val_sparse_categorical_accuracy: 0.2422 - val_scaled_adversarial_loss: 0.4253\n",
      "Epoch 5/20\n",
      "24/24 - 6s - loss: 2.4288 - sparse_categorical_crossentropy: 2.0203 - sparse_categorical_accuracy: 0.2474 - scaled_adversarial_loss: 0.4085 - val_loss: 2.4154 - val_sparse_categorical_crossentropy: 2.0095 - val_sparse_categorical_accuracy: 0.2734 - val_scaled_adversarial_loss: 0.4059\n",
      "Epoch 6/20\n",
      "24/24 - 6s - loss: 2.2513 - sparse_categorical_crossentropy: 1.8745 - sparse_categorical_accuracy: 0.2989 - scaled_adversarial_loss: 0.3768 - val_loss: 2.2957 - val_sparse_categorical_crossentropy: 1.9085 - val_sparse_categorical_accuracy: 0.2891 - val_scaled_adversarial_loss: 0.3872\n",
      "Epoch 7/20\n",
      "24/24 - 6s - loss: 2.1207 - sparse_categorical_crossentropy: 1.7606 - sparse_categorical_accuracy: 0.3499 - scaled_adversarial_loss: 0.3601 - val_loss: 2.2187 - val_sparse_categorical_crossentropy: 1.8439 - val_sparse_categorical_accuracy: 0.3828 - val_scaled_adversarial_loss: 0.3749\n",
      "Epoch 8/20\n",
      "24/24 - 6s - loss: 2.0189 - sparse_categorical_crossentropy: 1.6770 - sparse_categorical_accuracy: 0.3770 - scaled_adversarial_loss: 0.3419 - val_loss: 2.0703 - val_sparse_categorical_crossentropy: 1.7190 - val_sparse_categorical_accuracy: 0.4219 - val_scaled_adversarial_loss: 0.3513\n",
      "Epoch 9/20\n",
      "24/24 - 6s - loss: 1.8745 - sparse_categorical_crossentropy: 1.5544 - sparse_categorical_accuracy: 0.4206 - scaled_adversarial_loss: 0.3201 - val_loss: 2.0170 - val_sparse_categorical_crossentropy: 1.6739 - val_sparse_categorical_accuracy: 0.4141 - val_scaled_adversarial_loss: 0.3430\n",
      "Epoch 10/20\n",
      "24/24 - 6s - loss: 1.7870 - sparse_categorical_crossentropy: 1.4820 - sparse_categorical_accuracy: 0.4603 - scaled_adversarial_loss: 0.3050 - val_loss: 2.0173 - val_sparse_categorical_crossentropy: 1.6729 - val_sparse_categorical_accuracy: 0.4453 - val_scaled_adversarial_loss: 0.3443\n",
      "Epoch 11/20\n",
      "24/24 - 6s - loss: 1.6656 - sparse_categorical_crossentropy: 1.3852 - sparse_categorical_accuracy: 0.4888 - scaled_adversarial_loss: 0.2804 - val_loss: 1.9470 - val_sparse_categorical_crossentropy: 1.6133 - val_sparse_categorical_accuracy: 0.4531 - val_scaled_adversarial_loss: 0.3336\n",
      "Epoch 12/20\n",
      "24/24 - 6s - loss: 1.5680 - sparse_categorical_crossentropy: 1.3034 - sparse_categorical_accuracy: 0.5146 - scaled_adversarial_loss: 0.2646 - val_loss: 1.8906 - val_sparse_categorical_crossentropy: 1.5650 - val_sparse_categorical_accuracy: 0.4453 - val_scaled_adversarial_loss: 0.3256\n",
      "Epoch 13/20\n",
      "24/24 - 6s - loss: 1.4453 - sparse_categorical_crossentropy: 1.1993 - sparse_categorical_accuracy: 0.5642 - scaled_adversarial_loss: 0.2460 - val_loss: 1.9039 - val_sparse_categorical_crossentropy: 1.5748 - val_sparse_categorical_accuracy: 0.4219 - val_scaled_adversarial_loss: 0.3292\n",
      "Epoch 14/20\n",
      "24/24 - 6s - loss: 1.3678 - sparse_categorical_crossentropy: 1.1351 - sparse_categorical_accuracy: 0.5913 - scaled_adversarial_loss: 0.2327 - val_loss: 1.9470 - val_sparse_categorical_crossentropy: 1.6092 - val_sparse_categorical_accuracy: 0.4297 - val_scaled_adversarial_loss: 0.3378\n",
      "Epoch 15/20\n",
      "24/24 - 6s - loss: 1.3015 - sparse_categorical_crossentropy: 1.0752 - sparse_categorical_accuracy: 0.6085 - scaled_adversarial_loss: 0.2263 - val_loss: 1.8584 - val_sparse_categorical_crossentropy: 1.5347 - val_sparse_categorical_accuracy: 0.4531 - val_scaled_adversarial_loss: 0.3238\n",
      "Epoch 16/20\n",
      "24/24 - 6s - loss: 1.2270 - sparse_categorical_crossentropy: 1.0164 - sparse_categorical_accuracy: 0.6290 - scaled_adversarial_loss: 0.2106 - val_loss: 1.9748 - val_sparse_categorical_crossentropy: 1.6303 - val_sparse_categorical_accuracy: 0.4766 - val_scaled_adversarial_loss: 0.3445\n",
      "Epoch 17/20\n",
      "24/24 - 6s - loss: 1.2237 - sparse_categorical_crossentropy: 1.0117 - sparse_categorical_accuracy: 0.6230 - scaled_adversarial_loss: 0.2119 - val_loss: 1.8697 - val_sparse_categorical_crossentropy: 1.5420 - val_sparse_categorical_accuracy: 0.4531 - val_scaled_adversarial_loss: 0.3277\n",
      "Epoch 18/20\n",
      "24/24 - 6s - loss: 1.2523 - sparse_categorical_crossentropy: 1.0400 - sparse_categorical_accuracy: 0.6098 - scaled_adversarial_loss: 0.2123 - val_loss: 1.9406 - val_sparse_categorical_crossentropy: 1.6006 - val_sparse_categorical_accuracy: 0.4062 - val_scaled_adversarial_loss: 0.3400\n",
      "Epoch 19/20\n",
      "24/24 - 6s - loss: 1.0938 - sparse_categorical_crossentropy: 0.9025 - sparse_categorical_accuracy: 0.6720 - scaled_adversarial_loss: 0.1913 - val_loss: 1.8698 - val_sparse_categorical_crossentropy: 1.5396 - val_sparse_categorical_accuracy: 0.4531 - val_scaled_adversarial_loss: 0.3302\n",
      "Epoch 20/20\n",
      "24/24 - 6s - loss: 1.0007 - sparse_categorical_crossentropy: 0.8270 - sparse_categorical_accuracy: 0.6898 - scaled_adversarial_loss: 0.1737 - val_loss: 1.9222 - val_sparse_categorical_crossentropy: 1.5825 - val_sparse_categorical_accuracy: 0.4766 - val_scaled_adversarial_loss: 0.3398\n"
     ]
    }
   ],
   "source": [
    "train=tf.data.Dataset.from_tensor_slices(\n",
    "    {'input':x_train,'label':y_train}).batch(batch_size)\n",
    "valid=tf.data.Dataset.from_tensor_slices(\n",
    "    {'input':x_valid,'label':y_valid}).batch(batch_size)\n",
    "valid_steps=x_valid.shape[0]//batch_size\n",
    "adv_model.fit(train,validation_data=valid,verbose=2,\n",
    "              validation_steps=valid_steps,epochs=epochs);"
   ]
  },
  {
   "cell_type": "code",
   "execution_count": 20,
   "metadata": {
    "execution": {
     "iopub.execute_input": "2020-08-09T19:43:02.127873Z",
     "iopub.status.busy": "2020-08-09T19:43:02.127045Z",
     "iopub.status.idle": "2020-08-09T19:43:02.900774Z",
     "shell.execute_reply": "2020-08-09T19:43:02.899964Z"
    },
    "papermill": {
     "duration": 0.964659,
     "end_time": "2020-08-09T19:43:02.900905",
     "exception": false,
     "start_time": "2020-08-09T19:43:01.936246",
     "status": "completed"
    },
    "tags": []
   },
   "outputs": [
    {
     "name": "stdout",
     "output_type": "stream",
     "text": [
      "6/6 [==============================] - 0s 54ms/step - loss: 1.9319 - sparse_categorical_crossentropy: 1.5903 - sparse_categorical_accuracy: 0.4574 - scaled_adversarial_loss: 0.3416\n"
     ]
    },
    {
     "data": {
      "text/plain": [
       "[1.931933045387268, 1.590302586555481, 0.457446813583374, 0.3416304886341095]"
      ]
     },
     "execution_count": 20,
     "metadata": {},
     "output_type": "execute_result"
    }
   ],
   "source": [
    "adv_model.evaluate({'input':x_test,'label':y_test})"
   ]
  }
 ],
 "metadata": {
  "kernelspec": {
   "display_name": "Python 3",
   "language": "python",
   "name": "python3"
  },
  "language_info": {
   "codemirror_mode": {
    "name": "ipython",
    "version": 3
   },
   "file_extension": ".py",
   "mimetype": "text/x-python",
   "name": "python",
   "nbconvert_exporter": "python",
   "pygments_lexer": "ipython3",
   "version": "3.7.6"
  },
  "papermill": {
   "duration": 363.758477,
   "end_time": "2020-08-09T19:43:03.201039",
   "environment_variables": {},
   "exception": null,
   "input_path": "__notebook__.ipynb",
   "output_path": "__notebook__.ipynb",
   "parameters": {},
   "start_time": "2020-08-09T19:36:59.442562",
   "version": "2.1.0"
  }
 },
 "nbformat": 4,
 "nbformat_minor": 4
}
