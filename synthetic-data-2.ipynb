{
 "cells": [
  {
   "cell_type": "code",
   "execution_count": 1,
   "metadata": {
    "_kg_hide-input": true,
    "execution": {
     "iopub.execute_input": "2020-08-13T11:44:30.139258Z",
     "iopub.status.busy": "2020-08-13T11:44:30.138062Z",
     "iopub.status.idle": "2020-08-13T11:44:30.142219Z",
     "shell.execute_reply": "2020-08-13T11:44:30.141370Z"
    },
    "papermill": {
     "duration": 0.029563,
     "end_time": "2020-08-13T11:44:30.142391",
     "exception": false,
     "start_time": "2020-08-13T11:44:30.112828",
     "status": "completed"
    },
    "tags": []
   },
   "outputs": [],
   "source": [
    "from IPython.display import display,HTML\n",
    "def dhtml(str):\n",
    "    display(HTML(\"\"\"<style>\n",
    "    @import 'https://fonts.googleapis.com/css?family=Smokum&effect=3d';      \n",
    "    </style><h1 class='font-effect-3d' \n",
    "    style='font-family:Smokum; color:#ff33aa; font-size:35px;'>\n",
    "    %s</h1>\"\"\"%str))"
   ]
  },
  {
   "cell_type": "code",
   "execution_count": 2,
   "metadata": {
    "_kg_hide-output": true,
    "execution": {
     "iopub.execute_input": "2020-08-13T11:44:30.183226Z",
     "iopub.status.busy": "2020-08-13T11:44:30.182456Z",
     "iopub.status.idle": "2020-08-13T11:44:42.458303Z",
     "shell.execute_reply": "2020-08-13T11:44:42.457372Z"
    },
    "papermill": {
     "duration": 12.298632,
     "end_time": "2020-08-13T11:44:42.458479",
     "exception": false,
     "start_time": "2020-08-13T11:44:30.159847",
     "status": "completed"
    },
    "tags": []
   },
   "outputs": [
    {
     "name": "stdout",
     "output_type": "stream",
     "text": [
      "Collecting neural_structured_learning\r\n",
      "  Downloading neural_structured_learning-1.3.0-py2.py3-none-any.whl (120 kB)\r\n",
      "\u001b[K     |████████████████████████████████| 120 kB 401 kB/s \r\n",
      "\u001b[?25hRequirement already satisfied, skipping upgrade: scipy in /opt/conda/lib/python3.7/site-packages (from neural_structured_learning) (1.4.1)\r\n",
      "Requirement already satisfied, skipping upgrade: six in /opt/conda/lib/python3.7/site-packages (from neural_structured_learning) (1.14.0)\r\n",
      "Requirement already satisfied, skipping upgrade: attrs in /opt/conda/lib/python3.7/site-packages (from neural_structured_learning) (19.3.0)\r\n",
      "Requirement already satisfied, skipping upgrade: absl-py in /opt/conda/lib/python3.7/site-packages (from neural_structured_learning) (0.9.0)\r\n",
      "Requirement already satisfied, skipping upgrade: numpy>=1.13.3 in /opt/conda/lib/python3.7/site-packages (from scipy->neural_structured_learning) (1.18.5)\r\n",
      "Installing collected packages: neural-structured-learning\r\n",
      "Successfully installed neural-structured-learning-1.3.0\r\n",
      "\u001b[33mWARNING: You are using pip version 20.1.1; however, version 20.2.2 is available.\r\n",
      "You should consider upgrading via the '/opt/conda/bin/python3.7 -m pip install --upgrade pip' command.\u001b[0m\r\n"
     ]
    }
   ],
   "source": [
    "!pip install --upgrade neural_structured_learning --user"
   ]
  },
  {
   "cell_type": "code",
   "execution_count": 3,
   "metadata": {
    "execution": {
     "iopub.execute_input": "2020-08-13T11:44:42.518958Z",
     "iopub.status.busy": "2020-08-13T11:44:42.517902Z",
     "iopub.status.idle": "2020-08-13T11:44:42.523068Z",
     "shell.execute_reply": "2020-08-13T11:44:42.522369Z"
    },
    "papermill": {
     "duration": 0.039624,
     "end_time": "2020-08-13T11:44:42.523222",
     "exception": false,
     "start_time": "2020-08-13T11:44:42.483598",
     "status": "completed"
    },
    "tags": []
   },
   "outputs": [
    {
     "data": {
      "text/html": [
       "<style>\n",
       "    @import 'https://fonts.googleapis.com/css?family=Smokum&effect=3d';      \n",
       "    </style><h1 class='font-effect-3d' \n",
       "    style='font-family:Smokum; color:#ff33aa; font-size:35px;'>\n",
       "    Code Modules & Settings</h1>"
      ],
      "text/plain": [
       "<IPython.core.display.HTML object>"
      ]
     },
     "metadata": {},
     "output_type": "display_data"
    }
   ],
   "source": [
    "dhtml('Code Modules & Settings')"
   ]
  },
  {
   "cell_type": "code",
   "execution_count": 4,
   "metadata": {
    "_cell_guid": "b1076dfc-b9ad-4769-8c92-a6c4dae69d19",
    "_uuid": "8f2839f25d086af736a60e9eeb907d3b93b6e0e5",
    "execution": {
     "iopub.execute_input": "2020-08-13T11:44:42.579646Z",
     "iopub.status.busy": "2020-08-13T11:44:42.578657Z",
     "iopub.status.idle": "2020-08-13T11:44:50.783185Z",
     "shell.execute_reply": "2020-08-13T11:44:50.782482Z"
    },
    "papermill": {
     "duration": 8.236605,
     "end_time": "2020-08-13T11:44:50.783349",
     "exception": false,
     "start_time": "2020-08-13T11:44:42.546744",
     "status": "completed"
    },
    "tags": []
   },
   "outputs": [],
   "source": [
    "import os,numpy as np,pandas as pd\n",
    "import pylab as pl,seaborn as sn,tensorflow as tf\n",
    "from tensorflow.keras.datasets import cifar10\n",
    "from tensorflow.keras.preprocessing import image as kimg\n",
    "from tqdm import tqdm\n",
    "from tensorflow.keras.models import Sequential\n",
    "from tensorflow.keras import layers as tkl\n",
    "from tensorflow.keras import callbacks as tkc\n",
    "import neural_structured_learning as nsl\n",
    "from PIL import ImageFile\n",
    "ImageFile.LOAD_TRUNCATED_IMAGES=True"
   ]
  },
  {
   "cell_type": "code",
   "execution_count": 5,
   "metadata": {
    "_kg_hide-input": true,
    "execution": {
     "iopub.execute_input": "2020-08-13T11:44:50.836798Z",
     "iopub.status.busy": "2020-08-13T11:44:50.835449Z",
     "iopub.status.idle": "2020-08-13T11:44:50.840542Z",
     "shell.execute_reply": "2020-08-13T11:44:50.839753Z"
    },
    "papermill": {
     "duration": 0.034275,
     "end_time": "2020-08-13T11:44:50.840693",
     "exception": false,
     "start_time": "2020-08-13T11:44:50.806418",
     "status": "completed"
    },
    "tags": []
   },
   "outputs": [
    {
     "data": {
      "text/html": [
       "<style>\n",
       "    @import 'https://fonts.googleapis.com/css?family=Smokum&effect=3d';      \n",
       "    </style><h1 class='font-effect-3d' \n",
       "    style='font-family:Smokum; color:#ff33aa; font-size:35px;'>\n",
       "    Mixed Data</h1>"
      ],
      "text/plain": [
       "<IPython.core.display.HTML object>"
      ]
     },
     "metadata": {},
     "output_type": "display_data"
    }
   ],
   "source": [
    "dhtml('Mixed Data')"
   ]
  },
  {
   "cell_type": "code",
   "execution_count": 6,
   "metadata": {
    "_cell_guid": "79c7e3d0-c299-4dcb-8224-4455121ee9b0",
    "_uuid": "d629ff2d2480ee46fbb7e2d37f6b5fab8052498a",
    "execution": {
     "iopub.execute_input": "2020-08-13T11:44:50.904745Z",
     "iopub.status.busy": "2020-08-13T11:44:50.903913Z",
     "iopub.status.idle": "2020-08-13T11:45:01.364481Z",
     "shell.execute_reply": "2020-08-13T11:45:01.363705Z"
    },
    "papermill": {
     "duration": 10.495788,
     "end_time": "2020-08-13T11:45:01.364638",
     "exception": false,
     "start_time": "2020-08-13T11:44:50.868850",
     "status": "completed"
    },
    "tags": []
   },
   "outputs": [
    {
     "name": "stdout",
     "output_type": "stream",
     "text": [
      "Downloading data from https://www.cs.toronto.edu/~kriz/cifar-10-python.tar.gz\n",
      "170500096/170498071 [==============================] - 6s 0us/step\n"
     ]
    }
   ],
   "source": [
    "n1=1000\n",
    "classes=['plane','car','bird','cat','deer',\n",
    "         'dog','frog','horse','ship','truck']\n",
    "(x,y),(_,_)=cifar10.load_data()\n",
    "x=np.array(x,dtype='float32')/255\n",
    "y=y.reshape(-1)\n",
    "N=len(y); n=int(.1*N)\n",
    "shuffle_ids=np.arange(N)\n",
    "np.random.RandomState(23).shuffle(shuffle_ids)\n",
    "shuffle_ids=shuffle_ids[:n1]\n",
    "x,y=x[shuffle_ids],y[shuffle_ids]"
   ]
  },
  {
   "cell_type": "code",
   "execution_count": 7,
   "metadata": {
    "execution": {
     "iopub.execute_input": "2020-08-13T11:45:01.525233Z",
     "iopub.status.busy": "2020-08-13T11:45:01.524250Z",
     "iopub.status.idle": "2020-08-13T11:45:01.653575Z",
     "shell.execute_reply": "2020-08-13T11:45:01.652549Z"
    },
    "papermill": {
     "duration": 0.209848,
     "end_time": "2020-08-13T11:45:01.653745",
     "exception": false,
     "start_time": "2020-08-13T11:45:01.443897",
     "status": "completed"
    },
    "tags": []
   },
   "outputs": [
    {
     "name": "stdout",
     "output_type": "stream",
     "text": [
      "[(1000, 32, 32, 3), dtype('float32'), (1000,), dtype('uint8')]\n",
      "Label:  horse\n"
     ]
    },
    {
     "data": {
      "image/png": "[encoded data removed]",
      "text/plain": [
       "<Figure size 72x72 with 1 Axes>"
      ]
     },
     "metadata": {},
     "output_type": "display_data"
    }
   ],
   "source": [
    "print([x.shape,x.dtype,y.shape,y.dtype])\n",
    "print('Label: ',classes[y[1]])\n",
    "pl.figure(figsize=(1,1))\n",
    "pl.xticks([]); pl.yticks([])\n",
    "pl.imshow(x[1]);"
   ]
  },
  {
   "cell_type": "code",
   "execution_count": 8,
   "metadata": {
    "execution": {
     "iopub.execute_input": "2020-08-13T11:45:01.821907Z",
     "iopub.status.busy": "2020-08-13T11:45:01.816708Z",
     "iopub.status.idle": "2020-08-13T11:45:05.550642Z",
     "shell.execute_reply": "2020-08-13T11:45:05.551442Z"
    },
    "papermill": {
     "duration": 3.820103,
     "end_time": "2020-08-13T11:45:05.551687",
     "exception": false,
     "start_time": "2020-08-13T11:45:01.731584",
     "status": "completed"
    },
    "tags": []
   },
   "outputs": [
    {
     "name": "stderr",
     "output_type": "stream",
     "text": [
      "100%|██████████| 1805/1805 [00:03<00:00, 497.75it/s]\n"
     ]
    }
   ],
   "source": [
    "img_size=32\n",
    "manners=['pictogram','contour','sketch']\n",
    "objects=['flower','bird','butterfly','tree',\n",
    "         'plane','crane','dog','horse','deer',\n",
    "         'truck','car','cat','frog','ship']\n",
    "fpath='../input/art-pictogram/pictogram/'\n",
    "flist=sorted(os.listdir(fpath))\n",
    "def path_to_tensor(img_path,fpath):\n",
    "    img=kimg.load_img(fpath+img_path,\n",
    "                      target_size=(img_size,img_size))\n",
    "    x=kimg.img_to_array(img)\n",
    "    return np.expand_dims(x,axis=0)\n",
    "def paths_to_tensor(img_paths,fpath):\n",
    "    tensor_list=[path_to_tensor(img_path,fpath) \n",
    "                 for img_path in tqdm(img_paths)]\n",
    "    return np.vstack(tensor_list)\n",
    "labels1=np.array([int(el[:2]) for el in flist],\n",
    "                 dtype='int8')-1\n",
    "labels2=np.array([int(el[3:6]) for el in flist],\n",
    "                 dtype='int8')-1\n",
    "images=np.array(paths_to_tensor(flist,fpath=fpath))/255\n",
    "n2=len(labels1[labels1==0])\n",
    "images=images[:n2]; labels2=labels2[:n2]\n",
    "cond=np.where([l in classes for l in objects])[0]\n",
    "cond2=np.where([l in cond for l in labels2])\n",
    "images=images[cond2]; labels=labels2[cond2]\n",
    "rd={1:2,4:0,6:5,7:7,8:4,9:9,10:1,11:3,12:6,13:8}\n",
    "labels=np.array([rd.get(x,x) for x in labels],\n",
    "                dtype='int8')"
   ]
  },
  {
   "cell_type": "code",
   "execution_count": 9,
   "metadata": {
    "execution": {
     "iopub.execute_input": "2020-08-13T11:45:05.743004Z",
     "iopub.status.busy": "2020-08-13T11:45:05.727234Z",
     "iopub.status.idle": "2020-08-13T11:45:05.815102Z",
     "shell.execute_reply": "2020-08-13T11:45:05.814298Z"
    },
    "papermill": {
     "duration": 0.182667,
     "end_time": "2020-08-13T11:45:05.815267",
     "exception": false,
     "start_time": "2020-08-13T11:45:05.632600",
     "status": "completed"
    },
    "tags": []
   },
   "outputs": [
    {
     "name": "stdout",
     "output_type": "stream",
     "text": [
      "[(982, 32, 32, 3), dtype('float32'), (982,), dtype('int8')]\n",
      "Label:  bird\n"
     ]
    },
    {
     "data": {
      "image/png": "[encoded data removed]",
      "text/plain": [
       "<Figure size 72x72 with 1 Axes>"
      ]
     },
     "metadata": {},
     "output_type": "display_data"
    }
   ],
   "source": [
    "print([images.shape,images.dtype,\n",
    "       labels.shape,labels.dtype])\n",
    "print('Label: ',classes[labels[100]])\n",
    "pl.figure(figsize=(1,1))\n",
    "pl.xticks([]); pl.yticks([])\n",
    "pl.imshow(images[100]);"
   ]
  },
  {
   "cell_type": "code",
   "execution_count": 10,
   "metadata": {
    "execution": {
     "iopub.execute_input": "2020-08-13T11:45:05.997872Z",
     "iopub.status.busy": "2020-08-13T11:45:05.996142Z",
     "iopub.status.idle": "2020-08-13T11:45:06.026398Z",
     "shell.execute_reply": "2020-08-13T11:45:06.025265Z"
    },
    "papermill": {
     "duration": 0.123367,
     "end_time": "2020-08-13T11:45:06.026636",
     "exception": false,
     "start_time": "2020-08-13T11:45:05.903269",
     "status": "completed"
    },
    "tags": []
   },
   "outputs": [
    {
     "name": "stdout",
     "output_type": "stream",
     "text": [
      "[(1982, 32, 32, 3), dtype('float32'), (1982,), dtype('int16')]\n"
     ]
    }
   ],
   "source": [
    "x=np.vstack([x,images])\n",
    "y=np.hstack([y,labels])\n",
    "N=len(y); n=int(.1*N)\n",
    "shuffle_ids=np.arange(N)\n",
    "np.random.RandomState(23).shuffle(shuffle_ids)\n",
    "x,y=x[shuffle_ids],y[shuffle_ids]\n",
    "x_test,x_valid,x_train=x[:n],x[n:2*n],x[2*n:]\n",
    "y_test,y_valid,y_train=y[:n],y[n:2*n],y[2*n:]\n",
    "print([x.shape,x.dtype,y.shape,y.dtype])"
   ]
  },
  {
   "cell_type": "code",
   "execution_count": 11,
   "metadata": {
    "execution": {
     "iopub.execute_input": "2020-08-13T11:45:06.211096Z",
     "iopub.status.busy": "2020-08-13T11:45:06.204890Z",
     "iopub.status.idle": "2020-08-13T11:45:06.757438Z",
     "shell.execute_reply": "2020-08-13T11:45:06.758442Z"
    },
    "papermill": {
     "duration": 0.642254,
     "end_time": "2020-08-13T11:45:06.758693",
     "exception": false,
     "start_time": "2020-08-13T11:45:06.116439",
     "status": "completed"
    },
    "tags": []
   },
   "outputs": [
    {
     "data": {
      "image/png": "[encoded data removed]",
      "text/plain": [
       "<Figure size 720x216 with 10 Axes>"
      ]
     },
     "metadata": {},
     "output_type": "display_data"
    }
   ],
   "source": [
    "fig=pl.figure(figsize=(10,3))\n",
    "randch=np.random.choice(x_test.shape[0],\n",
    "                        size=10,replace=False)\n",
    "for i,idx in enumerate(randch):\n",
    "    ax=fig.add_subplot(2,5,i+1,\n",
    "                       xticks=[],yticks=[])\n",
    "    ax.imshow(x_test[idx])\n",
    "    true_idx=y_test[idx]\n",
    "    ax.set_title(classes[true_idx],color=\"#ff33aa\")"
   ]
  },
  {
   "cell_type": "code",
   "execution_count": 12,
   "metadata": {
    "execution": {
     "iopub.execute_input": "2020-08-13T11:45:06.981697Z",
     "iopub.status.busy": "2020-08-13T11:45:06.972424Z",
     "iopub.status.idle": "2020-08-13T11:45:07.222905Z",
     "shell.execute_reply": "2020-08-13T11:45:07.222172Z"
    },
    "papermill": {
     "duration": 0.355053,
     "end_time": "2020-08-13T11:45:07.223045",
     "exception": false,
     "start_time": "2020-08-13T11:45:06.867992",
     "status": "completed"
    },
    "tags": []
   },
   "outputs": [
    {
     "data": {
      "image/png": "[encoded data removed]",
      "text/plain": [
       "<Figure size 504x360 with 1 Axes>"
      ]
     },
     "metadata": {
      "needs_background": "light"
     },
     "output_type": "display_data"
    }
   ],
   "source": [
    "df=pd.DataFrame(y,columns=['label'])\n",
    "df['class']=[classes[l] for l in y]\n",
    "pl.figure(figsize=(7,5))\n",
    "sn.countplot(y='class',data=df,\n",
    "             palette='Reds',alpha=.5)\n",
    "ti='Label Distribution'\n",
    "pl.title(ti,fontsize=20); pl.legend(loc=4);"
   ]
  },
  {
   "cell_type": "code",
   "execution_count": 13,
   "metadata": {
    "_kg_hide-input": true,
    "execution": {
     "iopub.execute_input": "2020-08-13T11:45:07.414693Z",
     "iopub.status.busy": "2020-08-13T11:45:07.413432Z",
     "iopub.status.idle": "2020-08-13T11:45:07.418840Z",
     "shell.execute_reply": "2020-08-13T11:45:07.418038Z"
    },
    "papermill": {
     "duration": 0.105991,
     "end_time": "2020-08-13T11:45:07.418998",
     "exception": false,
     "start_time": "2020-08-13T11:45:07.313007",
     "status": "completed"
    },
    "tags": []
   },
   "outputs": [
    {
     "data": {
      "text/html": [
       "<style>\n",
       "    @import 'https://fonts.googleapis.com/css?family=Smokum&effect=3d';      \n",
       "    </style><h1 class='font-effect-3d' \n",
       "    style='font-family:Smokum; color:#ff33aa; font-size:35px;'>\n",
       "    NN Examples</h1>"
      ],
      "text/plain": [
       "<IPython.core.display.HTML object>"
      ]
     },
     "metadata": {},
     "output_type": "display_data"
    }
   ],
   "source": [
    "dhtml('NN Examples')"
   ]
  },
  {
   "cell_type": "code",
   "execution_count": 14,
   "metadata": {
    "execution": {
     "iopub.execute_input": "2020-08-13T11:45:07.613065Z",
     "iopub.status.busy": "2020-08-13T11:45:07.606308Z",
     "iopub.status.idle": "2020-08-13T11:45:07.617439Z",
     "shell.execute_reply": "2020-08-13T11:45:07.616703Z"
    },
    "papermill": {
     "duration": 0.109272,
     "end_time": "2020-08-13T11:45:07.617639",
     "exception": false,
     "start_time": "2020-08-13T11:45:07.508367",
     "status": "completed"
    },
    "tags": []
   },
   "outputs": [],
   "source": [
    "def cnn_model():\n",
    "    model=Sequential()\n",
    "    model.add(tkl.Conv2D(32,(5,5),padding='same',\n",
    "                         input_shape=x_train.shape[1:]))\n",
    "    model.add(tkl.Activation('relu'))\n",
    "    model.add(tkl.MaxPooling2D(pool_size=(2,2)))\n",
    "    model.add(tkl.Dropout(.25))\n",
    "    model.add(tkl.Conv2D(96,(5,5)))\n",
    "    model.add(tkl.Activation('relu'))    \n",
    "    model.add(tkl.MaxPooling2D(pool_size=(2,2)))\n",
    "    model.add(tkl.Dropout(.25))\n",
    "    model.add(tkl.GlobalAveragePooling2D())    \n",
    "    model.add(tkl.Dense(1024,activation='relu'))\n",
    "    model.add(tkl.Dropout(.5))         \n",
    " #   model.add(tkl.Dense(128,activation='relu'))\n",
    " #   model.add(tkl.Dropout(.25)) \n",
    "    model.add(tkl.Dense(10))\n",
    "    model.add(tkl.Activation('softmax'))\n",
    "    model.compile(loss='sparse_categorical_crossentropy',\n",
    "                  optimizer='adam',metrics=['accuracy'])\n",
    "    return model"
   ]
  },
  {
   "cell_type": "code",
   "execution_count": 15,
   "metadata": {
    "_kg_hide-output": true,
    "execution": {
     "iopub.execute_input": "2020-08-13T11:45:07.810097Z",
     "iopub.status.busy": "2020-08-13T11:45:07.809099Z",
     "iopub.status.idle": "2020-08-13T11:47:29.756357Z",
     "shell.execute_reply": "2020-08-13T11:47:29.755494Z"
    },
    "papermill": {
     "duration": 142.045355,
     "end_time": "2020-08-13T11:47:29.756534",
     "exception": false,
     "start_time": "2020-08-13T11:45:07.711179",
     "status": "completed"
    },
    "tags": []
   },
   "outputs": [
    {
     "name": "stdout",
     "output_type": "stream",
     "text": [
      "Epoch 1/100\n",
      "\n",
      "Epoch 00001: val_loss improved from inf to 2.30162, saving model to weights.best.hdf5\n",
      "25/25 - 2s - loss: 2.3041 - accuracy: 0.1103 - val_loss: 2.3016 - val_accuracy: 0.1263 - lr: 0.0010\n",
      "Epoch 2/100\n",
      "\n",
      "Epoch 00002: val_loss improved from 2.30162 to 2.28447, saving model to weights.best.hdf5\n",
      "25/25 - 2s - loss: 2.2936 - accuracy: 0.1059 - val_loss: 2.2845 - val_accuracy: 0.1313 - lr: 0.0010\n",
      "Epoch 3/100\n",
      "\n",
      "Epoch 00003: val_loss did not improve from 2.28447\n",
      "25/25 - 2s - loss: 2.2418 - accuracy: 0.1734 - val_loss: 2.3165 - val_accuracy: 0.1667 - lr: 0.0010\n",
      "Epoch 4/100\n",
      "\n",
      "Epoch 00004: val_loss improved from 2.28447 to 2.14275, saving model to weights.best.hdf5\n",
      "25/25 - 2s - loss: 2.1958 - accuracy: 0.2018 - val_loss: 2.1427 - val_accuracy: 0.2424 - lr: 0.0010\n",
      "Epoch 5/100\n",
      "\n",
      "Epoch 00005: val_loss improved from 2.14275 to 2.12851, saving model to weights.best.hdf5\n",
      "25/25 - 2s - loss: 2.1456 - accuracy: 0.2106 - val_loss: 2.1285 - val_accuracy: 0.2273 - lr: 0.0010\n",
      "Epoch 6/100\n",
      "\n",
      "Epoch 00006: val_loss improved from 2.12851 to 2.06291, saving model to weights.best.hdf5\n",
      "25/25 - 2s - loss: 2.0601 - accuracy: 0.2320 - val_loss: 2.0629 - val_accuracy: 0.2475 - lr: 0.0010\n",
      "Epoch 7/100\n",
      "\n",
      "Epoch 00007: val_loss did not improve from 2.06291\n",
      "25/25 - 2s - loss: 2.0089 - accuracy: 0.2446 - val_loss: 2.1152 - val_accuracy: 0.2576 - lr: 0.0010\n",
      "Epoch 8/100\n",
      "\n",
      "Epoch 00008: val_loss improved from 2.06291 to 1.97501, saving model to weights.best.hdf5\n",
      "25/25 - 2s - loss: 1.9869 - accuracy: 0.2673 - val_loss: 1.9750 - val_accuracy: 0.2677 - lr: 0.0010\n",
      "Epoch 9/100\n",
      "\n",
      "Epoch 00009: val_loss improved from 1.97501 to 1.94774, saving model to weights.best.hdf5\n",
      "25/25 - 2s - loss: 1.9096 - accuracy: 0.2793 - val_loss: 1.9477 - val_accuracy: 0.2929 - lr: 0.0010\n",
      "Epoch 10/100\n",
      "\n",
      "Epoch 00010: val_loss improved from 1.94774 to 1.89554, saving model to weights.best.hdf5\n",
      "25/25 - 2s - loss: 1.8410 - accuracy: 0.3115 - val_loss: 1.8955 - val_accuracy: 0.2929 - lr: 0.0010\n",
      "Epoch 11/100\n",
      "\n",
      "Epoch 00011: val_loss improved from 1.89554 to 1.85999, saving model to weights.best.hdf5\n",
      "25/25 - 2s - loss: 1.8607 - accuracy: 0.3014 - val_loss: 1.8600 - val_accuracy: 0.3283 - lr: 0.0010\n",
      "Epoch 12/100\n",
      "\n",
      "Epoch 00012: val_loss improved from 1.85999 to 1.77919, saving model to weights.best.hdf5\n",
      "25/25 - 2s - loss: 1.7993 - accuracy: 0.3392 - val_loss: 1.7792 - val_accuracy: 0.3838 - lr: 0.0010\n",
      "Epoch 13/100\n",
      "\n",
      "Epoch 00013: val_loss did not improve from 1.77919\n",
      "25/25 - 2s - loss: 1.7742 - accuracy: 0.3474 - val_loss: 1.8953 - val_accuracy: 0.2374 - lr: 0.0010\n",
      "Epoch 14/100\n",
      "\n",
      "Epoch 00014: val_loss did not improve from 1.77919\n",
      "25/25 - 2s - loss: 1.7985 - accuracy: 0.3373 - val_loss: 1.7949 - val_accuracy: 0.3636 - lr: 0.0010\n",
      "Epoch 15/100\n",
      "\n",
      "Epoch 00015: val_loss did not improve from 1.77919\n",
      "25/25 - 2s - loss: 1.7113 - accuracy: 0.3764 - val_loss: 1.8565 - val_accuracy: 0.3131 - lr: 0.0010\n",
      "Epoch 16/100\n",
      "\n",
      "Epoch 00016: val_loss improved from 1.77919 to 1.74952, saving model to weights.best.hdf5\n",
      "25/25 - 2s - loss: 1.7151 - accuracy: 0.3764 - val_loss: 1.7495 - val_accuracy: 0.3283 - lr: 0.0010\n",
      "Epoch 17/100\n",
      "\n",
      "Epoch 00017: val_loss improved from 1.74952 to 1.73103, saving model to weights.best.hdf5\n",
      "25/25 - 2s - loss: 1.6817 - accuracy: 0.3922 - val_loss: 1.7310 - val_accuracy: 0.3737 - lr: 0.0010\n",
      "Epoch 18/100\n",
      "\n",
      "Epoch 00018: val_loss improved from 1.73103 to 1.70597, saving model to weights.best.hdf5\n",
      "25/25 - 2s - loss: 1.6386 - accuracy: 0.3960 - val_loss: 1.7060 - val_accuracy: 0.3838 - lr: 0.0010\n",
      "Epoch 19/100\n",
      "\n",
      "Epoch 00019: val_loss improved from 1.70597 to 1.70135, saving model to weights.best.hdf5\n",
      "25/25 - 2s - loss: 1.6342 - accuracy: 0.3840 - val_loss: 1.7013 - val_accuracy: 0.3485 - lr: 0.0010\n",
      "Epoch 20/100\n",
      "\n",
      "Epoch 00020: val_loss improved from 1.70135 to 1.66828, saving model to weights.best.hdf5\n",
      "25/25 - 2s - loss: 1.5742 - accuracy: 0.4369 - val_loss: 1.6683 - val_accuracy: 0.3838 - lr: 0.0010\n",
      "Epoch 21/100\n",
      "\n",
      "Epoch 00021: val_loss did not improve from 1.66828\n",
      "25/25 - 2s - loss: 1.5519 - accuracy: 0.4325 - val_loss: 1.6754 - val_accuracy: 0.3485 - lr: 0.0010\n",
      "Epoch 22/100\n",
      "\n",
      "Epoch 00022: val_loss improved from 1.66828 to 1.63011, saving model to weights.best.hdf5\n",
      "25/25 - 2s - loss: 1.5291 - accuracy: 0.4344 - val_loss: 1.6301 - val_accuracy: 0.4192 - lr: 0.0010\n",
      "Epoch 23/100\n",
      "\n",
      "Epoch 00023: val_loss did not improve from 1.63011\n",
      "25/25 - 2s - loss: 1.4995 - accuracy: 0.4521 - val_loss: 1.8147 - val_accuracy: 0.3434 - lr: 0.0010\n",
      "Epoch 24/100\n",
      "\n",
      "Epoch 00024: val_loss improved from 1.63011 to 1.62307, saving model to weights.best.hdf5\n",
      "25/25 - 2s - loss: 1.4927 - accuracy: 0.4641 - val_loss: 1.6231 - val_accuracy: 0.3838 - lr: 0.0010\n",
      "Epoch 25/100\n",
      "\n",
      "Epoch 00025: val_loss improved from 1.62307 to 1.58958, saving model to weights.best.hdf5\n",
      "25/25 - 2s - loss: 1.4779 - accuracy: 0.4458 - val_loss: 1.5896 - val_accuracy: 0.4091 - lr: 0.0010\n",
      "Epoch 26/100\n",
      "\n",
      "Epoch 00026: val_loss did not improve from 1.58958\n",
      "25/25 - 2s - loss: 1.4698 - accuracy: 0.4540 - val_loss: 1.6054 - val_accuracy: 0.4242 - lr: 0.0010\n",
      "Epoch 27/100\n",
      "\n",
      "Epoch 00027: val_loss did not improve from 1.58958\n",
      "25/25 - 2s - loss: 1.4125 - accuracy: 0.4811 - val_loss: 1.6471 - val_accuracy: 0.3737 - lr: 0.0010\n",
      "Epoch 28/100\n",
      "\n",
      "Epoch 00028: val_loss improved from 1.58958 to 1.55927, saving model to weights.best.hdf5\n",
      "25/25 - 2s - loss: 1.4082 - accuracy: 0.4798 - val_loss: 1.5593 - val_accuracy: 0.4141 - lr: 0.0010\n",
      "Epoch 29/100\n",
      "\n",
      "Epoch 00029: val_loss did not improve from 1.55927\n",
      "25/25 - 2s - loss: 1.3449 - accuracy: 0.4987 - val_loss: 1.6370 - val_accuracy: 0.3586 - lr: 0.0010\n",
      "Epoch 30/100\n",
      "\n",
      "Epoch 00030: val_loss improved from 1.55927 to 1.55342, saving model to weights.best.hdf5\n",
      "25/25 - 2s - loss: 1.3407 - accuracy: 0.5076 - val_loss: 1.5534 - val_accuracy: 0.4242 - lr: 0.0010\n",
      "Epoch 31/100\n",
      "\n",
      "Epoch 00031: val_loss did not improve from 1.55342\n",
      "25/25 - 2s - loss: 1.3118 - accuracy: 0.5240 - val_loss: 1.6128 - val_accuracy: 0.3687 - lr: 0.0010\n",
      "Epoch 32/100\n",
      "\n",
      "Epoch 00032: val_loss did not improve from 1.55342\n",
      "25/25 - 2s - loss: 1.2798 - accuracy: 0.5467 - val_loss: 1.5829 - val_accuracy: 0.3889 - lr: 0.0010\n",
      "Epoch 33/100\n",
      "\n",
      "Epoch 00033: val_loss improved from 1.55342 to 1.52019, saving model to weights.best.hdf5\n",
      "25/25 - 2s - loss: 1.2939 - accuracy: 0.5309 - val_loss: 1.5202 - val_accuracy: 0.4192 - lr: 0.0010\n",
      "Epoch 34/100\n",
      "\n",
      "Epoch 00034: val_loss did not improve from 1.52019\n",
      "25/25 - 2s - loss: 1.2425 - accuracy: 0.5479 - val_loss: 1.5685 - val_accuracy: 0.3889 - lr: 0.0010\n",
      "Epoch 35/100\n",
      "\n",
      "Epoch 00035: val_loss improved from 1.52019 to 1.50560, saving model to weights.best.hdf5\n",
      "25/25 - 2s - loss: 1.2287 - accuracy: 0.5422 - val_loss: 1.5056 - val_accuracy: 0.4192 - lr: 0.0010\n",
      "Epoch 36/100\n",
      "\n",
      "Epoch 00036: val_loss did not improve from 1.50560\n",
      "25/25 - 2s - loss: 1.2126 - accuracy: 0.5517 - val_loss: 1.5270 - val_accuracy: 0.4444 - lr: 0.0010\n",
      "Epoch 37/100\n",
      "\n",
      "Epoch 00037: val_loss did not improve from 1.50560\n",
      "25/25 - 2s - loss: 1.2293 - accuracy: 0.5542 - val_loss: 1.5784 - val_accuracy: 0.4091 - lr: 0.0010\n",
      "Epoch 38/100\n",
      "\n",
      "Epoch 00038: val_loss did not improve from 1.50560\n",
      "25/25 - 2s - loss: 1.2114 - accuracy: 0.5504 - val_loss: 1.5952 - val_accuracy: 0.3990 - lr: 0.0010\n",
      "Epoch 39/100\n",
      "\n",
      "Epoch 00039: val_loss did not improve from 1.50560\n",
      "25/25 - 2s - loss: 1.2030 - accuracy: 0.5643 - val_loss: 1.7359 - val_accuracy: 0.3586 - lr: 0.0010\n",
      "Epoch 40/100\n",
      "\n",
      "Epoch 00040: val_loss did not improve from 1.50560\n",
      "\n",
      "Epoch 00040: ReduceLROnPlateau reducing learning rate to 0.000800000037997961.\n",
      "25/25 - 2s - loss: 1.1852 - accuracy: 0.5712 - val_loss: 1.5262 - val_accuracy: 0.4545 - lr: 0.0010\n",
      "Epoch 41/100\n",
      "\n",
      "Epoch 00041: val_loss did not improve from 1.50560\n",
      "25/25 - 2s - loss: 1.1194 - accuracy: 0.5939 - val_loss: 1.5276 - val_accuracy: 0.4646 - lr: 8.0000e-04\n",
      "Epoch 42/100\n",
      "\n",
      "Epoch 00042: val_loss did not improve from 1.50560\n",
      "25/25 - 2s - loss: 1.1147 - accuracy: 0.6066 - val_loss: 1.5061 - val_accuracy: 0.4444 - lr: 8.0000e-04\n",
      "Epoch 43/100\n",
      "\n",
      "Epoch 00043: val_loss did not improve from 1.50560\n",
      "25/25 - 2s - loss: 1.0908 - accuracy: 0.6148 - val_loss: 1.5327 - val_accuracy: 0.4040 - lr: 8.0000e-04\n",
      "Epoch 44/100\n",
      "\n",
      "Epoch 00044: val_loss improved from 1.50560 to 1.45077, saving model to weights.best.hdf5\n",
      "25/25 - 2s - loss: 1.0457 - accuracy: 0.6337 - val_loss: 1.4508 - val_accuracy: 0.4192 - lr: 8.0000e-04\n",
      "Epoch 45/100\n",
      "\n",
      "Epoch 00045: val_loss did not improve from 1.45077\n",
      "25/25 - 2s - loss: 1.0540 - accuracy: 0.6103 - val_loss: 1.5044 - val_accuracy: 0.4394 - lr: 8.0000e-04\n",
      "Epoch 46/100\n",
      "\n",
      "Epoch 00046: val_loss did not improve from 1.45077\n",
      "25/25 - 2s - loss: 1.0183 - accuracy: 0.6311 - val_loss: 1.5077 - val_accuracy: 0.4293 - lr: 8.0000e-04\n",
      "Epoch 47/100\n",
      "\n",
      "Epoch 00047: val_loss did not improve from 1.45077\n",
      "25/25 - 2s - loss: 1.0380 - accuracy: 0.6116 - val_loss: 1.4674 - val_accuracy: 0.4394 - lr: 8.0000e-04\n",
      "Epoch 48/100\n",
      "\n",
      "Epoch 00048: val_loss improved from 1.45077 to 1.42591, saving model to weights.best.hdf5\n",
      "25/25 - 2s - loss: 0.9857 - accuracy: 0.6330 - val_loss: 1.4259 - val_accuracy: 0.4444 - lr: 8.0000e-04\n",
      "Epoch 49/100\n",
      "\n",
      "Epoch 00049: val_loss improved from 1.42591 to 1.41424, saving model to weights.best.hdf5\n",
      "25/25 - 2s - loss: 0.9619 - accuracy: 0.6538 - val_loss: 1.4142 - val_accuracy: 0.4747 - lr: 8.0000e-04\n",
      "Epoch 50/100\n",
      "\n",
      "Epoch 00050: val_loss did not improve from 1.41424\n",
      "25/25 - 2s - loss: 0.9762 - accuracy: 0.6469 - val_loss: 1.4899 - val_accuracy: 0.4141 - lr: 8.0000e-04\n",
      "Epoch 51/100\n",
      "\n",
      "Epoch 00051: val_loss did not improve from 1.41424\n",
      "25/25 - 2s - loss: 0.9652 - accuracy: 0.6412 - val_loss: 1.4325 - val_accuracy: 0.4444 - lr: 8.0000e-04\n",
      "Epoch 52/100\n",
      "\n",
      "Epoch 00052: val_loss did not improve from 1.41424\n",
      "25/25 - 2s - loss: 0.9558 - accuracy: 0.6482 - val_loss: 1.4590 - val_accuracy: 0.4343 - lr: 8.0000e-04\n",
      "Epoch 53/100\n",
      "\n",
      "Epoch 00053: val_loss did not improve from 1.41424\n",
      "25/25 - 2s - loss: 0.9723 - accuracy: 0.6538 - val_loss: 1.4212 - val_accuracy: 0.4747 - lr: 8.0000e-04\n",
      "Epoch 54/100\n",
      "\n",
      "Epoch 00054: val_loss did not improve from 1.41424\n",
      "\n",
      "Epoch 00054: ReduceLROnPlateau reducing learning rate to 0.0006400000303983689.\n",
      "25/25 - 2s - loss: 0.9221 - accuracy: 0.6602 - val_loss: 1.4561 - val_accuracy: 0.4495 - lr: 8.0000e-04\n",
      "Epoch 55/100\n",
      "\n",
      "Epoch 00055: val_loss did not improve from 1.41424\n",
      "25/25 - 2s - loss: 0.9458 - accuracy: 0.6520 - val_loss: 1.4826 - val_accuracy: 0.4545 - lr: 6.4000e-04\n",
      "Epoch 56/100\n",
      "\n",
      "Epoch 00056: val_loss did not improve from 1.41424\n",
      "25/25 - 2s - loss: 0.8950 - accuracy: 0.6885 - val_loss: 1.5681 - val_accuracy: 0.4192 - lr: 6.4000e-04\n",
      "Epoch 57/100\n",
      "\n",
      "Epoch 00057: val_loss did not improve from 1.41424\n",
      "25/25 - 2s - loss: 0.8732 - accuracy: 0.6828 - val_loss: 1.4423 - val_accuracy: 0.4495 - lr: 6.4000e-04\n",
      "Epoch 58/100\n",
      "\n",
      "Epoch 00058: val_loss did not improve from 1.41424\n",
      "25/25 - 2s - loss: 0.8765 - accuracy: 0.6665 - val_loss: 1.4935 - val_accuracy: 0.4899 - lr: 6.4000e-04\n",
      "Epoch 59/100\n",
      "\n",
      "Epoch 00059: val_loss did not improve from 1.41424\n",
      "\n",
      "Epoch 00059: ReduceLROnPlateau reducing learning rate to 0.0005120000336319208.\n",
      "25/25 - 2s - loss: 0.8539 - accuracy: 0.6778 - val_loss: 1.4517 - val_accuracy: 0.4444 - lr: 6.4000e-04\n",
      "Epoch 60/100\n",
      "\n",
      "Epoch 00060: val_loss did not improve from 1.41424\n",
      "25/25 - 2s - loss: 0.8352 - accuracy: 0.6942 - val_loss: 1.4318 - val_accuracy: 0.4747 - lr: 5.1200e-04\n",
      "Epoch 61/100\n",
      "\n",
      "Epoch 00061: val_loss did not improve from 1.41424\n",
      "25/25 - 2s - loss: 0.8134 - accuracy: 0.7018 - val_loss: 1.4898 - val_accuracy: 0.4394 - lr: 5.1200e-04\n",
      "Epoch 62/100\n",
      "\n",
      "Epoch 00062: val_loss did not improve from 1.41424\n",
      "25/25 - 2s - loss: 0.8245 - accuracy: 0.6917 - val_loss: 1.5166 - val_accuracy: 0.4293 - lr: 5.1200e-04\n",
      "Epoch 63/100\n",
      "\n",
      "Epoch 00063: val_loss did not improve from 1.41424\n",
      "25/25 - 2s - loss: 0.8061 - accuracy: 0.7137 - val_loss: 1.4431 - val_accuracy: 0.4293 - lr: 5.1200e-04\n",
      "Epoch 64/100\n",
      "\n",
      "Epoch 00064: val_loss did not improve from 1.41424\n",
      "\n",
      "Epoch 00064: ReduceLROnPlateau reducing learning rate to 0.00040960004553198815.\n",
      "25/25 - 2s - loss: 0.8018 - accuracy: 0.7055 - val_loss: 1.4436 - val_accuracy: 0.4596 - lr: 5.1200e-04\n",
      "Epoch 65/100\n",
      "\n",
      "Epoch 00065: val_loss did not improve from 1.41424\n",
      "25/25 - 2s - loss: 0.7854 - accuracy: 0.7194 - val_loss: 1.4961 - val_accuracy: 0.4495 - lr: 4.0960e-04\n",
      "Epoch 66/100\n",
      "\n",
      "Epoch 00066: val_loss did not improve from 1.41424\n",
      "25/25 - 2s - loss: 0.7834 - accuracy: 0.7093 - val_loss: 1.4597 - val_accuracy: 0.4495 - lr: 4.0960e-04\n",
      "Epoch 67/100\n",
      "\n",
      "Epoch 00067: val_loss did not improve from 1.41424\n",
      "25/25 - 2s - loss: 0.7573 - accuracy: 0.7409 - val_loss: 1.4160 - val_accuracy: 0.5000 - lr: 4.0960e-04\n",
      "Epoch 68/100\n",
      "\n",
      "Epoch 00068: val_loss did not improve from 1.41424\n",
      "25/25 - 2s - loss: 0.7757 - accuracy: 0.7207 - val_loss: 1.4730 - val_accuracy: 0.4596 - lr: 4.0960e-04\n",
      "Epoch 69/100\n",
      "\n",
      "Epoch 00069: val_loss did not improve from 1.41424\n",
      "\n",
      "Epoch 00069: ReduceLROnPlateau reducing learning rate to 0.00032768002711236477.\n",
      "25/25 - 2s - loss: 0.7482 - accuracy: 0.7238 - val_loss: 1.4571 - val_accuracy: 0.4444 - lr: 4.0960e-04\n",
      "Epoch 00069: early stopping\n"
     ]
    }
   ],
   "source": [
    "cnn_model=cnn_model()\n",
    "fw='weights.best.hdf5'\n",
    "early_stopping=tkc.EarlyStopping(monitor='val_loss',\n",
    "                                 patience=20,verbose=2)\n",
    "checkpointer=tkc.ModelCheckpoint(filepath=fw,verbose=2,\n",
    "                                 save_best_only=True)\n",
    "lr_reduction=tkc.ReduceLROnPlateau(monitor='val_loss',verbose=2,\n",
    "                                   patience=5,factor=.8)\n",
    "history=cnn_model.fit(x_train,y_train,epochs=100,\n",
    "                      batch_size=64,verbose=2,\n",
    "                      validation_data=(x_valid,y_valid),\n",
    "                      callbacks=[checkpointer,\n",
    "                                 early_stopping,\n",
    "                                 lr_reduction])"
   ]
  },
  {
   "cell_type": "code",
   "execution_count": 16,
   "metadata": {
    "execution": {
     "iopub.execute_input": "2020-08-13T11:47:30.082098Z",
     "iopub.status.busy": "2020-08-13T11:47:30.072630Z",
     "iopub.status.idle": "2020-08-13T11:47:30.568802Z",
     "shell.execute_reply": "2020-08-13T11:47:30.569455Z"
    },
    "papermill": {
     "duration": 0.666152,
     "end_time": "2020-08-13T11:47:30.569657",
     "exception": false,
     "start_time": "2020-08-13T11:47:29.903505",
     "status": "completed"
    },
    "tags": []
   },
   "outputs": [
    {
     "data": {
      "image/png": "[encoded data removed]",
      "text/plain": [
       "<Figure size 720x576 with 2 Axes>"
      ]
     },
     "metadata": {
      "needs_background": "light"
     },
     "output_type": "display_data"
    }
   ],
   "source": [
    "def history_plot(fit_history):\n",
    "    pl.figure(figsize=(10,8)); pl.subplot(211)\n",
    "    keys=list(fit_history.history.keys())[0:4]\n",
    "    pl.plot(fit_history.history[keys[0]],\n",
    "            color='slategray',label='train')\n",
    "    pl.plot(fit_history.history[keys[2]],\n",
    "            color='#ff33aa',label='valid')\n",
    "    pl.xlabel(\"Epochs\"); pl.ylabel(\"Loss\")\n",
    "    pl.legend(); pl.grid()\n",
    "    pl.title('Loss Function')     \n",
    "    pl.subplot(212)\n",
    "    pl.plot(fit_history.history[keys[1]],\n",
    "            color='slategray',label='train')\n",
    "    pl.plot(fit_history.history[keys[3]],\n",
    "            color='#ff33aa',label='valid')\n",
    "    pl.xlabel(\"Epochs\"); pl.ylabel(\"Accuracy\")    \n",
    "    pl.legend(); pl.grid()\n",
    "    pl.title('Accuracy'); pl.show()\n",
    "history_plot(history)"
   ]
  },
  {
   "cell_type": "code",
   "execution_count": 17,
   "metadata": {
    "execution": {
     "iopub.execute_input": "2020-08-13T11:47:30.891308Z",
     "iopub.status.busy": "2020-08-13T11:47:30.890174Z",
     "iopub.status.idle": "2020-08-13T11:47:31.018287Z",
     "shell.execute_reply": "2020-08-13T11:47:31.019024Z"
    },
    "papermill": {
     "duration": 0.293426,
     "end_time": "2020-08-13T11:47:31.019210",
     "exception": false,
     "start_time": "2020-08-13T11:47:30.725784",
     "status": "completed"
    },
    "tags": []
   },
   "outputs": [
    {
     "name": "stdout",
     "output_type": "stream",
     "text": [
      "7/7 [==============================] - 0s 10ms/step - loss: 1.3101 - accuracy: 0.5152\n"
     ]
    },
    {
     "data": {
      "text/plain": [
       "[1.3100842237472534, 0.5151515007019043]"
      ]
     },
     "execution_count": 17,
     "metadata": {},
     "output_type": "execute_result"
    }
   ],
   "source": [
    "cnn_model.load_weights(fw)\n",
    "cnn_model.evaluate(x_test,y_test)"
   ]
  },
  {
   "cell_type": "code",
   "execution_count": 18,
   "metadata": {
    "execution": {
     "iopub.execute_input": "2020-08-13T11:47:31.343370Z",
     "iopub.status.busy": "2020-08-13T11:47:31.342351Z",
     "iopub.status.idle": "2020-08-13T11:47:31.528975Z",
     "shell.execute_reply": "2020-08-13T11:47:31.528155Z"
    },
    "papermill": {
     "duration": 0.362241,
     "end_time": "2020-08-13T11:47:31.529122",
     "exception": false,
     "start_time": "2020-08-13T11:47:31.166881",
     "status": "completed"
    },
    "tags": []
   },
   "outputs": [],
   "source": [
    "batch_size=64; img_size=32; n_classes=10; epochs=30\n",
    "base_model=tf.keras.Sequential([\n",
    "    tf.keras.Input((img_size,img_size,3),name='input'),\n",
    "    tf.keras.layers.Conv2D(32,(5,5),padding='same'),\n",
    "    tf.keras.layers.Activation('relu'),\n",
    "    tf.keras.layers.MaxPooling2D(pool_size=(2,2)),\n",
    "    tf.keras.layers.Dropout(.25),\n",
    "    tf.keras.layers.Conv2D(196,(5,5)),\n",
    "    tf.keras.layers.Activation('relu'),    \n",
    "    tf.keras.layers.MaxPooling2D(pool_size=(2,2)),\n",
    "    tf.keras.layers.Dropout(.25),\n",
    "    tf.keras.layers.GlobalMaxPooling2D(),    \n",
    "    tf.keras.layers.Dense(512),\n",
    "    tf.keras.layers.Activation('relu'),\n",
    "    tf.keras.layers.Dropout(.25),\n",
    "    tf.keras.layers.Dense(128),\n",
    "    tf.keras.layers.Activation('relu'),\n",
    "    tf.keras.layers.Dropout(.25),\n",
    "    tf.keras.layers.Dense(n_classes,\n",
    "                          activation='softmax')\n",
    "])\n",
    "adv_config=nsl.configs\\\n",
    ".make_adv_reg_config(multiplier=.2,adv_step_size=.05)\n",
    "adv_model=nsl.keras\\\n",
    ".AdversarialRegularization(base_model,adv_config=adv_config)\n",
    "adv_model.compile(optimizer='adam',\n",
    "                  loss='sparse_categorical_crossentropy',\n",
    "                  metrics=['accuracy'])"
   ]
  },
  {
   "cell_type": "code",
   "execution_count": 19,
   "metadata": {
    "_kg_hide-output": true,
    "execution": {
     "iopub.execute_input": "2020-08-13T11:47:31.840388Z",
     "iopub.status.busy": "2020-08-13T11:47:31.839197Z",
     "iopub.status.idle": "2020-08-13T11:51:16.471563Z",
     "shell.execute_reply": "2020-08-13T11:51:16.470796Z"
    },
    "papermill": {
     "duration": 224.794255,
     "end_time": "2020-08-13T11:51:16.471772",
     "exception": false,
     "start_time": "2020-08-13T11:47:31.677517",
     "status": "completed"
    },
    "tags": []
   },
   "outputs": [
    {
     "name": "stdout",
     "output_type": "stream",
     "text": [
      "Epoch 1/30\n",
      "25/25 - 7s - loss: 2.7792 - sparse_categorical_crossentropy: 2.3156 - sparse_categorical_accuracy: 0.1223 - scaled_adversarial_loss: 0.4636 - val_loss: 2.7589 - val_sparse_categorical_crossentropy: 2.2988 - val_sparse_categorical_accuracy: 0.0990 - val_scaled_adversarial_loss: 0.4600\n",
      "Epoch 2/30\n",
      "25/25 - 7s - loss: 2.7426 - sparse_categorical_crossentropy: 2.2856 - sparse_categorical_accuracy: 0.1381 - scaled_adversarial_loss: 0.4570 - val_loss: 2.7394 - val_sparse_categorical_crossentropy: 2.2823 - val_sparse_categorical_accuracy: 0.1302 - val_scaled_adversarial_loss: 0.4571\n",
      "Epoch 3/30\n",
      "25/25 - 6s - loss: 2.6657 - sparse_categorical_crossentropy: 2.2212 - sparse_categorical_accuracy: 0.1885 - scaled_adversarial_loss: 0.4444 - val_loss: 2.6990 - val_sparse_categorical_crossentropy: 2.2476 - val_sparse_categorical_accuracy: 0.1406 - val_scaled_adversarial_loss: 0.4514\n",
      "Epoch 4/30\n",
      "25/25 - 7s - loss: 2.4868 - sparse_categorical_crossentropy: 2.0693 - sparse_categorical_accuracy: 0.2245 - scaled_adversarial_loss: 0.4175 - val_loss: 2.4782 - val_sparse_categorical_crossentropy: 2.0618 - val_sparse_categorical_accuracy: 0.2656 - val_scaled_adversarial_loss: 0.4164\n",
      "Epoch 5/30\n",
      "25/25 - 7s - loss: 2.2948 - sparse_categorical_crossentropy: 1.9088 - sparse_categorical_accuracy: 0.2869 - scaled_adversarial_loss: 0.3860 - val_loss: 2.4773 - val_sparse_categorical_crossentropy: 2.0598 - val_sparse_categorical_accuracy: 0.2760 - val_scaled_adversarial_loss: 0.4175\n",
      "Epoch 6/30\n",
      "25/25 - 6s - loss: 2.1955 - sparse_categorical_crossentropy: 1.8257 - sparse_categorical_accuracy: 0.3203 - scaled_adversarial_loss: 0.3698 - val_loss: 2.3114 - val_sparse_categorical_crossentropy: 1.9213 - val_sparse_categorical_accuracy: 0.2969 - val_scaled_adversarial_loss: 0.3901\n",
      "Epoch 7/30\n",
      "25/25 - 6s - loss: 2.0760 - sparse_categorical_crossentropy: 1.7214 - sparse_categorical_accuracy: 0.3657 - scaled_adversarial_loss: 0.3546 - val_loss: 2.3064 - val_sparse_categorical_crossentropy: 1.9158 - val_sparse_categorical_accuracy: 0.3281 - val_scaled_adversarial_loss: 0.3906\n",
      "Epoch 8/30\n",
      "25/25 - 7s - loss: 1.9987 - sparse_categorical_crossentropy: 1.6580 - sparse_categorical_accuracy: 0.3897 - scaled_adversarial_loss: 0.3407 - val_loss: 2.3382 - val_sparse_categorical_crossentropy: 1.9420 - val_sparse_categorical_accuracy: 0.3177 - val_scaled_adversarial_loss: 0.3962\n",
      "Epoch 9/30\n",
      "25/25 - 7s - loss: 1.9652 - sparse_categorical_crossentropy: 1.6346 - sparse_categorical_accuracy: 0.3903 - scaled_adversarial_loss: 0.3306 - val_loss: 2.3324 - val_sparse_categorical_crossentropy: 1.9363 - val_sparse_categorical_accuracy: 0.3021 - val_scaled_adversarial_loss: 0.3961\n",
      "Epoch 10/30\n",
      "25/25 - 6s - loss: 1.8403 - sparse_categorical_crossentropy: 1.5304 - sparse_categorical_accuracy: 0.4325 - scaled_adversarial_loss: 0.3099 - val_loss: 2.2412 - val_sparse_categorical_crossentropy: 1.8582 - val_sparse_categorical_accuracy: 0.3125 - val_scaled_adversarial_loss: 0.3829\n",
      "Epoch 11/30\n",
      "25/25 - 6s - loss: 1.7313 - sparse_categorical_crossentropy: 1.4386 - sparse_categorical_accuracy: 0.4578 - scaled_adversarial_loss: 0.2927 - val_loss: 2.1758 - val_sparse_categorical_crossentropy: 1.8035 - val_sparse_categorical_accuracy: 0.3594 - val_scaled_adversarial_loss: 0.3723\n",
      "Epoch 12/30\n",
      "25/25 - 6s - loss: 1.6726 - sparse_categorical_crossentropy: 1.3874 - sparse_categorical_accuracy: 0.4729 - scaled_adversarial_loss: 0.2852 - val_loss: 2.0559 - val_sparse_categorical_crossentropy: 1.7028 - val_sparse_categorical_accuracy: 0.3438 - val_scaled_adversarial_loss: 0.3532\n",
      "Epoch 13/30\n",
      "25/25 - 6s - loss: 1.5760 - sparse_categorical_crossentropy: 1.3107 - sparse_categorical_accuracy: 0.5013 - scaled_adversarial_loss: 0.2654 - val_loss: 2.0424 - val_sparse_categorical_crossentropy: 1.6908 - val_sparse_categorical_accuracy: 0.3542 - val_scaled_adversarial_loss: 0.3516\n",
      "Epoch 14/30\n",
      "25/25 - 6s - loss: 1.4733 - sparse_categorical_crossentropy: 1.2222 - sparse_categorical_accuracy: 0.5441 - scaled_adversarial_loss: 0.2511 - val_loss: 2.1079 - val_sparse_categorical_crossentropy: 1.7434 - val_sparse_categorical_accuracy: 0.3385 - val_scaled_adversarial_loss: 0.3645\n",
      "Epoch 15/30\n",
      "25/25 - 7s - loss: 1.4418 - sparse_categorical_crossentropy: 1.1953 - sparse_categorical_accuracy: 0.5643 - scaled_adversarial_loss: 0.2466 - val_loss: 2.0403 - val_sparse_categorical_crossentropy: 1.6869 - val_sparse_categorical_accuracy: 0.3750 - val_scaled_adversarial_loss: 0.3534\n",
      "Epoch 16/30\n",
      "25/25 - 6s - loss: 1.4245 - sparse_categorical_crossentropy: 1.1783 - sparse_categorical_accuracy: 0.5631 - scaled_adversarial_loss: 0.2462 - val_loss: 2.0428 - val_sparse_categorical_crossentropy: 1.6896 - val_sparse_categorical_accuracy: 0.3542 - val_scaled_adversarial_loss: 0.3532\n",
      "Epoch 17/30\n",
      "25/25 - 7s - loss: 1.3393 - sparse_categorical_crossentropy: 1.1139 - sparse_categorical_accuracy: 0.5921 - scaled_adversarial_loss: 0.2254 - val_loss: 1.9969 - val_sparse_categorical_crossentropy: 1.6499 - val_sparse_categorical_accuracy: 0.3802 - val_scaled_adversarial_loss: 0.3469\n",
      "Epoch 18/30\n",
      "25/25 - 7s - loss: 1.2119 - sparse_categorical_crossentropy: 1.0020 - sparse_categorical_accuracy: 0.6425 - scaled_adversarial_loss: 0.2100 - val_loss: 2.0618 - val_sparse_categorical_crossentropy: 1.7024 - val_sparse_categorical_accuracy: 0.3750 - val_scaled_adversarial_loss: 0.3594\n",
      "Epoch 19/30\n",
      "25/25 - 6s - loss: 1.1875 - sparse_categorical_crossentropy: 0.9846 - sparse_categorical_accuracy: 0.6337 - scaled_adversarial_loss: 0.2029 - val_loss: 2.0075 - val_sparse_categorical_crossentropy: 1.6575 - val_sparse_categorical_accuracy: 0.3646 - val_scaled_adversarial_loss: 0.3500\n",
      "Epoch 20/30\n",
      "25/25 - 6s - loss: 1.1109 - sparse_categorical_crossentropy: 0.9253 - sparse_categorical_accuracy: 0.6419 - scaled_adversarial_loss: 0.1856 - val_loss: 1.8794 - val_sparse_categorical_crossentropy: 1.5490 - val_sparse_categorical_accuracy: 0.4583 - val_scaled_adversarial_loss: 0.3303\n",
      "Epoch 21/30\n",
      "25/25 - 7s - loss: 1.0975 - sparse_categorical_crossentropy: 0.9075 - sparse_categorical_accuracy: 0.6671 - scaled_adversarial_loss: 0.1900 - val_loss: 1.9275 - val_sparse_categorical_crossentropy: 1.5879 - val_sparse_categorical_accuracy: 0.4479 - val_scaled_adversarial_loss: 0.3396\n",
      "Epoch 22/30\n",
      "25/25 - 6s - loss: 1.0276 - sparse_categorical_crossentropy: 0.8454 - sparse_categorical_accuracy: 0.6784 - scaled_adversarial_loss: 0.1821 - val_loss: 2.0382 - val_sparse_categorical_crossentropy: 1.6791 - val_sparse_categorical_accuracy: 0.3802 - val_scaled_adversarial_loss: 0.3591\n",
      "Epoch 23/30\n",
      "25/25 - 6s - loss: 0.9865 - sparse_categorical_crossentropy: 0.8136 - sparse_categorical_accuracy: 0.6778 - scaled_adversarial_loss: 0.1729 - val_loss: 1.9202 - val_sparse_categorical_crossentropy: 1.5792 - val_sparse_categorical_accuracy: 0.4531 - val_scaled_adversarial_loss: 0.3411\n",
      "Epoch 24/30\n",
      "25/25 - 6s - loss: 0.9112 - sparse_categorical_crossentropy: 0.7513 - sparse_categorical_accuracy: 0.7125 - scaled_adversarial_loss: 0.1598 - val_loss: 2.1232 - val_sparse_categorical_crossentropy: 1.7472 - val_sparse_categorical_accuracy: 0.3958 - val_scaled_adversarial_loss: 0.3760\n",
      "Epoch 25/30\n",
      "25/25 - 7s - loss: 0.8645 - sparse_categorical_crossentropy: 0.7153 - sparse_categorical_accuracy: 0.7264 - scaled_adversarial_loss: 0.1492 - val_loss: 2.1386 - val_sparse_categorical_crossentropy: 1.7587 - val_sparse_categorical_accuracy: 0.3698 - val_scaled_adversarial_loss: 0.3799\n",
      "Epoch 26/30\n",
      "25/25 - 7s - loss: 0.8139 - sparse_categorical_crossentropy: 0.6790 - sparse_categorical_accuracy: 0.7573 - scaled_adversarial_loss: 0.1349 - val_loss: 2.0129 - val_sparse_categorical_crossentropy: 1.6529 - val_sparse_categorical_accuracy: 0.4635 - val_scaled_adversarial_loss: 0.3600\n",
      "Epoch 27/30\n",
      "25/25 - 7s - loss: 0.7396 - sparse_categorical_crossentropy: 0.6188 - sparse_categorical_accuracy: 0.7718 - scaled_adversarial_loss: 0.1208 - val_loss: 1.9622 - val_sparse_categorical_crossentropy: 1.6090 - val_sparse_categorical_accuracy: 0.4271 - val_scaled_adversarial_loss: 0.3532\n",
      "Epoch 28/30\n",
      "25/25 - 8s - loss: 0.6973 - sparse_categorical_crossentropy: 0.5735 - sparse_categorical_accuracy: 0.7919 - scaled_adversarial_loss: 0.1238 - val_loss: 1.9882 - val_sparse_categorical_crossentropy: 1.6292 - val_sparse_categorical_accuracy: 0.4844 - val_scaled_adversarial_loss: 0.3590\n",
      "Epoch 29/30\n",
      "25/25 - 7s - loss: 0.6708 - sparse_categorical_crossentropy: 0.5506 - sparse_categorical_accuracy: 0.7995 - scaled_adversarial_loss: 0.1202 - val_loss: 1.9818 - val_sparse_categorical_crossentropy: 1.6242 - val_sparse_categorical_accuracy: 0.4479 - val_scaled_adversarial_loss: 0.3576\n",
      "Epoch 30/30\n",
      "25/25 - 6s - loss: 0.6411 - sparse_categorical_crossentropy: 0.5241 - sparse_categorical_accuracy: 0.8172 - scaled_adversarial_loss: 0.1170 - val_loss: 2.2641 - val_sparse_categorical_crossentropy: 1.8565 - val_sparse_categorical_accuracy: 0.4271 - val_scaled_adversarial_loss: 0.4076\n"
     ]
    }
   ],
   "source": [
    "train=tf.data.Dataset.from_tensor_slices(\n",
    "    {'input':x_train,'label':y_train}).batch(batch_size)\n",
    "valid=tf.data.Dataset.from_tensor_slices(\n",
    "    {'input':x_valid,'label':y_valid}).batch(batch_size)\n",
    "valid_steps=x_valid.shape[0]//batch_size\n",
    "adv_model.fit(train,validation_data=valid,verbose=2,\n",
    "              validation_steps=valid_steps,epochs=epochs);"
   ]
  },
  {
   "cell_type": "code",
   "execution_count": 20,
   "metadata": {
    "execution": {
     "iopub.execute_input": "2020-08-13T11:51:16.828750Z",
     "iopub.status.busy": "2020-08-13T11:51:16.827757Z",
     "iopub.status.idle": "2020-08-13T11:51:17.687189Z",
     "shell.execute_reply": "2020-08-13T11:51:17.686453Z"
    },
    "papermill": {
     "duration": 1.04244,
     "end_time": "2020-08-13T11:51:17.687358",
     "exception": false,
     "start_time": "2020-08-13T11:51:16.644918",
     "status": "completed"
    },
    "tags": []
   },
   "outputs": [
    {
     "name": "stdout",
     "output_type": "stream",
     "text": [
      "7/7 [==============================] - 0s 53ms/step - loss: 1.7509 - sparse_categorical_crossentropy: 1.4335 - sparse_categorical_accuracy: 0.5404 - scaled_adversarial_loss: 0.3174\n"
     ]
    },
    {
     "data": {
      "text/plain": [
       "[1.7509492635726929, 1.433516502380371, 0.5404040217399597, 0.3174326717853546]"
      ]
     },
     "execution_count": 20,
     "metadata": {},
     "output_type": "execute_result"
    }
   ],
   "source": [
    "adv_model.evaluate({'input':x_test,'label':y_test})"
   ]
  }
 ],
 "metadata": {
  "kernelspec": {
   "display_name": "Python 3",
   "language": "python",
   "name": "python3"
  },
  "language_info": {
   "codemirror_mode": {
    "name": "ipython",
    "version": 3
   },
   "file_extension": ".py",
   "mimetype": "text/x-python",
   "name": "python",
   "nbconvert_exporter": "python",
   "pygments_lexer": "ipython3",
   "version": "3.7.6"
  },
  "papermill": {
   "duration": 413.890459,
   "end_time": "2020-08-13T11:51:17.990877",
   "environment_variables": {},
   "exception": null,
   "input_path": "__notebook__.ipynb",
   "output_path": "__notebook__.ipynb",
   "parameters": {},
   "start_time": "2020-08-13T11:44:24.100418",
   "version": "2.1.0"
  }
 },
 "nbformat": 4,
 "nbformat_minor": 4
}
