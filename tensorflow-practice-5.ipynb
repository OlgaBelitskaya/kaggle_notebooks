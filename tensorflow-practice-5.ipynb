{
 "cells": [
  {
   "cell_type": "markdown",
   "metadata": {
    "papermill": {
     "duration": 0.01104,
     "end_time": "2020-09-21T23:52:33.130387",
     "exception": false,
     "start_time": "2020-09-21T23:52:33.119347",
     "status": "completed"
    },
    "tags": []
   },
   "source": [
    "Reading classics [Python Machine Learning 3rd Edition](https://github.com/rasbt/python-machine-learning-book-3rd-edition/blob/master/ch14/ch14_part3.ipynb)"
   ]
  },
  {
   "cell_type": "code",
   "execution_count": 1,
   "metadata": {
    "_cell_guid": "b1076dfc-b9ad-4769-8c92-a6c4dae69d19",
    "_kg_hide-input": true,
    "_uuid": "8f2839f25d086af736a60e9eeb907d3b93b6e0e5",
    "execution": {
     "iopub.execute_input": "2020-09-21T23:52:33.157209Z",
     "iopub.status.busy": "2020-09-21T23:52:33.156558Z",
     "iopub.status.idle": "2020-09-21T23:52:33.160183Z",
     "shell.execute_reply": "2020-09-21T23:52:33.159491Z"
    },
    "papermill": {
     "duration": 0.019607,
     "end_time": "2020-09-21T23:52:33.160300",
     "exception": false,
     "start_time": "2020-09-21T23:52:33.140693",
     "status": "completed"
    },
    "tags": []
   },
   "outputs": [],
   "source": [
    "from IPython.display import display,HTML\n",
    "def dhtml(str):\n",
    "    display(HTML(\"\"\"<style>\n",
    "    @import 'https://fonts.googleapis.com/css?family=Orbitron&effect=3d';      \n",
    "    </style><h1 class='font-effect-3d' \n",
    "    style='font-family:Orbitron; color:#ffee11; font-size:25px;'>\n",
    "    %s</h1>\"\"\"%str))\n",
    "def phtml(str):\n",
    "    display(HTML(\"\"\"<style>\n",
    "    @import 'https://fonts.googleapis.com/css?family=Smokum&effect=3d-float';      \n",
    "    </style><h1 class='font-effect-3d-float' \n",
    "    style='font-family:Smokum; color:#11ff11; font-size:25px;'>\n",
    "    %s</h1>\"\"\"%str))"
   ]
  },
  {
   "cell_type": "code",
   "execution_count": 2,
   "metadata": {
    "_cell_guid": "79c7e3d0-c299-4dcb-8224-4455121ee9b0",
    "_kg_hide-input": true,
    "_uuid": "d629ff2d2480ee46fbb7e2d37f6b5fab8052498a",
    "execution": {
     "iopub.execute_input": "2020-09-21T23:52:33.187559Z",
     "iopub.status.busy": "2020-09-21T23:52:33.186546Z",
     "iopub.status.idle": "2020-09-21T23:52:33.190248Z",
     "shell.execute_reply": "2020-09-21T23:52:33.190806Z"
    },
    "papermill": {
     "duration": 0.020214,
     "end_time": "2020-09-21T23:52:33.190962",
     "exception": false,
     "start_time": "2020-09-21T23:52:33.170748",
     "status": "completed"
    },
    "tags": []
   },
   "outputs": [
    {
     "data": {
      "text/html": [
       "<style>\n",
       "    @import 'https://fonts.googleapis.com/css?family=Orbitron&effect=3d';      \n",
       "    </style><h1 class='font-effect-3d' \n",
       "    style='font-family:Orbitron; color:#ffee11; font-size:25px;'>\n",
       "    Code Modules & Functions</h1>"
      ],
      "text/plain": [
       "<IPython.core.display.HTML object>"
      ]
     },
     "metadata": {},
     "output_type": "display_data"
    }
   ],
   "source": [
    "dhtml('Code Modules & Functions')"
   ]
  },
  {
   "cell_type": "code",
   "execution_count": 3,
   "metadata": {
    "execution": {
     "iopub.execute_input": "2020-09-21T23:52:33.220089Z",
     "iopub.status.busy": "2020-09-21T23:52:33.219243Z",
     "iopub.status.idle": "2020-09-21T23:52:41.740992Z",
     "shell.execute_reply": "2020-09-21T23:52:41.740223Z"
    },
    "papermill": {
     "duration": 8.539108,
     "end_time": "2020-09-21T23:52:41.741146",
     "exception": false,
     "start_time": "2020-09-21T23:52:33.202038",
     "status": "completed"
    },
    "tags": []
   },
   "outputs": [],
   "source": [
    "import warnings; warnings.filterwarnings('ignore')\n",
    "import tensorflow as tf,pylab as pl\n",
    "import pandas as pd,numpy as np,seaborn as sb\n",
    "import tensorflow.keras.utils as tku\n",
    "import tensorflow.image as timg\n",
    "import tensorflow_datasets as tfds\n",
    "from tensorflow.data import Dataset as tds\n",
    "import sklearn.model_selection as sms\n",
    "from IPython.core.magic import register_line_magic"
   ]
  },
  {
   "cell_type": "code",
   "execution_count": 4,
   "metadata": {
    "_kg_hide-input": true,
    "execution": {
     "iopub.execute_input": "2020-09-21T23:52:41.774681Z",
     "iopub.status.busy": "2020-09-21T23:52:41.773629Z",
     "iopub.status.idle": "2020-09-21T23:52:41.776964Z",
     "shell.execute_reply": "2020-09-21T23:52:41.776439Z"
    },
    "papermill": {
     "duration": 0.024479,
     "end_time": "2020-09-21T23:52:41.777079",
     "exception": false,
     "start_time": "2020-09-21T23:52:41.752600",
     "status": "completed"
    },
    "tags": []
   },
   "outputs": [],
   "source": [
    "def preprocess(item):\n",
    "    image,label=item['image'],item['label']\n",
    "    image=timg.convert_image_dtype(image,tf.float32)\n",
    "    image=tf.reshape(image,(-1,))\n",
    "    return {'image-pixels':image},label[...,tf.newaxis]\n",
    "def train_input_fn(buffer_size,batch_size):\n",
    "    datasets=tfds.load(name='mnist')\n",
    "    mnist_train=datasets['train']\n",
    "    ds=mnist_train.map(preprocess)\n",
    "    ds=ds.shuffle(buffer_size)\n",
    "    ds=ds.batch(batch_size)\n",
    "    return ds.repeat()\n",
    "def test_input_fn(batch_size):\n",
    "    datasets=tfds.load(name='mnist')\n",
    "    mnist_test=datasets['test']\n",
    "    ds=mnist_test.map(preprocess)\n",
    "    ds=ds.batch(batch_size)\n",
    "    return ds"
   ]
  },
  {
   "cell_type": "code",
   "execution_count": 5,
   "metadata": {
    "_kg_hide-input": true,
    "execution": {
     "iopub.execute_input": "2020-09-21T23:52:41.811350Z",
     "iopub.status.busy": "2020-09-21T23:52:41.810650Z",
     "iopub.status.idle": "2020-09-21T23:52:41.813942Z",
     "shell.execute_reply": "2020-09-21T23:52:41.813282Z"
    },
    "papermill": {
     "duration": 0.02556,
     "end_time": "2020-09-21T23:52:41.814063",
     "exception": false,
     "start_time": "2020-09-21T23:52:41.788503",
     "status": "completed"
    },
    "tags": []
   },
   "outputs": [],
   "source": [
    "@register_line_magic\n",
    "def display_predict(n):\n",
    "    n=int(n)\n",
    "    fig=pl.figure(figsize=(10,8))\n",
    "    randch=np.random.choice(batch_size,size=n,\n",
    "                            replace=False)\n",
    "    for i,idx in enumerate(randch):\n",
    "        ax=fig.add_subplot(3,n//3,i+1,\n",
    "                           xticks=[],yticks=[])\n",
    "        ax.imshow(bx_test[idx].reshape(img_size,img_size),\n",
    "                  cmap='summer')\n",
    "        pred_idx=py_test[idx]; true_idx=by_test[idx]\n",
    "        ax.set_title(\"{} \\n({})\".format(pred_idx,true_idx),\n",
    "                     color=(\"#11ff11\" if pred_idx==true_idx \n",
    "                            else \"#ffee11\"))\n",
    "    pl.show()"
   ]
  },
  {
   "cell_type": "code",
   "execution_count": 6,
   "metadata": {
    "_kg_hide-input": true,
    "execution": {
     "iopub.execute_input": "2020-09-21T23:52:41.843302Z",
     "iopub.status.busy": "2020-09-21T23:52:41.842465Z",
     "iopub.status.idle": "2020-09-21T23:52:41.846878Z",
     "shell.execute_reply": "2020-09-21T23:52:41.846254Z"
    },
    "papermill": {
     "duration": 0.021484,
     "end_time": "2020-09-21T23:52:41.847033",
     "exception": false,
     "start_time": "2020-09-21T23:52:41.825549",
     "status": "completed"
    },
    "tags": []
   },
   "outputs": [
    {
     "data": {
      "text/html": [
       "<style>\n",
       "    @import 'https://fonts.googleapis.com/css?family=Orbitron&effect=3d';      \n",
       "    </style><h1 class='font-effect-3d' \n",
       "    style='font-family:Orbitron; color:#ffee11; font-size:25px;'>\n",
       "    Data Processing</h1>"
      ],
      "text/plain": [
       "<IPython.core.display.HTML object>"
      ]
     },
     "metadata": {},
     "output_type": "display_data"
    }
   ],
   "source": [
    "dhtml('Data Processing')"
   ]
  },
  {
   "cell_type": "code",
   "execution_count": 7,
   "metadata": {
    "execution": {
     "iopub.execute_input": "2020-09-21T23:52:41.887431Z",
     "iopub.status.busy": "2020-09-21T23:52:41.886555Z",
     "iopub.status.idle": "2020-09-21T23:52:41.889511Z",
     "shell.execute_reply": "2020-09-21T23:52:41.888830Z"
    },
    "papermill": {
     "duration": 0.026275,
     "end_time": "2020-09-21T23:52:41.889664",
     "exception": false,
     "start_time": "2020-09-21T23:52:41.863389",
     "status": "completed"
    },
    "tags": []
   },
   "outputs": [],
   "source": [
    "buffer_size=1000; batch_size=64\n",
    "img_size=28; num_epochs=20\n",
    "steps_per_epoch=np.ceil(60000/batch_size)\n",
    "feature_column=tf.feature_column.numeric_column(\n",
    "    key='image-pixels',shape=(img_size*img_size))"
   ]
  },
  {
   "cell_type": "code",
   "execution_count": 8,
   "metadata": {
    "_kg_hide-output": true,
    "execution": {
     "iopub.execute_input": "2020-09-21T23:52:41.923753Z",
     "iopub.status.busy": "2020-09-21T23:52:41.922922Z",
     "iopub.status.idle": "2020-09-21T23:52:47.291148Z",
     "shell.execute_reply": "2020-09-21T23:52:47.290592Z"
    },
    "papermill": {
     "duration": 5.386541,
     "end_time": "2020-09-21T23:52:47.291269",
     "exception": false,
     "start_time": "2020-09-21T23:52:41.904728",
     "status": "completed"
    },
    "tags": []
   },
   "outputs": [
    {
     "name": "stdout",
     "output_type": "stream",
     "text": [
      "\u001b[1mDownloading and preparing dataset mnist/3.0.1 (download: 11.06 MiB, generated: 21.00 MiB, total: 32.06 MiB) to /root/tensorflow_datasets/mnist/3.0.1...\u001b[0m\n"
     ]
    },
    {
     "data": {
      "application/vnd.jupyter.widget-view+json": {
       "model_id": "f21dd23547df431e83335ab8139be851",
       "version_major": 2,
       "version_minor": 0
      },
      "text/plain": [
       "HBox(children=(FloatProgress(value=0.0, description='Dl Completed...', max=4.0, style=ProgressStyle(descriptio…"
      ]
     },
     "metadata": {},
     "output_type": "display_data"
    },
    {
     "name": "stdout",
     "output_type": "stream",
     "text": [
      "\n",
      "\n",
      "\u001b[1mDataset mnist downloaded and prepared to /root/tensorflow_datasets/mnist/3.0.1. Subsequent calls will reuse this data.\u001b[0m\n"
     ]
    }
   ],
   "source": [
    "ds_test=test_input_fn(batch_size)\n",
    "bx_test,by_test=[],[]\n",
    "batch=next(iter(ds_test))\n",
    "for j in range(batch_size):\n",
    "    by_test.append(batch[1].numpy()[j][0])\n",
    "    bx_test.append(batch[0]['image-pixels'].numpy()[j])"
   ]
  },
  {
   "cell_type": "code",
   "execution_count": 9,
   "metadata": {
    "execution": {
     "iopub.execute_input": "2020-09-21T23:52:47.325280Z",
     "iopub.status.busy": "2020-09-21T23:52:47.324593Z",
     "iopub.status.idle": "2020-09-21T23:52:47.508185Z",
     "shell.execute_reply": "2020-09-21T23:52:47.508633Z"
    },
    "papermill": {
     "duration": 0.203928,
     "end_time": "2020-09-21T23:52:47.508792",
     "exception": false,
     "start_time": "2020-09-21T23:52:47.304864",
     "status": "completed"
    },
    "tags": []
   },
   "outputs": [
    {
     "data": {
      "text/html": [
       "<style>\n",
       "    @import 'https://fonts.googleapis.com/css?family=Smokum&effect=3d-float';      \n",
       "    </style><h1 class='font-effect-3d-float' \n",
       "    style='font-family:Smokum; color:#11ff11; font-size:25px;'>\n",
       "    keys: </br>dict_keys(['image-pixels'])</h1>"
      ],
      "text/plain": [
       "<IPython.core.display.HTML object>"
      ]
     },
     "metadata": {},
     "output_type": "display_data"
    },
    {
     "data": {
      "image/png": "[encoded data removed]",
      "text/plain": [
       "<Figure size 432x288 with 1 Axes>"
      ]
     },
     "metadata": {
      "needs_background": "light"
     },
     "output_type": "display_data"
    }
   ],
   "source": [
    "phtml('keys: </br>%s'%batch[0].keys())\n",
    "n=np.random.randint(0,batch_size,1)[0]\n",
    "img=bx_test[n].reshape(img_size,img_size)\n",
    "pl.imshow(img,cmap='summer')\n",
    "pl.title(by_test[n],fontdict={'fontsize':'xx-large'});"
   ]
  },
  {
   "cell_type": "code",
   "execution_count": 10,
   "metadata": {
    "_kg_hide-input": true,
    "execution": {
     "iopub.execute_input": "2020-09-21T23:52:47.543358Z",
     "iopub.status.busy": "2020-09-21T23:52:47.542404Z",
     "iopub.status.idle": "2020-09-21T23:52:47.546627Z",
     "shell.execute_reply": "2020-09-21T23:52:47.545968Z"
    },
    "papermill": {
     "duration": 0.023508,
     "end_time": "2020-09-21T23:52:47.546747",
     "exception": false,
     "start_time": "2020-09-21T23:52:47.523239",
     "status": "completed"
    },
    "tags": []
   },
   "outputs": [
    {
     "data": {
      "text/html": [
       "<style>\n",
       "    @import 'https://fonts.googleapis.com/css?family=Orbitron&effect=3d';      \n",
       "    </style><h1 class='font-effect-3d' \n",
       "    style='font-family:Orbitron; color:#ffee11; font-size:25px;'>\n",
       "    DNN Classifiers</h1>"
      ],
      "text/plain": [
       "<IPython.core.display.HTML object>"
      ]
     },
     "metadata": {},
     "output_type": "display_data"
    }
   ],
   "source": [
    "dhtml('DNN Classifiers')"
   ]
  },
  {
   "cell_type": "code",
   "execution_count": 11,
   "metadata": {
    "execution": {
     "iopub.execute_input": "2020-09-21T23:52:47.581924Z",
     "iopub.status.busy": "2020-09-21T23:52:47.581191Z",
     "iopub.status.idle": "2020-09-21T23:52:47.749315Z",
     "shell.execute_reply": "2020-09-21T23:52:47.748604Z"
    },
    "papermill": {
     "duration": 0.187752,
     "end_time": "2020-09-21T23:52:47.749438",
     "exception": false,
     "start_time": "2020-09-21T23:52:47.561686",
     "status": "completed"
    },
    "tags": []
   },
   "outputs": [],
   "source": [
    "dnn_clf=tf.estimator.DNNClassifier(\n",
    "    feature_columns=[feature_column],\n",
    "    hidden_units=[96,32],n_classes=10,\n",
    "    model_dir='models/mnist-dnn/');"
   ]
  },
  {
   "cell_type": "code",
   "execution_count": 12,
   "metadata": {
    "_kg_hide-output": false,
    "execution": {
     "iopub.execute_input": "2020-09-21T23:52:47.788239Z",
     "iopub.status.busy": "2020-09-21T23:52:47.786596Z",
     "iopub.status.idle": "2020-09-21T23:54:46.152068Z",
     "shell.execute_reply": "2020-09-21T23:54:46.151367Z"
    },
    "papermill": {
     "duration": 118.387999,
     "end_time": "2020-09-21T23:54:46.152236",
     "exception": false,
     "start_time": "2020-09-21T23:52:47.764237",
     "status": "completed"
    },
    "tags": []
   },
   "outputs": [],
   "source": [
    "dnn_clf.train(input_fn=lambda:train_input_fn(buffer_size,batch_size),\n",
    "              steps=num_epochs*steps_per_epoch);"
   ]
  },
  {
   "cell_type": "code",
   "execution_count": 13,
   "metadata": {
    "execution": {
     "iopub.execute_input": "2020-09-21T23:54:46.187800Z",
     "iopub.status.busy": "2020-09-21T23:54:46.187155Z",
     "iopub.status.idle": "2020-09-21T23:54:47.981766Z",
     "shell.execute_reply": "2020-09-21T23:54:47.981133Z"
    },
    "papermill": {
     "duration": 1.814544,
     "end_time": "2020-09-21T23:54:47.981881",
     "exception": false,
     "start_time": "2020-09-21T23:54:46.167337",
     "status": "completed"
    },
    "tags": []
   },
   "outputs": [
    {
     "data": {
      "text/html": [
       "<style>\n",
       "    @import 'https://fonts.googleapis.com/css?family=Smokum&effect=3d-float';      \n",
       "    </style><h1 class='font-effect-3d-float' \n",
       "    style='font-family:Smokum; color:#11ff11; font-size:25px;'>\n",
       "    {'accuracy': 0.9182, 'average_loss': 0.2900015, 'loss': 0.28995797, 'global_step': 18760}</h1>"
      ],
      "text/plain": [
       "<IPython.core.display.HTML object>"
      ]
     },
     "metadata": {},
     "output_type": "display_data"
    }
   ],
   "source": [
    "test_result=dnn_clf\\\n",
    ".evaluate(input_fn=lambda:test_input_fn(batch_size))\n",
    "phtml(test_result)"
   ]
  },
  {
   "cell_type": "code",
   "execution_count": 14,
   "metadata": {
    "_kg_hide-input": true,
    "execution": {
     "iopub.execute_input": "2020-09-21T23:54:48.019053Z",
     "iopub.status.busy": "2020-09-21T23:54:48.018070Z",
     "iopub.status.idle": "2020-09-21T23:54:48.021999Z",
     "shell.execute_reply": "2020-09-21T23:54:48.021357Z"
    },
    "papermill": {
     "duration": 0.024609,
     "end_time": "2020-09-21T23:54:48.022140",
     "exception": false,
     "start_time": "2020-09-21T23:54:47.997531",
     "status": "completed"
    },
    "tags": []
   },
   "outputs": [
    {
     "data": {
      "text/html": [
       "<style>\n",
       "    @import 'https://fonts.googleapis.com/css?family=Orbitron&effect=3d';      \n",
       "    </style><h1 class='font-effect-3d' \n",
       "    style='font-family:Orbitron; color:#ffee11; font-size:25px;'>\n",
       "    Predictions</h1>"
      ],
      "text/plain": [
       "<IPython.core.display.HTML object>"
      ]
     },
     "metadata": {},
     "output_type": "display_data"
    }
   ],
   "source": [
    "dhtml('Predictions')"
   ]
  },
  {
   "cell_type": "code",
   "execution_count": 15,
   "metadata": {
    "execution": {
     "iopub.execute_input": "2020-09-21T23:54:48.061220Z",
     "iopub.status.busy": "2020-09-21T23:54:48.060543Z",
     "iopub.status.idle": "2020-09-21T23:54:49.396243Z",
     "shell.execute_reply": "2020-09-21T23:54:49.395575Z"
    },
    "papermill": {
     "duration": 1.357919,
     "end_time": "2020-09-21T23:54:49.396362",
     "exception": false,
     "start_time": "2020-09-21T23:54:48.038443",
     "status": "completed"
    },
    "tags": []
   },
   "outputs": [],
   "source": [
    "y_test_pred=dnn_clf\\\n",
    ".predict(input_fn=lambda:test_input_fn(batch_size))\n",
    "py_test=[]\n",
    "for i in range(10000):\n",
    "    py_test.append(next(iter(y_test_pred))['class_ids'][0])"
   ]
  },
  {
   "cell_type": "code",
   "execution_count": 16,
   "metadata": {
    "_kg_hide-input": true,
    "execution": {
     "iopub.execute_input": "2020-09-21T23:54:49.442908Z",
     "iopub.status.busy": "2020-09-21T23:54:49.435125Z",
     "iopub.status.idle": "2020-09-21T23:54:49.610487Z",
     "shell.execute_reply": "2020-09-21T23:54:49.611078Z"
    },
    "papermill": {
     "duration": 0.198708,
     "end_time": "2020-09-21T23:54:49.611263",
     "exception": false,
     "start_time": "2020-09-21T23:54:49.412555",
     "status": "completed"
    },
    "tags": []
   },
   "outputs": [
    {
     "data": {
      "image/png": "[encoded data removed]",
      "text/plain": [
       "<Figure size 720x288 with 1 Axes>"
      ]
     },
     "metadata": {
      "needs_background": "light"
     },
     "output_type": "display_data"
    }
   ],
   "source": [
    "pl.figure(figsize=(10,4))\n",
    "pl.scatter(range(batch_size),by_test,s=50,\n",
    "           label='real data',c=\"#ffee11\")\n",
    "pl.scatter(range(batch_size),\n",
    "           py_test[:batch_size],\n",
    "           s=20,marker='*',\n",
    "           label='predictions',c='#11ff11')\n",
    "pl.legend();"
   ]
  },
  {
   "cell_type": "code",
   "execution_count": 17,
   "metadata": {
    "execution": {
     "iopub.execute_input": "2020-09-21T23:54:49.656927Z",
     "iopub.status.busy": "2020-09-21T23:54:49.650193Z",
     "iopub.status.idle": "2020-09-21T23:54:50.190921Z",
     "shell.execute_reply": "2020-09-21T23:54:50.190273Z"
    },
    "papermill": {
     "duration": 0.562275,
     "end_time": "2020-09-21T23:54:50.191046",
     "exception": false,
     "start_time": "2020-09-21T23:54:49.628771",
     "status": "completed"
    },
    "tags": []
   },
   "outputs": [
    {
     "data": {
      "image/png": "[encoded data removed]",
      "text/plain": [
       "<Figure size 720x576 with 15 Axes>"
      ]
     },
     "metadata": {},
     "output_type": "display_data"
    }
   ],
   "source": [
    "%display_predict 15"
   ]
  }
 ],
 "metadata": {
  "kernelspec": {
   "display_name": "Python 3",
   "language": "python",
   "name": "python3"
  },
  "language_info": {
   "codemirror_mode": {
    "name": "ipython",
    "version": 3
   },
   "file_extension": ".py",
   "mimetype": "text/x-python",
   "name": "python",
   "nbconvert_exporter": "python",
   "pygments_lexer": "ipython3",
   "version": "3.7.6"
  },
  "papermill": {
   "duration": 141.597973,
   "end_time": "2020-09-21T23:54:50.318250",
   "environment_variables": {},
   "exception": null,
   "input_path": "__notebook__.ipynb",
   "output_path": "__notebook__.ipynb",
   "parameters": {},
   "start_time": "2020-09-21T23:52:28.720277",
   "version": "2.1.0"
  },
  "widgets": {
   "application/vnd.jupyter.widget-state+json": {
    "state": {
     "2360e2df6d7248d2b2cb603b007451e4": {
      "model_module": "@jupyter-widgets/base",
      "model_module_version": "1.2.0",
      "model_name": "LayoutModel",
      "state": {
       "_model_module": "@jupyter-widgets/base",
       "_model_module_version": "1.2.0",
       "_model_name": "LayoutModel",
       "_view_count": null,
       "_view_module": "@jupyter-widgets/base",
       "_view_module_version": "1.2.0",
       "_view_name": "LayoutView",
       "align_content": null,
       "align_items": null,
       "align_self": null,
       "border": null,
       "bottom": null,
       "display": null,
       "flex": null,
       "flex_flow": null,
       "grid_area": null,
       "grid_auto_columns": null,
       "grid_auto_flow": null,
       "grid_auto_rows": null,
       "grid_column": null,
       "grid_gap": null,
       "grid_row": null,
       "grid_template_areas": null,
       "grid_template_columns": null,
       "grid_template_rows": null,
       "height": null,
       "justify_content": null,
       "justify_items": null,
       "left": null,
       "margin": null,
       "max_height": null,
       "max_width": null,
       "min_height": null,
       "min_width": null,
       "object_fit": null,
       "object_position": null,
       "order": null,
       "overflow": null,
       "overflow_x": null,
       "overflow_y": null,
       "padding": null,
       "right": null,
       "top": null,
       "visibility": null,
       "width": null
      }
     },
     "37be5757e28e481a94d1739931979d44": {
      "model_module": "@jupyter-widgets/controls",
      "model_module_version": "1.5.0",
      "model_name": "ProgressStyleModel",
      "state": {
       "_model_module": "@jupyter-widgets/controls",
       "_model_module_version": "1.5.0",
       "_model_name": "ProgressStyleModel",
       "_view_count": null,
       "_view_module": "@jupyter-widgets/base",
       "_view_module_version": "1.2.0",
       "_view_name": "StyleView",
       "bar_color": null,
       "description_width": "initial"
      }
     },
     "39dbf84aedc84c6aa7e524ab2b1aed21": {
      "model_module": "@jupyter-widgets/controls",
      "model_module_version": "1.5.0",
      "model_name": "HTMLModel",
      "state": {
       "_dom_classes": [],
       "_model_module": "@jupyter-widgets/controls",
       "_model_module_version": "1.5.0",
       "_model_name": "HTMLModel",
       "_view_count": null,
       "_view_module": "@jupyter-widgets/controls",
       "_view_module_version": "1.5.0",
       "_view_name": "HTMLView",
       "description": "",
       "description_tooltip": null,
       "layout": "IPY_MODEL_d7a10cc4326d4e5b9a6ff84f55ebbd77",
       "placeholder": "​",
       "style": "IPY_MODEL_98429bdec41d4f33a0c44c5138bf8235",
       "value": " 4/4 [00:01&lt;00:00,  2.79 file/s]"
      }
     },
     "815e1358f501481e91d151b715baa6d5": {
      "model_module": "@jupyter-widgets/controls",
      "model_module_version": "1.5.0",
      "model_name": "FloatProgressModel",
      "state": {
       "_dom_classes": [],
       "_model_module": "@jupyter-widgets/controls",
       "_model_module_version": "1.5.0",
       "_model_name": "FloatProgressModel",
       "_view_count": null,
       "_view_module": "@jupyter-widgets/controls",
       "_view_module_version": "1.5.0",
       "_view_name": "ProgressView",
       "bar_style": "success",
       "description": "Dl Completed...: 100%",
       "description_tooltip": null,
       "layout": "IPY_MODEL_eb335553cece4171b0c01dce0826258b",
       "max": 4.0,
       "min": 0.0,
       "orientation": "horizontal",
       "style": "IPY_MODEL_37be5757e28e481a94d1739931979d44",
       "value": 4.0
      }
     },
     "98429bdec41d4f33a0c44c5138bf8235": {
      "model_module": "@jupyter-widgets/controls",
      "model_module_version": "1.5.0",
      "model_name": "DescriptionStyleModel",
      "state": {
       "_model_module": "@jupyter-widgets/controls",
       "_model_module_version": "1.5.0",
       "_model_name": "DescriptionStyleModel",
       "_view_count": null,
       "_view_module": "@jupyter-widgets/base",
       "_view_module_version": "1.2.0",
       "_view_name": "StyleView",
       "description_width": ""
      }
     },
     "d7a10cc4326d4e5b9a6ff84f55ebbd77": {
      "model_module": "@jupyter-widgets/base",
      "model_module_version": "1.2.0",
      "model_name": "LayoutModel",
      "state": {
       "_model_module": "@jupyter-widgets/base",
       "_model_module_version": "1.2.0",
       "_model_name": "LayoutModel",
       "_view_count": null,
       "_view_module": "@jupyter-widgets/base",
       "_view_module_version": "1.2.0",
       "_view_name": "LayoutView",
       "align_content": null,
       "align_items": null,
       "align_self": null,
       "border": null,
       "bottom": null,
       "display": null,
       "flex": null,
       "flex_flow": null,
       "grid_area": null,
       "grid_auto_columns": null,
       "grid_auto_flow": null,
       "grid_auto_rows": null,
       "grid_column": null,
       "grid_gap": null,
       "grid_row": null,
       "grid_template_areas": null,
       "grid_template_columns": null,
       "grid_template_rows": null,
       "height": null,
       "justify_content": null,
       "justify_items": null,
       "left": null,
       "margin": null,
       "max_height": null,
       "max_width": null,
       "min_height": null,
       "min_width": null,
       "object_fit": null,
       "object_position": null,
       "order": null,
       "overflow": null,
       "overflow_x": null,
       "overflow_y": null,
       "padding": null,
       "right": null,
       "top": null,
       "visibility": null,
       "width": null
      }
     },
     "eb335553cece4171b0c01dce0826258b": {
      "model_module": "@jupyter-widgets/base",
      "model_module_version": "1.2.0",
      "model_name": "LayoutModel",
      "state": {
       "_model_module": "@jupyter-widgets/base",
       "_model_module_version": "1.2.0",
       "_model_name": "LayoutModel",
       "_view_count": null,
       "_view_module": "@jupyter-widgets/base",
       "_view_module_version": "1.2.0",
       "_view_name": "LayoutView",
       "align_content": null,
       "align_items": null,
       "align_self": null,
       "border": null,
       "bottom": null,
       "display": null,
       "flex": null,
       "flex_flow": null,
       "grid_area": null,
       "grid_auto_columns": null,
       "grid_auto_flow": null,
       "grid_auto_rows": null,
       "grid_column": null,
       "grid_gap": null,
       "grid_row": null,
       "grid_template_areas": null,
       "grid_template_columns": null,
       "grid_template_rows": null,
       "height": null,
       "justify_content": null,
       "justify_items": null,
       "left": null,
       "margin": null,
       "max_height": null,
       "max_width": null,
       "min_height": null,
       "min_width": null,
       "object_fit": null,
       "object_position": null,
       "order": null,
       "overflow": null,
       "overflow_x": null,
       "overflow_y": null,
       "padding": null,
       "right": null,
       "top": null,
       "visibility": null,
       "width": null
      }
     },
     "f21dd23547df431e83335ab8139be851": {
      "model_module": "@jupyter-widgets/controls",
      "model_module_version": "1.5.0",
      "model_name": "HBoxModel",
      "state": {
       "_dom_classes": [],
       "_model_module": "@jupyter-widgets/controls",
       "_model_module_version": "1.5.0",
       "_model_name": "HBoxModel",
       "_view_count": null,
       "_view_module": "@jupyter-widgets/controls",
       "_view_module_version": "1.5.0",
       "_view_name": "HBoxView",
       "box_style": "",
       "children": [
        "IPY_MODEL_815e1358f501481e91d151b715baa6d5",
        "IPY_MODEL_39dbf84aedc84c6aa7e524ab2b1aed21"
       ],
       "layout": "IPY_MODEL_2360e2df6d7248d2b2cb603b007451e4"
      }
     }
    },
    "version_major": 2,
    "version_minor": 0
   }
  }
 },
 "nbformat": 4,
 "nbformat_minor": 4
}
