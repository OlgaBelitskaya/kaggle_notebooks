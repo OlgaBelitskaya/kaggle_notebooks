{
 "cells": [
  {
   "cell_type": "markdown",
   "metadata": {},
   "source": [
    "# &#x1F4D1; &nbsp;  Doodle Recognition Model"
   ]
  },
  {
   "cell_type": "markdown",
   "metadata": {},
   "source": [
    "## Links\n",
    "[`Keras. Deep Learning library for Theano and TensorFlow`](https://keras.io/)"
   ]
  },
  {
   "cell_type": "markdown",
   "metadata": {},
   "source": [
    "## Libraries"
   ]
  },
  {
   "cell_type": "code",
   "execution_count": 2,
   "metadata": {},
   "outputs": [
    {
     "data": {
      "text/html": [
       "<style>        \n",
       "@import url('https://fonts.googleapis.com/css?family=Orbitron|Roboto');\n",
       "body {background-color: gainsboro;} \n",
       "a {color: #37c9e1; font-family: 'Roboto';} \n",
       "h1 {color: #37c9e1; font-family: 'Orbitron'; text-shadow: 4px 4px 4px #ccc;} \n",
       "h2, h3 {color: slategray; font-family: 'Orbitron'; text-shadow: 4px 4px 4px #ccc;}\n",
       "h4 {color: #818286; font-family: 'Roboto';}\n",
       "span {text-shadow: 4px 4px 4px #ccc;}\n",
       "div.output_prompt, div.output_area pre {color: slategray;}\n",
       "div.input_prompt, div.output_subarea {color: #37c9e1;}      \n",
       "div.output_stderr pre {background-color: gainsboro;}  \n",
       "div.output_stderr {background-color: slategrey;} \n",
       "</style>"
      ],
      "text/plain": [
       "<IPython.core.display.HTML object>"
      ]
     },
     "metadata": {},
     "output_type": "display_data"
    }
   ],
   "source": [
    "%%html\n",
    "<style>        \n",
    "@import url('https://fonts.googleapis.com/css?family=Orbitron|Roboto');\n",
    "body {background-color: gainsboro;} \n",
    "a {color: #37c9e1; font-family: 'Roboto';} \n",
    "h1 {color: #37c9e1; font-family: 'Orbitron'; text-shadow: 4px 4px 4px #ccc;} \n",
    "h2, h3 {color: slategray; font-family: 'Orbitron'; text-shadow: 4px 4px 4px #ccc;}\n",
    "h4 {color: #818286; font-family: 'Roboto';}\n",
    "span {text-shadow: 4px 4px 4px #ccc;}\n",
    "div.output_prompt, div.output_area pre {color: slategray;}\n",
    "div.input_prompt, div.output_subarea {color: #37c9e1;}      \n",
    "div.output_stderr pre {background-color: gainsboro;}  \n",
    "div.output_stderr {background-color: slategrey;} \n",
    "</style>"
   ]
  },
  {
   "cell_type": "code",
   "execution_count": 12,
   "metadata": {},
   "outputs": [],
   "source": [
    "import os,ast,h5py\n",
    "import numpy,cv2,pandas,pylab"
   ]
  },
  {
   "cell_type": "code",
   "execution_count": 13,
   "metadata": {},
   "outputs": [
    {
     "name": "stdout",
     "output_type": "stream",
     "text": [
      "keras version: 2.2.4\n",
      "tensorflow version: 1.12.0\n"
     ]
    }
   ],
   "source": [
    "import keras as ks, tensorflow as tf\n",
    "from keras import __version__\n",
    "print('keras version:', __version__)\n",
    "print('tensorflow version:', tf.__version__)"
   ]
  },
  {
   "cell_type": "code",
   "execution_count": 14,
   "metadata": {},
   "outputs": [],
   "source": [
    "from sklearn.model_selection import train_test_split\n",
    "from keras.callbacks import ModelCheckpoint, ReduceLROnPlateau\n",
    "from keras.models import Sequential\n",
    "from keras.layers.advanced_activations import LeakyReLU\n",
    "from keras.layers import Activation, Dropout, Dense\n",
    "from keras.layers import Conv2D, MaxPooling2D, GlobalMaxPooling2D, DepthwiseConv2D"
   ]
  },
  {
   "cell_type": "markdown",
   "metadata": {},
   "source": [
    "## Data"
   ]
  },
  {
   "cell_type": "code",
   "execution_count": 15,
   "metadata": {},
   "outputs": [
    {
     "name": "stdout",
     "output_type": "stream",
     "text": [
      "['The_Eiffel_Tower', 'The_Great_Wall_of_China', 'The_Mona_Lisa', 'airplane', 'angel', 'animal_migration', 'arm', 'asparagus', 'bandage', 'barn', 'baseball', 'basket', 'beard', 'bed', 'bee', 'belt', 'bicycle', 'binoculars', 'bird', 'book', 'bracelet', 'broom', 'bulldozer', 'bus', 'bush', 'butterfly', 'cactus', 'cake', 'calculator', 'candle', 'canoe', 'car', 'carrot', 'castle', 'cello', 'chair', 'circle', 'clarinet', 'clock', 'computer', 'couch', 'cow', 'crab', 'crayon', 'crown', 'diving_board', 'dolphin', 'door', 'dragon', 'drill', 'duck', 'ear', 'elephant', 'envelope', 'eye', 'eyeglasses', 'fan', 'feather', 'fish', 'flashlight', 'flip_flops', 'garden', 'giraffe', 'golf_club', 'hamburger', 'hammer', 'harp', 'helmet', 'hexagon', 'hockey_puck', 'hot_dog', 'hot_tub', 'house', 'house_plant', 'hurricane', 'ice_cream', 'kangaroo', 'knee', 'lantern', 'laptop', 'leg', 'light_bulb', 'lion', 'lobster', 'lollipop', 'map', 'matches', 'motorbike', 'mouse', 'moustache', 'mushroom', 'nail', 'necklace', 'nose', 'octopus', 'oven', 'owl', 'paint_can', 'paintbrush', 'palm_tree', 'pants', 'paper_clip', 'peanut', 'peas', 'piano', 'pineapple', 'pizza', 'pliers', 'police_car', 'pond', 'postcard', 'potato', 'power_outlet', 'radio', 'rainbow', 'rhinoceros', 'river', 'roller_coaster', 'rollerskates', 'scissors', 'sea_turtle', 'sheep', 'shorts', 'skateboard', 'snail', 'snowflake', 'sock', 'spider', 'spoon', 'square', 'stairs', 'stethoscope', 'strawberry', 'streetlight', 'submarine', 'sun', 'swan', 'swing_set', 't-shirt', 'table', 'teapot', 'teddy-bear', 'television', 'toaster', 'tooth', 'toothbrush', 'toothpaste', 'tornado', 'tractor', 'tree', 'triangle', 'truck', 'umbrella', 'van', 'violin', 'watermelon', 'waterslide', 'windmill', 'wine_glass', 'wristwatch', 'zebra']\n"
     ]
    }
   ],
   "source": [
    "file_path = 'train_simplified/'\n",
    "files = os.listdir(file_path)\n",
    "labels = [el.replace(\" \",\"_\")[:-4] for el in files]\n",
    "print(sorted(labels))"
   ]
  },
  {
   "cell_type": "code",
   "execution_count": null,
   "metadata": {},
   "outputs": [],
   "source": [
    "I = 64 # image size in pixels\n",
    "S = 1 # current number of the label set\n",
    "T = 161 # number of labels in one set \n",
    "N = 500 # number of images with the same label in the training set\n",
    "data = pandas.DataFrame(index=range(N), columns=labels[(S-1)*T:S*T])\n",
    "images = []\n",
    "\n",
    "def get_image(data,time_color=True):\n",
    "    data = ast.literal_eval(data)\n",
    "    image = numpy.zeros((280,280),numpy.uint8)\n",
    "    for t, s in enumerate(data):\n",
    "        for i in range(len(s[0])-1):\n",
    "            color = 255-min(t,10)*15 if time_color else 255\n",
    "            _ = cv2.line(image,(s[0][i]+10,s[1][i]+10),(s[0][i+1]+10,s[1][i+1]+10),color,5)    \n",
    "    return cv2.resize(image,(I,I))\n",
    "\n",
    "for i in range((S-1)*T,S*T):\n",
    "    label = labels[i]\n",
    "    data[label] = pandas.read_csv(file_path+files[i],index_col='key_id').drawing.values[:N]\n",
    "    images.extend([get_image(data[label].iloc[i]) for i in range(N)])\n",
    "    data.drop([label],axis=1)\n",
    "    \n",
    "images = numpy.array(images)\n",
    "images.shape"
   ]
  },
  {
   "cell_type": "code",
   "execution_count": null,
   "metadata": {},
   "outputs": [],
   "source": [
    "pylab.figure(figsize=(15,5))\n",
    "pylab.subplot(1,3,1); pylab.imshow(images[0])\n",
    "pylab.subplot(1,3,2); pylab.imshow(images[5000])\n",
    "pylab.subplot(1,3,3); pylab.imshow(images[10000])\n",
    "pylab.suptitle('Pixel Images from Coordinates of Points');"
   ]
  },
  {
   "cell_type": "code",
   "execution_count": null,
   "metadata": {},
   "outputs": [],
   "source": [
    "targets = numpy.array([[]+N*[k] for k in range(T)])\n",
    "targets = ks.utils.to_categorical(targets,T).reshape(N*T,T)\n",
    "targets.shape"
   ]
  },
  {
   "cell_type": "code",
   "execution_count": null,
   "metadata": {},
   "outputs": [],
   "source": [
    "with h5py.File('DoodleImages.h5','w') as f:\n",
    "    f.create_dataset('images',data=images/255)\n",
    "    f.create_dataset('labels',data=targets)\n",
    "    f.close()"
   ]
  },
  {
   "cell_type": "code",
   "execution_count": null,
   "metadata": {},
   "outputs": [],
   "source": [
    "f = h5py.File('DoodleImages.h5','r')\n",
    "keys = list(f.keys()); keys"
   ]
  },
  {
   "cell_type": "code",
   "execution_count": null,
   "metadata": {},
   "outputs": [],
   "source": [
    "images = numpy.array(f[keys[0]])\n",
    "targets = numpy.array(f[keys[1]])\n",
    "images.shape,targets.shape"
   ]
  },
  {
   "cell_type": "code",
   "execution_count": null,
   "metadata": {},
   "outputs": [],
   "source": [
    "x_train,x_test y_train,y_test = \\\n",
    "train_test_split(images,targets,test_size=0.2,random_state=1)\n",
    "n = int(len(x_test)/2)\n",
    "x_valid,y_valid = x_test[:n],y_test[:n]\n",
    "x_test,y_test = x_test[n:],y_test[n:]\n",
    "\n",
    "del images, targets\n",
    "\n",
    "x_train = x_train.reshape(-1,I,I,1)\n",
    "x_valid = x_valid.reshape(-1,I,I,1)\n",
    "x_test = x_test.reshape(-1,I,I,1)\n",
    "y_train.shape, y_valid.shape, y_test.shape"
   ]
  },
  {
   "cell_type": "markdown",
   "metadata": {},
   "source": [
    "## Classification Model"
   ]
  },
  {
   "cell_type": "code",
   "execution_count": null,
   "metadata": {},
   "outputs": [],
   "source": [
    "def top_3_categorical_accuracy(y_true,y_pred):\n",
    "    return ks.metrics.top_k_categorical_accuracy(y_true,y_pred,k=3)\n",
    "\n",
    "def model():\n",
    "    model = Sequential()\n",
    "    \n",
    "    model.add(DepthwiseConv2D(32,(5,5),padding='same',input_shape=x_train.shape[1:]))\n",
    "    model.add(LeakyReLU(alpha=0.02))\n",
    "    \n",
    "    model.add(DepthwiseConv2D(64,(1,1),padding='same'))\n",
    "    model.add(LeakyReLU(alpha=0.02))\n",
    "    \n",
    "    model.add(Conv2D(64,(5,5),padding='same'))\n",
    "    model.add(LeakyReLU(alpha=0.02))\n",
    "    \n",
    "    model.add(MaxPooling2D(pool_size=(2,2)))\n",
    "    model.add(Dropout(0.2))\n",
    "\n",
    "    model.add(Conv2D(256,(5,5)))\n",
    "    model.add(LeakyReLU(alpha=0.02))\n",
    "    \n",
    "    model.add(MaxPooling2D(pool_size=(2,2)))\n",
    "    model.add(Dropout(0.2))\n",
    "\n",
    "    model.add(GlobalMaxPooling2D())\n",
    "    \n",
    "    model.add(Dense(1024))\n",
    "    model.add(LeakyReLU(alpha=0.02))\n",
    "    model.add(Dropout(0.5)) \n",
    "    \n",
    "    model.add(Dense(T))\n",
    "    model.add(Activation('softmax'))\n",
    "\n",
    "    model.compile(loss='categorical_crossentropy',optimizer='nadam', \n",
    "                  metrics=[categorical_accuracy,top_3_categorical_accuracy])\n",
    "    return model"
   ]
  }
 ],
 "metadata": {
  "kernelspec": {
   "display_name": "Python 3",
   "language": "python",
   "name": "python3"
  },
  "language_info": {
   "codemirror_mode": {
    "name": "ipython",
    "version": 3
   },
   "file_extension": ".py",
   "mimetype": "text/x-python",
   "name": "python",
   "nbconvert_exporter": "python",
   "pygments_lexer": "ipython3",
   "version": "3.6.4"
  }
 },
 "nbformat": 4,
 "nbformat_minor": 2
}
