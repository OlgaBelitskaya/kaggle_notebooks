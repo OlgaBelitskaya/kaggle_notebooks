{
 "cells": [
  {
   "cell_type": "markdown",
   "metadata": {},
   "source": [
    "# &#x1F4D1; &nbsp;  Doodle Recognition Model"
   ]
  },
  {
   "cell_type": "markdown",
   "metadata": {},
   "source": [
    "## Links\n",
    "[`Keras. Deep Learning library for Theano and TensorFlow`](https://keras.io/)"
   ]
  },
  {
   "cell_type": "markdown",
   "metadata": {},
   "source": [
    "## Libraries"
   ]
  },
  {
   "cell_type": "code",
   "execution_count": 1,
   "metadata": {},
   "outputs": [
    {
     "data": {
      "text/html": [
       "<style>        \n",
       "@import url('https://fonts.googleapis.com/css?family=Orbitron|Roboto');\n",
       "body {background-color: gainsboro;} \n",
       "a {color: #37c9e1; font-family: 'Roboto';} \n",
       "h1 {color: #37c9e1; font-family: 'Orbitron'; text-shadow: 4px 4px 4px #ccc;} \n",
       "h2, h3 {color: slategray; font-family: 'Orbitron'; text-shadow: 4px 4px 4px #ccc;}\n",
       "h4 {color: #818286; font-family: 'Roboto';}\n",
       "span {text-shadow: 4px 4px 4px #ccc;}\n",
       "div.output_prompt, div.output_area pre {color: slategray;}\n",
       "div.input_prompt, div.output_subarea {color: #37c9e1;}      \n",
       "div.output_stderr pre {background-color: gainsboro;}  \n",
       "div.output_stderr {background-color: slategrey;} \n",
       "</style>"
      ],
      "text/plain": [
       "<IPython.core.display.HTML object>"
      ]
     },
     "metadata": {},
     "output_type": "display_data"
    }
   ],
   "source": [
    "%%html\n",
    "<style>        \n",
    "@import url('https://fonts.googleapis.com/css?family=Orbitron|Roboto');\n",
    "body {background-color: gainsboro;} \n",
    "a {color: #37c9e1; font-family: 'Roboto';} \n",
    "h1 {color: #37c9e1; font-family: 'Orbitron'; text-shadow: 4px 4px 4px #ccc;} \n",
    "h2, h3 {color: slategray; font-family: 'Orbitron'; text-shadow: 4px 4px 4px #ccc;}\n",
    "h4 {color: #818286; font-family: 'Roboto';}\n",
    "span {text-shadow: 4px 4px 4px #ccc;}\n",
    "div.output_prompt, div.output_area pre {color: slategray;}\n",
    "div.input_prompt, div.output_subarea {color: #37c9e1;}      \n",
    "div.output_stderr pre {background-color: gainsboro;}  \n",
    "div.output_stderr {background-color: slategrey;} \n",
    "</style>"
   ]
  },
  {
   "cell_type": "code",
   "execution_count": 2,
   "metadata": {},
   "outputs": [],
   "source": [
    "import os,ast,h5py\n",
    "import numpy,cv2,pandas,pylab"
   ]
  },
  {
   "cell_type": "code",
   "execution_count": 3,
   "metadata": {},
   "outputs": [
    {
     "name": "stderr",
     "output_type": "stream",
     "text": [
      "Using TensorFlow backend.\n"
     ]
    },
    {
     "name": "stdout",
     "output_type": "stream",
     "text": [
      "keras version: 2.2.4\n",
      "tensorflow version: 1.12.0\n"
     ]
    }
   ],
   "source": [
    "import keras as ks, tensorflow as tf\n",
    "from keras import __version__\n",
    "print('keras version:', __version__)\n",
    "print('tensorflow version:', tf.__version__)"
   ]
  },
  {
   "cell_type": "code",
   "execution_count": 4,
   "metadata": {},
   "outputs": [],
   "source": [
    "from sklearn.model_selection import train_test_split\n",
    "from keras.callbacks import ModelCheckpoint, ReduceLROnPlateau\n",
    "from keras.models import Sequential\n",
    "from keras.layers.advanced_activations import LeakyReLU\n",
    "from keras.layers import Activation, Dropout, Dense\n",
    "from keras.layers import Conv2D, MaxPooling2D, GlobalMaxPooling2D, DepthwiseConv2D"
   ]
  },
  {
   "cell_type": "markdown",
   "metadata": {},
   "source": [
    "## Data"
   ]
  },
  {
   "cell_type": "code",
   "execution_count": 5,
   "metadata": {},
   "outputs": [
    {
     "name": "stdout",
     "output_type": "stream",
     "text": [
      "['The_Eiffel_Tower', 'The_Great_Wall_of_China', 'The_Mona_Lisa', 'airplane', 'angel', 'animal_migration', 'arm', 'asparagus', 'bandage', 'barn', 'baseball', 'basket', 'beard', 'bed', 'bee', 'belt', 'bicycle', 'binoculars', 'bird', 'book', 'bracelet', 'broom', 'bulldozer', 'bus', 'bush', 'butterfly', 'cactus', 'cake', 'calculator', 'candle', 'canoe', 'car', 'carrot', 'castle', 'cello', 'chair', 'circle', 'clarinet', 'clock', 'computer', 'couch', 'cow', 'crab', 'crayon', 'crown', 'diving_board', 'dolphin', 'door', 'dragon', 'drill', 'duck', 'ear', 'elephant', 'envelope', 'eye', 'eyeglasses', 'fan', 'feather', 'fish', 'flashlight', 'flip_flops', 'garden', 'giraffe', 'golf_club', 'hamburger', 'hammer', 'harp', 'helmet', 'hexagon', 'hockey_puck', 'hot_dog', 'hot_tub', 'house', 'house_plant', 'hurricane', 'ice_cream', 'kangaroo', 'knee', 'lantern', 'laptop', 'leg', 'light_bulb', 'lion', 'lobster', 'lollipop', 'map', 'matches', 'motorbike', 'mouse', 'moustache', 'mushroom', 'nail', 'necklace', 'nose', 'octopus', 'oven', 'owl', 'paint_can', 'paintbrush', 'palm_tree', 'pants', 'paper_clip', 'peanut', 'peas', 'piano', 'pineapple', 'pizza', 'pliers', 'police_car', 'pond', 'postcard', 'potato', 'power_outlet', 'radio', 'rainbow', 'rhinoceros', 'river', 'roller_coaster', 'rollerskates', 'scissors', 'sea_turtle', 'sheep', 'shorts', 'skateboard', 'snail', 'snowflake', 'sock', 'spider', 'spoon', 'square', 'stairs', 'stethoscope', 'strawberry', 'streetlight', 'submarine', 'sun', 'swan', 'swing_set', 't-shirt', 'table', 'teapot', 'teddy-bear', 'television', 'toaster', 'tooth', 'toothbrush', 'toothpaste', 'tornado', 'tractor', 'tree', 'triangle', 'truck', 'umbrella', 'van', 'violin', 'watermelon', 'waterslide', 'windmill', 'wine_glass', 'wristwatch', 'zebra']\n"
     ]
    }
   ],
   "source": [
    "file_path = 'train_simplified/'\n",
    "files = os.listdir(file_path)\n",
    "labels = [el.replace(\" \",\"_\")[:-4] for el in files]\n",
    "print(sorted(labels))"
   ]
  },
  {
   "cell_type": "code",
   "execution_count": 9,
   "metadata": {},
   "outputs": [],
   "source": [
    "I = 32 # image size in pixels\n",
    "S = 1 # current number of the label set\n",
    "T = 161 # number of labels in one set \n",
    "N = 1000 # number of images with the same label in the training set"
   ]
  },
  {
   "cell_type": "code",
   "execution_count": 48,
   "metadata": {},
   "outputs": [
    {
     "data": {
      "text/plain": [
       "(161000, 32, 32)"
      ]
     },
     "execution_count": 48,
     "metadata": {},
     "output_type": "execute_result"
    }
   ],
   "source": [
    "data = pandas.DataFrame(index=range(N),columns=labels[(S-1)*T:S*T])\n",
    "images = []\n",
    "\n",
    "def get_image(data,time_color=True):\n",
    "    data = ast.literal_eval(data)\n",
    "    image = numpy.zeros((280,280),numpy.uint8)\n",
    "    for t, s in enumerate(data):\n",
    "        for i in range(len(s[0])-1):\n",
    "            color = 255-min(t,10)*15 if time_color else 255\n",
    "            _ = cv2.line(image,(s[0][i]+10,s[1][i]+10),(s[0][i+1]+10,s[1][i+1]+10),color,3)    \n",
    "    return cv2.resize(image,(I,I))\n",
    "\n",
    "for i in range((S-1)*T,S*T):\n",
    "    label = labels[i]\n",
    "    data[label] = pandas.read_csv(file_path+files[i],index_col='key_id').drawing.values[:N]\n",
    "    images.extend([get_image(data[label].iloc[i]) for i in range(N)])\n",
    "    data.drop([label],axis=1)\n",
    "    \n",
    "images = numpy.array(images)\n",
    "images.shape"
   ]
  },
  {
   "cell_type": "code",
   "execution_count": 49,
   "metadata": {},
   "outputs": [
    {
     "data": {
      "text/plain": [
       "(161000, 161)"
      ]
     },
     "execution_count": 49,
     "metadata": {},
     "output_type": "execute_result"
    }
   ],
   "source": [
    "targets = numpy.array([[]+N*[k] for k in range(T)])\n",
    "targets = ks.utils.to_categorical(targets,T).reshape(N*T,T)\n",
    "targets.shape"
   ]
  },
  {
   "cell_type": "code",
   "execution_count": 50,
   "metadata": {},
   "outputs": [],
   "source": [
    "with h5py.File('DoodleImages.h5','w') as f:\n",
    "    f.create_dataset('images',data=images/255)\n",
    "    f.create_dataset('labels',data=targets)\n",
    "    f.close()"
   ]
  },
  {
   "cell_type": "code",
   "execution_count": 11,
   "metadata": {},
   "outputs": [
    {
     "data": {
      "text/plain": [
       "['images', 'labels']"
      ]
     },
     "execution_count": 11,
     "metadata": {},
     "output_type": "execute_result"
    }
   ],
   "source": [
    "f = h5py.File('DoodleImages.h5','r')\n",
    "keys = list(f.keys()); keys"
   ]
  },
  {
   "cell_type": "code",
   "execution_count": 12,
   "metadata": {},
   "outputs": [
    {
     "data": {
      "text/plain": [
       "((161000, 32, 32), (161000, 161))"
      ]
     },
     "execution_count": 12,
     "metadata": {},
     "output_type": "execute_result"
    }
   ],
   "source": [
    "images = numpy.array(f[keys[0]])\n",
    "targets = numpy.array(f[keys[1]])\n",
    "f.close()\n",
    "images.shape,targets.shape"
   ]
  },
  {
   "cell_type": "code",
   "execution_count": 13,
   "metadata": {},
   "outputs": [
    {
     "data": {
      "text/plain": [
       "((128800, 161), (16100, 161), (16100, 161))"
      ]
     },
     "execution_count": 13,
     "metadata": {},
     "output_type": "execute_result"
    }
   ],
   "source": [
    "x_train,x_test,y_train,y_test = \\\n",
    "train_test_split(images,targets,test_size=0.2,random_state=1)\n",
    "n = int(len(x_test)/2)\n",
    "x_valid,y_valid = x_test[:n],y_test[:n]\n",
    "x_test,y_test = x_test[n:],y_test[n:]\n",
    "\n",
    "del images,targets\n",
    "\n",
    "x_train = x_train.reshape(-1,I,I,1)\n",
    "x_valid = x_valid.reshape(-1,I,I,1)\n",
    "x_test = x_test.reshape(-1,I,I,1)\n",
    "y_train.shape,y_valid.shape,y_test.shape"
   ]
  },
  {
   "cell_type": "markdown",
   "metadata": {},
   "source": [
    "## Classification Models"
   ]
  },
  {
   "cell_type": "code",
   "execution_count": 16,
   "metadata": {},
   "outputs": [],
   "source": [
    "def top_3_categorical_accuracy(y_true,y_pred):\n",
    "    return ks.metrics.top_k_categorical_accuracy(y_true,y_pred,k=3)\n",
    "def categorical_accuracy(y_true, y_pred):\n",
    "    return ks.metrics.categorical_accuracy(y_true,y_pred)"
   ]
  },
  {
   "cell_type": "code",
   "execution_count": 25,
   "metadata": {},
   "outputs": [],
   "source": [
    "def model():\n",
    "    model = Sequential()\n",
    "    \n",
    "    model.add(DepthwiseConv2D(32,(5,5),padding='same',input_shape=x_train.shape[1:]))\n",
    "    model.add(LeakyReLU(alpha=0.02))\n",
    "    \n",
    "    model.add(DepthwiseConv2D(32,(1,1),padding='same'))\n",
    "    model.add(LeakyReLU(alpha=0.02))\n",
    "    \n",
    "    model.add(Conv2D(32,(5,5),padding='same'))\n",
    "    model.add(LeakyReLU(alpha=0.02))\n",
    "    \n",
    "    model.add(MaxPooling2D(pool_size=(2,2)))\n",
    "    model.add(Dropout(0.2))\n",
    "\n",
    "    model.add(Conv2D(256,(5,5),padding='same'))\n",
    "    model.add(LeakyReLU(alpha=0.02))\n",
    "    \n",
    "    model.add(MaxPooling2D(pool_size=(2,2)))\n",
    "    model.add(Dropout(0.2))\n",
    "\n",
    "    model.add(GlobalMaxPooling2D())\n",
    "    \n",
    "    model.add(Dense(1024))\n",
    "    model.add(LeakyReLU(alpha=0.02))\n",
    "    model.add(Dropout(0.5)) \n",
    "    \n",
    "    model.add(Dense(T))\n",
    "    model.add(Activation('softmax'))\n",
    "\n",
    "    model.compile(loss='categorical_crossentropy',optimizer='nadam', \n",
    "                  metrics=[categorical_accuracy,top_3_categorical_accuracy])\n",
    "    return model"
   ]
  },
  {
   "cell_type": "code",
   "execution_count": 26,
   "metadata": {
    "scrolled": false
   },
   "outputs": [
    {
     "name": "stdout",
     "output_type": "stream",
     "text": [
      "Train on 128800 samples, validate on 16100 samples\n",
      "Epoch 1/30\n",
      " - 828s - loss: 4.9372 - categorical_accuracy: 0.0135 - top_3_categorical_accuracy: 0.0397 - val_loss: 4.6387 - val_categorical_accuracy: 0.0257 - val_top_3_categorical_accuracy: 0.0785\n",
      "\n",
      "Epoch 00001: val_loss improved from inf to 4.63868, saving model to weights.doodles.hdf5\n",
      "Epoch 2/30\n",
      " - 338s - loss: 4.4997 - categorical_accuracy: 0.0402 - top_3_categorical_accuracy: 0.1039 - val_loss: 4.3183 - val_categorical_accuracy: 0.0535 - val_top_3_categorical_accuracy: 0.1423\n",
      "\n",
      "Epoch 00002: val_loss improved from 4.63868 to 4.31830, saving model to weights.doodles.hdf5\n",
      "Epoch 3/30\n",
      " - 304s - loss: 4.2421 - categorical_accuracy: 0.0671 - top_3_categorical_accuracy: 0.1620 - val_loss: 4.1171 - val_categorical_accuracy: 0.0820 - val_top_3_categorical_accuracy: 0.1929\n",
      "\n",
      "Epoch 00003: val_loss improved from 4.31830 to 4.11710, saving model to weights.doodles.hdf5\n",
      "Epoch 4/30\n",
      " - 297s - loss: 4.1121 - categorical_accuracy: 0.0834 - top_3_categorical_accuracy: 0.1925 - val_loss: 4.0276 - val_categorical_accuracy: 0.0974 - val_top_3_categorical_accuracy: 0.2184\n",
      "\n",
      "Epoch 00004: val_loss improved from 4.11710 to 4.02759, saving model to weights.doodles.hdf5\n",
      "Epoch 5/30\n",
      " - 292s - loss: 4.0017 - categorical_accuracy: 0.1006 - top_3_categorical_accuracy: 0.2220 - val_loss: 3.9012 - val_categorical_accuracy: 0.1209 - val_top_3_categorical_accuracy: 0.2564\n",
      "\n",
      "Epoch 00005: val_loss improved from 4.02759 to 3.90119, saving model to weights.doodles.hdf5\n",
      "Epoch 6/30\n",
      " - 293s - loss: 3.8745 - categorical_accuracy: 0.1204 - top_3_categorical_accuracy: 0.2556 - val_loss: 3.7148 - val_categorical_accuracy: 0.1509 - val_top_3_categorical_accuracy: 0.3028\n",
      "\n",
      "Epoch 00006: val_loss improved from 3.90119 to 3.71480, saving model to weights.doodles.hdf5\n",
      "Epoch 7/30\n",
      " - 301s - loss: 3.7367 - categorical_accuracy: 0.1434 - top_3_categorical_accuracy: 0.2924 - val_loss: 3.5648 - val_categorical_accuracy: 0.1812 - val_top_3_categorical_accuracy: 0.3423\n",
      "\n",
      "Epoch 00007: val_loss improved from 3.71480 to 3.56481, saving model to weights.doodles.hdf5\n",
      "Epoch 8/30\n",
      " - 296s - loss: 3.6045 - categorical_accuracy: 0.1674 - top_3_categorical_accuracy: 0.3279 - val_loss: 3.4251 - val_categorical_accuracy: 0.2065 - val_top_3_categorical_accuracy: 0.3805\n",
      "\n",
      "Epoch 00008: val_loss improved from 3.56481 to 3.42515, saving model to weights.doodles.hdf5\n",
      "Epoch 9/30\n",
      " - 297s - loss: 3.4958 - categorical_accuracy: 0.1870 - top_3_categorical_accuracy: 0.3569 - val_loss: 3.4071 - val_categorical_accuracy: 0.2111 - val_top_3_categorical_accuracy: 0.3875\n",
      "\n",
      "Epoch 00009: val_loss improved from 3.42515 to 3.40707, saving model to weights.doodles.hdf5\n",
      "Epoch 10/30\n",
      " - 296s - loss: 3.4150 - categorical_accuracy: 0.2006 - top_3_categorical_accuracy: 0.3790 - val_loss: 3.2517 - val_categorical_accuracy: 0.2375 - val_top_3_categorical_accuracy: 0.4181\n",
      "\n",
      "Epoch 00010: val_loss improved from 3.40707 to 3.25168, saving model to weights.doodles.hdf5\n",
      "Epoch 11/30\n",
      " - 298s - loss: 3.3210 - categorical_accuracy: 0.2200 - top_3_categorical_accuracy: 0.4033 - val_loss: 3.1653 - val_categorical_accuracy: 0.2517 - val_top_3_categorical_accuracy: 0.4486\n",
      "\n",
      "Epoch 00011: val_loss improved from 3.25168 to 3.16525, saving model to weights.doodles.hdf5\n",
      "Epoch 12/30\n",
      " - 328s - loss: 3.2493 - categorical_accuracy: 0.2325 - top_3_categorical_accuracy: 0.4215 - val_loss: 3.1143 - val_categorical_accuracy: 0.2610 - val_top_3_categorical_accuracy: 0.4558\n",
      "\n",
      "Epoch 00012: val_loss improved from 3.16525 to 3.11428, saving model to weights.doodles.hdf5\n",
      "Epoch 13/30\n",
      " - 392s - loss: 3.1905 - categorical_accuracy: 0.2436 - top_3_categorical_accuracy: 0.4366 - val_loss: 3.0531 - val_categorical_accuracy: 0.2737 - val_top_3_categorical_accuracy: 0.4738\n",
      "\n",
      "Epoch 00013: val_loss improved from 3.11428 to 3.05305, saving model to weights.doodles.hdf5\n",
      "Epoch 14/30\n",
      " - 379s - loss: 3.1232 - categorical_accuracy: 0.2561 - top_3_categorical_accuracy: 0.4541 - val_loss: 2.9709 - val_categorical_accuracy: 0.2893 - val_top_3_categorical_accuracy: 0.4914\n",
      "\n",
      "Epoch 00014: val_loss improved from 3.05305 to 2.97087, saving model to weights.doodles.hdf5\n",
      "Epoch 15/30\n",
      " - 295s - loss: 3.0778 - categorical_accuracy: 0.2646 - top_3_categorical_accuracy: 0.4644 - val_loss: 2.9344 - val_categorical_accuracy: 0.2981 - val_top_3_categorical_accuracy: 0.5040\n",
      "\n",
      "Epoch 00015: val_loss improved from 2.97087 to 2.93437, saving model to weights.doodles.hdf5\n",
      "Epoch 16/30\n",
      " - 290s - loss: 3.0318 - categorical_accuracy: 0.2733 - top_3_categorical_accuracy: 0.4760 - val_loss: 2.8849 - val_categorical_accuracy: 0.3078 - val_top_3_categorical_accuracy: 0.5111\n",
      "\n",
      "Epoch 00016: val_loss improved from 2.93437 to 2.88491, saving model to weights.doodles.hdf5\n",
      "Epoch 17/30\n",
      " - 288s - loss: 2.9886 - categorical_accuracy: 0.2831 - top_3_categorical_accuracy: 0.4869 - val_loss: 2.8615 - val_categorical_accuracy: 0.3122 - val_top_3_categorical_accuracy: 0.5160\n",
      "\n",
      "Epoch 00017: val_loss improved from 2.88491 to 2.86152, saving model to weights.doodles.hdf5\n",
      "Epoch 18/30\n",
      " - 289s - loss: 2.9676 - categorical_accuracy: 0.2868 - top_3_categorical_accuracy: 0.4918 - val_loss: 2.8535 - val_categorical_accuracy: 0.3145 - val_top_3_categorical_accuracy: 0.5211\n",
      "\n",
      "Epoch 00018: val_loss improved from 2.86152 to 2.85352, saving model to weights.doodles.hdf5\n",
      "Epoch 19/30\n",
      " - 289s - loss: 2.9306 - categorical_accuracy: 0.2945 - top_3_categorical_accuracy: 0.5007 - val_loss: 2.8361 - val_categorical_accuracy: 0.3181 - val_top_3_categorical_accuracy: 0.5225\n",
      "\n",
      "Epoch 00019: val_loss improved from 2.85352 to 2.83608, saving model to weights.doodles.hdf5\n",
      "Epoch 20/30\n",
      " - 289s - loss: 2.9043 - categorical_accuracy: 0.2978 - top_3_categorical_accuracy: 0.5046 - val_loss: 2.8359 - val_categorical_accuracy: 0.3166 - val_top_3_categorical_accuracy: 0.5295\n",
      "\n",
      "Epoch 00020: val_loss improved from 2.83608 to 2.83593, saving model to weights.doodles.hdf5\n",
      "Epoch 21/30\n",
      " - 288s - loss: 2.8809 - categorical_accuracy: 0.3035 - top_3_categorical_accuracy: 0.5120 - val_loss: 2.7543 - val_categorical_accuracy: 0.3319 - val_top_3_categorical_accuracy: 0.5447\n",
      "\n",
      "Epoch 00021: val_loss improved from 2.83593 to 2.75434, saving model to weights.doodles.hdf5\n",
      "Epoch 22/30\n",
      " - 288s - loss: 2.8541 - categorical_accuracy: 0.3083 - top_3_categorical_accuracy: 0.5176 - val_loss: 2.7435 - val_categorical_accuracy: 0.3368 - val_top_3_categorical_accuracy: 0.5440\n",
      "\n",
      "Epoch 00022: val_loss improved from 2.75434 to 2.74346, saving model to weights.doodles.hdf5\n",
      "Epoch 23/30\n",
      " - 288s - loss: 2.8366 - categorical_accuracy: 0.3116 - top_3_categorical_accuracy: 0.5230 - val_loss: 2.7300 - val_categorical_accuracy: 0.3383 - val_top_3_categorical_accuracy: 0.5494\n",
      "\n",
      "Epoch 00023: val_loss improved from 2.74346 to 2.72999, saving model to weights.doodles.hdf5\n",
      "Epoch 24/30\n",
      " - 289s - loss: 2.8150 - categorical_accuracy: 0.3164 - top_3_categorical_accuracy: 0.5286 - val_loss: 2.7258 - val_categorical_accuracy: 0.3393 - val_top_3_categorical_accuracy: 0.5530\n",
      "\n",
      "Epoch 00024: val_loss improved from 2.72999 to 2.72585, saving model to weights.doodles.hdf5\n",
      "Epoch 25/30\n",
      " - 288s - loss: 2.7899 - categorical_accuracy: 0.3212 - top_3_categorical_accuracy: 0.5328 - val_loss: 2.7060 - val_categorical_accuracy: 0.3422 - val_top_3_categorical_accuracy: 0.5583\n",
      "\n",
      "Epoch 00025: val_loss improved from 2.72585 to 2.70603, saving model to weights.doodles.hdf5\n",
      "Epoch 26/30\n",
      " - 287s - loss: 2.7810 - categorical_accuracy: 0.3222 - top_3_categorical_accuracy: 0.5350 - val_loss: 2.7137 - val_categorical_accuracy: 0.3435 - val_top_3_categorical_accuracy: 0.5540\n",
      "\n",
      "Epoch 00026: val_loss did not improve from 2.70603\n",
      "Epoch 27/30\n",
      " - 287s - loss: 2.7582 - categorical_accuracy: 0.3258 - top_3_categorical_accuracy: 0.5392 - val_loss: 2.7276 - val_categorical_accuracy: 0.3369 - val_top_3_categorical_accuracy: 0.5498\n",
      "\n",
      "Epoch 00027: val_loss did not improve from 2.70603\n",
      "Epoch 28/30\n",
      " - 287s - loss: 2.7439 - categorical_accuracy: 0.3294 - top_3_categorical_accuracy: 0.5438 - val_loss: 2.6684 - val_categorical_accuracy: 0.3526 - val_top_3_categorical_accuracy: 0.5651\n",
      "\n",
      "Epoch 00028: val_loss improved from 2.70603 to 2.66838, saving model to weights.doodles.hdf5\n",
      "Epoch 29/30\n",
      " - 287s - loss: 2.7287 - categorical_accuracy: 0.3324 - top_3_categorical_accuracy: 0.5462 - val_loss: 2.6445 - val_categorical_accuracy: 0.3570 - val_top_3_categorical_accuracy: 0.5710\n"
     ]
    },
    {
     "name": "stdout",
     "output_type": "stream",
     "text": [
      "\n",
      "Epoch 00029: val_loss improved from 2.66838 to 2.64448, saving model to weights.doodles.hdf5\n",
      "Epoch 30/30\n",
      " - 287s - loss: 2.7104 - categorical_accuracy: 0.3367 - top_3_categorical_accuracy: 0.5505 - val_loss: 2.6462 - val_categorical_accuracy: 0.3593 - val_top_3_categorical_accuracy: 0.5712\n",
      "\n",
      "Epoch 00030: val_loss did not improve from 2.64448\n"
     ]
    }
   ],
   "source": [
    "model = model()\n",
    "checkpointer = ModelCheckpoint(filepath='weights.doodles.hdf5',verbose=2,save_best_only=True)\n",
    "lr_reduction = ReduceLROnPlateau(monitor='val_loss',patience=5,verbose=2,factor=0.5)\n",
    "model.fit(x_train,y_train,epochs=30,batch_size=2048,verbose=2,\n",
    "          validation_data=(x_valid,y_valid),callbacks=[checkpointer,lr_reduction]);"
   ]
  },
  {
   "cell_type": "code",
   "execution_count": 27,
   "metadata": {},
   "outputs": [
    {
     "name": "stdout",
     "output_type": "stream",
     "text": [
      "16100/16100 [==============================] - 44s 3ms/step\n"
     ]
    },
    {
     "data": {
      "text/plain": [
       "[2.596832858198178, 0.3662111801242236, 0.5798136645962733]"
      ]
     },
     "execution_count": 27,
     "metadata": {},
     "output_type": "execute_result"
    }
   ],
   "source": [
    "model.load_weights('weights.doodles.hdf5')\n",
    "score = model.evaluate(x_test,y_test)\n",
    "score"
   ]
  },
  {
   "cell_type": "code",
   "execution_count": 28,
   "metadata": {},
   "outputs": [],
   "source": [
    "test_predictions = model.predict(x_test)\n",
    "test_labels = [[ labels[i] for i in test_predictions[k].argsort()[-3:][::-1] ] \\\n",
    "               for k in range(len(test_predictions))]\n",
    "test_labels = [ \" \".join(test_labels[i]) for i in range(len(test_labels))]"
   ]
  },
  {
   "cell_type": "code",
   "execution_count": 32,
   "metadata": {},
   "outputs": [
    {
     "data": {
      "image/png": "[encoded data removed]",
      "text/plain": [
       "<Figure size 1080x360 with 3 Axes>"
      ]
     },
     "metadata": {},
     "output_type": "display_data"
    }
   ],
   "source": [
    "pylab.figure(figsize=(15,5))\n",
    "pylab.subplot(1,3,1); pylab.imshow(x_test[2].reshape(I,I),cmap=pylab.cm.Pastel1_r)\n",
    "pylab.subplot(1,3,2); pylab.imshow(x_test[4000].reshape(I,I),cmap=pylab.cm.Pastel1_r)\n",
    "pylab.subplot(1,3,3); pylab.imshow(x_test[8000].reshape(I,I),cmap=pylab.cm.Pastel1_r)\n",
    "pylab.suptitle('Pixel Images from Coordinates of Points');"
   ]
  },
  {
   "cell_type": "code",
   "execution_count": 31,
   "metadata": {},
   "outputs": [
    {
     "data": {
      "text/plain": [
       "('candle toothpaste crayon',\n",
       " 'helmet laptop computer',\n",
       " 'eyeglasses mouse moustache')"
      ]
     },
     "execution_count": 31,
     "metadata": {},
     "output_type": "execute_result"
    }
   ],
   "source": [
    "test_labels[2],test_labels[4000],test_labels[8000]"
   ]
  },
  {
   "cell_type": "code",
   "execution_count": 17,
   "metadata": {},
   "outputs": [],
   "source": [
    "def model():\n",
    "    model = Sequential()\n",
    "    \n",
    "    model.add(Conv2D(32,(5,5),padding='same',input_shape=x_train.shape[1:]))\n",
    "    model.add(LeakyReLU(alpha=0.02))\n",
    "    \n",
    "    model.add(MaxPooling2D(pool_size=(2,2)))\n",
    "    model.add(Dropout(0.2))\n",
    "\n",
    "    model.add(Conv2D(196,(5,5)))\n",
    "    model.add(LeakyReLU(alpha=0.02))\n",
    "    \n",
    "    model.add(MaxPooling2D(pool_size=(2,2)))\n",
    "    model.add(Dropout(0.2))\n",
    "\n",
    "    model.add(GlobalMaxPooling2D())\n",
    "    \n",
    "    model.add(Dense(1024))\n",
    "    model.add(LeakyReLU(alpha=0.02))\n",
    "    model.add(Dropout(0.5)) \n",
    "    \n",
    "    model.add(Dense(T))\n",
    "    model.add(Activation('softmax'))\n",
    "\n",
    "    model.compile(loss='categorical_crossentropy',optimizer='adam', \n",
    "                  metrics=[categorical_accuracy,top_3_categorical_accuracy])\n",
    "    return model"
   ]
  },
  {
   "cell_type": "code",
   "execution_count": 18,
   "metadata": {},
   "outputs": [
    {
     "name": "stdout",
     "output_type": "stream",
     "text": [
      "Train on 128800 samples, validate on 16100 samples\n",
      "Epoch 1/10\n",
      " - 878s - loss: 4.7150 - categorical_accuracy: 0.0377 - top_3_categorical_accuracy: 0.0901 - val_loss: 4.1871 - val_categorical_accuracy: 0.1140 - val_top_3_categorical_accuracy: 0.2388\n",
      "\n",
      "Epoch 00001: val_loss improved from inf to 4.18715, saving model to weights.doodles.hdf5\n",
      "Epoch 2/10\n",
      " - 746s - loss: 3.8190 - categorical_accuracy: 0.1426 - top_3_categorical_accuracy: 0.2848 - val_loss: 3.4658 - val_categorical_accuracy: 0.2435 - val_top_3_categorical_accuracy: 0.4177\n",
      "\n",
      "Epoch 00002: val_loss improved from 4.18715 to 3.46575, saving model to weights.doodles.hdf5\n",
      "Epoch 3/10\n",
      " - 734s - loss: 3.2787 - categorical_accuracy: 0.2370 - top_3_categorical_accuracy: 0.4223 - val_loss: 3.0389 - val_categorical_accuracy: 0.3148 - val_top_3_categorical_accuracy: 0.5055\n",
      "\n",
      "Epoch 00003: val_loss improved from 3.46575 to 3.03889, saving model to weights.doodles.hdf5\n",
      "Epoch 4/10\n",
      " - 721s - loss: 2.9364 - categorical_accuracy: 0.3060 - top_3_categorical_accuracy: 0.5043 - val_loss: 2.7629 - val_categorical_accuracy: 0.3702 - val_top_3_categorical_accuracy: 0.5781\n",
      "\n",
      "Epoch 00004: val_loss improved from 3.03889 to 2.76292, saving model to weights.doodles.hdf5\n",
      "Epoch 5/10\n",
      " - 708s - loss: 2.7095 - categorical_accuracy: 0.3506 - top_3_categorical_accuracy: 0.5582 - val_loss: 2.5712 - val_categorical_accuracy: 0.4100 - val_top_3_categorical_accuracy: 0.6133\n",
      "\n",
      "Epoch 00005: val_loss improved from 2.76292 to 2.57121, saving model to weights.doodles.hdf5\n",
      "Epoch 6/10\n",
      " - 752s - loss: 2.5458 - categorical_accuracy: 0.3851 - top_3_categorical_accuracy: 0.5935 - val_loss: 2.4308 - val_categorical_accuracy: 0.4349 - val_top_3_categorical_accuracy: 0.6420\n",
      "\n",
      "Epoch 00006: val_loss improved from 2.57121 to 2.43084, saving model to weights.doodles.hdf5\n",
      "Epoch 7/10\n",
      " - 872s - loss: 2.4275 - categorical_accuracy: 0.4099 - top_3_categorical_accuracy: 0.6200 - val_loss: 2.3249 - val_categorical_accuracy: 0.4527 - val_top_3_categorical_accuracy: 0.6599\n",
      "\n",
      "Epoch 00007: val_loss improved from 2.43084 to 2.32486, saving model to weights.doodles.hdf5\n",
      "Epoch 8/10\n",
      " - 806s - loss: 2.3339 - categorical_accuracy: 0.4286 - top_3_categorical_accuracy: 0.6399 - val_loss: 2.2477 - val_categorical_accuracy: 0.4689 - val_top_3_categorical_accuracy: 0.6727\n",
      "\n",
      "Epoch 00008: val_loss improved from 2.32486 to 2.24767, saving model to weights.doodles.hdf5\n",
      "Epoch 9/10\n",
      " - 761s - loss: 2.2604 - categorical_accuracy: 0.4451 - top_3_categorical_accuracy: 0.6572 - val_loss: 2.1854 - val_categorical_accuracy: 0.4824 - val_top_3_categorical_accuracy: 0.6871\n",
      "\n",
      "Epoch 00009: val_loss improved from 2.24767 to 2.18538, saving model to weights.doodles.hdf5\n",
      "Epoch 10/10\n",
      " - 902s - loss: 2.1881 - categorical_accuracy: 0.4588 - top_3_categorical_accuracy: 0.6715 - val_loss: 2.1295 - val_categorical_accuracy: 0.4948 - val_top_3_categorical_accuracy: 0.6964\n",
      "\n",
      "Epoch 00010: val_loss improved from 2.18538 to 2.12945, saving model to weights.doodles.hdf5\n"
     ]
    }
   ],
   "source": [
    "model = model()\n",
    "checkpointer = ModelCheckpoint(filepath='weights.doodles.hdf5',verbose=2,save_best_only=True)\n",
    "lr_reduction = ReduceLROnPlateau(monitor='val_loss',patience=5,verbose=2,factor=0.5)\n",
    "model.fit(x_train,y_train,epochs=10,batch_size=2048,verbose=2,\n",
    "          validation_data=(x_valid,y_valid),callbacks=[checkpointer,lr_reduction]);"
   ]
  },
  {
   "cell_type": "code",
   "execution_count": 19,
   "metadata": {},
   "outputs": [
    {
     "name": "stdout",
     "output_type": "stream",
     "text": [
      "16100/16100 [==============================] - 25s 2ms/step\n"
     ]
    },
    {
     "data": {
      "text/plain": [
       "[2.0842304700650045, 0.5109316770186335, 0.7093788819875776]"
      ]
     },
     "execution_count": 19,
     "metadata": {},
     "output_type": "execute_result"
    }
   ],
   "source": [
    "model.load_weights('weights.doodles.hdf5')\n",
    "score = model.evaluate(x_test,y_test)\n",
    "score"
   ]
  },
  {
   "cell_type": "code",
   "execution_count": 20,
   "metadata": {},
   "outputs": [],
   "source": [
    "test_predictions = model.predict(x_test)\n",
    "test_labels = [[ labels[i] for i in test_predictions[k].argsort()[-3:][::-1] ] \\\n",
    "               for k in range(len(test_predictions))]\n",
    "test_labels = [ \" \".join(test_labels[i]) for i in range(len(test_labels))]"
   ]
  },
  {
   "cell_type": "code",
   "execution_count": 24,
   "metadata": {},
   "outputs": [
    {
     "data": {
      "image/png": "[encoded data removed]",
      "text/plain": [
       "<Figure size 1080x360 with 3 Axes>"
      ]
     },
     "metadata": {},
     "output_type": "display_data"
    }
   ],
   "source": [
    "pylab.figure(figsize=(15,5))\n",
    "pylab.subplot(1,3,1); pylab.imshow(x_test[1].reshape(I,I),cmap=pylab.cm.Pastel1_r)\n",
    "pylab.subplot(1,3,2); pylab.imshow(x_test[6000].reshape(I,I),cmap=pylab.cm.Pastel1_r)\n",
    "pylab.subplot(1,3,3); pylab.imshow(x_test[12000].reshape(I,I),cmap=pylab.cm.Pastel1_r)\n",
    "pylab.suptitle('Pixel Images from Coordinates of Points');"
   ]
  },
  {
   "cell_type": "code",
   "execution_count": 23,
   "metadata": {},
   "outputs": [
    {
     "data": {
      "text/plain": [
       "('tractor owl car', 'barn house pizza', 'toothbrush garden clarinet')"
      ]
     },
     "execution_count": 23,
     "metadata": {},
     "output_type": "execute_result"
    }
   ],
   "source": [
    "test_labels[1],test_labels[6000],test_labels[12000]"
   ]
  }
 ],
 "metadata": {
  "kernelspec": {
   "display_name": "Python 3",
   "language": "python",
   "name": "python3"
  },
  "language_info": {
   "codemirror_mode": {
    "name": "ipython",
    "version": 3
   },
   "file_extension": ".py",
   "mimetype": "text/x-python",
   "name": "python",
   "nbconvert_exporter": "python",
   "pygments_lexer": "ipython3",
   "version": "3.6.4"
  }
 },
 "nbformat": 4,
 "nbformat_minor": 2
}
