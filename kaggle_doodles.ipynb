{
 "cells": [
  {
   "cell_type": "markdown",
   "metadata": {},
   "source": [
    "# &#x1F4D1; &nbsp;  Doodle Recognition Model"
   ]
  },
  {
   "cell_type": "markdown",
   "metadata": {},
   "source": [
    "## Links\n",
    "[`Keras. Deep Learning library for Theano and TensorFlow`](https://keras.io/)"
   ]
  },
  {
   "cell_type": "markdown",
   "metadata": {},
   "source": [
    "## Libraries"
   ]
  },
  {
   "cell_type": "code",
   "execution_count": 1,
   "metadata": {},
   "outputs": [
    {
     "data": {
      "text/html": [
       "<style>        \n",
       "@import url('https://fonts.googleapis.com/css?family=Orbitron|Roboto');\n",
       "body {background-color: gainsboro;} \n",
       "a {color: #37c9e1; font-family: 'Roboto';} \n",
       "h1 {color: #37c9e1; font-family: 'Orbitron'; text-shadow: 4px 4px 4px #ccc;} \n",
       "h2, h3 {color: slategray; font-family: 'Orbitron'; text-shadow: 4px 4px 4px #ccc;}\n",
       "h4 {color: #818286; font-family: 'Roboto';}\n",
       "span {text-shadow: 4px 4px 4px #ccc;}\n",
       "div.output_prompt, div.output_area pre {color: slategray;}\n",
       "div.input_prompt, div.output_subarea {color: #37c9e1;}      \n",
       "div.output_stderr pre {background-color: gainsboro;}  \n",
       "div.output_stderr {background-color: slategrey;} \n",
       "</style>"
      ],
      "text/plain": [
       "<IPython.core.display.HTML object>"
      ]
     },
     "metadata": {},
     "output_type": "display_data"
    }
   ],
   "source": [
    "%%html\n",
    "<style>        \n",
    "@import url('https://fonts.googleapis.com/css?family=Orbitron|Roboto');\n",
    "body {background-color: gainsboro;} \n",
    "a {color: #37c9e1; font-family: 'Roboto';} \n",
    "h1 {color: #37c9e1; font-family: 'Orbitron'; text-shadow: 4px 4px 4px #ccc;} \n",
    "h2, h3 {color: slategray; font-family: 'Orbitron'; text-shadow: 4px 4px 4px #ccc;}\n",
    "h4 {color: #818286; font-family: 'Roboto';}\n",
    "span {text-shadow: 4px 4px 4px #ccc;}\n",
    "div.output_prompt, div.output_area pre {color: slategray;}\n",
    "div.input_prompt, div.output_subarea {color: #37c9e1;}      \n",
    "div.output_stderr pre {background-color: gainsboro;}  \n",
    "div.output_stderr {background-color: slategrey;} \n",
    "</style>"
   ]
  },
  {
   "cell_type": "code",
   "execution_count": 2,
   "metadata": {},
   "outputs": [],
   "source": [
    "import os,ast,h5py\n",
    "import numpy,cv2,pandas,pylab"
   ]
  },
  {
   "cell_type": "code",
   "execution_count": 3,
   "metadata": {},
   "outputs": [
    {
     "name": "stderr",
     "output_type": "stream",
     "text": [
      "Using TensorFlow backend.\n"
     ]
    },
    {
     "name": "stdout",
     "output_type": "stream",
     "text": [
      "keras version: 2.2.4\n",
      "tensorflow version: 1.12.0\n"
     ]
    }
   ],
   "source": [
    "import keras as ks, tensorflow as tf\n",
    "from keras import __version__\n",
    "print('keras version:', __version__)\n",
    "print('tensorflow version:', tf.__version__)"
   ]
  },
  {
   "cell_type": "code",
   "execution_count": 4,
   "metadata": {},
   "outputs": [],
   "source": [
    "from sklearn.model_selection import train_test_split\n",
    "from keras.callbacks import ModelCheckpoint, ReduceLROnPlateau\n",
    "from keras.models import Sequential\n",
    "from keras.layers.advanced_activations import LeakyReLU\n",
    "from keras.layers import Activation, Dropout, Dense\n",
    "from keras.layers import Conv2D, MaxPooling2D, GlobalMaxPooling2D, DepthwiseConv2D"
   ]
  },
  {
   "cell_type": "markdown",
   "metadata": {},
   "source": [
    "## Data"
   ]
  },
  {
   "cell_type": "code",
   "execution_count": 5,
   "metadata": {},
   "outputs": [
    {
     "name": "stdout",
     "output_type": "stream",
     "text": [
      "['The_Eiffel_Tower', 'The_Great_Wall_of_China', 'The_Mona_Lisa', 'airplane', 'angel', 'animal_migration', 'arm', 'asparagus', 'bandage', 'barn', 'baseball', 'basket', 'beard', 'bed', 'bee', 'belt', 'bicycle', 'binoculars', 'bird', 'book', 'bracelet', 'broom', 'bulldozer', 'bus', 'bush', 'butterfly', 'cactus', 'cake', 'calculator', 'candle', 'canoe', 'car', 'carrot', 'castle', 'cello', 'chair', 'circle', 'clarinet', 'clock', 'computer', 'couch', 'cow', 'crab', 'crayon', 'crown', 'diving_board', 'dolphin', 'door', 'dragon', 'drill', 'duck', 'ear', 'elephant', 'envelope', 'eye', 'eyeglasses', 'fan', 'feather', 'fish', 'flashlight', 'flip_flops', 'garden', 'giraffe', 'golf_club', 'hamburger', 'hammer', 'harp', 'helmet', 'hexagon', 'hockey_puck', 'hot_dog', 'hot_tub', 'house', 'house_plant', 'hurricane', 'ice_cream', 'kangaroo', 'knee', 'lantern', 'laptop', 'leg', 'light_bulb', 'lion', 'lobster', 'lollipop', 'map', 'matches', 'motorbike', 'mouse', 'moustache', 'mushroom', 'nail', 'necklace', 'nose', 'octopus', 'oven', 'owl', 'paint_can', 'paintbrush', 'palm_tree', 'pants', 'paper_clip', 'peanut', 'peas', 'piano', 'pineapple', 'pizza', 'pliers', 'police_car', 'pond', 'postcard', 'potato', 'power_outlet', 'radio', 'rainbow', 'rhinoceros', 'river', 'roller_coaster', 'rollerskates', 'scissors', 'sea_turtle', 'sheep', 'shorts', 'skateboard', 'snail', 'snowflake', 'sock', 'spider', 'spoon', 'square', 'stairs', 'stethoscope', 'strawberry', 'streetlight', 'submarine', 'sun', 'swan', 'swing_set', 't-shirt', 'table', 'teapot', 'teddy-bear', 'television', 'toaster', 'tooth', 'toothbrush', 'toothpaste', 'tornado', 'tractor', 'tree', 'triangle', 'truck', 'umbrella', 'van', 'violin', 'watermelon', 'waterslide', 'windmill', 'wine_glass', 'wristwatch', 'zebra']\n"
     ]
    }
   ],
   "source": [
    "file_path = 'train_simplified/'\n",
    "files = os.listdir(file_path)\n",
    "labels = [el.replace(\" \",\"_\")[:-4] for el in files]\n",
    "print(sorted(labels))"
   ]
  },
  {
   "cell_type": "code",
   "execution_count": 9,
   "metadata": {},
   "outputs": [],
   "source": [
    "I = 32 # image size in pixels\n",
    "S = 1 # current number of the label set\n",
    "T = 161 # number of labels in one set \n",
    "N = 1000 # number of images with the same label in the training set"
   ]
  },
  {
   "cell_type": "code",
   "execution_count": 48,
   "metadata": {},
   "outputs": [
    {
     "data": {
      "text/plain": [
       "(161000, 32, 32)"
      ]
     },
     "execution_count": 48,
     "metadata": {},
     "output_type": "execute_result"
    }
   ],
   "source": [
    "data = pandas.DataFrame(index=range(N),columns=labels[(S-1)*T:S*T])\n",
    "images = []\n",
    "\n",
    "def get_image(data,time_color=True):\n",
    "    data = ast.literal_eval(data)\n",
    "    image = numpy.zeros((280,280),numpy.uint8)\n",
    "    for t, s in enumerate(data):\n",
    "        for i in range(len(s[0])-1):\n",
    "            color = 255-min(t,10)*15 if time_color else 255\n",
    "            _ = cv2.line(image,(s[0][i]+10,s[1][i]+10),(s[0][i+1]+10,s[1][i+1]+10),color,3)    \n",
    "    return cv2.resize(image,(I,I))\n",
    "\n",
    "for i in range((S-1)*T,S*T):\n",
    "    label = labels[i]\n",
    "    data[label] = pandas.read_csv(file_path+files[i],index_col='key_id').drawing.values[:N]\n",
    "    images.extend([get_image(data[label].iloc[i]) for i in range(N)])\n",
    "    data.drop([label],axis=1)\n",
    "    \n",
    "images = numpy.array(images)\n",
    "images.shape"
   ]
  },
  {
   "cell_type": "code",
   "execution_count": 49,
   "metadata": {},
   "outputs": [
    {
     "data": {
      "text/plain": [
       "(161000, 161)"
      ]
     },
     "execution_count": 49,
     "metadata": {},
     "output_type": "execute_result"
    }
   ],
   "source": [
    "targets = numpy.array([[]+N*[k] for k in range(T)])\n",
    "targets = ks.utils.to_categorical(targets,T).reshape(N*T,T)\n",
    "targets.shape"
   ]
  },
  {
   "cell_type": "code",
   "execution_count": 50,
   "metadata": {},
   "outputs": [],
   "source": [
    "with h5py.File('DoodleImages.h5','w') as f:\n",
    "    f.create_dataset('images',data=images/255)\n",
    "    f.create_dataset('labels',data=targets)\n",
    "    f.close()"
   ]
  },
  {
   "cell_type": "code",
   "execution_count": 11,
   "metadata": {},
   "outputs": [
    {
     "data": {
      "text/plain": [
       "['images', 'labels']"
      ]
     },
     "execution_count": 11,
     "metadata": {},
     "output_type": "execute_result"
    }
   ],
   "source": [
    "f = h5py.File('DoodleImages.h5','r')\n",
    "keys = list(f.keys()); keys"
   ]
  },
  {
   "cell_type": "code",
   "execution_count": 12,
   "metadata": {},
   "outputs": [
    {
     "data": {
      "text/plain": [
       "((161000, 32, 32), (161000, 161))"
      ]
     },
     "execution_count": 12,
     "metadata": {},
     "output_type": "execute_result"
    }
   ],
   "source": [
    "images = numpy.array(f[keys[0]])\n",
    "targets = numpy.array(f[keys[1]])\n",
    "f.close()\n",
    "images.shape,targets.shape"
   ]
  },
  {
   "cell_type": "code",
   "execution_count": 13,
   "metadata": {},
   "outputs": [
    {
     "data": {
      "text/plain": [
       "((128800, 161), (16100, 161), (16100, 161))"
      ]
     },
     "execution_count": 13,
     "metadata": {},
     "output_type": "execute_result"
    }
   ],
   "source": [
    "x_train,x_test,y_train,y_test = \\\n",
    "train_test_split(images,targets,test_size=0.2,random_state=1)\n",
    "n = int(len(x_test)/2)\n",
    "x_valid,y_valid = x_test[:n],y_test[:n]\n",
    "x_test,y_test = x_test[n:],y_test[n:]\n",
    "\n",
    "del images,targets\n",
    "\n",
    "x_train = x_train.reshape(-1,I,I,1)\n",
    "x_valid = x_valid.reshape(-1,I,I,1)\n",
    "x_test = x_test.reshape(-1,I,I,1)\n",
    "y_train.shape,y_valid.shape,y_test.shape"
   ]
  },
  {
   "cell_type": "markdown",
   "metadata": {},
   "source": [
    "## Classification Models"
   ]
  },
  {
   "cell_type": "code",
   "execution_count": 16,
   "metadata": {},
   "outputs": [],
   "source": [
    "def top_3_categorical_accuracy(y_true,y_pred):\n",
    "    return ks.metrics.top_k_categorical_accuracy(y_true,y_pred,k=3)\n",
    "def categorical_accuracy(y_true, y_pred):\n",
    "    return ks.metrics.categorical_accuracy(y_true,y_pred)"
   ]
  },
  {
   "cell_type": "code",
   "execution_count": 64,
   "metadata": {},
   "outputs": [],
   "source": [
    "def model():\n",
    "    model = Sequential()\n",
    "    \n",
    "    model.add(DepthwiseConv2D(32,(5,5),padding='same',input_shape=x_train.shape[1:]))\n",
    "    model.add(LeakyReLU(alpha=0.02))\n",
    "    \n",
    "    model.add(DepthwiseConv2D(32,(1,1),padding='same'))\n",
    "    model.add(LeakyReLU(alpha=0.02))\n",
    "    \n",
    "    model.add(Conv2D(32,(5,5),padding='same'))\n",
    "    model.add(LeakyReLU(alpha=0.02))\n",
    "    \n",
    "    model.add(MaxPooling2D(pool_size=(2,2)))\n",
    "    model.add(Dropout(0.2))\n",
    "\n",
    "    model.add(Conv2D(256,(5,5),padding='same'))\n",
    "    model.add(LeakyReLU(alpha=0.02))\n",
    "    \n",
    "    model.add(MaxPooling2D(pool_size=(2,2)))\n",
    "    model.add(Dropout(0.2))\n",
    "\n",
    "    model.add(GlobalMaxPooling2D())\n",
    "    \n",
    "    model.add(Dense(1024))\n",
    "    model.add(LeakyReLU(alpha=0.02))\n",
    "    model.add(Dropout(0.5)) \n",
    "    \n",
    "    model.add(Dense(T))\n",
    "    model.add(Activation('softmax'))\n",
    "\n",
    "    model.compile(loss='categorical_crossentropy',optimizer='nadam', \n",
    "                  metrics=[categorical_accuracy,top_3_categorical_accuracy])\n",
    "    return model"
   ]
  },
  {
   "cell_type": "code",
   "execution_count": 65,
   "metadata": {},
   "outputs": [
    {
     "name": "stdout",
     "output_type": "stream",
     "text": [
      "Train on 128800 samples, validate on 16100 samples\n",
      "Epoch 1/10\n",
      " - 330s - loss: 4.9807 - categorical_accuracy: 0.0122 - top_3_categorical_accuracy: 0.0348 - val_loss: 4.9728 - val_categorical_accuracy: 0.0121 - val_top_3_categorical_accuracy: 0.0375\n",
      "\n",
      "Epoch 00001: val_loss improved from inf to 4.97285, saving model to weights.doodles.hdf5\n",
      "Epoch 2/10\n",
      " - 311s - loss: 4.5968 - categorical_accuracy: 0.0349 - top_3_categorical_accuracy: 0.0919 - val_loss: 4.3209 - val_categorical_accuracy: 0.0597 - val_top_3_categorical_accuracy: 0.1500\n",
      "\n",
      "Epoch 00002: val_loss improved from 4.97285 to 4.32094, saving model to weights.doodles.hdf5\n",
      "Epoch 3/10\n",
      " - 311s - loss: 4.2743 - categorical_accuracy: 0.0644 - top_3_categorical_accuracy: 0.1579 - val_loss: 4.2453 - val_categorical_accuracy: 0.0667 - val_top_3_categorical_accuracy: 0.1632\n",
      "\n",
      "Epoch 00003: val_loss improved from 4.32094 to 4.24526, saving model to weights.doodles.hdf5\n",
      "Epoch 4/10\n",
      " - 303s - loss: 4.1022 - categorical_accuracy: 0.0872 - top_3_categorical_accuracy: 0.1989 - val_loss: 3.9612 - val_categorical_accuracy: 0.1075 - val_top_3_categorical_accuracy: 0.2356\n",
      "\n",
      "Epoch 00004: val_loss improved from 4.24526 to 3.96116, saving model to weights.doodles.hdf5\n",
      "Epoch 5/10\n",
      " - 304s - loss: 3.9495 - categorical_accuracy: 0.1077 - top_3_categorical_accuracy: 0.2364 - val_loss: 3.8033 - val_categorical_accuracy: 0.1373 - val_top_3_categorical_accuracy: 0.2803\n",
      "\n",
      "Epoch 00005: val_loss improved from 3.96116 to 3.80334, saving model to weights.doodles.hdf5\n",
      "Epoch 6/10\n",
      " - 295s - loss: 3.7868 - categorical_accuracy: 0.1336 - top_3_categorical_accuracy: 0.2793 - val_loss: 3.5881 - val_categorical_accuracy: 0.1729 - val_top_3_categorical_accuracy: 0.3394\n",
      "\n",
      "Epoch 00006: val_loss improved from 3.80334 to 3.58813, saving model to weights.doodles.hdf5\n",
      "Epoch 7/10\n",
      " - 310s - loss: 3.6199 - categorical_accuracy: 0.1644 - top_3_categorical_accuracy: 0.3259 - val_loss: 3.5067 - val_categorical_accuracy: 0.1840 - val_top_3_categorical_accuracy: 0.3580\n",
      "\n",
      "Epoch 00007: val_loss improved from 3.58813 to 3.50672, saving model to weights.doodles.hdf5\n",
      "Epoch 8/10\n",
      " - 324s - loss: 3.4882 - categorical_accuracy: 0.1855 - top_3_categorical_accuracy: 0.3589 - val_loss: 3.3009 - val_categorical_accuracy: 0.2271 - val_top_3_categorical_accuracy: 0.4134\n",
      "\n",
      "Epoch 00008: val_loss improved from 3.50672 to 3.30089, saving model to weights.doodles.hdf5\n",
      "Epoch 9/10\n",
      " - 296s - loss: 3.3978 - categorical_accuracy: 0.2017 - top_3_categorical_accuracy: 0.3826 - val_loss: 3.2346 - val_categorical_accuracy: 0.2380 - val_top_3_categorical_accuracy: 0.4271\n",
      "\n",
      "Epoch 00009: val_loss improved from 3.30089 to 3.23459, saving model to weights.doodles.hdf5\n",
      "Epoch 10/10\n",
      " - 311s - loss: 3.3109 - categorical_accuracy: 0.2180 - top_3_categorical_accuracy: 0.4055 - val_loss: 3.1657 - val_categorical_accuracy: 0.2502 - val_top_3_categorical_accuracy: 0.4461\n",
      "\n",
      "Epoch 00010: val_loss improved from 3.23459 to 3.16566, saving model to weights.doodles.hdf5\n"
     ]
    }
   ],
   "source": [
    "model = model()\n",
    "checkpointer = ModelCheckpoint(filepath='weights.doodles.hdf5',verbose=2,save_best_only=True)\n",
    "lr_reduction = ReduceLROnPlateau(monitor='val_loss',patience=5,verbose=2,factor=0.5)\n",
    "model.fit(x_train,y_train,epochs=10,batch_size=2048,verbose=2,\n",
    "          validation_data=(x_valid,y_valid),callbacks=[checkpointer,lr_reduction]);"
   ]
  },
  {
   "cell_type": "code",
   "execution_count": 66,
   "metadata": {},
   "outputs": [
    {
     "name": "stdout",
     "output_type": "stream",
     "text": [
      "16100/16100 [==============================] - 31s 2ms/step\n"
     ]
    },
    {
     "data": {
      "text/plain": [
       "[3.1237380614191848, 0.2562111801242236, 0.4546583850931677]"
      ]
     },
     "execution_count": 66,
     "metadata": {},
     "output_type": "execute_result"
    }
   ],
   "source": [
    "model.load_weights('weights.doodles.hdf5')\n",
    "score = model.evaluate(x_test,y_test)\n",
    "score"
   ]
  },
  {
   "cell_type": "code",
   "execution_count": 70,
   "metadata": {},
   "outputs": [],
   "source": [
    "test_predictions = model.predict(x_test)\n",
    "test_labels = [[ labels[i] for i in test_predictions[k].argsort()[-3:][::-1] ] \\\n",
    "               for k in range(len(test_predictions))]\n",
    "test_labels = [ \" \".join(test_labels[i]) for i in range(len(test_labels))]"
   ]
  },
  {
   "cell_type": "code",
   "execution_count": 74,
   "metadata": {},
   "outputs": [
    {
     "data": {
      "image/png": "[encoded data removed]",
      "text/plain": [
       "<Figure size 1080x360 with 3 Axes>"
      ]
     },
     "metadata": {},
     "output_type": "display_data"
    }
   ],
   "source": [
    "pylab.figure(figsize=(15,5))\n",
    "pylab.subplot(1,3,1); pylab.imshow(x_test[0].reshape(I,I),cmap=pylab.cm.Pastel1_r)\n",
    "pylab.subplot(1,3,2); pylab.imshow(x_test[5000].reshape(I,I),cmap=pylab.cm.Pastel1_r)\n",
    "pylab.subplot(1,3,3); pylab.imshow(x_test[10000].reshape(I,I),cmap=pylab.cm.Pastel1_r)\n",
    "pylab.suptitle('Pixel Images from Coordinates of Points');"
   ]
  },
  {
   "cell_type": "code",
   "execution_count": 71,
   "metadata": {},
   "outputs": [
    {
     "data": {
      "text/plain": [
       "('tractor pizza snail', 'elephant snail cow', 'light_bulb tooth necklace')"
      ]
     },
     "execution_count": 71,
     "metadata": {},
     "output_type": "execute_result"
    }
   ],
   "source": [
    "test_labels[0],test_labels[5000],test_labels[10000]"
   ]
  },
  {
   "cell_type": "code",
   "execution_count": 17,
   "metadata": {},
   "outputs": [],
   "source": [
    "def model():\n",
    "    model = Sequential()\n",
    "    \n",
    "    model.add(Conv2D(32,(5,5),padding='same',input_shape=x_train.shape[1:]))\n",
    "    model.add(LeakyReLU(alpha=0.02))\n",
    "    \n",
    "    model.add(MaxPooling2D(pool_size=(2,2)))\n",
    "    model.add(Dropout(0.2))\n",
    "\n",
    "    model.add(Conv2D(196,(5,5)))\n",
    "    model.add(LeakyReLU(alpha=0.02))\n",
    "    \n",
    "    model.add(MaxPooling2D(pool_size=(2,2)))\n",
    "    model.add(Dropout(0.2))\n",
    "\n",
    "    model.add(GlobalMaxPooling2D())\n",
    "    \n",
    "    model.add(Dense(1024))\n",
    "    model.add(LeakyReLU(alpha=0.02))\n",
    "    model.add(Dropout(0.5)) \n",
    "    \n",
    "    model.add(Dense(T))\n",
    "    model.add(Activation('softmax'))\n",
    "\n",
    "    model.compile(loss='categorical_crossentropy',optimizer='adam', \n",
    "                  metrics=[categorical_accuracy,top_3_categorical_accuracy])\n",
    "    return model"
   ]
  },
  {
   "cell_type": "code",
   "execution_count": 18,
   "metadata": {},
   "outputs": [
    {
     "name": "stdout",
     "output_type": "stream",
     "text": [
      "Train on 128800 samples, validate on 16100 samples\n",
      "Epoch 1/10\n",
      " - 878s - loss: 4.7150 - categorical_accuracy: 0.0377 - top_3_categorical_accuracy: 0.0901 - val_loss: 4.1871 - val_categorical_accuracy: 0.1140 - val_top_3_categorical_accuracy: 0.2388\n",
      "\n",
      "Epoch 00001: val_loss improved from inf to 4.18715, saving model to weights.doodles.hdf5\n",
      "Epoch 2/10\n",
      " - 746s - loss: 3.8190 - categorical_accuracy: 0.1426 - top_3_categorical_accuracy: 0.2848 - val_loss: 3.4658 - val_categorical_accuracy: 0.2435 - val_top_3_categorical_accuracy: 0.4177\n",
      "\n",
      "Epoch 00002: val_loss improved from 4.18715 to 3.46575, saving model to weights.doodles.hdf5\n",
      "Epoch 3/10\n",
      " - 734s - loss: 3.2787 - categorical_accuracy: 0.2370 - top_3_categorical_accuracy: 0.4223 - val_loss: 3.0389 - val_categorical_accuracy: 0.3148 - val_top_3_categorical_accuracy: 0.5055\n",
      "\n",
      "Epoch 00003: val_loss improved from 3.46575 to 3.03889, saving model to weights.doodles.hdf5\n",
      "Epoch 4/10\n",
      " - 721s - loss: 2.9364 - categorical_accuracy: 0.3060 - top_3_categorical_accuracy: 0.5043 - val_loss: 2.7629 - val_categorical_accuracy: 0.3702 - val_top_3_categorical_accuracy: 0.5781\n",
      "\n",
      "Epoch 00004: val_loss improved from 3.03889 to 2.76292, saving model to weights.doodles.hdf5\n",
      "Epoch 5/10\n",
      " - 708s - loss: 2.7095 - categorical_accuracy: 0.3506 - top_3_categorical_accuracy: 0.5582 - val_loss: 2.5712 - val_categorical_accuracy: 0.4100 - val_top_3_categorical_accuracy: 0.6133\n",
      "\n",
      "Epoch 00005: val_loss improved from 2.76292 to 2.57121, saving model to weights.doodles.hdf5\n",
      "Epoch 6/10\n",
      " - 752s - loss: 2.5458 - categorical_accuracy: 0.3851 - top_3_categorical_accuracy: 0.5935 - val_loss: 2.4308 - val_categorical_accuracy: 0.4349 - val_top_3_categorical_accuracy: 0.6420\n",
      "\n",
      "Epoch 00006: val_loss improved from 2.57121 to 2.43084, saving model to weights.doodles.hdf5\n",
      "Epoch 7/10\n",
      " - 872s - loss: 2.4275 - categorical_accuracy: 0.4099 - top_3_categorical_accuracy: 0.6200 - val_loss: 2.3249 - val_categorical_accuracy: 0.4527 - val_top_3_categorical_accuracy: 0.6599\n",
      "\n",
      "Epoch 00007: val_loss improved from 2.43084 to 2.32486, saving model to weights.doodles.hdf5\n",
      "Epoch 8/10\n",
      " - 806s - loss: 2.3339 - categorical_accuracy: 0.4286 - top_3_categorical_accuracy: 0.6399 - val_loss: 2.2477 - val_categorical_accuracy: 0.4689 - val_top_3_categorical_accuracy: 0.6727\n",
      "\n",
      "Epoch 00008: val_loss improved from 2.32486 to 2.24767, saving model to weights.doodles.hdf5\n",
      "Epoch 9/10\n",
      " - 761s - loss: 2.2604 - categorical_accuracy: 0.4451 - top_3_categorical_accuracy: 0.6572 - val_loss: 2.1854 - val_categorical_accuracy: 0.4824 - val_top_3_categorical_accuracy: 0.6871\n",
      "\n",
      "Epoch 00009: val_loss improved from 2.24767 to 2.18538, saving model to weights.doodles.hdf5\n",
      "Epoch 10/10\n",
      " - 902s - loss: 2.1881 - categorical_accuracy: 0.4588 - top_3_categorical_accuracy: 0.6715 - val_loss: 2.1295 - val_categorical_accuracy: 0.4948 - val_top_3_categorical_accuracy: 0.6964\n",
      "\n",
      "Epoch 00010: val_loss improved from 2.18538 to 2.12945, saving model to weights.doodles.hdf5\n"
     ]
    }
   ],
   "source": [
    "model = model()\n",
    "checkpointer = ModelCheckpoint(filepath='weights.doodles.hdf5',verbose=2,save_best_only=True)\n",
    "lr_reduction = ReduceLROnPlateau(monitor='val_loss',patience=5,verbose=2,factor=0.5)\n",
    "model.fit(x_train,y_train,epochs=10,batch_size=2048,verbose=2,\n",
    "          validation_data=(x_valid,y_valid),callbacks=[checkpointer,lr_reduction]);"
   ]
  },
  {
   "cell_type": "code",
   "execution_count": 19,
   "metadata": {},
   "outputs": [
    {
     "name": "stdout",
     "output_type": "stream",
     "text": [
      "16100/16100 [==============================] - 25s 2ms/step\n"
     ]
    },
    {
     "data": {
      "text/plain": [
       "[2.0842304700650045, 0.5109316770186335, 0.7093788819875776]"
      ]
     },
     "execution_count": 19,
     "metadata": {},
     "output_type": "execute_result"
    }
   ],
   "source": [
    "model.load_weights('weights.doodles.hdf5')\n",
    "score = model.evaluate(x_test,y_test)\n",
    "score"
   ]
  },
  {
   "cell_type": "code",
   "execution_count": 20,
   "metadata": {},
   "outputs": [],
   "source": [
    "test_predictions = model.predict(x_test)\n",
    "test_labels = [[ labels[i] for i in test_predictions[k].argsort()[-3:][::-1] ] \\\n",
    "               for k in range(len(test_predictions))]\n",
    "test_labels = [ \" \".join(test_labels[i]) for i in range(len(test_labels))]"
   ]
  },
  {
   "cell_type": "code",
   "execution_count": 24,
   "metadata": {},
   "outputs": [
    {
     "data": {
      "image/png": "[encoded data removed]",
      "text/plain": [
       "<Figure size 1080x360 with 3 Axes>"
      ]
     },
     "metadata": {},
     "output_type": "display_data"
    }
   ],
   "source": [
    "pylab.figure(figsize=(15,5))\n",
    "pylab.subplot(1,3,1); pylab.imshow(x_test[1].reshape(I,I),cmap=pylab.cm.Pastel1_r)\n",
    "pylab.subplot(1,3,2); pylab.imshow(x_test[6000].reshape(I,I),cmap=pylab.cm.Pastel1_r)\n",
    "pylab.subplot(1,3,3); pylab.imshow(x_test[12000].reshape(I,I),cmap=pylab.cm.Pastel1_r)\n",
    "pylab.suptitle('Pixel Images from Coordinates of Points');"
   ]
  },
  {
   "cell_type": "code",
   "execution_count": 23,
   "metadata": {},
   "outputs": [
    {
     "data": {
      "text/plain": [
       "('tractor owl car', 'barn house pizza', 'toothbrush garden clarinet')"
      ]
     },
     "execution_count": 23,
     "metadata": {},
     "output_type": "execute_result"
    }
   ],
   "source": [
    "test_labels[1],test_labels[6000],test_labels[12000]"
   ]
  },
  {
   "cell_type": "code",
   "execution_count": null,
   "metadata": {},
   "outputs": [],
   "source": []
  }
 ],
 "metadata": {
  "kernelspec": {
   "display_name": "Python 3",
   "language": "python",
   "name": "python3"
  },
  "language_info": {
   "codemirror_mode": {
    "name": "ipython",
    "version": 3
   },
   "file_extension": ".py",
   "mimetype": "text/x-python",
   "name": "python",
   "nbconvert_exporter": "python",
   "pygments_lexer": "ipython3",
   "version": "3.6.4"
  }
 },
 "nbformat": 4,
 "nbformat_minor": 2
}
