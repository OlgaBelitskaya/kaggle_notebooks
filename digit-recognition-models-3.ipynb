{
 "cells": [
  {
   "cell_type": "markdown",
   "metadata": {
    "_uuid": "98c745d706d19316f8d930f4a03600d0868437cc"
   },
   "source": [
    "<h1 class='font-effect-3d' style='font-family:Monoton; color:#ff00cc;'>Python Modules, Styling, and Helpful Functions</h1>"
   ]
  },
  {
   "cell_type": "code",
   "execution_count": 1,
   "metadata": {
    "_kg_hide-input": true
   },
   "outputs": [
    {
     "data": {
      "text/html": [
       "<style> \n",
       "@import url('https://fonts.googleapis.com/css?family=Monoton|Roboto&effect=3d'); \n",
       "h1 {text-shadow:4px 4px 4px #aaa;} \n",
       "span {font-family:Roboto; color:midnightblue; text-shadow:4px 4px 4px #aaa;}\n",
       "div.output_prompt {color:#ff6eff;}\n",
       "div.input_prompt {color:#ff00cc;} \n",
       "div.output_area pre,div.output_subarea {font-family:Roboto; font-size:15px; color:#ff6eff;}\n",
       "div.output_stderr pre {background-color:ghostwhite;}\n",
       "</style>"
      ],
      "text/plain": [
       "<IPython.core.display.HTML object>"
      ]
     },
     "metadata": {},
     "output_type": "display_data"
    }
   ],
   "source": [
    "%%html\n",
    "<style> \n",
    "@import url('https://fonts.googleapis.com/css?family=Monoton|Roboto&effect=3d'); \n",
    "h1 {text-shadow:4px 4px 4px #aaa;} \n",
    "span {font-family:Roboto; color:midnightblue; text-shadow:4px 4px 4px #aaa;}\n",
    "div.output_prompt {color:#ff6eff;}\n",
    "div.input_prompt {color:#ff00cc;} \n",
    "div.output_area pre,div.output_subarea {font-family:Roboto; font-size:15px; color:#ff6eff;}\n",
    "div.output_stderr pre {background-color:ghostwhite;}\n",
    "</style>"
   ]
  },
  {
   "cell_type": "code",
   "execution_count": 2,
   "metadata": {
    "_cell_guid": "30178858-fae9-492e-990c-4849dcefedce",
    "_uuid": "6af373a6197374f9576f8434f4329119a2022032",
    "collapsed": true
   },
   "outputs": [],
   "source": [
    "import warnings; warnings.filterwarnings('ignore')\n",
    "import pandas as pd,numpy as np,xgboost as xgb\n",
    "import pylab as pl,seaborn as sn\n",
    "from sklearn.model_selection import train_test_split\n",
    "from sklearn.preprocessing import OneHotEncoder\n",
    "from sklearn import metrics,neighbors,ensemble\n",
    "N1,N2=10**4,10**3"
   ]
  },
  {
   "cell_type": "code",
   "execution_count": 3,
   "metadata": {
    "_kg_hide-input": true,
    "_uuid": "25930bcb478b8fe54c3ef3a6df74188f7d4010db",
    "collapsed": true
   },
   "outputs": [],
   "source": [
    "def ohe(x): \n",
    "    return OneHotEncoder(n_values='auto').fit(x.reshape(-1,1))\\\n",
    "           .transform(x.reshape(-1,1)).toarray().astype('int64')\n",
    "def tts(X,y): \n",
    "    x_train,x_test,y_train,y_test=\\\n",
    "    train_test_split(X,y,test_size=.2,random_state=1)\n",
    "    n=int(len(x_test)/2)\n",
    "    x_valid,y_valid=x_test[:n],y_test[:n]\n",
    "    x_test,y_test=x_test[n:],y_test[n:]\n",
    "    return x_train,x_valid,x_test,y_train,y_valid,y_test\n",
    "def deprocess(x):\n",
    "    x=(x/2+.5)*255\n",
    "    x=np.clip(x,0,255)\n",
    "    x=np.uint8(x)\n",
    "    return x.reshape(28,28)\n",
    "def display_images(images):\n",
    "    n_images=len(images)\n",
    "    rows=4; cols=n_images//rows    \n",
    "    pl.figure(figsize=(cols,rows))    \n",
    "    for i in range(n_images):\n",
    "        img=deprocess(images[i])\n",
    "        pl.subplot(rows,cols,i+1)\n",
    "        pl.imshow(img,cmap=pl.cm.bone)\n",
    "        pl.xticks([]); pl.yticks([])\n",
    "    pl.tight_layout(); pl.show()"
   ]
  },
  {
   "cell_type": "markdown",
   "metadata": {
    "_uuid": "8da2f1ca4ee909b5e94b296a6452412189e34910"
   },
   "source": [
    "<h1 class='font-effect-3d' style='font-family:Monoton; color:#ff00cc;'> Data Loading and Preprocessing</h1>"
   ]
  },
  {
   "cell_type": "code",
   "execution_count": 4,
   "metadata": {
    "_uuid": "10a3f405dc9a00215c158242898995f6f8a0b010"
   },
   "outputs": [
    {
     "data": {
      "text/plain": [
       "((42000,), (42000, 10), (42000, 784))"
      ]
     },
     "execution_count": 4,
     "metadata": {},
     "output_type": "execute_result"
    }
   ],
   "source": [
    "train=pd.read_csv(\"../input/train.csv\")\n",
    "train_labels=train[\"label\"].values.astype('int16')\n",
    "ctrain_labels=ohe(train_labels)\n",
    "train_images=train.drop(labels=[\"label\"],axis=1) \n",
    "train_images=train_images.values.astype('float32')/255\n",
    "train_images=(train_images-.5)*2\n",
    "train_labels.shape,ctrain_labels.shape,train_images.shape"
   ]
  },
  {
   "cell_type": "code",
   "execution_count": 5,
   "metadata": {
    "_uuid": "3931c05528f5b3015b44963099a135bde8c72bfb"
   },
   "outputs": [
    {
     "data": {
      "image/png": "[encoded data removed]",
      "text/plain": [
       "<matplotlib.figure.Figure at 0x7f4fc5567f28>"
      ]
     },
     "metadata": {},
     "output_type": "display_data"
    }
   ],
   "source": [
    "pl.figure(figsize=(12,3))\n",
    "sn.countplot(train_labels,palette=\"cool\")\n",
    "pl.title('Distribution of Train Labels');"
   ]
  },
  {
   "cell_type": "code",
   "execution_count": 6,
   "metadata": {
    "_uuid": "e08f8778e7bbec1707a70cdb85d13af577b75b6e"
   },
   "outputs": [
    {
     "data": {
      "text/html": [
       "<div>\n",
       "<style scoped>\n",
       "    .dataframe tbody tr th:only-of-type {\n",
       "        vertical-align: middle;\n",
       "    }\n",
       "\n",
       "    .dataframe tbody tr th {\n",
       "        vertical-align: top;\n",
       "    }\n",
       "\n",
       "    .dataframe thead th {\n",
       "        text-align: right;\n",
       "    }\n",
       "</style>\n",
       "<table border=\"1\" class=\"dataframe\">\n",
       "  <thead>\n",
       "    <tr style=\"text-align: right;\">\n",
       "      <th></th>\n",
       "      <th>0</th>\n",
       "      <th>1</th>\n",
       "    </tr>\n",
       "  </thead>\n",
       "  <tbody>\n",
       "    <tr>\n",
       "      <th>0</th>\n",
       "      <td>33600</td>\n",
       "      <td>784</td>\n",
       "    </tr>\n",
       "    <tr>\n",
       "      <th>1</th>\n",
       "      <td>4200</td>\n",
       "      <td>784</td>\n",
       "    </tr>\n",
       "    <tr>\n",
       "      <th>2</th>\n",
       "      <td>4200</td>\n",
       "      <td>784</td>\n",
       "    </tr>\n",
       "    <tr>\n",
       "      <th>3</th>\n",
       "      <td>33600</td>\n",
       "      <td>10</td>\n",
       "    </tr>\n",
       "    <tr>\n",
       "      <th>4</th>\n",
       "      <td>4200</td>\n",
       "      <td>10</td>\n",
       "    </tr>\n",
       "    <tr>\n",
       "      <th>5</th>\n",
       "      <td>4200</td>\n",
       "      <td>10</td>\n",
       "    </tr>\n",
       "  </tbody>\n",
       "</table>\n",
       "</div>"
      ],
      "text/plain": [
       "       0    1\n",
       "0  33600  784\n",
       "1   4200  784\n",
       "2   4200  784\n",
       "3  33600   10\n",
       "4   4200   10\n",
       "5   4200   10"
      ]
     },
     "execution_count": 6,
     "metadata": {},
     "output_type": "execute_result"
    }
   ],
   "source": [
    "x_train,x_valid,x_test,\\\n",
    "y_train,y_valid,y_test=tts(train_images,ctrain_labels)\n",
    "ny_train=np.array([np.argmax(y) for y in y_train])\n",
    "ny_valid=np.array([np.argmax(y) for y in y_valid])\n",
    "ny_test=np.array([np.argmax(y) for y in y_test])\n",
    "x_train2,x_valid2,x_test2=x_train[:N1],x_valid[:N2],x_test[:N2]\n",
    "y_train2,y_valid2,y_test2=y_train[:N1],y_valid[:N2],y_test[:N2]\n",
    "ny_train2,ny_valid2,ny_test2=ny_train[:N1],ny_valid[:N2],ny_test[:N2]\n",
    "sh=[el.shape for el in [x_train,x_valid,x_test,\n",
    "                        y_train,y_valid,y_test]]\n",
    "pd.DataFrame(sh)"
   ]
  },
  {
   "cell_type": "code",
   "execution_count": 7,
   "metadata": {},
   "outputs": [
    {
     "data": {
      "image/png": "[encoded data removed]",
      "text/plain": [
       "<matplotlib.figure.Figure at 0x7f4fa3423be0>"
      ]
     },
     "metadata": {},
     "output_type": "display_data"
    }
   ],
   "source": [
    "display_images(x_train[:32])"
   ]
  },
  {
   "cell_type": "markdown",
   "metadata": {
    "_uuid": "8b12da6b1723e6997d475f0958a82f052a34f944"
   },
   "source": [
    "<h1 class='font-effect-3d' style='font-family:Monoton; color:#ff00cc;'>Neighbors & Ensemble Classifiers</h1>"
   ]
  },
  {
   "cell_type": "code",
   "execution_count": 8,
   "metadata": {
    "_uuid": "a7f9696504cb272fd1424a8e7d6fcf3b05beb969",
    "collapsed": true
   },
   "outputs": [],
   "source": [
    "classifier_list,classifier_names,clf_datasets=[],[],[]\n",
    "acc_train,acc_test,loss_train,loss_test=[],[],[],[]"
   ]
  },
  {
   "cell_type": "code",
   "execution_count": 9,
   "metadata": {
    "_uuid": "54aeb7463ffa061021c2f574bec0ba66e5d57bc6",
    "collapsed": true
   },
   "outputs": [],
   "source": [
    "def classifier_fit_score(classifier,classifier_name,clf_dataset, \n",
    "                         x_train,x_test,y_train,y_test):    \n",
    "    classifier_list.append(str(classifier))\n",
    "    classifier_names.append(str(classifier_name))\n",
    "    clf_datasets.append(str(clf_dataset))    \n",
    "    clf=classifier; clf.fit(x_train,y_train)    \n",
    "    y_clf_train=clf.predict(x_train)\n",
    "    y_clf_test=clf.predict(x_test)        \n",
    "    acc_clf_train=round(metrics.accuracy_score(y_train,y_clf_train),6)\n",
    "    acc_train.append(acc_clf_train)\n",
    "    acc_clf_test=round(metrics.accuracy_score(y_test,y_clf_test),6)\n",
    "    acc_test.append(acc_clf_test)   \n",
    "    loss_clf_train=round(metrics.hamming_loss(y_train,y_clf_train),4)\n",
    "    loss_train.append(loss_clf_train)\n",
    "    loss_clf_test = round(metrics.hamming_loss(y_test,y_clf_test),4)\n",
    "    loss_test.append(loss_clf_test)    \n",
    "    return [y_clf_train,y_clf_test,acc_clf_train,acc_clf_test, \n",
    "            loss_clf_train,loss_clf_test]"
   ]
  },
  {
   "cell_type": "code",
   "execution_count": 10,
   "metadata": {
    "_uuid": "1acbadad0218fc0a760cca2e190d1acce012a4aa",
    "collapsed": true
   },
   "outputs": [],
   "source": [
    "def get_classifier_results():\n",
    "    results={'classifier':classifier_list,'classifier_name':classifier_names,\n",
    "            'clf_dataset':clf_datasets,'acc_train':acc_train,'acc_test':acc_test,\n",
    "            'loss_train':loss_train,'loss_test':loss_test}\n",
    "    df_results=pd.DataFrame(results)   \n",
    "    df_list=['classifier_name','acc_train','acc_test','loss_train','loss_test']               \n",
    "    return df_results,df_results[df_list]"
   ]
  },
  {
   "cell_type": "code",
   "execution_count": 11,
   "metadata": {
    "_uuid": "d06342696f74d57ad7d73cc050f9e7ee929409f8",
    "collapsed": true
   },
   "outputs": [],
   "source": [
    "clf1=neighbors.KNeighborsClassifier()\n",
    "clf2=ensemble.RandomForestClassifier(n_estimators=64,max_depth=11) \n",
    "clf3=ensemble.GradientBoostingClassifier()"
   ]
  },
  {
   "cell_type": "code",
   "execution_count": 12,
   "metadata": {
    "_uuid": "06a634f06ac8c8777df42b86e04380ffa733ec5e",
    "collapsed": true
   },
   "outputs": [],
   "source": [
    "y_knc_train,y_knc_test=\\\n",
    "classifier_fit_score(clf1,'KNeighborsClassifier','digits',\n",
    "                     x_train2,x_test2,ny_train2,ny_test2)[:2]"
   ]
  },
  {
   "cell_type": "code",
   "execution_count": 13,
   "metadata": {
    "_uuid": "7214f957d95831693e26cdeffbe19675ff9f8a02",
    "collapsed": true
   },
   "outputs": [],
   "source": [
    "y_rfc_train,y_rfc_test=\\\n",
    "classifier_fit_score(clf2,'RandomForestClassifier','digits',\n",
    "                     x_train2,x_test2,ny_train2,ny_test2)[:2]"
   ]
  },
  {
   "cell_type": "code",
   "execution_count": 14,
   "metadata": {
    "_uuid": "71ee101649ede859ddc56a60c8417e667f354c0c",
    "collapsed": true
   },
   "outputs": [],
   "source": [
    "y_gbc_train,y_gbc_test=\\\n",
    "classifier_fit_score(clf3,'GradientBoostingClassifier','digits',\n",
    "                     x_train2,x_test2,ny_train2,ny_test2)[:2]"
   ]
  },
  {
   "cell_type": "markdown",
   "metadata": {},
   "source": [
    "<h1 class='font-effect-3d' style='font-family:Monoton; color:#ff00cc;'>Classification  Results</h1>"
   ]
  },
  {
   "cell_type": "code",
   "execution_count": 15,
   "metadata": {
    "_kg_hide-output": true,
    "_uuid": "b29a3170d4c43d7d5c84883b01cca04a937443f4"
   },
   "outputs": [
    {
     "data": {
      "text/html": [
       "<div>\n",
       "<style scoped>\n",
       "    .dataframe tbody tr th:only-of-type {\n",
       "        vertical-align: middle;\n",
       "    }\n",
       "\n",
       "    .dataframe tbody tr th {\n",
       "        vertical-align: top;\n",
       "    }\n",
       "\n",
       "    .dataframe thead th {\n",
       "        text-align: right;\n",
       "    }\n",
       "</style>\n",
       "<table border=\"1\" class=\"dataframe\">\n",
       "  <thead>\n",
       "    <tr style=\"text-align: right;\">\n",
       "      <th></th>\n",
       "      <th>classifier_name</th>\n",
       "      <th>acc_train</th>\n",
       "      <th>acc_test</th>\n",
       "      <th>loss_train</th>\n",
       "      <th>loss_test</th>\n",
       "    </tr>\n",
       "  </thead>\n",
       "  <tbody>\n",
       "    <tr>\n",
       "      <th>1</th>\n",
       "      <td>RandomForestClassifier</td>\n",
       "      <td>0.9953</td>\n",
       "      <td>0.948</td>\n",
       "      <td>0.0047</td>\n",
       "      <td>0.052</td>\n",
       "    </tr>\n",
       "    <tr>\n",
       "      <th>0</th>\n",
       "      <td>KNeighborsClassifier</td>\n",
       "      <td>0.9685</td>\n",
       "      <td>0.943</td>\n",
       "      <td>0.0315</td>\n",
       "      <td>0.057</td>\n",
       "    </tr>\n",
       "    <tr>\n",
       "      <th>2</th>\n",
       "      <td>GradientBoostingClassifier</td>\n",
       "      <td>0.9919</td>\n",
       "      <td>0.933</td>\n",
       "      <td>0.0081</td>\n",
       "      <td>0.067</td>\n",
       "    </tr>\n",
       "  </tbody>\n",
       "</table>\n",
       "</div>"
      ],
      "text/plain": [
       "              classifier_name  acc_train  acc_test  loss_train  loss_test\n",
       "1      RandomForestClassifier     0.9953     0.948      0.0047      0.052\n",
       "0        KNeighborsClassifier     0.9685     0.943      0.0315      0.057\n",
       "2  GradientBoostingClassifier     0.9919     0.933      0.0081      0.067"
      ]
     },
     "execution_count": 15,
     "metadata": {},
     "output_type": "execute_result"
    }
   ],
   "source": [
    "df_results,df_results2=get_classifier_results()\n",
    "df_results2.sort_values('acc_test',ascending=False)"
   ]
  },
  {
   "cell_type": "code",
   "execution_count": 16,
   "metadata": {
    "_uuid": "196edee78885790c6006be58ed8675898f8bca9d"
   },
   "outputs": [
    {
     "data": {
      "image/png": "[encoded data removed]",
      "text/plain": [
       "<matplotlib.figure.Figure at 0x7f4fa17e8da0>"
      ]
     },
     "metadata": {},
     "output_type": "display_data"
    }
   ],
   "source": [
    "pl.figure(figsize=(12,8)); n=100; x=range(n)\n",
    "pl.scatter(x,ny_test2[:n],marker='*',s=240, \n",
    "            color='slategray',alpha=.7,label='Real data')\n",
    "pl.scatter(x,y_knc_test[:n],marker='s',s=60, \n",
    "            color='purple',label='K Neighbors Classifier')\n",
    "pl.scatter(x,y_rfc_test[:n],marker='v',s=40, \n",
    "color='darkblue',label='Random Forest Classifier')\n",
    "pl.scatter(x,y_gbc_test[:n],marker='o',s=20, \n",
    "color='magenta',label='Gradient Boosting Classifier')\n",
    "pl.xlabel('Observations',fontsize=12)\n",
    "pl.ylabel('Targets',fontsize=12)\n",
    "pl.title('Classifiers. Test Data',fontsize=15)\n",
    "pl.legend(bbox_to_anchor=[1.,.6],fontsize=12);"
   ]
  },
  {
   "cell_type": "markdown",
   "metadata": {},
   "source": [
    "<h1 class='font-effect-3d' style='font-family:Monoton; color:#ff00cc;'>XGB Classifier</h1>"
   ]
  },
  {
   "cell_type": "code",
   "execution_count": 17,
   "metadata": {
    "_kg_hide-output": true
   },
   "outputs": [
    {
     "name": "stdout",
     "output_type": "stream",
     "text": [
      "[0]\tvalidation_0-mlogloss:1.90562\tvalidation_1-mlogloss:1.95292\n",
      "[1]\tvalidation_0-mlogloss:1.63875\tvalidation_1-mlogloss:1.72303\n",
      "[2]\tvalidation_0-mlogloss:1.43657\tvalidation_1-mlogloss:1.54618\n",
      "[3]\tvalidation_0-mlogloss:1.27295\tvalidation_1-mlogloss:1.40422\n",
      "[4]\tvalidation_0-mlogloss:1.13589\tvalidation_1-mlogloss:1.28516\n",
      "[5]\tvalidation_0-mlogloss:1.01894\tvalidation_1-mlogloss:1.18259\n",
      "[6]\tvalidation_0-mlogloss:0.917476\tvalidation_1-mlogloss:1.09382\n",
      "[7]\tvalidation_0-mlogloss:0.828662\tvalidation_1-mlogloss:1.0163\n",
      "[8]\tvalidation_0-mlogloss:0.750642\tvalidation_1-mlogloss:0.947555\n",
      "[9]\tvalidation_0-mlogloss:0.681203\tvalidation_1-mlogloss:0.886784\n",
      "[10]\tvalidation_0-mlogloss:0.619578\tvalidation_1-mlogloss:0.833934\n",
      "[11]\tvalidation_0-mlogloss:0.563726\tvalidation_1-mlogloss:0.784754\n",
      "[12]\tvalidation_0-mlogloss:0.513757\tvalidation_1-mlogloss:0.741359\n",
      "[13]\tvalidation_0-mlogloss:0.468601\tvalidation_1-mlogloss:0.701397\n",
      "[14]\tvalidation_0-mlogloss:0.428183\tvalidation_1-mlogloss:0.665161\n",
      "[15]\tvalidation_0-mlogloss:0.391577\tvalidation_1-mlogloss:0.632274\n",
      "[16]\tvalidation_0-mlogloss:0.358326\tvalidation_1-mlogloss:0.601513\n",
      "[17]\tvalidation_0-mlogloss:0.328241\tvalidation_1-mlogloss:0.573028\n",
      "[18]\tvalidation_0-mlogloss:0.300928\tvalidation_1-mlogloss:0.54699\n",
      "[19]\tvalidation_0-mlogloss:0.276101\tvalidation_1-mlogloss:0.522679\n",
      "[20]\tvalidation_0-mlogloss:0.253333\tvalidation_1-mlogloss:0.500294\n",
      "[21]\tvalidation_0-mlogloss:0.23273\tvalidation_1-mlogloss:0.479764\n",
      "[22]\tvalidation_0-mlogloss:0.214121\tvalidation_1-mlogloss:0.4603\n",
      "[23]\tvalidation_0-mlogloss:0.197045\tvalidation_1-mlogloss:0.442032\n",
      "[24]\tvalidation_0-mlogloss:0.181415\tvalidation_1-mlogloss:0.425169\n",
      "[25]\tvalidation_0-mlogloss:0.167193\tvalidation_1-mlogloss:0.410412\n",
      "[26]\tvalidation_0-mlogloss:0.154291\tvalidation_1-mlogloss:0.396248\n",
      "[27]\tvalidation_0-mlogloss:0.142371\tvalidation_1-mlogloss:0.383052\n",
      "[28]\tvalidation_0-mlogloss:0.131434\tvalidation_1-mlogloss:0.371308\n",
      "[29]\tvalidation_0-mlogloss:0.121494\tvalidation_1-mlogloss:0.360004\n",
      "[30]\tvalidation_0-mlogloss:0.112348\tvalidation_1-mlogloss:0.349951\n",
      "[31]\tvalidation_0-mlogloss:0.104025\tvalidation_1-mlogloss:0.340163\n",
      "[32]\tvalidation_0-mlogloss:0.09644\tvalidation_1-mlogloss:0.331519\n",
      "[33]\tvalidation_0-mlogloss:0.089466\tvalidation_1-mlogloss:0.323486\n",
      "[34]\tvalidation_0-mlogloss:0.083106\tvalidation_1-mlogloss:0.315851\n",
      "[35]\tvalidation_0-mlogloss:0.07729\tvalidation_1-mlogloss:0.308729\n",
      "[36]\tvalidation_0-mlogloss:0.071927\tvalidation_1-mlogloss:0.301774\n",
      "[37]\tvalidation_0-mlogloss:0.067042\tvalidation_1-mlogloss:0.294993\n",
      "[38]\tvalidation_0-mlogloss:0.062509\tvalidation_1-mlogloss:0.2898\n",
      "[39]\tvalidation_0-mlogloss:0.058393\tvalidation_1-mlogloss:0.283424\n",
      "[40]\tvalidation_0-mlogloss:0.054569\tvalidation_1-mlogloss:0.27884\n",
      "[41]\tvalidation_0-mlogloss:0.051094\tvalidation_1-mlogloss:0.273842\n",
      "[42]\tvalidation_0-mlogloss:0.047867\tvalidation_1-mlogloss:0.269613\n",
      "[43]\tvalidation_0-mlogloss:0.044908\tvalidation_1-mlogloss:0.265885\n",
      "[44]\tvalidation_0-mlogloss:0.042175\tvalidation_1-mlogloss:0.262332\n",
      "[45]\tvalidation_0-mlogloss:0.039694\tvalidation_1-mlogloss:0.258765\n",
      "[46]\tvalidation_0-mlogloss:0.037375\tvalidation_1-mlogloss:0.255297\n",
      "[47]\tvalidation_0-mlogloss:0.035256\tvalidation_1-mlogloss:0.251836\n",
      "[48]\tvalidation_0-mlogloss:0.033267\tvalidation_1-mlogloss:0.248683\n",
      "[49]\tvalidation_0-mlogloss:0.031434\tvalidation_1-mlogloss:0.246149\n",
      "[50]\tvalidation_0-mlogloss:0.029739\tvalidation_1-mlogloss:0.24357\n",
      "[51]\tvalidation_0-mlogloss:0.028164\tvalidation_1-mlogloss:0.241318\n",
      "[52]\tvalidation_0-mlogloss:0.02672\tvalidation_1-mlogloss:0.238972\n",
      "[53]\tvalidation_0-mlogloss:0.025374\tvalidation_1-mlogloss:0.236883\n",
      "[54]\tvalidation_0-mlogloss:0.02408\tvalidation_1-mlogloss:0.234673\n",
      "[55]\tvalidation_0-mlogloss:0.022922\tvalidation_1-mlogloss:0.232582\n",
      "[56]\tvalidation_0-mlogloss:0.021832\tvalidation_1-mlogloss:0.230309\n",
      "[57]\tvalidation_0-mlogloss:0.020798\tvalidation_1-mlogloss:0.228414\n",
      "[58]\tvalidation_0-mlogloss:0.019838\tvalidation_1-mlogloss:0.227021\n",
      "[59]\tvalidation_0-mlogloss:0.018943\tvalidation_1-mlogloss:0.225155\n",
      "[60]\tvalidation_0-mlogloss:0.018118\tvalidation_1-mlogloss:0.223367\n",
      "[61]\tvalidation_0-mlogloss:0.017326\tvalidation_1-mlogloss:0.221804\n",
      "[62]\tvalidation_0-mlogloss:0.016615\tvalidation_1-mlogloss:0.220208\n",
      "[63]\tvalidation_0-mlogloss:0.015931\tvalidation_1-mlogloss:0.218818\n",
      "[64]\tvalidation_0-mlogloss:0.015281\tvalidation_1-mlogloss:0.217654\n",
      "[65]\tvalidation_0-mlogloss:0.014673\tvalidation_1-mlogloss:0.216295\n",
      "[66]\tvalidation_0-mlogloss:0.014113\tvalidation_1-mlogloss:0.21486\n",
      "[67]\tvalidation_0-mlogloss:0.013579\tvalidation_1-mlogloss:0.21412\n",
      "[68]\tvalidation_0-mlogloss:0.013087\tvalidation_1-mlogloss:0.213346\n",
      "[69]\tvalidation_0-mlogloss:0.012615\tvalidation_1-mlogloss:0.212147\n",
      "[70]\tvalidation_0-mlogloss:0.012153\tvalidation_1-mlogloss:0.210588\n",
      "[71]\tvalidation_0-mlogloss:0.011724\tvalidation_1-mlogloss:0.209436\n",
      "[72]\tvalidation_0-mlogloss:0.011329\tvalidation_1-mlogloss:0.208686\n",
      "[73]\tvalidation_0-mlogloss:0.010962\tvalidation_1-mlogloss:0.207828\n",
      "[74]\tvalidation_0-mlogloss:0.010599\tvalidation_1-mlogloss:0.206929\n",
      "[75]\tvalidation_0-mlogloss:0.010272\tvalidation_1-mlogloss:0.206315\n",
      "[76]\tvalidation_0-mlogloss:0.009958\tvalidation_1-mlogloss:0.205628\n",
      "[77]\tvalidation_0-mlogloss:0.009666\tvalidation_1-mlogloss:0.204922\n",
      "[78]\tvalidation_0-mlogloss:0.009377\tvalidation_1-mlogloss:0.203923\n",
      "[79]\tvalidation_0-mlogloss:0.00911\tvalidation_1-mlogloss:0.20345\n",
      "[80]\tvalidation_0-mlogloss:0.008859\tvalidation_1-mlogloss:0.202786\n",
      "[81]\tvalidation_0-mlogloss:0.008606\tvalidation_1-mlogloss:0.202109\n",
      "[82]\tvalidation_0-mlogloss:0.008371\tvalidation_1-mlogloss:0.201036\n",
      "[83]\tvalidation_0-mlogloss:0.008148\tvalidation_1-mlogloss:0.200265\n",
      "[84]\tvalidation_0-mlogloss:0.007942\tvalidation_1-mlogloss:0.199726\n",
      "[85]\tvalidation_0-mlogloss:0.00773\tvalidation_1-mlogloss:0.198824\n",
      "[86]\tvalidation_0-mlogloss:0.007539\tvalidation_1-mlogloss:0.198494\n",
      "[87]\tvalidation_0-mlogloss:0.007341\tvalidation_1-mlogloss:0.197527\n",
      "[88]\tvalidation_0-mlogloss:0.007168\tvalidation_1-mlogloss:0.196871\n",
      "[89]\tvalidation_0-mlogloss:0.006993\tvalidation_1-mlogloss:0.196088\n",
      "[90]\tvalidation_0-mlogloss:0.006837\tvalidation_1-mlogloss:0.195522\n",
      "[91]\tvalidation_0-mlogloss:0.00668\tvalidation_1-mlogloss:0.195034\n",
      "[92]\tvalidation_0-mlogloss:0.00653\tvalidation_1-mlogloss:0.194495\n",
      "[93]\tvalidation_0-mlogloss:0.006392\tvalidation_1-mlogloss:0.193989\n",
      "[94]\tvalidation_0-mlogloss:0.006257\tvalidation_1-mlogloss:0.193565\n",
      "[95]\tvalidation_0-mlogloss:0.006125\tvalidation_1-mlogloss:0.193251\n",
      "[96]\tvalidation_0-mlogloss:0.005998\tvalidation_1-mlogloss:0.193031\n",
      "[97]\tvalidation_0-mlogloss:0.005876\tvalidation_1-mlogloss:0.192805\n",
      "[98]\tvalidation_0-mlogloss:0.005764\tvalidation_1-mlogloss:0.192413\n",
      "[99]\tvalidation_0-mlogloss:0.005657\tvalidation_1-mlogloss:0.192158\n",
      "{'validation_0': {'mlogloss': [1.905622, 1.638747, 1.436575, 1.272948, 1.135893, 1.018939, 0.917476, 0.828662, 0.750642, 0.681203, 0.619578, 0.563726, 0.513757, 0.468601, 0.428183, 0.391577, 0.358326, 0.328241, 0.300928, 0.276101, 0.253333, 0.23273, 0.214121, 0.197045, 0.181415, 0.167193, 0.154291, 0.142371, 0.131434, 0.121494, 0.112348, 0.104025, 0.09644, 0.089466, 0.083106, 0.07729, 0.071927, 0.067042, 0.062509, 0.058393, 0.054569, 0.051094, 0.047867, 0.044908, 0.042175, 0.039694, 0.037375, 0.035256, 0.033267, 0.031434, 0.029739, 0.028164, 0.02672, 0.025374, 0.02408, 0.022922, 0.021832, 0.020798, 0.019838, 0.018943, 0.018118, 0.017326, 0.016615, 0.015931, 0.015281, 0.014673, 0.014113, 0.013579, 0.013087, 0.012615, 0.012153, 0.011724, 0.011329, 0.010962, 0.010599, 0.010272, 0.009958, 0.009666, 0.009377, 0.00911, 0.008859, 0.008606, 0.008371, 0.008148, 0.007942, 0.00773, 0.007539, 0.007341, 0.007168, 0.006993, 0.006837, 0.00668, 0.00653, 0.006392, 0.006257, 0.006125, 0.005998, 0.005876, 0.005764, 0.005657]}, 'validation_1': {'mlogloss': [1.952923, 1.723032, 1.54618, 1.40422, 1.285161, 1.182593, 1.093816, 1.0163, 0.947555, 0.886784, 0.833934, 0.784754, 0.741359, 0.701397, 0.665161, 0.632274, 0.601513, 0.573028, 0.54699, 0.522679, 0.500294, 0.479764, 0.4603, 0.442032, 0.425169, 0.410412, 0.396248, 0.383052, 0.371308, 0.360004, 0.349951, 0.340163, 0.331519, 0.323486, 0.315851, 0.308729, 0.301774, 0.294993, 0.2898, 0.283424, 0.27884, 0.273842, 0.269613, 0.265885, 0.262332, 0.258765, 0.255297, 0.251836, 0.248683, 0.246149, 0.24357, 0.241318, 0.238972, 0.236883, 0.234673, 0.232582, 0.230309, 0.228414, 0.227021, 0.225155, 0.223367, 0.221804, 0.220208, 0.218818, 0.217654, 0.216295, 0.21486, 0.21412, 0.213346, 0.212147, 0.210588, 0.209436, 0.208686, 0.207828, 0.206929, 0.206315, 0.205628, 0.204922, 0.203923, 0.20345, 0.202786, 0.202109, 0.201036, 0.200265, 0.199726, 0.198824, 0.198494, 0.197527, 0.196871, 0.196088, 0.195522, 0.195034, 0.194495, 0.193989, 0.193565, 0.193251, 0.193031, 0.192805, 0.192413, 0.192158]}}\n"
     ]
    }
   ],
   "source": [
    "clf=xgb.XGBClassifier(objective=\"multi:softprob\",verbosity=2,\n",
    "                      random_state=42,max_depth=11)\n",
    "clf.fit(x_train2,ny_train2,eval_metric='mlogloss',\n",
    "        eval_set=[(x_train2,ny_train2),(x_valid2,ny_valid2)])\n",
    "print(clf.evals_result())"
   ]
  },
  {
   "cell_type": "code",
   "execution_count": 18,
   "metadata": {
    "_kg_hide-output": true
   },
   "outputs": [
    {
     "name": "stderr",
     "output_type": "stream",
     "text": [
      "/opt/conda/lib/python3.6/site-packages/sklearn/preprocessing/label.py:151: DeprecationWarning: The truth value of an empty array is ambiguous. Returning False, but in future this will result in an error. Use `array.size > 0` to check that an array is not empty.\n",
      "  if diff:\n",
      "/opt/conda/lib/python3.6/site-packages/sklearn/preprocessing/label.py:151: DeprecationWarning: The truth value of an empty array is ambiguous. Returning False, but in future this will result in an error. Use `array.size > 0` to check that an array is not empty.\n",
      "  if diff:\n"
     ]
    },
    {
     "name": "stdout",
     "output_type": "stream",
     "text": [
      "1.0\n",
      "[[ 990    0    0    0    0    0    0    0    0    0]\n",
      " [   0 1096    0    0    0    0    0    0    0    0]\n",
      " [   0    0 1000    0    0    0    0    0    0    0]\n",
      " [   0    0    0 1046    0    0    0    0    0    0]\n",
      " [   0    0    0    0  955    0    0    0    0    0]\n",
      " [   0    0    0    0    0  895    0    0    0    0]\n",
      " [   0    0    0    0    0    0 1038    0    0    0]\n",
      " [   0    0    0    0    0    0    0 1066    0    0]\n",
      " [   0    0    0    0    0    0    0    0  925    0]\n",
      " [   0    0    0    0    0    0    0    0    0  989]]\n",
      "0.94\n",
      "[[102   0   0   0   0   0   0   0   0   0]\n",
      " [  0 118   0   0   0   2   0   0   1   0]\n",
      " [  1   0 116   2   0   0   1   2   2   0]\n",
      " [  0   0   3  88   0   0   0   1   1   1]\n",
      " [  0   0   0   0  94   0   0   3   1   3]\n",
      " [  1   0   1   3   0  83   1   1   1   0]\n",
      " [  0   0   0   0   2   3  71   1   0   0]\n",
      " [  1   0   5   0   0   0   0  77   0   2]\n",
      " [  0   0   2   0   1   1   0   1  89   2]\n",
      " [  0   0   0   0   2   1   0   3   1 102]]\n",
      "0.953\n",
      "[[104   0   0   0   1   0   0   0   1   0]\n",
      " [  0 101   0   2   0   0   0   1   0   0]\n",
      " [  1   0  96   0   0   0   0   0   0   1]\n",
      " [  0   1   3 101   0   3   0   2   0   0]\n",
      " [  0   0   0   0  92   0   1   0   1   0]\n",
      " [  0   1   1   1   1  76   0   0   0   0]\n",
      " [  2   0   3   0   0   2 106   0   0   0]\n",
      " [  0   0   1   0   0   0   0 107   0   2]\n",
      " [  1   1   2   2   0   2   1   0  77   1]\n",
      " [  0   0   0   2   2   0   0   0   1  93]]\n"
     ]
    },
    {
     "name": "stderr",
     "output_type": "stream",
     "text": [
      "/opt/conda/lib/python3.6/site-packages/sklearn/preprocessing/label.py:151: DeprecationWarning: The truth value of an empty array is ambiguous. Returning False, but in future this will result in an error. Use `array.size > 0` to check that an array is not empty.\n",
      "  if diff:\n"
     ]
    }
   ],
   "source": [
    "y_xgb_train=clf.predict(x_train2)\n",
    "y_xgb_valid=clf.predict(x_valid2)\n",
    "y_xgb_test=clf.predict(x_test2)\n",
    "for [y,py] in [[ny_train2,y_xgb_train],\n",
    "               [ny_valid2,y_xgb_valid],\n",
    "               [ny_test2,y_xgb_test]]:\n",
    "    print(metrics.accuracy_score(y,py))\n",
    "    print(metrics.confusion_matrix(y,py))"
   ]
  }
 ],
 "metadata": {
  "kernelspec": {
   "display_name": "Python 3",
   "language": "python",
   "name": "python3"
  },
  "language_info": {
   "codemirror_mode": {
    "name": "ipython",
    "version": 3
   },
   "file_extension": ".py",
   "mimetype": "text/x-python",
   "name": "python",
   "nbconvert_exporter": "python",
   "pygments_lexer": "ipython3",
   "version": "3.6.4"
  }
 },
 "nbformat": 4,
 "nbformat_minor": 4
}
