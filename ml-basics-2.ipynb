{
 "cells": [
  {
   "cell_type": "markdown",
   "execution_count": null,
   "metadata": {},
   "source": [
    "## Modules & Helpful Functions"
   ]
  },
  {
   "cell_type": "code",
   "execution_count": 1,
   "metadata": {
    "_kg_hide-output": true
   },
   "outputs": [
    {
     "name": "stdout",
     "output_type": "stream",
     "text": [
      "Collecting neural_structured_learning\r\n",
      "  Downloading neural_structured_learning-1.1.0-py2.py3-none-any.whl (104 kB)\r\n",
      "\u001b[K     |████████████████████████████████| 104 kB 2.7 MB/s \r\n",
      "\u001b[?25hRequirement already satisfied, skipping upgrade: scipy in /opt/conda/lib/python3.7/site-packages (from neural_structured_learning) (1.4.1)\r\n",
      "Requirement already satisfied, skipping upgrade: attrs in /opt/conda/lib/python3.7/site-packages (from neural_structured_learning) (19.3.0)\r\n",
      "Requirement already satisfied, skipping upgrade: absl-py in /opt/conda/lib/python3.7/site-packages (from neural_structured_learning) (0.9.0)\r\n",
      "Requirement already satisfied, skipping upgrade: six in /opt/conda/lib/python3.7/site-packages (from neural_structured_learning) (1.14.0)\r\n",
      "Requirement already satisfied, skipping upgrade: numpy>=1.13.3 in /opt/conda/lib/python3.7/site-packages (from scipy->neural_structured_learning) (1.18.1)\r\n",
      "Installing collected packages: neural-structured-learning\r\n",
      "Successfully installed neural-structured-learning-1.1.0\r\n",
      "\u001b[33mWARNING: You are using pip version 20.1; however, version 20.1.1 is available.\r\n",
      "You should consider upgrading via the '/opt/conda/bin/python3.7 -m pip install --upgrade pip' command.\u001b[0m\r\n"
     ]
    }
   ],
   "source": [
    "!pip install --upgrade neural_structured_learning --user"
   ]
  },
  {
   "cell_type": "code",
   "execution_count": 2,
   "metadata": {
    "_cell_guid": "b1076dfc-b9ad-4769-8c92-a6c4dae69d19",
    "_uuid": "8f2839f25d086af736a60e9eeb907d3b93b6e0e5"
   },
   "outputs": [
    {
     "name": "stderr",
     "output_type": "stream",
     "text": [
      "Using TensorFlow backend.\n"
     ]
    }
   ],
   "source": [
    "import warnings; warnings.filterwarnings('ignore')\n",
    "import numpy as np,pylab as pl,pandas as pd\n",
    "import sys,h5py,urllib,zipfile\n",
    "import tensorflow as tf\n",
    "import neural_structured_learning as nsl\n",
    "from sklearn import datasets\n",
    "from sklearn.model_selection import train_test_split\n",
    "from keras.datasets import mnist\n",
    "from keras.utils import to_categorical"
   ]
  },
  {
   "cell_type": "code",
   "execution_count": 3,
   "metadata": {
    "_kg_hide-input": true
   },
   "outputs": [],
   "source": [
    "def display_10img(X,y,s):\n",
    "    fig,ax=pl.subplots(figsize=(10,3),nrows=2,ncols=5,\n",
    "                       sharex=True,sharey=True)\n",
    "    ax=ax.flatten()\n",
    "    for i in range(10):\n",
    "        ax[i].imshow(X[i].reshape(s,s),cmap=pl.cm.Greens)\n",
    "        ax[i].set_title(y[i])\n",
    "    ax[0].set_xticks([]); ax[0].set_yticks([])\n",
    "    pl.tight_layout()\n",
    "def prepro(x_train,y_train,x_test,y_test,n_class):\n",
    "    n=int(len(x_test)/2)    \n",
    "    x_valid,y_valid=x_test[:n],y_test[:n]\n",
    "    x_test,y_test=x_test[n:],y_test[n:]\n",
    "    cy_train=to_categorical(y_train,n_class) \n",
    "    cy_valid=to_categorical(y_valid,n_class)\n",
    "    cy_test=to_categorical(y_test,n_class)\n",
    "    df=pd.DataFrame([[x_train.shape,x_valid.shape,x_test.shape],\n",
    "                     [y_train.shape,y_valid.shape,y_test.shape],\n",
    "                     [cy_train.shape,cy_valid.shape,cy_test.shape]],\n",
    "                    columns=['train','valid','test'],\n",
    "                    index=['images','labels','encoded labels'])\n",
    "    display(df)\n",
    "    return [[x_train,x_valid,x_test],\n",
    "            [y_train,y_valid,y_test],\n",
    "            [cy_train,cy_valid,cy_test]]"
   ]
  },
  {
   "cell_type": "markdown",
   "execution_count": null,
   "metadata": {},
   "source": [
    "## Data\n",
    "### #1"
   ]
  },
  {
   "cell_type": "code",
   "execution_count": 4,
   "metadata": {
    "_cell_guid": "79c7e3d0-c299-4dcb-8224-4455121ee9b0",
    "_uuid": "d629ff2d2480ee46fbb7e2d37f6b5fab8052498a"
   },
   "outputs": [
    {
     "data": {
      "image/png": "[encoded data removed]",
      "text/plain": [
       "<Figure size 720x216 with 10 Axes>"
      ]
     },
     "metadata": {},
     "output_type": "display_data"
    }
   ],
   "source": [
    "digits=datasets.load_digits(n_class=10)\n",
    "X1,y1=digits.data,digits.target\n",
    "X_train1,X_test1,y_train1,y_test1=\\\n",
    "train_test_split(X1,y1,test_size=.2,random_state=1)\n",
    "display_10img(X_train1,y_train1,8)"
   ]
  },
  {
   "cell_type": "markdown",
   "execution_count": null,
   "metadata": {},
   "source": [
    "### #2"
   ]
  },
  {
   "cell_type": "code",
   "execution_count": 5,
   "metadata": {},
   "outputs": [
    {
     "name": "stdout",
     "output_type": "stream",
     "text": [
      "Downloading data from https://s3.amazonaws.com/img-datasets/mnist.npz\n",
      "11493376/11490434 [==============================] - 2s 0us/step\n"
     ]
    },
    {
     "data": {
      "text/html": [
       "<div>\n",
       "<style scoped>\n",
       "    .dataframe tbody tr th:only-of-type {\n",
       "        vertical-align: middle;\n",
       "    }\n",
       "\n",
       "    .dataframe tbody tr th {\n",
       "        vertical-align: top;\n",
       "    }\n",
       "\n",
       "    .dataframe thead th {\n",
       "        text-align: right;\n",
       "    }\n",
       "</style>\n",
       "<table border=\"1\" class=\"dataframe\">\n",
       "  <thead>\n",
       "    <tr style=\"text-align: right;\">\n",
       "      <th></th>\n",
       "      <th>train</th>\n",
       "      <th>valid</th>\n",
       "      <th>test</th>\n",
       "    </tr>\n",
       "  </thead>\n",
       "  <tbody>\n",
       "    <tr>\n",
       "      <th>images</th>\n",
       "      <td>(60000, 784)</td>\n",
       "      <td>(5000, 784)</td>\n",
       "      <td>(5000, 784)</td>\n",
       "    </tr>\n",
       "    <tr>\n",
       "      <th>labels</th>\n",
       "      <td>(60000,)</td>\n",
       "      <td>(5000,)</td>\n",
       "      <td>(5000,)</td>\n",
       "    </tr>\n",
       "    <tr>\n",
       "      <th>encoded labels</th>\n",
       "      <td>(60000, 10)</td>\n",
       "      <td>(5000, 10)</td>\n",
       "      <td>(5000, 10)</td>\n",
       "    </tr>\n",
       "  </tbody>\n",
       "</table>\n",
       "</div>"
      ],
      "text/plain": [
       "                       train        valid         test\n",
       "images          (60000, 784)  (5000, 784)  (5000, 784)\n",
       "labels              (60000,)      (5000,)      (5000,)\n",
       "encoded labels   (60000, 10)   (5000, 10)   (5000, 10)"
      ]
     },
     "metadata": {},
     "output_type": "display_data"
    },
    {
     "data": {
      "image/png": "[encoded data removed]",
      "text/plain": [
       "<Figure size 720x216 with 10 Axes>"
      ]
     },
     "metadata": {},
     "output_type": "display_data"
    }
   ],
   "source": [
    "(X_train2,y_train2),(X_test2,y_test2)=mnist.load_data()\n",
    "X_train2=X_train2.reshape(-1,784).astype('float32')\n",
    "X_test2=X_test2.reshape(-1,784).astype('float32')\n",
    "y_train2=y_train2.astype('int32')\n",
    "y_test2=y_test2.astype('int32')\n",
    "[[X_train2,X_valid2,X_test2],\n",
    " [y_train2,y_valid2,y_test2],\n",
    " [cy_train2,cy_valid2,cy_test2]]=\\\n",
    "prepro(X_train2,y_train2,X_test2,y_test2,10)\n",
    "display_10img(X_train2,y_train2,28)"
   ]
  },
  {
   "cell_type": "markdown",
   "execution_count": null,
   "metadata": {},
   "source": [
    "### #3"
   ]
  },
  {
   "cell_type": "code",
   "execution_count": 6,
   "metadata": {},
   "outputs": [
    {
     "data": {
      "text/html": [
       "<div>\n",
       "<style scoped>\n",
       "    .dataframe tbody tr th:only-of-type {\n",
       "        vertical-align: middle;\n",
       "    }\n",
       "\n",
       "    .dataframe tbody tr th {\n",
       "        vertical-align: top;\n",
       "    }\n",
       "\n",
       "    .dataframe thead th {\n",
       "        text-align: right;\n",
       "    }\n",
       "</style>\n",
       "<table border=\"1\" class=\"dataframe\">\n",
       "  <thead>\n",
       "    <tr style=\"text-align: right;\">\n",
       "      <th></th>\n",
       "      <th>train</th>\n",
       "      <th>valid</th>\n",
       "      <th>test</th>\n",
       "    </tr>\n",
       "  </thead>\n",
       "  <tbody>\n",
       "    <tr>\n",
       "      <th>images</th>\n",
       "      <td>(4752, 1024)</td>\n",
       "      <td>(594, 1024)</td>\n",
       "      <td>(594, 1024)</td>\n",
       "    </tr>\n",
       "    <tr>\n",
       "      <th>labels</th>\n",
       "      <td>(4752,)</td>\n",
       "      <td>(594,)</td>\n",
       "      <td>(594,)</td>\n",
       "    </tr>\n",
       "    <tr>\n",
       "      <th>encoded labels</th>\n",
       "      <td>(4752, 33)</td>\n",
       "      <td>(594, 33)</td>\n",
       "      <td>(594, 33)</td>\n",
       "    </tr>\n",
       "  </tbody>\n",
       "</table>\n",
       "</div>"
      ],
      "text/plain": [
       "                       train        valid         test\n",
       "images          (4752, 1024)  (594, 1024)  (594, 1024)\n",
       "labels               (4752,)       (594,)       (594,)\n",
       "encoded labels    (4752, 33)    (594, 33)    (594, 33)"
      ]
     },
     "metadata": {},
     "output_type": "display_data"
    },
    {
     "data": {
      "image/png": "[encoded data removed]",
      "text/plain": [
       "<Figure size 720x216 with 10 Axes>"
      ]
     },
     "metadata": {},
     "output_type": "display_data"
    }
   ],
   "source": [
    "fpath='../input/classification-of-handwritten-letters/'\n",
    "f=h5py.File(fpath+'LetterColorImages2.h5','r')\n",
    "keys=list(f.keys()); rn=10**3\n",
    "letters=u'абвгдеёжзийклмнопрстуфхцчшщъыьэюя'\n",
    "X3=np.array(f[keys[1]])/255\n",
    "X3=1-np.dot(X3[...,:3],[.299,.587,.114])\n",
    "y3=np.array(f[keys[2]])-1\n",
    "X_train3,X_test3,y_train3,y_test3=\\\n",
    "train_test_split(X3,y3,test_size=.2,random_state=1)\n",
    "X_train3=X_train3.reshape(-1,32*32).astype('float32')\n",
    "X_test3=X_test3.reshape(-1,32*32).astype('float32')\n",
    "y_train3=y_train3.astype('int32')\n",
    "y_test3=y_test3.astype('int32')\n",
    "[[X_train3,X_valid3,X_test3],\n",
    " [y_train3,y_valid3,y_test3],\n",
    " [cy_train3,cy_valid3,cy_test3]]=\\\n",
    "prepro(X_train3,y_train3,X_test3,y_test3,33)\n",
    "display_10img(X_train3,y_train3,32)"
   ]
  },
  {
   "cell_type": "markdown",
   "execution_count": null,
   "metadata": {},
   "source": [
    "## Neural Networks\n",
    "### #1"
   ]
  },
  {
   "cell_type": "code",
   "execution_count": 7,
   "metadata": {
    "_kg_hide-input": true
   },
   "outputs": [],
   "source": [
    "def trainNN(X,y,D,K,h,a,r,step_size,epochs):\n",
    "    W1=a*np.random.randn(D,h)\n",
    "    b1=np.zeros((1,h))\n",
    "    W2=a*np.random.randn(h,K)\n",
    "    b2=np.zeros((1,K))\n",
    "    # gradient descent loop\n",
    "    num_examples=X.shape[0]\n",
    "    for i in range(epochs): \n",
    "        # evaluate class scores\n",
    "        hidden_layer=np.maximum(0,np.dot(X,W1)+b1) # ReLU activation\n",
    "        scores=np.dot(hidden_layer,W2)+b2  \n",
    "        # compute the class probabilities\n",
    "        exp_scores=np.exp(scores)\n",
    "        probs=exp_scores/np.sum(exp_scores,axis=1,keepdims=True)   \n",
    "        # compute the loss: average cross-entropy loss and regularization\n",
    "        corect_logprobs=-np.log(probs[range(num_examples),y])\n",
    "        data_loss=np.sum(corect_logprobs)/num_examples\n",
    "        reg_loss=.5*r*np.sum(W1**2)+.5*r*np.sum(W2**2)\n",
    "        loss=data_loss+reg_loss\n",
    "        if (i+1)%500==0:\n",
    "            print(\"iteration %d: loss %f\"%(i+1,loss))  \n",
    "        # compute the gradient on scores\n",
    "        dscores=probs\n",
    "        dscores[range(num_examples),y]-=1\n",
    "        dscores/=num_examples  \n",
    "        # backpropate the gradient to the parameters\n",
    "        # first backprop into parameters W2 and b2\n",
    "        dW2=np.dot(hidden_layer.T,dscores)\n",
    "        db2=np.sum(dscores,axis=0,keepdims=True)\n",
    "        # next backprop into hidden layer\n",
    "        dhidden=np.dot(dscores,W2.T)\n",
    "        # backprop the ReLU non-linearity\n",
    "        dhidden[hidden_layer<=0]=0\n",
    "        # finally into W,b\n",
    "        dW1=np.dot(X.T,dhidden)\n",
    "        db1=np.sum(dhidden,axis=0,keepdims=True)  \n",
    "        # add regularization gradient contribution\n",
    "        dW2+=r*W2; dW1+=r*W1  \n",
    "        # perform a parameter update\n",
    "        W1+=-step_size1*dW1; b1+=-step_size1*db1\n",
    "        W2+=-step_size1*dW2; b2+=-step_size1*db2\n",
    "    return [W1,b1,W2,b2]\n",
    "def predict(X,W1,b1,W2,b2):\n",
    "    hidden_layer=np.maximum(0,np.dot(X,W1)+b1)\n",
    "    scores=np.dot(hidden_layer,W2)+b2\n",
    "    return np.argmax(scores,axis=1)\n",
    "def accuracy(y,py): return np.mean(py==y)*100"
   ]
  },
  {
   "cell_type": "code",
   "execution_count": 8,
   "metadata": {
    "_kg_hide-output": false
   },
   "outputs": [
    {
     "name": "stdout",
     "output_type": "stream",
     "text": [
      "iteration 500: loss 0.168716\n",
      "iteration 1000: loss 0.086499\n",
      "iteration 1500: loss 0.058611\n",
      "iteration 2000: loss 0.043109\n",
      "iteration 2500: loss 0.033196\n"
     ]
    }
   ],
   "source": [
    "D1=64 # dimensionality\n",
    "K1=10 # number of classes\n",
    "h1=320 # size of hidden layer\n",
    "# hyperparameters\n",
    "a1=1e-3; step_size1=1e-2; epochs1=2500\n",
    "r1=1e-4 # regularization strength\n",
    "[W11,b11,W12,b12]=\\\n",
    "trainNN(X_train1,y_train1,D1,K1,h1,\n",
    "        a1,r1,step_size1,epochs1)"
   ]
  },
  {
   "cell_type": "code",
   "execution_count": 9,
   "metadata": {},
   "outputs": [
    {
     "name": "stdout",
     "output_type": "stream",
     "text": [
      "Digits. Train accuracy: 99.72\n",
      "Digits. Test accuracy: 96.67\n"
     ]
    }
   ],
   "source": [
    "py_train1=predict(X_train1,W11,b11,W12,b12)\n",
    "acc_train1=accuracy(y_train1,py_train1)\n",
    "print('Digits. Train accuracy: %.2f'%acc_train1)\n",
    "py_test1=predict(X_test1,W11,b11,W12,b12)\n",
    "acc_test1=accuracy(y_test1,py_test1)\n",
    "print('Digits. Test accuracy: %.2f'%acc_test1)"
   ]
  },
  {
   "cell_type": "markdown",
   "execution_count": null,
   "metadata": {},
   "source": [
    "### #2"
   ]
  },
  {
   "cell_type": "code",
   "execution_count": 10,
   "metadata": {},
   "outputs": [],
   "source": [
    "lr=.001; epochs=12; hidden1=256; hidden2=256\n",
    "batch_size=128; display_step=1; \n",
    "n_inputs=784; n_classes=10"
   ]
  },
  {
   "cell_type": "code",
   "execution_count": 11,
   "metadata": {
    "_kg_hide-input": true
   },
   "outputs": [],
   "source": [
    "def cat_accuracy(predictions,labels):\n",
    "    return (100.0*np.sum(np.argmax(predictions,1)==\\\n",
    "           np.argmax(labels,1))/predictions.shape[0])\n",
    "def mlp(x):\n",
    "    layer1=tf.add(tf.matmul(x,weights['W1']),biases['b1'])\n",
    "    layer2=tf.add(tf.matmul(layer1,weights['W2']),biases['b2'])\n",
    "    return tf.matmul(layer2,weights['out'])+biases['out']\n",
    "graph=tf.Graph()\n",
    "with graph.as_default():\n",
    "    X=tf.compat.v1.placeholder(\"float32\",[None,n_inputs])\n",
    "    y=tf.compat.v1.placeholder(\"int32\",[None,n_classes])\n",
    "    vX=tf.constant(X_test2)\n",
    "    weights={'W1':tf.Variable(\\\n",
    "                  tf.compat.v1.random_normal([n_inputs,hidden1])),\n",
    "             'W2':tf.Variable(\\\n",
    "                  tf.compat.v1.random_normal([hidden1,hidden2])),\n",
    "             'out':tf.Variable(\\\n",
    "                   tf.compat.v1.random_normal([hidden2,n_classes]))}\n",
    "    biases={'b1':tf.Variable(\\\n",
    "                 tf.compat.v1.random_normal([hidden1])),\n",
    "            'b2':tf.Variable(\\\n",
    "                 tf.compat.v1.random_normal([hidden2])),\n",
    "            'out':tf.Variable(\\\n",
    "                  tf.compat.v1.random_normal([n_classes]))}\n",
    "    logits=mlp(X); vlogits=mlp(vX)\n",
    "    loss=tf.reduce_mean(\\\n",
    "    tf.nn.softmax_cross_entropy_with_logits(logits=logits,labels=y))\n",
    "    optimizer=tf.compat.v1.train.AdamOptimizer(learning_rate=lr)\n",
    "    train_opt=optimizer.minimize(loss)\n",
    "    train_predictions=tf.nn.softmax(logits)\n",
    "    test_predictions=tf.nn.softmax(vlogits)"
   ]
  },
  {
   "cell_type": "code",
   "execution_count": 12,
   "metadata": {
    "_kg_hide-output": false
   },
   "outputs": [
    {
     "name": "stdout",
     "output_type": "stream",
     "text": [
      "Epoch: 0001 loss=88036.484873715 accuracy=74.120\n",
      "Epoch: 0002 loss=25867.983260717 accuracy=86.083\n",
      "Epoch: 0003 loss=18986.507411859 accuracy=87.388\n",
      "Epoch: 0004 loss=15382.712316269 accuracy=87.764\n",
      "Epoch: 0005 loss=13049.385560125 accuracy=87.991\n",
      "Epoch: 0006 loss=11558.948196542 accuracy=88.146\n",
      "Epoch: 0007 loss=10254.550620315 accuracy=88.255\n",
      "Epoch: 0008 loss=9181.734011789 accuracy=88.478\n",
      "Epoch: 0009 loss=8474.710609632 accuracy=88.518\n",
      "Epoch: 0010 loss=7790.299549853 accuracy=88.583\n",
      "Epoch: 0011 loss=7431.596440503 accuracy=88.583\n",
      "Epoch: 0012 loss=6861.727124467 accuracy=88.643\n",
      "Test accuracy: 91.780%\n"
     ]
    }
   ],
   "source": [
    "with tf.compat.v1.Session(graph=graph) as sess:\n",
    "    tf.compat.v1.global_variables_initializer().run()\n",
    "    for epoch in range(epochs):\n",
    "        avg_loss=0.; avg_acc=0.\n",
    "        total_batch=int(X_train2.shape[0]/batch_size)\n",
    "        for i in range(total_batch):\n",
    "            offset=(i*batch_size)%(X_train2.shape[0]-batch_size)\n",
    "            batch_X=X_train2[offset:(offset+batch_size)]\n",
    "            batch_y=cy_train2[offset:(offset+batch_size)]\n",
    "            _,l,batch_py=sess.run([train_opt,loss,train_predictions],\n",
    "                                  feed_dict={X:batch_X,y:batch_y})\n",
    "            avg_loss+=l/total_batch\n",
    "            avg_acc+=cat_accuracy(batch_py,batch_y)/total_batch\n",
    "        if epoch%display_step==0:\n",
    "            print(\"Epoch: %04d\"%(epoch+1),\n",
    "                  \"loss={:.9f}\".format(avg_loss),\n",
    "                  \"accuracy={:.3f}\".format(avg_acc))\n",
    "    print(\"Test accuracy: %.3f%%\"%\\\n",
    "    cat_accuracy(test_predictions.eval(),cy_test2))"
   ]
  },
  {
   "cell_type": "markdown",
   "execution_count": null,
   "metadata": {},
   "source": [
    "### #3"
   ]
  },
  {
   "cell_type": "code",
   "execution_count": 13,
   "metadata": {},
   "outputs": [],
   "source": [
    "# data 2\n",
    "batch_size=64; img_size=28; n_class=10; epochs=7"
   ]
  },
  {
   "cell_type": "code",
   "execution_count": 14,
   "metadata": {
    "_kg_hide-input": true
   },
   "outputs": [],
   "source": [
    "base_model=tf.keras.Sequential([\n",
    "    tf.keras.Input((img_size,img_size),name='input'),\n",
    "    tf.keras.layers.Flatten(),\n",
    "    tf.keras.layers.Dense(128,activation=tf.nn.relu),\n",
    "    tf.keras.layers.BatchNormalization(),    \n",
    "    tf.keras.layers.Dense(256,activation=tf.nn.relu),\n",
    "    tf.keras.layers.Dense(n_class,activation=tf.nn.softmax)\n",
    "])\n",
    "adv_config=nsl.configs\\\n",
    ".make_adv_reg_config(multiplier=.2,adv_step_size=.05)\n",
    "adv_model=nsl.keras\\\n",
    ".AdversarialRegularization(base_model,adv_config=adv_config)\n",
    "adv_model.compile(optimizer='adam',\n",
    "                  loss='sparse_categorical_crossentropy',\n",
    "                  metrics=['accuracy'])"
   ]
  },
  {
   "cell_type": "code",
   "execution_count": 15,
   "metadata": {
    "_kg_hide-output": true
   },
   "outputs": [
    {
     "name": "stdout",
     "output_type": "stream",
     "text": [
      "Train for 938 steps, validate for 78 steps\n",
      "Epoch 1/7\n",
      "938/938 - 8s - loss: 0.2628 - sparse_categorical_crossentropy: 0.2190 - sparse_categorical_accuracy: 0.9334 - adversarial_loss: 0.2192 - val_loss: 0.2238 - val_sparse_categorical_crossentropy: 0.1865 - val_sparse_categorical_accuracy: 0.9431 - val_adversarial_loss: 0.1867\n",
      "Epoch 2/7\n",
      "938/938 - 6s - loss: 0.1089 - sparse_categorical_crossentropy: 0.0908 - sparse_categorical_accuracy: 0.9723 - adversarial_loss: 0.0909 - val_loss: 0.1919 - val_sparse_categorical_crossentropy: 0.1599 - val_sparse_categorical_accuracy: 0.9511 - val_adversarial_loss: 0.1600\n",
      "Epoch 3/7\n",
      "938/938 - 6s - loss: 0.0714 - sparse_categorical_crossentropy: 0.0595 - sparse_categorical_accuracy: 0.9813 - adversarial_loss: 0.0596 - val_loss: 0.1620 - val_sparse_categorical_crossentropy: 0.1350 - val_sparse_categorical_accuracy: 0.9619 - val_adversarial_loss: 0.1351\n",
      "Epoch 4/7\n",
      "938/938 - 6s - loss: 0.0504 - sparse_categorical_crossentropy: 0.0420 - sparse_categorical_accuracy: 0.9866 - adversarial_loss: 0.0421 - val_loss: 0.1704 - val_sparse_categorical_crossentropy: 0.1420 - val_sparse_categorical_accuracy: 0.9613 - val_adversarial_loss: 0.1421\n",
      "Epoch 5/7\n",
      "938/938 - 6s - loss: 0.0356 - sparse_categorical_crossentropy: 0.0297 - sparse_categorical_accuracy: 0.9905 - adversarial_loss: 0.0298 - val_loss: 0.1817 - val_sparse_categorical_crossentropy: 0.1514 - val_sparse_categorical_accuracy: 0.9615 - val_adversarial_loss: 0.1515\n",
      "Epoch 6/7\n",
      "938/938 - 6s - loss: 0.0333 - sparse_categorical_crossentropy: 0.0278 - sparse_categorical_accuracy: 0.9905 - adversarial_loss: 0.0279 - val_loss: 0.1823 - val_sparse_categorical_crossentropy: 0.1519 - val_sparse_categorical_accuracy: 0.9655 - val_adversarial_loss: 0.1521\n",
      "Epoch 7/7\n",
      "938/938 - 6s - loss: 0.0235 - sparse_categorical_crossentropy: 0.0195 - sparse_categorical_accuracy: 0.9937 - adversarial_loss: 0.0196 - val_loss: 0.1653 - val_sparse_categorical_crossentropy: 0.1377 - val_sparse_categorical_accuracy: 0.9655 - val_adversarial_loss: 0.1379\n"
     ]
    }
   ],
   "source": [
    "train2=tf.data.Dataset.from_tensor_slices(\n",
    "    {'input':X_train2,'label':y_train2}).batch(batch_size)\n",
    "valid2=tf.data.Dataset.from_tensor_slices(\n",
    "    {'input':X_valid2,'label':y_valid2}).batch(batch_size)\n",
    "valid_steps=X_valid2.shape[0]//batch_size\n",
    "adv_model.fit(train2,validation_data=valid2,verbose=2,\n",
    "              validation_steps=valid_steps,epochs=epochs);"
   ]
  },
  {
   "cell_type": "code",
   "execution_count": 16,
   "metadata": {},
   "outputs": [
    {
     "name": "stdout",
     "output_type": "stream",
     "text": [
      "5000/5000 [==============================] - 1s 161us/sample - loss: 0.0718 - sparse_categorical_crossentropy: 0.0595 - sparse_categorical_accuracy: 0.9850 - adversarial_loss: 0.0596\n",
      "Test accuracy: 98.5\n"
     ]
    }
   ],
   "source": [
    "scores2=adv_model.evaluate({'input':X_test2,'label':y_test2})\n",
    "print(\"Test accuracy: %.1f\"%(scores2[2]*100.))"
   ]
  },
  {
   "cell_type": "code",
   "execution_count": 17,
   "metadata": {},
   "outputs": [],
   "source": [
    "# data3\n",
    "batch_size=128; img_size=32; n_class=33; epochs=100"
   ]
  },
  {
   "cell_type": "code",
   "execution_count": 18,
   "metadata": {
    "_kg_hide-input": true
   },
   "outputs": [],
   "source": [
    "base_model=tf.keras.models.Sequential([\n",
    "        tf.keras.Input((img_size,img_size),name='input'),\n",
    "        tf.keras.layers.Flatten(),\n",
    "        tf.keras.layers.Dense(128,activation='relu'),\n",
    "        tf.keras.layers.BatchNormalization(),    \n",
    "        tf.keras.layers.Dense(256,activation='relu'),\n",
    "        tf.keras.layers.BatchNormalization(),    \n",
    "        tf.keras.layers.Dense(512,activation='relu'),\n",
    "        tf.keras.layers.BatchNormalization(),   \n",
    "        tf.keras.layers.Dense(1024,activation='relu'),\n",
    "        tf.keras.layers.Dense(33,activation='softmax')\n",
    "    ])\n",
    "adv_config=nsl.configs\\\n",
    ".make_adv_reg_config(multiplier=.2,adv_step_size=.05)\n",
    "adv_model=nsl.keras\\\n",
    ".AdversarialRegularization(base_model,adv_config=adv_config)\n",
    "adv_model.compile(optimizer='adam',\n",
    "                  loss='categorical_crossentropy',\n",
    "                  metrics=['accuracy'])"
   ]
  },
  {
   "cell_type": "code",
   "execution_count": 19,
   "metadata": {
    "_kg_hide-output": true
   },
   "outputs": [
    {
     "name": "stdout",
     "output_type": "stream",
     "text": [
      "Train for 38 steps, validate for 4 steps\n",
      "Epoch 1/100\n",
      "38/38 - 4s - loss: 3.7611 - categorical_crossentropy: 3.0048 - categorical_accuracy: 0.1662 - adversarial_loss: 3.7826 - val_loss: 4.1296 - val_categorical_crossentropy: 3.4351 - val_categorical_accuracy: 0.0566 - val_adversarial_loss: 3.4724\n",
      "Epoch 2/100\n",
      "38/38 - 1s - loss: 3.0589 - categorical_crossentropy: 2.4039 - categorical_accuracy: 0.2965 - adversarial_loss: 3.2744 - val_loss: 4.0112 - val_categorical_crossentropy: 3.3258 - val_categorical_accuracy: 0.0742 - val_adversarial_loss: 3.4269\n",
      "Epoch 3/100\n",
      "38/38 - 1s - loss: 2.5862 - categorical_crossentropy: 2.0005 - categorical_accuracy: 0.3893 - adversarial_loss: 2.9246 - val_loss: 3.9412 - val_categorical_crossentropy: 3.2537 - val_categorical_accuracy: 0.0938 - val_adversarial_loss: 3.4378\n",
      "Epoch 4/100\n",
      "38/38 - 1s - loss: 2.1983 - categorical_crossentropy: 1.6740 - categorical_accuracy: 0.4684 - adversarial_loss: 2.6177 - val_loss: 4.7185 - val_categorical_crossentropy: 3.8640 - val_categorical_accuracy: 0.1055 - val_adversarial_loss: 4.2727\n",
      "Epoch 5/100\n",
      "38/38 - 1s - loss: 1.9181 - categorical_crossentropy: 1.4419 - categorical_accuracy: 0.5452 - adversarial_loss: 2.3768 - val_loss: 5.0629 - val_categorical_crossentropy: 4.1369 - val_categorical_accuracy: 0.1270 - val_adversarial_loss: 4.6300\n",
      "Epoch 6/100\n",
      "38/38 - 1s - loss: 1.6383 - categorical_crossentropy: 1.2103 - categorical_accuracy: 0.6202 - adversarial_loss: 2.1360 - val_loss: 6.4861 - val_categorical_crossentropy: 5.2783 - val_categorical_accuracy: 0.0527 - val_adversarial_loss: 6.0387\n",
      "Epoch 7/100\n",
      "38/38 - 1s - loss: 1.4246 - categorical_crossentropy: 1.0335 - categorical_accuracy: 0.6848 - adversarial_loss: 1.9516 - val_loss: 10.4495 - val_categorical_crossentropy: 8.5428 - val_categorical_accuracy: 0.0625 - val_adversarial_loss: 9.5333\n",
      "Epoch 8/100\n",
      "38/38 - 1s - loss: 1.2862 - categorical_crossentropy: 0.9205 - categorical_accuracy: 0.7155 - adversarial_loss: 1.8254 - val_loss: 5.9267 - val_categorical_crossentropy: 4.7897 - val_categorical_accuracy: 0.1328 - val_adversarial_loss: 5.6849\n",
      "Epoch 9/100\n",
      "38/38 - 1s - loss: 1.1450 - categorical_crossentropy: 0.8058 - categorical_accuracy: 0.7546 - adversarial_loss: 1.6936 - val_loss: 7.5031 - val_categorical_crossentropy: 6.0791 - val_categorical_accuracy: 0.1230 - val_adversarial_loss: 7.1204\n",
      "Epoch 10/100\n",
      "38/38 - 1s - loss: 1.0059 - categorical_crossentropy: 0.6931 - categorical_accuracy: 0.7900 - adversarial_loss: 1.5615 - val_loss: 7.9830 - val_categorical_crossentropy: 6.4848 - val_categorical_accuracy: 0.1348 - val_adversarial_loss: 7.4912\n",
      "Epoch 11/100\n",
      "38/38 - 1s - loss: 0.9180 - categorical_crossentropy: 0.6224 - categorical_accuracy: 0.8110 - adversarial_loss: 1.4757 - val_loss: 9.1318 - val_categorical_crossentropy: 7.4146 - val_categorical_accuracy: 0.1211 - val_adversarial_loss: 8.5863\n",
      "Epoch 12/100\n",
      "38/38 - 1s - loss: 0.7732 - categorical_crossentropy: 0.5089 - categorical_accuracy: 0.8605 - adversarial_loss: 1.3196 - val_loss: 6.8422 - val_categorical_crossentropy: 5.5094 - val_categorical_accuracy: 0.1543 - val_adversarial_loss: 6.6644\n",
      "Epoch 13/100\n",
      "38/38 - 1s - loss: 0.6894 - categorical_crossentropy: 0.4428 - categorical_accuracy: 0.8763 - adversarial_loss: 1.2314 - val_loss: 7.5432 - val_categorical_crossentropy: 6.0887 - val_categorical_accuracy: 0.1250 - val_adversarial_loss: 7.2727\n",
      "Epoch 14/100\n",
      "38/38 - 1s - loss: 0.5906 - categorical_crossentropy: 0.3673 - categorical_accuracy: 0.9038 - adversarial_loss: 1.1147 - val_loss: 12.5959 - val_categorical_crossentropy: 10.2931 - val_categorical_accuracy: 0.1211 - val_adversarial_loss: 11.5142\n",
      "Epoch 15/100\n",
      "38/38 - 1s - loss: 0.5517 - categorical_crossentropy: 0.3369 - categorical_accuracy: 0.9116 - adversarial_loss: 1.0728 - val_loss: 7.7220 - val_categorical_crossentropy: 6.2403 - val_categorical_accuracy: 0.1895 - val_adversarial_loss: 7.4083\n",
      "Epoch 16/100\n",
      "38/38 - 1s - loss: 0.4892 - categorical_crossentropy: 0.2875 - categorical_accuracy: 0.9268 - adversarial_loss: 1.0076 - val_loss: 9.5263 - val_categorical_crossentropy: 7.7183 - val_categorical_accuracy: 0.1113 - val_adversarial_loss: 9.0401\n",
      "Epoch 17/100\n",
      "38/38 - 1s - loss: 0.4592 - categorical_crossentropy: 0.2656 - categorical_accuracy: 0.9320 - adversarial_loss: 0.9667 - val_loss: 8.6957 - val_categorical_crossentropy: 6.9901 - val_categorical_accuracy: 0.1504 - val_adversarial_loss: 8.5282\n",
      "Epoch 18/100\n",
      "38/38 - 1s - loss: 0.4370 - categorical_crossentropy: 0.2500 - categorical_accuracy: 0.9339 - adversarial_loss: 0.9337 - val_loss: 7.2226 - val_categorical_crossentropy: 5.7697 - val_categorical_accuracy: 0.1855 - val_adversarial_loss: 7.2643\n",
      "Epoch 19/100\n",
      "38/38 - 1s - loss: 0.4046 - categorical_crossentropy: 0.2238 - categorical_accuracy: 0.9480 - adversarial_loss: 0.9032 - val_loss: 7.1276 - val_categorical_crossentropy: 5.7071 - val_categorical_accuracy: 0.1855 - val_adversarial_loss: 7.1030\n",
      "Epoch 20/100\n",
      "38/38 - 1s - loss: 0.4039 - categorical_crossentropy: 0.2233 - categorical_accuracy: 0.9404 - adversarial_loss: 0.9017 - val_loss: 7.8860 - val_categorical_crossentropy: 6.3273 - val_categorical_accuracy: 0.1465 - val_adversarial_loss: 7.7934\n",
      "Epoch 21/100\n",
      "38/38 - 1s - loss: 0.3866 - categorical_crossentropy: 0.2112 - categorical_accuracy: 0.9438 - adversarial_loss: 0.8765 - val_loss: 11.1516 - val_categorical_crossentropy: 8.9904 - val_categorical_accuracy: 0.1035 - val_adversarial_loss: 10.8060\n",
      "Epoch 22/100\n",
      "38/38 - 1s - loss: 0.3740 - categorical_crossentropy: 0.2013 - categorical_accuracy: 0.9476 - adversarial_loss: 0.8623 - val_loss: 9.5451 - val_categorical_crossentropy: 7.6738 - val_categorical_accuracy: 0.1172 - val_adversarial_loss: 9.3564\n",
      "Epoch 23/100\n",
      "38/38 - 1s - loss: 0.2832 - categorical_crossentropy: 0.1425 - categorical_accuracy: 0.9684 - adversarial_loss: 0.7028 - val_loss: 7.5062 - val_categorical_crossentropy: 5.9956 - val_categorical_accuracy: 0.2148 - val_adversarial_loss: 7.5531\n",
      "Epoch 24/100\n",
      "38/38 - 1s - loss: 0.2342 - categorical_crossentropy: 0.1098 - categorical_accuracy: 0.9787 - adversarial_loss: 0.6216 - val_loss: 7.6940 - val_categorical_crossentropy: 6.1543 - val_categorical_accuracy: 0.2207 - val_adversarial_loss: 7.6987\n",
      "Epoch 25/100\n",
      "38/38 - 1s - loss: 0.2173 - categorical_crossentropy: 0.0989 - categorical_accuracy: 0.9815 - adversarial_loss: 0.5915 - val_loss: 7.5972 - val_categorical_crossentropy: 6.0327 - val_categorical_accuracy: 0.1836 - val_adversarial_loss: 7.8228\n",
      "Epoch 26/100\n",
      "38/38 - 1s - loss: 0.1770 - categorical_crossentropy: 0.0739 - categorical_accuracy: 0.9876 - adversarial_loss: 0.5151 - val_loss: 12.8501 - val_categorical_crossentropy: 10.3641 - val_categorical_accuracy: 0.1777 - val_adversarial_loss: 12.4298\n",
      "Epoch 27/100\n",
      "38/38 - 1s - loss: 0.1669 - categorical_crossentropy: 0.0694 - categorical_accuracy: 0.9882 - adversarial_loss: 0.4871 - val_loss: 13.7231 - val_categorical_crossentropy: 11.0747 - val_categorical_accuracy: 0.1777 - val_adversarial_loss: 13.2420\n",
      "Epoch 28/100\n",
      "38/38 - 1s - loss: 0.1419 - categorical_crossentropy: 0.0562 - categorical_accuracy: 0.9918 - adversarial_loss: 0.4279 - val_loss: 5.5113 - val_categorical_crossentropy: 4.3313 - val_categorical_accuracy: 0.3125 - val_adversarial_loss: 5.9000\n",
      "Epoch 29/100\n",
      "38/38 - 1s - loss: 0.1337 - categorical_crossentropy: 0.0514 - categorical_accuracy: 0.9912 - adversarial_loss: 0.4110 - val_loss: 7.9539 - val_categorical_crossentropy: 6.3343 - val_categorical_accuracy: 0.2051 - val_adversarial_loss: 8.0982\n",
      "Epoch 30/100\n",
      "38/38 - 1s - loss: 0.1185 - categorical_crossentropy: 0.0420 - categorical_accuracy: 0.9952 - adversarial_loss: 0.3823 - val_loss: 6.6879 - val_categorical_crossentropy: 5.2909 - val_categorical_accuracy: 0.2422 - val_adversarial_loss: 6.9852\n",
      "Epoch 31/100\n",
      "38/38 - 1s - loss: 0.1166 - categorical_crossentropy: 0.0418 - categorical_accuracy: 0.9939 - adversarial_loss: 0.3737 - val_loss: 6.9772 - val_categorical_crossentropy: 5.5045 - val_categorical_accuracy: 0.2832 - val_adversarial_loss: 7.3635\n",
      "Epoch 32/100\n",
      "38/38 - 1s - loss: 0.1062 - categorical_crossentropy: 0.0353 - categorical_accuracy: 0.9958 - adversarial_loss: 0.3542 - val_loss: 8.3573 - val_categorical_crossentropy: 6.6321 - val_categorical_accuracy: 0.2617 - val_adversarial_loss: 8.6259\n",
      "Epoch 33/100\n",
      "38/38 - 1s - loss: 0.0877 - categorical_crossentropy: 0.0297 - categorical_accuracy: 0.9960 - adversarial_loss: 0.2894 - val_loss: 6.6604 - val_categorical_crossentropy: 5.2354 - val_categorical_accuracy: 0.3027 - val_adversarial_loss: 7.1254\n",
      "Epoch 34/100\n",
      "38/38 - 1s - loss: 0.0744 - categorical_crossentropy: 0.0209 - categorical_accuracy: 0.9985 - adversarial_loss: 0.2675 - val_loss: 7.8634 - val_categorical_crossentropy: 6.2491 - val_categorical_accuracy: 0.2695 - val_adversarial_loss: 8.0713\n",
      "Epoch 35/100\n",
      "38/38 - 1s - loss: 0.0680 - categorical_crossentropy: 0.0185 - categorical_accuracy: 0.9977 - adversarial_loss: 0.2474 - val_loss: 6.4944 - val_categorical_crossentropy: 5.1122 - val_categorical_accuracy: 0.3164 - val_adversarial_loss: 6.9111\n",
      "Epoch 36/100\n",
      "38/38 - 1s - loss: 0.0489 - categorical_crossentropy: 0.0114 - categorical_accuracy: 1.0000 - adversarial_loss: 0.1873 - val_loss: 5.1817 - val_categorical_crossentropy: 4.0111 - val_categorical_accuracy: 0.3496 - val_adversarial_loss: 5.8530\n",
      "Epoch 37/100\n",
      "38/38 - 1s - loss: 0.0391 - categorical_crossentropy: 0.0083 - categorical_accuracy: 1.0000 - adversarial_loss: 0.1536 - val_loss: 5.1249 - val_categorical_crossentropy: 3.9400 - val_categorical_accuracy: 0.3984 - val_adversarial_loss: 5.9243\n",
      "Epoch 38/100\n",
      "38/38 - 1s - loss: 0.0319 - categorical_crossentropy: 0.0065 - categorical_accuracy: 0.9998 - adversarial_loss: 0.1267 - val_loss: 4.4158 - val_categorical_crossentropy: 3.3703 - val_categorical_accuracy: 0.4102 - val_adversarial_loss: 5.2277\n",
      "Epoch 39/100\n",
      "38/38 - 1s - loss: 0.0281 - categorical_crossentropy: 0.0058 - categorical_accuracy: 0.9996 - adversarial_loss: 0.1118 - val_loss: 3.4553 - val_categorical_crossentropy: 2.5903 - val_categorical_accuracy: 0.5098 - val_adversarial_loss: 4.3251\n",
      "Epoch 40/100\n",
      "38/38 - 1s - loss: 0.0218 - categorical_crossentropy: 0.0042 - categorical_accuracy: 1.0000 - adversarial_loss: 0.0881 - val_loss: 3.5964 - val_categorical_crossentropy: 2.6847 - val_categorical_accuracy: 0.5117 - val_adversarial_loss: 4.5588\n",
      "Epoch 41/100\n",
      "38/38 - 1s - loss: 0.0197 - categorical_crossentropy: 0.0036 - categorical_accuracy: 0.9998 - adversarial_loss: 0.0802 - val_loss: 3.7648 - val_categorical_crossentropy: 2.8160 - val_categorical_accuracy: 0.4785 - val_adversarial_loss: 4.7436\n",
      "Epoch 42/100\n",
      "38/38 - 1s - loss: 0.0179 - categorical_crossentropy: 0.0031 - categorical_accuracy: 1.0000 - adversarial_loss: 0.0739 - val_loss: 3.8664 - val_categorical_crossentropy: 2.9006 - val_categorical_accuracy: 0.4727 - val_adversarial_loss: 4.8287\n",
      "Epoch 43/100\n",
      "38/38 - 1s - loss: 0.0155 - categorical_crossentropy: 0.0029 - categorical_accuracy: 0.9996 - adversarial_loss: 0.0633 - val_loss: 3.8647 - val_categorical_crossentropy: 2.8990 - val_categorical_accuracy: 0.4941 - val_adversarial_loss: 4.8287\n",
      "Epoch 44/100\n",
      "38/38 - 1s - loss: 0.0126 - categorical_crossentropy: 0.0022 - categorical_accuracy: 0.9998 - adversarial_loss: 0.0519 - val_loss: 4.3342 - val_categorical_crossentropy: 3.2743 - val_categorical_accuracy: 0.4688 - val_adversarial_loss: 5.2994\n",
      "Epoch 45/100\n",
      "38/38 - 1s - loss: 0.0129 - categorical_crossentropy: 0.0019 - categorical_accuracy: 1.0000 - adversarial_loss: 0.0549 - val_loss: 3.8326 - val_categorical_crossentropy: 2.8619 - val_categorical_accuracy: 0.5059 - val_adversarial_loss: 4.8533\n",
      "Epoch 46/100\n",
      "38/38 - 1s - loss: 0.0102 - categorical_crossentropy: 0.0015 - categorical_accuracy: 1.0000 - adversarial_loss: 0.0435 - val_loss: 4.2919 - val_categorical_crossentropy: 3.2317 - val_categorical_accuracy: 0.4883 - val_adversarial_loss: 5.3007\n",
      "Epoch 47/100\n",
      "38/38 - 1s - loss: 0.0092 - categorical_crossentropy: 0.0014 - categorical_accuracy: 1.0000 - adversarial_loss: 0.0392 - val_loss: 4.3393 - val_categorical_crossentropy: 3.2637 - val_categorical_accuracy: 0.4570 - val_adversarial_loss: 5.3780\n",
      "Epoch 48/100\n",
      "38/38 - 1s - loss: 0.0089 - categorical_crossentropy: 0.0013 - categorical_accuracy: 1.0000 - adversarial_loss: 0.0378 - val_loss: 4.1972 - val_categorical_crossentropy: 3.1524 - val_categorical_accuracy: 0.4688 - val_adversarial_loss: 5.2239\n",
      "Epoch 49/100\n",
      "38/38 - 1s - loss: 0.0083 - categorical_crossentropy: 0.0012 - categorical_accuracy: 1.0000 - adversarial_loss: 0.0354 - val_loss: 4.7053 - val_categorical_crossentropy: 3.5581 - val_categorical_accuracy: 0.4297 - val_adversarial_loss: 5.7360\n",
      "Epoch 50/100\n",
      "38/38 - 1s - loss: 0.0079 - categorical_crossentropy: 0.0012 - categorical_accuracy: 1.0000 - adversarial_loss: 0.0338 - val_loss: 4.4926 - val_categorical_crossentropy: 3.3847 - val_categorical_accuracy: 0.4453 - val_adversarial_loss: 5.5393\n",
      "Epoch 51/100\n",
      "38/38 - 1s - loss: 0.0075 - categorical_crossentropy: 0.0011 - categorical_accuracy: 1.0000 - adversarial_loss: 0.0319 - val_loss: 4.3271 - val_categorical_crossentropy: 3.2508 - val_categorical_accuracy: 0.4746 - val_adversarial_loss: 5.3814\n",
      "Epoch 52/100\n",
      "38/38 - 1s - loss: 0.0069 - categorical_crossentropy: 9.8891e-04 - categorical_accuracy: 1.0000 - adversarial_loss: 0.0297 - val_loss: 4.0542 - val_categorical_crossentropy: 3.0294 - val_categorical_accuracy: 0.5020 - val_adversarial_loss: 5.1241\n",
      "Epoch 53/100\n",
      "38/38 - 1s - loss: 0.0060 - categorical_crossentropy: 8.7201e-04 - categorical_accuracy: 1.0000 - adversarial_loss: 0.0257 - val_loss: 3.5051 - val_categorical_crossentropy: 2.5907 - val_categorical_accuracy: 0.5430 - val_adversarial_loss: 4.5721\n",
      "Epoch 54/100\n",
      "38/38 - 1s - loss: 0.0057 - categorical_crossentropy: 7.7211e-04 - categorical_accuracy: 1.0000 - adversarial_loss: 0.0246 - val_loss: 3.3863 - val_categorical_crossentropy: 2.4936 - val_categorical_accuracy: 0.5312 - val_adversarial_loss: 4.4637\n",
      "Epoch 55/100\n",
      "38/38 - 1s - loss: 0.0055 - categorical_crossentropy: 7.5112e-04 - categorical_accuracy: 1.0000 - adversarial_loss: 0.0239 - val_loss: 3.2472 - val_categorical_crossentropy: 2.3775 - val_categorical_accuracy: 0.5566 - val_adversarial_loss: 4.3481\n",
      "Epoch 56/100\n",
      "38/38 - 1s - loss: 0.0051 - categorical_crossentropy: 6.7783e-04 - categorical_accuracy: 1.0000 - adversarial_loss: 0.0220 - val_loss: 3.3138 - val_categorical_crossentropy: 2.4367 - val_categorical_accuracy: 0.5508 - val_adversarial_loss: 4.3852\n",
      "Epoch 57/100\n",
      "38/38 - 1s - loss: 0.0048 - categorical_crossentropy: 6.4381e-04 - categorical_accuracy: 1.0000 - adversarial_loss: 0.0209 - val_loss: 3.0867 - val_categorical_crossentropy: 2.2668 - val_categorical_accuracy: 0.5742 - val_adversarial_loss: 4.0992\n",
      "Epoch 58/100\n",
      "38/38 - 1s - loss: 0.0047 - categorical_crossentropy: 6.0109e-04 - categorical_accuracy: 1.0000 - adversarial_loss: 0.0203 - val_loss: 2.9501 - val_categorical_crossentropy: 2.1513 - val_categorical_accuracy: 0.5840 - val_adversarial_loss: 3.9938\n",
      "Epoch 59/100\n",
      "38/38 - 1s - loss: 0.0039 - categorical_crossentropy: 5.3489e-04 - categorical_accuracy: 1.0000 - adversarial_loss: 0.0166 - val_loss: 3.2526 - val_categorical_crossentropy: 2.3969 - val_categorical_accuracy: 0.5801 - val_adversarial_loss: 4.2783\n",
      "Epoch 60/100\n",
      "38/38 - 1s - loss: 0.0038 - categorical_crossentropy: 5.1704e-04 - categorical_accuracy: 1.0000 - adversarial_loss: 0.0162 - val_loss: 3.2687 - val_categorical_crossentropy: 2.4026 - val_categorical_accuracy: 0.5840 - val_adversarial_loss: 4.3304\n",
      "Epoch 61/100\n",
      "38/38 - 1s - loss: 0.0033 - categorical_crossentropy: 4.7526e-04 - categorical_accuracy: 1.0000 - adversarial_loss: 0.0142 - val_loss: 3.4243 - val_categorical_crossentropy: 2.5193 - val_categorical_accuracy: 0.5547 - val_adversarial_loss: 4.5249\n",
      "Epoch 62/100\n",
      "38/38 - 1s - loss: 0.0037 - categorical_crossentropy: 4.7750e-04 - categorical_accuracy: 1.0000 - adversarial_loss: 0.0159 - val_loss: 3.1308 - val_categorical_crossentropy: 2.2804 - val_categorical_accuracy: 0.5703 - val_adversarial_loss: 4.2524\n",
      "Epoch 63/100\n",
      "38/38 - 1s - loss: 0.0037 - categorical_crossentropy: 4.7023e-04 - categorical_accuracy: 1.0000 - adversarial_loss: 0.0161 - val_loss: 3.2531 - val_categorical_crossentropy: 2.3789 - val_categorical_accuracy: 0.5508 - val_adversarial_loss: 4.3708\n",
      "Epoch 64/100\n",
      "38/38 - 1s - loss: 0.0034 - categorical_crossentropy: 4.2953e-04 - categorical_accuracy: 1.0000 - adversarial_loss: 0.0150 - val_loss: 3.3109 - val_categorical_crossentropy: 2.4194 - val_categorical_accuracy: 0.5645 - val_adversarial_loss: 4.4575\n",
      "Epoch 65/100\n",
      "38/38 - 1s - loss: 0.0025 - categorical_crossentropy: 3.6020e-04 - categorical_accuracy: 1.0000 - adversarial_loss: 0.0108 - val_loss: 3.3016 - val_categorical_crossentropy: 2.4007 - val_categorical_accuracy: 0.5703 - val_adversarial_loss: 4.5046\n",
      "Epoch 66/100\n",
      "38/38 - 1s - loss: 0.0023 - categorical_crossentropy: 3.2643e-04 - categorical_accuracy: 1.0000 - adversarial_loss: 0.0096 - val_loss: 3.1309 - val_categorical_crossentropy: 2.2688 - val_categorical_accuracy: 0.5801 - val_adversarial_loss: 4.3105\n",
      "Epoch 67/100\n",
      "38/38 - 1s - loss: 0.0019 - categorical_crossentropy: 2.9435e-04 - categorical_accuracy: 1.0000 - adversarial_loss: 0.0080 - val_loss: 2.9581 - val_categorical_crossentropy: 2.1341 - val_categorical_accuracy: 0.5801 - val_adversarial_loss: 4.1198\n",
      "Epoch 68/100\n",
      "38/38 - 1s - loss: 0.0017 - categorical_crossentropy: 2.7324e-04 - categorical_accuracy: 1.0000 - adversarial_loss: 0.0073 - val_loss: 2.7063 - val_categorical_crossentropy: 1.9339 - val_categorical_accuracy: 0.6152 - val_adversarial_loss: 3.8618\n",
      "Epoch 69/100\n",
      "38/38 - 1s - loss: 0.0016 - categorical_crossentropy: 2.5278e-04 - categorical_accuracy: 1.0000 - adversarial_loss: 0.0065 - val_loss: 2.6189 - val_categorical_crossentropy: 1.8675 - val_categorical_accuracy: 0.6328 - val_adversarial_loss: 3.7573\n",
      "Epoch 70/100\n",
      "38/38 - 1s - loss: 0.0014 - categorical_crossentropy: 2.3695e-04 - categorical_accuracy: 1.0000 - adversarial_loss: 0.0059 - val_loss: 2.5975 - val_categorical_crossentropy: 1.8483 - val_categorical_accuracy: 0.6367 - val_adversarial_loss: 3.7461\n",
      "Epoch 71/100\n",
      "38/38 - 1s - loss: 0.0013 - categorical_crossentropy: 2.2308e-04 - categorical_accuracy: 1.0000 - adversarial_loss: 0.0055 - val_loss: 2.6215 - val_categorical_crossentropy: 1.8656 - val_categorical_accuracy: 0.6211 - val_adversarial_loss: 3.7793\n",
      "Epoch 72/100\n",
      "38/38 - 1s - loss: 0.0013 - categorical_crossentropy: 2.1551e-04 - categorical_accuracy: 1.0000 - adversarial_loss: 0.0055 - val_loss: 2.6238 - val_categorical_crossentropy: 1.8665 - val_categorical_accuracy: 0.6250 - val_adversarial_loss: 3.7862\n",
      "Epoch 73/100\n",
      "38/38 - 1s - loss: 0.0012 - categorical_crossentropy: 2.0552e-04 - categorical_accuracy: 1.0000 - adversarial_loss: 0.0050 - val_loss: 2.6328 - val_categorical_crossentropy: 1.8736 - val_categorical_accuracy: 0.6250 - val_adversarial_loss: 3.7960\n",
      "Epoch 74/100\n",
      "38/38 - 1s - loss: 0.0011 - categorical_crossentropy: 1.9230e-04 - categorical_accuracy: 1.0000 - adversarial_loss: 0.0045 - val_loss: 2.6251 - val_categorical_crossentropy: 1.8695 - val_categorical_accuracy: 0.6348 - val_adversarial_loss: 3.7780\n",
      "Epoch 75/100\n",
      "38/38 - 1s - loss: 0.0010 - categorical_crossentropy: 1.8274e-04 - categorical_accuracy: 1.0000 - adversarial_loss: 0.0042 - val_loss: 2.6331 - val_categorical_crossentropy: 1.8749 - val_categorical_accuracy: 0.6348 - val_adversarial_loss: 3.7908\n",
      "Epoch 76/100\n",
      "38/38 - 1s - loss: 9.9324e-04 - categorical_crossentropy: 1.7585e-04 - categorical_accuracy: 1.0000 - adversarial_loss: 0.0041 - val_loss: 2.6302 - val_categorical_crossentropy: 1.8717 - val_categorical_accuracy: 0.6289 - val_adversarial_loss: 3.7927\n",
      "Epoch 77/100\n",
      "38/38 - 1s - loss: 9.5053e-04 - categorical_crossentropy: 1.6840e-04 - categorical_accuracy: 1.0000 - adversarial_loss: 0.0039 - val_loss: 2.6429 - val_categorical_crossentropy: 1.8816 - val_categorical_accuracy: 0.6348 - val_adversarial_loss: 3.8063\n",
      "Epoch 78/100\n",
      "38/38 - 1s - loss: 9.1805e-04 - categorical_crossentropy: 1.6223e-04 - categorical_accuracy: 1.0000 - adversarial_loss: 0.0038 - val_loss: 2.6482 - val_categorical_crossentropy: 1.8851 - val_categorical_accuracy: 0.6328 - val_adversarial_loss: 3.8152\n",
      "Epoch 79/100\n",
      "38/38 - 1s - loss: 8.8661e-04 - categorical_crossentropy: 1.5626e-04 - categorical_accuracy: 1.0000 - adversarial_loss: 0.0036 - val_loss: 2.6540 - val_categorical_crossentropy: 1.8893 - val_categorical_accuracy: 0.6328 - val_adversarial_loss: 3.8235\n",
      "Epoch 80/100\n",
      "38/38 - 1s - loss: 8.5724e-04 - categorical_crossentropy: 1.5069e-04 - categorical_accuracy: 1.0000 - adversarial_loss: 0.0035 - val_loss: 2.6595 - val_categorical_crossentropy: 1.8930 - val_categorical_accuracy: 0.6328 - val_adversarial_loss: 3.8324\n",
      "Epoch 81/100\n",
      "38/38 - 1s - loss: 8.2954e-04 - categorical_crossentropy: 1.4540e-04 - categorical_accuracy: 1.0000 - adversarial_loss: 0.0034 - val_loss: 2.6657 - val_categorical_crossentropy: 1.8976 - val_categorical_accuracy: 0.6328 - val_adversarial_loss: 3.8406\n",
      "Epoch 82/100\n",
      "38/38 - 1s - loss: 8.0310e-04 - categorical_crossentropy: 1.4037e-04 - categorical_accuracy: 1.0000 - adversarial_loss: 0.0033 - val_loss: 2.6721 - val_categorical_crossentropy: 1.9022 - val_categorical_accuracy: 0.6348 - val_adversarial_loss: 3.8495\n",
      "Epoch 83/100\n",
      "38/38 - 1s - loss: 7.7869e-04 - categorical_crossentropy: 1.3564e-04 - categorical_accuracy: 1.0000 - adversarial_loss: 0.0032 - val_loss: 2.6761 - val_categorical_crossentropy: 1.9047 - val_categorical_accuracy: 0.6367 - val_adversarial_loss: 3.8572\n",
      "Epoch 84/100\n",
      "38/38 - 1s - loss: 7.5526e-04 - categorical_crossentropy: 1.3110e-04 - categorical_accuracy: 1.0000 - adversarial_loss: 0.0031 - val_loss: 2.6840 - val_categorical_crossentropy: 1.9103 - val_categorical_accuracy: 0.6367 - val_adversarial_loss: 3.8687\n",
      "Epoch 85/100\n",
      "38/38 - 1s - loss: 7.3304e-04 - categorical_crossentropy: 1.2678e-04 - categorical_accuracy: 1.0000 - adversarial_loss: 0.0030 - val_loss: 2.6878 - val_categorical_crossentropy: 1.9127 - val_categorical_accuracy: 0.6367 - val_adversarial_loss: 3.8757\n",
      "Epoch 86/100\n",
      "38/38 - 1s - loss: 7.1169e-04 - categorical_crossentropy: 1.2265e-04 - categorical_accuracy: 1.0000 - adversarial_loss: 0.0029 - val_loss: 2.6941 - val_categorical_crossentropy: 1.9172 - val_categorical_accuracy: 0.6328 - val_adversarial_loss: 3.8843\n",
      "Epoch 87/100\n",
      "38/38 - 1s - loss: 6.9116e-04 - categorical_crossentropy: 1.1870e-04 - categorical_accuracy: 1.0000 - adversarial_loss: 0.0029 - val_loss: 2.6988 - val_categorical_crossentropy: 1.9202 - val_categorical_accuracy: 0.6309 - val_adversarial_loss: 3.8933\n",
      "Epoch 88/100\n",
      "38/38 - 1s - loss: 6.7115e-04 - categorical_crossentropy: 1.1486e-04 - categorical_accuracy: 1.0000 - adversarial_loss: 0.0028 - val_loss: 2.7030 - val_categorical_crossentropy: 1.9229 - val_categorical_accuracy: 0.6309 - val_adversarial_loss: 3.9002\n",
      "Epoch 89/100\n",
      "38/38 - 1s - loss: 6.5238e-04 - categorical_crossentropy: 1.1124e-04 - categorical_accuracy: 1.0000 - adversarial_loss: 0.0027 - val_loss: 2.7110 - val_categorical_crossentropy: 1.9287 - val_categorical_accuracy: 0.6348 - val_adversarial_loss: 3.9114\n",
      "Epoch 90/100\n",
      "38/38 - 1s - loss: 6.3342e-04 - categorical_crossentropy: 1.0775e-04 - categorical_accuracy: 1.0000 - adversarial_loss: 0.0026 - val_loss: 2.7144 - val_categorical_crossentropy: 1.9308 - val_categorical_accuracy: 0.6348 - val_adversarial_loss: 3.9183\n",
      "Epoch 91/100\n",
      "38/38 - 1s - loss: 6.1567e-04 - categorical_crossentropy: 1.0438e-04 - categorical_accuracy: 1.0000 - adversarial_loss: 0.0026 - val_loss: 2.7203 - val_categorical_crossentropy: 1.9352 - val_categorical_accuracy: 0.6387 - val_adversarial_loss: 3.9259\n",
      "Epoch 92/100\n",
      "38/38 - 1s - loss: 5.9867e-04 - categorical_crossentropy: 1.0113e-04 - categorical_accuracy: 1.0000 - adversarial_loss: 0.0025 - val_loss: 2.7250 - val_categorical_crossentropy: 1.9385 - val_categorical_accuracy: 0.6367 - val_adversarial_loss: 3.9324\n",
      "Epoch 93/100\n",
      "38/38 - 1s - loss: 5.8249e-04 - categorical_crossentropy: 9.8047e-05 - categorical_accuracy: 1.0000 - adversarial_loss: 0.0024 - val_loss: 2.7324 - val_categorical_crossentropy: 1.9437 - val_categorical_accuracy: 0.6387 - val_adversarial_loss: 3.9434\n",
      "Epoch 94/100\n",
      "38/38 - 1s - loss: 5.6646e-04 - categorical_crossentropy: 9.5066e-05 - categorical_accuracy: 1.0000 - adversarial_loss: 0.0024 - val_loss: 2.7351 - val_categorical_crossentropy: 1.9449 - val_categorical_accuracy: 0.6387 - val_adversarial_loss: 3.9509\n",
      "Epoch 95/100\n",
      "38/38 - 1s - loss: 5.5128e-04 - categorical_crossentropy: 9.2179e-05 - categorical_accuracy: 1.0000 - adversarial_loss: 0.0023 - val_loss: 2.7398 - val_categorical_crossentropy: 1.9482 - val_categorical_accuracy: 0.6387 - val_adversarial_loss: 3.9577\n",
      "Epoch 96/100\n",
      "38/38 - 1s - loss: 5.3655e-04 - categorical_crossentropy: 8.9425e-05 - categorical_accuracy: 1.0000 - adversarial_loss: 0.0022 - val_loss: 2.7431 - val_categorical_crossentropy: 1.9503 - val_categorical_accuracy: 0.6387 - val_adversarial_loss: 3.9641\n",
      "Epoch 97/100\n",
      "38/38 - 1s - loss: 5.2314e-04 - categorical_crossentropy: 8.6757e-05 - categorical_accuracy: 1.0000 - adversarial_loss: 0.0022 - val_loss: 2.7501 - val_categorical_crossentropy: 1.9553 - val_categorical_accuracy: 0.6367 - val_adversarial_loss: 3.9739\n",
      "Epoch 98/100\n",
      "38/38 - 1s - loss: 5.0895e-04 - categorical_crossentropy: 8.4201e-05 - categorical_accuracy: 1.0000 - adversarial_loss: 0.0021 - val_loss: 2.7534 - val_categorical_crossentropy: 1.9573 - val_categorical_accuracy: 0.6387 - val_adversarial_loss: 3.9803\n",
      "Epoch 99/100\n",
      "38/38 - 1s - loss: 4.9607e-04 - categorical_crossentropy: 8.1719e-05 - categorical_accuracy: 1.0000 - adversarial_loss: 0.0021 - val_loss: 2.7592 - val_categorical_crossentropy: 1.9615 - val_categorical_accuracy: 0.6387 - val_adversarial_loss: 3.9888\n",
      "Epoch 100/100\n",
      "38/38 - 1s - loss: 4.8232e-04 - categorical_crossentropy: 7.9312e-05 - categorical_accuracy: 1.0000 - adversarial_loss: 0.0020 - val_loss: 2.7636 - val_categorical_crossentropy: 1.9644 - val_categorical_accuracy: 0.6367 - val_adversarial_loss: 3.9961\n"
     ]
    },
    {
     "data": {
      "text/plain": [
       "<tensorflow.python.keras.callbacks.History at 0x7f3ed025cf90>"
      ]
     },
     "execution_count": 19,
     "metadata": {},
     "output_type": "execute_result"
    }
   ],
   "source": [
    "train3=tf.data.Dataset.from_tensor_slices(\n",
    "    {'input':X_train3,'label':cy_train3}).batch(batch_size)\n",
    "valid3=tf.data.Dataset.from_tensor_slices(\n",
    "    {'input':X_valid3,'label':cy_valid3}).batch(batch_size)\n",
    "valid_steps=X_valid3.shape[0]//batch_size\n",
    "adv_model.fit(train3,validation_data=valid3,verbose=2,\n",
    "              validation_steps=valid_steps,epochs=epochs)"
   ]
  },
  {
   "cell_type": "code",
   "execution_count": 20,
   "metadata": {},
   "outputs": [
    {
     "name": "stdout",
     "output_type": "stream",
     "text": [
      "594/594 [==============================] - 1s 1ms/sample - loss: 2.6166 - categorical_crossentropy: 1.8580 - categorical_accuracy: 0.6347 - adversarial_loss: 3.8814\n",
      "Test accuracy: 63.5\n"
     ]
    }
   ],
   "source": [
    "scores3=adv_model.evaluate({'input':X_test3,'label':cy_test3})\n",
    "print(\"Test accuracy: %.1f\"%(scores3[2]*100.))"
   ]
  }
 ],
 "metadata": {
  "kernelspec": {
   "display_name": "Python 3",
   "language": "python",
   "name": "python3"
  },
  "language_info": {
   "codemirror_mode": {
    "name": "ipython",
    "version": 3
   },
   "file_extension": ".py",
   "mimetype": "text/x-python",
   "name": "python",
   "nbconvert_exporter": "python",
   "pygments_lexer": "ipython3",
   "version": "3.7.6"
  }
 },
 "nbformat": 4,
 "nbformat_minor": 4
}
