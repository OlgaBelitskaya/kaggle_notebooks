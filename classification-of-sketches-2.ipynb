{
 "cells": [
  {
   "cell_type": "markdown",
   "execution_count": null,
   "metadata": {},
   "source": [
    "<h1 class='font-effect-3d' style='font-family:Ewert; color:#ff355e; font-size:150%;'> \n",
    "    Code Library, Style, & Links</h1>"
   ]
  },
  {
   "cell_type": "code",
   "execution_count": 1,
   "metadata": {
    "_kg_hide-input": true
   },
   "outputs": [
    {
     "data": {
      "text/html": [
       "<style>\n",
       "@import url('https://fonts.googleapis.com/css?family=Ewert|Roboto&effect=3d');\n",
       "span {font-family:'Roboto'; color:black; text-shadow:4px 4px 4px slategray;}  \n",
       "div.output_area pre{font-family:'Roboto'; font-size:110%; color:#ff355e;}      \n",
       "</style>\n"
      ],
      "text/plain": [
       "<IPython.core.display.HTML object>"
      ]
     },
     "metadata": {},
     "output_type": "display_data"
    }
   ],
   "source": [
    "%%html\n",
    "<style>\n",
    "@import url('https://fonts.googleapis.com/css?family=Ewert|Roboto&effect=3d');\n",
    "span {font-family:'Roboto'; color:black; text-shadow:4px 4px 4px slategray;}  \n",
    "div.output_area pre{font-family:'Roboto'; font-size:110%; color:#ff355e;}      \n",
    "</style>"
   ]
  },
  {
   "cell_type": "code",
   "execution_count": 2,
   "metadata": {
    "_cell_guid": "b1076dfc-b9ad-4769-8c92-a6c4dae69d19",
    "_kg_hide-output": true,
    "_uuid": "8f2839f25d086af736a60e9eeb907d3b93b6e0e5"
   },
   "outputs": [
    {
     "data": {
      "text/plain": [
       "[['QuickDrawImages1.h5',\n",
       "  'QuickDrawImages2.h5',\n",
       "  'QuickDrawImages3.h5',\n",
       "  'QuickDrawImages4.h5',\n",
       "  'QuickDrawImages5.h5'],\n",
       " ['QuickDrawImages6.h5',\n",
       "  'QuickDrawImages7.h5',\n",
       "  'QuickDrawImages8.h5',\n",
       "  'QuickDrawImages9.h5',\n",
       "  'QuickDrawImages10.h5'],\n",
       " ['QuickDrawImages11.h5',\n",
       "  'QuickDrawImages12.h5',\n",
       "  'QuickDrawImages13.h5',\n",
       "  'QuickDrawImages14.h5',\n",
       "  'QuickDrawImages15.h5'],\n",
       " ['QuickDrawImages16.h5',\n",
       "  'QuickDrawImages17.h5',\n",
       "  'QuickDrawImages18.h5',\n",
       "  'QuickDrawImages19.h5',\n",
       "  'QuickDrawImages20.h5']]"
      ]
     },
     "execution_count": 2,
     "metadata": {},
     "output_type": "execute_result"
    }
   ],
   "source": [
    "import numpy as np,pandas as pd\n",
    "import os,h5py,warnings,urllib\n",
    "import tensorflow as tf,pylab as pl\n",
    "from tensorflow import image as timg\n",
    "import tensorflow.keras.layers as tfkl\n",
    "import tensorflow.keras.applications as tfka\n",
    "import tensorflow_hub as th\n",
    "from sklearn.metrics import confusion_matrix,\\\n",
    "classification_report\n",
    "from IPython.core.magic import register_line_magic\n",
    "warnings.filterwarnings('ignore')\n",
    "pl.style.use('seaborn-whitegrid')\n",
    "style_dict={'background-color':'silver','color':'#ff355e', \n",
    "            'border-color':'white','font-family':'Roboto'}\n",
    "fpath='../input/quick-draw-images-from-key-points/'\n",
    "fpath2='../input/quick-draw-images-from-key-points-2/'\n",
    "fpath3='../input/quick-draw-images-from-key-points-3/'\n",
    "fpath4='../input/quick-draw-images-from-key-points-4/'\n",
    "files=sorted(os.listdir(fpath))\n",
    "files2=sorted(os.listdir(fpath2))\n",
    "files3=sorted(os.listdir(fpath3))\n",
    "files4=sorted(os.listdir(fpath4))\n",
    "files2=files2[1:]+[files2[0]]\n",
    "[files,files2,files3,files4]"
   ]
  },
  {
   "cell_type": "markdown",
   "execution_count": null,
   "metadata": {},
   "source": [
    "<h1 class='font-effect-3d' style='font-family:Ewert; color:#ff355e; font-size:150%;'> \n",
    "    Data Construction</h1>"
   ]
  },
  {
   "cell_type": "code",
   "execution_count": 3,
   "metadata": {
    "_cell_guid": "79c7e3d0-c299-4dcb-8224-4455121ee9b0",
    "_kg_hide-input": true,
    "_uuid": "d629ff2d2480ee46fbb7e2d37f6b5fab8052498a"
   },
   "outputs": [],
   "source": [
    "labels=['The Eiffel Tower','The Great Wall of China',\n",
    "        'The Mona Lisa','airplane',\n",
    "        'alarm clock','ambulance','angel',\n",
    "        'animal migration','ant','anvil',\n",
    "        'apple','arm','asparagus','axe','backpack',\n",
    "        'banana','bandage','barn','baseball bat','baseball',\n",
    "        'basket','basketball','bat','bathtub','beach',\n",
    "        'bear','beard','bed','bee','belt',\n",
    "        'bench','bicycle','binoculars','bird',\n",
    "        'birthday cake','blackberry','blueberry',\n",
    "        'book','boomerang','bottlecap',\n",
    "        'bowtie','bracelet','brain','bread','bridge',\n",
    "        'broccoli','broom','bucket','bulldozer','bus',\n",
    "        'bush','butterfly','cactus','cake','calculator',\n",
    "        'calendar','camel','camera','camouflage','campfire',\n",
    "        'candle','cannon','canoe','car','carrot',\n",
    "        'castle','cat','ceilingfan','cellphone','cello',\n",
    "        'chair','chandelier','church','circle','clarinet',\n",
    "        'clock','cloud','coffee_cup','compass','computer',\n",
    "        'cookie','cooler','couch','cow','crab',\n",
    "        'crayon','crocodile','crown','cruise_ship','cup',\n",
    "        'diamond','dishwasher','diving_board','dog',\n",
    "        'dolphin','donut','door','dragon','dresser','drill',\n",
    "        'drums','duck','dumbbell','ear','elbow',\n",
    "        'elephant','envelope','eraser','eye','eyeglasses',\n",
    "        'face','fan','feather','fence','finger','fire_hydrant',\n",
    "        'fireplace','firetruck','fish','flamingo',\n",
    "        'flashlight','flipflops','floorlamp','flower','flyingsaucer',\n",
    "        'foot','fork','frog','fryingpan','garden_hose',\n",
    "        'garden','giraffe','goatee','golf_club','grapes',\n",
    "        'grass','guitar','hamburger','hammer','hand',\n",
    "        'harp','hat','headphones','hedgehog','helicopter', \n",
    "        'helmet','hexagon','hockeypuck','hockeystick','horse',\n",
    "        'hospital','hot_air_balloon','hot_dog','hot_tub','hourglass',\n",
    "        'house_plant','house','hurricane','ice_cream','jacket',\n",
    "        'jail','kangaroo','key','keyboard','knee','ladder',\n",
    "        'lantern','laptop','leaf','leg','light_bulb','lighthouse',\n",
    "        'lightning','line','lion','lipstick','lobster','lollipop',\n",
    "        'mailbox','map','marker','matches','megaphone','mermaid',\n",
    "        'microphone','microwave','monkey','moon','mosquito',\n",
    "        'motorbike','mountain','mouse','moustache','mouth','mug',\n",
    "        'mushroom','nail','necklace','nose','ocean']"
   ]
  },
  {
   "cell_type": "code",
   "execution_count": 4,
   "metadata": {},
   "outputs": [],
   "source": [
    "@register_line_magic\n",
    "def data_files(n):\n",
    "    global x,y,D\n",
    "    if n=='1': fp=fpath; fns=files\n",
    "    if n=='2': fp=fpath2; fns=files2\n",
    "    if n=='3': fp=fpath3; fns=files3\n",
    "    if n=='4': fp=fpath4; fns=files4\n",
    "    for i in range(5):\n",
    "        f=h5py.File(fp+fns[i],'r')\n",
    "        keys=list(f.keys())\n",
    "        x+=[f[keys[0]][i*10000:i*10000+D] \n",
    "            for i in range(10)]\n",
    "        y+=[f[keys[1]][i*10000:i*10000+D]\n",
    "            for i in range(10)]    "
   ]
  },
  {
   "cell_type": "code",
   "execution_count": 5,
   "metadata": {},
   "outputs": [],
   "source": [
    "D=200; x=[]; y=[]\n",
    "%data_files 1\n",
    "%data_files 2\n",
    "%data_files 3\n",
    "%data_files 4"
   ]
  },
  {
   "cell_type": "code",
   "execution_count": 6,
   "metadata": {},
   "outputs": [
    {
     "data": {
      "text/plain": [
       "((40000, 96, 96, 3), (40000,))"
      ]
     },
     "execution_count": 6,
     "metadata": {},
     "output_type": "execute_result"
    }
   ],
   "source": [
    "x=np.array(x)\n",
    "num_classes=x.shape[0]\n",
    "x=x.reshape(num_classes*D,96,96,1)\n",
    "img_size=96\n",
    "x=timg.resize(x,[img_size,img_size])\n",
    "x=timg.grayscale_to_rgb(x).numpy()\n",
    "y=np.array(y).reshape(num_classes*D)\n",
    "N=y.shape[0]; n=int(.1*N)\n",
    "shuffle_ids=np.arange(N)\n",
    "np.random.RandomState(12).shuffle(shuffle_ids)\n",
    "x,y=x[shuffle_ids],y[shuffle_ids]\n",
    "x.shape,y.shape"
   ]
  },
  {
   "cell_type": "code",
   "execution_count": 7,
   "metadata": {},
   "outputs": [
    {
     "data": {
      "image/png": "[encoded data removed]",
      "text/plain": [
       "<Figure size 720x144 with 7 Axes>"
      ]
     },
     "metadata": {},
     "output_type": "display_data"
    }
   ],
   "source": [
    "nn=np.random.randint(0,N,7)\n",
    "ll=[labels[y[nn[i]]] for i in range(7)]\n",
    "pl.figure(figsize=(10,2))\n",
    "for i in range(7):\n",
    "    pl.subplot(1,7,i+1)\n",
    "    pl.imshow(x[nn[i]])\n",
    "pl.suptitle('Key Points to Lines: \\n%s'%ll);"
   ]
  },
  {
   "cell_type": "code",
   "execution_count": 8,
   "metadata": {},
   "outputs": [],
   "source": [
    "x_test,x_valid,x_train=x[:n],x[n:2*n],x[2*n:]\n",
    "y_test,y_valid,y_train=y[:n],y[n:2*n],y[2*n:]\n",
    "del x,y,shuffle_ids"
   ]
  },
  {
   "cell_type": "markdown",
   "execution_count": null,
   "metadata": {},
   "source": [
    "<h1 class='font-effect-3d' style='font-family:Ewert; color:#ff355e; font-size:150%;'> \n",
    "    TFHub Models</h1>"
   ]
  },
  {
   "cell_type": "code",
   "execution_count": 9,
   "metadata": {},
   "outputs": [],
   "source": [
    "def premodel(pix,den,mh,lbl,activ,loss):\n",
    "    model=tf.keras.Sequential([\n",
    "        tf.keras.layers.Input((pix,pix,3),\n",
    "                              name='input'),\n",
    "        th.KerasLayer(mh,trainable=True),\n",
    "        tf.keras.layers.Flatten(),\n",
    "        tf.keras.layers.Dense(den,activation='relu'),\n",
    "        tf.keras.layers.Dropout(rate=.5),\n",
    "        tf.keras.layers.Dense(lbl,activation=activ)])\n",
    "    model.compile(optimizer='adam',\n",
    "                  metrics=['accuracy'],loss=loss)\n",
    "    display(model.summary())\n",
    "    return model\n",
    "def cb(fw):\n",
    "    early_stopping=tf.keras.callbacks\\\n",
    "    .EarlyStopping(monitor='val_loss',patience=20,verbose=2)\n",
    "    checkpointer=tf.keras.callbacks\\\n",
    "    .ModelCheckpoint(filepath=fw,save_best_only=True,verbose=2)\n",
    "    lr_reduction=tf.keras.callbacks\\\n",
    "    .ReduceLROnPlateau(monitor='val_loss',verbose=2,\n",
    "                       patience=5,factor=.8)\n",
    "    return [checkpointer,early_stopping,lr_reduction]"
   ]
  },
  {
   "cell_type": "code",
   "execution_count": 10,
   "metadata": {},
   "outputs": [],
   "source": [
    "fw='weights.best.cv001-%s'%num_classes+'.hdf5'\n",
    "[handle_base,pixels]=[\"mobilenet_v2_050_96\",img_size]\n",
    "mhandle=\"https://tfhub.dev/google/imagenet/{}/feature_vector/4\"\\\n",
    ".format(handle_base)"
   ]
  },
  {
   "cell_type": "code",
   "execution_count": 11,
   "metadata": {},
   "outputs": [
    {
     "name": "stdout",
     "output_type": "stream",
     "text": [
      "Model: \"sequential\"\n",
      "_________________________________________________________________\n",
      "Layer (type)                 Output Shape              Param #   \n",
      "=================================================================\n",
      "keras_layer (KerasLayer)     (None, 1280)              706224    \n",
      "_________________________________________________________________\n",
      "flatten (Flatten)            (None, 1280)              0         \n",
      "_________________________________________________________________\n",
      "dense (Dense)                (None, 2048)              2623488   \n",
      "_________________________________________________________________\n",
      "dropout (Dropout)            (None, 2048)              0         \n",
      "_________________________________________________________________\n",
      "dense_1 (Dense)              (None, 200)               409800    \n",
      "=================================================================\n",
      "Total params: 3,739,512\n",
      "Trainable params: 3,720,968\n",
      "Non-trainable params: 18,544\n",
      "_________________________________________________________________\n"
     ]
    },
    {
     "data": {
      "text/plain": [
       "None"
      ]
     },
     "metadata": {},
     "output_type": "display_data"
    },
    {
     "name": "stdout",
     "output_type": "stream",
     "text": [
      "Epoch 1/7\n",
      "250/250 [==============================] - ETA: 0s - loss: 2.7563 - accuracy: 0.3794\n",
      "Epoch 00001: val_loss improved from inf to 2.48345, saving model to weights.best.cv001-200.hdf5\n",
      "250/250 [==============================] - 22s 89ms/step - loss: 2.7563 - accuracy: 0.3794 - val_loss: 2.4835 - val_accuracy: 0.4160 - lr: 0.0010\n",
      "Epoch 2/7\n",
      "250/250 [==============================] - ETA: 0s - loss: 1.7988 - accuracy: 0.5596\n",
      "Epoch 00002: val_loss improved from 2.48345 to 2.02674, saving model to weights.best.cv001-200.hdf5\n",
      "250/250 [==============================] - 21s 83ms/step - loss: 1.7988 - accuracy: 0.5596 - val_loss: 2.0267 - val_accuracy: 0.5220 - lr: 0.0010\n",
      "Epoch 3/7\n",
      "250/250 [==============================] - ETA: 0s - loss: 1.5066 - accuracy: 0.6253\n",
      "Epoch 00003: val_loss improved from 2.02674 to 1.94506, saving model to weights.best.cv001-200.hdf5\n",
      "250/250 [==============================] - 21s 83ms/step - loss: 1.5066 - accuracy: 0.6253 - val_loss: 1.9451 - val_accuracy: 0.5570 - lr: 0.0010\n",
      "Epoch 4/7\n",
      "250/250 [==============================] - ETA: 0s - loss: 1.3158 - accuracy: 0.6678\n",
      "Epoch 00004: val_loss improved from 1.94506 to 1.68962, saving model to weights.best.cv001-200.hdf5\n",
      "250/250 [==============================] - 21s 84ms/step - loss: 1.3158 - accuracy: 0.6678 - val_loss: 1.6896 - val_accuracy: 0.5997 - lr: 0.0010\n",
      "Epoch 5/7\n",
      "250/250 [==============================] - ETA: 0s - loss: 1.1800 - accuracy: 0.6982\n",
      "Epoch 00005: val_loss did not improve from 1.68962\n",
      "250/250 [==============================] - 20s 81ms/step - loss: 1.1800 - accuracy: 0.6982 - val_loss: 1.7240 - val_accuracy: 0.5965 - lr: 0.0010\n",
      "Epoch 6/7\n",
      "250/250 [==============================] - ETA: 0s - loss: 1.0667 - accuracy: 0.7203\n",
      "Epoch 00006: val_loss did not improve from 1.68962\n",
      "250/250 [==============================] - 20s 81ms/step - loss: 1.0667 - accuracy: 0.7203 - val_loss: 1.7509 - val_accuracy: 0.6050 - lr: 0.0010\n",
      "Epoch 7/7\n",
      "250/250 [==============================] - ETA: 0s - loss: 0.9640 - accuracy: 0.7481\n",
      "Epoch 00007: val_loss did not improve from 1.68962\n",
      "250/250 [==============================] - 21s 83ms/step - loss: 0.9640 - accuracy: 0.7481 - val_loss: 1.8468 - val_accuracy: 0.5970 - lr: 0.0010\n"
     ]
    }
   ],
   "source": [
    "model=premodel(pixels,2048,mhandle,num_classes,\n",
    "               'softmax','sparse_categorical_crossentropy')\n",
    "history=model.fit(x=x_train,y=y_train,batch_size=128,\n",
    "                  epochs=7,callbacks=cb(fw),\n",
    "                  validation_data=(x_valid,y_valid))"
   ]
  },
  {
   "cell_type": "code",
   "execution_count": 12,
   "metadata": {},
   "outputs": [
    {
     "name": "stdout",
     "output_type": "stream",
     "text": [
      "125/125 [==============================] - 1s 7ms/step - loss: 1.6886 - accuracy: 0.6037\n"
     ]
    },
    {
     "data": {
      "text/plain": [
       "[1.688613772392273, 0.6037499904632568]"
      ]
     },
     "execution_count": 12,
     "metadata": {},
     "output_type": "execute_result"
    }
   ],
   "source": [
    "model.load_weights(fw)\n",
    "model.evaluate(x_test,y_test)"
   ]
  }
 ],
 "metadata": {
  "kernelspec": {
   "display_name": "Python 3",
   "language": "python",
   "name": "python3"
  },
  "language_info": {
   "codemirror_mode": {
    "name": "ipython",
    "version": 3
   },
   "file_extension": ".py",
   "mimetype": "text/x-python",
   "name": "python",
   "nbconvert_exporter": "python",
   "pygments_lexer": "ipython3",
   "version": "3.7.6"
  }
 },
 "nbformat": 4,
 "nbformat_minor": 4
}
