{
 "cells": [
  {
   "cell_type": "markdown",
   "metadata": {},
   "source": [
    "# &#x1F4D1; &nbsp;  Digit Recognition Models"
   ]
  },
  {
   "cell_type": "markdown",
   "metadata": {},
   "source": [
    "## Style, Links and Libraries\n",
    "[`R interface to Keras`](https://tensorflow.rstudio.com/keras/)\n",
    "\n",
    "[`Package \"keras\"`](https://cran.r-project.org/web/packages/keras/keras.pdf)\n",
    "\n",
    "[`Deep Learning with R. François Chollet, J.J. Allaire`](https://github.com/jjallaire/deep-learning-with-r-notebooks)"
   ]
  },
  {
   "cell_type": "code",
   "execution_count": 2,
   "metadata": {},
   "outputs": [],
   "source": [
    "library(IRdisplay)\n",
    "library(repr)\n",
    "library(tensorflow)\n",
    "library(keras)\n",
    "library(imager)\n",
    "library(R6)"
   ]
  },
  {
   "cell_type": "code",
   "execution_count": 3,
   "metadata": {},
   "outputs": [
    {
     "data": {
      "text/html": [
       "<style> \n",
       "@import url('https://fonts.googleapis.com/css?family=Orbitron|Roboto');\n",
       "body {background-color: gainsboro;} \n",
       "a {color: #37c9e1; font-family: 'Roboto';} \n",
       "h1 {color: #37c9e1; font-family: 'Orbitron'; text-shadow: 4px 4px 4px #ccc;} \n",
       "h2, h3 {color: slategray; font-family: 'Orbitron'; text-shadow: 4px 4px 4px #ccc;}\n",
       "h4 {color: #818286; font-family: 'Roboto';}\n",
       "span {text-shadow: 4px 4px 4px #ccc;}\n",
       "div.output_prompt, div.output_area pre {color: slategray;}\n",
       "div.input_prompt, div.output_subarea {color: #37c9e1;}      \n",
       "div.output_stderr pre {background-color: gainsboro;}  \n",
       "div.output_stderr {background-color: slategrey;} \n",
       "</style>"
      ]
     },
     "metadata": {},
     "output_type": "display_data"
    }
   ],
   "source": [
    "display_html(\"<style> \n",
    "@import url('https://fonts.googleapis.com/css?family=Orbitron|Roboto');\n",
    "body {background-color: gainsboro;} \n",
    "a {color: #37c9e1; font-family: 'Roboto';} \n",
    "h1 {color: #37c9e1; font-family: 'Orbitron'; text-shadow: 4px 4px 4px #ccc;} \n",
    "h2, h3 {color: slategray; font-family: 'Orbitron'; text-shadow: 4px 4px 4px #ccc;}\n",
    "h4 {color: #818286; font-family: 'Roboto';}\n",
    "span {text-shadow: 4px 4px 4px #ccc;}\n",
    "div.output_prompt, div.output_area pre {color: slategray;}\n",
    "div.input_prompt, div.output_subarea {color: #37c9e1;}      \n",
    "div.output_stderr pre {background-color: gainsboro;}  \n",
    "div.output_stderr {background-color: slategrey;} \n",
    "</style>\")"
   ]
  },
  {
   "cell_type": "markdown",
   "metadata": {},
   "source": [
    "## Dataset"
   ]
  },
  {
   "cell_type": "code",
   "execution_count": 35,
   "metadata": {},
   "outputs": [],
   "source": [
    "df_train <- read.csv(\"kaggle_digits_train.csv\")\n",
    "df_test  <- read.csv(\"kaggle_digits_test.csv\")"
   ]
  },
  {
   "cell_type": "code",
   "execution_count": 36,
   "metadata": {},
   "outputs": [],
   "source": [
    "n <- nrow(df_train)\n",
    "df_train <- df_train[sample(n),]"
   ]
  },
  {
   "cell_type": "code",
   "execution_count": 37,
   "metadata": {},
   "outputs": [
    {
     "data": {
      "text/html": [
       "<ol class=list-inline>\n",
       "\t<li>42000</li>\n",
       "\t<li>784</li>\n",
       "</ol>\n"
      ],
      "text/latex": [
       "\\begin{enumerate*}\n",
       "\\item 42000\n",
       "\\item 784\n",
       "\\end{enumerate*}\n"
      ],
      "text/markdown": [
       "1. 42000\n",
       "2. 784\n",
       "\n",
       "\n"
      ],
      "text/plain": [
       "[1] 42000   784"
      ]
     },
     "metadata": {},
     "output_type": "display_data"
    },
    {
     "data": {
      "text/html": [
       "<ol class=list-inline>\n",
       "\t<li>28000</li>\n",
       "\t<li>784</li>\n",
       "</ol>\n"
      ],
      "text/latex": [
       "\\begin{enumerate*}\n",
       "\\item 28000\n",
       "\\item 784\n",
       "\\end{enumerate*}\n"
      ],
      "text/markdown": [
       "1. 28000\n",
       "2. 784\n",
       "\n",
       "\n"
      ],
      "text/plain": [
       "[1] 28000   784"
      ]
     },
     "metadata": {},
     "output_type": "display_data"
    },
    {
     "data": {
      "text/html": [
       "<ol class=list-inline>\n",
       "\t<li>42000</li>\n",
       "\t<li>10</li>\n",
       "</ol>\n"
      ],
      "text/latex": [
       "\\begin{enumerate*}\n",
       "\\item 42000\n",
       "\\item 10\n",
       "\\end{enumerate*}\n"
      ],
      "text/markdown": [
       "1. 42000\n",
       "2. 10\n",
       "\n",
       "\n"
      ],
      "text/plain": [
       "[1] 42000    10"
      ]
     },
     "metadata": {},
     "output_type": "display_data"
    }
   ],
   "source": [
    "train_labels <- keras::to_categorical(as.matrix(df_train[,1]), num_classes=10)\n",
    "train_images <- as.matrix(df_train[,-1]) / 255\n",
    "test_images <- as.matrix(df_test) / 255\n",
    "dim(train_images); dim(test_images); dim(train_labels)"
   ]
  },
  {
   "cell_type": "code",
   "execution_count": 38,
   "metadata": {},
   "outputs": [
    {
     "data": {
      "text/html": [
       "<table>\n",
       "<thead><tr><th></th><th scope=col>pixel14</th><th scope=col>pixel15</th><th scope=col>pixel16</th><th scope=col>pixel17</th><th scope=col>pixel18</th><th scope=col>pixel19</th></tr></thead>\n",
       "<tbody>\n",
       "\t<tr><th scope=row>34352</th><td>0</td><td>0</td><td>0</td><td>0</td><td>0</td><td>0</td></tr>\n",
       "\t<tr><th scope=row>11161</th><td>0</td><td>0</td><td>0</td><td>0</td><td>0</td><td>0</td></tr>\n",
       "\t<tr><th scope=row>17775</th><td>0</td><td>0</td><td>0</td><td>0</td><td>0</td><td>0</td></tr>\n",
       "\t<tr><th scope=row>18328</th><td>0</td><td>0</td><td>0</td><td>0</td><td>0</td><td>0</td></tr>\n",
       "\t<tr><th scope=row>31204</th><td>0</td><td>0</td><td>0</td><td>0</td><td>0</td><td>0</td></tr>\n",
       "\t<tr><th scope=row>32103</th><td>0</td><td>0</td><td>0</td><td>0</td><td>0</td><td>0</td></tr>\n",
       "</tbody>\n",
       "</table>\n"
      ],
      "text/latex": [
       "\\begin{tabular}{r|llllll}\n",
       "  & pixel14 & pixel15 & pixel16 & pixel17 & pixel18 & pixel19\\\\\n",
       "\\hline\n",
       "\t34352 & 0 & 0 & 0 & 0 & 0 & 0\\\\\n",
       "\t11161 & 0 & 0 & 0 & 0 & 0 & 0\\\\\n",
       "\t17775 & 0 & 0 & 0 & 0 & 0 & 0\\\\\n",
       "\t18328 & 0 & 0 & 0 & 0 & 0 & 0\\\\\n",
       "\t31204 & 0 & 0 & 0 & 0 & 0 & 0\\\\\n",
       "\t32103 & 0 & 0 & 0 & 0 & 0 & 0\\\\\n",
       "\\end{tabular}\n"
      ],
      "text/markdown": [
       "\n",
       "| <!--/--> | pixel14 | pixel15 | pixel16 | pixel17 | pixel18 | pixel19 | \n",
       "|---|---|---|---|---|---|\n",
       "| 34352 | 0 | 0 | 0 | 0 | 0 | 0 | \n",
       "| 11161 | 0 | 0 | 0 | 0 | 0 | 0 | \n",
       "| 17775 | 0 | 0 | 0 | 0 | 0 | 0 | \n",
       "| 18328 | 0 | 0 | 0 | 0 | 0 | 0 | \n",
       "| 31204 | 0 | 0 | 0 | 0 | 0 | 0 | \n",
       "| 32103 | 0 | 0 | 0 | 0 | 0 | 0 | \n",
       "\n",
       "\n"
      ],
      "text/plain": [
       "      pixel14 pixel15 pixel16 pixel17 pixel18 pixel19\n",
       "34352 0       0       0       0       0       0      \n",
       "11161 0       0       0       0       0       0      \n",
       "17775 0       0       0       0       0       0      \n",
       "18328 0       0       0       0       0       0      \n",
       "31204 0       0       0       0       0       0      \n",
       "32103 0       0       0       0       0       0      "
      ]
     },
     "metadata": {},
     "output_type": "display_data"
    }
   ],
   "source": [
    "train_images[15:20,15:20]"
   ]
  },
  {
   "cell_type": "code",
   "execution_count": 42,
   "metadata": {},
   "outputs": [
    {
     "data": {
      "text/html": [
       "<ol class=list-inline>\n",
       "\t<li>28</li>\n",
       "\t<li>28</li>\n",
       "</ol>\n"
      ],
      "text/latex": [
       "\\begin{enumerate*}\n",
       "\\item 28\n",
       "\\item 28\n",
       "\\end{enumerate*}\n"
      ],
      "text/markdown": [
       "1. 28\n",
       "2. 28\n",
       "\n",
       "\n"
      ],
      "text/plain": [
       "[1] 28 28"
      ]
     },
     "metadata": {},
     "output_type": "display_data"
    },
    {
     "data": {
      "text/html": [
       "<ol class=list-inline>\n",
       "\t<li>1</li>\n",
       "\t<li>0</li>\n",
       "\t<li>0</li>\n",
       "\t<li>0</li>\n",
       "\t<li>0</li>\n",
       "\t<li>0</li>\n",
       "\t<li>0</li>\n",
       "\t<li>0</li>\n",
       "\t<li>0</li>\n",
       "\t<li>0</li>\n",
       "</ol>\n"
      ],
      "text/latex": [
       "\\begin{enumerate*}\n",
       "\\item 1\n",
       "\\item 0\n",
       "\\item 0\n",
       "\\item 0\n",
       "\\item 0\n",
       "\\item 0\n",
       "\\item 0\n",
       "\\item 0\n",
       "\\item 0\n",
       "\\item 0\n",
       "\\end{enumerate*}\n"
      ],
      "text/markdown": [
       "1. 1\n",
       "2. 0\n",
       "3. 0\n",
       "4. 0\n",
       "5. 0\n",
       "6. 0\n",
       "7. 0\n",
       "8. 0\n",
       "9. 0\n",
       "10. 0\n",
       "\n",
       "\n"
      ],
      "text/plain": [
       " [1] 1 0 0 0 0 0 0 0 0 0"
      ]
     },
     "metadata": {},
     "output_type": "display_data"
    },
    {
     "data": {
      "image/png": "[encoded data removed]",
      "text/plain": [
       "plot without title"
      ]
     },
     "metadata": {},
     "output_type": "display_data"
    }
   ],
   "source": [
    "options(repr.plot.width=2,repr.plot.height=2)\n",
    "par(mar=c(1,1,1,1))\n",
    "image_example <- train_images[1000,]\n",
    "image_example <- array_reshape(image_example,c(28,28))\n",
    "dim(image_example)\n",
    "train_labels[1000,]\n",
    "plot(as.raster(image_example))"
   ]
  },
  {
   "cell_type": "code",
   "execution_count": 40,
   "metadata": {},
   "outputs": [],
   "source": [
    "train_indices <- 1:round(0.6 * n)\n",
    "valid_indices <- (round(0.6 * n) + 1):round(0.8 * n)\n",
    "test_indices <- (round(0.8 * n) + 1):n"
   ]
  },
  {
   "cell_type": "code",
   "execution_count": 43,
   "metadata": {},
   "outputs": [],
   "source": [
    "x_train <- train_images[train_indices,]\n",
    "y_train <- train_labels[train_indices,]\n",
    "x_valid <- train_images[valid_indices,]\n",
    "y_valid <- train_labels[valid_indices,]\n",
    "x_test <- train_images[test_indices,]\n",
    "y_test <- train_labels[test_indices,]"
   ]
  },
  {
   "cell_type": "code",
   "execution_count": 45,
   "metadata": {},
   "outputs": [
    {
     "data": {
      "text/html": [
       "<ol class=list-inline>\n",
       "\t<li>25200</li>\n",
       "\t<li>784</li>\n",
       "</ol>\n"
      ],
      "text/latex": [
       "\\begin{enumerate*}\n",
       "\\item 25200\n",
       "\\item 784\n",
       "\\end{enumerate*}\n"
      ],
      "text/markdown": [
       "1. 25200\n",
       "2. 784\n",
       "\n",
       "\n"
      ],
      "text/plain": [
       "[1] 25200   784"
      ]
     },
     "metadata": {},
     "output_type": "display_data"
    },
    {
     "data": {
      "text/html": [
       "<ol class=list-inline>\n",
       "\t<li>8400</li>\n",
       "\t<li>784</li>\n",
       "</ol>\n"
      ],
      "text/latex": [
       "\\begin{enumerate*}\n",
       "\\item 8400\n",
       "\\item 784\n",
       "\\end{enumerate*}\n"
      ],
      "text/markdown": [
       "1. 8400\n",
       "2. 784\n",
       "\n",
       "\n"
      ],
      "text/plain": [
       "[1] 8400  784"
      ]
     },
     "metadata": {},
     "output_type": "display_data"
    },
    {
     "data": {
      "text/html": [
       "<ol class=list-inline>\n",
       "\t<li>8400</li>\n",
       "\t<li>784</li>\n",
       "</ol>\n"
      ],
      "text/latex": [
       "\\begin{enumerate*}\n",
       "\\item 8400\n",
       "\\item 784\n",
       "\\end{enumerate*}\n"
      ],
      "text/markdown": [
       "1. 8400\n",
       "2. 784\n",
       "\n",
       "\n"
      ],
      "text/plain": [
       "[1] 8400  784"
      ]
     },
     "metadata": {},
     "output_type": "display_data"
    },
    {
     "data": {
      "text/html": [
       "<ol class=list-inline>\n",
       "\t<li>25200</li>\n",
       "\t<li>10</li>\n",
       "</ol>\n"
      ],
      "text/latex": [
       "\\begin{enumerate*}\n",
       "\\item 25200\n",
       "\\item 10\n",
       "\\end{enumerate*}\n"
      ],
      "text/markdown": [
       "1. 25200\n",
       "2. 10\n",
       "\n",
       "\n"
      ],
      "text/plain": [
       "[1] 25200    10"
      ]
     },
     "metadata": {},
     "output_type": "display_data"
    },
    {
     "data": {
      "text/html": [
       "<ol class=list-inline>\n",
       "\t<li>8400</li>\n",
       "\t<li>10</li>\n",
       "</ol>\n"
      ],
      "text/latex": [
       "\\begin{enumerate*}\n",
       "\\item 8400\n",
       "\\item 10\n",
       "\\end{enumerate*}\n"
      ],
      "text/markdown": [
       "1. 8400\n",
       "2. 10\n",
       "\n",
       "\n"
      ],
      "text/plain": [
       "[1] 8400   10"
      ]
     },
     "metadata": {},
     "output_type": "display_data"
    },
    {
     "data": {
      "text/html": [
       "<ol class=list-inline>\n",
       "\t<li>8400</li>\n",
       "\t<li>10</li>\n",
       "</ol>\n"
      ],
      "text/latex": [
       "\\begin{enumerate*}\n",
       "\\item 8400\n",
       "\\item 10\n",
       "\\end{enumerate*}\n"
      ],
      "text/markdown": [
       "1. 8400\n",
       "2. 10\n",
       "\n",
       "\n"
      ],
      "text/plain": [
       "[1] 8400   10"
      ]
     },
     "metadata": {},
     "output_type": "display_data"
    }
   ],
   "source": [
    "dim(x_train); dim(x_valid); dim(x_test); dim(y_train); dim(y_valid); dim(y_test)"
   ]
  },
  {
   "cell_type": "markdown",
   "metadata": {},
   "source": [
    "## Neural Network Models"
   ]
  },
  {
   "cell_type": "code",
   "execution_count": 71,
   "metadata": {},
   "outputs": [],
   "source": [
    "# CNN\n",
    "cnn_model <- keras_model_sequential()\n",
    "\n",
    "cnn_model %>% \n",
    "  \n",
    "layer_conv_2d(input_shape=c(28,28,1),\n",
    "              filter=28,kernel_size=c(5,5),padding=\"same\") %>%  \n",
    "layer_activation_leaky_relu(alpha=0.02) %>%  \n",
    "  \n",
    "layer_max_pooling_2d(pool_size=c(2,2)) %>%  \n",
    "layer_dropout(0.25) %>%\n",
    "\n",
    "layer_conv_2d(filter=128,kernel_size=c(5,5),padding=\"same\") %>% \n",
    "layer_activation_leaky_relu(alpha=0.02) %>%  \n",
    "\n",
    "layer_max_pooling_2d(strides=c(2,2)) %>%  \n",
    "layer_dropout(0.25) %>%\n",
    "\n",
    "layer_global_max_pooling_2d() %>%  \n",
    "\n",
    "layer_dense(1024) %>%  \n",
    "layer_activation_leaky_relu(alpha=0.02) %>% \n",
    "layer_dropout(0.5) %>%  \n",
    "  \n",
    "layer_dense(10) %>%    \n",
    "layer_activation(\"softmax\")"
   ]
  },
  {
   "cell_type": "code",
   "execution_count": 72,
   "metadata": {},
   "outputs": [],
   "source": [
    "cnn_model %>%\n",
    "  compile(loss=\"categorical_crossentropy\",optimizer=\"nadam\",metrics=\"accuracy\")"
   ]
  },
  {
   "cell_type": "code",
   "execution_count": 73,
   "metadata": {},
   "outputs": [
    {
     "name": "stdout",
     "output_type": "stream",
     "text": [
      "________________________________________________________________________________\n",
      "Layer (type)                        Output Shape                    Param #     \n",
      "================================================================================\n",
      "conv2d_8 (Conv2D)                   (None, 28, 28, 28)              728         \n",
      "________________________________________________________________________________\n",
      "leaky_re_lu_7 (LeakyReLU)           (None, 28, 28, 28)              0           \n",
      "________________________________________________________________________________\n",
      "max_pooling2d_7 (MaxPooling2D)      (None, 14, 14, 28)              0           \n",
      "________________________________________________________________________________\n",
      "dropout_10 (Dropout)                (None, 14, 14, 28)              0           \n",
      "________________________________________________________________________________\n",
      "conv2d_9 (Conv2D)                   (None, 14, 14, 128)             89728       \n",
      "________________________________________________________________________________\n",
      "leaky_re_lu_8 (LeakyReLU)           (None, 14, 14, 128)             0           \n",
      "________________________________________________________________________________\n",
      "max_pooling2d_8 (MaxPooling2D)      (None, 7, 7, 128)               0           \n",
      "________________________________________________________________________________\n",
      "dropout_11 (Dropout)                (None, 7, 7, 128)               0           \n",
      "________________________________________________________________________________\n",
      "global_max_pooling2d_4 (GlobalMaxPo (None, 128)                     0           \n",
      "________________________________________________________________________________\n",
      "dense_7 (Dense)                     (None, 1024)                    132096      \n",
      "________________________________________________________________________________\n",
      "leaky_re_lu_9 (LeakyReLU)           (None, 1024)                    0           \n",
      "________________________________________________________________________________\n",
      "dropout_12 (Dropout)                (None, 1024)                    0           \n",
      "________________________________________________________________________________\n",
      "dense_8 (Dense)                     (None, 10)                      10250       \n",
      "________________________________________________________________________________\n",
      "activation_8 (Activation)           (None, 10)                      0           \n",
      "================================================================================\n",
      "Total params: 232,802\n",
      "Trainable params: 232,802\n",
      "Non-trainable params: 0\n",
      "________________________________________________________________________________\n"
     ]
    }
   ],
   "source": [
    "summary(cnn_model)"
   ]
  },
  {
   "cell_type": "code",
   "execution_count": 75,
   "metadata": {},
   "outputs": [],
   "source": [
    "cnn_fit <- cnn_model %>%\n",
    "  fit(x=array_reshape(x_train,c(dim(x_train)[1],28,28,1)),\n",
    "      y=y_train,\n",
    "      validation_data=list(array_reshape(x_valid,c(dim(x_valid)[1],28,28,1)),y_valid),\n",
    "      shuffle=T,\n",
    "      batch_size=128,\n",
    "      epochs=50,\n",
    "      callbacks=list(callback_model_checkpoint(\"cnn_best_digits.h5\",save_best_only=T),\n",
    "                     callback_reduce_lr_on_plateau(monitor=\"val_loss\",factor=0.05)))"
   ]
  },
  {
   "cell_type": "code",
   "execution_count": 87,
   "metadata": {},
   "outputs": [
    {
     "data": {},
     "metadata": {},
     "output_type": "display_data"
    },
    {
     "data": {
      "image/png": "[encoded data removed]",
      "text/plain": [
       "plot without title"
      ]
     },
     "metadata": {},
     "output_type": "display_data"
    }
   ],
   "source": [
    "options(warn=-1,repr.plot.width=9,repr.plot.height=9)\n",
    "plot(cnn_fit)"
   ]
  },
  {
   "cell_type": "code",
   "execution_count": 88,
   "metadata": {},
   "outputs": [
    {
     "data": {
      "text/html": [
       "<table>\n",
       "<thead><tr><th></th><th scope=col>epoch</th><th scope=col>value</th><th scope=col>metric</th><th scope=col>data</th></tr></thead>\n",
       "<tbody>\n",
       "\t<tr><th scope=row>81</th><td>31        </td><td>0.9925000 </td><td>acc       </td><td>validation</td></tr>\n",
       "\t<tr><th scope=row>82</th><td>32        </td><td>0.9925000 </td><td>acc       </td><td>validation</td></tr>\n",
       "\t<tr><th scope=row>83</th><td>33        </td><td>0.9925000 </td><td>acc       </td><td>validation</td></tr>\n",
       "\t<tr><th scope=row>84</th><td>34        </td><td>0.9926190 </td><td>acc       </td><td>validation</td></tr>\n",
       "\t<tr><th scope=row>85</th><td>35        </td><td>0.9926190 </td><td>acc       </td><td>validation</td></tr>\n",
       "\t<tr><th scope=row>86</th><td>36        </td><td>0.9929762 </td><td>acc       </td><td>validation</td></tr>\n",
       "\t<tr><th scope=row>87</th><td>37        </td><td>0.9928571 </td><td>acc       </td><td>validation</td></tr>\n",
       "\t<tr><th scope=row>88</th><td>38        </td><td>0.9928571 </td><td>acc       </td><td>validation</td></tr>\n",
       "\t<tr><th scope=row>89</th><td>39        </td><td>0.9928571 </td><td>acc       </td><td>validation</td></tr>\n",
       "\t<tr><th scope=row>90</th><td>40        </td><td>0.9927381 </td><td>acc       </td><td>validation</td></tr>\n",
       "\t<tr><th scope=row>91</th><td>41        </td><td>0.9928571 </td><td>acc       </td><td>validation</td></tr>\n",
       "\t<tr><th scope=row>92</th><td>42        </td><td>0.9928571 </td><td>acc       </td><td>validation</td></tr>\n",
       "\t<tr><th scope=row>93</th><td>43        </td><td>0.9928571 </td><td>acc       </td><td>validation</td></tr>\n",
       "\t<tr><th scope=row>94</th><td>44        </td><td>0.9928571 </td><td>acc       </td><td>validation</td></tr>\n",
       "\t<tr><th scope=row>95</th><td>45        </td><td>0.9929762 </td><td>acc       </td><td>validation</td></tr>\n",
       "\t<tr><th scope=row>96</th><td>46        </td><td>0.9932143 </td><td>acc       </td><td>validation</td></tr>\n",
       "\t<tr><th scope=row>97</th><td>47        </td><td>0.9932143 </td><td>acc       </td><td>validation</td></tr>\n",
       "\t<tr><th scope=row>98</th><td>48        </td><td>0.9932143 </td><td>acc       </td><td>validation</td></tr>\n",
       "\t<tr><th scope=row>99</th><td>49        </td><td>0.9932143 </td><td>acc       </td><td>validation</td></tr>\n",
       "\t<tr><th scope=row>100</th><td>50        </td><td>0.9932143 </td><td>acc       </td><td>validation</td></tr>\n",
       "</tbody>\n",
       "</table>\n"
      ],
      "text/latex": [
       "\\begin{tabular}{r|llll}\n",
       "  & epoch & value & metric & data\\\\\n",
       "\\hline\n",
       "\t81 & 31         & 0.9925000  & acc        & validation\\\\\n",
       "\t82 & 32         & 0.9925000  & acc        & validation\\\\\n",
       "\t83 & 33         & 0.9925000  & acc        & validation\\\\\n",
       "\t84 & 34         & 0.9926190  & acc        & validation\\\\\n",
       "\t85 & 35         & 0.9926190  & acc        & validation\\\\\n",
       "\t86 & 36         & 0.9929762  & acc        & validation\\\\\n",
       "\t87 & 37         & 0.9928571  & acc        & validation\\\\\n",
       "\t88 & 38         & 0.9928571  & acc        & validation\\\\\n",
       "\t89 & 39         & 0.9928571  & acc        & validation\\\\\n",
       "\t90 & 40         & 0.9927381  & acc        & validation\\\\\n",
       "\t91 & 41         & 0.9928571  & acc        & validation\\\\\n",
       "\t92 & 42         & 0.9928571  & acc        & validation\\\\\n",
       "\t93 & 43         & 0.9928571  & acc        & validation\\\\\n",
       "\t94 & 44         & 0.9928571  & acc        & validation\\\\\n",
       "\t95 & 45         & 0.9929762  & acc        & validation\\\\\n",
       "\t96 & 46         & 0.9932143  & acc        & validation\\\\\n",
       "\t97 & 47         & 0.9932143  & acc        & validation\\\\\n",
       "\t98 & 48         & 0.9932143  & acc        & validation\\\\\n",
       "\t99 & 49         & 0.9932143  & acc        & validation\\\\\n",
       "\t100 & 50         & 0.9932143  & acc        & validation\\\\\n",
       "\\end{tabular}\n"
      ],
      "text/markdown": [
       "\n",
       "| <!--/--> | epoch | value | metric | data | \n",
       "|---|---|---|---|---|---|---|---|---|---|---|---|---|---|---|---|---|---|---|---|\n",
       "| 81 | 31         | 0.9925000  | acc        | validation | \n",
       "| 82 | 32         | 0.9925000  | acc        | validation | \n",
       "| 83 | 33         | 0.9925000  | acc        | validation | \n",
       "| 84 | 34         | 0.9926190  | acc        | validation | \n",
       "| 85 | 35         | 0.9926190  | acc        | validation | \n",
       "| 86 | 36         | 0.9929762  | acc        | validation | \n",
       "| 87 | 37         | 0.9928571  | acc        | validation | \n",
       "| 88 | 38         | 0.9928571  | acc        | validation | \n",
       "| 89 | 39         | 0.9928571  | acc        | validation | \n",
       "| 90 | 40         | 0.9927381  | acc        | validation | \n",
       "| 91 | 41         | 0.9928571  | acc        | validation | \n",
       "| 92 | 42         | 0.9928571  | acc        | validation | \n",
       "| 93 | 43         | 0.9928571  | acc        | validation | \n",
       "| 94 | 44         | 0.9928571  | acc        | validation | \n",
       "| 95 | 45         | 0.9929762  | acc        | validation | \n",
       "| 96 | 46         | 0.9932143  | acc        | validation | \n",
       "| 97 | 47         | 0.9932143  | acc        | validation | \n",
       "| 98 | 48         | 0.9932143  | acc        | validation | \n",
       "| 99 | 49         | 0.9932143  | acc        | validation | \n",
       "| 100 | 50         | 0.9932143  | acc        | validation | \n",
       "\n",
       "\n"
      ],
      "text/plain": [
       "    epoch value     metric data      \n",
       "81  31    0.9925000 acc    validation\n",
       "82  32    0.9925000 acc    validation\n",
       "83  33    0.9925000 acc    validation\n",
       "84  34    0.9926190 acc    validation\n",
       "85  35    0.9926190 acc    validation\n",
       "86  36    0.9929762 acc    validation\n",
       "87  37    0.9928571 acc    validation\n",
       "88  38    0.9928571 acc    validation\n",
       "89  39    0.9928571 acc    validation\n",
       "90  40    0.9927381 acc    validation\n",
       "91  41    0.9928571 acc    validation\n",
       "92  42    0.9928571 acc    validation\n",
       "93  43    0.9928571 acc    validation\n",
       "94  44    0.9928571 acc    validation\n",
       "95  45    0.9929762 acc    validation\n",
       "96  46    0.9932143 acc    validation\n",
       "97  47    0.9932143 acc    validation\n",
       "98  48    0.9932143 acc    validation\n",
       "99  49    0.9932143 acc    validation\n",
       "100 50    0.9932143 acc    validation"
      ]
     },
     "metadata": {},
     "output_type": "display_data"
    }
   ],
   "source": [
    "cnn_fit_df <- as.data.frame(cnn_fit)\n",
    "cnn_fit_df[81:100,]"
   ]
  },
  {
   "cell_type": "code",
   "execution_count": 83,
   "metadata": {},
   "outputs": [],
   "source": [
    "load_model_weights_hdf5(cnn_model,\"cnn_best_digits.h5\")"
   ]
  },
  {
   "cell_type": "code",
   "execution_count": 84,
   "metadata": {},
   "outputs": [
    {
     "data": {
      "text/html": [
       "<dl>\n",
       "\t<dt>$loss</dt>\n",
       "\t\t<dd>0.0248222911953122</dd>\n",
       "\t<dt>$acc</dt>\n",
       "\t\t<dd>0.992619047619048</dd>\n",
       "</dl>\n"
      ],
      "text/latex": [
       "\\begin{description}\n",
       "\\item[\\$loss] 0.0248222911953122\n",
       "\\item[\\$acc] 0.992619047619048\n",
       "\\end{description}\n"
      ],
      "text/markdown": [
       "$loss\n",
       ":   0.0248222911953122\n",
       "$acc\n",
       ":   0.992619047619048\n",
       "\n",
       "\n"
      ],
      "text/plain": [
       "$loss\n",
       "[1] 0.02482229\n",
       "\n",
       "$acc\n",
       "[1] 0.992619\n"
      ]
     },
     "metadata": {},
     "output_type": "display_data"
    }
   ],
   "source": [
    "cnn_score <- cnn_model %>% \n",
    "    evaluate(array_reshape(x_test,c(dim(x_test)[1],28,28,1)),y_test)\n",
    "cnn_score"
   ]
  },
  {
   "cell_type": "code",
   "execution_count": 90,
   "metadata": {},
   "outputs": [],
   "source": [
    "generated_images <- image_data_generator(zoom_range=0.2, shear_range=0.2, rotation_range=20)\n",
    "generated_images %>% \n",
    "    fit_image_data_generator(array_reshape(x_train,c(dim(x_train)[1],28,28,1)))"
   ]
  },
  {
   "cell_type": "code",
   "execution_count": null,
   "metadata": {},
   "outputs": [],
   "source": [
    "dg_cnn_fit <- cnn_model %>%\n",
    "    fit_generator(flow_images_from_data(array_reshape(x_train,c(dim(x_train)[1],28,28,1)),\n",
    "                                        y_train,\n",
    "                                        generated_images,\n",
    "                                        batch_size=128), \n",
    "                  steps_per_epoch=1000, \n",
    "                  epochs=50,\n",
    "                  validation_data=list(array_reshape(x_valid,c(dim(x_valid)[1],28,28,1)),y_valid),\n",
    "                  callbacks=list(callback_model_checkpoint(\"cnn_best_digits.h5\",save_best_only=T),\n",
    "                                 callback_reduce_lr_on_plateau(monitor=\"val_loss\",factor=0.05)))"
   ]
  },
  {
   "cell_type": "code",
   "execution_count": null,
   "metadata": {},
   "outputs": [],
   "source": [
    "options(warn=-1,repr.plot.width=9,repr.plot.height=9)\n",
    "plot(dg_cnn_fit)"
   ]
  },
  {
   "cell_type": "code",
   "execution_count": null,
   "metadata": {},
   "outputs": [],
   "source": [
    "load_model_weights_hdf5(cnn_model,\"cnn_best_digits.h5\")"
   ]
  },
  {
   "cell_type": "code",
   "execution_count": null,
   "metadata": {},
   "outputs": [],
   "source": [
    "dg_cnn_score <- cnn_model %>% \n",
    "    evaluate(array_reshape(x_test,c(dim(x_test)[1],28,28,1)),y_test)\n",
    "dg_cnn_score"
   ]
  },
  {
   "cell_type": "code",
   "execution_count": null,
   "metadata": {},
   "outputs": [],
   "source": [
    "# MLP\n",
    "mlp_model <- keras_model_sequential()\n",
    "\n",
    "mlp_model %>%  \n",
    "\n",
    "layer_dense(1568, input_shape=c(784)) %>%  \n",
    "layer_activation(\"relu\") %>%  \n",
    "layer_dropout(0.2) %>% \n",
    "\n",
    "layer_dense(392) %>%  \n",
    "layer_activation(\"relu\") %>%  \n",
    "layer_dropout(0.2) %>%\n",
    "\n",
    "layer_dense(128) %>%  \n",
    "layer_activation(\"relu\") %>%  \n",
    "layer_dropout(0.2) %>%\n",
    "  \n",
    "layer_dense(10) %>%    \n",
    "layer_activation(\"softmax\")"
   ]
  },
  {
   "cell_type": "code",
   "execution_count": null,
   "metadata": {},
   "outputs": [],
   "source": [
    "mlp_model %>%\n",
    "  compile(loss=\"categorical_crossentropy\",optimizer=\"nadam\",metrics=\"accuracy\")"
   ]
  },
  {
   "cell_type": "code",
   "execution_count": null,
   "metadata": {},
   "outputs": [],
   "source": [
    "summary(mlp_model)"
   ]
  },
  {
   "cell_type": "code",
   "execution_count": null,
   "metadata": {},
   "outputs": [],
   "source": [
    "mlp_fit <- mlp_model %>%\n",
    "  fit(x=x_train,\n",
    "      y=y_train,\n",
    "      validation_data=list(x_valid,y_valid),\n",
    "      shuffle=T,\n",
    "      batch_size=128,\n",
    "      epochs=50,\n",
    "      callbacks=list(callback_model_checkpoint(\"mlp_best_digits.h5\",save_best_only=T),\n",
    "                     callback_reduce_lr_on_plateau(monitor=\"val_loss\",factor=0.05)))"
   ]
  },
  {
   "cell_type": "code",
   "execution_count": null,
   "metadata": {},
   "outputs": [],
   "source": [
    "options(warn=-1,repr.plot.width=9,repr.plot.height=9)\n",
    "plot(mlp_fit)"
   ]
  },
  {
   "cell_type": "code",
   "execution_count": null,
   "metadata": {},
   "outputs": [],
   "source": [
    "mlp_fit_df <- as.data.frame(mlp_fit)\n",
    "mlp_fit_df[81:100,]"
   ]
  },
  {
   "cell_type": "code",
   "execution_count": null,
   "metadata": {},
   "outputs": [],
   "source": [
    "load_model_weights_hdf5(mlp_model,\"mlp_best_digits.h5\")"
   ]
  },
  {
   "cell_type": "code",
   "execution_count": null,
   "metadata": {},
   "outputs": [],
   "source": [
    "mlp_score <- mlp_model %>% \n",
    "    evaluate(x_test,y_test)\n",
    "mlp_score"
   ]
  }
 ],
 "metadata": {
  "kernelspec": {
   "display_name": "R",
   "language": "R",
   "name": "ir"
  },
  "language_info": {
   "codemirror_mode": "r",
   "file_extension": ".r",
   "mimetype": "text/x-r-source",
   "name": "R",
   "pygments_lexer": "r",
   "version": "3.5.0"
  }
 },
 "nbformat": 4,
 "nbformat_minor": 2
}
