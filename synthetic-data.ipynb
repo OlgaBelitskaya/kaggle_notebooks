{
 "cells": [
  {
   "cell_type": "markdown",
   "execution_count": null,
   "metadata": {},
   "source": [
    "## Modules & Helpful Functions"
   ]
  },
  {
   "cell_type": "code",
   "execution_count": 1,
   "metadata": {
    "_cell_guid": "b1076dfc-b9ad-4769-8c92-a6c4dae69d19",
    "_uuid": "8f2839f25d086af736a60e9eeb907d3b93b6e0e5"
   },
   "outputs": [
    {
     "name": "stderr",
     "output_type": "stream",
     "text": [
      "Using TensorFlow backend.\n"
     ]
    }
   ],
   "source": [
    "import warnings; warnings.filterwarnings('ignore')\n",
    "import numpy as np,pandas as pd,pylab as pl\n",
    "import h5py,tensorflow_hub as th\n",
    "import tensorflow as tf\n",
    "import skimage.transform as st\n",
    "from sklearn.model_selection import train_test_split\n",
    "from keras.layers import Dense,Dropout\n",
    "from keras.layers import Flatten,Input,BatchNormalization\n",
    "from keras.layers import Conv2D,MaxPooling2D,GlobalMaxPooling2D\n",
    "from keras.models import Model\n",
    "from keras.callbacks import ModelCheckpoint,ReduceLROnPlateau\n",
    "from keras.callbacks import EarlyStopping"
   ]
  },
  {
   "cell_type": "code",
   "execution_count": 2,
   "metadata": {
    "_kg_hide-input": true
   },
   "outputs": [],
   "source": [
    "fpath2='../input/classification-of-handwritten-letters/'\n",
    "fw='weights.syn.hdf5'\n",
    "def img_rotate(image,size):\n",
    "        angle=np.random.randint(-15,15)\n",
    "        img=st.rotate(image,angle,resize=True)\n",
    "        img=st.resize(img,(size,size))\n",
    "        return np.array(img*255,dtype=np.uint8)\n",
    "def label5symbols(label,symbol):\n",
    "    length=len(label)\n",
    "    if length>=5:\n",
    "        return label\n",
    "    else:\n",
    "        no_labels=np.full((5-length),symbol)\n",
    "        res=np.concatenate((no_labels,label),axis=0)\n",
    "        return np.array(res,dtype=np.uint8)\n",
    "def concat5symbols(i,rx,y,size,symbol):\n",
    "    k=np.random.randint(1,6)\n",
    "    img=rx[i]; label=y[i]\n",
    "    for j in range(1,k):\n",
    "        img=np.concatenate((img,rx[i+j]),axis=1)\n",
    "        label=np.concatenate((label,y[i+j]),axis=0)\n",
    "    if k!=5:\n",
    "        w1=np.random.randint(0,size*5-img.shape[1])\n",
    "        w2=size*5-img.shape[1]-w1        \n",
    "        img=np.concatenate((np.zeros((size,w1)),img,\n",
    "                            np.zeros((size,w2))),axis=1)\n",
    "    img=np.array(img,dtype=np.uint8)\n",
    "    label=label5symbols(label,symbol)\n",
    "    return [img,label,k]"
   ]
  },
  {
   "cell_type": "markdown",
   "execution_count": null,
   "metadata": {},
   "source": [
    "## Synthetic Data #1"
   ]
  },
  {
   "cell_type": "code",
   "execution_count": 3,
   "metadata": {
    "_cell_guid": "79c7e3d0-c299-4dcb-8224-4455121ee9b0",
    "_kg_hide-input": true,
    "_uuid": "d629ff2d2480ee46fbb7e2d37f6b5fab8052498a"
   },
   "outputs": [
    {
     "name": "stdout",
     "output_type": "stream",
     "text": [
      "Downloading data from https://storage.googleapis.com/tensorflow/tf-keras-datasets/mnist.npz\n",
      "11493376/11490434 [==============================] - 0s 0us/step\n"
     ]
    },
    {
     "data": {
      "text/html": [
       "<div>\n",
       "<style scoped>\n",
       "    .dataframe tbody tr th:only-of-type {\n",
       "        vertical-align: middle;\n",
       "    }\n",
       "\n",
       "    .dataframe tbody tr th {\n",
       "        vertical-align: top;\n",
       "    }\n",
       "\n",
       "    .dataframe thead th {\n",
       "        text-align: right;\n",
       "    }\n",
       "</style>\n",
       "<table border=\"1\" class=\"dataframe\">\n",
       "  <thead>\n",
       "    <tr style=\"text-align: right;\">\n",
       "      <th></th>\n",
       "      <th>train</th>\n",
       "      <th>test</th>\n",
       "      <th>dtype</th>\n",
       "    </tr>\n",
       "  </thead>\n",
       "  <tbody>\n",
       "    <tr>\n",
       "      <th>images</th>\n",
       "      <td>(60000, 28, 28)</td>\n",
       "      <td>(10000, 28, 28)</td>\n",
       "      <td>uint8</td>\n",
       "    </tr>\n",
       "    <tr>\n",
       "      <th>labels</th>\n",
       "      <td>(60000, 1)</td>\n",
       "      <td>(10000, 1)</td>\n",
       "      <td>uint8</td>\n",
       "    </tr>\n",
       "  </tbody>\n",
       "</table>\n",
       "</div>"
      ],
      "text/plain": [
       "                  train             test  dtype\n",
       "images  (60000, 28, 28)  (10000, 28, 28)  uint8\n",
       "labels       (60000, 1)       (10000, 1)  uint8"
      ]
     },
     "execution_count": 3,
     "metadata": {},
     "output_type": "execute_result"
    }
   ],
   "source": [
    "(x_train1,y_train1),(x_test1,y_test1)=\\\n",
    "tf.keras.datasets.mnist.load_data()\n",
    "y_train1=y_train1.reshape(-1,1)\n",
    "y_test1=y_test1.reshape(-1,1)\n",
    "pd.DataFrame([[x_train1.shape,x_test1.shape,x_train1.dtype],\n",
    "              [y_train1.shape,y_test1.shape,y_train1.dtype]],\n",
    "             columns=['train','test','dtype'],\n",
    "             index=['images','labels'])"
   ]
  },
  {
   "cell_type": "code",
   "execution_count": 4,
   "metadata": {},
   "outputs": [],
   "source": [
    "rx_train1=np.array([img_rotate(x_train1[i],28)\n",
    "                    for i in range(x_train1.shape[0])])\n",
    "rx_test1=np.array([img_rotate(x_test1[i],28)\n",
    "                   for i in range(x_test1.shape[0])])"
   ]
  },
  {
   "cell_type": "code",
   "execution_count": 5,
   "metadata": {},
   "outputs": [
    {
     "data": {
      "image/png": "[encoded data removed]",
      "text/plain": [
       "<Figure size 216x216 with 1 Axes>"
      ]
     },
     "metadata": {
      "needs_background": "light"
     },
     "output_type": "display_data"
    }
   ],
   "source": [
    "pl.figure(figsize=(3,3))\n",
    "pl.imshow(rx_train1[100],cmap=pl.cm.summer)\n",
    "pl.title('example of rotated images \\n %s'%y_train1[100]);"
   ]
  },
  {
   "cell_type": "code",
   "execution_count": 6,
   "metadata": {
    "_kg_hide-input": true
   },
   "outputs": [
    {
     "data": {
      "text/plain": [
       "[(19873, 28, 140), (19873, 5)]"
      ]
     },
     "execution_count": 6,
     "metadata": {},
     "output_type": "execute_result"
    }
   ],
   "source": [
    "sx_train1=np.empty([rx_train1.shape[0],28,140])\n",
    "sy_train1=np.empty([y_train1.shape[0],5])\n",
    "i=0; c=0\n",
    "while i<rx_train1.shape[0]-5:\n",
    "    [image,label,k]=\\\n",
    "    concat5symbols(i,rx_train1,y_train1,28,10)\n",
    "    sx_train1[c]=image; sy_train1[c]=label\n",
    "    c+=1; i+=k\n",
    "sx_train1=np.array(sx_train1[:c],dtype=np.uint8)\n",
    "sy_train1=np.array(sy_train1[:c],dtype=np.uint8)\n",
    "[sx_train1.shape,sy_train1.shape]"
   ]
  },
  {
   "cell_type": "code",
   "execution_count": 7,
   "metadata": {},
   "outputs": [
    {
     "data": {
      "image/png": "[encoded data removed]",
      "text/plain": [
       "<Figure size 432x288 with 1 Axes>"
      ]
     },
     "metadata": {
      "needs_background": "light"
     },
     "output_type": "display_data"
    }
   ],
   "source": [
    "pl.imshow(sx_train1[100],cmap=pl.cm.summer);\n",
    "pl.title('example of concatenated images \\n %s'%\\\n",
    "         sy_train1[100]);"
   ]
  },
  {
   "cell_type": "code",
   "execution_count": 8,
   "metadata": {
    "_kg_hide-input": true
   },
   "outputs": [
    {
     "data": {
      "text/plain": [
       "[(3377, 28, 140), (3377, 5)]"
      ]
     },
     "execution_count": 8,
     "metadata": {},
     "output_type": "execute_result"
    }
   ],
   "source": [
    "sx_test1=np.empty([rx_test1.shape[0],28,140])\n",
    "sy_test1=np.empty([y_test1.shape[0],5])\n",
    "i=0; c=0\n",
    "while i<rx_test1.shape[0]-5:\n",
    "    [image,label,k]=\\\n",
    "    concat5symbols(i,rx_test1,y_test1,28,10)\n",
    "    sx_test1[c]=image; sy_test1[c]=label\n",
    "    c+=1; i+=k\n",
    "sx_test1=np.array(sx_test1[:c],dtype=np.uint8)\n",
    "sy_test1=np.array(sy_test1[:c],dtype=np.uint8)\n",
    "[sx_test1.shape,sy_test1.shape]"
   ]
  },
  {
   "cell_type": "code",
   "execution_count": 9,
   "metadata": {},
   "outputs": [
    {
     "name": "stdout",
     "output_type": "stream",
     "text": [
      "Reshape the train set for models\n",
      "(19873, 28, 140, 1) (19873,)\n"
     ]
    }
   ],
   "source": [
    "sx_train1=sx_train1.reshape(-1,28,28*5,1)\n",
    "sx_test1=sx_test1.reshape(-1,28,28*5,1)\n",
    "n=int(len(sx_test1)/2)\n",
    "sx_valid1,sy_valid1=sx_test1[:n],sy_test1[:n]\n",
    "sx_test1,sy_test1=sx_test1[n:],sy_test1[n:]\n",
    "sy_train1_list=[sy_train1[:,i] for i in range(5)]\n",
    "sy_valid1_list=[sy_valid1[:,i] for i in range(5)]\n",
    "sy_test1_list=[sy_test1[:,i] for i in range(5)]\n",
    "print('Reshape the train set for models')\n",
    "print(sx_train1.shape,sy_train1_list[0].shape)"
   ]
  },
  {
   "cell_type": "markdown",
   "execution_count": null,
   "metadata": {},
   "source": [
    "## Synthetic Data #2"
   ]
  },
  {
   "cell_type": "code",
   "execution_count": 10,
   "metadata": {
    "_kg_hide-input": true
   },
   "outputs": [
    {
     "data": {
      "text/html": [
       "<div>\n",
       "<style scoped>\n",
       "    .dataframe tbody tr th:only-of-type {\n",
       "        vertical-align: middle;\n",
       "    }\n",
       "\n",
       "    .dataframe tbody tr th {\n",
       "        vertical-align: top;\n",
       "    }\n",
       "\n",
       "    .dataframe thead th {\n",
       "        text-align: right;\n",
       "    }\n",
       "</style>\n",
       "<table border=\"1\" class=\"dataframe\">\n",
       "  <thead>\n",
       "    <tr style=\"text-align: right;\">\n",
       "      <th></th>\n",
       "      <th>train</th>\n",
       "      <th>test</th>\n",
       "      <th>dtype</th>\n",
       "    </tr>\n",
       "  </thead>\n",
       "  <tbody>\n",
       "    <tr>\n",
       "      <th>images</th>\n",
       "      <td>(11352, 32, 32)</td>\n",
       "      <td>(2838, 32, 32)</td>\n",
       "      <td>uint8</td>\n",
       "    </tr>\n",
       "    <tr>\n",
       "      <th>labels</th>\n",
       "      <td>(11352, 1)</td>\n",
       "      <td>(2838, 1)</td>\n",
       "      <td>uint8</td>\n",
       "    </tr>\n",
       "  </tbody>\n",
       "</table>\n",
       "</div>"
      ],
      "text/plain": [
       "                  train            test  dtype\n",
       "images  (11352, 32, 32)  (2838, 32, 32)  uint8\n",
       "labels       (11352, 1)       (2838, 1)  uint8"
      ]
     },
     "execution_count": 10,
     "metadata": {},
     "output_type": "execute_result"
    }
   ],
   "source": [
    "f=h5py.File(fpath2+'LetterColorImages_123.h5','r') \n",
    "keys=list(f.keys())\n",
    "letters=u'абвгдеёжзийклмнопрстуфхцчшщъыьэюя'\n",
    "images=np.array(f[keys[1]])/255\n",
    "images=.7-np.dot(images[...,:3],[.299,.587,.114])**2\n",
    "images=np.array(images*255,dtype=np.uint8)\n",
    "labels=np.array(f[keys[2]],dtype=np.uint8).reshape(-1,1)-1\n",
    "x_train2,x_test2,y_train2,y_test2=\\\n",
    "train_test_split(images,labels,test_size=.2,random_state=1)\n",
    "pd.DataFrame([[x_train2.shape,x_test2.shape,x_train2.dtype],\n",
    "              [y_train2.shape,y_test2.shape,y_train2.dtype]],\n",
    "             columns=['train','test','dtype'],\n",
    "             index=['images','labels'])"
   ]
  },
  {
   "cell_type": "code",
   "execution_count": 11,
   "metadata": {},
   "outputs": [
    {
     "data": {
      "image/png": "[encoded data removed]",
      "text/plain": [
       "<Figure size 216x216 with 1 Axes>"
      ]
     },
     "metadata": {
      "needs_background": "light"
     },
     "output_type": "display_data"
    }
   ],
   "source": [
    "pl.figure(figsize=(3,3))\n",
    "pl.imshow(x_train2[100],cmap=pl.cm.summer)\n",
    "pl.title('example of images \\n %s'%\\\n",
    "         letters[y_train2[100][0]]);"
   ]
  },
  {
   "cell_type": "code",
   "execution_count": 12,
   "metadata": {
    "_kg_hide-input": true
   },
   "outputs": [
    {
     "data": {
      "text/plain": [
       "[(3832, 32, 160), (3832, 5)]"
      ]
     },
     "execution_count": 12,
     "metadata": {},
     "output_type": "execute_result"
    }
   ],
   "source": [
    "sx_train2=np.empty([x_train2.shape[0],32,160])\n",
    "sy_train2=np.empty([y_train2.shape[0],5])\n",
    "i=0; c=0\n",
    "while i<x_train2.shape[0]-5:\n",
    "    [image,label,k]=\\\n",
    "    concat5symbols(i,x_train2,y_train2,32,33)\n",
    "    sx_train2[c]=image; sy_train2[c]=label\n",
    "    c+=1; i+=k\n",
    "sx_train2=np.array(sx_train2[:c],dtype=np.uint8)\n",
    "sy_train2=np.array(sy_train2[:c],dtype=np.uint8)\n",
    "[sx_train2.shape,sy_train2.shape]"
   ]
  },
  {
   "cell_type": "code",
   "execution_count": 13,
   "metadata": {},
   "outputs": [
    {
     "data": {
      "image/png": "[encoded data removed]",
      "text/plain": [
       "<Figure size 432x288 with 1 Axes>"
      ]
     },
     "metadata": {
      "needs_background": "light"
     },
     "output_type": "display_data"
    }
   ],
   "source": [
    "pl.imshow(sx_train2[100],cmap=pl.cm.summer);\n",
    "pl.title('example of concatenated images \\n %s'%\\\n",
    "         sy_train2[100]);"
   ]
  },
  {
   "cell_type": "code",
   "execution_count": 14,
   "metadata": {
    "_kg_hide-input": true
   },
   "outputs": [
    {
     "data": {
      "text/plain": [
       "[(938, 32, 160), (938, 5)]"
      ]
     },
     "execution_count": 14,
     "metadata": {},
     "output_type": "execute_result"
    }
   ],
   "source": [
    "sx_test2=np.empty([x_test2.shape[0],32,160])\n",
    "sy_test2=np.empty([y_test2.shape[0],5])\n",
    "i=0; c=0\n",
    "while i<x_test2.shape[0]-5:\n",
    "    [image,label,k]=\\\n",
    "    concat5symbols(i,x_test2,y_test2,32,33)\n",
    "    sx_test2[c]=image; sy_test2[c]=label\n",
    "    c+=1; i+=k\n",
    "sx_test2=np.array(sx_test2[:c],dtype=np.uint8)\n",
    "sy_test2=np.array(sy_test2[:c],dtype=np.uint8)\n",
    "[sx_test2.shape,sy_test2.shape]"
   ]
  },
  {
   "cell_type": "code",
   "execution_count": 15,
   "metadata": {},
   "outputs": [
    {
     "name": "stdout",
     "output_type": "stream",
     "text": [
      "Reshape the train set for models\n",
      "(3832, 32, 160, 1) (3832,)\n"
     ]
    }
   ],
   "source": [
    "sx_train2=sx_train2.reshape(-1,32,32*5,1)\n",
    "sx_test2=sx_test2.reshape(-1,32,32*5,1)\n",
    "n=int(len(sx_test2)/2)\n",
    "sx_valid2,sy_valid2=sx_test2[:n],sy_test2[:n]\n",
    "sx_test2,sy_test2=sx_test2[n:],sy_test2[n:]\n",
    "sy_train2_list=[sy_train2[:,i] for i in range(5)]\n",
    "sy_valid2_list=[sy_valid2[:,i] for i in range(5)]\n",
    "sy_test2_list=[sy_test2[:,i] for i in range(5)]\n",
    "print('Reshape the train set for models')\n",
    "print(sx_train2.shape,sy_train2_list[0].shape)"
   ]
  },
  {
   "cell_type": "markdown",
   "execution_count": null,
   "metadata": {},
   "source": [
    "## CNN\n",
    "### Synthetic Data #1"
   ]
  },
  {
   "cell_type": "code",
   "execution_count": 16,
   "metadata": {
    "_kg_hide-input": true
   },
   "outputs": [],
   "source": [
    "def syn_model1(size,n):    \n",
    "    model_input=Input(shape=(size,size*5,1))\n",
    "    x=BatchNormalization()(model_input)        \n",
    "    x=Conv2D(32,(5,5),activation='relu',\n",
    "             padding='same')(model_input)\n",
    "    x=MaxPooling2D(pool_size=(2,2))(x)     \n",
    "    x=Conv2D(32,(5,5),activation='relu',\n",
    "             padding='same')(x)\n",
    "    x=MaxPooling2D(pool_size=(2,2))(x)    \n",
    "    x=Dropout(.25)(x)\n",
    "    x=BatchNormalization()(x)\n",
    "    x=Conv2D(196,(5,5),activation='relu',\n",
    "             padding='same')(x) \n",
    "    x=MaxPooling2D(pool_size=(2,2))(x) \n",
    "    x=Dropout(.25)(x)    \n",
    "    x=Conv2D(196,(5,5),activation='relu',\n",
    "             padding='same')(x)\n",
    "    x=MaxPooling2D(pool_size=(2,2))(x) \n",
    "    x=Dropout(.25)(x)              \n",
    "    x=Flatten()(x)    \n",
    "    x=Dense(512,activation='relu')(x)    \n",
    "    x=Dropout(.25)(x)    \n",
    "    y=[Dense(n,activation='softmax')(x)\n",
    "       for i in range(5)]\n",
    "    model=Model(input=model_input,output=y)\n",
    "    model.compile(loss='sparse_categorical_crossentropy',\n",
    "                  optimizer='adam',metrics=['accuracy'])\n",
    "    return model"
   ]
  },
  {
   "cell_type": "code",
   "execution_count": 17,
   "metadata": {
    "_kg_hide-output": true
   },
   "outputs": [
    {
     "name": "stdout",
     "output_type": "stream",
     "text": [
      "Train on 19873 samples, validate on 1688 samples\n",
      "Epoch 1/30\n",
      " - 10s - loss: 7.2379 - dense_2_loss: 0.5529 - dense_3_loss: 0.9960 - dense_4_loss: 1.4570 - dense_5_loss: 1.9214 - dense_6_loss: 2.3035 - dense_2_accuracy: 0.8190 - dense_3_accuracy: 0.6566 - dense_4_accuracy: 0.4881 - dense_5_accuracy: 0.3208 - dense_6_accuracy: 0.1622 - val_loss: 5.0729 - val_dense_2_loss: 0.3083 - val_dense_3_loss: 0.6404 - val_dense_4_loss: 1.0097 - val_dense_5_loss: 1.3484 - val_dense_6_loss: 1.7022 - val_dense_2_accuracy: 0.9046 - val_dense_3_accuracy: 0.7814 - val_dense_4_accuracy: 0.6540 - val_dense_5_accuracy: 0.5456 - val_dense_6_accuracy: 0.4455\n",
      "\n",
      "Epoch 00001: val_loss improved from inf to 5.07290, saving model to weights.syn.hdf5\n",
      "Epoch 2/30\n",
      " - 5s - loss: 3.7183 - dense_2_loss: 0.2458 - dense_3_loss: 0.5191 - dense_4_loss: 0.7932 - dense_5_loss: 1.0447 - dense_6_loss: 1.1113 - dense_2_accuracy: 0.9174 - dense_3_accuracy: 0.8204 - dense_4_accuracy: 0.7264 - dense_5_accuracy: 0.6311 - dense_6_accuracy: 0.6021 - val_loss: 3.3299 - val_dense_2_loss: 0.1692 - val_dense_3_loss: 0.4606 - val_dense_4_loss: 0.8144 - val_dense_5_loss: 1.0651 - val_dense_6_loss: 0.7492 - val_dense_2_accuracy: 0.9479 - val_dense_3_accuracy: 0.8395 - val_dense_4_accuracy: 0.7316 - val_dense_5_accuracy: 0.6191 - val_dense_6_accuracy: 0.7500\n",
      "\n",
      "Epoch 00002: val_loss improved from 5.07290 to 3.32985, saving model to weights.syn.hdf5\n",
      "Epoch 3/30\n",
      " - 5s - loss: 1.8765 - dense_2_loss: 0.1292 - dense_3_loss: 0.2734 - dense_4_loss: 0.4232 - dense_5_loss: 0.5459 - dense_6_loss: 0.5032 - dense_2_accuracy: 0.9584 - dense_3_accuracy: 0.9074 - dense_4_accuracy: 0.8594 - dense_5_accuracy: 0.8169 - dense_6_accuracy: 0.8319 - val_loss: 0.6922 - val_dense_2_loss: 0.0331 - val_dense_3_loss: 0.1050 - val_dense_4_loss: 0.1546 - val_dense_5_loss: 0.2075 - val_dense_6_loss: 0.1771 - val_dense_2_accuracy: 0.9893 - val_dense_3_accuracy: 0.9739 - val_dense_4_accuracy: 0.9568 - val_dense_5_accuracy: 0.9496 - val_dense_6_accuracy: 0.9550\n",
      "\n",
      "Epoch 00003: val_loss improved from 3.32985 to 0.69220, saving model to weights.syn.hdf5\n",
      "Epoch 4/30\n",
      " - 5s - loss: 1.1582 - dense_2_loss: 0.0857 - dense_3_loss: 0.1701 - dense_4_loss: 0.2599 - dense_5_loss: 0.3380 - dense_6_loss: 0.3036 - dense_2_accuracy: 0.9736 - dense_3_accuracy: 0.9468 - dense_4_accuracy: 0.9153 - dense_5_accuracy: 0.8904 - dense_6_accuracy: 0.9048 - val_loss: 0.4121 - val_dense_2_loss: 0.0210 - val_dense_3_loss: 0.0550 - val_dense_4_loss: 0.0914 - val_dense_5_loss: 0.1255 - val_dense_6_loss: 0.1128 - val_dense_2_accuracy: 0.9935 - val_dense_3_accuracy: 0.9852 - val_dense_4_accuracy: 0.9727 - val_dense_5_accuracy: 0.9656 - val_dense_6_accuracy: 0.9668\n",
      "\n",
      "Epoch 00004: val_loss improved from 0.69220 to 0.41210, saving model to weights.syn.hdf5\n",
      "Epoch 5/30\n",
      " - 4s - loss: 0.8940 - dense_2_loss: 0.0676 - dense_3_loss: 0.1325 - dense_4_loss: 0.1988 - dense_5_loss: 0.2567 - dense_6_loss: 0.2381 - dense_2_accuracy: 0.9793 - dense_3_accuracy: 0.9575 - dense_4_accuracy: 0.9375 - dense_5_accuracy: 0.9196 - dense_6_accuracy: 0.9250 - val_loss: 0.2784 - val_dense_2_loss: 0.0156 - val_dense_3_loss: 0.0299 - val_dense_4_loss: 0.0556 - val_dense_5_loss: 0.0886 - val_dense_6_loss: 0.0839 - val_dense_2_accuracy: 0.9959 - val_dense_3_accuracy: 0.9923 - val_dense_4_accuracy: 0.9828 - val_dense_5_accuracy: 0.9757 - val_dense_6_accuracy: 0.9775\n",
      "\n",
      "Epoch 00005: val_loss improved from 0.41210 to 0.27837, saving model to weights.syn.hdf5\n",
      "Epoch 6/30\n",
      " - 5s - loss: 0.7366 - dense_2_loss: 0.0597 - dense_3_loss: 0.1082 - dense_4_loss: 0.1746 - dense_5_loss: 0.2089 - dense_6_loss: 0.1849 - dense_2_accuracy: 0.9813 - dense_3_accuracy: 0.9653 - dense_4_accuracy: 0.9464 - dense_5_accuracy: 0.9344 - dense_6_accuracy: 0.9413 - val_loss: 0.2254 - val_dense_2_loss: 0.0100 - val_dense_3_loss: 0.0287 - val_dense_4_loss: 0.0417 - val_dense_5_loss: 0.0739 - val_dense_6_loss: 0.0663 - val_dense_2_accuracy: 0.9959 - val_dense_3_accuracy: 0.9929 - val_dense_4_accuracy: 0.9882 - val_dense_5_accuracy: 0.9805 - val_dense_6_accuracy: 0.9816\n",
      "\n",
      "Epoch 00006: val_loss improved from 0.27837 to 0.22535, saving model to weights.syn.hdf5\n",
      "Epoch 7/30\n",
      " - 4s - loss: 0.6493 - dense_2_loss: 0.0457 - dense_3_loss: 0.0975 - dense_4_loss: 0.1415 - dense_5_loss: 0.1952 - dense_6_loss: 0.1708 - dense_2_accuracy: 0.9854 - dense_3_accuracy: 0.9700 - dense_4_accuracy: 0.9541 - dense_5_accuracy: 0.9399 - dense_6_accuracy: 0.9479 - val_loss: 0.2229 - val_dense_2_loss: 0.0099 - val_dense_3_loss: 0.0260 - val_dense_4_loss: 0.0430 - val_dense_5_loss: 0.0680 - val_dense_6_loss: 0.0669 - val_dense_2_accuracy: 0.9970 - val_dense_3_accuracy: 0.9917 - val_dense_4_accuracy: 0.9887 - val_dense_5_accuracy: 0.9805 - val_dense_6_accuracy: 0.9828\n",
      "\n",
      "Epoch 00007: val_loss improved from 0.22535 to 0.22292, saving model to weights.syn.hdf5\n",
      "Epoch 8/30\n",
      " - 4s - loss: 0.5695 - dense_2_loss: 0.0451 - dense_3_loss: 0.0841 - dense_4_loss: 0.1283 - dense_5_loss: 0.1597 - dense_6_loss: 0.1536 - dense_2_accuracy: 0.9863 - dense_3_accuracy: 0.9727 - dense_4_accuracy: 0.9603 - dense_5_accuracy: 0.9509 - dense_6_accuracy: 0.9526 - val_loss: 0.2494 - val_dense_2_loss: 0.0120 - val_dense_3_loss: 0.0245 - val_dense_4_loss: 0.0491 - val_dense_5_loss: 0.0840 - val_dense_6_loss: 0.0703 - val_dense_2_accuracy: 0.9959 - val_dense_3_accuracy: 0.9935 - val_dense_4_accuracy: 0.9840 - val_dense_5_accuracy: 0.9781 - val_dense_6_accuracy: 0.9822\n",
      "\n",
      "Epoch 00008: val_loss did not improve from 0.22292\n",
      "Epoch 9/30\n",
      " - 4s - loss: 0.5401 - dense_2_loss: 0.0440 - dense_3_loss: 0.0761 - dense_4_loss: 0.1286 - dense_5_loss: 0.1572 - dense_6_loss: 0.1349 - dense_2_accuracy: 0.9865 - dense_3_accuracy: 0.9755 - dense_4_accuracy: 0.9589 - dense_5_accuracy: 0.9523 - dense_6_accuracy: 0.9583 - val_loss: 0.1940 - val_dense_2_loss: 0.0120 - val_dense_3_loss: 0.0247 - val_dense_4_loss: 0.0405 - val_dense_5_loss: 0.0608 - val_dense_6_loss: 0.0510 - val_dense_2_accuracy: 0.9970 - val_dense_3_accuracy: 0.9941 - val_dense_4_accuracy: 0.9876 - val_dense_5_accuracy: 0.9828 - val_dense_6_accuracy: 0.9834\n",
      "\n",
      "Epoch 00009: val_loss improved from 0.22292 to 0.19405, saving model to weights.syn.hdf5\n",
      "Epoch 10/30\n",
      " - 4s - loss: 0.4969 - dense_2_loss: 0.0376 - dense_3_loss: 0.0746 - dense_4_loss: 0.1137 - dense_5_loss: 0.1361 - dense_6_loss: 0.1344 - dense_2_accuracy: 0.9886 - dense_3_accuracy: 0.9763 - dense_4_accuracy: 0.9620 - dense_5_accuracy: 0.9570 - dense_6_accuracy: 0.9584 - val_loss: 0.1718 - val_dense_2_loss: 0.0037 - val_dense_3_loss: 0.0159 - val_dense_4_loss: 0.0308 - val_dense_5_loss: 0.0539 - val_dense_6_loss: 0.0599 - val_dense_2_accuracy: 0.9976 - val_dense_3_accuracy: 0.9953 - val_dense_4_accuracy: 0.9911 - val_dense_5_accuracy: 0.9876 - val_dense_6_accuracy: 0.9840\n",
      "\n",
      "Epoch 00010: val_loss improved from 0.19405 to 0.17182, saving model to weights.syn.hdf5\n",
      "Epoch 11/30\n",
      " - 5s - loss: 0.4467 - dense_2_loss: 0.0346 - dense_3_loss: 0.0645 - dense_4_loss: 0.1053 - dense_5_loss: 0.1262 - dense_6_loss: 0.1165 - dense_2_accuracy: 0.9891 - dense_3_accuracy: 0.9804 - dense_4_accuracy: 0.9666 - dense_5_accuracy: 0.9613 - dense_6_accuracy: 0.9626 - val_loss: 0.1873 - val_dense_2_loss: 0.0096 - val_dense_3_loss: 0.0221 - val_dense_4_loss: 0.0406 - val_dense_5_loss: 0.0587 - val_dense_6_loss: 0.0463 - val_dense_2_accuracy: 0.9982 - val_dense_3_accuracy: 0.9953 - val_dense_4_accuracy: 0.9870 - val_dense_5_accuracy: 0.9810 - val_dense_6_accuracy: 0.9858\n",
      "\n",
      "Epoch 00011: val_loss did not improve from 0.17182\n",
      "Epoch 12/30\n",
      " - 4s - loss: 0.4136 - dense_2_loss: 0.0321 - dense_3_loss: 0.0605 - dense_4_loss: 0.0959 - dense_5_loss: 0.1158 - dense_6_loss: 0.1105 - dense_2_accuracy: 0.9896 - dense_3_accuracy: 0.9798 - dense_4_accuracy: 0.9693 - dense_5_accuracy: 0.9629 - dense_6_accuracy: 0.9651 - val_loss: 0.1797 - val_dense_2_loss: 0.0079 - val_dense_3_loss: 0.0211 - val_dense_4_loss: 0.0359 - val_dense_5_loss: 0.0534 - val_dense_6_loss: 0.0518 - val_dense_2_accuracy: 0.9982 - val_dense_3_accuracy: 0.9947 - val_dense_4_accuracy: 0.9899 - val_dense_5_accuracy: 0.9858 - val_dense_6_accuracy: 0.9870\n",
      "\n",
      "Epoch 00012: val_loss did not improve from 0.17182\n",
      "Epoch 13/30\n",
      " - 4s - loss: 0.3925 - dense_2_loss: 0.0276 - dense_3_loss: 0.0575 - dense_4_loss: 0.0905 - dense_5_loss: 0.1144 - dense_6_loss: 0.1017 - dense_2_accuracy: 0.9907 - dense_3_accuracy: 0.9829 - dense_4_accuracy: 0.9718 - dense_5_accuracy: 0.9658 - dense_6_accuracy: 0.9688 - val_loss: 0.2435 - val_dense_2_loss: 0.0137 - val_dense_3_loss: 0.0244 - val_dense_4_loss: 0.0545 - val_dense_5_loss: 0.0576 - val_dense_6_loss: 0.0827 - val_dense_2_accuracy: 0.9964 - val_dense_3_accuracy: 0.9959 - val_dense_4_accuracy: 0.9834 - val_dense_5_accuracy: 0.9828 - val_dense_6_accuracy: 0.9793\n",
      "\n",
      "Epoch 00013: val_loss did not improve from 0.17182\n",
      "Epoch 14/30\n",
      " - 5s - loss: 0.3686 - dense_2_loss: 0.0273 - dense_3_loss: 0.0548 - dense_4_loss: 0.0858 - dense_5_loss: 0.1052 - dense_6_loss: 0.0958 - dense_2_accuracy: 0.9912 - dense_3_accuracy: 0.9820 - dense_4_accuracy: 0.9730 - dense_5_accuracy: 0.9662 - dense_6_accuracy: 0.9689 - val_loss: 0.1935 - val_dense_2_loss: 0.0117 - val_dense_3_loss: 0.0204 - val_dense_4_loss: 0.0374 - val_dense_5_loss: 0.0489 - val_dense_6_loss: 0.0680 - val_dense_2_accuracy: 0.9976 - val_dense_3_accuracy: 0.9947 - val_dense_4_accuracy: 0.9917 - val_dense_5_accuracy: 0.9864 - val_dense_6_accuracy: 0.9816\n",
      "\n",
      "Epoch 00014: val_loss did not improve from 0.17182\n",
      "Epoch 15/30\n",
      " - 5s - loss: 0.3504 - dense_2_loss: 0.0285 - dense_3_loss: 0.0500 - dense_4_loss: 0.0791 - dense_5_loss: 0.1022 - dense_6_loss: 0.0901 - dense_2_accuracy: 0.9914 - dense_3_accuracy: 0.9837 - dense_4_accuracy: 0.9762 - dense_5_accuracy: 0.9685 - dense_6_accuracy: 0.9716 - val_loss: 0.2205 - val_dense_2_loss: 0.0112 - val_dense_3_loss: 0.0203 - val_dense_4_loss: 0.0443 - val_dense_5_loss: 0.0599 - val_dense_6_loss: 0.0725 - val_dense_2_accuracy: 0.9964 - val_dense_3_accuracy: 0.9935 - val_dense_4_accuracy: 0.9882 - val_dense_5_accuracy: 0.9840 - val_dense_6_accuracy: 0.9834\n",
      "\n",
      "Epoch 00015: val_loss did not improve from 0.17182\n",
      "\n",
      "Epoch 00015: ReduceLROnPlateau reducing learning rate to 0.0005000000237487257.\n",
      "Epoch 16/30\n",
      " - 5s - loss: 0.2633 - dense_2_loss: 0.0198 - dense_3_loss: 0.0359 - dense_4_loss: 0.0644 - dense_5_loss: 0.0756 - dense_6_loss: 0.0682 - dense_2_accuracy: 0.9933 - dense_3_accuracy: 0.9878 - dense_4_accuracy: 0.9785 - dense_5_accuracy: 0.9762 - dense_6_accuracy: 0.9794 - val_loss: 0.1546 - val_dense_2_loss: 0.0107 - val_dense_3_loss: 0.0174 - val_dense_4_loss: 0.0306 - val_dense_5_loss: 0.0447 - val_dense_6_loss: 0.0456 - val_dense_2_accuracy: 0.9982 - val_dense_3_accuracy: 0.9959 - val_dense_4_accuracy: 0.9923 - val_dense_5_accuracy: 0.9870 - val_dense_6_accuracy: 0.9882\n",
      "\n",
      "Epoch 00016: val_loss improved from 0.17182 to 0.15456, saving model to weights.syn.hdf5\n",
      "Epoch 17/30\n",
      " - 4s - loss: 0.2375 - dense_2_loss: 0.0172 - dense_3_loss: 0.0352 - dense_4_loss: 0.0577 - dense_5_loss: 0.0649 - dense_6_loss: 0.0629 - dense_2_accuracy: 0.9947 - dense_3_accuracy: 0.9883 - dense_4_accuracy: 0.9815 - dense_5_accuracy: 0.9806 - dense_6_accuracy: 0.9805 - val_loss: 0.1593 - val_dense_2_loss: 0.0073 - val_dense_3_loss: 0.0126 - val_dense_4_loss: 0.0330 - val_dense_5_loss: 0.0492 - val_dense_6_loss: 0.0516 - val_dense_2_accuracy: 0.9988 - val_dense_3_accuracy: 0.9970 - val_dense_4_accuracy: 0.9899 - val_dense_5_accuracy: 0.9882 - val_dense_6_accuracy: 0.9876\n",
      "\n",
      "Epoch 00017: val_loss did not improve from 0.15456\n",
      "Epoch 18/30\n",
      " - 5s - loss: 0.2334 - dense_2_loss: 0.0150 - dense_3_loss: 0.0343 - dense_4_loss: 0.0529 - dense_5_loss: 0.0691 - dense_6_loss: 0.0625 - dense_2_accuracy: 0.9948 - dense_3_accuracy: 0.9891 - dense_4_accuracy: 0.9831 - dense_5_accuracy: 0.9789 - dense_6_accuracy: 0.9814 - val_loss: 0.1539 - val_dense_2_loss: 0.0060 - val_dense_3_loss: 0.0122 - val_dense_4_loss: 0.0363 - val_dense_5_loss: 0.0515 - val_dense_6_loss: 0.0414 - val_dense_2_accuracy: 0.9982 - val_dense_3_accuracy: 0.9976 - val_dense_4_accuracy: 0.9899 - val_dense_5_accuracy: 0.9882 - val_dense_6_accuracy: 0.9893\n",
      "\n",
      "Epoch 00018: val_loss improved from 0.15456 to 0.15389, saving model to weights.syn.hdf5\n",
      "Epoch 19/30\n",
      " - 4s - loss: 0.2141 - dense_2_loss: 0.0160 - dense_3_loss: 0.0325 - dense_4_loss: 0.0483 - dense_5_loss: 0.0623 - dense_6_loss: 0.0546 - dense_2_accuracy: 0.9950 - dense_3_accuracy: 0.9893 - dense_4_accuracy: 0.9840 - dense_5_accuracy: 0.9801 - dense_6_accuracy: 0.9825 - val_loss: 0.1886 - val_dense_2_loss: 0.0132 - val_dense_3_loss: 0.0168 - val_dense_4_loss: 0.0410 - val_dense_5_loss: 0.0589 - val_dense_6_loss: 0.0513 - val_dense_2_accuracy: 0.9982 - val_dense_3_accuracy: 0.9976 - val_dense_4_accuracy: 0.9882 - val_dense_5_accuracy: 0.9864 - val_dense_6_accuracy: 0.9858\n",
      "\n",
      "Epoch 00019: val_loss did not improve from 0.15389\n",
      "Epoch 20/30\n",
      " - 4s - loss: 0.1956 - dense_2_loss: 0.0112 - dense_3_loss: 0.0294 - dense_4_loss: 0.0444 - dense_5_loss: 0.0556 - dense_6_loss: 0.0554 - dense_2_accuracy: 0.9964 - dense_3_accuracy: 0.9898 - dense_4_accuracy: 0.9859 - dense_5_accuracy: 0.9834 - dense_6_accuracy: 0.9830 - val_loss: 0.1673 - val_dense_2_loss: 0.0102 - val_dense_3_loss: 0.0144 - val_dense_4_loss: 0.0333 - val_dense_5_loss: 0.0436 - val_dense_6_loss: 0.0573 - val_dense_2_accuracy: 0.9982 - val_dense_3_accuracy: 0.9970 - val_dense_4_accuracy: 0.9917 - val_dense_5_accuracy: 0.9887 - val_dense_6_accuracy: 0.9864\n",
      "\n",
      "Epoch 00020: val_loss did not improve from 0.15389\n",
      "Epoch 21/30\n",
      " - 4s - loss: 0.1946 - dense_2_loss: 0.0147 - dense_3_loss: 0.0316 - dense_4_loss: 0.0463 - dense_5_loss: 0.0524 - dense_6_loss: 0.0493 - dense_2_accuracy: 0.9957 - dense_3_accuracy: 0.9902 - dense_4_accuracy: 0.9854 - dense_5_accuracy: 0.9840 - dense_6_accuracy: 0.9843 - val_loss: 0.1537 - val_dense_2_loss: 0.0111 - val_dense_3_loss: 0.0124 - val_dense_4_loss: 0.0341 - val_dense_5_loss: 0.0392 - val_dense_6_loss: 0.0489 - val_dense_2_accuracy: 0.9970 - val_dense_3_accuracy: 0.9976 - val_dense_4_accuracy: 0.9917 - val_dense_5_accuracy: 0.9882 - val_dense_6_accuracy: 0.9876\n",
      "\n",
      "Epoch 00021: val_loss improved from 0.15389 to 0.15366, saving model to weights.syn.hdf5\n",
      "Epoch 22/30\n",
      " - 4s - loss: 0.1916 - dense_2_loss: 0.0148 - dense_3_loss: 0.0263 - dense_4_loss: 0.0461 - dense_5_loss: 0.0552 - dense_6_loss: 0.0490 - dense_2_accuracy: 0.9955 - dense_3_accuracy: 0.9915 - dense_4_accuracy: 0.9847 - dense_5_accuracy: 0.9822 - dense_6_accuracy: 0.9843 - val_loss: 0.1917 - val_dense_2_loss: 0.0098 - val_dense_3_loss: 0.0179 - val_dense_4_loss: 0.0487 - val_dense_5_loss: 0.0503 - val_dense_6_loss: 0.0560 - val_dense_2_accuracy: 0.9982 - val_dense_3_accuracy: 0.9970 - val_dense_4_accuracy: 0.9905 - val_dense_5_accuracy: 0.9876 - val_dense_6_accuracy: 0.9864\n",
      "\n",
      "Epoch 00022: val_loss did not improve from 0.15366\n",
      "Epoch 23/30\n",
      " - 4s - loss: 0.1940 - dense_2_loss: 0.0139 - dense_3_loss: 0.0318 - dense_4_loss: 0.0437 - dense_5_loss: 0.0547 - dense_6_loss: 0.0505 - dense_2_accuracy: 0.9953 - dense_3_accuracy: 0.9898 - dense_4_accuracy: 0.9866 - dense_5_accuracy: 0.9822 - dense_6_accuracy: 0.9849 - val_loss: 0.1590 - val_dense_2_loss: 0.0073 - val_dense_3_loss: 0.0159 - val_dense_4_loss: 0.0336 - val_dense_5_loss: 0.0449 - val_dense_6_loss: 0.0487 - val_dense_2_accuracy: 0.9982 - val_dense_3_accuracy: 0.9970 - val_dense_4_accuracy: 0.9923 - val_dense_5_accuracy: 0.9899 - val_dense_6_accuracy: 0.9870\n",
      "\n",
      "Epoch 00023: val_loss did not improve from 0.15366\n",
      "Epoch 24/30\n",
      " - 4s - loss: 0.1842 - dense_2_loss: 0.0127 - dense_3_loss: 0.0272 - dense_4_loss: 0.0383 - dense_5_loss: 0.0558 - dense_6_loss: 0.0505 - dense_2_accuracy: 0.9961 - dense_3_accuracy: 0.9906 - dense_4_accuracy: 0.9872 - dense_5_accuracy: 0.9818 - dense_6_accuracy: 0.9841 - val_loss: 0.1530 - val_dense_2_loss: 0.0068 - val_dense_3_loss: 0.0165 - val_dense_4_loss: 0.0280 - val_dense_5_loss: 0.0453 - val_dense_6_loss: 0.0497 - val_dense_2_accuracy: 0.9982 - val_dense_3_accuracy: 0.9964 - val_dense_4_accuracy: 0.9917 - val_dense_5_accuracy: 0.9882 - val_dense_6_accuracy: 0.9852\n",
      "\n",
      "Epoch 00024: val_loss improved from 0.15366 to 0.15300, saving model to weights.syn.hdf5\n",
      "Epoch 25/30\n",
      " - 4s - loss: 0.1691 - dense_2_loss: 0.0103 - dense_3_loss: 0.0239 - dense_4_loss: 0.0408 - dense_5_loss: 0.0492 - dense_6_loss: 0.0445 - dense_2_accuracy: 0.9965 - dense_3_accuracy: 0.9925 - dense_4_accuracy: 0.9876 - dense_5_accuracy: 0.9846 - dense_6_accuracy: 0.9848 - val_loss: 0.1374 - val_dense_2_loss: 0.0037 - val_dense_3_loss: 0.0129 - val_dense_4_loss: 0.0277 - val_dense_5_loss: 0.0423 - val_dense_6_loss: 0.0436 - val_dense_2_accuracy: 0.9988 - val_dense_3_accuracy: 0.9970 - val_dense_4_accuracy: 0.9923 - val_dense_5_accuracy: 0.9905 - val_dense_6_accuracy: 0.9870\n",
      "\n",
      "Epoch 00025: val_loss improved from 0.15300 to 0.13745, saving model to weights.syn.hdf5\n",
      "Epoch 26/30\n",
      " - 4s - loss: 0.1803 - dense_2_loss: 0.0132 - dense_3_loss: 0.0282 - dense_4_loss: 0.0436 - dense_5_loss: 0.0497 - dense_6_loss: 0.0452 - dense_2_accuracy: 0.9957 - dense_3_accuracy: 0.9909 - dense_4_accuracy: 0.9870 - dense_5_accuracy: 0.9847 - dense_6_accuracy: 0.9863 - val_loss: 0.1508 - val_dense_2_loss: 0.0077 - val_dense_3_loss: 0.0126 - val_dense_4_loss: 0.0324 - val_dense_5_loss: 0.0442 - val_dense_6_loss: 0.0457 - val_dense_2_accuracy: 0.9982 - val_dense_3_accuracy: 0.9982 - val_dense_4_accuracy: 0.9893 - val_dense_5_accuracy: 0.9882 - val_dense_6_accuracy: 0.9864\n",
      "\n",
      "Epoch 00026: val_loss did not improve from 0.13745\n",
      "Epoch 27/30\n",
      " - 5s - loss: 0.1698 - dense_2_loss: 0.0106 - dense_3_loss: 0.0239 - dense_4_loss: 0.0416 - dense_5_loss: 0.0469 - dense_6_loss: 0.0465 - dense_2_accuracy: 0.9960 - dense_3_accuracy: 0.9928 - dense_4_accuracy: 0.9870 - dense_5_accuracy: 0.9840 - dense_6_accuracy: 0.9853 - val_loss: 0.1621 - val_dense_2_loss: 0.0082 - val_dense_3_loss: 0.0179 - val_dense_4_loss: 0.0339 - val_dense_5_loss: 0.0494 - val_dense_6_loss: 0.0434 - val_dense_2_accuracy: 0.9982 - val_dense_3_accuracy: 0.9976 - val_dense_4_accuracy: 0.9905 - val_dense_5_accuracy: 0.9864 - val_dense_6_accuracy: 0.9870\n",
      "\n",
      "Epoch 00027: val_loss did not improve from 0.13745\n",
      "Epoch 28/30\n",
      " - 5s - loss: 0.1486 - dense_2_loss: 0.0100 - dense_3_loss: 0.0200 - dense_4_loss: 0.0361 - dense_5_loss: 0.0453 - dense_6_loss: 0.0367 - dense_2_accuracy: 0.9964 - dense_3_accuracy: 0.9931 - dense_4_accuracy: 0.9884 - dense_5_accuracy: 0.9851 - dense_6_accuracy: 0.9880 - val_loss: 0.1553 - val_dense_2_loss: 0.0077 - val_dense_3_loss: 0.0158 - val_dense_4_loss: 0.0330 - val_dense_5_loss: 0.0498 - val_dense_6_loss: 0.0417 - val_dense_2_accuracy: 0.9988 - val_dense_3_accuracy: 0.9970 - val_dense_4_accuracy: 0.9917 - val_dense_5_accuracy: 0.9887 - val_dense_6_accuracy: 0.9899\n",
      "\n",
      "Epoch 00028: val_loss did not improve from 0.13745\n",
      "Epoch 29/30\n",
      " - 5s - loss: 0.1541 - dense_2_loss: 0.0127 - dense_3_loss: 0.0249 - dense_4_loss: 0.0358 - dense_5_loss: 0.0423 - dense_6_loss: 0.0391 - dense_2_accuracy: 0.9962 - dense_3_accuracy: 0.9924 - dense_4_accuracy: 0.9887 - dense_5_accuracy: 0.9863 - dense_6_accuracy: 0.9882 - val_loss: 0.1646 - val_dense_2_loss: 0.0069 - val_dense_3_loss: 0.0129 - val_dense_4_loss: 0.0289 - val_dense_5_loss: 0.0494 - val_dense_6_loss: 0.0571 - val_dense_2_accuracy: 0.9982 - val_dense_3_accuracy: 0.9976 - val_dense_4_accuracy: 0.9911 - val_dense_5_accuracy: 0.9852 - val_dense_6_accuracy: 0.9840\n",
      "\n",
      "Epoch 00029: val_loss did not improve from 0.13745\n",
      "Epoch 30/30\n",
      " - 5s - loss: 0.1366 - dense_2_loss: 0.0093 - dense_3_loss: 0.0191 - dense_4_loss: 0.0330 - dense_5_loss: 0.0372 - dense_6_loss: 0.0380 - dense_2_accuracy: 0.9970 - dense_3_accuracy: 0.9937 - dense_4_accuracy: 0.9903 - dense_5_accuracy: 0.9877 - dense_6_accuracy: 0.9882 - val_loss: 0.1563 - val_dense_2_loss: 0.0068 - val_dense_3_loss: 0.0115 - val_dense_4_loss: 0.0331 - val_dense_5_loss: 0.0530 - val_dense_6_loss: 0.0431 - val_dense_2_accuracy: 0.9982 - val_dense_3_accuracy: 0.9970 - val_dense_4_accuracy: 0.9899 - val_dense_5_accuracy: 0.9911 - val_dense_6_accuracy: 0.9899\n",
      "\n",
      "Epoch 00030: val_loss did not improve from 0.13745\n",
      "\n",
      "Epoch 00030: ReduceLROnPlateau reducing learning rate to 0.0002500000118743628.\n"
     ]
    },
    {
     "data": {
      "text/plain": [
       "<keras.callbacks.callbacks.History at 0x7fddda393c50>"
      ]
     },
     "execution_count": 17,
     "metadata": {},
     "output_type": "execute_result"
    }
   ],
   "source": [
    "syn_model1=syn_model1(28,11)\n",
    "checkpointer=ModelCheckpoint(filepath=fw,verbose=2,\n",
    "                             save_best_only=True)\n",
    "lr_reduction=ReduceLROnPlateau(monitor='val_loss',patience=5,\n",
    "                               verbose=2,factor=.5)\n",
    "syn_model1.fit(sx_train1,sy_train1_list, \n",
    "               validation_data=(sx_valid1,sy_valid1_list), \n",
    "               epochs=30,batch_size=128,verbose=2,\n",
    "               callbacks=[checkpointer,lr_reduction])"
   ]
  },
  {
   "cell_type": "code",
   "execution_count": 18,
   "metadata": {},
   "outputs": [
    {
     "name": "stdout",
     "output_type": "stream",
     "text": [
      "Scores: \n",
      " [0.0702281215513768, 0.002865367103368044, 0.013230834156274796, 0.015640733763575554, 0.019214456900954247, 0.018993744626641273, 0.999407947063446, 0.9976317286491394, 0.9970396757125854, 0.9946714043617249, 0.9934872984886169]\n",
      "First digit. Accuracy: 99.94%\n",
      "Second digit. Accuracy: 99.76%\n",
      "Third digit. Accuracy: 99.70%\n",
      "Fourth digit. Accuracy: 99.47%\n",
      "Fifth digit. Accuracy: 99.35%\n",
      "Synthetic MNIST. Average Accuracy: 99.64%\n"
     ]
    }
   ],
   "source": [
    "syn_model1.load_weights(fw)\n",
    "syn_scores1=syn_model1.evaluate(sx_test1,sy_test1_list,verbose=0)\n",
    "print(\"Scores: \\n\" ,(syn_scores1))\n",
    "print(\"First digit. Accuracy: %.2f%%\"%(syn_scores1[6]*100))\n",
    "print(\"Second digit. Accuracy: %.2f%%\"%(syn_scores1[7]*100))\n",
    "print(\"Third digit. Accuracy: %.2f%%\"%(syn_scores1[8]*100))\n",
    "print(\"Fourth digit. Accuracy: %.2f%%\"%(syn_scores1[9]*100))\n",
    "print(\"Fifth digit. Accuracy: %.2f%%\"%(syn_scores1[10]*100))\n",
    "avg_accuracy1=sum([syn_scores1[i] for i in range(6,11)])/5\n",
    "print(\"Synthetic MNIST. Average Accuracy: %.2f%%\"%(avg_accuracy1*100))"
   ]
  },
  {
   "cell_type": "markdown",
   "execution_count": null,
   "metadata": {},
   "source": [
    "### Synthetic Data #2"
   ]
  },
  {
   "cell_type": "code",
   "execution_count": 19,
   "metadata": {
    "_kg_hide-input": true
   },
   "outputs": [],
   "source": [
    "def syn_model2(size,n):    \n",
    "    model_input=Input(shape=(size,size*5,1))\n",
    "    x=BatchNormalization()(model_input)        \n",
    "    x=Conv2D(32,(5,5),activation='relu',\n",
    "             padding='same')(model_input)\n",
    "    x=MaxPooling2D(pool_size=(2,2))(x)     \n",
    "    x=Conv2D(32,(5,5),activation='relu',\n",
    "             padding='same')(x)\n",
    "    x=MaxPooling2D(pool_size=(2,2))(x)    \n",
    "    x=Dropout(.25)(x)\n",
    "    x=BatchNormalization()(x)\n",
    "    x=Conv2D(256,(5,5),activation='relu',\n",
    "             padding='same')(x) \n",
    "    x=MaxPooling2D(pool_size=(2,2))(x) \n",
    "    x=Dropout(.25)(x)    \n",
    "    x=Conv2D(256,(5,5),activation='relu',\n",
    "             padding='same')(x)\n",
    "    x=MaxPooling2D(pool_size=(2,2))(x) \n",
    "    x=Dropout(.25)(x)              \n",
    "    x=Flatten()(x)    \n",
    "    x=Dense(1024,activation='relu')(x)    \n",
    "    x=Dropout(.25)(x)    \n",
    "    y=[Dense(n,activation='softmax')(x)\n",
    "       for i in range(5)]\n",
    "    model=Model(input=model_input,output=y)\n",
    "    model.compile(loss='sparse_categorical_crossentropy',\n",
    "                  optimizer='adam',metrics=['accuracy'])\n",
    "    return model"
   ]
  },
  {
   "cell_type": "code",
   "execution_count": 20,
   "metadata": {
    "_kg_hide-output": true
   },
   "outputs": [
    {
     "name": "stdout",
     "output_type": "stream",
     "text": [
      "Train on 3832 samples, validate on 469 samples\n",
      "Epoch 1/100\n",
      " - 3s - loss: 11.6879 - dense_8_loss: 0.8303 - dense_9_loss: 1.6115 - dense_10_loss: 2.4070 - dense_11_loss: 3.1525 - dense_12_loss: 3.6834 - dense_8_accuracy: 0.8040 - dense_9_accuracy: 0.6046 - dense_10_accuracy: 0.3938 - dense_11_accuracy: 0.1999 - dense_12_accuracy: 0.0305 - val_loss: 11.1283 - val_dense_8_loss: 0.7270 - val_dense_9_loss: 1.6610 - val_dense_10_loss: 2.3247 - val_dense_11_loss: 2.9668 - val_dense_12_loss: 3.5422 - val_dense_8_accuracy: 0.8209 - val_dense_9_accuracy: 0.5885 - val_dense_10_accuracy: 0.4094 - val_dense_11_accuracy: 0.2367 - val_dense_12_accuracy: 0.0299\n",
      "\n",
      "Epoch 00001: val_loss improved from inf to 11.12825, saving model to weights.syn.hdf5\n",
      "Epoch 2/100\n",
      " - 2s - loss: 10.7096 - dense_8_loss: 0.6701 - dense_9_loss: 1.3944 - dense_10_loss: 2.1569 - dense_11_loss: 2.9270 - dense_12_loss: 3.5620 - dense_8_accuracy: 0.8171 - dense_9_accuracy: 0.6279 - dense_10_accuracy: 0.4248 - dense_11_accuracy: 0.2216 - dense_12_accuracy: 0.0363 - val_loss: 10.9141 - val_dense_8_loss: 0.7289 - val_dense_9_loss: 1.6124 - val_dense_10_loss: 2.2552 - val_dense_11_loss: 2.8812 - val_dense_12_loss: 3.5287 - val_dense_8_accuracy: 0.8209 - val_dense_9_accuracy: 0.5885 - val_dense_10_accuracy: 0.4094 - val_dense_11_accuracy: 0.2388 - val_dense_12_accuracy: 0.0277\n",
      "\n",
      "Epoch 00002: val_loss improved from 11.12825 to 10.91409, saving model to weights.syn.hdf5\n",
      "Epoch 3/100\n",
      " - 2s - loss: 10.5706 - dense_8_loss: 0.6578 - dense_9_loss: 1.3764 - dense_10_loss: 2.1258 - dense_11_loss: 2.8817 - dense_12_loss: 3.5264 - dense_8_accuracy: 0.8197 - dense_9_accuracy: 0.6294 - dense_10_accuracy: 0.4301 - dense_11_accuracy: 0.2276 - dense_12_accuracy: 0.0436 - val_loss: 10.6597 - val_dense_8_loss: 0.6706 - val_dense_9_loss: 1.5619 - val_dense_10_loss: 2.1859 - val_dense_11_loss: 2.8120 - val_dense_12_loss: 3.5220 - val_dense_8_accuracy: 0.8252 - val_dense_9_accuracy: 0.5906 - val_dense_10_accuracy: 0.4072 - val_dense_11_accuracy: 0.2324 - val_dense_12_accuracy: 0.0469\n",
      "\n",
      "Epoch 00003: val_loss improved from 10.91409 to 10.65973, saving model to weights.syn.hdf5\n",
      "Epoch 4/100\n",
      " - 2s - loss: 10.4264 - dense_8_loss: 0.6510 - dense_9_loss: 1.3580 - dense_10_loss: 2.0963 - dense_11_loss: 2.8352 - dense_12_loss: 3.4867 - dense_8_accuracy: 0.8254 - dense_9_accuracy: 0.6386 - dense_10_accuracy: 0.4371 - dense_11_accuracy: 0.2375 - dense_12_accuracy: 0.0480 - val_loss: 10.8134 - val_dense_8_loss: 0.7104 - val_dense_9_loss: 1.5967 - val_dense_10_loss: 2.2364 - val_dense_11_loss: 2.8446 - val_dense_12_loss: 3.5208 - val_dense_8_accuracy: 0.8316 - val_dense_9_accuracy: 0.5864 - val_dense_10_accuracy: 0.3987 - val_dense_11_accuracy: 0.2303 - val_dense_12_accuracy: 0.0490\n",
      "\n",
      "Epoch 00004: val_loss did not improve from 10.65973\n",
      "Epoch 5/100\n",
      " - 2s - loss: 10.3077 - dense_8_loss: 0.6444 - dense_9_loss: 1.3460 - dense_10_loss: 2.0667 - dense_11_loss: 2.8030 - dense_12_loss: 3.4483 - dense_8_accuracy: 0.8280 - dense_9_accuracy: 0.6378 - dense_10_accuracy: 0.4410 - dense_11_accuracy: 0.2398 - dense_12_accuracy: 0.0611 - val_loss: 10.6685 - val_dense_8_loss: 0.6626 - val_dense_9_loss: 1.5561 - val_dense_10_loss: 2.1760 - val_dense_11_loss: 2.8075 - val_dense_12_loss: 3.5615 - val_dense_8_accuracy: 0.8252 - val_dense_9_accuracy: 0.5864 - val_dense_10_accuracy: 0.4200 - val_dense_11_accuracy: 0.2303 - val_dense_12_accuracy: 0.0426\n",
      "\n",
      "Epoch 00005: val_loss did not improve from 10.65973\n",
      "Epoch 6/100\n",
      " - 2s - loss: 10.1912 - dense_8_loss: 0.6335 - dense_9_loss: 1.3291 - dense_10_loss: 2.0482 - dense_11_loss: 2.7664 - dense_12_loss: 3.4117 - dense_8_accuracy: 0.8270 - dense_9_accuracy: 0.6375 - dense_10_accuracy: 0.4371 - dense_11_accuracy: 0.2448 - dense_12_accuracy: 0.0676 - val_loss: 10.6902 - val_dense_8_loss: 0.6563 - val_dense_9_loss: 1.5574 - val_dense_10_loss: 2.1629 - val_dense_11_loss: 2.8560 - val_dense_12_loss: 3.5517 - val_dense_8_accuracy: 0.8230 - val_dense_9_accuracy: 0.5842 - val_dense_10_accuracy: 0.4200 - val_dense_11_accuracy: 0.2281 - val_dense_12_accuracy: 0.0448\n",
      "\n",
      "Epoch 00006: val_loss did not improve from 10.65973\n",
      "Epoch 7/100\n",
      " - 2s - loss: 10.0596 - dense_8_loss: 0.6266 - dense_9_loss: 1.3103 - dense_10_loss: 2.0150 - dense_11_loss: 2.7317 - dense_12_loss: 3.3761 - dense_8_accuracy: 0.8280 - dense_9_accuracy: 0.6448 - dense_10_accuracy: 0.4483 - dense_11_accuracy: 0.2521 - dense_12_accuracy: 0.0725 - val_loss: 10.5739 - val_dense_8_loss: 0.6518 - val_dense_9_loss: 1.5516 - val_dense_10_loss: 2.1460 - val_dense_11_loss: 2.8008 - val_dense_12_loss: 3.5223 - val_dense_8_accuracy: 0.8294 - val_dense_9_accuracy: 0.5928 - val_dense_10_accuracy: 0.4264 - val_dense_11_accuracy: 0.2345 - val_dense_12_accuracy: 0.0384\n",
      "\n",
      "Epoch 00007: val_loss improved from 10.65973 to 10.57388, saving model to weights.syn.hdf5\n",
      "Epoch 8/100\n",
      " - 2s - loss: 9.9534 - dense_8_loss: 0.6212 - dense_9_loss: 1.2912 - dense_10_loss: 2.0015 - dense_11_loss: 2.7059 - dense_12_loss: 3.3330 - dense_8_accuracy: 0.8296 - dense_9_accuracy: 0.6420 - dense_10_accuracy: 0.4491 - dense_11_accuracy: 0.2602 - dense_12_accuracy: 0.0796 - val_loss: 10.5629 - val_dense_8_loss: 0.6552 - val_dense_9_loss: 1.5429 - val_dense_10_loss: 2.1409 - val_dense_11_loss: 2.8114 - val_dense_12_loss: 3.5221 - val_dense_8_accuracy: 0.8294 - val_dense_9_accuracy: 0.5906 - val_dense_10_accuracy: 0.4307 - val_dense_11_accuracy: 0.2303 - val_dense_12_accuracy: 0.0469\n",
      "\n",
      "Epoch 00008: val_loss improved from 10.57388 to 10.56293, saving model to weights.syn.hdf5\n",
      "Epoch 9/100\n",
      " - 2s - loss: 9.8212 - dense_8_loss: 0.6161 - dense_9_loss: 1.2796 - dense_10_loss: 1.9664 - dense_11_loss: 2.6663 - dense_12_loss: 3.2927 - dense_8_accuracy: 0.8322 - dense_9_accuracy: 0.6477 - dense_10_accuracy: 0.4580 - dense_11_accuracy: 0.2667 - dense_12_accuracy: 0.0853 - val_loss: 10.6132 - val_dense_8_loss: 0.6457 - val_dense_9_loss: 1.5551 - val_dense_10_loss: 2.1685 - val_dense_11_loss: 2.8227 - val_dense_12_loss: 3.5321 - val_dense_8_accuracy: 0.8316 - val_dense_9_accuracy: 0.5906 - val_dense_10_accuracy: 0.4222 - val_dense_11_accuracy: 0.2473 - val_dense_12_accuracy: 0.0469\n",
      "\n",
      "Epoch 00009: val_loss did not improve from 10.56293\n",
      "Epoch 10/100\n",
      " - 2s - loss: 9.6873 - dense_8_loss: 0.6112 - dense_9_loss: 1.2568 - dense_10_loss: 1.9412 - dense_11_loss: 2.6256 - dense_12_loss: 3.2506 - dense_8_accuracy: 0.8338 - dense_9_accuracy: 0.6501 - dense_10_accuracy: 0.4632 - dense_11_accuracy: 0.2662 - dense_12_accuracy: 0.0963 - val_loss: 10.6229 - val_dense_8_loss: 0.6520 - val_dense_9_loss: 1.5505 - val_dense_10_loss: 2.1528 - val_dense_11_loss: 2.8369 - val_dense_12_loss: 3.5467 - val_dense_8_accuracy: 0.8358 - val_dense_9_accuracy: 0.5906 - val_dense_10_accuracy: 0.4200 - val_dense_11_accuracy: 0.2303 - val_dense_12_accuracy: 0.0490\n",
      "\n",
      "Epoch 00010: val_loss did not improve from 10.56293\n",
      "Epoch 11/100\n",
      " - 2s - loss: 9.5453 - dense_8_loss: 0.6047 - dense_9_loss: 1.2380 - dense_10_loss: 1.9086 - dense_11_loss: 2.5954 - dense_12_loss: 3.1985 - dense_8_accuracy: 0.8327 - dense_9_accuracy: 0.6571 - dense_10_accuracy: 0.4666 - dense_11_accuracy: 0.2756 - dense_12_accuracy: 0.1086 - val_loss: 10.6940 - val_dense_8_loss: 0.6547 - val_dense_9_loss: 1.5541 - val_dense_10_loss: 2.1712 - val_dense_11_loss: 2.8471 - val_dense_12_loss: 3.5806 - val_dense_8_accuracy: 0.8358 - val_dense_9_accuracy: 0.5928 - val_dense_10_accuracy: 0.4435 - val_dense_11_accuracy: 0.2367 - val_dense_12_accuracy: 0.0405\n",
      "\n",
      "Epoch 00011: val_loss did not improve from 10.56293\n",
      "Epoch 12/100\n",
      " - 2s - loss: 9.4167 - dense_8_loss: 0.5921 - dense_9_loss: 1.2205 - dense_10_loss: 1.8825 - dense_11_loss: 2.5591 - dense_12_loss: 3.1617 - dense_8_accuracy: 0.8364 - dense_9_accuracy: 0.6594 - dense_10_accuracy: 0.4718 - dense_11_accuracy: 0.2868 - dense_12_accuracy: 0.1125 - val_loss: 10.7379 - val_dense_8_loss: 0.6531 - val_dense_9_loss: 1.5601 - val_dense_10_loss: 2.1912 - val_dense_11_loss: 2.8621 - val_dense_12_loss: 3.5928 - val_dense_8_accuracy: 0.8273 - val_dense_9_accuracy: 0.5928 - val_dense_10_accuracy: 0.4115 - val_dense_11_accuracy: 0.2239 - val_dense_12_accuracy: 0.0405\n",
      "\n",
      "Epoch 00012: val_loss did not improve from 10.56293\n",
      "Epoch 13/100\n",
      " - 2s - loss: 9.2615 - dense_8_loss: 0.5770 - dense_9_loss: 1.1954 - dense_10_loss: 1.8576 - dense_11_loss: 2.5209 - dense_12_loss: 3.1106 - dense_8_accuracy: 0.8387 - dense_9_accuracy: 0.6673 - dense_10_accuracy: 0.4786 - dense_11_accuracy: 0.2904 - dense_12_accuracy: 0.1287 - val_loss: 10.8610 - val_dense_8_loss: 0.6628 - val_dense_9_loss: 1.5817 - val_dense_10_loss: 2.2041 - val_dense_11_loss: 2.8794 - val_dense_12_loss: 3.6573 - val_dense_8_accuracy: 0.8252 - val_dense_9_accuracy: 0.5906 - val_dense_10_accuracy: 0.4328 - val_dense_11_accuracy: 0.2260 - val_dense_12_accuracy: 0.0405\n",
      "\n",
      "Epoch 00013: val_loss did not improve from 10.56293\n",
      "\n",
      "Epoch 00013: ReduceLROnPlateau reducing learning rate to 0.0005000000237487257.\n",
      "Epoch 14/100\n",
      " - 2s - loss: 8.7898 - dense_8_loss: 0.5549 - dense_9_loss: 1.1464 - dense_10_loss: 1.7519 - dense_11_loss: 2.3981 - dense_12_loss: 2.9389 - dense_8_accuracy: 0.8455 - dense_9_accuracy: 0.6756 - dense_10_accuracy: 0.5084 - dense_11_accuracy: 0.3239 - dense_12_accuracy: 0.1657 - val_loss: 10.9139 - val_dense_8_loss: 0.6486 - val_dense_9_loss: 1.5910 - val_dense_10_loss: 2.1986 - val_dense_11_loss: 2.9340 - val_dense_12_loss: 3.6622 - val_dense_8_accuracy: 0.8316 - val_dense_9_accuracy: 0.6077 - val_dense_10_accuracy: 0.4264 - val_dense_11_accuracy: 0.2324 - val_dense_12_accuracy: 0.0277\n",
      "\n",
      "Epoch 00014: val_loss did not improve from 10.56293\n",
      "Epoch 15/100\n",
      " - 2s - loss: 8.6108 - dense_8_loss: 0.5403 - dense_9_loss: 1.1079 - dense_10_loss: 1.7226 - dense_11_loss: 2.3502 - dense_12_loss: 2.8905 - dense_8_accuracy: 0.8468 - dense_9_accuracy: 0.6790 - dense_10_accuracy: 0.5102 - dense_11_accuracy: 0.3312 - dense_12_accuracy: 0.1767 - val_loss: 11.0213 - val_dense_8_loss: 0.6510 - val_dense_9_loss: 1.6142 - val_dense_10_loss: 2.2504 - val_dense_11_loss: 2.9552 - val_dense_12_loss: 3.7035 - val_dense_8_accuracy: 0.8337 - val_dense_9_accuracy: 0.5991 - val_dense_10_accuracy: 0.4328 - val_dense_11_accuracy: 0.2388 - val_dense_12_accuracy: 0.0320\n",
      "\n",
      "Epoch 00015: val_loss did not improve from 10.56293\n",
      "Epoch 16/100\n",
      " - 2s - loss: 8.4009 - dense_8_loss: 0.5315 - dense_9_loss: 1.0998 - dense_10_loss: 1.6653 - dense_11_loss: 2.2751 - dense_12_loss: 2.8280 - dense_8_accuracy: 0.8466 - dense_9_accuracy: 0.6866 - dense_10_accuracy: 0.5222 - dense_11_accuracy: 0.3484 - dense_12_accuracy: 0.1803 - val_loss: 11.0771 - val_dense_8_loss: 0.6641 - val_dense_9_loss: 1.6281 - val_dense_10_loss: 2.2429 - val_dense_11_loss: 2.9645 - val_dense_12_loss: 3.7333 - val_dense_8_accuracy: 0.8337 - val_dense_9_accuracy: 0.6034 - val_dense_10_accuracy: 0.4307 - val_dense_11_accuracy: 0.2367 - val_dense_12_accuracy: 0.0384\n",
      "\n",
      "Epoch 00016: val_loss did not improve from 10.56293\n",
      "Epoch 17/100\n",
      " - 2s - loss: 8.2493 - dense_8_loss: 0.5140 - dense_9_loss: 1.0546 - dense_10_loss: 1.6535 - dense_11_loss: 2.2366 - dense_12_loss: 2.7904 - dense_8_accuracy: 0.8575 - dense_9_accuracy: 0.6978 - dense_10_accuracy: 0.5264 - dense_11_accuracy: 0.3531 - dense_12_accuracy: 0.1861 - val_loss: 11.1671 - val_dense_8_loss: 0.6648 - val_dense_9_loss: 1.6306 - val_dense_10_loss: 2.2685 - val_dense_11_loss: 2.9946 - val_dense_12_loss: 3.7721 - val_dense_8_accuracy: 0.8358 - val_dense_9_accuracy: 0.5949 - val_dense_10_accuracy: 0.4264 - val_dense_11_accuracy: 0.2367 - val_dense_12_accuracy: 0.0469\n",
      "\n",
      "Epoch 00017: val_loss did not improve from 10.56293\n",
      "Epoch 18/100\n",
      " - 2s - loss: 8.0568 - dense_8_loss: 0.4989 - dense_9_loss: 1.0357 - dense_10_loss: 1.5953 - dense_11_loss: 2.2058 - dense_12_loss: 2.7220 - dense_8_accuracy: 0.8573 - dense_9_accuracy: 0.7041 - dense_10_accuracy: 0.5365 - dense_11_accuracy: 0.3580 - dense_12_accuracy: 0.2103 - val_loss: 11.1965 - val_dense_8_loss: 0.6641 - val_dense_9_loss: 1.6420 - val_dense_10_loss: 2.2813 - val_dense_11_loss: 3.0074 - val_dense_12_loss: 3.7723 - val_dense_8_accuracy: 0.8337 - val_dense_9_accuracy: 0.5970 - val_dense_10_accuracy: 0.4392 - val_dense_11_accuracy: 0.2324 - val_dense_12_accuracy: 0.0448\n",
      "\n",
      "Epoch 00018: val_loss did not improve from 10.56293\n",
      "\n",
      "Epoch 00018: ReduceLROnPlateau reducing learning rate to 0.0002500000118743628.\n",
      "Epoch 19/100\n",
      " - 2s - loss: 7.7139 - dense_8_loss: 0.4870 - dense_9_loss: 1.0048 - dense_10_loss: 1.5245 - dense_11_loss: 2.0925 - dense_12_loss: 2.6069 - dense_8_accuracy: 0.8604 - dense_9_accuracy: 0.7093 - dense_10_accuracy: 0.5519 - dense_11_accuracy: 0.3873 - dense_12_accuracy: 0.2474 - val_loss: 11.3999 - val_dense_8_loss: 0.6682 - val_dense_9_loss: 1.6845 - val_dense_10_loss: 2.3191 - val_dense_11_loss: 3.0610 - val_dense_12_loss: 3.8390 - val_dense_8_accuracy: 0.8358 - val_dense_9_accuracy: 0.6077 - val_dense_10_accuracy: 0.4392 - val_dense_11_accuracy: 0.2367 - val_dense_12_accuracy: 0.0384\n",
      "\n",
      "Epoch 00019: val_loss did not improve from 10.56293\n",
      "Epoch 20/100\n",
      " - 2s - loss: 7.5028 - dense_8_loss: 0.4804 - dense_9_loss: 0.9602 - dense_10_loss: 1.5052 - dense_11_loss: 2.0306 - dense_12_loss: 2.5263 - dense_8_accuracy: 0.8588 - dense_9_accuracy: 0.7200 - dense_10_accuracy: 0.5603 - dense_11_accuracy: 0.4045 - dense_12_accuracy: 0.2521 - val_loss: 11.5432 - val_dense_8_loss: 0.6760 - val_dense_9_loss: 1.6877 - val_dense_10_loss: 2.3487 - val_dense_11_loss: 3.1258 - val_dense_12_loss: 3.8904 - val_dense_8_accuracy: 0.8337 - val_dense_9_accuracy: 0.5991 - val_dense_10_accuracy: 0.4286 - val_dense_11_accuracy: 0.2367 - val_dense_12_accuracy: 0.0362\n",
      "\n",
      "Epoch 00020: val_loss did not improve from 10.56293\n",
      "Epoch 21/100\n",
      " - 2s - loss: 7.3891 - dense_8_loss: 0.4657 - dense_9_loss: 0.9409 - dense_10_loss: 1.4740 - dense_11_loss: 2.0128 - dense_12_loss: 2.4950 - dense_8_accuracy: 0.8659 - dense_9_accuracy: 0.7281 - dense_10_accuracy: 0.5655 - dense_11_accuracy: 0.4071 - dense_12_accuracy: 0.2633 - val_loss: 11.7935 - val_dense_8_loss: 0.7005 - val_dense_9_loss: 1.7449 - val_dense_10_loss: 2.3865 - val_dense_11_loss: 3.1703 - val_dense_12_loss: 3.9946 - val_dense_8_accuracy: 0.8273 - val_dense_9_accuracy: 0.6119 - val_dense_10_accuracy: 0.4328 - val_dense_11_accuracy: 0.2409 - val_dense_12_accuracy: 0.0362\n",
      "\n",
      "Epoch 00021: val_loss did not improve from 10.56293\n",
      "Epoch 22/100\n",
      " - 2s - loss: 7.2270 - dense_8_loss: 0.4540 - dense_9_loss: 0.9246 - dense_10_loss: 1.4335 - dense_11_loss: 1.9629 - dense_12_loss: 2.4526 - dense_8_accuracy: 0.8640 - dense_9_accuracy: 0.7276 - dense_10_accuracy: 0.5681 - dense_11_accuracy: 0.4186 - dense_12_accuracy: 0.2743 - val_loss: 11.8241 - val_dense_8_loss: 0.6841 - val_dense_9_loss: 1.7395 - val_dense_10_loss: 2.4067 - val_dense_11_loss: 3.2082 - val_dense_12_loss: 4.0059 - val_dense_8_accuracy: 0.8316 - val_dense_9_accuracy: 0.6077 - val_dense_10_accuracy: 0.4307 - val_dense_11_accuracy: 0.2388 - val_dense_12_accuracy: 0.0362\n",
      "\n",
      "Epoch 00022: val_loss did not improve from 10.56293\n",
      "Epoch 23/100\n",
      " - 2s - loss: 7.1152 - dense_8_loss: 0.4486 - dense_9_loss: 0.9038 - dense_10_loss: 1.4237 - dense_11_loss: 1.9302 - dense_12_loss: 2.4091 - dense_8_accuracy: 0.8703 - dense_9_accuracy: 0.7296 - dense_10_accuracy: 0.5809 - dense_11_accuracy: 0.4290 - dense_12_accuracy: 0.2881 - val_loss: 12.0421 - val_dense_8_loss: 0.7194 - val_dense_9_loss: 1.7598 - val_dense_10_loss: 2.4454 - val_dense_11_loss: 3.2519 - val_dense_12_loss: 4.0989 - val_dense_8_accuracy: 0.8273 - val_dense_9_accuracy: 0.6077 - val_dense_10_accuracy: 0.4350 - val_dense_11_accuracy: 0.2388 - val_dense_12_accuracy: 0.0426\n",
      "\n",
      "Epoch 00023: val_loss did not improve from 10.56293\n",
      "\n",
      "Epoch 00023: ReduceLROnPlateau reducing learning rate to 0.0001250000059371814.\n",
      "Epoch 24/100\n",
      " - 2s - loss: 6.8446 - dense_8_loss: 0.4344 - dense_9_loss: 0.8725 - dense_10_loss: 1.3545 - dense_11_loss: 1.8797 - dense_12_loss: 2.3038 - dense_8_accuracy: 0.8729 - dense_9_accuracy: 0.7469 - dense_10_accuracy: 0.5968 - dense_11_accuracy: 0.4449 - dense_12_accuracy: 0.3137 - val_loss: 12.1341 - val_dense_8_loss: 0.7160 - val_dense_9_loss: 1.7749 - val_dense_10_loss: 2.4650 - val_dense_11_loss: 3.2835 - val_dense_12_loss: 4.1093 - val_dense_8_accuracy: 0.8294 - val_dense_9_accuracy: 0.6162 - val_dense_10_accuracy: 0.4200 - val_dense_11_accuracy: 0.2431 - val_dense_12_accuracy: 0.0426\n",
      "\n",
      "Epoch 00024: val_loss did not improve from 10.56293\n",
      "Epoch 25/100\n",
      " - 2s - loss: 6.8008 - dense_8_loss: 0.4346 - dense_9_loss: 0.8684 - dense_10_loss: 1.3480 - dense_11_loss: 1.8640 - dense_12_loss: 2.2882 - dense_8_accuracy: 0.8698 - dense_9_accuracy: 0.7440 - dense_10_accuracy: 0.6002 - dense_11_accuracy: 0.4358 - dense_12_accuracy: 0.3192 - val_loss: 12.1797 - val_dense_8_loss: 0.7109 - val_dense_9_loss: 1.7971 - val_dense_10_loss: 2.4786 - val_dense_11_loss: 3.3074 - val_dense_12_loss: 4.1120 - val_dense_8_accuracy: 0.8252 - val_dense_9_accuracy: 0.6119 - val_dense_10_accuracy: 0.4243 - val_dense_11_accuracy: 0.2388 - val_dense_12_accuracy: 0.0362\n",
      "\n",
      "Epoch 00025: val_loss did not improve from 10.56293\n",
      "Epoch 26/100\n",
      " - 2s - loss: 6.6963 - dense_8_loss: 0.4201 - dense_9_loss: 0.8513 - dense_10_loss: 1.3247 - dense_11_loss: 1.8300 - dense_12_loss: 2.2704 - dense_8_accuracy: 0.8727 - dense_9_accuracy: 0.7484 - dense_10_accuracy: 0.6033 - dense_11_accuracy: 0.4528 - dense_12_accuracy: 0.3178 - val_loss: 12.2492 - val_dense_8_loss: 0.7065 - val_dense_9_loss: 1.8002 - val_dense_10_loss: 2.4811 - val_dense_11_loss: 3.3335 - val_dense_12_loss: 4.1553 - val_dense_8_accuracy: 0.8294 - val_dense_9_accuracy: 0.6141 - val_dense_10_accuracy: 0.4264 - val_dense_11_accuracy: 0.2409 - val_dense_12_accuracy: 0.0469\n",
      "\n",
      "Epoch 00026: val_loss did not improve from 10.56293\n",
      "Epoch 27/100\n",
      " - 2s - loss: 6.6242 - dense_8_loss: 0.4263 - dense_9_loss: 0.8544 - dense_10_loss: 1.2983 - dense_11_loss: 1.7940 - dense_12_loss: 2.2528 - dense_8_accuracy: 0.8734 - dense_9_accuracy: 0.7471 - dense_10_accuracy: 0.6046 - dense_11_accuracy: 0.4661 - dense_12_accuracy: 0.3257 - val_loss: 12.4467 - val_dense_8_loss: 0.7204 - val_dense_9_loss: 1.8443 - val_dense_10_loss: 2.5335 - val_dense_11_loss: 3.3959 - val_dense_12_loss: 4.1940 - val_dense_8_accuracy: 0.8252 - val_dense_9_accuracy: 0.6098 - val_dense_10_accuracy: 0.4264 - val_dense_11_accuracy: 0.2303 - val_dense_12_accuracy: 0.0426\n",
      "\n",
      "Epoch 00027: val_loss did not improve from 10.56293\n",
      "Epoch 28/100\n",
      " - 2s - loss: 6.5891 - dense_8_loss: 0.4195 - dense_9_loss: 0.8516 - dense_10_loss: 1.2992 - dense_11_loss: 1.8034 - dense_12_loss: 2.2156 - dense_8_accuracy: 0.8771 - dense_9_accuracy: 0.7456 - dense_10_accuracy: 0.6193 - dense_11_accuracy: 0.4601 - dense_12_accuracy: 0.3314 - val_loss: 12.3322 - val_dense_8_loss: 0.7215 - val_dense_9_loss: 1.8166 - val_dense_10_loss: 2.4874 - val_dense_11_loss: 3.3532 - val_dense_12_loss: 4.1859 - val_dense_8_accuracy: 0.8316 - val_dense_9_accuracy: 0.6055 - val_dense_10_accuracy: 0.4264 - val_dense_11_accuracy: 0.2431 - val_dense_12_accuracy: 0.0405\n",
      "\n",
      "Epoch 00028: val_loss did not improve from 10.56293\n",
      "\n",
      "Epoch 00028: ReduceLROnPlateau reducing learning rate to 6.25000029685907e-05.\n",
      "Epoch 00028: early stopping\n"
     ]
    },
    {
     "data": {
      "text/plain": [
       "<keras.callbacks.callbacks.History at 0x7fddccfaedd0>"
      ]
     },
     "execution_count": 20,
     "metadata": {},
     "output_type": "execute_result"
    }
   ],
   "source": [
    "syn_model2=syn_model2(32,34)\n",
    "checkpointer=ModelCheckpoint(filepath=fw,verbose=2,\n",
    "                             save_best_only=True)\n",
    "lr_reduction=ReduceLROnPlateau(monitor='val_loss',patience=5,\n",
    "                               verbose=2,factor=.5)\n",
    "estopping=EarlyStopping(monitor='val_loss',patience=20,verbose=2)\n",
    "syn_model2.fit(sx_train2,sy_train2_list, \n",
    "               validation_data=(sx_valid2,sy_valid2_list), \n",
    "               epochs=100,batch_size=64,verbose=2,\n",
    "               callbacks=[checkpointer,lr_reduction,estopping])"
   ]
  },
  {
   "cell_type": "code",
   "execution_count": 21,
   "metadata": {},
   "outputs": [
    {
     "name": "stdout",
     "output_type": "stream",
     "text": [
      "Scores: \n",
      " [10.682964894308972, 0.7363604307174683, 1.423814058303833, 2.1935105323791504, 2.861429452896118, 3.474646806716919, 0.7953091859817505, 0.6055437326431274, 0.3987206816673279, 0.21961620450019836, 0.057569295167922974]\n",
      "First letter. Accuracy: 79.53%\n",
      "Second letter. Accuracy: 60.55%\n",
      "Third letter. Accuracy: 39.87%\n",
      "Fourth letter. Accuracy: 21.96%\n",
      "Fifth letter. Accuracy: 5.76%\n",
      "Synthetic Letters. Average Accuracy: 41.54%\n"
     ]
    }
   ],
   "source": [
    "syn_model2.load_weights(fw)\n",
    "syn_scores2=syn_model2.evaluate(sx_test2,sy_test2_list,verbose=0)\n",
    "print(\"Scores: \\n\" ,(syn_scores2))\n",
    "print(\"First letter. Accuracy: %.2f%%\"%(syn_scores2[6]*100))\n",
    "print(\"Second letter. Accuracy: %.2f%%\"%(syn_scores2[7]*100))\n",
    "print(\"Third letter. Accuracy: %.2f%%\"%(syn_scores2[8]*100))\n",
    "print(\"Fourth letter. Accuracy: %.2f%%\"%(syn_scores2[9]*100))\n",
    "print(\"Fifth letter. Accuracy: %.2f%%\"%(syn_scores2[10]*100))\n",
    "avg_accuracy2=sum([syn_scores2[i] for i in range(6,11)])/5\n",
    "print(\"Synthetic Letters. Average Accuracy: %.2f%%\"%(avg_accuracy2*100))"
   ]
  }
 ],
 "metadata": {
  "kernelspec": {
   "display_name": "Python 3",
   "language": "python",
   "name": "python3"
  },
  "language_info": {
   "codemirror_mode": {
    "name": "ipython",
    "version": 3
   },
   "file_extension": ".py",
   "mimetype": "text/x-python",
   "name": "python",
   "nbconvert_exporter": "python",
   "pygments_lexer": "ipython3",
   "version": "3.7.6"
  }
 },
 "nbformat": 4,
 "nbformat_minor": 4
}
