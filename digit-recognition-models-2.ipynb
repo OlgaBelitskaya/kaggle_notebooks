{
 "cells": [
  {
   "cell_type": "markdown",
   "metadata": {
    "_cell_guid": "2b789bb2-5f39-840f-a1be-837736094542",
    "_execution_state": "idle",
    "_uuid": "93d4aa0b93fb1f05c0d6d6d28b33108aad9db847"
   },
   "source": [
    "# &#x1F4D1; &nbsp;  Digit Recognition Models #2\n",
    "## Links\n",
    "[SciPy. Multi-dimensional image processing](https://docs.scipy.org/doc/scipy/reference/ndimage.html)\n",
    "\n",
    "[Keras. Deep Learning library for Theano and TensorFlow](https://keras.io/)\n",
    " \n",
    "[TensorFlow. Deep MNIST for Experts](https://www.tensorflow.org/get_started/mnist/pros) & [Tensorflow. Deep MNIST Advanced Tutorial](http://docs.seldon.io/tensorflow-deep-mnist-example.html)\n",
    "\n",
    "[Handwritten Digit Recognition using Convolutional Neural Networks in Python with Keras](http://machinelearningmastery.com/handwritten-digit-recognition-using-convolutional-neural-networks-python-keras/)\n",
    "#### Other variants of this  project: [Digit Recognition Models](https://olgabelitskaya.github.io/kaggle_digits.html) & [Colaboratory Notebook](https://drive.google.com/open?id=1B1qh4ySXeJlWDMAXxAgHtS3jsyNdsmrn)\n",
    "#### P5: Build a Digit Recognition Program: [1](https://olgabelitskaya.github.io/MLE_ND_P5_V0_S1.html) & [2](https://olgabelitskaya.github.io/MLE_ND_P5_V0_S2.html) & [3](https://olgabelitskaya.github.io/MLE_ND_P5_V0_S3.html)\n",
    "## Libraries\n"
   ]
  },
  {
   "cell_type": "code",
   "execution_count": 1,
   "metadata": {
    "_cell_guid": "2ee0a55f-7769-636c-0394-f08a4891b1fa",
    "_execution_state": "idle",
    "_uuid": "28de8e16c1d7fcd1e04c426558cb37fbec5cae64"
   },
   "outputs": [
    {
     "name": "stderr",
     "output_type": "stream",
     "text": [
      "Using TensorFlow backend.\n"
     ]
    },
    {
     "name": "stdout",
     "output_type": "stream",
     "text": [
      "keras version: 2.2.4\n"
     ]
    }
   ],
   "source": [
    "import numpy as np,pandas as pd,pylab as pl\n",
    "from time import time; from scipy import stats\n",
    "import warnings; warnings.filterwarnings('ignore')\n",
    "\n",
    "from sklearn.model_selection import train_test_split\n",
    "from sklearn.neural_network import MLPClassifier\n",
    "from sklearn.semi_supervised import label_propagation\n",
    "from keras.utils import to_categorical\n",
    "from keras.preprocessing import image as ksimage\n",
    "from keras.callbacks import ModelCheckpoint,ReduceLROnPlateau,EarlyStopping \n",
    "from keras.preprocessing.image import ImageDataGenerator\n",
    "from keras.metrics import top_k_categorical_accuracy,categorical_accuracy\n",
    "from sklearn.metrics import accuracy_score,hamming_loss\n",
    "from sklearn.metrics import classification_report,confusion_matrix\n",
    "from keras.models import Sequential,Model\n",
    "from keras.layers import Input,BatchNormalization,Flatten,Dropout\n",
    "from keras.layers import Dense,LSTM,Activation,LeakyReLU,GlobalAveragePooling2D\n",
    "from keras.layers import Conv2D,MaxPool2D,MaxPooling2D,GlobalMaxPooling2D\n",
    "from keras.layers import UpSampling2D,Conv2DTranspose,DepthwiseConv2D\n",
    "from keras import __version__\n",
    "print('keras version:', __version__)"
   ]
  },
  {
   "cell_type": "code",
   "execution_count": 2,
   "metadata": {
    "_cell_guid": "db108d4c-3d76-b238-ccf6-09cc9ca865d1",
    "_execution_state": "idle",
    "_uuid": "d0dbdf9e2a802cc5a9205b779d20a8cfe8994376"
   },
   "outputs": [],
   "source": [
    "k=.48\n",
    "wcnn='weights.best.digits.cnn.hdf5'\n",
    "def hplot(history):\n",
    "    pl.figure(figsize=(12,5))\n",
    "    pl.plot(history.history['categorical_accuracy'][3:],'-o',label='train')\n",
    "    pl.plot(history.history['val_categorical_accuracy'][3:],'-o',label='test')\n",
    "    pl.legend(); pl.title('CNN Accuracy'); pl.show()\n",
    "def top_3_categorical_accuracy(y_true,y_pred):\n",
    "    return top_k_categorical_accuracy(y_true,y_pred,k=3)"
   ]
  },
  {
   "cell_type": "markdown",
   "metadata": {
    "_cell_guid": "35144acd-04ae-b516-0fe5-82356ecce6ba",
    "_uuid": "2caa57b5dd893deadb171530c8ab67f8ca9e8928"
   },
   "source": [
    "## Datasets"
   ]
  },
  {
   "cell_type": "code",
   "execution_count": 3,
   "metadata": {
    "_cell_guid": "fcffbabb-ab3d-583d-06dc-2be2d6e8f39f",
    "_execution_state": "idle",
    "_uuid": "ac8633c8e78d5983a37f02d340d01b23a7d5fdbb"
   },
   "outputs": [
    {
     "name": "stdout",
     "output_type": "stream",
     "text": [
      "[(42000, 785), (28000, 784)]\n",
      "[  0   0   0   0   0   0   0   0  37 111 137 245 254 254 254 254  52   0\n",
      "   0   0 186 254 163   0   0   0   0   0]\n"
     ]
    }
   ],
   "source": [
    "df_train=pd.read_csv(\"../input/train.csv\")\n",
    "df_test=pd.read_csv(\"../input/test.csv\")\n",
    "print([df_train.shape,df_test.shape])\n",
    "print(df_train.iloc[265,1:].values.reshape(28,28)[:,10])"
   ]
  },
  {
   "cell_type": "code",
   "execution_count": 4,
   "metadata": {
    "_cell_guid": "b535ad43-ca8a-8658-447a-338ab89c8b3d",
    "_execution_state": "idle",
    "_uuid": "1d310408e33f96f486d94ca14d2bc10acb3e57f3"
   },
   "outputs": [
    {
     "data": {
      "text/plain": [
       "[(42000, 784), (42000, 10), (28000, 784)]"
      ]
     },
     "execution_count": 4,
     "metadata": {},
     "output_type": "execute_result"
    }
   ],
   "source": [
    "images=[\"%s%s\"%(\"pixel\",pixel_no) for pixel_no in range(0,784)]\n",
    "train_images=np.array(df_train[images])\n",
    "train_images=(train_images.astype('float32')/255)**k\n",
    "train_labels=df_train['label']\n",
    "train_labels_cat=to_categorical(train_labels,num_classes=10)\n",
    "test_images=np.array(df_test[images])\n",
    "test_images=(test_images.astype('float32')/255)**k\n",
    "#train_images = (train_images.astype('float32')/255)\n",
    "[train_images.shape,train_labels_cat.shape,test_images.shape]"
   ]
  },
  {
   "cell_type": "code",
   "execution_count": 5,
   "metadata": {
    "_cell_guid": "508eb742-757a-fd4e-a229-c69831633809",
    "_execution_state": "idle",
    "_uuid": "43fc8c6e9a82e593266eee621de832cca13670a3"
   },
   "outputs": [
    {
     "data": {
      "text/plain": [
       "[(33600, 784), (4200, 784), (4200, 784), (33600, 10), (4200, 10), (4200, 10)]"
      ]
     },
     "execution_count": 5,
     "metadata": {},
     "output_type": "execute_result"
    }
   ],
   "source": [
    "X_train,X_test,y_train,y_test=\\\n",
    "train_test_split(train_images,train_labels_cat, \n",
    "                 test_size=.2,random_state=32)\n",
    "n=int(len(X_test)/2)\n",
    "X_valid,y_valid=X_test[:n],y_test[:n]\n",
    "X_test,y_test=X_test[n:],y_test[n:]\n",
    "y_train_num=np.array([np.argmax(x) for x in y_train])\n",
    "y_test_num=np.array([np.argmax(x) for x in y_test])\n",
    "y_valid_num=np.array([np.argmax(x) for x in y_valid])\n",
    "[X_train.shape,X_test.shape,X_valid.shape,\\\n",
    "y_train.shape,y_test.shape,y_valid.shape]"
   ]
  },
  {
   "cell_type": "markdown",
   "metadata": {
    "_cell_guid": "7adbe0ab-0789-4ddd-2e26-9d76cdad4e4c",
    "_uuid": "007b97495f7439724621554d9cca7c9132f713d4"
   },
   "source": [
    "## Examples"
   ]
  },
  {
   "cell_type": "code",
   "execution_count": 6,
   "metadata": {
    "_cell_guid": "7b83aa52-4aa6-6e82-db05-7c0e5dcd70af",
    "_execution_state": "idle",
    "_kg_hide-output": false,
    "_uuid": "a819810ff3a1d9376ae70c9d66b29adcedd27c7d"
   },
   "outputs": [
    {
     "data": {
      "image/png": "[encoded data removed]",
      "text/plain": [
       "<Figure size 864x144 with 10 Axes>"
      ]
     },
     "metadata": {},
     "output_type": "display_data"
    }
   ],
   "source": [
    "fig,ax=pl.subplots(figsize=(12,2),nrows=1,ncols=10,\n",
    "                   sharex=True,sharey=True)\n",
    "ax=ax.flatten()\n",
    "for i in range(10):\n",
    "    image=train_images[i].reshape(28,28)\n",
    "    ax[i].imshow(image,cmap=pl.cm.bone)\n",
    "ax[0].set_xticks([]); ax[0].set_yticks([])\n",
    "ax[4].set_title('Examples of symbols',fontsize=25)\n",
    "pl.tight_layout(); pl.gcf(); pl.show()"
   ]
  },
  {
   "cell_type": "markdown",
   "metadata": {
    "_cell_guid": "5512fff0-1506-97a9-eb77-060f4545a6df",
    "_uuid": "300c213f9c7721d7746fd4b989b747bf930eff34"
   },
   "source": [
    "## Models"
   ]
  },
  {
   "cell_type": "code",
   "execution_count": 7,
   "metadata": {
    "_cell_guid": "3686a7f2-6514-c239-69d1-8ecac4df38b1",
    "_execution_state": "idle",
    "_kg_hide-output": true,
    "_uuid": "edb38d2204652e62891e6c254c98d7c728e08408"
   },
   "outputs": [
    {
     "name": "stdout",
     "output_type": "stream",
     "text": [
      "_________________________________________________________________\n",
      "Layer (type)                 Output Shape              Param #   \n",
      "=================================================================\n",
      "input_1 (InputLayer)         (None, 28, 28, 1)         0         \n",
      "_________________________________________________________________\n",
      "batch_normalization_1 (Batch (None, 28, 28, 1)         4         \n",
      "_________________________________________________________________\n",
      "conv2d_1 (Conv2D)            (None, 28, 28, 28)        728       \n",
      "_________________________________________________________________\n",
      "leaky_re_lu_1 (LeakyReLU)    (None, 28, 28, 28)        0         \n",
      "_________________________________________________________________\n",
      "max_pooling2d_1 (MaxPooling2 (None, 14, 14, 28)        0         \n",
      "_________________________________________________________________\n",
      "dropout_1 (Dropout)          (None, 14, 14, 28)        0         \n",
      "_________________________________________________________________\n",
      "conv2d_2 (Conv2D)            (None, 10, 10, 96)        67296     \n",
      "_________________________________________________________________\n",
      "leaky_re_lu_2 (LeakyReLU)    (None, 10, 10, 96)        0         \n",
      "_________________________________________________________________\n",
      "max_pooling2d_2 (MaxPooling2 (None, 5, 5, 96)          0         \n",
      "_________________________________________________________________\n",
      "dropout_2 (Dropout)          (None, 5, 5, 96)          0         \n",
      "_________________________________________________________________\n",
      "global_max_pooling2d_1 (Glob (None, 96)                0         \n",
      "_________________________________________________________________\n",
      "dense_1 (Dense)              (None, 512)               49664     \n",
      "_________________________________________________________________\n",
      "leaky_re_lu_3 (LeakyReLU)    (None, 512)               0         \n",
      "_________________________________________________________________\n",
      "dropout_3 (Dropout)          (None, 512)               0         \n",
      "_________________________________________________________________\n",
      "dense_2 (Dense)              (None, 10)                5130      \n",
      "=================================================================\n",
      "Total params: 122,822\n",
      "Trainable params: 122,820\n",
      "Non-trainable params: 2\n",
      "_________________________________________________________________\n"
     ]
    }
   ],
   "source": [
    "# Model #1. Convolutional Neural Network. Keras\n",
    "def cnn_model():\n",
    "    model_input=Input(shape=(28,28,1))\n",
    "    x=BatchNormalization()(model_input)    \n",
    "    x=Conv2D(28,(5,5),padding='same')(x)\n",
    "    x=LeakyReLU(alpha=.02)(x)\n",
    "    x=MaxPooling2D(strides=(2,2))(x)\n",
    "    x=Dropout(.25)(x)    \n",
    "    x=Conv2D(96,(5,5))(x)\n",
    "    x=LeakyReLU(alpha=.02)(x)\n",
    "    x=MaxPooling2D(strides=(2,2))(x)\n",
    "    x=Dropout(.25)(x) \n",
    "    x=GlobalMaxPooling2D()(x)    \n",
    "    x=Dense(512)(x)\n",
    "    x=LeakyReLU(alpha=.02)(x)\n",
    "    x=Dropout(.5)(x)    \n",
    "    y=Dense(10,activation='softmax')(x)    \n",
    "    model=Model(input=model_input,output=y)    \n",
    "    model.compile(loss='categorical_crossentropy',optimizer='nadam', \n",
    "                  metrics=[categorical_accuracy,top_3_categorical_accuracy])    \n",
    "    return model\n",
    "cnn_model=cnn_model()\n",
    "cnn_model.summary()"
   ]
  },
  {
   "cell_type": "code",
   "execution_count": 8,
   "metadata": {
    "_cell_guid": "eb392eaa-5ae9-4997-872e-51961a0b32ac",
    "_kg_hide-output": true,
    "_uuid": "821e00bb31108309e124e83262ad6e4a81a0394d"
   },
   "outputs": [
    {
     "name": "stdout",
     "output_type": "stream",
     "text": [
      "Train on 33600 samples, validate on 4200 samples\n",
      "Epoch 1/100\n",
      " - 7s - loss: 0.4355 - categorical_accuracy: 0.8578 - top_3_categorical_accuracy: 0.9440 - val_loss: 0.1429 - val_categorical_accuracy: 0.9536 - val_top_3_categorical_accuracy: 0.9943\n",
      "\n",
      "Epoch 00001: val_loss improved from inf to 0.14295, saving model to weights.best.digits.cnn.hdf5\n",
      "Epoch 2/100\n",
      " - 2s - loss: 0.1107 - categorical_accuracy: 0.9659 - top_3_categorical_accuracy: 0.9964 - val_loss: 0.0786 - val_categorical_accuracy: 0.9790 - val_top_3_categorical_accuracy: 0.9974\n",
      "\n",
      "Epoch 00002: val_loss improved from 0.14295 to 0.07864, saving model to weights.best.digits.cnn.hdf5\n",
      "Epoch 3/100\n",
      " - 2s - loss: 0.0829 - categorical_accuracy: 0.9752 - top_3_categorical_accuracy: 0.9973 - val_loss: 0.0594 - val_categorical_accuracy: 0.9831 - val_top_3_categorical_accuracy: 0.9974\n",
      "\n",
      "Epoch 00003: val_loss improved from 0.07864 to 0.05942, saving model to weights.best.digits.cnn.hdf5\n",
      "Epoch 4/100\n",
      " - 2s - loss: 0.0697 - categorical_accuracy: 0.9782 - top_3_categorical_accuracy: 0.9979 - val_loss: 0.0518 - val_categorical_accuracy: 0.9852 - val_top_3_categorical_accuracy: 0.9979\n",
      "\n",
      "Epoch 00004: val_loss improved from 0.05942 to 0.05176, saving model to weights.best.digits.cnn.hdf5\n",
      "Epoch 5/100\n",
      " - 2s - loss: 0.0625 - categorical_accuracy: 0.9806 - top_3_categorical_accuracy: 0.9981 - val_loss: 0.0451 - val_categorical_accuracy: 0.9857 - val_top_3_categorical_accuracy: 0.9983\n",
      "\n",
      "Epoch 00005: val_loss improved from 0.05176 to 0.04514, saving model to weights.best.digits.cnn.hdf5\n",
      "Epoch 6/100\n",
      " - 2s - loss: 0.0590 - categorical_accuracy: 0.9813 - top_3_categorical_accuracy: 0.9988 - val_loss: 0.0370 - val_categorical_accuracy: 0.9902 - val_top_3_categorical_accuracy: 0.9988\n",
      "\n",
      "Epoch 00006: val_loss improved from 0.04514 to 0.03696, saving model to weights.best.digits.cnn.hdf5\n",
      "Epoch 7/100\n",
      " - 2s - loss: 0.0501 - categorical_accuracy: 0.9840 - top_3_categorical_accuracy: 0.9990 - val_loss: 0.0371 - val_categorical_accuracy: 0.9888 - val_top_3_categorical_accuracy: 0.9995\n",
      "\n",
      "Epoch 00007: val_loss did not improve from 0.03696\n",
      "Epoch 8/100\n",
      " - 2s - loss: 0.0482 - categorical_accuracy: 0.9850 - top_3_categorical_accuracy: 0.9989 - val_loss: 0.0541 - val_categorical_accuracy: 0.9848 - val_top_3_categorical_accuracy: 0.9981\n",
      "\n",
      "Epoch 00008: val_loss did not improve from 0.03696\n",
      "Epoch 9/100\n",
      " - 2s - loss: 0.0474 - categorical_accuracy: 0.9846 - top_3_categorical_accuracy: 0.9990 - val_loss: 0.0352 - val_categorical_accuracy: 0.9898 - val_top_3_categorical_accuracy: 0.9990\n",
      "\n",
      "Epoch 00009: val_loss improved from 0.03696 to 0.03525, saving model to weights.best.digits.cnn.hdf5\n",
      "Epoch 10/100\n",
      " - 2s - loss: 0.0426 - categorical_accuracy: 0.9865 - top_3_categorical_accuracy: 0.9991 - val_loss: 0.0432 - val_categorical_accuracy: 0.9876 - val_top_3_categorical_accuracy: 0.9990\n",
      "\n",
      "Epoch 00010: val_loss did not improve from 0.03525\n",
      "Epoch 11/100\n",
      " - 2s - loss: 0.0417 - categorical_accuracy: 0.9866 - top_3_categorical_accuracy: 0.9993 - val_loss: 0.0309 - val_categorical_accuracy: 0.9910 - val_top_3_categorical_accuracy: 0.9993\n",
      "\n",
      "Epoch 00011: val_loss improved from 0.03525 to 0.03094, saving model to weights.best.digits.cnn.hdf5\n",
      "Epoch 12/100\n",
      " - 2s - loss: 0.0386 - categorical_accuracy: 0.9874 - top_3_categorical_accuracy: 0.9993 - val_loss: 0.0375 - val_categorical_accuracy: 0.9900 - val_top_3_categorical_accuracy: 0.9981\n",
      "\n",
      "Epoch 00012: val_loss did not improve from 0.03094\n",
      "Epoch 13/100\n",
      " - 2s - loss: 0.0382 - categorical_accuracy: 0.9876 - top_3_categorical_accuracy: 0.9993 - val_loss: 0.0309 - val_categorical_accuracy: 0.9919 - val_top_3_categorical_accuracy: 0.9986\n",
      "\n",
      "Epoch 00013: val_loss did not improve from 0.03094\n",
      "Epoch 14/100\n",
      " - 2s - loss: 0.0343 - categorical_accuracy: 0.9896 - top_3_categorical_accuracy: 0.9995 - val_loss: 0.0310 - val_categorical_accuracy: 0.9924 - val_top_3_categorical_accuracy: 0.9995\n",
      "\n",
      "Epoch 00014: val_loss did not improve from 0.03094\n",
      "Epoch 15/100\n",
      " - 2s - loss: 0.0324 - categorical_accuracy: 0.9895 - top_3_categorical_accuracy: 0.9996 - val_loss: 0.0321 - val_categorical_accuracy: 0.9900 - val_top_3_categorical_accuracy: 0.9995\n",
      "\n",
      "Epoch 00015: val_loss did not improve from 0.03094\n",
      "Epoch 16/100\n",
      " - 2s - loss: 0.0331 - categorical_accuracy: 0.9894 - top_3_categorical_accuracy: 0.9994 - val_loss: 0.0329 - val_categorical_accuracy: 0.9919 - val_top_3_categorical_accuracy: 0.9981\n",
      "\n",
      "Epoch 00016: val_loss did not improve from 0.03094\n",
      "\n",
      "Epoch 00016: ReduceLROnPlateau reducing learning rate to 0.001600000075995922.\n",
      "Epoch 17/100\n",
      " - 2s - loss: 0.0304 - categorical_accuracy: 0.9900 - top_3_categorical_accuracy: 0.9996 - val_loss: 0.0273 - val_categorical_accuracy: 0.9926 - val_top_3_categorical_accuracy: 0.9995\n",
      "\n",
      "Epoch 00017: val_loss improved from 0.03094 to 0.02732, saving model to weights.best.digits.cnn.hdf5\n",
      "Epoch 18/100\n",
      " - 2s - loss: 0.0256 - categorical_accuracy: 0.9916 - top_3_categorical_accuracy: 0.9996 - val_loss: 0.0273 - val_categorical_accuracy: 0.9926 - val_top_3_categorical_accuracy: 0.9993\n",
      "\n",
      "Epoch 00018: val_loss improved from 0.02732 to 0.02731, saving model to weights.best.digits.cnn.hdf5\n",
      "Epoch 19/100\n",
      " - 3s - loss: 0.0263 - categorical_accuracy: 0.9911 - top_3_categorical_accuracy: 0.9999 - val_loss: 0.0268 - val_categorical_accuracy: 0.9926 - val_top_3_categorical_accuracy: 0.9993\n",
      "\n",
      "Epoch 00019: val_loss improved from 0.02731 to 0.02683, saving model to weights.best.digits.cnn.hdf5\n",
      "Epoch 20/100\n",
      " - 2s - loss: 0.0246 - categorical_accuracy: 0.9919 - top_3_categorical_accuracy: 0.9998 - val_loss: 0.0290 - val_categorical_accuracy: 0.9924 - val_top_3_categorical_accuracy: 0.9990\n",
      "\n",
      "Epoch 00020: val_loss did not improve from 0.02683\n",
      "Epoch 21/100\n",
      " - 2s - loss: 0.0231 - categorical_accuracy: 0.9925 - top_3_categorical_accuracy: 0.9999 - val_loss: 0.0280 - val_categorical_accuracy: 0.9929 - val_top_3_categorical_accuracy: 0.9998\n",
      "\n",
      "Epoch 00021: val_loss did not improve from 0.02683\n",
      "Epoch 22/100\n",
      " - 2s - loss: 0.0240 - categorical_accuracy: 0.9918 - top_3_categorical_accuracy: 0.9998 - val_loss: 0.0309 - val_categorical_accuracy: 0.9917 - val_top_3_categorical_accuracy: 0.9993\n",
      "\n",
      "Epoch 00022: val_loss did not improve from 0.02683\n",
      "Epoch 23/100\n",
      " - 2s - loss: 0.0243 - categorical_accuracy: 0.9919 - top_3_categorical_accuracy: 0.9998 - val_loss: 0.0310 - val_categorical_accuracy: 0.9905 - val_top_3_categorical_accuracy: 0.9988\n",
      "\n",
      "Epoch 00023: val_loss did not improve from 0.02683\n",
      "Epoch 24/100\n",
      " - 2s - loss: 0.0239 - categorical_accuracy: 0.9925 - top_3_categorical_accuracy: 0.9997 - val_loss: 0.0284 - val_categorical_accuracy: 0.9940 - val_top_3_categorical_accuracy: 0.9988\n",
      "\n",
      "Epoch 00024: val_loss did not improve from 0.02683\n",
      "\n",
      "Epoch 00024: ReduceLROnPlateau reducing learning rate to 0.0012800000607967378.\n",
      "Epoch 25/100\n",
      " - 2s - loss: 0.0196 - categorical_accuracy: 0.9932 - top_3_categorical_accuracy: 0.9998 - val_loss: 0.0275 - val_categorical_accuracy: 0.9931 - val_top_3_categorical_accuracy: 0.9988\n",
      "\n",
      "Epoch 00025: val_loss did not improve from 0.02683\n",
      "Epoch 26/100\n",
      " - 2s - loss: 0.0180 - categorical_accuracy: 0.9937 - top_3_categorical_accuracy: 1.0000 - val_loss: 0.0256 - val_categorical_accuracy: 0.9938 - val_top_3_categorical_accuracy: 0.9990\n",
      "\n",
      "Epoch 00026: val_loss improved from 0.02683 to 0.02559, saving model to weights.best.digits.cnn.hdf5\n",
      "Epoch 27/100\n",
      " - 2s - loss: 0.0193 - categorical_accuracy: 0.9937 - top_3_categorical_accuracy: 0.9998 - val_loss: 0.0257 - val_categorical_accuracy: 0.9931 - val_top_3_categorical_accuracy: 0.9990\n",
      "\n",
      "Epoch 00027: val_loss did not improve from 0.02559\n",
      "Epoch 28/100\n",
      " - 2s - loss: 0.0206 - categorical_accuracy: 0.9929 - top_3_categorical_accuracy: 0.9998 - val_loss: 0.0302 - val_categorical_accuracy: 0.9929 - val_top_3_categorical_accuracy: 0.9988\n",
      "\n",
      "Epoch 00028: val_loss did not improve from 0.02559\n",
      "Epoch 29/100\n",
      " - 2s - loss: 0.0189 - categorical_accuracy: 0.9933 - top_3_categorical_accuracy: 0.9998 - val_loss: 0.0281 - val_categorical_accuracy: 0.9940 - val_top_3_categorical_accuracy: 0.9988\n",
      "\n",
      "Epoch 00029: val_loss did not improve from 0.02559\n",
      "Epoch 30/100\n",
      " - 2s - loss: 0.0175 - categorical_accuracy: 0.9940 - top_3_categorical_accuracy: 0.9999 - val_loss: 0.0316 - val_categorical_accuracy: 0.9919 - val_top_3_categorical_accuracy: 0.9990\n",
      "\n",
      "Epoch 00030: val_loss did not improve from 0.02559\n",
      "Epoch 31/100\n",
      " - 2s - loss: 0.0185 - categorical_accuracy: 0.9942 - top_3_categorical_accuracy: 0.9999 - val_loss: 0.0339 - val_categorical_accuracy: 0.9917 - val_top_3_categorical_accuracy: 0.9990\n",
      "\n",
      "Epoch 00031: val_loss did not improve from 0.02559\n",
      "\n",
      "Epoch 00031: ReduceLROnPlateau reducing learning rate to 0.0010240000672638416.\n",
      "Epoch 32/100\n",
      " - 2s - loss: 0.0154 - categorical_accuracy: 0.9952 - top_3_categorical_accuracy: 1.0000 - val_loss: 0.0271 - val_categorical_accuracy: 0.9945 - val_top_3_categorical_accuracy: 0.9990\n",
      "\n",
      "Epoch 00032: val_loss did not improve from 0.02559\n",
      "Epoch 33/100\n",
      " - 2s - loss: 0.0151 - categorical_accuracy: 0.9951 - top_3_categorical_accuracy: 1.0000 - val_loss: 0.0324 - val_categorical_accuracy: 0.9921 - val_top_3_categorical_accuracy: 0.9990\n",
      "\n",
      "Epoch 00033: val_loss did not improve from 0.02559\n",
      "Epoch 34/100\n",
      " - 2s - loss: 0.0138 - categorical_accuracy: 0.9952 - top_3_categorical_accuracy: 0.9999 - val_loss: 0.0373 - val_categorical_accuracy: 0.9907 - val_top_3_categorical_accuracy: 0.9988\n",
      "\n",
      "Epoch 00034: val_loss did not improve from 0.02559\n",
      "Epoch 35/100\n",
      " - 2s - loss: 0.0143 - categorical_accuracy: 0.9947 - top_3_categorical_accuracy: 0.9999 - val_loss: 0.0316 - val_categorical_accuracy: 0.9914 - val_top_3_categorical_accuracy: 0.9988\n",
      "\n",
      "Epoch 00035: val_loss did not improve from 0.02559\n",
      "Epoch 36/100\n",
      " - 2s - loss: 0.0140 - categorical_accuracy: 0.9954 - top_3_categorical_accuracy: 0.9999 - val_loss: 0.0296 - val_categorical_accuracy: 0.9929 - val_top_3_categorical_accuracy: 0.9995\n",
      "\n",
      "Epoch 00036: val_loss did not improve from 0.02559\n",
      "\n",
      "Epoch 00036: ReduceLROnPlateau reducing learning rate to 0.0008192000910639763.\n",
      "Epoch 37/100\n",
      " - 2s - loss: 0.0130 - categorical_accuracy: 0.9960 - top_3_categorical_accuracy: 0.9999 - val_loss: 0.0327 - val_categorical_accuracy: 0.9924 - val_top_3_categorical_accuracy: 0.9993\n",
      "\n",
      "Epoch 00037: val_loss did not improve from 0.02559\n",
      "Epoch 38/100\n",
      " - 2s - loss: 0.0124 - categorical_accuracy: 0.9963 - top_3_categorical_accuracy: 0.9999 - val_loss: 0.0306 - val_categorical_accuracy: 0.9926 - val_top_3_categorical_accuracy: 0.9993\n",
      "\n",
      "Epoch 00038: val_loss did not improve from 0.02559\n",
      "Epoch 39/100\n",
      " - 2s - loss: 0.0136 - categorical_accuracy: 0.9952 - top_3_categorical_accuracy: 0.9999 - val_loss: 0.0280 - val_categorical_accuracy: 0.9926 - val_top_3_categorical_accuracy: 0.9993\n",
      "\n",
      "Epoch 00039: val_loss did not improve from 0.02559\n",
      "Epoch 40/100\n",
      " - 2s - loss: 0.0135 - categorical_accuracy: 0.9956 - top_3_categorical_accuracy: 0.9999 - val_loss: 0.0328 - val_categorical_accuracy: 0.9912 - val_top_3_categorical_accuracy: 0.9990\n",
      "\n",
      "Epoch 00040: val_loss did not improve from 0.02559\n",
      "Epoch 41/100\n",
      " - 2s - loss: 0.0111 - categorical_accuracy: 0.9962 - top_3_categorical_accuracy: 1.0000 - val_loss: 0.0280 - val_categorical_accuracy: 0.9929 - val_top_3_categorical_accuracy: 0.9993\n",
      "\n",
      "Epoch 00041: val_loss did not improve from 0.02559\n",
      "\n",
      "Epoch 00041: ReduceLROnPlateau reducing learning rate to 0.0006553600542247295.\n",
      "Epoch 42/100\n",
      " - 2s - loss: 0.0096 - categorical_accuracy: 0.9966 - top_3_categorical_accuracy: 0.9999 - val_loss: 0.0270 - val_categorical_accuracy: 0.9936 - val_top_3_categorical_accuracy: 0.9990\n",
      "\n",
      "Epoch 00042: val_loss did not improve from 0.02559\n",
      "Epoch 43/100\n",
      " - 2s - loss: 0.0097 - categorical_accuracy: 0.9965 - top_3_categorical_accuracy: 0.9999 - val_loss: 0.0274 - val_categorical_accuracy: 0.9940 - val_top_3_categorical_accuracy: 0.9990\n",
      "\n",
      "Epoch 00043: val_loss did not improve from 0.02559\n",
      "Epoch 44/100\n",
      " - 2s - loss: 0.0088 - categorical_accuracy: 0.9970 - top_3_categorical_accuracy: 0.9999 - val_loss: 0.0306 - val_categorical_accuracy: 0.9933 - val_top_3_categorical_accuracy: 0.9993\n",
      "\n",
      "Epoch 00044: val_loss did not improve from 0.02559\n",
      "Epoch 45/100\n",
      " - 2s - loss: 0.0096 - categorical_accuracy: 0.9965 - top_3_categorical_accuracy: 0.9999 - val_loss: 0.0267 - val_categorical_accuracy: 0.9936 - val_top_3_categorical_accuracy: 0.9995\n",
      "\n",
      "Epoch 00045: val_loss did not improve from 0.02559\n",
      "Epoch 46/100\n",
      " - 2s - loss: 0.0085 - categorical_accuracy: 0.9971 - top_3_categorical_accuracy: 0.9999 - val_loss: 0.0285 - val_categorical_accuracy: 0.9933 - val_top_3_categorical_accuracy: 0.9993\n",
      "\n",
      "Epoch 00046: val_loss did not improve from 0.02559\n",
      "\n",
      "Epoch 00046: ReduceLROnPlateau reducing learning rate to 0.0005242880433797836.\n",
      "Epoch 00046: early stopping\n"
     ]
    }
   ],
   "source": [
    "checkpointer=ModelCheckpoint(filepath=wcnn,verbose=2,save_best_only=True)\n",
    "lr_reduction=ReduceLROnPlateau(monitor='val_loss',patience=5,verbose=2,factor=.8)\n",
    "estopping=EarlyStopping(monitor='val_loss',patience=20,verbose=2)\n",
    "history=cnn_model.fit(X_train.reshape(-1,28,28,1),y_train, \n",
    "                      validation_data=(X_valid.reshape(-1,28,28,1),y_valid), \n",
    "                      epochs=100,batch_size=128,verbose=2, \n",
    "                      callbacks=[checkpointer,lr_reduction,estopping])"
   ]
  },
  {
   "cell_type": "code",
   "execution_count": 9,
   "metadata": {
    "_cell_guid": "2c980063-52e3-4ed6-8e43-5925d6f9a99b",
    "_kg_hide-output": false,
    "_uuid": "53b3c59ae5260f1c1404048b71eb96d4512c251d"
   },
   "outputs": [
    {
     "data": {
      "image/png": "[encoded data removed]",
      "text/plain": [
       "<Figure size 864x360 with 1 Axes>"
      ]
     },
     "metadata": {
      "needs_background": "light"
     },
     "output_type": "display_data"
    },
    {
     "name": "stdout",
     "output_type": "stream",
     "text": [
      "CNN Scores:  [0.02413942624428143, 0.9935714285714285, 0.9997619047619047]\n",
      "CNN Error: 0.64%\n"
     ]
    }
   ],
   "source": [
    "cnn_model.load_weights(wcnn)\n",
    "hplot(history)\n",
    "scores=cnn_model.evaluate(X_test.reshape(-1,28,28,1),y_test,verbose=0)\n",
    "print(\"CNN Scores: \",(scores))\n",
    "print(\"CNN Error: %.2f%%\"%(100-scores[1]*100))"
   ]
  },
  {
   "cell_type": "code",
   "execution_count": 10,
   "metadata": {
    "_cell_guid": "ac95953e-2717-4bc8-b5fe-a15fbc17f675",
    "_kg_hide-output": true,
    "_uuid": "23c5d6cbd8dcb2c2f005f955b33174ef37a90025"
   },
   "outputs": [
    {
     "name": "stdout",
     "output_type": "stream",
     "text": [
      "Epoch 1/10\n",
      " - 34s - loss: 0.1792 - categorical_accuracy: 0.9444 - top_3_categorical_accuracy: 0.9918 - val_loss: 0.0321 - val_categorical_accuracy: 0.9917 - val_top_3_categorical_accuracy: 0.9990\n",
      "\n",
      "Epoch 00001: val_loss did not improve from 0.02559\n",
      "Epoch 2/10\n",
      " - 33s - loss: 0.1287 - categorical_accuracy: 0.9602 - top_3_categorical_accuracy: 0.9957 - val_loss: 0.0308 - val_categorical_accuracy: 0.9917 - val_top_3_categorical_accuracy: 0.9993\n",
      "\n",
      "Epoch 00002: val_loss did not improve from 0.02559\n",
      "Epoch 3/10\n",
      " - 32s - loss: 0.1122 - categorical_accuracy: 0.9648 - top_3_categorical_accuracy: 0.9964 - val_loss: 0.0284 - val_categorical_accuracy: 0.9929 - val_top_3_categorical_accuracy: 0.9993\n",
      "\n",
      "Epoch 00003: val_loss did not improve from 0.02559\n",
      "Epoch 4/10\n",
      " - 33s - loss: 0.1043 - categorical_accuracy: 0.9677 - top_3_categorical_accuracy: 0.9964 - val_loss: 0.0309 - val_categorical_accuracy: 0.9919 - val_top_3_categorical_accuracy: 0.9988\n",
      "\n",
      "Epoch 00004: val_loss did not improve from 0.02559\n",
      "Epoch 5/10\n",
      " - 32s - loss: 0.0966 - categorical_accuracy: 0.9701 - top_3_categorical_accuracy: 0.9973 - val_loss: 0.0293 - val_categorical_accuracy: 0.9933 - val_top_3_categorical_accuracy: 0.9990\n",
      "\n",
      "Epoch 00005: val_loss did not improve from 0.02559\n",
      "Epoch 6/10\n",
      " - 33s - loss: 0.0894 - categorical_accuracy: 0.9718 - top_3_categorical_accuracy: 0.9974 - val_loss: 0.0301 - val_categorical_accuracy: 0.9936 - val_top_3_categorical_accuracy: 0.9986\n",
      "\n",
      "Epoch 00006: val_loss did not improve from 0.02559\n",
      "Epoch 7/10\n",
      " - 32s - loss: 0.0861 - categorical_accuracy: 0.9728 - top_3_categorical_accuracy: 0.9975 - val_loss: 0.0329 - val_categorical_accuracy: 0.9926 - val_top_3_categorical_accuracy: 0.9990\n",
      "\n",
      "Epoch 00007: val_loss did not improve from 0.02559\n",
      "Epoch 8/10\n",
      " - 33s - loss: 0.0823 - categorical_accuracy: 0.9746 - top_3_categorical_accuracy: 0.9977 - val_loss: 0.0306 - val_categorical_accuracy: 0.9929 - val_top_3_categorical_accuracy: 0.9990\n",
      "\n",
      "Epoch 00008: val_loss did not improve from 0.02559\n",
      "\n",
      "Epoch 00008: ReduceLROnPlateau reducing learning rate to 0.0004194304347038269.\n",
      "Epoch 9/10\n",
      " - 32s - loss: 0.0774 - categorical_accuracy: 0.9758 - top_3_categorical_accuracy: 0.9981 - val_loss: 0.0295 - val_categorical_accuracy: 0.9940 - val_top_3_categorical_accuracy: 0.9993\n",
      "\n",
      "Epoch 00009: val_loss did not improve from 0.02559\n",
      "Epoch 10/10\n",
      " - 33s - loss: 0.0745 - categorical_accuracy: 0.9769 - top_3_categorical_accuracy: 0.9981 - val_loss: 0.0305 - val_categorical_accuracy: 0.9936 - val_top_3_categorical_accuracy: 0.9988\n",
      "\n",
      "Epoch 00010: val_loss did not improve from 0.02559\n"
     ]
    }
   ],
   "source": [
    "steps,epochs=1000,10\n",
    "data_generator=\\\n",
    "ImageDataGenerator(featurewise_std_normalization=True,\n",
    "                   zoom_range=.2,shear_range=.2,rotation_range=30,\n",
    "                   height_shift_range=.2,width_shift_range=.2)\n",
    "history=cnn_model.\\\n",
    "fit_generator(data_generator.flow(X_train.reshape(-1,28,28,1),\n",
    "                                  y_train,batch_size=128),\n",
    "              steps_per_epoch=steps,epochs=epochs,verbose=2,\n",
    "              validation_data=(X_valid.reshape(-1,28,28,1),y_valid), \n",
    "              callbacks=[checkpointer,lr_reduction,estopping])"
   ]
  },
  {
   "cell_type": "code",
   "execution_count": 11,
   "metadata": {
    "_cell_guid": "2927ee47-cf56-41f8-b647-ba03b2fe06a5",
    "_kg_hide-output": false,
    "_uuid": "5447e7909b235e52473b8a490c28b62cbea98e61"
   },
   "outputs": [
    {
     "name": "stdout",
     "output_type": "stream",
     "text": [
      "CNN Scores:  [0.02413942624428143, 0.9935714285714285, 0.9997619047619047]\n",
      "CNN Error: 0.64%\n"
     ]
    }
   ],
   "source": [
    "cnn_model.load_weights(wcnn)\n",
    "scores=cnn_model.evaluate(X_test.reshape(-1,28,28,1),y_test,verbose=0)\n",
    "print(\"CNN Scores: \",(scores))\n",
    "print(\"CNN Error: %.2f%%\"%(100-scores[1]*100))"
   ]
  },
  {
   "cell_type": "code",
   "execution_count": 12,
   "metadata": {
    "_cell_guid": "368ea5b8-347d-7271-e221-f2db42e9f7e5",
    "_execution_state": "busy",
    "_uuid": "7890c13c0c6d48c2ce227849529b05a5f85f07c5"
   },
   "outputs": [],
   "source": [
    "Model #2. Multi-layer Perceptron. Keras\n",
    "def mlp_model():\n",
    "    model=Sequential()    \n",
    "    model.add(Dense(784,activation='relu',input_shape=(784,)))\n",
    "    model.add(Dropout(.25))\n",
    "    model.add(Dense(392,activation='relu'))\n",
    "    model.add(Dropout(.25))   \n",
    "    model.add(Dense(196,activation='relu'))\n",
    "    model.add(Dropout(.25))    \n",
    "    model.add(Dense(10,activation='softmax'))\n",
    "    model.compile(optimizer='nadam',loss='categorical_crossentropy', \n",
    "                  metrics=[categorical_accuracy,top_3_categorical_accuracy])\n",
    "    return model\n",
    "mlp_model=mlp_model()"
   ]
  },
  {
   "cell_type": "code",
   "execution_count": 13,
   "metadata": {
    "_cell_guid": "b6a61fc0-c740-482f-bb46-f82d60117e2a",
    "_execution_state": "busy",
    "_kg_hide-output": true,
    "_uuid": "8e2e4f563b195ae0718e5bbc110f818760bf0386"
   },
   "outputs": [
    {
     "name": "stdout",
     "output_type": "stream",
     "text": [
      "Train on 33600 samples, validate on 4200 samples\n",
      "Epoch 1/100\n",
      " - 2s - loss: 0.3339 - categorical_accuracy: 0.8960 - top_3_categorical_accuracy: 0.9727 - val_loss: 0.2043 - val_categorical_accuracy: 0.9369 - val_top_3_categorical_accuracy: 0.9905\n",
      "\n",
      "Epoch 00001: val_loss improved from inf to 0.20426, saving model to weights.best.digits.cnn.hdf5\n",
      "Epoch 2/100\n",
      " - 1s - loss: 0.1473 - categorical_accuracy: 0.9545 - top_3_categorical_accuracy: 0.9937 - val_loss: 0.1326 - val_categorical_accuracy: 0.9617 - val_top_3_categorical_accuracy: 0.9955\n",
      "\n",
      "Epoch 00002: val_loss improved from 0.20426 to 0.13264, saving model to weights.best.digits.cnn.hdf5\n",
      "Epoch 3/100\n",
      " - 1s - loss: 0.1102 - categorical_accuracy: 0.9664 - top_3_categorical_accuracy: 0.9964 - val_loss: 0.1036 - val_categorical_accuracy: 0.9683 - val_top_3_categorical_accuracy: 0.9981\n",
      "\n",
      "Epoch 00003: val_loss improved from 0.13264 to 0.10363, saving model to weights.best.digits.cnn.hdf5\n",
      "Epoch 4/100\n",
      " - 1s - loss: 0.0911 - categorical_accuracy: 0.9725 - top_3_categorical_accuracy: 0.9975 - val_loss: 0.1117 - val_categorical_accuracy: 0.9667 - val_top_3_categorical_accuracy: 0.9971\n",
      "\n",
      "Epoch 00004: val_loss did not improve from 0.10363\n",
      "Epoch 5/100\n",
      " - 1s - loss: 0.0819 - categorical_accuracy: 0.9749 - top_3_categorical_accuracy: 0.9982 - val_loss: 0.1064 - val_categorical_accuracy: 0.9707 - val_top_3_categorical_accuracy: 0.9962\n",
      "\n",
      "Epoch 00005: val_loss did not improve from 0.10363\n",
      "Epoch 6/100\n",
      " - 1s - loss: 0.0719 - categorical_accuracy: 0.9767 - top_3_categorical_accuracy: 0.9981 - val_loss: 0.1118 - val_categorical_accuracy: 0.9721 - val_top_3_categorical_accuracy: 0.9964\n",
      "\n",
      "Epoch 00006: val_loss did not improve from 0.10363\n",
      "Epoch 7/100\n",
      " - 1s - loss: 0.0628 - categorical_accuracy: 0.9799 - top_3_categorical_accuracy: 0.9987 - val_loss: 0.1032 - val_categorical_accuracy: 0.9738 - val_top_3_categorical_accuracy: 0.9962\n",
      "\n",
      "Epoch 00007: val_loss improved from 0.10363 to 0.10322, saving model to weights.best.digits.cnn.hdf5\n",
      "Epoch 8/100\n",
      " - 1s - loss: 0.0574 - categorical_accuracy: 0.9819 - top_3_categorical_accuracy: 0.9988 - val_loss: 0.0998 - val_categorical_accuracy: 0.9743 - val_top_3_categorical_accuracy: 0.9962\n",
      "\n",
      "Epoch 00008: val_loss improved from 0.10322 to 0.09977, saving model to weights.best.digits.cnn.hdf5\n",
      "Epoch 9/100\n",
      " - 1s - loss: 0.0566 - categorical_accuracy: 0.9820 - top_3_categorical_accuracy: 0.9987 - val_loss: 0.1043 - val_categorical_accuracy: 0.9752 - val_top_3_categorical_accuracy: 0.9964\n",
      "\n",
      "Epoch 00009: val_loss did not improve from 0.09977\n",
      "Epoch 10/100\n",
      " - 1s - loss: 0.0510 - categorical_accuracy: 0.9843 - top_3_categorical_accuracy: 0.9991 - val_loss: 0.1158 - val_categorical_accuracy: 0.9667 - val_top_3_categorical_accuracy: 0.9960\n",
      "\n",
      "Epoch 00010: val_loss did not improve from 0.09977\n",
      "Epoch 11/100\n",
      " - 1s - loss: 0.0528 - categorical_accuracy: 0.9846 - top_3_categorical_accuracy: 0.9991 - val_loss: 0.1034 - val_categorical_accuracy: 0.9748 - val_top_3_categorical_accuracy: 0.9971\n",
      "\n",
      "Epoch 00011: val_loss did not improve from 0.09977\n",
      "Epoch 12/100\n",
      " - 1s - loss: 0.0477 - categorical_accuracy: 0.9856 - top_3_categorical_accuracy: 0.9990 - val_loss: 0.1083 - val_categorical_accuracy: 0.9745 - val_top_3_categorical_accuracy: 0.9960\n",
      "\n",
      "Epoch 00012: val_loss did not improve from 0.09977\n",
      "Epoch 13/100\n",
      " - 1s - loss: 0.0445 - categorical_accuracy: 0.9866 - top_3_categorical_accuracy: 0.9992 - val_loss: 0.1074 - val_categorical_accuracy: 0.9750 - val_top_3_categorical_accuracy: 0.9979\n",
      "\n",
      "Epoch 00013: val_loss did not improve from 0.09977\n",
      "\n",
      "Epoch 00013: ReduceLROnPlateau reducing learning rate to 0.001500000071246177.\n",
      "Epoch 14/100\n",
      " - 1s - loss: 0.0307 - categorical_accuracy: 0.9904 - top_3_categorical_accuracy: 0.9996 - val_loss: 0.1091 - val_categorical_accuracy: 0.9779 - val_top_3_categorical_accuracy: 0.9967\n",
      "\n",
      "Epoch 00014: val_loss did not improve from 0.09977\n",
      "Epoch 15/100\n",
      " - 1s - loss: 0.0281 - categorical_accuracy: 0.9917 - top_3_categorical_accuracy: 0.9996 - val_loss: 0.0982 - val_categorical_accuracy: 0.9781 - val_top_3_categorical_accuracy: 0.9971\n",
      "\n",
      "Epoch 00015: val_loss improved from 0.09977 to 0.09819, saving model to weights.best.digits.cnn.hdf5\n",
      "Epoch 16/100\n",
      " - 1s - loss: 0.0292 - categorical_accuracy: 0.9913 - top_3_categorical_accuracy: 0.9997 - val_loss: 0.1006 - val_categorical_accuracy: 0.9779 - val_top_3_categorical_accuracy: 0.9974\n",
      "\n",
      "Epoch 00016: val_loss did not improve from 0.09819\n",
      "Epoch 17/100\n",
      " - 1s - loss: 0.0266 - categorical_accuracy: 0.9914 - top_3_categorical_accuracy: 0.9997 - val_loss: 0.1020 - val_categorical_accuracy: 0.9800 - val_top_3_categorical_accuracy: 0.9981\n",
      "\n",
      "Epoch 00017: val_loss did not improve from 0.09819\n",
      "Epoch 18/100\n",
      " - 1s - loss: 0.0304 - categorical_accuracy: 0.9906 - top_3_categorical_accuracy: 0.9995 - val_loss: 0.1281 - val_categorical_accuracy: 0.9776 - val_top_3_categorical_accuracy: 0.9964\n",
      "\n",
      "Epoch 00018: val_loss did not improve from 0.09819\n",
      "Epoch 19/100\n",
      " - 1s - loss: 0.0250 - categorical_accuracy: 0.9928 - top_3_categorical_accuracy: 0.9996 - val_loss: 0.1087 - val_categorical_accuracy: 0.9776 - val_top_3_categorical_accuracy: 0.9979\n",
      "\n",
      "Epoch 00019: val_loss did not improve from 0.09819\n",
      "Epoch 20/100\n",
      " - 1s - loss: 0.0224 - categorical_accuracy: 0.9932 - top_3_categorical_accuracy: 0.9999 - val_loss: 0.1173 - val_categorical_accuracy: 0.9760 - val_top_3_categorical_accuracy: 0.9967\n",
      "\n",
      "Epoch 00020: val_loss did not improve from 0.09819\n",
      "\n",
      "Epoch 00020: ReduceLROnPlateau reducing learning rate to 0.001125000009778887.\n",
      "Epoch 21/100\n",
      " - 1s - loss: 0.0172 - categorical_accuracy: 0.9945 - top_3_categorical_accuracy: 0.9998 - val_loss: 0.1042 - val_categorical_accuracy: 0.9800 - val_top_3_categorical_accuracy: 0.9979\n",
      "\n",
      "Epoch 00021: val_loss did not improve from 0.09819\n",
      "Epoch 22/100\n",
      " - 1s - loss: 0.0149 - categorical_accuracy: 0.9953 - top_3_categorical_accuracy: 0.9999 - val_loss: 0.1087 - val_categorical_accuracy: 0.9795 - val_top_3_categorical_accuracy: 0.9971\n",
      "\n",
      "Epoch 00022: val_loss did not improve from 0.09819\n",
      "Epoch 23/100\n",
      " - 1s - loss: 0.0109 - categorical_accuracy: 0.9964 - top_3_categorical_accuracy: 0.9998 - val_loss: 0.1264 - val_categorical_accuracy: 0.9810 - val_top_3_categorical_accuracy: 0.9976\n",
      "\n",
      "Epoch 00023: val_loss did not improve from 0.09819\n",
      "Epoch 24/100\n",
      " - 1s - loss: 0.0158 - categorical_accuracy: 0.9955 - top_3_categorical_accuracy: 0.9998 - val_loss: 0.1166 - val_categorical_accuracy: 0.9795 - val_top_3_categorical_accuracy: 0.9967\n",
      "\n",
      "Epoch 00024: val_loss did not improve from 0.09819\n",
      "Epoch 25/100\n",
      " - 2s - loss: 0.0174 - categorical_accuracy: 0.9943 - top_3_categorical_accuracy: 0.9998 - val_loss: 0.1354 - val_categorical_accuracy: 0.9757 - val_top_3_categorical_accuracy: 0.9974\n",
      "\n",
      "Epoch 00025: val_loss did not improve from 0.09819\n",
      "\n",
      "Epoch 00025: ReduceLROnPlateau reducing learning rate to 0.0008437499636784196.\n",
      "Epoch 26/100\n",
      " - 1s - loss: 0.0131 - categorical_accuracy: 0.9961 - top_3_categorical_accuracy: 1.0000 - val_loss: 0.1075 - val_categorical_accuracy: 0.9829 - val_top_3_categorical_accuracy: 0.9976\n",
      "\n",
      "Epoch 00026: val_loss did not improve from 0.09819\n",
      "Epoch 27/100\n",
      " - 1s - loss: 0.0092 - categorical_accuracy: 0.9971 - top_3_categorical_accuracy: 1.0000 - val_loss: 0.1157 - val_categorical_accuracy: 0.9810 - val_top_3_categorical_accuracy: 0.9974\n",
      "\n",
      "Epoch 00027: val_loss did not improve from 0.09819\n",
      "Epoch 28/100\n",
      " - 2s - loss: 0.0101 - categorical_accuracy: 0.9971 - top_3_categorical_accuracy: 1.0000 - val_loss: 0.1267 - val_categorical_accuracy: 0.9819 - val_top_3_categorical_accuracy: 0.9969\n",
      "\n",
      "Epoch 00028: val_loss did not improve from 0.09819\n",
      "Epoch 29/100\n",
      " - 1s - loss: 0.0089 - categorical_accuracy: 0.9974 - top_3_categorical_accuracy: 0.9999 - val_loss: 0.1320 - val_categorical_accuracy: 0.9810 - val_top_3_categorical_accuracy: 0.9969\n",
      "\n",
      "Epoch 00029: val_loss did not improve from 0.09819\n",
      "Epoch 30/100\n",
      " - 1s - loss: 0.0123 - categorical_accuracy: 0.9965 - top_3_categorical_accuracy: 0.9999 - val_loss: 0.1326 - val_categorical_accuracy: 0.9790 - val_top_3_categorical_accuracy: 0.9974\n",
      "\n",
      "Epoch 00030: val_loss did not improve from 0.09819\n",
      "\n",
      "Epoch 00030: ReduceLROnPlateau reducing learning rate to 0.0006328124727588147.\n",
      "Epoch 31/100\n",
      " - 1s - loss: 0.0073 - categorical_accuracy: 0.9976 - top_3_categorical_accuracy: 1.0000 - val_loss: 0.1270 - val_categorical_accuracy: 0.9805 - val_top_3_categorical_accuracy: 0.9976\n",
      "\n",
      "Epoch 00031: val_loss did not improve from 0.09819\n",
      "Epoch 32/100\n",
      " - 1s - loss: 0.0047 - categorical_accuracy: 0.9983 - top_3_categorical_accuracy: 1.0000 - val_loss: 0.1355 - val_categorical_accuracy: 0.9798 - val_top_3_categorical_accuracy: 0.9967\n",
      "\n",
      "Epoch 00032: val_loss did not improve from 0.09819\n",
      "Epoch 33/100\n",
      " - 1s - loss: 0.0050 - categorical_accuracy: 0.9984 - top_3_categorical_accuracy: 1.0000 - val_loss: 0.1293 - val_categorical_accuracy: 0.9807 - val_top_3_categorical_accuracy: 0.9964\n",
      "\n",
      "Epoch 00033: val_loss did not improve from 0.09819\n",
      "Epoch 34/100\n",
      " - 1s - loss: 0.0045 - categorical_accuracy: 0.9988 - top_3_categorical_accuracy: 1.0000 - val_loss: 0.1209 - val_categorical_accuracy: 0.9807 - val_top_3_categorical_accuracy: 0.9976\n",
      "\n",
      "Epoch 00034: val_loss did not improve from 0.09819\n",
      "Epoch 35/100\n",
      " - 1s - loss: 0.0062 - categorical_accuracy: 0.9983 - top_3_categorical_accuracy: 1.0000 - val_loss: 0.1328 - val_categorical_accuracy: 0.9812 - val_top_3_categorical_accuracy: 0.9979\n",
      "\n",
      "Epoch 00035: val_loss did not improve from 0.09819\n",
      "\n",
      "Epoch 00035: ReduceLROnPlateau reducing learning rate to 0.00047460937639698386.\n",
      "Epoch 00035: early stopping\n"
     ]
    }
   ],
   "source": [
    "checkpointer=ModelCheckpoint(filepath=wcnn,verbose=2,save_best_only=True)\n",
    "lr_reduction=ReduceLROnPlateau(monitor='val_loss',patience=5,verbose=2,factor=.75)\n",
    "estopping=EarlyStopping(monitor='val_loss',patience=20,verbose=2)\n",
    "history=mlp_model.fit(X_train,y_train,validation_data=(X_valid,y_valid), \n",
    "                     epochs=100,batch_size=128,verbose=2,\n",
    "                     callbacks=[checkpointer,lr_reduction,estopping])"
   ]
  },
  {
   "cell_type": "code",
   "execution_count": 14,
   "metadata": {},
   "outputs": [
    {
     "data": {
      "image/png": "[encoded data removed]",
      "text/plain": [
       "<Figure size 864x360 with 1 Axes>"
      ]
     },
     "metadata": {
      "needs_background": "light"
     },
     "output_type": "display_data"
    },
    {
     "name": "stdout",
     "output_type": "stream",
     "text": [
      "4200/4200 [==============================] - 0s 59us/step\n",
      "\n",
      "MLP Scores:  [0.09600476235233275, 0.9835714285714285, 0.9983333333333333]\n",
      "MLP Error: 1.64%\n"
     ]
    }
   ],
   "source": [
    "hplot(history)\n",
    "scores=mlp_model.evaluate(X_test,y_test)\n",
    "print(\"\\nMLP Scores: \",(scores))\n",
    "print(\"MLP Error: %.2f%%\"%(100-scores[1]*100))"
   ]
  },
  {
   "cell_type": "code",
   "execution_count": 15,
   "metadata": {
    "_cell_guid": "618ee982-8385-4486-a819-70c1c95c1cac",
    "_uuid": "e72e0a733f839c055d35bb8eceebcf9872d7fbda"
   },
   "outputs": [],
   "source": [
    "# Model #3. Recurrent Neural Network. Keras\n",
    "def rnn_model():\n",
    "    model=Sequential()\n",
    "    model.add(LSTM(196,return_sequences=True,input_shape=(1,784)))    \n",
    "    model.add(LSTM(196,return_sequences=True))    \n",
    "    model.add(LSTM(196))      \n",
    "    model.add(Dense(10,activation='softmax'))\n",
    "    model.compile(loss='categorical_crossentropy',optimizer='nadam', \n",
    "                  metrics=[categorical_accuracy,top_3_categorical_accuracy])    \n",
    "    return model\n",
    "rnn_model=rnn_model()"
   ]
  },
  {
   "cell_type": "code",
   "execution_count": 16,
   "metadata": {
    "_cell_guid": "aba8f2a4-8738-46d0-80cf-bde2f969013e",
    "_kg_hide-output": true,
    "_uuid": "44b119adabdf2e1b8ffc803ab85797ca79bbc02b"
   },
   "outputs": [
    {
     "name": "stdout",
     "output_type": "stream",
     "text": [
      "Train on 33600 samples, validate on 4200 samples\n",
      "Epoch 1/100\n",
      " - 6s - loss: 0.3583 - categorical_accuracy: 0.8941 - top_3_categorical_accuracy: 0.9732 - val_loss: 0.2490 - val_categorical_accuracy: 0.9207 - val_top_3_categorical_accuracy: 0.9929\n",
      "\n",
      "Epoch 00001: val_loss improved from inf to 0.24901, saving model to weights.best.digits.cnn.hdf5\n",
      "Epoch 2/100\n",
      " - 4s - loss: 0.1220 - categorical_accuracy: 0.9629 - top_3_categorical_accuracy: 0.9956 - val_loss: 0.1208 - val_categorical_accuracy: 0.9633 - val_top_3_categorical_accuracy: 0.9962\n",
      "\n",
      "Epoch 00002: val_loss improved from 0.24901 to 0.12084, saving model to weights.best.digits.cnn.hdf5\n",
      "Epoch 3/100\n",
      " - 4s - loss: 0.0779 - categorical_accuracy: 0.9754 - top_3_categorical_accuracy: 0.9976 - val_loss: 0.1089 - val_categorical_accuracy: 0.9655 - val_top_3_categorical_accuracy: 0.9976\n",
      "\n",
      "Epoch 00003: val_loss improved from 0.12084 to 0.10889, saving model to weights.best.digits.cnn.hdf5\n",
      "Epoch 4/100\n",
      " - 4s - loss: 0.0555 - categorical_accuracy: 0.9825 - top_3_categorical_accuracy: 0.9989 - val_loss: 0.1689 - val_categorical_accuracy: 0.9481 - val_top_3_categorical_accuracy: 0.9943\n",
      "\n",
      "Epoch 00004: val_loss did not improve from 0.10889\n",
      "Epoch 5/100\n",
      " - 4s - loss: 0.0397 - categorical_accuracy: 0.9873 - top_3_categorical_accuracy: 0.9995 - val_loss: 0.1192 - val_categorical_accuracy: 0.9679 - val_top_3_categorical_accuracy: 0.9962\n",
      "\n",
      "Epoch 00005: val_loss did not improve from 0.10889\n",
      "Epoch 6/100\n",
      " - 3s - loss: 0.0313 - categorical_accuracy: 0.9902 - top_3_categorical_accuracy: 0.9998 - val_loss: 0.1155 - val_categorical_accuracy: 0.9683 - val_top_3_categorical_accuracy: 0.9969\n",
      "\n",
      "Epoch 00006: val_loss did not improve from 0.10889\n",
      "Epoch 7/100\n",
      " - 3s - loss: 0.0291 - categorical_accuracy: 0.9904 - top_3_categorical_accuracy: 0.9998 - val_loss: 0.1091 - val_categorical_accuracy: 0.9700 - val_top_3_categorical_accuracy: 0.9976\n",
      "\n",
      "Epoch 00007: val_loss did not improve from 0.10889\n",
      "Epoch 8/100\n",
      " - 4s - loss: 0.0229 - categorical_accuracy: 0.9925 - top_3_categorical_accuracy: 0.9998 - val_loss: 0.1121 - val_categorical_accuracy: 0.9695 - val_top_3_categorical_accuracy: 0.9974\n",
      "\n",
      "Epoch 00008: val_loss did not improve from 0.10889\n",
      "\n",
      "Epoch 00008: ReduceLROnPlateau reducing learning rate to 0.001500000071246177.\n",
      "Epoch 9/100\n",
      " - 3s - loss: 0.0107 - categorical_accuracy: 0.9967 - top_3_categorical_accuracy: 0.9999 - val_loss: 0.0920 - val_categorical_accuracy: 0.9764 - val_top_3_categorical_accuracy: 0.9981\n",
      "\n",
      "Epoch 00009: val_loss improved from 0.10889 to 0.09196, saving model to weights.best.digits.cnn.hdf5\n",
      "Epoch 10/100\n",
      " - 4s - loss: 0.0076 - categorical_accuracy: 0.9975 - top_3_categorical_accuracy: 0.9999 - val_loss: 0.0974 - val_categorical_accuracy: 0.9779 - val_top_3_categorical_accuracy: 0.9979\n",
      "\n",
      "Epoch 00010: val_loss did not improve from 0.09196\n",
      "Epoch 11/100\n",
      " - 4s - loss: 0.0051 - categorical_accuracy: 0.9984 - top_3_categorical_accuracy: 0.9999 - val_loss: 0.1094 - val_categorical_accuracy: 0.9779 - val_top_3_categorical_accuracy: 0.9974\n",
      "\n",
      "Epoch 00011: val_loss did not improve from 0.09196\n",
      "Epoch 12/100\n",
      " - 4s - loss: 0.0083 - categorical_accuracy: 0.9972 - top_3_categorical_accuracy: 1.0000 - val_loss: 0.1048 - val_categorical_accuracy: 0.9764 - val_top_3_categorical_accuracy: 0.9983\n",
      "\n",
      "Epoch 00012: val_loss did not improve from 0.09196\n",
      "Epoch 13/100\n",
      " - 4s - loss: 0.0128 - categorical_accuracy: 0.9956 - top_3_categorical_accuracy: 0.9999 - val_loss: 0.1007 - val_categorical_accuracy: 0.9767 - val_top_3_categorical_accuracy: 0.9974\n",
      "\n",
      "Epoch 00013: val_loss did not improve from 0.09196\n",
      "Epoch 14/100\n",
      " - 4s - loss: 0.0075 - categorical_accuracy: 0.9975 - top_3_categorical_accuracy: 1.0000 - val_loss: 0.1091 - val_categorical_accuracy: 0.9764 - val_top_3_categorical_accuracy: 0.9964\n",
      "\n",
      "Epoch 00014: val_loss did not improve from 0.09196\n",
      "\n",
      "Epoch 00014: ReduceLROnPlateau reducing learning rate to 0.001125000009778887.\n",
      "Epoch 15/100\n",
      " - 3s - loss: 0.0053 - categorical_accuracy: 0.9986 - top_3_categorical_accuracy: 1.0000 - val_loss: 0.1063 - val_categorical_accuracy: 0.9771 - val_top_3_categorical_accuracy: 0.9976\n",
      "\n",
      "Epoch 00015: val_loss did not improve from 0.09196\n",
      "Epoch 16/100\n",
      " - 4s - loss: 0.0017 - categorical_accuracy: 0.9996 - top_3_categorical_accuracy: 1.0000 - val_loss: 0.1247 - val_categorical_accuracy: 0.9752 - val_top_3_categorical_accuracy: 0.9981\n",
      "\n",
      "Epoch 00016: val_loss did not improve from 0.09196\n",
      "Epoch 17/100\n",
      " - 4s - loss: 0.0052 - categorical_accuracy: 0.9985 - top_3_categorical_accuracy: 1.0000 - val_loss: 0.1197 - val_categorical_accuracy: 0.9760 - val_top_3_categorical_accuracy: 0.9969\n",
      "\n",
      "Epoch 00017: val_loss did not improve from 0.09196\n",
      "Epoch 18/100\n",
      " - 3s - loss: 0.0075 - categorical_accuracy: 0.9977 - top_3_categorical_accuracy: 1.0000 - val_loss: 0.1200 - val_categorical_accuracy: 0.9767 - val_top_3_categorical_accuracy: 0.9974\n",
      "\n",
      "Epoch 00018: val_loss did not improve from 0.09196\n",
      "Epoch 19/100\n",
      " - 3s - loss: 0.0083 - categorical_accuracy: 0.9974 - top_3_categorical_accuracy: 0.9999 - val_loss: 0.1063 - val_categorical_accuracy: 0.9752 - val_top_3_categorical_accuracy: 0.9986\n",
      "\n",
      "Epoch 00019: val_loss did not improve from 0.09196\n",
      "\n",
      "Epoch 00019: ReduceLROnPlateau reducing learning rate to 0.0008437499636784196.\n",
      "Epoch 20/100\n",
      " - 4s - loss: 0.0019 - categorical_accuracy: 0.9995 - top_3_categorical_accuracy: 1.0000 - val_loss: 0.1011 - val_categorical_accuracy: 0.9776 - val_top_3_categorical_accuracy: 0.9981\n",
      "\n",
      "Epoch 00020: val_loss did not improve from 0.09196\n",
      "Epoch 21/100\n",
      " - 3s - loss: 2.7366e-04 - categorical_accuracy: 1.0000 - top_3_categorical_accuracy: 1.0000 - val_loss: 0.1026 - val_categorical_accuracy: 0.9783 - val_top_3_categorical_accuracy: 0.9986\n",
      "\n",
      "Epoch 00021: val_loss did not improve from 0.09196\n",
      "Epoch 22/100\n",
      " - 4s - loss: 1.5406e-04 - categorical_accuracy: 1.0000 - top_3_categorical_accuracy: 1.0000 - val_loss: 0.1031 - val_categorical_accuracy: 0.9783 - val_top_3_categorical_accuracy: 0.9988\n",
      "\n",
      "Epoch 00022: val_loss did not improve from 0.09196\n",
      "Epoch 23/100\n",
      " - 4s - loss: 1.1249e-04 - categorical_accuracy: 1.0000 - top_3_categorical_accuracy: 1.0000 - val_loss: 0.1035 - val_categorical_accuracy: 0.9788 - val_top_3_categorical_accuracy: 0.9988\n",
      "\n",
      "Epoch 00023: val_loss did not improve from 0.09196\n",
      "Epoch 24/100\n",
      " - 4s - loss: 8.8428e-05 - categorical_accuracy: 1.0000 - top_3_categorical_accuracy: 1.0000 - val_loss: 0.1050 - val_categorical_accuracy: 0.9790 - val_top_3_categorical_accuracy: 0.9988\n",
      "\n",
      "Epoch 00024: val_loss did not improve from 0.09196\n",
      "\n",
      "Epoch 00024: ReduceLROnPlateau reducing learning rate to 0.0006328124727588147.\n",
      "Epoch 25/100\n",
      " - 3s - loss: 7.3285e-05 - categorical_accuracy: 1.0000 - top_3_categorical_accuracy: 1.0000 - val_loss: 0.1055 - val_categorical_accuracy: 0.9788 - val_top_3_categorical_accuracy: 0.9988\n",
      "\n",
      "Epoch 00025: val_loss did not improve from 0.09196\n",
      "Epoch 26/100\n",
      " - 4s - loss: 6.3640e-05 - categorical_accuracy: 1.0000 - top_3_categorical_accuracy: 1.0000 - val_loss: 0.1061 - val_categorical_accuracy: 0.9790 - val_top_3_categorical_accuracy: 0.9988\n",
      "\n",
      "Epoch 00026: val_loss did not improve from 0.09196\n",
      "Epoch 27/100\n",
      " - 4s - loss: 5.5913e-05 - categorical_accuracy: 1.0000 - top_3_categorical_accuracy: 1.0000 - val_loss: 0.1069 - val_categorical_accuracy: 0.9788 - val_top_3_categorical_accuracy: 0.9988\n",
      "\n",
      "Epoch 00027: val_loss did not improve from 0.09196\n",
      "Epoch 28/100\n",
      " - 4s - loss: 4.9086e-05 - categorical_accuracy: 1.0000 - top_3_categorical_accuracy: 1.0000 - val_loss: 0.1074 - val_categorical_accuracy: 0.9790 - val_top_3_categorical_accuracy: 0.9988\n",
      "\n",
      "Epoch 00028: val_loss did not improve from 0.09196\n",
      "Epoch 29/100\n",
      " - 4s - loss: 4.3213e-05 - categorical_accuracy: 1.0000 - top_3_categorical_accuracy: 1.0000 - val_loss: 0.1081 - val_categorical_accuracy: 0.9793 - val_top_3_categorical_accuracy: 0.9988\n",
      "\n",
      "Epoch 00029: val_loss did not improve from 0.09196\n",
      "\n",
      "Epoch 00029: ReduceLROnPlateau reducing learning rate to 0.00047460937639698386.\n",
      "Epoch 00029: early stopping\n"
     ]
    }
   ],
   "source": [
    "checkpointer=ModelCheckpoint(filepath=wcnn,verbose=2,save_best_only=True)\n",
    "lr_reduction=ReduceLROnPlateau(monitor='val_loss',patience=5,verbose=2,factor=.75)\n",
    "estopping=EarlyStopping(monitor='val_loss',patience=20,verbose=2)\n",
    "history=rnn_model.fit(X_train.reshape(-1,1,X_train.shape[1]),y_train, \n",
    "                      epochs=100,batch_size=128,verbose=2, \n",
    "                      validation_data=(X_valid.reshape(-1,1,X_valid.shape[1]),y_valid),\n",
    "                      callbacks=[checkpointer,lr_reduction,estopping])"
   ]
  },
  {
   "cell_type": "code",
   "execution_count": 17,
   "metadata": {},
   "outputs": [
    {
     "data": {
      "image/png": "[encoded data removed]",
      "text/plain": [
       "<Figure size 864x360 with 1 Axes>"
      ]
     },
     "metadata": {
      "needs_background": "light"
     },
     "output_type": "display_data"
    },
    {
     "name": "stdout",
     "output_type": "stream",
     "text": [
      "4200/4200 [==============================] - 1s 157us/step\n",
      "\n",
      "RNN Scores:  [0.07498752159731382, 0.9842857142857143, 0.9985714285714286]\n",
      "RNN Error: 1.57%\n"
     ]
    }
   ],
   "source": [
    "hplot(history)\n",
    "scores=rnn_model.evaluate(X_test.reshape(-1,1,X_test.shape[1]),y_test)\n",
    "print(\"\\nRNN Scores: \",(scores))\n",
    "print(\"RNN Error: %.2f%%\"%(100-scores[1]*100))"
   ]
  },
  {
   "cell_type": "code",
   "execution_count": 18,
   "metadata": {
    "_cell_guid": "4a71b9ab-c4c3-fafa-bccd-ea3233e1add9",
    "_execution_state": "busy",
    "_uuid": "d588a69cff9bbc12fe99faf04313806242bb6768"
   },
   "outputs": [
    {
     "name": "stdout",
     "output_type": "stream",
     "text": [
      "MNIST. MLPClassifier. Train score: 100.000000 %\n",
      "MNIST. MLPClassifier. Test score: 95.285714 %\n"
     ]
    }
   ],
   "source": [
    "# Model #4. MLPClassifier. Scikit-learn\n",
    "n_total=7000; X2=np.copy(X_train[:n_total])\n",
    "y2=np.copy(y_train_num[:n_total]).astype('int64')\n",
    "clf=MLPClassifier(hidden_layer_sizes=(784,),max_iter=100,alpha=1e-4,\n",
    "                  solver='lbfgs',verbose=1,tol=1e-6,random_state=1,\n",
    "                  learning_rate_init=7e-4,batch_size=128)\n",
    "clf.fit(X2,y2)\n",
    "print(\"MNIST. MLPClassifier. Train score: %f\"%(clf.score(X2,y2)*100),'%')\n",
    "print(\"MNIST. MLPClassifier. Test score: %f\"%(clf.score(X_test,y_test_num)*100),'%')"
   ]
  },
  {
   "cell_type": "code",
   "execution_count": 19,
   "metadata": {},
   "outputs": [
    {
     "name": "stdout",
     "output_type": "stream",
     "text": [
      "Label Spreading: 4000 labeled & 1000 unlabeled points (5000 total)\n",
      "             precision    recall  f1-score   support\n",
      "\n",
      "          0       0.97      0.96      0.96        93\n",
      "          1       0.89      1.00      0.94        99\n",
      "          2       0.98      0.88      0.93        93\n",
      "          3       0.92      0.94      0.93       122\n",
      "          4       0.98      0.93      0.95        96\n",
      "          5       0.97      0.87      0.92        85\n",
      "          6       0.96      0.98      0.97       120\n",
      "          7       0.93      0.96      0.94       115\n",
      "          8       0.91      0.92      0.91        73\n",
      "          9       0.93      0.95      0.94       104\n",
      "\n",
      "avg / total       0.94      0.94      0.94      1000\n",
      "\n",
      "Confusion matrix\n",
      "[[ 89   0   0   0   0   0   2   0   2   0]\n",
      " [  0  99   0   0   0   0   0   0   0   0]\n",
      " [  1   2  82   3   0   0   0   4   1   0]\n",
      " [  0   0   2 115   0   1   0   2   2   0]\n",
      " [  1   2   0   0  89   0   0   0   0   4]\n",
      " [  0   2   0   4   0  74   2   1   1   1]\n",
      " [  1   1   0   0   0   0 118   0   0   0]\n",
      " [  0   3   0   0   1   0   0 110   0   1]\n",
      " [  0   1   0   1   1   1   1   0  67   1]\n",
      " [  0   1   0   2   0   0   0   1   1  99]]\n"
     ]
    }
   ],
   "source": [
    "# Model #5. LabelSpreading. Scikit-learn\n",
    "n_total=5000; n_labeled=4000\n",
    "X2=np.copy(X_train[:n_total])\n",
    "y2=np.copy(y_train_num[:n_total]).astype('int64')\n",
    "y2[n_labeled:]=-1\n",
    "lp_model=label_propagation\\\n",
    "         .LabelSpreading(kernel='knn',n_neighbors=10,max_iter=20)\n",
    "lp_model.fit(X2,y2)\n",
    "predicted_labels=lp_model.transduction_[n_labeled:n_total]\n",
    "true_labels=y_train_num[n_labeled:n_total]\n",
    "print('Label Spreading: %d labeled & %d unlabeled points (%d total)'%\n",
    "      (n_labeled,n_total-n_labeled,n_total))\n",
    "print(classification_report(true_labels,predicted_labels))\n",
    "print('Confusion matrix')\n",
    "print(confusion_matrix(true_labels,predicted_labels,\n",
    "                       labels=lp_model.classes_))\n",
    "predict_entropies=\\\n",
    "stats.distributions.entropy(lp_model.label_distributions_.T)\n",
    "uncertainty_index=np.argsort(predict_entropies)[-10:]"
   ]
  },
  {
   "cell_type": "markdown",
   "metadata": {
    "_cell_guid": "a2927c7f-7a87-c896-9d66-53fb64f758de",
    "_uuid": "e2416854d659ccd038793fb7f4c30958e71c239b"
   },
   "source": [
    "## Predictions"
   ]
  },
  {
   "cell_type": "code",
   "execution_count": 20,
   "metadata": {
    "_cell_guid": "e881a3db-4fbc-a992-0185-36bda597f881",
    "_execution_state": "busy",
    "_uuid": "75711e8ef6d9cb04ea38ad44ffc86deb85b9e814"
   },
   "outputs": [],
   "source": [
    "predict_labels=cnn_model.predict(test_images.reshape(-1,28,28,1))\n",
    "predict_labels=predict_labels.argmax(axis=-1)"
   ]
  },
  {
   "cell_type": "code",
   "execution_count": 21,
   "metadata": {
    "_cell_guid": "09e7d03c-24dd-011e-231a-b9f8f9b5ebdf",
    "_execution_state": "busy",
    "_uuid": "b941009b5e8cc30416a4bae4249f7d5ff97bbad3"
   },
   "outputs": [
    {
     "name": "stdout",
     "output_type": "stream",
     "text": [
      "   ImageId  Label\n",
      "0        1      2\n",
      "1        2      0\n",
      "2        3      9\n",
      "3        4      0\n",
      "4        5      3\n",
      "5        6      7\n",
      "6        7      0\n",
      "7        8      3\n",
      "8        9      0\n",
      "9       10      3\n"
     ]
    }
   ],
   "source": [
    "submission=pd.DataFrame({\"ImageId\":range(1,len(predict_labels)+1), \n",
    "                         \"Label\":predict_labels})\n",
    "print(submission[0:10])\n",
    "submission.to_csv('kaggle_digits_cnn.csv',index=False)"
   ]
  },
  {
   "cell_type": "code",
   "execution_count": 22,
   "metadata": {
    "_cell_guid": "4446f0b8-f7d5-4fdc-18dc-45d9401fd3ff",
    "_execution_state": "busy",
    "_uuid": "56555c6a84347d062f3f922ca7bfad6d92e2fcd0"
   },
   "outputs": [
    {
     "data": {
      "image/png": "[encoded data removed]",
      "text/plain": [
       "<Figure size 864x144 with 10 Axes>"
      ]
     },
     "metadata": {},
     "output_type": "display_data"
    }
   ],
   "source": [
    "fig,ax=pl.subplots(figsize=(12,2),nrows=1,ncols=10,sharex=True,sharey=True)\n",
    "ax=ax.flatten()\n",
    "for i in range(10):\n",
    "    image=test_images[i].reshape(28,28)\n",
    "    ax[i].imshow(image,cmap=pl.cm.bone)\n",
    "ax[0].set_xticks([]); ax[0].set_yticks([])\n",
    "ax[4].set_title('Examples of digits. Test datapoints',fontsize=25)\n",
    "pl.tight_layout(); pl.gcf(); pl.show()"
   ]
  }
 ],
 "metadata": {
  "kernelspec": {
   "display_name": "Python 3",
   "language": "python",
   "name": "python3"
  },
  "language_info": {
   "codemirror_mode": {
    "name": "ipython",
    "version": 3
   },
   "file_extension": ".py",
   "mimetype": "text/x-python",
   "name": "python",
   "nbconvert_exporter": "python",
   "pygments_lexer": "ipython3",
   "version": "3.6.6"
  }
 },
 "nbformat": 4,
 "nbformat_minor": 4
}
