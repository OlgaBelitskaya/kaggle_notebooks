{
 "cells": [
  {
   "cell_type": "markdown",
   "execution_count": null,
   "metadata": {
    "papermill": {
     "duration": 0.00718,
     "end_time": "2020-08-26T22:20:54.705854",
     "exception": false,
     "start_time": "2020-08-26T22:20:54.698674",
     "status": "completed"
    },
    "tags": []
   },
   "source": [
    "Reading classics [Python Machine Learning 3rd Edition](https://github.com/rasbt/python-machine-learning-book-3rd-edition/blob/master/ch14/ch14_part3.ipynb)"
   ]
  },
  {
   "cell_type": "code",
   "execution_count": 1,
   "metadata": {
    "_cell_guid": "b1076dfc-b9ad-4769-8c92-a6c4dae69d19",
    "_kg_hide-input": true,
    "_uuid": "8f2839f25d086af736a60e9eeb907d3b93b6e0e5",
    "execution": {
     "iopub.execute_input": "2020-08-26T22:20:54.726570Z",
     "iopub.status.busy": "2020-08-26T22:20:54.725680Z",
     "iopub.status.idle": "2020-08-26T22:20:54.729176Z",
     "shell.execute_reply": "2020-08-26T22:20:54.728361Z"
    },
    "papermill": {
     "duration": 0.016993,
     "end_time": "2020-08-26T22:20:54.729311",
     "exception": false,
     "start_time": "2020-08-26T22:20:54.712318",
     "status": "completed"
    },
    "tags": []
   },
   "outputs": [],
   "source": [
    "from IPython.display import display,HTML\n",
    "def dhtml(str):\n",
    "    display(HTML(\"\"\"<style>\n",
    "    @import 'https://fonts.googleapis.com/css?family=Ewert&effect=3d';      \n",
    "    </style><h1 class='font-effect-3d' \n",
    "    style='font-family:Ewert; color:#ff6611; font-size:20px;'>\n",
    "    %s</h1>\"\"\"%str))\n",
    "def phtml(str):\n",
    "    display(HTML(\"\"\"<style>\n",
    "    @import 'https://fonts.googleapis.com/css?family=Smokum&effect=3d-float';      \n",
    "    </style><h1 class='font-effect-3d-float' \n",
    "    style='font-family:Smokum; color:#11ffee; font-size:25px;'>\n",
    "    %s</h1>\"\"\"%str))"
   ]
  },
  {
   "cell_type": "code",
   "execution_count": 2,
   "metadata": {
    "_cell_guid": "79c7e3d0-c299-4dcb-8224-4455121ee9b0",
    "_kg_hide-input": true,
    "_uuid": "d629ff2d2480ee46fbb7e2d37f6b5fab8052498a",
    "execution": {
     "iopub.execute_input": "2020-08-26T22:20:54.749596Z",
     "iopub.status.busy": "2020-08-26T22:20:54.748445Z",
     "iopub.status.idle": "2020-08-26T22:20:54.753836Z",
     "shell.execute_reply": "2020-08-26T22:20:54.753091Z"
    },
    "papermill": {
     "duration": 0.018504,
     "end_time": "2020-08-26T22:20:54.753968",
     "exception": false,
     "start_time": "2020-08-26T22:20:54.735464",
     "status": "completed"
    },
    "tags": []
   },
   "outputs": [
    {
     "data": {
      "text/html": [
       "<style>\n",
       "    @import 'https://fonts.googleapis.com/css?family=Ewert&effect=3d';      \n",
       "    </style><h1 class='font-effect-3d' \n",
       "    style='font-family:Ewert; color:#ff6611; font-size:20px;'>\n",
       "    Code Modules, Settings, & Functions</h1>"
      ],
      "text/plain": [
       "<IPython.core.display.HTML object>"
      ]
     },
     "metadata": {},
     "output_type": "display_data"
    }
   ],
   "source": [
    "dhtml('Code Modules, Settings, & Functions')"
   ]
  },
  {
   "cell_type": "code",
   "execution_count": 3,
   "metadata": {
    "execution": {
     "iopub.execute_input": "2020-08-26T22:20:54.773426Z",
     "iopub.status.busy": "2020-08-26T22:20:54.772622Z",
     "iopub.status.idle": "2020-08-26T22:21:02.394947Z",
     "shell.execute_reply": "2020-08-26T22:21:02.394221Z"
    },
    "papermill": {
     "duration": 7.634997,
     "end_time": "2020-08-26T22:21:02.395074",
     "exception": false,
     "start_time": "2020-08-26T22:20:54.760077",
     "status": "completed"
    },
    "tags": []
   },
   "outputs": [],
   "source": [
    "import warnings; warnings.filterwarnings('ignore')\n",
    "import tensorflow as tf,pylab as pl,numpy as np\n",
    "import tensorflow.keras.layers as tkl\n",
    "import tensorflow_datasets as tfds\n",
    "from tensorflow.data import Dataset as tds\n",
    "from IPython.core.magic import register_line_magic"
   ]
  },
  {
   "cell_type": "code",
   "execution_count": 4,
   "metadata": {
    "execution": {
     "iopub.execute_input": "2020-08-26T22:21:02.413009Z",
     "iopub.status.busy": "2020-08-26T22:21:02.412284Z",
     "iopub.status.idle": "2020-08-26T22:21:02.415460Z",
     "shell.execute_reply": "2020-08-26T22:21:02.414717Z"
    },
    "papermill": {
     "duration": 0.014205,
     "end_time": "2020-08-26T22:21:02.415576",
     "exception": false,
     "start_time": "2020-08-26T22:21:02.401371",
     "status": "completed"
    },
    "tags": []
   },
   "outputs": [],
   "source": [
    "tf.random.set_seed(123)\n",
    "np.random.seed(123)\n",
    "tfds.disable_progress_bar()"
   ]
  },
  {
   "cell_type": "code",
   "execution_count": 5,
   "metadata": {
    "_kg_hide-input": true,
    "execution": {
     "iopub.execute_input": "2020-08-26T22:21:02.453602Z",
     "iopub.status.busy": "2020-08-26T22:21:02.452504Z",
     "iopub.status.idle": "2020-08-26T22:21:02.456277Z",
     "shell.execute_reply": "2020-08-26T22:21:02.455531Z"
    },
    "papermill": {
     "duration": 0.034628,
     "end_time": "2020-08-26T22:21:02.456401",
     "exception": false,
     "start_time": "2020-08-26T22:21:02.421773",
     "status": "completed"
    },
    "tags": []
   },
   "outputs": [],
   "source": [
    "@register_line_magic\n",
    "def make_XOR(N):\n",
    "    N=int(N)\n",
    "    global x_train,x_valid,x_test,\\\n",
    "           y_train,y_valid,y_test\n",
    "    x=np.random.uniform(low=-1,high=1,size=(N,2))\n",
    "    y=np.ones(len(x)); y[x[:,0]*x[:,1]<0]=0\n",
    "    x_train,y_train=x[:int(.8*N),:],y[:int(.8*N)]\n",
    "    x_valid=x[int(.8*N):int(.9*N),:]\n",
    "    y_valid=y[int(.8*N):int(.9*N)]\n",
    "    x_test,y_test=x[int(.9*N):,:],y[int(.9*N):]\n",
    "@register_line_magic\n",
    "def display_data(data):\n",
    "    global features\n",
    "    if data=='train': x,y=x_train,y_train\n",
    "    if data=='test': x,y=x_test,y_test\n",
    "    if data=='vaid': x,y=x_valid,y_valid\n",
    "    cols=[[\"#ff6611\",\"#11ffee\"][int(el)] \n",
    "          for el in y]\n",
    "    pl.figure(figsize=(10,6))\n",
    "    pl.scatter(x[:,0],x[:,1],\n",
    "               c=cols,marker='*')\n",
    "    pl.title('Labeled Artificial Data')\n",
    "    pl.grid(); pl.show()\n",
    "    phtml(str(features))\n",
    "@register_line_magic\n",
    "def display_predictions(data):\n",
    "    global y_valid,py_valid,y_test,py_test\n",
    "    if data=='test': py,y=py_test,y_test\n",
    "    if data=='valid': py,y=py_valid,y_valid\n",
    "    pl.figure(figsize=(10,3))\n",
    "    pl.scatter(range(len(y)),y,s=50,\n",
    "               label='real data',c=\"#11ffee\")\n",
    "    pl.scatter(range(len(py)),py,s=20,marker='*',\n",
    "               label='predictions',c=\"#ff6611\")\n",
    "    pl.grid(); pl.legend(); pl.show()"
   ]
  },
  {
   "cell_type": "code",
   "execution_count": 6,
   "metadata": {
    "_kg_hide-input": true,
    "execution": {
     "iopub.execute_input": "2020-08-26T22:21:02.482494Z",
     "iopub.status.busy": "2020-08-26T22:21:02.481683Z",
     "iopub.status.idle": "2020-08-26T22:21:02.485218Z",
     "shell.execute_reply": "2020-08-26T22:21:02.484530Z"
    },
    "papermill": {
     "duration": 0.02106,
     "end_time": "2020-08-26T22:21:02.485341",
     "exception": false,
     "start_time": "2020-08-26T22:21:02.464281",
     "status": "completed"
    },
    "tags": []
   },
   "outputs": [],
   "source": [
    "def train_input_fn(x_train,y_train,batch_size):\n",
    "    ds=tds.from_tensor_slices(\n",
    "        ({'input-features':x_train},\n",
    "         y_train.reshape(-1,1)))\n",
    "    return ds.shuffle(1000).repeat().batch(batch_size)\n",
    "def valid_input_fn(x_vaid,y_valid,batch_size):\n",
    "    ds=tds.from_tensor_slices(\n",
    "        ({'input-features':x_valid},\n",
    "         y_valid.reshape(-1,1)))\n",
    "    return ds.batch(batch_size)\n",
    "def test_input_fn(x_test,y_test,batch_size):\n",
    "    if y_test is None:\n",
    "        ds=tds.from_tensor_slices(\n",
    "            {'input-features':x_test})\n",
    "    else:\n",
    "        ds=tds.from_tensor_slices(\n",
    "            ({'input-features':x_test},\n",
    "             y_test.reshape(-1,1)))\n",
    "    return ds.batch(batch_size)"
   ]
  },
  {
   "cell_type": "code",
   "execution_count": 7,
   "metadata": {
    "_kg_hide-input": true,
    "execution": {
     "iopub.execute_input": "2020-08-26T22:21:02.508455Z",
     "iopub.status.busy": "2020-08-26T22:21:02.507613Z",
     "iopub.status.idle": "2020-08-26T22:21:02.510486Z",
     "shell.execute_reply": "2020-08-26T22:21:02.511112Z"
    },
    "papermill": {
     "duration": 0.019681,
     "end_time": "2020-08-26T22:21:02.511293",
     "exception": false,
     "start_time": "2020-08-26T22:21:02.491612",
     "status": "completed"
    },
    "tags": []
   },
   "outputs": [],
   "source": [
    "@register_line_magic\n",
    "def train_valid(pars):\n",
    "    pars=pars.split()\n",
    "    num_epochs=int(pars[0])\n",
    "    batch_size=int(pars[1])\n",
    "    global tfe,x_train,y_train,x_valid,y_valid\n",
    "    steps_per_epoch=np.ceil(len(x_train)/batch_size)\n",
    "    train_spec=tf.estimator\\\n",
    "    .TrainSpec(input_fn=lambda:\\\n",
    "               train_input_fn(x_train,y_train,batch_size),\n",
    "               max_steps=num_epochs*steps_per_epoch)\n",
    "    valid_spec=tf.estimator\\\n",
    "    .EvalSpec(input_fn=lambda:\\\n",
    "              valid_input_fn(x_valid,y_valid,batch_size))\n",
    "    tf.estimator.train_and_evaluate(tfe,train_spec,valid_spec)"
   ]
  },
  {
   "cell_type": "code",
   "execution_count": 8,
   "metadata": {
    "_kg_hide-input": true,
    "execution": {
     "iopub.execute_input": "2020-08-26T22:21:02.530885Z",
     "iopub.status.busy": "2020-08-26T22:21:02.529784Z",
     "iopub.status.idle": "2020-08-26T22:21:02.533937Z",
     "shell.execute_reply": "2020-08-26T22:21:02.533334Z"
    },
    "papermill": {
     "duration": 0.015296,
     "end_time": "2020-08-26T22:21:02.534062",
     "exception": false,
     "start_time": "2020-08-26T22:21:02.518766",
     "status": "completed"
    },
    "tags": []
   },
   "outputs": [
    {
     "data": {
      "text/html": [
       "<style>\n",
       "    @import 'https://fonts.googleapis.com/css?family=Ewert&effect=3d';      \n",
       "    </style><h1 class='font-effect-3d' \n",
       "    style='font-family:Ewert; color:#ff6611; font-size:20px;'>\n",
       "    Artificial Data</h1>"
      ],
      "text/plain": [
       "<IPython.core.display.HTML object>"
      ]
     },
     "metadata": {},
     "output_type": "display_data"
    }
   ],
   "source": [
    "dhtml('Artificial Data')"
   ]
  },
  {
   "cell_type": "code",
   "execution_count": 9,
   "metadata": {
    "execution": {
     "iopub.execute_input": "2020-08-26T22:21:02.558394Z",
     "iopub.status.busy": "2020-08-26T22:21:02.555431Z",
     "iopub.status.idle": "2020-08-26T22:21:02.843506Z",
     "shell.execute_reply": "2020-08-26T22:21:02.844120Z"
    },
    "papermill": {
     "duration": 0.303709,
     "end_time": "2020-08-26T22:21:02.844279",
     "exception": false,
     "start_time": "2020-08-26T22:21:02.540570",
     "status": "completed"
    },
    "tags": []
   },
   "outputs": [
    {
     "data": {
      "image/png": "[encoded data removed]",
      "text/plain": [
       "<Figure size 720x432 with 1 Axes>"
      ]
     },
     "metadata": {
      "needs_background": "light"
     },
     "output_type": "display_data"
    },
    {
     "data": {
      "text/html": [
       "<style>\n",
       "    @import 'https://fonts.googleapis.com/css?family=Smokum&effect=3d-float';      \n",
       "    </style><h1 class='font-effect-3d-float' \n",
       "    style='font-family:Smokum; color:#11ffee; font-size:25px;'>\n",
       "    [NumericColumn(key='input-features:', shape=(2,), default_value=None, dtype=tf.float32, normalizer_fn=None)]</h1>"
      ],
      "text/plain": [
       "<IPython.core.display.HTML object>"
      ]
     },
     "metadata": {},
     "output_type": "display_data"
    }
   ],
   "source": [
    "[x_train,x_valid,x_test,y_train,y_valid,y_test]=\\\n",
    "[[] for i in range(6)]\n",
    "%make_XOR 1000\n",
    "features=[tf.feature_column.numeric_column(\n",
    "          key='input-features:',shape=(2,))]\n",
    "%display_data test"
   ]
  },
  {
   "cell_type": "code",
   "execution_count": 10,
   "metadata": {
    "_kg_hide-input": true,
    "execution": {
     "iopub.execute_input": "2020-08-26T22:21:02.863973Z",
     "iopub.status.busy": "2020-08-26T22:21:02.863161Z",
     "iopub.status.idle": "2020-08-26T22:21:02.867717Z",
     "shell.execute_reply": "2020-08-26T22:21:02.867020Z"
    },
    "papermill": {
     "duration": 0.016373,
     "end_time": "2020-08-26T22:21:02.867854",
     "exception": false,
     "start_time": "2020-08-26T22:21:02.851481",
     "status": "completed"
    },
    "tags": []
   },
   "outputs": [
    {
     "data": {
      "text/html": [
       "<style>\n",
       "    @import 'https://fonts.googleapis.com/css?family=Ewert&effect=3d';      \n",
       "    </style><h1 class='font-effect-3d' \n",
       "    style='font-family:Ewert; color:#ff6611; font-size:20px;'>\n",
       "    Built Keras Models as Estimators</h1>"
      ],
      "text/plain": [
       "<IPython.core.display.HTML object>"
      ]
     },
     "metadata": {},
     "output_type": "display_data"
    }
   ],
   "source": [
    "dhtml('Built Keras Models as Estimators')"
   ]
  },
  {
   "cell_type": "code",
   "execution_count": 11,
   "metadata": {
    "execution": {
     "iopub.execute_input": "2020-08-26T22:21:02.893023Z",
     "iopub.status.busy": "2020-08-26T22:21:02.892265Z",
     "iopub.status.idle": "2020-08-26T22:21:03.659535Z",
     "shell.execute_reply": "2020-08-26T22:21:03.658714Z"
    },
    "papermill": {
     "duration": 0.784189,
     "end_time": "2020-08-26T22:21:03.659662",
     "exception": false,
     "start_time": "2020-08-26T22:21:02.875473",
     "status": "completed"
    },
    "tags": []
   },
   "outputs": [],
   "source": [
    "model=tf.keras.Sequential([\n",
    "    tkl.Input(shape=(2,),name='input-features'),\n",
    "    tkl.Dense(units=4,activation='relu'),\n",
    "    tkl.Dense(units=4,activation='relu'),\n",
    "    tkl.Dense(units=4,activation='relu'),\n",
    "    tkl.Dense(1,activation='sigmoid',name='out')])\n",
    "model.compile(optimizer=tf.keras.optimizers.SGD(),\n",
    "              loss=tf.keras.losses.BinaryCrossentropy(),\n",
    "              metrics=[tf.keras.metrics.BinaryAccuracy()])\n",
    "tfe=tf.keras.estimator.model_to_estimator(\n",
    "    keras_model=model,\n",
    "    model_dir='models/estimator-for-XOR/')"
   ]
  },
  {
   "cell_type": "code",
   "execution_count": 12,
   "metadata": {
    "_kg_hide-input": true,
    "execution": {
     "iopub.execute_input": "2020-08-26T22:21:03.681102Z",
     "iopub.status.busy": "2020-08-26T22:21:03.679952Z",
     "iopub.status.idle": "2020-08-26T22:21:03.684505Z",
     "shell.execute_reply": "2020-08-26T22:21:03.683775Z"
    },
    "papermill": {
     "duration": 0.017344,
     "end_time": "2020-08-26T22:21:03.684632",
     "exception": false,
     "start_time": "2020-08-26T22:21:03.667288",
     "status": "completed"
    },
    "tags": []
   },
   "outputs": [
    {
     "data": {
      "text/html": [
       "<style>\n",
       "    @import 'https://fonts.googleapis.com/css?family=Ewert&effect=3d';      \n",
       "    </style><h1 class='font-effect-3d' \n",
       "    style='font-family:Ewert; color:#ff6611; font-size:20px;'>\n",
       "    Training</h1>"
      ],
      "text/plain": [
       "<IPython.core.display.HTML object>"
      ]
     },
     "metadata": {},
     "output_type": "display_data"
    }
   ],
   "source": [
    "dhtml('Training')"
   ]
  },
  {
   "cell_type": "code",
   "execution_count": 13,
   "metadata": {
    "_kg_hide-output": true,
    "execution": {
     "iopub.execute_input": "2020-08-26T22:21:03.709065Z",
     "iopub.status.busy": "2020-08-26T22:21:03.708097Z",
     "iopub.status.idle": "2020-08-26T22:21:24.992347Z",
     "shell.execute_reply": "2020-08-26T22:21:24.991551Z"
    },
    "papermill": {
     "duration": 21.300056,
     "end_time": "2020-08-26T22:21:24.992483",
     "exception": false,
     "start_time": "2020-08-26T22:21:03.692427",
     "status": "completed"
    },
    "tags": []
   },
   "outputs": [
    {
     "name": "stdout",
     "output_type": "stream",
     "text": [
      "Model: \"sequential\"\n",
      "_________________________________________________________________\n",
      "Layer (type)                 Output Shape              Param #   \n",
      "=================================================================\n",
      "dense (Dense)                (None, 4)                 12        \n",
      "_________________________________________________________________\n",
      "dense_1 (Dense)              (None, 4)                 20        \n",
      "_________________________________________________________________\n",
      "dense_2 (Dense)              (None, 4)                 20        \n",
      "_________________________________________________________________\n",
      "out (Dense)                  (None, 1)                 5         \n",
      "=================================================================\n",
      "Total params: 57\n",
      "Trainable params: 57\n",
      "Non-trainable params: 0\n",
      "_________________________________________________________________\n",
      "None\n",
      "allow_soft_placement: true\n",
      "graph_options {\n",
      "  rewrite_options {\n",
      "    meta_optimizer_iterations: ONE\n",
      "  }\n",
      "}\n",
      "\n"
     ]
    }
   ],
   "source": [
    "print(model.summary())\n",
    "print(tfe.config.session_config)\n",
    "%train_valid 200 8"
   ]
  },
  {
   "cell_type": "code",
   "execution_count": 14,
   "metadata": {
    "_kg_hide-input": true,
    "execution": {
     "iopub.execute_input": "2020-08-26T22:21:25.014829Z",
     "iopub.status.busy": "2020-08-26T22:21:25.013611Z",
     "iopub.status.idle": "2020-08-26T22:21:25.018799Z",
     "shell.execute_reply": "2020-08-26T22:21:25.018012Z"
    },
    "papermill": {
     "duration": 0.018212,
     "end_time": "2020-08-26T22:21:25.018925",
     "exception": false,
     "start_time": "2020-08-26T22:21:25.000713",
     "status": "completed"
    },
    "tags": []
   },
   "outputs": [
    {
     "data": {
      "text/html": [
       "<style>\n",
       "    @import 'https://fonts.googleapis.com/css?family=Ewert&effect=3d';      \n",
       "    </style><h1 class='font-effect-3d' \n",
       "    style='font-family:Ewert; color:#ff6611; font-size:20px;'>\n",
       "    Evaluation</h1>"
      ],
      "text/plain": [
       "<IPython.core.display.HTML object>"
      ]
     },
     "metadata": {},
     "output_type": "display_data"
    }
   ],
   "source": [
    "dhtml('Evaluation')"
   ]
  },
  {
   "cell_type": "code",
   "execution_count": 15,
   "metadata": {
    "execution": {
     "iopub.execute_input": "2020-08-26T22:21:25.047626Z",
     "iopub.status.busy": "2020-08-26T22:21:25.046699Z",
     "iopub.status.idle": "2020-08-26T22:21:25.755123Z",
     "shell.execute_reply": "2020-08-26T22:21:25.754367Z"
    },
    "papermill": {
     "duration": 0.728271,
     "end_time": "2020-08-26T22:21:25.755252",
     "exception": false,
     "start_time": "2020-08-26T22:21:25.026981",
     "status": "completed"
    },
    "tags": []
   },
   "outputs": [
    {
     "data": {
      "text/html": [
       "<style>\n",
       "    @import 'https://fonts.googleapis.com/css?family=Smokum&effect=3d-float';      \n",
       "    </style><h1 class='font-effect-3d-float' \n",
       "    style='font-family:Smokum; color:#11ffee; font-size:25px;'>\n",
       "    {'binary_accuracy': 1.0, 'loss': 0.011100721, 'global_step': 20000}</h1>"
      ],
      "text/plain": [
       "<IPython.core.display.HTML object>"
      ]
     },
     "metadata": {},
     "output_type": "display_data"
    },
    {
     "data": {
      "image/png": "[encoded data removed]",
      "text/plain": [
       "<Figure size 720x216 with 1 Axes>"
      ]
     },
     "metadata": {
      "needs_background": "light"
     },
     "output_type": "display_data"
    }
   ],
   "source": [
    "batch_size=8\n",
    "test_result=tfe\\\n",
    ".evaluate(input_fn=lambda:\\\n",
    "          test_input_fn(x_test,y_test,batch_size))\n",
    "y_test_pred=tfe\\\n",
    ".predict(input_fn=lambda:\\\n",
    "         test_input_fn(x_test,y_test,batch_size))\n",
    "py_test=[]\n",
    "for i in range(len(y_test)):\n",
    "    py_test.append(round(next(iter(y_test_pred))['out'][0]))\n",
    "phtml(test_result)\n",
    "%display_predictions test"
   ]
  }
 ],
 "metadata": {
  "kernelspec": {
   "display_name": "Python 3",
   "language": "python",
   "name": "python3"
  },
  "language_info": {
   "codemirror_mode": {
    "name": "ipython",
    "version": 3
   },
   "file_extension": ".py",
   "mimetype": "text/x-python",
   "name": "python",
   "nbconvert_exporter": "python",
   "pygments_lexer": "ipython3",
   "version": "3.7.6"
  },
  "papermill": {
   "duration": 36.299192,
   "end_time": "2020-08-26T22:21:25.872896",
   "environment_variables": {},
   "exception": null,
   "input_path": "__notebook__.ipynb",
   "output_path": "__notebook__.ipynb",
   "parameters": {},
   "start_time": "2020-08-26T22:20:49.573704",
   "version": "2.1.0"
  }
 },
 "nbformat": 4,
 "nbformat_minor": 4
}
