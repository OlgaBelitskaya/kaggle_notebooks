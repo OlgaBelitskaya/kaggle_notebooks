{
 "cells": [
  {
   "cell_type": "code",
   "execution_count": 1,
   "metadata": {
    "_kg_hide-input": true
   },
   "outputs": [
    {
     "data": {
      "text/html": [
       "<style>\n",
       "    @import url('https://fonts.googleapis.com/css?family=Roboto|Ewert&effect=3d');      \n",
       "    </style><p class='font-effect-3d' onclick='setStyle(this,\"#00ff66\")'\n",
       "    style='font-family:Roboto; font-size:25px; color:#ff355e;'>\n",
       "    Code Modules & Helpful Functions</p><script>\n",
       "    function setStyle(element,c) {\n",
       "     var docs=document.getElementsByClassName('font-effect-3d');\n",
       "     for (var i=0; i<docs.length; i++) {\n",
       "         docs[i].style='font-family:Ewert; font-size:22px;'; \n",
       "         docs[i].style.color=c;}; };\n",
       "    </script>"
      ],
      "text/plain": [
       "<IPython.core.display.HTML object>"
      ]
     },
     "metadata": {},
     "output_type": "display_data"
    }
   ],
   "source": [
    "from IPython.display import display,HTML\n",
    "def dhtml(st):\n",
    "    display(HTML(\"\"\"<style>\n",
    "    @import url('https://fonts.googleapis.com/css?family=Roboto|Ewert&effect=3d');      \n",
    "    </style><p class='font-effect-3d' onclick='setStyle(this,\"#00ff66\")'\n",
    "    style='font-family:Roboto; font-size:25px; color:#ff355e;'>\n",
    "    %s</p>\"\"\"%st+\"\"\"<script>\n",
    "    function setStyle(element,c) {\n",
    "     var docs=document.getElementsByClassName('font-effect-3d');\n",
    "     for (var i=0; i<docs.length; i++) {\n",
    "         docs[i].style='font-family:Ewert; font-size:22px;'; \n",
    "         docs[i].style.color=c;}; };\n",
    "    </script>\"\"\"))\n",
    "dhtml('Code Modules & Helpful Functions')"
   ]
  },
  {
   "cell_type": "code",
   "execution_count": 2,
   "metadata": {
    "_cell_guid": "79c7e3d0-c299-4dcb-8224-4455121ee9b0",
    "_uuid": "d629ff2d2480ee46fbb7e2d37f6b5fab8052498a"
   },
   "outputs": [],
   "source": [
    "import numpy as np,pylab as pl,pandas as pd\n",
    "import h5py,tensorflow as tf\n",
    "import tensorflow_hub as th"
   ]
  },
  {
   "cell_type": "code",
   "execution_count": 3,
   "metadata": {},
   "outputs": [],
   "source": [
    "def premodel(pixels,dense,mh,labels):\n",
    "    model=tf.keras.Sequential([\n",
    "        tf.keras.layers.Input((pixels,pixels,3),\n",
    "                              name='input'),\n",
    "        th.KerasLayer(mh,trainable=True),\n",
    "        tf.keras.layers.Flatten(),\n",
    "        tf.keras.layers.Dense(dense,activation='relu'),\n",
    "        tf.keras.layers.Dropout(rate=.5),\n",
    "        tf.keras.layers.Dense(labels,activation='softmax')])\n",
    "    model.compile(optimizer='adam',metrics=['accuracy'],\n",
    "                  loss='sparse_categorical_crossentropy')\n",
    "    display(model.summary())\n",
    "    return model\n",
    "fw='weights.best.hdf5'\n",
    "def cb(fw):\n",
    "    early_stopping=tf.keras.callbacks\\\n",
    "    .EarlyStopping(monitor='val_loss',patience=20,verbose=2)\n",
    "    checkpointer=tf.keras.callbacks\\\n",
    "    .ModelCheckpoint(filepath=fw,save_best_only=True,verbose=2)\n",
    "    lr_reduction=tf.keras.callbacks\\\n",
    "    .ReduceLROnPlateau(monitor='val_loss',verbose=2,\n",
    "                       patience=5,factor=.8)\n",
    "    return [checkpointer,early_stopping,lr_reduction]\n",
    "def display_resize(x_train,x_valid,x_test,\n",
    "                   y_valid,pixels):\n",
    "    x_train=tf.image.resize(x_train,[pixels,pixels])\n",
    "    x_valid=tf.image.resize(x_valid,[pixels,pixels])\n",
    "    x_test=tf.image.resize(x_test,[pixels,pixels])\n",
    "    img=x_valid[1]\n",
    "    lbl='One example of resized images \\nlabel: '+\\\n",
    "     str(y_valid[1][0])+'\\nshape: '+str(img.shape)\n",
    "    pl.imshow(img); pl.title(lbl)\n",
    "    return [x_train,x_valid,x_test]"
   ]
  },
  {
   "cell_type": "code",
   "execution_count": 4,
   "metadata": {
    "_kg_hide-input": true
   },
   "outputs": [
    {
     "data": {
      "text/html": [
       "<style>\n",
       "    @import url('https://fonts.googleapis.com/css?family=Roboto|Ewert&effect=3d');      \n",
       "    </style><p class='font-effect-3d' onclick='setStyle(this,\"#00ff66\")'\n",
       "    style='font-family:Roboto; font-size:25px; color:#ff355e;'>\n",
       "    Data Loading & Preprocessing</p><script>\n",
       "    function setStyle(element,c) {\n",
       "     var docs=document.getElementsByClassName('font-effect-3d');\n",
       "     for (var i=0; i<docs.length; i++) {\n",
       "         docs[i].style='font-family:Ewert; font-size:22px;'; \n",
       "         docs[i].style.color=c;}; };\n",
       "    </script>"
      ],
      "text/plain": [
       "<IPython.core.display.HTML object>"
      ]
     },
     "metadata": {},
     "output_type": "display_data"
    }
   ],
   "source": [
    "dhtml('Data Loading & Preprocessing')"
   ]
  },
  {
   "cell_type": "code",
   "execution_count": 5,
   "metadata": {},
   "outputs": [
    {
     "name": "stdout",
     "output_type": "stream",
     "text": [
      "['backgrounds', 'images', 'labels']\n"
     ]
    },
    {
     "data": {
      "text/plain": [
       "((1419, 32, 32, 3), (1419, 1))"
      ]
     },
     "execution_count": 5,
     "metadata": {},
     "output_type": "execute_result"
    }
   ],
   "source": [
    "fpath='../input/classification-of-handwritten-letters/'\n",
    "f='LetterColorImages_123.h5'\n",
    "f=h5py.File(fpath+f,'r')\n",
    "keys=list(f.keys()); print(keys)\n",
    "x=np.array(f[keys[1]],dtype='float32')/255\n",
    "y=np.array(f[keys[2]],dtype='int32')\\\n",
    ".reshape(-1,1)-1\n",
    "N=len(y); n=int(.1*N)\n",
    "shuffle_ids=np.arange(N)\n",
    "np.random.RandomState(23).shuffle(shuffle_ids)\n",
    "x,y=x[shuffle_ids],y[shuffle_ids]\n",
    "x_test,x_valid,x_train=x[:n],x[n:2*n],x[2*n:]\n",
    "y_test,y_valid,y_train=y[:n],y[n:2*n],y[2*n:]\n",
    "x_valid.shape,y_valid.shape"
   ]
  },
  {
   "cell_type": "code",
   "execution_count": 6,
   "metadata": {
    "_kg_hide-input": true
   },
   "outputs": [
    {
     "data": {
      "text/html": [
       "<style>\n",
       "    @import url('https://fonts.googleapis.com/css?family=Roboto|Ewert&effect=3d');      \n",
       "    </style><p class='font-effect-3d' onclick='setStyle(this,\"#00ff66\")'\n",
       "    style='font-family:Roboto; font-size:25px; color:#ff355e;'>\n",
       "    Pre-Trained Saved Models</p><script>\n",
       "    function setStyle(element,c) {\n",
       "     var docs=document.getElementsByClassName('font-effect-3d');\n",
       "     for (var i=0; i<docs.length; i++) {\n",
       "         docs[i].style='font-family:Ewert; font-size:22px;'; \n",
       "         docs[i].style.color=c;}; };\n",
       "    </script>"
      ],
      "text/plain": [
       "<IPython.core.display.HTML object>"
      ]
     },
     "metadata": {},
     "output_type": "display_data"
    }
   ],
   "source": [
    "dhtml('Pre-Trained Saved Models')"
   ]
  },
  {
   "cell_type": "code",
   "execution_count": 7,
   "metadata": {
    "_kg_hide-input": true
   },
   "outputs": [
    {
     "data": {
      "text/html": [
       "<style>\n",
       "    @import url('https://fonts.googleapis.com/css?family=Roboto|Ewert&effect=3d');      \n",
       "    </style><p class='font-effect-3d' onclick='setStyle(this,\"#00ff66\")'\n",
       "    style='font-family:Roboto; font-size:25px; color:#ff355e;'>\n",
       "    #1 mobilenet_v2_050_96</p><script>\n",
       "    function setStyle(element,c) {\n",
       "     var docs=document.getElementsByClassName('font-effect-3d');\n",
       "     for (var i=0; i<docs.length; i++) {\n",
       "         docs[i].style='font-family:Ewert; font-size:22px;'; \n",
       "         docs[i].style.color=c;}; };\n",
       "    </script>"
      ],
      "text/plain": [
       "<IPython.core.display.HTML object>"
      ]
     },
     "metadata": {},
     "output_type": "display_data"
    }
   ],
   "source": [
    "[handle_base,pixels]=[\"mobilenet_v2_050_96\",96]\n",
    "dhtml('#1 '+handle_base)\n",
    "mhandle=\"https://tfhub.dev/google/imagenet/{}/feature_vector/4\"\\\n",
    ".format(handle_base)"
   ]
  },
  {
   "cell_type": "code",
   "execution_count": 8,
   "metadata": {},
   "outputs": [
    {
     "data": {
      "image/png": "[encoded data removed]",
      "text/plain": [
       "<Figure size 432x288 with 1 Axes>"
      ]
     },
     "metadata": {
      "needs_background": "light"
     },
     "output_type": "display_data"
    }
   ],
   "source": [
    "[x_train1,x_valid1,x_test1]=\\\n",
    "display_resize(x_train,x_valid,x_test,\n",
    "               y_valid,pixels)"
   ]
  },
  {
   "cell_type": "code",
   "execution_count": 9,
   "metadata": {
    "_kg_hide-output": true
   },
   "outputs": [
    {
     "name": "stdout",
     "output_type": "stream",
     "text": [
      "Model: \"sequential\"\n",
      "_________________________________________________________________\n",
      "Layer (type)                 Output Shape              Param #   \n",
      "=================================================================\n",
      "keras_layer (KerasLayer)     (None, 1280)              706224    \n",
      "_________________________________________________________________\n",
      "flatten (Flatten)            (None, 1280)              0         \n",
      "_________________________________________________________________\n",
      "dense (Dense)                (None, 1024)              1311744   \n",
      "_________________________________________________________________\n",
      "dropout (Dropout)            (None, 1024)              0         \n",
      "_________________________________________________________________\n",
      "dense_1 (Dense)              (None, 33)                33825     \n",
      "=================================================================\n",
      "Total params: 2,051,793\n",
      "Trainable params: 2,033,249\n",
      "Non-trainable params: 18,544\n",
      "_________________________________________________________________\n"
     ]
    },
    {
     "data": {
      "text/plain": [
       "None"
      ]
     },
     "metadata": {},
     "output_type": "display_data"
    }
   ],
   "source": [
    "model=premodel(pixels,1024,mhandle,33)"
   ]
  },
  {
   "cell_type": "code",
   "execution_count": 10,
   "metadata": {
    "_kg_hide-output": true
   },
   "outputs": [
    {
     "name": "stdout",
     "output_type": "stream",
     "text": [
      "Train on 11352 samples, validate on 1419 samples\n",
      "Epoch 1/50\n",
      "11328/11352 [============================>.] - ETA: 0s - loss: 1.2892 - accuracy: 0.6425\n",
      "Epoch 00001: val_loss improved from inf to 1.21051, saving model to weights.best.hdf5\n",
      "11352/11352 [==============================] - 19s 2ms/sample - loss: 1.2870 - accuracy: 0.6431 - val_loss: 1.2105 - val_accuracy: 0.6829\n",
      "Epoch 2/50\n",
      "11328/11352 [============================>.] - ETA: 0s - loss: 0.4107 - accuracy: 0.8904\n",
      "Epoch 00002: val_loss improved from 1.21051 to 0.59013, saving model to weights.best.hdf5\n",
      "11352/11352 [==============================] - 9s 779us/sample - loss: 0.4113 - accuracy: 0.8903 - val_loss: 0.5901 - val_accuracy: 0.8619\n",
      "Epoch 3/50\n",
      "11328/11352 [============================>.] - ETA: 0s - loss: 0.3032 - accuracy: 0.9219\n",
      "Epoch 00003: val_loss improved from 0.59013 to 0.42970, saving model to weights.best.hdf5\n",
      "11352/11352 [==============================] - 9s 783us/sample - loss: 0.3038 - accuracy: 0.9218 - val_loss: 0.4297 - val_accuracy: 0.8971\n",
      "Epoch 4/50\n",
      "11264/11352 [============================>.] - ETA: 0s - loss: 0.2453 - accuracy: 0.9371\n",
      "Epoch 00004: val_loss improved from 0.42970 to 0.37121, saving model to weights.best.hdf5\n",
      "11352/11352 [==============================] - 9s 817us/sample - loss: 0.2452 - accuracy: 0.9373 - val_loss: 0.3712 - val_accuracy: 0.9161\n",
      "Epoch 5/50\n",
      "11264/11352 [============================>.] - ETA: 0s - loss: 0.2367 - accuracy: 0.9436\n",
      "Epoch 00005: val_loss did not improve from 0.37121\n",
      "11352/11352 [==============================] - 8s 743us/sample - loss: 0.2360 - accuracy: 0.9439 - val_loss: 0.6092 - val_accuracy: 0.8436\n",
      "Epoch 6/50\n",
      "11328/11352 [============================>.] - ETA: 0s - loss: 0.2170 - accuracy: 0.9489\n",
      "Epoch 00006: val_loss did not improve from 0.37121\n",
      "11352/11352 [==============================] - 8s 747us/sample - loss: 0.2171 - accuracy: 0.9488 - val_loss: 0.3866 - val_accuracy: 0.9147\n",
      "Epoch 7/50\n",
      "11328/11352 [============================>.] - ETA: 0s - loss: 0.1911 - accuracy: 0.9581\n",
      "Epoch 00007: val_loss did not improve from 0.37121\n",
      "11352/11352 [==============================] - 8s 741us/sample - loss: 0.1915 - accuracy: 0.9577 - val_loss: 0.4549 - val_accuracy: 0.9049\n",
      "Epoch 8/50\n",
      "11328/11352 [============================>.] - ETA: 0s - loss: 0.1787 - accuracy: 0.9608\n",
      "Epoch 00008: val_loss did not improve from 0.37121\n",
      "11352/11352 [==============================] - 8s 738us/sample - loss: 0.1786 - accuracy: 0.9608 - val_loss: 0.4168 - val_accuracy: 0.9119\n",
      "Epoch 9/50\n",
      "11328/11352 [============================>.] - ETA: 0s - loss: 0.1774 - accuracy: 0.9636\n",
      "Epoch 00009: val_loss improved from 0.37121 to 0.34453, saving model to weights.best.hdf5\n",
      "11352/11352 [==============================] - 9s 776us/sample - loss: 0.1775 - accuracy: 0.9636 - val_loss: 0.3445 - val_accuracy: 0.9253\n",
      "Epoch 10/50\n",
      "11264/11352 [============================>.] - ETA: 0s - loss: 0.1540 - accuracy: 0.9720\n",
      "Epoch 00010: val_loss did not improve from 0.34453\n",
      "11352/11352 [==============================] - 8s 741us/sample - loss: 0.1539 - accuracy: 0.9720 - val_loss: 0.4368 - val_accuracy: 0.9197\n",
      "Epoch 11/50\n",
      "11328/11352 [============================>.] - ETA: 0s - loss: 0.1496 - accuracy: 0.9704\n",
      "Epoch 00011: val_loss improved from 0.34453 to 0.27199, saving model to weights.best.hdf5\n",
      "11352/11352 [==============================] - 9s 804us/sample - loss: 0.1498 - accuracy: 0.9704 - val_loss: 0.2720 - val_accuracy: 0.9486\n",
      "Epoch 12/50\n",
      "11328/11352 [============================>.] - ETA: 0s - loss: 0.1688 - accuracy: 0.9665\n",
      "Epoch 00012: val_loss did not improve from 0.27199\n",
      "11352/11352 [==============================] - 8s 735us/sample - loss: 0.1687 - accuracy: 0.9665 - val_loss: 0.4120 - val_accuracy: 0.9168\n",
      "Epoch 13/50\n",
      "11264/11352 [============================>.] - ETA: 0s - loss: 0.1459 - accuracy: 0.9755\n",
      "Epoch 00013: val_loss did not improve from 0.27199\n",
      "11352/11352 [==============================] - 8s 735us/sample - loss: 0.1455 - accuracy: 0.9756 - val_loss: 0.3089 - val_accuracy: 0.9457\n",
      "Epoch 14/50\n",
      "11328/11352 [============================>.] - ETA: 0s - loss: 0.1328 - accuracy: 0.9771\n",
      "Epoch 00014: val_loss did not improve from 0.27199\n",
      "11352/11352 [==============================] - 8s 732us/sample - loss: 0.1330 - accuracy: 0.9771 - val_loss: 0.4463 - val_accuracy: 0.9098\n",
      "Epoch 15/50\n",
      "11264/11352 [============================>.] - ETA: 0s - loss: 0.1484 - accuracy: 0.9751\n",
      "Epoch 00015: val_loss did not improve from 0.27199\n",
      "11352/11352 [==============================] - 8s 730us/sample - loss: 0.1489 - accuracy: 0.9750 - val_loss: 0.4884 - val_accuracy: 0.9126\n",
      "Epoch 16/50\n",
      "11264/11352 [============================>.] - ETA: 0s - loss: 0.1551 - accuracy: 0.9727\n",
      "Epoch 00016: val_loss did not improve from 0.27199\n",
      "\n",
      "Epoch 00016: ReduceLROnPlateau reducing learning rate to 0.000800000037997961.\n",
      "11352/11352 [==============================] - 8s 732us/sample - loss: 0.1563 - accuracy: 0.9723 - val_loss: 0.3424 - val_accuracy: 0.9359\n",
      "Epoch 17/50\n",
      "11328/11352 [============================>.] - ETA: 0s - loss: 0.1070 - accuracy: 0.9846\n",
      "Epoch 00017: val_loss did not improve from 0.27199\n",
      "11352/11352 [==============================] - 8s 730us/sample - loss: 0.1073 - accuracy: 0.9846 - val_loss: 0.3326 - val_accuracy: 0.9479\n",
      "Epoch 18/50\n",
      "11264/11352 [============================>.] - ETA: 0s - loss: 0.0966 - accuracy: 0.9883\n",
      "Epoch 00018: val_loss improved from 0.27199 to 0.25473, saving model to weights.best.hdf5\n",
      "11352/11352 [==============================] - 9s 799us/sample - loss: 0.0969 - accuracy: 0.9881 - val_loss: 0.2547 - val_accuracy: 0.9626\n",
      "Epoch 19/50\n",
      "11264/11352 [============================>.] - ETA: 0s - loss: 0.1164 - accuracy: 0.9835\n",
      "Epoch 00019: val_loss did not improve from 0.25473\n",
      "11352/11352 [==============================] - 8s 735us/sample - loss: 0.1159 - accuracy: 0.9836 - val_loss: 0.2970 - val_accuracy: 0.9479\n",
      "Epoch 20/50\n",
      "11328/11352 [============================>.] - ETA: 0s - loss: 0.1012 - accuracy: 0.9876\n",
      "Epoch 00020: val_loss did not improve from 0.25473\n",
      "11352/11352 [==============================] - 8s 742us/sample - loss: 0.1012 - accuracy: 0.9876 - val_loss: 0.2841 - val_accuracy: 0.9507\n",
      "Epoch 21/50\n",
      "11328/11352 [============================>.] - ETA: 0s - loss: 0.0953 - accuracy: 0.9887\n",
      "Epoch 00021: val_loss did not improve from 0.25473\n",
      "11352/11352 [==============================] - 8s 733us/sample - loss: 0.0953 - accuracy: 0.9887 - val_loss: 0.2875 - val_accuracy: 0.9514\n",
      "Epoch 22/50\n",
      "11328/11352 [============================>.] - ETA: 0s - loss: 0.1164 - accuracy: 0.9833\n",
      "Epoch 00022: val_loss did not improve from 0.25473\n",
      "11352/11352 [==============================] - 8s 720us/sample - loss: 0.1164 - accuracy: 0.9833 - val_loss: 0.2627 - val_accuracy: 0.9514\n",
      "Epoch 23/50\n",
      "11328/11352 [============================>.] - ETA: 0s - loss: 0.1110 - accuracy: 0.9842\n",
      "Epoch 00023: val_loss did not improve from 0.25473\n",
      "\n",
      "Epoch 00023: ReduceLROnPlateau reducing learning rate to 0.0006400000303983689.\n",
      "11352/11352 [==============================] - 8s 730us/sample - loss: 0.1111 - accuracy: 0.9841 - val_loss: 0.4422 - val_accuracy: 0.9197\n",
      "Epoch 24/50\n",
      "11328/11352 [============================>.] - ETA: 0s - loss: 0.0995 - accuracy: 0.9875\n",
      "Epoch 00024: val_loss did not improve from 0.25473\n",
      "11352/11352 [==============================] - 8s 738us/sample - loss: 0.0998 - accuracy: 0.9873 - val_loss: 0.2771 - val_accuracy: 0.9514\n",
      "Epoch 25/50\n",
      "11328/11352 [============================>.] - ETA: 0s - loss: 0.0937 - accuracy: 0.9898\n",
      "Epoch 00025: val_loss did not improve from 0.25473\n",
      "11352/11352 [==============================] - 9s 756us/sample - loss: 0.0939 - accuracy: 0.9898 - val_loss: 0.2662 - val_accuracy: 0.9591\n",
      "Epoch 26/50\n",
      "11264/11352 [============================>.] - ETA: 0s - loss: 0.0877 - accuracy: 0.9915\n",
      "Epoch 00026: val_loss did not improve from 0.25473\n",
      "11352/11352 [==============================] - 8s 739us/sample - loss: 0.0882 - accuracy: 0.9914 - val_loss: 0.3017 - val_accuracy: 0.9479\n",
      "Epoch 27/50\n",
      "11328/11352 [============================>.] - ETA: 0s - loss: 0.0799 - accuracy: 0.9937\n",
      "Epoch 00027: val_loss improved from 0.25473 to 0.23411, saving model to weights.best.hdf5\n",
      "11352/11352 [==============================] - 9s 761us/sample - loss: 0.0799 - accuracy: 0.9937 - val_loss: 0.2341 - val_accuracy: 0.9669\n",
      "Epoch 28/50\n",
      "11328/11352 [============================>.] - ETA: 0s - loss: 0.0734 - accuracy: 0.9957\n",
      "Epoch 00028: val_loss did not improve from 0.23411\n",
      "11352/11352 [==============================] - 8s 732us/sample - loss: 0.0734 - accuracy: 0.9957 - val_loss: 0.3529 - val_accuracy: 0.9422\n",
      "Epoch 29/50\n",
      "11328/11352 [============================>.] - ETA: 0s - loss: 0.0937 - accuracy: 0.9911\n",
      "Epoch 00029: val_loss did not improve from 0.23411\n",
      "11352/11352 [==============================] - 8s 724us/sample - loss: 0.0940 - accuracy: 0.9910 - val_loss: 0.2871 - val_accuracy: 0.9521\n",
      "Epoch 30/50\n",
      "11328/11352 [============================>.] - ETA: 0s - loss: 0.1119 - accuracy: 0.9856\n",
      "Epoch 00030: val_loss did not improve from 0.23411\n",
      "11352/11352 [==============================] - 8s 719us/sample - loss: 0.1118 - accuracy: 0.9856 - val_loss: 0.2598 - val_accuracy: 0.9584\n",
      "Epoch 31/50\n",
      "11264/11352 [============================>.] - ETA: 0s - loss: 0.0932 - accuracy: 0.9896\n",
      "Epoch 00031: val_loss did not improve from 0.23411\n",
      "11352/11352 [==============================] - 8s 728us/sample - loss: 0.0933 - accuracy: 0.9896 - val_loss: 0.3842 - val_accuracy: 0.9422\n",
      "Epoch 32/50\n",
      "11328/11352 [============================>.] - ETA: 0s - loss: 0.1007 - accuracy: 0.9889\n",
      "Epoch 00032: val_loss did not improve from 0.23411\n",
      "\n",
      "Epoch 00032: ReduceLROnPlateau reducing learning rate to 0.0005120000336319208.\n",
      "11352/11352 [==============================] - 9s 761us/sample - loss: 0.1009 - accuracy: 0.9887 - val_loss: 0.3238 - val_accuracy: 0.9521\n",
      "Epoch 33/50\n",
      "11328/11352 [============================>.] - ETA: 0s - loss: 0.0796 - accuracy: 0.9946\n",
      "Epoch 00033: val_loss improved from 0.23411 to 0.22506, saving model to weights.best.hdf5\n",
      "11352/11352 [==============================] - 9s 781us/sample - loss: 0.0796 - accuracy: 0.9946 - val_loss: 0.2251 - val_accuracy: 0.9626\n",
      "Epoch 34/50\n",
      "11328/11352 [============================>.] - ETA: 0s - loss: 0.0772 - accuracy: 0.9955\n",
      "Epoch 00034: val_loss improved from 0.22506 to 0.21496, saving model to weights.best.hdf5\n",
      "11352/11352 [==============================] - 9s 767us/sample - loss: 0.0771 - accuracy: 0.9955 - val_loss: 0.2150 - val_accuracy: 0.9655\n",
      "Epoch 35/50\n",
      "11264/11352 [============================>.] - ETA: 0s - loss: 0.0737 - accuracy: 0.9961\n",
      "Epoch 00035: val_loss did not improve from 0.21496\n",
      "11352/11352 [==============================] - 8s 734us/sample - loss: 0.0736 - accuracy: 0.9961 - val_loss: 0.2237 - val_accuracy: 0.9690\n",
      "Epoch 36/50\n",
      "11328/11352 [============================>.] - ETA: 0s - loss: 0.0826 - accuracy: 0.9944\n",
      "Epoch 00036: val_loss did not improve from 0.21496\n",
      "11352/11352 [==============================] - 8s 722us/sample - loss: 0.0829 - accuracy: 0.9942 - val_loss: 0.3294 - val_accuracy: 0.9500\n",
      "Epoch 37/50\n",
      "11264/11352 [============================>.] - ETA: 0s - loss: 0.0733 - accuracy: 0.9960\n",
      "Epoch 00037: val_loss did not improve from 0.21496\n",
      "11352/11352 [==============================] - 8s 734us/sample - loss: 0.0733 - accuracy: 0.9960 - val_loss: 0.2329 - val_accuracy: 0.9655\n",
      "Epoch 38/50\n",
      "11328/11352 [============================>.] - ETA: 0s - loss: 0.0816 - accuracy: 0.9944\n",
      "Epoch 00038: val_loss did not improve from 0.21496\n",
      "11352/11352 [==============================] - 8s 729us/sample - loss: 0.0815 - accuracy: 0.9944 - val_loss: 0.2428 - val_accuracy: 0.9626\n",
      "Epoch 39/50\n",
      "11328/11352 [============================>.] - ETA: 0s - loss: 0.0816 - accuracy: 0.9938\n",
      "Epoch 00039: val_loss did not improve from 0.21496\n",
      "\n",
      "Epoch 00039: ReduceLROnPlateau reducing learning rate to 0.00040960004553198815.\n",
      "11352/11352 [==============================] - 9s 758us/sample - loss: 0.0816 - accuracy: 0.9938 - val_loss: 0.2986 - val_accuracy: 0.9549\n",
      "Epoch 40/50\n",
      "11328/11352 [============================>.] - ETA: 0s - loss: 0.0817 - accuracy: 0.9936\n",
      "Epoch 00040: val_loss did not improve from 0.21496\n",
      "11352/11352 [==============================] - 9s 753us/sample - loss: 0.0819 - accuracy: 0.9936 - val_loss: 0.2648 - val_accuracy: 0.9634\n",
      "Epoch 41/50\n",
      "11264/11352 [============================>.] - ETA: 0s - loss: 0.0747 - accuracy: 0.9953\n",
      "Epoch 00041: val_loss did not improve from 0.21496\n",
      "11352/11352 [==============================] - 8s 729us/sample - loss: 0.0746 - accuracy: 0.9953 - val_loss: 0.2450 - val_accuracy: 0.9626\n",
      "Epoch 42/50\n",
      "11264/11352 [============================>.] - ETA: 0s - loss: 0.0723 - accuracy: 0.9961\n",
      "Epoch 00042: val_loss improved from 0.21496 to 0.20592, saving model to weights.best.hdf5\n",
      "11352/11352 [==============================] - 9s 768us/sample - loss: 0.0722 - accuracy: 0.9961 - val_loss: 0.2059 - val_accuracy: 0.9683\n",
      "Epoch 43/50\n",
      "11328/11352 [============================>.] - ETA: 0s - loss: 0.0688 - accuracy: 0.9974\n",
      "Epoch 00043: val_loss did not improve from 0.20592\n",
      "11352/11352 [==============================] - 8s 733us/sample - loss: 0.0688 - accuracy: 0.9974 - val_loss: 0.2343 - val_accuracy: 0.9648\n",
      "Epoch 44/50\n",
      "11328/11352 [============================>.] - ETA: 0s - loss: 0.0741 - accuracy: 0.9951\n",
      "Epoch 00044: val_loss improved from 0.20592 to 0.18094, saving model to weights.best.hdf5\n",
      "11352/11352 [==============================] - 9s 764us/sample - loss: 0.0740 - accuracy: 0.9952 - val_loss: 0.1809 - val_accuracy: 0.9746\n",
      "Epoch 45/50\n",
      "11264/11352 [============================>.] - ETA: 0s - loss: 0.0715 - accuracy: 0.9968\n",
      "Epoch 00045: val_loss did not improve from 0.18094\n",
      "11352/11352 [==============================] - 8s 730us/sample - loss: 0.0720 - accuracy: 0.9966 - val_loss: 0.2537 - val_accuracy: 0.9584\n",
      "Epoch 46/50\n",
      "11328/11352 [============================>.] - ETA: 0s - loss: 0.0754 - accuracy: 0.9956\n",
      "Epoch 00046: val_loss did not improve from 0.18094\n",
      "11352/11352 [==============================] - 9s 758us/sample - loss: 0.0754 - accuracy: 0.9956 - val_loss: 0.1950 - val_accuracy: 0.9718\n",
      "Epoch 47/50\n",
      "11264/11352 [============================>.] - ETA: 0s - loss: 0.0741 - accuracy: 0.9959\n",
      "Epoch 00047: val_loss did not improve from 0.18094\n",
      "11352/11352 [==============================] - 9s 754us/sample - loss: 0.0740 - accuracy: 0.9959 - val_loss: 0.2915 - val_accuracy: 0.9605\n",
      "Epoch 48/50\n",
      "11328/11352 [============================>.] - ETA: 0s - loss: 0.0732 - accuracy: 0.9967\n",
      "Epoch 00048: val_loss did not improve from 0.18094\n",
      "11352/11352 [==============================] - 8s 734us/sample - loss: 0.0732 - accuracy: 0.9967 - val_loss: 0.2320 - val_accuracy: 0.9634\n",
      "Epoch 49/50\n",
      "11328/11352 [============================>.] - ETA: 0s - loss: 0.0699 - accuracy: 0.9971\n",
      "Epoch 00049: val_loss did not improve from 0.18094\n",
      "\n",
      "Epoch 00049: ReduceLROnPlateau reducing learning rate to 0.00032768002711236477.\n",
      "11352/11352 [==============================] - 8s 730us/sample - loss: 0.0698 - accuracy: 0.9971 - val_loss: 0.2274 - val_accuracy: 0.9626\n",
      "Epoch 50/50\n",
      "11328/11352 [============================>.] - ETA: 0s - loss: 0.0672 - accuracy: 0.9977\n",
      "Epoch 00050: val_loss did not improve from 0.18094\n",
      "11352/11352 [==============================] - 8s 739us/sample - loss: 0.0673 - accuracy: 0.9976 - val_loss: 0.1866 - val_accuracy: 0.9767\n"
     ]
    }
   ],
   "source": [
    "history=model.fit(x=x_train1,y=y_train,batch_size=64,\n",
    "                  epochs=50,callbacks=cb(fw),\n",
    "                  validation_data=(x_valid1,y_valid))"
   ]
  },
  {
   "cell_type": "code",
   "execution_count": 11,
   "metadata": {},
   "outputs": [
    {
     "name": "stdout",
     "output_type": "stream",
     "text": [
      "1419/1419 [==============================] - 0s 287us/sample - loss: 0.1773 - accuracy: 0.9711\n"
     ]
    },
    {
     "data": {
      "text/plain": [
       "[0.17728023495659012, 0.9711064]"
      ]
     },
     "execution_count": 11,
     "metadata": {},
     "output_type": "execute_result"
    }
   ],
   "source": [
    "model.load_weights(fw)\n",
    "model.evaluate(x_test1,y_test)"
   ]
  },
  {
   "cell_type": "code",
   "execution_count": 12,
   "metadata": {
    "_kg_hide-input": true
   },
   "outputs": [
    {
     "data": {
      "text/html": [
       "<style>\n",
       "    @import url('https://fonts.googleapis.com/css?family=Roboto|Ewert&effect=3d');      \n",
       "    </style><p class='font-effect-3d' onclick='setStyle(this,\"#00ff66\")'\n",
       "    style='font-family:Roboto; font-size:25px; color:#ff355e;'>\n",
       "    #2 mobilenet_v2_075_96</p><script>\n",
       "    function setStyle(element,c) {\n",
       "     var docs=document.getElementsByClassName('font-effect-3d');\n",
       "     for (var i=0; i<docs.length; i++) {\n",
       "         docs[i].style='font-family:Ewert; font-size:22px;'; \n",
       "         docs[i].style.color=c;}; };\n",
       "    </script>"
      ],
      "text/plain": [
       "<IPython.core.display.HTML object>"
      ]
     },
     "metadata": {},
     "output_type": "display_data"
    }
   ],
   "source": [
    "[handle_base,pixels]=[\"mobilenet_v2_075_96\",96]\n",
    "dhtml('#2 '+handle_base)\n",
    "mhandle=\"https://tfhub.dev/google/imagenet/{}/feature_vector/4\"\\\n",
    ".format(handle_base)"
   ]
  },
  {
   "cell_type": "code",
   "execution_count": 13,
   "metadata": {
    "_kg_hide-output": true
   },
   "outputs": [
    {
     "name": "stdout",
     "output_type": "stream",
     "text": [
      "Model: \"sequential_1\"\n",
      "_________________________________________________________________\n",
      "Layer (type)                 Output Shape              Param #   \n",
      "=================================================================\n",
      "keras_layer_1 (KerasLayer)   (None, 1280)              1382064   \n",
      "_________________________________________________________________\n",
      "flatten_1 (Flatten)          (None, 1280)              0         \n",
      "_________________________________________________________________\n",
      "dense_2 (Dense)              (None, 1024)              1311744   \n",
      "_________________________________________________________________\n",
      "dropout_1 (Dropout)          (None, 1024)              0         \n",
      "_________________________________________________________________\n",
      "dense_3 (Dense)              (None, 33)                33825     \n",
      "=================================================================\n",
      "Total params: 2,727,633\n",
      "Trainable params: 2,700,993\n",
      "Non-trainable params: 26,640\n",
      "_________________________________________________________________\n"
     ]
    },
    {
     "data": {
      "text/plain": [
       "None"
      ]
     },
     "metadata": {},
     "output_type": "display_data"
    }
   ],
   "source": [
    "model=premodel(pixels,1024,mhandle,33)"
   ]
  },
  {
   "cell_type": "code",
   "execution_count": 14,
   "metadata": {
    "_kg_hide-output": true
   },
   "outputs": [
    {
     "name": "stdout",
     "output_type": "stream",
     "text": [
      "Train on 11352 samples, validate on 1419 samples\n",
      "Epoch 1/50\n",
      "11328/11352 [============================>.] - ETA: 0s - loss: 1.2867 - accuracy: 0.6525\n",
      "Epoch 00001: val_loss improved from inf to 1.61318, saving model to weights.best.hdf5\n",
      "11352/11352 [==============================] - 19s 2ms/sample - loss: 1.2869 - accuracy: 0.6525 - val_loss: 1.6132 - val_accuracy: 0.7040\n",
      "Epoch 2/50\n",
      "11328/11352 [============================>.] - ETA: 0s - loss: 0.4465 - accuracy: 0.8904\n",
      "Epoch 00002: val_loss improved from 1.61318 to 0.58517, saving model to weights.best.hdf5\n",
      "11352/11352 [==============================] - 12s 1ms/sample - loss: 0.4459 - accuracy: 0.8906 - val_loss: 0.5852 - val_accuracy: 0.8576\n",
      "Epoch 3/50\n",
      "11328/11352 [============================>.] - ETA: 0s - loss: 0.3045 - accuracy: 0.9289\n",
      "Epoch 00003: val_loss did not improve from 0.58517\n",
      "11352/11352 [==============================] - 11s 934us/sample - loss: 0.3045 - accuracy: 0.9289 - val_loss: 0.7277 - val_accuracy: 0.8478\n",
      "Epoch 4/50\n",
      "11328/11352 [============================>.] - ETA: 0s - loss: 0.2701 - accuracy: 0.9390\n",
      "Epoch 00004: val_loss improved from 0.58517 to 0.41985, saving model to weights.best.hdf5\n",
      "11352/11352 [==============================] - 11s 973us/sample - loss: 0.2713 - accuracy: 0.9388 - val_loss: 0.4199 - val_accuracy: 0.9063\n",
      "Epoch 5/50\n",
      "11328/11352 [============================>.] - ETA: 0s - loss: 0.2441 - accuracy: 0.9465\n",
      "Epoch 00005: val_loss improved from 0.41985 to 0.34984, saving model to weights.best.hdf5\n",
      "11352/11352 [==============================] - 11s 967us/sample - loss: 0.2443 - accuracy: 0.9464 - val_loss: 0.3498 - val_accuracy: 0.9260\n",
      "Epoch 6/50\n",
      "11328/11352 [============================>.] - ETA: 0s - loss: 0.2048 - accuracy: 0.9615\n",
      "Epoch 00006: val_loss did not improve from 0.34984\n",
      "11352/11352 [==============================] - 11s 941us/sample - loss: 0.2051 - accuracy: 0.9613 - val_loss: 0.5405 - val_accuracy: 0.8999\n",
      "Epoch 7/50\n",
      "11328/11352 [============================>.] - ETA: 0s - loss: 0.2132 - accuracy: 0.9586\n",
      "Epoch 00007: val_loss did not improve from 0.34984\n",
      "11352/11352 [==============================] - 11s 960us/sample - loss: 0.2141 - accuracy: 0.9583 - val_loss: 0.4907 - val_accuracy: 0.9112\n",
      "Epoch 8/50\n",
      "11328/11352 [============================>.] - ETA: 0s - loss: 0.1943 - accuracy: 0.9646\n",
      "Epoch 00008: val_loss improved from 0.34984 to 0.32045, saving model to weights.best.hdf5\n",
      "11352/11352 [==============================] - 11s 981us/sample - loss: 0.1940 - accuracy: 0.9647 - val_loss: 0.3204 - val_accuracy: 0.9352\n",
      "Epoch 9/50\n",
      "11328/11352 [============================>.] - ETA: 0s - loss: 0.2010 - accuracy: 0.9612\n",
      "Epoch 00009: val_loss did not improve from 0.32045\n",
      "11352/11352 [==============================] - 11s 942us/sample - loss: 0.2012 - accuracy: 0.9610 - val_loss: 0.3209 - val_accuracy: 0.9366\n",
      "Epoch 10/50\n",
      "11328/11352 [============================>.] - ETA: 0s - loss: 0.2014 - accuracy: 0.9643\n",
      "Epoch 00010: val_loss improved from 0.32045 to 0.26186, saving model to weights.best.hdf5\n",
      "11352/11352 [==============================] - 11s 980us/sample - loss: 0.2011 - accuracy: 0.9644 - val_loss: 0.2619 - val_accuracy: 0.9542\n",
      "Epoch 11/50\n",
      "11328/11352 [============================>.] - ETA: 0s - loss: 0.1709 - accuracy: 0.9729\n",
      "Epoch 00011: val_loss did not improve from 0.26186\n",
      "11352/11352 [==============================] - 11s 932us/sample - loss: 0.1715 - accuracy: 0.9728 - val_loss: 0.3347 - val_accuracy: 0.9394\n",
      "Epoch 12/50\n",
      "11328/11352 [============================>.] - ETA: 0s - loss: 0.1904 - accuracy: 0.9677\n",
      "Epoch 00012: val_loss did not improve from 0.26186\n",
      "11352/11352 [==============================] - 11s 951us/sample - loss: 0.1904 - accuracy: 0.9677 - val_loss: 0.2988 - val_accuracy: 0.9535\n",
      "Epoch 13/50\n",
      "11328/11352 [============================>.] - ETA: 0s - loss: 0.1691 - accuracy: 0.9736\n",
      "Epoch 00013: val_loss did not improve from 0.26186\n",
      "11352/11352 [==============================] - 11s 961us/sample - loss: 0.1693 - accuracy: 0.9735 - val_loss: 0.3007 - val_accuracy: 0.9394\n",
      "Epoch 14/50\n",
      "11328/11352 [============================>.] - ETA: 0s - loss: 0.1495 - accuracy: 0.9786\n",
      "Epoch 00014: val_loss did not improve from 0.26186\n",
      "11352/11352 [==============================] - 11s 930us/sample - loss: 0.1498 - accuracy: 0.9784 - val_loss: 0.3089 - val_accuracy: 0.9450\n",
      "Epoch 15/50\n",
      "11328/11352 [============================>.] - ETA: 0s - loss: 0.1930 - accuracy: 0.9682\n",
      "Epoch 00015: val_loss did not improve from 0.26186\n",
      "\n",
      "Epoch 00015: ReduceLROnPlateau reducing learning rate to 0.000800000037997961.\n",
      "11352/11352 [==============================] - 11s 941us/sample - loss: 0.1929 - accuracy: 0.9682 - val_loss: 0.3750 - val_accuracy: 0.9366\n",
      "Epoch 16/50\n",
      "11328/11352 [============================>.] - ETA: 0s - loss: 0.1382 - accuracy: 0.9846\n",
      "Epoch 00016: val_loss improved from 0.26186 to 0.25043, saving model to weights.best.hdf5\n",
      "11352/11352 [==============================] - 11s 983us/sample - loss: 0.1381 - accuracy: 0.9846 - val_loss: 0.2504 - val_accuracy: 0.9612\n",
      "Epoch 17/50\n",
      "11328/11352 [============================>.] - ETA: 0s - loss: 0.1179 - accuracy: 0.9885\n",
      "Epoch 00017: val_loss did not improve from 0.25043\n",
      "11352/11352 [==============================] - 11s 930us/sample - loss: 0.1181 - accuracy: 0.9885 - val_loss: 0.2884 - val_accuracy: 0.9443\n",
      "Epoch 18/50\n",
      "11328/11352 [============================>.] - ETA: 0s - loss: 0.1312 - accuracy: 0.9848\n",
      "Epoch 00018: val_loss did not improve from 0.25043\n",
      "11352/11352 [==============================] - 11s 965us/sample - loss: 0.1311 - accuracy: 0.9848 - val_loss: 0.3777 - val_accuracy: 0.9443\n",
      "Epoch 19/50\n",
      "11328/11352 [============================>.] - ETA: 0s - loss: 0.1397 - accuracy: 0.9842\n",
      "Epoch 00019: val_loss improved from 0.25043 to 0.21781, saving model to weights.best.hdf5\n",
      "11352/11352 [==============================] - 11s 982us/sample - loss: 0.1396 - accuracy: 0.9842 - val_loss: 0.2178 - val_accuracy: 0.9655\n",
      "Epoch 20/50\n",
      "11328/11352 [============================>.] - ETA: 0s - loss: 0.1168 - accuracy: 0.9907\n",
      "Epoch 00020: val_loss did not improve from 0.21781\n",
      "11352/11352 [==============================] - 11s 935us/sample - loss: 0.1167 - accuracy: 0.9908 - val_loss: 0.2545 - val_accuracy: 0.9626\n",
      "Epoch 21/50\n",
      "11328/11352 [============================>.] - ETA: 0s - loss: 0.1119 - accuracy: 0.9912\n",
      "Epoch 00021: val_loss did not improve from 0.21781\n",
      "11352/11352 [==============================] - 11s 936us/sample - loss: 0.1124 - accuracy: 0.9911 - val_loss: 0.3363 - val_accuracy: 0.9464\n",
      "Epoch 22/50\n",
      "11328/11352 [============================>.] - ETA: 0s - loss: 0.1468 - accuracy: 0.9825\n",
      "Epoch 00022: val_loss did not improve from 0.21781\n",
      "11352/11352 [==============================] - 11s 945us/sample - loss: 0.1474 - accuracy: 0.9824 - val_loss: 0.3125 - val_accuracy: 0.9570\n",
      "Epoch 23/50\n",
      "11328/11352 [============================>.] - ETA: 0s - loss: 0.1460 - accuracy: 0.9826\n",
      "Epoch 00023: val_loss did not improve from 0.21781\n",
      "11352/11352 [==============================] - 11s 943us/sample - loss: 0.1458 - accuracy: 0.9826 - val_loss: 0.2499 - val_accuracy: 0.9598\n",
      "Epoch 24/50\n",
      "11328/11352 [============================>.] - ETA: 0s - loss: 0.1525 - accuracy: 0.9811\n",
      "Epoch 00024: val_loss did not improve from 0.21781\n",
      "\n",
      "Epoch 00024: ReduceLROnPlateau reducing learning rate to 0.0006400000303983689.\n",
      "11352/11352 [==============================] - 11s 974us/sample - loss: 0.1527 - accuracy: 0.9811 - val_loss: 0.2768 - val_accuracy: 0.9612\n",
      "Epoch 25/50\n",
      "11328/11352 [============================>.] - ETA: 0s - loss: 0.1238 - accuracy: 0.9893\n",
      "Epoch 00025: val_loss did not improve from 0.21781\n",
      "11352/11352 [==============================] - 11s 936us/sample - loss: 0.1238 - accuracy: 0.9893 - val_loss: 0.2997 - val_accuracy: 0.9549\n",
      "Epoch 26/50\n",
      "11328/11352 [============================>.] - ETA: 0s - loss: 0.1123 - accuracy: 0.9915\n",
      "Epoch 00026: val_loss improved from 0.21781 to 0.18752, saving model to weights.best.hdf5\n",
      "11352/11352 [==============================] - 11s 971us/sample - loss: 0.1123 - accuracy: 0.9915 - val_loss: 0.1875 - val_accuracy: 0.9774\n",
      "Epoch 27/50\n",
      "11328/11352 [============================>.] - ETA: 0s - loss: 0.1077 - accuracy: 0.9931\n",
      "Epoch 00027: val_loss did not improve from 0.18752\n",
      "11352/11352 [==============================] - 11s 944us/sample - loss: 0.1077 - accuracy: 0.9931 - val_loss: 0.2255 - val_accuracy: 0.9683\n",
      "Epoch 28/50\n",
      "11328/11352 [============================>.] - ETA: 0s - loss: 0.1037 - accuracy: 0.9940\n",
      "Epoch 00028: val_loss did not improve from 0.18752\n",
      "11352/11352 [==============================] - 11s 938us/sample - loss: 0.1037 - accuracy: 0.9940 - val_loss: 0.2437 - val_accuracy: 0.9577\n",
      "Epoch 29/50\n",
      "11328/11352 [============================>.] - ETA: 0s - loss: 0.1127 - accuracy: 0.9909\n",
      "Epoch 00029: val_loss did not improve from 0.18752\n",
      "11352/11352 [==============================] - 11s 943us/sample - loss: 0.1127 - accuracy: 0.9909 - val_loss: 0.2105 - val_accuracy: 0.9718\n",
      "Epoch 30/50\n",
      "11328/11352 [============================>.] - ETA: 0s - loss: 0.1116 - accuracy: 0.9917\n",
      "Epoch 00030: val_loss did not improve from 0.18752\n",
      "11352/11352 [==============================] - 11s 942us/sample - loss: 0.1115 - accuracy: 0.9917 - val_loss: 0.2859 - val_accuracy: 0.9563\n",
      "Epoch 31/50\n",
      "11328/11352 [============================>.] - ETA: 0s - loss: 0.1154 - accuracy: 0.9920\n",
      "Epoch 00031: val_loss did not improve from 0.18752\n",
      "\n",
      "Epoch 00031: ReduceLROnPlateau reducing learning rate to 0.0005120000336319208.\n",
      "11352/11352 [==============================] - 11s 935us/sample - loss: 0.1158 - accuracy: 0.9919 - val_loss: 0.3308 - val_accuracy: 0.9528\n",
      "Epoch 32/50\n",
      "11328/11352 [============================>.] - ETA: 0s - loss: 0.1021 - accuracy: 0.9946\n",
      "Epoch 00032: val_loss did not improve from 0.18752\n",
      "11352/11352 [==============================] - 11s 940us/sample - loss: 0.1027 - accuracy: 0.9945 - val_loss: 0.2447 - val_accuracy: 0.9760\n",
      "Epoch 33/50\n",
      "11328/11352 [============================>.] - ETA: 0s - loss: 0.1083 - accuracy: 0.9935\n",
      "Epoch 00033: val_loss did not improve from 0.18752\n",
      "11352/11352 [==============================] - 11s 927us/sample - loss: 0.1088 - accuracy: 0.9934 - val_loss: 0.2842 - val_accuracy: 0.9626\n",
      "Epoch 34/50\n",
      "11328/11352 [============================>.] - ETA: 0s - loss: 0.1101 - accuracy: 0.9931\n",
      "Epoch 00034: val_loss did not improve from 0.18752\n",
      "11352/11352 [==============================] - 11s 943us/sample - loss: 0.1100 - accuracy: 0.9931 - val_loss: 0.2596 - val_accuracy: 0.9598\n",
      "Epoch 35/50\n",
      "11328/11352 [============================>.] - ETA: 0s - loss: 0.1028 - accuracy: 0.9949\n",
      "Epoch 00035: val_loss did not improve from 0.18752\n",
      "11352/11352 [==============================] - 11s 958us/sample - loss: 0.1028 - accuracy: 0.9948 - val_loss: 0.2276 - val_accuracy: 0.9760\n",
      "Epoch 36/50\n",
      "11328/11352 [============================>.] - ETA: 0s - loss: 0.0891 - accuracy: 0.9983\n",
      "Epoch 00036: val_loss did not improve from 0.18752\n",
      "\n",
      "Epoch 00036: ReduceLROnPlateau reducing learning rate to 0.00040960004553198815.\n",
      "11352/11352 [==============================] - 11s 930us/sample - loss: 0.0891 - accuracy: 0.9983 - val_loss: 0.2420 - val_accuracy: 0.9683\n",
      "Epoch 37/50\n",
      "11328/11352 [============================>.] - ETA: 0s - loss: 0.0972 - accuracy: 0.9962\n",
      "Epoch 00037: val_loss did not improve from 0.18752\n",
      "11352/11352 [==============================] - 11s 936us/sample - loss: 0.0971 - accuracy: 0.9962 - val_loss: 0.2888 - val_accuracy: 0.9683\n",
      "Epoch 38/50\n",
      "11328/11352 [============================>.] - ETA: 0s - loss: 0.0982 - accuracy: 0.9954\n",
      "Epoch 00038: val_loss did not improve from 0.18752\n",
      "11352/11352 [==============================] - 11s 931us/sample - loss: 0.0982 - accuracy: 0.9954 - val_loss: 0.2209 - val_accuracy: 0.9711\n",
      "Epoch 39/50\n",
      "11328/11352 [============================>.] - ETA: 0s - loss: 0.0880 - accuracy: 0.9976\n",
      "Epoch 00039: val_loss did not improve from 0.18752\n",
      "11352/11352 [==============================] - 11s 928us/sample - loss: 0.0880 - accuracy: 0.9976 - val_loss: 0.2110 - val_accuracy: 0.9718\n",
      "Epoch 40/50\n",
      "11328/11352 [============================>.] - ETA: 0s - loss: 0.0959 - accuracy: 0.9962\n",
      "Epoch 00040: val_loss did not improve from 0.18752\n",
      "11352/11352 [==============================] - 11s 952us/sample - loss: 0.0959 - accuracy: 0.9962 - val_loss: 0.2310 - val_accuracy: 0.9697\n",
      "Epoch 41/50\n",
      "11328/11352 [============================>.] - ETA: 0s - loss: 0.0881 - accuracy: 0.9974\n",
      "Epoch 00041: val_loss did not improve from 0.18752\n",
      "\n",
      "Epoch 00041: ReduceLROnPlateau reducing learning rate to 0.00032768002711236477.\n",
      "11352/11352 [==============================] - 11s 945us/sample - loss: 0.0881 - accuracy: 0.9974 - val_loss: 0.2381 - val_accuracy: 0.9718\n",
      "Epoch 42/50\n",
      "11328/11352 [============================>.] - ETA: 0s - loss: 0.0942 - accuracy: 0.9960\n",
      "Epoch 00042: val_loss did not improve from 0.18752\n",
      "11352/11352 [==============================] - 11s 936us/sample - loss: 0.0952 - accuracy: 0.9959 - val_loss: 0.2596 - val_accuracy: 0.9669\n",
      "Epoch 43/50\n",
      "11328/11352 [============================>.] - ETA: 0s - loss: 0.0942 - accuracy: 0.9957\n",
      "Epoch 00043: val_loss did not improve from 0.18752\n",
      "11352/11352 [==============================] - 11s 931us/sample - loss: 0.0947 - accuracy: 0.9956 - val_loss: 0.2216 - val_accuracy: 0.9711\n",
      "Epoch 44/50\n",
      "11328/11352 [============================>.] - ETA: 0s - loss: 0.0916 - accuracy: 0.9963\n",
      "Epoch 00044: val_loss did not improve from 0.18752\n",
      "11352/11352 [==============================] - 10s 924us/sample - loss: 0.0916 - accuracy: 0.9963 - val_loss: 0.2287 - val_accuracy: 0.9690\n",
      "Epoch 45/50\n",
      "11328/11352 [============================>.] - ETA: 0s - loss: 0.0910 - accuracy: 0.9972\n",
      "Epoch 00045: val_loss improved from 0.18752 to 0.17309, saving model to weights.best.hdf5\n",
      "11352/11352 [==============================] - 11s 970us/sample - loss: 0.0910 - accuracy: 0.9972 - val_loss: 0.1731 - val_accuracy: 0.9774\n",
      "Epoch 46/50\n",
      "11328/11352 [============================>.] - ETA: 0s - loss: 0.0820 - accuracy: 0.9990\n",
      "Epoch 00046: val_loss did not improve from 0.17309\n",
      "11352/11352 [==============================] - 11s 952us/sample - loss: 0.0820 - accuracy: 0.9990 - val_loss: 0.2141 - val_accuracy: 0.9767\n",
      "Epoch 47/50\n",
      "11328/11352 [============================>.] - ETA: 0s - loss: 0.0877 - accuracy: 0.9973\n",
      "Epoch 00047: val_loss did not improve from 0.17309\n",
      "11352/11352 [==============================] - 11s 944us/sample - loss: 0.0877 - accuracy: 0.9973 - val_loss: 0.2075 - val_accuracy: 0.9711\n",
      "Epoch 48/50\n",
      "11328/11352 [============================>.] - ETA: 0s - loss: 0.1003 - accuracy: 0.9952\n",
      "Epoch 00048: val_loss did not improve from 0.17309\n",
      "11352/11352 [==============================] - 11s 935us/sample - loss: 0.1003 - accuracy: 0.9952 - val_loss: 0.2233 - val_accuracy: 0.9725\n",
      "Epoch 49/50\n",
      "11328/11352 [============================>.] - ETA: 0s - loss: 0.0839 - accuracy: 0.9981\n",
      "Epoch 00049: val_loss did not improve from 0.17309\n",
      "11352/11352 [==============================] - 11s 928us/sample - loss: 0.0839 - accuracy: 0.9982 - val_loss: 0.2151 - val_accuracy: 0.9753\n",
      "Epoch 50/50\n",
      "11328/11352 [============================>.] - ETA: 0s - loss: 0.0803 - accuracy: 0.9986\n",
      "Epoch 00050: val_loss did not improve from 0.17309\n",
      "\n",
      "Epoch 00050: ReduceLROnPlateau reducing learning rate to 0.0002621440216898918.\n",
      "11352/11352 [==============================] - 11s 926us/sample - loss: 0.0803 - accuracy: 0.9986 - val_loss: 0.1926 - val_accuracy: 0.9796\n"
     ]
    }
   ],
   "source": [
    "history=model.fit(x=x_train1,y=y_train,batch_size=64,\n",
    "                  epochs=50,callbacks=cb(fw),\n",
    "                  validation_data=(x_valid1,y_valid))"
   ]
  },
  {
   "cell_type": "code",
   "execution_count": 15,
   "metadata": {},
   "outputs": [
    {
     "name": "stdout",
     "output_type": "stream",
     "text": [
      "1419/1419 [==============================] - 1s 372us/sample - loss: 0.1732 - accuracy: 0.9760\n"
     ]
    },
    {
     "data": {
      "text/plain": [
       "[0.17316483703610594, 0.97603947]"
      ]
     },
     "execution_count": 15,
     "metadata": {},
     "output_type": "execute_result"
    }
   ],
   "source": [
    "model.load_weights(fw)\n",
    "model.evaluate(x_test1,y_test)"
   ]
  },
  {
   "cell_type": "code",
   "execution_count": 16,
   "metadata": {
    "_kg_hide-input": true
   },
   "outputs": [
    {
     "data": {
      "text/html": [
       "<style>\n",
       "    @import url('https://fonts.googleapis.com/css?family=Roboto|Ewert&effect=3d');      \n",
       "    </style><p class='font-effect-3d' onclick='setStyle(this,\"#00ff66\")'\n",
       "    style='font-family:Roboto; font-size:25px; color:#ff355e;'>\n",
       "    #3 mobilenet_v1_100_128</p><script>\n",
       "    function setStyle(element,c) {\n",
       "     var docs=document.getElementsByClassName('font-effect-3d');\n",
       "     for (var i=0; i<docs.length; i++) {\n",
       "         docs[i].style='font-family:Ewert; font-size:22px;'; \n",
       "         docs[i].style.color=c;}; };\n",
       "    </script>"
      ],
      "text/plain": [
       "<IPython.core.display.HTML object>"
      ]
     },
     "metadata": {},
     "output_type": "display_data"
    }
   ],
   "source": [
    "[handle_base,pixels]=[\"mobilenet_v1_100_128\",128]\n",
    "dhtml('#3 '+handle_base)\n",
    "mhandle=\"https://tfhub.dev/google/imagenet/{}/feature_vector/4\"\\\n",
    ".format(handle_base)"
   ]
  },
  {
   "cell_type": "code",
   "execution_count": 17,
   "metadata": {},
   "outputs": [
    {
     "data": {
      "image/png": "[encoded data removed]",
      "text/plain": [
       "<Figure size 432x288 with 1 Axes>"
      ]
     },
     "metadata": {
      "needs_background": "light"
     },
     "output_type": "display_data"
    }
   ],
   "source": [
    "[x_train1,x_valid1,x_test1]=\\\n",
    "display_resize(x_train,x_valid,x_test,\n",
    "               y_valid,pixels)"
   ]
  },
  {
   "cell_type": "code",
   "execution_count": 18,
   "metadata": {
    "_kg_hide-output": true
   },
   "outputs": [
    {
     "name": "stdout",
     "output_type": "stream",
     "text": [
      "Model: \"sequential_2\"\n",
      "_________________________________________________________________\n",
      "Layer (type)                 Output Shape              Param #   \n",
      "=================================================================\n",
      "keras_layer_2 (KerasLayer)   (None, 1024)              3228864   \n",
      "_________________________________________________________________\n",
      "flatten_2 (Flatten)          (None, 1024)              0         \n",
      "_________________________________________________________________\n",
      "dense_4 (Dense)              (None, 1024)              1049600   \n",
      "_________________________________________________________________\n",
      "dropout_2 (Dropout)          (None, 1024)              0         \n",
      "_________________________________________________________________\n",
      "dense_5 (Dense)              (None, 33)                33825     \n",
      "=================================================================\n",
      "Total params: 4,312,289\n",
      "Trainable params: 4,290,401\n",
      "Non-trainable params: 21,888\n",
      "_________________________________________________________________\n"
     ]
    },
    {
     "data": {
      "text/plain": [
       "None"
      ]
     },
     "metadata": {},
     "output_type": "display_data"
    }
   ],
   "source": [
    "model=premodel(pixels,1024,mhandle,33)"
   ]
  },
  {
   "cell_type": "code",
   "execution_count": 19,
   "metadata": {
    "_kg_hide-output": true
   },
   "outputs": [
    {
     "name": "stdout",
     "output_type": "stream",
     "text": [
      "Train on 11352 samples, validate on 1419 samples\n",
      "Epoch 1/50\n",
      "11328/11352 [============================>.] - ETA: 0s - loss: 1.2532 - accuracy: 0.6859\n",
      "Epoch 00001: val_loss improved from inf to 0.88238, saving model to weights.best.hdf5\n",
      "11352/11352 [==============================] - 22s 2ms/sample - loss: 1.2517 - accuracy: 0.6863 - val_loss: 0.8824 - val_accuracy: 0.7879\n",
      "Epoch 2/50\n",
      "11328/11352 [============================>.] - ETA: 0s - loss: 0.3850 - accuracy: 0.9224\n",
      "Epoch 00002: val_loss improved from 0.88238 to 0.58860, saving model to weights.best.hdf5\n",
      "11352/11352 [==============================] - 17s 1ms/sample - loss: 0.3856 - accuracy: 0.9221 - val_loss: 0.5886 - val_accuracy: 0.8668\n",
      "Epoch 3/50\n",
      "11328/11352 [============================>.] - ETA: 0s - loss: 0.3063 - accuracy: 0.9495\n",
      "Epoch 00003: val_loss improved from 0.58860 to 0.42393, saving model to weights.best.hdf5\n",
      "11352/11352 [==============================] - 17s 1ms/sample - loss: 0.3068 - accuracy: 0.9495 - val_loss: 0.4239 - val_accuracy: 0.9246\n",
      "Epoch 4/50\n",
      "11328/11352 [============================>.] - ETA: 0s - loss: 0.2732 - accuracy: 0.9612\n",
      "Epoch 00004: val_loss did not improve from 0.42393\n",
      "11352/11352 [==============================] - 17s 1ms/sample - loss: 0.2738 - accuracy: 0.9610 - val_loss: 0.4671 - val_accuracy: 0.9260\n",
      "Epoch 5/50\n",
      "11328/11352 [============================>.] - ETA: 0s - loss: 0.2629 - accuracy: 0.9674\n",
      "Epoch 00005: val_loss improved from 0.42393 to 0.36085, saving model to weights.best.hdf5\n",
      "11352/11352 [==============================] - 17s 1ms/sample - loss: 0.2631 - accuracy: 0.9674 - val_loss: 0.3608 - val_accuracy: 0.9486\n",
      "Epoch 6/50\n",
      "11328/11352 [============================>.] - ETA: 0s - loss: 0.2517 - accuracy: 0.9697\n",
      "Epoch 00006: val_loss did not improve from 0.36085\n",
      "11352/11352 [==============================] - 17s 1ms/sample - loss: 0.2516 - accuracy: 0.9698 - val_loss: 0.5648 - val_accuracy: 0.9006\n",
      "Epoch 7/50\n",
      "11328/11352 [============================>.] - ETA: 0s - loss: 0.2393 - accuracy: 0.9747\n",
      "Epoch 00007: val_loss did not improve from 0.36085\n",
      "11352/11352 [==============================] - 17s 1ms/sample - loss: 0.2393 - accuracy: 0.9746 - val_loss: 0.3853 - val_accuracy: 0.9429\n",
      "Epoch 8/50\n",
      "11328/11352 [============================>.] - ETA: 0s - loss: 0.2456 - accuracy: 0.9718\n",
      "Epoch 00008: val_loss did not improve from 0.36085\n",
      "11352/11352 [==============================] - 17s 1ms/sample - loss: 0.2454 - accuracy: 0.9718 - val_loss: 0.3789 - val_accuracy: 0.9542\n",
      "Epoch 9/50\n",
      "11328/11352 [============================>.] - ETA: 0s - loss: 0.2182 - accuracy: 0.9803\n",
      "Epoch 00009: val_loss did not improve from 0.36085\n",
      "11352/11352 [==============================] - 17s 1ms/sample - loss: 0.2181 - accuracy: 0.9804 - val_loss: 0.6404 - val_accuracy: 0.8901\n",
      "Epoch 10/50\n",
      "11328/11352 [============================>.] - ETA: 0s - loss: 0.2520 - accuracy: 0.9754\n",
      "Epoch 00010: val_loss did not improve from 0.36085\n",
      "\n",
      "Epoch 00010: ReduceLROnPlateau reducing learning rate to 0.000800000037997961.\n",
      "11352/11352 [==============================] - 17s 1ms/sample - loss: 0.2522 - accuracy: 0.9752 - val_loss: 0.6145 - val_accuracy: 0.9070\n",
      "Epoch 11/50\n",
      "11328/11352 [============================>.] - ETA: 0s - loss: 0.2266 - accuracy: 0.9813\n",
      "Epoch 00011: val_loss improved from 0.36085 to 0.30578, saving model to weights.best.hdf5\n",
      "11352/11352 [==============================] - 17s 2ms/sample - loss: 0.2267 - accuracy: 0.9812 - val_loss: 0.3058 - val_accuracy: 0.9641\n",
      "Epoch 12/50\n",
      "11328/11352 [============================>.] - ETA: 0s - loss: 0.1781 - accuracy: 0.9928\n",
      "Epoch 00012: val_loss improved from 0.30578 to 0.26467, saving model to weights.best.hdf5\n",
      "11352/11352 [==============================] - 17s 2ms/sample - loss: 0.1789 - accuracy: 0.9927 - val_loss: 0.2647 - val_accuracy: 0.9767\n",
      "Epoch 13/50\n",
      "11328/11352 [============================>.] - ETA: 0s - loss: 0.1909 - accuracy: 0.9892\n",
      "Epoch 00013: val_loss did not improve from 0.26467\n",
      "11352/11352 [==============================] - 17s 1ms/sample - loss: 0.1908 - accuracy: 0.9893 - val_loss: 0.2988 - val_accuracy: 0.9662\n",
      "Epoch 14/50\n",
      "11328/11352 [============================>.] - ETA: 0s - loss: 0.2008 - accuracy: 0.9873\n",
      "Epoch 00014: val_loss did not improve from 0.26467\n",
      "11352/11352 [==============================] - 17s 1ms/sample - loss: 0.2007 - accuracy: 0.9873 - val_loss: 0.2814 - val_accuracy: 0.9683\n",
      "Epoch 15/50\n",
      "11328/11352 [============================>.] - ETA: 0s - loss: 0.2051 - accuracy: 0.9865\n",
      "Epoch 00015: val_loss did not improve from 0.26467\n",
      "11352/11352 [==============================] - 17s 1ms/sample - loss: 0.2050 - accuracy: 0.9865 - val_loss: 0.3809 - val_accuracy: 0.9486\n",
      "Epoch 16/50\n",
      "11328/11352 [============================>.] - ETA: 0s - loss: 0.2049 - accuracy: 0.9863\n",
      "Epoch 00016: val_loss did not improve from 0.26467\n",
      "11352/11352 [==============================] - 17s 1ms/sample - loss: 0.2051 - accuracy: 0.9862 - val_loss: 0.6122 - val_accuracy: 0.9232\n",
      "Epoch 17/50\n",
      "11328/11352 [============================>.] - ETA: 0s - loss: 0.2283 - accuracy: 0.9805\n",
      "Epoch 00017: val_loss did not improve from 0.26467\n",
      "\n",
      "Epoch 00017: ReduceLROnPlateau reducing learning rate to 0.0006400000303983689.\n",
      "11352/11352 [==============================] - 17s 1ms/sample - loss: 0.2282 - accuracy: 0.9805 - val_loss: 0.3515 - val_accuracy: 0.9641\n",
      "Epoch 18/50\n",
      "11328/11352 [============================>.] - ETA: 0s - loss: 0.1781 - accuracy: 0.9934\n",
      "Epoch 00018: val_loss did not improve from 0.26467\n",
      "11352/11352 [==============================] - 17s 1ms/sample - loss: 0.1781 - accuracy: 0.9934 - val_loss: 0.3129 - val_accuracy: 0.9711\n",
      "Epoch 19/50\n",
      "11328/11352 [============================>.] - ETA: 0s - loss: 0.1854 - accuracy: 0.9920\n",
      "Epoch 00019: val_loss did not improve from 0.26467\n",
      "11352/11352 [==============================] - 17s 1ms/sample - loss: 0.1859 - accuracy: 0.9918 - val_loss: 0.3396 - val_accuracy: 0.9634\n",
      "Epoch 20/50\n",
      "11328/11352 [============================>.] - ETA: 0s - loss: 0.1945 - accuracy: 0.9905\n",
      "Epoch 00020: val_loss improved from 0.26467 to 0.26448, saving model to weights.best.hdf5\n",
      "11352/11352 [==============================] - 17s 1ms/sample - loss: 0.1946 - accuracy: 0.9905 - val_loss: 0.2645 - val_accuracy: 0.9753\n",
      "Epoch 21/50\n",
      "11328/11352 [============================>.] - ETA: 0s - loss: 0.1672 - accuracy: 0.9953\n",
      "Epoch 00021: val_loss did not improve from 0.26448\n",
      "11352/11352 [==============================] - 17s 1ms/sample - loss: 0.1671 - accuracy: 0.9953 - val_loss: 0.3187 - val_accuracy: 0.9739\n",
      "Epoch 22/50\n",
      "11328/11352 [============================>.] - ETA: 0s - loss: 0.1629 - accuracy: 0.9971\n",
      "Epoch 00022: val_loss did not improve from 0.26448\n",
      "11352/11352 [==============================] - 17s 1ms/sample - loss: 0.1629 - accuracy: 0.9971 - val_loss: 0.3079 - val_accuracy: 0.9718\n",
      "Epoch 23/50\n",
      "11328/11352 [============================>.] - ETA: 0s - loss: 0.1680 - accuracy: 0.9955\n",
      "Epoch 00023: val_loss did not improve from 0.26448\n",
      "11352/11352 [==============================] - 17s 1ms/sample - loss: 0.1680 - accuracy: 0.9955 - val_loss: 0.3576 - val_accuracy: 0.9605\n",
      "Epoch 24/50\n",
      "11328/11352 [============================>.] - ETA: 0s - loss: 0.1888 - accuracy: 0.9886\n",
      "Epoch 00024: val_loss did not improve from 0.26448\n",
      "11352/11352 [==============================] - 17s 1ms/sample - loss: 0.1911 - accuracy: 0.9884 - val_loss: 0.4732 - val_accuracy: 0.9450\n",
      "Epoch 25/50\n",
      "11328/11352 [============================>.] - ETA: 0s - loss: 0.2375 - accuracy: 0.9787\n",
      "Epoch 00025: val_loss did not improve from 0.26448\n",
      "\n",
      "Epoch 00025: ReduceLROnPlateau reducing learning rate to 0.0005120000336319208.\n",
      "11352/11352 [==============================] - 17s 1ms/sample - loss: 0.2374 - accuracy: 0.9787 - val_loss: 0.4388 - val_accuracy: 0.9486\n",
      "Epoch 26/50\n",
      "11328/11352 [============================>.] - ETA: 0s - loss: 0.1867 - accuracy: 0.9921\n",
      "Epoch 00026: val_loss did not improve from 0.26448\n",
      "11352/11352 [==============================] - 17s 1ms/sample - loss: 0.1866 - accuracy: 0.9921 - val_loss: 0.3285 - val_accuracy: 0.9697\n",
      "Epoch 27/50\n",
      "11328/11352 [============================>.] - ETA: 0s - loss: 0.1749 - accuracy: 0.9940\n",
      "Epoch 00027: val_loss improved from 0.26448 to 0.25120, saving model to weights.best.hdf5\n",
      "11352/11352 [==============================] - 17s 2ms/sample - loss: 0.1750 - accuracy: 0.9939 - val_loss: 0.2512 - val_accuracy: 0.9760\n",
      "Epoch 28/50\n",
      "11328/11352 [============================>.] - ETA: 0s - loss: 0.1685 - accuracy: 0.9950\n",
      "Epoch 00028: val_loss did not improve from 0.25120\n",
      "11352/11352 [==============================] - 17s 1ms/sample - loss: 0.1685 - accuracy: 0.9950 - val_loss: 0.2809 - val_accuracy: 0.9725\n",
      "Epoch 29/50\n",
      "11328/11352 [============================>.] - ETA: 0s - loss: 0.1602 - accuracy: 0.9964\n",
      "Epoch 00029: val_loss did not improve from 0.25120\n",
      "11352/11352 [==============================] - 17s 1ms/sample - loss: 0.1609 - accuracy: 0.9963 - val_loss: 0.2605 - val_accuracy: 0.9711\n",
      "Epoch 30/50\n",
      "11328/11352 [============================>.] - ETA: 0s - loss: 0.1629 - accuracy: 0.9954\n",
      "Epoch 00030: val_loss did not improve from 0.25120\n",
      "11352/11352 [==============================] - 17s 1ms/sample - loss: 0.1629 - accuracy: 0.9954 - val_loss: 0.2968 - val_accuracy: 0.9690\n",
      "Epoch 31/50\n",
      "11328/11352 [============================>.] - ETA: 0s - loss: 0.1658 - accuracy: 0.9950\n",
      "Epoch 00031: val_loss did not improve from 0.25120\n",
      "11352/11352 [==============================] - 17s 1ms/sample - loss: 0.1658 - accuracy: 0.9950 - val_loss: 0.2875 - val_accuracy: 0.9746\n",
      "Epoch 32/50\n",
      "11328/11352 [============================>.] - ETA: 0s - loss: 0.1588 - accuracy: 0.9961\n",
      "Epoch 00032: val_loss did not improve from 0.25120\n",
      "\n",
      "Epoch 00032: ReduceLROnPlateau reducing learning rate to 0.00040960004553198815.\n",
      "11352/11352 [==============================] - 17s 1ms/sample - loss: 0.1588 - accuracy: 0.9961 - val_loss: 0.3747 - val_accuracy: 0.9676\n",
      "Epoch 33/50\n",
      "11328/11352 [============================>.] - ETA: 0s - loss: 0.1499 - accuracy: 0.9981\n",
      "Epoch 00033: val_loss did not improve from 0.25120\n",
      "11352/11352 [==============================] - 17s 1ms/sample - loss: 0.1505 - accuracy: 0.9980 - val_loss: 0.2615 - val_accuracy: 0.9767\n",
      "Epoch 34/50\n",
      "11328/11352 [============================>.] - ETA: 0s - loss: 0.1483 - accuracy: 0.9979\n",
      "Epoch 00034: val_loss improved from 0.25120 to 0.24982, saving model to weights.best.hdf5\n",
      "11352/11352 [==============================] - 17s 1ms/sample - loss: 0.1483 - accuracy: 0.9979 - val_loss: 0.2498 - val_accuracy: 0.9725\n",
      "Epoch 35/50\n",
      "11328/11352 [============================>.] - ETA: 0s - loss: 0.1473 - accuracy: 0.9981\n",
      "Epoch 00035: val_loss did not improve from 0.24982\n",
      "11352/11352 [==============================] - 17s 1ms/sample - loss: 0.1473 - accuracy: 0.9981 - val_loss: 0.3145 - val_accuracy: 0.9662\n",
      "Epoch 36/50\n",
      "11328/11352 [============================>.] - ETA: 0s - loss: 0.1458 - accuracy: 0.9975\n",
      "Epoch 00036: val_loss did not improve from 0.24982\n",
      "11352/11352 [==============================] - 17s 1ms/sample - loss: 0.1458 - accuracy: 0.9975 - val_loss: 0.2859 - val_accuracy: 0.9725\n",
      "Epoch 37/50\n",
      "11328/11352 [============================>.] - ETA: 0s - loss: 0.1453 - accuracy: 0.9970\n",
      "Epoch 00037: val_loss did not improve from 0.24982\n",
      "11352/11352 [==============================] - 17s 1ms/sample - loss: 0.1453 - accuracy: 0.9970 - val_loss: 0.3167 - val_accuracy: 0.9697\n",
      "Epoch 38/50\n",
      "11328/11352 [============================>.] - ETA: 0s - loss: 0.1592 - accuracy: 0.9954\n",
      "Epoch 00038: val_loss did not improve from 0.24982\n",
      "11352/11352 [==============================] - 17s 1ms/sample - loss: 0.1592 - accuracy: 0.9954 - val_loss: 0.2795 - val_accuracy: 0.9697\n",
      "Epoch 39/50\n",
      "11328/11352 [============================>.] - ETA: 0s - loss: 0.1507 - accuracy: 0.9959\n",
      "Epoch 00039: val_loss did not improve from 0.24982\n",
      "\n",
      "Epoch 00039: ReduceLROnPlateau reducing learning rate to 0.00032768002711236477.\n",
      "11352/11352 [==============================] - 17s 1ms/sample - loss: 0.1507 - accuracy: 0.9959 - val_loss: 0.3446 - val_accuracy: 0.9584\n",
      "Epoch 40/50\n",
      "11328/11352 [============================>.] - ETA: 0s - loss: 0.1400 - accuracy: 0.9966\n",
      "Epoch 00040: val_loss did not improve from 0.24982\n",
      "11352/11352 [==============================] - 17s 1ms/sample - loss: 0.1400 - accuracy: 0.9967 - val_loss: 0.2567 - val_accuracy: 0.9789\n",
      "Epoch 41/50\n",
      "11328/11352 [============================>.] - ETA: 0s - loss: 0.1374 - accuracy: 0.9977\n",
      "Epoch 00041: val_loss did not improve from 0.24982\n",
      "11352/11352 [==============================] - 17s 1ms/sample - loss: 0.1374 - accuracy: 0.9977 - val_loss: 0.2741 - val_accuracy: 0.9690\n",
      "Epoch 42/50\n",
      "11328/11352 [============================>.] - ETA: 0s - loss: 0.1361 - accuracy: 0.9977\n",
      "Epoch 00042: val_loss did not improve from 0.24982\n",
      "11352/11352 [==============================] - 17s 1ms/sample - loss: 0.1360 - accuracy: 0.9977 - val_loss: 0.2605 - val_accuracy: 0.9753\n",
      "Epoch 43/50\n",
      "11328/11352 [============================>.] - ETA: 0s - loss: 0.1345 - accuracy: 0.9983\n",
      "Epoch 00043: val_loss improved from 0.24982 to 0.24037, saving model to weights.best.hdf5\n",
      "11352/11352 [==============================] - 17s 2ms/sample - loss: 0.1345 - accuracy: 0.9983 - val_loss: 0.2404 - val_accuracy: 0.9789\n",
      "Epoch 44/50\n",
      "11328/11352 [============================>.] - ETA: 0s - loss: 0.1377 - accuracy: 0.9967\n",
      "Epoch 00044: val_loss did not improve from 0.24037\n",
      "11352/11352 [==============================] - 17s 1ms/sample - loss: 0.1380 - accuracy: 0.9967 - val_loss: 0.2412 - val_accuracy: 0.9767\n",
      "Epoch 45/50\n",
      "11328/11352 [============================>.] - ETA: 0s - loss: 0.1344 - accuracy: 0.9981\n",
      "Epoch 00045: val_loss did not improve from 0.24037\n",
      "11352/11352 [==============================] - 17s 1ms/sample - loss: 0.1344 - accuracy: 0.9981 - val_loss: 0.2675 - val_accuracy: 0.9725\n",
      "Epoch 46/50\n",
      "11328/11352 [============================>.] - ETA: 0s - loss: 0.1339 - accuracy: 0.9968\n",
      "Epoch 00046: val_loss did not improve from 0.24037\n",
      "11352/11352 [==============================] - 17s 1ms/sample - loss: 0.1342 - accuracy: 0.9967 - val_loss: 0.2802 - val_accuracy: 0.9718\n",
      "Epoch 47/50\n",
      "11328/11352 [============================>.] - ETA: 0s - loss: 0.1407 - accuracy: 0.9955\n",
      "Epoch 00047: val_loss did not improve from 0.24037\n",
      "11352/11352 [==============================] - 17s 1ms/sample - loss: 0.1409 - accuracy: 0.9953 - val_loss: 0.2635 - val_accuracy: 0.9711\n",
      "Epoch 48/50\n",
      "11328/11352 [============================>.] - ETA: 0s - loss: 0.1371 - accuracy: 0.9959\n",
      "Epoch 00048: val_loss improved from 0.24037 to 0.21630, saving model to weights.best.hdf5\n",
      "11352/11352 [==============================] - 17s 1ms/sample - loss: 0.1371 - accuracy: 0.9959 - val_loss: 0.2163 - val_accuracy: 0.9782\n",
      "Epoch 49/50\n",
      "11328/11352 [============================>.] - ETA: 0s - loss: 0.1302 - accuracy: 0.9973\n",
      "Epoch 00049: val_loss did not improve from 0.21630\n",
      "11352/11352 [==============================] - 17s 1ms/sample - loss: 0.1302 - accuracy: 0.9973 - val_loss: 0.2567 - val_accuracy: 0.9774\n",
      "Epoch 50/50\n",
      "11328/11352 [============================>.] - ETA: 0s - loss: 0.1279 - accuracy: 0.9979\n",
      "Epoch 00050: val_loss did not improve from 0.21630\n",
      "11352/11352 [==============================] - 17s 1ms/sample - loss: 0.1279 - accuracy: 0.9979 - val_loss: 0.2379 - val_accuracy: 0.9767\n"
     ]
    }
   ],
   "source": [
    "history=model.fit(x=x_train1,y=y_train,batch_size=64,\n",
    "                  epochs=50,callbacks=cb(fw),\n",
    "                  validation_data=(x_valid1,y_valid))"
   ]
  },
  {
   "cell_type": "code",
   "execution_count": 20,
   "metadata": {},
   "outputs": [
    {
     "name": "stdout",
     "output_type": "stream",
     "text": [
      "1419/1419 [==============================] - 1s 434us/sample - loss: 0.1957 - accuracy: 0.9796\n"
     ]
    },
    {
     "data": {
      "text/plain": [
       "[0.1957087892044002, 0.97956306]"
      ]
     },
     "execution_count": 20,
     "metadata": {},
     "output_type": "execute_result"
    }
   ],
   "source": [
    "model.load_weights(fw)\n",
    "model.evaluate(x_test1,y_test)"
   ]
  },
  {
   "cell_type": "code",
   "execution_count": 21,
   "metadata": {
    "_kg_hide-input": true
   },
   "outputs": [
    {
     "data": {
      "text/html": [
       "<style>\n",
       "    @import url('https://fonts.googleapis.com/css?family=Roboto|Ewert&effect=3d');      \n",
       "    </style><p class='font-effect-3d' onclick='setStyle(this,\"#00ff66\")'\n",
       "    style='font-family:Roboto; font-size:25px; color:#ff355e;'>\n",
       "    #4 mobilenet_v2_050_128</p><script>\n",
       "    function setStyle(element,c) {\n",
       "     var docs=document.getElementsByClassName('font-effect-3d');\n",
       "     for (var i=0; i<docs.length; i++) {\n",
       "         docs[i].style='font-family:Ewert; font-size:22px;'; \n",
       "         docs[i].style.color=c;}; };\n",
       "    </script>"
      ],
      "text/plain": [
       "<IPython.core.display.HTML object>"
      ]
     },
     "metadata": {},
     "output_type": "display_data"
    }
   ],
   "source": [
    "[handle_base,pixels]=[\"mobilenet_v2_050_128\",128]\n",
    "dhtml('#4 '+handle_base)\n",
    "mhandle=\"https://tfhub.dev/google/imagenet/{}/feature_vector/4\"\\\n",
    ".format(handle_base)"
   ]
  },
  {
   "cell_type": "code",
   "execution_count": 22,
   "metadata": {
    "_kg_hide-output": true
   },
   "outputs": [
    {
     "name": "stdout",
     "output_type": "stream",
     "text": [
      "Model: \"sequential_3\"\n",
      "_________________________________________________________________\n",
      "Layer (type)                 Output Shape              Param #   \n",
      "=================================================================\n",
      "keras_layer_3 (KerasLayer)   (None, 1280)              706224    \n",
      "_________________________________________________________________\n",
      "flatten_3 (Flatten)          (None, 1280)              0         \n",
      "_________________________________________________________________\n",
      "dense_6 (Dense)              (None, 1024)              1311744   \n",
      "_________________________________________________________________\n",
      "dropout_3 (Dropout)          (None, 1024)              0         \n",
      "_________________________________________________________________\n",
      "dense_7 (Dense)              (None, 33)                33825     \n",
      "=================================================================\n",
      "Total params: 2,051,793\n",
      "Trainable params: 2,033,249\n",
      "Non-trainable params: 18,544\n",
      "_________________________________________________________________\n"
     ]
    },
    {
     "data": {
      "text/plain": [
       "None"
      ]
     },
     "metadata": {},
     "output_type": "display_data"
    }
   ],
   "source": [
    "model=premodel(pixels,1024,mhandle,33)"
   ]
  },
  {
   "cell_type": "code",
   "execution_count": 23,
   "metadata": {
    "_kg_hide-output": true
   },
   "outputs": [
    {
     "name": "stdout",
     "output_type": "stream",
     "text": [
      "Train on 11352 samples, validate on 1419 samples\n",
      "Epoch 1/50\n",
      "11328/11352 [============================>.] - ETA: 0s - loss: 1.2589 - accuracy: 0.6462\n",
      "Epoch 00001: val_loss improved from inf to 1.81691, saving model to weights.best.hdf5\n",
      "11352/11352 [==============================] - 20s 2ms/sample - loss: 1.2578 - accuracy: 0.6464 - val_loss: 1.8169 - val_accuracy: 0.6385\n",
      "Epoch 2/50\n",
      "11328/11352 [============================>.] - ETA: 0s - loss: 0.3696 - accuracy: 0.9017\n",
      "Epoch 00002: val_loss improved from 1.81691 to 0.63443, saving model to weights.best.hdf5\n",
      "11352/11352 [==============================] - 13s 1ms/sample - loss: 0.3692 - accuracy: 0.9019 - val_loss: 0.6344 - val_accuracy: 0.8450\n",
      "Epoch 3/50\n",
      "11328/11352 [============================>.] - ETA: 0s - loss: 0.2429 - accuracy: 0.9371\n",
      "Epoch 00003: val_loss did not improve from 0.63443\n",
      "11352/11352 [==============================] - 13s 1ms/sample - loss: 0.2438 - accuracy: 0.9369 - val_loss: 0.7045 - val_accuracy: 0.8386\n",
      "Epoch 4/50\n",
      "11328/11352 [============================>.] - ETA: 0s - loss: 0.2152 - accuracy: 0.9496\n",
      "Epoch 00004: val_loss improved from 0.63443 to 0.42090, saving model to weights.best.hdf5\n",
      "11352/11352 [==============================] - 14s 1ms/sample - loss: 0.2151 - accuracy: 0.9496 - val_loss: 0.4209 - val_accuracy: 0.9027\n",
      "Epoch 5/50\n",
      "11328/11352 [============================>.] - ETA: 0s - loss: 0.2133 - accuracy: 0.9525\n",
      "Epoch 00005: val_loss did not improve from 0.42090\n",
      "11352/11352 [==============================] - 13s 1ms/sample - loss: 0.2134 - accuracy: 0.9524 - val_loss: 0.8538 - val_accuracy: 0.8252\n",
      "Epoch 6/50\n",
      "11328/11352 [============================>.] - ETA: 0s - loss: 0.1860 - accuracy: 0.9572\n",
      "Epoch 00006: val_loss improved from 0.42090 to 0.35157, saving model to weights.best.hdf5\n",
      "11352/11352 [==============================] - 13s 1ms/sample - loss: 0.1867 - accuracy: 0.9570 - val_loss: 0.3516 - val_accuracy: 0.9161\n",
      "Epoch 7/50\n",
      "11328/11352 [============================>.] - ETA: 0s - loss: 0.1730 - accuracy: 0.9639\n",
      "Epoch 00007: val_loss improved from 0.35157 to 0.27431, saving model to weights.best.hdf5\n",
      "11352/11352 [==============================] - 13s 1ms/sample - loss: 0.1733 - accuracy: 0.9639 - val_loss: 0.2743 - val_accuracy: 0.9387\n",
      "Epoch 8/50\n",
      "11328/11352 [============================>.] - ETA: 0s - loss: 0.1407 - accuracy: 0.9706\n",
      "Epoch 00008: val_loss did not improve from 0.27431\n",
      "11352/11352 [==============================] - 13s 1ms/sample - loss: 0.1412 - accuracy: 0.9705 - val_loss: 0.5461 - val_accuracy: 0.8908\n",
      "Epoch 9/50\n",
      "11328/11352 [============================>.] - ETA: 0s - loss: 0.1538 - accuracy: 0.9691\n",
      "Epoch 00009: val_loss did not improve from 0.27431\n",
      "11352/11352 [==============================] - 13s 1ms/sample - loss: 0.1540 - accuracy: 0.9691 - val_loss: 0.3591 - val_accuracy: 0.9267\n",
      "Epoch 10/50\n",
      "11328/11352 [============================>.] - ETA: 0s - loss: 0.1535 - accuracy: 0.9689\n",
      "Epoch 00010: val_loss did not improve from 0.27431\n",
      "11352/11352 [==============================] - 13s 1ms/sample - loss: 0.1538 - accuracy: 0.9688 - val_loss: 0.3512 - val_accuracy: 0.9260\n",
      "Epoch 11/50\n",
      "11328/11352 [============================>.] - ETA: 0s - loss: 0.1277 - accuracy: 0.9775\n",
      "Epoch 00011: val_loss improved from 0.27431 to 0.24488, saving model to weights.best.hdf5\n",
      "11352/11352 [==============================] - 13s 1ms/sample - loss: 0.1282 - accuracy: 0.9774 - val_loss: 0.2449 - val_accuracy: 0.9464\n",
      "Epoch 12/50\n",
      "11328/11352 [============================>.] - ETA: 0s - loss: 0.1339 - accuracy: 0.9755\n",
      "Epoch 00012: val_loss did not improve from 0.24488\n",
      "11352/11352 [==============================] - 13s 1ms/sample - loss: 0.1343 - accuracy: 0.9753 - val_loss: 0.4034 - val_accuracy: 0.9288\n",
      "Epoch 13/50\n",
      "11328/11352 [============================>.] - ETA: 0s - loss: 0.1414 - accuracy: 0.9736\n",
      "Epoch 00013: val_loss did not improve from 0.24488\n",
      "11352/11352 [==============================] - 13s 1ms/sample - loss: 0.1415 - accuracy: 0.9736 - val_loss: 0.3562 - val_accuracy: 0.9331\n",
      "Epoch 14/50\n",
      "11328/11352 [============================>.] - ETA: 0s - loss: 0.1372 - accuracy: 0.9770\n",
      "Epoch 00014: val_loss did not improve from 0.24488\n",
      "11352/11352 [==============================] - 13s 1ms/sample - loss: 0.1372 - accuracy: 0.9770 - val_loss: 0.3063 - val_accuracy: 0.9436\n",
      "Epoch 15/50\n",
      "11328/11352 [============================>.] - ETA: 0s - loss: 0.1199 - accuracy: 0.9809\n",
      "Epoch 00015: val_loss improved from 0.24488 to 0.24089, saving model to weights.best.hdf5\n",
      "11352/11352 [==============================] - 13s 1ms/sample - loss: 0.1198 - accuracy: 0.9810 - val_loss: 0.2409 - val_accuracy: 0.9542\n",
      "Epoch 16/50\n",
      "11328/11352 [============================>.] - ETA: 0s - loss: 0.1181 - accuracy: 0.9803\n",
      "Epoch 00016: val_loss did not improve from 0.24089\n",
      "11352/11352 [==============================] - 13s 1ms/sample - loss: 0.1184 - accuracy: 0.9803 - val_loss: 0.3418 - val_accuracy: 0.9514\n",
      "Epoch 17/50\n",
      "11328/11352 [============================>.] - ETA: 0s - loss: 0.1467 - accuracy: 0.9737\n",
      "Epoch 00017: val_loss did not improve from 0.24089\n",
      "11352/11352 [==============================] - 13s 1ms/sample - loss: 0.1469 - accuracy: 0.9737 - val_loss: 0.3458 - val_accuracy: 0.9316\n",
      "Epoch 18/50\n",
      "11328/11352 [============================>.] - ETA: 0s - loss: 0.1195 - accuracy: 0.9806\n",
      "Epoch 00018: val_loss did not improve from 0.24089\n",
      "11352/11352 [==============================] - 13s 1ms/sample - loss: 0.1198 - accuracy: 0.9805 - val_loss: 0.2947 - val_accuracy: 0.9471\n",
      "Epoch 19/50\n",
      "11328/11352 [============================>.] - ETA: 0s - loss: 0.1063 - accuracy: 0.9853\n",
      "Epoch 00019: val_loss did not improve from 0.24089\n",
      "11352/11352 [==============================] - 13s 1ms/sample - loss: 0.1065 - accuracy: 0.9852 - val_loss: 0.3026 - val_accuracy: 0.9401\n",
      "Epoch 20/50\n",
      "11328/11352 [============================>.] - ETA: 0s - loss: 0.1161 - accuracy: 0.9838\n",
      "Epoch 00020: val_loss did not improve from 0.24089\n",
      "\n",
      "Epoch 00020: ReduceLROnPlateau reducing learning rate to 0.000800000037997961.\n",
      "11352/11352 [==============================] - 13s 1ms/sample - loss: 0.1161 - accuracy: 0.9838 - val_loss: 0.2796 - val_accuracy: 0.9394\n",
      "Epoch 21/50\n",
      "11328/11352 [============================>.] - ETA: 0s - loss: 0.1090 - accuracy: 0.9865\n",
      "Epoch 00021: val_loss improved from 0.24089 to 0.20897, saving model to weights.best.hdf5\n",
      "11352/11352 [==============================] - 13s 1ms/sample - loss: 0.1091 - accuracy: 0.9864 - val_loss: 0.2090 - val_accuracy: 0.9711\n",
      "Epoch 22/50\n",
      "11328/11352 [============================>.] - ETA: 0s - loss: 0.0897 - accuracy: 0.9911\n",
      "Epoch 00022: val_loss did not improve from 0.20897\n",
      "11352/11352 [==============================] - 13s 1ms/sample - loss: 0.0899 - accuracy: 0.9910 - val_loss: 0.2323 - val_accuracy: 0.9605\n",
      "Epoch 23/50\n",
      "11328/11352 [============================>.] - ETA: 0s - loss: 0.0766 - accuracy: 0.9942\n",
      "Epoch 00023: val_loss did not improve from 0.20897\n",
      "11352/11352 [==============================] - 13s 1ms/sample - loss: 0.0766 - accuracy: 0.9942 - val_loss: 0.2188 - val_accuracy: 0.9626\n",
      "Epoch 24/50\n",
      "11328/11352 [============================>.] - ETA: 0s - loss: 0.0924 - accuracy: 0.9911\n",
      "Epoch 00024: val_loss did not improve from 0.20897\n",
      "11352/11352 [==============================] - 13s 1ms/sample - loss: 0.0924 - accuracy: 0.9911 - val_loss: 0.3133 - val_accuracy: 0.9500\n",
      "Epoch 25/50\n",
      "11328/11352 [============================>.] - ETA: 0s - loss: 0.1140 - accuracy: 0.9856\n",
      "Epoch 00025: val_loss did not improve from 0.20897\n",
      "11352/11352 [==============================] - 13s 1ms/sample - loss: 0.1140 - accuracy: 0.9856 - val_loss: 0.3323 - val_accuracy: 0.9429\n",
      "Epoch 26/50\n",
      "11328/11352 [============================>.] - ETA: 0s - loss: 0.1119 - accuracy: 0.9850\n",
      "Epoch 00026: val_loss did not improve from 0.20897\n",
      "\n",
      "Epoch 00026: ReduceLROnPlateau reducing learning rate to 0.0006400000303983689.\n",
      "11352/11352 [==============================] - 13s 1ms/sample - loss: 0.1118 - accuracy: 0.9850 - val_loss: 0.3116 - val_accuracy: 0.9464\n",
      "Epoch 27/50\n",
      "11328/11352 [============================>.] - ETA: 0s - loss: 0.0822 - accuracy: 0.9936\n",
      "Epoch 00027: val_loss improved from 0.20897 to 0.16524, saving model to weights.best.hdf5\n",
      "11352/11352 [==============================] - 13s 1ms/sample - loss: 0.0822 - accuracy: 0.9936 - val_loss: 0.1652 - val_accuracy: 0.9760\n",
      "Epoch 28/50\n",
      "11328/11352 [============================>.] - ETA: 0s - loss: 0.0760 - accuracy: 0.9951\n",
      "Epoch 00028: val_loss did not improve from 0.16524\n",
      "11352/11352 [==============================] - 13s 1ms/sample - loss: 0.0760 - accuracy: 0.9952 - val_loss: 0.1961 - val_accuracy: 0.9711\n",
      "Epoch 29/50\n",
      "11328/11352 [============================>.] - ETA: 0s - loss: 0.0737 - accuracy: 0.9953\n",
      "Epoch 00029: val_loss did not improve from 0.16524\n",
      "11352/11352 [==============================] - 13s 1ms/sample - loss: 0.0737 - accuracy: 0.9953 - val_loss: 0.2148 - val_accuracy: 0.9676\n",
      "Epoch 30/50\n",
      "11328/11352 [============================>.] - ETA: 0s - loss: 0.0796 - accuracy: 0.9944\n",
      "Epoch 00030: val_loss did not improve from 0.16524\n",
      "11352/11352 [==============================] - 13s 1ms/sample - loss: 0.0796 - accuracy: 0.9945 - val_loss: 0.2178 - val_accuracy: 0.9718\n",
      "Epoch 31/50\n",
      "11328/11352 [============================>.] - ETA: 0s - loss: 0.0805 - accuracy: 0.9936\n",
      "Epoch 00031: val_loss did not improve from 0.16524\n",
      "11352/11352 [==============================] - 13s 1ms/sample - loss: 0.0805 - accuracy: 0.9937 - val_loss: 0.2208 - val_accuracy: 0.9690\n",
      "Epoch 32/50\n",
      "11328/11352 [============================>.] - ETA: 0s - loss: 0.0961 - accuracy: 0.9906\n",
      "Epoch 00032: val_loss did not improve from 0.16524\n",
      "\n",
      "Epoch 00032: ReduceLROnPlateau reducing learning rate to 0.0005120000336319208.\n",
      "11352/11352 [==============================] - 13s 1ms/sample - loss: 0.0961 - accuracy: 0.9906 - val_loss: 0.2741 - val_accuracy: 0.9634\n",
      "Epoch 33/50\n",
      "11328/11352 [============================>.] - ETA: 0s - loss: 0.0766 - accuracy: 0.9952\n",
      "Epoch 00033: val_loss did not improve from 0.16524\n",
      "11352/11352 [==============================] - 13s 1ms/sample - loss: 0.0769 - accuracy: 0.9951 - val_loss: 0.1981 - val_accuracy: 0.9739\n",
      "Epoch 34/50\n",
      "11328/11352 [============================>.] - ETA: 0s - loss: 0.0662 - accuracy: 0.9980\n",
      "Epoch 00034: val_loss improved from 0.16524 to 0.15938, saving model to weights.best.hdf5\n",
      "11352/11352 [==============================] - 14s 1ms/sample - loss: 0.0662 - accuracy: 0.9980 - val_loss: 0.1594 - val_accuracy: 0.9789\n",
      "Epoch 35/50\n",
      "11328/11352 [============================>.] - ETA: 0s - loss: 0.0688 - accuracy: 0.9971\n",
      "Epoch 00035: val_loss did not improve from 0.15938\n",
      "11352/11352 [==============================] - 13s 1ms/sample - loss: 0.0701 - accuracy: 0.9968 - val_loss: 0.1805 - val_accuracy: 0.9782\n",
      "Epoch 36/50\n",
      "11328/11352 [============================>.] - ETA: 0s - loss: 0.0841 - accuracy: 0.9928\n",
      "Epoch 00036: val_loss did not improve from 0.15938\n",
      "11352/11352 [==============================] - 13s 1ms/sample - loss: 0.0843 - accuracy: 0.9928 - val_loss: 0.1893 - val_accuracy: 0.9774\n",
      "Epoch 37/50\n",
      "11328/11352 [============================>.] - ETA: 0s - loss: 0.0808 - accuracy: 0.9946\n",
      "Epoch 00037: val_loss did not improve from 0.15938\n",
      "11352/11352 [==============================] - 13s 1ms/sample - loss: 0.0808 - accuracy: 0.9946 - val_loss: 0.2020 - val_accuracy: 0.9683\n",
      "Epoch 38/50\n",
      "11328/11352 [============================>.] - ETA: 0s - loss: 0.0823 - accuracy: 0.9937\n",
      "Epoch 00038: val_loss did not improve from 0.15938\n",
      "11352/11352 [==============================] - 13s 1ms/sample - loss: 0.0822 - accuracy: 0.9937 - val_loss: 0.1683 - val_accuracy: 0.9753\n",
      "Epoch 39/50\n",
      "11328/11352 [============================>.] - ETA: 0s - loss: 0.0784 - accuracy: 0.9952\n",
      "Epoch 00039: val_loss did not improve from 0.15938\n",
      "\n",
      "Epoch 00039: ReduceLROnPlateau reducing learning rate to 0.00040960004553198815.\n",
      "11352/11352 [==============================] - 13s 1ms/sample - loss: 0.0783 - accuracy: 0.9952 - val_loss: 0.2128 - val_accuracy: 0.9697\n",
      "Epoch 40/50\n",
      "11328/11352 [============================>.] - ETA: 0s - loss: 0.0646 - accuracy: 0.9982\n",
      "Epoch 00040: val_loss did not improve from 0.15938\n",
      "11352/11352 [==============================] - 13s 1ms/sample - loss: 0.0646 - accuracy: 0.9982 - val_loss: 0.1813 - val_accuracy: 0.9803\n",
      "Epoch 41/50\n",
      "11328/11352 [============================>.] - ETA: 0s - loss: 0.0602 - accuracy: 0.9990\n",
      "Epoch 00041: val_loss did not improve from 0.15938\n",
      "11352/11352 [==============================] - 13s 1ms/sample - loss: 0.0602 - accuracy: 0.9990 - val_loss: 0.1783 - val_accuracy: 0.9817\n",
      "Epoch 42/50\n",
      "11328/11352 [============================>.] - ETA: 0s - loss: 0.0602 - accuracy: 0.9993\n",
      "Epoch 00042: val_loss did not improve from 0.15938\n",
      "11352/11352 [==============================] - 13s 1ms/sample - loss: 0.0602 - accuracy: 0.9993 - val_loss: 0.1826 - val_accuracy: 0.9774\n",
      "Epoch 43/50\n",
      "11328/11352 [============================>.] - ETA: 0s - loss: 0.0622 - accuracy: 0.9988\n",
      "Epoch 00043: val_loss did not improve from 0.15938\n",
      "11352/11352 [==============================] - 13s 1ms/sample - loss: 0.0622 - accuracy: 0.9988 - val_loss: 0.2581 - val_accuracy: 0.9662\n",
      "Epoch 44/50\n",
      "11328/11352 [============================>.] - ETA: 0s - loss: 0.0653 - accuracy: 0.9978\n",
      "Epoch 00044: val_loss did not improve from 0.15938\n",
      "\n",
      "Epoch 00044: ReduceLROnPlateau reducing learning rate to 0.00032768002711236477.\n",
      "11352/11352 [==============================] - 13s 1ms/sample - loss: 0.0653 - accuracy: 0.9978 - val_loss: 0.2443 - val_accuracy: 0.9697\n",
      "Epoch 45/50\n",
      "11328/11352 [============================>.] - ETA: 0s - loss: 0.0670 - accuracy: 0.9976\n",
      "Epoch 00045: val_loss did not improve from 0.15938\n",
      "11352/11352 [==============================] - 13s 1ms/sample - loss: 0.0670 - accuracy: 0.9976 - val_loss: 0.2270 - val_accuracy: 0.9789\n",
      "Epoch 46/50\n",
      "11328/11352 [============================>.] - ETA: 0s - loss: 0.0658 - accuracy: 0.9972\n",
      "Epoch 00046: val_loss did not improve from 0.15938\n",
      "11352/11352 [==============================] - 13s 1ms/sample - loss: 0.0657 - accuracy: 0.9972 - val_loss: 0.2260 - val_accuracy: 0.9704\n",
      "Epoch 47/50\n",
      "11328/11352 [============================>.] - ETA: 0s - loss: 0.0638 - accuracy: 0.9974\n",
      "Epoch 00047: val_loss did not improve from 0.15938\n",
      "11352/11352 [==============================] - 13s 1ms/sample - loss: 0.0638 - accuracy: 0.9974 - val_loss: 0.2227 - val_accuracy: 0.9711\n",
      "Epoch 48/50\n",
      "11328/11352 [============================>.] - ETA: 0s - loss: 0.0673 - accuracy: 0.9968\n",
      "Epoch 00048: val_loss did not improve from 0.15938\n",
      "11352/11352 [==============================] - 13s 1ms/sample - loss: 0.0673 - accuracy: 0.9968 - val_loss: 0.1964 - val_accuracy: 0.9796\n",
      "Epoch 49/50\n",
      "11328/11352 [============================>.] - ETA: 0s - loss: 0.0628 - accuracy: 0.9983\n",
      "Epoch 00049: val_loss did not improve from 0.15938\n",
      "\n",
      "Epoch 00049: ReduceLROnPlateau reducing learning rate to 0.0002621440216898918.\n",
      "11352/11352 [==============================] - 13s 1ms/sample - loss: 0.0628 - accuracy: 0.9983 - val_loss: 0.1957 - val_accuracy: 0.9789\n",
      "Epoch 50/50\n",
      "11328/11352 [============================>.] - ETA: 0s - loss: 0.0612 - accuracy: 0.9988\n",
      "Epoch 00050: val_loss did not improve from 0.15938\n",
      "11352/11352 [==============================] - 13s 1ms/sample - loss: 0.0612 - accuracy: 0.9988 - val_loss: 0.2124 - val_accuracy: 0.9774\n"
     ]
    }
   ],
   "source": [
    "history=model.fit(x=x_train1,y=y_train,batch_size=64,\n",
    "                  epochs=50,callbacks=cb(fw),\n",
    "                  validation_data=(x_valid1,y_valid))"
   ]
  },
  {
   "cell_type": "code",
   "execution_count": 24,
   "metadata": {},
   "outputs": [
    {
     "name": "stdout",
     "output_type": "stream",
     "text": [
      "1419/1419 [==============================] - 0s 351us/sample - loss: 0.1516 - accuracy: 0.9817\n"
     ]
    },
    {
     "data": {
      "text/plain": [
       "[0.15157389616130354, 0.98167723]"
      ]
     },
     "execution_count": 24,
     "metadata": {},
     "output_type": "execute_result"
    }
   ],
   "source": [
    "model.load_weights(fw)\n",
    "model.evaluate(x_test1,y_test)"
   ]
  }
 ],
 "metadata": {
  "kernelspec": {
   "display_name": "Python 3",
   "language": "python",
   "name": "python3"
  },
  "language_info": {
   "codemirror_mode": {
    "name": "ipython",
    "version": 3
   },
   "file_extension": ".py",
   "mimetype": "text/x-python",
   "name": "python",
   "nbconvert_exporter": "python",
   "pygments_lexer": "ipython3",
   "version": "3.7.6"
  }
 },
 "nbformat": 4,
 "nbformat_minor": 4
}
