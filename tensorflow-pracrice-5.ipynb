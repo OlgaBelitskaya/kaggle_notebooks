{
 "cells": [
  {
   "cell_type": "markdown",
   "execution_count": null,
   "metadata": {
    "papermill": {
     "duration": 0.006006,
     "end_time": "2020-08-23T19:37:04.586990",
     "exception": false,
     "start_time": "2020-08-23T19:37:04.580984",
     "status": "completed"
    },
    "tags": []
   },
   "source": [
    "Reading classics [Python Machine Learning 3rd Edition](https://github.com/rasbt/python-machine-learning-book-3rd-edition/blob/master/ch14/ch14_part3.ipynb)"
   ]
  },
  {
   "cell_type": "code",
   "execution_count": 1,
   "metadata": {
    "_cell_guid": "b1076dfc-b9ad-4769-8c92-a6c4dae69d19",
    "_kg_hide-input": true,
    "_uuid": "8f2839f25d086af736a60e9eeb907d3b93b6e0e5",
    "execution": {
     "iopub.execute_input": "2020-08-23T19:37:04.602931Z",
     "iopub.status.busy": "2020-08-23T19:37:04.602108Z",
     "iopub.status.idle": "2020-08-23T19:37:04.605001Z",
     "shell.execute_reply": "2020-08-23T19:37:04.604365Z"
    },
    "papermill": {
     "duration": 0.013538,
     "end_time": "2020-08-23T19:37:04.605112",
     "exception": false,
     "start_time": "2020-08-23T19:37:04.591574",
     "status": "completed"
    },
    "tags": []
   },
   "outputs": [],
   "source": [
    "from IPython.display import display,HTML\n",
    "def dhtml(str):\n",
    "    display(HTML(\"\"\"<style>\n",
    "    @import 'https://fonts.googleapis.com/css?family=Orbitron&effect=3d';      \n",
    "    </style><h1 class='font-effect-3d' \n",
    "    style='font-family:Orbitron; color:#ffee11; font-size:25px;'>\n",
    "    %s</h1>\"\"\"%str))\n",
    "def phtml(str):\n",
    "    display(HTML(\"\"\"<style>\n",
    "    @import 'https://fonts.googleapis.com/css?family=Smokum&effect=3d-float';      \n",
    "    </style><h1 class='font-effect-3d-float' \n",
    "    style='font-family:Smokum; color:#11ff11; font-size:25px;'>\n",
    "    %s</h1>\"\"\"%str))"
   ]
  },
  {
   "cell_type": "code",
   "execution_count": 2,
   "metadata": {
    "_cell_guid": "79c7e3d0-c299-4dcb-8224-4455121ee9b0",
    "_kg_hide-input": true,
    "_uuid": "d629ff2d2480ee46fbb7e2d37f6b5fab8052498a",
    "execution": {
     "iopub.execute_input": "2020-08-23T19:37:04.620305Z",
     "iopub.status.busy": "2020-08-23T19:37:04.619433Z",
     "iopub.status.idle": "2020-08-23T19:37:04.623134Z",
     "shell.execute_reply": "2020-08-23T19:37:04.623588Z"
    },
    "papermill": {
     "duration": 0.014096,
     "end_time": "2020-08-23T19:37:04.623738",
     "exception": false,
     "start_time": "2020-08-23T19:37:04.609642",
     "status": "completed"
    },
    "tags": []
   },
   "outputs": [
    {
     "data": {
      "text/html": [
       "<style>\n",
       "    @import 'https://fonts.googleapis.com/css?family=Orbitron&effect=3d';      \n",
       "    </style><h1 class='font-effect-3d' \n",
       "    style='font-family:Orbitron; color:#ffee11; font-size:25px;'>\n",
       "    Code Modules & Functions</h1>"
      ],
      "text/plain": [
       "<IPython.core.display.HTML object>"
      ]
     },
     "metadata": {},
     "output_type": "display_data"
    }
   ],
   "source": [
    "dhtml('Code Modules & Functions')"
   ]
  },
  {
   "cell_type": "code",
   "execution_count": 3,
   "metadata": {
    "execution": {
     "iopub.execute_input": "2020-08-23T19:37:04.639064Z",
     "iopub.status.busy": "2020-08-23T19:37:04.638406Z",
     "iopub.status.idle": "2020-08-23T19:37:12.042915Z",
     "shell.execute_reply": "2020-08-23T19:37:12.042358Z"
    },
    "papermill": {
     "duration": 7.414836,
     "end_time": "2020-08-23T19:37:12.043039",
     "exception": false,
     "start_time": "2020-08-23T19:37:04.628203",
     "status": "completed"
    },
    "tags": []
   },
   "outputs": [],
   "source": [
    "import warnings; warnings.filterwarnings('ignore')\n",
    "import tensorflow as tf,pylab as pl\n",
    "import pandas as pd,numpy as np,seaborn as sb\n",
    "import tensorflow.keras.utils as tku\n",
    "import tensorflow.image as timg\n",
    "import tensorflow_datasets as tfds\n",
    "from tensorflow.data import Dataset as tds\n",
    "import sklearn.model_selection as sms\n",
    "from IPython.core.magic import register_line_magic"
   ]
  },
  {
   "cell_type": "code",
   "execution_count": 4,
   "metadata": {
    "_kg_hide-input": true,
    "execution": {
     "iopub.execute_input": "2020-08-23T19:37:12.062151Z",
     "iopub.status.busy": "2020-08-23T19:37:12.061246Z",
     "iopub.status.idle": "2020-08-23T19:37:12.065857Z",
     "shell.execute_reply": "2020-08-23T19:37:12.065174Z"
    },
    "papermill": {
     "duration": 0.017949,
     "end_time": "2020-08-23T19:37:12.065983",
     "exception": false,
     "start_time": "2020-08-23T19:37:12.048034",
     "status": "completed"
    },
    "tags": []
   },
   "outputs": [],
   "source": [
    "def preprocess(item):\n",
    "    image,label=item['image'],item['label']\n",
    "    image=timg.convert_image_dtype(image,tf.float32)\n",
    "    image=tf.reshape(image,(-1,))\n",
    "    return {'image-pixels':image},label[...,tf.newaxis]\n",
    "def train_input_fn(buffer_size,batch_size):\n",
    "    datasets=tfds.load(name='mnist')\n",
    "    mnist_train=datasets['train']\n",
    "    ds=mnist_train.map(preprocess)\n",
    "    ds=ds.shuffle(buffer_size)\n",
    "    ds=ds.batch(batch_size)\n",
    "    return ds.repeat()\n",
    "def test_input_fn(batch_size):\n",
    "    datasets=tfds.load(name='mnist')\n",
    "    mnist_test=datasets['test']\n",
    "    ds=mnist_test.map(preprocess)\n",
    "    ds=ds.batch(batch_size)\n",
    "    return ds"
   ]
  },
  {
   "cell_type": "code",
   "execution_count": 5,
   "metadata": {
    "_kg_hide-input": true,
    "execution": {
     "iopub.execute_input": "2020-08-23T19:37:12.086921Z",
     "iopub.status.busy": "2020-08-23T19:37:12.086111Z",
     "iopub.status.idle": "2020-08-23T19:37:12.089445Z",
     "shell.execute_reply": "2020-08-23T19:37:12.088857Z"
    },
    "papermill": {
     "duration": 0.018617,
     "end_time": "2020-08-23T19:37:12.089586",
     "exception": false,
     "start_time": "2020-08-23T19:37:12.070969",
     "status": "completed"
    },
    "tags": []
   },
   "outputs": [],
   "source": [
    "@register_line_magic\n",
    "def display_predict(n):\n",
    "    n=int(n)\n",
    "    fig=pl.figure(figsize=(10,8))\n",
    "    randch=np.random.choice(batch_size,size=n,\n",
    "                            replace=False)\n",
    "    for i,idx in enumerate(randch):\n",
    "        ax=fig.add_subplot(3,n//3,i+1,\n",
    "                           xticks=[],yticks=[])\n",
    "        ax.imshow(bx_test[idx].reshape(img_size,img_size),\n",
    "                  cmap='summer')\n",
    "        pred_idx=py_test[idx]; true_idx=by_test[idx]\n",
    "        ax.set_title(\"{} \\n({})\".format(pred_idx,true_idx),\n",
    "                     color=(\"#11ff11\" if pred_idx==true_idx \n",
    "                            else \"#ffee11\"))\n",
    "    pl.show()"
   ]
  },
  {
   "cell_type": "code",
   "execution_count": 6,
   "metadata": {
    "_kg_hide-input": true,
    "execution": {
     "iopub.execute_input": "2020-08-23T19:37:12.103582Z",
     "iopub.status.busy": "2020-08-23T19:37:12.102716Z",
     "iopub.status.idle": "2020-08-23T19:37:12.106616Z",
     "shell.execute_reply": "2020-08-23T19:37:12.107053Z"
    },
    "papermill": {
     "duration": 0.012921,
     "end_time": "2020-08-23T19:37:12.107192",
     "exception": false,
     "start_time": "2020-08-23T19:37:12.094271",
     "status": "completed"
    },
    "tags": []
   },
   "outputs": [
    {
     "data": {
      "text/html": [
       "<style>\n",
       "    @import 'https://fonts.googleapis.com/css?family=Orbitron&effect=3d';      \n",
       "    </style><h1 class='font-effect-3d' \n",
       "    style='font-family:Orbitron; color:#ffee11; font-size:25px;'>\n",
       "    Data Processing</h1>"
      ],
      "text/plain": [
       "<IPython.core.display.HTML object>"
      ]
     },
     "metadata": {},
     "output_type": "display_data"
    }
   ],
   "source": [
    "dhtml('Data Processing')"
   ]
  },
  {
   "cell_type": "code",
   "execution_count": 7,
   "metadata": {
    "execution": {
     "iopub.execute_input": "2020-08-23T19:37:12.122972Z",
     "iopub.status.busy": "2020-08-23T19:37:12.122269Z",
     "iopub.status.idle": "2020-08-23T19:37:12.124626Z",
     "shell.execute_reply": "2020-08-23T19:37:12.125054Z"
    },
    "papermill": {
     "duration": 0.013055,
     "end_time": "2020-08-23T19:37:12.125195",
     "exception": false,
     "start_time": "2020-08-23T19:37:12.112140",
     "status": "completed"
    },
    "tags": []
   },
   "outputs": [],
   "source": [
    "buffer_size=1000; batch_size=64\n",
    "img_size=28; num_epochs=20\n",
    "steps_per_epoch=np.ceil(60000/batch_size)\n",
    "feature_column=tf.feature_column.numeric_column(\n",
    "    key='image-pixels',shape=(img_size*img_size))"
   ]
  },
  {
   "cell_type": "code",
   "execution_count": 8,
   "metadata": {
    "_kg_hide-output": true,
    "execution": {
     "iopub.execute_input": "2020-08-23T19:37:12.142071Z",
     "iopub.status.busy": "2020-08-23T19:37:12.141475Z",
     "iopub.status.idle": "2020-08-23T19:37:17.273366Z",
     "shell.execute_reply": "2020-08-23T19:37:17.272777Z"
    },
    "papermill": {
     "duration": 5.143306,
     "end_time": "2020-08-23T19:37:17.273509",
     "exception": false,
     "start_time": "2020-08-23T19:37:12.130203",
     "status": "completed"
    },
    "tags": []
   },
   "outputs": [
    {
     "name": "stdout",
     "output_type": "stream",
     "text": [
      "\u001b[1mDownloading and preparing dataset mnist/3.0.1 (download: 11.06 MiB, generated: 21.00 MiB, total: 32.06 MiB) to /root/tensorflow_datasets/mnist/3.0.1...\u001b[0m\n"
     ]
    },
    {
     "data": {
      "application/vnd.jupyter.widget-view+json": {
       "model_id": "9df038df554a44eb900e5b8c83783eb9",
       "version_major": 2,
       "version_minor": 0
      },
      "text/plain": [
       "HBox(children=(FloatProgress(value=0.0, description='Dl Completed...', max=4.0, style=ProgressStyle(descriptio…"
      ]
     },
     "metadata": {},
     "output_type": "display_data"
    },
    {
     "name": "stdout",
     "output_type": "stream",
     "text": [
      "\n",
      "\n",
      "\u001b[1mDataset mnist downloaded and prepared to /root/tensorflow_datasets/mnist/3.0.1. Subsequent calls will reuse this data.\u001b[0m\n"
     ]
    }
   ],
   "source": [
    "ds_test=test_input_fn(batch_size)\n",
    "bx_test,by_test=[],[]\n",
    "batch=next(iter(ds_test))\n",
    "for j in range(batch_size):\n",
    "    by_test.append(batch[1].numpy()[j][0])\n",
    "    bx_test.append(batch[0]['image-pixels'].numpy()[j])"
   ]
  },
  {
   "cell_type": "code",
   "execution_count": 9,
   "metadata": {
    "execution": {
     "iopub.execute_input": "2020-08-23T19:37:17.292147Z",
     "iopub.status.busy": "2020-08-23T19:37:17.291458Z",
     "iopub.status.idle": "2020-08-23T19:37:17.498384Z",
     "shell.execute_reply": "2020-08-23T19:37:17.498820Z"
    },
    "papermill": {
     "duration": 0.219923,
     "end_time": "2020-08-23T19:37:17.498969",
     "exception": false,
     "start_time": "2020-08-23T19:37:17.279046",
     "status": "completed"
    },
    "tags": []
   },
   "outputs": [
    {
     "data": {
      "text/html": [
       "<style>\n",
       "    @import 'https://fonts.googleapis.com/css?family=Smokum&effect=3d-float';      \n",
       "    </style><h1 class='font-effect-3d-float' \n",
       "    style='font-family:Smokum; color:#11ff11; font-size:25px;'>\n",
       "    keys: </br>dict_keys(['image-pixels'])</h1>"
      ],
      "text/plain": [
       "<IPython.core.display.HTML object>"
      ]
     },
     "metadata": {},
     "output_type": "display_data"
    },
    {
     "data": {
      "image/png": "[encoded data removed]",
      "text/plain": [
       "<Figure size 432x288 with 1 Axes>"
      ]
     },
     "metadata": {
      "needs_background": "light"
     },
     "output_type": "display_data"
    }
   ],
   "source": [
    "phtml('keys: </br>%s'%batch[0].keys())\n",
    "n=np.random.randint(0,batch_size,1)[0]\n",
    "img=bx_test[n].reshape(img_size,img_size)\n",
    "pl.imshow(img,cmap='summer')\n",
    "pl.title(by_test[n],fontdict={'fontsize':'xx-large'});"
   ]
  },
  {
   "cell_type": "code",
   "execution_count": 10,
   "metadata": {
    "_kg_hide-input": true,
    "execution": {
     "iopub.execute_input": "2020-08-23T19:37:17.515093Z",
     "iopub.status.busy": "2020-08-23T19:37:17.514276Z",
     "iopub.status.idle": "2020-08-23T19:37:17.518693Z",
     "shell.execute_reply": "2020-08-23T19:37:17.518176Z"
    },
    "papermill": {
     "duration": 0.014229,
     "end_time": "2020-08-23T19:37:17.518812",
     "exception": false,
     "start_time": "2020-08-23T19:37:17.504583",
     "status": "completed"
    },
    "tags": []
   },
   "outputs": [
    {
     "data": {
      "text/html": [
       "<style>\n",
       "    @import 'https://fonts.googleapis.com/css?family=Orbitron&effect=3d';      \n",
       "    </style><h1 class='font-effect-3d' \n",
       "    style='font-family:Orbitron; color:#ffee11; font-size:25px;'>\n",
       "    DNN Classifiers</h1>"
      ],
      "text/plain": [
       "<IPython.core.display.HTML object>"
      ]
     },
     "metadata": {},
     "output_type": "display_data"
    }
   ],
   "source": [
    "dhtml('DNN Classifiers')"
   ]
  },
  {
   "cell_type": "code",
   "execution_count": 11,
   "metadata": {
    "execution": {
     "iopub.execute_input": "2020-08-23T19:37:17.535083Z",
     "iopub.status.busy": "2020-08-23T19:37:17.534450Z",
     "iopub.status.idle": "2020-08-23T19:37:17.718356Z",
     "shell.execute_reply": "2020-08-23T19:37:17.717638Z"
    },
    "papermill": {
     "duration": 0.194101,
     "end_time": "2020-08-23T19:37:17.718480",
     "exception": false,
     "start_time": "2020-08-23T19:37:17.524379",
     "status": "completed"
    },
    "tags": []
   },
   "outputs": [],
   "source": [
    "dnn_clf=tf.estimator.DNNClassifier(\n",
    "    feature_columns=[feature_column],\n",
    "    hidden_units=[96,32],n_classes=10,\n",
    "    model_dir='models/mnist-dnn/');"
   ]
  },
  {
   "cell_type": "code",
   "execution_count": 12,
   "metadata": {
    "_kg_hide-output": false,
    "execution": {
     "iopub.execute_input": "2020-08-23T19:37:17.737635Z",
     "iopub.status.busy": "2020-08-23T19:37:17.736671Z",
     "iopub.status.idle": "2020-08-23T19:39:01.271342Z",
     "shell.execute_reply": "2020-08-23T19:39:01.270543Z"
    },
    "papermill": {
     "duration": 103.547291,
     "end_time": "2020-08-23T19:39:01.271492",
     "exception": false,
     "start_time": "2020-08-23T19:37:17.724201",
     "status": "completed"
    },
    "tags": []
   },
   "outputs": [],
   "source": [
    "dnn_clf.train(input_fn=lambda:train_input_fn(buffer_size,batch_size),\n",
    "              steps=num_epochs*steps_per_epoch);"
   ]
  },
  {
   "cell_type": "code",
   "execution_count": 13,
   "metadata": {
    "execution": {
     "iopub.execute_input": "2020-08-23T19:39:01.289832Z",
     "iopub.status.busy": "2020-08-23T19:39:01.289092Z",
     "iopub.status.idle": "2020-08-23T19:39:03.142628Z",
     "shell.execute_reply": "2020-08-23T19:39:03.141960Z"
    },
    "papermill": {
     "duration": 1.865067,
     "end_time": "2020-08-23T19:39:03.142779",
     "exception": false,
     "start_time": "2020-08-23T19:39:01.277712",
     "status": "completed"
    },
    "tags": []
   },
   "outputs": [
    {
     "data": {
      "text/html": [
       "<style>\n",
       "    @import 'https://fonts.googleapis.com/css?family=Smokum&effect=3d-float';      \n",
       "    </style><h1 class='font-effect-3d-float' \n",
       "    style='font-family:Smokum; color:#11ff11; font-size:25px;'>\n",
       "    {'accuracy': 0.9187, 'average_loss': 0.29468808, 'loss': 0.29405883, 'global_step': 18760}</h1>"
      ],
      "text/plain": [
       "<IPython.core.display.HTML object>"
      ]
     },
     "metadata": {},
     "output_type": "display_data"
    }
   ],
   "source": [
    "test_result=dnn_clf\\\n",
    ".evaluate(input_fn=lambda:test_input_fn(batch_size))\n",
    "phtml(test_result)"
   ]
  },
  {
   "cell_type": "code",
   "execution_count": 14,
   "metadata": {
    "_kg_hide-input": true,
    "execution": {
     "iopub.execute_input": "2020-08-23T19:39:03.160109Z",
     "iopub.status.busy": "2020-08-23T19:39:03.159221Z",
     "iopub.status.idle": "2020-08-23T19:39:03.163530Z",
     "shell.execute_reply": "2020-08-23T19:39:03.164014Z"
    },
    "papermill": {
     "duration": 0.015271,
     "end_time": "2020-08-23T19:39:03.164161",
     "exception": false,
     "start_time": "2020-08-23T19:39:03.148890",
     "status": "completed"
    },
    "tags": []
   },
   "outputs": [
    {
     "data": {
      "text/html": [
       "<style>\n",
       "    @import 'https://fonts.googleapis.com/css?family=Orbitron&effect=3d';      \n",
       "    </style><h1 class='font-effect-3d' \n",
       "    style='font-family:Orbitron; color:#ffee11; font-size:25px;'>\n",
       "    Predictions</h1>"
      ],
      "text/plain": [
       "<IPython.core.display.HTML object>"
      ]
     },
     "metadata": {},
     "output_type": "display_data"
    }
   ],
   "source": [
    "dhtml('Predictions')"
   ]
  },
  {
   "cell_type": "code",
   "execution_count": 15,
   "metadata": {
    "execution": {
     "iopub.execute_input": "2020-08-23T19:39:03.182688Z",
     "iopub.status.busy": "2020-08-23T19:39:03.181859Z",
     "iopub.status.idle": "2020-08-23T19:39:04.551813Z",
     "shell.execute_reply": "2020-08-23T19:39:04.551086Z"
    },
    "papermill": {
     "duration": 1.381536,
     "end_time": "2020-08-23T19:39:04.551935",
     "exception": false,
     "start_time": "2020-08-23T19:39:03.170399",
     "status": "completed"
    },
    "tags": []
   },
   "outputs": [],
   "source": [
    "y_test_pred=dnn_clf\\\n",
    ".predict(input_fn=lambda:test_input_fn(batch_size))\n",
    "py_test=[]\n",
    "for i in range(10000):\n",
    "    py_test.append(next(iter(y_test_pred))['class_ids'][0])"
   ]
  },
  {
   "cell_type": "code",
   "execution_count": 16,
   "metadata": {
    "_kg_hide-input": true,
    "execution": {
     "iopub.execute_input": "2020-08-23T19:39:04.576923Z",
     "iopub.status.busy": "2020-08-23T19:39:04.570072Z",
     "iopub.status.idle": "2020-08-23T19:39:04.751718Z",
     "shell.execute_reply": "2020-08-23T19:39:04.751034Z"
    },
    "papermill": {
     "duration": 0.193783,
     "end_time": "2020-08-23T19:39:04.751839",
     "exception": false,
     "start_time": "2020-08-23T19:39:04.558056",
     "status": "completed"
    },
    "tags": []
   },
   "outputs": [
    {
     "data": {
      "image/png": "[encoded data removed]",
      "text/plain": [
       "<Figure size 720x288 with 1 Axes>"
      ]
     },
     "metadata": {
      "needs_background": "light"
     },
     "output_type": "display_data"
    }
   ],
   "source": [
    "pl.figure(figsize=(10,4))\n",
    "pl.scatter(range(batch_size),by_test,s=50,\n",
    "           label='real data',c=\"#ffee11\")\n",
    "pl.scatter(range(batch_size),\n",
    "           py_test[:batch_size],\n",
    "           s=20,marker='*',\n",
    "           label='predictions',c='#11ff11')\n",
    "pl.legend();"
   ]
  },
  {
   "cell_type": "code",
   "execution_count": 17,
   "metadata": {
    "execution": {
     "iopub.execute_input": "2020-08-23T19:39:04.775371Z",
     "iopub.status.busy": "2020-08-23T19:39:04.774663Z",
     "iopub.status.idle": "2020-08-23T19:39:05.284136Z",
     "shell.execute_reply": "2020-08-23T19:39:05.283567Z"
    },
    "papermill": {
     "duration": 0.526056,
     "end_time": "2020-08-23T19:39:05.284277",
     "exception": false,
     "start_time": "2020-08-23T19:39:04.758221",
     "status": "completed"
    },
    "tags": []
   },
   "outputs": [
    {
     "data": {
      "image/png": "[encoded data removed]",
      "text/plain": [
       "<Figure size 720x576 with 15 Axes>"
      ]
     },
     "metadata": {},
     "output_type": "display_data"
    }
   ],
   "source": [
    "%display_predict 15"
   ]
  }
 ],
 "metadata": {
  "kernelspec": {
   "display_name": "Python 3",
   "language": "python",
   "name": "python3"
  },
  "language_info": {
   "codemirror_mode": {
    "name": "ipython",
    "version": 3
   },
   "file_extension": ".py",
   "mimetype": "text/x-python",
   "name": "python",
   "nbconvert_exporter": "python",
   "pygments_lexer": "ipython3",
   "version": "3.7.6"
  },
  "papermill": {
   "duration": 125.094313,
   "end_time": "2020-08-23T19:39:05.400018",
   "environment_variables": {},
   "exception": null,
   "input_path": "__notebook__.ipynb",
   "output_path": "__notebook__.ipynb",
   "parameters": {},
   "start_time": "2020-08-23T19:37:00.305705",
   "version": "2.1.0"
  },
  "widgets": {
   "application/vnd.jupyter.widget-state+json": {
    "state": {
     "05fd161d820d4f638e39cbca5d158f8d": {
      "model_module": "@jupyter-widgets/controls",
      "model_module_version": "1.5.0",
      "model_name": "ProgressStyleModel",
      "state": {
       "_model_module": "@jupyter-widgets/controls",
       "_model_module_version": "1.5.0",
       "_model_name": "ProgressStyleModel",
       "_view_count": null,
       "_view_module": "@jupyter-widgets/base",
       "_view_module_version": "1.2.0",
       "_view_name": "StyleView",
       "bar_color": null,
       "description_width": "initial"
      }
     },
     "0939f71bdf6a47dcbcc801d10b43064b": {
      "model_module": "@jupyter-widgets/controls",
      "model_module_version": "1.5.0",
      "model_name": "DescriptionStyleModel",
      "state": {
       "_model_module": "@jupyter-widgets/controls",
       "_model_module_version": "1.5.0",
       "_model_name": "DescriptionStyleModel",
       "_view_count": null,
       "_view_module": "@jupyter-widgets/base",
       "_view_module_version": "1.2.0",
       "_view_name": "StyleView",
       "description_width": ""
      }
     },
     "2a0edbb4555f465b8ad2d54f771b73fe": {
      "model_module": "@jupyter-widgets/base",
      "model_module_version": "1.2.0",
      "model_name": "LayoutModel",
      "state": {
       "_model_module": "@jupyter-widgets/base",
       "_model_module_version": "1.2.0",
       "_model_name": "LayoutModel",
       "_view_count": null,
       "_view_module": "@jupyter-widgets/base",
       "_view_module_version": "1.2.0",
       "_view_name": "LayoutView",
       "align_content": null,
       "align_items": null,
       "align_self": null,
       "border": null,
       "bottom": null,
       "display": null,
       "flex": null,
       "flex_flow": null,
       "grid_area": null,
       "grid_auto_columns": null,
       "grid_auto_flow": null,
       "grid_auto_rows": null,
       "grid_column": null,
       "grid_gap": null,
       "grid_row": null,
       "grid_template_areas": null,
       "grid_template_columns": null,
       "grid_template_rows": null,
       "height": null,
       "justify_content": null,
       "justify_items": null,
       "left": null,
       "margin": null,
       "max_height": null,
       "max_width": null,
       "min_height": null,
       "min_width": null,
       "object_fit": null,
       "object_position": null,
       "order": null,
       "overflow": null,
       "overflow_x": null,
       "overflow_y": null,
       "padding": null,
       "right": null,
       "top": null,
       "visibility": null,
       "width": null
      }
     },
     "76b65789176b4f9fb96f2ef097a32182": {
      "model_module": "@jupyter-widgets/base",
      "model_module_version": "1.2.0",
      "model_name": "LayoutModel",
      "state": {
       "_model_module": "@jupyter-widgets/base",
       "_model_module_version": "1.2.0",
       "_model_name": "LayoutModel",
       "_view_count": null,
       "_view_module": "@jupyter-widgets/base",
       "_view_module_version": "1.2.0",
       "_view_name": "LayoutView",
       "align_content": null,
       "align_items": null,
       "align_self": null,
       "border": null,
       "bottom": null,
       "display": null,
       "flex": null,
       "flex_flow": null,
       "grid_area": null,
       "grid_auto_columns": null,
       "grid_auto_flow": null,
       "grid_auto_rows": null,
       "grid_column": null,
       "grid_gap": null,
       "grid_row": null,
       "grid_template_areas": null,
       "grid_template_columns": null,
       "grid_template_rows": null,
       "height": null,
       "justify_content": null,
       "justify_items": null,
       "left": null,
       "margin": null,
       "max_height": null,
       "max_width": null,
       "min_height": null,
       "min_width": null,
       "object_fit": null,
       "object_position": null,
       "order": null,
       "overflow": null,
       "overflow_x": null,
       "overflow_y": null,
       "padding": null,
       "right": null,
       "top": null,
       "visibility": null,
       "width": null
      }
     },
     "7feb3ef60cb3428f82be03e41aad926f": {
      "model_module": "@jupyter-widgets/base",
      "model_module_version": "1.2.0",
      "model_name": "LayoutModel",
      "state": {
       "_model_module": "@jupyter-widgets/base",
       "_model_module_version": "1.2.0",
       "_model_name": "LayoutModel",
       "_view_count": null,
       "_view_module": "@jupyter-widgets/base",
       "_view_module_version": "1.2.0",
       "_view_name": "LayoutView",
       "align_content": null,
       "align_items": null,
       "align_self": null,
       "border": null,
       "bottom": null,
       "display": null,
       "flex": null,
       "flex_flow": null,
       "grid_area": null,
       "grid_auto_columns": null,
       "grid_auto_flow": null,
       "grid_auto_rows": null,
       "grid_column": null,
       "grid_gap": null,
       "grid_row": null,
       "grid_template_areas": null,
       "grid_template_columns": null,
       "grid_template_rows": null,
       "height": null,
       "justify_content": null,
       "justify_items": null,
       "left": null,
       "margin": null,
       "max_height": null,
       "max_width": null,
       "min_height": null,
       "min_width": null,
       "object_fit": null,
       "object_position": null,
       "order": null,
       "overflow": null,
       "overflow_x": null,
       "overflow_y": null,
       "padding": null,
       "right": null,
       "top": null,
       "visibility": null,
       "width": null
      }
     },
     "9df038df554a44eb900e5b8c83783eb9": {
      "model_module": "@jupyter-widgets/controls",
      "model_module_version": "1.5.0",
      "model_name": "HBoxModel",
      "state": {
       "_dom_classes": [],
       "_model_module": "@jupyter-widgets/controls",
       "_model_module_version": "1.5.0",
       "_model_name": "HBoxModel",
       "_view_count": null,
       "_view_module": "@jupyter-widgets/controls",
       "_view_module_version": "1.5.0",
       "_view_name": "HBoxView",
       "box_style": "",
       "children": [
        "IPY_MODEL_a2784d858e9343a4a27004059934d297",
        "IPY_MODEL_a8a80d155c0d46a28d9680b16210fe1b"
       ],
       "layout": "IPY_MODEL_76b65789176b4f9fb96f2ef097a32182"
      }
     },
     "a2784d858e9343a4a27004059934d297": {
      "model_module": "@jupyter-widgets/controls",
      "model_module_version": "1.5.0",
      "model_name": "FloatProgressModel",
      "state": {
       "_dom_classes": [],
       "_model_module": "@jupyter-widgets/controls",
       "_model_module_version": "1.5.0",
       "_model_name": "FloatProgressModel",
       "_view_count": null,
       "_view_module": "@jupyter-widgets/controls",
       "_view_module_version": "1.5.0",
       "_view_name": "ProgressView",
       "bar_style": "success",
       "description": "Dl Completed...: 100%",
       "description_tooltip": null,
       "layout": "IPY_MODEL_2a0edbb4555f465b8ad2d54f771b73fe",
       "max": 4.0,
       "min": 0.0,
       "orientation": "horizontal",
       "style": "IPY_MODEL_05fd161d820d4f638e39cbca5d158f8d",
       "value": 4.0
      }
     },
     "a8a80d155c0d46a28d9680b16210fe1b": {
      "model_module": "@jupyter-widgets/controls",
      "model_module_version": "1.5.0",
      "model_name": "HTMLModel",
      "state": {
       "_dom_classes": [],
       "_model_module": "@jupyter-widgets/controls",
       "_model_module_version": "1.5.0",
       "_model_name": "HTMLModel",
       "_view_count": null,
       "_view_module": "@jupyter-widgets/controls",
       "_view_module_version": "1.5.0",
       "_view_name": "HTMLView",
       "description": "",
       "description_tooltip": null,
       "layout": "IPY_MODEL_7feb3ef60cb3428f82be03e41aad926f",
       "placeholder": "​",
       "style": "IPY_MODEL_0939f71bdf6a47dcbcc801d10b43064b",
       "value": " 4/4 [00:01&lt;00:00,  2.56 file/s]"
      }
     }
    },
    "version_major": 2,
    "version_minor": 0
   }
  }
 },
 "nbformat": 4,
 "nbformat_minor": 4
}
