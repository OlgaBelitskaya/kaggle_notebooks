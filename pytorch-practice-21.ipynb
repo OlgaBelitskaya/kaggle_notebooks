{
 "cells": [
  {
   "cell_type": "code",
   "execution_count": 1,
   "metadata": {
    "_cell_guid": "b1076dfc-b9ad-4769-8c92-a6c4dae69d19",
    "_kg_hide-input": true,
    "_uuid": "8f2839f25d086af736a60e9eeb907d3b93b6e0e5"
   },
   "outputs": [],
   "source": [
    "from IPython.display import display,HTML\n",
    "def dhtml(str):\n",
    "    display(HTML(\"\"\"<style>\n",
    "    @import 'https://fonts.googleapis.com/css?family=Monoton&effect=3d';      \n",
    "    </style><h1 class='font-effect-3d' \n",
    "    style='font-family:Monoton; color:#ff1155; font-size:35px;'>\n",
    "    %s</h1>\"\"\"%str))"
   ]
  },
  {
   "cell_type": "markdown",
   "execution_count": null,
   "metadata": {},
   "source": [
    "Reading classics [Deep Learning Models](https://nbviewer.jupyter.org/github/rasbt/deeplearning-models/blob/master/pytorch_ipynb/ordinal/ordinal-cnn-beckham2016-afadlite.ipynb)\n",
    "\n",
    "[Google Colaboratory Version](https://colab.research.google.com/drive/1Nkr8BybYG-iIy7nha-A6S2d2QIa3rTx2)"
   ]
  },
  {
   "cell_type": "code",
   "execution_count": 2,
   "metadata": {
    "_cell_guid": "79c7e3d0-c299-4dcb-8224-4455121ee9b0",
    "_kg_hide-input": true,
    "_uuid": "d629ff2d2480ee46fbb7e2d37f6b5fab8052498a"
   },
   "outputs": [
    {
     "data": {
      "text/html": [
       "<style>\n",
       "    @import 'https://fonts.googleapis.com/css?family=Monoton&effect=3d';      \n",
       "    </style><h1 class='font-effect-3d' \n",
       "    style='font-family:Monoton; color:#ff1155; font-size:35px;'>\n",
       "    Code Modules & Functions</h1>"
      ],
      "text/plain": [
       "<IPython.core.display.HTML object>"
      ]
     },
     "metadata": {},
     "output_type": "display_data"
    }
   ],
   "source": [
    "dhtml('Code Modules & Functions')"
   ]
  },
  {
   "cell_type": "code",
   "execution_count": 3,
   "metadata": {},
   "outputs": [],
   "source": [
    "import numpy as np,pandas as pd,pylab as pl\n",
    "import os,torch\n",
    "from torch.utils.data import DataLoader as tdl\n",
    "from torch.utils.data import Dataset as tds\n",
    "import torch.nn.functional as tnnf\n",
    "import torch.nn as tnn\n",
    "from torchvision import transforms,utils\n",
    "from PIL import Image\n",
    "from IPython.core.magic import register_line_magic\n",
    "dev=torch.device(\"cuda:0\" \\\n",
    "if torch.cuda.is_available() else \"cpu\")\n",
    "train_csv='train.csv'; test_csv='test.csv'\n",
    "img_path='AFAD-Lite'"
   ]
  },
  {
   "cell_type": "code",
   "execution_count": 4,
   "metadata": {
    "_kg_hide-input": true
   },
   "outputs": [],
   "source": [
    "@register_line_magic\n",
    "def display_examples(data):\n",
    "    for images,labels in dataloaders[data]:  \n",
    "        print('Image dimensions: %s'%str(images.shape))\n",
    "        print('Label dimensions: %s'%str(labels.shape))\n",
    "        n=np.random.randint(1,50)\n",
    "        fig=pl.figure(figsize=(10,4))\n",
    "        for i in range(n,n+5):\n",
    "            ax=fig.add_subplot(1,5,i-n+1,\\\n",
    "            xticks=[],yticks=[],title=labels[i].item())\n",
    "            ax.imshow(np.transpose(images[i],(1,2,0)))\n",
    "        break"
   ]
  },
  {
   "cell_type": "code",
   "execution_count": 5,
   "metadata": {
    "_kg_hide-input": true
   },
   "outputs": [],
   "source": [
    "def conv31(in_planes,out_planes,stride=1):\n",
    "    return tnn.Conv2d(in_planes,out_planes,\n",
    "                      kernel_size=3,stride=stride,\n",
    "                      padding=1,bias=False)\n",
    "def cost_fit(targets,predictions):\n",
    "    return torch.mean((targets.float()-predictions)**2)\n",
    "def mae_mse(model,data_loader):\n",
    "    mae,mse,num_examples=\\\n",
    "    torch.tensor([0.]),torch.tensor([0.]),0\n",
    "    for features,targets in data_loader:\n",
    "        features=features.to(dev)\n",
    "        targets=targets.float().to(dev)\n",
    "        logits,probs,predictions=model(features)\n",
    "        assert len(targets.size())==1\n",
    "        assert len(predictions.size())==1\n",
    "        predicted_labels=torch.round(predictions).float()\n",
    "        num_examples+=targets.size(0)\n",
    "        mae+=torch.abs(predicted_labels-targets).sum()\n",
    "        mse+=torch.sum((predicted_labels-targets)**2)\n",
    "    return mae/num_examples,mse/num_examples"
   ]
  },
  {
   "cell_type": "code",
   "execution_count": 6,
   "metadata": {
    "_kg_hide-input": true
   },
   "outputs": [
    {
     "data": {
      "text/html": [
       "<style>\n",
       "    @import 'https://fonts.googleapis.com/css?family=Monoton&effect=3d';      \n",
       "    </style><h1 class='font-effect-3d' \n",
       "    style='font-family:Monoton; color:#ff1155; font-size:35px;'>\n",
       "    Data</h1>"
      ],
      "text/plain": [
       "<IPython.core.display.HTML object>"
      ]
     },
     "metadata": {},
     "output_type": "display_data"
    }
   ],
   "source": [
    "dhtml('Data')"
   ]
  },
  {
   "cell_type": "code",
   "execution_count": 7,
   "metadata": {
    "_kg_hide-output": true
   },
   "outputs": [
    {
     "name": "stdout",
     "output_type": "stream",
     "text": [
      "Cloning into 'tarball-lite'...\r\n",
      "remote: Enumerating objects: 37, done.\u001b[K\r\n",
      "remote: Total 37 (delta 0), reused 0 (delta 0), pack-reused 37\u001b[K\r\n",
      "Unpacking objects: 100% (37/37), done.\r\n",
      "Checking out files: 100% (30/30), done.\r\n"
     ]
    }
   ],
   "source": [
    "!git clone https://github.com/afad-dataset/tarball-lite.git"
   ]
  },
  {
   "cell_type": "code",
   "execution_count": 8,
   "metadata": {},
   "outputs": [],
   "source": [
    "!cat tarball-lite/AFAD-Lite.tar.xz*>tarball-lite/AFAD-Lite.tar.xz"
   ]
  },
  {
   "cell_type": "code",
   "execution_count": 9,
   "metadata": {},
   "outputs": [],
   "source": [
    "!tar xf tarball-lite/AFAD-Lite.tar.xz"
   ]
  },
  {
   "cell_type": "code",
   "execution_count": 10,
   "metadata": {},
   "outputs": [
    {
     "name": "stdout",
     "output_type": "stream",
     "text": [
      "[22, 59344]\n"
     ]
    },
    {
     "data": {
      "text/html": [
       "<div>\n",
       "<style scoped>\n",
       "    .dataframe tbody tr th:only-of-type {\n",
       "        vertical-align: middle;\n",
       "    }\n",
       "\n",
       "    .dataframe tbody tr th {\n",
       "        vertical-align: top;\n",
       "    }\n",
       "\n",
       "    .dataframe thead th {\n",
       "        text-align: right;\n",
       "    }\n",
       "</style>\n",
       "<table border=\"1\" class=\"dataframe\">\n",
       "  <thead>\n",
       "    <tr style=\"text-align: right;\">\n",
       "      <th></th>\n",
       "      <th>age</th>\n",
       "      <th>gender</th>\n",
       "      <th>file</th>\n",
       "      <th>path</th>\n",
       "    </tr>\n",
       "  </thead>\n",
       "  <tbody>\n",
       "    <tr>\n",
       "      <th>0</th>\n",
       "      <td>13</td>\n",
       "      <td>female</td>\n",
       "      <td>133645-0.jpg</td>\n",
       "      <td>31/112/133645-0.jpg</td>\n",
       "    </tr>\n",
       "    <tr>\n",
       "      <th>1</th>\n",
       "      <td>13</td>\n",
       "      <td>female</td>\n",
       "      <td>438065-2.jpg</td>\n",
       "      <td>31/112/438065-2.jpg</td>\n",
       "    </tr>\n",
       "    <tr>\n",
       "      <th>2</th>\n",
       "      <td>13</td>\n",
       "      <td>female</td>\n",
       "      <td>438713-0.jpg</td>\n",
       "      <td>31/112/438713-0.jpg</td>\n",
       "    </tr>\n",
       "    <tr>\n",
       "      <th>3</th>\n",
       "      <td>13</td>\n",
       "      <td>female</td>\n",
       "      <td>6515-0.jpg</td>\n",
       "      <td>31/112/6515-0.jpg</td>\n",
       "    </tr>\n",
       "    <tr>\n",
       "      <th>4</th>\n",
       "      <td>13</td>\n",
       "      <td>female</td>\n",
       "      <td>437265-0.jpg</td>\n",
       "      <td>31/112/437265-0.jpg</td>\n",
       "    </tr>\n",
       "  </tbody>\n",
       "</table>\n",
       "</div>"
      ],
      "text/plain": [
       "   age  gender          file                 path\n",
       "0   13  female  133645-0.jpg  31/112/133645-0.jpg\n",
       "1   13  female  438065-2.jpg  31/112/438065-2.jpg\n",
       "2   13  female  438713-0.jpg  31/112/438713-0.jpg\n",
       "3   13  female    6515-0.jpg    31/112/6515-0.jpg\n",
       "4   13  female  437265-0.jpg  31/112/437265-0.jpg"
      ]
     },
     "execution_count": 10,
     "metadata": {},
     "output_type": "execute_result"
    }
   ],
   "source": [
    "files=[os.path.relpath(os.path.join(dirpath,fn),img_path) \\\n",
    "for (dirpath,dirnames,filenames) in os.walk(img_path) \\\n",
    "for fn in filenames if fn.endswith('.jpg')]\n",
    "d={'age':[],'gender':[],\n",
    "   'file':[],'path':[]}\n",
    "for f in files:\n",
    "    age,gender,fn=f.split('/')\n",
    "    if gender=='111': gender='male'\n",
    "    else: gender='female'        \n",
    "    d['age'].append(age)\n",
    "    d['gender'].append(gender)\n",
    "    d['file'].append(fn)\n",
    "    d['path'].append(f)\n",
    "df=pd.DataFrame.from_dict(d)\n",
    "df['age']=df['age'].values.astype(int)-18\n",
    "np.random.seed(123)\n",
    "ids=np.random.rand(len(df))<.8\n",
    "df_train=df[ids]; df_test=df[~ids]\n",
    "df_train.set_index('file',inplace=True)\n",
    "df_train.to_csv(train_csv)\n",
    "df_test.set_index('file',inplace=True)\n",
    "df_test.to_csv(test_csv)\n",
    "num_classes=np.unique(df['age'].values).shape[0]\n",
    "print([num_classes,len(files)]); df.head()"
   ]
  },
  {
   "cell_type": "code",
   "execution_count": 11,
   "metadata": {},
   "outputs": [],
   "source": [
    "class AFADAgeData(tds):\n",
    "    def __init__(self,csv_path,img_dir,transform=None):\n",
    "        df=pd.read_csv(csv_path,index_col=0)\n",
    "        self.img_dir=img_dir\n",
    "        self.csv_path=csv_path\n",
    "        self.img_paths=df['path']\n",
    "        self.y=df['age'].values\n",
    "        self.transform=transform\n",
    "    def __getitem__(self,index):\n",
    "        img=Image.open(os.path\\\n",
    "        .join(self.img_dir,self.img_paths[index]))\n",
    "        if self.transform is not None:\n",
    "            img=self.transform(img)\n",
    "        lbl=self.y[index]\n",
    "        return img,lbl\n",
    "    def __len__(self):\n",
    "        return self.y.shape[0]"
   ]
  },
  {
   "cell_type": "code",
   "execution_count": 12,
   "metadata": {},
   "outputs": [],
   "source": [
    "batch_size=256; num_workers=4\n",
    "grayscale=False; img_size=120\n",
    "trans=transforms\\\n",
    ".Compose([transforms.Resize((128,128)),\n",
    "          transforms.RandomCrop((img_size,img_size)),\n",
    "          transforms.ToTensor()])\n",
    "trans2=transforms\\\n",
    ".Compose([transforms.Resize((128,128)),\n",
    "          transforms.CenterCrop((img_size,img_size)),\n",
    "          transforms.ToTensor()])\n",
    "train=AFADAgeData(csv_path=train_csv,\n",
    "                  img_dir=img_path,\n",
    "                  transform=trans)\n",
    "test=AFADAgeData(csv_path=test_csv,\n",
    "                 img_dir=img_path,\n",
    "                 transform=trans2)\n",
    "dataloaders={'train':tdl(dataset=train,batch_size=batch_size,\n",
    "                         shuffle=True,num_workers=num_workers),\n",
    "             'test':tdl(dataset=test,batch_size=batch_size,\n",
    "                        shuffle=True,num_workers=num_workers)}"
   ]
  },
  {
   "cell_type": "code",
   "execution_count": 13,
   "metadata": {},
   "outputs": [
    {
     "name": "stdout",
     "output_type": "stream",
     "text": [
      "Image dimensions: torch.Size([256, 3, 120, 120])\n",
      "Label dimensions: torch.Size([256])\n"
     ]
    },
    {
     "data": {
      "image/png": "[encoded data removed]",
      "text/plain": [
       "<Figure size 720x288 with 5 Axes>"
      ]
     },
     "metadata": {},
     "output_type": "display_data"
    }
   ],
   "source": [
    "%display_examples test"
   ]
  },
  {
   "cell_type": "code",
   "execution_count": 14,
   "metadata": {
    "_kg_hide-input": true
   },
   "outputs": [
    {
     "data": {
      "text/html": [
       "<style>\n",
       "    @import 'https://fonts.googleapis.com/css?family=Monoton&effect=3d';      \n",
       "    </style><h1 class='font-effect-3d' \n",
       "    style='font-family:Monoton; color:#ff1155; font-size:35px;'>\n",
       "    Ordinal Regression CNN</h1>"
      ],
      "text/plain": [
       "<IPython.core.display.HTML object>"
      ]
     },
     "metadata": {},
     "output_type": "display_data"
    }
   ],
   "source": [
    "dhtml('Ordinal Regression CNN')"
   ]
  },
  {
   "cell_type": "code",
   "execution_count": 15,
   "metadata": {},
   "outputs": [],
   "source": [
    "class BasicBlock(tnn.Module):\n",
    "    expansion=1\n",
    "    def __init__(self,inplanes,planes,stride=1,downsample=None):\n",
    "        super(BasicBlock,self).__init__()\n",
    "        self.conv1=conv31(inplanes,planes,stride)\n",
    "        self.bn1=tnn.BatchNorm2d(planes)\n",
    "        self.relu=tnn.ReLU(inplace=True)\n",
    "        self.conv2=conv31(planes,planes)\n",
    "        self.bn2=tnn.BatchNorm2d(planes)\n",
    "        self.downsample=downsample\n",
    "        self.stride=stride\n",
    "    def forward(self,x):\n",
    "        residual=x\n",
    "        out=self.conv1(x)\n",
    "        out=self.bn1(out)\n",
    "        out=self.relu(out)\n",
    "        out=self.conv2(out)\n",
    "        out=self.bn2(out)\n",
    "        if self.downsample is not None:\n",
    "            residual=self.downsample(x)\n",
    "        out+=residual\n",
    "        out=self.relu(out)\n",
    "        return out"
   ]
  },
  {
   "cell_type": "code",
   "execution_count": 16,
   "metadata": {},
   "outputs": [],
   "source": [
    "class ResNN(tnn.Module):\n",
    "    def __init__(self, block,layers,num_classes,grayscale):\n",
    "        self.num_classes=num_classes\n",
    "        self.inplanes=64\n",
    "        base_num=64\n",
    "        if grayscale: in_dim=1\n",
    "        else: in_dim=3\n",
    "        super(ResNN,self).__init__()\n",
    "        self.conv1=tnn\\\n",
    "        .Conv2d(in_dim,base_num,kernel_size=7,\n",
    "                stride=2,padding=3,bias=False)\n",
    "        self.bn1=tnn.BatchNorm2d(base_num)\n",
    "        self.relu=tnn.ReLU(inplace=True)\n",
    "        self.maxpool=tnn.MaxPool2d(kernel_size=3,stride=2,padding=1)\n",
    "        self.layer1=self._make_layer(block,base_num,layers[0])\n",
    "        self.layer2=self._make_layer(block,2*base_num,layers[1],stride=2)\n",
    "        self.layer3=self._make_layer(block,4*base_num,layers[2],stride=2)\n",
    "        self.layer4=self._make_layer(block,8*base_num,layers[3],stride=2)\n",
    "        self.avgpool=tnn.AvgPool2d(7,stride=1,padding=2)\n",
    "        self.fc=tnn.Linear(2048*block.expansion,num_classes)\n",
    "        self.a=tnn.Parameter(torch.zeros(\n",
    "            self.num_classes).float().normal_(0.,.1).view(-1,1))\n",
    "        for m in self.modules():\n",
    "            if isinstance(m,tnn.Conv2d):\n",
    "                n=m.kernel_size[0]*m.kernel_size[1]*m.out_channels\n",
    "                m.weight.data.normal_(0,(2./n)**.5)\n",
    "            elif isinstance(m,tnn.BatchNorm2d):\n",
    "                m.weight.data.fill_(1)\n",
    "                m.bias.data.zero_()\n",
    "    def _make_layer(self,block,planes,blocks,stride=1):\n",
    "        downsample=None\n",
    "        if stride!=1 or self.inplanes!=planes*block.expansion:\n",
    "            downsample=tnn.Sequential(\n",
    "                tnn.Conv2d(self.inplanes,planes*block.expansion,\n",
    "                           kernel_size=1,stride=stride,bias=False),\n",
    "                tnn.BatchNorm2d(planes*block.expansion),)\n",
    "\n",
    "        layers=[]\n",
    "        layers.append(block(self.inplanes,planes,stride,downsample))\n",
    "        self.inplanes=planes*block.expansion\n",
    "        for i in range(1,blocks):\n",
    "            layers.append(block(self.inplanes,planes))\n",
    "        return tnn.Sequential(*layers)\n",
    "    def forward(self, x):\n",
    "        x=self.conv1(x); x=self.bn1(x)\n",
    "        x=self.relu(x); x=self.maxpool(x)\n",
    "        x=self.layer1(x); x=self.layer2(x)\n",
    "        x=self.layer3(x); x=self.layer4(x)\n",
    "        x=self.avgpool(x)\n",
    "        x=x.view(x.size(0),-1)\n",
    "        logits=self.fc(x)\n",
    "        probs=torch.softmax(logits,dim=1)\n",
    "        predictions=((self.num_classes-1)*torch\\\n",
    "                     .sigmoid(probs.mm(self.a).view(-1)))\n",
    "        return logits,probs,predictions\n",
    "def ResNN34(num_classes,grayscale):\n",
    "    return ResNN(block=BasicBlock,\n",
    "                 layers=[3,4,6,3],\n",
    "                 num_classes=num_classes,\n",
    "                 grayscale=grayscale)"
   ]
  },
  {
   "cell_type": "code",
   "execution_count": 17,
   "metadata": {
    "_kg_hide-input": true
   },
   "outputs": [
    {
     "data": {
      "text/html": [
       "<style>\n",
       "    @import 'https://fonts.googleapis.com/css?family=Monoton&effect=3d';      \n",
       "    </style><h1 class='font-effect-3d' \n",
       "    style='font-family:Monoton; color:#ff1155; font-size:35px;'>\n",
       "    Training</h1>"
      ],
      "text/plain": [
       "<IPython.core.display.HTML object>"
      ]
     },
     "metadata": {},
     "output_type": "display_data"
    }
   ],
   "source": [
    "dhtml('Training')"
   ]
  },
  {
   "cell_type": "code",
   "execution_count": 18,
   "metadata": {},
   "outputs": [],
   "source": [
    "random_seed=12; learning_rate=.0005\n",
    "torch.manual_seed(random_seed)\n",
    "torch.cuda.manual_seed(random_seed)\n",
    "model=ResNN34(num_classes,grayscale)\n",
    "model.to(dev)\n",
    "optimizer=torch.optim\\\n",
    ".Adam(model.parameters(),lr=learning_rate)"
   ]
  },
  {
   "cell_type": "code",
   "execution_count": 19,
   "metadata": {
    "_kg_hide-output": true
   },
   "outputs": [
    {
     "name": "stdout",
     "output_type": "stream",
     "text": [
      "Epoch: 001/130 | Batch: 0000/0186 | Cost: 41.3602\n",
      "Epoch: 001/130 | Batch: 0100/0186 | Cost: 39.4220\n",
      "Epoch: 002/130 | Batch: 0000/0186 | Cost: 33.9678\n",
      "Epoch: 002/130 | Batch: 0100/0186 | Cost: 38.6972\n",
      "Epoch: 003/130 | Batch: 0000/0186 | Cost: 36.2899\n",
      "Epoch: 003/130 | Batch: 0100/0186 | Cost: 34.9226\n",
      "Epoch: 004/130 | Batch: 0000/0186 | Cost: 33.4288\n",
      "Epoch: 004/130 | Batch: 0100/0186 | Cost: 31.5565\n",
      "Epoch: 005/130 | Batch: 0000/0186 | Cost: 30.3108\n",
      "Epoch: 005/130 | Batch: 0100/0186 | Cost: 31.4035\n",
      "Epoch: 006/130 | Batch: 0000/0186 | Cost: 29.4599\n",
      "Epoch: 006/130 | Batch: 0100/0186 | Cost: 25.9136\n",
      "Epoch: 007/130 | Batch: 0000/0186 | Cost: 27.8601\n",
      "Epoch: 007/130 | Batch: 0100/0186 | Cost: 27.3794\n",
      "Epoch: 008/130 | Batch: 0000/0186 | Cost: 26.2688\n",
      "Epoch: 008/130 | Batch: 0100/0186 | Cost: 26.0309\n",
      "Epoch: 009/130 | Batch: 0000/0186 | Cost: 27.4930\n",
      "Epoch: 009/130 | Batch: 0100/0186 | Cost: 24.4055\n",
      "Epoch: 010/130 | Batch: 0000/0186 | Cost: 26.8090\n",
      "Epoch: 010/130 | Batch: 0100/0186 | Cost: 23.2270\n",
      "Epoch: 011/130 | Batch: 0000/0186 | Cost: 23.6144\n",
      "Epoch: 011/130 | Batch: 0100/0186 | Cost: 24.3454\n",
      "Epoch: 012/130 | Batch: 0000/0186 | Cost: 20.9463\n",
      "Epoch: 012/130 | Batch: 0100/0186 | Cost: 20.2949\n",
      "Epoch: 013/130 | Batch: 0000/0186 | Cost: 24.0048\n",
      "Epoch: 013/130 | Batch: 0100/0186 | Cost: 20.7664\n",
      "Epoch: 014/130 | Batch: 0000/0186 | Cost: 24.1572\n",
      "Epoch: 014/130 | Batch: 0100/0186 | Cost: 17.9893\n",
      "Epoch: 015/130 | Batch: 0000/0186 | Cost: 19.9249\n",
      "Epoch: 015/130 | Batch: 0100/0186 | Cost: 18.7942\n",
      "Epoch: 016/130 | Batch: 0000/0186 | Cost: 21.9435\n",
      "Epoch: 016/130 | Batch: 0100/0186 | Cost: 16.2101\n",
      "Epoch: 017/130 | Batch: 0000/0186 | Cost: 17.8509\n",
      "Epoch: 017/130 | Batch: 0100/0186 | Cost: 21.7117\n",
      "Epoch: 018/130 | Batch: 0000/0186 | Cost: 19.2042\n",
      "Epoch: 018/130 | Batch: 0100/0186 | Cost: 16.3838\n",
      "Epoch: 019/130 | Batch: 0000/0186 | Cost: 16.7849\n",
      "Epoch: 019/130 | Batch: 0100/0186 | Cost: 17.1102\n",
      "Epoch: 020/130 | Batch: 0000/0186 | Cost: 20.0317\n",
      "Epoch: 020/130 | Batch: 0100/0186 | Cost: 16.8997\n",
      "Epoch: 021/130 | Batch: 0000/0186 | Cost: 16.4254\n",
      "Epoch: 021/130 | Batch: 0100/0186 | Cost: 13.6454\n",
      "Epoch: 022/130 | Batch: 0000/0186 | Cost: 15.7609\n",
      "Epoch: 022/130 | Batch: 0100/0186 | Cost: 13.5085\n",
      "Epoch: 023/130 | Batch: 0000/0186 | Cost: 15.3197\n",
      "Epoch: 023/130 | Batch: 0100/0186 | Cost: 13.6509\n",
      "Epoch: 024/130 | Batch: 0000/0186 | Cost: 13.9413\n",
      "Epoch: 024/130 | Batch: 0100/0186 | Cost: 12.7269\n",
      "Epoch: 025/130 | Batch: 0000/0186 | Cost: 13.6998\n",
      "Epoch: 025/130 | Batch: 0100/0186 | Cost: 14.3774\n",
      "Epoch: 026/130 | Batch: 0000/0186 | Cost: 11.1467\n",
      "Epoch: 026/130 | Batch: 0100/0186 | Cost: 14.2736\n",
      "Epoch: 027/130 | Batch: 0000/0186 | Cost: 13.9805\n",
      "Epoch: 027/130 | Batch: 0100/0186 | Cost: 11.8988\n",
      "Epoch: 028/130 | Batch: 0000/0186 | Cost: 11.6924\n",
      "Epoch: 028/130 | Batch: 0100/0186 | Cost: 12.6906\n",
      "Epoch: 029/130 | Batch: 0000/0186 | Cost: 11.3589\n",
      "Epoch: 029/130 | Batch: 0100/0186 | Cost: 12.7627\n",
      "Epoch: 030/130 | Batch: 0000/0186 | Cost: 14.8068\n",
      "Epoch: 030/130 | Batch: 0100/0186 | Cost: 11.9516\n",
      "Epoch: 031/130 | Batch: 0000/0186 | Cost: 11.2775\n",
      "Epoch: 031/130 | Batch: 0100/0186 | Cost: 9.4420\n",
      "Epoch: 032/130 | Batch: 0000/0186 | Cost: 11.9633\n",
      "Epoch: 032/130 | Batch: 0100/0186 | Cost: 12.8417\n",
      "Epoch: 033/130 | Batch: 0000/0186 | Cost: 10.2752\n",
      "Epoch: 033/130 | Batch: 0100/0186 | Cost: 10.9746\n",
      "Epoch: 034/130 | Batch: 0000/0186 | Cost: 9.6975\n",
      "Epoch: 034/130 | Batch: 0100/0186 | Cost: 11.9171\n",
      "Epoch: 035/130 | Batch: 0000/0186 | Cost: 8.7015\n",
      "Epoch: 035/130 | Batch: 0100/0186 | Cost: 9.4196\n",
      "Epoch: 036/130 | Batch: 0000/0186 | Cost: 13.3542\n",
      "Epoch: 036/130 | Batch: 0100/0186 | Cost: 9.7914\n",
      "Epoch: 037/130 | Batch: 0000/0186 | Cost: 9.2312\n",
      "Epoch: 037/130 | Batch: 0100/0186 | Cost: 8.3112\n",
      "Epoch: 038/130 | Batch: 0000/0186 | Cost: 8.5382\n",
      "Epoch: 038/130 | Batch: 0100/0186 | Cost: 5.9426\n",
      "Epoch: 039/130 | Batch: 0000/0186 | Cost: 8.6961\n",
      "Epoch: 039/130 | Batch: 0100/0186 | Cost: 9.3315\n",
      "Epoch: 040/130 | Batch: 0000/0186 | Cost: 6.5057\n",
      "Epoch: 040/130 | Batch: 0100/0186 | Cost: 8.8865\n",
      "Epoch: 041/130 | Batch: 0000/0186 | Cost: 8.1082\n",
      "Epoch: 041/130 | Batch: 0100/0186 | Cost: 6.0918\n",
      "Epoch: 042/130 | Batch: 0000/0186 | Cost: 6.8001\n",
      "Epoch: 042/130 | Batch: 0100/0186 | Cost: 6.3996\n",
      "Epoch: 043/130 | Batch: 0000/0186 | Cost: 8.6639\n",
      "Epoch: 043/130 | Batch: 0100/0186 | Cost: 7.0866\n",
      "Epoch: 044/130 | Batch: 0000/0186 | Cost: 4.8031\n",
      "Epoch: 044/130 | Batch: 0100/0186 | Cost: 7.5716\n",
      "Epoch: 045/130 | Batch: 0000/0186 | Cost: 8.2844\n",
      "Epoch: 045/130 | Batch: 0100/0186 | Cost: 5.6152\n",
      "Epoch: 046/130 | Batch: 0000/0186 | Cost: 5.6935\n",
      "Epoch: 046/130 | Batch: 0100/0186 | Cost: 6.6561\n",
      "Epoch: 047/130 | Batch: 0000/0186 | Cost: 7.1618\n",
      "Epoch: 047/130 | Batch: 0100/0186 | Cost: 5.8721\n",
      "Epoch: 048/130 | Batch: 0000/0186 | Cost: 5.0308\n",
      "Epoch: 048/130 | Batch: 0100/0186 | Cost: 6.3208\n",
      "Epoch: 049/130 | Batch: 0000/0186 | Cost: 5.2565\n",
      "Epoch: 049/130 | Batch: 0100/0186 | Cost: 5.4008\n",
      "Epoch: 050/130 | Batch: 0000/0186 | Cost: 4.9834\n",
      "Epoch: 050/130 | Batch: 0100/0186 | Cost: 5.2329\n",
      "Epoch: 051/130 | Batch: 0000/0186 | Cost: 4.4906\n",
      "Epoch: 051/130 | Batch: 0100/0186 | Cost: 5.8287\n",
      "Epoch: 052/130 | Batch: 0000/0186 | Cost: 5.2408\n",
      "Epoch: 052/130 | Batch: 0100/0186 | Cost: 5.3026\n",
      "Epoch: 053/130 | Batch: 0000/0186 | Cost: 4.9124\n",
      "Epoch: 053/130 | Batch: 0100/0186 | Cost: 8.5310\n",
      "Epoch: 054/130 | Batch: 0000/0186 | Cost: 4.8899\n",
      "Epoch: 054/130 | Batch: 0100/0186 | Cost: 5.4382\n",
      "Epoch: 055/130 | Batch: 0000/0186 | Cost: 3.5821\n",
      "Epoch: 055/130 | Batch: 0100/0186 | Cost: 5.3201\n",
      "Epoch: 056/130 | Batch: 0000/0186 | Cost: 3.5237\n",
      "Epoch: 056/130 | Batch: 0100/0186 | Cost: 4.1001\n",
      "Epoch: 057/130 | Batch: 0000/0186 | Cost: 3.9340\n",
      "Epoch: 057/130 | Batch: 0100/0186 | Cost: 3.1922\n",
      "Epoch: 058/130 | Batch: 0000/0186 | Cost: 4.4448\n",
      "Epoch: 058/130 | Batch: 0100/0186 | Cost: 3.9873\n",
      "Epoch: 059/130 | Batch: 0000/0186 | Cost: 3.6407\n",
      "Epoch: 059/130 | Batch: 0100/0186 | Cost: 4.5935\n",
      "Epoch: 060/130 | Batch: 0000/0186 | Cost: 3.7525\n",
      "Epoch: 060/130 | Batch: 0100/0186 | Cost: 3.9800\n",
      "Epoch: 061/130 | Batch: 0000/0186 | Cost: 3.8091\n",
      "Epoch: 061/130 | Batch: 0100/0186 | Cost: 4.0362\n",
      "Epoch: 062/130 | Batch: 0000/0186 | Cost: 3.3251\n",
      "Epoch: 062/130 | Batch: 0100/0186 | Cost: 3.1071\n",
      "Epoch: 063/130 | Batch: 0000/0186 | Cost: 3.8812\n",
      "Epoch: 063/130 | Batch: 0100/0186 | Cost: 3.9187\n",
      "Epoch: 064/130 | Batch: 0000/0186 | Cost: 4.1939\n",
      "Epoch: 064/130 | Batch: 0100/0186 | Cost: 3.6157\n",
      "Epoch: 065/130 | Batch: 0000/0186 | Cost: 3.1983\n",
      "Epoch: 065/130 | Batch: 0100/0186 | Cost: 3.8593\n",
      "Epoch: 066/130 | Batch: 0000/0186 | Cost: 3.1399\n",
      "Epoch: 066/130 | Batch: 0100/0186 | Cost: 4.0533\n",
      "Epoch: 067/130 | Batch: 0000/0186 | Cost: 2.8564\n",
      "Epoch: 067/130 | Batch: 0100/0186 | Cost: 2.5468\n",
      "Epoch: 068/130 | Batch: 0000/0186 | Cost: 3.0496\n",
      "Epoch: 068/130 | Batch: 0100/0186 | Cost: 2.7969\n",
      "Epoch: 069/130 | Batch: 0000/0186 | Cost: 3.2958\n",
      "Epoch: 069/130 | Batch: 0100/0186 | Cost: 3.2361\n",
      "Epoch: 070/130 | Batch: 0000/0186 | Cost: 3.0272\n",
      "Epoch: 070/130 | Batch: 0100/0186 | Cost: 2.4456\n",
      "Epoch: 071/130 | Batch: 0000/0186 | Cost: 2.6973\n",
      "Epoch: 071/130 | Batch: 0100/0186 | Cost: 3.2133\n",
      "Epoch: 072/130 | Batch: 0000/0186 | Cost: 2.8343\n",
      "Epoch: 072/130 | Batch: 0100/0186 | Cost: 2.9078\n",
      "Epoch: 073/130 | Batch: 0000/0186 | Cost: 2.8473\n",
      "Epoch: 073/130 | Batch: 0100/0186 | Cost: 2.3293\n",
      "Epoch: 074/130 | Batch: 0000/0186 | Cost: 2.4638\n",
      "Epoch: 074/130 | Batch: 0100/0186 | Cost: 2.4670\n",
      "Epoch: 075/130 | Batch: 0000/0186 | Cost: 2.4583\n",
      "Epoch: 075/130 | Batch: 0100/0186 | Cost: 2.4914\n",
      "Epoch: 076/130 | Batch: 0000/0186 | Cost: 2.1128\n",
      "Epoch: 076/130 | Batch: 0100/0186 | Cost: 2.6220\n",
      "Epoch: 077/130 | Batch: 0000/0186 | Cost: 1.9018\n",
      "Epoch: 077/130 | Batch: 0100/0186 | Cost: 1.9190\n",
      "Epoch: 078/130 | Batch: 0000/0186 | Cost: 2.4349\n",
      "Epoch: 078/130 | Batch: 0100/0186 | Cost: 2.8168\n",
      "Epoch: 079/130 | Batch: 0000/0186 | Cost: 1.7750\n",
      "Epoch: 079/130 | Batch: 0100/0186 | Cost: 2.9614\n",
      "Epoch: 080/130 | Batch: 0000/0186 | Cost: 2.0094\n",
      "Epoch: 080/130 | Batch: 0100/0186 | Cost: 2.3084\n",
      "Epoch: 081/130 | Batch: 0000/0186 | Cost: 2.2843\n",
      "Epoch: 081/130 | Batch: 0100/0186 | Cost: 2.3485\n",
      "Epoch: 082/130 | Batch: 0000/0186 | Cost: 3.0861\n",
      "Epoch: 082/130 | Batch: 0100/0186 | Cost: 2.3237\n",
      "Epoch: 083/130 | Batch: 0000/0186 | Cost: 1.8706\n",
      "Epoch: 083/130 | Batch: 0100/0186 | Cost: 2.1234\n",
      "Epoch: 084/130 | Batch: 0000/0186 | Cost: 1.7361\n",
      "Epoch: 084/130 | Batch: 0100/0186 | Cost: 2.6757\n",
      "Epoch: 085/130 | Batch: 0000/0186 | Cost: 3.5979\n",
      "Epoch: 085/130 | Batch: 0100/0186 | Cost: 3.5250\n",
      "Epoch: 086/130 | Batch: 0000/0186 | Cost: 2.3764\n",
      "Epoch: 086/130 | Batch: 0100/0186 | Cost: 1.9536\n",
      "Epoch: 087/130 | Batch: 0000/0186 | Cost: 2.0325\n",
      "Epoch: 087/130 | Batch: 0100/0186 | Cost: 1.9942\n",
      "Epoch: 088/130 | Batch: 0000/0186 | Cost: 1.6362\n",
      "Epoch: 088/130 | Batch: 0100/0186 | Cost: 1.6494\n",
      "Epoch: 089/130 | Batch: 0000/0186 | Cost: 1.6862\n",
      "Epoch: 089/130 | Batch: 0100/0186 | Cost: 2.1137\n",
      "Epoch: 090/130 | Batch: 0000/0186 | Cost: 1.6299\n",
      "Epoch: 090/130 | Batch: 0100/0186 | Cost: 1.7110\n",
      "Epoch: 091/130 | Batch: 0000/0186 | Cost: 1.8618\n",
      "Epoch: 091/130 | Batch: 0100/0186 | Cost: 2.1125\n",
      "Epoch: 092/130 | Batch: 0000/0186 | Cost: 1.5709\n",
      "Epoch: 092/130 | Batch: 0100/0186 | Cost: 1.8446\n",
      "Epoch: 093/130 | Batch: 0000/0186 | Cost: 1.6477\n",
      "Epoch: 093/130 | Batch: 0100/0186 | Cost: 2.1896\n",
      "Epoch: 094/130 | Batch: 0000/0186 | Cost: 2.0459\n",
      "Epoch: 094/130 | Batch: 0100/0186 | Cost: 1.6311\n",
      "Epoch: 095/130 | Batch: 0000/0186 | Cost: 1.6157\n",
      "Epoch: 095/130 | Batch: 0100/0186 | Cost: 1.8904\n",
      "Epoch: 096/130 | Batch: 0000/0186 | Cost: 1.8654\n",
      "Epoch: 096/130 | Batch: 0100/0186 | Cost: 1.7946\n",
      "Epoch: 097/130 | Batch: 0000/0186 | Cost: 1.6226\n",
      "Epoch: 097/130 | Batch: 0100/0186 | Cost: 1.4800\n",
      "Epoch: 098/130 | Batch: 0000/0186 | Cost: 1.9276\n",
      "Epoch: 098/130 | Batch: 0100/0186 | Cost: 1.5532\n",
      "Epoch: 099/130 | Batch: 0000/0186 | Cost: 1.7160\n",
      "Epoch: 099/130 | Batch: 0100/0186 | Cost: 1.9134\n",
      "Epoch: 100/130 | Batch: 0000/0186 | Cost: 1.4589\n",
      "Epoch: 100/130 | Batch: 0100/0186 | Cost: 1.9914\n",
      "Epoch: 101/130 | Batch: 0000/0186 | Cost: 1.7705\n",
      "Epoch: 101/130 | Batch: 0100/0186 | Cost: 1.3980\n",
      "Epoch: 102/130 | Batch: 0000/0186 | Cost: 1.4543\n",
      "Epoch: 102/130 | Batch: 0100/0186 | Cost: 1.2537\n",
      "Epoch: 103/130 | Batch: 0000/0186 | Cost: 1.3232\n",
      "Epoch: 103/130 | Batch: 0100/0186 | Cost: 1.3377\n",
      "Epoch: 104/130 | Batch: 0000/0186 | Cost: 1.2162\n",
      "Epoch: 104/130 | Batch: 0100/0186 | Cost: 1.5469\n",
      "Epoch: 105/130 | Batch: 0000/0186 | Cost: 1.4137\n",
      "Epoch: 105/130 | Batch: 0100/0186 | Cost: 1.4058\n",
      "Epoch: 106/130 | Batch: 0000/0186 | Cost: 1.2924\n",
      "Epoch: 106/130 | Batch: 0100/0186 | Cost: 1.6252\n",
      "Epoch: 107/130 | Batch: 0000/0186 | Cost: 1.5903\n",
      "Epoch: 107/130 | Batch: 0100/0186 | Cost: 1.4890\n",
      "Epoch: 108/130 | Batch: 0000/0186 | Cost: 1.7299\n",
      "Epoch: 108/130 | Batch: 0100/0186 | Cost: 1.4238\n",
      "Epoch: 109/130 | Batch: 0000/0186 | Cost: 1.7195\n",
      "Epoch: 109/130 | Batch: 0100/0186 | Cost: 1.2024\n",
      "Epoch: 110/130 | Batch: 0000/0186 | Cost: 1.5273\n",
      "Epoch: 110/130 | Batch: 0100/0186 | Cost: 1.1234\n",
      "Epoch: 111/130 | Batch: 0000/0186 | Cost: 1.3703\n",
      "Epoch: 111/130 | Batch: 0100/0186 | Cost: 1.7684\n",
      "Epoch: 112/130 | Batch: 0000/0186 | Cost: 1.4865\n",
      "Epoch: 112/130 | Batch: 0100/0186 | Cost: 1.2948\n",
      "Epoch: 113/130 | Batch: 0000/0186 | Cost: 1.2735\n",
      "Epoch: 113/130 | Batch: 0100/0186 | Cost: 1.2837\n",
      "Epoch: 114/130 | Batch: 0000/0186 | Cost: 1.2787\n",
      "Epoch: 114/130 | Batch: 0100/0186 | Cost: 1.0129\n",
      "Epoch: 115/130 | Batch: 0000/0186 | Cost: 1.5109\n",
      "Epoch: 115/130 | Batch: 0100/0186 | Cost: 1.4590\n",
      "Epoch: 116/130 | Batch: 0000/0186 | Cost: 1.4246\n",
      "Epoch: 116/130 | Batch: 0100/0186 | Cost: 1.6125\n",
      "Epoch: 117/130 | Batch: 0000/0186 | Cost: 0.9470\n",
      "Epoch: 117/130 | Batch: 0100/0186 | Cost: 1.1794\n",
      "Epoch: 118/130 | Batch: 0000/0186 | Cost: 0.9703\n",
      "Epoch: 118/130 | Batch: 0100/0186 | Cost: 1.0998\n",
      "Epoch: 119/130 | Batch: 0000/0186 | Cost: 0.9118\n",
      "Epoch: 119/130 | Batch: 0100/0186 | Cost: 1.1496\n",
      "Epoch: 120/130 | Batch: 0000/0186 | Cost: 1.0079\n",
      "Epoch: 120/130 | Batch: 0100/0186 | Cost: 1.1780\n",
      "Epoch: 121/130 | Batch: 0000/0186 | Cost: 1.1126\n",
      "Epoch: 121/130 | Batch: 0100/0186 | Cost: 1.2501\n",
      "Epoch: 122/130 | Batch: 0000/0186 | Cost: 1.5937\n",
      "Epoch: 122/130 | Batch: 0100/0186 | Cost: 1.7463\n",
      "Epoch: 123/130 | Batch: 0000/0186 | Cost: 1.3411\n",
      "Epoch: 123/130 | Batch: 0100/0186 | Cost: 1.2401\n",
      "Epoch: 124/130 | Batch: 0000/0186 | Cost: 1.0421\n",
      "Epoch: 124/130 | Batch: 0100/0186 | Cost: 1.2783\n",
      "Epoch: 125/130 | Batch: 0000/0186 | Cost: 1.1957\n",
      "Epoch: 125/130 | Batch: 0100/0186 | Cost: 1.1225\n",
      "Epoch: 126/130 | Batch: 0000/0186 | Cost: 0.9620\n",
      "Epoch: 126/130 | Batch: 0100/0186 | Cost: 0.9884\n",
      "Epoch: 127/130 | Batch: 0000/0186 | Cost: 1.0648\n",
      "Epoch: 127/130 | Batch: 0100/0186 | Cost: 0.7681\n",
      "Epoch: 128/130 | Batch: 0000/0186 | Cost: 0.9028\n",
      "Epoch: 128/130 | Batch: 0100/0186 | Cost: 1.0047\n",
      "Epoch: 129/130 | Batch: 0000/0186 | Cost: 0.9934\n",
      "Epoch: 129/130 | Batch: 0100/0186 | Cost: 1.1130\n",
      "Epoch: 130/130 | Batch: 0000/0186 | Cost: 1.0096\n",
      "Epoch: 130/130 | Batch: 0100/0186 | Cost: 1.0691\n"
     ]
    }
   ],
   "source": [
    "epochs=130\n",
    "for epoch in range(epochs):\n",
    "    model.train()\n",
    "    for batch_ids,(features,targets) \\\n",
    "    in enumerate(dataloaders['train']):\n",
    "        features=features.to(dev)\n",
    "        targets=targets.to(dev)\n",
    "        logits,probs,predictions=model(features)\n",
    "        assert len(targets.size())==1\n",
    "        assert len(predictions.size())==1\n",
    "        cost=cost_fit(targets,predictions)\n",
    "        optimizer.zero_grad()\n",
    "        cost.backward()\n",
    "        optimizer.step()\n",
    "        if not batch_ids%100:\n",
    "            st='Epoch: %03d/%03d | Batch: %04d/%04d | Cost: %.4f'\n",
    "            print(st%(epoch+1,epochs,batch_ids,\n",
    "                     len(dataloaders['train']),cost))"
   ]
  },
  {
   "cell_type": "code",
   "execution_count": 20,
   "metadata": {
    "_kg_hide-input": true
   },
   "outputs": [
    {
     "data": {
      "text/html": [
       "<style>\n",
       "    @import 'https://fonts.googleapis.com/css?family=Monoton&effect=3d';      \n",
       "    </style><h1 class='font-effect-3d' \n",
       "    style='font-family:Monoton; color:#ff1155; font-size:35px;'>\n",
       "    Evaluation</h1>"
      ],
      "text/plain": [
       "<IPython.core.display.HTML object>"
      ]
     },
     "metadata": {},
     "output_type": "display_data"
    }
   ],
   "source": [
    "dhtml('Evaluation')"
   ]
  },
  {
   "cell_type": "code",
   "execution_count": 21,
   "metadata": {},
   "outputs": [
    {
     "name": "stdout",
     "output_type": "stream",
     "text": [
      "MAE/RMSE => Train: 0.84/1.18 | Test: 3.36/4.57\n"
     ]
    }
   ],
   "source": [
    "model.eval()\n",
    "with torch.set_grad_enabled(False):\n",
    "    train_mae,train_mse=\\\n",
    "    mae_mse(model,dataloaders['train'])\n",
    "    test_mae,test_mse=\\\n",
    "    mae_mse(model,dataloaders['test'])\n",
    "    st='MAE/RMSE => Train: %.2f/%.2f | Test: %.2f/%.2f'\n",
    "    print(st%(train_mae,torch.sqrt(train_mse),\n",
    "              test_mae,torch.sqrt(test_mse)))"
   ]
  }
 ],
 "metadata": {
  "kernelspec": {
   "display_name": "Python 3",
   "language": "python",
   "name": "python3"
  },
  "language_info": {
   "codemirror_mode": {
    "name": "ipython",
    "version": 3
   },
   "file_extension": ".py",
   "mimetype": "text/x-python",
   "name": "python",
   "nbconvert_exporter": "python",
   "pygments_lexer": "ipython3",
   "version": "3.7.6"
  }
 },
 "nbformat": 4,
 "nbformat_minor": 4
}
