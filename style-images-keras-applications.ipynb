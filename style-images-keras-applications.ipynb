{
 "cells": [
  {
   "cell_type": "markdown",
   "metadata": {
    "_uuid": "8328f1fffefbd0fb9c20f972505d88b18288d4f9"
   },
   "source": [
    "<h1 class=\"font-effect-fire-animation\" style=\"color:crimson; font-family:Akronim;\">Code Modules, Styling, Helpful Functions and Links</h1>\n",
    "#### [Github Version](https://github.com/OlgaBelitskaya/deep_learning_projects/blob/master/DL_PP4) & [Colaboratory Version](https://colab.research.google.com/drive/1r5yRD-3tQwN6lSql_VRoVuwQ8DaY5zUt)"
   ]
  },
  {
   "cell_type": "code",
   "execution_count": 1,
   "metadata": {
    "_cell_guid": "b1076dfc-b9ad-4769-8c92-a6c4dae69d19",
    "_uuid": "8f2839f25d086af736a60e9eeb907d3b93b6e0e5"
   },
   "outputs": [
    {
     "data": {
      "text/html": [
       "<style> \n",
       "@import url('https://fonts.googleapis.com/css?family=Akronim|Roboto&effect=fire-animation');\n",
       "span {color:black; text-shadow:4px 4px 4px #aaa;}\n",
       "div.output_prompt {color:crimson;} \n",
       "div.input_prompt {color:firebrick;} \n",
       "div.output_area pre,div.output_subarea {font-size:15px; color:crimson}\n",
       "div.output_stderr pre {background-color:#f7e8e8;}\n",
       "</style>"
      ],
      "text/plain": [
       "<IPython.core.display.HTML object>"
      ]
     },
     "metadata": {},
     "output_type": "display_data"
    }
   ],
   "source": [
    "%%html\n",
    "<style> \n",
    "@import url('https://fonts.googleapis.com/css?family=Akronim|Roboto&effect=fire-animation');\n",
    "span {color:black; text-shadow:4px 4px 4px #aaa;}\n",
    "div.output_prompt {color:crimson;} \n",
    "div.input_prompt {color:firebrick;} \n",
    "div.output_area pre,div.output_subarea {font-size:15px; color:crimson}\n",
    "div.output_stderr pre {background-color:#f7e8e8;}\n",
    "</style>"
   ]
  },
  {
   "cell_type": "code",
   "execution_count": 2,
   "metadata": {
    "_cell_guid": "79c7e3d0-c299-4dcb-8224-4455121ee9b0",
    "_uuid": "d629ff2d2480ee46fbb7e2d37f6b5fab8052498a"
   },
   "outputs": [
    {
     "name": "stderr",
     "output_type": "stream",
     "text": [
      "Using TensorFlow backend.\n"
     ]
    },
    {
     "name": "stdout",
     "output_type": "stream",
     "text": [
      "keras version: 2.1.5\n",
      "tensorflow version: 1.7.0\n",
      "['xception', 'inceptionresnetv2', 'style-color-images', 'resnet50', 'inceptionv3']\n"
     ]
    }
   ],
   "source": [
    "import warnings; warnings.filterwarnings('ignore')\n",
    "import h5py,os,pandas as pd,numpy as np,pylab as pl\n",
    "import seaborn as sn,keras as ks,tensorflow as tf\n",
    "from skimage.transform import resize\n",
    "import scipy; from scipy import misc\n",
    "from sklearn.model_selection import train_test_split\n",
    "from sklearn.preprocessing import OneHotEncoder\n",
    "np.set_printoptions(precision=6)\n",
    "pl.style.use('seaborn-whitegrid')\n",
    "fw='weights.style.hdf5'\n",
    "from keras.callbacks import ModelCheckpoint,EarlyStopping\n",
    "from keras.callbacks import ReduceLROnPlateau\n",
    "from keras.models import Sequential,load_model,Model\n",
    "from keras.layers import Input,Activation,Dense,LSTM\n",
    "from keras.layers import Flatten,Dropout,BatchNormalization\n",
    "from keras.layers import Conv2D,MaxPooling2D\n",
    "from keras.layers import GlobalAveragePooling2D,GlobalMaxPooling2D\n",
    "from keras.layers.advanced_activations import PReLU,LeakyReLU\n",
    "from keras.applications.resnet50 import ResNet50\n",
    "from keras.applications.resnet50 import preprocess_input as resnet50pi\n",
    "from keras.applications.inception_v3 import InceptionV3\n",
    "from keras.applications.inception_v3 import preprocess_input as inceptionv3pi\n",
    "from keras.applications.xception import Xception\n",
    "from keras.applications.xception import preprocess_input as xceptionpi\n",
    "from keras.applications.inception_resnet_v2 import InceptionResNetV2\n",
    "from keras.applications.inception_resnet_v2 import preprocess_input as inceptionresnetv2pi\n",
    "from keras import __version__\n",
    "print('keras version:', __version__)\n",
    "print('tensorflow version:',tf.__version__)\n",
    "print(os.listdir(\"../input\"))"
   ]
  },
  {
   "cell_type": "code",
   "execution_count": 3,
   "metadata": {
    "_kg_hide-input": true,
    "collapsed": true
   },
   "outputs": [],
   "source": [
    "def ohe(x): \n",
    "    return OneHotEncoder(n_values='auto')\\\n",
    "           .fit(x.reshape(-1,1)).transform(x.reshape(-1,1))\\\n",
    "           .toarray().astype('int64')\n",
    "def tts(X,y): \n",
    "    x_train,x_test,y_train,y_test=\\\n",
    "    train_test_split(X,y,test_size=.2,random_state=1)\n",
    "    n=int(len(x_test)/2)\n",
    "    x_valid,y_valid=x_test[:n],y_test[:n]\n",
    "    x_test,y_test=x_test[n:],y_test[n:]\n",
    "    return x_train,x_valid,x_test,y_train,y_valid,y_test\n",
    "def history_plot(fit_history):\n",
    "    pl.figure(figsize=(12,10)); pl.subplot(211)\n",
    "    keys=list(fit_history.history.keys())[0:4]\n",
    "    pl.plot(fit_history.history[keys[0]],\n",
    "            color='crimson',label='train')\n",
    "    pl.plot(fit_history.history[keys[2]],\n",
    "            color='firebrick',label='valid')\n",
    "    pl.xlabel(\"Epochs\"); pl.ylabel(\"Loss\")\n",
    "    pl.legend(); pl.grid()\n",
    "    pl.title('Loss Function')     \n",
    "    pl.subplot(212)\n",
    "    pl.plot(fit_history.history[keys[1]],\n",
    "            color='crimson',label='train')\n",
    "    pl.plot(fit_history.history[keys[3]],\n",
    "            color='firebrick',label='valid')\n",
    "    pl.xlabel(\"Epochs\"); pl.ylabel(\"Accuracy\")    \n",
    "    pl.legend(); pl.grid()\n",
    "    pl.title('Accuracy'); pl.show()"
   ]
  },
  {
   "cell_type": "markdown",
   "metadata": {
    "_uuid": "72a0eb32a7d53b622d6fef4e1545cd54ac9d9ed6",
    "collapsed": true
   },
   "source": [
    "<h1 class=\"font-effect-fire-animation\" style=\"color:crimson; font-family:Akronim;\">Data Preprocessing</h1>"
   ]
  },
  {
   "cell_type": "code",
   "execution_count": 4,
   "metadata": {
    "_kg_hide-output": true,
    "_uuid": "78e68c3b6876cf1805233ef4b40eddf1b0af6125"
   },
   "outputs": [
    {
     "data": {
      "text/html": [
       "<div>\n",
       "<style scoped>\n",
       "    .dataframe tbody tr th:only-of-type {\n",
       "        vertical-align: middle;\n",
       "    }\n",
       "\n",
       "    .dataframe tbody tr th {\n",
       "        vertical-align: top;\n",
       "    }\n",
       "\n",
       "    .dataframe thead th {\n",
       "        text-align: right;\n",
       "    }\n",
       "</style>\n",
       "<table border=\"1\" class=\"dataframe\">\n",
       "  <thead>\n",
       "    <tr style=\"text-align: right;\">\n",
       "      <th></th>\n",
       "      <th>brand_name</th>\n",
       "      <th>brand_label</th>\n",
       "      <th>product_name</th>\n",
       "      <th>product_label</th>\n",
       "      <th>file</th>\n",
       "    </tr>\n",
       "  </thead>\n",
       "  <tbody>\n",
       "    <tr>\n",
       "      <th>2179</th>\n",
       "      <td>Yves Saint Laurent</td>\n",
       "      <td>6</td>\n",
       "      <td>earrings</td>\n",
       "      <td>9</td>\n",
       "      <td>6_9_017.png</td>\n",
       "    </tr>\n",
       "    <tr>\n",
       "      <th>2180</th>\n",
       "      <td>Yves Saint Laurent</td>\n",
       "      <td>6</td>\n",
       "      <td>earrings</td>\n",
       "      <td>9</td>\n",
       "      <td>6_9_018.png</td>\n",
       "    </tr>\n",
       "    <tr>\n",
       "      <th>2181</th>\n",
       "      <td>Yves Saint Laurent</td>\n",
       "      <td>6</td>\n",
       "      <td>earrings</td>\n",
       "      <td>9</td>\n",
       "      <td>6_9_019.png</td>\n",
       "    </tr>\n",
       "    <tr>\n",
       "      <th>2182</th>\n",
       "      <td>Yves Saint Laurent</td>\n",
       "      <td>6</td>\n",
       "      <td>earrings</td>\n",
       "      <td>9</td>\n",
       "      <td>6_9_020.png</td>\n",
       "    </tr>\n",
       "    <tr>\n",
       "      <th>2183</th>\n",
       "      <td>Yves Saint Laurent</td>\n",
       "      <td>6</td>\n",
       "      <td>earrings</td>\n",
       "      <td>9</td>\n",
       "      <td>6_9_021.png</td>\n",
       "    </tr>\n",
       "  </tbody>\n",
       "</table>\n",
       "</div>"
      ],
      "text/plain": [
       "              brand_name  brand_label product_name  product_label         file\n",
       "2179  Yves Saint Laurent            6     earrings              9  6_9_017.png\n",
       "2180  Yves Saint Laurent            6     earrings              9  6_9_018.png\n",
       "2181  Yves Saint Laurent            6     earrings              9  6_9_019.png\n",
       "2182  Yves Saint Laurent            6     earrings              9  6_9_020.png\n",
       "2183  Yves Saint Laurent            6     earrings              9  6_9_021.png"
      ]
     },
     "execution_count": 4,
     "metadata": {},
     "output_type": "execute_result"
    }
   ],
   "source": [
    "data=pd.read_csv(\"../input/style-color-images/style/style.csv\")\n",
    "data.tail()"
   ]
  },
  {
   "cell_type": "code",
   "execution_count": 5,
   "metadata": {
    "_uuid": "4fb6591b74f6d5cc56c5e8894d363fc213d5dbc5"
   },
   "outputs": [
    {
     "data": {
      "text/plain": [
       "[['brands', 'images', 'products'], [(2184,), (2184, 150, 150, 3), (2184,)]]"
      ]
     },
     "execution_count": 5,
     "metadata": {},
     "output_type": "execute_result"
    }
   ],
   "source": [
    "f=h5py.File('../input/style-color-images/StyleColorImages.h5','r')\n",
    "keys=list(f.keys())\n",
    "brands=np.array(f[keys[0]])\n",
    "images=np.array(f[keys[1]])\n",
    "products=np.array(f[keys[2]])\n",
    "[keys,[brands.shape,images.shape,products.shape]]"
   ]
  },
  {
   "cell_type": "code",
   "execution_count": 6,
   "metadata": {},
   "outputs": [
    {
     "name": "stdout",
     "output_type": "stream",
     "text": [
      "Product:  lipstick\n",
      "Brand:  Christian Louboutin\n"
     ]
    },
    {
     "data": {
      "image/png": "[encoded data removed]",
      "text/plain": [
       "<matplotlib.figure.Figure at 0x7fdfdf2a5ef0>"
      ]
     },
     "metadata": {},
     "output_type": "display_data"
    }
   ],
   "source": [
    "# normalization of image arrays\n",
    "images=images.astype('float32')/255\n",
    "print('Product: ',data['product_name'][100])\n",
    "print('Brand: ',data['brand_name'][100])\n",
    "pl.figure(figsize=(3,3)); pl.imshow(images[100])\n",
    "pl.show()"
   ]
  },
  {
   "cell_type": "code",
   "execution_count": 7,
   "metadata": {},
   "outputs": [
    {
     "data": {
      "text/html": [
       "<div>\n",
       "<style scoped>\n",
       "    .dataframe tbody tr th:only-of-type {\n",
       "        vertical-align: middle;\n",
       "    }\n",
       "\n",
       "    .dataframe tbody tr th {\n",
       "        vertical-align: top;\n",
       "    }\n",
       "\n",
       "    .dataframe thead th {\n",
       "        text-align: right;\n",
       "    }\n",
       "</style>\n",
       "<table border=\"1\" class=\"dataframe\">\n",
       "  <thead>\n",
       "    <tr style=\"text-align: right;\">\n",
       "      <th></th>\n",
       "      <th>0</th>\n",
       "      <th>1</th>\n",
       "      <th>2</th>\n",
       "      <th>3</th>\n",
       "    </tr>\n",
       "  </thead>\n",
       "  <tbody>\n",
       "    <tr>\n",
       "      <th>0</th>\n",
       "      <td>2184</td>\n",
       "      <td>150</td>\n",
       "      <td>150.0</td>\n",
       "      <td>3.0</td>\n",
       "    </tr>\n",
       "    <tr>\n",
       "      <th>1</th>\n",
       "      <td>2184</td>\n",
       "      <td>7</td>\n",
       "      <td>NaN</td>\n",
       "      <td>NaN</td>\n",
       "    </tr>\n",
       "    <tr>\n",
       "      <th>2</th>\n",
       "      <td>2184</td>\n",
       "      <td>10</td>\n",
       "      <td>NaN</td>\n",
       "      <td>NaN</td>\n",
       "    </tr>\n",
       "    <tr>\n",
       "      <th>3</th>\n",
       "      <td>2184</td>\n",
       "      <td>17</td>\n",
       "      <td>NaN</td>\n",
       "      <td>NaN</td>\n",
       "    </tr>\n",
       "  </tbody>\n",
       "</table>\n",
       "</div>"
      ],
      "text/plain": [
       "      0    1      2    3\n",
       "0  2184  150  150.0  3.0\n",
       "1  2184    7    NaN  NaN\n",
       "2  2184   10    NaN  NaN\n",
       "3  2184   17    NaN  NaN"
      ]
     },
     "execution_count": 7,
     "metadata": {},
     "output_type": "execute_result"
    }
   ],
   "source": [
    "# one-hot encoding\n",
    "cbrands,cproducts=ohe(brands),ohe(products)\n",
    "ctargets=np.concatenate((cbrands,cproducts),axis=1)\n",
    "pd.DataFrame([images.shape,cbrands.shape,\n",
    "              cproducts.shape,ctargets.shape])"
   ]
  },
  {
   "cell_type": "code",
   "execution_count": 8,
   "metadata": {
    "_uuid": "fc7ad7e8b66d6be017beb9fa9fdf671cae1a1fc6",
    "collapsed": true
   },
   "outputs": [],
   "source": [
    "# splitting the data\n",
    "# Color Images / Brands \n",
    "x_train1,x_valid1,x_test1,\\\n",
    "y_train1,y_valid1,y_test1=tts(images,cbrands)\n",
    "# Color Images / Products \n",
    "x_train3,x_valid3,x_test3,\\\n",
    "y_train3,y_valid3,y_test3=tts(images,cproducts)"
   ]
  },
  {
   "cell_type": "markdown",
   "metadata": {
    "_uuid": "7e90db5dbbbe3e9b437f742a606560fab51cd3f5"
   },
   "source": [
    "<h1 class=\"font-effect-fire-animation\" style=\"color:crimson; font-family:Akronim;\">Classification Models</h1>\n",
    "## ResNet50"
   ]
  },
  {
   "cell_type": "code",
   "execution_count": 9,
   "metadata": {
    "_uuid": "2c05ca033058667cfe514be723230c3dfc7e03c4"
   },
   "outputs": [],
   "source": [
    "# creating bottleneck features\n",
    "resize_x_train=np.array([scipy.misc.imresize(x_train1[i],(197,197,3)) \n",
    "                           for i in range(0,len(x_train1))]).astype('float32')\n",
    "resize_x_valid=np.array([scipy.misc.imresize(x_valid1[i],(197,197,3)) \n",
    "                           for i in range(0,len(x_valid1))]).astype('float32')\n",
    "resize_x_test=np.array([scipy.misc.imresize(x_test1[i],(197,197,3)) \n",
    "                         for i in range(0,len(x_test1))]).astype('float32')\n",
    "x_train_bn=resnet50pi(resize_x_train)\n",
    "x_valid_bn =resnet50pi(resize_x_valid)\n",
    "x_test_bn=resnet50pi(resize_x_test)\n",
    "fn='../input/resnet50/resnet50_weights_tf_dim_ordering_tf_kernels_notop.h5'\n",
    "resnet50_base_model=ResNet50(weights=fn,include_top=False)\n",
    "x_train_bn=resnet50_base_model.predict(x_train_bn)\n",
    "x_valid_bn=resnet50_base_model.predict(x_valid_bn)\n",
    "x_test_bn=resnet50_base_model.predict(x_test_bn)"
   ]
  },
  {
   "cell_type": "code",
   "execution_count": 10,
   "metadata": {
    "_kg_hide-input": true,
    "_uuid": "e3cc751ef19dcf9ea347051da4cf259e34234f0c",
    "collapsed": true
   },
   "outputs": [],
   "source": [
    "sh=x_train_bn.shape[1:]\n",
    "def resnet50_model():\n",
    "    model=Sequential()   \n",
    "    model.add(GlobalAveragePooling2D(input_shape=sh))    \n",
    "    model.add(Dense(2048))\n",
    "    model.add(LeakyReLU(alpha=.02))\n",
    "    model.add(Dropout(.5))        \n",
    "    model.add(Dense(512))\n",
    "    model.add(LeakyReLU(alpha=.02))\n",
    "    model.add(Dropout(.5))\n",
    "    model.add(Dense(7,activation='softmax'))    \n",
    "    model.compile(loss='categorical_crossentropy',\n",
    "                  optimizer='adam',metrics=['accuracy'])\n",
    "    return model\n",
    "resnet50_model=resnet50_model()"
   ]
  },
  {
   "cell_type": "code",
   "execution_count": 11,
   "metadata": {
    "_kg_hide-output": true,
    "_uuid": "1b67e74472a9ae43068fcc8f346c79c752dcaa3b"
   },
   "outputs": [
    {
     "name": "stdout",
     "output_type": "stream",
     "text": [
      "Train on 1747 samples, validate on 218 samples\n",
      "Epoch 1/100\n",
      " - 3s - loss: 2.2626 - acc: 0.2759 - val_loss: 1.5140 - val_acc: 0.4450\n",
      "\n",
      "Epoch 00001: val_loss improved from inf to 1.51401, saving model to weights.style.hdf5\n",
      "Epoch 2/100\n",
      " - 1s - loss: 1.5113 - acc: 0.4070 - val_loss: 1.2639 - val_acc: 0.5596\n",
      "\n",
      "Epoch 00002: val_loss improved from 1.51401 to 1.26393, saving model to weights.style.hdf5\n",
      "Epoch 3/100\n",
      " - 1s - loss: 1.2329 - acc: 0.5501 - val_loss: 1.0892 - val_acc: 0.6284\n",
      "\n",
      "Epoch 00003: val_loss improved from 1.26393 to 1.08918, saving model to weights.style.hdf5\n",
      "Epoch 4/100\n",
      " - 1s - loss: 1.0334 - acc: 0.6245 - val_loss: 0.9915 - val_acc: 0.6422\n",
      "\n",
      "Epoch 00004: val_loss improved from 1.08918 to 0.99146, saving model to weights.style.hdf5\n",
      "Epoch 5/100\n",
      " - 1s - loss: 0.8828 - acc: 0.6875 - val_loss: 0.9199 - val_acc: 0.6651\n",
      "\n",
      "Epoch 00005: val_loss improved from 0.99146 to 0.91994, saving model to weights.style.hdf5\n",
      "Epoch 6/100\n",
      " - 1s - loss: 0.7238 - acc: 0.7390 - val_loss: 0.8540 - val_acc: 0.7202\n",
      "\n",
      "Epoch 00006: val_loss improved from 0.91994 to 0.85397, saving model to weights.style.hdf5\n",
      "Epoch 7/100\n",
      " - 1s - loss: 0.5916 - acc: 0.7819 - val_loss: 0.8203 - val_acc: 0.6972\n",
      "\n",
      "Epoch 00007: val_loss improved from 0.85397 to 0.82027, saving model to weights.style.hdf5\n",
      "Epoch 8/100\n",
      " - 1s - loss: 0.4856 - acc: 0.8254 - val_loss: 0.8280 - val_acc: 0.7064\n",
      "\n",
      "Epoch 00008: val_loss did not improve\n",
      "Epoch 9/100\n",
      " - 1s - loss: 0.4108 - acc: 0.8506 - val_loss: 0.7474 - val_acc: 0.7339\n",
      "\n",
      "Epoch 00009: val_loss improved from 0.82027 to 0.74740, saving model to weights.style.hdf5\n",
      "Epoch 10/100\n",
      " - 1s - loss: 0.3284 - acc: 0.8895 - val_loss: 0.7806 - val_acc: 0.7248\n",
      "\n",
      "Epoch 00010: val_loss did not improve\n",
      "Epoch 11/100\n",
      " - 1s - loss: 0.2895 - acc: 0.9004 - val_loss: 0.7888 - val_acc: 0.7523\n",
      "\n",
      "Epoch 00011: val_loss did not improve\n",
      "Epoch 12/100\n",
      " - 1s - loss: 0.2196 - acc: 0.9199 - val_loss: 0.7403 - val_acc: 0.7615\n",
      "\n",
      "Epoch 00012: val_loss improved from 0.74740 to 0.74032, saving model to weights.style.hdf5\n",
      "Epoch 13/100\n",
      " - 1s - loss: 0.1907 - acc: 0.9422 - val_loss: 0.7836 - val_acc: 0.7431\n",
      "\n",
      "Epoch 00013: val_loss did not improve\n",
      "Epoch 14/100\n",
      " - 1s - loss: 0.1562 - acc: 0.9462 - val_loss: 0.7941 - val_acc: 0.7661\n",
      "\n",
      "Epoch 00014: val_loss did not improve\n",
      "Epoch 15/100\n",
      " - 1s - loss: 0.1667 - acc: 0.9439 - val_loss: 0.7797 - val_acc: 0.7477\n",
      "\n",
      "Epoch 00015: val_loss did not improve\n",
      "Epoch 16/100\n",
      " - 1s - loss: 0.1488 - acc: 0.9502 - val_loss: 0.8540 - val_acc: 0.7431\n",
      "\n",
      "Epoch 00016: val_loss did not improve\n",
      "Epoch 17/100\n",
      " - 1s - loss: 0.1341 - acc: 0.9554 - val_loss: 0.7549 - val_acc: 0.7569\n",
      "\n",
      "Epoch 00017: val_loss did not improve\n",
      "Epoch 18/100\n",
      " - 1s - loss: 0.1200 - acc: 0.9594 - val_loss: 0.8317 - val_acc: 0.7706\n",
      "\n",
      "Epoch 00018: val_loss did not improve\n",
      "Epoch 19/100\n",
      " - 1s - loss: 0.0942 - acc: 0.9714 - val_loss: 0.8514 - val_acc: 0.7615\n",
      "\n",
      "Epoch 00019: val_loss did not improve\n",
      "Epoch 20/100\n",
      " - 1s - loss: 0.1049 - acc: 0.9622 - val_loss: 0.9868 - val_acc: 0.7706\n",
      "\n",
      "Epoch 00020: val_loss did not improve\n",
      "Epoch 21/100\n",
      " - 1s - loss: 0.1209 - acc: 0.9634 - val_loss: 0.9652 - val_acc: 0.7431\n",
      "\n",
      "Epoch 00021: val_loss did not improve\n",
      "Epoch 22/100\n",
      " - 1s - loss: 0.1066 - acc: 0.9634 - val_loss: 0.8359 - val_acc: 0.7477\n",
      "\n",
      "Epoch 00022: val_loss did not improve\n",
      "\n",
      "Epoch 00022: ReduceLROnPlateau reducing learning rate to 0.0005000000237487257.\n",
      "Epoch 23/100\n",
      " - 1s - loss: 0.0732 - acc: 0.9788 - val_loss: 0.8263 - val_acc: 0.7477\n",
      "\n",
      "Epoch 00023: val_loss did not improve\n",
      "Epoch 24/100\n",
      " - 1s - loss: 0.0354 - acc: 0.9926 - val_loss: 0.8037 - val_acc: 0.7661\n",
      "\n",
      "Epoch 00024: val_loss did not improve\n",
      "Epoch 25/100\n",
      " - 1s - loss: 0.0335 - acc: 0.9908 - val_loss: 0.8832 - val_acc: 0.7294\n",
      "\n",
      "Epoch 00025: val_loss did not improve\n",
      "Epoch 26/100\n",
      " - 2s - loss: 0.0286 - acc: 0.9914 - val_loss: 0.9052 - val_acc: 0.7339\n",
      "\n",
      "Epoch 00026: val_loss did not improve\n",
      "Epoch 27/100\n",
      " - 2s - loss: 0.0296 - acc: 0.9931 - val_loss: 0.8857 - val_acc: 0.7385\n",
      "\n",
      "Epoch 00027: val_loss did not improve\n",
      "Epoch 28/100\n",
      " - 2s - loss: 0.0203 - acc: 0.9943 - val_loss: 0.8932 - val_acc: 0.7477\n",
      "\n",
      "Epoch 00028: val_loss did not improve\n",
      "Epoch 29/100\n",
      " - 2s - loss: 0.0257 - acc: 0.9937 - val_loss: 0.8951 - val_acc: 0.7339\n",
      "\n",
      "Epoch 00029: val_loss did not improve\n",
      "Epoch 30/100\n",
      " - 2s - loss: 0.0168 - acc: 0.9948 - val_loss: 0.8870 - val_acc: 0.7339\n",
      "\n",
      "Epoch 00030: val_loss did not improve\n",
      "Epoch 31/100\n",
      " - 2s - loss: 0.0205 - acc: 0.9943 - val_loss: 0.8749 - val_acc: 0.7431\n",
      "\n",
      "Epoch 00031: val_loss did not improve\n",
      "Epoch 32/100\n",
      " - 2s - loss: 0.0180 - acc: 0.9960 - val_loss: 0.9065 - val_acc: 0.7156\n",
      "\n",
      "Epoch 00032: val_loss did not improve\n",
      "\n",
      "Epoch 00032: ReduceLROnPlateau reducing learning rate to 0.0002500000118743628.\n",
      "Epoch 33/100\n",
      " - 2s - loss: 0.0151 - acc: 0.9960 - val_loss: 0.8581 - val_acc: 0.7569\n",
      "\n",
      "Epoch 00033: val_loss did not improve\n",
      "Epoch 34/100\n",
      " - 2s - loss: 0.0117 - acc: 0.9977 - val_loss: 0.8703 - val_acc: 0.7523\n",
      "\n",
      "Epoch 00034: val_loss did not improve\n",
      "Epoch 35/100\n",
      " - 2s - loss: 0.0087 - acc: 0.9989 - val_loss: 0.8691 - val_acc: 0.7431\n",
      "\n",
      "Epoch 00035: val_loss did not improve\n",
      "Epoch 36/100\n",
      " - 1s - loss: 0.0095 - acc: 0.9983 - val_loss: 0.8823 - val_acc: 0.7477\n",
      "\n",
      "Epoch 00036: val_loss did not improve\n",
      "Epoch 37/100\n",
      " - 1s - loss: 0.0099 - acc: 0.9994 - val_loss: 0.9380 - val_acc: 0.7385\n",
      "\n",
      "Epoch 00037: val_loss did not improve\n",
      "Epoch 00037: early stopping\n"
     ]
    }
   ],
   "source": [
    "checkpointer=ModelCheckpoint(filepath=fw,verbose=2,save_best_only=True)\n",
    "lr_reduction=ReduceLROnPlateau(monitor='val_loss',patience=10,\n",
    "                               verbose=2,factor=.5)\n",
    "estopping=EarlyStopping(monitor='val_loss',patience=25,verbose=2)\n",
    "history=\\\n",
    "resnet50_model.fit(x_train_bn,y_train1,\n",
    "                   validation_data=(x_valid_bn,y_valid1),\n",
    "                   epochs=100,batch_size=128,verbose=2,\n",
    "                   callbacks=[checkpointer,lr_reduction,estopping]);"
   ]
  },
  {
   "cell_type": "code",
   "execution_count": 12,
   "metadata": {
    "_uuid": "dbdbc3ea6e60b119becfd9aecee2b1b9c5e8e74a"
   },
   "outputs": [
    {
     "data": {
      "image/png": "[encoded data removed]",
      "text/plain": [
       "<matplotlib.figure.Figure at 0x7fdfbbfcac50>"
      ]
     },
     "metadata": {},
     "output_type": "display_data"
    },
    {
     "name": "stdout",
     "output_type": "stream",
     "text": [
      "219/219 [==============================] - 0s 287us/step\n",
      "Accuracy: 73.52%\n"
     ]
    },
    {
     "data": {
      "text/plain": [
       "[0.7921069876788414, 0.7351598143577576]"
      ]
     },
     "execution_count": 12,
     "metadata": {},
     "output_type": "execute_result"
    }
   ],
   "source": [
    "history_plot(history)\n",
    "resnet50_model.load_weights(fw)\n",
    "resnet50_scores=resnet50_model.evaluate(x_test_bn,y_test1)\n",
    "print(\"Accuracy: %.2f%%\"%(resnet50_scores[1]*100))\n",
    "resnet50_scores"
   ]
  },
  {
   "cell_type": "markdown",
   "metadata": {
    "_uuid": "217e3eab2cc3dfa6ecf3423588c8d6eecd513a5b"
   },
   "source": [
    "## Inception V3"
   ]
  },
  {
   "cell_type": "code",
   "execution_count": 13,
   "metadata": {
    "_uuid": "36215fddcb914d923c55979595f336f7362be9a5"
   },
   "outputs": [],
   "source": [
    "resize_x_train=np.array([scipy.misc.imresize(x_train3[i],(139,139,3)) \n",
    "                         for i in range(0,len(x_train3))]).astype('float32')\n",
    "resize_x_valid=np.array([scipy.misc.imresize(x_valid3[i],(139,139,3)) \n",
    "                         for i in range(0,len(x_valid3))]).astype('float32')\n",
    "resize_x_test=np.array([scipy.misc.imresize(x_test3[i],(139,139,3)) \n",
    "                        for i in range(0,len(x_test3))]).astype('float32')\n",
    "x_train_bn=inceptionv3pi(resize_x_train)\n",
    "x_valid_bn=inceptionv3pi(resize_x_valid)\n",
    "x_test_bn=inceptionv3pi(resize_x_test)\n",
    "fn='../input/inceptionv3/inception_v3_weights_tf_dim_ordering_tf_kernels_notop.h5'\n",
    "inception_v3_base_model=InceptionV3(weights=fn,include_top=False)\n",
    "x_train_bn=inception_v3_base_model.predict(x_train_bn)\n",
    "x_valid_bn=inception_v3_base_model.predict(x_valid_bn)\n",
    "x_test_bn=inception_v3_base_model.predict(x_test_bn)"
   ]
  },
  {
   "cell_type": "code",
   "execution_count": 14,
   "metadata": {
    "_uuid": "282bb391363d57791360485bdb96a142a5783e64",
    "collapsed": true
   },
   "outputs": [],
   "source": [
    "sh=x_train_bn.shape[1:]\n",
    "def inception_v3_model():\n",
    "    model=Sequential()  \n",
    "    model.add(GlobalAveragePooling2D(input_shape=sh))    \n",
    "    model.add(Dense(2048))\n",
    "    model.add(LeakyReLU(alpha=.02))\n",
    "    model.add(Dropout(.5))       \n",
    "    model.add(Dense(512))\n",
    "    model.add(LeakyReLU(alpha=.02))\n",
    "    model.add(Dropout(.5))\n",
    "    model.add(Dense(10,activation='softmax'))     \n",
    "    model.compile(loss='categorical_crossentropy',\n",
    "                  optimizer='nadam',metrics=['accuracy'])\n",
    "    return model\n",
    "inception_v3_model=inception_v3_model()"
   ]
  },
  {
   "cell_type": "code",
   "execution_count": 15,
   "metadata": {
    "_kg_hide-output": true,
    "_uuid": "a6b8bf9194d38d16b85e7ec41df2838dff0f2329"
   },
   "outputs": [
    {
     "name": "stdout",
     "output_type": "stream",
     "text": [
      "Train on 1747 samples, validate on 218 samples\n",
      "Epoch 1/100\n",
      " - 4s - loss: 8.1366 - acc: 0.2398 - val_loss: 1.8462 - val_acc: 0.4220\n",
      "\n",
      "Epoch 00001: val_loss improved from inf to 1.84622, saving model to weights.style.hdf5\n",
      "Epoch 2/100\n",
      " - 2s - loss: 1.4443 - acc: 0.5867 - val_loss: 0.9997 - val_acc: 0.6606\n",
      "\n",
      "Epoch 00002: val_loss improved from 1.84622 to 0.99968, saving model to weights.style.hdf5\n",
      "Epoch 3/100\n",
      " - 2s - loss: 0.8480 - acc: 0.7338 - val_loss: 0.9213 - val_acc: 0.7156\n",
      "\n",
      "Epoch 00003: val_loss improved from 0.99968 to 0.92132, saving model to weights.style.hdf5\n",
      "Epoch 4/100\n",
      " - 2s - loss: 0.6446 - acc: 0.7951 - val_loss: 0.7207 - val_acc: 0.7569\n",
      "\n",
      "Epoch 00004: val_loss improved from 0.92132 to 0.72072, saving model to weights.style.hdf5\n",
      "Epoch 5/100\n",
      " - 2s - loss: 0.6248 - acc: 0.7916 - val_loss: 0.7632 - val_acc: 0.7752\n",
      "\n",
      "Epoch 00005: val_loss did not improve\n",
      "Epoch 6/100\n",
      " - 2s - loss: 0.4437 - acc: 0.8517 - val_loss: 0.7212 - val_acc: 0.7890\n",
      "\n",
      "Epoch 00006: val_loss did not improve\n",
      "Epoch 7/100\n",
      " - 2s - loss: 0.4999 - acc: 0.8500 - val_loss: 0.6917 - val_acc: 0.7890\n",
      "\n",
      "Epoch 00007: val_loss improved from 0.72072 to 0.69168, saving model to weights.style.hdf5\n",
      "Epoch 8/100\n",
      " - 2s - loss: 0.3690 - acc: 0.8706 - val_loss: 0.9966 - val_acc: 0.7523\n",
      "\n",
      "Epoch 00008: val_loss did not improve\n",
      "Epoch 9/100\n",
      " - 2s - loss: 0.3492 - acc: 0.8855 - val_loss: 0.7400 - val_acc: 0.7661\n",
      "\n",
      "Epoch 00009: val_loss did not improve\n",
      "Epoch 10/100\n",
      " - 2s - loss: 0.3428 - acc: 0.8930 - val_loss: 0.8432 - val_acc: 0.7752\n",
      "\n",
      "Epoch 00010: val_loss did not improve\n",
      "Epoch 11/100\n",
      " - 2s - loss: 0.3430 - acc: 0.8872 - val_loss: 0.6775 - val_acc: 0.7798\n",
      "\n",
      "Epoch 00011: val_loss improved from 0.69168 to 0.67753, saving model to weights.style.hdf5\n",
      "Epoch 12/100\n",
      " - 2s - loss: 0.2433 - acc: 0.9170 - val_loss: 0.8744 - val_acc: 0.7844\n",
      "\n",
      "Epoch 00012: val_loss did not improve\n",
      "Epoch 13/100\n",
      " - 2s - loss: 0.2204 - acc: 0.9267 - val_loss: 0.9106 - val_acc: 0.7752\n",
      "\n",
      "Epoch 00013: val_loss did not improve\n",
      "Epoch 14/100\n",
      " - 2s - loss: 0.1913 - acc: 0.9353 - val_loss: 0.5951 - val_acc: 0.8303\n",
      "\n",
      "Epoch 00014: val_loss improved from 0.67753 to 0.59514, saving model to weights.style.hdf5\n",
      "Epoch 15/100\n",
      " - 2s - loss: 0.1444 - acc: 0.9496 - val_loss: 0.6579 - val_acc: 0.7982\n",
      "\n",
      "Epoch 00015: val_loss did not improve\n",
      "Epoch 16/100\n",
      " - 2s - loss: 0.1206 - acc: 0.9605 - val_loss: 0.7395 - val_acc: 0.8028\n",
      "\n",
      "Epoch 00016: val_loss did not improve\n",
      "Epoch 17/100\n",
      " - 2s - loss: 0.0980 - acc: 0.9639 - val_loss: 0.9005 - val_acc: 0.7844\n",
      "\n",
      "Epoch 00017: val_loss did not improve\n",
      "Epoch 18/100\n",
      " - 2s - loss: 0.1399 - acc: 0.9576 - val_loss: 0.8991 - val_acc: 0.8073\n",
      "\n",
      "Epoch 00018: val_loss did not improve\n",
      "Epoch 19/100\n",
      " - 2s - loss: 1.0617 - acc: 0.8008 - val_loss: 1.0350 - val_acc: 0.6651\n",
      "\n",
      "Epoch 00019: val_loss did not improve\n",
      "Epoch 20/100\n",
      " - 2s - loss: 0.3406 - acc: 0.9038 - val_loss: 0.7956 - val_acc: 0.8119\n",
      "\n",
      "Epoch 00020: val_loss did not improve\n",
      "Epoch 21/100\n",
      " - 2s - loss: 0.2003 - acc: 0.9325 - val_loss: 0.8103 - val_acc: 0.7890\n",
      "\n",
      "Epoch 00021: val_loss did not improve\n",
      "Epoch 22/100\n",
      " - 2s - loss: 0.0989 - acc: 0.9674 - val_loss: 0.7427 - val_acc: 0.8028\n",
      "\n",
      "Epoch 00022: val_loss did not improve\n",
      "Epoch 23/100\n",
      " - 2s - loss: 0.0851 - acc: 0.9708 - val_loss: 0.7652 - val_acc: 0.8211\n",
      "\n",
      "Epoch 00023: val_loss did not improve\n",
      "Epoch 24/100\n",
      " - 2s - loss: 0.0746 - acc: 0.9742 - val_loss: 0.8232 - val_acc: 0.8257\n",
      "\n",
      "Epoch 00024: val_loss did not improve\n",
      "\n",
      "Epoch 00024: ReduceLROnPlateau reducing learning rate to 0.0010000000474974513.\n",
      "Epoch 25/100\n",
      " - 2s - loss: 0.0457 - acc: 0.9845 - val_loss: 0.8150 - val_acc: 0.8211\n",
      "\n",
      "Epoch 00025: val_loss did not improve\n",
      "Epoch 26/100\n",
      " - 2s - loss: 0.0385 - acc: 0.9874 - val_loss: 0.9902 - val_acc: 0.8028\n",
      "\n",
      "Epoch 00026: val_loss did not improve\n",
      "Epoch 27/100\n",
      " - 2s - loss: 0.0401 - acc: 0.9857 - val_loss: 0.7705 - val_acc: 0.8211\n",
      "\n",
      "Epoch 00027: val_loss did not improve\n",
      "Epoch 28/100\n",
      " - 2s - loss: 0.0266 - acc: 0.9920 - val_loss: 0.9330 - val_acc: 0.8211\n",
      "\n",
      "Epoch 00028: val_loss did not improve\n",
      "Epoch 29/100\n",
      " - 2s - loss: 0.0367 - acc: 0.9903 - val_loss: 0.8517 - val_acc: 0.8257\n",
      "\n",
      "Epoch 00029: val_loss did not improve\n",
      "Epoch 30/100\n",
      " - 2s - loss: 0.0281 - acc: 0.9914 - val_loss: 0.9097 - val_acc: 0.7798\n",
      "\n",
      "Epoch 00030: val_loss did not improve\n",
      "Epoch 31/100\n",
      " - 2s - loss: 0.0311 - acc: 0.9908 - val_loss: 0.8420 - val_acc: 0.8394\n",
      "\n",
      "Epoch 00031: val_loss did not improve\n",
      "Epoch 32/100\n",
      " - 2s - loss: 0.0243 - acc: 0.9920 - val_loss: 0.9691 - val_acc: 0.8211\n",
      "\n",
      "Epoch 00032: val_loss did not improve\n",
      "Epoch 33/100\n",
      " - 2s - loss: 0.0252 - acc: 0.9914 - val_loss: 1.0291 - val_acc: 0.8165\n",
      "\n",
      "Epoch 00033: val_loss did not improve\n",
      "Epoch 34/100\n",
      " - 2s - loss: 0.0235 - acc: 0.9931 - val_loss: 0.9522 - val_acc: 0.8257\n",
      "\n",
      "Epoch 00034: val_loss did not improve\n",
      "\n",
      "Epoch 00034: ReduceLROnPlateau reducing learning rate to 0.0005000000237487257.\n",
      "Epoch 35/100\n",
      " - 2s - loss: 0.0174 - acc: 0.9931 - val_loss: 0.9859 - val_acc: 0.8349\n",
      "\n",
      "Epoch 00035: val_loss did not improve\n",
      "Epoch 36/100\n",
      " - 2s - loss: 0.0206 - acc: 0.9914 - val_loss: 0.9201 - val_acc: 0.8349\n",
      "\n",
      "Epoch 00036: val_loss did not improve\n",
      "Epoch 37/100\n",
      " - 2s - loss: 0.0157 - acc: 0.9948 - val_loss: 0.8898 - val_acc: 0.8211\n",
      "\n",
      "Epoch 00037: val_loss did not improve\n",
      "Epoch 38/100\n",
      " - 2s - loss: 0.0175 - acc: 0.9954 - val_loss: 0.8859 - val_acc: 0.8257\n",
      "\n",
      "Epoch 00038: val_loss did not improve\n",
      "Epoch 39/100\n",
      " - 2s - loss: 0.0095 - acc: 0.9989 - val_loss: 0.9688 - val_acc: 0.8257\n",
      "\n",
      "Epoch 00039: val_loss did not improve\n",
      "Epoch 00039: early stopping\n"
     ]
    }
   ],
   "source": [
    "checkpointer=ModelCheckpoint(filepath=fw,verbose=2,save_best_only=True)\n",
    "lr_reduction=ReduceLROnPlateau(monitor='val_loss',patience=10,\n",
    "                               verbose=2,factor=.5)\n",
    "estopping=EarlyStopping(monitor='val_loss',patience=25,verbose=2)\n",
    "history=\\\n",
    "inception_v3_model.fit(x_train_bn,y_train3,\n",
    "                       validation_data=(x_valid_bn,y_valid3),\n",
    "                       epochs=100,batch_size=128,verbose=2,\n",
    "                       callbacks=[checkpointer,lr_reduction,estopping]);"
   ]
  },
  {
   "cell_type": "code",
   "execution_count": 16,
   "metadata": {
    "_uuid": "391c06d00106a4f063ff6f878b9abc8dedfa22bb"
   },
   "outputs": [
    {
     "data": {
      "image/png": "[encoded data removed]",
      "text/plain": [
       "<matplotlib.figure.Figure at 0x7fdef8d1c438>"
      ]
     },
     "metadata": {},
     "output_type": "display_data"
    },
    {
     "name": "stdout",
     "output_type": "stream",
     "text": [
      "219/219 [==============================] - 0s 345us/step\n",
      "Accuracy: 80.82%\n"
     ]
    },
    {
     "data": {
      "text/plain": [
       "[0.5609007804361108, 0.8082191769935224]"
      ]
     },
     "execution_count": 16,
     "metadata": {},
     "output_type": "execute_result"
    }
   ],
   "source": [
    "history_plot(history)\n",
    "inception_v3_model.load_weights(fw)\n",
    "inception_v3_scores=inception_v3_model.evaluate(x_test_bn,y_test3)\n",
    "print(\"Accuracy: %.2f%%\"%(inception_v3_scores[1]*100))\n",
    "inception_v3_scores"
   ]
  },
  {
   "cell_type": "markdown",
   "metadata": {
    "_uuid": "b38ded0532c6f8803f37cc6e176c4b70b45b091c"
   },
   "source": [
    "## Xception"
   ]
  },
  {
   "cell_type": "code",
   "execution_count": 17,
   "metadata": {
    "_uuid": "91ceaf5e8c6613b7bb8efd7e7b9106191be38936",
    "collapsed": true
   },
   "outputs": [],
   "source": [
    "resize_x_train=np.array([scipy.misc.imresize(x_train1[i],(71,71,3)) \n",
    "                         for i in range(0,len(x_train1))]).astype('float32')\n",
    "resize_x_valid=np.array([scipy.misc.imresize(x_valid1[i],(71,71,3)) \n",
    "                         for i in range(0,len(x_valid1))]).astype('float32')\n",
    "resize_x_test=np.array([scipy.misc.imresize(x_test1[i],(71,71,3)) \n",
    "                        for i in range(0,len(x_test1))]).astype('float32')\n",
    "x_train_bn=xceptionpi(resize_x_train)\n",
    "x_valid_bn=xceptionpi(resize_x_valid)\n",
    "x_test_bn=xceptionpi(resize_x_test)\n",
    "fn='../input/xception/xception_weights_tf_dim_ordering_tf_kernels_notop.h5'\n",
    "xception_base_model=Xception(weights=fn,include_top=False)\n",
    "x_train_bn=xception_base_model.predict(x_train_bn)\n",
    "x_valid_bn=xception_base_model.predict(x_valid_bn)\n",
    "x_test_bn=xception_base_model.predict(x_test_bn)"
   ]
  },
  {
   "cell_type": "code",
   "execution_count": 18,
   "metadata": {
    "_uuid": "a178b553e8ea231e853edc8a6590fc53941c837a",
    "collapsed": true
   },
   "outputs": [],
   "source": [
    "sh=x_train_bn.shape[1:]\n",
    "def xception_model():\n",
    "    model=Sequential()   \n",
    "    model.add(GlobalAveragePooling2D(input_shape=sh))    \n",
    "    model.add(Dense(2048))\n",
    "    model.add(LeakyReLU(alpha=.02))\n",
    "    model.add(Dropout(.5))        \n",
    "    model.add(Dense(256))\n",
    "    model.add(LeakyReLU(alpha=.02))\n",
    "    model.add(Dropout(.5))\n",
    "    model.add(Dense(7,activation='softmax'))   \n",
    "    model.compile(loss='categorical_crossentropy',\n",
    "                  optimizer='adam',metrics=['accuracy'])\n",
    "    return model\n",
    "xception_model=xception_model()"
   ]
  },
  {
   "cell_type": "code",
   "execution_count": 19,
   "metadata": {
    "_kg_hide-output": true,
    "_uuid": "6bc7d3cc77d35ebd5685041ce9c753cb09429edc"
   },
   "outputs": [
    {
     "name": "stdout",
     "output_type": "stream",
     "text": [
      "Train on 1747 samples, validate on 218 samples\n",
      "Epoch 1/100\n",
      " - 4s - loss: 2.0316 - acc: 0.2433 - val_loss: 1.6953 - val_acc: 0.3211\n",
      "\n",
      "Epoch 00001: val_loss improved from inf to 1.69525, saving model to weights.style.hdf5\n",
      "Epoch 2/100\n",
      " - 1s - loss: 1.6444 - acc: 0.3732 - val_loss: 1.5346 - val_acc: 0.3991\n",
      "\n",
      "Epoch 00002: val_loss improved from 1.69525 to 1.53460, saving model to weights.style.hdf5\n",
      "Epoch 3/100\n",
      " - 1s - loss: 1.4821 - acc: 0.4448 - val_loss: 1.4388 - val_acc: 0.4908\n",
      "\n",
      "Epoch 00003: val_loss improved from 1.53460 to 1.43878, saving model to weights.style.hdf5\n",
      "Epoch 4/100\n",
      " - 1s - loss: 1.3455 - acc: 0.5083 - val_loss: 1.3497 - val_acc: 0.4954\n",
      "\n",
      "Epoch 00004: val_loss improved from 1.43878 to 1.34966, saving model to weights.style.hdf5\n",
      "Epoch 5/100\n",
      " - 1s - loss: 1.2125 - acc: 0.5570 - val_loss: 1.2707 - val_acc: 0.5275\n",
      "\n",
      "Epoch 00005: val_loss improved from 1.34966 to 1.27072, saving model to weights.style.hdf5\n",
      "Epoch 6/100\n",
      " - 1s - loss: 1.0812 - acc: 0.6090 - val_loss: 1.2945 - val_acc: 0.5046\n",
      "\n",
      "Epoch 00006: val_loss did not improve\n",
      "Epoch 7/100\n",
      " - 1s - loss: 0.9517 - acc: 0.6611 - val_loss: 1.2448 - val_acc: 0.5642\n",
      "\n",
      "Epoch 00007: val_loss improved from 1.27072 to 1.24483, saving model to weights.style.hdf5\n",
      "Epoch 8/100\n",
      " - 1s - loss: 0.8505 - acc: 0.6983 - val_loss: 1.2822 - val_acc: 0.5642\n",
      "\n",
      "Epoch 00008: val_loss did not improve\n",
      "Epoch 9/100\n",
      " - 1s - loss: 0.7489 - acc: 0.7407 - val_loss: 1.2817 - val_acc: 0.5872\n",
      "\n",
      "Epoch 00009: val_loss did not improve\n",
      "Epoch 10/100\n",
      " - 1s - loss: 0.6599 - acc: 0.7705 - val_loss: 1.2835 - val_acc: 0.5872\n",
      "\n",
      "Epoch 00010: val_loss did not improve\n",
      "Epoch 11/100\n",
      " - 1s - loss: 0.5367 - acc: 0.8191 - val_loss: 1.4749 - val_acc: 0.5688\n",
      "\n",
      "Epoch 00011: val_loss did not improve\n",
      "Epoch 12/100\n",
      " - 1s - loss: 0.4806 - acc: 0.8437 - val_loss: 1.5546 - val_acc: 0.5321\n",
      "\n",
      "Epoch 00012: val_loss did not improve\n",
      "Epoch 13/100\n",
      " - 1s - loss: 0.4363 - acc: 0.8517 - val_loss: 1.3643 - val_acc: 0.5734\n",
      "\n",
      "Epoch 00013: val_loss did not improve\n",
      "Epoch 14/100\n",
      " - 1s - loss: 0.3598 - acc: 0.8878 - val_loss: 1.4815 - val_acc: 0.5826\n",
      "\n",
      "Epoch 00014: val_loss did not improve\n",
      "Epoch 15/100\n",
      " - 1s - loss: 0.3371 - acc: 0.8964 - val_loss: 1.5682 - val_acc: 0.5734\n",
      "\n",
      "Epoch 00015: val_loss did not improve\n",
      "Epoch 16/100\n",
      " - 1s - loss: 0.3027 - acc: 0.9061 - val_loss: 1.6263 - val_acc: 0.5688\n",
      "\n",
      "Epoch 00016: val_loss did not improve\n",
      "Epoch 17/100\n",
      " - 1s - loss: 0.2563 - acc: 0.9204 - val_loss: 1.6772 - val_acc: 0.5780\n",
      "\n",
      "Epoch 00017: val_loss did not improve\n",
      "\n",
      "Epoch 00017: ReduceLROnPlateau reducing learning rate to 0.0005000000237487257.\n",
      "Epoch 18/100\n",
      " - 1s - loss: 0.2357 - acc: 0.9296 - val_loss: 1.6866 - val_acc: 0.5826\n",
      "\n",
      "Epoch 00018: val_loss did not improve\n",
      "Epoch 19/100\n",
      " - 1s - loss: 0.1665 - acc: 0.9531 - val_loss: 1.6785 - val_acc: 0.5780\n",
      "\n",
      "Epoch 00019: val_loss did not improve\n",
      "Epoch 20/100\n",
      " - 1s - loss: 0.1523 - acc: 0.9616 - val_loss: 1.7929 - val_acc: 0.5688\n",
      "\n",
      "Epoch 00020: val_loss did not improve\n",
      "Epoch 21/100\n",
      " - 1s - loss: 0.1255 - acc: 0.9731 - val_loss: 1.8001 - val_acc: 0.5826\n",
      "\n",
      "Epoch 00021: val_loss did not improve\n",
      "Epoch 22/100\n",
      " - 1s - loss: 0.1212 - acc: 0.9634 - val_loss: 1.9356 - val_acc: 0.5596\n",
      "\n",
      "Epoch 00022: val_loss did not improve\n",
      "Epoch 23/100\n",
      " - 1s - loss: 0.0975 - acc: 0.9742 - val_loss: 1.9608 - val_acc: 0.5459\n",
      "\n",
      "Epoch 00023: val_loss did not improve\n",
      "Epoch 24/100\n",
      " - 1s - loss: 0.0900 - acc: 0.9742 - val_loss: 1.9132 - val_acc: 0.5642\n",
      "\n",
      "Epoch 00024: val_loss did not improve\n",
      "Epoch 25/100\n",
      " - 1s - loss: 0.0830 - acc: 0.9823 - val_loss: 2.0785 - val_acc: 0.5642\n",
      "\n",
      "Epoch 00025: val_loss did not improve\n",
      "Epoch 26/100\n",
      " - 1s - loss: 0.0756 - acc: 0.9788 - val_loss: 2.0443 - val_acc: 0.5688\n",
      "\n",
      "Epoch 00026: val_loss did not improve\n",
      "Epoch 27/100\n",
      " - 1s - loss: 0.0693 - acc: 0.9851 - val_loss: 1.9871 - val_acc: 0.5780\n",
      "\n",
      "Epoch 00027: val_loss did not improve\n",
      "\n",
      "Epoch 00027: ReduceLROnPlateau reducing learning rate to 0.0002500000118743628.\n",
      "Epoch 28/100\n",
      " - 1s - loss: 0.0615 - acc: 0.9891 - val_loss: 1.9655 - val_acc: 0.5826\n",
      "\n",
      "Epoch 00028: val_loss did not improve\n",
      "Epoch 29/100\n",
      " - 1s - loss: 0.0611 - acc: 0.9863 - val_loss: 1.9944 - val_acc: 0.5734\n",
      "\n",
      "Epoch 00029: val_loss did not improve\n",
      "Epoch 30/100\n",
      " - 1s - loss: 0.0480 - acc: 0.9943 - val_loss: 2.0271 - val_acc: 0.5780\n",
      "\n",
      "Epoch 00030: val_loss did not improve\n",
      "Epoch 31/100\n",
      " - 1s - loss: 0.0447 - acc: 0.9943 - val_loss: 2.0372 - val_acc: 0.5688\n",
      "\n",
      "Epoch 00031: val_loss did not improve\n",
      "Epoch 32/100\n",
      " - 1s - loss: 0.0396 - acc: 0.9948 - val_loss: 2.0482 - val_acc: 0.5872\n",
      "\n",
      "Epoch 00032: val_loss did not improve\n",
      "Epoch 00032: early stopping\n"
     ]
    }
   ],
   "source": [
    "checkpointer=ModelCheckpoint(filepath=fw,verbose=2,save_best_only=True)\n",
    "lr_reduction=ReduceLROnPlateau(monitor='val_loss',patience=10,\n",
    "                               verbose=2,factor=.5)\n",
    "estopping=EarlyStopping(monitor='val_loss',patience=25,verbose=2)\n",
    "history=\\\n",
    "xception_model.fit(x_train_bn,y_train1,\n",
    "                   validation_data=(x_valid_bn,y_valid1),\n",
    "                   epochs=100,batch_size=128,verbose=2,\n",
    "                   callbacks=[checkpointer,lr_reduction,estopping]);"
   ]
  },
  {
   "cell_type": "code",
   "execution_count": 20,
   "metadata": {
    "_uuid": "74bb971f6d4e61715bf0c1b9c543bd283938a70d"
   },
   "outputs": [
    {
     "data": {
      "image/png": "[encoded data removed]",
      "text/plain": [
       "<matplotlib.figure.Figure at 0x7fdf48efeb38>"
      ]
     },
     "metadata": {},
     "output_type": "display_data"
    },
    {
     "name": "stdout",
     "output_type": "stream",
     "text": [
      "219/219 [==============================] - 0s 854us/step\n",
      "Accuracy: 50.23%\n"
     ]
    },
    {
     "data": {
      "text/plain": [
       "[1.4555834814838078, 0.502283107472337]"
      ]
     },
     "execution_count": 20,
     "metadata": {},
     "output_type": "execute_result"
    }
   ],
   "source": [
    "history_plot(history)\n",
    "xception_model.load_weights(fw)\n",
    "xception_scores=xception_model.evaluate(x_test_bn,y_test1)\n",
    "print(\"Accuracy: %.2f%%\"%(xception_scores[1]*100))\n",
    "xception_scores"
   ]
  },
  {
   "cell_type": "markdown",
   "metadata": {
    "_uuid": "1dc28e6dc31bf08fd2a220020dc8133d8532cf76"
   },
   "source": [
    "## InceptionResNetV2"
   ]
  },
  {
   "cell_type": "code",
   "execution_count": 21,
   "metadata": {
    "_uuid": "f730feadf5cc2f670fca7e40e3da340fb0d9aade",
    "collapsed": true
   },
   "outputs": [],
   "source": [
    "resize_x_train=np.array([scipy.misc.imresize(x_train3[i],(139,139,3)) \n",
    "                         for i in range(0,len(x_train3))]).astype('float32')\n",
    "resize_x_valid=np.array([scipy.misc.imresize(x_valid3[i],(139,139,3)) \n",
    "                         for i in range(0,len(x_valid3))]).astype('float32')\n",
    "resize_x_test=np.array([scipy.misc.imresize(x_test3[i],(139,139,3)) \n",
    "                        for i in range(0,len(x_test3))]).astype('float32')\n",
    "x_train_bn=inceptionresnetv2pi(resize_x_train)\n",
    "x_valid_bn=inceptionresnetv2pi(resize_x_valid)\n",
    "x_test_bn=inceptionresnetv2pi(resize_x_test)\n",
    "fn='../input/inceptionresnetv2/inception_resnet_v2_weights_tf_dim_ordering_tf_kernels_notop.h5'\n",
    "inceptionresnetv2_base_model=InceptionResNetV2(weights=fn,include_top=False)\n",
    "x_train_bn=inceptionresnetv2_base_model.predict(x_train_bn)\n",
    "x_valid_bn=inceptionresnetv2_base_model.predict(x_valid_bn)\n",
    "x_test_bn=inceptionresnetv2_base_model.predict(x_test_bn)"
   ]
  },
  {
   "cell_type": "code",
   "execution_count": 22,
   "metadata": {
    "_uuid": "464bfbda1d291558ab6de93382d8fa6feab11511",
    "collapsed": true
   },
   "outputs": [],
   "source": [
    "sh=x_train_bn.shape[1:]\n",
    "def inceptionresnetv2_model():\n",
    "    model=Sequential()   \n",
    "    model.add(GlobalAveragePooling2D(input_shape=sh))    \n",
    "    model.add(Dense(2048))\n",
    "    model.add(LeakyReLU(alpha=.02))\n",
    "    model.add(Dropout(.5))\n",
    "    model.add(Dense(256))\n",
    "    model.add(LeakyReLU(alpha=.02))\n",
    "    model.add(Dropout(.5))\n",
    "    model.add(Dense(10,activation='softmax'))    \n",
    "    model.compile(loss='categorical_crossentropy',\n",
    "                  optimizer='nadam',metrics=['accuracy'])\n",
    "    return model\n",
    "inceptionresnetv2_model=inceptionresnetv2_model()"
   ]
  },
  {
   "cell_type": "code",
   "execution_count": 23,
   "metadata": {
    "_kg_hide-output": true,
    "_uuid": "36f07fa9698312165bb425b4d94fb67a56a15c54"
   },
   "outputs": [
    {
     "name": "stdout",
     "output_type": "stream",
     "text": [
      "Train on 1747 samples, validate on 218 samples\n",
      "Epoch 1/100\n",
      " - 8s - loss: 8.0518 - acc: 0.2444 - val_loss: 1.1931 - val_acc: 0.5872\n",
      "\n",
      "Epoch 00001: val_loss improved from inf to 1.19307, saving model to weights.style.hdf5\n",
      "Epoch 2/100\n",
      " - 1s - loss: 1.1588 - acc: 0.6348 - val_loss: 0.7586 - val_acc: 0.7431\n",
      "\n",
      "Epoch 00002: val_loss improved from 1.19307 to 0.75859, saving model to weights.style.hdf5\n",
      "Epoch 3/100\n",
      " - 1s - loss: 0.8148 - acc: 0.7252 - val_loss: 0.6450 - val_acc: 0.7936\n",
      "\n",
      "Epoch 00003: val_loss improved from 0.75859 to 0.64497, saving model to weights.style.hdf5\n",
      "Epoch 4/100\n",
      " - 1s - loss: 0.6805 - acc: 0.7739 - val_loss: 0.6426 - val_acc: 0.7798\n",
      "\n",
      "Epoch 00004: val_loss improved from 0.64497 to 0.64263, saving model to weights.style.hdf5\n",
      "Epoch 5/100\n",
      " - 1s - loss: 0.6994 - acc: 0.7750 - val_loss: 0.6675 - val_acc: 0.7936\n",
      "\n",
      "Epoch 00005: val_loss did not improve\n",
      "Epoch 6/100\n",
      " - 1s - loss: 0.6055 - acc: 0.7985 - val_loss: 0.5598 - val_acc: 0.8349\n",
      "\n",
      "Epoch 00006: val_loss improved from 0.64263 to 0.55981, saving model to weights.style.hdf5\n",
      "Epoch 7/100\n",
      " - 1s - loss: 0.5437 - acc: 0.8248 - val_loss: 0.5508 - val_acc: 0.8440\n",
      "\n",
      "Epoch 00007: val_loss improved from 0.55981 to 0.55075, saving model to weights.style.hdf5\n",
      "Epoch 8/100\n",
      " - 1s - loss: 0.4692 - acc: 0.8449 - val_loss: 0.5509 - val_acc: 0.8119\n",
      "\n",
      "Epoch 00008: val_loss did not improve\n",
      "Epoch 9/100\n",
      " - 1s - loss: 0.4429 - acc: 0.8512 - val_loss: 0.5260 - val_acc: 0.8532\n",
      "\n",
      "Epoch 00009: val_loss improved from 0.55075 to 0.52600, saving model to weights.style.hdf5\n",
      "Epoch 10/100\n",
      " - 1s - loss: 0.3898 - acc: 0.8701 - val_loss: 0.6430 - val_acc: 0.8394\n",
      "\n",
      "Epoch 00010: val_loss did not improve\n",
      "Epoch 11/100\n",
      " - 1s - loss: 0.4267 - acc: 0.8563 - val_loss: 0.4983 - val_acc: 0.8578\n",
      "\n",
      "Epoch 00011: val_loss improved from 0.52600 to 0.49826, saving model to weights.style.hdf5\n",
      "Epoch 12/100\n",
      " - 1s - loss: 0.3593 - acc: 0.8649 - val_loss: 0.6239 - val_acc: 0.8073\n",
      "\n",
      "Epoch 00012: val_loss did not improve\n",
      "Epoch 13/100\n",
      " - 1s - loss: 0.3829 - acc: 0.8786 - val_loss: 0.5088 - val_acc: 0.8486\n",
      "\n",
      "Epoch 00013: val_loss did not improve\n",
      "Epoch 14/100\n",
      " - 1s - loss: 0.3282 - acc: 0.8878 - val_loss: 0.8141 - val_acc: 0.7844\n",
      "\n",
      "Epoch 00014: val_loss did not improve\n",
      "Epoch 15/100\n",
      " - 1s - loss: 0.3413 - acc: 0.8838 - val_loss: 0.6073 - val_acc: 0.8165\n",
      "\n",
      "Epoch 00015: val_loss did not improve\n",
      "Epoch 16/100\n",
      " - 1s - loss: 0.2921 - acc: 0.9050 - val_loss: 0.5119 - val_acc: 0.8716\n",
      "\n",
      "Epoch 00016: val_loss did not improve\n",
      "Epoch 17/100\n",
      " - 1s - loss: 0.2536 - acc: 0.9090 - val_loss: 0.6284 - val_acc: 0.8073\n",
      "\n",
      "Epoch 00017: val_loss did not improve\n",
      "Epoch 18/100\n",
      " - 1s - loss: 0.2340 - acc: 0.9101 - val_loss: 0.6887 - val_acc: 0.8211\n",
      "\n",
      "Epoch 00018: val_loss did not improve\n",
      "Epoch 19/100\n",
      " - 1s - loss: 0.2090 - acc: 0.9187 - val_loss: 0.5745 - val_acc: 0.8624\n",
      "\n",
      "Epoch 00019: val_loss did not improve\n",
      "Epoch 20/100\n",
      " - 1s - loss: 0.1799 - acc: 0.9325 - val_loss: 0.5888 - val_acc: 0.8349\n",
      "\n",
      "Epoch 00020: val_loss did not improve\n",
      "Epoch 21/100\n",
      " - 1s - loss: 0.2454 - acc: 0.9141 - val_loss: 0.5366 - val_acc: 0.8578\n",
      "\n",
      "Epoch 00021: val_loss did not improve\n",
      "\n",
      "Epoch 00021: ReduceLROnPlateau reducing learning rate to 0.0010000000474974513.\n",
      "Epoch 22/100\n",
      " - 1s - loss: 0.1704 - acc: 0.9376 - val_loss: 0.5042 - val_acc: 0.8853\n",
      "\n",
      "Epoch 00022: val_loss did not improve\n",
      "Epoch 23/100\n",
      " - 1s - loss: 0.1291 - acc: 0.9548 - val_loss: 0.5037 - val_acc: 0.8670\n",
      "\n",
      "Epoch 00023: val_loss did not improve\n",
      "Epoch 24/100\n",
      " - 1s - loss: 0.1143 - acc: 0.9554 - val_loss: 0.5248 - val_acc: 0.8716\n",
      "\n",
      "Epoch 00024: val_loss did not improve\n",
      "Epoch 25/100\n",
      " - 1s - loss: 0.0927 - acc: 0.9616 - val_loss: 0.5481 - val_acc: 0.8670\n",
      "\n",
      "Epoch 00025: val_loss did not improve\n",
      "Epoch 26/100\n",
      " - 1s - loss: 0.0946 - acc: 0.9657 - val_loss: 0.5550 - val_acc: 0.8899\n",
      "\n",
      "Epoch 00026: val_loss did not improve\n",
      "Epoch 27/100\n",
      " - 1s - loss: 0.1006 - acc: 0.9639 - val_loss: 0.6113 - val_acc: 0.8716\n",
      "\n",
      "Epoch 00027: val_loss did not improve\n",
      "Epoch 28/100\n",
      " - 1s - loss: 0.0873 - acc: 0.9685 - val_loss: 0.5754 - val_acc: 0.8624\n",
      "\n",
      "Epoch 00028: val_loss did not improve\n",
      "Epoch 29/100\n",
      " - 1s - loss: 0.0783 - acc: 0.9634 - val_loss: 0.5848 - val_acc: 0.8761\n",
      "\n",
      "Epoch 00029: val_loss did not improve\n",
      "Epoch 30/100\n",
      " - 1s - loss: 0.0640 - acc: 0.9760 - val_loss: 0.5741 - val_acc: 0.8670\n",
      "\n",
      "Epoch 00030: val_loss did not improve\n",
      "Epoch 31/100\n",
      " - 1s - loss: 0.0636 - acc: 0.9800 - val_loss: 0.5900 - val_acc: 0.8761\n",
      "\n",
      "Epoch 00031: val_loss did not improve\n",
      "\n",
      "Epoch 00031: ReduceLROnPlateau reducing learning rate to 0.0005000000237487257.\n",
      "Epoch 32/100\n",
      " - 1s - loss: 0.0675 - acc: 0.9737 - val_loss: 0.6012 - val_acc: 0.8761\n",
      "\n",
      "Epoch 00032: val_loss did not improve\n",
      "Epoch 33/100\n",
      " - 1s - loss: 0.0617 - acc: 0.9794 - val_loss: 0.5544 - val_acc: 0.8716\n",
      "\n",
      "Epoch 00033: val_loss did not improve\n",
      "Epoch 34/100\n",
      " - 1s - loss: 0.0451 - acc: 0.9834 - val_loss: 0.5948 - val_acc: 0.8853\n",
      "\n",
      "Epoch 00034: val_loss did not improve\n",
      "Epoch 35/100\n",
      " - 1s - loss: 0.0479 - acc: 0.9805 - val_loss: 0.6034 - val_acc: 0.8807\n",
      "\n",
      "Epoch 00035: val_loss did not improve\n",
      "Epoch 36/100\n",
      " - 1s - loss: 0.0425 - acc: 0.9863 - val_loss: 0.6373 - val_acc: 0.8807\n",
      "\n",
      "Epoch 00036: val_loss did not improve\n",
      "Epoch 00036: early stopping\n"
     ]
    }
   ],
   "source": [
    "checkpointer=ModelCheckpoint(filepath=fw,verbose=2,save_best_only=True)\n",
    "lr_reduction=ReduceLROnPlateau(monitor='val_loss',patience=10,\n",
    "                               verbose=2,factor=.5)\n",
    "estopping=EarlyStopping(monitor='val_loss',patience=25,verbose=2)\n",
    "history=\\\n",
    "inceptionresnetv2_model.fit(x_train_bn,y_train3,\n",
    "                            validation_data=(x_valid_bn,y_valid3),\n",
    "                            epochs=100,batch_size=128,verbose=2,\n",
    "                            callbacks=[checkpointer,lr_reduction,estopping]);"
   ]
  },
  {
   "cell_type": "code",
   "execution_count": 24,
   "metadata": {
    "_uuid": "0c5725899ee10f380352c401d66fa40beccbd8c4"
   },
   "outputs": [
    {
     "data": {
      "image/png": "[encoded data removed]",
      "text/plain": [
       "<matplotlib.figure.Figure at 0x7fdf4f4f83c8>"
      ]
     },
     "metadata": {},
     "output_type": "display_data"
    },
    {
     "name": "stdout",
     "output_type": "stream",
     "text": [
      "219/219 [==============================] - 0s 368us/step\n",
      "Accuracy: 84.47%\n"
     ]
    },
    {
     "data": {
      "text/plain": [
       "[0.478106923299293, 0.8447488573588193]"
      ]
     },
     "execution_count": 24,
     "metadata": {},
     "output_type": "execute_result"
    }
   ],
   "source": [
    "history_plot(history)\n",
    "inceptionresnetv2_model.load_weights(fw)\n",
    "inceptionresnetv2_scores=inceptionresnetv2_model.evaluate(x_test_bn,y_test3)\n",
    "print(\"Accuracy: %.2f%%\"%(inceptionresnetv2_scores[1]*100))\n",
    "inceptionresnetv2_scores"
   ]
  }
 ],
 "metadata": {
  "kernelspec": {
   "display_name": "Python 3",
   "language": "python",
   "name": "python3"
  },
  "language_info": {
   "codemirror_mode": {
    "name": "ipython",
    "version": 3
   },
   "file_extension": ".py",
   "mimetype": "text/x-python",
   "name": "python",
   "nbconvert_exporter": "python",
   "pygments_lexer": "ipython3",
   "version": "3.6.4"
  }
 },
 "nbformat": 4,
 "nbformat_minor": 4
}
