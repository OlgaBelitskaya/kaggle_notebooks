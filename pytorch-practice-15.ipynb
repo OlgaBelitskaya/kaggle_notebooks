{
 "cells": [
  {
   "cell_type": "markdown",
   "execution_count": null,
   "metadata": {},
   "source": [
    "Reading classics [Deep Learning Models](https://nbviewer.jupyter.org/github/rasbt/deeplearning-models/blob/master/pytorch_ipynb/autoencoder/ae-basic.ipynb)\n",
    "\n",
    "## Code Modules, Functions, & Classes\n",
    "\n",
    "[Google Colaboratory Variant](https://colab.research.google.com/drive/1kydV6_IC0BtHwpijx4oVjEab_Z39RpCQ)"
   ]
  },
  {
   "cell_type": "code",
   "execution_count": 1,
   "metadata": {
    "_cell_guid": "b1076dfc-b9ad-4769-8c92-a6c4dae69d19",
    "_uuid": "8f2839f25d086af736a60e9eeb907d3b93b6e0e5"
   },
   "outputs": [],
   "source": [
    "import numpy as np,pandas as pd,pylab as pl\n",
    "import h5py,torch\n",
    "from torchvision.datasets import MNIST as tmnist\n",
    "from torchvision import transforms,utils\n",
    "from torch.utils.data import DataLoader as tdl\n",
    "from torch.utils.data import Dataset as tds\n",
    "import torch.nn.functional as tnnf\n",
    "import torch.nn as tnn\n",
    "import tensorflow.image as timage\n",
    "dev=torch.device(\"cuda:0\" \\\n",
    "if torch.cuda.is_available() else \"cpu\")"
   ]
  },
  {
   "cell_type": "code",
   "execution_count": 2,
   "metadata": {
    "_cell_guid": "79c7e3d0-c299-4dcb-8224-4455121ee9b0",
    "_uuid": "d629ff2d2480ee46fbb7e2d37f6b5fab8052498a"
   },
   "outputs": [],
   "source": [
    "class TData(tds):\n",
    "    def __init__(self,x,y):   \n",
    "        self.x=torch.tensor(x,dtype=torch.float32)\n",
    "        self.y=torch.tensor(y,dtype=torch.int32)\n",
    "    def __getitem__(self,index):\n",
    "        img,lbl=self.x[index],self.y[index]\n",
    "        return img,lbl\n",
    "    def __len__(self):\n",
    "        return self.y.shape[0]"
   ]
  },
  {
   "cell_type": "code",
   "execution_count": 3,
   "metadata": {},
   "outputs": [],
   "source": [
    "def display_examples(data_loader,img_size):\n",
    "    for images,labels in data_loader:  \n",
    "        print('Image dimensions: %s'%str(images.shape))\n",
    "        print('Label dimensions: %s'%str(labels.shape))\n",
    "        n=np.random.randint(1,50)\n",
    "        fig=pl.figure(figsize=(10,4))\n",
    "        for i in range(n,n+5):\n",
    "            ax=fig.add_subplot(1,5,i-n+1,\\\n",
    "            xticks=[],yticks=[],title=labels[i].item())\n",
    "            ax.imshow((images[i]).reshape(img_size,img_size),\n",
    "                      cmap=pl.cm.bone)\n",
    "        break\n",
    "def display_results(num_images):\n",
    "    num_images=int(num_images)\n",
    "    fig,axes=pl.subplots(nrows=2,ncols=num_images, \n",
    "                         sharex=True,sharey=True,\n",
    "                         figsize=(10,4))\n",
    "    original_images=features[:num_images]\n",
    "    decoded_images=decoded[:num_images]\n",
    "    for i in range(num_images):\n",
    "        for ax,img in zip(axes,[original_images,\n",
    "                                decoded_images]):\n",
    "            curr_img=img[i].detach().to(torch.device('cpu'))\n",
    "            ax[i].imshow(curr_img.view((img_size,img_size)),\n",
    "                         cmap='bone')\n",
    "    pl.show()"
   ]
  },
  {
   "cell_type": "markdown",
   "execution_count": null,
   "metadata": {},
   "source": [
    "## Data"
   ]
  },
  {
   "cell_type": "code",
   "execution_count": 4,
   "metadata": {
    "_kg_hide-output": true
   },
   "outputs": [
    {
     "name": "stdout",
     "output_type": "stream",
     "text": [
      "Downloading http://yann.lecun.com/exdb/mnist/train-images-idx3-ubyte.gz to data/MNIST/raw/train-images-idx3-ubyte.gz\n"
     ]
    },
    {
     "data": {
      "application/vnd.jupyter.widget-view+json": {
       "model_id": "c33d019919df49ffb77e9124d8a07273",
       "version_major": 2,
       "version_minor": 0
      },
      "text/plain": [
       "HBox(children=(FloatProgress(value=1.0, bar_style='info', max=1.0), HTML(value='')))"
      ]
     },
     "metadata": {},
     "output_type": "display_data"
    },
    {
     "name": "stdout",
     "output_type": "stream",
     "text": [
      "Extracting data/MNIST/raw/train-images-idx3-ubyte.gz to data/MNIST/raw\n",
      "Downloading http://yann.lecun.com/exdb/mnist/train-labels-idx1-ubyte.gz to data/MNIST/raw/train-labels-idx1-ubyte.gz\n"
     ]
    },
    {
     "data": {
      "application/vnd.jupyter.widget-view+json": {
       "model_id": "6a97ba9b2d32493c8c8a50532a5a3110",
       "version_major": 2,
       "version_minor": 0
      },
      "text/plain": [
       "HBox(children=(FloatProgress(value=1.0, bar_style='info', max=1.0), HTML(value='')))"
      ]
     },
     "metadata": {},
     "output_type": "display_data"
    },
    {
     "name": "stdout",
     "output_type": "stream",
     "text": [
      "Extracting data/MNIST/raw/train-labels-idx1-ubyte.gz to data/MNIST/raw\n",
      "Downloading http://yann.lecun.com/exdb/mnist/t10k-images-idx3-ubyte.gz to data/MNIST/raw/t10k-images-idx3-ubyte.gz\n"
     ]
    },
    {
     "data": {
      "application/vnd.jupyter.widget-view+json": {
       "model_id": "69a1ee35c2a0495482b049df83d99838",
       "version_major": 2,
       "version_minor": 0
      },
      "text/plain": [
       "HBox(children=(FloatProgress(value=1.0, bar_style='info', max=1.0), HTML(value='')))"
      ]
     },
     "metadata": {},
     "output_type": "display_data"
    },
    {
     "name": "stdout",
     "output_type": "stream",
     "text": [
      "Extracting data/MNIST/raw/t10k-images-idx3-ubyte.gz to data/MNIST/raw\n",
      "Downloading http://yann.lecun.com/exdb/mnist/t10k-labels-idx1-ubyte.gz to data/MNIST/raw/t10k-labels-idx1-ubyte.gz\n"
     ]
    },
    {
     "data": {
      "application/vnd.jupyter.widget-view+json": {
       "model_id": "eb38b83d75e94827975d9cdb1d861063",
       "version_major": 2,
       "version_minor": 0
      },
      "text/plain": [
       "HBox(children=(FloatProgress(value=1.0, bar_style='info', max=1.0), HTML(value='')))"
      ]
     },
     "metadata": {},
     "output_type": "display_data"
    },
    {
     "name": "stdout",
     "output_type": "stream",
     "text": [
      "Extracting data/MNIST/raw/t10k-labels-idx1-ubyte.gz to data/MNIST/raw\n",
      "Processing...\n",
      "Done!\n"
     ]
    },
    {
     "name": "stderr",
     "output_type": "stream",
     "text": [
      "/pytorch/torch/csrc/utils/tensor_numpy.cpp:141: UserWarning: The given NumPy array is not writeable, and PyTorch does not support non-writeable tensors. This means you can write to the underlying (supposedly non-writeable) NumPy array using the tensor. You may want to copy the array to protect its data or make it writeable before converting it to a tensor. This type of warning will be suppressed for the rest of this program.\n"
     ]
    }
   ],
   "source": [
    "random_seed=12; batch_size=128; img_size=32\n",
    "trans=transforms\\\n",
    ".Compose([transforms.Resize((img_size,img_size)),\n",
    "          transforms.ToTensor()])\n",
    "train=tmnist(root='data',train=True,\n",
    "             download=True,transform=trans)\n",
    "test=tmnist(root='data',train=False, \n",
    "            transform=trans)\n",
    "train_loader=tdl(dataset=train,shuffle=True, \n",
    "                 batch_size=batch_size)\n",
    "test_loader=tdl(dataset=test,shuffle=False, \n",
    "                batch_size=batch_size)"
   ]
  },
  {
   "cell_type": "code",
   "execution_count": 5,
   "metadata": {},
   "outputs": [
    {
     "name": "stdout",
     "output_type": "stream",
     "text": [
      "\n",
      "\n",
      "Image dimensions: torch.Size([128, 1, 32, 32])\n",
      "Label dimensions: torch.Size([128])\n",
      "\n",
      "\n"
     ]
    },
    {
     "data": {
      "image/png": "[encoded data removed]",
      "text/plain": [
       "<Figure size 720x288 with 5 Axes>"
      ]
     },
     "metadata": {},
     "output_type": "display_data"
    }
   ],
   "source": [
    "display_examples(test_loader,img_size)"
   ]
  },
  {
   "cell_type": "code",
   "execution_count": 6,
   "metadata": {},
   "outputs": [
    {
     "name": "stdout",
     "output_type": "stream",
     "text": [
      "['backgrounds', 'images', 'labels']\n"
     ]
    }
   ],
   "source": [
    "fpath='../input/classification-of-handwritten-letters/'\n",
    "f='LetterColorImages_123.h5'\n",
    "f=h5py.File(fpath+f,'r')\n",
    "keys=list(f.keys()); print(keys)\n",
    "x=1-np.array(f[keys[1]],dtype='float32')/255\n",
    "x=timage.resize(x,[img_size,img_size])\n",
    "x=(np.dot(x.numpy(),[.299,.587,.114]))\\\n",
    ".reshape(-1,1,img_size,img_size)\n",
    "y=np.array(f[keys[2]],dtype='int32')-1\n",
    "N=y.shape[0]; n=int(.2*N)\n",
    "shuffle_ids=np.arange(N)\n",
    "np.random.RandomState(23).shuffle(shuffle_ids)\n",
    "x,y=x[shuffle_ids],y[shuffle_ids]\n",
    "x_test,x_train=x[:n],x[n:]\n",
    "y_test,y_train=y[:n],y[n:]"
   ]
  },
  {
   "cell_type": "code",
   "execution_count": 7,
   "metadata": {},
   "outputs": [],
   "source": [
    "random_seed=23; batch_size2=128\n",
    "train2=TData(x_train,y_train)\n",
    "test2=TData(x_test,y_test)\n",
    "train_loader2=tdl(dataset=train2,shuffle=True,\n",
    "                  batch_size=batch_size2)\n",
    "test_loader2=tdl(dataset=test2,shuffle=True,\n",
    "                 batch_size=batch_size2)"
   ]
  },
  {
   "cell_type": "code",
   "execution_count": 8,
   "metadata": {},
   "outputs": [
    {
     "name": "stdout",
     "output_type": "stream",
     "text": [
      "Image dimensions: torch.Size([128, 1, 32, 32])\n",
      "Label dimensions: torch.Size([128])\n"
     ]
    },
    {
     "data": {
      "image/png": "[encoded data removed]",
      "text/plain": [
       "<Figure size 720x288 with 5 Axes>"
      ]
     },
     "metadata": {},
     "output_type": "display_data"
    }
   ],
   "source": [
    "display_examples(test_loader2,img_size)"
   ]
  },
  {
   "cell_type": "markdown",
   "execution_count": null,
   "metadata": {},
   "source": [
    "## Autoencoder\n",
    "compresses 32x32-pixel images into (hidden1)-pixel vectors & restores the original images"
   ]
  },
  {
   "cell_type": "code",
   "execution_count": 9,
   "metadata": {},
   "outputs": [],
   "source": [
    "class AE(tnn.Module):\n",
    "    def __init__(self,num_features,hidden1):\n",
    "        super(AE,self).__init__()\n",
    "        # encoder\n",
    "        self.linear1=tnn.Linear(num_features,hidden1)\n",
    "        self.linear1.weight.detach().normal_(0.,.1)\n",
    "        self.linear1.bias.detach().zero_()\n",
    "        # decoder\n",
    "        self.linear2=tnn.Linear(hidden1,num_features)\n",
    "        self.linear2.weight.detach().normal_(0.,.1)\n",
    "        self.linear2.bias.detach().zero_()\n",
    "    def forward(self,x):        \n",
    "        # encoder\n",
    "        encoded=self.linear1(x)\n",
    "        encoded=tnnf.leaky_relu(encoded)     \n",
    "        # decoder\n",
    "        logits=self.linear2(encoded)\n",
    "        decoded=torch.sigmoid(logits)\n",
    "        return decoded"
   ]
  },
  {
   "cell_type": "markdown",
   "execution_count": null,
   "metadata": {},
   "source": [
    "## Training"
   ]
  },
  {
   "cell_type": "code",
   "execution_count": 10,
   "metadata": {},
   "outputs": [],
   "source": [
    "torch.manual_seed(random_seed)\n",
    "learning_rate=.0005; hidden1=32\n",
    "model=AE(num_features=img_size**2,hidden1=hidden1)\n",
    "model=model.to(dev)\n",
    "optimizer=torch.optim.Adam(model.parameters(),\n",
    "                           lr=learning_rate)"
   ]
  },
  {
   "cell_type": "code",
   "execution_count": 11,
   "metadata": {
    "_kg_hide-output": true
   },
   "outputs": [
    {
     "name": "stdout",
     "output_type": "stream",
     "text": [
      "Epoch: 001/010 | Batch: 000/469 | Cost: 0.7095\n",
      "Epoch: 001/010 | Batch: 200/469 | Cost: 0.2430\n",
      "Epoch: 001/010 | Batch: 400/469 | Cost: 0.2002\n",
      "Epoch: 002/010 | Batch: 000/469 | Cost: 0.1933\n",
      "Epoch: 002/010 | Batch: 200/469 | Cost: 0.1769\n",
      "Epoch: 002/010 | Batch: 400/469 | Cost: 0.1721\n",
      "Epoch: 003/010 | Batch: 000/469 | Cost: 0.1643\n",
      "Epoch: 003/010 | Batch: 200/469 | Cost: 0.1572\n",
      "Epoch: 003/010 | Batch: 400/469 | Cost: 0.1473\n",
      "Epoch: 004/010 | Batch: 000/469 | Cost: 0.1563\n",
      "Epoch: 004/010 | Batch: 200/469 | Cost: 0.1502\n",
      "Epoch: 004/010 | Batch: 400/469 | Cost: 0.1427\n",
      "Epoch: 005/010 | Batch: 000/469 | Cost: 0.1453\n",
      "Epoch: 005/010 | Batch: 200/469 | Cost: 0.1364\n",
      "Epoch: 005/010 | Batch: 400/469 | Cost: 0.1348\n",
      "Epoch: 006/010 | Batch: 000/469 | Cost: 0.1394\n",
      "Epoch: 006/010 | Batch: 200/469 | Cost: 0.1353\n",
      "Epoch: 006/010 | Batch: 400/469 | Cost: 0.1277\n",
      "Epoch: 007/010 | Batch: 000/469 | Cost: 0.1255\n",
      "Epoch: 007/010 | Batch: 200/469 | Cost: 0.1230\n",
      "Epoch: 007/010 | Batch: 400/469 | Cost: 0.1240\n",
      "Epoch: 008/010 | Batch: 000/469 | Cost: 0.1238\n",
      "Epoch: 008/010 | Batch: 200/469 | Cost: 0.1211\n",
      "Epoch: 008/010 | Batch: 400/469 | Cost: 0.1176\n",
      "Epoch: 009/010 | Batch: 000/469 | Cost: 0.1187\n",
      "Epoch: 009/010 | Batch: 200/469 | Cost: 0.1217\n",
      "Epoch: 009/010 | Batch: 400/469 | Cost: 0.1219\n",
      "Epoch: 010/010 | Batch: 000/469 | Cost: 0.1190\n",
      "Epoch: 010/010 | Batch: 200/469 | Cost: 0.1224\n",
      "Epoch: 010/010 | Batch: 400/469 | Cost: 0.1208\n"
     ]
    }
   ],
   "source": [
    "epochs=10\n",
    "for epoch in range(epochs):\n",
    "    for batch_ids,(features,targets) in enumerate(train_loader):\n",
    "        features=features.view(-1,img_size**2).to(dev)\n",
    "        decoded=model(features)\n",
    "        cost=tnnf.binary_cross_entropy(decoded,features)\n",
    "        optimizer.zero_grad()      \n",
    "        cost.backward(); optimizer.step()\n",
    "        if not batch_ids%200:\n",
    "            print ('Epoch: %03d/%03d | Batch: %03d/%03d | Cost: %.4f' \n",
    "                   %(epoch+1,epochs,batch_ids,\n",
    "                     len(train_loader),cost))"
   ]
  },
  {
   "cell_type": "code",
   "execution_count": 12,
   "metadata": {
    "_kg_hide-output": false
   },
   "outputs": [
    {
     "data": {
      "image/png": "[encoded data removed]",
      "text/plain": [
       "<Figure size 720x288 with 10 Axes>"
      ]
     },
     "metadata": {
      "needs_background": "light"
     },
     "output_type": "display_data"
    }
   ],
   "source": [
    "display_results(5)"
   ]
  },
  {
   "cell_type": "markdown",
   "execution_count": null,
   "metadata": {},
   "source": [
    "## Autoencoder 2\n",
    "compresses 32x32-pixel images with convolutional layers & restores the original images"
   ]
  },
  {
   "cell_type": "code",
   "execution_count": 13,
   "metadata": {},
   "outputs": [],
   "source": [
    "class AE2(tnn.Module):\n",
    "    def __init__(self):        \n",
    "        super(AE2,self).__init__()\n",
    "        # encoder\n",
    "        self.conv1=tnn.Conv2d(in_channels=1,out_channels=4,\n",
    "                              kernel_size=(3,3),stride=(1,1),\n",
    "                              padding=1)\n",
    "        self.pool1=tnn.MaxPool2d(kernel_size=(2,2),\n",
    "                                 stride=(2,2),padding=0)                                       \n",
    "        self.conv2=tnn.Conv2d(in_channels=4,out_channels=16,\n",
    "                              kernel_size=(3,3),stride=(1,1),\n",
    "                              padding=1)                                         \n",
    "        self.pool2=tnn.MaxPool2d(kernel_size=(2,2),\n",
    "                                 stride=(2,2),padding=0)\n",
    "        # decoder\n",
    "        self.conv3=tnn.Conv2d(in_channels=16,out_channels=4,\n",
    "                              kernel_size=(3,3),stride=(1,1),\n",
    "                              padding=1)\n",
    "        self.conv4=tnn.Conv2d(in_channels=4,out_channels=1,\n",
    "                              kernel_size=(3,3),stride=(1,1),\n",
    "                              padding=1)       \n",
    "    def forward(self,x):        \n",
    "        # encoder\n",
    "        x=self.conv1(x); x=tnnf.leaky_relu(x)\n",
    "        x=self.pool1(x)\n",
    "        x=self.conv2(x); x=tnnf.leaky_relu(x)\n",
    "        x=self.pool2(x)        \n",
    "        # decoder\n",
    "        x=tnnf.interpolate(x,scale_factor=2,mode='nearest')\n",
    "        x=self.conv3(x)\n",
    "        x=tnnf.leaky_relu(x)\n",
    "        x=tnnf.interpolate(x,scale_factor=2,mode='nearest')\n",
    "        x=self.conv4(x)\n",
    "        logits=tnnf.leaky_relu(x)\n",
    "        probs=torch.sigmoid(logits)\n",
    "        return logits,probs"
   ]
  },
  {
   "cell_type": "markdown",
   "execution_count": null,
   "metadata": {},
   "source": [
    "## Training"
   ]
  },
  {
   "cell_type": "code",
   "execution_count": 14,
   "metadata": {},
   "outputs": [],
   "source": [
    "torch.manual_seed(random_seed)\n",
    "learning_rate=.05\n",
    "model=AE2()\n",
    "model=model.to(dev)\n",
    "optimizer2=torch.optim.Adam(model.parameters(),\n",
    "                            lr=learning_rate) "
   ]
  },
  {
   "cell_type": "code",
   "execution_count": 15,
   "metadata": {
    "_kg_hide-output": true
   },
   "outputs": [
    {
     "name": "stdout",
     "output_type": "stream",
     "text": [
      "Epoch: 001/100 | Batch: 000/089 | Cost: 0.6931\n",
      "Epoch: 002/100 | Batch: 000/089 | Cost: 0.6635\n",
      "Epoch: 003/100 | Batch: 000/089 | Cost: 0.6484\n",
      "Epoch: 004/100 | Batch: 000/089 | Cost: 0.6376\n",
      "Epoch: 005/100 | Batch: 000/089 | Cost: 0.6401\n",
      "Epoch: 006/100 | Batch: 000/089 | Cost: 0.6343\n",
      "Epoch: 007/100 | Batch: 000/089 | Cost: 0.6455\n",
      "Epoch: 008/100 | Batch: 000/089 | Cost: 0.6387\n",
      "Epoch: 009/100 | Batch: 000/089 | Cost: 0.6337\n",
      "Epoch: 010/100 | Batch: 000/089 | Cost: 0.6414\n",
      "Epoch: 011/100 | Batch: 000/089 | Cost: 0.6323\n",
      "Epoch: 012/100 | Batch: 000/089 | Cost: 0.6356\n",
      "Epoch: 013/100 | Batch: 000/089 | Cost: 0.6426\n",
      "Epoch: 014/100 | Batch: 000/089 | Cost: 0.6384\n",
      "Epoch: 015/100 | Batch: 000/089 | Cost: 0.6447\n",
      "Epoch: 016/100 | Batch: 000/089 | Cost: 0.6392\n",
      "Epoch: 017/100 | Batch: 000/089 | Cost: 0.6452\n",
      "Epoch: 018/100 | Batch: 000/089 | Cost: 0.6433\n",
      "Epoch: 019/100 | Batch: 000/089 | Cost: 0.6395\n",
      "Epoch: 020/100 | Batch: 000/089 | Cost: 0.6395\n",
      "Epoch: 021/100 | Batch: 000/089 | Cost: 0.6478\n",
      "Epoch: 022/100 | Batch: 000/089 | Cost: 0.6434\n",
      "Epoch: 023/100 | Batch: 000/089 | Cost: 0.6431\n",
      "Epoch: 024/100 | Batch: 000/089 | Cost: 0.6291\n",
      "Epoch: 025/100 | Batch: 000/089 | Cost: 0.6430\n",
      "Epoch: 026/100 | Batch: 000/089 | Cost: 0.6426\n",
      "Epoch: 027/100 | Batch: 000/089 | Cost: 0.6509\n",
      "Epoch: 028/100 | Batch: 000/089 | Cost: 0.6481\n",
      "Epoch: 029/100 | Batch: 000/089 | Cost: 0.6433\n",
      "Epoch: 030/100 | Batch: 000/089 | Cost: 0.6373\n",
      "Epoch: 031/100 | Batch: 000/089 | Cost: 0.6417\n",
      "Epoch: 032/100 | Batch: 000/089 | Cost: 0.6411\n",
      "Epoch: 033/100 | Batch: 000/089 | Cost: 0.6421\n",
      "Epoch: 034/100 | Batch: 000/089 | Cost: 0.6362\n",
      "Epoch: 035/100 | Batch: 000/089 | Cost: 0.6423\n",
      "Epoch: 036/100 | Batch: 000/089 | Cost: 0.6460\n",
      "Epoch: 037/100 | Batch: 000/089 | Cost: 0.6391\n",
      "Epoch: 038/100 | Batch: 000/089 | Cost: 0.6400\n",
      "Epoch: 039/100 | Batch: 000/089 | Cost: 0.6325\n",
      "Epoch: 040/100 | Batch: 000/089 | Cost: 0.6498\n",
      "Epoch: 041/100 | Batch: 000/089 | Cost: 0.6398\n",
      "Epoch: 042/100 | Batch: 000/089 | Cost: 0.6341\n",
      "Epoch: 043/100 | Batch: 000/089 | Cost: 0.6472\n",
      "Epoch: 044/100 | Batch: 000/089 | Cost: 0.6412\n",
      "Epoch: 045/100 | Batch: 000/089 | Cost: 0.6439\n",
      "Epoch: 046/100 | Batch: 000/089 | Cost: 0.6385\n",
      "Epoch: 047/100 | Batch: 000/089 | Cost: 0.6395\n",
      "Epoch: 048/100 | Batch: 000/089 | Cost: 0.6301\n",
      "Epoch: 049/100 | Batch: 000/089 | Cost: 0.6358\n",
      "Epoch: 050/100 | Batch: 000/089 | Cost: 0.6494\n",
      "Epoch: 051/100 | Batch: 000/089 | Cost: 0.6394\n",
      "Epoch: 052/100 | Batch: 000/089 | Cost: 0.6478\n",
      "Epoch: 053/100 | Batch: 000/089 | Cost: 0.6305\n",
      "Epoch: 054/100 | Batch: 000/089 | Cost: 0.6409\n",
      "Epoch: 055/100 | Batch: 000/089 | Cost: 0.6410\n",
      "Epoch: 056/100 | Batch: 000/089 | Cost: 0.6488\n",
      "Epoch: 057/100 | Batch: 000/089 | Cost: 0.6406\n",
      "Epoch: 058/100 | Batch: 000/089 | Cost: 0.6382\n",
      "Epoch: 059/100 | Batch: 000/089 | Cost: 0.6352\n",
      "Epoch: 060/100 | Batch: 000/089 | Cost: 0.6425\n",
      "Epoch: 061/100 | Batch: 000/089 | Cost: 0.6379\n",
      "Epoch: 062/100 | Batch: 000/089 | Cost: 0.6446\n",
      "Epoch: 063/100 | Batch: 000/089 | Cost: 0.6367\n",
      "Epoch: 064/100 | Batch: 000/089 | Cost: 0.6406\n",
      "Epoch: 065/100 | Batch: 000/089 | Cost: 0.6499\n",
      "Epoch: 066/100 | Batch: 000/089 | Cost: 0.6405\n",
      "Epoch: 067/100 | Batch: 000/089 | Cost: 0.6430\n",
      "Epoch: 068/100 | Batch: 000/089 | Cost: 0.6422\n",
      "Epoch: 069/100 | Batch: 000/089 | Cost: 0.6321\n",
      "Epoch: 070/100 | Batch: 000/089 | Cost: 0.6386\n",
      "Epoch: 071/100 | Batch: 000/089 | Cost: 0.6442\n",
      "Epoch: 072/100 | Batch: 000/089 | Cost: 0.6405\n",
      "Epoch: 073/100 | Batch: 000/089 | Cost: 0.6408\n",
      "Epoch: 074/100 | Batch: 000/089 | Cost: 0.6407\n",
      "Epoch: 075/100 | Batch: 000/089 | Cost: 0.6449\n",
      "Epoch: 076/100 | Batch: 000/089 | Cost: 0.6331\n",
      "Epoch: 077/100 | Batch: 000/089 | Cost: 0.6323\n",
      "Epoch: 078/100 | Batch: 000/089 | Cost: 0.6405\n",
      "Epoch: 079/100 | Batch: 000/089 | Cost: 0.6405\n",
      "Epoch: 080/100 | Batch: 000/089 | Cost: 0.6410\n",
      "Epoch: 081/100 | Batch: 000/089 | Cost: 0.6450\n",
      "Epoch: 082/100 | Batch: 000/089 | Cost: 0.6486\n",
      "Epoch: 083/100 | Batch: 000/089 | Cost: 0.6492\n",
      "Epoch: 084/100 | Batch: 000/089 | Cost: 0.6435\n",
      "Epoch: 085/100 | Batch: 000/089 | Cost: 0.6352\n",
      "Epoch: 086/100 | Batch: 000/089 | Cost: 0.6348\n",
      "Epoch: 087/100 | Batch: 000/089 | Cost: 0.6477\n",
      "Epoch: 088/100 | Batch: 000/089 | Cost: 0.6400\n",
      "Epoch: 089/100 | Batch: 000/089 | Cost: 0.6337\n",
      "Epoch: 090/100 | Batch: 000/089 | Cost: 0.6349\n",
      "Epoch: 091/100 | Batch: 000/089 | Cost: 0.6439\n",
      "Epoch: 092/100 | Batch: 000/089 | Cost: 0.6394\n",
      "Epoch: 093/100 | Batch: 000/089 | Cost: 0.6425\n",
      "Epoch: 094/100 | Batch: 000/089 | Cost: 0.6368\n",
      "Epoch: 095/100 | Batch: 000/089 | Cost: 0.6380\n",
      "Epoch: 096/100 | Batch: 000/089 | Cost: 0.6343\n",
      "Epoch: 097/100 | Batch: 000/089 | Cost: 0.6417\n",
      "Epoch: 098/100 | Batch: 000/089 | Cost: 0.6407\n",
      "Epoch: 099/100 | Batch: 000/089 | Cost: 0.6409\n",
      "Epoch: 100/100 | Batch: 000/089 | Cost: 0.6473\n"
     ]
    }
   ],
   "source": [
    "epochs=100\n",
    "for epoch in range(epochs):\n",
    "    for batch_ids,(features,targets) in enumerate(train_loader2):\n",
    "        features=features.to(dev)\n",
    "        logits,decoded=model(features)\n",
    "        cost=tnnf.binary_cross_entropy_with_logits(logits,features)\n",
    "        optimizer2.zero_grad()      \n",
    "        cost.backward(); optimizer2.step()\n",
    "        if not batch_ids%100:\n",
    "            print ('Epoch: %03d/%03d | Batch: %03d/%03d | Cost: %.4f' \n",
    "                   %(epoch+1,epochs,batch_ids,\n",
    "                     len(train_loader2),cost))"
   ]
  },
  {
   "cell_type": "code",
   "execution_count": 16,
   "metadata": {},
   "outputs": [
    {
     "data": {
      "image/png": "[encoded data removed]",
      "text/plain": [
       "<Figure size 720x288 with 10 Axes>"
      ]
     },
     "metadata": {
      "needs_background": "light"
     },
     "output_type": "display_data"
    }
   ],
   "source": [
    "display_results(5)"
   ]
  }
 ],
 "metadata": {
  "kernelspec": {
   "display_name": "Python 3",
   "language": "python",
   "name": "python3"
  },
  "language_info": {
   "codemirror_mode": {
    "name": "ipython",
    "version": 3
   },
   "file_extension": ".py",
   "mimetype": "text/x-python",
   "name": "python",
   "nbconvert_exporter": "python",
   "pygments_lexer": "ipython3",
   "version": "3.7.6"
  },
  "widgets": {
   "application/vnd.jupyter.widget-state+json": {
    "state": {
     "0c00d999a88d4fc7935456a15099ee20": {
      "model_module": "@jupyter-widgets/base",
      "model_module_version": "1.2.0",
      "model_name": "LayoutModel",
      "state": {
       "_model_module": "@jupyter-widgets/base",
       "_model_module_version": "1.2.0",
       "_model_name": "LayoutModel",
       "_view_count": null,
       "_view_module": "@jupyter-widgets/base",
       "_view_module_version": "1.2.0",
       "_view_name": "LayoutView",
       "align_content": null,
       "align_items": null,
       "align_self": null,
       "border": null,
       "bottom": null,
       "display": null,
       "flex": null,
       "flex_flow": null,
       "grid_area": null,
       "grid_auto_columns": null,
       "grid_auto_flow": null,
       "grid_auto_rows": null,
       "grid_column": null,
       "grid_gap": null,
       "grid_row": null,
       "grid_template_areas": null,
       "grid_template_columns": null,
       "grid_template_rows": null,
       "height": null,
       "justify_content": null,
       "justify_items": null,
       "left": null,
       "margin": null,
       "max_height": null,
       "max_width": null,
       "min_height": null,
       "min_width": null,
       "object_fit": null,
       "object_position": null,
       "order": null,
       "overflow": null,
       "overflow_x": null,
       "overflow_y": null,
       "padding": null,
       "right": null,
       "top": null,
       "visibility": null,
       "width": null
      }
     },
     "3765f044fa744b4c97d6caeb52bd3268": {
      "model_module": "@jupyter-widgets/controls",
      "model_module_version": "1.5.0",
      "model_name": "DescriptionStyleModel",
      "state": {
       "_model_module": "@jupyter-widgets/controls",
       "_model_module_version": "1.5.0",
       "_model_name": "DescriptionStyleModel",
       "_view_count": null,
       "_view_module": "@jupyter-widgets/base",
       "_view_module_version": "1.2.0",
       "_view_name": "StyleView",
       "description_width": ""
      }
     },
     "378ac323047140248cff6d04b19f174a": {
      "model_module": "@jupyter-widgets/base",
      "model_module_version": "1.2.0",
      "model_name": "LayoutModel",
      "state": {
       "_model_module": "@jupyter-widgets/base",
       "_model_module_version": "1.2.0",
       "_model_name": "LayoutModel",
       "_view_count": null,
       "_view_module": "@jupyter-widgets/base",
       "_view_module_version": "1.2.0",
       "_view_name": "LayoutView",
       "align_content": null,
       "align_items": null,
       "align_self": null,
       "border": null,
       "bottom": null,
       "display": null,
       "flex": null,
       "flex_flow": null,
       "grid_area": null,
       "grid_auto_columns": null,
       "grid_auto_flow": null,
       "grid_auto_rows": null,
       "grid_column": null,
       "grid_gap": null,
       "grid_row": null,
       "grid_template_areas": null,
       "grid_template_columns": null,
       "grid_template_rows": null,
       "height": null,
       "justify_content": null,
       "justify_items": null,
       "left": null,
       "margin": null,
       "max_height": null,
       "max_width": null,
       "min_height": null,
       "min_width": null,
       "object_fit": null,
       "object_position": null,
       "order": null,
       "overflow": null,
       "overflow_x": null,
       "overflow_y": null,
       "padding": null,
       "right": null,
       "top": null,
       "visibility": null,
       "width": null
      }
     },
     "3d6d6d3dc9f34891b1e0b86698273227": {
      "model_module": "@jupyter-widgets/controls",
      "model_module_version": "1.5.0",
      "model_name": "FloatProgressModel",
      "state": {
       "_dom_classes": [],
       "_model_module": "@jupyter-widgets/controls",
       "_model_module_version": "1.5.0",
       "_model_name": "FloatProgressModel",
       "_view_count": null,
       "_view_module": "@jupyter-widgets/controls",
       "_view_module_version": "1.5.0",
       "_view_name": "ProgressView",
       "bar_style": "success",
       "description": "",
       "description_tooltip": null,
       "layout": "IPY_MODEL_3f0a4dfd98c94e11a8f2e15899fa2c22",
       "max": 1.0,
       "min": 0.0,
       "orientation": "horizontal",
       "style": "IPY_MODEL_67646dc60bf9443ea2a1e09fd82ba7db",
       "value": 1.0
      }
     },
     "3f0a4dfd98c94e11a8f2e15899fa2c22": {
      "model_module": "@jupyter-widgets/base",
      "model_module_version": "1.2.0",
      "model_name": "LayoutModel",
      "state": {
       "_model_module": "@jupyter-widgets/base",
       "_model_module_version": "1.2.0",
       "_model_name": "LayoutModel",
       "_view_count": null,
       "_view_module": "@jupyter-widgets/base",
       "_view_module_version": "1.2.0",
       "_view_name": "LayoutView",
       "align_content": null,
       "align_items": null,
       "align_self": null,
       "border": null,
       "bottom": null,
       "display": null,
       "flex": null,
       "flex_flow": null,
       "grid_area": null,
       "grid_auto_columns": null,
       "grid_auto_flow": null,
       "grid_auto_rows": null,
       "grid_column": null,
       "grid_gap": null,
       "grid_row": null,
       "grid_template_areas": null,
       "grid_template_columns": null,
       "grid_template_rows": null,
       "height": null,
       "justify_content": null,
       "justify_items": null,
       "left": null,
       "margin": null,
       "max_height": null,
       "max_width": null,
       "min_height": null,
       "min_width": null,
       "object_fit": null,
       "object_position": null,
       "order": null,
       "overflow": null,
       "overflow_x": null,
       "overflow_y": null,
       "padding": null,
       "right": null,
       "top": null,
       "visibility": null,
       "width": null
      }
     },
     "4b7316a08c4b47e0ba3df87bcc54ce2d": {
      "model_module": "@jupyter-widgets/base",
      "model_module_version": "1.2.0",
      "model_name": "LayoutModel",
      "state": {
       "_model_module": "@jupyter-widgets/base",
       "_model_module_version": "1.2.0",
       "_model_name": "LayoutModel",
       "_view_count": null,
       "_view_module": "@jupyter-widgets/base",
       "_view_module_version": "1.2.0",
       "_view_name": "LayoutView",
       "align_content": null,
       "align_items": null,
       "align_self": null,
       "border": null,
       "bottom": null,
       "display": null,
       "flex": null,
       "flex_flow": null,
       "grid_area": null,
       "grid_auto_columns": null,
       "grid_auto_flow": null,
       "grid_auto_rows": null,
       "grid_column": null,
       "grid_gap": null,
       "grid_row": null,
       "grid_template_areas": null,
       "grid_template_columns": null,
       "grid_template_rows": null,
       "height": null,
       "justify_content": null,
       "justify_items": null,
       "left": null,
       "margin": null,
       "max_height": null,
       "max_width": null,
       "min_height": null,
       "min_width": null,
       "object_fit": null,
       "object_position": null,
       "order": null,
       "overflow": null,
       "overflow_x": null,
       "overflow_y": null,
       "padding": null,
       "right": null,
       "top": null,
       "visibility": null,
       "width": null
      }
     },
     "4dede46dd2a042eb8a7a0be28d33f8f2": {
      "model_module": "@jupyter-widgets/base",
      "model_module_version": "1.2.0",
      "model_name": "LayoutModel",
      "state": {
       "_model_module": "@jupyter-widgets/base",
       "_model_module_version": "1.2.0",
       "_model_name": "LayoutModel",
       "_view_count": null,
       "_view_module": "@jupyter-widgets/base",
       "_view_module_version": "1.2.0",
       "_view_name": "LayoutView",
       "align_content": null,
       "align_items": null,
       "align_self": null,
       "border": null,
       "bottom": null,
       "display": null,
       "flex": null,
       "flex_flow": null,
       "grid_area": null,
       "grid_auto_columns": null,
       "grid_auto_flow": null,
       "grid_auto_rows": null,
       "grid_column": null,
       "grid_gap": null,
       "grid_row": null,
       "grid_template_areas": null,
       "grid_template_columns": null,
       "grid_template_rows": null,
       "height": null,
       "justify_content": null,
       "justify_items": null,
       "left": null,
       "margin": null,
       "max_height": null,
       "max_width": null,
       "min_height": null,
       "min_width": null,
       "object_fit": null,
       "object_position": null,
       "order": null,
       "overflow": null,
       "overflow_x": null,
       "overflow_y": null,
       "padding": null,
       "right": null,
       "top": null,
       "visibility": null,
       "width": null
      }
     },
     "5cea1e4473694a61889547f1072aa011": {
      "model_module": "@jupyter-widgets/controls",
      "model_module_version": "1.5.0",
      "model_name": "ProgressStyleModel",
      "state": {
       "_model_module": "@jupyter-widgets/controls",
       "_model_module_version": "1.5.0",
       "_model_name": "ProgressStyleModel",
       "_view_count": null,
       "_view_module": "@jupyter-widgets/base",
       "_view_module_version": "1.2.0",
       "_view_name": "StyleView",
       "bar_color": null,
       "description_width": "initial"
      }
     },
     "67516140a78a4cbcabb192ae5dd5f18f": {
      "model_module": "@jupyter-widgets/controls",
      "model_module_version": "1.5.0",
      "model_name": "HTMLModel",
      "state": {
       "_dom_classes": [],
       "_model_module": "@jupyter-widgets/controls",
       "_model_module_version": "1.5.0",
       "_model_name": "HTMLModel",
       "_view_count": null,
       "_view_module": "@jupyter-widgets/controls",
       "_view_module_version": "1.5.0",
       "_view_name": "HTMLView",
       "description": "",
       "description_tooltip": null,
       "layout": "IPY_MODEL_766dd15cf92c43209b1df6f0b6a188f6",
       "placeholder": "​",
       "style": "IPY_MODEL_3765f044fa744b4c97d6caeb52bd3268",
       "value": " 9920512/? [00:06&lt;00:00, 1463408.98it/s]"
      }
     },
     "67646dc60bf9443ea2a1e09fd82ba7db": {
      "model_module": "@jupyter-widgets/controls",
      "model_module_version": "1.5.0",
      "model_name": "ProgressStyleModel",
      "state": {
       "_model_module": "@jupyter-widgets/controls",
       "_model_module_version": "1.5.0",
       "_model_name": "ProgressStyleModel",
       "_view_count": null,
       "_view_module": "@jupyter-widgets/base",
       "_view_module_version": "1.2.0",
       "_view_name": "StyleView",
       "bar_color": null,
       "description_width": "initial"
      }
     },
     "68be2a93b8884c7e9c6d13a180312690": {
      "model_module": "@jupyter-widgets/base",
      "model_module_version": "1.2.0",
      "model_name": "LayoutModel",
      "state": {
       "_model_module": "@jupyter-widgets/base",
       "_model_module_version": "1.2.0",
       "_model_name": "LayoutModel",
       "_view_count": null,
       "_view_module": "@jupyter-widgets/base",
       "_view_module_version": "1.2.0",
       "_view_name": "LayoutView",
       "align_content": null,
       "align_items": null,
       "align_self": null,
       "border": null,
       "bottom": null,
       "display": null,
       "flex": null,
       "flex_flow": null,
       "grid_area": null,
       "grid_auto_columns": null,
       "grid_auto_flow": null,
       "grid_auto_rows": null,
       "grid_column": null,
       "grid_gap": null,
       "grid_row": null,
       "grid_template_areas": null,
       "grid_template_columns": null,
       "grid_template_rows": null,
       "height": null,
       "justify_content": null,
       "justify_items": null,
       "left": null,
       "margin": null,
       "max_height": null,
       "max_width": null,
       "min_height": null,
       "min_width": null,
       "object_fit": null,
       "object_position": null,
       "order": null,
       "overflow": null,
       "overflow_x": null,
       "overflow_y": null,
       "padding": null,
       "right": null,
       "top": null,
       "visibility": null,
       "width": null
      }
     },
     "69a1ee35c2a0495482b049df83d99838": {
      "model_module": "@jupyter-widgets/controls",
      "model_module_version": "1.5.0",
      "model_name": "HBoxModel",
      "state": {
       "_dom_classes": [],
       "_model_module": "@jupyter-widgets/controls",
       "_model_module_version": "1.5.0",
       "_model_name": "HBoxModel",
       "_view_count": null,
       "_view_module": "@jupyter-widgets/controls",
       "_view_module_version": "1.5.0",
       "_view_name": "HBoxView",
       "box_style": "",
       "children": [
        "IPY_MODEL_997c72fe88414f74b322e3c02c514af9",
        "IPY_MODEL_850e445487e24f5185d6408b3c4860db"
       ],
       "layout": "IPY_MODEL_4b7316a08c4b47e0ba3df87bcc54ce2d"
      }
     },
     "6a97ba9b2d32493c8c8a50532a5a3110": {
      "model_module": "@jupyter-widgets/controls",
      "model_module_version": "1.5.0",
      "model_name": "HBoxModel",
      "state": {
       "_dom_classes": [],
       "_model_module": "@jupyter-widgets/controls",
       "_model_module_version": "1.5.0",
       "_model_name": "HBoxModel",
       "_view_count": null,
       "_view_module": "@jupyter-widgets/controls",
       "_view_module_version": "1.5.0",
       "_view_name": "HBoxView",
       "box_style": "",
       "children": [
        "IPY_MODEL_74220a32b4534ff184b7541083592006",
        "IPY_MODEL_7b7c5cc359ee484fae153b434f8469d4"
       ],
       "layout": "IPY_MODEL_9f7aa249035b4e48ab4f71ac8783bfc3"
      }
     },
     "74220a32b4534ff184b7541083592006": {
      "model_module": "@jupyter-widgets/controls",
      "model_module_version": "1.5.0",
      "model_name": "FloatProgressModel",
      "state": {
       "_dom_classes": [],
       "_model_module": "@jupyter-widgets/controls",
       "_model_module_version": "1.5.0",
       "_model_name": "FloatProgressModel",
       "_view_count": null,
       "_view_module": "@jupyter-widgets/controls",
       "_view_module_version": "1.5.0",
       "_view_name": "ProgressView",
       "bar_style": "success",
       "description": "",
       "description_tooltip": null,
       "layout": "IPY_MODEL_8cacef61646547458b2ada6b811fafaa",
       "max": 1.0,
       "min": 0.0,
       "orientation": "horizontal",
       "style": "IPY_MODEL_de40450c5c9945f1818c56f7283d30b3",
       "value": 1.0
      }
     },
     "748c58bf67524f228a3fc128a3832bfc": {
      "model_module": "@jupyter-widgets/controls",
      "model_module_version": "1.5.0",
      "model_name": "DescriptionStyleModel",
      "state": {
       "_model_module": "@jupyter-widgets/controls",
       "_model_module_version": "1.5.0",
       "_model_name": "DescriptionStyleModel",
       "_view_count": null,
       "_view_module": "@jupyter-widgets/base",
       "_view_module_version": "1.2.0",
       "_view_name": "StyleView",
       "description_width": ""
      }
     },
     "766dd15cf92c43209b1df6f0b6a188f6": {
      "model_module": "@jupyter-widgets/base",
      "model_module_version": "1.2.0",
      "model_name": "LayoutModel",
      "state": {
       "_model_module": "@jupyter-widgets/base",
       "_model_module_version": "1.2.0",
       "_model_name": "LayoutModel",
       "_view_count": null,
       "_view_module": "@jupyter-widgets/base",
       "_view_module_version": "1.2.0",
       "_view_name": "LayoutView",
       "align_content": null,
       "align_items": null,
       "align_self": null,
       "border": null,
       "bottom": null,
       "display": null,
       "flex": null,
       "flex_flow": null,
       "grid_area": null,
       "grid_auto_columns": null,
       "grid_auto_flow": null,
       "grid_auto_rows": null,
       "grid_column": null,
       "grid_gap": null,
       "grid_row": null,
       "grid_template_areas": null,
       "grid_template_columns": null,
       "grid_template_rows": null,
       "height": null,
       "justify_content": null,
       "justify_items": null,
       "left": null,
       "margin": null,
       "max_height": null,
       "max_width": null,
       "min_height": null,
       "min_width": null,
       "object_fit": null,
       "object_position": null,
       "order": null,
       "overflow": null,
       "overflow_x": null,
       "overflow_y": null,
       "padding": null,
       "right": null,
       "top": null,
       "visibility": null,
       "width": null
      }
     },
     "7b7c5cc359ee484fae153b434f8469d4": {
      "model_module": "@jupyter-widgets/controls",
      "model_module_version": "1.5.0",
      "model_name": "HTMLModel",
      "state": {
       "_dom_classes": [],
       "_model_module": "@jupyter-widgets/controls",
       "_model_module_version": "1.5.0",
       "_model_name": "HTMLModel",
       "_view_count": null,
       "_view_module": "@jupyter-widgets/controls",
       "_view_module_version": "1.5.0",
       "_view_name": "HTMLView",
       "description": "",
       "description_tooltip": null,
       "layout": "IPY_MODEL_4dede46dd2a042eb8a7a0be28d33f8f2",
       "placeholder": "​",
       "style": "IPY_MODEL_748c58bf67524f228a3fc128a3832bfc",
       "value": " 32768/? [00:03&lt;00:00, 9320.43it/s]"
      }
     },
     "84b16ff1eecc4dd595a17d2e35e6be19": {
      "model_module": "@jupyter-widgets/controls",
      "model_module_version": "1.5.0",
      "model_name": "HTMLModel",
      "state": {
       "_dom_classes": [],
       "_model_module": "@jupyter-widgets/controls",
       "_model_module_version": "1.5.0",
       "_model_name": "HTMLModel",
       "_view_count": null,
       "_view_module": "@jupyter-widgets/controls",
       "_view_module_version": "1.5.0",
       "_view_name": "HTMLView",
       "description": "",
       "description_tooltip": null,
       "layout": "IPY_MODEL_0c00d999a88d4fc7935456a15099ee20",
       "placeholder": "​",
       "style": "IPY_MODEL_d3367552f9f84125b8b68ced4ff4a12f",
       "value": " 8192/? [00:00&lt;00:00, 9767.71it/s]"
      }
     },
     "850e445487e24f5185d6408b3c4860db": {
      "model_module": "@jupyter-widgets/controls",
      "model_module_version": "1.5.0",
      "model_name": "HTMLModel",
      "state": {
       "_dom_classes": [],
       "_model_module": "@jupyter-widgets/controls",
       "_model_module_version": "1.5.0",
       "_model_name": "HTMLModel",
       "_view_count": null,
       "_view_module": "@jupyter-widgets/controls",
       "_view_module_version": "1.5.0",
       "_view_name": "HTMLView",
       "description": "",
       "description_tooltip": null,
       "layout": "IPY_MODEL_866cf332e198449a905fe4839f16b742",
       "placeholder": "​",
       "style": "IPY_MODEL_b2cc3477ac474c5a939d92fcc20fefb1",
       "value": " 1654784/? [00:02&lt;00:00, 601516.43it/s]"
      }
     },
     "866cf332e198449a905fe4839f16b742": {
      "model_module": "@jupyter-widgets/base",
      "model_module_version": "1.2.0",
      "model_name": "LayoutModel",
      "state": {
       "_model_module": "@jupyter-widgets/base",
       "_model_module_version": "1.2.0",
       "_model_name": "LayoutModel",
       "_view_count": null,
       "_view_module": "@jupyter-widgets/base",
       "_view_module_version": "1.2.0",
       "_view_name": "LayoutView",
       "align_content": null,
       "align_items": null,
       "align_self": null,
       "border": null,
       "bottom": null,
       "display": null,
       "flex": null,
       "flex_flow": null,
       "grid_area": null,
       "grid_auto_columns": null,
       "grid_auto_flow": null,
       "grid_auto_rows": null,
       "grid_column": null,
       "grid_gap": null,
       "grid_row": null,
       "grid_template_areas": null,
       "grid_template_columns": null,
       "grid_template_rows": null,
       "height": null,
       "justify_content": null,
       "justify_items": null,
       "left": null,
       "margin": null,
       "max_height": null,
       "max_width": null,
       "min_height": null,
       "min_width": null,
       "object_fit": null,
       "object_position": null,
       "order": null,
       "overflow": null,
       "overflow_x": null,
       "overflow_y": null,
       "padding": null,
       "right": null,
       "top": null,
       "visibility": null,
       "width": null
      }
     },
     "8cacef61646547458b2ada6b811fafaa": {
      "model_module": "@jupyter-widgets/base",
      "model_module_version": "1.2.0",
      "model_name": "LayoutModel",
      "state": {
       "_model_module": "@jupyter-widgets/base",
       "_model_module_version": "1.2.0",
       "_model_name": "LayoutModel",
       "_view_count": null,
       "_view_module": "@jupyter-widgets/base",
       "_view_module_version": "1.2.0",
       "_view_name": "LayoutView",
       "align_content": null,
       "align_items": null,
       "align_self": null,
       "border": null,
       "bottom": null,
       "display": null,
       "flex": null,
       "flex_flow": null,
       "grid_area": null,
       "grid_auto_columns": null,
       "grid_auto_flow": null,
       "grid_auto_rows": null,
       "grid_column": null,
       "grid_gap": null,
       "grid_row": null,
       "grid_template_areas": null,
       "grid_template_columns": null,
       "grid_template_rows": null,
       "height": null,
       "justify_content": null,
       "justify_items": null,
       "left": null,
       "margin": null,
       "max_height": null,
       "max_width": null,
       "min_height": null,
       "min_width": null,
       "object_fit": null,
       "object_position": null,
       "order": null,
       "overflow": null,
       "overflow_x": null,
       "overflow_y": null,
       "padding": null,
       "right": null,
       "top": null,
       "visibility": null,
       "width": null
      }
     },
     "997c72fe88414f74b322e3c02c514af9": {
      "model_module": "@jupyter-widgets/controls",
      "model_module_version": "1.5.0",
      "model_name": "FloatProgressModel",
      "state": {
       "_dom_classes": [],
       "_model_module": "@jupyter-widgets/controls",
       "_model_module_version": "1.5.0",
       "_model_name": "FloatProgressModel",
       "_view_count": null,
       "_view_module": "@jupyter-widgets/controls",
       "_view_module_version": "1.5.0",
       "_view_name": "ProgressView",
       "bar_style": "success",
       "description": "",
       "description_tooltip": null,
       "layout": "IPY_MODEL_378ac323047140248cff6d04b19f174a",
       "max": 1.0,
       "min": 0.0,
       "orientation": "horizontal",
       "style": "IPY_MODEL_d53d73b705654e58a683ee0c3bbfc8a7",
       "value": 1.0
      }
     },
     "9f7aa249035b4e48ab4f71ac8783bfc3": {
      "model_module": "@jupyter-widgets/base",
      "model_module_version": "1.2.0",
      "model_name": "LayoutModel",
      "state": {
       "_model_module": "@jupyter-widgets/base",
       "_model_module_version": "1.2.0",
       "_model_name": "LayoutModel",
       "_view_count": null,
       "_view_module": "@jupyter-widgets/base",
       "_view_module_version": "1.2.0",
       "_view_name": "LayoutView",
       "align_content": null,
       "align_items": null,
       "align_self": null,
       "border": null,
       "bottom": null,
       "display": null,
       "flex": null,
       "flex_flow": null,
       "grid_area": null,
       "grid_auto_columns": null,
       "grid_auto_flow": null,
       "grid_auto_rows": null,
       "grid_column": null,
       "grid_gap": null,
       "grid_row": null,
       "grid_template_areas": null,
       "grid_template_columns": null,
       "grid_template_rows": null,
       "height": null,
       "justify_content": null,
       "justify_items": null,
       "left": null,
       "margin": null,
       "max_height": null,
       "max_width": null,
       "min_height": null,
       "min_width": null,
       "object_fit": null,
       "object_position": null,
       "order": null,
       "overflow": null,
       "overflow_x": null,
       "overflow_y": null,
       "padding": null,
       "right": null,
       "top": null,
       "visibility": null,
       "width": null
      }
     },
     "aa38ae4087ff4e19a80dad349db71e54": {
      "model_module": "@jupyter-widgets/base",
      "model_module_version": "1.2.0",
      "model_name": "LayoutModel",
      "state": {
       "_model_module": "@jupyter-widgets/base",
       "_model_module_version": "1.2.0",
       "_model_name": "LayoutModel",
       "_view_count": null,
       "_view_module": "@jupyter-widgets/base",
       "_view_module_version": "1.2.0",
       "_view_name": "LayoutView",
       "align_content": null,
       "align_items": null,
       "align_self": null,
       "border": null,
       "bottom": null,
       "display": null,
       "flex": null,
       "flex_flow": null,
       "grid_area": null,
       "grid_auto_columns": null,
       "grid_auto_flow": null,
       "grid_auto_rows": null,
       "grid_column": null,
       "grid_gap": null,
       "grid_row": null,
       "grid_template_areas": null,
       "grid_template_columns": null,
       "grid_template_rows": null,
       "height": null,
       "justify_content": null,
       "justify_items": null,
       "left": null,
       "margin": null,
       "max_height": null,
       "max_width": null,
       "min_height": null,
       "min_width": null,
       "object_fit": null,
       "object_position": null,
       "order": null,
       "overflow": null,
       "overflow_x": null,
       "overflow_y": null,
       "padding": null,
       "right": null,
       "top": null,
       "visibility": null,
       "width": null
      }
     },
     "b2cc3477ac474c5a939d92fcc20fefb1": {
      "model_module": "@jupyter-widgets/controls",
      "model_module_version": "1.5.0",
      "model_name": "DescriptionStyleModel",
      "state": {
       "_model_module": "@jupyter-widgets/controls",
       "_model_module_version": "1.5.0",
       "_model_name": "DescriptionStyleModel",
       "_view_count": null,
       "_view_module": "@jupyter-widgets/base",
       "_view_module_version": "1.2.0",
       "_view_name": "StyleView",
       "description_width": ""
      }
     },
     "c33d019919df49ffb77e9124d8a07273": {
      "model_module": "@jupyter-widgets/controls",
      "model_module_version": "1.5.0",
      "model_name": "HBoxModel",
      "state": {
       "_dom_classes": [],
       "_model_module": "@jupyter-widgets/controls",
       "_model_module_version": "1.5.0",
       "_model_name": "HBoxModel",
       "_view_count": null,
       "_view_module": "@jupyter-widgets/controls",
       "_view_module_version": "1.5.0",
       "_view_name": "HBoxView",
       "box_style": "",
       "children": [
        "IPY_MODEL_3d6d6d3dc9f34891b1e0b86698273227",
        "IPY_MODEL_67516140a78a4cbcabb192ae5dd5f18f"
       ],
       "layout": "IPY_MODEL_fdc777e038e24d7988ef37ef7e85fb73"
      }
     },
     "d110d3fdf58749509ae0769ac10bf5e0": {
      "model_module": "@jupyter-widgets/controls",
      "model_module_version": "1.5.0",
      "model_name": "FloatProgressModel",
      "state": {
       "_dom_classes": [],
       "_model_module": "@jupyter-widgets/controls",
       "_model_module_version": "1.5.0",
       "_model_name": "FloatProgressModel",
       "_view_count": null,
       "_view_module": "@jupyter-widgets/controls",
       "_view_module_version": "1.5.0",
       "_view_name": "ProgressView",
       "bar_style": "success",
       "description": "",
       "description_tooltip": null,
       "layout": "IPY_MODEL_68be2a93b8884c7e9c6d13a180312690",
       "max": 1.0,
       "min": 0.0,
       "orientation": "horizontal",
       "style": "IPY_MODEL_5cea1e4473694a61889547f1072aa011",
       "value": 1.0
      }
     },
     "d3367552f9f84125b8b68ced4ff4a12f": {
      "model_module": "@jupyter-widgets/controls",
      "model_module_version": "1.5.0",
      "model_name": "DescriptionStyleModel",
      "state": {
       "_model_module": "@jupyter-widgets/controls",
       "_model_module_version": "1.5.0",
       "_model_name": "DescriptionStyleModel",
       "_view_count": null,
       "_view_module": "@jupyter-widgets/base",
       "_view_module_version": "1.2.0",
       "_view_name": "StyleView",
       "description_width": ""
      }
     },
     "d53d73b705654e58a683ee0c3bbfc8a7": {
      "model_module": "@jupyter-widgets/controls",
      "model_module_version": "1.5.0",
      "model_name": "ProgressStyleModel",
      "state": {
       "_model_module": "@jupyter-widgets/controls",
       "_model_module_version": "1.5.0",
       "_model_name": "ProgressStyleModel",
       "_view_count": null,
       "_view_module": "@jupyter-widgets/base",
       "_view_module_version": "1.2.0",
       "_view_name": "StyleView",
       "bar_color": null,
       "description_width": "initial"
      }
     },
     "de40450c5c9945f1818c56f7283d30b3": {
      "model_module": "@jupyter-widgets/controls",
      "model_module_version": "1.5.0",
      "model_name": "ProgressStyleModel",
      "state": {
       "_model_module": "@jupyter-widgets/controls",
       "_model_module_version": "1.5.0",
       "_model_name": "ProgressStyleModel",
       "_view_count": null,
       "_view_module": "@jupyter-widgets/base",
       "_view_module_version": "1.2.0",
       "_view_name": "StyleView",
       "bar_color": null,
       "description_width": "initial"
      }
     },
     "eb38b83d75e94827975d9cdb1d861063": {
      "model_module": "@jupyter-widgets/controls",
      "model_module_version": "1.5.0",
      "model_name": "HBoxModel",
      "state": {
       "_dom_classes": [],
       "_model_module": "@jupyter-widgets/controls",
       "_model_module_version": "1.5.0",
       "_model_name": "HBoxModel",
       "_view_count": null,
       "_view_module": "@jupyter-widgets/controls",
       "_view_module_version": "1.5.0",
       "_view_name": "HBoxView",
       "box_style": "",
       "children": [
        "IPY_MODEL_d110d3fdf58749509ae0769ac10bf5e0",
        "IPY_MODEL_84b16ff1eecc4dd595a17d2e35e6be19"
       ],
       "layout": "IPY_MODEL_aa38ae4087ff4e19a80dad349db71e54"
      }
     },
     "fdc777e038e24d7988ef37ef7e85fb73": {
      "model_module": "@jupyter-widgets/base",
      "model_module_version": "1.2.0",
      "model_name": "LayoutModel",
      "state": {
       "_model_module": "@jupyter-widgets/base",
       "_model_module_version": "1.2.0",
       "_model_name": "LayoutModel",
       "_view_count": null,
       "_view_module": "@jupyter-widgets/base",
       "_view_module_version": "1.2.0",
       "_view_name": "LayoutView",
       "align_content": null,
       "align_items": null,
       "align_self": null,
       "border": null,
       "bottom": null,
       "display": null,
       "flex": null,
       "flex_flow": null,
       "grid_area": null,
       "grid_auto_columns": null,
       "grid_auto_flow": null,
       "grid_auto_rows": null,
       "grid_column": null,
       "grid_gap": null,
       "grid_row": null,
       "grid_template_areas": null,
       "grid_template_columns": null,
       "grid_template_rows": null,
       "height": null,
       "justify_content": null,
       "justify_items": null,
       "left": null,
       "margin": null,
       "max_height": null,
       "max_width": null,
       "min_height": null,
       "min_width": null,
       "object_fit": null,
       "object_position": null,
       "order": null,
       "overflow": null,
       "overflow_x": null,
       "overflow_y": null,
       "padding": null,
       "right": null,
       "top": null,
       "visibility": null,
       "width": null
      }
     }
    },
    "version_major": 2,
    "version_minor": 0
   }
  }
 },
 "nbformat": 4,
 "nbformat_minor": 4
}
