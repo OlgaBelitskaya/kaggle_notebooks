{
 "cells": [
  {
   "cell_type": "markdown",
   "execution_count": null,
   "metadata": {},
   "source": [
    "[Google Colaboratory Variant](https://colab.research.google.com/drive/1sDO3S-oPGgdgxwzkBFFousJa6dYexd7z?)"
   ]
  },
  {
   "cell_type": "code",
   "execution_count": 1,
   "metadata": {
    "_cell_guid": "b1076dfc-b9ad-4769-8c92-a6c4dae69d19",
    "_kg_hide-input": true,
    "_uuid": "8f2839f25d086af736a60e9eeb907d3b93b6e0e5"
   },
   "outputs": [],
   "source": [
    "from IPython.display import display,HTML\n",
    "def dhtml(str):\n",
    "    display(HTML(\"\"\"<style>\n",
    "    @import 'https://fonts.googleapis.com/css?family=Orbitron&effect=3d';      \n",
    "    </style><h1 class='font-effect-3d' \n",
    "    style='font-family:Orbitron; color:#ff1155;'>\n",
    "    %s</h1>\"\"\"%str))"
   ]
  },
  {
   "cell_type": "code",
   "execution_count": 2,
   "metadata": {
    "_cell_guid": "79c7e3d0-c299-4dcb-8224-4455121ee9b0",
    "_kg_hide-input": true,
    "_uuid": "d629ff2d2480ee46fbb7e2d37f6b5fab8052498a"
   },
   "outputs": [
    {
     "data": {
      "text/html": [
       "<style>\n",
       "    @import 'https://fonts.googleapis.com/css?family=Orbitron&effect=3d';      \n",
       "    </style><h1 class='font-effect-3d' \n",
       "    style='font-family:Orbitron; color:#ff1155;'>\n",
       "    Code Modules, Functions, & Classes</h1>"
      ],
      "text/plain": [
       "<IPython.core.display.HTML object>"
      ]
     },
     "metadata": {},
     "output_type": "display_data"
    }
   ],
   "source": [
    "dhtml('Code Modules, Functions, & Classes')"
   ]
  },
  {
   "cell_type": "code",
   "execution_count": 3,
   "metadata": {},
   "outputs": [],
   "source": [
    "import numpy as np,pandas as pd,pylab as pl\n",
    "import h5py,torch,time,copy,urllib,zipfile\n",
    "from torchvision.datasets import CIFAR10 as tcifar10\n",
    "from torchvision import transforms,utils,models\n",
    "from torch.utils.data import DataLoader as tdl\n",
    "from torch.utils.data import Dataset as tds\n",
    "from torch.utils.data.dataset import Subset\n",
    "import torch.nn.functional as tnnf\n",
    "import torch.nn as tnn\n",
    "import tensorflow.image as timage\n",
    "from IPython.core.magic import register_line_magic\n",
    "dev=torch.device(\"cuda:0\" \\\n",
    "if torch.cuda.is_available() else \"cpu\")\n",
    "pl.ion() "
   ]
  },
  {
   "cell_type": "code",
   "execution_count": 4,
   "metadata": {},
   "outputs": [],
   "source": [
    "class TData(tds):\n",
    "    def __init__(self,x,y):   \n",
    "        self.x=torch.tensor(x,dtype=torch.float32)\n",
    "        self.y=torch.tensor(y,dtype=torch.int32)\n",
    "    def __getitem__(self,index):\n",
    "        img,lbl=self.x[index],self.y[index]\n",
    "        return img,lbl\n",
    "    def __len__(self):\n",
    "        return self.y.shape[0]"
   ]
  },
  {
   "cell_type": "code",
   "execution_count": 5,
   "metadata": {
    "_kg_hide-input": true
   },
   "outputs": [],
   "source": [
    "@register_line_magic\n",
    "def display_examples(data):\n",
    "    for images,labels in dataloaders2[data]:  \n",
    "        print('Image dimensions: %s'%str(images.shape))\n",
    "        print('Label dimensions: %s'%str(labels.shape))\n",
    "        n=np.random.randint(1,50)\n",
    "        fig=pl.figure(figsize=(10,4))\n",
    "        for i in range(n,n+5):\n",
    "            ax=fig.add_subplot(1,5,i-n+1,\\\n",
    "            xticks=[],yticks=[],title=labels[i].item())\n",
    "            ax.imshow((images[i]).reshape(img_size,img_size,3))\n",
    "        break\n",
    "def show_image(img):\n",
    "    npimg=img.numpy()/2.+.5; tr=(1,2,0)\n",
    "    pl.figure(figsize=(10,2))\n",
    "    pl.imshow(np.transpose(npimg,tr))\n",
    "    pl.xticks([]); pl.show()\n",
    "@register_line_magic\n",
    "def show_examples(data):\n",
    "    dataiter=iter(dataloaders[data])\n",
    "    images,labels=dataiter.next()\n",
    "    show_image(utils.make_grid(images[0:5]))\n",
    "    print('^'.join('%11s'%classes[labels[j]] \n",
    "                   for j in range(5)),end='^')"
   ]
  },
  {
   "cell_type": "code",
   "execution_count": 6,
   "metadata": {
    "_kg_hide-input": true
   },
   "outputs": [
    {
     "data": {
      "text/html": [
       "<style>\n",
       "    @import 'https://fonts.googleapis.com/css?family=Orbitron&effect=3d';      \n",
       "    </style><h1 class='font-effect-3d' \n",
       "    style='font-family:Orbitron; color:#ff1155;'>\n",
       "    Data</h1>"
      ],
      "text/plain": [
       "<IPython.core.display.HTML object>"
      ]
     },
     "metadata": {},
     "output_type": "display_data"
    }
   ],
   "source": [
    "dhtml('Data')"
   ]
  },
  {
   "cell_type": "code",
   "execution_count": 7,
   "metadata": {
    "_kg_hide-output": true
   },
   "outputs": [
    {
     "name": "stdout",
     "output_type": "stream",
     "text": [
      "Downloading https://www.cs.toronto.edu/~kriz/cifar-10-python.tar.gz to data/cifar-10-python.tar.gz\n"
     ]
    },
    {
     "data": {
      "application/vnd.jupyter.widget-view+json": {
       "model_id": "8718928d6b4541aaa43334c4f8ca1f5e",
       "version_major": 2,
       "version_minor": 0
      },
      "text/plain": [
       "HBox(children=(FloatProgress(value=1.0, bar_style='info', max=1.0), HTML(value='')))"
      ]
     },
     "metadata": {},
     "output_type": "display_data"
    },
    {
     "name": "stdout",
     "output_type": "stream",
     "text": [
      "Extracting data/cifar-10-python.tar.gz to data\n"
     ]
    }
   ],
   "source": [
    "img_size=32\n",
    "classes=('plane','car','bird','cat','deer',\n",
    "          'dog','frog','horse','ship','truck')\n",
    "random_seed=12; batch_size=256\n",
    "train_ids=torch.arange(0,44000)\n",
    "valid_ids=torch.arange(44000,50000)\n",
    "tr0=(.5,.5,.5)\n",
    "train_transform=transforms\\\n",
    ".Compose([transforms.ToTensor(),\n",
    "          transforms.Normalize(tr0,tr0)])\n",
    "test_transform=transforms\\\n",
    ".Compose([transforms.ToTensor(),\n",
    "          transforms.Normalize(tr0,tr0)])\n",
    "train_valid=tcifar10(root='data',train=True,\n",
    "                     download=True,\n",
    "                     transform=train_transform)\n",
    "train=Subset(train_valid,train_ids)\n",
    "valid=Subset(train_valid,valid_ids)\n",
    "test=tcifar10(root='data',train=False, \n",
    "              transform=test_transform)\n",
    "dataloaders={'train':tdl(dataset=train,shuffle=True, \n",
    "                         batch_size=batch_size), \n",
    "             'valid':tdl(dataset=valid,shuffle=True, \n",
    "                         batch_size=batch_size),\n",
    "             'test':tdl(dataset=test,shuffle=True, \n",
    "                        batch_size=batch_size)}"
   ]
  },
  {
   "cell_type": "code",
   "execution_count": 8,
   "metadata": {},
   "outputs": [
    {
     "data": {
      "image/png": "[encoded data removed]",
      "text/plain": [
       "<Figure size 720x144 with 1 Axes>"
      ]
     },
     "metadata": {
      "needs_background": "light"
     },
     "output_type": "display_data"
    },
    {
     "name": "stdout",
     "output_type": "stream",
     "text": [
      "\n",
      "       bird^        cat^       frog^      truck^        dog^"
     ]
    }
   ],
   "source": [
    "%show_examples test"
   ]
  },
  {
   "cell_type": "code",
   "execution_count": 9,
   "metadata": {},
   "outputs": [
    {
     "name": "stdout",
     "output_type": "stream",
     "text": [
      "['backgrounds', 'images', 'labels']\n",
      "0.5900519 0.1395963\n"
     ]
    }
   ],
   "source": [
    "fpath='../input/classification-of-handwritten-letters/'\n",
    "f='LetterColorImages_123.h5'\n",
    "f=h5py.File(fpath+f,'r')\n",
    "keys=list(f.keys()); print(keys)\n",
    "x=np.array(f[keys[1]],dtype='float32')\n",
    "x=x.reshape(-1,3,img_size,img_size)/255\n",
    "print(x.mean(),x.std())\n",
    "y=np.array(f[keys[2]],dtype='int32')-1\n",
    "N=len(y); n=int(.1*N)\n",
    "shuffle_ids=np.arange(N)\n",
    "np.random.RandomState(23).shuffle(shuffle_ids)\n",
    "x,y=x[shuffle_ids],y[shuffle_ids]\n",
    "x_test,x_valid,x_train=x[:n],x[n:2*n],x[2*n:]\n",
    "y_test,y_valid,y_train=y[:n],y[n:2*n],y[2*n:]\n",
    "random_seed=23; batch_size2=128\n",
    "train2=TData(x_train,y_train)\n",
    "valid2=TData(x_valid,y_valid)\n",
    "test2=TData(x_test,y_test)\n",
    "dataloaders2={'train':tdl(dataset=train2,shuffle=True, \n",
    "                          batch_size=batch_size), \n",
    "              'valid':tdl(dataset=valid2,shuffle=True, \n",
    "                          batch_size=batch_size),\n",
    "              'test':tdl(dataset=test2,shuffle=True, \n",
    "                         batch_size=batch_size)}"
   ]
  },
  {
   "cell_type": "code",
   "execution_count": 10,
   "metadata": {},
   "outputs": [
    {
     "name": "stdout",
     "output_type": "stream",
     "text": [
      "Image dimensions: torch.Size([256, 3, 32, 32])\n",
      "Label dimensions: torch.Size([256])\n"
     ]
    },
    {
     "data": {
      "image/png": "[encoded data removed]",
      "text/plain": [
       "<Figure size 720x288 with 5 Axes>"
      ]
     },
     "metadata": {},
     "output_type": "display_data"
    }
   ],
   "source": [
    "%display_examples valid"
   ]
  },
  {
   "cell_type": "code",
   "execution_count": 11,
   "metadata": {
    "_kg_hide-input": true
   },
   "outputs": [
    {
     "data": {
      "text/html": [
       "<style>\n",
       "    @import 'https://fonts.googleapis.com/css?family=Orbitron&effect=3d';      \n",
       "    </style><h1 class='font-effect-3d' \n",
       "    style='font-family:Orbitron; color:#ff1155;'>\n",
       "    Model Loading and Training</h1>"
      ],
      "text/plain": [
       "<IPython.core.display.HTML object>"
      ]
     },
     "metadata": {},
     "output_type": "display_data"
    }
   ],
   "source": [
    "dhtml('Model Loading and Training')"
   ]
  },
  {
   "cell_type": "code",
   "execution_count": 12,
   "metadata": {},
   "outputs": [],
   "source": [
    "def train_model(model,dataloaders,criterion,optimizer,\n",
    "                scheduler,num_epochs):\n",
    "    start=time.time(); best_acc=0.\n",
    "    best_model_wts=copy.deepcopy(model.state_dict())\n",
    "    for epoch in range(num_epochs):\n",
    "        print('Epoch {}/{}'.format(epoch+1,num_epochs))\n",
    "        print('-'*10)\n",
    "        for phase in ['train','valid']:\n",
    "            if phase=='train': model.train()\n",
    "            else: model.eval()\n",
    "            running_loss=0.; running_corrects=0\n",
    "            for images,labels in dataloaders[phase]:\n",
    "                images=images.to(dev)\n",
    "                labels=labels.to(dev).long()\n",
    "                optimizer.zero_grad()\n",
    "                with torch.set_grad_enabled(phase=='train'):\n",
    "                    outputs=model(images)\n",
    "                    _, preds=torch.max(outputs,1)\n",
    "                    loss=criterion(outputs,labels)\n",
    "                    if phase=='train':\n",
    "                        loss.backward(); optimizer.step()\n",
    "                running_loss+=loss.item()*images.size(0)\n",
    "                running_corrects+=torch.sum(preds==labels.data)\n",
    "            if phase=='train': scheduler.step()\n",
    "            epoch_loss=running_loss/dataset_sizes[phase]\n",
    "            epoch_acc=running_corrects.double()/dataset_sizes[phase]\n",
    "            print('phase: {} loss: {:.4f} acc: {:.4f}'\\\n",
    "                  .format(phase,epoch_loss,epoch_acc))\n",
    "            if phase=='valid' and epoch_acc>best_acc:\n",
    "                best_acc=epoch_acc\n",
    "                best_model_wts=copy.deepcopy(model.state_dict())\n",
    "    time_elapsed=time.time()-start\n",
    "    print('training time: {:.0f}m {:.0f}s'\\\n",
    "          .format(time_elapsed//60,time_elapsed%60))\n",
    "    print('best valid acc: {:4f}'.format(best_acc))\n",
    "    model.load_state_dict(best_model_wts)\n",
    "    return model"
   ]
  },
  {
   "cell_type": "code",
   "execution_count": 13,
   "metadata": {
    "_kg_hide-output": true
   },
   "outputs": [
    {
     "name": "stderr",
     "output_type": "stream",
     "text": [
      "Downloading: \"https://download.pytorch.org/models/resnet18-5c106cde.pth\" to /root/.cache/torch/checkpoints/resnet18-5c106cde.pth\n"
     ]
    },
    {
     "data": {
      "application/vnd.jupyter.widget-view+json": {
       "model_id": "0be74bf7bb574770ac699d9557f55d95",
       "version_major": 2,
       "version_minor": 0
      },
      "text/plain": [
       "HBox(children=(FloatProgress(value=0.0, max=46827520.0), HTML(value='')))"
      ]
     },
     "metadata": {},
     "output_type": "display_data"
    },
    {
     "name": "stdout",
     "output_type": "stream",
     "text": [
      "\n"
     ]
    }
   ],
   "source": [
    "num_classes=10; learning_rate=.0001\n",
    "dataset_sizes={'train':44000,'valid':6000}\n",
    "model_ft=models.resnet18(pretrained=True)\n",
    "num_ftrs=model_ft.fc.in_features\n",
    "model_ft.fc=tnn.Linear(num_ftrs,num_classes)\n",
    "model_ft=model_ft.to(dev)\n",
    "criterion=tnn.CrossEntropyLoss()\n",
    "optimizer_ft=torch.optim.Adam(model_ft.parameters(),\n",
    "                              lr=learning_rate)\n",
    "exp_lr_scheduler=torch.optim.lr_scheduler\\\n",
    ".StepLR(optimizer_ft,step_size=5,gamma=.5)"
   ]
  },
  {
   "cell_type": "code",
   "execution_count": 14,
   "metadata": {
    "_kg_hide-output": true
   },
   "outputs": [
    {
     "name": "stdout",
     "output_type": "stream",
     "text": [
      "Epoch 1/25\n",
      "----------\n",
      "phase: train loss: 1.1557 acc: 0.6011\n",
      "phase: valid loss: 0.7826 acc: 0.7370\n",
      "Epoch 2/25\n",
      "----------\n",
      "phase: train loss: 0.5974 acc: 0.7950\n",
      "phase: valid loss: 0.6742 acc: 0.7688\n",
      "Epoch 3/25\n",
      "----------\n",
      "phase: train loss: 0.3719 acc: 0.8748\n",
      "phase: valid loss: 0.6860 acc: 0.7773\n",
      "Epoch 4/25\n",
      "----------\n",
      "phase: train loss: 0.2116 acc: 0.9318\n",
      "phase: valid loss: 0.7242 acc: 0.7825\n",
      "Epoch 5/25\n",
      "----------\n",
      "phase: train loss: 0.1090 acc: 0.9689\n",
      "phase: valid loss: 0.8182 acc: 0.7843\n",
      "Epoch 6/25\n",
      "----------\n",
      "phase: train loss: 0.0492 acc: 0.9886\n",
      "phase: valid loss: 0.8288 acc: 0.7872\n",
      "Epoch 7/25\n",
      "----------\n",
      "phase: train loss: 0.0239 acc: 0.9969\n",
      "phase: valid loss: 0.8648 acc: 0.7893\n",
      "Epoch 8/25\n",
      "----------\n",
      "phase: train loss: 0.0158 acc: 0.9982\n",
      "phase: valid loss: 0.8990 acc: 0.7898\n",
      "Epoch 9/25\n",
      "----------\n",
      "phase: train loss: 0.0113 acc: 0.9990\n",
      "phase: valid loss: 0.9306 acc: 0.7910\n",
      "Epoch 10/25\n",
      "----------\n",
      "phase: train loss: 0.0081 acc: 0.9994\n",
      "phase: valid loss: 0.9535 acc: 0.7908\n",
      "Epoch 11/25\n",
      "----------\n",
      "phase: train loss: 0.0059 acc: 0.9997\n",
      "phase: valid loss: 0.9598 acc: 0.7938\n",
      "Epoch 12/25\n",
      "----------\n",
      "phase: train loss: 0.0053 acc: 0.9997\n",
      "phase: valid loss: 0.9664 acc: 0.7938\n",
      "Epoch 13/25\n",
      "----------\n",
      "phase: train loss: 0.0048 acc: 0.9996\n",
      "phase: valid loss: 0.9748 acc: 0.7943\n",
      "Epoch 14/25\n",
      "----------\n",
      "phase: train loss: 0.0042 acc: 0.9998\n",
      "phase: valid loss: 0.9969 acc: 0.7928\n",
      "Epoch 15/25\n",
      "----------\n",
      "phase: train loss: 0.0037 acc: 0.9998\n",
      "phase: valid loss: 1.0061 acc: 0.7918\n",
      "Epoch 16/25\n",
      "----------\n",
      "phase: train loss: 0.0032 acc: 0.9999\n",
      "phase: valid loss: 1.0110 acc: 0.7953\n",
      "Epoch 17/25\n",
      "----------\n",
      "phase: train loss: 0.0030 acc: 0.9998\n",
      "phase: valid loss: 1.0146 acc: 0.7945\n",
      "Epoch 18/25\n",
      "----------\n",
      "phase: train loss: 0.0026 acc: 0.9999\n",
      "phase: valid loss: 1.0234 acc: 0.7937\n",
      "Epoch 19/25\n",
      "----------\n",
      "phase: train loss: 0.0023 acc: 1.0000\n",
      "phase: valid loss: 1.0237 acc: 0.7943\n",
      "Epoch 20/25\n",
      "----------\n",
      "phase: train loss: 0.0024 acc: 1.0000\n",
      "phase: valid loss: 1.0339 acc: 0.7952\n",
      "Epoch 21/25\n",
      "----------\n",
      "phase: train loss: 0.0022 acc: 0.9999\n",
      "phase: valid loss: 1.0354 acc: 0.7952\n",
      "Epoch 22/25\n",
      "----------\n",
      "phase: train loss: 0.0022 acc: 0.9999\n",
      "phase: valid loss: 1.0361 acc: 0.7963\n",
      "Epoch 23/25\n",
      "----------\n",
      "phase: train loss: 0.0020 acc: 0.9999\n",
      "phase: valid loss: 1.0430 acc: 0.7970\n",
      "Epoch 24/25\n",
      "----------\n",
      "phase: train loss: 0.0019 acc: 1.0000\n",
      "phase: valid loss: 1.0483 acc: 0.7938\n",
      "Epoch 25/25\n",
      "----------\n",
      "phase: train loss: 0.0016 acc: 1.0000\n",
      "phase: valid loss: 1.0459 acc: 0.7958\n",
      "training time: 8m 10s\n",
      "best valid acc: 0.797000\n"
     ]
    }
   ],
   "source": [
    "model_ft=train_model(model_ft,dataloaders,criterion,\n",
    "                     optimizer_ft,exp_lr_scheduler,\n",
    "                     num_epochs=25)"
   ]
  },
  {
   "cell_type": "code",
   "execution_count": 15,
   "metadata": {
    "_kg_hide-input": true
   },
   "outputs": [
    {
     "data": {
      "text/html": [
       "<style>\n",
       "    @import 'https://fonts.googleapis.com/css?family=Orbitron&effect=3d';      \n",
       "    </style><h1 class='font-effect-3d' \n",
       "    style='font-family:Orbitron; color:#ff1155;'>\n",
       "    Model Evaluation</h1>"
      ],
      "text/plain": [
       "<IPython.core.display.HTML object>"
      ]
     },
     "metadata": {},
     "output_type": "display_data"
    }
   ],
   "source": [
    "dhtml('Model Evaluation')"
   ]
  },
  {
   "cell_type": "code",
   "execution_count": 16,
   "metadata": {},
   "outputs": [
    {
     "data": {
      "image/png": "[encoded data removed]",
      "text/plain": [
       "<Figure size 720x144 with 1 Axes>"
      ]
     },
     "metadata": {
      "needs_background": "light"
     },
     "output_type": "display_data"
    },
    {
     "name": "stdout",
     "output_type": "stream",
     "text": [
      "\n",
      "true labels:        car     ship      cat      cat      dog\n",
      "\n",
      "predictions:        car     ship      cat      cat      dog\n"
     ]
    },
    {
     "data": {
      "image/png": "[encoded data removed]",
      "text/plain": [
       "<Figure size 720x144 with 1 Axes>"
      ]
     },
     "metadata": {
      "needs_background": "light"
     },
     "output_type": "display_data"
    },
    {
     "name": "stdout",
     "output_type": "stream",
     "text": [
      "\n",
      "true labels:        car     frog     deer    horse      car\n",
      "\n",
      "predictions:        car     frog     deer    horse      car\n"
     ]
    },
    {
     "data": {
      "image/png": "[encoded data removed]",
      "text/plain": [
       "<Figure size 720x144 with 1 Axes>"
      ]
     },
     "metadata": {
      "needs_background": "light"
     },
     "output_type": "display_data"
    },
    {
     "name": "stdout",
     "output_type": "stream",
     "text": [
      "\n",
      "true labels:       ship     deer    plane      car      car\n",
      "\n",
      "predictions:       ship     bird    plane      car      car\n"
     ]
    },
    {
     "data": {
      "image/png": "[encoded data removed]",
      "text/plain": [
       "<Figure size 720x144 with 1 Axes>"
      ]
     },
     "metadata": {
      "needs_background": "light"
     },
     "output_type": "display_data"
    },
    {
     "name": "stdout",
     "output_type": "stream",
     "text": [
      "\n",
      "true labels:        dog      dog     deer     frog     ship\n",
      "\n",
      "predictions:        dog    horse      dog     frog     ship\n"
     ]
    }
   ],
   "source": [
    "with torch.no_grad():\n",
    "    for i,(images,labels) in enumerate(dataloaders['test']):\n",
    "        show_image(utils.make_grid(images[:5]))\n",
    "        print('\\ntrue labels: ',\n",
    "              ''.join('%9s'%classes[labels[j]] \n",
    "                       for j in range(5)))\n",
    "        images=images.to(dev)\n",
    "        labels=labels.to(dev)\n",
    "        outputs=model_ft(images)\n",
    "        _,preds=torch.max(outputs,1)\n",
    "        print('\\npredictions: ',\n",
    "             ''.join('%9s'%classes[preds[j]]\n",
    "                      for j in range(5)))\n",
    "        if i==3: break"
   ]
  },
  {
   "cell_type": "code",
   "execution_count": 17,
   "metadata": {
    "_kg_hide-input": true
   },
   "outputs": [
    {
     "data": {
      "text/html": [
       "<style>\n",
       "    @import 'https://fonts.googleapis.com/css?family=Orbitron&effect=3d';      \n",
       "    </style><h1 class='font-effect-3d' \n",
       "    style='font-family:Orbitron; color:#ff1155;'>\n",
       "    Model Training</h1>"
      ],
      "text/plain": [
       "<IPython.core.display.HTML object>"
      ]
     },
     "metadata": {},
     "output_type": "display_data"
    }
   ],
   "source": [
    "dhtml('Model Training')"
   ]
  },
  {
   "cell_type": "code",
   "execution_count": 18,
   "metadata": {},
   "outputs": [],
   "source": [
    "num_classes=33; learning_rate=.0007\n",
    "dataset_sizes={'train':x_train.shape[0],\n",
    "               'valid':x_valid.shape[0]}\n",
    "model_ft=models.resnet18(pretrained=True)\n",
    "num_ftrs=model_ft.fc.in_features\n",
    "model_ft.fc=tnn.Linear(num_ftrs,num_classes)\n",
    "model_ft=model_ft.to(dev)\n",
    "criterion=tnn.CrossEntropyLoss()\n",
    "optimizer_ft=torch.optim.Adam(model_ft.parameters(),\n",
    "                              lr=learning_rate)\n",
    "exp_lr_scheduler=torch.optim.lr_scheduler\\\n",
    ".StepLR(optimizer_ft,step_size=5,gamma=.5)"
   ]
  },
  {
   "cell_type": "code",
   "execution_count": 19,
   "metadata": {
    "_kg_hide-output": true
   },
   "outputs": [
    {
     "name": "stdout",
     "output_type": "stream",
     "text": [
      "Epoch 1/25\n",
      "----------\n",
      "phase: train loss: 2.9067 acc: 0.1940\n",
      "phase: valid loss: 2.6401 acc: 0.2248\n",
      "Epoch 2/25\n",
      "----------\n",
      "phase: train loss: 1.8875 acc: 0.4423\n",
      "phase: valid loss: 2.3247 acc: 0.3890\n",
      "Epoch 3/25\n",
      "----------\n",
      "phase: train loss: 1.3753 acc: 0.5859\n",
      "phase: valid loss: 1.9599 acc: 0.4679\n",
      "Epoch 4/25\n",
      "----------\n",
      "phase: train loss: 0.9686 acc: 0.7075\n",
      "phase: valid loss: 2.2740 acc: 0.4313\n",
      "Epoch 5/25\n",
      "----------\n",
      "phase: train loss: 0.7432 acc: 0.7699\n",
      "phase: valid loss: 2.1479 acc: 0.4426\n",
      "Epoch 6/25\n",
      "----------\n",
      "phase: train loss: 0.4037 acc: 0.8769\n",
      "phase: valid loss: 1.4661 acc: 0.5877\n",
      "Epoch 7/25\n",
      "----------\n",
      "phase: train loss: 0.1930 acc: 0.9471\n",
      "phase: valid loss: 1.2843 acc: 0.6476\n",
      "Epoch 8/25\n",
      "----------\n",
      "phase: train loss: 0.1007 acc: 0.9769\n",
      "phase: valid loss: 1.2905 acc: 0.6519\n",
      "Epoch 9/25\n",
      "----------\n",
      "phase: train loss: 0.0554 acc: 0.9890\n",
      "phase: valid loss: 1.3773 acc: 0.6554\n",
      "Epoch 10/25\n",
      "----------\n",
      "phase: train loss: 0.0388 acc: 0.9937\n",
      "phase: valid loss: 1.3600 acc: 0.6646\n",
      "Epoch 11/25\n",
      "----------\n",
      "phase: train loss: 0.0191 acc: 0.9979\n",
      "phase: valid loss: 1.3093 acc: 0.6808\n",
      "Epoch 12/25\n",
      "----------\n",
      "phase: train loss: 0.0099 acc: 0.9996\n",
      "phase: valid loss: 1.2994 acc: 0.6751\n",
      "Epoch 13/25\n",
      "----------\n",
      "phase: train loss: 0.0080 acc: 0.9998\n",
      "phase: valid loss: 1.2885 acc: 0.6829\n",
      "Epoch 14/25\n",
      "----------\n",
      "phase: train loss: 0.0057 acc: 1.0000\n",
      "phase: valid loss: 1.2961 acc: 0.6815\n",
      "Epoch 15/25\n",
      "----------\n",
      "phase: train loss: 0.0046 acc: 1.0000\n",
      "phase: valid loss: 1.3061 acc: 0.6794\n",
      "Epoch 16/25\n",
      "----------\n",
      "phase: train loss: 0.0041 acc: 0.9999\n",
      "phase: valid loss: 1.3064 acc: 0.6815\n",
      "Epoch 17/25\n",
      "----------\n",
      "phase: train loss: 0.0043 acc: 0.9999\n",
      "phase: valid loss: 1.3135 acc: 0.6772\n",
      "Epoch 18/25\n",
      "----------\n",
      "phase: train loss: 0.0037 acc: 1.0000\n",
      "phase: valid loss: 1.3295 acc: 0.6801\n",
      "Epoch 19/25\n",
      "----------\n",
      "phase: train loss: 0.0034 acc: 1.0000\n",
      "phase: valid loss: 1.3236 acc: 0.6815\n",
      "Epoch 20/25\n",
      "----------\n",
      "phase: train loss: 0.0034 acc: 0.9999\n",
      "phase: valid loss: 1.3294 acc: 0.6829\n",
      "Epoch 21/25\n",
      "----------\n",
      "phase: train loss: 0.0029 acc: 1.0000\n",
      "phase: valid loss: 1.3225 acc: 0.6779\n",
      "Epoch 22/25\n",
      "----------\n",
      "phase: train loss: 0.0028 acc: 1.0000\n",
      "phase: valid loss: 1.3220 acc: 0.6808\n",
      "Epoch 23/25\n",
      "----------\n",
      "phase: train loss: 0.0028 acc: 1.0000\n",
      "phase: valid loss: 1.3223 acc: 0.6815\n",
      "Epoch 24/25\n",
      "----------\n",
      "phase: train loss: 0.0027 acc: 1.0000\n",
      "phase: valid loss: 1.3295 acc: 0.6779\n",
      "Epoch 25/25\n",
      "----------\n",
      "phase: train loss: 0.0027 acc: 1.0000\n",
      "phase: valid loss: 1.3283 acc: 0.6801\n",
      "training time: 0m 56s\n",
      "best valid acc: 0.682875\n"
     ]
    }
   ],
   "source": [
    "model_ft=train_model(model_ft,dataloaders2,criterion,\n",
    "                     optimizer_ft,exp_lr_scheduler,\n",
    "                     num_epochs=25)"
   ]
  },
  {
   "cell_type": "code",
   "execution_count": 20,
   "metadata": {
    "_kg_hide-input": true
   },
   "outputs": [
    {
     "data": {
      "text/html": [
       "<style>\n",
       "    @import 'https://fonts.googleapis.com/css?family=Orbitron&effect=3d';      \n",
       "    </style><h1 class='font-effect-3d' \n",
       "    style='font-family:Orbitron; color:#ff1155;'>\n",
       "    Model Evaluation</h1>"
      ],
      "text/plain": [
       "<IPython.core.display.HTML object>"
      ]
     },
     "metadata": {},
     "output_type": "display_data"
    }
   ],
   "source": [
    "dhtml('Model Evaluation')"
   ]
  },
  {
   "cell_type": "code",
   "execution_count": 21,
   "metadata": {
    "_kg_hide-input": true
   },
   "outputs": [
    {
     "data": {
      "image/png": "[encoded data removed]",
      "text/plain": [
       "<Figure size 720x288 with 5 Axes>"
      ]
     },
     "metadata": {},
     "output_type": "display_data"
    },
    {
     "name": "stdout",
     "output_type": "stream",
     "text": [
      "\n",
      "true labels:          щ        е        а        ъ        ц\n",
      "\n",
      "predictions:          щ        е        н        ъ        ц\n"
     ]
    },
    {
     "data": {
      "image/png": "[encoded data removed]",
      "text/plain": [
       "<Figure size 720x288 with 5 Axes>"
      ]
     },
     "metadata": {},
     "output_type": "display_data"
    },
    {
     "name": "stdout",
     "output_type": "stream",
     "text": [
      "\n",
      "true labels:          р        ы        ю        с        с\n",
      "\n",
      "predictions:          р        н        ю        с        с\n"
     ]
    },
    {
     "data": {
      "image/png": "[encoded data removed]",
      "text/plain": [
       "<Figure size 720x288 with 5 Axes>"
      ]
     },
     "metadata": {},
     "output_type": "display_data"
    },
    {
     "name": "stdout",
     "output_type": "stream",
     "text": [
      "\n",
      "true labels:          д        ю        ь        ф        д\n",
      "\n",
      "predictions:          д        ю        ы        ф        д\n"
     ]
    }
   ],
   "source": [
    "letters=u'абвгдеёжзийклмнопрстуфхцчшщъыьэюя'\n",
    "with torch.no_grad():\n",
    "    for i,(images,labels) in enumerate(dataloaders2['test']):\n",
    "        fig=pl.figure(figsize=(10,4))\n",
    "        for k in range(5):\n",
    "            ax=fig.add_subplot(1,5,k+1,\\\n",
    "            xticks=[],yticks=[],title=labels[k].item())\n",
    "            ax.imshow((images[k])\\\n",
    "                      .reshape(img_size,img_size,3))\n",
    "        pl.show()\n",
    "        print('\\ntrue labels: ',\n",
    "             ''.join('%9s'%letters[labels[j]]\n",
    "                      for j in range(5)))\n",
    "        images=images.to(dev)\n",
    "        labels=labels.to(dev).long()\n",
    "        outputs=model_ft(images)\n",
    "        _,preds=torch.max(outputs,1)\n",
    "        print('\\npredictions: ',\n",
    "             ''.join('%9s'%letters[preds[j]]\n",
    "                      for j in range(5)))\n",
    "        if i==2: break"
   ]
  }
 ],
 "metadata": {
  "kernelspec": {
   "display_name": "Python 3",
   "language": "python",
   "name": "python3"
  },
  "language_info": {
   "codemirror_mode": {
    "name": "ipython",
    "version": 3
   },
   "file_extension": ".py",
   "mimetype": "text/x-python",
   "name": "python",
   "nbconvert_exporter": "python",
   "pygments_lexer": "ipython3",
   "version": "3.7.6"
  },
  "widgets": {
   "application/vnd.jupyter.widget-state+json": {
    "state": {
     "0be74bf7bb574770ac699d9557f55d95": {
      "model_module": "@jupyter-widgets/controls",
      "model_module_version": "1.5.0",
      "model_name": "HBoxModel",
      "state": {
       "_dom_classes": [],
       "_model_module": "@jupyter-widgets/controls",
       "_model_module_version": "1.5.0",
       "_model_name": "HBoxModel",
       "_view_count": null,
       "_view_module": "@jupyter-widgets/controls",
       "_view_module_version": "1.5.0",
       "_view_name": "HBoxView",
       "box_style": "",
       "children": [
        "IPY_MODEL_637e61fa6d514883a22d68763bcc0376",
        "IPY_MODEL_ae9a2aa774ea4cf992c5573ebfd7e57b"
       ],
       "layout": "IPY_MODEL_9526795806614dc0878629fb5714ded6"
      }
     },
     "2a4fe32018274fe4bf422872a07ca6a1": {
      "model_module": "@jupyter-widgets/base",
      "model_module_version": "1.2.0",
      "model_name": "LayoutModel",
      "state": {
       "_model_module": "@jupyter-widgets/base",
       "_model_module_version": "1.2.0",
       "_model_name": "LayoutModel",
       "_view_count": null,
       "_view_module": "@jupyter-widgets/base",
       "_view_module_version": "1.2.0",
       "_view_name": "LayoutView",
       "align_content": null,
       "align_items": null,
       "align_self": null,
       "border": null,
       "bottom": null,
       "display": null,
       "flex": null,
       "flex_flow": null,
       "grid_area": null,
       "grid_auto_columns": null,
       "grid_auto_flow": null,
       "grid_auto_rows": null,
       "grid_column": null,
       "grid_gap": null,
       "grid_row": null,
       "grid_template_areas": null,
       "grid_template_columns": null,
       "grid_template_rows": null,
       "height": null,
       "justify_content": null,
       "justify_items": null,
       "left": null,
       "margin": null,
       "max_height": null,
       "max_width": null,
       "min_height": null,
       "min_width": null,
       "object_fit": null,
       "object_position": null,
       "order": null,
       "overflow": null,
       "overflow_x": null,
       "overflow_y": null,
       "padding": null,
       "right": null,
       "top": null,
       "visibility": null,
       "width": null
      }
     },
     "365ea817370f4fde95c6c042d0725523": {
      "model_module": "@jupyter-widgets/controls",
      "model_module_version": "1.5.0",
      "model_name": "DescriptionStyleModel",
      "state": {
       "_model_module": "@jupyter-widgets/controls",
       "_model_module_version": "1.5.0",
       "_model_name": "DescriptionStyleModel",
       "_view_count": null,
       "_view_module": "@jupyter-widgets/base",
       "_view_module_version": "1.2.0",
       "_view_name": "StyleView",
       "description_width": ""
      }
     },
     "3d242f2972c44eff83d31114a36b6a6f": {
      "model_module": "@jupyter-widgets/base",
      "model_module_version": "1.2.0",
      "model_name": "LayoutModel",
      "state": {
       "_model_module": "@jupyter-widgets/base",
       "_model_module_version": "1.2.0",
       "_model_name": "LayoutModel",
       "_view_count": null,
       "_view_module": "@jupyter-widgets/base",
       "_view_module_version": "1.2.0",
       "_view_name": "LayoutView",
       "align_content": null,
       "align_items": null,
       "align_self": null,
       "border": null,
       "bottom": null,
       "display": null,
       "flex": null,
       "flex_flow": null,
       "grid_area": null,
       "grid_auto_columns": null,
       "grid_auto_flow": null,
       "grid_auto_rows": null,
       "grid_column": null,
       "grid_gap": null,
       "grid_row": null,
       "grid_template_areas": null,
       "grid_template_columns": null,
       "grid_template_rows": null,
       "height": null,
       "justify_content": null,
       "justify_items": null,
       "left": null,
       "margin": null,
       "max_height": null,
       "max_width": null,
       "min_height": null,
       "min_width": null,
       "object_fit": null,
       "object_position": null,
       "order": null,
       "overflow": null,
       "overflow_x": null,
       "overflow_y": null,
       "padding": null,
       "right": null,
       "top": null,
       "visibility": null,
       "width": null
      }
     },
     "52dcd2dd3fb747ef9b9764d1c98f510b": {
      "model_module": "@jupyter-widgets/base",
      "model_module_version": "1.2.0",
      "model_name": "LayoutModel",
      "state": {
       "_model_module": "@jupyter-widgets/base",
       "_model_module_version": "1.2.0",
       "_model_name": "LayoutModel",
       "_view_count": null,
       "_view_module": "@jupyter-widgets/base",
       "_view_module_version": "1.2.0",
       "_view_name": "LayoutView",
       "align_content": null,
       "align_items": null,
       "align_self": null,
       "border": null,
       "bottom": null,
       "display": null,
       "flex": null,
       "flex_flow": null,
       "grid_area": null,
       "grid_auto_columns": null,
       "grid_auto_flow": null,
       "grid_auto_rows": null,
       "grid_column": null,
       "grid_gap": null,
       "grid_row": null,
       "grid_template_areas": null,
       "grid_template_columns": null,
       "grid_template_rows": null,
       "height": null,
       "justify_content": null,
       "justify_items": null,
       "left": null,
       "margin": null,
       "max_height": null,
       "max_width": null,
       "min_height": null,
       "min_width": null,
       "object_fit": null,
       "object_position": null,
       "order": null,
       "overflow": null,
       "overflow_x": null,
       "overflow_y": null,
       "padding": null,
       "right": null,
       "top": null,
       "visibility": null,
       "width": null
      }
     },
     "637e61fa6d514883a22d68763bcc0376": {
      "model_module": "@jupyter-widgets/controls",
      "model_module_version": "1.5.0",
      "model_name": "FloatProgressModel",
      "state": {
       "_dom_classes": [],
       "_model_module": "@jupyter-widgets/controls",
       "_model_module_version": "1.5.0",
       "_model_name": "FloatProgressModel",
       "_view_count": null,
       "_view_module": "@jupyter-widgets/controls",
       "_view_module_version": "1.5.0",
       "_view_name": "ProgressView",
       "bar_style": "success",
       "description": "100%",
       "description_tooltip": null,
       "layout": "IPY_MODEL_52dcd2dd3fb747ef9b9764d1c98f510b",
       "max": 46827520.0,
       "min": 0.0,
       "orientation": "horizontal",
       "style": "IPY_MODEL_e1663e807cbb4396ab6253519af3a75f",
       "value": 46827520.0
      }
     },
     "73a697a88c8a449aaf65b96f4b42623d": {
      "model_module": "@jupyter-widgets/base",
      "model_module_version": "1.2.0",
      "model_name": "LayoutModel",
      "state": {
       "_model_module": "@jupyter-widgets/base",
       "_model_module_version": "1.2.0",
       "_model_name": "LayoutModel",
       "_view_count": null,
       "_view_module": "@jupyter-widgets/base",
       "_view_module_version": "1.2.0",
       "_view_name": "LayoutView",
       "align_content": null,
       "align_items": null,
       "align_self": null,
       "border": null,
       "bottom": null,
       "display": null,
       "flex": null,
       "flex_flow": null,
       "grid_area": null,
       "grid_auto_columns": null,
       "grid_auto_flow": null,
       "grid_auto_rows": null,
       "grid_column": null,
       "grid_gap": null,
       "grid_row": null,
       "grid_template_areas": null,
       "grid_template_columns": null,
       "grid_template_rows": null,
       "height": null,
       "justify_content": null,
       "justify_items": null,
       "left": null,
       "margin": null,
       "max_height": null,
       "max_width": null,
       "min_height": null,
       "min_width": null,
       "object_fit": null,
       "object_position": null,
       "order": null,
       "overflow": null,
       "overflow_x": null,
       "overflow_y": null,
       "padding": null,
       "right": null,
       "top": null,
       "visibility": null,
       "width": null
      }
     },
     "8718928d6b4541aaa43334c4f8ca1f5e": {
      "model_module": "@jupyter-widgets/controls",
      "model_module_version": "1.5.0",
      "model_name": "HBoxModel",
      "state": {
       "_dom_classes": [],
       "_model_module": "@jupyter-widgets/controls",
       "_model_module_version": "1.5.0",
       "_model_name": "HBoxModel",
       "_view_count": null,
       "_view_module": "@jupyter-widgets/controls",
       "_view_module_version": "1.5.0",
       "_view_name": "HBoxView",
       "box_style": "",
       "children": [
        "IPY_MODEL_d3b01168471f45f4a6dcea70be9cc545",
        "IPY_MODEL_b14ce03111f94c08982df744eea4d974"
       ],
       "layout": "IPY_MODEL_f385db38fb144175a7eddaab59f40c15"
      }
     },
     "9526795806614dc0878629fb5714ded6": {
      "model_module": "@jupyter-widgets/base",
      "model_module_version": "1.2.0",
      "model_name": "LayoutModel",
      "state": {
       "_model_module": "@jupyter-widgets/base",
       "_model_module_version": "1.2.0",
       "_model_name": "LayoutModel",
       "_view_count": null,
       "_view_module": "@jupyter-widgets/base",
       "_view_module_version": "1.2.0",
       "_view_name": "LayoutView",
       "align_content": null,
       "align_items": null,
       "align_self": null,
       "border": null,
       "bottom": null,
       "display": null,
       "flex": null,
       "flex_flow": null,
       "grid_area": null,
       "grid_auto_columns": null,
       "grid_auto_flow": null,
       "grid_auto_rows": null,
       "grid_column": null,
       "grid_gap": null,
       "grid_row": null,
       "grid_template_areas": null,
       "grid_template_columns": null,
       "grid_template_rows": null,
       "height": null,
       "justify_content": null,
       "justify_items": null,
       "left": null,
       "margin": null,
       "max_height": null,
       "max_width": null,
       "min_height": null,
       "min_width": null,
       "object_fit": null,
       "object_position": null,
       "order": null,
       "overflow": null,
       "overflow_x": null,
       "overflow_y": null,
       "padding": null,
       "right": null,
       "top": null,
       "visibility": null,
       "width": null
      }
     },
     "ae9a2aa774ea4cf992c5573ebfd7e57b": {
      "model_module": "@jupyter-widgets/controls",
      "model_module_version": "1.5.0",
      "model_name": "HTMLModel",
      "state": {
       "_dom_classes": [],
       "_model_module": "@jupyter-widgets/controls",
       "_model_module_version": "1.5.0",
       "_model_name": "HTMLModel",
       "_view_count": null,
       "_view_module": "@jupyter-widgets/controls",
       "_view_module_version": "1.5.0",
       "_view_name": "HTMLView",
       "description": "",
       "description_tooltip": null,
       "layout": "IPY_MODEL_73a697a88c8a449aaf65b96f4b42623d",
       "placeholder": "​",
       "style": "IPY_MODEL_365ea817370f4fde95c6c042d0725523",
       "value": " 44.7M/44.7M [08:18&lt;00:00, 93.9kB/s]"
      }
     },
     "b14ce03111f94c08982df744eea4d974": {
      "model_module": "@jupyter-widgets/controls",
      "model_module_version": "1.5.0",
      "model_name": "HTMLModel",
      "state": {
       "_dom_classes": [],
       "_model_module": "@jupyter-widgets/controls",
       "_model_module_version": "1.5.0",
       "_model_name": "HTMLModel",
       "_view_count": null,
       "_view_module": "@jupyter-widgets/controls",
       "_view_module_version": "1.5.0",
       "_view_name": "HTMLView",
       "description": "",
       "description_tooltip": null,
       "layout": "IPY_MODEL_3d242f2972c44eff83d31114a36b6a6f",
       "placeholder": "​",
       "style": "IPY_MODEL_c0a4e0ad34be42b29421b1b943967f27",
       "value": " 170500096/? [00:06&lt;00:00, 28115180.27it/s]"
      }
     },
     "c0a4e0ad34be42b29421b1b943967f27": {
      "model_module": "@jupyter-widgets/controls",
      "model_module_version": "1.5.0",
      "model_name": "DescriptionStyleModel",
      "state": {
       "_model_module": "@jupyter-widgets/controls",
       "_model_module_version": "1.5.0",
       "_model_name": "DescriptionStyleModel",
       "_view_count": null,
       "_view_module": "@jupyter-widgets/base",
       "_view_module_version": "1.2.0",
       "_view_name": "StyleView",
       "description_width": ""
      }
     },
     "d3b01168471f45f4a6dcea70be9cc545": {
      "model_module": "@jupyter-widgets/controls",
      "model_module_version": "1.5.0",
      "model_name": "FloatProgressModel",
      "state": {
       "_dom_classes": [],
       "_model_module": "@jupyter-widgets/controls",
       "_model_module_version": "1.5.0",
       "_model_name": "FloatProgressModel",
       "_view_count": null,
       "_view_module": "@jupyter-widgets/controls",
       "_view_module_version": "1.5.0",
       "_view_name": "ProgressView",
       "bar_style": "success",
       "description": "",
       "description_tooltip": null,
       "layout": "IPY_MODEL_2a4fe32018274fe4bf422872a07ca6a1",
       "max": 1.0,
       "min": 0.0,
       "orientation": "horizontal",
       "style": "IPY_MODEL_dc638f2e485740db8065fa8921e13ea4",
       "value": 1.0
      }
     },
     "dc638f2e485740db8065fa8921e13ea4": {
      "model_module": "@jupyter-widgets/controls",
      "model_module_version": "1.5.0",
      "model_name": "ProgressStyleModel",
      "state": {
       "_model_module": "@jupyter-widgets/controls",
       "_model_module_version": "1.5.0",
       "_model_name": "ProgressStyleModel",
       "_view_count": null,
       "_view_module": "@jupyter-widgets/base",
       "_view_module_version": "1.2.0",
       "_view_name": "StyleView",
       "bar_color": null,
       "description_width": "initial"
      }
     },
     "e1663e807cbb4396ab6253519af3a75f": {
      "model_module": "@jupyter-widgets/controls",
      "model_module_version": "1.5.0",
      "model_name": "ProgressStyleModel",
      "state": {
       "_model_module": "@jupyter-widgets/controls",
       "_model_module_version": "1.5.0",
       "_model_name": "ProgressStyleModel",
       "_view_count": null,
       "_view_module": "@jupyter-widgets/base",
       "_view_module_version": "1.2.0",
       "_view_name": "StyleView",
       "bar_color": null,
       "description_width": "initial"
      }
     },
     "f385db38fb144175a7eddaab59f40c15": {
      "model_module": "@jupyter-widgets/base",
      "model_module_version": "1.2.0",
      "model_name": "LayoutModel",
      "state": {
       "_model_module": "@jupyter-widgets/base",
       "_model_module_version": "1.2.0",
       "_model_name": "LayoutModel",
       "_view_count": null,
       "_view_module": "@jupyter-widgets/base",
       "_view_module_version": "1.2.0",
       "_view_name": "LayoutView",
       "align_content": null,
       "align_items": null,
       "align_self": null,
       "border": null,
       "bottom": null,
       "display": null,
       "flex": null,
       "flex_flow": null,
       "grid_area": null,
       "grid_auto_columns": null,
       "grid_auto_flow": null,
       "grid_auto_rows": null,
       "grid_column": null,
       "grid_gap": null,
       "grid_row": null,
       "grid_template_areas": null,
       "grid_template_columns": null,
       "grid_template_rows": null,
       "height": null,
       "justify_content": null,
       "justify_items": null,
       "left": null,
       "margin": null,
       "max_height": null,
       "max_width": null,
       "min_height": null,
       "min_width": null,
       "object_fit": null,
       "object_position": null,
       "order": null,
       "overflow": null,
       "overflow_x": null,
       "overflow_y": null,
       "padding": null,
       "right": null,
       "top": null,
       "visibility": null,
       "width": null
      }
     }
    },
    "version_major": 2,
    "version_minor": 0
   }
  }
 },
 "nbformat": 4,
 "nbformat_minor": 4
}
