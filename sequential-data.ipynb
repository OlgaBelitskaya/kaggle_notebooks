{
 "cells": [
  {
   "cell_type": "markdown",
   "metadata": {
    "papermill": {
     "duration": 0.027902,
     "end_time": "2020-09-25T21:43:55.879453",
     "exception": false,
     "start_time": "2020-09-25T21:43:55.851551",
     "status": "completed"
    },
    "tags": []
   },
   "source": [
    "<details>\n",
    "<summary>📓 &nbsp; Modeling Sequential Data Using Recurrent Neural Networks\n",
    "</summary><br/>Github Links<br/>    \n",
    "<a href=\"https://github.com/rasbt/python-machine-learning-book-3rd-edition/blob/master/ch16/ch16_part1.ipynb\">Part 1</a><br/>\n",
    "<a href=\"https://github.com/rasbt/python-machine-learning-book-3rd-edition/blob/master/ch16/ch16_part2.ipynb\">Part 2</a><br/>\n",
    "</details>"
   ]
  },
  {
   "cell_type": "code",
   "execution_count": 1,
   "metadata": {
    "_cell_guid": "b1076dfc-b9ad-4769-8c92-a6c4dae69d19",
    "_kg_hide-input": true,
    "_uuid": "8f2839f25d086af736a60e9eeb907d3b93b6e0e5",
    "execution": {
     "iopub.execute_input": "2020-09-25T21:43:55.940815Z",
     "iopub.status.busy": "2020-09-25T21:43:55.939920Z",
     "iopub.status.idle": "2020-09-25T21:43:55.943004Z",
     "shell.execute_reply": "2020-09-25T21:43:55.942496Z"
    },
    "papermill": {
     "duration": 0.037002,
     "end_time": "2020-09-25T21:43:55.943104",
     "exception": false,
     "start_time": "2020-09-25T21:43:55.906102",
     "status": "completed"
    },
    "tags": []
   },
   "outputs": [],
   "source": [
    "from IPython.display import display,HTML\n",
    "c1,c2,f1,f2,fs1,fs2=\\\n",
    "'#11ff66','#6611ff','Akronim','Smokum',30,15\n",
    "def dhtml(string,fontcolor=c1,font=f1,fontsize=fs1):\n",
    "    display(HTML(\"\"\"<style>\n",
    "    @import 'https://fonts.googleapis.com/css?family=\"\"\"\\\n",
    "    +font+\"\"\"&effect=3d-float';</style>\n",
    "    <h1 class='font-effect-3d-float' style='font-family:\"\"\"+\\\n",
    "    font+\"\"\"; color:\"\"\"+fontcolor+\"\"\"; font-size:\"\"\"+\\\n",
    "    str(fontsize)+\"\"\"px;'>%s</h1>\"\"\"%string))"
   ]
  },
  {
   "cell_type": "code",
   "execution_count": 2,
   "metadata": {
    "_cell_guid": "79c7e3d0-c299-4dcb-8224-4455121ee9b0",
    "_kg_hide-input": true,
    "_uuid": "d629ff2d2480ee46fbb7e2d37f6b5fab8052498a",
    "execution": {
     "iopub.execute_input": "2020-09-25T21:43:56.010496Z",
     "iopub.status.busy": "2020-09-25T21:43:56.009569Z",
     "iopub.status.idle": "2020-09-25T21:43:56.018953Z",
     "shell.execute_reply": "2020-09-25T21:43:56.019724Z"
    },
    "papermill": {
     "duration": 0.048559,
     "end_time": "2020-09-25T21:43:56.019940",
     "exception": false,
     "start_time": "2020-09-25T21:43:55.971381",
     "status": "completed"
    },
    "tags": []
   },
   "outputs": [
    {
     "data": {
      "text/html": [
       "<style>\n",
       "    @import 'https://fonts.googleapis.com/css?family=Akronim&effect=3d-float';</style>\n",
       "    <h1 class='font-effect-3d-float' style='font-family:Akronim; color:#11ff66; font-size:30px;'>Code Modules, Setting, & Functions</h1>"
      ],
      "text/plain": [
       "<IPython.core.display.HTML object>"
      ]
     },
     "metadata": {},
     "output_type": "display_data"
    }
   ],
   "source": [
    "dhtml('Code Modules, Setting, & Functions')"
   ]
  },
  {
   "cell_type": "code",
   "execution_count": 3,
   "metadata": {
    "execution": {
     "iopub.execute_input": "2020-09-25T21:43:56.081738Z",
     "iopub.status.busy": "2020-09-25T21:43:56.080990Z",
     "iopub.status.idle": "2020-09-25T21:44:03.106954Z",
     "shell.execute_reply": "2020-09-25T21:44:03.105289Z"
    },
    "papermill": {
     "duration": 7.058544,
     "end_time": "2020-09-25T21:44:03.107089",
     "exception": false,
     "start_time": "2020-09-25T21:43:56.048545",
     "status": "completed"
    },
    "tags": []
   },
   "outputs": [],
   "source": [
    "import numpy as np,pylab as pl\n",
    "import tensorflow as tf\n",
    "import tensorflow.keras.layers as tkl\n",
    "import tensorflow_datasets as tfds\n",
    "from collections import Counter\n",
    "from tensorflow.keras.datasets import imdb\n",
    "from tensorflow.keras.preprocessing \\\n",
    "import sequence as tksequence"
   ]
  },
  {
   "cell_type": "code",
   "execution_count": 4,
   "metadata": {
    "_kg_hide-input": true,
    "execution": {
     "iopub.execute_input": "2020-09-25T21:44:03.182244Z",
     "iopub.status.busy": "2020-09-25T21:44:03.181383Z",
     "iopub.status.idle": "2020-09-25T21:44:03.184590Z",
     "shell.execute_reply": "2020-09-25T21:44:03.184009Z"
    },
    "papermill": {
     "duration": 0.048807,
     "end_time": "2020-09-25T21:44:03.184701",
     "exception": false,
     "start_time": "2020-09-25T21:44:03.135894",
     "status": "completed"
    },
    "tags": []
   },
   "outputs": [],
   "source": [
    "def get_weights_shape(layer):\n",
    "    w_xh,w_oo,b_h=layer.weights\n",
    "    print('w_xh shape: %s'%w_xh.shape)\n",
    "    print('w_oo shape: %s'%w_oo.shape)\n",
    "    print('b_h shape: %s'%b_h.shape) \n",
    "def compare_calc(layer,x):\n",
    "    n,inputs=x.shape[0],x.shape[1]\n",
    "    w_xh,w_oo,b_h=layer.weights\n",
    "    out_calc=[]\n",
    "    output=layer(\n",
    "        tf.reshape(x,shape=(1,n,inputs)))\n",
    "    pl.figure(figsize=(10,5))\n",
    "    for t in range(n):\n",
    "        xt=tf.reshape(x_seq[t],(1,inputs))\n",
    "        print('time step {} =>'.format(t))\n",
    "        print(5*' '+'input'+13*' '+': '+\n",
    "              str(xt.numpy()))\n",
    "        ht=tf.matmul(xt,w_xh)+b_h \n",
    "        print(5*' '+'hidden'+11*' '+': '+   \n",
    "              str(ht.numpy()))   \n",
    "        if t>0:\n",
    "            prev_o=out_calc[t-1]\n",
    "        else:\n",
    "            prev_o=tf.zeros(shape=(ht.shape))        \n",
    "        ot=ht+tf.matmul(prev_o,w_oo)\n",
    "        ot=tf.math.tanh(ot)\n",
    "        out_calc.append(ot)\n",
    "        print(5*' '+'calculated output: '+\n",
    "              str(ot.numpy()))\n",
    "        print(5*' '+'SimpleRNN output:   '.format(t)+\n",
    "              str(output[0][t].numpy())+'\\n')\n",
    "        pl.plot(output[0][t].numpy(),'-o',\n",
    "                label='time step %d'%t)\n",
    "    pl.grid(); pl.legend(); pl.show()"
   ]
  },
  {
   "cell_type": "code",
   "execution_count": 5,
   "metadata": {
    "_kg_hide-input": true,
    "execution": {
     "iopub.execute_input": "2020-09-25T21:44:03.246296Z",
     "iopub.status.busy": "2020-09-25T21:44:03.245362Z",
     "iopub.status.idle": "2020-09-25T21:44:03.248038Z",
     "shell.execute_reply": "2020-09-25T21:44:03.248590Z"
    },
    "papermill": {
     "duration": 0.036518,
     "end_time": "2020-09-25T21:44:03.248711",
     "exception": false,
     "start_time": "2020-09-25T21:44:03.212193",
     "status": "completed"
    },
    "tags": []
   },
   "outputs": [],
   "source": [
    "def encode(text_tensor,label):\n",
    "    text=text_tensor.numpy()\n",
    "    encoded_text=encoder.encode(text)\n",
    "    return encoded_text,label\n",
    "def encode_fmap(text,label):\n",
    "    return tf.py_function(encode,inp=[text,label], \n",
    "                          Tout=(tf.int64,tf.int64))"
   ]
  },
  {
   "cell_type": "code",
   "execution_count": 6,
   "metadata": {
    "_kg_hide-input": true,
    "execution": {
     "iopub.execute_input": "2020-09-25T21:44:03.309298Z",
     "iopub.status.busy": "2020-09-25T21:44:03.308304Z",
     "iopub.status.idle": "2020-09-25T21:44:03.311924Z",
     "shell.execute_reply": "2020-09-25T21:44:03.312436Z"
    },
    "papermill": {
     "duration": 0.035545,
     "end_time": "2020-09-25T21:44:03.312554",
     "exception": false,
     "start_time": "2020-09-25T21:44:03.277009",
     "status": "completed"
    },
    "tags": []
   },
   "outputs": [
    {
     "data": {
      "text/html": [
       "<style>\n",
       "    @import 'https://fonts.googleapis.com/css?family=Akronim&effect=3d-float';</style>\n",
       "    <h1 class='font-effect-3d-float' style='font-family:Akronim; color:#11ff66; font-size:30px;'>Data Exploration</h1>"
      ],
      "text/plain": [
       "<IPython.core.display.HTML object>"
      ]
     },
     "metadata": {},
     "output_type": "display_data"
    }
   ],
   "source": [
    "dhtml('Data Exploration')"
   ]
  },
  {
   "cell_type": "code",
   "execution_count": 7,
   "metadata": {
    "_kg_hide-output": true,
    "execution": {
     "iopub.execute_input": "2020-09-25T21:44:03.379579Z",
     "iopub.status.busy": "2020-09-25T21:44:03.378966Z",
     "iopub.status.idle": "2020-09-25T21:44:13.104984Z",
     "shell.execute_reply": "2020-09-25T21:44:13.104440Z"
    },
    "papermill": {
     "duration": 9.762825,
     "end_time": "2020-09-25T21:44:13.105108",
     "exception": false,
     "start_time": "2020-09-25T21:44:03.342283",
     "status": "completed"
    },
    "tags": []
   },
   "outputs": [
    {
     "name": "stdout",
     "output_type": "stream",
     "text": [
      "Downloading data from https://storage.googleapis.com/tensorflow/tf-keras-datasets/imdb.npz\n",
      "17465344/17464789 [==============================] - 0s 0us/step\n"
     ]
    }
   ],
   "source": [
    "# 25,000 movies reviews from IMDB, \n",
    "# labeled by sentiment (positive/negative)\n",
    "num_words=10000; max_length=1000\n",
    "embedding_vector_length=32\n",
    "(x_train,y_train),(x_test,y_test)=\\\n",
    "imdb.load_data(path=\"imdb_full.pkl\",\n",
    "               num_words=num_words,\n",
    "               skip_top=0,seed=113,\n",
    "               maxlen=max_length,\n",
    "               start_char=1,oov_char=2,\n",
    "               index_from=3)"
   ]
  },
  {
   "cell_type": "code",
   "execution_count": 8,
   "metadata": {
    "_kg_hide-output": false,
    "execution": {
     "iopub.execute_input": "2020-09-25T21:44:13.181062Z",
     "iopub.status.busy": "2020-09-25T21:44:13.179335Z",
     "iopub.status.idle": "2020-09-25T21:44:13.183381Z",
     "shell.execute_reply": "2020-09-25T21:44:13.184028Z"
    },
    "papermill": {
     "duration": 0.045911,
     "end_time": "2020-09-25T21:44:13.184154",
     "exception": false,
     "start_time": "2020-09-25T21:44:13.138243",
     "status": "completed"
    },
    "tags": []
   },
   "outputs": [
    {
     "name": "stdout",
     "output_type": "stream",
     "text": [
      "(24875,) (24944,)\n",
      "(24875,) (24944,)\n",
      "(49819,) (49819,)\n"
     ]
    }
   ],
   "source": [
    "print(x_train.shape,x_test.shape)\n",
    "print(y_train.shape,y_test.shape)\n",
    "x=np.vstack([x_train.reshape(-1,1),\n",
    "             x_test.reshape(-1,1)])\n",
    "y=np.vstack([y_train.reshape(-1,1),\n",
    "             y_test.reshape(-1,1)])\n",
    "x=x.reshape(-1); y=y.reshape(-1)\n",
    "print(x.shape,y.shape)"
   ]
  },
  {
   "cell_type": "code",
   "execution_count": 9,
   "metadata": {
    "_kg_hide-output": true,
    "execution": {
     "iopub.execute_input": "2020-09-25T21:44:13.264028Z",
     "iopub.status.busy": "2020-09-25T21:44:13.256363Z",
     "iopub.status.idle": "2020-09-25T21:44:13.544632Z",
     "shell.execute_reply": "2020-09-25T21:44:13.543612Z"
    },
    "papermill": {
     "duration": 0.328553,
     "end_time": "2020-09-25T21:44:13.544788",
     "exception": false,
     "start_time": "2020-09-25T21:44:13.216235",
     "status": "completed"
    },
    "tags": []
   },
   "outputs": [
    {
     "name": "stdout",
     "output_type": "stream",
     "text": [
      "Downloading data from https://storage.googleapis.com/tensorflow/tf-keras-datasets/imdb_word_index.json\n",
      "1646592/1641221 [==============================] - 0s 0us/step\n"
     ]
    }
   ],
   "source": [
    "word_to_id=imdb.get_word_index()\n",
    "word_to_id=\\\n",
    "{k:(v+3) for k,v in word_to_id.items()}\n",
    "sw=[\"<PAD>\",\"<START>\",\"<UNK>\",\"<UNUSED>\"]\n",
    "for i in range(4): word_to_id[sw[i]]=i\n",
    "id_to_word=\\\n",
    " {value:key for key,value in word_to_id.items()}\n",
    "def get_string(x,i):\n",
    "    return ' '.join(id_to_word[id] for id in x[i] if id>3)"
   ]
  },
  {
   "cell_type": "code",
   "execution_count": 10,
   "metadata": {
    "_kg_hide-output": true,
    "execution": {
     "iopub.execute_input": "2020-09-25T21:44:13.632931Z",
     "iopub.status.busy": "2020-09-25T21:44:13.627688Z",
     "iopub.status.idle": "2020-09-25T21:44:17.080745Z",
     "shell.execute_reply": "2020-09-25T21:44:17.080249Z"
    },
    "papermill": {
     "duration": 3.501116,
     "end_time": "2020-09-25T21:44:17.080903",
     "exception": false,
     "start_time": "2020-09-25T21:44:13.579787",
     "status": "completed"
    },
    "tags": []
   },
   "outputs": [
    {
     "data": {
      "text/html": [
       "<style>\n",
       "    @import 'https://fonts.googleapis.com/css?family=Smokum&effect=3d-float';</style>\n",
       "    <h1 class='font-effect-3d-float' style='font-family:Smokum; color:#6611ff; font-size:15px;'>this film was just brilliant casting location scenery story direction everyone's really suited the part they played and you could just imagine being there robert is an amazing actor and now the same being director father came from the same scottish island as myself so i loved the fact there was a real connection with this film the witty remarks throughout the film were great it was just brilliant so much that i bought the film as soon as it was released for and would recommend it to everyone to watch and the fly fishing was amazing really cried at the end it was so sad and you know what they say if you cry at a film it must have been good and this definitely was also to the two little boy's that played the of norman and paul they were just brilliant children are often left out of the list i think because the stars that play them all grown up are such a big profile for the whole film but these children are amazing and should be praised for what they have done don't you think the whole story was so lovely because it was true and was someone's life after all that was shared with us all</h1>"
      ],
      "text/plain": [
       "<IPython.core.display.HTML object>"
      ]
     },
     "metadata": {},
     "output_type": "display_data"
    }
   ],
   "source": [
    "features=[get_string(x,i) \n",
    "          for i in range(x.shape[0])]\n",
    "features=np.array(features)\n",
    "targets=y\n",
    "dhtml(features[0],c2,f2,fs2)"
   ]
  },
  {
   "cell_type": "code",
   "execution_count": 11,
   "metadata": {
    "_kg_hide-input": true,
    "execution": {
     "iopub.execute_input": "2020-09-25T21:44:17.155234Z",
     "iopub.status.busy": "2020-09-25T21:44:17.154247Z",
     "iopub.status.idle": "2020-09-25T21:44:17.158316Z",
     "shell.execute_reply": "2020-09-25T21:44:17.158894Z"
    },
    "papermill": {
     "duration": 0.043453,
     "end_time": "2020-09-25T21:44:17.159016",
     "exception": false,
     "start_time": "2020-09-25T21:44:17.115563",
     "status": "completed"
    },
    "tags": []
   },
   "outputs": [
    {
     "data": {
      "text/html": [
       "<style>\n",
       "    @import 'https://fonts.googleapis.com/css?family=Akronim&effect=3d-float';</style>\n",
       "    <h1 class='font-effect-3d-float' style='font-family:Akronim; color:#11ff66; font-size:30px;'>Data Building</h1>"
      ],
      "text/plain": [
       "<IPython.core.display.HTML object>"
      ]
     },
     "metadata": {},
     "output_type": "display_data"
    }
   ],
   "source": [
    "dhtml('Data Building')"
   ]
  },
  {
   "cell_type": "code",
   "execution_count": 12,
   "metadata": {
    "execution": {
     "iopub.execute_input": "2020-09-25T21:44:18.223482Z",
     "iopub.status.busy": "2020-09-25T21:44:18.222472Z",
     "iopub.status.idle": "2020-09-25T21:44:20.710304Z",
     "shell.execute_reply": "2020-09-25T21:44:20.711340Z"
    },
    "papermill": {
     "duration": 3.516796,
     "end_time": "2020-09-25T21:44:20.711629",
     "exception": false,
     "start_time": "2020-09-25T21:44:17.194833",
     "status": "completed"
    },
    "tags": []
   },
   "outputs": [
    {
     "name": "stdout",
     "output_type": "stream",
     "text": [
      "b'this film was just brilliant casting location scenery story ' 1\n",
      "b'big hair big boobs bad music and a giant safety pin these ar' 0\n",
      "b'this has to be one of the worst films of the 1990s when my f' 0\n"
     ]
    }
   ],
   "source": [
    "ds=tf.data.Dataset.\\\n",
    "from_tensor_slices((features,targets))\n",
    "for ex in ds.take(3):\n",
    "    tf.print(ex[0].numpy()[:60],ex[1])"
   ]
  },
  {
   "cell_type": "code",
   "execution_count": 13,
   "metadata": {
    "execution": {
     "iopub.execute_input": "2020-09-25T21:44:20.839090Z",
     "iopub.status.busy": "2020-09-25T21:44:20.838110Z",
     "iopub.status.idle": "2020-09-25T21:44:21.250237Z",
     "shell.execute_reply": "2020-09-25T21:44:21.249246Z"
    },
    "papermill": {
     "duration": 0.475934,
     "end_time": "2020-09-25T21:44:21.250365",
     "exception": false,
     "start_time": "2020-09-25T21:44:20.774431",
     "status": "completed"
    },
    "tags": []
   },
   "outputs": [],
   "source": [
    "tf.random.set_seed(123)\n",
    "ds=ds.shuffle(50000,reshuffle_each_iteration=False)\n",
    "ds_test=ds.take(10000)\n",
    "ds_train_valid=ds.skip(10000)\n",
    "ds_valid=ds_train_valid.take(10000)\n",
    "ds_train=ds_train_valid.skip(10000)"
   ]
  },
  {
   "cell_type": "code",
   "execution_count": 14,
   "metadata": {
    "execution": {
     "iopub.execute_input": "2020-09-25T21:44:21.328098Z",
     "iopub.status.busy": "2020-09-25T21:44:21.327248Z",
     "iopub.status.idle": "2020-09-25T21:44:31.039266Z",
     "shell.execute_reply": "2020-09-25T21:44:31.039845Z"
    },
    "papermill": {
     "duration": 9.753871,
     "end_time": "2020-09-25T21:44:31.040037",
     "exception": false,
     "start_time": "2020-09-25T21:44:21.286166",
     "status": "completed"
    },
    "tags": []
   },
   "outputs": [
    {
     "name": "stdout",
     "output_type": "stream",
     "text": [
      "vocabulary size: 9807\n"
     ]
    }
   ],
   "source": [
    "tokenizer=tfds.features.text.Tokenizer()\n",
    "token_counts=Counter()\n",
    "for example in ds_train:\n",
    "    tokens=tokenizer.tokenize(example[0].numpy())\n",
    "    token_counts.update(tokens)\n",
    "print('vocabulary size:',len(token_counts))"
   ]
  },
  {
   "cell_type": "code",
   "execution_count": 15,
   "metadata": {
    "execution": {
     "iopub.execute_input": "2020-09-25T21:44:31.136536Z",
     "iopub.status.busy": "2020-09-25T21:44:31.131320Z",
     "iopub.status.idle": "2020-09-25T21:44:31.145622Z",
     "shell.execute_reply": "2020-09-25T21:44:31.146221Z"
    },
    "papermill": {
     "duration": 0.069452,
     "end_time": "2020-09-25T21:44:31.146351",
     "exception": false,
     "start_time": "2020-09-25T21:44:31.076899",
     "status": "completed"
    },
    "tags": []
   },
   "outputs": [
    {
     "data": {
      "text/plain": [
       "[4621, 4, 12, 97, 121, 22, 4029]"
      ]
     },
     "execution_count": 15,
     "metadata": {},
     "output_type": "execute_result"
    }
   ],
   "source": [
    "encoder=tfds.features.text\\\n",
    ".TokenTextEncoder(token_counts)\n",
    "example_str='hi this is an example of sentences'\n",
    "encoder.encode(example_str)"
   ]
  },
  {
   "cell_type": "code",
   "execution_count": 16,
   "metadata": {
    "execution": {
     "iopub.execute_input": "2020-09-25T21:44:31.227463Z",
     "iopub.status.busy": "2020-09-25T21:44:31.226660Z",
     "iopub.status.idle": "2020-09-25T21:44:31.335077Z",
     "shell.execute_reply": "2020-09-25T21:44:31.334537Z"
    },
    "papermill": {
     "duration": 0.151813,
     "end_time": "2020-09-25T21:44:31.335192",
     "exception": false,
     "start_time": "2020-09-25T21:44:31.183379",
     "status": "completed"
    },
    "tags": []
   },
   "outputs": [],
   "source": [
    "tf.random.set_seed(123)\n",
    "train=ds_train.map(encode_fmap)\n",
    "valid=ds_valid.map(encode_fmap)\n",
    "test=ds_test.map(encode_fmap)"
   ]
  },
  {
   "cell_type": "code",
   "execution_count": 17,
   "metadata": {
    "_kg_hide-output": true,
    "execution": {
     "iopub.execute_input": "2020-09-25T21:44:31.417615Z",
     "iopub.status.busy": "2020-09-25T21:44:31.416688Z",
     "iopub.status.idle": "2020-09-25T21:44:32.423187Z",
     "shell.execute_reply": "2020-09-25T21:44:32.422127Z"
    },
    "papermill": {
     "duration": 1.04992,
     "end_time": "2020-09-25T21:44:32.423325",
     "exception": false,
     "start_time": "2020-09-25T21:44:31.373405",
     "status": "completed"
    },
    "tags": []
   },
   "outputs": [
    {
     "name": "stdout",
     "output_type": "stream",
     "text": [
      "sequence length: (118,)\n",
      "[   4    9  318   31  642  464   22 6159   11 5414   22   97 3798 1924\n",
      "   11 3217   12  529   69 5413   30  211   30 1149 5808 5809 5810   12\n",
      "  233 1562   30   31  437   69   18    1   86   52  507  117  191   18\n",
      "  305  113  308  169 6429 4061   31  642  205 1015  525  117 1252   30\n",
      "   11 6528 2727  438   15   12  837  117 3437  117   56   30  501   22\n",
      "   57 1785 7082   97 5317  117 1489  329  258   11  764   22   11  428\n",
      " 2103  246  348   12   31 6209   47 1647  117  772  578   18   52   12\n",
      "   31 3186 3123  318  194 7965   47   11 5982  362   21  571  117  830\n",
      " 5203   82   11  348   22  856]\n",
      "sequence length: (111,)\n",
      "[4091 1093  201 1997   82   11 7886   15 2619   15 1667  364 1657 1303\n",
      "   24   57  166 1997   75  195  687  727   31 1997    5   30  649   22\n",
      "  100  247    4   12   31 1217  332 5330   63  713 7316   82   11 2019\n",
      "   15 1080    4    9   12 2198 1303 2185 4522  767  253   64   30 7956\n",
      "   67 6584 1703  602   11    9 5486   47   83 1143  296   15   47   11\n",
      "   22   11 1529  360   21  113  163  561  125   11  307 1700    7   57\n",
      "   38  339  164  113 1102 1847   83   31  268  268    5 2353  194  594\n",
      " 1593  954   30   31   40   99   83  672  198  267  490  410  426]\n",
      "sequence length: (47,)\n",
      "[ 133  134  247  417  670  923   15  532    3   31    5  467 1125    4\n",
      "    9  916  109 1309   82  134   59  133  134    2    3  157   38    4\n",
      "   21   19  109   31 1804 3521 8410 3497   15 1053   82  134  215   61\n",
      "  251  445  329   69    4]\n"
     ]
    }
   ],
   "source": [
    "tf.random.set_seed(1)\n",
    "for example in train.shuffle(1000).take(3):\n",
    "    print('sequence length:',example[0].shape)\n",
    "    print(example[0].numpy())"
   ]
  },
  {
   "cell_type": "code",
   "execution_count": 18,
   "metadata": {
    "_kg_hide-output": true,
    "execution": {
     "iopub.execute_input": "2020-09-25T21:44:32.506886Z",
     "iopub.status.busy": "2020-09-25T21:44:32.505932Z",
     "iopub.status.idle": "2020-09-25T21:44:32.786891Z",
     "shell.execute_reply": "2020-09-25T21:44:32.786305Z"
    },
    "papermill": {
     "duration": 0.325113,
     "end_time": "2020-09-25T21:44:32.787014",
     "exception": false,
     "start_time": "2020-09-25T21:44:32.461901",
     "status": "completed"
    },
    "tags": []
   },
   "outputs": [
    {
     "name": "stdout",
     "output_type": "stream",
     "text": [
      "individual sizes:\n",
      "(283,)\n",
      "(209,)\n",
      "(258,)\n",
      "(216,)\n",
      "(141,)\n",
      "(318,)\n",
      "(187,)\n",
      "(142,)\n",
      "(90,)\n",
      "(141,)\n",
      "(154,)\n",
      "(319,)\n",
      "(806,)\n",
      "(33,)\n",
      "(526,)\n",
      "(146,)\n",
      "(89,)\n",
      "(127,)\n",
      "(172,)\n",
      "(76,)\n",
      "batch dimensions:\n",
      "(4, 283)\n",
      "(4, 318)\n",
      "(4, 319)\n",
      "(4, 806)\n",
      "(4, 172)\n"
     ]
    }
   ],
   "source": [
    "ds_example=train.take(20)\n",
    "print('individual sizes:')\n",
    "for example in ds_example:\n",
    "    print(example[0].shape)\n",
    "ds_batched_example=ds_example\\\n",
    ".padded_batch(4,padded_shapes=([-1],[]))\n",
    "print('batch dimensions:')\n",
    "for batch in ds_batched_example:\n",
    "    print(batch[0].shape)"
   ]
  },
  {
   "cell_type": "code",
   "execution_count": 19,
   "metadata": {
    "execution": {
     "iopub.execute_input": "2020-09-25T21:44:32.870798Z",
     "iopub.status.busy": "2020-09-25T21:44:32.869806Z",
     "iopub.status.idle": "2020-09-25T21:44:32.876311Z",
     "shell.execute_reply": "2020-09-25T21:44:32.875756Z"
    },
    "papermill": {
     "duration": 0.050179,
     "end_time": "2020-09-25T21:44:32.876417",
     "exception": false,
     "start_time": "2020-09-25T21:44:32.826238",
     "status": "completed"
    },
    "tags": []
   },
   "outputs": [],
   "source": [
    "train_data=train.padded_batch(\n",
    "    32,padded_shapes=([-1],[]))\n",
    "valid_data=valid.padded_batch(\n",
    "    32,padded_shapes=([-1],[]))\n",
    "test_data=test.padded_batch(\n",
    "    32,padded_shapes=([-1],[]))"
   ]
  },
  {
   "cell_type": "code",
   "execution_count": 20,
   "metadata": {
    "_kg_hide-output": true,
    "execution": {
     "iopub.execute_input": "2020-09-25T21:44:32.964825Z",
     "iopub.status.busy": "2020-09-25T21:44:32.963814Z",
     "iopub.status.idle": "2020-09-25T21:44:33.113288Z",
     "shell.execute_reply": "2020-09-25T21:44:33.112489Z"
    },
    "papermill": {
     "duration": 0.196715,
     "end_time": "2020-09-25T21:44:33.113451",
     "exception": false,
     "start_time": "2020-09-25T21:44:32.916736",
     "status": "completed"
    },
    "tags": []
   },
   "outputs": [
    {
     "name": "stdout",
     "output_type": "stream",
     "text": [
      "[  1   2   3   4   5   6   7   8   9  10  11   5  12  13  14  15   1  16\n",
      "  17  18  19  20  21  22  11  23  24  25  11  26  27  28  29  29  30  31\n",
      "  32  33  34   1  35  36  13  37  38  18  39  40  41  11  42  22  11  43\n",
      "  33  11  44  45  11  46  47  48  49  15  50  30   1  51  52  11   5  53\n",
      "  54  55  15  11  56  22  57  58  59   1  60  61  51  13  52  62  63  31\n",
      "  64  65  66  67  11  68  69  31  70  71  72  73  15  11  74  75  76  77\n",
      "  15  78  79   1  80  11   9  81  82  83  84  15  13  11  85   1  86  87\n",
      "  88  11  89   7  15  11  90  91  22  92  93  94  11  95  22  11  78  47\n",
      "   4  96   4   5  12  97  98   7  11  22  11  32  33  99  13  11 100  22\n",
      "  11  32 101  21 102 103 104 105  69 106 107  13   4 108 102 109 110  11\n",
      "  89   7  11 111 112 113  11 114  82  11  32   9 115  40  62  63  97 116\n",
      " 117 118 119  11  22  11  32 100 120 121  22   4 122  22   1  86  13 123\n",
      " 124 125  11  95  22  31 126 127 128  13 129 130 112   1 131 117 132  31\n",
      "  74   7  52 133 134 135  38 136 117   4 137 138 139 140 135  29  29   1\n",
      " 141 142   9 117 143  21  22  11 144 145  52  11 146  22  11  10  29  29\n",
      " 147 148 149 150  15  11   9 151  11  28  82  26 152   0   0   0   0   0\n",
      "   0   0   0   0   0   0   0   0   0   0   0   0   0   0   0   0   0   0\n",
      "   0   0   0   0   0   0   0   0   0   0   0   0   0   0   0   0   0   0\n",
      "   0   0   0   0   0   0   0   0   0   0   0   0   0   0   0   0   0   0\n",
      "   0   0   0   0   0   0   0   0   0   0   0   0   0   0   0   0   0   0\n",
      "   0   0   0   0   0   0   0   0   0   0   0   0   0   0   0   0   0   0\n",
      "   0   0   0   0   0   0   0   0   0   0   0   0   0   0   0   0   0   0\n",
      "   0   0   0   0   0   0   0   0   0   0   0   0   0   0   0   0   0   0\n",
      "   0   0   0   0   0   0   0   0   0   0   0   0   0   0   0   0   0   0\n",
      "   0   0   0   0   0   0   0   0   0   0   0   0   0   0   0   0   0   0\n",
      "   0   0   0   0   0   0   0   0   0   0   0   0   0   0   0   0   0   0\n",
      "   0   0   0   0   0   0   0   0   0   0   0   0   0   0   0   0   0   0\n",
      "   0   0   0   0   0   0   0   0   0   0   0   0   0   0   0   0   0   0\n",
      "   0   0   0   0   0   0   0   0   0   0   0   0   0   0   0   0   0   0\n",
      "   0   0   0   0   0   0   0   0   0   0   0   0   0   0   0   0   0   0\n",
      "   0   0   0   0   0   0   0   0   0   0   0   0   0   0   0   0   0   0\n",
      "   0   0   0   0   0   0   0   0   0   0   0   0   0   0   0   0   0   0\n",
      "   0   0   0   0   0   0   0   0   0   0   0   0   0   0   0   0   0   0\n",
      "   0   0   0   0   0   0   0   0   0   0   0   0   0   0   0   0   0   0\n",
      "   0   0   0   0   0   0   0   0   0   0   0   0   0   0   0   0   0   0\n",
      "   0   0   0   0   0   0   0   0   0   0   0   0   0   0   0   0   0   0\n",
      "   0   0   0   0   0   0   0   0   0   0   0   0   0   0   0   0   0   0\n",
      "   0   0   0   0   0   0   0   0   0   0   0   0   0   0   0   0   0   0\n",
      "   0   0   0   0   0   0   0   0   0   0   0   0   0   0   0   0   0   0\n",
      "   0   0   0   0   0   0   0   0   0   0   0   0   0   0   0   0   0   0\n",
      "   0   0   0   0   0   0   0   0   0   0   0   0   0   0   0   0   0   0\n",
      "   0   0   0   0   0   0   0   0   0   0   0   0   0   0   0   0   0   0\n",
      "   0   0   0   0   0   0   0   0   0   0   0   0   0   0   0   0   0   0\n",
      "   0   0   0   0   0   0   0   0   0   0   0   0   0   0   0   0   0   0\n",
      "   0   0   0   0   0   0   0   0   0   0   0   0   0   0] \n",
      " [1 1 0 0 1 0 0 1 0 0 0 1 0 0 0 1 1 1 1 1 1 1 1 0 1 0 0 0 0 1 1 0]\n"
     ]
    }
   ],
   "source": [
    "for example in train_data.take(1):\n",
    "    print(example[0].numpy()[0],'\\n',\n",
    "          example[1].numpy())"
   ]
  },
  {
   "cell_type": "code",
   "execution_count": 21,
   "metadata": {
    "_kg_hide-input": true,
    "execution": {
     "iopub.execute_input": "2020-09-25T21:44:33.199397Z",
     "iopub.status.busy": "2020-09-25T21:44:33.198691Z",
     "iopub.status.idle": "2020-09-25T21:44:33.205614Z",
     "shell.execute_reply": "2020-09-25T21:44:33.205110Z"
    },
    "papermill": {
     "duration": 0.051779,
     "end_time": "2020-09-25T21:44:33.205720",
     "exception": false,
     "start_time": "2020-09-25T21:44:33.153941",
     "status": "completed"
    },
    "tags": []
   },
   "outputs": [
    {
     "data": {
      "text/html": [
       "<style>\n",
       "    @import 'https://fonts.googleapis.com/css?family=Akronim&effect=3d-float';</style>\n",
       "    <h1 class='font-effect-3d-float' style='font-family:Akronim; color:#11ff66; font-size:30px;'>Embedding, RNN, LSTM, & GRU Layers</h1>"
      ],
      "text/plain": [
       "<IPython.core.display.HTML object>"
      ]
     },
     "metadata": {},
     "output_type": "display_data"
    }
   ],
   "source": [
    "dhtml('Embedding, RNN, LSTM, & GRU Layers')"
   ]
  },
  {
   "cell_type": "code",
   "execution_count": 22,
   "metadata": {
    "_kg_hide-output": true,
    "execution": {
     "iopub.execute_input": "2020-09-25T21:44:33.289842Z",
     "iopub.status.busy": "2020-09-25T21:44:33.289213Z",
     "iopub.status.idle": "2020-09-25T21:44:33.338343Z",
     "shell.execute_reply": "2020-09-25T21:44:33.337672Z"
    },
    "papermill": {
     "duration": 0.09361,
     "end_time": "2020-09-25T21:44:33.338448",
     "exception": false,
     "start_time": "2020-09-25T21:44:33.244838",
     "status": "completed"
    },
    "tags": []
   },
   "outputs": [
    {
     "name": "stdout",
     "output_type": "stream",
     "text": [
      "Model: \"embedding_structure\"\n",
      "_________________________________________________________________\n",
      "Layer (type)                 Output Shape              Param #   \n",
      "=================================================================\n",
      "embedding_1 (Embedding)      (None, 32, 5)             1280      \n",
      "=================================================================\n",
      "Total params: 1,280\n",
      "Trainable params: 1,280\n",
      "Non-trainable params: 0\n",
      "_________________________________________________________________\n"
     ]
    }
   ],
   "source": [
    "model=tf.keras.Sequential(\n",
    "    name='embedding_structure')\n",
    "model.add(tkl.Embedding(\n",
    "    input_dim=256,output_dim=5,\n",
    "    input_length=32,name='embedding_1'))\n",
    "model.summary()"
   ]
  },
  {
   "cell_type": "code",
   "execution_count": 23,
   "metadata": {
    "execution": {
     "iopub.execute_input": "2020-09-25T21:44:33.427112Z",
     "iopub.status.busy": "2020-09-25T21:44:33.425439Z",
     "iopub.status.idle": "2020-09-25T21:44:33.428172Z",
     "shell.execute_reply": "2020-09-25T21:44:33.428841Z"
    },
    "papermill": {
     "duration": 0.049993,
     "end_time": "2020-09-25T21:44:33.428998",
     "exception": false,
     "start_time": "2020-09-25T21:44:33.379005",
     "status": "completed"
    },
    "tags": []
   },
   "outputs": [],
   "source": [
    "def rnn_layer(inputs,units):\n",
    "    rnn_layer=tkl.SimpleRNN(\n",
    "        units=units,use_bias=True,\n",
    "        return_sequences=True)\n",
    "    rnn_layer.build(\n",
    "        input_shape=(None,None,inputs))\n",
    "    return rnn_layer"
   ]
  },
  {
   "cell_type": "code",
   "execution_count": 24,
   "metadata": {
    "execution": {
     "iopub.execute_input": "2020-09-25T21:44:33.525539Z",
     "iopub.status.busy": "2020-09-25T21:44:33.524888Z",
     "iopub.status.idle": "2020-09-25T21:44:33.563923Z",
     "shell.execute_reply": "2020-09-25T21:44:33.563421Z"
    },
    "papermill": {
     "duration": 0.092891,
     "end_time": "2020-09-25T21:44:33.564043",
     "exception": false,
     "start_time": "2020-09-25T21:44:33.471152",
     "status": "completed"
    },
    "tags": []
   },
   "outputs": [
    {
     "name": "stdout",
     "output_type": "stream",
     "text": [
      "w_xh shape: (7, 4)\n",
      "w_oo shape: (4, 4)\n",
      "b_h shape: (4,)\n"
     ]
    }
   ],
   "source": [
    "m=5; inputs=7; units=4\n",
    "tf.random.set_seed(123)\n",
    "rnn_layer74=rnn_layer(inputs,units)    \n",
    "get_weights_shape(rnn_layer74)"
   ]
  },
  {
   "cell_type": "code",
   "execution_count": 25,
   "metadata": {
    "_kg_hide-output": true,
    "execution": {
     "iopub.execute_input": "2020-09-25T21:44:33.651621Z",
     "iopub.status.busy": "2020-09-25T21:44:33.651060Z",
     "iopub.status.idle": "2020-09-25T21:44:34.830316Z",
     "shell.execute_reply": "2020-09-25T21:44:34.829733Z"
    },
    "papermill": {
     "duration": 1.225236,
     "end_time": "2020-09-25T21:44:34.830436",
     "exception": false,
     "start_time": "2020-09-25T21:44:33.605200",
     "status": "completed"
    },
    "tags": []
   },
   "outputs": [
    {
     "name": "stdout",
     "output_type": "stream",
     "text": [
      "time step 0 =>\n",
      "     input             : [[1. 1. 1. 1. 1. 1. 1.]]\n",
      "     hidden           : [[ 0.01295897  1.2222549   0.32739955 -0.6797645 ]]\n",
      "     calculated output: [[ 0.01295825  0.8403181   0.31618223 -0.5913663 ]]\n",
      "     SimpleRNN output:   [ 0.01295825  0.8403181   0.31618223 -0.5913663 ]\n",
      "\n",
      "time step 1 =>\n",
      "     input             : [[2. 2. 2. 2. 2. 2. 2.]]\n",
      "     hidden           : [[ 0.02591795  2.4445097   0.6547991  -1.359529  ]]\n",
      "     calculated output: [[ 0.20680074  0.9325751   0.5290113  -0.9697159 ]]\n",
      "     SimpleRNN output:   [ 0.20680074  0.9325751   0.5290113  -0.9697159 ]\n",
      "\n",
      "time step 2 =>\n",
      "     input             : [[3. 3. 3. 3. 3. 3. 3.]]\n",
      "     hidden           : [[ 0.03887689  3.6667645   0.9821988  -2.0392935 ]]\n",
      "     calculated output: [[ 0.21831429  0.98424405  0.74472153 -0.9922317 ]]\n",
      "     SimpleRNN output:   [ 0.21831429  0.98424405  0.74472153 -0.9922317 ]\n",
      "\n",
      "time step 3 =>\n",
      "     input             : [[4. 4. 4. 4. 4. 4. 4.]]\n",
      "     hidden           : [[ 0.05183589  4.8890195   1.3095982  -2.719058  ]]\n",
      "     calculated output: [[ 0.07797097  0.9982085   0.84261703 -0.9982518 ]]\n",
      "     SimpleRNN output:   [ 0.07797097  0.9982085   0.84261703 -0.9982518 ]\n",
      "\n",
      "time step 4 =>\n",
      "     input             : [[5. 5. 5. 5. 5. 5. 5.]]\n",
      "     hidden           : [[ 0.06479502  6.1112747   1.6369979  -3.3988228 ]]\n",
      "     calculated output: [[-0.02529212  0.9998485   0.9244288  -0.99963933]]\n",
      "     SimpleRNN output:   [-0.02529212  0.9998485   0.9244288  -0.99963933]\n",
      "\n"
     ]
    },
    {
     "data": {
      "image/png": "[encoded data removed]",
      "text/plain": [
       "<Figure size 720x360 with 1 Axes>"
      ]
     },
     "metadata": {
      "needs_background": "light"
     },
     "output_type": "display_data"
    }
   ],
   "source": [
    "x_seq=tf.convert_to_tensor(\n",
    "    [[1.*(i+1)]*inputs for i in range(m)],\n",
    "    dtype=tf.float32)\n",
    "compare_calc(rnn_layer74,x_seq)"
   ]
  },
  {
   "cell_type": "code",
   "execution_count": 26,
   "metadata": {
    "_kg_hide-output": true,
    "execution": {
     "iopub.execute_input": "2020-09-25T21:44:34.931373Z",
     "iopub.status.busy": "2020-09-25T21:44:34.930484Z",
     "iopub.status.idle": "2020-09-25T21:44:35.061662Z",
     "shell.execute_reply": "2020-09-25T21:44:35.061164Z"
    },
    "papermill": {
     "duration": 0.182786,
     "end_time": "2020-09-25T21:44:35.061795",
     "exception": false,
     "start_time": "2020-09-25T21:44:34.879009",
     "status": "completed"
    },
    "tags": []
   },
   "outputs": [
    {
     "name": "stdout",
     "output_type": "stream",
     "text": [
      "Model: \"simple_rnn_structure\"\n",
      "_________________________________________________________________\n",
      "Layer (type)                 Output Shape              Param #   \n",
      "=================================================================\n",
      "embedding (Embedding)        (None, None, 32)          32000     \n",
      "_________________________________________________________________\n",
      "simple_rnn_1 (SimpleRNN)     (None, None, 32)          2080      \n",
      "_________________________________________________________________\n",
      "simple_rnn_2 (SimpleRNN)     (None, 32)                2080      \n",
      "_________________________________________________________________\n",
      "dense (Dense)                (None, 1)                 33        \n",
      "=================================================================\n",
      "Total params: 36,193\n",
      "Trainable params: 36,193\n",
      "Non-trainable params: 0\n",
      "_________________________________________________________________\n"
     ]
    }
   ],
   "source": [
    "model=tf.keras.Sequential(\n",
    "    name='simple_rnn_structure')\n",
    "model.add(tkl.Embedding(1000,32))\n",
    "model.add(\n",
    "    tkl.SimpleRNN(32,return_sequences=True))\n",
    "model.add(tkl.SimpleRNN(32))\n",
    "model.add(tkl.Dense(1))\n",
    "model.summary()"
   ]
  },
  {
   "cell_type": "code",
   "execution_count": 27,
   "metadata": {
    "_kg_hide-output": true,
    "execution": {
     "iopub.execute_input": "2020-09-25T21:44:35.161897Z",
     "iopub.status.busy": "2020-09-25T21:44:35.161232Z",
     "iopub.status.idle": "2020-09-25T21:44:35.877932Z",
     "shell.execute_reply": "2020-09-25T21:44:35.877307Z"
    },
    "papermill": {
     "duration": 0.770457,
     "end_time": "2020-09-25T21:44:35.878058",
     "exception": false,
     "start_time": "2020-09-25T21:44:35.107601",
     "status": "completed"
    },
    "tags": []
   },
   "outputs": [
    {
     "name": "stdout",
     "output_type": "stream",
     "text": [
      "Model: \"lstm_structure\"\n",
      "_________________________________________________________________\n",
      "Layer (type)                 Output Shape              Param #   \n",
      "=================================================================\n",
      "embedding_1 (Embedding)      (None, None, 32)          320000    \n",
      "_________________________________________________________________\n",
      "lstm (LSTM)                  (None, None, 32)          8320      \n",
      "_________________________________________________________________\n",
      "lstm_1 (LSTM)                (None, 32)                8320      \n",
      "_________________________________________________________________\n",
      "dense_1 (Dense)              (None, 1)                 33        \n",
      "=================================================================\n",
      "Total params: 336,673\n",
      "Trainable params: 336,673\n",
      "Non-trainable params: 0\n",
      "_________________________________________________________________\n"
     ]
    }
   ],
   "source": [
    "model=tf.keras.Sequential(\n",
    "    name='lstm_structure')\n",
    "model.add(tkl.Embedding(10000,32))\n",
    "model.add(\n",
    "    tkl.LSTM(32,return_sequences=True))\n",
    "model.add(tkl.LSTM(32))\n",
    "model.add(tkl.Dense(1))\n",
    "model.summary()"
   ]
  },
  {
   "cell_type": "code",
   "execution_count": 28,
   "metadata": {
    "_kg_hide-output": true,
    "execution": {
     "iopub.execute_input": "2020-09-25T21:44:35.976982Z",
     "iopub.status.busy": "2020-09-25T21:44:35.976028Z",
     "iopub.status.idle": "2020-09-25T21:44:36.401270Z",
     "shell.execute_reply": "2020-09-25T21:44:36.401929Z"
    },
    "papermill": {
     "duration": 0.478634,
     "end_time": "2020-09-25T21:44:36.402103",
     "exception": false,
     "start_time": "2020-09-25T21:44:35.923469",
     "status": "completed"
    },
    "tags": []
   },
   "outputs": [
    {
     "name": "stdout",
     "output_type": "stream",
     "text": [
      "Model: \"gru_structure\"\n",
      "_________________________________________________________________\n",
      "Layer (type)                 Output Shape              Param #   \n",
      "=================================================================\n",
      "embedding_2 (Embedding)      (None, None, 32)          320000    \n",
      "_________________________________________________________________\n",
      "gru (GRU)                    (None, None, 32)          6336      \n",
      "_________________________________________________________________\n",
      "gru_1 (GRU)                  (None, 32)                6336      \n",
      "_________________________________________________________________\n",
      "dense_2 (Dense)              (None, 1)                 33        \n",
      "=================================================================\n",
      "Total params: 332,705\n",
      "Trainable params: 332,705\n",
      "Non-trainable params: 0\n",
      "_________________________________________________________________\n"
     ]
    }
   ],
   "source": [
    "model=tf.keras.Sequential(\n",
    "    name='gru_structure')\n",
    "model.add(tkl.Embedding(10000,32))\n",
    "model.add(\n",
    "    tkl.GRU(32,return_sequences=True))\n",
    "model.add(tkl.GRU(32))\n",
    "model.add(tkl.Dense(1))\n",
    "model.summary()"
   ]
  },
  {
   "cell_type": "code",
   "execution_count": 29,
   "metadata": {
    "_kg_hide-input": true,
    "execution": {
     "iopub.execute_input": "2020-09-25T21:44:36.508892Z",
     "iopub.status.busy": "2020-09-25T21:44:36.508181Z",
     "iopub.status.idle": "2020-09-25T21:44:36.514893Z",
     "shell.execute_reply": "2020-09-25T21:44:36.514246Z"
    },
    "papermill": {
     "duration": 0.061361,
     "end_time": "2020-09-25T21:44:36.515042",
     "exception": false,
     "start_time": "2020-09-25T21:44:36.453681",
     "status": "completed"
    },
    "tags": []
   },
   "outputs": [
    {
     "data": {
      "text/html": [
       "<style>\n",
       "    @import 'https://fonts.googleapis.com/css?family=Akronim&effect=3d-float';</style>\n",
       "    <h1 class='font-effect-3d-float' style='font-family:Akronim; color:#11ff66; font-size:30px;'>Predicting Sentiments</h1>"
      ],
      "text/plain": [
       "<IPython.core.display.HTML object>"
      ]
     },
     "metadata": {},
     "output_type": "display_data"
    }
   ],
   "source": [
    "dhtml('Predicting Sentiments')"
   ]
  },
  {
   "cell_type": "code",
   "execution_count": 30,
   "metadata": {
    "execution": {
     "iopub.execute_input": "2020-09-25T21:44:36.624615Z",
     "iopub.status.busy": "2020-09-25T21:44:36.623466Z",
     "iopub.status.idle": "2020-09-25T21:44:36.628485Z",
     "shell.execute_reply": "2020-09-25T21:44:36.628012Z"
    },
    "papermill": {
     "duration": 0.063944,
     "end_time": "2020-09-25T21:44:36.628585",
     "exception": false,
     "start_time": "2020-09-25T21:44:36.564641",
     "status": "completed"
    },
    "tags": []
   },
   "outputs": [
    {
     "data": {
      "text/html": [
       "<style>\n",
       "    @import 'https://fonts.googleapis.com/css?family=Smokum&effect=3d-float';</style>\n",
       "    <h1 class='font-effect-3d-float' style='font-family:Smokum; color:#6611ff; font-size:15px;'>i ve seen this movie twice on international film festival the is in competition and really hope that will get one of awards at least best image award br as a silent</h1>"
      ],
      "text/plain": [
       "<IPython.core.display.HTML object>"
      ]
     },
     "metadata": {},
     "output_type": "display_data"
    }
   ],
   "source": [
    "dhtml(' '.join(\n",
    "    [list(token_counts)[i]\n",
    "     for i in range(32)]),c2,f2,fs2)"
   ]
  },
  {
   "cell_type": "code",
   "execution_count": 31,
   "metadata": {
    "execution": {
     "iopub.execute_input": "2020-09-25T21:44:36.737507Z",
     "iopub.status.busy": "2020-09-25T21:44:36.732385Z",
     "iopub.status.idle": "2020-09-25T21:44:37.237984Z",
     "shell.execute_reply": "2020-09-25T21:44:37.237361Z"
    },
    "papermill": {
     "duration": 0.562539,
     "end_time": "2020-09-25T21:44:37.238115",
     "exception": false,
     "start_time": "2020-09-25T21:44:36.675576",
     "status": "completed"
    },
    "tags": []
   },
   "outputs": [],
   "source": [
    "embedding_dim=32\n",
    "vocabulary_size=len(token_counts)+2\n",
    "model=tf.keras.Sequential(\n",
    "    name='bi_lstm_model')\n",
    "model.add(tkl.Embedding(\n",
    "    input_dim=vocabulary_size,\n",
    "    output_dim=embedding_dim,\n",
    "    name='embedding_layer'))\n",
    "model.add(tkl.Bidirectional(\n",
    "    tkl.LSTM(64,name='lstm_layer'),\n",
    "    name='bidirect_lstm_layer'))\n",
    "model.add(tkl.Dense(64,activation='relu',\n",
    "                    name='dense_64'))\n",
    "model.add(tkl.Dense(1,activation='sigmoid',\n",
    "                    name='out'))\n",
    "optimizer=tf.keras.optimizers.Adam(1e-3)\n",
    "loss_fun=tf.keras.losses\\\n",
    ".BinaryCrossentropy(from_logits=False)\n",
    "model.compile(\n",
    "    optimizer=optimizer,loss=loss_fun,\n",
    "    metrics=['accuracy'])"
   ]
  },
  {
   "cell_type": "code",
   "execution_count": 32,
   "metadata": {
    "_kg_hide-output": true,
    "execution": {
     "iopub.execute_input": "2020-09-25T21:44:37.339137Z",
     "iopub.status.busy": "2020-09-25T21:44:37.338517Z",
     "iopub.status.idle": "2020-09-25T21:52:16.200746Z",
     "shell.execute_reply": "2020-09-25T21:52:16.202200Z"
    },
    "papermill": {
     "duration": 458.91601,
     "end_time": "2020-09-25T21:52:16.202528",
     "exception": false,
     "start_time": "2020-09-25T21:44:37.286518",
     "status": "completed"
    },
    "tags": []
   },
   "outputs": [
    {
     "name": "stdout",
     "output_type": "stream",
     "text": [
      "Epoch 1/5\n",
      "932/932 [==============================] - 90s 97ms/step - loss: 0.4841 - accuracy: 0.7604 - val_loss: 0.6908 - val_accuracy: 0.5276\n",
      "Epoch 2/5\n",
      "932/932 [==============================] - 89s 95ms/step - loss: 0.6444 - accuracy: 0.6293 - val_loss: 0.6786 - val_accuracy: 0.5078\n",
      "Epoch 3/5\n",
      "932/932 [==============================] - 90s 97ms/step - loss: 0.4893 - accuracy: 0.7692 - val_loss: 0.4596 - val_accuracy: 0.7967\n",
      "Epoch 4/5\n",
      "932/932 [==============================] - 90s 97ms/step - loss: 0.4415 - accuracy: 0.8037 - val_loss: 0.4219 - val_accuracy: 0.8263\n",
      "Epoch 5/5\n",
      "932/932 [==============================] - 91s 97ms/step - loss: 0.3633 - accuracy: 0.8489 - val_loss: 0.3950 - val_accuracy: 0.8293\n"
     ]
    }
   ],
   "source": [
    "history=model.fit(\n",
    "    train_data,epochs=5,\n",
    "    validation_data=valid_data)"
   ]
  },
  {
   "cell_type": "code",
   "execution_count": 33,
   "metadata": {
    "execution": {
     "iopub.execute_input": "2020-09-25T21:52:19.653160Z",
     "iopub.status.busy": "2020-09-25T21:52:19.652360Z",
     "iopub.status.idle": "2020-09-25T21:52:34.179094Z",
     "shell.execute_reply": "2020-09-25T21:52:34.178522Z"
    },
    "papermill": {
     "duration": 16.268929,
     "end_time": "2020-09-25T21:52:34.179209",
     "exception": false,
     "start_time": "2020-09-25T21:52:17.910280",
     "status": "completed"
    },
    "tags": []
   },
   "outputs": [
    {
     "name": "stdout",
     "output_type": "stream",
     "text": [
      "313/313 [==============================] - 14s 46ms/step - loss: 0.3933 - accuracy: 0.8281\n"
     ]
    },
    {
     "data": {
      "text/plain": [
       "[0.39330142736434937, 0.8281000256538391]"
      ]
     },
     "execution_count": 33,
     "metadata": {},
     "output_type": "execute_result"
    }
   ],
   "source": [
    "model.evaluate(test_data)"
   ]
  },
  {
   "cell_type": "code",
   "execution_count": 34,
   "metadata": {
    "_kg_hide-input": true,
    "execution": {
     "iopub.execute_input": "2020-09-25T21:52:38.060432Z",
     "iopub.status.busy": "2020-09-25T21:52:38.059637Z",
     "iopub.status.idle": "2020-09-25T21:52:38.063414Z",
     "shell.execute_reply": "2020-09-25T21:52:38.063910Z"
    },
    "papermill": {
     "duration": 1.842873,
     "end_time": "2020-09-25T21:52:38.064067",
     "exception": false,
     "start_time": "2020-09-25T21:52:36.221194",
     "status": "completed"
    },
    "tags": []
   },
   "outputs": [
    {
     "data": {
      "text/html": [
       "<style>\n",
       "    @import 'https://fonts.googleapis.com/css?family=Akronim&effect=3d-float';</style>\n",
       "    <h1 class='font-effect-3d-float' style='font-family:Akronim; color:#11ff66; font-size:30px;'>Functions in Construction Process</h1>"
      ],
      "text/plain": [
       "<IPython.core.display.HTML object>"
      ]
     },
     "metadata": {},
     "output_type": "display_data"
    }
   ],
   "source": [
    "dhtml('Functions in Construction Process')"
   ]
  },
  {
   "cell_type": "code",
   "execution_count": 35,
   "metadata": {
    "_kg_hide-input": true,
    "execution": {
     "iopub.execute_input": "2020-09-25T21:52:41.850182Z",
     "iopub.status.busy": "2020-09-25T21:52:41.848049Z",
     "iopub.status.idle": "2020-09-25T21:52:41.850902Z",
     "shell.execute_reply": "2020-09-25T21:52:41.851573Z"
    },
    "papermill": {
     "duration": 1.980201,
     "end_time": "2020-09-25T21:52:41.851745",
     "exception": false,
     "start_time": "2020-09-25T21:52:39.871544",
     "status": "completed"
    },
    "tags": []
   },
   "outputs": [],
   "source": [
    "def preprocess_datasets(\n",
    "    ds_train,ds_valid,ds_test,\n",
    "    max_seq_len=None,batch_size=32):\n",
    "    tokenizer=tfds.features.text.Tokenizer()\n",
    "    token_counts=Counter()\n",
    "    for ds in [ds_train,ds_valid,ds_test]:\n",
    "        for example in ds:\n",
    "            tokens=tokenizer.tokenize(\n",
    "                example[0].numpy())\n",
    "            if max_seq_len is not None:\n",
    "                tokens=tokens[-max_seq_len:]\n",
    "            token_counts.update(tokens)\n",
    "    print('vocabulary size: ',len(token_counts))\n",
    "    encoder=tfds.features.text\\\n",
    "    .TokenTextEncoder(token_counts)\n",
    "    def encode(text_tensor,label):\n",
    "        text=text_tensor.numpy()\n",
    "        encoded_text=encoder.encode(text)\n",
    "        if max_seq_len is not None:\n",
    "            encoded_text=encoded_text[-max_seq_len:]\n",
    "        return encoded_text,label\n",
    "    def encode_fmap(text,label):\n",
    "        return tf.py_function(\n",
    "            encode,inp=[text,label], \n",
    "            Tout=(tf.int64,tf.int64))\n",
    "    train=ds_train.map(encode_fmap)\n",
    "    valid=ds_valid.map(encode_fmap)\n",
    "    test=ds_test.map(encode_fmap)\n",
    "    train_data=train.padded_batch(\n",
    "        batch_size,padded_shapes=([-1],[]))\n",
    "    valid_data=valid.padded_batch(\n",
    "        batch_size,padded_shapes=([-1],[]))\n",
    "    test_data=test.padded_batch(\n",
    "        batch_size,padded_shapes=([-1],[]))\n",
    "    return (train_data,valid_data,test_data,\n",
    "            len(token_counts))"
   ]
  },
  {
   "cell_type": "code",
   "execution_count": 36,
   "metadata": {
    "_kg_hide-input": true,
    "execution": {
     "iopub.execute_input": "2020-09-25T21:52:45.439058Z",
     "iopub.status.busy": "2020-09-25T21:52:45.438180Z",
     "iopub.status.idle": "2020-09-25T21:52:45.442145Z",
     "shell.execute_reply": "2020-09-25T21:52:45.441570Z"
    },
    "papermill": {
     "duration": 1.794389,
     "end_time": "2020-09-25T21:52:45.442260",
     "exception": false,
     "start_time": "2020-09-25T21:52:43.647871",
     "status": "completed"
    },
    "tags": []
   },
   "outputs": [],
   "source": [
    "def build_rnn_model(\n",
    "    embedding_dim,vocabulary_size,\n",
    "    recurrent_type='SimpleRNN',\n",
    "    n_rnn_units=64,n_rnn_layers=1,\n",
    "    bidirect=True):\n",
    "    tf.random.set_seed(123)\n",
    "    model=tf.keras.Sequential()\n",
    "    model.add(tkl.Embedding(\n",
    "        input_dim=vocabulary_size,\n",
    "        output_dim=embedding_dim,\n",
    "        name='embedding_layer'))\n",
    "    for i in range(n_rnn_layers):\n",
    "        return_sequences=(i<n_rnn_layers-1)    \n",
    "        if recurrent_type=='SimpleRNN':\n",
    "            recurrent_layer=tkl.SimpleRNN(\n",
    "                units=n_rnn_units, \n",
    "                return_sequences=return_sequences,\n",
    "                name='simple_rnn_layer{}'.format(i))\n",
    "        elif recurrent_type=='LSTM':\n",
    "            recurrent_layer=tkl.LSTM(\n",
    "                units=n_rnn_units, \n",
    "                return_sequences=return_sequences,\n",
    "                name='lstm_layer{}'.format(i))\n",
    "        elif recurrent_type=='GRU':\n",
    "            recurrent_layer=tkl.GRU(\n",
    "                units=n_rnn_units, \n",
    "                return_seq=return_sequences,\n",
    "                name='gru_layer{}'.format(i))     \n",
    "        if bidirect:\n",
    "            recurrent_layer=tkl.Bidirectional(\n",
    "                recurrent_layer,\n",
    "                name='bidirect_'+recurrent_layer.name)       \n",
    "        model.add(recurrent_layer)\n",
    "    model.add(tkl.Dense(64,activation='relu'))\n",
    "    model.add(tkl.Dense(1,activation='sigmoid'))\n",
    "    return model"
   ]
  },
  {
   "cell_type": "code",
   "execution_count": 37,
   "metadata": {
    "execution": {
     "iopub.execute_input": "2020-09-25T21:52:49.777636Z",
     "iopub.status.busy": "2020-09-25T21:52:49.776645Z",
     "iopub.status.idle": "2020-09-25T21:53:05.767871Z",
     "shell.execute_reply": "2020-09-25T21:53:05.768540Z"
    },
    "papermill": {
     "duration": 17.830916,
     "end_time": "2020-09-25T21:53:05.768697",
     "exception": false,
     "start_time": "2020-09-25T21:52:47.937781",
     "status": "completed"
    },
    "tags": []
   },
   "outputs": [
    {
     "name": "stdout",
     "output_type": "stream",
     "text": [
      "vocabulary size:  9807\n"
     ]
    }
   ],
   "source": [
    "batch_size=32\n",
    "max_seq_len=100\n",
    "train_data,valid_data,test_data,n=\\\n",
    "preprocess_datasets(\n",
    "    ds_train,ds_valid,ds_test,\n",
    "    max_seq_len=max_seq_len,\n",
    "    batch_size=batch_size)"
   ]
  },
  {
   "cell_type": "code",
   "execution_count": 38,
   "metadata": {
    "_kg_hide-output": true,
    "execution": {
     "iopub.execute_input": "2020-09-25T21:53:09.623736Z",
     "iopub.status.busy": "2020-09-25T21:53:09.622584Z",
     "iopub.status.idle": "2020-09-25T21:53:09.984290Z",
     "shell.execute_reply": "2020-09-25T21:53:09.983559Z"
    },
    "papermill": {
     "duration": 2.430583,
     "end_time": "2020-09-25T21:53:09.984418",
     "exception": false,
     "start_time": "2020-09-25T21:53:07.553835",
     "status": "completed"
    },
    "tags": []
   },
   "outputs": [
    {
     "name": "stdout",
     "output_type": "stream",
     "text": [
      "Model: \"sequential\"\n",
      "_________________________________________________________________\n",
      "Layer (type)                 Output Shape              Param #   \n",
      "=================================================================\n",
      "embedding_layer (Embedding)  (None, None, 32)          313888    \n",
      "_________________________________________________________________\n",
      "bidirect_simple_rnn_layer0 ( (None, None, 128)         12416     \n",
      "_________________________________________________________________\n",
      "bidirect_simple_rnn_layer1 ( (None, None, 128)         24704     \n",
      "_________________________________________________________________\n",
      "bidirect_simple_rnn_layer2 ( (None, 128)               24704     \n",
      "_________________________________________________________________\n",
      "dense_3 (Dense)              (None, 64)                8256      \n",
      "_________________________________________________________________\n",
      "dense_4 (Dense)              (None, 1)                 65        \n",
      "=================================================================\n",
      "Total params: 384,033\n",
      "Trainable params: 384,033\n",
      "Non-trainable params: 0\n",
      "_________________________________________________________________\n"
     ]
    }
   ],
   "source": [
    "vocabulary_size=n+2\n",
    "embedding_dim=32\n",
    "rnn_model=build_rnn_model(\n",
    "    embedding_dim,vocabulary_size,\n",
    "    recurrent_type='SimpleRNN', \n",
    "    n_rnn_units=64,n_rnn_layers=3,\n",
    "    bidirect=True)\n",
    "rnn_model.summary()"
   ]
  },
  {
   "cell_type": "code",
   "execution_count": 39,
   "metadata": {
    "_kg_hide-output": true,
    "execution": {
     "iopub.execute_input": "2020-09-25T21:53:13.779113Z",
     "iopub.status.busy": "2020-09-25T21:53:13.778080Z",
     "iopub.status.idle": "2020-09-25T23:08:49.724205Z",
     "shell.execute_reply": "2020-09-25T23:08:49.725053Z"
    },
    "papermill": {
     "duration": 4537.870343,
     "end_time": "2020-09-25T23:08:49.725267",
     "exception": false,
     "start_time": "2020-09-25T21:53:11.854924",
     "status": "completed"
    },
    "tags": []
   },
   "outputs": [
    {
     "name": "stdout",
     "output_type": "stream",
     "text": [
      "Epoch 1/10\n",
      "932/932 [==============================] - 454s 487ms/step - loss: 0.6850 - accuracy: 0.5547 - val_loss: 0.6057 - val_accuracy: 0.6639\n",
      "Epoch 2/10\n",
      "932/932 [==============================] - 454s 488ms/step - loss: 0.4941 - accuracy: 0.7648 - val_loss: 0.5216 - val_accuracy: 0.7365\n",
      "Epoch 3/10\n",
      "932/932 [==============================] - 458s 492ms/step - loss: 0.3839 - accuracy: 0.8381 - val_loss: 0.4598 - val_accuracy: 0.8034\n",
      "Epoch 4/10\n",
      "932/932 [==============================] - 445s 478ms/step - loss: 0.3268 - accuracy: 0.8669 - val_loss: 0.4527 - val_accuracy: 0.8151\n",
      "Epoch 5/10\n",
      "932/932 [==============================] - 435s 467ms/step - loss: 0.3186 - accuracy: 0.8676 - val_loss: 0.5388 - val_accuracy: 0.7560\n",
      "Epoch 6/10\n",
      "932/932 [==============================] - 435s 466ms/step - loss: 0.3051 - accuracy: 0.8750 - val_loss: 0.4937 - val_accuracy: 0.8024\n",
      "Epoch 7/10\n",
      "932/932 [==============================] - 451s 484ms/step - loss: 0.2700 - accuracy: 0.8992 - val_loss: 0.5131 - val_accuracy: 0.8080\n",
      "Epoch 8/10\n",
      "932/932 [==============================] - 456s 490ms/step - loss: 0.3419 - accuracy: 0.8505 - val_loss: 0.5452 - val_accuracy: 0.7482\n",
      "Epoch 9/10\n",
      "932/932 [==============================] - 464s 498ms/step - loss: 0.4072 - accuracy: 0.8186 - val_loss: 0.4981 - val_accuracy: 0.7982\n",
      "Epoch 10/10\n",
      "932/932 [==============================] - 465s 498ms/step - loss: 0.3030 - accuracy: 0.8841 - val_loss: 0.5831 - val_accuracy: 0.7632\n"
     ]
    }
   ],
   "source": [
    "optimizer=tf.keras.optimizers.Adam(1e-3)\n",
    "loss_fun=tf.keras.losses\\\n",
    ".BinaryCrossentropy(from_logits=False)\n",
    "rnn_model.compile(\n",
    "    optimizer=optimizer,loss=loss_fun,\n",
    "    metrics=['accuracy'])\n",
    "history=rnn_model.fit(\n",
    "    train_data,epochs=10,\n",
    "    validation_data=valid_data)"
   ]
  },
  {
   "cell_type": "code",
   "execution_count": 40,
   "metadata": {
    "execution": {
     "iopub.execute_input": "2020-09-25T23:09:00.893833Z",
     "iopub.status.busy": "2020-09-25T23:09:00.892560Z",
     "iopub.status.idle": "2020-09-25T23:09:21.094452Z",
     "shell.execute_reply": "2020-09-25T23:09:21.095022Z"
    },
    "papermill": {
     "duration": 25.774788,
     "end_time": "2020-09-25T23:09:21.095174",
     "exception": false,
     "start_time": "2020-09-25T23:08:55.320386",
     "status": "completed"
    },
    "tags": []
   },
   "outputs": [
    {
     "name": "stdout",
     "output_type": "stream",
     "text": [
      "313/313 [==============================] - 20s 64ms/step - loss: 0.5727 - accuracy: 0.7628\n"
     ]
    },
    {
     "data": {
      "text/plain": [
       "[0.5726845264434814, 0.7627999782562256]"
      ]
     },
     "execution_count": 40,
     "metadata": {},
     "output_type": "execute_result"
    }
   ],
   "source": [
    "rnn_model.evaluate(test_data)"
   ]
  }
 ],
 "metadata": {
  "kernelspec": {
   "display_name": "Python 3",
   "language": "python",
   "name": "python3"
  },
  "language_info": {
   "codemirror_mode": {
    "name": "ipython",
    "version": 3
   },
   "file_extension": ".py",
   "mimetype": "text/x-python",
   "name": "python",
   "nbconvert_exporter": "python",
   "pygments_lexer": "ipython3",
   "version": "3.7.6"
  },
  "papermill": {
   "duration": 5137.266085,
   "end_time": "2020-09-25T23:09:28.396872",
   "environment_variables": {},
   "exception": null,
   "input_path": "__notebook__.ipynb",
   "output_path": "__notebook__.ipynb",
   "parameters": {},
   "start_time": "2020-09-25T21:43:51.130787",
   "version": "2.1.0"
  }
 },
 "nbformat": 4,
 "nbformat_minor": 4
}
