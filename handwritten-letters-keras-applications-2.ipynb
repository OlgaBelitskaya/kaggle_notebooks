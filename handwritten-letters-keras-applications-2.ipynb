{
 "cells": [
  {
   "cell_type": "markdown",
   "metadata": {
    "_uuid": "0dbbbd4323d94c207f1d543196496d1f642b4f71"
   },
   "source": [
    "<h1 class=\"font-effect-3d\" style=\"font-family:Sancreek; color:#39d4be;\">Code Modules, Styling, and Links</h1>\n",
    "\n",
    "#### [GitHub Repository](https://github.com/OlgaBelitskaya/deep_learning_projects/tree/master/DL_PP2) & [Colaboratory Version](https://colab.research.google.com/drive/1Z9Fz0OOi6bpWvH-H2OhExC9CkGPWBYZz)"
   ]
  },
  {
   "cell_type": "code",
   "execution_count": 1,
   "metadata": {
    "_cell_guid": "b1076dfc-b9ad-4769-8c92-a6c4dae69d19",
    "_kg_hide-input": true,
    "_uuid": "8f2839f25d086af736a60e9eeb907d3b93b6e0e5"
   },
   "outputs": [
    {
     "data": {
      "text/html": [
       "<style>\n",
       "@import url('https://fonts.googleapis.com/css?family=Sancreek|Roboto&effect=3d');\n",
       "span {font-family:Roboto; color:black; text-shadow:4px 4px 4px #aaa;}  \n",
       "a,h4,div.output_area pre{font-family:Roboto; font-size:120%; color:#39d4be;}      \n",
       "</style>"
      ],
      "text/plain": [
       "<IPython.core.display.HTML object>"
      ]
     },
     "metadata": {},
     "output_type": "display_data"
    }
   ],
   "source": [
    "%%html\n",
    "<style>\n",
    "@import url('https://fonts.googleapis.com/css?family=Sancreek|Roboto&effect=3d');\n",
    "span {font-family:Roboto; color:black; text-shadow:4px 4px 4px #aaa;}  \n",
    "a,h4,div.output_area pre{font-family:Roboto; font-size:120%; color:#39d4be;}      \n",
    "</style>"
   ]
  },
  {
   "cell_type": "code",
   "execution_count": 2,
   "metadata": {
    "_cell_guid": "79c7e3d0-c299-4dcb-8224-4455121ee9b0",
    "_uuid": "d629ff2d2480ee46fbb7e2d37f6b5fab8052498a"
   },
   "outputs": [
    {
     "name": "stderr",
     "output_type": "stream",
     "text": [
      "Using TensorFlow backend.\n"
     ]
    },
    {
     "name": "stdout",
     "output_type": "stream",
     "text": [
      "['classification-of-handwritten-letters', 'keras-applications-weights']\n"
     ]
    }
   ],
   "source": [
    "import warnings; warnings.filterwarnings('ignore')\n",
    "import numpy as np,pandas as pd \n",
    "import os,h5py,pylab as pl\n",
    "from sklearn.model_selection import train_test_split\n",
    "from keras.utils import to_categorical\n",
    "from scipy import misc\n",
    "from keras.callbacks import ModelCheckpoint,EarlyStopping\n",
    "from keras.callbacks import ReduceLROnPlateau\n",
    "from keras.models import Sequential,load_model\n",
    "from keras.layers import Dense,Dropout\n",
    "from keras.layers.advanced_activations import LeakyReLU\n",
    "from keras.layers import Conv2D,MaxPooling2D,GlobalAveragePooling2D\n",
    "from keras.applications.nasnet import NASNetLarge,NASNetMobile\n",
    "from keras.applications.nasnet import preprocess_input as nnpi\n",
    "print(os.listdir(\"../input\"))"
   ]
  },
  {
   "cell_type": "markdown",
   "metadata": {
    "_uuid": "36e4496d6d506c40bfdc5ac765ac156723dd405a"
   },
   "source": [
    "<h1 class=\"font-effect-3d\" style=\"font-family:Sancreek; color:#39d4be;\">Preprocess the Data</h1>"
   ]
  },
  {
   "cell_type": "code",
   "execution_count": 3,
   "metadata": {
    "_uuid": "e20d6c235b4e421601997776fd3c461da5dabbcd"
   },
   "outputs": [
    {
     "data": {
      "text/plain": [
       "[['backgrounds', 'images', 'labels'], [(2700,), (2700, 32, 32, 3), (2700,)]]"
      ]
     },
     "execution_count": 3,
     "metadata": {},
     "output_type": "execute_result"
    }
   ],
   "source": [
    "fpath=\"../input/classification-of-handwritten-letters/\"\n",
    "letters=u'абвгдеёжзийклмнопрстуфхцчшщъыьэюя'\n",
    "f=h5py.File(fpath+'LetterColorImages_123.h5','r')\n",
    "keys=list(f.keys()); n=2700\n",
    "backgrounds=np.array(f[keys[0]])[:n]\n",
    "images=np.array(f[keys[1]])[:n]/255\n",
    "labels=np.array(f[keys[2]])[:n]\n",
    "[keys,\n",
    " [backgrounds.shape,images.shape,labels.shape]]"
   ]
  },
  {
   "cell_type": "code",
   "execution_count": 4,
   "metadata": {
    "_uuid": "560edc33e3ae908484ce16a2d0fab876c28502e8"
   },
   "outputs": [
    {
     "name": "stdout",
     "output_type": "stream",
     "text": [
      "Label:  в\n"
     ]
    },
    {
     "data": {
      "image/png": "[encoded data removed]",
      "text/plain": [
       "<matplotlib.figure.Figure at 0x7fa1fbd5b7f0>"
      ]
     },
     "metadata": {},
     "output_type": "display_data"
    }
   ],
   "source": [
    "ri=np.random.randint(n)\n",
    "print('Label: ', letters[labels[ri]-1])\n",
    "pl.figure(figsize=(3,3))\n",
    "pl.imshow(images[ri]); pl.show()"
   ]
  },
  {
   "cell_type": "code",
   "execution_count": 5,
   "metadata": {
    "_uuid": "bbf3eead40c18a4216beaa5b2345b46d482fbbad"
   },
   "outputs": [
    {
     "name": "stdout",
     "output_type": "stream",
     "text": [
      "{1, 2, 3, 4, 5, 6, 7, 8, 9, 10, 11, 12, 13, 14, 15, 16, 17, 18, 19, 20, 21, 22, 23, 24, 25, 26, 27, 28, 29, 30, 31, 32, 33}\n",
      "{а, б, в, г, д ,е, ё, ж, з, и, й, к, л, м, н, о, п, р, с, т, у, ф, х, ц, ч, ш, щ, ъ, ы, ь, э, ю, я}\n"
     ]
    }
   ],
   "source": [
    "print(set(labels))\n",
    "print(\"{а, б, в, г, д ,е, ё, ж, з, и, й, к, л, м, н, о, п, \"+\\\n",
    "      \"р, с, т, у, ф, х, ц, ч, ш, щ, ъ, ы, ь, э, ю, я}\")"
   ]
  },
  {
   "cell_type": "code",
   "execution_count": 6,
   "metadata": {
    "_uuid": "65e3feb3bf9cab299cdc8afa985e654334be7093"
   },
   "outputs": [
    {
     "data": {
      "text/plain": [
       "(2700, 33)"
      ]
     },
     "execution_count": 6,
     "metadata": {},
     "output_type": "execute_result"
    }
   ],
   "source": [
    "# one-hot encoding the labels, started from the zero label\n",
    "cat_labels=to_categorical(np.array(labels-1),33)\n",
    "cat_labels.shape"
   ]
  },
  {
   "cell_type": "code",
   "execution_count": 7,
   "metadata": {
    "_uuid": "addcf9da32b2a8570a917f6eea680ac5df1c1c18"
   },
   "outputs": [
    {
     "name": "stdout",
     "output_type": "stream",
     "text": [
      "[(2160, 32, 32, 3), (270, 32, 32, 3), (270, 32, 32, 3), (2160, 33), (270, 33), (270, 33)]\n"
     ]
    }
   ],
   "source": [
    "# splitting the data\n",
    "x_train,x_test,y_train,y_test=\\\n",
    "train_test_split(images,cat_labels,test_size=.2,random_state=1)\n",
    "m=int(len(x_test)/2)\n",
    "x_valid,y_valid=x_test[:m],y_test[:m]\n",
    "x_test,y_test=x_test[m:],y_test[m:]\n",
    "print([x_train.shape,x_valid.shape,x_test.shape,\n",
    "       y_train.shape,y_valid.shape,y_test.shape])"
   ]
  },
  {
   "cell_type": "code",
   "execution_count": 8,
   "metadata": {
    "_uuid": "b7727c24cb5e4c84b5b260293dc1e36015ef377d",
    "collapsed": true
   },
   "outputs": [],
   "source": [
    "del images,labels,cat_labels,backgrounds"
   ]
  },
  {
   "cell_type": "markdown",
   "metadata": {
    "_kg_hide-input": false,
    "_uuid": "be76cfd108a1a6a7d6b9c9a308e2d25c12141674"
   },
   "source": [
    "<h1 class=\"font-effect-3d\" style=\"font-family:Sancreek; color:#39d4be;\">Classification Models</h1>\n",
    "#### NASnetLarge"
   ]
  },
  {
   "cell_type": "code",
   "execution_count": 9,
   "metadata": {
    "_uuid": "7aa251f0368b2b9b1380f90f8961434c87d69d8c",
    "collapsed": true
   },
   "outputs": [],
   "source": [
    "# creating bottleneck features\n",
    "x_train=np.array([misc.imresize(x_train[i],(331,331,3)) \n",
    "                  for i in range(0,len(x_train))]).astype('float32')\n",
    "x_valid=np.array([misc.imresize(x_valid[i],(331,331,3)) \n",
    "                  for i in range(0,len(x_valid))]).astype('float32')\n",
    "x_test=np.array([misc.imresize(x_test[i],(331,331,3)) \n",
    "                 for i in range(0,len(x_test))]).astype('float32')\n",
    "x_train=nnpi(x_train)\n",
    "x_valid=nnpi(x_valid)\n",
    "x_test=nnpi(x_test)\n",
    "fn=\"../input/keras-applications-weights/nasnet_large_no_top.h5\"\n",
    "nasnet_base_model=NASNetLarge(weights=fn,include_top=False)\n",
    "x_train=nasnet_base_model.predict(x_train)\n",
    "x_valid=nasnet_base_model.predict(x_valid)\n",
    "x_test=nasnet_base_model.predict(x_test)"
   ]
  },
  {
   "cell_type": "code",
   "execution_count": 10,
   "metadata": {
    "_uuid": "1b73902d41784f4614b6272c32c21ce0f3dd6773",
    "collapsed": true
   },
   "outputs": [],
   "source": [
    "def nasnet_model():\n",
    "    model = Sequential()   \n",
    "    model.add(GlobalAveragePooling2D(input_shape=x_train.shape[1:]))    \n",
    "    model.add(Dense(2048))\n",
    "    model.add(LeakyReLU(alpha=.02))\n",
    "    model.add(Dropout(.5))        \n",
    "    model.add(Dense(256))\n",
    "    model.add(LeakyReLU(alpha=.02))\n",
    "    model.add(Dropout(.5))    \n",
    "    model.add(Dense(33,activation='softmax'))     \n",
    "    model.compile(loss='categorical_crossentropy',\n",
    "                  optimizer='nadam',metrics=['accuracy'])\n",
    "    return model\n",
    "nasnet_model=nasnet_model()"
   ]
  },
  {
   "cell_type": "code",
   "execution_count": 11,
   "metadata": {
    "_kg_hide-output": true,
    "_uuid": "251a9cabab34c1c5c4083fe8285acdfa93dec8f2"
   },
   "outputs": [
    {
     "name": "stdout",
     "output_type": "stream",
     "text": [
      "Train on 2160 samples, validate on 270 samples\n",
      "Epoch 1/100\n",
      " - 13s - loss: 3.1884 - acc: 0.1542 - val_loss: 2.4896 - val_acc: 0.2741\n",
      "\n",
      "Epoch 00001: val_loss improved from inf to 2.48956, saving model to weights.best.nasnet.hdf5\n",
      "Epoch 2/100\n",
      " - 7s - loss: 2.5294 - acc: 0.2847 - val_loss: 2.4833 - val_acc: 0.3074\n",
      "\n",
      "Epoch 00002: val_loss improved from 2.48956 to 2.48329, saving model to weights.best.nasnet.hdf5\n",
      "Epoch 3/100\n",
      " - 7s - loss: 2.3555 - acc: 0.3218 - val_loss: 2.2034 - val_acc: 0.3667\n",
      "\n",
      "Epoch 00003: val_loss improved from 2.48329 to 2.20338, saving model to weights.best.nasnet.hdf5\n",
      "Epoch 4/100\n",
      " - 7s - loss: 2.1490 - acc: 0.3741 - val_loss: 2.1187 - val_acc: 0.3481\n",
      "\n",
      "Epoch 00004: val_loss improved from 2.20338 to 2.11866, saving model to weights.best.nasnet.hdf5\n",
      "Epoch 5/100\n",
      " - 7s - loss: 1.9972 - acc: 0.3991 - val_loss: 1.8842 - val_acc: 0.4556\n",
      "\n",
      "Epoch 00005: val_loss improved from 2.11866 to 1.88416, saving model to weights.best.nasnet.hdf5\n",
      "Epoch 6/100\n",
      " - 7s - loss: 1.8378 - acc: 0.4472 - val_loss: 1.9022 - val_acc: 0.4370\n",
      "\n",
      "Epoch 00006: val_loss did not improve\n",
      "Epoch 7/100\n",
      " - 7s - loss: 1.7616 - acc: 0.4569 - val_loss: 1.8131 - val_acc: 0.4963\n",
      "\n",
      "Epoch 00007: val_loss improved from 1.88416 to 1.81312, saving model to weights.best.nasnet.hdf5\n",
      "Epoch 8/100\n",
      " - 7s - loss: 1.6159 - acc: 0.5157 - val_loss: 1.8011 - val_acc: 0.4778\n",
      "\n",
      "Epoch 00008: val_loss improved from 1.81312 to 1.80112, saving model to weights.best.nasnet.hdf5\n",
      "Epoch 9/100\n",
      " - 7s - loss: 1.4940 - acc: 0.5486 - val_loss: 1.7305 - val_acc: 0.4889\n",
      "\n",
      "Epoch 00009: val_loss improved from 1.80112 to 1.73047, saving model to weights.best.nasnet.hdf5\n",
      "Epoch 10/100\n",
      " - 7s - loss: 1.4070 - acc: 0.5639 - val_loss: 1.7389 - val_acc: 0.4889\n",
      "\n",
      "Epoch 00010: val_loss did not improve\n",
      "Epoch 11/100\n",
      " - 7s - loss: 1.3014 - acc: 0.5861 - val_loss: 1.5798 - val_acc: 0.5481\n",
      "\n",
      "Epoch 00011: val_loss improved from 1.73047 to 1.57977, saving model to weights.best.nasnet.hdf5\n",
      "Epoch 12/100\n",
      " - 7s - loss: 1.2167 - acc: 0.6167 - val_loss: 1.6245 - val_acc: 0.5407\n",
      "\n",
      "Epoch 00012: val_loss did not improve\n",
      "Epoch 13/100\n",
      " - 7s - loss: 1.1976 - acc: 0.6236 - val_loss: 1.6578 - val_acc: 0.5407\n",
      "\n",
      "Epoch 00013: val_loss did not improve\n",
      "Epoch 14/100\n",
      " - 7s - loss: 1.1039 - acc: 0.6505 - val_loss: 1.5649 - val_acc: 0.5778\n",
      "\n",
      "Epoch 00014: val_loss improved from 1.57977 to 1.56492, saving model to weights.best.nasnet.hdf5\n",
      "Epoch 15/100\n",
      " - 7s - loss: 1.0584 - acc: 0.6662 - val_loss: 1.6063 - val_acc: 0.5519\n",
      "\n",
      "Epoch 00015: val_loss did not improve\n",
      "Epoch 16/100\n",
      " - 7s - loss: 0.9553 - acc: 0.6912 - val_loss: 1.6505 - val_acc: 0.5519\n",
      "\n",
      "Epoch 00016: val_loss did not improve\n",
      "Epoch 17/100\n",
      " - 7s - loss: 0.9281 - acc: 0.7069 - val_loss: 1.5293 - val_acc: 0.5852\n",
      "\n",
      "Epoch 00017: val_loss improved from 1.56492 to 1.52933, saving model to weights.best.nasnet.hdf5\n",
      "Epoch 18/100\n",
      " - 7s - loss: 0.8846 - acc: 0.7171 - val_loss: 1.5539 - val_acc: 0.5407\n",
      "\n",
      "Epoch 00018: val_loss did not improve\n",
      "Epoch 19/100\n",
      " - 7s - loss: 0.8504 - acc: 0.7333 - val_loss: 1.6861 - val_acc: 0.5333\n",
      "\n",
      "Epoch 00019: val_loss did not improve\n",
      "Epoch 20/100\n",
      " - 7s - loss: 0.7673 - acc: 0.7463 - val_loss: 1.6351 - val_acc: 0.5815\n",
      "\n",
      "Epoch 00020: val_loss did not improve\n",
      "Epoch 21/100\n",
      " - 8s - loss: 0.7466 - acc: 0.7611 - val_loss: 1.7674 - val_acc: 0.5630\n",
      "\n",
      "Epoch 00021: val_loss did not improve\n",
      "Epoch 22/100\n",
      " - 7s - loss: 0.7351 - acc: 0.7644 - val_loss: 1.5794 - val_acc: 0.5963\n",
      "\n",
      "Epoch 00022: val_loss did not improve\n",
      "\n",
      "Epoch 00022: ReduceLROnPlateau reducing learning rate to 0.0010000000474974513.\n",
      "Epoch 23/100\n",
      " - 7s - loss: 0.5830 - acc: 0.8093 - val_loss: 1.6317 - val_acc: 0.5889\n",
      "\n",
      "Epoch 00023: val_loss did not improve\n",
      "Epoch 24/100\n",
      " - 7s - loss: 0.5012 - acc: 0.8417 - val_loss: 1.5894 - val_acc: 0.6074\n",
      "\n",
      "Epoch 00024: val_loss did not improve\n",
      "Epoch 25/100\n",
      " - 7s - loss: 0.4599 - acc: 0.8532 - val_loss: 1.6201 - val_acc: 0.5963\n",
      "\n",
      "Epoch 00025: val_loss did not improve\n",
      "Epoch 26/100\n",
      " - 7s - loss: 0.4431 - acc: 0.8588 - val_loss: 1.6260 - val_acc: 0.6111\n",
      "\n",
      "Epoch 00026: val_loss did not improve\n",
      "Epoch 27/100\n",
      " - 7s - loss: 0.3996 - acc: 0.8690 - val_loss: 1.6485 - val_acc: 0.6222\n",
      "\n",
      "Epoch 00027: val_loss did not improve\n",
      "\n",
      "Epoch 00027: ReduceLROnPlateau reducing learning rate to 0.0005000000237487257.\n",
      "Epoch 28/100\n",
      " - 7s - loss: 0.3754 - acc: 0.8792 - val_loss: 1.6404 - val_acc: 0.6259\n",
      "\n",
      "Epoch 00028: val_loss did not improve\n",
      "Epoch 29/100\n",
      " - 8s - loss: 0.3506 - acc: 0.8898 - val_loss: 1.6784 - val_acc: 0.6370\n",
      "\n",
      "Epoch 00029: val_loss did not improve\n",
      "Epoch 30/100\n",
      " - 7s - loss: 0.3343 - acc: 0.8852 - val_loss: 1.6602 - val_acc: 0.6407\n",
      "\n",
      "Epoch 00030: val_loss did not improve\n",
      "Epoch 31/100\n",
      " - 7s - loss: 0.3258 - acc: 0.8949 - val_loss: 1.6612 - val_acc: 0.6185\n",
      "\n",
      "Epoch 00031: val_loss did not improve\n",
      "Epoch 32/100\n",
      " - 7s - loss: 0.3108 - acc: 0.9019 - val_loss: 1.7081 - val_acc: 0.6370\n",
      "\n",
      "Epoch 00032: val_loss did not improve\n",
      "\n",
      "Epoch 00032: ReduceLROnPlateau reducing learning rate to 0.0002500000118743628.\n",
      "Epoch 33/100\n",
      " - 7s - loss: 0.2783 - acc: 0.9125 - val_loss: 1.6716 - val_acc: 0.6333\n",
      "\n",
      "Epoch 00033: val_loss did not improve\n",
      "Epoch 34/100\n",
      " - 7s - loss: 0.2836 - acc: 0.9120 - val_loss: 1.6667 - val_acc: 0.6296\n",
      "\n",
      "Epoch 00034: val_loss did not improve\n",
      "Epoch 35/100\n",
      " - 7s - loss: 0.2650 - acc: 0.9194 - val_loss: 1.6787 - val_acc: 0.6333\n",
      "\n",
      "Epoch 00035: val_loss did not improve\n",
      "Epoch 36/100\n",
      " - 7s - loss: 0.2501 - acc: 0.9185 - val_loss: 1.6845 - val_acc: 0.6519\n",
      "\n",
      "Epoch 00036: val_loss did not improve\n",
      "Epoch 37/100\n",
      " - 7s - loss: 0.2375 - acc: 0.9264 - val_loss: 1.6934 - val_acc: 0.6519\n",
      "\n",
      "Epoch 00037: val_loss did not improve\n",
      "\n",
      "Epoch 00037: ReduceLROnPlateau reducing learning rate to 0.0001250000059371814.\n",
      "Epoch 38/100\n",
      " - 7s - loss: 0.2438 - acc: 0.9278 - val_loss: 1.6805 - val_acc: 0.6444\n",
      "\n",
      "Epoch 00038: val_loss did not improve\n",
      "Epoch 39/100\n",
      " - 7s - loss: 0.2495 - acc: 0.9199 - val_loss: 1.6841 - val_acc: 0.6370\n",
      "\n",
      "Epoch 00039: val_loss did not improve\n",
      "Epoch 40/100\n",
      " - 7s - loss: 0.2341 - acc: 0.9292 - val_loss: 1.6722 - val_acc: 0.6333\n",
      "\n",
      "Epoch 00040: val_loss did not improve\n",
      "Epoch 41/100\n",
      " - 7s - loss: 0.2460 - acc: 0.9255 - val_loss: 1.6741 - val_acc: 0.6370\n",
      "\n",
      "Epoch 00041: val_loss did not improve\n",
      "Epoch 42/100\n",
      " - 7s - loss: 0.2365 - acc: 0.9278 - val_loss: 1.6782 - val_acc: 0.6444\n",
      "\n",
      "Epoch 00042: val_loss did not improve\n",
      "\n",
      "Epoch 00042: ReduceLROnPlateau reducing learning rate to 6.25000029685907e-05.\n",
      "Epoch 00042: early stopping\n"
     ]
    }
   ],
   "source": [
    "fw='weights.best.nasnet.hdf5'\n",
    "checkpointer=ModelCheckpoint(filepath=fw,verbose=2,save_best_only=True)\n",
    "lr_reduction=ReduceLROnPlateau(monitor='val_loss',patience=5,\n",
    "                               verbose=2,factor=.5)\n",
    "estopping=EarlyStopping(monitor='val_loss',patience=25,verbose=2)\n",
    "history=nasnet_model.fit(x_train,y_train,\n",
    "                         validation_data=(x_valid,y_valid),\n",
    "                         epochs=100,batch_size=128,verbose=2,\n",
    "                         callbacks=[checkpointer,lr_reduction,estopping]);"
   ]
  },
  {
   "cell_type": "code",
   "execution_count": 12,
   "metadata": {
    "_uuid": "38a6419be6cff40923eb0dbac8aa4d69516ffd07"
   },
   "outputs": [
    {
     "name": "stdout",
     "output_type": "stream",
     "text": [
      "270/270 [==============================] - 1s 3ms/step\n",
      "Accuracy: 58.89%\n"
     ]
    },
    {
     "data": {
      "text/plain": [
       "[1.4213828289950337, 0.588888888447373]"
      ]
     },
     "execution_count": 12,
     "metadata": {},
     "output_type": "execute_result"
    }
   ],
   "source": [
    "# loading the model with the best validation accuracy\n",
    "nasnet_model.load_weights(fw)\n",
    "# calculations of classification accuracy on the testing set\n",
    "scores=nasnet_model.evaluate(x_test,y_test)\n",
    "print(\"Accuracy: %.2f%%\"%(scores[1]*100))\n",
    "scores"
   ]
  },
  {
   "cell_type": "code",
   "execution_count": 13,
   "metadata": {
    "_uuid": "14cccbfebaa6aa4470b05610e4a1dc318760d560",
    "collapsed": true
   },
   "outputs": [],
   "source": [
    "del x_train,x_valid,x_test,y_train,y_valid,y_test"
   ]
  },
  {
   "cell_type": "markdown",
   "metadata": {
    "_uuid": "1199e155c2b127459f4928bd7e1472c64d5ee47c"
   },
   "source": [
    "#### NASNetMobile"
   ]
  },
  {
   "cell_type": "code",
   "execution_count": 14,
   "metadata": {
    "_uuid": "2c89b62062af33b81444dd36b9488d80fa0dba91"
   },
   "outputs": [
    {
     "name": "stdout",
     "output_type": "stream",
     "text": [
      "[(3200, 32, 32, 3), (400, 32, 32, 3), (400, 32, 32, 3), (3200, 33), (400, 33), (400, 33)]\n"
     ]
    }
   ],
   "source": [
    "f=h5py.File(fpath+'LetterColorImages_123.h5','r')\n",
    "keys=list(f.keys()); n=4000\n",
    "images=np.array(f[keys[1]])[:n]/255\n",
    "labels=np.array(f[keys[2]])[:n]\n",
    "cat_labels=to_categorical(np.array(labels-1),33)\n",
    "x_train,x_test,y_train,y_test=\\\n",
    "train_test_split(images,cat_labels,test_size=.2,random_state=1)\n",
    "m=int(len(x_test)/2)\n",
    "x_valid,y_valid=x_test[:m],y_test[:m]\n",
    "x_test,y_test=x_test[m:],y_test[m:]\n",
    "print([x_train.shape,x_valid.shape,x_test.shape,\n",
    "       y_train.shape,y_valid.shape,y_test.shape])\n",
    "del images,labels,cat_labels"
   ]
  },
  {
   "cell_type": "code",
   "execution_count": 15,
   "metadata": {
    "_uuid": "2d50630162525b82191bc75fefffa5b00e3785af"
   },
   "outputs": [],
   "source": [
    "# creating bottleneck features\n",
    "x_train=np.array([misc.imresize(x_train[i],(224,224,3)) \\\n",
    "                  for i in range(0,len(x_train))]).astype('float32')\n",
    "x_valid=np.array([misc.imresize(x_valid[i],(224,224,3)) \\\n",
    "                  for i in range(0,len(x_valid))]).astype('float32')\n",
    "x_test=np.array([misc.imresize(x_test[i],(224,224,3)) \\\n",
    "                 for i in range(0,len(x_test))]).astype('float32')\n",
    "x_train=nnpi(x_train)\n",
    "x_valid=nnpi(x_valid)\n",
    "x_test=nnpi(x_test)\n",
    "fn=\"../input/keras-applications-weights/nasnet_mobile_no_top.h5\"\n",
    "nasnet_base_model=NASNetMobile(weights=fn,include_top=False)\n",
    "x_train=nasnet_base_model.predict(x_train)\n",
    "x_valid=nasnet_base_model.predict(x_valid)\n",
    "x_test=nasnet_base_model.predict(x_test)"
   ]
  },
  {
   "cell_type": "code",
   "execution_count": 16,
   "metadata": {
    "_uuid": "2bb2028821bb0658f4fe42d81ccdf128d40092eb",
    "collapsed": true
   },
   "outputs": [],
   "source": [
    "def nasnet_model():\n",
    "    model=Sequential()   \n",
    "    model.add(GlobalAveragePooling2D(input_shape=x_train.shape[1:]))    \n",
    "    model.add(Dense(2048))\n",
    "    model.add(LeakyReLU(alpha=.02))\n",
    "    model.add(Dropout(.5))        \n",
    "    model.add(Dense(256))\n",
    "    model.add(LeakyReLU(alpha=.02))\n",
    "    model.add(Dropout(.5))    \n",
    "    model.add(Dense(33,activation='softmax'))    \n",
    "    model.compile(loss='categorical_crossentropy',\n",
    "                  optimizer='nadam',metrics=['accuracy'])\n",
    "    return model\n",
    "nasnet_model=nasnet_model()"
   ]
  },
  {
   "cell_type": "code",
   "execution_count": 17,
   "metadata": {
    "_kg_hide-output": true,
    "_uuid": "5560f71537f19709272f59f08ce758c1f2d6bd6a"
   },
   "outputs": [
    {
     "name": "stdout",
     "output_type": "stream",
     "text": [
      "Train on 3200 samples, validate on 400 samples\n",
      "Epoch 1/100\n",
      " - 9s - loss: 3.2463 - acc: 0.1309 - val_loss: 2.3909 - val_acc: 0.3425\n",
      "\n",
      "Epoch 00001: val_loss improved from inf to 2.39092, saving model to weights.best.nasnet.hdf5\n",
      "Epoch 2/100\n",
      " - 1s - loss: 2.5041 - acc: 0.2812 - val_loss: 2.0442 - val_acc: 0.4350\n",
      "\n",
      "Epoch 00002: val_loss improved from 2.39092 to 2.04417, saving model to weights.best.nasnet.hdf5\n",
      "Epoch 3/100\n",
      " - 1s - loss: 2.2191 - acc: 0.3509 - val_loss: 1.8947 - val_acc: 0.4825\n",
      "\n",
      "Epoch 00003: val_loss improved from 2.04417 to 1.89472, saving model to weights.best.nasnet.hdf5\n",
      "Epoch 4/100\n",
      " - 1s - loss: 2.0262 - acc: 0.4150 - val_loss: 1.6566 - val_acc: 0.5150\n",
      "\n",
      "Epoch 00004: val_loss improved from 1.89472 to 1.65657, saving model to weights.best.nasnet.hdf5\n",
      "Epoch 5/100\n",
      " - 1s - loss: 1.8508 - acc: 0.4612 - val_loss: 1.6776 - val_acc: 0.5025\n",
      "\n",
      "Epoch 00005: val_loss did not improve\n",
      "Epoch 6/100\n",
      " - 1s - loss: 1.7350 - acc: 0.4769 - val_loss: 1.5686 - val_acc: 0.5175\n",
      "\n",
      "Epoch 00006: val_loss improved from 1.65657 to 1.56865, saving model to weights.best.nasnet.hdf5\n",
      "Epoch 7/100\n",
      " - 1s - loss: 1.5677 - acc: 0.5300 - val_loss: 1.4750 - val_acc: 0.5750\n",
      "\n",
      "Epoch 00007: val_loss improved from 1.56865 to 1.47505, saving model to weights.best.nasnet.hdf5\n",
      "Epoch 8/100\n",
      " - 1s - loss: 1.4893 - acc: 0.5444 - val_loss: 1.4211 - val_acc: 0.5925\n",
      "\n",
      "Epoch 00008: val_loss improved from 1.47505 to 1.42108, saving model to weights.best.nasnet.hdf5\n",
      "Epoch 9/100\n",
      " - 1s - loss: 1.4094 - acc: 0.5656 - val_loss: 1.3318 - val_acc: 0.6125\n",
      "\n",
      "Epoch 00009: val_loss improved from 1.42108 to 1.33181, saving model to weights.best.nasnet.hdf5\n",
      "Epoch 10/100\n",
      " - 1s - loss: 1.3138 - acc: 0.5869 - val_loss: 1.3289 - val_acc: 0.6125\n",
      "\n",
      "Epoch 00010: val_loss improved from 1.33181 to 1.32890, saving model to weights.best.nasnet.hdf5\n",
      "Epoch 11/100\n",
      " - 1s - loss: 1.2169 - acc: 0.6200 - val_loss: 1.3321 - val_acc: 0.5850\n",
      "\n",
      "Epoch 00011: val_loss did not improve\n",
      "Epoch 12/100\n",
      " - 1s - loss: 1.1371 - acc: 0.6438 - val_loss: 1.2698 - val_acc: 0.6225\n",
      "\n",
      "Epoch 00012: val_loss improved from 1.32890 to 1.26979, saving model to weights.best.nasnet.hdf5\n",
      "Epoch 13/100\n",
      " - 1s - loss: 1.1075 - acc: 0.6503 - val_loss: 1.2399 - val_acc: 0.6175\n",
      "\n",
      "Epoch 00013: val_loss improved from 1.26979 to 1.23995, saving model to weights.best.nasnet.hdf5\n",
      "Epoch 14/100\n",
      " - 1s - loss: 1.0377 - acc: 0.6703 - val_loss: 1.1993 - val_acc: 0.6525\n",
      "\n",
      "Epoch 00014: val_loss improved from 1.23995 to 1.19926, saving model to weights.best.nasnet.hdf5\n",
      "Epoch 15/100\n",
      " - 1s - loss: 0.9725 - acc: 0.6878 - val_loss: 1.1546 - val_acc: 0.6350\n",
      "\n",
      "Epoch 00015: val_loss improved from 1.19926 to 1.15456, saving model to weights.best.nasnet.hdf5\n",
      "Epoch 16/100\n",
      " - 1s - loss: 0.9330 - acc: 0.7106 - val_loss: 1.2033 - val_acc: 0.6350\n",
      "\n",
      "Epoch 00016: val_loss did not improve\n",
      "Epoch 17/100\n",
      " - 1s - loss: 0.9060 - acc: 0.7119 - val_loss: 1.2015 - val_acc: 0.6625\n",
      "\n",
      "Epoch 00017: val_loss did not improve\n",
      "Epoch 18/100\n",
      " - 1s - loss: 0.7668 - acc: 0.7541 - val_loss: 1.2220 - val_acc: 0.6350\n",
      "\n",
      "Epoch 00018: val_loss did not improve\n",
      "Epoch 19/100\n",
      " - 1s - loss: 0.8449 - acc: 0.7231 - val_loss: 1.2711 - val_acc: 0.6400\n",
      "\n",
      "Epoch 00019: val_loss did not improve\n",
      "Epoch 20/100\n",
      " - 1s - loss: 0.7125 - acc: 0.7731 - val_loss: 1.1480 - val_acc: 0.6675\n",
      "\n",
      "Epoch 00020: val_loss improved from 1.15456 to 1.14797, saving model to weights.best.nasnet.hdf5\n",
      "Epoch 21/100\n",
      " - 1s - loss: 0.6996 - acc: 0.7725 - val_loss: 1.1649 - val_acc: 0.6575\n",
      "\n",
      "Epoch 00021: val_loss did not improve\n",
      "Epoch 22/100\n",
      " - 1s - loss: 0.6840 - acc: 0.7825 - val_loss: 1.1994 - val_acc: 0.6350\n",
      "\n",
      "Epoch 00022: val_loss did not improve\n",
      "Epoch 23/100\n",
      " - 1s - loss: 0.6084 - acc: 0.7981 - val_loss: 1.1971 - val_acc: 0.6500\n",
      "\n",
      "Epoch 00023: val_loss did not improve\n",
      "Epoch 24/100\n",
      " - 1s - loss: 0.5869 - acc: 0.8075 - val_loss: 1.2245 - val_acc: 0.6475\n",
      "\n",
      "Epoch 00024: val_loss did not improve\n",
      "Epoch 25/100\n",
      " - 1s - loss: 0.5543 - acc: 0.8166 - val_loss: 1.1721 - val_acc: 0.6650\n",
      "\n",
      "Epoch 00025: val_loss did not improve\n",
      "\n",
      "Epoch 00025: ReduceLROnPlateau reducing learning rate to 0.0010000000474974513.\n",
      "Epoch 26/100\n",
      " - 1s - loss: 0.4311 - acc: 0.8606 - val_loss: 1.1007 - val_acc: 0.6825\n",
      "\n",
      "Epoch 00026: val_loss improved from 1.14797 to 1.10067, saving model to weights.best.nasnet.hdf5\n",
      "Epoch 27/100\n",
      " - 1s - loss: 0.3483 - acc: 0.8884 - val_loss: 1.1593 - val_acc: 0.6825\n",
      "\n",
      "Epoch 00027: val_loss did not improve\n",
      "Epoch 28/100\n",
      " - 1s - loss: 0.3235 - acc: 0.8953 - val_loss: 1.1348 - val_acc: 0.6925\n",
      "\n",
      "Epoch 00028: val_loss did not improve\n",
      "Epoch 29/100\n",
      " - 1s - loss: 0.2893 - acc: 0.9081 - val_loss: 1.1476 - val_acc: 0.6850\n",
      "\n",
      "Epoch 00029: val_loss did not improve\n",
      "Epoch 30/100\n",
      " - 1s - loss: 0.2805 - acc: 0.9084 - val_loss: 1.2043 - val_acc: 0.6950\n",
      "\n",
      "Epoch 00030: val_loss did not improve\n",
      "Epoch 31/100\n",
      " - 1s - loss: 0.2891 - acc: 0.9100 - val_loss: 1.1733 - val_acc: 0.6750\n",
      "\n",
      "Epoch 00031: val_loss did not improve\n",
      "\n",
      "Epoch 00031: ReduceLROnPlateau reducing learning rate to 0.0005000000237487257.\n",
      "Epoch 32/100\n",
      " - 1s - loss: 0.2230 - acc: 0.9281 - val_loss: 1.1841 - val_acc: 0.6850\n",
      "\n",
      "Epoch 00032: val_loss did not improve\n",
      "Epoch 33/100\n",
      " - 1s - loss: 0.2165 - acc: 0.9294 - val_loss: 1.1699 - val_acc: 0.7000\n",
      "\n",
      "Epoch 00033: val_loss did not improve\n",
      "Epoch 34/100\n",
      " - 1s - loss: 0.2151 - acc: 0.9325 - val_loss: 1.1563 - val_acc: 0.6950\n",
      "\n",
      "Epoch 00034: val_loss did not improve\n",
      "Epoch 35/100\n",
      " - 1s - loss: 0.1849 - acc: 0.9406 - val_loss: 1.2112 - val_acc: 0.7150\n",
      "\n",
      "Epoch 00035: val_loss did not improve\n",
      "Epoch 36/100\n",
      " - 1s - loss: 0.1741 - acc: 0.9438 - val_loss: 1.1922 - val_acc: 0.6975\n",
      "\n",
      "Epoch 00036: val_loss did not improve\n",
      "\n",
      "Epoch 00036: ReduceLROnPlateau reducing learning rate to 0.0002500000118743628.\n",
      "Epoch 37/100\n",
      " - 1s - loss: 0.1917 - acc: 0.9394 - val_loss: 1.1978 - val_acc: 0.7025\n",
      "\n",
      "Epoch 00037: val_loss did not improve\n",
      "Epoch 38/100\n",
      " - 1s - loss: 0.1588 - acc: 0.9506 - val_loss: 1.1917 - val_acc: 0.6975\n",
      "\n",
      "Epoch 00038: val_loss did not improve\n",
      "Epoch 39/100\n",
      " - 1s - loss: 0.1668 - acc: 0.9469 - val_loss: 1.1935 - val_acc: 0.6850\n",
      "\n",
      "Epoch 00039: val_loss did not improve\n",
      "Epoch 40/100\n",
      " - 1s - loss: 0.1504 - acc: 0.9531 - val_loss: 1.2099 - val_acc: 0.6925\n",
      "\n",
      "Epoch 00040: val_loss did not improve\n",
      "Epoch 41/100\n",
      " - 1s - loss: 0.1504 - acc: 0.9509 - val_loss: 1.2221 - val_acc: 0.7000\n",
      "\n",
      "Epoch 00041: val_loss did not improve\n",
      "\n",
      "Epoch 00041: ReduceLROnPlateau reducing learning rate to 0.0001250000059371814.\n",
      "Epoch 42/100\n",
      " - 1s - loss: 0.1430 - acc: 0.9525 - val_loss: 1.2016 - val_acc: 0.7050\n",
      "\n",
      "Epoch 00042: val_loss did not improve\n",
      "Epoch 43/100\n",
      " - 1s - loss: 0.1328 - acc: 0.9603 - val_loss: 1.1993 - val_acc: 0.7025\n",
      "\n",
      "Epoch 00043: val_loss did not improve\n",
      "Epoch 44/100\n",
      " - 1s - loss: 0.1446 - acc: 0.9566 - val_loss: 1.1966 - val_acc: 0.7000\n",
      "\n",
      "Epoch 00044: val_loss did not improve\n",
      "Epoch 45/100\n",
      " - 1s - loss: 0.1299 - acc: 0.9619 - val_loss: 1.2030 - val_acc: 0.7025\n",
      "\n",
      "Epoch 00045: val_loss did not improve\n",
      "Epoch 46/100\n",
      " - 1s - loss: 0.1323 - acc: 0.9578 - val_loss: 1.2110 - val_acc: 0.6925\n",
      "\n",
      "Epoch 00046: val_loss did not improve\n",
      "\n",
      "Epoch 00046: ReduceLROnPlateau reducing learning rate to 6.25000029685907e-05.\n",
      "Epoch 47/100\n",
      " - 1s - loss: 0.1319 - acc: 0.9569 - val_loss: 1.2069 - val_acc: 0.7000\n",
      "\n",
      "Epoch 00047: val_loss did not improve\n",
      "Epoch 48/100\n",
      " - 1s - loss: 0.1254 - acc: 0.9650 - val_loss: 1.2080 - val_acc: 0.6975\n",
      "\n",
      "Epoch 00048: val_loss did not improve\n",
      "Epoch 49/100\n",
      " - 1s - loss: 0.1327 - acc: 0.9616 - val_loss: 1.2105 - val_acc: 0.6925\n",
      "\n",
      "Epoch 00049: val_loss did not improve\n",
      "Epoch 50/100\n",
      " - 1s - loss: 0.1261 - acc: 0.9656 - val_loss: 1.2031 - val_acc: 0.6900\n",
      "\n",
      "Epoch 00050: val_loss did not improve\n",
      "Epoch 51/100\n",
      " - 1s - loss: 0.1305 - acc: 0.9587 - val_loss: 1.2026 - val_acc: 0.7050\n",
      "\n",
      "Epoch 00051: val_loss did not improve\n",
      "\n",
      "Epoch 00051: ReduceLROnPlateau reducing learning rate to 3.125000148429535e-05.\n",
      "Epoch 00051: early stopping\n"
     ]
    }
   ],
   "source": [
    "fw='weights.best.nasnet.hdf5'\n",
    "checkpointer=ModelCheckpoint(filepath=fw,verbose=2,save_best_only=True)\n",
    "lr_reduction=ReduceLROnPlateau(monitor='val_loss',patience=5,\n",
    "                               verbose=2,factor=.5)\n",
    "estopping=EarlyStopping(monitor='val_loss',patience=25,verbose=2)\n",
    "history=nasnet_model.fit(x_train,y_train,\n",
    "                         validation_data=(x_valid,y_valid),\n",
    "                         epochs=100,batch_size=128,verbose=2,\n",
    "                         callbacks=[checkpointer,lr_reduction,estopping]);"
   ]
  },
  {
   "cell_type": "code",
   "execution_count": 18,
   "metadata": {
    "_uuid": "df32c315897a621accf96dd5778a0bd3b7473970"
   },
   "outputs": [
    {
     "name": "stdout",
     "output_type": "stream",
     "text": [
      "400/400 [==============================] - 0s 330us/step\n",
      "Accuracy: 64.00%\n"
     ]
    },
    {
     "data": {
      "text/plain": [
       "[1.3512681794166566, 0.64]"
      ]
     },
     "execution_count": 18,
     "metadata": {},
     "output_type": "execute_result"
    }
   ],
   "source": [
    "# loading the model with the best validation accuracy\n",
    "nasnet_model.load_weights(fw)\n",
    "# calculations of classification accuracy on the testing set\n",
    "scores=nasnet_model.evaluate(x_test,y_test)\n",
    "print(\"Accuracy: %.2f%%\"%(scores[1]*100))\n",
    "scores"
   ]
  },
  {
   "cell_type": "code",
   "execution_count": 19,
   "metadata": {
    "_uuid": "ce8a37f6cf5d000c11da75c4a05e6fadec9fc60a",
    "collapsed": true
   },
   "outputs": [],
   "source": [
    "del x_train,x_valid,x_test,y_train,y_valid,y_test"
   ]
  }
 ],
 "metadata": {
  "kernelspec": {
   "display_name": "Python 3",
   "language": "python",
   "name": "python3"
  },
  "language_info": {
   "codemirror_mode": {
    "name": "ipython",
    "version": 3
   },
   "file_extension": ".py",
   "mimetype": "text/x-python",
   "name": "python",
   "nbconvert_exporter": "python",
   "pygments_lexer": "ipython3",
   "version": "3.6.4"
  }
 },
 "nbformat": 4,
 "nbformat_minor": 4
}
