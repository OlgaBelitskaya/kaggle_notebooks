{
 "cells": [
  {
   "cell_type": "markdown",
   "metadata": {},
   "source": [
    "# [Visualization Notes](https://visualization-notes.blogspot.com)\n",
    "## Additional Packages: Pygal"
   ]
  },
  {
   "cell_type": "code",
   "execution_count": 1,
   "metadata": {
    "_kg_hide-output": true
   },
   "outputs": [
    {
     "name": "stdout",
     "output_type": "stream",
     "text": [
      "Collecting pygal\r\n",
      "  Downloading pygal-2.4.0-py2.py3-none-any.whl (127 kB)\r\n",
      "\u001b[K     |████████████████████████████████| 127 kB 4.9 MB/s \r\n",
      "\u001b[?25hInstalling collected packages: pygal\r\n",
      "Successfully installed pygal-2.4.0\r\n"
     ]
    }
   ],
   "source": [
    "!python3 -m pip install pygal --user"
   ]
  },
  {
   "cell_type": "code",
   "execution_count": 2,
   "metadata": {
    "_cell_guid": "b1076dfc-b9ad-4769-8c92-a6c4dae69d19",
    "_kg_hide-input": true,
    "_uuid": "8f2839f25d086af736a60e9eeb907d3b93b6e0e5"
   },
   "outputs": [
    {
     "data": {
      "text/html": [
       "<figure><embed type=\"image/svg+xml\" src=\"samples.svg\" width=500/></figure>"
      ],
      "text/plain": [
       "<IPython.core.display.HTML object>"
      ]
     },
     "execution_count": 2,
     "metadata": {},
     "output_type": "execute_result"
    }
   ],
   "source": [
    "import warnings; warnings.filterwarnings('ignore')\n",
    "from IPython.display import display,HTML\n",
    "import pygal,pandas as pd\n",
    "from pygal.style import BlueStyle\n",
    "columns=['Fresh','Milk','Grocery','Frozen',\n",
    "         'Detergents_Paper','Delicatessen']\n",
    "colors=['#1b2c45','#5a8bbd','#008b8b','#ff5a8b']\n",
    "index= ['C1','C2','C3']\n",
    "data=[[26373,36423,22019,5154,4337,16523],\n",
    "      [16165,4230,7595,201,4003,57],\n",
    "      [14276,803,3045,485,100,518]]\n",
    "samples=pd.DataFrame(data,columns=columns,index=index) \n",
    "line=pygal.Line(fill=False,height=500,\n",
    "                style=BlueStyle(opacity='.3',colors=colors,\n",
    "                                background='transparent'))\n",
    "line.title='Samples of the Dataset \"Wholesale Customers\"'\n",
    "line.x_labels=columns\n",
    "line.add('C1',data[0]); line.add('C2',data[1])\n",
    "line.add('C3',data[2]); line.add('MEAN',samples.mean())\n",
    "line.render_to_file('samples.svg')\n",
    "s1='<figure><embed type=\"image/svg+xml\" '\n",
    "s2='src=\"samples.svg\" width=500/></figure>'\n",
    "HTML(s1+s2)"
   ]
  },
  {
   "cell_type": "markdown",
   "metadata": {},
   "source": [
    "## Interactive Outputs: D3 Mouse Events & Others"
   ]
  },
  {
   "cell_type": "code",
   "execution_count": 3,
   "metadata": {
    "_cell_guid": "79c7e3d0-c299-4dcb-8224-4455121ee9b0",
    "_kg_hide-input": true,
    "_uuid": "d629ff2d2480ee46fbb7e2d37f6b5fab8052498a"
   },
   "outputs": [
    {
     "data": {
      "text/html": [
       "<div id='data1'><iframe src=\"d3.html\" \n",
       "height=\"320\" width=\"520\"></iframe></div>"
      ],
      "text/plain": [
       "<IPython.core.display.HTML object>"
      ]
     },
     "execution_count": 3,
     "metadata": {},
     "output_type": "execute_result"
    }
   ],
   "source": [
    "html_str='''\n",
    "<style>\n",
    "svg {background:silver;}\n",
    "text {fill:#ff355e;}\n",
    "rect {fill:none; pointer-events:all;} \n",
    "circle {fill:none; stroke-width:2px;}\n",
    "</style>\n",
    "<div id=\"d3viz\"></div>\n",
    "<script src=\"https://d3js.org/d3.v5.min.js\"></script><script>\n",
    "var width=500, height=300, i=0;\n",
    "var svg=d3.select(\"#d3viz\").append(\"svg\")\n",
    "          .attr(\"width\",width).attr(\"height\",height);\n",
    "var r=svg.append(\"rect\")\n",
    "         .attr(\"width\",width).attr(\"height\",height)\n",
    "         .on(\"ontouchstart\" in document ? \n",
    "             \"touchmove\":\"mousemove\",draw);\n",
    "function draw() {\n",
    "  var m=d3.mouse(this);\n",
    "  svg.insert(\"circle\",\"rect\")\n",
    "     .attr(\"cx\",m[0]).attr(\"cy\",m[1]).attr(\"r\",1e-6)\n",
    "     .style(\"stroke\",d3.hsl((i=(i+1)%360),1,.5))\n",
    "     .style(\"stroke-opacity\",1)\n",
    "     .transition().duration(2000)\n",
    "     .ease(Math.sqrt).attr(\"r\",10)\n",
    "     .style(\"stroke-opacity\",1e-6)\n",
    "     .remove();\n",
    "  d3.event.preventDefault();};\n",
    "  svg.append(\"text\").attr(\"x\",25).attr(\"y\",25)\n",
    "     .text(\"D3 Mouse Events\");\n",
    "</script>'''\n",
    "html_file=open(\"d3.html\",\"w\")\n",
    "html_file.write(html_str); html_file.close()\n",
    "HTML('''<div id='data1'><iframe src=\"d3.html\" \n",
    "height=\"320\" width=\"520\"></iframe></div>''')"
   ]
  },
  {
   "cell_type": "code",
   "execution_count": 4,
   "metadata": {
    "_kg_hide-input": true
   },
   "outputs": [
    {
     "data": {
      "text/html": [
       "<div id='data2'><iframe src=\"d3_2.html\" \n",
       "height=\"520\" width=\"520\"></iframe></div>"
      ],
      "text/plain": [
       "<IPython.core.display.HTML object>"
      ]
     },
     "execution_count": 4,
     "metadata": {},
     "output_type": "execute_result"
    }
   ],
   "source": [
    "html_str='''\n",
    "<script src='//d3js.org/d3.v3.min.js'></script>\n",
    "<svg id='poly' style='background-color:silver;'></svg>\n",
    "<script>\n",
    "var mouse=[330,330],count=0;\n",
    "var svg=d3.select('#poly')\n",
    "          .attr('width',500).attr('height',500);\n",
    "var g=svg.selectAll('g').data(d3.range(25)).enter()\n",
    "         .append('g').attr('transform','translate('+mouse+')');\n",
    "g.append('rect').attr('rx',5).attr('ry',5)\n",
    " .attr('x',-5).attr('y',-5)\n",
    " .attr('width',20).attr('height',20)\n",
    " .attr('transform',function(d,i){return 'scale('+(1-d/25)*20+')';})\n",
    " .style('fill',d3.scale.category20b());\n",
    "g.datum(function(d){return {center:mouse.slice(),angle:0};});\n",
    "svg.on('mousemove',function(){mouse=d3.mouse(this);});\n",
    "d3.timer(function(){count++; \n",
    "g.attr('transform',\n",
    "       function(d,i){d.center[0]+=(mouse[0]-d.center[0])/(i+1); \n",
    "d.center[1]+=(mouse[1]-d.center[1])/(i+1); \n",
    "d.angle+=Math.sin((count+i)/40)*7; \n",
    "return 'translate('+d.center+')rotate('+d.angle+')'});});\n",
    "</script>'''\n",
    "html_file=open(\"d3_2.html\",\"w\")\n",
    "html_file.write(html_str); html_file.close()\n",
    "HTML('''<div id='data2'><iframe src=\"d3_2.html\" \n",
    "height=\"520\" width=\"520\"></iframe></div>''')"
   ]
  },
  {
   "cell_type": "markdown",
   "metadata": {},
   "source": [
    "## Interactive Code Cells "
   ]
  },
  {
   "cell_type": "code",
   "execution_count": 5,
   "metadata": {},
   "outputs": [
    {
     "data": {
      "text/html": [
       "<div style=\"border:10px double white; \n",
       "     width:550px; height:950px; overflow:auto; \n",
       "     padding:10px; background-color:ghostwhite\">\n",
       "<iframe src=\"https://olgabelitskaya.github.io/kaggle_smc.html\" \n",
       "        width=\"510\" height=\"920\"/></div>\n"
      ],
      "text/plain": [
       "<IPython.core.display.HTML object>"
      ]
     },
     "metadata": {},
     "output_type": "display_data"
    }
   ],
   "source": [
    "%%html\n",
    "<div style=\"border:10px double white; \n",
    "     width:550px; height:950px; overflow:auto; \n",
    "     padding:10px; background-color:ghostwhite\">\n",
    "<iframe src=\"https://olgabelitskaya.github.io/kaggle_smc.html\" \n",
    "        width=\"510\" height=\"920\"/></div>"
   ]
  }
 ],
 "metadata": {
  "kernelspec": {
   "display_name": "Python 3",
   "language": "python",
   "name": "python3"
  },
  "language_info": {
   "codemirror_mode": {
    "name": "ipython",
    "version": 3
   },
   "file_extension": ".py",
   "mimetype": "text/x-python",
   "name": "python",
   "nbconvert_exporter": "python",
   "pygments_lexer": "ipython3",
   "version": "3.6.6"
  }
 },
 "nbformat": 4,
 "nbformat_minor": 4
}
