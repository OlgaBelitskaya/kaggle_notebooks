{
 "cells": [
  {
   "cell_type": "markdown",
   "execution_count": null,
   "metadata": {},
   "source": [
    "Reading classics [Deep Learning Models](https://nbviewer.jupyter.org/github/rasbt/deeplearning-models/blob/master/pytorch_ipynb/cnn/cnn-densenet121-mnist.ipynb)\n",
    "\n",
    "Code Modules, Classes & Functions"
   ]
  },
  {
   "cell_type": "code",
   "execution_count": 1,
   "metadata": {
    "_cell_guid": "b1076dfc-b9ad-4769-8c92-a6c4dae69d19",
    "_uuid": "8f2839f25d086af736a60e9eeb907d3b93b6e0e5"
   },
   "outputs": [],
   "source": [
    "import numpy as np,pandas as pd,pylab as pl\n",
    "import h5py,torch,re\n",
    "from tensorflow import image as timage\n",
    "from torchvision.datasets import CIFAR10 as tcifar10\n",
    "from torchvision import transforms,utils\n",
    "from torch.utils.data import DataLoader as tdl\n",
    "from torch.utils.data import Dataset as tds\n",
    "from torch.utils.data.dataset import Subset\n",
    "import torch.nn as tnn\n",
    "import torch.utils.checkpoint as tcp\n",
    "from collections import OrderedDict as od\n",
    "from IPython.core.magic import register_line_magic\n",
    "dev=torch.device(\"cuda:0\" \\\n",
    "if torch.cuda.is_available() else \"cpu\")"
   ]
  },
  {
   "cell_type": "code",
   "execution_count": 2,
   "metadata": {
    "_cell_guid": "79c7e3d0-c299-4dcb-8224-4455121ee9b0",
    "_uuid": "d629ff2d2480ee46fbb7e2d37f6b5fab8052498a"
   },
   "outputs": [],
   "source": [
    "class TData(tds):\n",
    "    def __init__(self,X,y):   \n",
    "        self.X=torch.tensor(X,dtype=torch.float32)\n",
    "        self.y=torch.tensor(y,dtype=torch.int32)\n",
    "    def __getitem__(self,index):\n",
    "        train_img,train_lbl=self.X[index],self.y[index]\n",
    "        return train_img,train_lbl\n",
    "    def __len__(self):\n",
    "        return self.y.shape[0]"
   ]
  },
  {
   "cell_type": "code",
   "execution_count": 3,
   "metadata": {
    "_kg_hide-input": true
   },
   "outputs": [],
   "source": [
    "def load_h5py(path,img_size):\n",
    "    f=h5py.File(path,'r')\n",
    "    keys=list(f.keys()); print(keys)\n",
    "    x=np.array(f[keys[1]],dtype='float32')/255\n",
    "    x=x.reshape(-1,3,img_size,img_size)\n",
    "    y=np.array(f[keys[2]],dtype='int32')-1\n",
    "    N=len(y); n=int(.2*N)\n",
    "    shuffle_ids=np.arange(N)\n",
    "    np.random.RandomState(23).shuffle(shuffle_ids)\n",
    "    x,y=x[shuffle_ids],y[shuffle_ids]\n",
    "    x_test,x_valid,x_train=x[:n],x[n:2*n],x[2*n:]\n",
    "    y_test,y_valid,y_train=y[:n],y[n:2*n],y[2*n:]\n",
    "    df=pd.DataFrame([[x_train.shape,x_valid.shape,x_test.shape],\n",
    "                     [x_train.dtype,x_valid.dtype,x_test.dtype],\n",
    "                     [y_train.shape,y_valid.shape,y_test.shape],\n",
    "                     [y_train.dtype,y_valid.dtype,y_test.dtype]],\n",
    "                    columns=['train','valid','test'],\n",
    "                    index=['image shape','image type',\n",
    "                           'label shape','label type'])\n",
    "    display(df)    \n",
    "    return [[x_train,x_valid,x_test],\n",
    "            [y_train,y_valid,y_test]]"
   ]
  },
  {
   "cell_type": "code",
   "execution_count": 4,
   "metadata": {
    "_kg_hide-input": true
   },
   "outputs": [],
   "source": [
    "def display_examples(data_loader,img_size):\n",
    "    for images,labels in data_loader:  \n",
    "        print('Image dimensions: %s'%str(images.shape))\n",
    "        print('Label dimensions: %s'%str(labels.shape))\n",
    "        n=np.random.randint(1,50)\n",
    "        fig=pl.figure(figsize=(11,4))\n",
    "        for i in range(n,n+5):\n",
    "            ax=fig.add_subplot(1,5,i-n+1,\\\n",
    "            xticks=[],yticks=[],title=labels[i].item())\n",
    "            ax.imshow((images[i]).reshape(img_size,img_size,3))\n",
    "        break\n",
    "def show_image(img):\n",
    "    npimg=img.numpy()/2.+.5; tr=(1,2,0)\n",
    "    pl.figure(figsize=(10,2))\n",
    "    pl.imshow(np.transpose(npimg,tr))\n",
    "    pl.xticks([]); pl.show()\n",
    "def show_examples(data_loader,classes,num_examples):\n",
    "    dataiter=iter(data_loader)\n",
    "    images,labels=dataiter.next()\n",
    "    show_image(utils.make_grid(images[0:num_examples]))\n",
    "    print('^'.join('%9s'%classes[labels[j]] \n",
    "                   for j in range(num_examples)),end='^')"
   ]
  },
  {
   "cell_type": "code",
   "execution_count": 5,
   "metadata": {
    "_kg_hide-input": true
   },
   "outputs": [],
   "source": [
    "def model_acc(model,data_loader):\n",
    "    model.eval()\n",
    "    correct_preds,num_examples=0,0    \n",
    "    for features,targets in data_loader:\n",
    "        features=features.to(dev)\n",
    "        targets=targets.to(dev)\n",
    "        logits,probs=model(features)\n",
    "        _,pred_labels=torch.max(probs,1)\n",
    "        num_examples+=targets.size(0)\n",
    "        correct_preds+=(pred_labels==targets).sum()        \n",
    "    return correct_preds.float()/num_examples*100\n",
    "@register_line_magic\n",
    "def print_acc(n):\n",
    "    if int(n)==1:\n",
    "        data_loader=\\\n",
    "        [train_loader,valid_loader,test_loader]\n",
    "    if int(n)==2:\n",
    "        data_loader=\\\n",
    "        [train_loader2,valid_loader2,test_loader2]\n",
    "    print('Train accuracy: %.4f%%'%\\\n",
    "    (model_acc(model,data_loader[0])))\n",
    "    print('Valid accuracy: %.4f%%'%\\\n",
    "    (model_acc(model,data_loader[1])))\n",
    "    print('Test accuracy: %.4f%%'%\\\n",
    "    (model_acc(model,data_loader[2])))"
   ]
  },
  {
   "cell_type": "markdown",
   "execution_count": null,
   "metadata": {},
   "source": [
    "## Data"
   ]
  },
  {
   "cell_type": "code",
   "execution_count": 6,
   "metadata": {
    "_kg_hide-output": true
   },
   "outputs": [
    {
     "name": "stdout",
     "output_type": "stream",
     "text": [
      "Downloading https://www.cs.toronto.edu/~kriz/cifar-10-python.tar.gz to data/cifar-10-python.tar.gz\n"
     ]
    },
    {
     "data": {
      "application/vnd.jupyter.widget-view+json": {
       "model_id": "b5d0b43644164f13a22334e8c672d289",
       "version_major": 2,
       "version_minor": 0
      },
      "text/plain": [
       "HBox(children=(FloatProgress(value=1.0, bar_style='info', max=1.0), HTML(value='')))"
      ]
     },
     "metadata": {},
     "output_type": "display_data"
    },
    {
     "name": "stdout",
     "output_type": "stream",
     "text": [
      "Extracting data/cifar-10-python.tar.gz to data\n"
     ]
    }
   ],
   "source": [
    "random_seed=12; batch_size=128\n",
    "train_ids=torch.arange(0,44000)\n",
    "valid_ids=torch.arange(44000,50000)\n",
    "tr0=(.5,.5,.5)\n",
    "transform=transforms\\\n",
    ".Compose([transforms.ToTensor(),\n",
    "          transforms.Normalize(tr0,tr0)])\n",
    "train_valid=tcifar10(root='data',transform=transform,\n",
    "                     download=True,train=True)\n",
    "train=Subset(train_valid,train_ids)\n",
    "valid=Subset(train_valid,valid_ids)\n",
    "test=tcifar10(root='data',train=False, \n",
    "              transform=transform)\n",
    "train_loader=tdl(dataset=train,shuffle=True, \n",
    "                 batch_size=batch_size)\n",
    "valid_loader=tdl(dataset=valid,shuffle=True, \n",
    "                 batch_size=batch_size)\n",
    "test_loader=tdl(dataset=test,shuffle=False, \n",
    "                batch_size=batch_size)"
   ]
  },
  {
   "cell_type": "code",
   "execution_count": 7,
   "metadata": {},
   "outputs": [
    {
     "data": {
      "image/png": "[encoded data removed]",
      "text/plain": [
       "<Figure size 720x144 with 1 Axes>"
      ]
     },
     "metadata": {
      "needs_background": "light"
     },
     "output_type": "display_data"
    },
    {
     "name": "stdout",
     "output_type": "stream",
     "text": [
      "    truck^     bird^    truck^    plane^     frog^     frog^      cat^"
     ]
    }
   ],
   "source": [
    "classes=('plane','car','bird','cat','deer',\n",
    "         'dog','frog','horse','ship','truck')\n",
    "show_examples(valid_loader,classes,7)"
   ]
  },
  {
   "cell_type": "code",
   "execution_count": 8,
   "metadata": {},
   "outputs": [
    {
     "name": "stdout",
     "output_type": "stream",
     "text": [
      "['backgrounds', 'images', 'labels']\n"
     ]
    },
    {
     "data": {
      "text/html": [
       "<div>\n",
       "<style scoped>\n",
       "    .dataframe tbody tr th:only-of-type {\n",
       "        vertical-align: middle;\n",
       "    }\n",
       "\n",
       "    .dataframe tbody tr th {\n",
       "        vertical-align: top;\n",
       "    }\n",
       "\n",
       "    .dataframe thead th {\n",
       "        text-align: right;\n",
       "    }\n",
       "</style>\n",
       "<table border=\"1\" class=\"dataframe\">\n",
       "  <thead>\n",
       "    <tr style=\"text-align: right;\">\n",
       "      <th></th>\n",
       "      <th>train</th>\n",
       "      <th>valid</th>\n",
       "      <th>test</th>\n",
       "    </tr>\n",
       "  </thead>\n",
       "  <tbody>\n",
       "    <tr>\n",
       "      <th>image shape</th>\n",
       "      <td>(8514, 3, 32, 32)</td>\n",
       "      <td>(2838, 3, 32, 32)</td>\n",
       "      <td>(2838, 3, 32, 32)</td>\n",
       "    </tr>\n",
       "    <tr>\n",
       "      <th>image type</th>\n",
       "      <td>float32</td>\n",
       "      <td>float32</td>\n",
       "      <td>float32</td>\n",
       "    </tr>\n",
       "    <tr>\n",
       "      <th>label shape</th>\n",
       "      <td>(8514,)</td>\n",
       "      <td>(2838,)</td>\n",
       "      <td>(2838,)</td>\n",
       "    </tr>\n",
       "    <tr>\n",
       "      <th>label type</th>\n",
       "      <td>int32</td>\n",
       "      <td>int32</td>\n",
       "      <td>int32</td>\n",
       "    </tr>\n",
       "  </tbody>\n",
       "</table>\n",
       "</div>"
      ],
      "text/plain": [
       "                         train              valid               test\n",
       "image shape  (8514, 3, 32, 32)  (2838, 3, 32, 32)  (2838, 3, 32, 32)\n",
       "image type             float32            float32            float32\n",
       "label shape            (8514,)            (2838,)            (2838,)\n",
       "label type               int32              int32              int32"
      ]
     },
     "metadata": {},
     "output_type": "display_data"
    }
   ],
   "source": [
    "fpath='../input/classification-of-handwritten-letters/'\n",
    "f='LetterColorImages_123.h5'\n",
    "[[x_train,x_valid,x_test],\n",
    " [y_train,y_valid,y_test]]=\\\n",
    "load_h5py(fpath+f,32)"
   ]
  },
  {
   "cell_type": "code",
   "execution_count": 9,
   "metadata": {},
   "outputs": [
    {
     "name": "stdout",
     "output_type": "stream",
     "text": [
      "Image dimensions: torch.Size([128, 3, 32, 32])\n",
      "Label dimensions: torch.Size([128])\n"
     ]
    },
    {
     "data": {
      "image/png": "[encoded data removed]",
      "text/plain": [
       "<Figure size 792x288 with 5 Axes>"
      ]
     },
     "metadata": {},
     "output_type": "display_data"
    }
   ],
   "source": [
    "random_seed=23; batch_size2=128\n",
    "train2=TData(x_train,y_train)\n",
    "valid2=TData(x_valid,y_valid)\n",
    "test2=TData(x_test,y_test)\n",
    "train_loader2=tdl(dataset=train2,\n",
    "                  batch_size=batch_size2,shuffle=True)\n",
    "valid_loader2=tdl(dataset=valid2,\n",
    "                  batch_size=batch_size2,shuffle=True)\n",
    "test_loader2=tdl(dataset=test2,\n",
    "                 batch_size=batch_size2,shuffle=False)\n",
    "display_examples(valid_loader2,32)"
   ]
  },
  {
   "cell_type": "markdown",
   "execution_count": null,
   "metadata": {},
   "source": [
    "## DenseNet"
   ]
  },
  {
   "cell_type": "code",
   "execution_count": 10,
   "metadata": {
    "_kg_hide-input": true
   },
   "outputs": [],
   "source": [
    "def _bn_function_call(norm,relu,conv):\n",
    "    def bn_function(*inputs):\n",
    "        concated_features=torch.cat(inputs,1)\n",
    "        bottleneck_output=conv(relu(norm(concated_features)))\n",
    "        return bottleneck_output\n",
    "    return bn_function\n",
    "class _DenseLayer(tnn.Sequential):\n",
    "    def __init__(self,num_input_features,growth_rate,\n",
    "                 bn_size,drop_rate,memory_efficient=False):\n",
    "        super(_DenseLayer,self).__init__()\n",
    "        self.add_module('norm1',\n",
    "                        tnn.BatchNorm2d(num_input_features)),\n",
    "        self.add_module('relu1',tnn.ReLU(inplace=True)),\n",
    "        self.add_module('conv1',\\\n",
    "        tnn.Conv2d(num_input_features,bn_size*growth_rate,\n",
    "                   kernel_size=1,stride=1,bias=False)),\n",
    "        self.add_module('norm2',\n",
    "                        tnn.BatchNorm2d(bn_size*growth_rate)),\n",
    "        self.add_module('relu2',tnn.ReLU(inplace=True)),\n",
    "        self.add_module('conv2',\\\n",
    "        tnn.Conv2d(bn_size*growth_rate,growth_rate,\n",
    "                   kernel_size=3,stride=1,\n",
    "                   padding=1,bias=False)),\n",
    "        self.drop_rate=drop_rate\n",
    "        self.memory_efficient=memory_efficient\n",
    "    def forward(self,*prev_features):\n",
    "        bn_function=_bn_function_call(self.norm1,\n",
    "                                      self.relu1,self.conv1)\n",
    "        if self.memory_efficient and \\\n",
    "        any(prev_feature.requires_grad \\\n",
    "            for prev_feature in prev_features):\n",
    "            bottleneck_output=tcp.checkpoint(bn_function,*prev_features)\n",
    "        else:\n",
    "            bottleneck_output=bn_function(*prev_features)\n",
    "        new_features=self.conv2(self.relu2(\n",
    "            self.norm2(bottleneck_output)))\n",
    "        if self.drop_rate>0:\n",
    "            new_features=tnn.functional.dropout(new_features,\\\n",
    "            p=self.drop_rate,training=self.training)\n",
    "        return new_features"
   ]
  },
  {
   "cell_type": "code",
   "execution_count": 11,
   "metadata": {
    "_kg_hide-input": true
   },
   "outputs": [],
   "source": [
    "class _DenseBlock(tnn.Module):\n",
    "    def __init__(self,num_layers,num_input_features,\n",
    "                 bn_size, growth_rate,drop_rate,\n",
    "                 memory_efficient=False):\n",
    "        super(_DenseBlock,self).__init__()\n",
    "        for i in range(num_layers):\n",
    "            layer=_DenseLayer(\n",
    "                num_input_features+i*growth_rate,\n",
    "                growth_rate=growth_rate,\n",
    "                bn_size=bn_size,drop_rate=drop_rate,\n",
    "                memory_efficient=memory_efficient)\n",
    "            self.add_module('denselayer%d'%(i+1),layer)\n",
    "    def forward(self,init_features):\n",
    "        features=[init_features]\n",
    "        for name,layer in self.named_children():\n",
    "            new_features=layer(*features)\n",
    "            features.append(new_features)\n",
    "        return torch.cat(features,1)\n",
    "class _Transition(tnn.Sequential):\n",
    "    def __init__(self,num_input_features,num_output_features):\n",
    "        super(_Transition,self).__init__()\n",
    "        self.add_module('norm',\n",
    "                        tnn.BatchNorm2d(num_input_features))\n",
    "        self.add_module('relu',tnn.ReLU(inplace=True))\n",
    "        self.add_module('conv',\\\n",
    "        tnn.Conv2d(num_input_features,num_output_features,\n",
    "                   kernel_size=1,stride=1,bias=False))\n",
    "        self.add_module('pool',\n",
    "                        tnn.AvgPool2d(kernel_size=2,stride=2))   "
   ]
  },
  {
   "cell_type": "code",
   "execution_count": 12,
   "metadata": {},
   "outputs": [],
   "source": [
    "class DenseNN121(tnn.Module):\n",
    "    def __init__(self,growth_rate=32,block_config=(6,12,24,16),\n",
    "                 num_init_featuremaps=64,bn_size=4,drop_rate=0,\n",
    "                 num_classes=1000,memory_efficient=False,\n",
    "                 grayscale=False):\n",
    "        super(DenseNN121,self).__init__()\n",
    "        if grayscale: in_channels=1\n",
    "        else: in_channels=3       \n",
    "        self.features=tnn.Sequential(od([\n",
    "            ('conv0',tnn.Conv2d(in_channels=in_channels,\n",
    "                                out_channels=num_init_featuremaps,\n",
    "                                kernel_size=7,stride=2,\n",
    "                                padding=3,bias=False)),\n",
    "            ('norm0',tnn.BatchNorm2d(num_features=num_init_featuremaps)),\n",
    "            ('relu0',tnn.ReLU(inplace=True)),\n",
    "            ('pool0',tnn.MaxPool2d(kernel_size=3,stride=2,padding=1))]))\n",
    "        num_features=num_init_featuremaps\n",
    "        for i,num_layers in enumerate(block_config):\n",
    "            block=_DenseBlock(\n",
    "                num_layers=num_layers,\n",
    "                num_input_features=num_features,\n",
    "                bn_size=bn_size,drop_rate=drop_rate,\n",
    "                growth_rate=growth_rate,\n",
    "                memory_efficient=memory_efficient)\n",
    "            self.features.add_module('denseblock%d'%(i+1),block)\n",
    "            num_features=num_features+num_layers*growth_rate\n",
    "            if i!=len(block_config)-1:\n",
    "                trans=_Transition(num_input_features=num_features,\n",
    "                                  num_output_features=num_features//2)\n",
    "                self.features.add_module('transition%d'%(i+1),trans)\n",
    "                num_features=num_features//2\n",
    "        self.features.add_module('norm5',tnn.BatchNorm2d(num_features))\n",
    "        self.classifier=tnn.Linear(num_features,num_classes)\n",
    "        for m in self.modules():\n",
    "            if isinstance(m,tnn.Conv2d):\n",
    "                tnn.init.kaiming_normal_(m.weight)\n",
    "            elif isinstance(m,tnn.BatchNorm2d):\n",
    "                tnn.init.constant_(m.weight,1)\n",
    "                tnn.init.constant_(m.bias,0)\n",
    "            elif isinstance(m,tnn.Linear):\n",
    "                tnn.init.constant_(m.bias,0)\n",
    "    def forward(self,x):\n",
    "        y=self.features(x)\n",
    "        y=tnn.functional.relu(y,inplace=True)\n",
    "        y=tnn.functional.adaptive_avg_pool2d(y,(1,1))\n",
    "        y=torch.flatten(y,1)\n",
    "        logits=self.classifier(y)\n",
    "        probs=tnn.functional.softmax(logits,dim=1)\n",
    "        return logits,probs"
   ]
  },
  {
   "cell_type": "markdown",
   "execution_count": null,
   "metadata": {},
   "source": [
    "## Training"
   ]
  },
  {
   "cell_type": "code",
   "execution_count": 13,
   "metadata": {},
   "outputs": [],
   "source": [
    "random_seed=34; num_classes=10\n",
    "learning_rate=.001; grayscale=False\n",
    "model=DenseNN121(num_classes=num_classes,\n",
    "                 grayscale=grayscale)\n",
    "model.to(dev)\n",
    "optimizer=torch.optim.Adam(model.parameters(),\n",
    "                           lr=learning_rate) "
   ]
  },
  {
   "cell_type": "code",
   "execution_count": 14,
   "metadata": {
    "_kg_hide-input": true
   },
   "outputs": [],
   "source": [
    "@register_line_magic\n",
    "def train_run(epochs):\n",
    "    epochs=int(epochs)\n",
    "    for epoch in range(epochs):\n",
    "        model.train()\n",
    "        for batch_ids,(features,targets) in enumerate(train_loader):        \n",
    "            features=features.to(dev); targets=targets.to(dev)\n",
    "            logits,probs=model(features)\n",
    "            cost=tnn.functional.cross_entropy(logits,targets)\n",
    "            optimizer.zero_grad(); cost.backward()\n",
    "            optimizer.step()\n",
    "            if not batch_ids%100:\n",
    "                print ('Epoch: %03d/%03d | Batch %03d/%03d | Cost: %.4f' \n",
    "                       %(epoch+1,epochs,batch_ids, \n",
    "                         len(train)//batch_size,cost))\n",
    "        model.eval()         \n",
    "        with torch.set_grad_enabled(False):\n",
    "            print('Epoch: %03d/%03d train acc: %.2f%% valid acc: %.2f%%'%\\\n",
    "                  (epoch+1,epochs,\n",
    "                   model_acc(model,train_loader),\n",
    "                   model_acc(model,valid_loader)))"
   ]
  },
  {
   "cell_type": "code",
   "execution_count": 15,
   "metadata": {
    "_kg_hide-output": true
   },
   "outputs": [
    {
     "name": "stdout",
     "output_type": "stream",
     "text": [
      "Epoch: 001/020 | Batch 000/343 | Cost: 2.4075\n",
      "Epoch: 001/020 | Batch 100/343 | Cost: 1.5634\n",
      "Epoch: 001/020 | Batch 200/343 | Cost: 1.4245\n",
      "Epoch: 001/020 | Batch 300/343 | Cost: 1.2124\n",
      "Epoch: 001/020 train acc: 60.44% valid acc: 58.67%\n",
      "Epoch: 002/020 | Batch 000/343 | Cost: 0.9322\n",
      "Epoch: 002/020 | Batch 100/343 | Cost: 1.0152\n",
      "Epoch: 002/020 | Batch 200/343 | Cost: 0.9094\n",
      "Epoch: 002/020 | Batch 300/343 | Cost: 0.9052\n",
      "Epoch: 002/020 train acc: 69.95% valid acc: 65.97%\n",
      "Epoch: 003/020 | Batch 000/343 | Cost: 0.9192\n",
      "Epoch: 003/020 | Batch 100/343 | Cost: 0.8141\n",
      "Epoch: 003/020 | Batch 200/343 | Cost: 0.6351\n",
      "Epoch: 003/020 | Batch 300/343 | Cost: 0.8381\n",
      "Epoch: 003/020 train acc: 76.24% valid acc: 70.32%\n",
      "Epoch: 004/020 | Batch 000/343 | Cost: 0.7740\n",
      "Epoch: 004/020 | Batch 100/343 | Cost: 0.7198\n",
      "Epoch: 004/020 | Batch 200/343 | Cost: 0.5254\n",
      "Epoch: 004/020 | Batch 300/343 | Cost: 0.8924\n",
      "Epoch: 004/020 train acc: 81.09% valid acc: 71.95%\n",
      "Epoch: 005/020 | Batch 000/343 | Cost: 0.4779\n",
      "Epoch: 005/020 | Batch 100/343 | Cost: 0.6265\n",
      "Epoch: 005/020 | Batch 200/343 | Cost: 0.6254\n",
      "Epoch: 005/020 | Batch 300/343 | Cost: 0.7997\n",
      "Epoch: 005/020 train acc: 84.94% valid acc: 72.90%\n",
      "Epoch: 006/020 | Batch 000/343 | Cost: 0.4543\n",
      "Epoch: 006/020 | Batch 100/343 | Cost: 0.4798\n",
      "Epoch: 006/020 | Batch 200/343 | Cost: 0.5148\n",
      "Epoch: 006/020 | Batch 300/343 | Cost: 0.4164\n",
      "Epoch: 006/020 train acc: 88.98% valid acc: 75.28%\n",
      "Epoch: 007/020 | Batch 000/343 | Cost: 0.2967\n",
      "Epoch: 007/020 | Batch 100/343 | Cost: 0.3969\n",
      "Epoch: 007/020 | Batch 200/343 | Cost: 0.3762\n",
      "Epoch: 007/020 | Batch 300/343 | Cost: 0.4426\n",
      "Epoch: 007/020 train acc: 91.83% valid acc: 75.68%\n",
      "Epoch: 008/020 | Batch 000/343 | Cost: 0.2210\n",
      "Epoch: 008/020 | Batch 100/343 | Cost: 0.4051\n",
      "Epoch: 008/020 | Batch 200/343 | Cost: 0.2213\n",
      "Epoch: 008/020 | Batch 300/343 | Cost: 0.4959\n",
      "Epoch: 008/020 train acc: 91.93% valid acc: 75.12%\n",
      "Epoch: 009/020 | Batch 000/343 | Cost: 0.2663\n",
      "Epoch: 009/020 | Batch 100/343 | Cost: 0.1727\n",
      "Epoch: 009/020 | Batch 200/343 | Cost: 0.1757\n",
      "Epoch: 009/020 | Batch 300/343 | Cost: 0.3495\n",
      "Epoch: 009/020 train acc: 93.40% valid acc: 74.67%\n",
      "Epoch: 010/020 | Batch 000/343 | Cost: 0.1269\n",
      "Epoch: 010/020 | Batch 100/343 | Cost: 0.1309\n",
      "Epoch: 010/020 | Batch 200/343 | Cost: 0.2183\n",
      "Epoch: 010/020 | Batch 300/343 | Cost: 0.1592\n",
      "Epoch: 010/020 train acc: 94.30% valid acc: 75.67%\n",
      "Epoch: 011/020 | Batch 000/343 | Cost: 0.0982\n",
      "Epoch: 011/020 | Batch 100/343 | Cost: 0.1041\n",
      "Epoch: 011/020 | Batch 200/343 | Cost: 0.1963\n",
      "Epoch: 011/020 | Batch 300/343 | Cost: 0.1985\n",
      "Epoch: 011/020 train acc: 95.50% valid acc: 75.87%\n",
      "Epoch: 012/020 | Batch 000/343 | Cost: 0.1418\n",
      "Epoch: 012/020 | Batch 100/343 | Cost: 0.1607\n",
      "Epoch: 012/020 | Batch 200/343 | Cost: 0.2289\n",
      "Epoch: 012/020 | Batch 300/343 | Cost: 0.1403\n",
      "Epoch: 012/020 train acc: 96.29% valid acc: 75.33%\n",
      "Epoch: 013/020 | Batch 000/343 | Cost: 0.0915\n",
      "Epoch: 013/020 | Batch 100/343 | Cost: 0.0973\n",
      "Epoch: 013/020 | Batch 200/343 | Cost: 0.1901\n",
      "Epoch: 013/020 | Batch 300/343 | Cost: 0.1156\n",
      "Epoch: 013/020 train acc: 97.08% valid acc: 76.38%\n",
      "Epoch: 014/020 | Batch 000/343 | Cost: 0.0758\n",
      "Epoch: 014/020 | Batch 100/343 | Cost: 0.2172\n",
      "Epoch: 014/020 | Batch 200/343 | Cost: 0.1374\n",
      "Epoch: 014/020 | Batch 300/343 | Cost: 0.1262\n",
      "Epoch: 014/020 train acc: 96.45% valid acc: 75.22%\n",
      "Epoch: 015/020 | Batch 000/343 | Cost: 0.0526\n",
      "Epoch: 015/020 | Batch 100/343 | Cost: 0.0421\n",
      "Epoch: 015/020 | Batch 200/343 | Cost: 0.0532\n",
      "Epoch: 015/020 | Batch 300/343 | Cost: 0.0653\n",
      "Epoch: 015/020 train acc: 95.98% valid acc: 75.08%\n",
      "Epoch: 016/020 | Batch 000/343 | Cost: 0.1625\n",
      "Epoch: 016/020 | Batch 100/343 | Cost: 0.0353\n",
      "Epoch: 016/020 | Batch 200/343 | Cost: 0.1594\n",
      "Epoch: 016/020 | Batch 300/343 | Cost: 0.0591\n",
      "Epoch: 016/020 train acc: 97.30% valid acc: 76.38%\n",
      "Epoch: 017/020 | Batch 000/343 | Cost: 0.1042\n",
      "Epoch: 017/020 | Batch 100/343 | Cost: 0.0870\n",
      "Epoch: 017/020 | Batch 200/343 | Cost: 0.0948\n",
      "Epoch: 017/020 | Batch 300/343 | Cost: 0.0893\n",
      "Epoch: 017/020 train acc: 96.95% valid acc: 75.68%\n",
      "Epoch: 018/020 | Batch 000/343 | Cost: 0.1108\n",
      "Epoch: 018/020 | Batch 100/343 | Cost: 0.1341\n",
      "Epoch: 018/020 | Batch 200/343 | Cost: 0.1532\n",
      "Epoch: 018/020 | Batch 300/343 | Cost: 0.0947\n",
      "Epoch: 018/020 train acc: 96.96% valid acc: 76.55%\n",
      "Epoch: 019/020 | Batch 000/343 | Cost: 0.1069\n",
      "Epoch: 019/020 | Batch 100/343 | Cost: 0.0197\n",
      "Epoch: 019/020 | Batch 200/343 | Cost: 0.1729\n",
      "Epoch: 019/020 | Batch 300/343 | Cost: 0.0635\n",
      "Epoch: 019/020 train acc: 97.70% valid acc: 76.13%\n",
      "Epoch: 020/020 | Batch 000/343 | Cost: 0.0380\n",
      "Epoch: 020/020 | Batch 100/343 | Cost: 0.0799\n",
      "Epoch: 020/020 | Batch 200/343 | Cost: 0.0784\n",
      "Epoch: 020/020 | Batch 300/343 | Cost: 0.0595\n",
      "Epoch: 020/020 train acc: 98.17% valid acc: 76.88%\n"
     ]
    }
   ],
   "source": [
    "%train_run 20"
   ]
  },
  {
   "cell_type": "code",
   "execution_count": 16,
   "metadata": {},
   "outputs": [
    {
     "name": "stdout",
     "output_type": "stream",
     "text": [
      "Train accuracy: 98.1682%\n",
      "Valid accuracy: 76.8833%\n",
      "Test accuracy: 76.2600%\n"
     ]
    }
   ],
   "source": [
    "%print_acc 1"
   ]
  },
  {
   "cell_type": "code",
   "execution_count": 17,
   "metadata": {},
   "outputs": [],
   "source": [
    "random_seed=45; num_classes=33\n",
    "learning_rate=.001; grayscale=False\n",
    "model=DenseNN121(num_classes=num_classes,\n",
    "                 grayscale=grayscale)\n",
    "model.to(dev)\n",
    "optimizer=torch.optim.Adam(model.parameters(),\n",
    "                           lr=learning_rate) "
   ]
  },
  {
   "cell_type": "code",
   "execution_count": 18,
   "metadata": {
    "_kg_hide-input": true
   },
   "outputs": [],
   "source": [
    "@register_line_magic\n",
    "def train_run2(epochs):\n",
    "    epochs=int(epochs)\n",
    "    for epoch in range(epochs):\n",
    "        model.train()\n",
    "        for batch_ids,(features,targets) in enumerate(train_loader2):        \n",
    "            features=features.to(dev); targets=targets.to(dev)\n",
    "            logits,probs=model(features)\n",
    "            cost=tnn.functional.cross_entropy(logits,targets.long())\n",
    "            optimizer.zero_grad(); cost.backward()\n",
    "            optimizer.step()\n",
    "            if not batch_ids%50:\n",
    "                print ('Epoch: %03d/%03d | Batch %03d/%03d | Cost: %.4f' \n",
    "                       %(epoch+1,epochs,batch_ids, \n",
    "                         len(train2)//batch_size2,cost))\n",
    "        model.eval()         \n",
    "        with torch.set_grad_enabled(False):\n",
    "            print('Epoch: %03d/%03d train acc: %.2f%% valid acc: %.2f%%'%\\\n",
    "                  (epoch+1,epochs,\n",
    "                   model_acc(model,train_loader2),\n",
    "                   model_acc(model,valid_loader2)))"
   ]
  },
  {
   "cell_type": "code",
   "execution_count": 19,
   "metadata": {
    "_kg_hide-output": true
   },
   "outputs": [
    {
     "name": "stdout",
     "output_type": "stream",
     "text": [
      "Epoch: 001/030 | Batch 000/066 | Cost: 3.6143\n",
      "Epoch: 001/030 | Batch 050/066 | Cost: 2.9037\n",
      "Epoch: 001/030 train acc: 12.54% valid acc: 11.56%\n",
      "Epoch: 002/030 | Batch 000/066 | Cost: 2.7807\n",
      "Epoch: 002/030 | Batch 050/066 | Cost: 2.4174\n",
      "Epoch: 002/030 train acc: 18.69% valid acc: 17.37%\n",
      "Epoch: 003/030 | Batch 000/066 | Cost: 2.1257\n",
      "Epoch: 003/030 | Batch 050/066 | Cost: 1.8177\n",
      "Epoch: 003/030 train acc: 19.16% valid acc: 16.67%\n",
      "Epoch: 004/030 | Batch 000/066 | Cost: 1.7542\n",
      "Epoch: 004/030 | Batch 050/066 | Cost: 1.8042\n",
      "Epoch: 004/030 train acc: 44.35% valid acc: 37.03%\n",
      "Epoch: 005/030 | Batch 000/066 | Cost: 1.3463\n",
      "Epoch: 005/030 | Batch 050/066 | Cost: 1.2261\n",
      "Epoch: 005/030 train acc: 26.69% valid acc: 23.54%\n",
      "Epoch: 006/030 | Batch 000/066 | Cost: 1.3528\n",
      "Epoch: 006/030 | Batch 050/066 | Cost: 1.3459\n",
      "Epoch: 006/030 train acc: 41.88% valid acc: 34.78%\n",
      "Epoch: 007/030 | Batch 000/066 | Cost: 0.9392\n",
      "Epoch: 007/030 | Batch 050/066 | Cost: 1.0370\n",
      "Epoch: 007/030 train acc: 56.03% valid acc: 46.26%\n",
      "Epoch: 008/030 | Batch 000/066 | Cost: 0.7485\n",
      "Epoch: 008/030 | Batch 050/066 | Cost: 0.8327\n",
      "Epoch: 008/030 train acc: 40.94% valid acc: 34.14%\n",
      "Epoch: 009/030 | Batch 000/066 | Cost: 0.8968\n",
      "Epoch: 009/030 | Batch 050/066 | Cost: 0.8276\n",
      "Epoch: 009/030 train acc: 37.55% valid acc: 32.63%\n",
      "Epoch: 010/030 | Batch 000/066 | Cost: 0.6252\n",
      "Epoch: 010/030 | Batch 050/066 | Cost: 0.6773\n",
      "Epoch: 010/030 train acc: 48.78% valid acc: 39.61%\n",
      "Epoch: 011/030 | Batch 000/066 | Cost: 0.3599\n",
      "Epoch: 011/030 | Batch 050/066 | Cost: 0.6516\n",
      "Epoch: 011/030 train acc: 54.75% valid acc: 44.05%\n",
      "Epoch: 012/030 | Batch 000/066 | Cost: 0.4935\n",
      "Epoch: 012/030 | Batch 050/066 | Cost: 0.3447\n",
      "Epoch: 012/030 train acc: 56.32% valid acc: 42.18%\n",
      "Epoch: 013/030 | Batch 000/066 | Cost: 0.4017\n",
      "Epoch: 013/030 | Batch 050/066 | Cost: 0.3122\n",
      "Epoch: 013/030 train acc: 63.11% valid acc: 47.60%\n",
      "Epoch: 014/030 | Batch 000/066 | Cost: 0.2962\n",
      "Epoch: 014/030 | Batch 050/066 | Cost: 0.2878\n",
      "Epoch: 014/030 train acc: 77.50% valid acc: 56.73%\n",
      "Epoch: 015/030 | Batch 000/066 | Cost: 0.2899\n",
      "Epoch: 015/030 | Batch 050/066 | Cost: 0.1750\n",
      "Epoch: 015/030 train acc: 64.52% valid acc: 49.26%\n",
      "Epoch: 016/030 | Batch 000/066 | Cost: 0.3301\n",
      "Epoch: 016/030 | Batch 050/066 | Cost: 0.2915\n",
      "Epoch: 016/030 train acc: 80.83% valid acc: 59.20%\n",
      "Epoch: 017/030 | Batch 000/066 | Cost: 0.1029\n",
      "Epoch: 017/030 | Batch 050/066 | Cost: 0.1221\n",
      "Epoch: 017/030 train acc: 67.35% valid acc: 48.41%\n",
      "Epoch: 018/030 | Batch 000/066 | Cost: 0.0781\n",
      "Epoch: 018/030 | Batch 050/066 | Cost: 0.1770\n",
      "Epoch: 018/030 train acc: 72.35% valid acc: 53.31%\n",
      "Epoch: 019/030 | Batch 000/066 | Cost: 0.1872\n",
      "Epoch: 019/030 | Batch 050/066 | Cost: 0.1777\n",
      "Epoch: 019/030 train acc: 26.19% valid acc: 21.46%\n",
      "Epoch: 020/030 | Batch 000/066 | Cost: 0.1382\n",
      "Epoch: 020/030 | Batch 050/066 | Cost: 0.1977\n",
      "Epoch: 020/030 train acc: 80.39% valid acc: 57.79%\n",
      "Epoch: 021/030 | Batch 000/066 | Cost: 0.1969\n",
      "Epoch: 021/030 | Batch 050/066 | Cost: 0.1501\n",
      "Epoch: 021/030 train acc: 52.50% valid acc: 39.78%\n",
      "Epoch: 022/030 | Batch 000/066 | Cost: 0.1509\n",
      "Epoch: 022/030 | Batch 050/066 | Cost: 0.1418\n",
      "Epoch: 022/030 train acc: 78.20% valid acc: 56.10%\n",
      "Epoch: 023/030 | Batch 000/066 | Cost: 0.0979\n",
      "Epoch: 023/030 | Batch 050/066 | Cost: 0.1074\n",
      "Epoch: 023/030 train acc: 85.04% valid acc: 58.49%\n",
      "Epoch: 024/030 | Batch 000/066 | Cost: 0.0657\n",
      "Epoch: 024/030 | Batch 050/066 | Cost: 0.0717\n",
      "Epoch: 024/030 train acc: 85.69% valid acc: 60.47%\n",
      "Epoch: 025/030 | Batch 000/066 | Cost: 0.0165\n",
      "Epoch: 025/030 | Batch 050/066 | Cost: 0.0839\n",
      "Epoch: 025/030 train acc: 70.26% valid acc: 48.84%\n",
      "Epoch: 026/030 | Batch 000/066 | Cost: 0.0297\n",
      "Epoch: 026/030 | Batch 050/066 | Cost: 0.1057\n",
      "Epoch: 026/030 train acc: 72.46% valid acc: 51.83%\n",
      "Epoch: 027/030 | Batch 000/066 | Cost: 0.1507\n",
      "Epoch: 027/030 | Batch 050/066 | Cost: 0.1494\n",
      "Epoch: 027/030 train acc: 74.88% valid acc: 53.88%\n",
      "Epoch: 028/030 | Batch 000/066 | Cost: 0.0490\n",
      "Epoch: 028/030 | Batch 050/066 | Cost: 0.1752\n",
      "Epoch: 028/030 train acc: 81.67% valid acc: 59.41%\n",
      "Epoch: 029/030 | Batch 000/066 | Cost: 0.0981\n",
      "Epoch: 029/030 | Batch 050/066 | Cost: 0.2209\n",
      "Epoch: 029/030 train acc: 78.60% valid acc: 55.81%\n",
      "Epoch: 030/030 | Batch 000/066 | Cost: 0.0647\n",
      "Epoch: 030/030 | Batch 050/066 | Cost: 0.0387\n",
      "Epoch: 030/030 train acc: 87.19% valid acc: 61.59%\n"
     ]
    }
   ],
   "source": [
    "%train_run2 30"
   ]
  },
  {
   "cell_type": "code",
   "execution_count": 20,
   "metadata": {},
   "outputs": [
    {
     "name": "stdout",
     "output_type": "stream",
     "text": [
      "Train accuracy: 87.1858%\n",
      "Valid accuracy: 61.5927%\n",
      "Test accuracy: 61.0641%\n"
     ]
    }
   ],
   "source": [
    "%print_acc 2"
   ]
  }
 ],
 "metadata": {
  "kernelspec": {
   "display_name": "Python 3",
   "language": "python",
   "name": "python3"
  },
  "language_info": {
   "codemirror_mode": {
    "name": "ipython",
    "version": 3
   },
   "file_extension": ".py",
   "mimetype": "text/x-python",
   "name": "python",
   "nbconvert_exporter": "python",
   "pygments_lexer": "ipython3",
   "version": "3.7.6"
  },
  "widgets": {
   "application/vnd.jupyter.widget-state+json": {
    "state": {
     "059bcf3171344c56a7137dce451444e3": {
      "model_module": "@jupyter-widgets/base",
      "model_module_version": "1.2.0",
      "model_name": "LayoutModel",
      "state": {
       "_model_module": "@jupyter-widgets/base",
       "_model_module_version": "1.2.0",
       "_model_name": "LayoutModel",
       "_view_count": null,
       "_view_module": "@jupyter-widgets/base",
       "_view_module_version": "1.2.0",
       "_view_name": "LayoutView",
       "align_content": null,
       "align_items": null,
       "align_self": null,
       "border": null,
       "bottom": null,
       "display": null,
       "flex": null,
       "flex_flow": null,
       "grid_area": null,
       "grid_auto_columns": null,
       "grid_auto_flow": null,
       "grid_auto_rows": null,
       "grid_column": null,
       "grid_gap": null,
       "grid_row": null,
       "grid_template_areas": null,
       "grid_template_columns": null,
       "grid_template_rows": null,
       "height": null,
       "justify_content": null,
       "justify_items": null,
       "left": null,
       "margin": null,
       "max_height": null,
       "max_width": null,
       "min_height": null,
       "min_width": null,
       "object_fit": null,
       "object_position": null,
       "order": null,
       "overflow": null,
       "overflow_x": null,
       "overflow_y": null,
       "padding": null,
       "right": null,
       "top": null,
       "visibility": null,
       "width": null
      }
     },
     "6d509e5123394aee9859d5779ab1ae03": {
      "model_module": "@jupyter-widgets/controls",
      "model_module_version": "1.5.0",
      "model_name": "DescriptionStyleModel",
      "state": {
       "_model_module": "@jupyter-widgets/controls",
       "_model_module_version": "1.5.0",
       "_model_name": "DescriptionStyleModel",
       "_view_count": null,
       "_view_module": "@jupyter-widgets/base",
       "_view_module_version": "1.2.0",
       "_view_name": "StyleView",
       "description_width": ""
      }
     },
     "a42a62ac135648c5a859cc4ac75b1ca4": {
      "model_module": "@jupyter-widgets/base",
      "model_module_version": "1.2.0",
      "model_name": "LayoutModel",
      "state": {
       "_model_module": "@jupyter-widgets/base",
       "_model_module_version": "1.2.0",
       "_model_name": "LayoutModel",
       "_view_count": null,
       "_view_module": "@jupyter-widgets/base",
       "_view_module_version": "1.2.0",
       "_view_name": "LayoutView",
       "align_content": null,
       "align_items": null,
       "align_self": null,
       "border": null,
       "bottom": null,
       "display": null,
       "flex": null,
       "flex_flow": null,
       "grid_area": null,
       "grid_auto_columns": null,
       "grid_auto_flow": null,
       "grid_auto_rows": null,
       "grid_column": null,
       "grid_gap": null,
       "grid_row": null,
       "grid_template_areas": null,
       "grid_template_columns": null,
       "grid_template_rows": null,
       "height": null,
       "justify_content": null,
       "justify_items": null,
       "left": null,
       "margin": null,
       "max_height": null,
       "max_width": null,
       "min_height": null,
       "min_width": null,
       "object_fit": null,
       "object_position": null,
       "order": null,
       "overflow": null,
       "overflow_x": null,
       "overflow_y": null,
       "padding": null,
       "right": null,
       "top": null,
       "visibility": null,
       "width": null
      }
     },
     "b5d0b43644164f13a22334e8c672d289": {
      "model_module": "@jupyter-widgets/controls",
      "model_module_version": "1.5.0",
      "model_name": "HBoxModel",
      "state": {
       "_dom_classes": [],
       "_model_module": "@jupyter-widgets/controls",
       "_model_module_version": "1.5.0",
       "_model_name": "HBoxModel",
       "_view_count": null,
       "_view_module": "@jupyter-widgets/controls",
       "_view_module_version": "1.5.0",
       "_view_name": "HBoxView",
       "box_style": "",
       "children": [
        "IPY_MODEL_e007a4e3049745d9a433c778210e0c44",
        "IPY_MODEL_cb42090abed544bc914debe6a8a2e7a3"
       ],
       "layout": "IPY_MODEL_a42a62ac135648c5a859cc4ac75b1ca4"
      }
     },
     "cb42090abed544bc914debe6a8a2e7a3": {
      "model_module": "@jupyter-widgets/controls",
      "model_module_version": "1.5.0",
      "model_name": "HTMLModel",
      "state": {
       "_dom_classes": [],
       "_model_module": "@jupyter-widgets/controls",
       "_model_module_version": "1.5.0",
       "_model_name": "HTMLModel",
       "_view_count": null,
       "_view_module": "@jupyter-widgets/controls",
       "_view_module_version": "1.5.0",
       "_view_name": "HTMLView",
       "description": "",
       "description_tooltip": null,
       "layout": "IPY_MODEL_059bcf3171344c56a7137dce451444e3",
       "placeholder": "​",
       "style": "IPY_MODEL_6d509e5123394aee9859d5779ab1ae03",
       "value": " 170500096/? [00:40&lt;00:00, 6894623.85it/s]"
      }
     },
     "e007a4e3049745d9a433c778210e0c44": {
      "model_module": "@jupyter-widgets/controls",
      "model_module_version": "1.5.0",
      "model_name": "FloatProgressModel",
      "state": {
       "_dom_classes": [],
       "_model_module": "@jupyter-widgets/controls",
       "_model_module_version": "1.5.0",
       "_model_name": "FloatProgressModel",
       "_view_count": null,
       "_view_module": "@jupyter-widgets/controls",
       "_view_module_version": "1.5.0",
       "_view_name": "ProgressView",
       "bar_style": "info",
       "description": "",
       "description_tooltip": null,
       "layout": "IPY_MODEL_f427716e36934681ac7a58f4a639e367",
       "max": 1.0,
       "min": 0.0,
       "orientation": "horizontal",
       "style": "IPY_MODEL_eccc57cb55944044bf54eaab973aa159",
       "value": 1.0
      }
     },
     "eccc57cb55944044bf54eaab973aa159": {
      "model_module": "@jupyter-widgets/controls",
      "model_module_version": "1.5.0",
      "model_name": "ProgressStyleModel",
      "state": {
       "_model_module": "@jupyter-widgets/controls",
       "_model_module_version": "1.5.0",
       "_model_name": "ProgressStyleModel",
       "_view_count": null,
       "_view_module": "@jupyter-widgets/base",
       "_view_module_version": "1.2.0",
       "_view_name": "StyleView",
       "bar_color": null,
       "description_width": "initial"
      }
     },
     "f427716e36934681ac7a58f4a639e367": {
      "model_module": "@jupyter-widgets/base",
      "model_module_version": "1.2.0",
      "model_name": "LayoutModel",
      "state": {
       "_model_module": "@jupyter-widgets/base",
       "_model_module_version": "1.2.0",
       "_model_name": "LayoutModel",
       "_view_count": null,
       "_view_module": "@jupyter-widgets/base",
       "_view_module_version": "1.2.0",
       "_view_name": "LayoutView",
       "align_content": null,
       "align_items": null,
       "align_self": null,
       "border": null,
       "bottom": null,
       "display": null,
       "flex": null,
       "flex_flow": null,
       "grid_area": null,
       "grid_auto_columns": null,
       "grid_auto_flow": null,
       "grid_auto_rows": null,
       "grid_column": null,
       "grid_gap": null,
       "grid_row": null,
       "grid_template_areas": null,
       "grid_template_columns": null,
       "grid_template_rows": null,
       "height": null,
       "justify_content": null,
       "justify_items": null,
       "left": null,
       "margin": null,
       "max_height": null,
       "max_width": null,
       "min_height": null,
       "min_width": null,
       "object_fit": null,
       "object_position": null,
       "order": null,
       "overflow": null,
       "overflow_x": null,
       "overflow_y": null,
       "padding": null,
       "right": null,
       "top": null,
       "visibility": null,
       "width": null
      }
     }
    },
    "version_major": 2,
    "version_minor": 0
   }
  }
 },
 "nbformat": 4,
 "nbformat_minor": 4
}
