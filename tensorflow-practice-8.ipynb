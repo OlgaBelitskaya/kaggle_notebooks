{
 "cells": [
  {
   "cell_type": "markdown",
   "execution_count": null,
   "metadata": {
    "papermill": {
     "duration": 0.008247,
     "end_time": "2020-09-06T14:02:34.520420",
     "exception": false,
     "start_time": "2020-09-06T14:02:34.512173",
     "status": "completed"
    },
    "tags": []
   },
   "source": [
    "Reading classics [Python Machine Learning 3rd Edition](https://github.com/rasbt/python-machine-learning-book-3rd-edition/blob/master/ch15/ch15_part1.ipynb)"
   ]
  },
  {
   "cell_type": "code",
   "execution_count": 1,
   "metadata": {
    "_cell_guid": "b1076dfc-b9ad-4769-8c92-a6c4dae69d19",
    "_kg_hide-input": true,
    "_uuid": "8f2839f25d086af736a60e9eeb907d3b93b6e0e5",
    "execution": {
     "iopub.execute_input": "2020-09-06T14:02:34.543165Z",
     "iopub.status.busy": "2020-09-06T14:02:34.542258Z",
     "iopub.status.idle": "2020-09-06T14:02:34.545424Z",
     "shell.execute_reply": "2020-09-06T14:02:34.544942Z"
    },
    "papermill": {
     "duration": 0.017746,
     "end_time": "2020-09-06T14:02:34.545523",
     "exception": false,
     "start_time": "2020-09-06T14:02:34.527777",
     "status": "completed"
    },
    "tags": []
   },
   "outputs": [],
   "source": [
    "from IPython.display import display,HTML\n",
    "c1,c2,f1,f2,fs1,fs2=\\\n",
    "'#11ff66','#6611ff','Wallpoet','Orbitron',20,10\n",
    "def dhtml(string,fontcolor=c1,font=f1,fontsize=fs1):\n",
    "    display(HTML(\"\"\"<style>\n",
    "    @import 'https://fonts.googleapis.com/css?family=\"\"\"\\\n",
    "    +font+\"\"\"&effect=3d-float';</style>\n",
    "    <h1 class='font-effect-3d-float' \n",
    "    style='font-family:\"\"\"+font+\\\n",
    "    \"\"\"; color:\"\"\"+fontcolor+\\\n",
    "    \"\"\"; font-size:\"\"\"+str(fontsize)+\"\"\"px;'>\n",
    "    %s</h1>\"\"\"%string))"
   ]
  },
  {
   "cell_type": "code",
   "execution_count": 2,
   "metadata": {
    "_cell_guid": "79c7e3d0-c299-4dcb-8224-4455121ee9b0",
    "_kg_hide-input": true,
    "_uuid": "d629ff2d2480ee46fbb7e2d37f6b5fab8052498a",
    "execution": {
     "iopub.execute_input": "2020-09-06T14:02:34.567443Z",
     "iopub.status.busy": "2020-09-06T14:02:34.566477Z",
     "iopub.status.idle": "2020-09-06T14:02:34.570449Z",
     "shell.execute_reply": "2020-09-06T14:02:34.571107Z"
    },
    "papermill": {
     "duration": 0.018703,
     "end_time": "2020-09-06T14:02:34.571259",
     "exception": false,
     "start_time": "2020-09-06T14:02:34.552556",
     "status": "completed"
    },
    "tags": []
   },
   "outputs": [
    {
     "data": {
      "text/html": [
       "<style>\n",
       "    @import 'https://fonts.googleapis.com/css?family=Wallpoet&effect=3d-float';</style>\n",
       "    <h1 class='font-effect-3d-float' \n",
       "    style='font-family:Wallpoet; color:#11ff66; font-size:20px;'>\n",
       "    Code Modules, Setting, & Functions</h1>"
      ],
      "text/plain": [
       "<IPython.core.display.HTML object>"
      ]
     },
     "metadata": {},
     "output_type": "display_data"
    }
   ],
   "source": [
    "dhtml('Code Modules, Setting, & Functions')"
   ]
  },
  {
   "cell_type": "code",
   "execution_count": 3,
   "metadata": {
    "execution": {
     "iopub.execute_input": "2020-09-06T14:02:34.592176Z",
     "iopub.status.busy": "2020-09-06T14:02:34.591350Z",
     "iopub.status.idle": "2020-09-06T14:02:42.003745Z",
     "shell.execute_reply": "2020-09-06T14:02:42.002574Z"
    },
    "papermill": {
     "duration": 7.425299,
     "end_time": "2020-09-06T14:02:42.003886",
     "exception": false,
     "start_time": "2020-09-06T14:02:34.578587",
     "status": "completed"
    },
    "tags": []
   },
   "outputs": [],
   "source": [
    "import warnings,imageio,urllib\n",
    "import tensorflow as tf,pylab as pl\n",
    "import pandas as pd,numpy as np\n",
    "import tensorflow.keras.layers as tkl\n",
    "import tensorflow.keras.utils as tku\n",
    "import tensorflow.keras.callbacks as tkc\n",
    "import tensorflow_datasets as tfds\n",
    "from sklearn.metrics import \\\n",
    "classification_report,confusion_matrix\n",
    "from IPython.core.magic import register_line_magic"
   ]
  },
  {
   "cell_type": "code",
   "execution_count": 4,
   "metadata": {
    "execution": {
     "iopub.execute_input": "2020-09-06T14:02:42.026641Z",
     "iopub.status.busy": "2020-09-06T14:02:42.025882Z",
     "iopub.status.idle": "2020-09-06T14:02:42.029880Z",
     "shell.execute_reply": "2020-09-06T14:02:42.029308Z"
    },
    "papermill": {
     "duration": 0.017967,
     "end_time": "2020-09-06T14:02:42.030001",
     "exception": false,
     "start_time": "2020-09-06T14:02:42.012034",
     "status": "completed"
    },
    "tags": []
   },
   "outputs": [],
   "source": [
    "warnings.filterwarnings('ignore')\n",
    "pd.set_option('precision',3)\n",
    "tf.keras.backend.set_floatx('float64')\n",
    "fw='weights.best.hdf5'\n",
    "buffer_size,batch_size=10000,64\n",
    "pixels,pixels2=28,32\n",
    "num_classes=10"
   ]
  },
  {
   "cell_type": "code",
   "execution_count": 5,
   "metadata": {
    "_kg_hide-input": true,
    "execution": {
     "iopub.execute_input": "2020-09-06T14:02:42.066033Z",
     "iopub.status.busy": "2020-09-06T14:02:42.065209Z",
     "iopub.status.idle": "2020-09-06T14:02:42.068923Z",
     "shell.execute_reply": "2020-09-06T14:02:42.068377Z"
    },
    "papermill": {
     "duration": 0.031204,
     "end_time": "2020-09-06T14:02:42.069022",
     "exception": false,
     "start_time": "2020-09-06T14:02:42.037818",
     "status": "completed"
    },
    "tags": []
   },
   "outputs": [],
   "source": [
    "@register_line_magic\n",
    "def display_examples(pars):\n",
    "    pars=pars.split()\n",
    "    data,n=pars[0],int(pars[1])\n",
    "    if data=='mnist': data=mnist_test\n",
    "    if data=='cifar': data=cifar_test\n",
    "    batch=next(iter(data.batch(n)))\n",
    "    images=batch['image'].numpy()\n",
    "    labels=batch['label'].numpy() \n",
    "    fig=pl.figure(figsize=(2*n//3,4.5))\n",
    "    for i in range(n):\n",
    "        ax=fig.add_subplot(3,n//3,i+1)\n",
    "        ax.set_xticks([]); ax.set_yticks([])\n",
    "        ax.imshow(np.squeeze(images[i]),\n",
    "                  cmap='bone')\n",
    "        ax.text(.85,.15,'{}'.format(labels[i]), \n",
    "                fontdict={'color':c1,'fontsize':30},\n",
    "                horizontalalignment='center',\n",
    "                verticalalignment='center', \n",
    "                transform=ax.transAxes)\n",
    "    pl.show()\n",
    "@register_line_magic\n",
    "def display_reports(data):\n",
    "    global model,fw,buffer_size,c2,f2,fs2\n",
    "    model.load_weights(fw)\n",
    "    if data=='mnist': data=mnist_test\n",
    "    if data=='cifar': data=cifar_test\n",
    "    test_results=model.evaluate(data.batch(buffer_size))\n",
    "    dhtml('\\ntest accuracy: {:.2f}%'\\\n",
    "          .format(test_results[1]*100),\n",
    "          c2,f2,fs2)\n",
    "    batch=next(iter(data.batch(buffer_size)))\n",
    "    y_test=batch[1].numpy()\n",
    "    py_test=np.argmax(\n",
    "        model.predict(data.batch(buffer_size)),\n",
    "                      axis=-1)\n",
    "    dhtml('Classification Report',c2,f2,fs2)\n",
    "    print(classification_report(y_test,py_test))\n",
    "    dhtml('Confusion Matrix',c2,f2,fs2)\n",
    "    print(confusion_matrix(y_test,py_test))"
   ]
  },
  {
   "cell_type": "code",
   "execution_count": 6,
   "metadata": {
    "_kg_hide-input": true,
    "execution": {
     "iopub.execute_input": "2020-09-06T14:02:42.102437Z",
     "iopub.status.busy": "2020-09-06T14:02:42.100409Z",
     "iopub.status.idle": "2020-09-06T14:02:42.103189Z",
     "shell.execute_reply": "2020-09-06T14:02:42.103769Z"
    },
    "papermill": {
     "duration": 0.026866,
     "end_time": "2020-09-06T14:02:42.103891",
     "exception": false,
     "start_time": "2020-09-06T14:02:42.077025",
     "status": "completed"
    },
    "tags": []
   },
   "outputs": [],
   "source": [
    "def history_plot(fit_history):\n",
    "    pl.figure(figsize=(10,10)); pl.subplot(211)\n",
    "    keys=list(fit_history.history.keys())[0:4]\n",
    "    pl.plot(fit_history.history[keys[0]],\n",
    "            color=c1,label='train')\n",
    "    pl.plot(fit_history.history[keys[2]],\n",
    "            color=c2,label='valid')\n",
    "    pl.xlabel(\"Epochs\"); pl.ylabel(\"Loss\")\n",
    "    pl.legend(); pl.grid()\n",
    "    pl.title('Loss Function')     \n",
    "    pl.subplot(212)\n",
    "    pl.plot(fit_history.history[keys[1]],\n",
    "            color=c1,label='train')\n",
    "    pl.plot(fit_history.history[keys[3]],\n",
    "            color=c2,label='valid')\n",
    "    pl.xlabel(\"Epochs\"); pl.ylabel(\"Accuracy\")    \n",
    "    pl.legend(); pl.grid()\n",
    "    pl.title('Accuracy'); pl.show()\n",
    "def cb(fw):\n",
    "    early_stopping=\\\n",
    "    tkc.EarlyStopping(monitor='val_loss',\n",
    "                      patience=20,verbose=2)\n",
    "    checkpointer=\\\n",
    "    tkc.ModelCheckpoint(filepath=fw,\n",
    "                        save_best_only=True,verbose=2)\n",
    "    lr_reduction=\\\n",
    "    tkc.ReduceLROnPlateau(monitor='val_loss',verbose=2,\n",
    "                          patience=5,factor=.75)\n",
    "    return [checkpointer,early_stopping,\n",
    "            lr_reduction]"
   ]
  },
  {
   "cell_type": "code",
   "execution_count": 7,
   "metadata": {
    "_kg_hide-input": true,
    "execution": {
     "iopub.execute_input": "2020-09-06T14:02:42.124331Z",
     "iopub.status.busy": "2020-09-06T14:02:42.123468Z",
     "iopub.status.idle": "2020-09-06T14:02:42.128813Z",
     "shell.execute_reply": "2020-09-06T14:02:42.128141Z"
    },
    "papermill": {
     "duration": 0.017099,
     "end_time": "2020-09-06T14:02:42.128909",
     "exception": false,
     "start_time": "2020-09-06T14:02:42.111810",
     "status": "completed"
    },
    "tags": []
   },
   "outputs": [
    {
     "data": {
      "text/html": [
       "<style>\n",
       "    @import 'https://fonts.googleapis.com/css?family=Wallpoet&effect=3d-float';</style>\n",
       "    <h1 class='font-effect-3d-float' \n",
       "    style='font-family:Wallpoet; color:#11ff66; font-size:20px;'>\n",
       "    Data Processing</h1>"
      ],
      "text/plain": [
       "<IPython.core.display.HTML object>"
      ]
     },
     "metadata": {},
     "output_type": "display_data"
    }
   ],
   "source": [
    "dhtml('Data Processing')"
   ]
  },
  {
   "cell_type": "code",
   "execution_count": 8,
   "metadata": {
    "_kg_hide-output": true,
    "execution": {
     "iopub.execute_input": "2020-09-06T14:02:42.152302Z",
     "iopub.status.busy": "2020-09-06T14:02:42.151580Z",
     "iopub.status.idle": "2020-09-06T14:02:46.287575Z",
     "shell.execute_reply": "2020-09-06T14:02:46.286325Z"
    },
    "papermill": {
     "duration": 4.150503,
     "end_time": "2020-09-06T14:02:46.287752",
     "exception": false,
     "start_time": "2020-09-06T14:02:42.137249",
     "status": "completed"
    },
    "tags": []
   },
   "outputs": [
    {
     "name": "stdout",
     "output_type": "stream",
     "text": [
      "\u001b[1mDownloading and preparing dataset mnist/3.0.1 (download: 11.06 MiB, generated: 21.00 MiB, total: 32.06 MiB) to /root/tensorflow_datasets/mnist/3.0.1...\u001b[0m\n"
     ]
    },
    {
     "data": {
      "application/vnd.jupyter.widget-view+json": {
       "model_id": "b6665f262e104507b70882de6bb4efdc",
       "version_major": 2,
       "version_minor": 0
      },
      "text/plain": [
       "HBox(children=(FloatProgress(value=0.0, description='Dl Completed...', max=4.0, style=ProgressStyle(descriptio…"
      ]
     },
     "metadata": {},
     "output_type": "display_data"
    },
    {
     "name": "stdout",
     "output_type": "stream",
     "text": [
      "\n",
      "\n",
      "\u001b[1mDataset mnist downloaded and prepared to /root/tensorflow_datasets/mnist/3.0.1. Subsequent calls will reuse this data.\u001b[0m\n"
     ]
    }
   ],
   "source": [
    "mnist=tfds.builder('mnist')\n",
    "mnist.download_and_prepare()\n",
    "ds=mnist.as_dataset(shuffle_files=False,\n",
    "            split=['train','test'])\n",
    "mnist_train,mnist_test=ds[0],ds[1]"
   ]
  },
  {
   "cell_type": "code",
   "execution_count": 9,
   "metadata": {
    "execution": {
     "iopub.execute_input": "2020-09-06T14:02:46.316231Z",
     "iopub.status.busy": "2020-09-06T14:02:46.314032Z",
     "iopub.status.idle": "2020-09-06T14:02:46.945015Z",
     "shell.execute_reply": "2020-09-06T14:02:46.945871Z"
    },
    "papermill": {
     "duration": 0.649007,
     "end_time": "2020-09-06T14:02:46.946056",
     "exception": false,
     "start_time": "2020-09-06T14:02:46.297049",
     "status": "completed"
    },
    "tags": []
   },
   "outputs": [
    {
     "data": {
      "text/html": [
       "<style>\n",
       "    @import 'https://fonts.googleapis.com/css?family=Orbitron&effect=3d-float';</style>\n",
       "    <h1 class='font-effect-3d-float' \n",
       "    style='font-family:Orbitron; color:#6611ff; font-size:10px;'>\n",
       "    Image(shape=(28, 28, 1), dtype=tf.uint8)</h1>"
      ],
      "text/plain": [
       "<IPython.core.display.HTML object>"
      ]
     },
     "metadata": {},
     "output_type": "display_data"
    },
    {
     "data": {
      "text/html": [
       "<style>\n",
       "    @import 'https://fonts.googleapis.com/css?family=Orbitron&effect=3d-float';</style>\n",
       "    <h1 class='font-effect-3d-float' \n",
       "    style='font-family:Orbitron; color:#6611ff; font-size:10px;'>\n",
       "    ClassLabel(shape=(), dtype=tf.int64, num_classes=10)</h1>"
      ],
      "text/plain": [
       "<IPython.core.display.HTML object>"
      ]
     },
     "metadata": {},
     "output_type": "display_data"
    },
    {
     "data": {
      "image/png": "[encoded data removed]",
      "text/plain": [
       "<Figure size 432x324 with 9 Axes>"
      ]
     },
     "metadata": {},
     "output_type": "display_data"
    }
   ],
   "source": [
    "dhtml(mnist.info.features['image'],c2,f2,fs2)\n",
    "dhtml(mnist.info.features['label'],c2,f2,fs2)\n",
    "%display_examples mnist 9"
   ]
  },
  {
   "cell_type": "code",
   "execution_count": 10,
   "metadata": {
    "execution": {
     "iopub.execute_input": "2020-09-06T14:02:46.980440Z",
     "iopub.status.busy": "2020-09-06T14:02:46.977524Z",
     "iopub.status.idle": "2020-09-06T14:02:47.381445Z",
     "shell.execute_reply": "2020-09-06T14:02:47.380714Z"
    },
    "papermill": {
     "duration": 0.423347,
     "end_time": "2020-09-06T14:02:47.381565",
     "exception": false,
     "start_time": "2020-09-06T14:02:46.958218",
     "status": "completed"
    },
    "tags": []
   },
   "outputs": [],
   "source": [
    "mnist_train=mnist_train.map(\n",
    "    lambda item:(tf.cast(item['image'],tf.float32)/255., \n",
    "                 tf.cast(item['label'],tf.int32)))\n",
    "mnist_test=mnist_test.map(\n",
    "    lambda item:(tf.cast(item['image'],tf.float32)/255., \n",
    "                  tf.cast(item['label'],tf.int32)))\n",
    "tf.random.set_seed(123)\n",
    "mnist_train=mnist_train\\\n",
    ".shuffle(buffer_size=buffer_size,\n",
    "         reshuffle_each_iteration=False)\n",
    "mnist_valid=mnist_train.take(buffer_size).batch(batch_size)\n",
    "mnist_train=mnist_train.skip(buffer_size).batch(batch_size)"
   ]
  },
  {
   "cell_type": "code",
   "execution_count": 11,
   "metadata": {
    "_kg_hide-output": true,
    "collapsed": true,
    "execution": {
     "iopub.execute_input": "2020-09-06T14:02:47.407995Z",
     "iopub.status.busy": "2020-09-06T14:02:47.406806Z",
     "iopub.status.idle": "2020-09-06T14:03:37.005208Z",
     "shell.execute_reply": "2020-09-06T14:03:37.004547Z"
    },
    "papermill": {
     "duration": 49.614233,
     "end_time": "2020-09-06T14:03:37.005330",
     "exception": false,
     "start_time": "2020-09-06T14:02:47.391097",
     "status": "completed"
    },
    "tags": []
   },
   "outputs": [
    {
     "name": "stdout",
     "output_type": "stream",
     "text": [
      "\u001b[1mDownloading and preparing dataset cifar10/3.0.2 (download: 162.17 MiB, generated: 132.40 MiB, total: 294.58 MiB) to /root/tensorflow_datasets/cifar10/3.0.2...\u001b[0m\n"
     ]
    },
    {
     "data": {
      "application/vnd.jupyter.widget-view+json": {
       "model_id": "c624fe101f9341f4a428e783fea61b35",
       "version_major": 2,
       "version_minor": 0
      },
      "text/plain": [
       "HBox(children=(FloatProgress(value=1.0, bar_style='info', description='Dl Completed...', max=1.0, style=Progre…"
      ]
     },
     "metadata": {},
     "output_type": "display_data"
    },
    {
     "data": {
      "application/vnd.jupyter.widget-view+json": {
       "model_id": "fa1b3467e87b4fb69a0a914b79f99849",
       "version_major": 2,
       "version_minor": 0
      },
      "text/plain": [
       "HBox(children=(FloatProgress(value=1.0, bar_style='info', description='Dl Size...', max=1.0, style=ProgressSty…"
      ]
     },
     "metadata": {},
     "output_type": "display_data"
    },
    {
     "data": {
      "application/vnd.jupyter.widget-view+json": {
       "model_id": "027ffa1f4e504a968062314617ca1534",
       "version_major": 2,
       "version_minor": 0
      },
      "text/plain": [
       "HBox(children=(FloatProgress(value=1.0, bar_style='info', description='Extraction completed...', max=1.0, styl…"
      ]
     },
     "metadata": {},
     "output_type": "display_data"
    },
    {
     "name": "stdout",
     "output_type": "stream",
     "text": [
      "\n",
      "\n",
      "\n",
      "\n",
      "\n",
      "\n"
     ]
    },
    {
     "data": {
      "application/vnd.jupyter.widget-view+json": {
       "model_id": "113a9bdcd93d4fe9b49f633accc306d2",
       "version_major": 2,
       "version_minor": 0
      },
      "text/plain": [
       "HBox(children=(FloatProgress(value=1.0, bar_style='info', max=1.0), HTML(value='')))"
      ]
     },
     "metadata": {},
     "output_type": "display_data"
    },
    {
     "name": "stdout",
     "output_type": "stream",
     "text": [
      "Shuffling and writing examples to /root/tensorflow_datasets/cifar10/3.0.2.incompleteQXKURE/cifar10-train.tfrecord\n"
     ]
    },
    {
     "data": {
      "application/vnd.jupyter.widget-view+json": {
       "model_id": "2dab80705f144fda9f2defb3e4fa6975",
       "version_major": 2,
       "version_minor": 0
      },
      "text/plain": [
       "HBox(children=(FloatProgress(value=0.0, max=50000.0), HTML(value='')))"
      ]
     },
     "metadata": {},
     "output_type": "display_data"
    },
    {
     "data": {
      "application/vnd.jupyter.widget-view+json": {
       "model_id": "2cf41b66c8bd447eaf76cea82efb10bf",
       "version_major": 2,
       "version_minor": 0
      },
      "text/plain": [
       "HBox(children=(FloatProgress(value=1.0, bar_style='info', max=1.0), HTML(value='')))"
      ]
     },
     "metadata": {},
     "output_type": "display_data"
    },
    {
     "name": "stdout",
     "output_type": "stream",
     "text": [
      "Shuffling and writing examples to /root/tensorflow_datasets/cifar10/3.0.2.incompleteQXKURE/cifar10-test.tfrecord\n"
     ]
    },
    {
     "data": {
      "application/vnd.jupyter.widget-view+json": {
       "model_id": "fb27e068bd76413c913bcba7e89cafe2",
       "version_major": 2,
       "version_minor": 0
      },
      "text/plain": [
       "HBox(children=(FloatProgress(value=0.0, max=10000.0), HTML(value='')))"
      ]
     },
     "metadata": {},
     "output_type": "display_data"
    },
    {
     "name": "stdout",
     "output_type": "stream",
     "text": [
      "\u001b[1mDataset cifar10 downloaded and prepared to /root/tensorflow_datasets/cifar10/3.0.2. Subsequent calls will reuse this data.\u001b[0m\n"
     ]
    }
   ],
   "source": [
    "cifar=tfds.builder('cifar10')\n",
    "cifar.download_and_prepare()\n",
    "ds=cifar.as_dataset(shuffle_files=False,\n",
    "                    split=['train','test'])\n",
    "cifar_train,cifar_test=ds[0],ds[1]"
   ]
  },
  {
   "cell_type": "code",
   "execution_count": 12,
   "metadata": {
    "execution": {
     "iopub.execute_input": "2020-09-06T14:03:37.036214Z",
     "iopub.status.busy": "2020-09-06T14:03:37.035415Z",
     "iopub.status.idle": "2020-09-06T14:03:37.762634Z",
     "shell.execute_reply": "2020-09-06T14:03:37.763274Z"
    },
    "papermill": {
     "duration": 0.746077,
     "end_time": "2020-09-06T14:03:37.763427",
     "exception": false,
     "start_time": "2020-09-06T14:03:37.017350",
     "status": "completed"
    },
    "tags": []
   },
   "outputs": [
    {
     "data": {
      "text/html": [
       "<style>\n",
       "    @import 'https://fonts.googleapis.com/css?family=Orbitron&effect=3d-float';</style>\n",
       "    <h1 class='font-effect-3d-float' \n",
       "    style='font-family:Orbitron; color:#6611ff; font-size:10px;'>\n",
       "    Image(shape=(32, 32, 3), dtype=tf.uint8)</h1>"
      ],
      "text/plain": [
       "<IPython.core.display.HTML object>"
      ]
     },
     "metadata": {},
     "output_type": "display_data"
    },
    {
     "data": {
      "text/html": [
       "<style>\n",
       "    @import 'https://fonts.googleapis.com/css?family=Orbitron&effect=3d-float';</style>\n",
       "    <h1 class='font-effect-3d-float' \n",
       "    style='font-family:Orbitron; color:#6611ff; font-size:10px;'>\n",
       "    ClassLabel(shape=(), dtype=tf.int64, num_classes=10)</h1>"
      ],
      "text/plain": [
       "<IPython.core.display.HTML object>"
      ]
     },
     "metadata": {},
     "output_type": "display_data"
    },
    {
     "data": {
      "image/png": "[encoded data removed]",
      "text/plain": [
       "<Figure size 576x324 with 12 Axes>"
      ]
     },
     "metadata": {},
     "output_type": "display_data"
    }
   ],
   "source": [
    "dhtml(cifar.info.features['image'],c2,f2,fs2)\n",
    "dhtml(cifar.info.features['label'],c2,f2,fs2)\n",
    "%display_examples cifar 12"
   ]
  },
  {
   "cell_type": "code",
   "execution_count": 13,
   "metadata": {
    "execution": {
     "iopub.execute_input": "2020-09-06T14:03:37.798195Z",
     "iopub.status.busy": "2020-09-06T14:03:37.797177Z",
     "iopub.status.idle": "2020-09-06T14:03:37.818617Z",
     "shell.execute_reply": "2020-09-06T14:03:37.818058Z"
    },
    "papermill": {
     "duration": 0.042479,
     "end_time": "2020-09-06T14:03:37.818746",
     "exception": false,
     "start_time": "2020-09-06T14:03:37.776267",
     "status": "completed"
    },
    "tags": []
   },
   "outputs": [],
   "source": [
    "cifar_train=cifar_train.map(\n",
    "    lambda item:(tf.cast(item['image'],tf.float32)/255., \n",
    "                 tf.cast(item['label'],tf.int32)))\n",
    "cifar_test=cifar_test.map(\n",
    "    lambda item:(tf.cast(item['image'],tf.float32)/255., \n",
    "                  tf.cast(item['label'],tf.int32)))\n",
    "tf.random.set_seed(123)\n",
    "cifar_train=cifar_train\\\n",
    ".shuffle(buffer_size=buffer_size,\n",
    "         reshuffle_each_iteration=False)\n",
    "cifar_valid=cifar_train.take(buffer_size).batch(batch_size)\n",
    "cifar_train=cifar_train.skip(buffer_size).batch(batch_size)"
   ]
  },
  {
   "cell_type": "code",
   "execution_count": 14,
   "metadata": {
    "_kg_hide-input": true,
    "execution": {
     "iopub.execute_input": "2020-09-06T14:03:37.848395Z",
     "iopub.status.busy": "2020-09-06T14:03:37.847754Z",
     "iopub.status.idle": "2020-09-06T14:03:37.854610Z",
     "shell.execute_reply": "2020-09-06T14:03:37.854113Z"
    },
    "papermill": {
     "duration": 0.023279,
     "end_time": "2020-09-06T14:03:37.854709",
     "exception": false,
     "start_time": "2020-09-06T14:03:37.831430",
     "status": "completed"
    },
    "tags": []
   },
   "outputs": [
    {
     "data": {
      "text/html": [
       "<style>\n",
       "    @import 'https://fonts.googleapis.com/css?family=Wallpoet&effect=3d-float';</style>\n",
       "    <h1 class='font-effect-3d-float' \n",
       "    style='font-family:Wallpoet; color:#11ff66; font-size:20px;'>\n",
       "    CNN Construction. One Channel</h1>"
      ],
      "text/plain": [
       "<IPython.core.display.HTML object>"
      ]
     },
     "metadata": {},
     "output_type": "display_data"
    }
   ],
   "source": [
    "dhtml('CNN Construction. One Channel')"
   ]
  },
  {
   "cell_type": "code",
   "execution_count": 15,
   "metadata": {
    "execution": {
     "iopub.execute_input": "2020-09-06T14:03:37.898265Z",
     "iopub.status.busy": "2020-09-06T14:03:37.897427Z",
     "iopub.status.idle": "2020-09-06T14:03:38.055327Z",
     "shell.execute_reply": "2020-09-06T14:03:38.055927Z"
    },
    "papermill": {
     "duration": 0.183591,
     "end_time": "2020-09-06T14:03:38.056098",
     "exception": false,
     "start_time": "2020-09-06T14:03:37.872507",
     "status": "completed"
    },
    "tags": []
   },
   "outputs": [
    {
     "data": {
      "text/plain": [
       "TensorShape([64, 7, 7, 96])"
      ]
     },
     "execution_count": 15,
     "metadata": {},
     "output_type": "execute_result"
    }
   ],
   "source": [
    "model=tf.keras.Sequential()\n",
    "model.add(tkl.Input((pixels,pixels,1),\n",
    "                    name='input'))\n",
    "model.add(tkl.Conv2D(\n",
    "    filters=32,kernel_size=(7,7),\n",
    "    strides=(1,1),padding='same',\n",
    "    name='conv_1'))\n",
    "model.add(tkl.LeakyReLU(alpha=.02,\n",
    "                        name='lrelu_1'))\n",
    "model.add(tf.keras.layers.MaxPool2D(\n",
    "    pool_size=(2,2),name='pool_1'))\n",
    "model.add(tkl.Dropout(.25,name='drop_1'))\n",
    "model.add(tkl.Conv2D(\n",
    "    filters=96,kernel_size=(7,7),\n",
    "    strides=(1,1),padding='same',\n",
    "    name='conv_2'))\n",
    "model.add(tkl.LeakyReLU(alpha=.02,\n",
    "                        name='lrelu_2'))\n",
    "model.add(tf.keras.layers.MaxPool2D(\n",
    "    pool_size=(2,2),name='pool_2'))\n",
    "model.add(tkl.Dropout(.25,name='drop_2'))\n",
    "model.compute_output_shape(\n",
    "    input_shape=(batch_size,pixels,pixels,1))"
   ]
  },
  {
   "cell_type": "code",
   "execution_count": 16,
   "metadata": {
    "execution": {
     "iopub.execute_input": "2020-09-06T14:03:38.105642Z",
     "iopub.status.busy": "2020-09-06T14:03:38.104619Z",
     "iopub.status.idle": "2020-09-06T14:03:38.146711Z",
     "shell.execute_reply": "2020-09-06T14:03:38.146174Z"
    },
    "papermill": {
     "duration": 0.07022,
     "end_time": "2020-09-06T14:03:38.146856",
     "exception": false,
     "start_time": "2020-09-06T14:03:38.076636",
     "status": "completed"
    },
    "tags": []
   },
   "outputs": [
    {
     "data": {
      "text/plain": [
       "TensorShape([64, 512])"
      ]
     },
     "execution_count": 16,
     "metadata": {},
     "output_type": "execute_result"
    }
   ],
   "source": [
    "model.add(tkl.GlobalMaxPooling2D(name='gmpool'))   \n",
    "model.add(tkl.Dense(512,name='dense_1'))\n",
    "model.add(tkl.LeakyReLU(alpha=.02,\n",
    "                        name='lrelu_3'))\n",
    "model.add(tkl.Dropout(.5,name='drop_3'))\n",
    "model.compute_output_shape(\n",
    "    input_shape=(batch_size,pixels,pixels,1))"
   ]
  },
  {
   "cell_type": "code",
   "execution_count": 17,
   "metadata": {
    "_kg_hide-output": true,
    "execution": {
     "iopub.execute_input": "2020-09-06T14:03:38.180740Z",
     "iopub.status.busy": "2020-09-06T14:03:38.179721Z",
     "iopub.status.idle": "2020-09-06T14:03:38.764308Z",
     "shell.execute_reply": "2020-09-06T14:03:38.763661Z"
    },
    "papermill": {
     "duration": 0.603776,
     "end_time": "2020-09-06T14:03:38.764432",
     "exception": false,
     "start_time": "2020-09-06T14:03:38.160656",
     "status": "completed"
    },
    "tags": []
   },
   "outputs": [
    {
     "data": {
      "image/png": "[encoded data removed]",
      "text/plain": [
       "<IPython.core.display.Image object>"
      ]
     },
     "execution_count": 17,
     "metadata": {},
     "output_type": "execute_result"
    }
   ],
   "source": [
    "model.add(tkl.Dense(num_classes,name='out',\n",
    "                    activation='softmax'))\n",
    "tku.plot_model(model,show_shapes=True)"
   ]
  },
  {
   "cell_type": "code",
   "execution_count": 18,
   "metadata": {
    "_kg_hide-output": true,
    "execution": {
     "iopub.execute_input": "2020-09-06T14:03:38.811998Z",
     "iopub.status.busy": "2020-09-06T14:03:38.810779Z",
     "iopub.status.idle": "2020-09-06T14:11:09.288380Z",
     "shell.execute_reply": "2020-09-06T14:11:09.287664Z"
    },
    "papermill": {
     "duration": 450.508245,
     "end_time": "2020-09-06T14:11:09.288510",
     "exception": false,
     "start_time": "2020-09-06T14:03:38.780265",
     "status": "completed"
    },
    "tags": []
   },
   "outputs": [
    {
     "name": "stdout",
     "output_type": "stream",
     "text": [
      "Epoch 1/50\n",
      "782/782 [==============================] - ETA: 0s - loss: 0.2887 - accuracy: 0.9049\n",
      "Epoch 00001: val_loss improved from inf to 0.07293, saving model to weights.best.hdf5\n",
      "782/782 [==============================] - 13s 17ms/step - loss: 0.2887 - accuracy: 0.9049 - val_loss: 0.0729 - val_accuracy: 0.9792\n",
      "Epoch 2/50\n",
      "778/782 [============================>.] - ETA: 0s - loss: 0.0733 - accuracy: 0.9776\n",
      "Epoch 00002: val_loss improved from 0.07293 to 0.05644, saving model to weights.best.hdf5\n",
      "782/782 [==============================] - 10s 13ms/step - loss: 0.0732 - accuracy: 0.9776 - val_loss: 0.0564 - val_accuracy: 0.9845\n",
      "Epoch 3/50\n",
      "781/782 [============================>.] - ETA: 0s - loss: 0.0552 - accuracy: 0.9836\n",
      "Epoch 00003: val_loss improved from 0.05644 to 0.03497, saving model to weights.best.hdf5\n",
      "782/782 [==============================] - 10s 13ms/step - loss: 0.0551 - accuracy: 0.9836 - val_loss: 0.0350 - val_accuracy: 0.9888\n",
      "Epoch 4/50\n",
      "781/782 [============================>.] - ETA: 0s - loss: 0.0475 - accuracy: 0.9854\n",
      "Epoch 00004: val_loss did not improve from 0.03497\n",
      "782/782 [==============================] - 10s 13ms/step - loss: 0.0475 - accuracy: 0.9854 - val_loss: 0.0396 - val_accuracy: 0.9871\n",
      "Epoch 5/50\n",
      "780/782 [============================>.] - ETA: 0s - loss: 0.0431 - accuracy: 0.9868\n",
      "Epoch 00005: val_loss improved from 0.03497 to 0.03301, saving model to weights.best.hdf5\n",
      "782/782 [==============================] - 11s 14ms/step - loss: 0.0430 - accuracy: 0.9868 - val_loss: 0.0330 - val_accuracy: 0.9912\n",
      "Epoch 6/50\n",
      "782/782 [==============================] - ETA: 0s - loss: 0.0371 - accuracy: 0.9886\n",
      "Epoch 00006: val_loss improved from 0.03301 to 0.03003, saving model to weights.best.hdf5\n",
      "782/782 [==============================] - 10s 13ms/step - loss: 0.0371 - accuracy: 0.9886 - val_loss: 0.0300 - val_accuracy: 0.9911\n",
      "Epoch 7/50\n",
      "778/782 [============================>.] - ETA: 0s - loss: 0.0336 - accuracy: 0.9891\n",
      "Epoch 00007: val_loss improved from 0.03003 to 0.02912, saving model to weights.best.hdf5\n",
      "782/782 [==============================] - 11s 14ms/step - loss: 0.0335 - accuracy: 0.9891 - val_loss: 0.0291 - val_accuracy: 0.9914\n",
      "Epoch 8/50\n",
      "778/782 [============================>.] - ETA: 0s - loss: 0.0301 - accuracy: 0.9905\n",
      "Epoch 00008: val_loss improved from 0.02912 to 0.02873, saving model to weights.best.hdf5\n",
      "782/782 [==============================] - 10s 13ms/step - loss: 0.0301 - accuracy: 0.9905 - val_loss: 0.0287 - val_accuracy: 0.9921\n",
      "Epoch 9/50\n",
      "780/782 [============================>.] - ETA: 0s - loss: 0.0299 - accuracy: 0.9907\n",
      "Epoch 00009: val_loss did not improve from 0.02873\n",
      "782/782 [==============================] - 10s 13ms/step - loss: 0.0298 - accuracy: 0.9907 - val_loss: 0.0301 - val_accuracy: 0.9919\n",
      "Epoch 10/50\n",
      "779/782 [============================>.] - ETA: 0s - loss: 0.0282 - accuracy: 0.9910\n",
      "Epoch 00010: val_loss did not improve from 0.02873\n",
      "782/782 [==============================] - 11s 14ms/step - loss: 0.0281 - accuracy: 0.9911 - val_loss: 0.0342 - val_accuracy: 0.9902\n",
      "Epoch 11/50\n",
      "782/782 [==============================] - ETA: 0s - loss: 0.0253 - accuracy: 0.9922\n",
      "Epoch 00011: val_loss did not improve from 0.02873\n",
      "782/782 [==============================] - 10s 13ms/step - loss: 0.0253 - accuracy: 0.9922 - val_loss: 0.0299 - val_accuracy: 0.9917\n",
      "Epoch 12/50\n",
      "777/782 [============================>.] - ETA: 0s - loss: 0.0266 - accuracy: 0.9915\n",
      "Epoch 00012: val_loss did not improve from 0.02873\n",
      "782/782 [==============================] - 10s 13ms/step - loss: 0.0267 - accuracy: 0.9915 - val_loss: 0.0305 - val_accuracy: 0.9917\n",
      "Epoch 13/50\n",
      "780/782 [============================>.] - ETA: 0s - loss: 0.0246 - accuracy: 0.9925\n",
      "Epoch 00013: val_loss improved from 0.02873 to 0.02729, saving model to weights.best.hdf5\n",
      "782/782 [==============================] - 10s 13ms/step - loss: 0.0246 - accuracy: 0.9925 - val_loss: 0.0273 - val_accuracy: 0.9925\n",
      "Epoch 14/50\n",
      "779/782 [============================>.] - ETA: 0s - loss: 0.0197 - accuracy: 0.9942\n",
      "Epoch 00014: val_loss did not improve from 0.02729\n",
      "782/782 [==============================] - 10s 13ms/step - loss: 0.0197 - accuracy: 0.9941 - val_loss: 0.0293 - val_accuracy: 0.9922\n",
      "Epoch 15/50\n",
      "779/782 [============================>.] - ETA: 0s - loss: 0.0242 - accuracy: 0.9924\n",
      "Epoch 00015: val_loss did not improve from 0.02729\n",
      "782/782 [==============================] - 11s 14ms/step - loss: 0.0241 - accuracy: 0.9924 - val_loss: 0.0318 - val_accuracy: 0.9919\n",
      "Epoch 16/50\n",
      "780/782 [============================>.] - ETA: 0s - loss: 0.0201 - accuracy: 0.9939\n",
      "Epoch 00016: val_loss did not improve from 0.02729\n",
      "782/782 [==============================] - 11s 14ms/step - loss: 0.0201 - accuracy: 0.9939 - val_loss: 0.0283 - val_accuracy: 0.9930\n",
      "Epoch 17/50\n",
      "779/782 [============================>.] - ETA: 0s - loss: 0.0217 - accuracy: 0.9933\n",
      "Epoch 00017: val_loss did not improve from 0.02729\n",
      "782/782 [==============================] - 10s 13ms/step - loss: 0.0218 - accuracy: 0.9933 - val_loss: 0.0321 - val_accuracy: 0.9914\n",
      "Epoch 18/50\n",
      "780/782 [============================>.] - ETA: 0s - loss: 0.0203 - accuracy: 0.9941\n",
      "Epoch 00018: val_loss did not improve from 0.02729\n",
      "\n",
      "Epoch 00018: ReduceLROnPlateau reducing learning rate to 0.0007500000356230885.\n",
      "782/782 [==============================] - 10s 13ms/step - loss: 0.0203 - accuracy: 0.9941 - val_loss: 0.0414 - val_accuracy: 0.9895\n",
      "Epoch 19/50\n",
      "777/782 [============================>.] - ETA: 0s - loss: 0.0163 - accuracy: 0.9950\n",
      "Epoch 00019: val_loss improved from 0.02729 to 0.02498, saving model to weights.best.hdf5\n",
      "782/782 [==============================] - 11s 14ms/step - loss: 0.0163 - accuracy: 0.9950 - val_loss: 0.0250 - val_accuracy: 0.9935\n",
      "Epoch 20/50\n",
      "776/782 [============================>.] - ETA: 0s - loss: 0.0158 - accuracy: 0.9949\n",
      "Epoch 00020: val_loss did not improve from 0.02498\n",
      "782/782 [==============================] - 10s 13ms/step - loss: 0.0158 - accuracy: 0.9949 - val_loss: 0.0289 - val_accuracy: 0.9925\n",
      "Epoch 21/50\n",
      "780/782 [============================>.] - ETA: 0s - loss: 0.0145 - accuracy: 0.9953\n",
      "Epoch 00021: val_loss did not improve from 0.02498\n",
      "782/782 [==============================] - 11s 15ms/step - loss: 0.0145 - accuracy: 0.9953 - val_loss: 0.0273 - val_accuracy: 0.9932\n",
      "Epoch 22/50\n",
      "777/782 [============================>.] - ETA: 0s - loss: 0.0127 - accuracy: 0.9965\n",
      "Epoch 00022: val_loss did not improve from 0.02498\n",
      "782/782 [==============================] - 10s 13ms/step - loss: 0.0127 - accuracy: 0.9965 - val_loss: 0.0285 - val_accuracy: 0.9925\n",
      "Epoch 23/50\n",
      "781/782 [============================>.] - ETA: 0s - loss: 0.0153 - accuracy: 0.9957\n",
      "Epoch 00023: val_loss did not improve from 0.02498\n",
      "782/782 [==============================] - 10s 13ms/step - loss: 0.0153 - accuracy: 0.9957 - val_loss: 0.0304 - val_accuracy: 0.9916\n",
      "Epoch 24/50\n",
      "782/782 [==============================] - ETA: 0s - loss: 0.0133 - accuracy: 0.9960\n",
      "Epoch 00024: val_loss did not improve from 0.02498\n",
      "\n",
      "Epoch 00024: ReduceLROnPlateau reducing learning rate to 0.0005625000048894435.\n",
      "782/782 [==============================] - 10s 13ms/step - loss: 0.0133 - accuracy: 0.9960 - val_loss: 0.0304 - val_accuracy: 0.9928\n",
      "Epoch 25/50\n",
      "780/782 [============================>.] - ETA: 0s - loss: 0.0090 - accuracy: 0.9971\n",
      "Epoch 00025: val_loss did not improve from 0.02498\n",
      "782/782 [==============================] - 10s 13ms/step - loss: 0.0090 - accuracy: 0.9971 - val_loss: 0.0278 - val_accuracy: 0.9931\n",
      "Epoch 26/50\n",
      "779/782 [============================>.] - ETA: 0s - loss: 0.0116 - accuracy: 0.9963\n",
      "Epoch 00026: val_loss did not improve from 0.02498\n",
      "782/782 [==============================] - 11s 14ms/step - loss: 0.0115 - accuracy: 0.9964 - val_loss: 0.0334 - val_accuracy: 0.9921\n",
      "Epoch 27/50\n",
      "778/782 [============================>.] - ETA: 0s - loss: 0.0098 - accuracy: 0.9967\n",
      "Epoch 00027: val_loss did not improve from 0.02498\n",
      "782/782 [==============================] - 10s 13ms/step - loss: 0.0098 - accuracy: 0.9967 - val_loss: 0.0275 - val_accuracy: 0.9928\n",
      "Epoch 28/50\n",
      "781/782 [============================>.] - ETA: 0s - loss: 0.0081 - accuracy: 0.9973\n",
      "Epoch 00028: val_loss did not improve from 0.02498\n",
      "782/782 [==============================] - 10s 13ms/step - loss: 0.0081 - accuracy: 0.9973 - val_loss: 0.0341 - val_accuracy: 0.9934\n",
      "Epoch 29/50\n",
      "781/782 [============================>.] - ETA: 0s - loss: 0.0095 - accuracy: 0.9971\n",
      "Epoch 00029: val_loss did not improve from 0.02498\n",
      "\n",
      "Epoch 00029: ReduceLROnPlateau reducing learning rate to 0.0004218749818392098.\n",
      "782/782 [==============================] - 10s 13ms/step - loss: 0.0095 - accuracy: 0.9971 - val_loss: 0.0306 - val_accuracy: 0.9933\n",
      "Epoch 30/50\n",
      "777/782 [============================>.] - ETA: 0s - loss: 0.0082 - accuracy: 0.9974\n",
      "Epoch 00030: val_loss did not improve from 0.02498\n",
      "782/782 [==============================] - 10s 13ms/step - loss: 0.0082 - accuracy: 0.9974 - val_loss: 0.0310 - val_accuracy: 0.9940\n",
      "Epoch 31/50\n",
      "779/782 [============================>.] - ETA: 0s - loss: 0.0068 - accuracy: 0.9977\n",
      "Epoch 00031: val_loss did not improve from 0.02498\n",
      "782/782 [==============================] - 11s 13ms/step - loss: 0.0067 - accuracy: 0.9977 - val_loss: 0.0306 - val_accuracy: 0.9937\n",
      "Epoch 32/50\n",
      "778/782 [============================>.] - ETA: 0s - loss: 0.0064 - accuracy: 0.9981\n",
      "Epoch 00032: val_loss did not improve from 0.02498\n",
      "782/782 [==============================] - 11s 14ms/step - loss: 0.0064 - accuracy: 0.9980 - val_loss: 0.0277 - val_accuracy: 0.9933\n",
      "Epoch 33/50\n",
      "776/782 [============================>.] - ETA: 0s - loss: 0.0084 - accuracy: 0.9973\n",
      "Epoch 00033: val_loss did not improve from 0.02498\n",
      "782/782 [==============================] - 10s 13ms/step - loss: 0.0084 - accuracy: 0.9973 - val_loss: 0.0312 - val_accuracy: 0.9937\n",
      "Epoch 34/50\n",
      "782/782 [==============================] - ETA: 0s - loss: 0.0062 - accuracy: 0.9977\n",
      "Epoch 00034: val_loss did not improve from 0.02498\n",
      "\n",
      "Epoch 00034: ReduceLROnPlateau reducing learning rate to 0.00031640623637940735.\n",
      "782/782 [==============================] - 10s 13ms/step - loss: 0.0062 - accuracy: 0.9977 - val_loss: 0.0317 - val_accuracy: 0.9933\n",
      "Epoch 35/50\n",
      "777/782 [============================>.] - ETA: 0s - loss: 0.0054 - accuracy: 0.9983\n",
      "Epoch 00035: val_loss did not improve from 0.02498\n",
      "782/782 [==============================] - 10s 13ms/step - loss: 0.0054 - accuracy: 0.9983 - val_loss: 0.0293 - val_accuracy: 0.9943\n",
      "Epoch 36/50\n",
      "780/782 [============================>.] - ETA: 0s - loss: 0.0047 - accuracy: 0.9982\n",
      "Epoch 00036: val_loss did not improve from 0.02498\n",
      "782/782 [==============================] - 10s 13ms/step - loss: 0.0047 - accuracy: 0.9982 - val_loss: 0.0300 - val_accuracy: 0.9948\n",
      "Epoch 37/50\n",
      "780/782 [============================>.] - ETA: 0s - loss: 0.0042 - accuracy: 0.9988\n",
      "Epoch 00037: val_loss did not improve from 0.02498\n",
      "782/782 [==============================] - 11s 14ms/step - loss: 0.0042 - accuracy: 0.9988 - val_loss: 0.0302 - val_accuracy: 0.9945\n",
      "Epoch 38/50\n",
      "779/782 [============================>.] - ETA: 0s - loss: 0.0059 - accuracy: 0.9982\n",
      "Epoch 00038: val_loss did not improve from 0.02498\n",
      "782/782 [==============================] - 10s 13ms/step - loss: 0.0059 - accuracy: 0.9982 - val_loss: 0.0310 - val_accuracy: 0.9936\n",
      "Epoch 39/50\n",
      "780/782 [============================>.] - ETA: 0s - loss: 0.0044 - accuracy: 0.9986\n",
      "Epoch 00039: val_loss did not improve from 0.02498\n",
      "\n",
      "Epoch 00039: ReduceLROnPlateau reducing learning rate to 0.00023730468819849193.\n",
      "782/782 [==============================] - 10s 13ms/step - loss: 0.0044 - accuracy: 0.9986 - val_loss: 0.0307 - val_accuracy: 0.9938\n",
      "Epoch 00039: early stopping\n"
     ]
    }
   ],
   "source": [
    "model.compile(optimizer=tf.keras.optimizers.Adam(),\n",
    "              loss=tf.keras.losses\\\n",
    "              .SparseCategoricalCrossentropy(),\n",
    "              metrics=['accuracy'])\n",
    "history=model.fit(mnist_train,epochs=50,shuffle=True, \n",
    "                  validation_data=mnist_valid,\n",
    "                  callbacks=cb(fw))"
   ]
  },
  {
   "cell_type": "code",
   "execution_count": 19,
   "metadata": {
    "execution": {
     "iopub.execute_input": "2020-09-06T14:11:10.151315Z",
     "iopub.status.busy": "2020-09-06T14:11:10.150083Z",
     "iopub.status.idle": "2020-09-06T14:11:10.577245Z",
     "shell.execute_reply": "2020-09-06T14:11:10.577881Z"
    },
    "papermill": {
     "duration": 0.878654,
     "end_time": "2020-09-06T14:11:10.578054",
     "exception": false,
     "start_time": "2020-09-06T14:11:09.699400",
     "status": "completed"
    },
    "tags": []
   },
   "outputs": [
    {
     "data": {
      "image/png": "[encoded data removed]",
      "text/plain": [
       "<Figure size 720x720 with 2 Axes>"
      ]
     },
     "metadata": {
      "needs_background": "light"
     },
     "output_type": "display_data"
    }
   ],
   "source": [
    "history_plot(history)"
   ]
  },
  {
   "cell_type": "code",
   "execution_count": 20,
   "metadata": {
    "_kg_hide-output": true,
    "execution": {
     "iopub.execute_input": "2020-09-06T14:11:11.427827Z",
     "iopub.status.busy": "2020-09-06T14:11:11.426686Z",
     "iopub.status.idle": "2020-09-06T14:11:15.255423Z",
     "shell.execute_reply": "2020-09-06T14:11:15.256643Z"
    },
    "papermill": {
     "duration": 4.23966,
     "end_time": "2020-09-06T14:11:15.256859",
     "exception": false,
     "start_time": "2020-09-06T14:11:11.017199",
     "status": "completed"
    },
    "tags": []
   },
   "outputs": [
    {
     "name": "stdout",
     "output_type": "stream",
     "text": [
      "1/1 [==============================] - 0s 2ms/step - loss: 0.0222 - accuracy: 0.9938\n"
     ]
    },
    {
     "data": {
      "text/html": [
       "<style>\n",
       "    @import 'https://fonts.googleapis.com/css?family=Orbitron&effect=3d-float';</style>\n",
       "    <h1 class='font-effect-3d-float' \n",
       "    style='font-family:Orbitron; color:#6611ff; font-size:10px;'>\n",
       "    \n",
       "test accuracy: 99.38%</h1>"
      ],
      "text/plain": [
       "<IPython.core.display.HTML object>"
      ]
     },
     "metadata": {},
     "output_type": "display_data"
    },
    {
     "data": {
      "text/html": [
       "<style>\n",
       "    @import 'https://fonts.googleapis.com/css?family=Orbitron&effect=3d-float';</style>\n",
       "    <h1 class='font-effect-3d-float' \n",
       "    style='font-family:Orbitron; color:#6611ff; font-size:10px;'>\n",
       "    Classification Report</h1>"
      ],
      "text/plain": [
       "<IPython.core.display.HTML object>"
      ]
     },
     "metadata": {},
     "output_type": "display_data"
    },
    {
     "name": "stdout",
     "output_type": "stream",
     "text": [
      "              precision    recall  f1-score   support\n",
      "\n",
      "           0       0.99      1.00      0.99       980\n",
      "           1       1.00      0.99      1.00      1135\n",
      "           2       0.99      1.00      0.99      1032\n",
      "           3       0.99      1.00      0.99      1010\n",
      "           4       0.99      0.99      0.99       982\n",
      "           5       0.99      0.99      0.99       892\n",
      "           6       0.99      0.99      0.99       958\n",
      "           7       1.00      0.99      0.99      1028\n",
      "           8       1.00      1.00      1.00       974\n",
      "           9       0.99      0.99      0.99      1009\n",
      "\n",
      "    accuracy                           0.99     10000\n",
      "   macro avg       0.99      0.99      0.99     10000\n",
      "weighted avg       0.99      0.99      0.99     10000\n",
      "\n"
     ]
    },
    {
     "data": {
      "text/html": [
       "<style>\n",
       "    @import 'https://fonts.googleapis.com/css?family=Orbitron&effect=3d-float';</style>\n",
       "    <h1 class='font-effect-3d-float' \n",
       "    style='font-family:Orbitron; color:#6611ff; font-size:10px;'>\n",
       "    Confusion Matrix</h1>"
      ],
      "text/plain": [
       "<IPython.core.display.HTML object>"
      ]
     },
     "metadata": {},
     "output_type": "display_data"
    },
    {
     "name": "stdout",
     "output_type": "stream",
     "text": [
      "[[ 976    0    0    0    0    0    2    1    1    0]\n",
      " [   0 1129    1    1    1    0    3    0    0    0]\n",
      " [   1    0 1031    0    0    0    0    0    0    0]\n",
      " [   0    0    0 1005    0    5    0    0    0    0]\n",
      " [   0    0    1    0  974    0    1    0    1    5]\n",
      " [   1    0    0    4    0  886    1    0    0    0]\n",
      " [   4    1    0    0    0    4  948    0    1    0]\n",
      " [   0    2    6    0    0    1    0 1018    0    1]\n",
      " [   0    1    0    1    0    1    0    0  970    1]\n",
      " [   0    0    2    0    5    1    0    0    0 1001]]\n"
     ]
    }
   ],
   "source": [
    "%display_reports mnist"
   ]
  },
  {
   "cell_type": "code",
   "execution_count": 21,
   "metadata": {
    "_kg_hide-input": true,
    "execution": {
     "iopub.execute_input": "2020-09-06T14:11:16.108451Z",
     "iopub.status.busy": "2020-09-06T14:11:16.107465Z",
     "iopub.status.idle": "2020-09-06T14:11:16.111387Z",
     "shell.execute_reply": "2020-09-06T14:11:16.110776Z"
    },
    "papermill": {
     "duration": 0.401222,
     "end_time": "2020-09-06T14:11:16.111519",
     "exception": false,
     "start_time": "2020-09-06T14:11:15.710297",
     "status": "completed"
    },
    "tags": []
   },
   "outputs": [
    {
     "data": {
      "text/html": [
       "<style>\n",
       "    @import 'https://fonts.googleapis.com/css?family=Wallpoet&effect=3d-float';</style>\n",
       "    <h1 class='font-effect-3d-float' \n",
       "    style='font-family:Wallpoet; color:#11ff66; font-size:20px;'>\n",
       "    CNN Construction. Three Channels</h1>"
      ],
      "text/plain": [
       "<IPython.core.display.HTML object>"
      ]
     },
     "metadata": {},
     "output_type": "display_data"
    }
   ],
   "source": [
    "dhtml('CNN Construction. Three Channels')"
   ]
  },
  {
   "cell_type": "code",
   "execution_count": 22,
   "metadata": {
    "execution": {
     "iopub.execute_input": "2020-09-06T14:11:17.087574Z",
     "iopub.status.busy": "2020-09-06T14:11:17.086460Z",
     "iopub.status.idle": "2020-09-06T14:11:17.196371Z",
     "shell.execute_reply": "2020-09-06T14:11:17.197604Z"
    },
    "papermill": {
     "duration": 0.696812,
     "end_time": "2020-09-06T14:11:17.197858",
     "exception": false,
     "start_time": "2020-09-06T14:11:16.501046",
     "status": "completed"
    },
    "tags": []
   },
   "outputs": [
    {
     "data": {
      "text/plain": [
       "TensorShape([64, 8, 8, 196])"
      ]
     },
     "execution_count": 22,
     "metadata": {},
     "output_type": "execute_result"
    }
   ],
   "source": [
    "model=tf.keras.Sequential()\n",
    "model.add(tkl.Input((pixels2,pixels2,3),\n",
    "                    name='input'))\n",
    "model.add(tkl.Conv2D(\n",
    "    filters=32,kernel_size=(7,7),\n",
    "    strides=(1,1),padding='same',\n",
    "    name='conv_1'))\n",
    "model.add(tkl.LeakyReLU(alpha=.02,\n",
    "                        name='lrelu_1'))\n",
    "model.add(tf.keras.layers.MaxPool2D(\n",
    "    pool_size=(2,2),name='pool_1'))\n",
    "model.add(tkl.Dropout(.25,name='drop_1'))\n",
    "model.add(tkl.Conv2D(\n",
    "    filters=196,kernel_size=(7,7),\n",
    "    strides=(1,1),padding='same',\n",
    "    name='conv_2'))\n",
    "model.add(tkl.LeakyReLU(alpha=.02,\n",
    "                        name='lrelu_2'))\n",
    "model.add(tf.keras.layers.MaxPool2D(\n",
    "    pool_size=(2,2),name='pool_2'))\n",
    "model.add(tkl.Dropout(.25,name='drop_2'))\n",
    "model.compute_output_shape(\n",
    "    input_shape=(batch_size,pixels2,pixels2,3))"
   ]
  },
  {
   "cell_type": "code",
   "execution_count": 23,
   "metadata": {
    "execution": {
     "iopub.execute_input": "2020-09-06T14:11:18.063876Z",
     "iopub.status.busy": "2020-09-06T14:11:18.062354Z",
     "iopub.status.idle": "2020-09-06T14:11:18.093022Z",
     "shell.execute_reply": "2020-09-06T14:11:18.091603Z"
    },
    "papermill": {
     "duration": 0.477376,
     "end_time": "2020-09-06T14:11:18.093166",
     "exception": false,
     "start_time": "2020-09-06T14:11:17.615790",
     "status": "completed"
    },
    "tags": []
   },
   "outputs": [
    {
     "data": {
      "text/plain": [
       "TensorShape([64, 1024])"
      ]
     },
     "execution_count": 23,
     "metadata": {},
     "output_type": "execute_result"
    }
   ],
   "source": [
    "model.add(tkl.GlobalMaxPooling2D(name='gmpool'))   \n",
    "model.add(tkl.Dense(1024,name='dense_1'))\n",
    "model.add(tkl.LeakyReLU(alpha=.02,\n",
    "                        name='lrelu_3'))\n",
    "model.add(tkl.Dropout(.5,name='drop_3'))\n",
    "model.compute_output_shape(\n",
    "    input_shape=(batch_size,pixels2,pixels2,3))"
   ]
  },
  {
   "cell_type": "code",
   "execution_count": 24,
   "metadata": {
    "_kg_hide-output": true,
    "execution": {
     "iopub.execute_input": "2020-09-06T14:11:18.893673Z",
     "iopub.status.busy": "2020-09-06T14:11:18.892615Z",
     "iopub.status.idle": "2020-09-06T14:11:19.130593Z",
     "shell.execute_reply": "2020-09-06T14:11:19.131425Z"
    },
    "papermill": {
     "duration": 0.644421,
     "end_time": "2020-09-06T14:11:19.131606",
     "exception": false,
     "start_time": "2020-09-06T14:11:18.487185",
     "status": "completed"
    },
    "tags": []
   },
   "outputs": [
    {
     "data": {
      "image/png": "[encoded data removed]",
      "text/plain": [
       "<IPython.core.display.Image object>"
      ]
     },
     "execution_count": 24,
     "metadata": {},
     "output_type": "execute_result"
    }
   ],
   "source": [
    "model.add(tkl.Dense(num_classes,name='out',\n",
    "                    activation='softmax'))\n",
    "tku.plot_model(model,show_shapes=True)"
   ]
  },
  {
   "cell_type": "code",
   "execution_count": 25,
   "metadata": {
    "_kg_hide-output": true,
    "execution": {
     "iopub.execute_input": "2020-09-06T14:11:19.990933Z",
     "iopub.status.busy": "2020-09-06T14:11:19.989888Z",
     "iopub.status.idle": "2020-09-06T15:24:47.971810Z",
     "shell.execute_reply": "2020-09-06T15:24:47.973124Z"
    },
    "papermill": {
     "duration": 4408.389825,
     "end_time": "2020-09-06T15:24:47.973315",
     "exception": false,
     "start_time": "2020-09-06T14:11:19.583490",
     "status": "completed"
    },
    "tags": []
   },
   "outputs": [
    {
     "name": "stdout",
     "output_type": "stream",
     "text": [
      "Epoch 1/70\n",
      "625/625 [==============================] - ETA: 0s - loss: 1.7501 - accuracy: 0.3524\n",
      "Epoch 00001: val_loss improved from inf to 1.51576, saving model to weights.best.hdf5\n",
      "625/625 [==============================] - 65s 104ms/step - loss: 1.7501 - accuracy: 0.3524 - val_loss: 1.5158 - val_accuracy: 0.4690\n",
      "Epoch 2/70\n",
      "625/625 [==============================] - ETA: 0s - loss: 1.4335 - accuracy: 0.4816\n",
      "Epoch 00002: val_loss improved from 1.51576 to 1.30931, saving model to weights.best.hdf5\n",
      "625/625 [==============================] - 62s 100ms/step - loss: 1.4335 - accuracy: 0.4816 - val_loss: 1.3093 - val_accuracy: 0.5420\n",
      "Epoch 3/70\n",
      "625/625 [==============================] - ETA: 0s - loss: 1.2900 - accuracy: 0.5369\n",
      "Epoch 00003: val_loss improved from 1.30931 to 1.19725, saving model to weights.best.hdf5\n",
      "625/625 [==============================] - 62s 100ms/step - loss: 1.2900 - accuracy: 0.5369 - val_loss: 1.1973 - val_accuracy: 0.5828\n",
      "Epoch 4/70\n",
      "625/625 [==============================] - ETA: 0s - loss: 1.1925 - accuracy: 0.5736\n",
      "Epoch 00004: val_loss improved from 1.19725 to 1.11341, saving model to weights.best.hdf5\n",
      "625/625 [==============================] - 62s 100ms/step - loss: 1.1925 - accuracy: 0.5736 - val_loss: 1.1134 - val_accuracy: 0.6082\n",
      "Epoch 5/70\n",
      "625/625 [==============================] - ETA: 0s - loss: 1.1211 - accuracy: 0.6031\n",
      "Epoch 00005: val_loss improved from 1.11341 to 1.04084, saving model to weights.best.hdf5\n",
      "625/625 [==============================] - 62s 100ms/step - loss: 1.1211 - accuracy: 0.6031 - val_loss: 1.0408 - val_accuracy: 0.6380\n",
      "Epoch 6/70\n",
      "625/625 [==============================] - ETA: 0s - loss: 1.0639 - accuracy: 0.6204\n",
      "Epoch 00006: val_loss improved from 1.04084 to 1.02145, saving model to weights.best.hdf5\n",
      "625/625 [==============================] - 62s 100ms/step - loss: 1.0639 - accuracy: 0.6204 - val_loss: 1.0214 - val_accuracy: 0.6397\n",
      "Epoch 7/70\n",
      "625/625 [==============================] - ETA: 0s - loss: 1.0228 - accuracy: 0.6362\n",
      "Epoch 00007: val_loss did not improve from 1.02145\n",
      "625/625 [==============================] - 62s 99ms/step - loss: 1.0228 - accuracy: 0.6362 - val_loss: 1.0241 - val_accuracy: 0.6394\n",
      "Epoch 8/70\n",
      "625/625 [==============================] - ETA: 0s - loss: 0.9861 - accuracy: 0.6511\n",
      "Epoch 00008: val_loss improved from 1.02145 to 0.94497, saving model to weights.best.hdf5\n",
      "625/625 [==============================] - 62s 100ms/step - loss: 0.9861 - accuracy: 0.6511 - val_loss: 0.9450 - val_accuracy: 0.6694\n",
      "Epoch 9/70\n",
      "625/625 [==============================] - ETA: 0s - loss: 0.9554 - accuracy: 0.6602\n",
      "Epoch 00009: val_loss did not improve from 0.94497\n",
      "625/625 [==============================] - 62s 99ms/step - loss: 0.9554 - accuracy: 0.6602 - val_loss: 0.9845 - val_accuracy: 0.6572\n",
      "Epoch 10/70\n",
      "625/625 [==============================] - ETA: 0s - loss: 0.9307 - accuracy: 0.6695\n",
      "Epoch 00010: val_loss did not improve from 0.94497\n",
      "625/625 [==============================] - 62s 99ms/step - loss: 0.9307 - accuracy: 0.6695 - val_loss: 0.9536 - val_accuracy: 0.6713\n",
      "Epoch 11/70\n",
      "625/625 [==============================] - ETA: 0s - loss: 0.9071 - accuracy: 0.6801\n",
      "Epoch 00011: val_loss did not improve from 0.94497\n",
      "625/625 [==============================] - 62s 99ms/step - loss: 0.9071 - accuracy: 0.6801 - val_loss: 0.9742 - val_accuracy: 0.6589\n",
      "Epoch 12/70\n",
      "625/625 [==============================] - ETA: 0s - loss: 0.8783 - accuracy: 0.6899\n",
      "Epoch 00012: val_loss improved from 0.94497 to 0.91842, saving model to weights.best.hdf5\n",
      "625/625 [==============================] - 62s 99ms/step - loss: 0.8783 - accuracy: 0.6899 - val_loss: 0.9184 - val_accuracy: 0.6816\n",
      "Epoch 13/70\n",
      "625/625 [==============================] - ETA: 0s - loss: 0.8574 - accuracy: 0.6966\n",
      "Epoch 00013: val_loss did not improve from 0.91842\n",
      "625/625 [==============================] - 62s 99ms/step - loss: 0.8574 - accuracy: 0.6966 - val_loss: 0.9588 - val_accuracy: 0.6703\n",
      "Epoch 14/70\n",
      "625/625 [==============================] - ETA: 0s - loss: 0.8423 - accuracy: 0.7029\n",
      "Epoch 00014: val_loss improved from 0.91842 to 0.90330, saving model to weights.best.hdf5\n",
      "625/625 [==============================] - 62s 99ms/step - loss: 0.8423 - accuracy: 0.7029 - val_loss: 0.9033 - val_accuracy: 0.6846\n",
      "Epoch 15/70\n",
      "625/625 [==============================] - ETA: 0s - loss: 0.8218 - accuracy: 0.7078\n",
      "Epoch 00015: val_loss did not improve from 0.90330\n",
      "625/625 [==============================] - 62s 99ms/step - loss: 0.8218 - accuracy: 0.7078 - val_loss: 0.9040 - val_accuracy: 0.6900\n",
      "Epoch 16/70\n",
      "625/625 [==============================] - ETA: 0s - loss: 0.7983 - accuracy: 0.7185\n",
      "Epoch 00016: val_loss improved from 0.90330 to 0.88029, saving model to weights.best.hdf5\n",
      "625/625 [==============================] - 62s 100ms/step - loss: 0.7983 - accuracy: 0.7185 - val_loss: 0.8803 - val_accuracy: 0.6982\n",
      "Epoch 17/70\n",
      "625/625 [==============================] - ETA: 0s - loss: 0.7841 - accuracy: 0.7235\n",
      "Epoch 00017: val_loss improved from 0.88029 to 0.87227, saving model to weights.best.hdf5\n",
      "625/625 [==============================] - 62s 99ms/step - loss: 0.7841 - accuracy: 0.7235 - val_loss: 0.8723 - val_accuracy: 0.6947\n",
      "Epoch 18/70\n",
      "625/625 [==============================] - ETA: 0s - loss: 0.7684 - accuracy: 0.7262\n",
      "Epoch 00018: val_loss did not improve from 0.87227\n",
      "625/625 [==============================] - 62s 99ms/step - loss: 0.7684 - accuracy: 0.7262 - val_loss: 0.9100 - val_accuracy: 0.6868\n",
      "Epoch 19/70\n",
      "625/625 [==============================] - ETA: 0s - loss: 0.7592 - accuracy: 0.7310\n",
      "Epoch 00019: val_loss improved from 0.87227 to 0.86162, saving model to weights.best.hdf5\n",
      "625/625 [==============================] - 62s 99ms/step - loss: 0.7592 - accuracy: 0.7310 - val_loss: 0.8616 - val_accuracy: 0.7018\n",
      "Epoch 20/70\n",
      "625/625 [==============================] - ETA: 0s - loss: 0.7466 - accuracy: 0.7372\n",
      "Epoch 00020: val_loss improved from 0.86162 to 0.85677, saving model to weights.best.hdf5\n",
      "625/625 [==============================] - 62s 99ms/step - loss: 0.7466 - accuracy: 0.7372 - val_loss: 0.8568 - val_accuracy: 0.7054\n",
      "Epoch 21/70\n",
      "625/625 [==============================] - ETA: 0s - loss: 0.7351 - accuracy: 0.7407\n",
      "Epoch 00021: val_loss improved from 0.85677 to 0.83662, saving model to weights.best.hdf5\n",
      "625/625 [==============================] - 62s 99ms/step - loss: 0.7351 - accuracy: 0.7407 - val_loss: 0.8366 - val_accuracy: 0.7132\n",
      "Epoch 22/70\n",
      "625/625 [==============================] - ETA: 0s - loss: 0.7148 - accuracy: 0.7453\n",
      "Epoch 00022: val_loss did not improve from 0.83662\n",
      "625/625 [==============================] - 62s 99ms/step - loss: 0.7148 - accuracy: 0.7453 - val_loss: 0.8988 - val_accuracy: 0.6953\n",
      "Epoch 23/70\n",
      "625/625 [==============================] - ETA: 0s - loss: 0.7069 - accuracy: 0.7491\n",
      "Epoch 00023: val_loss did not improve from 0.83662\n",
      "625/625 [==============================] - 62s 99ms/step - loss: 0.7069 - accuracy: 0.7491 - val_loss: 0.8396 - val_accuracy: 0.7149\n",
      "Epoch 24/70\n",
      "625/625 [==============================] - ETA: 0s - loss: 0.7053 - accuracy: 0.7504\n",
      "Epoch 00024: val_loss improved from 0.83662 to 0.81444, saving model to weights.best.hdf5\n",
      "625/625 [==============================] - 62s 99ms/step - loss: 0.7053 - accuracy: 0.7504 - val_loss: 0.8144 - val_accuracy: 0.7229\n",
      "Epoch 25/70\n",
      "625/625 [==============================] - ETA: 0s - loss: 0.6888 - accuracy: 0.7557\n",
      "Epoch 00025: val_loss did not improve from 0.81444\n",
      "625/625 [==============================] - 62s 99ms/step - loss: 0.6888 - accuracy: 0.7557 - val_loss: 0.8471 - val_accuracy: 0.7144\n",
      "Epoch 26/70\n",
      "625/625 [==============================] - ETA: 0s - loss: 0.6754 - accuracy: 0.7599\n",
      "Epoch 00026: val_loss did not improve from 0.81444\n",
      "625/625 [==============================] - 62s 99ms/step - loss: 0.6754 - accuracy: 0.7599 - val_loss: 0.8579 - val_accuracy: 0.7160\n",
      "Epoch 27/70\n",
      "625/625 [==============================] - ETA: 0s - loss: 0.6639 - accuracy: 0.7650\n",
      "Epoch 00027: val_loss did not improve from 0.81444\n",
      "625/625 [==============================] - 62s 99ms/step - loss: 0.6639 - accuracy: 0.7650 - val_loss: 0.8622 - val_accuracy: 0.7086\n",
      "Epoch 28/70\n",
      "625/625 [==============================] - ETA: 0s - loss: 0.6543 - accuracy: 0.7672\n",
      "Epoch 00028: val_loss did not improve from 0.81444\n",
      "625/625 [==============================] - 62s 100ms/step - loss: 0.6543 - accuracy: 0.7672 - val_loss: 0.8700 - val_accuracy: 0.7160\n",
      "Epoch 29/70\n",
      "625/625 [==============================] - ETA: 0s - loss: 0.6509 - accuracy: 0.7702\n",
      "Epoch 00029: val_loss did not improve from 0.81444\n",
      "\n",
      "Epoch 00029: ReduceLROnPlateau reducing learning rate to 0.0007500000356230885.\n",
      "625/625 [==============================] - 62s 99ms/step - loss: 0.6509 - accuracy: 0.7702 - val_loss: 0.8561 - val_accuracy: 0.7139\n",
      "Epoch 30/70\n",
      "625/625 [==============================] - ETA: 0s - loss: 0.6210 - accuracy: 0.7809\n",
      "Epoch 00030: val_loss did not improve from 0.81444\n",
      "625/625 [==============================] - 62s 99ms/step - loss: 0.6210 - accuracy: 0.7809 - val_loss: 0.8244 - val_accuracy: 0.7272\n",
      "Epoch 31/70\n",
      "625/625 [==============================] - ETA: 0s - loss: 0.6037 - accuracy: 0.7861\n",
      "Epoch 00031: val_loss improved from 0.81444 to 0.79126, saving model to weights.best.hdf5\n",
      "625/625 [==============================] - 62s 99ms/step - loss: 0.6037 - accuracy: 0.7861 - val_loss: 0.7913 - val_accuracy: 0.7400\n",
      "Epoch 32/70\n",
      "625/625 [==============================] - ETA: 0s - loss: 0.5852 - accuracy: 0.7924\n",
      "Epoch 00032: val_loss did not improve from 0.79126\n",
      "625/625 [==============================] - 62s 99ms/step - loss: 0.5852 - accuracy: 0.7924 - val_loss: 0.8218 - val_accuracy: 0.7304\n",
      "Epoch 33/70\n",
      "625/625 [==============================] - ETA: 0s - loss: 0.5803 - accuracy: 0.7952\n",
      "Epoch 00033: val_loss did not improve from 0.79126\n",
      "625/625 [==============================] - 62s 99ms/step - loss: 0.5803 - accuracy: 0.7952 - val_loss: 0.8454 - val_accuracy: 0.7238\n",
      "Epoch 34/70\n",
      "625/625 [==============================] - ETA: 0s - loss: 0.5733 - accuracy: 0.7977\n",
      "Epoch 00034: val_loss did not improve from 0.79126\n",
      "625/625 [==============================] - 62s 99ms/step - loss: 0.5733 - accuracy: 0.7977 - val_loss: 0.8362 - val_accuracy: 0.7241\n",
      "Epoch 35/70\n",
      "625/625 [==============================] - ETA: 0s - loss: 0.5596 - accuracy: 0.8008\n",
      "Epoch 00035: val_loss did not improve from 0.79126\n",
      "625/625 [==============================] - 62s 99ms/step - loss: 0.5596 - accuracy: 0.8008 - val_loss: 0.8272 - val_accuracy: 0.7369\n",
      "Epoch 36/70\n",
      "625/625 [==============================] - ETA: 0s - loss: 0.5546 - accuracy: 0.8037\n",
      "Epoch 00036: val_loss improved from 0.79126 to 0.79036, saving model to weights.best.hdf5\n",
      "625/625 [==============================] - 62s 99ms/step - loss: 0.5546 - accuracy: 0.8037 - val_loss: 0.7904 - val_accuracy: 0.7421\n",
      "Epoch 37/70\n",
      "625/625 [==============================] - ETA: 0s - loss: 0.5483 - accuracy: 0.8053\n",
      "Epoch 00037: val_loss did not improve from 0.79036\n",
      "625/625 [==============================] - 62s 100ms/step - loss: 0.5483 - accuracy: 0.8053 - val_loss: 0.8261 - val_accuracy: 0.7329\n",
      "Epoch 38/70\n",
      "625/625 [==============================] - ETA: 0s - loss: 0.5365 - accuracy: 0.8110\n",
      "Epoch 00038: val_loss did not improve from 0.79036\n",
      "625/625 [==============================] - 62s 99ms/step - loss: 0.5365 - accuracy: 0.8110 - val_loss: 0.8081 - val_accuracy: 0.7290\n",
      "Epoch 39/70\n",
      "625/625 [==============================] - ETA: 0s - loss: 0.5376 - accuracy: 0.8096\n",
      "Epoch 00039: val_loss did not improve from 0.79036\n",
      "625/625 [==============================] - 62s 99ms/step - loss: 0.5376 - accuracy: 0.8096 - val_loss: 0.8180 - val_accuracy: 0.7305\n",
      "Epoch 40/70\n",
      "625/625 [==============================] - ETA: 0s - loss: 0.5313 - accuracy: 0.8102\n",
      "Epoch 00040: val_loss did not improve from 0.79036\n",
      "625/625 [==============================] - 62s 99ms/step - loss: 0.5313 - accuracy: 0.8102 - val_loss: 0.8173 - val_accuracy: 0.7319\n",
      "Epoch 41/70\n",
      "625/625 [==============================] - ETA: 0s - loss: 0.5271 - accuracy: 0.8117\n",
      "Epoch 00041: val_loss did not improve from 0.79036\n",
      "\n",
      "Epoch 00041: ReduceLROnPlateau reducing learning rate to 0.0005625000048894435.\n",
      "625/625 [==============================] - 62s 100ms/step - loss: 0.5271 - accuracy: 0.8117 - val_loss: 0.7994 - val_accuracy: 0.7409\n",
      "Epoch 42/70\n",
      "625/625 [==============================] - ETA: 0s - loss: 0.4894 - accuracy: 0.8266\n",
      "Epoch 00042: val_loss did not improve from 0.79036\n",
      "625/625 [==============================] - 62s 99ms/step - loss: 0.4894 - accuracy: 0.8266 - val_loss: 0.7975 - val_accuracy: 0.7469\n",
      "Epoch 43/70\n",
      "625/625 [==============================] - ETA: 0s - loss: 0.4869 - accuracy: 0.8259\n",
      "Epoch 00043: val_loss did not improve from 0.79036\n",
      "625/625 [==============================] - 62s 99ms/step - loss: 0.4869 - accuracy: 0.8259 - val_loss: 0.7919 - val_accuracy: 0.7463\n",
      "Epoch 44/70\n",
      "625/625 [==============================] - ETA: 0s - loss: 0.4802 - accuracy: 0.8297\n",
      "Epoch 00044: val_loss improved from 0.79036 to 0.78912, saving model to weights.best.hdf5\n",
      "625/625 [==============================] - 62s 98ms/step - loss: 0.4802 - accuracy: 0.8297 - val_loss: 0.7891 - val_accuracy: 0.7481\n",
      "Epoch 45/70\n",
      "625/625 [==============================] - ETA: 0s - loss: 0.4694 - accuracy: 0.8323\n",
      "Epoch 00045: val_loss did not improve from 0.78912\n",
      "625/625 [==============================] - 61s 98ms/step - loss: 0.4694 - accuracy: 0.8323 - val_loss: 0.8260 - val_accuracy: 0.7390\n",
      "Epoch 46/70\n",
      "625/625 [==============================] - ETA: 0s - loss: 0.4695 - accuracy: 0.8336\n",
      "Epoch 00046: val_loss improved from 0.78912 to 0.77901, saving model to weights.best.hdf5\n",
      "625/625 [==============================] - 62s 99ms/step - loss: 0.4695 - accuracy: 0.8336 - val_loss: 0.7790 - val_accuracy: 0.7524\n",
      "Epoch 47/70\n",
      "625/625 [==============================] - ETA: 0s - loss: 0.4603 - accuracy: 0.8365\n",
      "Epoch 00047: val_loss improved from 0.77901 to 0.77010, saving model to weights.best.hdf5\n",
      "625/625 [==============================] - 62s 99ms/step - loss: 0.4603 - accuracy: 0.8365 - val_loss: 0.7701 - val_accuracy: 0.7529\n",
      "Epoch 48/70\n",
      "625/625 [==============================] - ETA: 0s - loss: 0.4540 - accuracy: 0.8366\n",
      "Epoch 00048: val_loss did not improve from 0.77010\n",
      "625/625 [==============================] - 61s 98ms/step - loss: 0.4540 - accuracy: 0.8366 - val_loss: 0.7915 - val_accuracy: 0.7516\n",
      "Epoch 49/70\n",
      "625/625 [==============================] - ETA: 0s - loss: 0.4509 - accuracy: 0.8379\n",
      "Epoch 00049: val_loss did not improve from 0.77010\n",
      "625/625 [==============================] - 62s 99ms/step - loss: 0.4509 - accuracy: 0.8379 - val_loss: 0.8164 - val_accuracy: 0.7455\n",
      "Epoch 50/70\n",
      "625/625 [==============================] - ETA: 0s - loss: 0.4555 - accuracy: 0.8395\n",
      "Epoch 00050: val_loss did not improve from 0.77010\n",
      "625/625 [==============================] - 61s 98ms/step - loss: 0.4555 - accuracy: 0.8395 - val_loss: 0.7789 - val_accuracy: 0.7512\n",
      "Epoch 51/70\n",
      "625/625 [==============================] - ETA: 0s - loss: 0.4325 - accuracy: 0.8472\n",
      "Epoch 00051: val_loss improved from 0.77010 to 0.76524, saving model to weights.best.hdf5\n",
      "625/625 [==============================] - 62s 98ms/step - loss: 0.4325 - accuracy: 0.8472 - val_loss: 0.7652 - val_accuracy: 0.7555\n",
      "Epoch 52/70\n",
      "625/625 [==============================] - ETA: 0s - loss: 0.4339 - accuracy: 0.8461\n",
      "Epoch 00052: val_loss did not improve from 0.76524\n",
      "625/625 [==============================] - 61s 98ms/step - loss: 0.4339 - accuracy: 0.8461 - val_loss: 0.7894 - val_accuracy: 0.7485\n",
      "Epoch 53/70\n",
      "625/625 [==============================] - ETA: 0s - loss: 0.4279 - accuracy: 0.8476\n",
      "Epoch 00053: val_loss did not improve from 0.76524\n",
      "625/625 [==============================] - 62s 99ms/step - loss: 0.4279 - accuracy: 0.8476 - val_loss: 0.7945 - val_accuracy: 0.7533\n",
      "Epoch 54/70\n",
      "625/625 [==============================] - ETA: 0s - loss: 0.4260 - accuracy: 0.8494\n",
      "Epoch 00054: val_loss did not improve from 0.76524\n",
      "625/625 [==============================] - 61s 98ms/step - loss: 0.4260 - accuracy: 0.8494 - val_loss: 0.8227 - val_accuracy: 0.7444\n",
      "Epoch 55/70\n",
      "625/625 [==============================] - ETA: 0s - loss: 0.4293 - accuracy: 0.8478\n",
      "Epoch 00055: val_loss did not improve from 0.76524\n",
      "625/625 [==============================] - 62s 99ms/step - loss: 0.4293 - accuracy: 0.8478 - val_loss: 0.8024 - val_accuracy: 0.7520\n",
      "Epoch 56/70\n",
      "625/625 [==============================] - ETA: 0s - loss: 0.4215 - accuracy: 0.8500\n",
      "Epoch 00056: val_loss did not improve from 0.76524\n",
      "\n",
      "Epoch 00056: ReduceLROnPlateau reducing learning rate to 0.0004218749818392098.\n",
      "625/625 [==============================] - 62s 99ms/step - loss: 0.4215 - accuracy: 0.8500 - val_loss: 0.8073 - val_accuracy: 0.7541\n",
      "Epoch 57/70\n",
      "625/625 [==============================] - ETA: 0s - loss: 0.3959 - accuracy: 0.8585\n",
      "Epoch 00057: val_loss did not improve from 0.76524\n",
      "625/625 [==============================] - 61s 98ms/step - loss: 0.3959 - accuracy: 0.8585 - val_loss: 0.7812 - val_accuracy: 0.7571\n",
      "Epoch 58/70\n",
      "625/625 [==============================] - ETA: 0s - loss: 0.3880 - accuracy: 0.8611\n",
      "Epoch 00058: val_loss did not improve from 0.76524\n",
      "625/625 [==============================] - 62s 99ms/step - loss: 0.3880 - accuracy: 0.8611 - val_loss: 0.8050 - val_accuracy: 0.7530\n",
      "Epoch 59/70\n",
      "625/625 [==============================] - ETA: 0s - loss: 0.3801 - accuracy: 0.8657\n",
      "Epoch 00059: val_loss did not improve from 0.76524\n",
      "625/625 [==============================] - 62s 98ms/step - loss: 0.3801 - accuracy: 0.8657 - val_loss: 0.8125 - val_accuracy: 0.7582\n",
      "Epoch 60/70\n",
      "625/625 [==============================] - ETA: 0s - loss: 0.3820 - accuracy: 0.8627\n",
      "Epoch 00060: val_loss did not improve from 0.76524\n",
      "625/625 [==============================] - 62s 99ms/step - loss: 0.3820 - accuracy: 0.8627 - val_loss: 0.8014 - val_accuracy: 0.7562\n",
      "Epoch 61/70\n",
      "625/625 [==============================] - ETA: 0s - loss: 0.3743 - accuracy: 0.8666\n",
      "Epoch 00061: val_loss did not improve from 0.76524\n",
      "\n",
      "Epoch 00061: ReduceLROnPlateau reducing learning rate to 0.00031640623637940735.\n",
      "625/625 [==============================] - 62s 99ms/step - loss: 0.3743 - accuracy: 0.8666 - val_loss: 0.7955 - val_accuracy: 0.7565\n",
      "Epoch 62/70\n",
      "625/625 [==============================] - ETA: 0s - loss: 0.3636 - accuracy: 0.8689\n",
      "Epoch 00062: val_loss did not improve from 0.76524\n",
      "625/625 [==============================] - 62s 98ms/step - loss: 0.3636 - accuracy: 0.8689 - val_loss: 0.8003 - val_accuracy: 0.7603\n",
      "Epoch 63/70\n",
      "625/625 [==============================] - ETA: 0s - loss: 0.3564 - accuracy: 0.8714\n",
      "Epoch 00063: val_loss did not improve from 0.76524\n",
      "625/625 [==============================] - 62s 99ms/step - loss: 0.3564 - accuracy: 0.8714 - val_loss: 0.8062 - val_accuracy: 0.7562\n",
      "Epoch 64/70\n",
      "625/625 [==============================] - ETA: 0s - loss: 0.3530 - accuracy: 0.8734\n",
      "Epoch 00064: val_loss did not improve from 0.76524\n",
      "625/625 [==============================] - 62s 99ms/step - loss: 0.3530 - accuracy: 0.8734 - val_loss: 0.8029 - val_accuracy: 0.7588\n",
      "Epoch 65/70\n",
      "625/625 [==============================] - ETA: 0s - loss: 0.3436 - accuracy: 0.8763\n",
      "Epoch 00065: val_loss did not improve from 0.76524\n",
      "625/625 [==============================] - 62s 100ms/step - loss: 0.3436 - accuracy: 0.8763 - val_loss: 0.8035 - val_accuracy: 0.7573\n",
      "Epoch 66/70\n",
      "625/625 [==============================] - ETA: 0s - loss: 0.3460 - accuracy: 0.8770\n",
      "Epoch 00066: val_loss did not improve from 0.76524\n",
      "\n",
      "Epoch 00066: ReduceLROnPlateau reducing learning rate to 0.00023730468819849193.\n",
      "625/625 [==============================] - 62s 99ms/step - loss: 0.3460 - accuracy: 0.8770 - val_loss: 0.8038 - val_accuracy: 0.7575\n",
      "Epoch 67/70\n",
      "625/625 [==============================] - ETA: 0s - loss: 0.3328 - accuracy: 0.8809\n",
      "Epoch 00067: val_loss did not improve from 0.76524\n",
      "625/625 [==============================] - 62s 99ms/step - loss: 0.3328 - accuracy: 0.8809 - val_loss: 0.7924 - val_accuracy: 0.7634\n",
      "Epoch 68/70\n",
      "625/625 [==============================] - ETA: 0s - loss: 0.3306 - accuracy: 0.8821\n",
      "Epoch 00068: val_loss did not improve from 0.76524\n",
      "625/625 [==============================] - 62s 99ms/step - loss: 0.3306 - accuracy: 0.8821 - val_loss: 0.7840 - val_accuracy: 0.7639\n",
      "Epoch 69/70\n",
      "625/625 [==============================] - ETA: 0s - loss: 0.3227 - accuracy: 0.8853\n",
      "Epoch 00069: val_loss did not improve from 0.76524\n",
      "625/625 [==============================] - 62s 98ms/step - loss: 0.3227 - accuracy: 0.8853 - val_loss: 0.7799 - val_accuracy: 0.7632\n",
      "Epoch 70/70\n",
      "625/625 [==============================] - ETA: 0s - loss: 0.3212 - accuracy: 0.8851\n",
      "Epoch 00070: val_loss did not improve from 0.76524\n",
      "625/625 [==============================] - 62s 99ms/step - loss: 0.3212 - accuracy: 0.8851 - val_loss: 0.7987 - val_accuracy: 0.7603\n"
     ]
    }
   ],
   "source": [
    "model.compile(optimizer=tf.keras.optimizers.Adam(),\n",
    "              loss=tf.keras.losses\\\n",
    "              .SparseCategoricalCrossentropy(),\n",
    "              metrics=['accuracy'])\n",
    "history=model.fit(cifar_train,epochs=70,shuffle=True, \n",
    "                  validation_data=cifar_valid,\n",
    "                  callbacks=cb(fw))"
   ]
  },
  {
   "cell_type": "code",
   "execution_count": 26,
   "metadata": {
    "execution": {
     "iopub.execute_input": "2020-09-06T15:24:54.116576Z",
     "iopub.status.busy": "2020-09-06T15:24:54.115652Z",
     "iopub.status.idle": "2020-09-06T15:24:54.452701Z",
     "shell.execute_reply": "2020-09-06T15:24:54.453196Z"
    },
    "papermill": {
     "duration": 3.448292,
     "end_time": "2020-09-06T15:24:54.453324",
     "exception": false,
     "start_time": "2020-09-06T15:24:51.005032",
     "status": "completed"
    },
    "tags": []
   },
   "outputs": [
    {
     "data": {
      "image/png": "[encoded data removed]",
      "text/plain": [
       "<Figure size 720x720 with 2 Axes>"
      ]
     },
     "metadata": {
      "needs_background": "light"
     },
     "output_type": "display_data"
    }
   ],
   "source": [
    "history_plot(history)"
   ]
  },
  {
   "cell_type": "code",
   "execution_count": 27,
   "metadata": {
    "_kg_hide-output": true,
    "execution": {
     "iopub.execute_input": "2020-09-06T15:25:00.686911Z",
     "iopub.status.busy": "2020-09-06T15:25:00.685775Z",
     "iopub.status.idle": "2020-09-06T15:25:55.153888Z",
     "shell.execute_reply": "2020-09-06T15:25:55.154391Z"
    },
    "papermill": {
     "duration": 57.673194,
     "end_time": "2020-09-06T15:25:55.154534",
     "exception": false,
     "start_time": "2020-09-06T15:24:57.481340",
     "status": "completed"
    },
    "tags": []
   },
   "outputs": [
    {
     "name": "stdout",
     "output_type": "stream",
     "text": [
      "1/1 [==============================] - 0s 2ms/step - loss: 0.7773 - accuracy: 0.7534\n"
     ]
    },
    {
     "data": {
      "text/html": [
       "<style>\n",
       "    @import 'https://fonts.googleapis.com/css?family=Orbitron&effect=3d-float';</style>\n",
       "    <h1 class='font-effect-3d-float' \n",
       "    style='font-family:Orbitron; color:#6611ff; font-size:10px;'>\n",
       "    \n",
       "test accuracy: 75.34%</h1>"
      ],
      "text/plain": [
       "<IPython.core.display.HTML object>"
      ]
     },
     "metadata": {},
     "output_type": "display_data"
    },
    {
     "data": {
      "text/html": [
       "<style>\n",
       "    @import 'https://fonts.googleapis.com/css?family=Orbitron&effect=3d-float';</style>\n",
       "    <h1 class='font-effect-3d-float' \n",
       "    style='font-family:Orbitron; color:#6611ff; font-size:10px;'>\n",
       "    Classification Report</h1>"
      ],
      "text/plain": [
       "<IPython.core.display.HTML object>"
      ]
     },
     "metadata": {},
     "output_type": "display_data"
    },
    {
     "name": "stdout",
     "output_type": "stream",
     "text": [
      "              precision    recall  f1-score   support\n",
      "\n",
      "           0       0.76      0.82      0.79      1000\n",
      "           1       0.89      0.83      0.86      1000\n",
      "           2       0.69      0.65      0.67      1000\n",
      "           3       0.58      0.56      0.57      1000\n",
      "           4       0.66      0.77      0.71      1000\n",
      "           5       0.69      0.61      0.65      1000\n",
      "           6       0.78      0.81      0.80      1000\n",
      "           7       0.83      0.77      0.80      1000\n",
      "           8       0.87      0.86      0.87      1000\n",
      "           9       0.79      0.84      0.82      1000\n",
      "\n",
      "    accuracy                           0.75     10000\n",
      "   macro avg       0.75      0.75      0.75     10000\n",
      "weighted avg       0.75      0.75      0.75     10000\n",
      "\n"
     ]
    },
    {
     "data": {
      "text/html": [
       "<style>\n",
       "    @import 'https://fonts.googleapis.com/css?family=Orbitron&effect=3d-float';</style>\n",
       "    <h1 class='font-effect-3d-float' \n",
       "    style='font-family:Orbitron; color:#6611ff; font-size:10px;'>\n",
       "    Confusion Matrix</h1>"
      ],
      "text/plain": [
       "<IPython.core.display.HTML object>"
      ]
     },
     "metadata": {},
     "output_type": "display_data"
    },
    {
     "name": "stdout",
     "output_type": "stream",
     "text": [
      "[[819  12  42  14  11   7  10   7  54  24]\n",
      " [ 18 835   4   4   2   4   8   2  18 105]\n",
      " [ 59   4 654  60  90  47  44  29   9   4]\n",
      " [ 29   9  63 558  92 119  67  23  10  30]\n",
      " [ 23   2  52  49 771  15  40  40   6   2]\n",
      " [ 16   3  42 171  56 608  36  47   3  18]\n",
      " [  9   4  39  53  54  15 813   2   4   7]\n",
      " [ 17   3  33  31  77  50  11 770   0   8]\n",
      " [ 58  18  10   9   8   5   5   1 862  24]\n",
      " [ 31  52   6  15   7   7   6   8  24 844]]\n"
     ]
    }
   ],
   "source": [
    "%display_reports cifar"
   ]
  }
 ],
 "metadata": {
  "kernelspec": {
   "display_name": "Python 3",
   "language": "python",
   "name": "python3"
  },
  "language_info": {
   "codemirror_mode": {
    "name": "ipython",
    "version": 3
   },
   "file_extension": ".py",
   "mimetype": "text/x-python",
   "name": "python",
   "nbconvert_exporter": "python",
   "pygments_lexer": "ipython3",
   "version": "3.7.6"
  },
  "papermill": {
   "duration": 5010.052708,
   "end_time": "2020-09-06T15:26:00.288905",
   "environment_variables": {},
   "exception": null,
   "input_path": "__notebook__.ipynb",
   "output_path": "__notebook__.ipynb",
   "parameters": {},
   "start_time": "2020-09-06T14:02:30.236197",
   "version": "2.1.0"
  },
  "widgets": {
   "application/vnd.jupyter.widget-state+json": {
    "state": {
     "027ffa1f4e504a968062314617ca1534": {
      "model_module": "@jupyter-widgets/controls",
      "model_module_version": "1.5.0",
      "model_name": "HBoxModel",
      "state": {
       "_dom_classes": [],
       "_model_module": "@jupyter-widgets/controls",
       "_model_module_version": "1.5.0",
       "_model_name": "HBoxModel",
       "_view_count": null,
       "_view_module": "@jupyter-widgets/controls",
       "_view_module_version": "1.5.0",
       "_view_name": "HBoxView",
       "box_style": "",
       "children": [
        "IPY_MODEL_eaeb901a666d4735a719773ec5a7893d",
        "IPY_MODEL_d07a5f0bf4ba49edb9135409a9607dd0"
       ],
       "layout": "IPY_MODEL_dbfc1bc33ac34be893f22bad5033e10b"
      }
     },
     "029c4b9fd9a2402ba4a58803eb208b2e": {
      "model_module": "@jupyter-widgets/controls",
      "model_module_version": "1.5.0",
      "model_name": "ProgressStyleModel",
      "state": {
       "_model_module": "@jupyter-widgets/controls",
       "_model_module_version": "1.5.0",
       "_model_name": "ProgressStyleModel",
       "_view_count": null,
       "_view_module": "@jupyter-widgets/base",
       "_view_module_version": "1.2.0",
       "_view_name": "StyleView",
       "bar_color": null,
       "description_width": "initial"
      }
     },
     "02b95e6d84df4b848470a1b8e916ea55": {
      "model_module": "@jupyter-widgets/base",
      "model_module_version": "1.2.0",
      "model_name": "LayoutModel",
      "state": {
       "_model_module": "@jupyter-widgets/base",
       "_model_module_version": "1.2.0",
       "_model_name": "LayoutModel",
       "_view_count": null,
       "_view_module": "@jupyter-widgets/base",
       "_view_module_version": "1.2.0",
       "_view_name": "LayoutView",
       "align_content": null,
       "align_items": null,
       "align_self": null,
       "border": null,
       "bottom": null,
       "display": null,
       "flex": null,
       "flex_flow": null,
       "grid_area": null,
       "grid_auto_columns": null,
       "grid_auto_flow": null,
       "grid_auto_rows": null,
       "grid_column": null,
       "grid_gap": null,
       "grid_row": null,
       "grid_template_areas": null,
       "grid_template_columns": null,
       "grid_template_rows": null,
       "height": null,
       "justify_content": null,
       "justify_items": null,
       "left": null,
       "margin": null,
       "max_height": null,
       "max_width": null,
       "min_height": null,
       "min_width": null,
       "object_fit": null,
       "object_position": null,
       "order": null,
       "overflow": null,
       "overflow_x": null,
       "overflow_y": null,
       "padding": null,
       "right": null,
       "top": null,
       "visibility": null,
       "width": null
      }
     },
     "0e7a8c5c13c0449e800b8bb805fa798a": {
      "model_module": "@jupyter-widgets/base",
      "model_module_version": "1.2.0",
      "model_name": "LayoutModel",
      "state": {
       "_model_module": "@jupyter-widgets/base",
       "_model_module_version": "1.2.0",
       "_model_name": "LayoutModel",
       "_view_count": null,
       "_view_module": "@jupyter-widgets/base",
       "_view_module_version": "1.2.0",
       "_view_name": "LayoutView",
       "align_content": null,
       "align_items": null,
       "align_self": null,
       "border": null,
       "bottom": null,
       "display": null,
       "flex": null,
       "flex_flow": null,
       "grid_area": null,
       "grid_auto_columns": null,
       "grid_auto_flow": null,
       "grid_auto_rows": null,
       "grid_column": null,
       "grid_gap": null,
       "grid_row": null,
       "grid_template_areas": null,
       "grid_template_columns": null,
       "grid_template_rows": null,
       "height": null,
       "justify_content": null,
       "justify_items": null,
       "left": null,
       "margin": null,
       "max_height": null,
       "max_width": null,
       "min_height": null,
       "min_width": null,
       "object_fit": null,
       "object_position": null,
       "order": null,
       "overflow": null,
       "overflow_x": null,
       "overflow_y": null,
       "padding": null,
       "right": null,
       "top": null,
       "visibility": null,
       "width": null
      }
     },
     "113a9bdcd93d4fe9b49f633accc306d2": {
      "model_module": "@jupyter-widgets/controls",
      "model_module_version": "1.5.0",
      "model_name": "HBoxModel",
      "state": {
       "_dom_classes": [],
       "_model_module": "@jupyter-widgets/controls",
       "_model_module_version": "1.5.0",
       "_model_name": "HBoxModel",
       "_view_count": null,
       "_view_module": "@jupyter-widgets/controls",
       "_view_module_version": "1.5.0",
       "_view_name": "HBoxView",
       "box_style": "",
       "children": [
        "IPY_MODEL_bf5e9c68b3b34de4921c625bbf4ac10e",
        "IPY_MODEL_a3112c0904aa41ec82ae2b225c4aa863"
       ],
       "layout": "IPY_MODEL_37a2612c4a7e4d86b88c93fe3c3e282f"
      }
     },
     "163b7f9258ea4601ba273b5176661895": {
      "model_module": "@jupyter-widgets/controls",
      "model_module_version": "1.5.0",
      "model_name": "DescriptionStyleModel",
      "state": {
       "_model_module": "@jupyter-widgets/controls",
       "_model_module_version": "1.5.0",
       "_model_name": "DescriptionStyleModel",
       "_view_count": null,
       "_view_module": "@jupyter-widgets/base",
       "_view_module_version": "1.2.0",
       "_view_name": "StyleView",
       "description_width": ""
      }
     },
     "1eff556497d6473ca8b62303823ce93e": {
      "model_module": "@jupyter-widgets/controls",
      "model_module_version": "1.5.0",
      "model_name": "FloatProgressModel",
      "state": {
       "_dom_classes": [],
       "_model_module": "@jupyter-widgets/controls",
       "_model_module_version": "1.5.0",
       "_model_name": "FloatProgressModel",
       "_view_count": null,
       "_view_module": "@jupyter-widgets/controls",
       "_view_module_version": "1.5.0",
       "_view_name": "ProgressView",
       "bar_style": "danger",
       "description": "100%",
       "description_tooltip": null,
       "layout": "IPY_MODEL_484e2a8993664b3bac79824d3749b7fc",
       "max": 10000.0,
       "min": 0.0,
       "orientation": "horizontal",
       "style": "IPY_MODEL_2ef7a90255254bdf9b78b95302c3a80a",
       "value": 9999.0
      }
     },
     "2cf41b66c8bd447eaf76cea82efb10bf": {
      "model_module": "@jupyter-widgets/controls",
      "model_module_version": "1.5.0",
      "model_name": "HBoxModel",
      "state": {
       "_dom_classes": [],
       "_model_module": "@jupyter-widgets/controls",
       "_model_module_version": "1.5.0",
       "_model_name": "HBoxModel",
       "_view_count": null,
       "_view_module": "@jupyter-widgets/controls",
       "_view_module_version": "1.5.0",
       "_view_name": "HBoxView",
       "box_style": "",
       "children": [
        "IPY_MODEL_93e891c1e0634e1198b215d4bb10cbff",
        "IPY_MODEL_4664db05f5a541fba496b181397aa4ed"
       ],
       "layout": "IPY_MODEL_838023f3d2bf47378d590db0d5e7516f"
      }
     },
     "2dab80705f144fda9f2defb3e4fa6975": {
      "model_module": "@jupyter-widgets/controls",
      "model_module_version": "1.5.0",
      "model_name": "HBoxModel",
      "state": {
       "_dom_classes": [],
       "_model_module": "@jupyter-widgets/controls",
       "_model_module_version": "1.5.0",
       "_model_name": "HBoxModel",
       "_view_count": null,
       "_view_module": "@jupyter-widgets/controls",
       "_view_module_version": "1.5.0",
       "_view_name": "HBoxView",
       "box_style": "",
       "children": [
        "IPY_MODEL_6335842d749c44b2b8d80ba11f19561e",
        "IPY_MODEL_5893347d7b3a4ce1ae92cfa7ce3ce9e5"
       ],
       "layout": "IPY_MODEL_4cf7ca5d72c347d3af56df881a345fdc"
      }
     },
     "2ef7a90255254bdf9b78b95302c3a80a": {
      "model_module": "@jupyter-widgets/controls",
      "model_module_version": "1.5.0",
      "model_name": "ProgressStyleModel",
      "state": {
       "_model_module": "@jupyter-widgets/controls",
       "_model_module_version": "1.5.0",
       "_model_name": "ProgressStyleModel",
       "_view_count": null,
       "_view_module": "@jupyter-widgets/base",
       "_view_module_version": "1.2.0",
       "_view_name": "StyleView",
       "bar_color": null,
       "description_width": "initial"
      }
     },
     "30512cde56e246f8ad83df4310b52aea": {
      "model_module": "@jupyter-widgets/controls",
      "model_module_version": "1.5.0",
      "model_name": "FloatProgressModel",
      "state": {
       "_dom_classes": [],
       "_model_module": "@jupyter-widgets/controls",
       "_model_module_version": "1.5.0",
       "_model_name": "FloatProgressModel",
       "_view_count": null,
       "_view_module": "@jupyter-widgets/controls",
       "_view_module_version": "1.5.0",
       "_view_name": "ProgressView",
       "bar_style": "success",
       "description": "Dl Completed...: 100%",
       "description_tooltip": null,
       "layout": "IPY_MODEL_ba002eb3a9a443b6bf005f61613431d3",
       "max": 4.0,
       "min": 0.0,
       "orientation": "horizontal",
       "style": "IPY_MODEL_34d30ed3bc1b48ed882811278aae96ad",
       "value": 4.0
      }
     },
     "34d30ed3bc1b48ed882811278aae96ad": {
      "model_module": "@jupyter-widgets/controls",
      "model_module_version": "1.5.0",
      "model_name": "ProgressStyleModel",
      "state": {
       "_model_module": "@jupyter-widgets/controls",
       "_model_module_version": "1.5.0",
       "_model_name": "ProgressStyleModel",
       "_view_count": null,
       "_view_module": "@jupyter-widgets/base",
       "_view_module_version": "1.2.0",
       "_view_name": "StyleView",
       "bar_color": null,
       "description_width": "initial"
      }
     },
     "37a2612c4a7e4d86b88c93fe3c3e282f": {
      "model_module": "@jupyter-widgets/base",
      "model_module_version": "1.2.0",
      "model_name": "LayoutModel",
      "state": {
       "_model_module": "@jupyter-widgets/base",
       "_model_module_version": "1.2.0",
       "_model_name": "LayoutModel",
       "_view_count": null,
       "_view_module": "@jupyter-widgets/base",
       "_view_module_version": "1.2.0",
       "_view_name": "LayoutView",
       "align_content": null,
       "align_items": null,
       "align_self": null,
       "border": null,
       "bottom": null,
       "display": null,
       "flex": null,
       "flex_flow": null,
       "grid_area": null,
       "grid_auto_columns": null,
       "grid_auto_flow": null,
       "grid_auto_rows": null,
       "grid_column": null,
       "grid_gap": null,
       "grid_row": null,
       "grid_template_areas": null,
       "grid_template_columns": null,
       "grid_template_rows": null,
       "height": null,
       "justify_content": null,
       "justify_items": null,
       "left": null,
       "margin": null,
       "max_height": null,
       "max_width": null,
       "min_height": null,
       "min_width": null,
       "object_fit": null,
       "object_position": null,
       "order": null,
       "overflow": null,
       "overflow_x": null,
       "overflow_y": null,
       "padding": null,
       "right": null,
       "top": null,
       "visibility": null,
       "width": null
      }
     },
     "395f66ccb9d74d72ae570c7e52b631aa": {
      "model_module": "@jupyter-widgets/base",
      "model_module_version": "1.2.0",
      "model_name": "LayoutModel",
      "state": {
       "_model_module": "@jupyter-widgets/base",
       "_model_module_version": "1.2.0",
       "_model_name": "LayoutModel",
       "_view_count": null,
       "_view_module": "@jupyter-widgets/base",
       "_view_module_version": "1.2.0",
       "_view_name": "LayoutView",
       "align_content": null,
       "align_items": null,
       "align_self": null,
       "border": null,
       "bottom": null,
       "display": null,
       "flex": null,
       "flex_flow": null,
       "grid_area": null,
       "grid_auto_columns": null,
       "grid_auto_flow": null,
       "grid_auto_rows": null,
       "grid_column": null,
       "grid_gap": null,
       "grid_row": null,
       "grid_template_areas": null,
       "grid_template_columns": null,
       "grid_template_rows": null,
       "height": null,
       "justify_content": null,
       "justify_items": null,
       "left": null,
       "margin": null,
       "max_height": null,
       "max_width": null,
       "min_height": null,
       "min_width": null,
       "object_fit": null,
       "object_position": null,
       "order": null,
       "overflow": null,
       "overflow_x": null,
       "overflow_y": null,
       "padding": null,
       "right": null,
       "top": null,
       "visibility": null,
       "width": null
      }
     },
     "3a38195269fa4956af148fa7c94227fc": {
      "model_module": "@jupyter-widgets/controls",
      "model_module_version": "1.5.0",
      "model_name": "ProgressStyleModel",
      "state": {
       "_model_module": "@jupyter-widgets/controls",
       "_model_module_version": "1.5.0",
       "_model_name": "ProgressStyleModel",
       "_view_count": null,
       "_view_module": "@jupyter-widgets/base",
       "_view_module_version": "1.2.0",
       "_view_name": "StyleView",
       "bar_color": null,
       "description_width": "initial"
      }
     },
     "3bd0633c92cd44059eb1b2a27dc70285": {
      "model_module": "@jupyter-widgets/controls",
      "model_module_version": "1.5.0",
      "model_name": "DescriptionStyleModel",
      "state": {
       "_model_module": "@jupyter-widgets/controls",
       "_model_module_version": "1.5.0",
       "_model_name": "DescriptionStyleModel",
       "_view_count": null,
       "_view_module": "@jupyter-widgets/base",
       "_view_module_version": "1.2.0",
       "_view_name": "StyleView",
       "description_width": ""
      }
     },
     "3bdedcc315cc4d2883b74a80ca286119": {
      "model_module": "@jupyter-widgets/base",
      "model_module_version": "1.2.0",
      "model_name": "LayoutModel",
      "state": {
       "_model_module": "@jupyter-widgets/base",
       "_model_module_version": "1.2.0",
       "_model_name": "LayoutModel",
       "_view_count": null,
       "_view_module": "@jupyter-widgets/base",
       "_view_module_version": "1.2.0",
       "_view_name": "LayoutView",
       "align_content": null,
       "align_items": null,
       "align_self": null,
       "border": null,
       "bottom": null,
       "display": null,
       "flex": null,
       "flex_flow": null,
       "grid_area": null,
       "grid_auto_columns": null,
       "grid_auto_flow": null,
       "grid_auto_rows": null,
       "grid_column": null,
       "grid_gap": null,
       "grid_row": null,
       "grid_template_areas": null,
       "grid_template_columns": null,
       "grid_template_rows": null,
       "height": null,
       "justify_content": null,
       "justify_items": null,
       "left": null,
       "margin": null,
       "max_height": null,
       "max_width": null,
       "min_height": null,
       "min_width": null,
       "object_fit": null,
       "object_position": null,
       "order": null,
       "overflow": null,
       "overflow_x": null,
       "overflow_y": null,
       "padding": null,
       "right": null,
       "top": null,
       "visibility": null,
       "width": null
      }
     },
     "421ce7b3ecc049e5bafb4f48f6348a78": {
      "model_module": "@jupyter-widgets/base",
      "model_module_version": "1.2.0",
      "model_name": "LayoutModel",
      "state": {
       "_model_module": "@jupyter-widgets/base",
       "_model_module_version": "1.2.0",
       "_model_name": "LayoutModel",
       "_view_count": null,
       "_view_module": "@jupyter-widgets/base",
       "_view_module_version": "1.2.0",
       "_view_name": "LayoutView",
       "align_content": null,
       "align_items": null,
       "align_self": null,
       "border": null,
       "bottom": null,
       "display": null,
       "flex": null,
       "flex_flow": null,
       "grid_area": null,
       "grid_auto_columns": null,
       "grid_auto_flow": null,
       "grid_auto_rows": null,
       "grid_column": null,
       "grid_gap": null,
       "grid_row": null,
       "grid_template_areas": null,
       "grid_template_columns": null,
       "grid_template_rows": null,
       "height": null,
       "justify_content": null,
       "justify_items": null,
       "left": null,
       "margin": null,
       "max_height": null,
       "max_width": null,
       "min_height": null,
       "min_width": null,
       "object_fit": null,
       "object_position": null,
       "order": null,
       "overflow": null,
       "overflow_x": null,
       "overflow_y": null,
       "padding": null,
       "right": null,
       "top": null,
       "visibility": null,
       "width": null
      }
     },
     "4664db05f5a541fba496b181397aa4ed": {
      "model_module": "@jupyter-widgets/controls",
      "model_module_version": "1.5.0",
      "model_name": "HTMLModel",
      "state": {
       "_dom_classes": [],
       "_model_module": "@jupyter-widgets/controls",
       "_model_module_version": "1.5.0",
       "_model_name": "HTMLModel",
       "_view_count": null,
       "_view_module": "@jupyter-widgets/controls",
       "_view_module_version": "1.5.0",
       "_view_name": "HTMLView",
       "description": "",
       "description_tooltip": null,
       "layout": "IPY_MODEL_395f66ccb9d74d72ae570c7e52b631aa",
       "placeholder": "​",
       "style": "IPY_MODEL_3bd0633c92cd44059eb1b2a27dc70285",
       "value": " 10000/0 [00:07&lt;00:00, 1352.06 examples/s]"
      }
     },
     "484e2a8993664b3bac79824d3749b7fc": {
      "model_module": "@jupyter-widgets/base",
      "model_module_version": "1.2.0",
      "model_name": "LayoutModel",
      "state": {
       "_model_module": "@jupyter-widgets/base",
       "_model_module_version": "1.2.0",
       "_model_name": "LayoutModel",
       "_view_count": null,
       "_view_module": "@jupyter-widgets/base",
       "_view_module_version": "1.2.0",
       "_view_name": "LayoutView",
       "align_content": null,
       "align_items": null,
       "align_self": null,
       "border": null,
       "bottom": null,
       "display": null,
       "flex": null,
       "flex_flow": null,
       "grid_area": null,
       "grid_auto_columns": null,
       "grid_auto_flow": null,
       "grid_auto_rows": null,
       "grid_column": null,
       "grid_gap": null,
       "grid_row": null,
       "grid_template_areas": null,
       "grid_template_columns": null,
       "grid_template_rows": null,
       "height": null,
       "justify_content": null,
       "justify_items": null,
       "left": null,
       "margin": null,
       "max_height": null,
       "max_width": null,
       "min_height": null,
       "min_width": null,
       "object_fit": null,
       "object_position": null,
       "order": null,
       "overflow": null,
       "overflow_x": null,
       "overflow_y": null,
       "padding": null,
       "right": null,
       "top": null,
       "visibility": null,
       "width": null
      }
     },
     "4925d99e099247a99320f65b43909cae": {
      "model_module": "@jupyter-widgets/base",
      "model_module_version": "1.2.0",
      "model_name": "LayoutModel",
      "state": {
       "_model_module": "@jupyter-widgets/base",
       "_model_module_version": "1.2.0",
       "_model_name": "LayoutModel",
       "_view_count": null,
       "_view_module": "@jupyter-widgets/base",
       "_view_module_version": "1.2.0",
       "_view_name": "LayoutView",
       "align_content": null,
       "align_items": null,
       "align_self": null,
       "border": null,
       "bottom": null,
       "display": null,
       "flex": null,
       "flex_flow": null,
       "grid_area": null,
       "grid_auto_columns": null,
       "grid_auto_flow": null,
       "grid_auto_rows": null,
       "grid_column": null,
       "grid_gap": null,
       "grid_row": null,
       "grid_template_areas": null,
       "grid_template_columns": null,
       "grid_template_rows": null,
       "height": null,
       "justify_content": null,
       "justify_items": null,
       "left": null,
       "margin": null,
       "max_height": null,
       "max_width": null,
       "min_height": null,
       "min_width": null,
       "object_fit": null,
       "object_position": null,
       "order": null,
       "overflow": null,
       "overflow_x": null,
       "overflow_y": null,
       "padding": null,
       "right": null,
       "top": null,
       "visibility": null,
       "width": null
      }
     },
     "4cf7ca5d72c347d3af56df881a345fdc": {
      "model_module": "@jupyter-widgets/base",
      "model_module_version": "1.2.0",
      "model_name": "LayoutModel",
      "state": {
       "_model_module": "@jupyter-widgets/base",
       "_model_module_version": "1.2.0",
       "_model_name": "LayoutModel",
       "_view_count": null,
       "_view_module": "@jupyter-widgets/base",
       "_view_module_version": "1.2.0",
       "_view_name": "LayoutView",
       "align_content": null,
       "align_items": null,
       "align_self": null,
       "border": null,
       "bottom": null,
       "display": null,
       "flex": null,
       "flex_flow": null,
       "grid_area": null,
       "grid_auto_columns": null,
       "grid_auto_flow": null,
       "grid_auto_rows": null,
       "grid_column": null,
       "grid_gap": null,
       "grid_row": null,
       "grid_template_areas": null,
       "grid_template_columns": null,
       "grid_template_rows": null,
       "height": null,
       "justify_content": null,
       "justify_items": null,
       "left": null,
       "margin": null,
       "max_height": null,
       "max_width": null,
       "min_height": null,
       "min_width": null,
       "object_fit": null,
       "object_position": null,
       "order": null,
       "overflow": null,
       "overflow_x": null,
       "overflow_y": null,
       "padding": null,
       "right": null,
       "top": null,
       "visibility": null,
       "width": null
      }
     },
     "53c28b6b4e154b3895d56d0cfdf07f0d": {
      "model_module": "@jupyter-widgets/controls",
      "model_module_version": "1.5.0",
      "model_name": "ProgressStyleModel",
      "state": {
       "_model_module": "@jupyter-widgets/controls",
       "_model_module_version": "1.5.0",
       "_model_name": "ProgressStyleModel",
       "_view_count": null,
       "_view_module": "@jupyter-widgets/base",
       "_view_module_version": "1.2.0",
       "_view_name": "StyleView",
       "bar_color": null,
       "description_width": "initial"
      }
     },
     "556e73055c464693aa0c9e6134a14ac3": {
      "model_module": "@jupyter-widgets/base",
      "model_module_version": "1.2.0",
      "model_name": "LayoutModel",
      "state": {
       "_model_module": "@jupyter-widgets/base",
       "_model_module_version": "1.2.0",
       "_model_name": "LayoutModel",
       "_view_count": null,
       "_view_module": "@jupyter-widgets/base",
       "_view_module_version": "1.2.0",
       "_view_name": "LayoutView",
       "align_content": null,
       "align_items": null,
       "align_self": null,
       "border": null,
       "bottom": null,
       "display": null,
       "flex": null,
       "flex_flow": null,
       "grid_area": null,
       "grid_auto_columns": null,
       "grid_auto_flow": null,
       "grid_auto_rows": null,
       "grid_column": null,
       "grid_gap": null,
       "grid_row": null,
       "grid_template_areas": null,
       "grid_template_columns": null,
       "grid_template_rows": null,
       "height": null,
       "justify_content": null,
       "justify_items": null,
       "left": null,
       "margin": null,
       "max_height": null,
       "max_width": null,
       "min_height": null,
       "min_width": null,
       "object_fit": null,
       "object_position": null,
       "order": null,
       "overflow": null,
       "overflow_x": null,
       "overflow_y": null,
       "padding": null,
       "right": null,
       "top": null,
       "visibility": null,
       "width": null
      }
     },
     "5893347d7b3a4ce1ae92cfa7ce3ce9e5": {
      "model_module": "@jupyter-widgets/controls",
      "model_module_version": "1.5.0",
      "model_name": "HTMLModel",
      "state": {
       "_dom_classes": [],
       "_model_module": "@jupyter-widgets/controls",
       "_model_module_version": "1.5.0",
       "_model_name": "HTMLModel",
       "_view_count": null,
       "_view_module": "@jupyter-widgets/controls",
       "_view_module_version": "1.5.0",
       "_view_name": "HTMLView",
       "description": "",
       "description_tooltip": null,
       "layout": "IPY_MODEL_e2251ffd7d75462cb732cbb4bb513fb9",
       "placeholder": "​",
       "style": "IPY_MODEL_766f7718cc9a4c40b52aa8ff12915511",
       "value": " 49999/50000 [00:02&lt;00:00, 50621.07 examples/s]"
      }
     },
     "59fbfccb4f4046efa0910e2abae5f3ca": {
      "model_module": "@jupyter-widgets/controls",
      "model_module_version": "1.5.0",
      "model_name": "FloatProgressModel",
      "state": {
       "_dom_classes": [],
       "_model_module": "@jupyter-widgets/controls",
       "_model_module_version": "1.5.0",
       "_model_name": "FloatProgressModel",
       "_view_count": null,
       "_view_module": "@jupyter-widgets/controls",
       "_view_module_version": "1.5.0",
       "_view_name": "ProgressView",
       "bar_style": "success",
       "description": "Dl Completed...: 100%",
       "description_tooltip": null,
       "layout": "IPY_MODEL_90a017473d7f43f3894da35246b40546",
       "max": 1.0,
       "min": 0.0,
       "orientation": "horizontal",
       "style": "IPY_MODEL_ab79715fa9f34897824642ccb0cef581",
       "value": 1.0
      }
     },
     "61aa0bfc686e49179d8bbdf62a430a75": {
      "model_module": "@jupyter-widgets/base",
      "model_module_version": "1.2.0",
      "model_name": "LayoutModel",
      "state": {
       "_model_module": "@jupyter-widgets/base",
       "_model_module_version": "1.2.0",
       "_model_name": "LayoutModel",
       "_view_count": null,
       "_view_module": "@jupyter-widgets/base",
       "_view_module_version": "1.2.0",
       "_view_name": "LayoutView",
       "align_content": null,
       "align_items": null,
       "align_self": null,
       "border": null,
       "bottom": null,
       "display": null,
       "flex": null,
       "flex_flow": null,
       "grid_area": null,
       "grid_auto_columns": null,
       "grid_auto_flow": null,
       "grid_auto_rows": null,
       "grid_column": null,
       "grid_gap": null,
       "grid_row": null,
       "grid_template_areas": null,
       "grid_template_columns": null,
       "grid_template_rows": null,
       "height": null,
       "justify_content": null,
       "justify_items": null,
       "left": null,
       "margin": null,
       "max_height": null,
       "max_width": null,
       "min_height": null,
       "min_width": null,
       "object_fit": null,
       "object_position": null,
       "order": null,
       "overflow": null,
       "overflow_x": null,
       "overflow_y": null,
       "padding": null,
       "right": null,
       "top": null,
       "visibility": null,
       "width": null
      }
     },
     "6335842d749c44b2b8d80ba11f19561e": {
      "model_module": "@jupyter-widgets/controls",
      "model_module_version": "1.5.0",
      "model_name": "FloatProgressModel",
      "state": {
       "_dom_classes": [],
       "_model_module": "@jupyter-widgets/controls",
       "_model_module_version": "1.5.0",
       "_model_name": "FloatProgressModel",
       "_view_count": null,
       "_view_module": "@jupyter-widgets/controls",
       "_view_module_version": "1.5.0",
       "_view_name": "ProgressView",
       "bar_style": "danger",
       "description": "100%",
       "description_tooltip": null,
       "layout": "IPY_MODEL_421ce7b3ecc049e5bafb4f48f6348a78",
       "max": 50000.0,
       "min": 0.0,
       "orientation": "horizontal",
       "style": "IPY_MODEL_aef6c06b972a4cffbb9564a4e1290496",
       "value": 49999.0
      }
     },
     "71c5a2d49d5044e59333f60497388ae5": {
      "model_module": "@jupyter-widgets/controls",
      "model_module_version": "1.5.0",
      "model_name": "ProgressStyleModel",
      "state": {
       "_model_module": "@jupyter-widgets/controls",
       "_model_module_version": "1.5.0",
       "_model_name": "ProgressStyleModel",
       "_view_count": null,
       "_view_module": "@jupyter-widgets/base",
       "_view_module_version": "1.2.0",
       "_view_name": "StyleView",
       "bar_color": null,
       "description_width": "initial"
      }
     },
     "74f250a2aef8459ab12d7f77dc145103": {
      "model_module": "@jupyter-widgets/controls",
      "model_module_version": "1.5.0",
      "model_name": "DescriptionStyleModel",
      "state": {
       "_model_module": "@jupyter-widgets/controls",
       "_model_module_version": "1.5.0",
       "_model_name": "DescriptionStyleModel",
       "_view_count": null,
       "_view_module": "@jupyter-widgets/base",
       "_view_module_version": "1.2.0",
       "_view_name": "StyleView",
       "description_width": ""
      }
     },
     "766f7718cc9a4c40b52aa8ff12915511": {
      "model_module": "@jupyter-widgets/controls",
      "model_module_version": "1.5.0",
      "model_name": "DescriptionStyleModel",
      "state": {
       "_model_module": "@jupyter-widgets/controls",
       "_model_module_version": "1.5.0",
       "_model_name": "DescriptionStyleModel",
       "_view_count": null,
       "_view_module": "@jupyter-widgets/base",
       "_view_module_version": "1.2.0",
       "_view_name": "StyleView",
       "description_width": ""
      }
     },
     "838023f3d2bf47378d590db0d5e7516f": {
      "model_module": "@jupyter-widgets/base",
      "model_module_version": "1.2.0",
      "model_name": "LayoutModel",
      "state": {
       "_model_module": "@jupyter-widgets/base",
       "_model_module_version": "1.2.0",
       "_model_name": "LayoutModel",
       "_view_count": null,
       "_view_module": "@jupyter-widgets/base",
       "_view_module_version": "1.2.0",
       "_view_name": "LayoutView",
       "align_content": null,
       "align_items": null,
       "align_self": null,
       "border": null,
       "bottom": null,
       "display": null,
       "flex": null,
       "flex_flow": null,
       "grid_area": null,
       "grid_auto_columns": null,
       "grid_auto_flow": null,
       "grid_auto_rows": null,
       "grid_column": null,
       "grid_gap": null,
       "grid_row": null,
       "grid_template_areas": null,
       "grid_template_columns": null,
       "grid_template_rows": null,
       "height": null,
       "justify_content": null,
       "justify_items": null,
       "left": null,
       "margin": null,
       "max_height": null,
       "max_width": null,
       "min_height": null,
       "min_width": null,
       "object_fit": null,
       "object_position": null,
       "order": null,
       "overflow": null,
       "overflow_x": null,
       "overflow_y": null,
       "padding": null,
       "right": null,
       "top": null,
       "visibility": null,
       "width": null
      }
     },
     "87a85d7f454e4311af73e093c1fcde47": {
      "model_module": "@jupyter-widgets/base",
      "model_module_version": "1.2.0",
      "model_name": "LayoutModel",
      "state": {
       "_model_module": "@jupyter-widgets/base",
       "_model_module_version": "1.2.0",
       "_model_name": "LayoutModel",
       "_view_count": null,
       "_view_module": "@jupyter-widgets/base",
       "_view_module_version": "1.2.0",
       "_view_name": "LayoutView",
       "align_content": null,
       "align_items": null,
       "align_self": null,
       "border": null,
       "bottom": null,
       "display": null,
       "flex": null,
       "flex_flow": null,
       "grid_area": null,
       "grid_auto_columns": null,
       "grid_auto_flow": null,
       "grid_auto_rows": null,
       "grid_column": null,
       "grid_gap": null,
       "grid_row": null,
       "grid_template_areas": null,
       "grid_template_columns": null,
       "grid_template_rows": null,
       "height": null,
       "justify_content": null,
       "justify_items": null,
       "left": null,
       "margin": null,
       "max_height": null,
       "max_width": null,
       "min_height": null,
       "min_width": null,
       "object_fit": null,
       "object_position": null,
       "order": null,
       "overflow": null,
       "overflow_x": null,
       "overflow_y": null,
       "padding": null,
       "right": null,
       "top": null,
       "visibility": null,
       "width": null
      }
     },
     "907973ddfdc2441aa2d5d7b1b5ffb768": {
      "model_module": "@jupyter-widgets/controls",
      "model_module_version": "1.5.0",
      "model_name": "DescriptionStyleModel",
      "state": {
       "_model_module": "@jupyter-widgets/controls",
       "_model_module_version": "1.5.0",
       "_model_name": "DescriptionStyleModel",
       "_view_count": null,
       "_view_module": "@jupyter-widgets/base",
       "_view_module_version": "1.2.0",
       "_view_name": "StyleView",
       "description_width": ""
      }
     },
     "90a017473d7f43f3894da35246b40546": {
      "model_module": "@jupyter-widgets/base",
      "model_module_version": "1.2.0",
      "model_name": "LayoutModel",
      "state": {
       "_model_module": "@jupyter-widgets/base",
       "_model_module_version": "1.2.0",
       "_model_name": "LayoutModel",
       "_view_count": null,
       "_view_module": "@jupyter-widgets/base",
       "_view_module_version": "1.2.0",
       "_view_name": "LayoutView",
       "align_content": null,
       "align_items": null,
       "align_self": null,
       "border": null,
       "bottom": null,
       "display": null,
       "flex": null,
       "flex_flow": null,
       "grid_area": null,
       "grid_auto_columns": null,
       "grid_auto_flow": null,
       "grid_auto_rows": null,
       "grid_column": null,
       "grid_gap": null,
       "grid_row": null,
       "grid_template_areas": null,
       "grid_template_columns": null,
       "grid_template_rows": null,
       "height": null,
       "justify_content": null,
       "justify_items": null,
       "left": null,
       "margin": null,
       "max_height": null,
       "max_width": null,
       "min_height": null,
       "min_width": null,
       "object_fit": null,
       "object_position": null,
       "order": null,
       "overflow": null,
       "overflow_x": null,
       "overflow_y": null,
       "padding": null,
       "right": null,
       "top": null,
       "visibility": null,
       "width": null
      }
     },
     "93e891c1e0634e1198b215d4bb10cbff": {
      "model_module": "@jupyter-widgets/controls",
      "model_module_version": "1.5.0",
      "model_name": "FloatProgressModel",
      "state": {
       "_dom_classes": [],
       "_model_module": "@jupyter-widgets/controls",
       "_model_module_version": "1.5.0",
       "_model_name": "FloatProgressModel",
       "_view_count": null,
       "_view_module": "@jupyter-widgets/controls",
       "_view_module_version": "1.5.0",
       "_view_name": "ProgressView",
       "bar_style": "info",
       "description": "",
       "description_tooltip": null,
       "layout": "IPY_MODEL_d4e7958ec4ea4b1b8590d78a727ddda3",
       "max": 1.0,
       "min": 0.0,
       "orientation": "horizontal",
       "style": "IPY_MODEL_029c4b9fd9a2402ba4a58803eb208b2e",
       "value": 1.0
      }
     },
     "98d7a177d16e415d8eb55e02cf82ed58": {
      "model_module": "@jupyter-widgets/controls",
      "model_module_version": "1.5.0",
      "model_name": "DescriptionStyleModel",
      "state": {
       "_model_module": "@jupyter-widgets/controls",
       "_model_module_version": "1.5.0",
       "_model_name": "DescriptionStyleModel",
       "_view_count": null,
       "_view_module": "@jupyter-widgets/base",
       "_view_module_version": "1.2.0",
       "_view_name": "StyleView",
       "description_width": ""
      }
     },
     "9b9b153333b642d8b3dbae38e55802a8": {
      "model_module": "@jupyter-widgets/base",
      "model_module_version": "1.2.0",
      "model_name": "LayoutModel",
      "state": {
       "_model_module": "@jupyter-widgets/base",
       "_model_module_version": "1.2.0",
       "_model_name": "LayoutModel",
       "_view_count": null,
       "_view_module": "@jupyter-widgets/base",
       "_view_module_version": "1.2.0",
       "_view_name": "LayoutView",
       "align_content": null,
       "align_items": null,
       "align_self": null,
       "border": null,
       "bottom": null,
       "display": null,
       "flex": null,
       "flex_flow": null,
       "grid_area": null,
       "grid_auto_columns": null,
       "grid_auto_flow": null,
       "grid_auto_rows": null,
       "grid_column": null,
       "grid_gap": null,
       "grid_row": null,
       "grid_template_areas": null,
       "grid_template_columns": null,
       "grid_template_rows": null,
       "height": null,
       "justify_content": null,
       "justify_items": null,
       "left": null,
       "margin": null,
       "max_height": null,
       "max_width": null,
       "min_height": null,
       "min_width": null,
       "object_fit": null,
       "object_position": null,
       "order": null,
       "overflow": null,
       "overflow_x": null,
       "overflow_y": null,
       "padding": null,
       "right": null,
       "top": null,
       "visibility": null,
       "width": null
      }
     },
     "a19fdc6264dd4e98b3f8ecc8e2255efc": {
      "model_module": "@jupyter-widgets/base",
      "model_module_version": "1.2.0",
      "model_name": "LayoutModel",
      "state": {
       "_model_module": "@jupyter-widgets/base",
       "_model_module_version": "1.2.0",
       "_model_name": "LayoutModel",
       "_view_count": null,
       "_view_module": "@jupyter-widgets/base",
       "_view_module_version": "1.2.0",
       "_view_name": "LayoutView",
       "align_content": null,
       "align_items": null,
       "align_self": null,
       "border": null,
       "bottom": null,
       "display": null,
       "flex": null,
       "flex_flow": null,
       "grid_area": null,
       "grid_auto_columns": null,
       "grid_auto_flow": null,
       "grid_auto_rows": null,
       "grid_column": null,
       "grid_gap": null,
       "grid_row": null,
       "grid_template_areas": null,
       "grid_template_columns": null,
       "grid_template_rows": null,
       "height": null,
       "justify_content": null,
       "justify_items": null,
       "left": null,
       "margin": null,
       "max_height": null,
       "max_width": null,
       "min_height": null,
       "min_width": null,
       "object_fit": null,
       "object_position": null,
       "order": null,
       "overflow": null,
       "overflow_x": null,
       "overflow_y": null,
       "padding": null,
       "right": null,
       "top": null,
       "visibility": null,
       "width": null
      }
     },
     "a2ba95e3ebde4efd9013de0e465df9fb": {
      "model_module": "@jupyter-widgets/controls",
      "model_module_version": "1.5.0",
      "model_name": "HTMLModel",
      "state": {
       "_dom_classes": [],
       "_model_module": "@jupyter-widgets/controls",
       "_model_module_version": "1.5.0",
       "_model_name": "HTMLModel",
       "_view_count": null,
       "_view_module": "@jupyter-widgets/controls",
       "_view_module_version": "1.5.0",
       "_view_name": "HTMLView",
       "description": "",
       "description_tooltip": null,
       "layout": "IPY_MODEL_02b95e6d84df4b848470a1b8e916ea55",
       "placeholder": "​",
       "style": "IPY_MODEL_98d7a177d16e415d8eb55e02cf82ed58",
       "value": " 1/1 [00:05&lt;00:00,  5.46s/ url]"
      }
     },
     "a3112c0904aa41ec82ae2b225c4aa863": {
      "model_module": "@jupyter-widgets/controls",
      "model_module_version": "1.5.0",
      "model_name": "HTMLModel",
      "state": {
       "_dom_classes": [],
       "_model_module": "@jupyter-widgets/controls",
       "_model_module_version": "1.5.0",
       "_model_name": "HTMLModel",
       "_view_count": null,
       "_view_module": "@jupyter-widgets/controls",
       "_view_module_version": "1.5.0",
       "_view_name": "HTMLView",
       "description": "",
       "description_tooltip": null,
       "layout": "IPY_MODEL_4925d99e099247a99320f65b43909cae",
       "placeholder": "​",
       "style": "IPY_MODEL_b1862dd1800040749cef51b67fd41cf4",
       "value": " 50000/0 [00:35&lt;00:00, 1422.38 examples/s]"
      }
     },
     "ab79715fa9f34897824642ccb0cef581": {
      "model_module": "@jupyter-widgets/controls",
      "model_module_version": "1.5.0",
      "model_name": "ProgressStyleModel",
      "state": {
       "_model_module": "@jupyter-widgets/controls",
       "_model_module_version": "1.5.0",
       "_model_name": "ProgressStyleModel",
       "_view_count": null,
       "_view_module": "@jupyter-widgets/base",
       "_view_module_version": "1.2.0",
       "_view_name": "StyleView",
       "bar_color": null,
       "description_width": "initial"
      }
     },
     "aef6c06b972a4cffbb9564a4e1290496": {
      "model_module": "@jupyter-widgets/controls",
      "model_module_version": "1.5.0",
      "model_name": "ProgressStyleModel",
      "state": {
       "_model_module": "@jupyter-widgets/controls",
       "_model_module_version": "1.5.0",
       "_model_name": "ProgressStyleModel",
       "_view_count": null,
       "_view_module": "@jupyter-widgets/base",
       "_view_module_version": "1.2.0",
       "_view_name": "StyleView",
       "bar_color": null,
       "description_width": "initial"
      }
     },
     "b1862dd1800040749cef51b67fd41cf4": {
      "model_module": "@jupyter-widgets/controls",
      "model_module_version": "1.5.0",
      "model_name": "DescriptionStyleModel",
      "state": {
       "_model_module": "@jupyter-widgets/controls",
       "_model_module_version": "1.5.0",
       "_model_name": "DescriptionStyleModel",
       "_view_count": null,
       "_view_module": "@jupyter-widgets/base",
       "_view_module_version": "1.2.0",
       "_view_name": "StyleView",
       "description_width": ""
      }
     },
     "b5a2c83b41bb4812966d2d097f7738c8": {
      "model_module": "@jupyter-widgets/controls",
      "model_module_version": "1.5.0",
      "model_name": "DescriptionStyleModel",
      "state": {
       "_model_module": "@jupyter-widgets/controls",
       "_model_module_version": "1.5.0",
       "_model_name": "DescriptionStyleModel",
       "_view_count": null,
       "_view_module": "@jupyter-widgets/base",
       "_view_module_version": "1.2.0",
       "_view_name": "StyleView",
       "description_width": ""
      }
     },
     "b6665f262e104507b70882de6bb4efdc": {
      "model_module": "@jupyter-widgets/controls",
      "model_module_version": "1.5.0",
      "model_name": "HBoxModel",
      "state": {
       "_dom_classes": [],
       "_model_module": "@jupyter-widgets/controls",
       "_model_module_version": "1.5.0",
       "_model_name": "HBoxModel",
       "_view_count": null,
       "_view_module": "@jupyter-widgets/controls",
       "_view_module_version": "1.5.0",
       "_view_name": "HBoxView",
       "box_style": "",
       "children": [
        "IPY_MODEL_30512cde56e246f8ad83df4310b52aea",
        "IPY_MODEL_e1b2c80776504bcfaf305a852310eca6"
       ],
       "layout": "IPY_MODEL_a19fdc6264dd4e98b3f8ecc8e2255efc"
      }
     },
     "b9ec7255ed714b5d829a5a2945823bec": {
      "model_module": "@jupyter-widgets/base",
      "model_module_version": "1.2.0",
      "model_name": "LayoutModel",
      "state": {
       "_model_module": "@jupyter-widgets/base",
       "_model_module_version": "1.2.0",
       "_model_name": "LayoutModel",
       "_view_count": null,
       "_view_module": "@jupyter-widgets/base",
       "_view_module_version": "1.2.0",
       "_view_name": "LayoutView",
       "align_content": null,
       "align_items": null,
       "align_self": null,
       "border": null,
       "bottom": null,
       "display": null,
       "flex": null,
       "flex_flow": null,
       "grid_area": null,
       "grid_auto_columns": null,
       "grid_auto_flow": null,
       "grid_auto_rows": null,
       "grid_column": null,
       "grid_gap": null,
       "grid_row": null,
       "grid_template_areas": null,
       "grid_template_columns": null,
       "grid_template_rows": null,
       "height": null,
       "justify_content": null,
       "justify_items": null,
       "left": null,
       "margin": null,
       "max_height": null,
       "max_width": null,
       "min_height": null,
       "min_width": null,
       "object_fit": null,
       "object_position": null,
       "order": null,
       "overflow": null,
       "overflow_x": null,
       "overflow_y": null,
       "padding": null,
       "right": null,
       "top": null,
       "visibility": null,
       "width": null
      }
     },
     "ba002eb3a9a443b6bf005f61613431d3": {
      "model_module": "@jupyter-widgets/base",
      "model_module_version": "1.2.0",
      "model_name": "LayoutModel",
      "state": {
       "_model_module": "@jupyter-widgets/base",
       "_model_module_version": "1.2.0",
       "_model_name": "LayoutModel",
       "_view_count": null,
       "_view_module": "@jupyter-widgets/base",
       "_view_module_version": "1.2.0",
       "_view_name": "LayoutView",
       "align_content": null,
       "align_items": null,
       "align_self": null,
       "border": null,
       "bottom": null,
       "display": null,
       "flex": null,
       "flex_flow": null,
       "grid_area": null,
       "grid_auto_columns": null,
       "grid_auto_flow": null,
       "grid_auto_rows": null,
       "grid_column": null,
       "grid_gap": null,
       "grid_row": null,
       "grid_template_areas": null,
       "grid_template_columns": null,
       "grid_template_rows": null,
       "height": null,
       "justify_content": null,
       "justify_items": null,
       "left": null,
       "margin": null,
       "max_height": null,
       "max_width": null,
       "min_height": null,
       "min_width": null,
       "object_fit": null,
       "object_position": null,
       "order": null,
       "overflow": null,
       "overflow_x": null,
       "overflow_y": null,
       "padding": null,
       "right": null,
       "top": null,
       "visibility": null,
       "width": null
      }
     },
     "bdeab3dd3a8b4c408921e117ad578906": {
      "model_module": "@jupyter-widgets/controls",
      "model_module_version": "1.5.0",
      "model_name": "HTMLModel",
      "state": {
       "_dom_classes": [],
       "_model_module": "@jupyter-widgets/controls",
       "_model_module_version": "1.5.0",
       "_model_name": "HTMLModel",
       "_view_count": null,
       "_view_module": "@jupyter-widgets/controls",
       "_view_module_version": "1.5.0",
       "_view_name": "HTMLView",
       "description": "",
       "description_tooltip": null,
       "layout": "IPY_MODEL_87a85d7f454e4311af73e093c1fcde47",
       "placeholder": "​",
       "style": "IPY_MODEL_74f250a2aef8459ab12d7f77dc145103",
       "value": " 162/162 [00:05&lt;00:00, 29.83 MiB/s]"
      }
     },
     "bf5e9c68b3b34de4921c625bbf4ac10e": {
      "model_module": "@jupyter-widgets/controls",
      "model_module_version": "1.5.0",
      "model_name": "FloatProgressModel",
      "state": {
       "_dom_classes": [],
       "_model_module": "@jupyter-widgets/controls",
       "_model_module_version": "1.5.0",
       "_model_name": "FloatProgressModel",
       "_view_count": null,
       "_view_module": "@jupyter-widgets/controls",
       "_view_module_version": "1.5.0",
       "_view_name": "ProgressView",
       "bar_style": "info",
       "description": "",
       "description_tooltip": null,
       "layout": "IPY_MODEL_61aa0bfc686e49179d8bbdf62a430a75",
       "max": 1.0,
       "min": 0.0,
       "orientation": "horizontal",
       "style": "IPY_MODEL_3a38195269fa4956af148fa7c94227fc",
       "value": 1.0
      }
     },
     "bfcbe0af1f0a436ab1c721117c469f55": {
      "model_module": "@jupyter-widgets/base",
      "model_module_version": "1.2.0",
      "model_name": "LayoutModel",
      "state": {
       "_model_module": "@jupyter-widgets/base",
       "_model_module_version": "1.2.0",
       "_model_name": "LayoutModel",
       "_view_count": null,
       "_view_module": "@jupyter-widgets/base",
       "_view_module_version": "1.2.0",
       "_view_name": "LayoutView",
       "align_content": null,
       "align_items": null,
       "align_self": null,
       "border": null,
       "bottom": null,
       "display": null,
       "flex": null,
       "flex_flow": null,
       "grid_area": null,
       "grid_auto_columns": null,
       "grid_auto_flow": null,
       "grid_auto_rows": null,
       "grid_column": null,
       "grid_gap": null,
       "grid_row": null,
       "grid_template_areas": null,
       "grid_template_columns": null,
       "grid_template_rows": null,
       "height": null,
       "justify_content": null,
       "justify_items": null,
       "left": null,
       "margin": null,
       "max_height": null,
       "max_width": null,
       "min_height": null,
       "min_width": null,
       "object_fit": null,
       "object_position": null,
       "order": null,
       "overflow": null,
       "overflow_x": null,
       "overflow_y": null,
       "padding": null,
       "right": null,
       "top": null,
       "visibility": null,
       "width": null
      }
     },
     "c5664ec94f874ba8ba7212a5faa6c5a4": {
      "model_module": "@jupyter-widgets/base",
      "model_module_version": "1.2.0",
      "model_name": "LayoutModel",
      "state": {
       "_model_module": "@jupyter-widgets/base",
       "_model_module_version": "1.2.0",
       "_model_name": "LayoutModel",
       "_view_count": null,
       "_view_module": "@jupyter-widgets/base",
       "_view_module_version": "1.2.0",
       "_view_name": "LayoutView",
       "align_content": null,
       "align_items": null,
       "align_self": null,
       "border": null,
       "bottom": null,
       "display": null,
       "flex": null,
       "flex_flow": null,
       "grid_area": null,
       "grid_auto_columns": null,
       "grid_auto_flow": null,
       "grid_auto_rows": null,
       "grid_column": null,
       "grid_gap": null,
       "grid_row": null,
       "grid_template_areas": null,
       "grid_template_columns": null,
       "grid_template_rows": null,
       "height": null,
       "justify_content": null,
       "justify_items": null,
       "left": null,
       "margin": null,
       "max_height": null,
       "max_width": null,
       "min_height": null,
       "min_width": null,
       "object_fit": null,
       "object_position": null,
       "order": null,
       "overflow": null,
       "overflow_x": null,
       "overflow_y": null,
       "padding": null,
       "right": null,
       "top": null,
       "visibility": null,
       "width": null
      }
     },
     "c624fe101f9341f4a428e783fea61b35": {
      "model_module": "@jupyter-widgets/controls",
      "model_module_version": "1.5.0",
      "model_name": "HBoxModel",
      "state": {
       "_dom_classes": [],
       "_model_module": "@jupyter-widgets/controls",
       "_model_module_version": "1.5.0",
       "_model_name": "HBoxModel",
       "_view_count": null,
       "_view_module": "@jupyter-widgets/controls",
       "_view_module_version": "1.5.0",
       "_view_name": "HBoxView",
       "box_style": "",
       "children": [
        "IPY_MODEL_59fbfccb4f4046efa0910e2abae5f3ca",
        "IPY_MODEL_a2ba95e3ebde4efd9013de0e465df9fb"
       ],
       "layout": "IPY_MODEL_0e7a8c5c13c0449e800b8bb805fa798a"
      }
     },
     "d05940506a2d4b73a15837987d5c86f3": {
      "model_module": "@jupyter-widgets/controls",
      "model_module_version": "1.5.0",
      "model_name": "HTMLModel",
      "state": {
       "_dom_classes": [],
       "_model_module": "@jupyter-widgets/controls",
       "_model_module_version": "1.5.0",
       "_model_name": "HTMLModel",
       "_view_count": null,
       "_view_module": "@jupyter-widgets/controls",
       "_view_module_version": "1.5.0",
       "_view_name": "HTMLView",
       "description": "",
       "description_tooltip": null,
       "layout": "IPY_MODEL_3bdedcc315cc4d2883b74a80ca286119",
       "placeholder": "​",
       "style": "IPY_MODEL_907973ddfdc2441aa2d5d7b1b5ffb768",
       "value": " 9999/10000 [00:00&lt;00:00, 71034.65 examples/s]"
      }
     },
     "d07a5f0bf4ba49edb9135409a9607dd0": {
      "model_module": "@jupyter-widgets/controls",
      "model_module_version": "1.5.0",
      "model_name": "HTMLModel",
      "state": {
       "_dom_classes": [],
       "_model_module": "@jupyter-widgets/controls",
       "_model_module_version": "1.5.0",
       "_model_name": "HTMLModel",
       "_view_count": null,
       "_view_module": "@jupyter-widgets/controls",
       "_view_module_version": "1.5.0",
       "_view_name": "HTMLView",
       "description": "",
       "description_tooltip": null,
       "layout": "IPY_MODEL_c5664ec94f874ba8ba7212a5faa6c5a4",
       "placeholder": "​",
       "style": "IPY_MODEL_163b7f9258ea4601ba273b5176661895",
       "value": " 1/1 [00:05&lt;00:00,  5.39s/ file]"
      }
     },
     "d4e7958ec4ea4b1b8590d78a727ddda3": {
      "model_module": "@jupyter-widgets/base",
      "model_module_version": "1.2.0",
      "model_name": "LayoutModel",
      "state": {
       "_model_module": "@jupyter-widgets/base",
       "_model_module_version": "1.2.0",
       "_model_name": "LayoutModel",
       "_view_count": null,
       "_view_module": "@jupyter-widgets/base",
       "_view_module_version": "1.2.0",
       "_view_name": "LayoutView",
       "align_content": null,
       "align_items": null,
       "align_self": null,
       "border": null,
       "bottom": null,
       "display": null,
       "flex": null,
       "flex_flow": null,
       "grid_area": null,
       "grid_auto_columns": null,
       "grid_auto_flow": null,
       "grid_auto_rows": null,
       "grid_column": null,
       "grid_gap": null,
       "grid_row": null,
       "grid_template_areas": null,
       "grid_template_columns": null,
       "grid_template_rows": null,
       "height": null,
       "justify_content": null,
       "justify_items": null,
       "left": null,
       "margin": null,
       "max_height": null,
       "max_width": null,
       "min_height": null,
       "min_width": null,
       "object_fit": null,
       "object_position": null,
       "order": null,
       "overflow": null,
       "overflow_x": null,
       "overflow_y": null,
       "padding": null,
       "right": null,
       "top": null,
       "visibility": null,
       "width": null
      }
     },
     "dbfc1bc33ac34be893f22bad5033e10b": {
      "model_module": "@jupyter-widgets/base",
      "model_module_version": "1.2.0",
      "model_name": "LayoutModel",
      "state": {
       "_model_module": "@jupyter-widgets/base",
       "_model_module_version": "1.2.0",
       "_model_name": "LayoutModel",
       "_view_count": null,
       "_view_module": "@jupyter-widgets/base",
       "_view_module_version": "1.2.0",
       "_view_name": "LayoutView",
       "align_content": null,
       "align_items": null,
       "align_self": null,
       "border": null,
       "bottom": null,
       "display": null,
       "flex": null,
       "flex_flow": null,
       "grid_area": null,
       "grid_auto_columns": null,
       "grid_auto_flow": null,
       "grid_auto_rows": null,
       "grid_column": null,
       "grid_gap": null,
       "grid_row": null,
       "grid_template_areas": null,
       "grid_template_columns": null,
       "grid_template_rows": null,
       "height": null,
       "justify_content": null,
       "justify_items": null,
       "left": null,
       "margin": null,
       "max_height": null,
       "max_width": null,
       "min_height": null,
       "min_width": null,
       "object_fit": null,
       "object_position": null,
       "order": null,
       "overflow": null,
       "overflow_x": null,
       "overflow_y": null,
       "padding": null,
       "right": null,
       "top": null,
       "visibility": null,
       "width": null
      }
     },
     "e1b2c80776504bcfaf305a852310eca6": {
      "model_module": "@jupyter-widgets/controls",
      "model_module_version": "1.5.0",
      "model_name": "HTMLModel",
      "state": {
       "_dom_classes": [],
       "_model_module": "@jupyter-widgets/controls",
       "_model_module_version": "1.5.0",
       "_model_name": "HTMLModel",
       "_view_count": null,
       "_view_module": "@jupyter-widgets/controls",
       "_view_module_version": "1.5.0",
       "_view_name": "HTMLView",
       "description": "",
       "description_tooltip": null,
       "layout": "IPY_MODEL_f6e9dd97abc34d82b889a4e4364cc6a9",
       "placeholder": "​",
       "style": "IPY_MODEL_b5a2c83b41bb4812966d2d097f7738c8",
       "value": " 4/4 [00:00&lt;00:00,  7.58 file/s]"
      }
     },
     "e1b613d63a624e9a828a151ed8c479f2": {
      "model_module": "@jupyter-widgets/controls",
      "model_module_version": "1.5.0",
      "model_name": "FloatProgressModel",
      "state": {
       "_dom_classes": [],
       "_model_module": "@jupyter-widgets/controls",
       "_model_module_version": "1.5.0",
       "_model_name": "FloatProgressModel",
       "_view_count": null,
       "_view_module": "@jupyter-widgets/controls",
       "_view_module_version": "1.5.0",
       "_view_name": "ProgressView",
       "bar_style": "success",
       "description": "Dl Size...: 100%",
       "description_tooltip": null,
       "layout": "IPY_MODEL_bfcbe0af1f0a436ab1c721117c469f55",
       "max": 1.0,
       "min": 0.0,
       "orientation": "horizontal",
       "style": "IPY_MODEL_71c5a2d49d5044e59333f60497388ae5",
       "value": 1.0
      }
     },
     "e2251ffd7d75462cb732cbb4bb513fb9": {
      "model_module": "@jupyter-widgets/base",
      "model_module_version": "1.2.0",
      "model_name": "LayoutModel",
      "state": {
       "_model_module": "@jupyter-widgets/base",
       "_model_module_version": "1.2.0",
       "_model_name": "LayoutModel",
       "_view_count": null,
       "_view_module": "@jupyter-widgets/base",
       "_view_module_version": "1.2.0",
       "_view_name": "LayoutView",
       "align_content": null,
       "align_items": null,
       "align_self": null,
       "border": null,
       "bottom": null,
       "display": null,
       "flex": null,
       "flex_flow": null,
       "grid_area": null,
       "grid_auto_columns": null,
       "grid_auto_flow": null,
       "grid_auto_rows": null,
       "grid_column": null,
       "grid_gap": null,
       "grid_row": null,
       "grid_template_areas": null,
       "grid_template_columns": null,
       "grid_template_rows": null,
       "height": null,
       "justify_content": null,
       "justify_items": null,
       "left": null,
       "margin": null,
       "max_height": null,
       "max_width": null,
       "min_height": null,
       "min_width": null,
       "object_fit": null,
       "object_position": null,
       "order": null,
       "overflow": null,
       "overflow_x": null,
       "overflow_y": null,
       "padding": null,
       "right": null,
       "top": null,
       "visibility": null,
       "width": null
      }
     },
     "eaeb901a666d4735a719773ec5a7893d": {
      "model_module": "@jupyter-widgets/controls",
      "model_module_version": "1.5.0",
      "model_name": "FloatProgressModel",
      "state": {
       "_dom_classes": [],
       "_model_module": "@jupyter-widgets/controls",
       "_model_module_version": "1.5.0",
       "_model_name": "FloatProgressModel",
       "_view_count": null,
       "_view_module": "@jupyter-widgets/controls",
       "_view_module_version": "1.5.0",
       "_view_name": "ProgressView",
       "bar_style": "success",
       "description": "Extraction completed...: 100%",
       "description_tooltip": null,
       "layout": "IPY_MODEL_556e73055c464693aa0c9e6134a14ac3",
       "max": 1.0,
       "min": 0.0,
       "orientation": "horizontal",
       "style": "IPY_MODEL_53c28b6b4e154b3895d56d0cfdf07f0d",
       "value": 1.0
      }
     },
     "f6e9dd97abc34d82b889a4e4364cc6a9": {
      "model_module": "@jupyter-widgets/base",
      "model_module_version": "1.2.0",
      "model_name": "LayoutModel",
      "state": {
       "_model_module": "@jupyter-widgets/base",
       "_model_module_version": "1.2.0",
       "_model_name": "LayoutModel",
       "_view_count": null,
       "_view_module": "@jupyter-widgets/base",
       "_view_module_version": "1.2.0",
       "_view_name": "LayoutView",
       "align_content": null,
       "align_items": null,
       "align_self": null,
       "border": null,
       "bottom": null,
       "display": null,
       "flex": null,
       "flex_flow": null,
       "grid_area": null,
       "grid_auto_columns": null,
       "grid_auto_flow": null,
       "grid_auto_rows": null,
       "grid_column": null,
       "grid_gap": null,
       "grid_row": null,
       "grid_template_areas": null,
       "grid_template_columns": null,
       "grid_template_rows": null,
       "height": null,
       "justify_content": null,
       "justify_items": null,
       "left": null,
       "margin": null,
       "max_height": null,
       "max_width": null,
       "min_height": null,
       "min_width": null,
       "object_fit": null,
       "object_position": null,
       "order": null,
       "overflow": null,
       "overflow_x": null,
       "overflow_y": null,
       "padding": null,
       "right": null,
       "top": null,
       "visibility": null,
       "width": null
      }
     },
     "fa1b3467e87b4fb69a0a914b79f99849": {
      "model_module": "@jupyter-widgets/controls",
      "model_module_version": "1.5.0",
      "model_name": "HBoxModel",
      "state": {
       "_dom_classes": [],
       "_model_module": "@jupyter-widgets/controls",
       "_model_module_version": "1.5.0",
       "_model_name": "HBoxModel",
       "_view_count": null,
       "_view_module": "@jupyter-widgets/controls",
       "_view_module_version": "1.5.0",
       "_view_name": "HBoxView",
       "box_style": "",
       "children": [
        "IPY_MODEL_e1b613d63a624e9a828a151ed8c479f2",
        "IPY_MODEL_bdeab3dd3a8b4c408921e117ad578906"
       ],
       "layout": "IPY_MODEL_b9ec7255ed714b5d829a5a2945823bec"
      }
     },
     "fb27e068bd76413c913bcba7e89cafe2": {
      "model_module": "@jupyter-widgets/controls",
      "model_module_version": "1.5.0",
      "model_name": "HBoxModel",
      "state": {
       "_dom_classes": [],
       "_model_module": "@jupyter-widgets/controls",
       "_model_module_version": "1.5.0",
       "_model_name": "HBoxModel",
       "_view_count": null,
       "_view_module": "@jupyter-widgets/controls",
       "_view_module_version": "1.5.0",
       "_view_name": "HBoxView",
       "box_style": "",
       "children": [
        "IPY_MODEL_1eff556497d6473ca8b62303823ce93e",
        "IPY_MODEL_d05940506a2d4b73a15837987d5c86f3"
       ],
       "layout": "IPY_MODEL_9b9b153333b642d8b3dbae38e55802a8"
      }
     }
    },
    "version_major": 2,
    "version_minor": 0
   }
  }
 },
 "nbformat": 4,
 "nbformat_minor": 4
}
