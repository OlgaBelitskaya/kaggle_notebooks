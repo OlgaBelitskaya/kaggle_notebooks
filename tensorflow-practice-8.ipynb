{
 "cells": [
  {
   "cell_type": "markdown",
   "execution_count": null,
   "metadata": {
    "papermill": {
     "duration": 0.009166,
     "end_time": "2020-09-05T18:38:35.747267",
     "exception": false,
     "start_time": "2020-09-05T18:38:35.738101",
     "status": "completed"
    },
    "tags": []
   },
   "source": [
    "Reading classics [Python Machine Learning 3rd Edition](https://github.com/rasbt/python-machine-learning-book-3rd-edition/blob/master/ch15/ch15_part1.ipynb)"
   ]
  },
  {
   "cell_type": "code",
   "execution_count": 1,
   "metadata": {
    "_cell_guid": "b1076dfc-b9ad-4769-8c92-a6c4dae69d19",
    "_kg_hide-input": true,
    "_uuid": "8f2839f25d086af736a60e9eeb907d3b93b6e0e5",
    "execution": {
     "iopub.execute_input": "2020-09-05T18:38:35.772084Z",
     "iopub.status.busy": "2020-09-05T18:38:35.771290Z",
     "iopub.status.idle": "2020-09-05T18:38:35.775418Z",
     "shell.execute_reply": "2020-09-05T18:38:35.774545Z"
    },
    "papermill": {
     "duration": 0.020511,
     "end_time": "2020-09-05T18:38:35.775540",
     "exception": false,
     "start_time": "2020-09-05T18:38:35.755029",
     "status": "completed"
    },
    "tags": []
   },
   "outputs": [],
   "source": [
    "from IPython.display import display,HTML\n",
    "c1,c2,f1,f2,fs1,fs2=\\\n",
    "'#11ff66','#6611ff','Wallpoet','Orbitron',20,10\n",
    "def dhtml(string,fontcolor=c1,font=f1,fontsize=fs1):\n",
    "    display(HTML(\"\"\"<style>\n",
    "    @import 'https://fonts.googleapis.com/css?family=\"\"\"\\\n",
    "    +font+\"\"\"&effect=3d-float';</style>\n",
    "    <h1 class='font-effect-3d-float' \n",
    "    style='font-family:\"\"\"+font+\\\n",
    "    \"\"\"; color:\"\"\"+fontcolor+\\\n",
    "    \"\"\"; font-size:\"\"\"+str(fontsize)+\"\"\"px;'>\n",
    "    %s</h1>\"\"\"%string))"
   ]
  },
  {
   "cell_type": "code",
   "execution_count": 2,
   "metadata": {
    "_cell_guid": "79c7e3d0-c299-4dcb-8224-4455121ee9b0",
    "_kg_hide-input": true,
    "_uuid": "d629ff2d2480ee46fbb7e2d37f6b5fab8052498a",
    "execution": {
     "iopub.execute_input": "2020-09-05T18:38:35.796674Z",
     "iopub.status.busy": "2020-09-05T18:38:35.795963Z",
     "iopub.status.idle": "2020-09-05T18:38:35.801651Z",
     "shell.execute_reply": "2020-09-05T18:38:35.802135Z"
    },
    "papermill": {
     "duration": 0.018934,
     "end_time": "2020-09-05T18:38:35.802246",
     "exception": false,
     "start_time": "2020-09-05T18:38:35.783312",
     "status": "completed"
    },
    "tags": []
   },
   "outputs": [
    {
     "data": {
      "text/html": [
       "<style>\n",
       "    @import 'https://fonts.googleapis.com/css?family=Wallpoet&effect=3d-float';</style>\n",
       "    <h1 class='font-effect-3d-float' \n",
       "    style='font-family:Wallpoet; color:#11ff66; font-size:20px;'>\n",
       "    Code Modules, Setting, & Functions</h1>"
      ],
      "text/plain": [
       "<IPython.core.display.HTML object>"
      ]
     },
     "metadata": {},
     "output_type": "display_data"
    }
   ],
   "source": [
    "dhtml('Code Modules, Setting, & Functions')"
   ]
  },
  {
   "cell_type": "code",
   "execution_count": 3,
   "metadata": {
    "execution": {
     "iopub.execute_input": "2020-09-05T18:38:35.824425Z",
     "iopub.status.busy": "2020-09-05T18:38:35.823550Z",
     "iopub.status.idle": "2020-09-05T18:38:41.993090Z",
     "shell.execute_reply": "2020-09-05T18:38:41.993844Z"
    },
    "papermill": {
     "duration": 6.18417,
     "end_time": "2020-09-05T18:38:41.994068",
     "exception": false,
     "start_time": "2020-09-05T18:38:35.809898",
     "status": "completed"
    },
    "tags": []
   },
   "outputs": [],
   "source": [
    "import warnings,imageio,urllib\n",
    "import tensorflow as tf,pylab as pl\n",
    "import pandas as pd,numpy as np\n",
    "import tensorflow.keras.layers as tkl\n",
    "import tensorflow.keras.utils as tku\n",
    "import tensorflow.keras.callbacks as tkc\n",
    "import tensorflow_datasets as tfds\n",
    "from sklearn.metrics import \\\n",
    "classification_report,confusion_matrix\n",
    "from IPython.core.magic import register_line_magic"
   ]
  },
  {
   "cell_type": "code",
   "execution_count": 4,
   "metadata": {
    "execution": {
     "iopub.execute_input": "2020-09-05T18:38:42.026565Z",
     "iopub.status.busy": "2020-09-05T18:38:42.025710Z",
     "iopub.status.idle": "2020-09-05T18:38:42.033332Z",
     "shell.execute_reply": "2020-09-05T18:38:42.032774Z"
    },
    "papermill": {
     "duration": 0.026978,
     "end_time": "2020-09-05T18:38:42.033448",
     "exception": false,
     "start_time": "2020-09-05T18:38:42.006470",
     "status": "completed"
    },
    "tags": []
   },
   "outputs": [],
   "source": [
    "warnings.filterwarnings('ignore')\n",
    "pd.set_option('precision',3)\n",
    "tf.keras.backend.set_floatx('float64')\n",
    "fpath='../input/image-examples-for-mixed-styles/'\n",
    "fn1,fn2='flower.png','cat.png'\n",
    "fw='weights.best.hdf5'\n",
    "buffer_size,batch_size=10000,64\n",
    "pixels,pixels2=28,32\n",
    "num_classes=10"
   ]
  },
  {
   "cell_type": "code",
   "execution_count": 5,
   "metadata": {
    "_kg_hide-input": true,
    "execution": {
     "iopub.execute_input": "2020-09-05T18:38:42.063443Z",
     "iopub.status.busy": "2020-09-05T18:38:42.061500Z",
     "iopub.status.idle": "2020-09-05T18:38:42.064237Z",
     "shell.execute_reply": "2020-09-05T18:38:42.064773Z"
    },
    "papermill": {
     "duration": 0.023364,
     "end_time": "2020-09-05T18:38:42.064886",
     "exception": false,
     "start_time": "2020-09-05T18:38:42.041522",
     "status": "completed"
    },
    "tags": []
   },
   "outputs": [],
   "source": [
    "@register_line_magic\n",
    "def display_examples(pars):\n",
    "    pars=pars.split()\n",
    "    data,n=pars[0],int(pars[1])\n",
    "    if data=='mnist': data=mnist_test\n",
    "    if data=='cifar': data=cifar_test\n",
    "    batch=next(iter(data.batch(n)))\n",
    "    images=batch['image'].numpy()\n",
    "    labels=batch['label'].numpy() \n",
    "    fig=pl.figure(figsize=(2*n//3,4.5))\n",
    "    for i in range(n):\n",
    "        ax=fig.add_subplot(3,n//3,i+1)\n",
    "        ax.set_xticks([]); ax.set_yticks([])\n",
    "        ax.imshow(np.squeeze(images[i]),\n",
    "                  cmap='bone')\n",
    "        ax.text(.85,.15,'{}'.format(labels[i]), \n",
    "                fontdict={'color':c1,'fontsize':30},\n",
    "                horizontalalignment='center',\n",
    "                verticalalignment='center', \n",
    "                transform=ax.transAxes)\n",
    "    pl.show()"
   ]
  },
  {
   "cell_type": "code",
   "execution_count": 6,
   "metadata": {
    "_kg_hide-input": true,
    "execution": {
     "iopub.execute_input": "2020-09-05T18:38:42.087949Z",
     "iopub.status.busy": "2020-09-05T18:38:42.086363Z",
     "iopub.status.idle": "2020-09-05T18:38:42.105708Z",
     "shell.execute_reply": "2020-09-05T18:38:42.106310Z"
    },
    "papermill": {
     "duration": 0.03328,
     "end_time": "2020-09-05T18:38:42.106447",
     "exception": false,
     "start_time": "2020-09-05T18:38:42.073167",
     "status": "completed"
    },
    "tags": []
   },
   "outputs": [],
   "source": [
    "def history_plot(fit_history):\n",
    "    pl.figure(figsize=(10,10)); pl.subplot(211)\n",
    "    keys=list(fit_history.history.keys())[0:4]\n",
    "    pl.plot(fit_history.history[keys[0]],\n",
    "            color=c1,label='train')\n",
    "    pl.plot(fit_history.history[keys[2]],\n",
    "            color=c2,label='valid')\n",
    "    pl.xlabel(\"Epochs\"); pl.ylabel(\"Loss\")\n",
    "    pl.legend(); pl.grid()\n",
    "    pl.title('Loss Function')     \n",
    "    pl.subplot(212)\n",
    "    pl.plot(fit_history.history[keys[1]],\n",
    "            color=c1,label='train')\n",
    "    pl.plot(fit_history.history[keys[3]],\n",
    "            color=c2,label='valid')\n",
    "    pl.xlabel(\"Epochs\"); pl.ylabel(\"Accuracy\")    \n",
    "    pl.legend(); pl.grid()\n",
    "    pl.title('Accuracy'); pl.show()\n",
    "def cb(fw):\n",
    "    early_stopping=\\\n",
    "    tkc.EarlyStopping(monitor='val_loss',\n",
    "                      patience=10,verbose=2)\n",
    "    checkpointer=\\\n",
    "    tkc.ModelCheckpoint(filepath=fw,\n",
    "                        save_best_only=True,verbose=2)\n",
    "    lr_reduction=\\\n",
    "    tkc.ReduceLROnPlateau(monitor='val_loss',verbose=2,\n",
    "                          patience=5,factor=.75)\n",
    "    return [checkpointer,early_stopping,\n",
    "            lr_reduction]"
   ]
  },
  {
   "cell_type": "code",
   "execution_count": 7,
   "metadata": {
    "_kg_hide-input": true,
    "execution": {
     "iopub.execute_input": "2020-09-05T18:38:42.135296Z",
     "iopub.status.busy": "2020-09-05T18:38:42.134361Z",
     "iopub.status.idle": "2020-09-05T18:38:42.138186Z",
     "shell.execute_reply": "2020-09-05T18:38:42.136154Z"
    },
    "papermill": {
     "duration": 0.021892,
     "end_time": "2020-09-05T18:38:42.138319",
     "exception": false,
     "start_time": "2020-09-05T18:38:42.116427",
     "status": "completed"
    },
    "tags": []
   },
   "outputs": [
    {
     "data": {
      "text/html": [
       "<style>\n",
       "    @import 'https://fonts.googleapis.com/css?family=Wallpoet&effect=3d-float';</style>\n",
       "    <h1 class='font-effect-3d-float' \n",
       "    style='font-family:Wallpoet; color:#11ff66; font-size:20px;'>\n",
       "    Image Structure</h1>"
      ],
      "text/plain": [
       "<IPython.core.display.HTML object>"
      ]
     },
     "metadata": {},
     "output_type": "display_data"
    }
   ],
   "source": [
    "dhtml('Image Structure')"
   ]
  },
  {
   "cell_type": "code",
   "execution_count": 8,
   "metadata": {
    "execution": {
     "iopub.execute_input": "2020-09-05T18:38:43.055795Z",
     "iopub.status.busy": "2020-09-05T18:38:43.054724Z",
     "iopub.status.idle": "2020-09-05T18:38:45.270893Z",
     "shell.execute_reply": "2020-09-05T18:38:45.271444Z"
    },
    "papermill": {
     "duration": 3.122117,
     "end_time": "2020-09-05T18:38:45.271590",
     "exception": false,
     "start_time": "2020-09-05T18:38:42.149473",
     "status": "completed"
    },
    "tags": []
   },
   "outputs": [
    {
     "data": {
      "image/png": "[encoded data removed]",
      "text/plain": [
       "<Figure size 432x288 with 2 Axes>"
      ]
     },
     "metadata": {
      "needs_background": "light"
     },
     "output_type": "display_data"
    }
   ],
   "source": [
    "imgtf1=tf.image.decode_image(tf.io.read_file(fpath+fn1))\n",
    "imgtf2=tf.image.decode_image(tf.io.read_file(fpath+fn2))\n",
    "pl.subplot(1,2,1); pl.imshow(imgtf1)\n",
    "pl.subplot(1,2,2); pl.imshow(imgtf2);"
   ]
  },
  {
   "cell_type": "code",
   "execution_count": 9,
   "metadata": {
    "execution": {
     "iopub.execute_input": "2020-09-05T18:38:45.298253Z",
     "iopub.status.busy": "2020-09-05T18:38:45.297606Z",
     "iopub.status.idle": "2020-09-05T18:38:45.316362Z",
     "shell.execute_reply": "2020-09-05T18:38:45.316867Z"
    },
    "papermill": {
     "duration": 0.035182,
     "end_time": "2020-09-05T18:38:45.316976",
     "exception": false,
     "start_time": "2020-09-05T18:38:45.281794",
     "status": "completed"
    },
    "tags": []
   },
   "outputs": [
    {
     "data": {
      "text/html": [
       "<div>\n",
       "<style scoped>\n",
       "    .dataframe tbody tr th:only-of-type {\n",
       "        vertical-align: middle;\n",
       "    }\n",
       "\n",
       "    .dataframe tbody tr th {\n",
       "        vertical-align: top;\n",
       "    }\n",
       "\n",
       "    .dataframe thead th {\n",
       "        text-align: right;\n",
       "    }\n",
       "</style>\n",
       "<table border=\"1\" class=\"dataframe\">\n",
       "  <thead>\n",
       "    <tr style=\"text-align: right;\">\n",
       "      <th></th>\n",
       "      <th>flower</th>\n",
       "      <th>cat</th>\n",
       "    </tr>\n",
       "  </thead>\n",
       "  <tbody>\n",
       "    <tr>\n",
       "      <th>shape</th>\n",
       "      <td>(211, 282, 3)</td>\n",
       "      <td>(384, 216, 3)</td>\n",
       "    </tr>\n",
       "    <tr>\n",
       "      <th>dtype</th>\n",
       "      <td>uint8</td>\n",
       "      <td>uint8</td>\n",
       "    </tr>\n",
       "    <tr>\n",
       "      <th>rank</th>\n",
       "      <td>3</td>\n",
       "      <td>3</td>\n",
       "    </tr>\n",
       "  </tbody>\n",
       "</table>\n",
       "</div>"
      ],
      "text/plain": [
       "              flower            cat\n",
       "shape  (211, 282, 3)  (384, 216, 3)\n",
       "dtype          uint8          uint8\n",
       "rank               3              3"
      ]
     },
     "execution_count": 9,
     "metadata": {},
     "output_type": "execute_result"
    }
   ],
   "source": [
    "pd.DataFrame([[str(imgtf1.numpy().shape),\n",
    "               str(imgtf2.numpy().shape)],\n",
    "              [imgtf1.numpy().dtype,\n",
    "               imgtf2.numpy().dtype],\n",
    "              [tf.rank(imgtf1).numpy(),\n",
    "               tf.rank(imgtf2).numpy()]],\n",
    "            index=['shape','dtype','rank'],\n",
    "            columns=['flower','cat'])"
   ]
  },
  {
   "cell_type": "code",
   "execution_count": 10,
   "metadata": {
    "_kg_hide-input": true,
    "execution": {
     "iopub.execute_input": "2020-09-05T18:38:45.340513Z",
     "iopub.status.busy": "2020-09-05T18:38:45.339855Z",
     "iopub.status.idle": "2020-09-05T18:38:45.344821Z",
     "shell.execute_reply": "2020-09-05T18:38:45.345480Z"
    },
    "papermill": {
     "duration": 0.019096,
     "end_time": "2020-09-05T18:38:45.345596",
     "exception": false,
     "start_time": "2020-09-05T18:38:45.326500",
     "status": "completed"
    },
    "tags": []
   },
   "outputs": [
    {
     "data": {
      "text/html": [
       "<style>\n",
       "    @import 'https://fonts.googleapis.com/css?family=Wallpoet&effect=3d-float';</style>\n",
       "    <h1 class='font-effect-3d-float' \n",
       "    style='font-family:Wallpoet; color:#11ff66; font-size:20px;'>\n",
       "    Data Processing</h1>"
      ],
      "text/plain": [
       "<IPython.core.display.HTML object>"
      ]
     },
     "metadata": {},
     "output_type": "display_data"
    }
   ],
   "source": [
    "dhtml('Data Processing')"
   ]
  },
  {
   "cell_type": "code",
   "execution_count": 11,
   "metadata": {
    "_kg_hide-output": true,
    "execution": {
     "iopub.execute_input": "2020-09-05T18:38:45.370985Z",
     "iopub.status.busy": "2020-09-05T18:38:45.370148Z",
     "iopub.status.idle": "2020-09-05T18:38:48.060074Z",
     "shell.execute_reply": "2020-09-05T18:38:48.060887Z"
    },
    "papermill": {
     "duration": 2.705458,
     "end_time": "2020-09-05T18:38:48.061083",
     "exception": false,
     "start_time": "2020-09-05T18:38:45.355625",
     "status": "completed"
    },
    "tags": []
   },
   "outputs": [
    {
     "name": "stdout",
     "output_type": "stream",
     "text": [
      "\u001b[1mDownloading and preparing dataset mnist/3.0.1 (download: 11.06 MiB, generated: 21.00 MiB, total: 32.06 MiB) to /root/tensorflow_datasets/mnist/3.0.1...\u001b[0m\n"
     ]
    },
    {
     "data": {
      "application/vnd.jupyter.widget-view+json": {
       "model_id": "b23570cc6e024dc4913d72bb2593d40b",
       "version_major": 2,
       "version_minor": 0
      },
      "text/plain": [
       "HBox(children=(FloatProgress(value=0.0, description='Dl Completed...', max=4.0, style=ProgressStyle(descriptio…"
      ]
     },
     "metadata": {},
     "output_type": "display_data"
    },
    {
     "name": "stdout",
     "output_type": "stream",
     "text": [
      "\n",
      "\n",
      "\u001b[1mDataset mnist downloaded and prepared to /root/tensorflow_datasets/mnist/3.0.1. Subsequent calls will reuse this data.\u001b[0m\n"
     ]
    }
   ],
   "source": [
    "mnist=tfds.builder('mnist')\n",
    "mnist.download_and_prepare()\n",
    "ds=mnist.as_dataset(shuffle_files=False,\n",
    "            split=['train','test'])\n",
    "mnist_train,mnist_test=ds[0],ds[1]"
   ]
  },
  {
   "cell_type": "code",
   "execution_count": 12,
   "metadata": {
    "execution": {
     "iopub.execute_input": "2020-09-05T18:38:48.093358Z",
     "iopub.status.busy": "2020-09-05T18:38:48.092759Z",
     "iopub.status.idle": "2020-09-05T18:38:48.567943Z",
     "shell.execute_reply": "2020-09-05T18:38:48.566894Z"
    },
    "papermill": {
     "duration": 0.491701,
     "end_time": "2020-09-05T18:38:48.568068",
     "exception": false,
     "start_time": "2020-09-05T18:38:48.076367",
     "status": "completed"
    },
    "tags": []
   },
   "outputs": [
    {
     "data": {
      "text/html": [
       "<style>\n",
       "    @import 'https://fonts.googleapis.com/css?family=Orbitron&effect=3d-float';</style>\n",
       "    <h1 class='font-effect-3d-float' \n",
       "    style='font-family:Orbitron; color:#6611ff; font-size:10px;'>\n",
       "    Image(shape=(28, 28, 1), dtype=tf.uint8)</h1>"
      ],
      "text/plain": [
       "<IPython.core.display.HTML object>"
      ]
     },
     "metadata": {},
     "output_type": "display_data"
    },
    {
     "data": {
      "text/html": [
       "<style>\n",
       "    @import 'https://fonts.googleapis.com/css?family=Orbitron&effect=3d-float';</style>\n",
       "    <h1 class='font-effect-3d-float' \n",
       "    style='font-family:Orbitron; color:#6611ff; font-size:10px;'>\n",
       "    ClassLabel(shape=(), dtype=tf.int64, num_classes=10)</h1>"
      ],
      "text/plain": [
       "<IPython.core.display.HTML object>"
      ]
     },
     "metadata": {},
     "output_type": "display_data"
    },
    {
     "data": {
      "image/png": "[encoded data removed]",
      "text/plain": [
       "<Figure size 432x324 with 9 Axes>"
      ]
     },
     "metadata": {},
     "output_type": "display_data"
    }
   ],
   "source": [
    "dhtml(mnist.info.features['image'],c2,f2,fs2)\n",
    "dhtml(mnist.info.features['label'],c2,f2,fs2)\n",
    "%display_examples mnist 9"
   ]
  },
  {
   "cell_type": "code",
   "execution_count": 13,
   "metadata": {
    "execution": {
     "iopub.execute_input": "2020-09-05T18:38:48.605965Z",
     "iopub.status.busy": "2020-09-05T18:38:48.603126Z",
     "iopub.status.idle": "2020-09-05T18:38:48.711621Z",
     "shell.execute_reply": "2020-09-05T18:38:48.711108Z"
    },
    "papermill": {
     "duration": 0.130499,
     "end_time": "2020-09-05T18:38:48.711728",
     "exception": false,
     "start_time": "2020-09-05T18:38:48.581229",
     "status": "completed"
    },
    "tags": []
   },
   "outputs": [],
   "source": [
    "mnist_train=mnist_train.map(\n",
    "    lambda item:(tf.cast(item['image'],tf.float32)/255., \n",
    "                 tf.cast(item['label'],tf.int32)))\n",
    "mnist_test=mnist_test.map(\n",
    "    lambda item:(tf.cast(item['image'],tf.float32)/255., \n",
    "                  tf.cast(item['label'],tf.int32)))\n",
    "tf.random.set_seed(123)\n",
    "mnist_train=mnist_train\\\n",
    ".shuffle(buffer_size=buffer_size,\n",
    "         reshuffle_each_iteration=False)\n",
    "mnist_valid=mnist_train.take(buffer_size).batch(batch_size)\n",
    "mnist_train=mnist_train.skip(buffer_size).batch(batch_size)"
   ]
  },
  {
   "cell_type": "code",
   "execution_count": 14,
   "metadata": {
    "_kg_hide-output": true,
    "execution": {
     "iopub.execute_input": "2020-09-05T18:38:48.742339Z",
     "iopub.status.busy": "2020-09-05T18:38:48.741503Z",
     "iopub.status.idle": "2020-09-05T18:39:37.479888Z",
     "shell.execute_reply": "2020-09-05T18:39:37.479337Z"
    },
    "papermill": {
     "duration": 48.756996,
     "end_time": "2020-09-05T18:39:37.479991",
     "exception": false,
     "start_time": "2020-09-05T18:38:48.722995",
     "status": "completed"
    },
    "tags": []
   },
   "outputs": [
    {
     "name": "stdout",
     "output_type": "stream",
     "text": [
      "\u001b[1mDownloading and preparing dataset cifar10/3.0.2 (download: 162.17 MiB, generated: 132.40 MiB, total: 294.58 MiB) to /root/tensorflow_datasets/cifar10/3.0.2...\u001b[0m\n"
     ]
    },
    {
     "data": {
      "application/vnd.jupyter.widget-view+json": {
       "model_id": "a67af0e121e24a9393f252bb6897b1a8",
       "version_major": 2,
       "version_minor": 0
      },
      "text/plain": [
       "HBox(children=(FloatProgress(value=1.0, bar_style='info', description='Dl Completed...', max=1.0, style=Progre…"
      ]
     },
     "metadata": {},
     "output_type": "display_data"
    },
    {
     "data": {
      "application/vnd.jupyter.widget-view+json": {
       "model_id": "4d4feb66eb0642198b49721c9573b196",
       "version_major": 2,
       "version_minor": 0
      },
      "text/plain": [
       "HBox(children=(FloatProgress(value=1.0, bar_style='info', description='Dl Size...', max=1.0, style=ProgressSty…"
      ]
     },
     "metadata": {},
     "output_type": "display_data"
    },
    {
     "data": {
      "application/vnd.jupyter.widget-view+json": {
       "model_id": "4059bc5bbfbc4711bf87dc3024770481",
       "version_major": 2,
       "version_minor": 0
      },
      "text/plain": [
       "HBox(children=(FloatProgress(value=1.0, bar_style='info', description='Extraction completed...', max=1.0, styl…"
      ]
     },
     "metadata": {},
     "output_type": "display_data"
    },
    {
     "name": "stdout",
     "output_type": "stream",
     "text": [
      "\n",
      "\n",
      "\n",
      "\n",
      "\n",
      "\n"
     ]
    },
    {
     "data": {
      "application/vnd.jupyter.widget-view+json": {
       "model_id": "a252e08f61684614a86aa431f1384418",
       "version_major": 2,
       "version_minor": 0
      },
      "text/plain": [
       "HBox(children=(FloatProgress(value=1.0, bar_style='info', max=1.0), HTML(value='')))"
      ]
     },
     "metadata": {},
     "output_type": "display_data"
    },
    {
     "name": "stdout",
     "output_type": "stream",
     "text": [
      "Shuffling and writing examples to /root/tensorflow_datasets/cifar10/3.0.2.incompleteL5AMNY/cifar10-train.tfrecord\n"
     ]
    },
    {
     "data": {
      "application/vnd.jupyter.widget-view+json": {
       "model_id": "5a4762a2228a4435a04e8bd35202b56b",
       "version_major": 2,
       "version_minor": 0
      },
      "text/plain": [
       "HBox(children=(FloatProgress(value=0.0, max=50000.0), HTML(value='')))"
      ]
     },
     "metadata": {},
     "output_type": "display_data"
    },
    {
     "data": {
      "application/vnd.jupyter.widget-view+json": {
       "model_id": "3f610c3a61554714a3110fb04dc2a236",
       "version_major": 2,
       "version_minor": 0
      },
      "text/plain": [
       "HBox(children=(FloatProgress(value=1.0, bar_style='info', max=1.0), HTML(value='')))"
      ]
     },
     "metadata": {},
     "output_type": "display_data"
    },
    {
     "name": "stdout",
     "output_type": "stream",
     "text": [
      "Shuffling and writing examples to /root/tensorflow_datasets/cifar10/3.0.2.incompleteL5AMNY/cifar10-test.tfrecord\n"
     ]
    },
    {
     "data": {
      "application/vnd.jupyter.widget-view+json": {
       "model_id": "7b44d869399041b48bcbe08f4fc788b3",
       "version_major": 2,
       "version_minor": 0
      },
      "text/plain": [
       "HBox(children=(FloatProgress(value=0.0, max=10000.0), HTML(value='')))"
      ]
     },
     "metadata": {},
     "output_type": "display_data"
    },
    {
     "name": "stdout",
     "output_type": "stream",
     "text": [
      "\u001b[1mDataset cifar10 downloaded and prepared to /root/tensorflow_datasets/cifar10/3.0.2. Subsequent calls will reuse this data.\u001b[0m\n"
     ]
    }
   ],
   "source": [
    "cifar=tfds.builder('cifar10')\n",
    "cifar.download_and_prepare()\n",
    "ds=cifar.as_dataset(shuffle_files=False,\n",
    "                    split=['train','test'])\n",
    "cifar_train,cifar_test=ds[0],ds[1]"
   ]
  },
  {
   "cell_type": "code",
   "execution_count": 15,
   "metadata": {
    "execution": {
     "iopub.execute_input": "2020-09-05T18:39:37.512468Z",
     "iopub.status.busy": "2020-09-05T18:39:37.511849Z",
     "iopub.status.idle": "2020-09-05T18:39:38.214956Z",
     "shell.execute_reply": "2020-09-05T18:39:38.215455Z"
    },
    "papermill": {
     "duration": 0.722369,
     "end_time": "2020-09-05T18:39:38.215590",
     "exception": false,
     "start_time": "2020-09-05T18:39:37.493221",
     "status": "completed"
    },
    "tags": []
   },
   "outputs": [
    {
     "data": {
      "text/html": [
       "<style>\n",
       "    @import 'https://fonts.googleapis.com/css?family=Orbitron&effect=3d-float';</style>\n",
       "    <h1 class='font-effect-3d-float' \n",
       "    style='font-family:Orbitron; color:#6611ff; font-size:10px;'>\n",
       "    Image(shape=(32, 32, 3), dtype=tf.uint8)</h1>"
      ],
      "text/plain": [
       "<IPython.core.display.HTML object>"
      ]
     },
     "metadata": {},
     "output_type": "display_data"
    },
    {
     "data": {
      "text/html": [
       "<style>\n",
       "    @import 'https://fonts.googleapis.com/css?family=Orbitron&effect=3d-float';</style>\n",
       "    <h1 class='font-effect-3d-float' \n",
       "    style='font-family:Orbitron; color:#6611ff; font-size:10px;'>\n",
       "    ClassLabel(shape=(), dtype=tf.int64, num_classes=10)</h1>"
      ],
      "text/plain": [
       "<IPython.core.display.HTML object>"
      ]
     },
     "metadata": {},
     "output_type": "display_data"
    },
    {
     "data": {
      "image/png": "[encoded data removed]",
      "text/plain": [
       "<Figure size 576x324 with 12 Axes>"
      ]
     },
     "metadata": {},
     "output_type": "display_data"
    }
   ],
   "source": [
    "dhtml(cifar.info.features['image'],c2,f2,fs2)\n",
    "dhtml(cifar.info.features['label'],c2,f2,fs2)\n",
    "%display_examples cifar 12"
   ]
  },
  {
   "cell_type": "code",
   "execution_count": 16,
   "metadata": {
    "execution": {
     "iopub.execute_input": "2020-09-05T18:39:38.253632Z",
     "iopub.status.busy": "2020-09-05T18:39:38.252719Z",
     "iopub.status.idle": "2020-09-05T18:39:38.272181Z",
     "shell.execute_reply": "2020-09-05T18:39:38.271689Z"
    },
    "papermill": {
     "duration": 0.04222,
     "end_time": "2020-09-05T18:39:38.272273",
     "exception": false,
     "start_time": "2020-09-05T18:39:38.230053",
     "status": "completed"
    },
    "tags": []
   },
   "outputs": [],
   "source": [
    "cifar_train=cifar_train.map(\n",
    "    lambda item:(tf.cast(item['image'],tf.float32)/255., \n",
    "                 tf.cast(item['label'],tf.int32)))\n",
    "cifar_test=cifar_test.map(\n",
    "    lambda item:(tf.cast(item['image'],tf.float32)/255., \n",
    "                  tf.cast(item['label'],tf.int32)))\n",
    "tf.random.set_seed(123)\n",
    "cifar_train=cifar_train\\\n",
    ".shuffle(buffer_size=buffer_size,\n",
    "         reshuffle_each_iteration=False)\n",
    "cifar_valid=cifar_train.take(buffer_size).batch(batch_size)\n",
    "cifar_train=cifar_train.skip(buffer_size).batch(batch_size)"
   ]
  },
  {
   "cell_type": "code",
   "execution_count": 17,
   "metadata": {
    "_kg_hide-input": true,
    "execution": {
     "iopub.execute_input": "2020-09-05T18:39:38.305340Z",
     "iopub.status.busy": "2020-09-05T18:39:38.304677Z",
     "iopub.status.idle": "2020-09-05T18:39:38.308130Z",
     "shell.execute_reply": "2020-09-05T18:39:38.308618Z"
    },
    "papermill": {
     "duration": 0.022471,
     "end_time": "2020-09-05T18:39:38.308728",
     "exception": false,
     "start_time": "2020-09-05T18:39:38.286257",
     "status": "completed"
    },
    "tags": []
   },
   "outputs": [
    {
     "data": {
      "text/html": [
       "<style>\n",
       "    @import 'https://fonts.googleapis.com/css?family=Wallpoet&effect=3d-float';</style>\n",
       "    <h1 class='font-effect-3d-float' \n",
       "    style='font-family:Wallpoet; color:#11ff66; font-size:20px;'>\n",
       "    NN Construction. One Channel</h1>"
      ],
      "text/plain": [
       "<IPython.core.display.HTML object>"
      ]
     },
     "metadata": {},
     "output_type": "display_data"
    }
   ],
   "source": [
    "dhtml('NN Construction. One Channel')"
   ]
  },
  {
   "cell_type": "code",
   "execution_count": 18,
   "metadata": {
    "execution": {
     "iopub.execute_input": "2020-09-05T18:39:38.345012Z",
     "iopub.status.busy": "2020-09-05T18:39:38.344214Z",
     "iopub.status.idle": "2020-09-05T18:39:38.433718Z",
     "shell.execute_reply": "2020-09-05T18:39:38.432780Z"
    },
    "papermill": {
     "duration": 0.111183,
     "end_time": "2020-09-05T18:39:38.433827",
     "exception": false,
     "start_time": "2020-09-05T18:39:38.322644",
     "status": "completed"
    },
    "tags": []
   },
   "outputs": [
    {
     "data": {
      "text/plain": [
       "TensorShape([64, 7, 7, 96])"
      ]
     },
     "execution_count": 18,
     "metadata": {},
     "output_type": "execute_result"
    }
   ],
   "source": [
    "model=tf.keras.Sequential()\n",
    "model.add(tkl.Input((pixels,pixels,1),\n",
    "                    name='input'))\n",
    "model.add(tkl.Conv2D(\n",
    "    filters=32,kernel_size=(7,7),\n",
    "    strides=(1,1),padding='same',\n",
    "    name='conv_1'))\n",
    "model.add(tkl.LeakyReLU(alpha=.02,\n",
    "                        name='lrelu_1'))\n",
    "model.add(tf.keras.layers.MaxPool2D(\n",
    "    pool_size=(2,2),name='pool_1'))\n",
    "model.add(tkl.Dropout(.25,name='drop_1'))\n",
    "model.add(tkl.Conv2D(\n",
    "    filters=96,kernel_size=(7,7),\n",
    "    strides=(1,1),padding='same',\n",
    "    name='conv_2'))\n",
    "model.add(tkl.LeakyReLU(alpha=.02,\n",
    "                        name='lrelu_2'))\n",
    "model.add(tf.keras.layers.MaxPool2D(\n",
    "    pool_size=(2,2),name='pool_2'))\n",
    "model.add(tkl.Dropout(.25,name='drop_2'))\n",
    "model.compute_output_shape(\n",
    "    input_shape=(batch_size,pixels,pixels,1))"
   ]
  },
  {
   "cell_type": "code",
   "execution_count": 19,
   "metadata": {
    "execution": {
     "iopub.execute_input": "2020-09-05T18:39:38.470985Z",
     "iopub.status.busy": "2020-09-05T18:39:38.470233Z",
     "iopub.status.idle": "2020-09-05T18:39:38.496121Z",
     "shell.execute_reply": "2020-09-05T18:39:38.495177Z"
    },
    "papermill": {
     "duration": 0.046741,
     "end_time": "2020-09-05T18:39:38.496215",
     "exception": false,
     "start_time": "2020-09-05T18:39:38.449474",
     "status": "completed"
    },
    "tags": []
   },
   "outputs": [
    {
     "data": {
      "text/plain": [
       "TensorShape([64, 512])"
      ]
     },
     "execution_count": 19,
     "metadata": {},
     "output_type": "execute_result"
    }
   ],
   "source": [
    "model.add(tkl.GlobalMaxPooling2D(name='gmpool'))   \n",
    "model.add(tkl.Dense(512,name='dense_1'))\n",
    "model.add(tkl.LeakyReLU(alpha=.02,\n",
    "                        name='lrelu_3'))\n",
    "model.add(tkl.Dropout(.5,name='drop_3'))\n",
    "model.compute_output_shape(\n",
    "    input_shape=(batch_size,pixels,pixels,1))"
   ]
  },
  {
   "cell_type": "code",
   "execution_count": 20,
   "metadata": {
    "_kg_hide-output": true,
    "execution": {
     "iopub.execute_input": "2020-09-05T18:39:38.531220Z",
     "iopub.status.busy": "2020-09-05T18:39:38.530280Z",
     "iopub.status.idle": "2020-09-05T18:39:39.092114Z",
     "shell.execute_reply": "2020-09-05T18:39:39.092639Z"
    },
    "papermill": {
     "duration": 0.582589,
     "end_time": "2020-09-05T18:39:39.092789",
     "exception": false,
     "start_time": "2020-09-05T18:39:38.510200",
     "status": "completed"
    },
    "tags": []
   },
   "outputs": [
    {
     "data": {
      "image/png": "[encoded data removed]",
      "text/plain": [
       "<IPython.core.display.Image object>"
      ]
     },
     "execution_count": 20,
     "metadata": {},
     "output_type": "execute_result"
    }
   ],
   "source": [
    "model.add(tkl.Dense(num_classes,\n",
    "                    activation='softmax',\n",
    "                    name='out'))\n",
    "tku.plot_model(model,show_shapes=True)"
   ]
  },
  {
   "cell_type": "code",
   "execution_count": 21,
   "metadata": {
    "_kg_hide-output": true,
    "execution": {
     "iopub.execute_input": "2020-09-05T18:39:39.141002Z",
     "iopub.status.busy": "2020-09-05T18:39:39.139776Z",
     "iopub.status.idle": "2020-09-05T18:45:04.385273Z",
     "shell.execute_reply": "2020-09-05T18:45:04.384338Z"
    },
    "papermill": {
     "duration": 325.276253,
     "end_time": "2020-09-05T18:45:04.385424",
     "exception": false,
     "start_time": "2020-09-05T18:39:39.109171",
     "status": "completed"
    },
    "tags": []
   },
   "outputs": [
    {
     "name": "stdout",
     "output_type": "stream",
     "text": [
      "Epoch 1/30\n",
      "781/782 [============================>.] - ETA: 0s - loss: 0.2888 - accuracy: 0.9048\n",
      "Epoch 00001: val_loss improved from inf to 0.07293, saving model to weights.best.hdf5\n",
      "782/782 [==============================] - 13s 16ms/step - loss: 0.2887 - accuracy: 0.9049 - val_loss: 0.0729 - val_accuracy: 0.9792\n",
      "Epoch 2/30\n",
      "778/782 [============================>.] - ETA: 0s - loss: 0.0733 - accuracy: 0.9776\n",
      "Epoch 00002: val_loss improved from 0.07293 to 0.05644, saving model to weights.best.hdf5\n",
      "782/782 [==============================] - 10s 13ms/step - loss: 0.0732 - accuracy: 0.9776 - val_loss: 0.0564 - val_accuracy: 0.9845\n",
      "Epoch 3/30\n",
      "780/782 [============================>.] - ETA: 0s - loss: 0.0551 - accuracy: 0.9836\n",
      "Epoch 00003: val_loss improved from 0.05644 to 0.03497, saving model to weights.best.hdf5\n",
      "782/782 [==============================] - 10s 13ms/step - loss: 0.0551 - accuracy: 0.9836 - val_loss: 0.0350 - val_accuracy: 0.9888\n",
      "Epoch 4/30\n",
      "779/782 [============================>.] - ETA: 0s - loss: 0.0475 - accuracy: 0.9854\n",
      "Epoch 00004: val_loss did not improve from 0.03497\n",
      "782/782 [==============================] - 10s 13ms/step - loss: 0.0475 - accuracy: 0.9854 - val_loss: 0.0396 - val_accuracy: 0.9871\n",
      "Epoch 5/30\n",
      "777/782 [============================>.] - ETA: 0s - loss: 0.0432 - accuracy: 0.9868\n",
      "Epoch 00005: val_loss improved from 0.03497 to 0.03301, saving model to weights.best.hdf5\n",
      "782/782 [==============================] - 11s 13ms/step - loss: 0.0430 - accuracy: 0.9868 - val_loss: 0.0330 - val_accuracy: 0.9912\n",
      "Epoch 6/30\n",
      "781/782 [============================>.] - ETA: 0s - loss: 0.0371 - accuracy: 0.9886\n",
      "Epoch 00006: val_loss improved from 0.03301 to 0.03003, saving model to weights.best.hdf5\n",
      "782/782 [==============================] - 10s 13ms/step - loss: 0.0371 - accuracy: 0.9886 - val_loss: 0.0300 - val_accuracy: 0.9911\n",
      "Epoch 7/30\n",
      "782/782 [==============================] - ETA: 0s - loss: 0.0335 - accuracy: 0.9891\n",
      "Epoch 00007: val_loss improved from 0.03003 to 0.02912, saving model to weights.best.hdf5\n",
      "782/782 [==============================] - 10s 13ms/step - loss: 0.0335 - accuracy: 0.9891 - val_loss: 0.0291 - val_accuracy: 0.9914\n",
      "Epoch 8/30\n",
      "777/782 [============================>.] - ETA: 0s - loss: 0.0302 - accuracy: 0.9905\n",
      "Epoch 00008: val_loss improved from 0.02912 to 0.02873, saving model to weights.best.hdf5\n",
      "782/782 [==============================] - 10s 13ms/step - loss: 0.0301 - accuracy: 0.9905 - val_loss: 0.0287 - val_accuracy: 0.9921\n",
      "Epoch 9/30\n",
      "777/782 [============================>.] - ETA: 0s - loss: 0.0299 - accuracy: 0.9907\n",
      "Epoch 00009: val_loss did not improve from 0.02873\n",
      "782/782 [==============================] - 10s 13ms/step - loss: 0.0298 - accuracy: 0.9907 - val_loss: 0.0301 - val_accuracy: 0.9919\n",
      "Epoch 10/30\n",
      "781/782 [============================>.] - ETA: 0s - loss: 0.0281 - accuracy: 0.9911\n",
      "Epoch 00010: val_loss did not improve from 0.02873\n",
      "782/782 [==============================] - 11s 14ms/step - loss: 0.0281 - accuracy: 0.9911 - val_loss: 0.0342 - val_accuracy: 0.9902\n",
      "Epoch 11/30\n",
      "778/782 [============================>.] - ETA: 0s - loss: 0.0253 - accuracy: 0.9921\n",
      "Epoch 00011: val_loss did not improve from 0.02873\n",
      "782/782 [==============================] - 10s 13ms/step - loss: 0.0253 - accuracy: 0.9922 - val_loss: 0.0299 - val_accuracy: 0.9917\n",
      "Epoch 12/30\n",
      "778/782 [============================>.] - ETA: 0s - loss: 0.0266 - accuracy: 0.9915\n",
      "Epoch 00012: val_loss did not improve from 0.02873\n",
      "782/782 [==============================] - 10s 13ms/step - loss: 0.0267 - accuracy: 0.9915 - val_loss: 0.0305 - val_accuracy: 0.9917\n",
      "Epoch 13/30\n",
      "778/782 [============================>.] - ETA: 0s - loss: 0.0246 - accuracy: 0.9925\n",
      "Epoch 00013: val_loss improved from 0.02873 to 0.02729, saving model to weights.best.hdf5\n",
      "782/782 [==============================] - 10s 13ms/step - loss: 0.0246 - accuracy: 0.9925 - val_loss: 0.0273 - val_accuracy: 0.9925\n",
      "Epoch 14/30\n",
      "779/782 [============================>.] - ETA: 0s - loss: 0.0197 - accuracy: 0.9942\n",
      "Epoch 00014: val_loss did not improve from 0.02729\n",
      "782/782 [==============================] - 10s 13ms/step - loss: 0.0197 - accuracy: 0.9941 - val_loss: 0.0293 - val_accuracy: 0.9922\n",
      "Epoch 15/30\n",
      "782/782 [==============================] - ETA: 0s - loss: 0.0241 - accuracy: 0.9924\n",
      "Epoch 00015: val_loss did not improve from 0.02729\n",
      "782/782 [==============================] - 10s 13ms/step - loss: 0.0241 - accuracy: 0.9924 - val_loss: 0.0318 - val_accuracy: 0.9919\n",
      "Epoch 16/30\n",
      "777/782 [============================>.] - ETA: 0s - loss: 0.0201 - accuracy: 0.9939\n",
      "Epoch 00016: val_loss did not improve from 0.02729\n",
      "782/782 [==============================] - 10s 13ms/step - loss: 0.0201 - accuracy: 0.9939 - val_loss: 0.0283 - val_accuracy: 0.9930\n",
      "Epoch 17/30\n",
      "780/782 [============================>.] - ETA: 0s - loss: 0.0217 - accuracy: 0.9933\n",
      "Epoch 00017: val_loss did not improve from 0.02729\n",
      "782/782 [==============================] - 10s 13ms/step - loss: 0.0218 - accuracy: 0.9933 - val_loss: 0.0321 - val_accuracy: 0.9914\n",
      "Epoch 18/30\n",
      "781/782 [============================>.] - ETA: 0s - loss: 0.0203 - accuracy: 0.9941\n",
      "Epoch 00018: val_loss did not improve from 0.02729\n",
      "\n",
      "Epoch 00018: ReduceLROnPlateau reducing learning rate to 0.0007500000356230885.\n",
      "782/782 [==============================] - 10s 13ms/step - loss: 0.0203 - accuracy: 0.9941 - val_loss: 0.0414 - val_accuracy: 0.9895\n",
      "Epoch 19/30\n",
      "777/782 [============================>.] - ETA: 0s - loss: 0.0163 - accuracy: 0.9950\n",
      "Epoch 00019: val_loss improved from 0.02729 to 0.02498, saving model to weights.best.hdf5\n",
      "782/782 [==============================] - 10s 13ms/step - loss: 0.0163 - accuracy: 0.9950 - val_loss: 0.0250 - val_accuracy: 0.9935\n",
      "Epoch 20/30\n",
      "781/782 [============================>.] - ETA: 0s - loss: 0.0158 - accuracy: 0.9949\n",
      "Epoch 00020: val_loss did not improve from 0.02498\n",
      "782/782 [==============================] - 10s 13ms/step - loss: 0.0158 - accuracy: 0.9949 - val_loss: 0.0289 - val_accuracy: 0.9925\n",
      "Epoch 21/30\n",
      "779/782 [============================>.] - ETA: 0s - loss: 0.0145 - accuracy: 0.9953\n",
      "Epoch 00021: val_loss did not improve from 0.02498\n",
      "782/782 [==============================] - 11s 14ms/step - loss: 0.0145 - accuracy: 0.9953 - val_loss: 0.0273 - val_accuracy: 0.9932\n",
      "Epoch 22/30\n",
      "782/782 [==============================] - ETA: 0s - loss: 0.0127 - accuracy: 0.9965\n",
      "Epoch 00022: val_loss did not improve from 0.02498\n",
      "782/782 [==============================] - 10s 13ms/step - loss: 0.0127 - accuracy: 0.9965 - val_loss: 0.0285 - val_accuracy: 0.9925\n",
      "Epoch 23/30\n",
      "779/782 [============================>.] - ETA: 0s - loss: 0.0155 - accuracy: 0.9953\n",
      "Epoch 00023: val_loss did not improve from 0.02498\n",
      "782/782 [==============================] - 10s 12ms/step - loss: 0.0154 - accuracy: 0.9953 - val_loss: 0.0318 - val_accuracy: 0.9917\n",
      "Epoch 24/30\n",
      "780/782 [============================>.] - ETA: 0s - loss: 0.0126 - accuracy: 0.9958\n",
      "Epoch 00024: val_loss did not improve from 0.02498\n",
      "\n",
      "Epoch 00024: ReduceLROnPlateau reducing learning rate to 0.0005625000048894435.\n",
      "782/782 [==============================] - 10s 13ms/step - loss: 0.0126 - accuracy: 0.9958 - val_loss: 0.0304 - val_accuracy: 0.9928\n",
      "Epoch 25/30\n",
      "782/782 [==============================] - ETA: 0s - loss: 0.0090 - accuracy: 0.9971\n",
      "Epoch 00025: val_loss did not improve from 0.02498\n",
      "782/782 [==============================] - 10s 13ms/step - loss: 0.0090 - accuracy: 0.9971 - val_loss: 0.0299 - val_accuracy: 0.9934\n",
      "Epoch 26/30\n",
      "782/782 [==============================] - ETA: 0s - loss: 0.0107 - accuracy: 0.9967\n",
      "Epoch 00026: val_loss did not improve from 0.02498\n",
      "782/782 [==============================] - 10s 13ms/step - loss: 0.0107 - accuracy: 0.9967 - val_loss: 0.0329 - val_accuracy: 0.9922\n",
      "Epoch 27/30\n",
      "779/782 [============================>.] - ETA: 0s - loss: 0.0087 - accuracy: 0.9971\n",
      "Epoch 00027: val_loss did not improve from 0.02498\n",
      "782/782 [==============================] - 10s 13ms/step - loss: 0.0087 - accuracy: 0.9971 - val_loss: 0.0295 - val_accuracy: 0.9935\n",
      "Epoch 28/30\n",
      "777/782 [============================>.] - ETA: 0s - loss: 0.0093 - accuracy: 0.9968\n",
      "Epoch 00028: val_loss did not improve from 0.02498\n",
      "782/782 [==============================] - 10s 13ms/step - loss: 0.0093 - accuracy: 0.9968 - val_loss: 0.0293 - val_accuracy: 0.9939\n",
      "Epoch 29/30\n",
      "781/782 [============================>.] - ETA: 0s - loss: 0.0092 - accuracy: 0.9971\n",
      "Epoch 00029: val_loss did not improve from 0.02498\n",
      "\n",
      "Epoch 00029: ReduceLROnPlateau reducing learning rate to 0.0004218749818392098.\n",
      "782/782 [==============================] - 10s 13ms/step - loss: 0.0092 - accuracy: 0.9971 - val_loss: 0.0326 - val_accuracy: 0.9925\n",
      "Epoch 00029: early stopping\n"
     ]
    }
   ],
   "source": [
    "model.compile(optimizer=tf.keras.optimizers.Adam(),\n",
    "              loss=tf.keras.losses\\\n",
    "              .SparseCategoricalCrossentropy(),\n",
    "              metrics=['accuracy'])\n",
    "history=model.fit(mnist_train,epochs=30,shuffle=True, \n",
    "                  validation_data=mnist_valid,\n",
    "                  callbacks=cb(fw))"
   ]
  },
  {
   "cell_type": "code",
   "execution_count": 22,
   "metadata": {
    "execution": {
     "iopub.execute_input": "2020-09-05T18:45:05.101783Z",
     "iopub.status.busy": "2020-09-05T18:45:05.099808Z",
     "iopub.status.idle": "2020-09-05T18:45:05.450022Z",
     "shell.execute_reply": "2020-09-05T18:45:05.450515Z"
    },
    "papermill": {
     "duration": 0.786901,
     "end_time": "2020-09-05T18:45:05.450655",
     "exception": false,
     "start_time": "2020-09-05T18:45:04.663754",
     "status": "completed"
    },
    "tags": []
   },
   "outputs": [
    {
     "data": {
      "image/png": "[encoded data removed]",
      "text/plain": [
       "<Figure size 720x720 with 2 Axes>"
      ]
     },
     "metadata": {
      "needs_background": "light"
     },
     "output_type": "display_data"
    }
   ],
   "source": [
    "history_plot(history)"
   ]
  },
  {
   "cell_type": "code",
   "execution_count": 23,
   "metadata": {
    "execution": {
     "iopub.execute_input": "2020-09-05T18:45:06.110089Z",
     "iopub.status.busy": "2020-09-05T18:45:06.109055Z",
     "iopub.status.idle": "2020-09-05T18:45:08.391954Z",
     "shell.execute_reply": "2020-09-05T18:45:08.392496Z"
    },
    "papermill": {
     "duration": 2.664009,
     "end_time": "2020-09-05T18:45:08.392641",
     "exception": false,
     "start_time": "2020-09-05T18:45:05.728632",
     "status": "completed"
    },
    "tags": []
   },
   "outputs": [
    {
     "name": "stdout",
     "output_type": "stream",
     "text": [
      "1/1 [==============================] - 0s 2ms/step - loss: 0.0222 - accuracy: 0.9938\n",
      "\n",
      "test accuracy: 99.38%\n"
     ]
    }
   ],
   "source": [
    "model.load_weights(fw)\n",
    "test_results=model.evaluate(mnist_test.batch(buffer_size))\n",
    "print('\\ntest accuracy: {:.2f}%'.format(test_results[1]*100))"
   ]
  },
  {
   "cell_type": "code",
   "execution_count": 24,
   "metadata": {
    "_kg_hide-output": true,
    "execution": {
     "iopub.execute_input": "2020-09-05T18:45:08.945896Z",
     "iopub.status.busy": "2020-09-05T18:45:08.944905Z",
     "iopub.status.idle": "2020-09-05T18:45:10.407522Z",
     "shell.execute_reply": "2020-09-05T18:45:10.407001Z"
    },
    "papermill": {
     "duration": 1.745914,
     "end_time": "2020-09-05T18:45:10.407644",
     "exception": false,
     "start_time": "2020-09-05T18:45:08.661730",
     "status": "completed"
    },
    "tags": []
   },
   "outputs": [
    {
     "data": {
      "text/html": [
       "<style>\n",
       "    @import 'https://fonts.googleapis.com/css?family=Orbitron&effect=3d-float';</style>\n",
       "    <h1 class='font-effect-3d-float' \n",
       "    style='font-family:Orbitron; color:#6611ff; font-size:10px;'>\n",
       "    Classification Report</h1>"
      ],
      "text/plain": [
       "<IPython.core.display.HTML object>"
      ]
     },
     "metadata": {},
     "output_type": "display_data"
    },
    {
     "name": "stdout",
     "output_type": "stream",
     "text": [
      "              precision    recall  f1-score   support\n",
      "\n",
      "           0       0.99      1.00      0.99       980\n",
      "           1       1.00      0.99      1.00      1135\n",
      "           2       0.99      1.00      0.99      1032\n",
      "           3       0.99      1.00      0.99      1010\n",
      "           4       0.99      0.99      0.99       982\n",
      "           5       0.99      0.99      0.99       892\n",
      "           6       0.99      0.99      0.99       958\n",
      "           7       1.00      0.99      0.99      1028\n",
      "           8       1.00      1.00      1.00       974\n",
      "           9       0.99      0.99      0.99      1009\n",
      "\n",
      "    accuracy                           0.99     10000\n",
      "   macro avg       0.99      0.99      0.99     10000\n",
      "weighted avg       0.99      0.99      0.99     10000\n",
      "\n"
     ]
    },
    {
     "data": {
      "text/html": [
       "<style>\n",
       "    @import 'https://fonts.googleapis.com/css?family=Orbitron&effect=3d-float';</style>\n",
       "    <h1 class='font-effect-3d-float' \n",
       "    style='font-family:Orbitron; color:#6611ff; font-size:10px;'>\n",
       "    Confusion matrix</h1>"
      ],
      "text/plain": [
       "<IPython.core.display.HTML object>"
      ]
     },
     "metadata": {},
     "output_type": "display_data"
    },
    {
     "name": "stdout",
     "output_type": "stream",
     "text": [
      "[[ 976    0    0    0    0    0    2    1    1    0]\n",
      " [   0 1129    1    1    1    0    3    0    0    0]\n",
      " [   1    0 1031    0    0    0    0    0    0    0]\n",
      " [   0    0    0 1005    0    5    0    0    0    0]\n",
      " [   0    0    1    0  974    0    1    0    1    5]\n",
      " [   1    0    0    4    0  886    1    0    0    0]\n",
      " [   4    1    0    0    0    4  948    0    1    0]\n",
      " [   0    2    6    0    0    1    0 1018    0    1]\n",
      " [   0    1    0    1    0    1    0    0  970    1]\n",
      " [   0    0    2    0    5    1    0    0    0 1001]]\n"
     ]
    }
   ],
   "source": [
    "batch=next(iter(mnist_test.batch(buffer_size)))\n",
    "y_test=batch[1].numpy()\n",
    "py_test=np.argmax(\n",
    "    model.predict(mnist_test.batch(buffer_size)),\n",
    "                  axis=-1)\n",
    "dhtml('Classification Report',c2,f2,fs2)\n",
    "print(classification_report(y_test,py_test))\n",
    "dhtml('Confusion matrix',c2,f2,fs2)\n",
    "print(confusion_matrix(y_test,py_test))"
   ]
  },
  {
   "cell_type": "code",
   "execution_count": 25,
   "metadata": {
    "_kg_hide-input": true,
    "execution": {
     "iopub.execute_input": "2020-09-05T18:45:10.992131Z",
     "iopub.status.busy": "2020-09-05T18:45:10.991466Z",
     "iopub.status.idle": "2020-09-05T18:45:10.998250Z",
     "shell.execute_reply": "2020-09-05T18:45:10.997767Z"
    },
    "papermill": {
     "duration": 0.284448,
     "end_time": "2020-09-05T18:45:10.998366",
     "exception": false,
     "start_time": "2020-09-05T18:45:10.713918",
     "status": "completed"
    },
    "tags": []
   },
   "outputs": [
    {
     "data": {
      "text/html": [
       "<style>\n",
       "    @import 'https://fonts.googleapis.com/css?family=Wallpoet&effect=3d-float';</style>\n",
       "    <h1 class='font-effect-3d-float' \n",
       "    style='font-family:Wallpoet; color:#11ff66; font-size:20px;'>\n",
       "    NN Construction. Three Channels</h1>"
      ],
      "text/plain": [
       "<IPython.core.display.HTML object>"
      ]
     },
     "metadata": {},
     "output_type": "display_data"
    }
   ],
   "source": [
    "dhtml('NN Construction. Three Channels')"
   ]
  },
  {
   "cell_type": "code",
   "execution_count": 26,
   "metadata": {
    "execution": {
     "iopub.execute_input": "2020-09-05T18:45:11.546156Z",
     "iopub.status.busy": "2020-09-05T18:45:11.544358Z",
     "iopub.status.idle": "2020-09-05T18:45:11.601834Z",
     "shell.execute_reply": "2020-09-05T18:45:11.601317Z"
    },
    "papermill": {
     "duration": 0.336766,
     "end_time": "2020-09-05T18:45:11.601939",
     "exception": false,
     "start_time": "2020-09-05T18:45:11.265173",
     "status": "completed"
    },
    "tags": []
   },
   "outputs": [
    {
     "data": {
      "text/plain": [
       "TensorShape([64, 8, 8, 196])"
      ]
     },
     "execution_count": 26,
     "metadata": {},
     "output_type": "execute_result"
    }
   ],
   "source": [
    "model=tf.keras.Sequential()\n",
    "model.add(tkl.Input((pixels2,pixels2,3),\n",
    "                    name='input'))\n",
    "model.add(tkl.Conv2D(\n",
    "    filters=32,kernel_size=(5,5),\n",
    "    strides=(1,1),padding='same',\n",
    "    name='conv_1'))\n",
    "model.add(tkl.LeakyReLU(alpha=.02,\n",
    "                        name='lrelu_1'))\n",
    "model.add(tf.keras.layers.MaxPool2D(\n",
    "    pool_size=(2,2),name='pool_1'))\n",
    "model.add(tkl.Dropout(.25,name='drop_1'))\n",
    "model.add(tkl.Conv2D(\n",
    "    filters=196,kernel_size=(5,5),\n",
    "    strides=(1,1),padding='same',\n",
    "    name='conv_2'))\n",
    "model.add(tkl.LeakyReLU(alpha=.02,\n",
    "                        name='lrelu_2'))\n",
    "model.add(tf.keras.layers.MaxPool2D(\n",
    "    pool_size=(2,2),name='pool_2'))\n",
    "model.add(tkl.Dropout(.25,name='drop_2'))\n",
    "model.compute_output_shape(\n",
    "    input_shape=(batch_size,pixels2,pixels2,3))"
   ]
  },
  {
   "cell_type": "code",
   "execution_count": 27,
   "metadata": {
    "execution": {
     "iopub.execute_input": "2020-09-05T18:45:12.184162Z",
     "iopub.status.busy": "2020-09-05T18:45:12.180981Z",
     "iopub.status.idle": "2020-09-05T18:45:12.209510Z",
     "shell.execute_reply": "2020-09-05T18:45:12.208960Z"
    },
    "papermill": {
     "duration": 0.304435,
     "end_time": "2020-09-05T18:45:12.209657",
     "exception": false,
     "start_time": "2020-09-05T18:45:11.905222",
     "status": "completed"
    },
    "tags": []
   },
   "outputs": [
    {
     "data": {
      "text/plain": [
       "TensorShape([64, 1024])"
      ]
     },
     "execution_count": 27,
     "metadata": {},
     "output_type": "execute_result"
    }
   ],
   "source": [
    "model.add(tkl.GlobalMaxPooling2D(name='gmpool'))   \n",
    "model.add(tkl.Dense(1024,name='dense_1'))\n",
    "model.add(tkl.LeakyReLU(alpha=.02,\n",
    "                        name='lrelu_3'))\n",
    "model.add(tkl.Dropout(.5,name='drop_3'))\n",
    "model.compute_output_shape(\n",
    "    input_shape=(batch_size,pixels2,pixels2,3))"
   ]
  },
  {
   "cell_type": "code",
   "execution_count": 28,
   "metadata": {
    "_kg_hide-output": true,
    "collapsed": true,
    "execution": {
     "iopub.execute_input": "2020-09-05T18:45:12.756118Z",
     "iopub.status.busy": "2020-09-05T18:45:12.755171Z",
     "iopub.status.idle": "2020-09-05T18:45:12.964371Z",
     "shell.execute_reply": "2020-09-05T18:45:12.963879Z"
    },
    "papermill": {
     "duration": 0.486257,
     "end_time": "2020-09-05T18:45:12.964508",
     "exception": false,
     "start_time": "2020-09-05T18:45:12.478251",
     "status": "completed"
    },
    "tags": []
   },
   "outputs": [
    {
     "data": {
      "image/png": "[encoded data removed]",
      "text/plain": [
       "<IPython.core.display.Image object>"
      ]
     },
     "execution_count": 28,
     "metadata": {},
     "output_type": "execute_result"
    }
   ],
   "source": [
    "model.add(tkl.Dense(num_classes,\n",
    "                    activation='softmax',\n",
    "                    name='out'))\n",
    "tku.plot_model(model,show_shapes=True)"
   ]
  },
  {
   "cell_type": "code",
   "execution_count": 29,
   "metadata": {
    "_kg_hide-output": true,
    "execution": {
     "iopub.execute_input": "2020-09-05T18:45:13.557364Z",
     "iopub.status.busy": "2020-09-05T18:45:13.556477Z",
     "iopub.status.idle": "2020-09-05T19:25:45.427224Z",
     "shell.execute_reply": "2020-09-05T19:25:45.426332Z"
    },
    "papermill": {
     "duration": 2432.184584,
     "end_time": "2020-09-05T19:25:45.427421",
     "exception": false,
     "start_time": "2020-09-05T18:45:13.242837",
     "status": "completed"
    },
    "tags": []
   },
   "outputs": [
    {
     "name": "stdout",
     "output_type": "stream",
     "text": [
      "Epoch 1/70\n",
      "625/625 [==============================] - ETA: 0s - loss: 1.7196 - accuracy: 0.3594\n",
      "Epoch 00001: val_loss improved from inf to 1.45219, saving model to weights.best.hdf5\n",
      "625/625 [==============================] - 36s 58ms/step - loss: 1.7196 - accuracy: 0.3594 - val_loss: 1.4522 - val_accuracy: 0.4797\n",
      "Epoch 2/70\n",
      "624/625 [============================>.] - ETA: 0s - loss: 1.3783 - accuracy: 0.4986\n",
      "Epoch 00002: val_loss improved from 1.45219 to 1.24823, saving model to weights.best.hdf5\n",
      "625/625 [==============================] - 34s 54ms/step - loss: 1.3780 - accuracy: 0.4986 - val_loss: 1.2482 - val_accuracy: 0.5581\n",
      "Epoch 3/70\n",
      "625/625 [==============================] - ETA: 0s - loss: 1.2431 - accuracy: 0.5486\n",
      "Epoch 00003: val_loss improved from 1.24823 to 1.16106, saving model to weights.best.hdf5\n",
      "625/625 [==============================] - 34s 54ms/step - loss: 1.2431 - accuracy: 0.5486 - val_loss: 1.1611 - val_accuracy: 0.5930\n",
      "Epoch 4/70\n",
      "624/625 [============================>.] - ETA: 0s - loss: 1.1543 - accuracy: 0.5878\n",
      "Epoch 00004: val_loss improved from 1.16106 to 1.10315, saving model to weights.best.hdf5\n",
      "625/625 [==============================] - 34s 55ms/step - loss: 1.1542 - accuracy: 0.5878 - val_loss: 1.1031 - val_accuracy: 0.6184\n",
      "Epoch 5/70\n",
      "624/625 [============================>.] - ETA: 0s - loss: 1.0957 - accuracy: 0.6098\n",
      "Epoch 00005: val_loss improved from 1.10315 to 1.06690, saving model to weights.best.hdf5\n",
      "625/625 [==============================] - 34s 55ms/step - loss: 1.0956 - accuracy: 0.6099 - val_loss: 1.0669 - val_accuracy: 0.6240\n",
      "Epoch 6/70\n",
      "624/625 [============================>.] - ETA: 0s - loss: 1.0472 - accuracy: 0.6272\n",
      "Epoch 00006: val_loss improved from 1.06690 to 1.02214, saving model to weights.best.hdf5\n",
      "625/625 [==============================] - 34s 55ms/step - loss: 1.0473 - accuracy: 0.6272 - val_loss: 1.0221 - val_accuracy: 0.6470\n",
      "Epoch 7/70\n",
      "625/625 [==============================] - ETA: 0s - loss: 1.0089 - accuracy: 0.6397\n",
      "Epoch 00007: val_loss improved from 1.02214 to 1.00216, saving model to weights.best.hdf5\n",
      "625/625 [==============================] - 34s 54ms/step - loss: 1.0089 - accuracy: 0.6397 - val_loss: 1.0022 - val_accuracy: 0.6469\n",
      "Epoch 8/70\n",
      "624/625 [============================>.] - ETA: 0s - loss: 0.9771 - accuracy: 0.6513\n",
      "Epoch 00008: val_loss did not improve from 1.00216\n",
      "625/625 [==============================] - 34s 55ms/step - loss: 0.9772 - accuracy: 0.6512 - val_loss: 1.0230 - val_accuracy: 0.6405\n",
      "Epoch 9/70\n",
      "625/625 [==============================] - ETA: 0s - loss: 0.9526 - accuracy: 0.6603\n",
      "Epoch 00009: val_loss improved from 1.00216 to 0.94233, saving model to weights.best.hdf5\n",
      "625/625 [==============================] - 34s 55ms/step - loss: 0.9526 - accuracy: 0.6603 - val_loss: 0.9423 - val_accuracy: 0.6733\n",
      "Epoch 10/70\n",
      "624/625 [============================>.] - ETA: 0s - loss: 0.9235 - accuracy: 0.6734\n",
      "Epoch 00010: val_loss improved from 0.94233 to 0.91795, saving model to weights.best.hdf5\n",
      "625/625 [==============================] - 34s 55ms/step - loss: 0.9233 - accuracy: 0.6735 - val_loss: 0.9180 - val_accuracy: 0.6804\n",
      "Epoch 11/70\n",
      "625/625 [==============================] - ETA: 0s - loss: 0.8959 - accuracy: 0.6839\n",
      "Epoch 00011: val_loss improved from 0.91795 to 0.89641, saving model to weights.best.hdf5\n",
      "625/625 [==============================] - 34s 55ms/step - loss: 0.8959 - accuracy: 0.6839 - val_loss: 0.8964 - val_accuracy: 0.6926\n",
      "Epoch 12/70\n",
      "625/625 [==============================] - ETA: 0s - loss: 0.8752 - accuracy: 0.6901\n",
      "Epoch 00012: val_loss did not improve from 0.89641\n",
      "625/625 [==============================] - 34s 54ms/step - loss: 0.8752 - accuracy: 0.6901 - val_loss: 0.8965 - val_accuracy: 0.6889\n",
      "Epoch 13/70\n",
      "624/625 [============================>.] - ETA: 0s - loss: 0.8508 - accuracy: 0.6994\n",
      "Epoch 00013: val_loss improved from 0.89641 to 0.88214, saving model to weights.best.hdf5\n",
      "625/625 [==============================] - 35s 55ms/step - loss: 0.8507 - accuracy: 0.6995 - val_loss: 0.8821 - val_accuracy: 0.6991\n",
      "Epoch 14/70\n",
      "624/625 [============================>.] - ETA: 0s - loss: 0.8387 - accuracy: 0.7033\n",
      "Epoch 00014: val_loss did not improve from 0.88214\n",
      "625/625 [==============================] - 34s 55ms/step - loss: 0.8387 - accuracy: 0.7033 - val_loss: 0.9184 - val_accuracy: 0.6824\n",
      "Epoch 15/70\n",
      "625/625 [==============================] - ETA: 0s - loss: 0.8268 - accuracy: 0.7073\n",
      "Epoch 00015: val_loss improved from 0.88214 to 0.87964, saving model to weights.best.hdf5\n",
      "625/625 [==============================] - 34s 55ms/step - loss: 0.8268 - accuracy: 0.7073 - val_loss: 0.8796 - val_accuracy: 0.6958\n",
      "Epoch 16/70\n",
      "625/625 [==============================] - ETA: 0s - loss: 0.8160 - accuracy: 0.7105\n",
      "Epoch 00016: val_loss improved from 0.87964 to 0.85902, saving model to weights.best.hdf5\n",
      "625/625 [==============================] - 35s 56ms/step - loss: 0.8160 - accuracy: 0.7105 - val_loss: 0.8590 - val_accuracy: 0.7060\n",
      "Epoch 17/70\n",
      "625/625 [==============================] - ETA: 0s - loss: 0.7949 - accuracy: 0.7171\n",
      "Epoch 00017: val_loss improved from 0.85902 to 0.82290, saving model to weights.best.hdf5\n",
      "625/625 [==============================] - 34s 55ms/step - loss: 0.7949 - accuracy: 0.7171 - val_loss: 0.8229 - val_accuracy: 0.7121\n",
      "Epoch 18/70\n",
      "625/625 [==============================] - ETA: 0s - loss: 0.7857 - accuracy: 0.7200\n",
      "Epoch 00018: val_loss did not improve from 0.82290\n",
      "625/625 [==============================] - 35s 56ms/step - loss: 0.7857 - accuracy: 0.7200 - val_loss: 0.8549 - val_accuracy: 0.7055\n",
      "Epoch 19/70\n",
      "624/625 [============================>.] - ETA: 0s - loss: 0.7701 - accuracy: 0.7251\n",
      "Epoch 00019: val_loss did not improve from 0.82290\n",
      "625/625 [==============================] - 35s 55ms/step - loss: 0.7699 - accuracy: 0.7252 - val_loss: 0.8471 - val_accuracy: 0.7044\n",
      "Epoch 20/70\n",
      "625/625 [==============================] - ETA: 0s - loss: 0.7649 - accuracy: 0.7290\n",
      "Epoch 00020: val_loss did not improve from 0.82290\n",
      "625/625 [==============================] - 35s 55ms/step - loss: 0.7649 - accuracy: 0.7290 - val_loss: 0.8240 - val_accuracy: 0.7174\n",
      "Epoch 21/70\n",
      "624/625 [============================>.] - ETA: 0s - loss: 0.7442 - accuracy: 0.7369\n",
      "Epoch 00021: val_loss did not improve from 0.82290\n",
      "625/625 [==============================] - 34s 55ms/step - loss: 0.7440 - accuracy: 0.7369 - val_loss: 0.8265 - val_accuracy: 0.7141\n",
      "Epoch 22/70\n",
      "625/625 [==============================] - ETA: 0s - loss: 0.7370 - accuracy: 0.7388\n",
      "Epoch 00022: val_loss did not improve from 0.82290\n",
      "\n",
      "Epoch 00022: ReduceLROnPlateau reducing learning rate to 0.0007500000356230885.\n",
      "625/625 [==============================] - 34s 55ms/step - loss: 0.7370 - accuracy: 0.7388 - val_loss: 0.8334 - val_accuracy: 0.7114\n",
      "Epoch 23/70\n",
      "624/625 [============================>.] - ETA: 0s - loss: 0.7001 - accuracy: 0.7503\n",
      "Epoch 00023: val_loss improved from 0.82290 to 0.81436, saving model to weights.best.hdf5\n",
      "625/625 [==============================] - 35s 55ms/step - loss: 0.7001 - accuracy: 0.7501 - val_loss: 0.8144 - val_accuracy: 0.7181\n",
      "Epoch 24/70\n",
      "625/625 [==============================] - ETA: 0s - loss: 0.6864 - accuracy: 0.7554\n",
      "Epoch 00024: val_loss improved from 0.81436 to 0.79164, saving model to weights.best.hdf5\n",
      "625/625 [==============================] - 34s 55ms/step - loss: 0.6864 - accuracy: 0.7554 - val_loss: 0.7916 - val_accuracy: 0.7276\n",
      "Epoch 25/70\n",
      "625/625 [==============================] - ETA: 0s - loss: 0.6763 - accuracy: 0.7580\n",
      "Epoch 00025: val_loss did not improve from 0.79164\n",
      "625/625 [==============================] - 34s 55ms/step - loss: 0.6763 - accuracy: 0.7580 - val_loss: 0.8099 - val_accuracy: 0.7234\n",
      "Epoch 26/70\n",
      "624/625 [============================>.] - ETA: 0s - loss: 0.6650 - accuracy: 0.7631\n",
      "Epoch 00026: val_loss did not improve from 0.79164\n",
      "625/625 [==============================] - 35s 55ms/step - loss: 0.6648 - accuracy: 0.7631 - val_loss: 0.7926 - val_accuracy: 0.7312\n",
      "Epoch 27/70\n",
      "625/625 [==============================] - ETA: 0s - loss: 0.6577 - accuracy: 0.7656\n",
      "Epoch 00027: val_loss improved from 0.79164 to 0.78913, saving model to weights.best.hdf5\n",
      "625/625 [==============================] - 34s 55ms/step - loss: 0.6577 - accuracy: 0.7656 - val_loss: 0.7891 - val_accuracy: 0.7262\n",
      "Epoch 28/70\n",
      "625/625 [==============================] - ETA: 0s - loss: 0.6494 - accuracy: 0.7682\n",
      "Epoch 00028: val_loss did not improve from 0.78913\n",
      "625/625 [==============================] - 35s 56ms/step - loss: 0.6494 - accuracy: 0.7682 - val_loss: 0.8093 - val_accuracy: 0.7211\n",
      "Epoch 29/70\n",
      "624/625 [============================>.] - ETA: 0s - loss: 0.6406 - accuracy: 0.7717\n",
      "Epoch 00029: val_loss improved from 0.78913 to 0.75670, saving model to weights.best.hdf5\n",
      "625/625 [==============================] - 34s 55ms/step - loss: 0.6405 - accuracy: 0.7717 - val_loss: 0.7567 - val_accuracy: 0.7398\n",
      "Epoch 30/70\n",
      "625/625 [==============================] - ETA: 0s - loss: 0.6305 - accuracy: 0.7766\n",
      "Epoch 00030: val_loss did not improve from 0.75670\n",
      "625/625 [==============================] - 34s 55ms/step - loss: 0.6305 - accuracy: 0.7766 - val_loss: 0.7940 - val_accuracy: 0.7270\n",
      "Epoch 31/70\n",
      "625/625 [==============================] - ETA: 0s - loss: 0.6223 - accuracy: 0.7785\n",
      "Epoch 00031: val_loss did not improve from 0.75670\n",
      "625/625 [==============================] - 35s 56ms/step - loss: 0.6223 - accuracy: 0.7785 - val_loss: 0.7850 - val_accuracy: 0.7330\n",
      "Epoch 32/70\n",
      "625/625 [==============================] - ETA: 0s - loss: 0.6211 - accuracy: 0.7778\n",
      "Epoch 00032: val_loss did not improve from 0.75670\n",
      "625/625 [==============================] - 34s 55ms/step - loss: 0.6211 - accuracy: 0.7778 - val_loss: 0.7967 - val_accuracy: 0.7265\n",
      "Epoch 33/70\n",
      "624/625 [============================>.] - ETA: 0s - loss: 0.6175 - accuracy: 0.7783\n",
      "Epoch 00033: val_loss did not improve from 0.75670\n",
      "625/625 [==============================] - 35s 56ms/step - loss: 0.6175 - accuracy: 0.7783 - val_loss: 0.7789 - val_accuracy: 0.7304\n",
      "Epoch 34/70\n",
      "625/625 [==============================] - ETA: 0s - loss: 0.6055 - accuracy: 0.7854\n",
      "Epoch 00034: val_loss did not improve from 0.75670\n",
      "\n",
      "Epoch 00034: ReduceLROnPlateau reducing learning rate to 0.0005625000048894435.\n",
      "625/625 [==============================] - 34s 55ms/step - loss: 0.6055 - accuracy: 0.7854 - val_loss: 0.7644 - val_accuracy: 0.7400\n",
      "Epoch 35/70\n",
      "625/625 [==============================] - ETA: 0s - loss: 0.5837 - accuracy: 0.7928\n",
      "Epoch 00035: val_loss did not improve from 0.75670\n",
      "625/625 [==============================] - 35s 55ms/step - loss: 0.5837 - accuracy: 0.7928 - val_loss: 0.7647 - val_accuracy: 0.7411\n",
      "Epoch 36/70\n",
      "625/625 [==============================] - ETA: 0s - loss: 0.5792 - accuracy: 0.7920\n",
      "Epoch 00036: val_loss improved from 0.75670 to 0.74500, saving model to weights.best.hdf5\n",
      "625/625 [==============================] - 35s 55ms/step - loss: 0.5792 - accuracy: 0.7920 - val_loss: 0.7450 - val_accuracy: 0.7490\n",
      "Epoch 37/70\n",
      "625/625 [==============================] - ETA: 0s - loss: 0.5649 - accuracy: 0.7983\n",
      "Epoch 00037: val_loss improved from 0.74500 to 0.74263, saving model to weights.best.hdf5\n",
      "625/625 [==============================] - 34s 55ms/step - loss: 0.5649 - accuracy: 0.7983 - val_loss: 0.7426 - val_accuracy: 0.7492\n",
      "Epoch 38/70\n",
      "624/625 [============================>.] - ETA: 0s - loss: 0.5532 - accuracy: 0.8030\n",
      "Epoch 00038: val_loss improved from 0.74263 to 0.73332, saving model to weights.best.hdf5\n",
      "625/625 [==============================] - 35s 56ms/step - loss: 0.5532 - accuracy: 0.8030 - val_loss: 0.7333 - val_accuracy: 0.7519\n",
      "Epoch 39/70\n",
      "625/625 [==============================] - ETA: 0s - loss: 0.5546 - accuracy: 0.8024\n",
      "Epoch 00039: val_loss did not improve from 0.73332\n",
      "625/625 [==============================] - 34s 55ms/step - loss: 0.5546 - accuracy: 0.8024 - val_loss: 0.7626 - val_accuracy: 0.7442\n",
      "Epoch 40/70\n",
      "625/625 [==============================] - ETA: 0s - loss: 0.5524 - accuracy: 0.8033\n",
      "Epoch 00040: val_loss did not improve from 0.73332\n",
      "625/625 [==============================] - 35s 55ms/step - loss: 0.5524 - accuracy: 0.8033 - val_loss: 0.7394 - val_accuracy: 0.7503\n",
      "Epoch 41/70\n",
      "624/625 [============================>.] - ETA: 0s - loss: 0.5387 - accuracy: 0.8069\n",
      "Epoch 00041: val_loss did not improve from 0.73332\n",
      "625/625 [==============================] - 34s 55ms/step - loss: 0.5386 - accuracy: 0.8068 - val_loss: 0.7431 - val_accuracy: 0.7517\n",
      "Epoch 42/70\n",
      "625/625 [==============================] - ETA: 0s - loss: 0.5386 - accuracy: 0.8064\n",
      "Epoch 00042: val_loss did not improve from 0.73332\n",
      "625/625 [==============================] - 34s 55ms/step - loss: 0.5386 - accuracy: 0.8064 - val_loss: 0.7801 - val_accuracy: 0.7425\n",
      "Epoch 43/70\n",
      "625/625 [==============================] - ETA: 0s - loss: 0.5368 - accuracy: 0.8092\n",
      "Epoch 00043: val_loss did not improve from 0.73332\n",
      "\n",
      "Epoch 00043: ReduceLROnPlateau reducing learning rate to 0.0004218749818392098.\n",
      "625/625 [==============================] - 35s 56ms/step - loss: 0.5368 - accuracy: 0.8092 - val_loss: 0.7791 - val_accuracy: 0.7425\n",
      "Epoch 44/70\n",
      "625/625 [==============================] - ETA: 0s - loss: 0.5183 - accuracy: 0.8138\n",
      "Epoch 00044: val_loss improved from 0.73332 to 0.72174, saving model to weights.best.hdf5\n",
      "625/625 [==============================] - 34s 55ms/step - loss: 0.5183 - accuracy: 0.8138 - val_loss: 0.7217 - val_accuracy: 0.7600\n",
      "Epoch 45/70\n",
      "624/625 [============================>.] - ETA: 0s - loss: 0.4942 - accuracy: 0.8217\n",
      "Epoch 00045: val_loss did not improve from 0.72174\n",
      "625/625 [==============================] - 35s 55ms/step - loss: 0.4941 - accuracy: 0.8216 - val_loss: 0.7336 - val_accuracy: 0.7561\n",
      "Epoch 46/70\n",
      "624/625 [============================>.] - ETA: 0s - loss: 0.4998 - accuracy: 0.8205\n",
      "Epoch 00046: val_loss improved from 0.72174 to 0.71856, saving model to weights.best.hdf5\n",
      "625/625 [==============================] - 35s 56ms/step - loss: 0.5001 - accuracy: 0.8205 - val_loss: 0.7186 - val_accuracy: 0.7620\n",
      "Epoch 47/70\n",
      "624/625 [============================>.] - ETA: 0s - loss: 0.4935 - accuracy: 0.8229\n",
      "Epoch 00047: val_loss did not improve from 0.71856\n",
      "625/625 [==============================] - 34s 55ms/step - loss: 0.4935 - accuracy: 0.8229 - val_loss: 0.7325 - val_accuracy: 0.7560\n",
      "Epoch 48/70\n",
      "624/625 [============================>.] - ETA: 0s - loss: 0.4921 - accuracy: 0.8226\n",
      "Epoch 00048: val_loss did not improve from 0.71856\n",
      "625/625 [==============================] - 35s 56ms/step - loss: 0.4922 - accuracy: 0.8226 - val_loss: 0.7197 - val_accuracy: 0.7600\n",
      "Epoch 49/70\n",
      "625/625 [==============================] - ETA: 0s - loss: 0.4824 - accuracy: 0.8262\n",
      "Epoch 00049: val_loss did not improve from 0.71856\n",
      "625/625 [==============================] - 34s 55ms/step - loss: 0.4824 - accuracy: 0.8262 - val_loss: 0.7387 - val_accuracy: 0.7588\n",
      "Epoch 50/70\n",
      "625/625 [==============================] - ETA: 0s - loss: 0.4788 - accuracy: 0.8275\n",
      "Epoch 00050: val_loss did not improve from 0.71856\n",
      "625/625 [==============================] - 35s 55ms/step - loss: 0.4788 - accuracy: 0.8275 - val_loss: 0.7453 - val_accuracy: 0.7571\n",
      "Epoch 51/70\n",
      "625/625 [==============================] - ETA: 0s - loss: 0.4763 - accuracy: 0.8300\n",
      "Epoch 00051: val_loss did not improve from 0.71856\n",
      "\n",
      "Epoch 00051: ReduceLROnPlateau reducing learning rate to 0.00031640623637940735.\n",
      "625/625 [==============================] - 35s 55ms/step - loss: 0.4763 - accuracy: 0.8300 - val_loss: 0.7263 - val_accuracy: 0.7621\n",
      "Epoch 52/70\n",
      "624/625 [============================>.] - ETA: 0s - loss: 0.4619 - accuracy: 0.8343\n",
      "Epoch 00052: val_loss did not improve from 0.71856\n",
      "625/625 [==============================] - 35s 55ms/step - loss: 0.4619 - accuracy: 0.8343 - val_loss: 0.7215 - val_accuracy: 0.7612\n",
      "Epoch 53/70\n",
      "625/625 [==============================] - ETA: 0s - loss: 0.4504 - accuracy: 0.8363\n",
      "Epoch 00053: val_loss did not improve from 0.71856\n",
      "625/625 [==============================] - 35s 56ms/step - loss: 0.4504 - accuracy: 0.8363 - val_loss: 0.7275 - val_accuracy: 0.7625\n",
      "Epoch 54/70\n",
      "625/625 [==============================] - ETA: 0s - loss: 0.4543 - accuracy: 0.8359\n",
      "Epoch 00054: val_loss improved from 0.71856 to 0.71650, saving model to weights.best.hdf5\n",
      "625/625 [==============================] - 34s 55ms/step - loss: 0.4543 - accuracy: 0.8359 - val_loss: 0.7165 - val_accuracy: 0.7610\n",
      "Epoch 55/70\n",
      "625/625 [==============================] - ETA: 0s - loss: 0.4472 - accuracy: 0.8389\n",
      "Epoch 00055: val_loss did not improve from 0.71650\n",
      "625/625 [==============================] - 35s 55ms/step - loss: 0.4472 - accuracy: 0.8389 - val_loss: 0.7241 - val_accuracy: 0.7630\n",
      "Epoch 56/70\n",
      "625/625 [==============================] - ETA: 0s - loss: 0.4493 - accuracy: 0.8384\n",
      "Epoch 00056: val_loss improved from 0.71650 to 0.71620, saving model to weights.best.hdf5\n",
      "625/625 [==============================] - 34s 55ms/step - loss: 0.4493 - accuracy: 0.8384 - val_loss: 0.7162 - val_accuracy: 0.7682\n",
      "Epoch 57/70\n",
      "624/625 [============================>.] - ETA: 0s - loss: 0.4424 - accuracy: 0.8410\n",
      "Epoch 00057: val_loss did not improve from 0.71620\n",
      "625/625 [==============================] - 34s 55ms/step - loss: 0.4425 - accuracy: 0.8410 - val_loss: 0.7163 - val_accuracy: 0.7652\n",
      "Epoch 58/70\n",
      "625/625 [==============================] - ETA: 0s - loss: 0.4402 - accuracy: 0.8403\n",
      "Epoch 00058: val_loss improved from 0.71620 to 0.70987, saving model to weights.best.hdf5\n",
      "625/625 [==============================] - 35s 56ms/step - loss: 0.4402 - accuracy: 0.8403 - val_loss: 0.7099 - val_accuracy: 0.7700\n",
      "Epoch 59/70\n",
      "625/625 [==============================] - ETA: 0s - loss: 0.4365 - accuracy: 0.8438\n",
      "Epoch 00059: val_loss did not improve from 0.70987\n",
      "625/625 [==============================] - 34s 55ms/step - loss: 0.4365 - accuracy: 0.8438 - val_loss: 0.7168 - val_accuracy: 0.7639\n",
      "Epoch 60/70\n",
      "624/625 [============================>.] - ETA: 0s - loss: 0.4335 - accuracy: 0.8437\n",
      "Epoch 00060: val_loss did not improve from 0.70987\n",
      "625/625 [==============================] - 35s 55ms/step - loss: 0.4333 - accuracy: 0.8438 - val_loss: 0.7166 - val_accuracy: 0.7662\n",
      "Epoch 61/70\n",
      "625/625 [==============================] - ETA: 0s - loss: 0.4331 - accuracy: 0.8442\n",
      "Epoch 00061: val_loss did not improve from 0.70987\n",
      "625/625 [==============================] - 34s 55ms/step - loss: 0.4331 - accuracy: 0.8442 - val_loss: 0.7164 - val_accuracy: 0.7683\n",
      "Epoch 62/70\n",
      "625/625 [==============================] - ETA: 0s - loss: 0.4282 - accuracy: 0.8451\n",
      "Epoch 00062: val_loss did not improve from 0.70987\n",
      "625/625 [==============================] - 34s 55ms/step - loss: 0.4282 - accuracy: 0.8451 - val_loss: 0.7231 - val_accuracy: 0.7658\n",
      "Epoch 63/70\n",
      "624/625 [============================>.] - ETA: 0s - loss: 0.4191 - accuracy: 0.8483\n",
      "Epoch 00063: val_loss did not improve from 0.70987\n",
      "\n",
      "Epoch 00063: ReduceLROnPlateau reducing learning rate to 0.00023730468819849193.\n",
      "625/625 [==============================] - 35s 56ms/step - loss: 0.4190 - accuracy: 0.8483 - val_loss: 0.7261 - val_accuracy: 0.7654\n",
      "Epoch 64/70\n",
      "625/625 [==============================] - ETA: 0s - loss: 0.4160 - accuracy: 0.8513\n",
      "Epoch 00064: val_loss did not improve from 0.70987\n",
      "625/625 [==============================] - 34s 55ms/step - loss: 0.4160 - accuracy: 0.8513 - val_loss: 0.7308 - val_accuracy: 0.7674\n",
      "Epoch 65/70\n",
      "624/625 [============================>.] - ETA: 0s - loss: 0.4148 - accuracy: 0.8501\n",
      "Epoch 00065: val_loss did not improve from 0.70987\n",
      "625/625 [==============================] - 35s 56ms/step - loss: 0.4145 - accuracy: 0.8502 - val_loss: 0.7277 - val_accuracy: 0.7685\n",
      "Epoch 66/70\n",
      "625/625 [==============================] - ETA: 0s - loss: 0.4108 - accuracy: 0.8522\n",
      "Epoch 00066: val_loss did not improve from 0.70987\n",
      "625/625 [==============================] - 35s 56ms/step - loss: 0.4108 - accuracy: 0.8522 - val_loss: 0.7171 - val_accuracy: 0.7712\n",
      "Epoch 67/70\n",
      "624/625 [============================>.] - ETA: 0s - loss: 0.4035 - accuracy: 0.8558\n",
      "Epoch 00067: val_loss did not improve from 0.70987\n",
      "625/625 [==============================] - 34s 55ms/step - loss: 0.4033 - accuracy: 0.8559 - val_loss: 0.7244 - val_accuracy: 0.7696\n",
      "Epoch 68/70\n",
      "624/625 [============================>.] - ETA: 0s - loss: 0.4046 - accuracy: 0.8534\n",
      "Epoch 00068: val_loss did not improve from 0.70987\n",
      "\n",
      "Epoch 00068: ReduceLROnPlateau reducing learning rate to 0.00017797851614886895.\n",
      "625/625 [==============================] - 35s 56ms/step - loss: 0.4049 - accuracy: 0.8533 - val_loss: 0.7203 - val_accuracy: 0.7687\n",
      "Epoch 00068: early stopping\n"
     ]
    }
   ],
   "source": [
    "model.compile(optimizer=tf.keras.optimizers.Adam(),\n",
    "              loss=tf.keras.losses\\\n",
    "              .SparseCategoricalCrossentropy(),\n",
    "              metrics=['accuracy'])\n",
    "history=model.fit(cifar_train,epochs=70,shuffle=True, \n",
    "                  validation_data=cifar_valid,\n",
    "                  callbacks=cb(fw))"
   ]
  },
  {
   "cell_type": "code",
   "execution_count": 30,
   "metadata": {
    "execution": {
     "iopub.execute_input": "2020-09-05T19:25:49.088369Z",
     "iopub.status.busy": "2020-09-05T19:25:49.087301Z",
     "iopub.status.idle": "2020-09-05T19:25:49.484071Z",
     "shell.execute_reply": "2020-09-05T19:25:49.484668Z"
    },
    "papermill": {
     "duration": 2.351998,
     "end_time": "2020-09-05T19:25:49.484817",
     "exception": false,
     "start_time": "2020-09-05T19:25:47.132819",
     "status": "completed"
    },
    "tags": []
   },
   "outputs": [
    {
     "data": {
      "image/png": "[encoded data removed]",
      "text/plain": [
       "<Figure size 720x720 with 2 Axes>"
      ]
     },
     "metadata": {
      "needs_background": "light"
     },
     "output_type": "display_data"
    }
   ],
   "source": [
    "history_plot(history)"
   ]
  },
  {
   "cell_type": "code",
   "execution_count": 31,
   "metadata": {
    "execution": {
     "iopub.execute_input": "2020-09-05T19:25:53.015589Z",
     "iopub.status.busy": "2020-09-05T19:25:53.014473Z",
     "iopub.status.idle": "2020-09-05T19:26:13.987699Z",
     "shell.execute_reply": "2020-09-05T19:26:13.988201Z"
    },
    "papermill": {
     "duration": 22.684503,
     "end_time": "2020-09-05T19:26:13.988332",
     "exception": false,
     "start_time": "2020-09-05T19:25:51.303829",
     "status": "completed"
    },
    "tags": []
   },
   "outputs": [
    {
     "name": "stdout",
     "output_type": "stream",
     "text": [
      "1/1 [==============================] - 0s 2ms/step - loss: 0.7427 - accuracy: 0.7595\n",
      "\n",
      "test accuracy: 75.95%\n"
     ]
    }
   ],
   "source": [
    "model.load_weights(fw)\n",
    "test_results=model.evaluate(cifar_test.batch(buffer_size))\n",
    "print('\\ntest accuracy: {:.2f}%'.format(test_results[1]*100))"
   ]
  },
  {
   "cell_type": "code",
   "execution_count": 32,
   "metadata": {
    "_kg_hide-output": true,
    "execution": {
     "iopub.execute_input": "2020-09-05T19:26:17.406878Z",
     "iopub.status.busy": "2020-09-05T19:26:17.406121Z",
     "iopub.status.idle": "2020-09-05T19:26:25.357881Z",
     "shell.execute_reply": "2020-09-05T19:26:25.358355Z"
    },
    "papermill": {
     "duration": 9.666363,
     "end_time": "2020-09-05T19:26:25.358514",
     "exception": false,
     "start_time": "2020-09-05T19:26:15.692151",
     "status": "completed"
    },
    "tags": []
   },
   "outputs": [
    {
     "data": {
      "text/html": [
       "<style>\n",
       "    @import 'https://fonts.googleapis.com/css?family=Orbitron&effect=3d-float';</style>\n",
       "    <h1 class='font-effect-3d-float' \n",
       "    style='font-family:Orbitron; color:#6611ff; font-size:10px;'>\n",
       "    Classification Report</h1>"
      ],
      "text/plain": [
       "<IPython.core.display.HTML object>"
      ]
     },
     "metadata": {},
     "output_type": "display_data"
    },
    {
     "name": "stdout",
     "output_type": "stream",
     "text": [
      "              precision    recall  f1-score   support\n",
      "\n",
      "           0       0.73      0.81      0.77      1000\n",
      "           1       0.87      0.84      0.86      1000\n",
      "           2       0.71      0.67      0.69      1000\n",
      "           3       0.62      0.56      0.59      1000\n",
      "           4       0.68      0.76      0.72      1000\n",
      "           5       0.71      0.66      0.69      1000\n",
      "           6       0.79      0.81      0.80      1000\n",
      "           7       0.81      0.79      0.80      1000\n",
      "           8       0.87      0.85      0.86      1000\n",
      "           9       0.79      0.83      0.81      1000\n",
      "\n",
      "    accuracy                           0.76     10000\n",
      "   macro avg       0.76      0.76      0.76     10000\n",
      "weighted avg       0.76      0.76      0.76     10000\n",
      "\n"
     ]
    },
    {
     "data": {
      "text/html": [
       "<style>\n",
       "    @import 'https://fonts.googleapis.com/css?family=Orbitron&effect=3d-float';</style>\n",
       "    <h1 class='font-effect-3d-float' \n",
       "    style='font-family:Orbitron; color:#6611ff; font-size:10px;'>\n",
       "    Confusion matrix</h1>"
      ],
      "text/plain": [
       "<IPython.core.display.HTML object>"
      ]
     },
     "metadata": {},
     "output_type": "display_data"
    },
    {
     "name": "stdout",
     "output_type": "stream",
     "text": [
      "[[813  13  41  15  16   2  10  15  47  28]\n",
      " [ 22 844   4   7   2   3   5   1  14  98]\n",
      " [ 64   2 669  48  85  45  52  24   7   4]\n",
      " [ 40   6  63 560  63 137  57  34  16  24]\n",
      " [ 21   2  46  43 760  23  46  50   7   2]\n",
      " [ 15   2  32 137  56 664  24  41  10  19]\n",
      " [  9   6  49  43  53  18 807   5   5   5]\n",
      " [ 23   3  25  28  71  33   8 793   1  15]\n",
      " [ 64  18   8  12   8   2   8   4 855  21]\n",
      " [ 43  72   3  13   5   2   2  12  18 830]]\n"
     ]
    }
   ],
   "source": [
    "batch=next(iter(cifar_test.batch(buffer_size)))\n",
    "y_test=batch[1].numpy()\n",
    "py_test=np.argmax(\n",
    "    model.predict(cifar_test.batch(buffer_size)),\n",
    "                  axis=-1)\n",
    "dhtml('Classification Report',c2,f2,fs2)\n",
    "print(classification_report(y_test,py_test))\n",
    "dhtml('Confusion matrix',c2,f2,fs2)\n",
    "print(confusion_matrix(y_test,py_test))"
   ]
  },
  {
   "cell_type": "code",
   "execution_count": 33,
   "metadata": {
    "_kg_hide-input": true,
    "execution": {
     "iopub.execute_input": "2020-09-05T19:26:29.385287Z",
     "iopub.status.busy": "2020-09-05T19:26:29.384298Z",
     "iopub.status.idle": "2020-09-05T19:26:29.394529Z",
     "shell.execute_reply": "2020-09-05T19:26:29.391931Z"
    },
    "papermill": {
     "duration": 2.33551,
     "end_time": "2020-09-05T19:26:29.394657",
     "exception": false,
     "start_time": "2020-09-05T19:26:27.059147",
     "status": "completed"
    },
    "tags": []
   },
   "outputs": [
    {
     "data": {
      "text/html": [
       "<style>\n",
       "    @import 'https://fonts.googleapis.com/css?family=Wallpoet&effect=3d-float';</style>\n",
       "    <h1 class='font-effect-3d-float' \n",
       "    style='font-family:Wallpoet; color:#11ff66; font-size:20px;'>\n",
       "    In Progress</h1>"
      ],
      "text/plain": [
       "<IPython.core.display.HTML object>"
      ]
     },
     "metadata": {},
     "output_type": "display_data"
    }
   ],
   "source": [
    "dhtml('In Progress')"
   ]
  }
 ],
 "metadata": {
  "kernelspec": {
   "display_name": "Python 3",
   "language": "python",
   "name": "python3"
  },
  "language_info": {
   "codemirror_mode": {
    "name": "ipython",
    "version": 3
   },
   "file_extension": ".py",
   "mimetype": "text/x-python",
   "name": "python",
   "nbconvert_exporter": "python",
   "pygments_lexer": "ipython3",
   "version": "3.7.6"
  },
  "papermill": {
   "duration": 2880.950104,
   "end_time": "2020-09-05T19:26:32.797764",
   "environment_variables": {},
   "exception": null,
   "input_path": "__notebook__.ipynb",
   "output_path": "__notebook__.ipynb",
   "parameters": {},
   "start_time": "2020-09-05T18:38:31.847660",
   "version": "2.1.0"
  },
  "widgets": {
   "application/vnd.jupyter.widget-state+json": {
    "state": {
     "04332412f47f47a2a29a184959fc9e89": {
      "model_module": "@jupyter-widgets/controls",
      "model_module_version": "1.5.0",
      "model_name": "DescriptionStyleModel",
      "state": {
       "_model_module": "@jupyter-widgets/controls",
       "_model_module_version": "1.5.0",
       "_model_name": "DescriptionStyleModel",
       "_view_count": null,
       "_view_module": "@jupyter-widgets/base",
       "_view_module_version": "1.2.0",
       "_view_name": "StyleView",
       "description_width": ""
      }
     },
     "04be31fa84904d80a8503c9c0b1f3fd0": {
      "model_module": "@jupyter-widgets/controls",
      "model_module_version": "1.5.0",
      "model_name": "DescriptionStyleModel",
      "state": {
       "_model_module": "@jupyter-widgets/controls",
       "_model_module_version": "1.5.0",
       "_model_name": "DescriptionStyleModel",
       "_view_count": null,
       "_view_module": "@jupyter-widgets/base",
       "_view_module_version": "1.2.0",
       "_view_name": "StyleView",
       "description_width": ""
      }
     },
     "0acaf44051ec41b48ff162872fc929e1": {
      "model_module": "@jupyter-widgets/controls",
      "model_module_version": "1.5.0",
      "model_name": "HTMLModel",
      "state": {
       "_dom_classes": [],
       "_model_module": "@jupyter-widgets/controls",
       "_model_module_version": "1.5.0",
       "_model_name": "HTMLModel",
       "_view_count": null,
       "_view_module": "@jupyter-widgets/controls",
       "_view_module_version": "1.5.0",
       "_view_name": "HTMLView",
       "description": "",
       "description_tooltip": null,
       "layout": "IPY_MODEL_e3f953f2661f49f39faca3f7b2644cfd",
       "placeholder": "​",
       "style": "IPY_MODEL_04be31fa84904d80a8503c9c0b1f3fd0",
       "value": " 162/162 [00:06&lt;00:00, 25.80 MiB/s]"
      }
     },
     "0f7f4cd6d4f546ea8aed4be86e253536": {
      "model_module": "@jupyter-widgets/base",
      "model_module_version": "1.2.0",
      "model_name": "LayoutModel",
      "state": {
       "_model_module": "@jupyter-widgets/base",
       "_model_module_version": "1.2.0",
       "_model_name": "LayoutModel",
       "_view_count": null,
       "_view_module": "@jupyter-widgets/base",
       "_view_module_version": "1.2.0",
       "_view_name": "LayoutView",
       "align_content": null,
       "align_items": null,
       "align_self": null,
       "border": null,
       "bottom": null,
       "display": null,
       "flex": null,
       "flex_flow": null,
       "grid_area": null,
       "grid_auto_columns": null,
       "grid_auto_flow": null,
       "grid_auto_rows": null,
       "grid_column": null,
       "grid_gap": null,
       "grid_row": null,
       "grid_template_areas": null,
       "grid_template_columns": null,
       "grid_template_rows": null,
       "height": null,
       "justify_content": null,
       "justify_items": null,
       "left": null,
       "margin": null,
       "max_height": null,
       "max_width": null,
       "min_height": null,
       "min_width": null,
       "object_fit": null,
       "object_position": null,
       "order": null,
       "overflow": null,
       "overflow_x": null,
       "overflow_y": null,
       "padding": null,
       "right": null,
       "top": null,
       "visibility": null,
       "width": null
      }
     },
     "1a1dc7b2211348cb8fb64649b7dd8adf": {
      "model_module": "@jupyter-widgets/controls",
      "model_module_version": "1.5.0",
      "model_name": "FloatProgressModel",
      "state": {
       "_dom_classes": [],
       "_model_module": "@jupyter-widgets/controls",
       "_model_module_version": "1.5.0",
       "_model_name": "FloatProgressModel",
       "_view_count": null,
       "_view_module": "@jupyter-widgets/controls",
       "_view_module_version": "1.5.0",
       "_view_name": "ProgressView",
       "bar_style": "info",
       "description": "",
       "description_tooltip": null,
       "layout": "IPY_MODEL_67c7e907c01f4005ab1d8da213c4e104",
       "max": 1.0,
       "min": 0.0,
       "orientation": "horizontal",
       "style": "IPY_MODEL_5204519ab8be4a9e8df6c8ee15d6c567",
       "value": 1.0
      }
     },
     "1e50d56238454de49f9cc2f05a5fa565": {
      "model_module": "@jupyter-widgets/base",
      "model_module_version": "1.2.0",
      "model_name": "LayoutModel",
      "state": {
       "_model_module": "@jupyter-widgets/base",
       "_model_module_version": "1.2.0",
       "_model_name": "LayoutModel",
       "_view_count": null,
       "_view_module": "@jupyter-widgets/base",
       "_view_module_version": "1.2.0",
       "_view_name": "LayoutView",
       "align_content": null,
       "align_items": null,
       "align_self": null,
       "border": null,
       "bottom": null,
       "display": null,
       "flex": null,
       "flex_flow": null,
       "grid_area": null,
       "grid_auto_columns": null,
       "grid_auto_flow": null,
       "grid_auto_rows": null,
       "grid_column": null,
       "grid_gap": null,
       "grid_row": null,
       "grid_template_areas": null,
       "grid_template_columns": null,
       "grid_template_rows": null,
       "height": null,
       "justify_content": null,
       "justify_items": null,
       "left": null,
       "margin": null,
       "max_height": null,
       "max_width": null,
       "min_height": null,
       "min_width": null,
       "object_fit": null,
       "object_position": null,
       "order": null,
       "overflow": null,
       "overflow_x": null,
       "overflow_y": null,
       "padding": null,
       "right": null,
       "top": null,
       "visibility": null,
       "width": null
      }
     },
     "1e6c1df63f0c4fd29f5ac3c9de424c05": {
      "model_module": "@jupyter-widgets/controls",
      "model_module_version": "1.5.0",
      "model_name": "FloatProgressModel",
      "state": {
       "_dom_classes": [],
       "_model_module": "@jupyter-widgets/controls",
       "_model_module_version": "1.5.0",
       "_model_name": "FloatProgressModel",
       "_view_count": null,
       "_view_module": "@jupyter-widgets/controls",
       "_view_module_version": "1.5.0",
       "_view_name": "ProgressView",
       "bar_style": "success",
       "description": "Dl Completed...: 100%",
       "description_tooltip": null,
       "layout": "IPY_MODEL_2482ff404acd4cf58be7ae45a9a0faea",
       "max": 4.0,
       "min": 0.0,
       "orientation": "horizontal",
       "style": "IPY_MODEL_e0c8fca03ba345828c2d2d5a7a6f1672",
       "value": 4.0
      }
     },
     "2482ff404acd4cf58be7ae45a9a0faea": {
      "model_module": "@jupyter-widgets/base",
      "model_module_version": "1.2.0",
      "model_name": "LayoutModel",
      "state": {
       "_model_module": "@jupyter-widgets/base",
       "_model_module_version": "1.2.0",
       "_model_name": "LayoutModel",
       "_view_count": null,
       "_view_module": "@jupyter-widgets/base",
       "_view_module_version": "1.2.0",
       "_view_name": "LayoutView",
       "align_content": null,
       "align_items": null,
       "align_self": null,
       "border": null,
       "bottom": null,
       "display": null,
       "flex": null,
       "flex_flow": null,
       "grid_area": null,
       "grid_auto_columns": null,
       "grid_auto_flow": null,
       "grid_auto_rows": null,
       "grid_column": null,
       "grid_gap": null,
       "grid_row": null,
       "grid_template_areas": null,
       "grid_template_columns": null,
       "grid_template_rows": null,
       "height": null,
       "justify_content": null,
       "justify_items": null,
       "left": null,
       "margin": null,
       "max_height": null,
       "max_width": null,
       "min_height": null,
       "min_width": null,
       "object_fit": null,
       "object_position": null,
       "order": null,
       "overflow": null,
       "overflow_x": null,
       "overflow_y": null,
       "padding": null,
       "right": null,
       "top": null,
       "visibility": null,
       "width": null
      }
     },
     "2839329309164313a4e273fc05f73d33": {
      "model_module": "@jupyter-widgets/controls",
      "model_module_version": "1.5.0",
      "model_name": "FloatProgressModel",
      "state": {
       "_dom_classes": [],
       "_model_module": "@jupyter-widgets/controls",
       "_model_module_version": "1.5.0",
       "_model_name": "FloatProgressModel",
       "_view_count": null,
       "_view_module": "@jupyter-widgets/controls",
       "_view_module_version": "1.5.0",
       "_view_name": "ProgressView",
       "bar_style": "success",
       "description": "Dl Size...: 100%",
       "description_tooltip": null,
       "layout": "IPY_MODEL_488cf818f9a842959148d84cc04a0532",
       "max": 1.0,
       "min": 0.0,
       "orientation": "horizontal",
       "style": "IPY_MODEL_b2e94d9c7af64516bbc0a6697523547d",
       "value": 1.0
      }
     },
     "2e03b86df4794b9bb14c34913a841405": {
      "model_module": "@jupyter-widgets/controls",
      "model_module_version": "1.5.0",
      "model_name": "ProgressStyleModel",
      "state": {
       "_model_module": "@jupyter-widgets/controls",
       "_model_module_version": "1.5.0",
       "_model_name": "ProgressStyleModel",
       "_view_count": null,
       "_view_module": "@jupyter-widgets/base",
       "_view_module_version": "1.2.0",
       "_view_name": "StyleView",
       "bar_color": null,
       "description_width": "initial"
      }
     },
     "346ae8c0ea784b03a9b59d1dbd3e6e0c": {
      "model_module": "@jupyter-widgets/controls",
      "model_module_version": "1.5.0",
      "model_name": "FloatProgressModel",
      "state": {
       "_dom_classes": [],
       "_model_module": "@jupyter-widgets/controls",
       "_model_module_version": "1.5.0",
       "_model_name": "FloatProgressModel",
       "_view_count": null,
       "_view_module": "@jupyter-widgets/controls",
       "_view_module_version": "1.5.0",
       "_view_name": "ProgressView",
       "bar_style": "success",
       "description": "Dl Completed...: 100%",
       "description_tooltip": null,
       "layout": "IPY_MODEL_a7a28d105c05432482d7a9de7eb0493c",
       "max": 1.0,
       "min": 0.0,
       "orientation": "horizontal",
       "style": "IPY_MODEL_2e03b86df4794b9bb14c34913a841405",
       "value": 1.0
      }
     },
     "3a939f806b2b46139ebc5a7e7b867bfe": {
      "model_module": "@jupyter-widgets/controls",
      "model_module_version": "1.5.0",
      "model_name": "FloatProgressModel",
      "state": {
       "_dom_classes": [],
       "_model_module": "@jupyter-widgets/controls",
       "_model_module_version": "1.5.0",
       "_model_name": "FloatProgressModel",
       "_view_count": null,
       "_view_module": "@jupyter-widgets/controls",
       "_view_module_version": "1.5.0",
       "_view_name": "ProgressView",
       "bar_style": "success",
       "description": "Extraction completed...: 100%",
       "description_tooltip": null,
       "layout": "IPY_MODEL_0f7f4cd6d4f546ea8aed4be86e253536",
       "max": 1.0,
       "min": 0.0,
       "orientation": "horizontal",
       "style": "IPY_MODEL_5e74af0f7463480f845ecef6459a76b1",
       "value": 1.0
      }
     },
     "3dfd75b10c5941f38f478884b0d9fce3": {
      "model_module": "@jupyter-widgets/controls",
      "model_module_version": "1.5.0",
      "model_name": "HTMLModel",
      "state": {
       "_dom_classes": [],
       "_model_module": "@jupyter-widgets/controls",
       "_model_module_version": "1.5.0",
       "_model_name": "HTMLModel",
       "_view_count": null,
       "_view_module": "@jupyter-widgets/controls",
       "_view_module_version": "1.5.0",
       "_view_name": "HTMLView",
       "description": "",
       "description_tooltip": null,
       "layout": "IPY_MODEL_f420edb1d8604fadb44a0086f0bcb685",
       "placeholder": "​",
       "style": "IPY_MODEL_ed97966895574908a467229d5bc02d15",
       "value": " 1/1 [00:06&lt;00:00,  6.24s/ file]"
      }
     },
     "3f610c3a61554714a3110fb04dc2a236": {
      "model_module": "@jupyter-widgets/controls",
      "model_module_version": "1.5.0",
      "model_name": "HBoxModel",
      "state": {
       "_dom_classes": [],
       "_model_module": "@jupyter-widgets/controls",
       "_model_module_version": "1.5.0",
       "_model_name": "HBoxModel",
       "_view_count": null,
       "_view_module": "@jupyter-widgets/controls",
       "_view_module_version": "1.5.0",
       "_view_name": "HBoxView",
       "box_style": "",
       "children": [
        "IPY_MODEL_bf768a68c0954e6b8a0326dc8a103570",
        "IPY_MODEL_a22d4f00b3344aeab1642cd2889cafc3"
       ],
       "layout": "IPY_MODEL_de2339f335f14074bd924ac131f58120"
      }
     },
     "4059bc5bbfbc4711bf87dc3024770481": {
      "model_module": "@jupyter-widgets/controls",
      "model_module_version": "1.5.0",
      "model_name": "HBoxModel",
      "state": {
       "_dom_classes": [],
       "_model_module": "@jupyter-widgets/controls",
       "_model_module_version": "1.5.0",
       "_model_name": "HBoxModel",
       "_view_count": null,
       "_view_module": "@jupyter-widgets/controls",
       "_view_module_version": "1.5.0",
       "_view_name": "HBoxView",
       "box_style": "",
       "children": [
        "IPY_MODEL_3a939f806b2b46139ebc5a7e7b867bfe",
        "IPY_MODEL_3dfd75b10c5941f38f478884b0d9fce3"
       ],
       "layout": "IPY_MODEL_7a3b364e28064603b2112de918025777"
      }
     },
     "40e326425e28418f89ac82a90d7a01e6": {
      "model_module": "@jupyter-widgets/base",
      "model_module_version": "1.2.0",
      "model_name": "LayoutModel",
      "state": {
       "_model_module": "@jupyter-widgets/base",
       "_model_module_version": "1.2.0",
       "_model_name": "LayoutModel",
       "_view_count": null,
       "_view_module": "@jupyter-widgets/base",
       "_view_module_version": "1.2.0",
       "_view_name": "LayoutView",
       "align_content": null,
       "align_items": null,
       "align_self": null,
       "border": null,
       "bottom": null,
       "display": null,
       "flex": null,
       "flex_flow": null,
       "grid_area": null,
       "grid_auto_columns": null,
       "grid_auto_flow": null,
       "grid_auto_rows": null,
       "grid_column": null,
       "grid_gap": null,
       "grid_row": null,
       "grid_template_areas": null,
       "grid_template_columns": null,
       "grid_template_rows": null,
       "height": null,
       "justify_content": null,
       "justify_items": null,
       "left": null,
       "margin": null,
       "max_height": null,
       "max_width": null,
       "min_height": null,
       "min_width": null,
       "object_fit": null,
       "object_position": null,
       "order": null,
       "overflow": null,
       "overflow_x": null,
       "overflow_y": null,
       "padding": null,
       "right": null,
       "top": null,
       "visibility": null,
       "width": null
      }
     },
     "474bff197db640c5b23e189a3c434a87": {
      "model_module": "@jupyter-widgets/controls",
      "model_module_version": "1.5.0",
      "model_name": "DescriptionStyleModel",
      "state": {
       "_model_module": "@jupyter-widgets/controls",
       "_model_module_version": "1.5.0",
       "_model_name": "DescriptionStyleModel",
       "_view_count": null,
       "_view_module": "@jupyter-widgets/base",
       "_view_module_version": "1.2.0",
       "_view_name": "StyleView",
       "description_width": ""
      }
     },
     "488cf818f9a842959148d84cc04a0532": {
      "model_module": "@jupyter-widgets/base",
      "model_module_version": "1.2.0",
      "model_name": "LayoutModel",
      "state": {
       "_model_module": "@jupyter-widgets/base",
       "_model_module_version": "1.2.0",
       "_model_name": "LayoutModel",
       "_view_count": null,
       "_view_module": "@jupyter-widgets/base",
       "_view_module_version": "1.2.0",
       "_view_name": "LayoutView",
       "align_content": null,
       "align_items": null,
       "align_self": null,
       "border": null,
       "bottom": null,
       "display": null,
       "flex": null,
       "flex_flow": null,
       "grid_area": null,
       "grid_auto_columns": null,
       "grid_auto_flow": null,
       "grid_auto_rows": null,
       "grid_column": null,
       "grid_gap": null,
       "grid_row": null,
       "grid_template_areas": null,
       "grid_template_columns": null,
       "grid_template_rows": null,
       "height": null,
       "justify_content": null,
       "justify_items": null,
       "left": null,
       "margin": null,
       "max_height": null,
       "max_width": null,
       "min_height": null,
       "min_width": null,
       "object_fit": null,
       "object_position": null,
       "order": null,
       "overflow": null,
       "overflow_x": null,
       "overflow_y": null,
       "padding": null,
       "right": null,
       "top": null,
       "visibility": null,
       "width": null
      }
     },
     "4d4feb66eb0642198b49721c9573b196": {
      "model_module": "@jupyter-widgets/controls",
      "model_module_version": "1.5.0",
      "model_name": "HBoxModel",
      "state": {
       "_dom_classes": [],
       "_model_module": "@jupyter-widgets/controls",
       "_model_module_version": "1.5.0",
       "_model_name": "HBoxModel",
       "_view_count": null,
       "_view_module": "@jupyter-widgets/controls",
       "_view_module_version": "1.5.0",
       "_view_name": "HBoxView",
       "box_style": "",
       "children": [
        "IPY_MODEL_2839329309164313a4e273fc05f73d33",
        "IPY_MODEL_0acaf44051ec41b48ff162872fc929e1"
       ],
       "layout": "IPY_MODEL_ea3b36908dc047ab890e13bccc86b78a"
      }
     },
     "4f9716f8232f46cea0edf0b7d02db0c9": {
      "model_module": "@jupyter-widgets/controls",
      "model_module_version": "1.5.0",
      "model_name": "ProgressStyleModel",
      "state": {
       "_model_module": "@jupyter-widgets/controls",
       "_model_module_version": "1.5.0",
       "_model_name": "ProgressStyleModel",
       "_view_count": null,
       "_view_module": "@jupyter-widgets/base",
       "_view_module_version": "1.2.0",
       "_view_name": "StyleView",
       "bar_color": null,
       "description_width": "initial"
      }
     },
     "5204519ab8be4a9e8df6c8ee15d6c567": {
      "model_module": "@jupyter-widgets/controls",
      "model_module_version": "1.5.0",
      "model_name": "ProgressStyleModel",
      "state": {
       "_model_module": "@jupyter-widgets/controls",
       "_model_module_version": "1.5.0",
       "_model_name": "ProgressStyleModel",
       "_view_count": null,
       "_view_module": "@jupyter-widgets/base",
       "_view_module_version": "1.2.0",
       "_view_name": "StyleView",
       "bar_color": null,
       "description_width": "initial"
      }
     },
     "5a4762a2228a4435a04e8bd35202b56b": {
      "model_module": "@jupyter-widgets/controls",
      "model_module_version": "1.5.0",
      "model_name": "HBoxModel",
      "state": {
       "_dom_classes": [],
       "_model_module": "@jupyter-widgets/controls",
       "_model_module_version": "1.5.0",
       "_model_name": "HBoxModel",
       "_view_count": null,
       "_view_module": "@jupyter-widgets/controls",
       "_view_module_version": "1.5.0",
       "_view_name": "HBoxView",
       "box_style": "",
       "children": [
        "IPY_MODEL_889c68cfe71d451ea04972ed08bde1bb",
        "IPY_MODEL_6b1d88875b9340c59d6c42a3fc9c2b44"
       ],
       "layout": "IPY_MODEL_1e50d56238454de49f9cc2f05a5fa565"
      }
     },
     "5e74af0f7463480f845ecef6459a76b1": {
      "model_module": "@jupyter-widgets/controls",
      "model_module_version": "1.5.0",
      "model_name": "ProgressStyleModel",
      "state": {
       "_model_module": "@jupyter-widgets/controls",
       "_model_module_version": "1.5.0",
       "_model_name": "ProgressStyleModel",
       "_view_count": null,
       "_view_module": "@jupyter-widgets/base",
       "_view_module_version": "1.2.0",
       "_view_name": "StyleView",
       "bar_color": null,
       "description_width": "initial"
      }
     },
     "67c7e907c01f4005ab1d8da213c4e104": {
      "model_module": "@jupyter-widgets/base",
      "model_module_version": "1.2.0",
      "model_name": "LayoutModel",
      "state": {
       "_model_module": "@jupyter-widgets/base",
       "_model_module_version": "1.2.0",
       "_model_name": "LayoutModel",
       "_view_count": null,
       "_view_module": "@jupyter-widgets/base",
       "_view_module_version": "1.2.0",
       "_view_name": "LayoutView",
       "align_content": null,
       "align_items": null,
       "align_self": null,
       "border": null,
       "bottom": null,
       "display": null,
       "flex": null,
       "flex_flow": null,
       "grid_area": null,
       "grid_auto_columns": null,
       "grid_auto_flow": null,
       "grid_auto_rows": null,
       "grid_column": null,
       "grid_gap": null,
       "grid_row": null,
       "grid_template_areas": null,
       "grid_template_columns": null,
       "grid_template_rows": null,
       "height": null,
       "justify_content": null,
       "justify_items": null,
       "left": null,
       "margin": null,
       "max_height": null,
       "max_width": null,
       "min_height": null,
       "min_width": null,
       "object_fit": null,
       "object_position": null,
       "order": null,
       "overflow": null,
       "overflow_x": null,
       "overflow_y": null,
       "padding": null,
       "right": null,
       "top": null,
       "visibility": null,
       "width": null
      }
     },
     "686a06a7e91d4b38bf3d25e4ff761d60": {
      "model_module": "@jupyter-widgets/controls",
      "model_module_version": "1.5.0",
      "model_name": "DescriptionStyleModel",
      "state": {
       "_model_module": "@jupyter-widgets/controls",
       "_model_module_version": "1.5.0",
       "_model_name": "DescriptionStyleModel",
       "_view_count": null,
       "_view_module": "@jupyter-widgets/base",
       "_view_module_version": "1.2.0",
       "_view_name": "StyleView",
       "description_width": ""
      }
     },
     "6aad4c3544084e6686f8fdeb5f1721f6": {
      "model_module": "@jupyter-widgets/base",
      "model_module_version": "1.2.0",
      "model_name": "LayoutModel",
      "state": {
       "_model_module": "@jupyter-widgets/base",
       "_model_module_version": "1.2.0",
       "_model_name": "LayoutModel",
       "_view_count": null,
       "_view_module": "@jupyter-widgets/base",
       "_view_module_version": "1.2.0",
       "_view_name": "LayoutView",
       "align_content": null,
       "align_items": null,
       "align_self": null,
       "border": null,
       "bottom": null,
       "display": null,
       "flex": null,
       "flex_flow": null,
       "grid_area": null,
       "grid_auto_columns": null,
       "grid_auto_flow": null,
       "grid_auto_rows": null,
       "grid_column": null,
       "grid_gap": null,
       "grid_row": null,
       "grid_template_areas": null,
       "grid_template_columns": null,
       "grid_template_rows": null,
       "height": null,
       "justify_content": null,
       "justify_items": null,
       "left": null,
       "margin": null,
       "max_height": null,
       "max_width": null,
       "min_height": null,
       "min_width": null,
       "object_fit": null,
       "object_position": null,
       "order": null,
       "overflow": null,
       "overflow_x": null,
       "overflow_y": null,
       "padding": null,
       "right": null,
       "top": null,
       "visibility": null,
       "width": null
      }
     },
     "6b1d88875b9340c59d6c42a3fc9c2b44": {
      "model_module": "@jupyter-widgets/controls",
      "model_module_version": "1.5.0",
      "model_name": "HTMLModel",
      "state": {
       "_dom_classes": [],
       "_model_module": "@jupyter-widgets/controls",
       "_model_module_version": "1.5.0",
       "_model_name": "HTMLModel",
       "_view_count": null,
       "_view_module": "@jupyter-widgets/controls",
       "_view_module_version": "1.5.0",
       "_view_name": "HTMLView",
       "description": "",
       "description_tooltip": null,
       "layout": "IPY_MODEL_bdb1f4ae4c6d453e9636ae265a3d5de3",
       "placeholder": "​",
       "style": "IPY_MODEL_686a06a7e91d4b38bf3d25e4ff761d60",
       "value": " 49999/50000 [00:00&lt;00:00, 79539.11 examples/s]"
      }
     },
     "6ddac725c18e403783b6df4a5997a2b2": {
      "model_module": "@jupyter-widgets/base",
      "model_module_version": "1.2.0",
      "model_name": "LayoutModel",
      "state": {
       "_model_module": "@jupyter-widgets/base",
       "_model_module_version": "1.2.0",
       "_model_name": "LayoutModel",
       "_view_count": null,
       "_view_module": "@jupyter-widgets/base",
       "_view_module_version": "1.2.0",
       "_view_name": "LayoutView",
       "align_content": null,
       "align_items": null,
       "align_self": null,
       "border": null,
       "bottom": null,
       "display": null,
       "flex": null,
       "flex_flow": null,
       "grid_area": null,
       "grid_auto_columns": null,
       "grid_auto_flow": null,
       "grid_auto_rows": null,
       "grid_column": null,
       "grid_gap": null,
       "grid_row": null,
       "grid_template_areas": null,
       "grid_template_columns": null,
       "grid_template_rows": null,
       "height": null,
       "justify_content": null,
       "justify_items": null,
       "left": null,
       "margin": null,
       "max_height": null,
       "max_width": null,
       "min_height": null,
       "min_width": null,
       "object_fit": null,
       "object_position": null,
       "order": null,
       "overflow": null,
       "overflow_x": null,
       "overflow_y": null,
       "padding": null,
       "right": null,
       "top": null,
       "visibility": null,
       "width": null
      }
     },
     "758bffe2c2294df3aeb67a5f58cce979": {
      "model_module": "@jupyter-widgets/controls",
      "model_module_version": "1.5.0",
      "model_name": "HTMLModel",
      "state": {
       "_dom_classes": [],
       "_model_module": "@jupyter-widgets/controls",
       "_model_module_version": "1.5.0",
       "_model_name": "HTMLModel",
       "_view_count": null,
       "_view_module": "@jupyter-widgets/controls",
       "_view_module_version": "1.5.0",
       "_view_name": "HTMLView",
       "description": "",
       "description_tooltip": null,
       "layout": "IPY_MODEL_6ddac725c18e403783b6df4a5997a2b2",
       "placeholder": "​",
       "style": "IPY_MODEL_a03967e3333e4e33be4162b0bec2aebc",
       "value": " 50000/0 [00:33&lt;00:00, 1426.01 examples/s]"
      }
     },
     "75d527bcaf024d42950b6065acbd046e": {
      "model_module": "@jupyter-widgets/controls",
      "model_module_version": "1.5.0",
      "model_name": "HTMLModel",
      "state": {
       "_dom_classes": [],
       "_model_module": "@jupyter-widgets/controls",
       "_model_module_version": "1.5.0",
       "_model_name": "HTMLModel",
       "_view_count": null,
       "_view_module": "@jupyter-widgets/controls",
       "_view_module_version": "1.5.0",
       "_view_name": "HTMLView",
       "description": "",
       "description_tooltip": null,
       "layout": "IPY_MODEL_ec29be76e3264ba689b90ef3052cc1d5",
       "placeholder": "​",
       "style": "IPY_MODEL_cc539fc99e824088b4a2c9de65d639fd",
       "value": " 4/4 [00:00&lt;00:00,  6.10 file/s]"
      }
     },
     "7a3b364e28064603b2112de918025777": {
      "model_module": "@jupyter-widgets/base",
      "model_module_version": "1.2.0",
      "model_name": "LayoutModel",
      "state": {
       "_model_module": "@jupyter-widgets/base",
       "_model_module_version": "1.2.0",
       "_model_name": "LayoutModel",
       "_view_count": null,
       "_view_module": "@jupyter-widgets/base",
       "_view_module_version": "1.2.0",
       "_view_name": "LayoutView",
       "align_content": null,
       "align_items": null,
       "align_self": null,
       "border": null,
       "bottom": null,
       "display": null,
       "flex": null,
       "flex_flow": null,
       "grid_area": null,
       "grid_auto_columns": null,
       "grid_auto_flow": null,
       "grid_auto_rows": null,
       "grid_column": null,
       "grid_gap": null,
       "grid_row": null,
       "grid_template_areas": null,
       "grid_template_columns": null,
       "grid_template_rows": null,
       "height": null,
       "justify_content": null,
       "justify_items": null,
       "left": null,
       "margin": null,
       "max_height": null,
       "max_width": null,
       "min_height": null,
       "min_width": null,
       "object_fit": null,
       "object_position": null,
       "order": null,
       "overflow": null,
       "overflow_x": null,
       "overflow_y": null,
       "padding": null,
       "right": null,
       "top": null,
       "visibility": null,
       "width": null
      }
     },
     "7b44d869399041b48bcbe08f4fc788b3": {
      "model_module": "@jupyter-widgets/controls",
      "model_module_version": "1.5.0",
      "model_name": "HBoxModel",
      "state": {
       "_dom_classes": [],
       "_model_module": "@jupyter-widgets/controls",
       "_model_module_version": "1.5.0",
       "_model_name": "HBoxModel",
       "_view_count": null,
       "_view_module": "@jupyter-widgets/controls",
       "_view_module_version": "1.5.0",
       "_view_name": "HBoxView",
       "box_style": "",
       "children": [
        "IPY_MODEL_9dc64e1ab235462db1400699671ca02a",
        "IPY_MODEL_d386c176280744438f910cab888d7c2a"
       ],
       "layout": "IPY_MODEL_7bb4d161297544f4a122f2d205cf5451"
      }
     },
     "7bb4d161297544f4a122f2d205cf5451": {
      "model_module": "@jupyter-widgets/base",
      "model_module_version": "1.2.0",
      "model_name": "LayoutModel",
      "state": {
       "_model_module": "@jupyter-widgets/base",
       "_model_module_version": "1.2.0",
       "_model_name": "LayoutModel",
       "_view_count": null,
       "_view_module": "@jupyter-widgets/base",
       "_view_module_version": "1.2.0",
       "_view_name": "LayoutView",
       "align_content": null,
       "align_items": null,
       "align_self": null,
       "border": null,
       "bottom": null,
       "display": null,
       "flex": null,
       "flex_flow": null,
       "grid_area": null,
       "grid_auto_columns": null,
       "grid_auto_flow": null,
       "grid_auto_rows": null,
       "grid_column": null,
       "grid_gap": null,
       "grid_row": null,
       "grid_template_areas": null,
       "grid_template_columns": null,
       "grid_template_rows": null,
       "height": null,
       "justify_content": null,
       "justify_items": null,
       "left": null,
       "margin": null,
       "max_height": null,
       "max_width": null,
       "min_height": null,
       "min_width": null,
       "object_fit": null,
       "object_position": null,
       "order": null,
       "overflow": null,
       "overflow_x": null,
       "overflow_y": null,
       "padding": null,
       "right": null,
       "top": null,
       "visibility": null,
       "width": null
      }
     },
     "7cbcd0a1e3234e219a263a4dda20a4b0": {
      "model_module": "@jupyter-widgets/base",
      "model_module_version": "1.2.0",
      "model_name": "LayoutModel",
      "state": {
       "_model_module": "@jupyter-widgets/base",
       "_model_module_version": "1.2.0",
       "_model_name": "LayoutModel",
       "_view_count": null,
       "_view_module": "@jupyter-widgets/base",
       "_view_module_version": "1.2.0",
       "_view_name": "LayoutView",
       "align_content": null,
       "align_items": null,
       "align_self": null,
       "border": null,
       "bottom": null,
       "display": null,
       "flex": null,
       "flex_flow": null,
       "grid_area": null,
       "grid_auto_columns": null,
       "grid_auto_flow": null,
       "grid_auto_rows": null,
       "grid_column": null,
       "grid_gap": null,
       "grid_row": null,
       "grid_template_areas": null,
       "grid_template_columns": null,
       "grid_template_rows": null,
       "height": null,
       "justify_content": null,
       "justify_items": null,
       "left": null,
       "margin": null,
       "max_height": null,
       "max_width": null,
       "min_height": null,
       "min_width": null,
       "object_fit": null,
       "object_position": null,
       "order": null,
       "overflow": null,
       "overflow_x": null,
       "overflow_y": null,
       "padding": null,
       "right": null,
       "top": null,
       "visibility": null,
       "width": null
      }
     },
     "889c68cfe71d451ea04972ed08bde1bb": {
      "model_module": "@jupyter-widgets/controls",
      "model_module_version": "1.5.0",
      "model_name": "FloatProgressModel",
      "state": {
       "_dom_classes": [],
       "_model_module": "@jupyter-widgets/controls",
       "_model_module_version": "1.5.0",
       "_model_name": "FloatProgressModel",
       "_view_count": null,
       "_view_module": "@jupyter-widgets/controls",
       "_view_module_version": "1.5.0",
       "_view_name": "ProgressView",
       "bar_style": "danger",
       "description": "100%",
       "description_tooltip": null,
       "layout": "IPY_MODEL_b835c6159f17443bbbe2284a43828cb6",
       "max": 50000.0,
       "min": 0.0,
       "orientation": "horizontal",
       "style": "IPY_MODEL_4f9716f8232f46cea0edf0b7d02db0c9",
       "value": 49999.0
      }
     },
     "90ce4e84f6d34afeb8f021c90dd1d393": {
      "model_module": "@jupyter-widgets/controls",
      "model_module_version": "1.5.0",
      "model_name": "DescriptionStyleModel",
      "state": {
       "_model_module": "@jupyter-widgets/controls",
       "_model_module_version": "1.5.0",
       "_model_name": "DescriptionStyleModel",
       "_view_count": null,
       "_view_module": "@jupyter-widgets/base",
       "_view_module_version": "1.2.0",
       "_view_name": "StyleView",
       "description_width": ""
      }
     },
     "9dc64e1ab235462db1400699671ca02a": {
      "model_module": "@jupyter-widgets/controls",
      "model_module_version": "1.5.0",
      "model_name": "FloatProgressModel",
      "state": {
       "_dom_classes": [],
       "_model_module": "@jupyter-widgets/controls",
       "_model_module_version": "1.5.0",
       "_model_name": "FloatProgressModel",
       "_view_count": null,
       "_view_module": "@jupyter-widgets/controls",
       "_view_module_version": "1.5.0",
       "_view_name": "ProgressView",
       "bar_style": "danger",
       "description": "100%",
       "description_tooltip": null,
       "layout": "IPY_MODEL_6aad4c3544084e6686f8fdeb5f1721f6",
       "max": 10000.0,
       "min": 0.0,
       "orientation": "horizontal",
       "style": "IPY_MODEL_e1b41d6988344511bb1b5c3a6e8a341f",
       "value": 9999.0
      }
     },
     "a03967e3333e4e33be4162b0bec2aebc": {
      "model_module": "@jupyter-widgets/controls",
      "model_module_version": "1.5.0",
      "model_name": "DescriptionStyleModel",
      "state": {
       "_model_module": "@jupyter-widgets/controls",
       "_model_module_version": "1.5.0",
       "_model_name": "DescriptionStyleModel",
       "_view_count": null,
       "_view_module": "@jupyter-widgets/base",
       "_view_module_version": "1.2.0",
       "_view_name": "StyleView",
       "description_width": ""
      }
     },
     "a1291fc5fdf64f28a8b8f89ee01f6996": {
      "model_module": "@jupyter-widgets/base",
      "model_module_version": "1.2.0",
      "model_name": "LayoutModel",
      "state": {
       "_model_module": "@jupyter-widgets/base",
       "_model_module_version": "1.2.0",
       "_model_name": "LayoutModel",
       "_view_count": null,
       "_view_module": "@jupyter-widgets/base",
       "_view_module_version": "1.2.0",
       "_view_name": "LayoutView",
       "align_content": null,
       "align_items": null,
       "align_self": null,
       "border": null,
       "bottom": null,
       "display": null,
       "flex": null,
       "flex_flow": null,
       "grid_area": null,
       "grid_auto_columns": null,
       "grid_auto_flow": null,
       "grid_auto_rows": null,
       "grid_column": null,
       "grid_gap": null,
       "grid_row": null,
       "grid_template_areas": null,
       "grid_template_columns": null,
       "grid_template_rows": null,
       "height": null,
       "justify_content": null,
       "justify_items": null,
       "left": null,
       "margin": null,
       "max_height": null,
       "max_width": null,
       "min_height": null,
       "min_width": null,
       "object_fit": null,
       "object_position": null,
       "order": null,
       "overflow": null,
       "overflow_x": null,
       "overflow_y": null,
       "padding": null,
       "right": null,
       "top": null,
       "visibility": null,
       "width": null
      }
     },
     "a22d4f00b3344aeab1642cd2889cafc3": {
      "model_module": "@jupyter-widgets/controls",
      "model_module_version": "1.5.0",
      "model_name": "HTMLModel",
      "state": {
       "_dom_classes": [],
       "_model_module": "@jupyter-widgets/controls",
       "_model_module_version": "1.5.0",
       "_model_name": "HTMLModel",
       "_view_count": null,
       "_view_module": "@jupyter-widgets/controls",
       "_view_module_version": "1.5.0",
       "_view_name": "HTMLView",
       "description": "",
       "description_tooltip": null,
       "layout": "IPY_MODEL_f77ee2beec3f47beb65a9ea01ed3407b",
       "placeholder": "​",
       "style": "IPY_MODEL_474bff197db640c5b23e189a3c434a87",
       "value": " 10000/0 [00:07&lt;00:00, 1058.76 examples/s]"
      }
     },
     "a252e08f61684614a86aa431f1384418": {
      "model_module": "@jupyter-widgets/controls",
      "model_module_version": "1.5.0",
      "model_name": "HBoxModel",
      "state": {
       "_dom_classes": [],
       "_model_module": "@jupyter-widgets/controls",
       "_model_module_version": "1.5.0",
       "_model_name": "HBoxModel",
       "_view_count": null,
       "_view_module": "@jupyter-widgets/controls",
       "_view_module_version": "1.5.0",
       "_view_name": "HBoxView",
       "box_style": "",
       "children": [
        "IPY_MODEL_1a1dc7b2211348cb8fb64649b7dd8adf",
        "IPY_MODEL_758bffe2c2294df3aeb67a5f58cce979"
       ],
       "layout": "IPY_MODEL_a1291fc5fdf64f28a8b8f89ee01f6996"
      }
     },
     "a2dd2130acd544a7b70b3406f07dc419": {
      "model_module": "@jupyter-widgets/base",
      "model_module_version": "1.2.0",
      "model_name": "LayoutModel",
      "state": {
       "_model_module": "@jupyter-widgets/base",
       "_model_module_version": "1.2.0",
       "_model_name": "LayoutModel",
       "_view_count": null,
       "_view_module": "@jupyter-widgets/base",
       "_view_module_version": "1.2.0",
       "_view_name": "LayoutView",
       "align_content": null,
       "align_items": null,
       "align_self": null,
       "border": null,
       "bottom": null,
       "display": null,
       "flex": null,
       "flex_flow": null,
       "grid_area": null,
       "grid_auto_columns": null,
       "grid_auto_flow": null,
       "grid_auto_rows": null,
       "grid_column": null,
       "grid_gap": null,
       "grid_row": null,
       "grid_template_areas": null,
       "grid_template_columns": null,
       "grid_template_rows": null,
       "height": null,
       "justify_content": null,
       "justify_items": null,
       "left": null,
       "margin": null,
       "max_height": null,
       "max_width": null,
       "min_height": null,
       "min_width": null,
       "object_fit": null,
       "object_position": null,
       "order": null,
       "overflow": null,
       "overflow_x": null,
       "overflow_y": null,
       "padding": null,
       "right": null,
       "top": null,
       "visibility": null,
       "width": null
      }
     },
     "a67af0e121e24a9393f252bb6897b1a8": {
      "model_module": "@jupyter-widgets/controls",
      "model_module_version": "1.5.0",
      "model_name": "HBoxModel",
      "state": {
       "_dom_classes": [],
       "_model_module": "@jupyter-widgets/controls",
       "_model_module_version": "1.5.0",
       "_model_name": "HBoxModel",
       "_view_count": null,
       "_view_module": "@jupyter-widgets/controls",
       "_view_module_version": "1.5.0",
       "_view_name": "HBoxView",
       "box_style": "",
       "children": [
        "IPY_MODEL_346ae8c0ea784b03a9b59d1dbd3e6e0c",
        "IPY_MODEL_deddde162a9e44749ca0a3d58e23606b"
       ],
       "layout": "IPY_MODEL_bb2cc0822b384b52b4f368cec6df4379"
      }
     },
     "a7a28d105c05432482d7a9de7eb0493c": {
      "model_module": "@jupyter-widgets/base",
      "model_module_version": "1.2.0",
      "model_name": "LayoutModel",
      "state": {
       "_model_module": "@jupyter-widgets/base",
       "_model_module_version": "1.2.0",
       "_model_name": "LayoutModel",
       "_view_count": null,
       "_view_module": "@jupyter-widgets/base",
       "_view_module_version": "1.2.0",
       "_view_name": "LayoutView",
       "align_content": null,
       "align_items": null,
       "align_self": null,
       "border": null,
       "bottom": null,
       "display": null,
       "flex": null,
       "flex_flow": null,
       "grid_area": null,
       "grid_auto_columns": null,
       "grid_auto_flow": null,
       "grid_auto_rows": null,
       "grid_column": null,
       "grid_gap": null,
       "grid_row": null,
       "grid_template_areas": null,
       "grid_template_columns": null,
       "grid_template_rows": null,
       "height": null,
       "justify_content": null,
       "justify_items": null,
       "left": null,
       "margin": null,
       "max_height": null,
       "max_width": null,
       "min_height": null,
       "min_width": null,
       "object_fit": null,
       "object_position": null,
       "order": null,
       "overflow": null,
       "overflow_x": null,
       "overflow_y": null,
       "padding": null,
       "right": null,
       "top": null,
       "visibility": null,
       "width": null
      }
     },
     "af08781ff95b48008c3ff7d9af6bb0fe": {
      "model_module": "@jupyter-widgets/base",
      "model_module_version": "1.2.0",
      "model_name": "LayoutModel",
      "state": {
       "_model_module": "@jupyter-widgets/base",
       "_model_module_version": "1.2.0",
       "_model_name": "LayoutModel",
       "_view_count": null,
       "_view_module": "@jupyter-widgets/base",
       "_view_module_version": "1.2.0",
       "_view_name": "LayoutView",
       "align_content": null,
       "align_items": null,
       "align_self": null,
       "border": null,
       "bottom": null,
       "display": null,
       "flex": null,
       "flex_flow": null,
       "grid_area": null,
       "grid_auto_columns": null,
       "grid_auto_flow": null,
       "grid_auto_rows": null,
       "grid_column": null,
       "grid_gap": null,
       "grid_row": null,
       "grid_template_areas": null,
       "grid_template_columns": null,
       "grid_template_rows": null,
       "height": null,
       "justify_content": null,
       "justify_items": null,
       "left": null,
       "margin": null,
       "max_height": null,
       "max_width": null,
       "min_height": null,
       "min_width": null,
       "object_fit": null,
       "object_position": null,
       "order": null,
       "overflow": null,
       "overflow_x": null,
       "overflow_y": null,
       "padding": null,
       "right": null,
       "top": null,
       "visibility": null,
       "width": null
      }
     },
     "b23570cc6e024dc4913d72bb2593d40b": {
      "model_module": "@jupyter-widgets/controls",
      "model_module_version": "1.5.0",
      "model_name": "HBoxModel",
      "state": {
       "_dom_classes": [],
       "_model_module": "@jupyter-widgets/controls",
       "_model_module_version": "1.5.0",
       "_model_name": "HBoxModel",
       "_view_count": null,
       "_view_module": "@jupyter-widgets/controls",
       "_view_module_version": "1.5.0",
       "_view_name": "HBoxView",
       "box_style": "",
       "children": [
        "IPY_MODEL_1e6c1df63f0c4fd29f5ac3c9de424c05",
        "IPY_MODEL_75d527bcaf024d42950b6065acbd046e"
       ],
       "layout": "IPY_MODEL_7cbcd0a1e3234e219a263a4dda20a4b0"
      }
     },
     "b2e94d9c7af64516bbc0a6697523547d": {
      "model_module": "@jupyter-widgets/controls",
      "model_module_version": "1.5.0",
      "model_name": "ProgressStyleModel",
      "state": {
       "_model_module": "@jupyter-widgets/controls",
       "_model_module_version": "1.5.0",
       "_model_name": "ProgressStyleModel",
       "_view_count": null,
       "_view_module": "@jupyter-widgets/base",
       "_view_module_version": "1.2.0",
       "_view_name": "StyleView",
       "bar_color": null,
       "description_width": "initial"
      }
     },
     "b835c6159f17443bbbe2284a43828cb6": {
      "model_module": "@jupyter-widgets/base",
      "model_module_version": "1.2.0",
      "model_name": "LayoutModel",
      "state": {
       "_model_module": "@jupyter-widgets/base",
       "_model_module_version": "1.2.0",
       "_model_name": "LayoutModel",
       "_view_count": null,
       "_view_module": "@jupyter-widgets/base",
       "_view_module_version": "1.2.0",
       "_view_name": "LayoutView",
       "align_content": null,
       "align_items": null,
       "align_self": null,
       "border": null,
       "bottom": null,
       "display": null,
       "flex": null,
       "flex_flow": null,
       "grid_area": null,
       "grid_auto_columns": null,
       "grid_auto_flow": null,
       "grid_auto_rows": null,
       "grid_column": null,
       "grid_gap": null,
       "grid_row": null,
       "grid_template_areas": null,
       "grid_template_columns": null,
       "grid_template_rows": null,
       "height": null,
       "justify_content": null,
       "justify_items": null,
       "left": null,
       "margin": null,
       "max_height": null,
       "max_width": null,
       "min_height": null,
       "min_width": null,
       "object_fit": null,
       "object_position": null,
       "order": null,
       "overflow": null,
       "overflow_x": null,
       "overflow_y": null,
       "padding": null,
       "right": null,
       "top": null,
       "visibility": null,
       "width": null
      }
     },
     "bb2cc0822b384b52b4f368cec6df4379": {
      "model_module": "@jupyter-widgets/base",
      "model_module_version": "1.2.0",
      "model_name": "LayoutModel",
      "state": {
       "_model_module": "@jupyter-widgets/base",
       "_model_module_version": "1.2.0",
       "_model_name": "LayoutModel",
       "_view_count": null,
       "_view_module": "@jupyter-widgets/base",
       "_view_module_version": "1.2.0",
       "_view_name": "LayoutView",
       "align_content": null,
       "align_items": null,
       "align_self": null,
       "border": null,
       "bottom": null,
       "display": null,
       "flex": null,
       "flex_flow": null,
       "grid_area": null,
       "grid_auto_columns": null,
       "grid_auto_flow": null,
       "grid_auto_rows": null,
       "grid_column": null,
       "grid_gap": null,
       "grid_row": null,
       "grid_template_areas": null,
       "grid_template_columns": null,
       "grid_template_rows": null,
       "height": null,
       "justify_content": null,
       "justify_items": null,
       "left": null,
       "margin": null,
       "max_height": null,
       "max_width": null,
       "min_height": null,
       "min_width": null,
       "object_fit": null,
       "object_position": null,
       "order": null,
       "overflow": null,
       "overflow_x": null,
       "overflow_y": null,
       "padding": null,
       "right": null,
       "top": null,
       "visibility": null,
       "width": null
      }
     },
     "bdb1f4ae4c6d453e9636ae265a3d5de3": {
      "model_module": "@jupyter-widgets/base",
      "model_module_version": "1.2.0",
      "model_name": "LayoutModel",
      "state": {
       "_model_module": "@jupyter-widgets/base",
       "_model_module_version": "1.2.0",
       "_model_name": "LayoutModel",
       "_view_count": null,
       "_view_module": "@jupyter-widgets/base",
       "_view_module_version": "1.2.0",
       "_view_name": "LayoutView",
       "align_content": null,
       "align_items": null,
       "align_self": null,
       "border": null,
       "bottom": null,
       "display": null,
       "flex": null,
       "flex_flow": null,
       "grid_area": null,
       "grid_auto_columns": null,
       "grid_auto_flow": null,
       "grid_auto_rows": null,
       "grid_column": null,
       "grid_gap": null,
       "grid_row": null,
       "grid_template_areas": null,
       "grid_template_columns": null,
       "grid_template_rows": null,
       "height": null,
       "justify_content": null,
       "justify_items": null,
       "left": null,
       "margin": null,
       "max_height": null,
       "max_width": null,
       "min_height": null,
       "min_width": null,
       "object_fit": null,
       "object_position": null,
       "order": null,
       "overflow": null,
       "overflow_x": null,
       "overflow_y": null,
       "padding": null,
       "right": null,
       "top": null,
       "visibility": null,
       "width": null
      }
     },
     "bf768a68c0954e6b8a0326dc8a103570": {
      "model_module": "@jupyter-widgets/controls",
      "model_module_version": "1.5.0",
      "model_name": "FloatProgressModel",
      "state": {
       "_dom_classes": [],
       "_model_module": "@jupyter-widgets/controls",
       "_model_module_version": "1.5.0",
       "_model_name": "FloatProgressModel",
       "_view_count": null,
       "_view_module": "@jupyter-widgets/controls",
       "_view_module_version": "1.5.0",
       "_view_name": "ProgressView",
       "bar_style": "info",
       "description": "",
       "description_tooltip": null,
       "layout": "IPY_MODEL_a2dd2130acd544a7b70b3406f07dc419",
       "max": 1.0,
       "min": 0.0,
       "orientation": "horizontal",
       "style": "IPY_MODEL_c0b37ee413df496da20609265eebdd52",
       "value": 1.0
      }
     },
     "c0b37ee413df496da20609265eebdd52": {
      "model_module": "@jupyter-widgets/controls",
      "model_module_version": "1.5.0",
      "model_name": "ProgressStyleModel",
      "state": {
       "_model_module": "@jupyter-widgets/controls",
       "_model_module_version": "1.5.0",
       "_model_name": "ProgressStyleModel",
       "_view_count": null,
       "_view_module": "@jupyter-widgets/base",
       "_view_module_version": "1.2.0",
       "_view_name": "StyleView",
       "bar_color": null,
       "description_width": "initial"
      }
     },
     "cc539fc99e824088b4a2c9de65d639fd": {
      "model_module": "@jupyter-widgets/controls",
      "model_module_version": "1.5.0",
      "model_name": "DescriptionStyleModel",
      "state": {
       "_model_module": "@jupyter-widgets/controls",
       "_model_module_version": "1.5.0",
       "_model_name": "DescriptionStyleModel",
       "_view_count": null,
       "_view_module": "@jupyter-widgets/base",
       "_view_module_version": "1.2.0",
       "_view_name": "StyleView",
       "description_width": ""
      }
     },
     "d386c176280744438f910cab888d7c2a": {
      "model_module": "@jupyter-widgets/controls",
      "model_module_version": "1.5.0",
      "model_name": "HTMLModel",
      "state": {
       "_dom_classes": [],
       "_model_module": "@jupyter-widgets/controls",
       "_model_module_version": "1.5.0",
       "_model_name": "HTMLModel",
       "_view_count": null,
       "_view_module": "@jupyter-widgets/controls",
       "_view_module_version": "1.5.0",
       "_view_name": "HTMLView",
       "description": "",
       "description_tooltip": null,
       "layout": "IPY_MODEL_af08781ff95b48008c3ff7d9af6bb0fe",
       "placeholder": "​",
       "style": "IPY_MODEL_90ce4e84f6d34afeb8f021c90dd1d393",
       "value": " 9999/10000 [00:00&lt;00:00, 96397.10 examples/s]"
      }
     },
     "de2339f335f14074bd924ac131f58120": {
      "model_module": "@jupyter-widgets/base",
      "model_module_version": "1.2.0",
      "model_name": "LayoutModel",
      "state": {
       "_model_module": "@jupyter-widgets/base",
       "_model_module_version": "1.2.0",
       "_model_name": "LayoutModel",
       "_view_count": null,
       "_view_module": "@jupyter-widgets/base",
       "_view_module_version": "1.2.0",
       "_view_name": "LayoutView",
       "align_content": null,
       "align_items": null,
       "align_self": null,
       "border": null,
       "bottom": null,
       "display": null,
       "flex": null,
       "flex_flow": null,
       "grid_area": null,
       "grid_auto_columns": null,
       "grid_auto_flow": null,
       "grid_auto_rows": null,
       "grid_column": null,
       "grid_gap": null,
       "grid_row": null,
       "grid_template_areas": null,
       "grid_template_columns": null,
       "grid_template_rows": null,
       "height": null,
       "justify_content": null,
       "justify_items": null,
       "left": null,
       "margin": null,
       "max_height": null,
       "max_width": null,
       "min_height": null,
       "min_width": null,
       "object_fit": null,
       "object_position": null,
       "order": null,
       "overflow": null,
       "overflow_x": null,
       "overflow_y": null,
       "padding": null,
       "right": null,
       "top": null,
       "visibility": null,
       "width": null
      }
     },
     "deddde162a9e44749ca0a3d58e23606b": {
      "model_module": "@jupyter-widgets/controls",
      "model_module_version": "1.5.0",
      "model_name": "HTMLModel",
      "state": {
       "_dom_classes": [],
       "_model_module": "@jupyter-widgets/controls",
       "_model_module_version": "1.5.0",
       "_model_name": "HTMLModel",
       "_view_count": null,
       "_view_module": "@jupyter-widgets/controls",
       "_view_module_version": "1.5.0",
       "_view_name": "HTMLView",
       "description": "",
       "description_tooltip": null,
       "layout": "IPY_MODEL_40e326425e28418f89ac82a90d7a01e6",
       "placeholder": "​",
       "style": "IPY_MODEL_04332412f47f47a2a29a184959fc9e89",
       "value": " 1/1 [00:06&lt;00:00,  6.31s/ url]"
      }
     },
     "e0c8fca03ba345828c2d2d5a7a6f1672": {
      "model_module": "@jupyter-widgets/controls",
      "model_module_version": "1.5.0",
      "model_name": "ProgressStyleModel",
      "state": {
       "_model_module": "@jupyter-widgets/controls",
       "_model_module_version": "1.5.0",
       "_model_name": "ProgressStyleModel",
       "_view_count": null,
       "_view_module": "@jupyter-widgets/base",
       "_view_module_version": "1.2.0",
       "_view_name": "StyleView",
       "bar_color": null,
       "description_width": "initial"
      }
     },
     "e1b41d6988344511bb1b5c3a6e8a341f": {
      "model_module": "@jupyter-widgets/controls",
      "model_module_version": "1.5.0",
      "model_name": "ProgressStyleModel",
      "state": {
       "_model_module": "@jupyter-widgets/controls",
       "_model_module_version": "1.5.0",
       "_model_name": "ProgressStyleModel",
       "_view_count": null,
       "_view_module": "@jupyter-widgets/base",
       "_view_module_version": "1.2.0",
       "_view_name": "StyleView",
       "bar_color": null,
       "description_width": "initial"
      }
     },
     "e3f953f2661f49f39faca3f7b2644cfd": {
      "model_module": "@jupyter-widgets/base",
      "model_module_version": "1.2.0",
      "model_name": "LayoutModel",
      "state": {
       "_model_module": "@jupyter-widgets/base",
       "_model_module_version": "1.2.0",
       "_model_name": "LayoutModel",
       "_view_count": null,
       "_view_module": "@jupyter-widgets/base",
       "_view_module_version": "1.2.0",
       "_view_name": "LayoutView",
       "align_content": null,
       "align_items": null,
       "align_self": null,
       "border": null,
       "bottom": null,
       "display": null,
       "flex": null,
       "flex_flow": null,
       "grid_area": null,
       "grid_auto_columns": null,
       "grid_auto_flow": null,
       "grid_auto_rows": null,
       "grid_column": null,
       "grid_gap": null,
       "grid_row": null,
       "grid_template_areas": null,
       "grid_template_columns": null,
       "grid_template_rows": null,
       "height": null,
       "justify_content": null,
       "justify_items": null,
       "left": null,
       "margin": null,
       "max_height": null,
       "max_width": null,
       "min_height": null,
       "min_width": null,
       "object_fit": null,
       "object_position": null,
       "order": null,
       "overflow": null,
       "overflow_x": null,
       "overflow_y": null,
       "padding": null,
       "right": null,
       "top": null,
       "visibility": null,
       "width": null
      }
     },
     "ea3b36908dc047ab890e13bccc86b78a": {
      "model_module": "@jupyter-widgets/base",
      "model_module_version": "1.2.0",
      "model_name": "LayoutModel",
      "state": {
       "_model_module": "@jupyter-widgets/base",
       "_model_module_version": "1.2.0",
       "_model_name": "LayoutModel",
       "_view_count": null,
       "_view_module": "@jupyter-widgets/base",
       "_view_module_version": "1.2.0",
       "_view_name": "LayoutView",
       "align_content": null,
       "align_items": null,
       "align_self": null,
       "border": null,
       "bottom": null,
       "display": null,
       "flex": null,
       "flex_flow": null,
       "grid_area": null,
       "grid_auto_columns": null,
       "grid_auto_flow": null,
       "grid_auto_rows": null,
       "grid_column": null,
       "grid_gap": null,
       "grid_row": null,
       "grid_template_areas": null,
       "grid_template_columns": null,
       "grid_template_rows": null,
       "height": null,
       "justify_content": null,
       "justify_items": null,
       "left": null,
       "margin": null,
       "max_height": null,
       "max_width": null,
       "min_height": null,
       "min_width": null,
       "object_fit": null,
       "object_position": null,
       "order": null,
       "overflow": null,
       "overflow_x": null,
       "overflow_y": null,
       "padding": null,
       "right": null,
       "top": null,
       "visibility": null,
       "width": null
      }
     },
     "ec29be76e3264ba689b90ef3052cc1d5": {
      "model_module": "@jupyter-widgets/base",
      "model_module_version": "1.2.0",
      "model_name": "LayoutModel",
      "state": {
       "_model_module": "@jupyter-widgets/base",
       "_model_module_version": "1.2.0",
       "_model_name": "LayoutModel",
       "_view_count": null,
       "_view_module": "@jupyter-widgets/base",
       "_view_module_version": "1.2.0",
       "_view_name": "LayoutView",
       "align_content": null,
       "align_items": null,
       "align_self": null,
       "border": null,
       "bottom": null,
       "display": null,
       "flex": null,
       "flex_flow": null,
       "grid_area": null,
       "grid_auto_columns": null,
       "grid_auto_flow": null,
       "grid_auto_rows": null,
       "grid_column": null,
       "grid_gap": null,
       "grid_row": null,
       "grid_template_areas": null,
       "grid_template_columns": null,
       "grid_template_rows": null,
       "height": null,
       "justify_content": null,
       "justify_items": null,
       "left": null,
       "margin": null,
       "max_height": null,
       "max_width": null,
       "min_height": null,
       "min_width": null,
       "object_fit": null,
       "object_position": null,
       "order": null,
       "overflow": null,
       "overflow_x": null,
       "overflow_y": null,
       "padding": null,
       "right": null,
       "top": null,
       "visibility": null,
       "width": null
      }
     },
     "ed97966895574908a467229d5bc02d15": {
      "model_module": "@jupyter-widgets/controls",
      "model_module_version": "1.5.0",
      "model_name": "DescriptionStyleModel",
      "state": {
       "_model_module": "@jupyter-widgets/controls",
       "_model_module_version": "1.5.0",
       "_model_name": "DescriptionStyleModel",
       "_view_count": null,
       "_view_module": "@jupyter-widgets/base",
       "_view_module_version": "1.2.0",
       "_view_name": "StyleView",
       "description_width": ""
      }
     },
     "f420edb1d8604fadb44a0086f0bcb685": {
      "model_module": "@jupyter-widgets/base",
      "model_module_version": "1.2.0",
      "model_name": "LayoutModel",
      "state": {
       "_model_module": "@jupyter-widgets/base",
       "_model_module_version": "1.2.0",
       "_model_name": "LayoutModel",
       "_view_count": null,
       "_view_module": "@jupyter-widgets/base",
       "_view_module_version": "1.2.0",
       "_view_name": "LayoutView",
       "align_content": null,
       "align_items": null,
       "align_self": null,
       "border": null,
       "bottom": null,
       "display": null,
       "flex": null,
       "flex_flow": null,
       "grid_area": null,
       "grid_auto_columns": null,
       "grid_auto_flow": null,
       "grid_auto_rows": null,
       "grid_column": null,
       "grid_gap": null,
       "grid_row": null,
       "grid_template_areas": null,
       "grid_template_columns": null,
       "grid_template_rows": null,
       "height": null,
       "justify_content": null,
       "justify_items": null,
       "left": null,
       "margin": null,
       "max_height": null,
       "max_width": null,
       "min_height": null,
       "min_width": null,
       "object_fit": null,
       "object_position": null,
       "order": null,
       "overflow": null,
       "overflow_x": null,
       "overflow_y": null,
       "padding": null,
       "right": null,
       "top": null,
       "visibility": null,
       "width": null
      }
     },
     "f77ee2beec3f47beb65a9ea01ed3407b": {
      "model_module": "@jupyter-widgets/base",
      "model_module_version": "1.2.0",
      "model_name": "LayoutModel",
      "state": {
       "_model_module": "@jupyter-widgets/base",
       "_model_module_version": "1.2.0",
       "_model_name": "LayoutModel",
       "_view_count": null,
       "_view_module": "@jupyter-widgets/base",
       "_view_module_version": "1.2.0",
       "_view_name": "LayoutView",
       "align_content": null,
       "align_items": null,
       "align_self": null,
       "border": null,
       "bottom": null,
       "display": null,
       "flex": null,
       "flex_flow": null,
       "grid_area": null,
       "grid_auto_columns": null,
       "grid_auto_flow": null,
       "grid_auto_rows": null,
       "grid_column": null,
       "grid_gap": null,
       "grid_row": null,
       "grid_template_areas": null,
       "grid_template_columns": null,
       "grid_template_rows": null,
       "height": null,
       "justify_content": null,
       "justify_items": null,
       "left": null,
       "margin": null,
       "max_height": null,
       "max_width": null,
       "min_height": null,
       "min_width": null,
       "object_fit": null,
       "object_position": null,
       "order": null,
       "overflow": null,
       "overflow_x": null,
       "overflow_y": null,
       "padding": null,
       "right": null,
       "top": null,
       "visibility": null,
       "width": null
      }
     }
    },
    "version_major": 2,
    "version_minor": 0
   }
  }
 },
 "nbformat": 4,
 "nbformat_minor": 4
}
