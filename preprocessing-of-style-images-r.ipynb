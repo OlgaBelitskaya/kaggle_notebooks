{
 "cells": [
  {
   "cell_type": "markdown",
   "metadata": {
    "_cell_guid": "04a1fabb-8bad-4342-870a-ac145008947e",
    "_uuid": "9b5145c3f83b2be21d215f9a80cbfa9721e1aed0"
   },
   "source": [
    "<h1 class='font-effect-fire-animation' style='color:#37c9e1; font-family:Akronim;'> &#x1F310; &nbsp; Code Modules, Styling, Helpful Functions, and Links </h1>\n",
    "\n",
    "[GitHub Repository](https://github.com/OlgaBelitskaya/deep_learning_projects/tree/master/DL_PP4)"
   ]
  },
  {
   "cell_type": "code",
   "execution_count": 1,
   "metadata": {
    "_kg_hide-output": true,
    "_uuid": "4a715a755bdfac995805f58211c62dd568e7f779"
   },
   "outputs": [
    {
     "name": "stderr",
     "output_type": "stream",
     "text": [
      "Loading required package: magrittr\n",
      "\n",
      "Attaching package: ‘imager’\n",
      "\n",
      "The following object is masked from ‘package:magrittr’:\n",
      "\n",
      "    add\n",
      "\n",
      "The following object is masked from ‘package:IRdisplay’:\n",
      "\n",
      "    display\n",
      "\n",
      "The following objects are masked from ‘package:stats’:\n",
      "\n",
      "    convolve, spectrum\n",
      "\n",
      "The following object is masked from ‘package:graphics’:\n",
      "\n",
      "    frame\n",
      "\n",
      "The following object is masked from ‘package:base’:\n",
      "\n",
      "    save.image\n",
      "\n"
     ]
    }
   ],
   "source": [
    "library(IRdisplay); library(repr)\n",
    "library(tensorflow); library(keras)\n",
    "library(imager); library(R6)\n",
    "keras_backend<-backend()"
   ]
  },
  {
   "cell_type": "code",
   "execution_count": 2,
   "metadata": {
    "_kg_hide-input": true,
    "_uuid": "bb6101ddf8e16123146abda5e57780293ef31db8"
   },
   "outputs": [
    {
     "data": {
      "text/html": [
       "<style> \n",
       "@import url('https://fonts.googleapis.com/css?family=Akronim|Roboto&effect=3d|fire-animation');\n",
       "body {background-color:gainsboro;} \n",
       "a,h4 {color:#37c9e1; font-family:Roboto;} \n",
       "span {color:black; text-shadow:4px 4px 4px #aaa;}\n",
       "div.output_prompt,div.output_area pre {color:slategray;}\n",
       "div.input_prompt,div.output_subarea {color:#37c9e1;}      \n",
       "div.output_stderr pre {background-color:gainsboro;}  \n",
       "div.output_stderr {background-color:slategrey;}       \n",
       "</style>"
      ]
     },
     "metadata": {},
     "output_type": "display_data"
    }
   ],
   "source": [
    "display_html(\"<style> \n",
    "@import url('https://fonts.googleapis.com/css?family=Akronim|Roboto&effect=3d|fire-animation');\n",
    "body {background-color:gainsboro;} \n",
    "a,h4 {color:#37c9e1; font-family:Roboto;} \n",
    "span {color:black; text-shadow:4px 4px 4px #aaa;}\n",
    "div.output_prompt,div.output_area pre {color:slategray;}\n",
    "div.input_prompt,div.output_subarea {color:#37c9e1;}      \n",
    "div.output_stderr pre {background-color:gainsboro;}  \n",
    "div.output_stderr {background-color:slategrey;}       \n",
    "</style>\")"
   ]
  },
  {
   "cell_type": "code",
   "execution_count": 3,
   "metadata": {
    "_uuid": "7e9c8eaea223b57a16948b46afed7efda5bbb0aa"
   },
   "outputs": [],
   "source": [
    "image_loading<-function(image_path) {\n",
    "    image<-keras::image_load(image_path,target_size=c(150,150))\n",
    "    image<-image_to_array(image)/255\n",
    "    image<-array_reshape(image,c(1,dim(image)))\n",
    "    return(image) }\n",
    "image_grayscaled_loading<-function(image_path) {\n",
    "    image<-keras::image_load(image_path, \n",
    "                             target_size=c(150,150),\n",
    "                             grayscale=T)\n",
    "    image<-image_to_array(image)/255\n",
    "    image<-array_reshape(image,c(1,dim(image)))\n",
    "    return(image)}"
   ]
  },
  {
   "cell_type": "markdown",
   "metadata": {
    "_cell_guid": "39eaab59-d6d5-4c19-ba1a-a1ef166ad6a6",
    "_uuid": "ed1e0740061c666314ff94b36e6f15511be56006"
   },
   "source": [
    "<h1 class='font-effect-fire-animation' style='color:#37c9e1; font-family:Akronim;'> &#x1F310; &nbsp; Data Loading and Exploration </h1>"
   ]
  },
  {
   "cell_type": "code",
   "execution_count": 4,
   "metadata": {
    "_uuid": "037baa7f6aeb5b12652b2f92a540fafe5e0acf34"
   },
   "outputs": [
    {
     "data": {
      "text/html": [
       "<table>\n",
       "<thead><tr><th scope=col>brand_name</th><th scope=col>brand_label</th><th scope=col>product_name</th><th scope=col>product_label</th><th scope=col>file</th></tr></thead>\n",
       "<tbody>\n",
       "\t<tr><td>Christian Louboutin</td><td>0                  </td><td>shoes              </td><td>0                  </td><td>0_0_001.png        </td></tr>\n",
       "\t<tr><td>Christian Louboutin</td><td>0                  </td><td>shoes              </td><td>0                  </td><td>0_0_002.png        </td></tr>\n",
       "\t<tr><td>Christian Louboutin</td><td>0                  </td><td>shoes              </td><td>0                  </td><td>0_0_003.png        </td></tr>\n",
       "\t<tr><td>Christian Louboutin</td><td>0                  </td><td>shoes              </td><td>0                  </td><td>0_0_004.png        </td></tr>\n",
       "\t<tr><td>Christian Louboutin</td><td>0                  </td><td>shoes              </td><td>0                  </td><td>0_0_005.png        </td></tr>\n",
       "\t<tr><td>Christian Louboutin</td><td>0                  </td><td>shoes              </td><td>0                  </td><td>0_0_006.png        </td></tr>\n",
       "</tbody>\n",
       "</table>\n"
      ],
      "text/latex": [
       "\\begin{tabular}{r|lllll}\n",
       " brand\\_name & brand\\_label & product\\_name & product\\_label & file\\\\\n",
       "\\hline\n",
       "\t Christian Louboutin & 0                   & shoes               & 0                   & 0\\_0\\_001.png    \\\\\n",
       "\t Christian Louboutin & 0                   & shoes               & 0                   & 0\\_0\\_002.png    \\\\\n",
       "\t Christian Louboutin & 0                   & shoes               & 0                   & 0\\_0\\_003.png    \\\\\n",
       "\t Christian Louboutin & 0                   & shoes               & 0                   & 0\\_0\\_004.png    \\\\\n",
       "\t Christian Louboutin & 0                   & shoes               & 0                   & 0\\_0\\_005.png    \\\\\n",
       "\t Christian Louboutin & 0                   & shoes               & 0                   & 0\\_0\\_006.png    \\\\\n",
       "\\end{tabular}\n"
      ],
      "text/markdown": [
       "\n",
       "brand_name | brand_label | product_name | product_label | file | \n",
       "|---|---|---|---|---|---|\n",
       "| Christian Louboutin | 0                   | shoes               | 0                   | 0_0_001.png         | \n",
       "| Christian Louboutin | 0                   | shoes               | 0                   | 0_0_002.png         | \n",
       "| Christian Louboutin | 0                   | shoes               | 0                   | 0_0_003.png         | \n",
       "| Christian Louboutin | 0                   | shoes               | 0                   | 0_0_004.png         | \n",
       "| Christian Louboutin | 0                   | shoes               | 0                   | 0_0_005.png         | \n",
       "| Christian Louboutin | 0                   | shoes               | 0                   | 0_0_006.png         | \n",
       "\n",
       "\n"
      ],
      "text/plain": [
       "  brand_name          brand_label product_name product_label file       \n",
       "1 Christian Louboutin 0           shoes        0             0_0_001.png\n",
       "2 Christian Louboutin 0           shoes        0             0_0_002.png\n",
       "3 Christian Louboutin 0           shoes        0             0_0_003.png\n",
       "4 Christian Louboutin 0           shoes        0             0_0_004.png\n",
       "5 Christian Louboutin 0           shoes        0             0_0_005.png\n",
       "6 Christian Louboutin 0           shoes        0             0_0_006.png"
      ]
     },
     "metadata": {},
     "output_type": "display_data"
    }
   ],
   "source": [
    "data<-read.csv('../input/style/style.csv')\n",
    "head(data)"
   ]
  },
  {
   "cell_type": "code",
   "execution_count": 5,
   "metadata": {
    "_uuid": "3514a7162da694d3329dd7657d1c1ad4fe2b27a1"
   },
   "outputs": [
    {
     "data": {
      "text/html": [
       "<ol class=list-inline>\n",
       "\t<li>150</li>\n",
       "\t<li>150</li>\n",
       "\t<li>1</li>\n",
       "\t<li>4</li>\n",
       "</ol>\n"
      ],
      "text/latex": [
       "\\begin{enumerate*}\n",
       "\\item 150\n",
       "\\item 150\n",
       "\\item 1\n",
       "\\item 4\n",
       "\\end{enumerate*}\n"
      ],
      "text/markdown": [
       "1. 150\n",
       "2. 150\n",
       "3. 1\n",
       "4. 4\n",
       "\n",
       "\n"
      ],
      "text/plain": [
       "[1] 150 150   1   4"
      ]
     },
     "metadata": {},
     "output_type": "display_data"
    },
    {
     "data": {
      "image/png": "[encoded data removed]"
     },
     "metadata": {},
     "output_type": "display_data"
    }
   ],
   "source": [
    "im<-load.image(\"../input/style/0_0_005.png\")\n",
    "options(repr.plot.width=2,repr.plot.height=2)\n",
    "par(mar=c(2,2,2,2)); dim(im)\n",
    "plot(im)"
   ]
  },
  {
   "cell_type": "code",
   "execution_count": 6,
   "metadata": {
    "_uuid": "39c20c1195d319386a31f1229f53b43db42e8e1f"
   },
   "outputs": [
    {
     "data": {
      "text/html": [
       "<ol class=list-inline>\n",
       "\t<li>'../input/style/6_9_016.png'</li>\n",
       "\t<li>'../input/style/6_9_017.png'</li>\n",
       "\t<li>'../input/style/6_9_018.png'</li>\n",
       "\t<li>'../input/style/6_9_019.png'</li>\n",
       "\t<li>'../input/style/6_9_020.png'</li>\n",
       "\t<li>'../input/style/6_9_021.png'</li>\n",
       "</ol>\n"
      ],
      "text/latex": [
       "\\begin{enumerate*}\n",
       "\\item '../input/style/6\\_9\\_016.png'\n",
       "\\item '../input/style/6\\_9\\_017.png'\n",
       "\\item '../input/style/6\\_9\\_018.png'\n",
       "\\item '../input/style/6\\_9\\_019.png'\n",
       "\\item '../input/style/6\\_9\\_020.png'\n",
       "\\item '../input/style/6\\_9\\_021.png'\n",
       "\\end{enumerate*}\n"
      ],
      "text/markdown": [
       "1. '../input/style/6_9_016.png'\n",
       "2. '../input/style/6_9_017.png'\n",
       "3. '../input/style/6_9_018.png'\n",
       "4. '../input/style/6_9_019.png'\n",
       "5. '../input/style/6_9_020.png'\n",
       "6. '../input/style/6_9_021.png'\n",
       "\n",
       "\n"
      ],
      "text/plain": [
       "[1] \"../input/style/6_9_016.png\" \"../input/style/6_9_017.png\"\n",
       "[3] \"../input/style/6_9_018.png\" \"../input/style/6_9_019.png\"\n",
       "[5] \"../input/style/6_9_020.png\" \"../input/style/6_9_021.png\""
      ]
     },
     "metadata": {},
     "output_type": "display_data"
    }
   ],
   "source": [
    "image_paths<-list.files(\"../input/style\", \n",
    "                        recursive=TRUE,full.names=TRUE)\n",
    "image_paths<-image_paths[1:(length(image_paths)-2)]\n",
    "tail(image_paths)"
   ]
  },
  {
   "cell_type": "code",
   "execution_count": 7,
   "metadata": {
    "_uuid": "6a67cba65d3d572d01515440614f4f4f6346cc15"
   },
   "outputs": [
    {
     "data": {
      "text/html": [
       "<strong>$brand_name</strong> = <ol class=list-inline>\n",
       "\t<li>Christian Louboutin</li>\n",
       "\t<li>Chanel</li>\n",
       "\t<li>Dolce &amp; Gabbana</li>\n",
       "\t<li>Gucci</li>\n",
       "\t<li>Christian Dior</li>\n",
       "\t<li>Versace</li>\n",
       "\t<li>Yves Saint Laurent</li>\n",
       "</ol>\n",
       "\n",
       "<details>\n",
       "\t<summary style=display:list-item;cursor:pointer>\n",
       "\t\t<strong>Levels</strong>:\n",
       "\t</summary>\n",
       "\t<ol class=list-inline>\n",
       "\t\t<li>'Chanel'</li>\n",
       "\t\t<li>'Christian Dior'</li>\n",
       "\t\t<li>'Christian Louboutin'</li>\n",
       "\t\t<li>'Dolce &amp; Gabbana'</li>\n",
       "\t\t<li>'Gucci'</li>\n",
       "\t\t<li>'Versace'</li>\n",
       "\t\t<li>'Yves Saint Laurent'</li>\n",
       "\t</ol>\n",
       "</details>"
      ],
      "text/latex": [
       "\\textbf{\\$brand\\_name} = \\begin{enumerate*}\n",
       "\\item Christian Louboutin\n",
       "\\item Chanel\n",
       "\\item Dolce \\& Gabbana\n",
       "\\item Gucci\n",
       "\\item Christian Dior\n",
       "\\item Versace\n",
       "\\item Yves Saint Laurent\n",
       "\\end{enumerate*}\n",
       "\n",
       "\\emph{Levels}: \\begin{enumerate*}\n",
       "\\item 'Chanel'\n",
       "\\item 'Christian Dior'\n",
       "\\item 'Christian Louboutin'\n",
       "\\item 'Dolce \\& Gabbana'\n",
       "\\item 'Gucci'\n",
       "\\item 'Versace'\n",
       "\\item 'Yves Saint Laurent'\n",
       "\\end{enumerate*}\n"
      ],
      "text/markdown": [
       "**$brand_name** = 1. Christian Louboutin\n",
       "2. Chanel\n",
       "3. Dolce &amp; Gabbana\n",
       "4. Gucci\n",
       "5. Christian Dior\n",
       "6. Versace\n",
       "7. Yves Saint Laurent\n",
       "\n",
       "\n",
       "\n",
       "**Levels**: 1. 'Chanel'\n",
       "2. 'Christian Dior'\n",
       "3. 'Christian Louboutin'\n",
       "4. 'Dolce &amp; Gabbana'\n",
       "5. 'Gucci'\n",
       "6. 'Versace'\n",
       "7. 'Yves Saint Laurent'\n",
       "\n",
       "\n"
      ],
      "text/plain": [
       "$brand_name\n",
       "[1] Christian Louboutin Chanel              Dolce & Gabbana    \n",
       "[4] Gucci               Christian Dior      Versace            \n",
       "[7] Yves Saint Laurent \n",
       "7 Levels: Chanel Christian Dior Christian Louboutin Dolce & Gabbana ... Yves Saint Laurent\n"
      ]
     },
     "metadata": {},
     "output_type": "display_data"
    },
    {
     "data": {
      "text/html": [
       "<strong>$product_name</strong> = <ol class=list-inline>\n",
       "\t<li>shoes</li>\n",
       "\t<li>lipstick</li>\n",
       "\t<li>handbag</li>\n",
       "\t<li>nail polish</li>\n",
       "\t<li>boots</li>\n",
       "\t<li>necklace</li>\n",
       "\t<li>watches</li>\n",
       "\t<li>ring</li>\n",
       "\t<li>bracelet</li>\n",
       "\t<li>earrings</li>\n",
       "</ol>\n",
       "\n",
       "<details>\n",
       "\t<summary style=display:list-item;cursor:pointer>\n",
       "\t\t<strong>Levels</strong>:\n",
       "\t</summary>\n",
       "\t<ol class=list-inline>\n",
       "\t\t<li>'boots'</li>\n",
       "\t\t<li>'bracelet'</li>\n",
       "\t\t<li>'earrings'</li>\n",
       "\t\t<li>'handbag'</li>\n",
       "\t\t<li>'lipstick'</li>\n",
       "\t\t<li>'nail polish'</li>\n",
       "\t\t<li>'necklace'</li>\n",
       "\t\t<li>'ring'</li>\n",
       "\t\t<li>'shoes'</li>\n",
       "\t\t<li>'watches'</li>\n",
       "\t</ol>\n",
       "</details>"
      ],
      "text/latex": [
       "\\textbf{\\$product\\_name} = \\begin{enumerate*}\n",
       "\\item shoes\n",
       "\\item lipstick\n",
       "\\item handbag\n",
       "\\item nail polish\n",
       "\\item boots\n",
       "\\item necklace\n",
       "\\item watches\n",
       "\\item ring\n",
       "\\item bracelet\n",
       "\\item earrings\n",
       "\\end{enumerate*}\n",
       "\n",
       "\\emph{Levels}: \\begin{enumerate*}\n",
       "\\item 'boots'\n",
       "\\item 'bracelet'\n",
       "\\item 'earrings'\n",
       "\\item 'handbag'\n",
       "\\item 'lipstick'\n",
       "\\item 'nail polish'\n",
       "\\item 'necklace'\n",
       "\\item 'ring'\n",
       "\\item 'shoes'\n",
       "\\item 'watches'\n",
       "\\end{enumerate*}\n"
      ],
      "text/markdown": [
       "**$product_name** = 1. shoes\n",
       "2. lipstick\n",
       "3. handbag\n",
       "4. nail polish\n",
       "5. boots\n",
       "6. necklace\n",
       "7. watches\n",
       "8. ring\n",
       "9. bracelet\n",
       "10. earrings\n",
       "\n",
       "\n",
       "\n",
       "**Levels**: 1. 'boots'\n",
       "2. 'bracelet'\n",
       "3. 'earrings'\n",
       "4. 'handbag'\n",
       "5. 'lipstick'\n",
       "6. 'nail polish'\n",
       "7. 'necklace'\n",
       "8. 'ring'\n",
       "9. 'shoes'\n",
       "10. 'watches'\n",
       "\n",
       "\n"
      ],
      "text/plain": [
       "$product_name\n",
       " [1] shoes       lipstick    handbag     nail polish boots       necklace   \n",
       " [7] watches     ring        bracelet    earrings   \n",
       "10 Levels: boots bracelet earrings handbag lipstick nail polish ... watches\n"
      ]
     },
     "metadata": {},
     "output_type": "display_data"
    }
   ],
   "source": [
    "c(unique(data['brand_name'])); c(unique(data['product_name']))"
   ]
  },
  {
   "cell_type": "markdown",
   "metadata": {
    "_cell_guid": "e567068e-67a7-417a-a0b5-be06c6536bb6",
    "_uuid": "990e810747407481e3d9b9ecb0fe3a1e8fbd8d27"
   },
   "source": [
    "<h1 class='font-effect-fire-animation' style='color:#37c9e1; font-family:Akronim;'> &#x1F310; &nbsp; Implementation of Preprocessing Functions </h1>"
   ]
  },
  {
   "cell_type": "code",
   "execution_count": 8,
   "metadata": {
    "_uuid": "84f1017021f6f045ab80ca1cac6694b6312f3c25"
   },
   "outputs": [
    {
     "data": {
      "text/html": [
       "<ol class=list-inline>\n",
       "\t<li>2184</li>\n",
       "\t<li>1</li>\n",
       "\t<li>2184</li>\n",
       "\t<li>1</li>\n",
       "\t<li>2184</li>\n",
       "\t<li>7</li>\n",
       "\t<li>2184</li>\n",
       "\t<li>10</li>\n",
       "</ol>\n"
      ],
      "text/latex": [
       "\\begin{enumerate*}\n",
       "\\item 2184\n",
       "\\item 1\n",
       "\\item 2184\n",
       "\\item 1\n",
       "\\item 2184\n",
       "\\item 7\n",
       "\\item 2184\n",
       "\\item 10\n",
       "\\end{enumerate*}\n"
      ],
      "text/markdown": [
       "1. 2184\n",
       "2. 1\n",
       "3. 2184\n",
       "4. 1\n",
       "5. 2184\n",
       "6. 7\n",
       "7. 2184\n",
       "8. 10\n",
       "\n",
       "\n"
      ],
      "text/plain": [
       "[1] 2184    1 2184    1 2184    7 2184   10"
      ]
     },
     "metadata": {},
     "output_type": "display_data"
    }
   ],
   "source": [
    "brands<-as.matrix(data[\"brand_label\"])\n",
    "products<-as.matrix(data[\"product_label\"])\n",
    "brand_targets<-keras::to_categorical(brands,7)\n",
    "product_targets<-keras::to_categorical(products,10)\n",
    "c(dim(brands),dim(products),\n",
    "  dim(brand_targets),dim(product_targets))"
   ]
  },
  {
   "cell_type": "code",
   "execution_count": 9,
   "metadata": {
    "_uuid": "c1397522bedad30e09ddfa684875d93bbb66e0c0"
   },
   "outputs": [],
   "source": [
    "images<-lapply(image_paths,image_loading)"
   ]
  },
  {
   "cell_type": "code",
   "execution_count": 10,
   "metadata": {},
   "outputs": [
    {
     "data": {
      "text/html": [
       "<ol class=list-inline>\n",
       "\t<li>2184</li>\n",
       "\t<li>67500</li>\n",
       "\t<li>2184</li>\n",
       "\t<li>17</li>\n",
       "</ol>\n"
      ],
      "text/latex": [
       "\\begin{enumerate*}\n",
       "\\item 2184\n",
       "\\item 67500\n",
       "\\item 2184\n",
       "\\item 17\n",
       "\\end{enumerate*}\n"
      ],
      "text/markdown": [
       "1. 2184\n",
       "2. 67500\n",
       "3. 2184\n",
       "4. 17\n",
       "\n",
       "\n"
      ],
      "text/plain": [
       "[1]  2184 67500  2184    17"
      ]
     },
     "metadata": {},
     "output_type": "display_data"
    }
   ],
   "source": [
    "images<-array_reshape(images,c(-1,150*150*3))\n",
    "targets<-cbind(brand_targets,product_targets)\n",
    "c(dim(images),dim(targets))"
   ]
  },
  {
   "cell_type": "code",
   "execution_count": 11,
   "metadata": {
    "_uuid": "b1fdc5db216ea4ce9f84094f6658570cd9c41402"
   },
   "outputs": [
    {
     "data": {
      "text/html": [
       "<ol class=list-inline>\n",
       "\t<li>2184</li>\n",
       "\t<li>67534</li>\n",
       "</ol>\n"
      ],
      "text/latex": [
       "\\begin{enumerate*}\n",
       "\\item 2184\n",
       "\\item 67534\n",
       "\\end{enumerate*}\n"
      ],
      "text/markdown": [
       "1. 2184\n",
       "2. 67534\n",
       "\n",
       "\n"
      ],
      "text/plain": [
       "[1]  2184 67534"
      ]
     },
     "metadata": {},
     "output_type": "display_data"
    }
   ],
   "source": [
    "df<-data.frame(images,brand_targets,\n",
    "               product_targets,targets)\n",
    "df<-df[sample(nrow(df)),]; dim(df)"
   ]
  },
  {
   "cell_type": "code",
   "execution_count": 12,
   "metadata": {
    "_uuid": "9793cf6e3509a9837aa6c35b2f1399da6d159221"
   },
   "outputs": [
    {
     "data": {
      "text/html": [
       "<ol class=list-inline>\n",
       "\t<li>'Dimensions:'</li>\n",
       "\t<li>'150'</li>\n",
       "\t<li>'150'</li>\n",
       "\t<li>'3'</li>\n",
       "\t<li><span style=white-space:pre-wrap>'  '</span></li>\n",
       "\t<li>'Brand: '</li>\n",
       "\t<li>'1'</li>\n",
       "\t<li><span style=white-space:pre-wrap>'  '</span></li>\n",
       "\t<li>'Product: '</li>\n",
       "\t<li>'2'</li>\n",
       "</ol>\n"
      ],
      "text/latex": [
       "\\begin{enumerate*}\n",
       "\\item 'Dimensions:'\n",
       "\\item '150'\n",
       "\\item '150'\n",
       "\\item '3'\n",
       "\\item '  '\n",
       "\\item 'Brand: '\n",
       "\\item '1'\n",
       "\\item '  '\n",
       "\\item 'Product: '\n",
       "\\item '2'\n",
       "\\end{enumerate*}\n"
      ],
      "text/markdown": [
       "1. 'Dimensions:'\n",
       "2. '150'\n",
       "3. '150'\n",
       "4. '3'\n",
       "5. <span style=white-space:pre-wrap>'  '</span>\n",
       "6. 'Brand: '\n",
       "7. '1'\n",
       "8. <span style=white-space:pre-wrap>'  '</span>\n",
       "9. 'Product: '\n",
       "10. '2'\n",
       "\n",
       "\n"
      ],
      "text/plain": [
       " [1] \"Dimensions:\" \"150\"         \"150\"         \"3\"           \"  \"         \n",
       " [6] \"Brand: \"     \"1\"           \"  \"          \"Product: \"   \"2\"          "
      ]
     },
     "metadata": {},
     "output_type": "display_data"
    },
    {
     "data": {
      "image/png": "[encoded data removed]"
     },
     "metadata": {},
     "output_type": "display_data"
    }
   ],
   "source": [
    "options(repr.plot.width=2,repr.plot.height=2)\n",
    "par(mar=c(2,2,2,2))\n",
    "image_example<-array_reshape(as.matrix(df[200,1:67500]),\n",
    "                             c(150,150,3))\n",
    "plot(as.raster(image_example))\n",
    "c(\"Dimensions:\",dim(image_example),\"  \", \n",
    "  \"Brand: \",which(df[200,67501:67507]==1),\"  \",\n",
    "  \"Product: \",which(df[200,67508:67517]==1))"
   ]
  },
  {
   "cell_type": "code",
   "execution_count": 13,
   "metadata": {
    "_uuid": "246ba0293b123d6f6a084b134c754ece29b9ef33"
   },
   "outputs": [],
   "source": [
    "train_indices<-1:round(0.8*nrow(df))\n",
    "valid_indices<-(round(0.8*nrow(df))+1):round(0.9*nrow(df))\n",
    "test_indices<-(round(0.9*nrow(df))+1):nrow(df)"
   ]
  },
  {
   "cell_type": "code",
   "execution_count": 14,
   "metadata": {
    "_uuid": "15869af4d68818bb1a102bdafe60cdde0745d8a2"
   },
   "outputs": [],
   "source": [
    "# color images\n",
    "x_train1<-as.matrix(df[train_indices,1:67500])\n",
    "x_valid1<-as.matrix(df[valid_indices,1:67500])\n",
    "x_test1<-as.matrix(df[test_indices,1:67500])\n",
    "# brand targets\n",
    "y_train1<-as.matrix(df[train_indices,67501:67507])\n",
    "y_valid1<-as.matrix(df[valid_indices,67501:67507])\n",
    "y_test1<-as.matrix(df[test_indices,67501:67507])\n",
    "# product targets\n",
    "y_train2<-as.matrix(df[train_indices,67508:67517])\n",
    "y_valid2<-as.matrix(df[valid_indices,67508:67517])\n",
    "y_test2<-as.matrix(df[test_indices,67508:67517])\n",
    "# multi-label targets\n",
    "y_train3<-as.matrix(df[train_indices,67518:67534])\n",
    "y_valid3<-as.matrix(df[valid_indices,67518:67534])\n",
    "y_test3<-as.matrix(df[test_indices,67518:67534])"
   ]
  },
  {
   "cell_type": "code",
   "execution_count": 15,
   "metadata": {
    "_uuid": "2f9bd535e94c501cf3b817edb2652446a8d7641a"
   },
   "outputs": [
    {
     "data": {
      "text/html": [
       "<ol class=list-inline>\n",
       "\t<li>1747</li>\n",
       "\t<li>67500</li>\n",
       "\t<li>219</li>\n",
       "\t<li>67500</li>\n",
       "\t<li>218</li>\n",
       "\t<li>67500</li>\n",
       "\t<li>1747</li>\n",
       "\t<li>17</li>\n",
       "\t<li>219</li>\n",
       "\t<li>17</li>\n",
       "\t<li>218</li>\n",
       "\t<li>17</li>\n",
       "</ol>\n"
      ],
      "text/latex": [
       "\\begin{enumerate*}\n",
       "\\item 1747\n",
       "\\item 67500\n",
       "\\item 219\n",
       "\\item 67500\n",
       "\\item 218\n",
       "\\item 67500\n",
       "\\item 1747\n",
       "\\item 17\n",
       "\\item 219\n",
       "\\item 17\n",
       "\\item 218\n",
       "\\item 17\n",
       "\\end{enumerate*}\n"
      ],
      "text/markdown": [
       "1. 1747\n",
       "2. 67500\n",
       "3. 219\n",
       "4. 67500\n",
       "5. 218\n",
       "6. 67500\n",
       "7. 1747\n",
       "8. 17\n",
       "9. 219\n",
       "10. 17\n",
       "11. 218\n",
       "12. 17\n",
       "\n",
       "\n"
      ],
      "text/plain": [
       " [1]  1747 67500   219 67500   218 67500  1747    17   219    17   218    17"
      ]
     },
     "metadata": {},
     "output_type": "display_data"
    }
   ],
   "source": [
    "c(dim(x_train1),dim(x_valid1),dim(x_test1),\n",
    "  dim(y_train3),dim(y_valid3),dim(y_test3))"
   ]
  },
  {
   "cell_type": "code",
   "execution_count": 16,
   "metadata": {
    "_uuid": "0ab473bd4c7a01f83aadb8110523f294892e8258"
   },
   "outputs": [],
   "source": [
    "gray_images<-lapply(image_paths,image_grayscaled_loading)\n",
    "gray_images<-array_reshape(gray_images,c(-1,150*150))"
   ]
  },
  {
   "cell_type": "code",
   "execution_count": 17,
   "metadata": {
    "_uuid": "5ca077973d9272ab8a17773a654085892412975b"
   },
   "outputs": [
    {
     "data": {
      "text/html": [
       "<ol class=list-inline>\n",
       "\t<li>2184</li>\n",
       "\t<li>22534</li>\n",
       "</ol>\n"
      ],
      "text/latex": [
       "\\begin{enumerate*}\n",
       "\\item 2184\n",
       "\\item 22534\n",
       "\\end{enumerate*}\n"
      ],
      "text/markdown": [
       "1. 2184\n",
       "2. 22534\n",
       "\n",
       "\n"
      ],
      "text/plain": [
       "[1]  2184 22534"
      ]
     },
     "metadata": {},
     "output_type": "display_data"
    }
   ],
   "source": [
    "gray_df<-data.frame(gray_images,brand_targets,\n",
    "                    product_targets,targets)\n",
    "gray_df<-gray_df[sample(nrow(gray_df)),]; dim(gray_df)"
   ]
  },
  {
   "cell_type": "code",
   "execution_count": 18,
   "metadata": {
    "_uuid": "4ef14e692780e034a628f92cf26fb45d6e556cfe"
   },
   "outputs": [
    {
     "data": {
      "text/html": [
       "<ol class=list-inline>\n",
       "\t<li>'Dimensions:'</li>\n",
       "\t<li>'150'</li>\n",
       "\t<li>'150'</li>\n",
       "\t<li><span style=white-space:pre-wrap>'  '</span></li>\n",
       "\t<li>'Brand: '</li>\n",
       "\t<li>'2'</li>\n",
       "\t<li><span style=white-space:pre-wrap>'  '</span></li>\n",
       "\t<li>'Product: '</li>\n",
       "\t<li>'5'</li>\n",
       "</ol>\n"
      ],
      "text/latex": [
       "\\begin{enumerate*}\n",
       "\\item 'Dimensions:'\n",
       "\\item '150'\n",
       "\\item '150'\n",
       "\\item '  '\n",
       "\\item 'Brand: '\n",
       "\\item '2'\n",
       "\\item '  '\n",
       "\\item 'Product: '\n",
       "\\item '5'\n",
       "\\end{enumerate*}\n"
      ],
      "text/markdown": [
       "1. 'Dimensions:'\n",
       "2. '150'\n",
       "3. '150'\n",
       "4. <span style=white-space:pre-wrap>'  '</span>\n",
       "5. 'Brand: '\n",
       "6. '2'\n",
       "7. <span style=white-space:pre-wrap>'  '</span>\n",
       "8. 'Product: '\n",
       "9. '5'\n",
       "\n",
       "\n"
      ],
      "text/plain": [
       "[1] \"Dimensions:\" \"150\"         \"150\"         \"  \"          \"Brand: \"    \n",
       "[6] \"2\"           \"  \"          \"Product: \"   \"5\"          "
      ]
     },
     "metadata": {},
     "output_type": "display_data"
    },
    {
     "data": {
      "image/png": "[encoded data removed]"
     },
     "metadata": {},
     "output_type": "display_data"
    }
   ],
   "source": [
    "options(repr.plot.width=2,repr.plot.height=2)\n",
    "par(mar=c(2,2,2,2))\n",
    "image_example<-array_reshape(as.matrix(gray_df[500,1:22500]),c(150,150))\n",
    "plot(as.raster(image_example))\n",
    "c(\"Dimensions:\", dim(image_example), \"  \", \n",
    "  \"Brand: \",which(gray_df[500,22501:22507]==1),\"  \",\n",
    "  \"Product: \",which(gray_df[500,22508:22517]==1))"
   ]
  },
  {
   "cell_type": "code",
   "execution_count": 19,
   "metadata": {
    "_uuid": "a8fafa3f0ef3a3c26a1bda122bfd7af4625e5890"
   },
   "outputs": [],
   "source": [
    "# gray_scaled images\n",
    "x_train2<-as.matrix(gray_df[train_indices,1:22500])\n",
    "x_valid2<-as.matrix(gray_df[valid_indices,1:22500])\n",
    "x_test2<-as.matrix(gray_df[test_indices,1:22500])\n",
    "# brand targets\n",
    "y_train4 <- as.matrix(gray_df[train_indices,22501:22507])\n",
    "y_valid4 <- as.matrix(gray_df[valid_indices,22501:22507])\n",
    "y_test4 <- as.matrix(gray_df[test_indices,22501:22507])\n",
    "# product targets\n",
    "y_train5 <- as.matrix(gray_df[train_indices,22508:22517])\n",
    "y_valid5 <- as.matrix(gray_df[valid_indices,22508:22517])\n",
    "y_test5 <- as.matrix(gray_df[test_indices,22508:22517])\n",
    "# multi-label targets\n",
    "y_train6 <- as.matrix(gray_df[train_indices,22518:22534])\n",
    "y_valid6 <- as.matrix(gray_df[valid_indices,22518:22534])\n",
    "y_test6 <- as.matrix(gray_df[test_indices,22518:22534])"
   ]
  },
  {
   "cell_type": "code",
   "execution_count": 20,
   "metadata": {
    "_uuid": "8d314bdb4e34b2ad04780a652f3f573b409fe24d"
   },
   "outputs": [
    {
     "data": {
      "text/html": [
       "<ol class=list-inline>\n",
       "\t<li>1747</li>\n",
       "\t<li>22500</li>\n",
       "\t<li>219</li>\n",
       "\t<li>22500</li>\n",
       "\t<li>218</li>\n",
       "\t<li>22500</li>\n",
       "\t<li>1747</li>\n",
       "\t<li>17</li>\n",
       "\t<li>219</li>\n",
       "\t<li>17</li>\n",
       "\t<li>218</li>\n",
       "\t<li>17</li>\n",
       "</ol>\n"
      ],
      "text/latex": [
       "\\begin{enumerate*}\n",
       "\\item 1747\n",
       "\\item 22500\n",
       "\\item 219\n",
       "\\item 22500\n",
       "\\item 218\n",
       "\\item 22500\n",
       "\\item 1747\n",
       "\\item 17\n",
       "\\item 219\n",
       "\\item 17\n",
       "\\item 218\n",
       "\\item 17\n",
       "\\end{enumerate*}\n"
      ],
      "text/markdown": [
       "1. 1747\n",
       "2. 22500\n",
       "3. 219\n",
       "4. 22500\n",
       "5. 218\n",
       "6. 22500\n",
       "7. 1747\n",
       "8. 17\n",
       "9. 219\n",
       "10. 17\n",
       "11. 218\n",
       "12. 17\n",
       "\n",
       "\n"
      ],
      "text/plain": [
       " [1]  1747 22500   219 22500   218 22500  1747    17   219    17   218    17"
      ]
     },
     "metadata": {},
     "output_type": "display_data"
    }
   ],
   "source": [
    "c(dim(x_train2),dim(x_valid2),dim(x_test2),\n",
    "  dim(y_train6),dim(y_valid6),dim(y_test6))"
   ]
  }
 ],
 "metadata": {
  "kernelspec": {
   "display_name": "R",
   "language": "R",
   "name": "ir"
  },
  "language_info": {
   "codemirror_mode": "r",
   "file_extension": ".r",
   "mimetype": "text/x-r-source",
   "name": "R",
   "pygments_lexer": "r",
   "version": "3.4.2"
  }
 },
 "nbformat": 4,
 "nbformat_minor": 4
}
