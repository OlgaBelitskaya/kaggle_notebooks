{
 "cells": [
  {
   "cell_type": "markdown",
   "execution_count": null,
   "metadata": {
    "papermill": {
     "duration": 0.008864,
     "end_time": "2020-08-28T11:42:50.301965",
     "exception": false,
     "start_time": "2020-08-28T11:42:50.293101",
     "status": "completed"
    },
    "tags": []
   },
   "source": [
    "Reading classics [Python Machine Learning 3rd Edition](https://github.com/rasbt/python-machine-learning-book-3rd-edition/blob/master/ch15/ch15_part1.ipynb)"
   ]
  },
  {
   "cell_type": "code",
   "execution_count": 1,
   "metadata": {
    "_cell_guid": "b1076dfc-b9ad-4769-8c92-a6c4dae69d19",
    "_kg_hide-input": true,
    "_uuid": "8f2839f25d086af736a60e9eeb907d3b93b6e0e5",
    "execution": {
     "iopub.execute_input": "2020-08-28T11:42:50.326622Z",
     "iopub.status.busy": "2020-08-28T11:42:50.325712Z",
     "iopub.status.idle": "2020-08-28T11:42:50.328859Z",
     "shell.execute_reply": "2020-08-28T11:42:50.328114Z"
    },
    "papermill": {
     "duration": 0.019013,
     "end_time": "2020-08-28T11:42:50.328981",
     "exception": false,
     "start_time": "2020-08-28T11:42:50.309968",
     "status": "completed"
    },
    "tags": []
   },
   "outputs": [],
   "source": [
    "from IPython.display import display,HTML\n",
    "c1,c2,f1,f2,fs1,fs2=\\\n",
    "'#11ff66','#6611ff','Lobster','Orbitron',30,10\n",
    "def dhtml(string,fontcolor=c1,font=f1,fontsize=fs1):\n",
    "    display(HTML(\"\"\"<style>\n",
    "    @import 'https://fonts.googleapis.com/css?family=\"\"\"\\\n",
    "    +font+\"\"\"&effect=3d-float';</style>\n",
    "    <h1 class='font-effect-3d-float' \n",
    "    style='font-family:\"\"\"+font+\\\n",
    "    \"\"\"; color:\"\"\"+fontcolor+\\\n",
    "    \"\"\"; font-size:\"\"\"+str(fontsize)+\"\"\"px;'>\n",
    "    %s</h1>\"\"\"%string))"
   ]
  },
  {
   "cell_type": "code",
   "execution_count": 2,
   "metadata": {
    "_cell_guid": "79c7e3d0-c299-4dcb-8224-4455121ee9b0",
    "_kg_hide-input": true,
    "_uuid": "d629ff2d2480ee46fbb7e2d37f6b5fab8052498a",
    "execution": {
     "iopub.execute_input": "2020-08-28T11:42:50.353545Z",
     "iopub.status.busy": "2020-08-28T11:42:50.352621Z",
     "iopub.status.idle": "2020-08-28T11:42:50.356836Z",
     "shell.execute_reply": "2020-08-28T11:42:50.357382Z"
    },
    "papermill": {
     "duration": 0.02111,
     "end_time": "2020-08-28T11:42:50.357554",
     "exception": false,
     "start_time": "2020-08-28T11:42:50.336444",
     "status": "completed"
    },
    "tags": []
   },
   "outputs": [
    {
     "data": {
      "text/html": [
       "<style>\n",
       "    @import 'https://fonts.googleapis.com/css?family=Lobster&effect=3d-float';</style>\n",
       "    <h1 class='font-effect-3d-float' \n",
       "    style='font-family:Lobster; color:#11ff66; font-size:30px;'>\n",
       "    Code Modules, Setting, & Functions</h1>"
      ],
      "text/plain": [
       "<IPython.core.display.HTML object>"
      ]
     },
     "metadata": {},
     "output_type": "display_data"
    }
   ],
   "source": [
    "dhtml('Code Modules, Setting, & Functions')"
   ]
  },
  {
   "cell_type": "code",
   "execution_count": 3,
   "metadata": {
    "execution": {
     "iopub.execute_input": "2020-08-28T11:42:50.380772Z",
     "iopub.status.busy": "2020-08-28T11:42:50.380008Z",
     "iopub.status.idle": "2020-08-28T11:42:58.524453Z",
     "shell.execute_reply": "2020-08-28T11:42:58.523718Z"
    },
    "papermill": {
     "duration": 8.159271,
     "end_time": "2020-08-28T11:42:58.524602",
     "exception": false,
     "start_time": "2020-08-28T11:42:50.365331",
     "status": "completed"
    },
    "tags": []
   },
   "outputs": [],
   "source": [
    "import warnings; warnings.filterwarnings('ignore')\n",
    "import tensorflow as tf,pylab as pl\n",
    "import pandas as pd,numpy as np\n",
    "import scipy.signal as sps\n",
    "import skimage.measure as sim\n",
    "import tensorflow.keras.layers as tkl\n",
    "import tensorflow.keras.utils as tku\n",
    "from IPython.core.magic import register_line_magic\n",
    "pd.set_option('precision',3)"
   ]
  },
  {
   "cell_type": "code",
   "execution_count": 4,
   "metadata": {
    "_kg_hide-input": true,
    "execution": {
     "iopub.execute_input": "2020-08-28T11:42:58.546416Z",
     "iopub.status.busy": "2020-08-28T11:42:58.545572Z",
     "iopub.status.idle": "2020-08-28T11:42:58.549977Z",
     "shell.execute_reply": "2020-08-28T11:42:58.549250Z"
    },
    "papermill": {
     "duration": 0.017269,
     "end_time": "2020-08-28T11:42:58.550107",
     "exception": false,
     "start_time": "2020-08-28T11:42:58.532838",
     "status": "completed"
    },
    "tags": []
   },
   "outputs": [
    {
     "data": {
      "text/html": [
       "<style>\n",
       "    @import 'https://fonts.googleapis.com/css?family=Lobster&effect=3d-float';</style>\n",
       "    <h1 class='font-effect-3d-float' \n",
       "    style='font-family:Lobster; color:#11ff66; font-size:30px;'>\n",
       "    Conv1d Exploration</h1>"
      ],
      "text/plain": [
       "<IPython.core.display.HTML object>"
      ]
     },
     "metadata": {},
     "output_type": "display_data"
    }
   ],
   "source": [
    "dhtml('Conv1d Exploration')"
   ]
  },
  {
   "cell_type": "code",
   "execution_count": 5,
   "metadata": {
    "execution": {
     "iopub.execute_input": "2020-08-28T11:42:58.574346Z",
     "iopub.status.busy": "2020-08-28T11:42:58.573630Z",
     "iopub.status.idle": "2020-08-28T11:42:58.927872Z",
     "shell.execute_reply": "2020-08-28T11:42:58.927281Z"
    },
    "papermill": {
     "duration": 0.369751,
     "end_time": "2020-08-28T11:42:58.928007",
     "exception": false,
     "start_time": "2020-08-28T11:42:58.558256",
     "status": "completed"
    },
    "tags": []
   },
   "outputs": [
    {
     "data": {
      "text/html": [
       "<style  type=\"text/css\" >\n",
       "#T_9f03c5bc_e923_11ea_8c57_0242ac130202row0_col0,#T_9f03c5bc_e923_11ea_8c57_0242ac130202row1_col3{\n",
       "            background-color:  #ff00ff;\n",
       "            color:  #f1f1f1;\n",
       "        }#T_9f03c5bc_e923_11ea_8c57_0242ac130202row0_col1,#T_9f03c5bc_e923_11ea_8c57_0242ac130202row1_col2{\n",
       "            background-color:  #bf40ff;\n",
       "            color:  #000000;\n",
       "        }#T_9f03c5bc_e923_11ea_8c57_0242ac130202row0_col2,#T_9f03c5bc_e923_11ea_8c57_0242ac130202row1_col1{\n",
       "            background-color:  #00ffff;\n",
       "            color:  #000000;\n",
       "        }#T_9f03c5bc_e923_11ea_8c57_0242ac130202row0_col3,#T_9f03c5bc_e923_11ea_8c57_0242ac130202row1_col0{\n",
       "            background-color:  #ce31ff;\n",
       "            color:  #f1f1f1;\n",
       "        }</style><table id=\"T_9f03c5bc_e923_11ea_8c57_0242ac130202\" ><thead>    <tr>        <th class=\"blank level0\" ></th>        <th class=\"col_heading level0 col0\" >0</th>        <th class=\"col_heading level0 col1\" >1</th>        <th class=\"col_heading level0 col2\" >2</th>        <th class=\"col_heading level0 col3\" >3</th>    </tr></thead><tbody>\n",
       "                <tr>\n",
       "                        <th id=\"T_9f03c5bc_e923_11ea_8c57_0242ac130202level0_row0\" class=\"row_heading level0 row0\" >w</th>\n",
       "                        <td id=\"T_9f03c5bc_e923_11ea_8c57_0242ac130202row0_col0\" class=\"data row0 col0\" >0.652</td>\n",
       "                        <td id=\"T_9f03c5bc_e923_11ea_8c57_0242ac130202row0_col1\" class=\"data row0 col1\" >0.511</td>\n",
       "                        <td id=\"T_9f03c5bc_e923_11ea_8c57_0242ac130202row0_col2\" class=\"data row0 col2\" >0.088</td>\n",
       "                        <td id=\"T_9f03c5bc_e923_11ea_8c57_0242ac130202row0_col3\" class=\"data row0 col3\" >0.543</td>\n",
       "            </tr>\n",
       "            <tr>\n",
       "                        <th id=\"T_9f03c5bc_e923_11ea_8c57_0242ac130202level0_row1\" class=\"row_heading level0 row1\" >w_rotated</th>\n",
       "                        <td id=\"T_9f03c5bc_e923_11ea_8c57_0242ac130202row1_col0\" class=\"data row1 col0\" >0.543</td>\n",
       "                        <td id=\"T_9f03c5bc_e923_11ea_8c57_0242ac130202row1_col1\" class=\"data row1 col1\" >0.088</td>\n",
       "                        <td id=\"T_9f03c5bc_e923_11ea_8c57_0242ac130202row1_col2\" class=\"data row1 col2\" >0.511</td>\n",
       "                        <td id=\"T_9f03c5bc_e923_11ea_8c57_0242ac130202row1_col3\" class=\"data row1 col3\" >0.652</td>\n",
       "            </tr>\n",
       "    </tbody></table>"
      ],
      "text/plain": [
       "<pandas.io.formats.style.Styler at 0x7f242d5ddfd0>"
      ]
     },
     "execution_count": 5,
     "metadata": {},
     "output_type": "execute_result"
    }
   ],
   "source": [
    "num_w,num_x=4,7 #num_w>3!\n",
    "w=np.random.random(num_w)\n",
    "x=np.random.random(num_x)\n",
    "w_rotated=np.array(w[::-1])\n",
    "pd.DataFrame([w,w_rotated],\n",
    "             index=['w','w_rotated'])\\\n",
    ".style.background_gradient(cmap='cool',axis=1)"
   ]
  },
  {
   "cell_type": "code",
   "execution_count": 6,
   "metadata": {
    "_kg_hide-output": true,
    "execution": {
     "iopub.execute_input": "2020-08-28T11:42:58.955935Z",
     "iopub.status.busy": "2020-08-28T11:42:58.955099Z",
     "iopub.status.idle": "2020-08-28T11:42:59.055712Z",
     "shell.execute_reply": "2020-08-28T11:42:59.055034Z"
    },
    "papermill": {
     "duration": 0.119434,
     "end_time": "2020-08-28T11:42:59.055839",
     "exception": false,
     "start_time": "2020-08-28T11:42:58.936405",
     "status": "completed"
    },
    "tags": []
   },
   "outputs": [
    {
     "data": {
      "text/html": [
       "<style  type=\"text/css\" >\n",
       "#T_9f0c9534_e923_11ea_8c57_0242ac130202row0_col0{\n",
       "            width:  10em;\n",
       "             height:  80%;\n",
       "            background:  linear-gradient(90deg,#6611ff 59.5%, transparent 59.5%);\n",
       "            max-width:  50px;\n",
       "        }#T_9f0c9534_e923_11ea_8c57_0242ac130202row0_col1,#T_9f0c9534_e923_11ea_8c57_0242ac130202row0_col2,#T_9f0c9534_e923_11ea_8c57_0242ac130202row1_col3,#T_9f0c9534_e923_11ea_8c57_0242ac130202row2_col0{\n",
       "            width:  10em;\n",
       "             height:  80%;\n",
       "            background:  linear-gradient(90deg,#6611ff 100.0%, transparent 100.0%);\n",
       "            max-width:  50px;\n",
       "        }#T_9f0c9534_e923_11ea_8c57_0242ac130202row0_col3{\n",
       "            width:  10em;\n",
       "             height:  80%;\n",
       "            background:  linear-gradient(90deg,#6611ff 67.4%, transparent 67.4%);\n",
       "            max-width:  50px;\n",
       "        }#T_9f0c9534_e923_11ea_8c57_0242ac130202row0_col4,#T_9f0c9534_e923_11ea_8c57_0242ac130202row0_col5,#T_9f0c9534_e923_11ea_8c57_0242ac130202row0_col6,#T_9f0c9534_e923_11ea_8c57_0242ac130202row1_col4,#T_9f0c9534_e923_11ea_8c57_0242ac130202row1_col5,#T_9f0c9534_e923_11ea_8c57_0242ac130202row1_col6,#T_9f0c9534_e923_11ea_8c57_0242ac130202row2_col1,#T_9f0c9534_e923_11ea_8c57_0242ac130202row2_col2,#T_9f0c9534_e923_11ea_8c57_0242ac130202row2_col3,#T_9f0c9534_e923_11ea_8c57_0242ac130202row2_col4,#T_9f0c9534_e923_11ea_8c57_0242ac130202row2_col5,#T_9f0c9534_e923_11ea_8c57_0242ac130202row2_col6{\n",
       "            max-width:  50px;\n",
       "        }#T_9f0c9534_e923_11ea_8c57_0242ac130202row1_col0{\n",
       "            width:  10em;\n",
       "             height:  80%;\n",
       "            background:  linear-gradient(90deg,#6611ff 48.0%, transparent 48.0%);\n",
       "            max-width:  50px;\n",
       "        }#T_9f0c9534_e923_11ea_8c57_0242ac130202row1_col1{\n",
       "            width:  10em;\n",
       "             height:  80%;\n",
       "            background:  linear-gradient(90deg,#6611ff 56.7%, transparent 56.7%);\n",
       "            max-width:  50px;\n",
       "        }#T_9f0c9534_e923_11ea_8c57_0242ac130202row1_col2{\n",
       "            width:  10em;\n",
       "             height:  80%;\n",
       "            background:  linear-gradient(90deg,#6611ff 55.9%, transparent 55.9%);\n",
       "            max-width:  50px;\n",
       "        }</style><table id=\"T_9f0c9534_e923_11ea_8c57_0242ac130202\" ><thead>    <tr>        <th class=\"blank level0\" ></th>        <th class=\"col_heading level0 col0\" >0</th>        <th class=\"col_heading level0 col1\" >1</th>        <th class=\"col_heading level0 col2\" >2</th>        <th class=\"col_heading level0 col3\" >3</th>        <th class=\"col_heading level0 col4\" >4</th>        <th class=\"col_heading level0 col5\" >5</th>        <th class=\"col_heading level0 col6\" >6</th>    </tr></thead><tbody>\n",
       "                <tr>\n",
       "                        <th id=\"T_9f0c9534_e923_11ea_8c57_0242ac130202level0_row0\" class=\"row_heading level0 row0\" >x</th>\n",
       "                        <td id=\"T_9f0c9534_e923_11ea_8c57_0242ac130202row0_col0\" class=\"data row0 col0\" >0.673</td>\n",
       "                        <td id=\"T_9f0c9534_e923_11ea_8c57_0242ac130202row0_col1\" class=\"data row0 col1\" >0.155</td>\n",
       "                        <td id=\"T_9f0c9534_e923_11ea_8c57_0242ac130202row0_col2\" class=\"data row0 col2\" >0.913</td>\n",
       "                        <td id=\"T_9f0c9534_e923_11ea_8c57_0242ac130202row0_col3\" class=\"data row0 col3\" >0.440</td>\n",
       "                        <td id=\"T_9f0c9534_e923_11ea_8c57_0242ac130202row0_col4\" class=\"data row0 col4\" >0.471</td>\n",
       "                        <td id=\"T_9f0c9534_e923_11ea_8c57_0242ac130202row0_col5\" class=\"data row0 col5\" >0.167</td>\n",
       "                        <td id=\"T_9f0c9534_e923_11ea_8c57_0242ac130202row0_col6\" class=\"data row0 col6\" >0.301</td>\n",
       "            </tr>\n",
       "            <tr>\n",
       "                        <th id=\"T_9f0c9534_e923_11ea_8c57_0242ac130202level0_row1\" class=\"row_heading level0 row1\" >w_rotated</th>\n",
       "                        <td id=\"T_9f0c9534_e923_11ea_8c57_0242ac130202row1_col0\" class=\"data row1 col0\" >0.543</td>\n",
       "                        <td id=\"T_9f0c9534_e923_11ea_8c57_0242ac130202row1_col1\" class=\"data row1 col1\" >0.088</td>\n",
       "                        <td id=\"T_9f0c9534_e923_11ea_8c57_0242ac130202row1_col2\" class=\"data row1 col2\" >0.511</td>\n",
       "                        <td id=\"T_9f0c9534_e923_11ea_8c57_0242ac130202row1_col3\" class=\"data row1 col3\" >0.652</td>\n",
       "                        <td id=\"T_9f0c9534_e923_11ea_8c57_0242ac130202row1_col4\" class=\"data row1 col4\" >nan</td>\n",
       "                        <td id=\"T_9f0c9534_e923_11ea_8c57_0242ac130202row1_col5\" class=\"data row1 col5\" >nan</td>\n",
       "                        <td id=\"T_9f0c9534_e923_11ea_8c57_0242ac130202row1_col6\" class=\"data row1 col6\" >nan</td>\n",
       "            </tr>\n",
       "            <tr>\n",
       "                        <th id=\"T_9f0c9534_e923_11ea_8c57_0242ac130202level0_row2\" class=\"row_heading level0 row2\" >y</th>\n",
       "                        <td id=\"T_9f0c9534_e923_11ea_8c57_0242ac130202row2_col0\" class=\"data row2 col0\" >1.132</td>\n",
       "                        <td id=\"T_9f0c9534_e923_11ea_8c57_0242ac130202row2_col1\" class=\"data row2 col1\" >nan</td>\n",
       "                        <td id=\"T_9f0c9534_e923_11ea_8c57_0242ac130202row2_col2\" class=\"data row2 col2\" >nan</td>\n",
       "                        <td id=\"T_9f0c9534_e923_11ea_8c57_0242ac130202row2_col3\" class=\"data row2 col3\" >nan</td>\n",
       "                        <td id=\"T_9f0c9534_e923_11ea_8c57_0242ac130202row2_col4\" class=\"data row2 col4\" >nan</td>\n",
       "                        <td id=\"T_9f0c9534_e923_11ea_8c57_0242ac130202row2_col5\" class=\"data row2 col5\" >nan</td>\n",
       "                        <td id=\"T_9f0c9534_e923_11ea_8c57_0242ac130202row2_col6\" class=\"data row2 col6\" >nan</td>\n",
       "            </tr>\n",
       "    </tbody></table>"
      ],
      "text/plain": [
       "<pandas.io.formats.style.Styler at 0x7f2410e41bd0>"
      ]
     },
     "metadata": {},
     "output_type": "display_data"
    },
    {
     "data": {
      "text/html": [
       "<style  type=\"text/css\" >\n",
       "#T_9f100b42_e923_11ea_8c57_0242ac130202row0_col0,#T_9f100b42_e923_11ea_8c57_0242ac130202row0_col5,#T_9f100b42_e923_11ea_8c57_0242ac130202row0_col6,#T_9f100b42_e923_11ea_8c57_0242ac130202row1_col0,#T_9f100b42_e923_11ea_8c57_0242ac130202row1_col5,#T_9f100b42_e923_11ea_8c57_0242ac130202row1_col6,#T_9f100b42_e923_11ea_8c57_0242ac130202row2_col0,#T_9f100b42_e923_11ea_8c57_0242ac130202row2_col2,#T_9f100b42_e923_11ea_8c57_0242ac130202row2_col3,#T_9f100b42_e923_11ea_8c57_0242ac130202row2_col4,#T_9f100b42_e923_11ea_8c57_0242ac130202row2_col5,#T_9f100b42_e923_11ea_8c57_0242ac130202row2_col6{\n",
       "            max-width:  50px;\n",
       "        }#T_9f100b42_e923_11ea_8c57_0242ac130202row0_col1{\n",
       "            width:  10em;\n",
       "             height:  80%;\n",
       "            background:  linear-gradient(90deg,#6611ff 22.3%, transparent 22.3%);\n",
       "            max-width:  50px;\n",
       "        }#T_9f100b42_e923_11ea_8c57_0242ac130202row0_col2,#T_9f100b42_e923_11ea_8c57_0242ac130202row1_col3,#T_9f100b42_e923_11ea_8c57_0242ac130202row1_col4,#T_9f100b42_e923_11ea_8c57_0242ac130202row2_col1{\n",
       "            width:  10em;\n",
       "             height:  80%;\n",
       "            background:  linear-gradient(90deg,#6611ff 100.0%, transparent 100.0%);\n",
       "            max-width:  50px;\n",
       "        }#T_9f100b42_e923_11ea_8c57_0242ac130202row0_col3{\n",
       "            width:  10em;\n",
       "             height:  80%;\n",
       "            background:  linear-gradient(90deg,#6611ff 86.1%, transparent 86.1%);\n",
       "            max-width:  50px;\n",
       "        }#T_9f100b42_e923_11ea_8c57_0242ac130202row0_col4{\n",
       "            width:  10em;\n",
       "             height:  80%;\n",
       "            background:  linear-gradient(90deg,#6611ff 72.2%, transparent 72.2%);\n",
       "            max-width:  50px;\n",
       "        }#T_9f100b42_e923_11ea_8c57_0242ac130202row1_col1{\n",
       "            width:  10em;\n",
       "             height:  80%;\n",
       "            background:  linear-gradient(90deg,#6611ff 78.1%, transparent 78.1%);\n",
       "            max-width:  50px;\n",
       "        }#T_9f100b42_e923_11ea_8c57_0242ac130202row1_col2{\n",
       "            width:  10em;\n",
       "             height:  80%;\n",
       "            background:  linear-gradient(90deg,#6611ff 9.6%, transparent 9.6%);\n",
       "            max-width:  50px;\n",
       "        }</style><table id=\"T_9f100b42_e923_11ea_8c57_0242ac130202\" ><thead>    <tr>        <th class=\"blank level0\" ></th>        <th class=\"col_heading level0 col0\" >0</th>        <th class=\"col_heading level0 col1\" >1</th>        <th class=\"col_heading level0 col2\" >2</th>        <th class=\"col_heading level0 col3\" >3</th>        <th class=\"col_heading level0 col4\" >4</th>        <th class=\"col_heading level0 col5\" >5</th>        <th class=\"col_heading level0 col6\" >6</th>    </tr></thead><tbody>\n",
       "                <tr>\n",
       "                        <th id=\"T_9f100b42_e923_11ea_8c57_0242ac130202level0_row0\" class=\"row_heading level0 row0\" >x</th>\n",
       "                        <td id=\"T_9f100b42_e923_11ea_8c57_0242ac130202row0_col0\" class=\"data row0 col0\" >0.673</td>\n",
       "                        <td id=\"T_9f100b42_e923_11ea_8c57_0242ac130202row0_col1\" class=\"data row0 col1\" >0.155</td>\n",
       "                        <td id=\"T_9f100b42_e923_11ea_8c57_0242ac130202row0_col2\" class=\"data row0 col2\" >0.913</td>\n",
       "                        <td id=\"T_9f100b42_e923_11ea_8c57_0242ac130202row0_col3\" class=\"data row0 col3\" >0.440</td>\n",
       "                        <td id=\"T_9f100b42_e923_11ea_8c57_0242ac130202row0_col4\" class=\"data row0 col4\" >0.471</td>\n",
       "                        <td id=\"T_9f100b42_e923_11ea_8c57_0242ac130202row0_col5\" class=\"data row0 col5\" >0.167</td>\n",
       "                        <td id=\"T_9f100b42_e923_11ea_8c57_0242ac130202row0_col6\" class=\"data row0 col6\" >0.301</td>\n",
       "            </tr>\n",
       "            <tr>\n",
       "                        <th id=\"T_9f100b42_e923_11ea_8c57_0242ac130202level0_row1\" class=\"row_heading level0 row1\" >w_rotated</th>\n",
       "                        <td id=\"T_9f100b42_e923_11ea_8c57_0242ac130202row1_col0\" class=\"data row1 col0\" >nan</td>\n",
       "                        <td id=\"T_9f100b42_e923_11ea_8c57_0242ac130202row1_col1\" class=\"data row1 col1\" >0.543</td>\n",
       "                        <td id=\"T_9f100b42_e923_11ea_8c57_0242ac130202row1_col2\" class=\"data row1 col2\" >0.088</td>\n",
       "                        <td id=\"T_9f100b42_e923_11ea_8c57_0242ac130202row1_col3\" class=\"data row1 col3\" >0.511</td>\n",
       "                        <td id=\"T_9f100b42_e923_11ea_8c57_0242ac130202row1_col4\" class=\"data row1 col4\" >0.652</td>\n",
       "                        <td id=\"T_9f100b42_e923_11ea_8c57_0242ac130202row1_col5\" class=\"data row1 col5\" >nan</td>\n",
       "                        <td id=\"T_9f100b42_e923_11ea_8c57_0242ac130202row1_col6\" class=\"data row1 col6\" >nan</td>\n",
       "            </tr>\n",
       "            <tr>\n",
       "                        <th id=\"T_9f100b42_e923_11ea_8c57_0242ac130202level0_row2\" class=\"row_heading level0 row2\" >y</th>\n",
       "                        <td id=\"T_9f100b42_e923_11ea_8c57_0242ac130202row2_col0\" class=\"data row2 col0\" >nan</td>\n",
       "                        <td id=\"T_9f100b42_e923_11ea_8c57_0242ac130202row2_col1\" class=\"data row2 col1\" >0.696</td>\n",
       "                        <td id=\"T_9f100b42_e923_11ea_8c57_0242ac130202row2_col2\" class=\"data row2 col2\" >nan</td>\n",
       "                        <td id=\"T_9f100b42_e923_11ea_8c57_0242ac130202row2_col3\" class=\"data row2 col3\" >nan</td>\n",
       "                        <td id=\"T_9f100b42_e923_11ea_8c57_0242ac130202row2_col4\" class=\"data row2 col4\" >nan</td>\n",
       "                        <td id=\"T_9f100b42_e923_11ea_8c57_0242ac130202row2_col5\" class=\"data row2 col5\" >nan</td>\n",
       "                        <td id=\"T_9f100b42_e923_11ea_8c57_0242ac130202row2_col6\" class=\"data row2 col6\" >nan</td>\n",
       "            </tr>\n",
       "    </tbody></table>"
      ],
      "text/plain": [
       "<pandas.io.formats.style.Styler at 0x7f242de37b50>"
      ]
     },
     "metadata": {},
     "output_type": "display_data"
    },
    {
     "data": {
      "text/html": [
       "<style  type=\"text/css\" >\n",
       "#T_9f13bcba_e923_11ea_8c57_0242ac130202row0_col0,#T_9f13bcba_e923_11ea_8c57_0242ac130202row0_col1,#T_9f13bcba_e923_11ea_8c57_0242ac130202row0_col6,#T_9f13bcba_e923_11ea_8c57_0242ac130202row1_col0,#T_9f13bcba_e923_11ea_8c57_0242ac130202row1_col1,#T_9f13bcba_e923_11ea_8c57_0242ac130202row1_col6,#T_9f13bcba_e923_11ea_8c57_0242ac130202row2_col0,#T_9f13bcba_e923_11ea_8c57_0242ac130202row2_col1,#T_9f13bcba_e923_11ea_8c57_0242ac130202row2_col3,#T_9f13bcba_e923_11ea_8c57_0242ac130202row2_col4,#T_9f13bcba_e923_11ea_8c57_0242ac130202row2_col5,#T_9f13bcba_e923_11ea_8c57_0242ac130202row2_col6{\n",
       "            max-width:  50px;\n",
       "        }#T_9f13bcba_e923_11ea_8c57_0242ac130202row0_col2,#T_9f13bcba_e923_11ea_8c57_0242ac130202row0_col3,#T_9f13bcba_e923_11ea_8c57_0242ac130202row1_col4,#T_9f13bcba_e923_11ea_8c57_0242ac130202row1_col5{\n",
       "            width:  10em;\n",
       "             height:  80%;\n",
       "            background:  linear-gradient(90deg,#6611ff 100.0%, transparent 100.0%);\n",
       "            max-width:  50px;\n",
       "        }#T_9f13bcba_e923_11ea_8c57_0242ac130202row0_col4{\n",
       "            width:  10em;\n",
       "             height:  80%;\n",
       "            background:  linear-gradient(90deg,#6611ff 92.2%, transparent 92.2%);\n",
       "            max-width:  50px;\n",
       "        }#T_9f13bcba_e923_11ea_8c57_0242ac130202row0_col5{\n",
       "            width:  10em;\n",
       "             height:  80%;\n",
       "            background:  linear-gradient(90deg,#6611ff 25.6%, transparent 25.6%);\n",
       "            max-width:  50px;\n",
       "        }#T_9f13bcba_e923_11ea_8c57_0242ac130202row1_col2{\n",
       "            width:  10em;\n",
       "             height:  80%;\n",
       "            background:  linear-gradient(90deg,#6611ff 59.5%, transparent 59.5%);\n",
       "            max-width:  50px;\n",
       "        }#T_9f13bcba_e923_11ea_8c57_0242ac130202row1_col3{\n",
       "            width:  10em;\n",
       "             height:  80%;\n",
       "            background:  linear-gradient(90deg,#6611ff 20.0%, transparent 20.0%);\n",
       "            max-width:  50px;\n",
       "        }#T_9f13bcba_e923_11ea_8c57_0242ac130202row2_col2{\n",
       "            width:  10em;\n",
       "             height:  80%;\n",
       "            background:  linear-gradient(90deg,#6611ff 96.8%, transparent 96.8%);\n",
       "            max-width:  50px;\n",
       "        }</style><table id=\"T_9f13bcba_e923_11ea_8c57_0242ac130202\" ><thead>    <tr>        <th class=\"blank level0\" ></th>        <th class=\"col_heading level0 col0\" >0</th>        <th class=\"col_heading level0 col1\" >1</th>        <th class=\"col_heading level0 col2\" >2</th>        <th class=\"col_heading level0 col3\" >3</th>        <th class=\"col_heading level0 col4\" >4</th>        <th class=\"col_heading level0 col5\" >5</th>        <th class=\"col_heading level0 col6\" >6</th>    </tr></thead><tbody>\n",
       "                <tr>\n",
       "                        <th id=\"T_9f13bcba_e923_11ea_8c57_0242ac130202level0_row0\" class=\"row_heading level0 row0\" >x</th>\n",
       "                        <td id=\"T_9f13bcba_e923_11ea_8c57_0242ac130202row0_col0\" class=\"data row0 col0\" >0.673</td>\n",
       "                        <td id=\"T_9f13bcba_e923_11ea_8c57_0242ac130202row0_col1\" class=\"data row0 col1\" >0.155</td>\n",
       "                        <td id=\"T_9f13bcba_e923_11ea_8c57_0242ac130202row0_col2\" class=\"data row0 col2\" >0.913</td>\n",
       "                        <td id=\"T_9f13bcba_e923_11ea_8c57_0242ac130202row0_col3\" class=\"data row0 col3\" >0.440</td>\n",
       "                        <td id=\"T_9f13bcba_e923_11ea_8c57_0242ac130202row0_col4\" class=\"data row0 col4\" >0.471</td>\n",
       "                        <td id=\"T_9f13bcba_e923_11ea_8c57_0242ac130202row0_col5\" class=\"data row0 col5\" >0.167</td>\n",
       "                        <td id=\"T_9f13bcba_e923_11ea_8c57_0242ac130202row0_col6\" class=\"data row0 col6\" >0.301</td>\n",
       "            </tr>\n",
       "            <tr>\n",
       "                        <th id=\"T_9f13bcba_e923_11ea_8c57_0242ac130202level0_row1\" class=\"row_heading level0 row1\" >w_rotated</th>\n",
       "                        <td id=\"T_9f13bcba_e923_11ea_8c57_0242ac130202row1_col0\" class=\"data row1 col0\" >nan</td>\n",
       "                        <td id=\"T_9f13bcba_e923_11ea_8c57_0242ac130202row1_col1\" class=\"data row1 col1\" >nan</td>\n",
       "                        <td id=\"T_9f13bcba_e923_11ea_8c57_0242ac130202row1_col2\" class=\"data row1 col2\" >0.543</td>\n",
       "                        <td id=\"T_9f13bcba_e923_11ea_8c57_0242ac130202row1_col3\" class=\"data row1 col3\" >0.088</td>\n",
       "                        <td id=\"T_9f13bcba_e923_11ea_8c57_0242ac130202row1_col4\" class=\"data row1 col4\" >0.511</td>\n",
       "                        <td id=\"T_9f13bcba_e923_11ea_8c57_0242ac130202row1_col5\" class=\"data row1 col5\" >0.652</td>\n",
       "                        <td id=\"T_9f13bcba_e923_11ea_8c57_0242ac130202row1_col6\" class=\"data row1 col6\" >nan</td>\n",
       "            </tr>\n",
       "            <tr>\n",
       "                        <th id=\"T_9f13bcba_e923_11ea_8c57_0242ac130202level0_row2\" class=\"row_heading level0 row2\" >y</th>\n",
       "                        <td id=\"T_9f13bcba_e923_11ea_8c57_0242ac130202row2_col0\" class=\"data row2 col0\" >nan</td>\n",
       "                        <td id=\"T_9f13bcba_e923_11ea_8c57_0242ac130202row2_col1\" class=\"data row2 col1\" >nan</td>\n",
       "                        <td id=\"T_9f13bcba_e923_11ea_8c57_0242ac130202row2_col2\" class=\"data row2 col2\" >0.884</td>\n",
       "                        <td id=\"T_9f13bcba_e923_11ea_8c57_0242ac130202row2_col3\" class=\"data row2 col3\" >nan</td>\n",
       "                        <td id=\"T_9f13bcba_e923_11ea_8c57_0242ac130202row2_col4\" class=\"data row2 col4\" >nan</td>\n",
       "                        <td id=\"T_9f13bcba_e923_11ea_8c57_0242ac130202row2_col5\" class=\"data row2 col5\" >nan</td>\n",
       "                        <td id=\"T_9f13bcba_e923_11ea_8c57_0242ac130202row2_col6\" class=\"data row2 col6\" >nan</td>\n",
       "            </tr>\n",
       "    </tbody></table>"
      ],
      "text/plain": [
       "<pandas.io.formats.style.Styler at 0x7f2410cb75d0>"
      ]
     },
     "metadata": {},
     "output_type": "display_data"
    },
    {
     "data": {
      "text/html": [
       "<style  type=\"text/css\" >\n",
       "#T_9f177044_e923_11ea_8c57_0242ac130202row0_col0,#T_9f177044_e923_11ea_8c57_0242ac130202row0_col1,#T_9f177044_e923_11ea_8c57_0242ac130202row0_col2,#T_9f177044_e923_11ea_8c57_0242ac130202row1_col0,#T_9f177044_e923_11ea_8c57_0242ac130202row1_col1,#T_9f177044_e923_11ea_8c57_0242ac130202row1_col2,#T_9f177044_e923_11ea_8c57_0242ac130202row2_col0,#T_9f177044_e923_11ea_8c57_0242ac130202row2_col1,#T_9f177044_e923_11ea_8c57_0242ac130202row2_col2,#T_9f177044_e923_11ea_8c57_0242ac130202row2_col4,#T_9f177044_e923_11ea_8c57_0242ac130202row2_col5,#T_9f177044_e923_11ea_8c57_0242ac130202row2_col6{\n",
       "            max-width:  50px;\n",
       "        }#T_9f177044_e923_11ea_8c57_0242ac130202row0_col3{\n",
       "            width:  10em;\n",
       "             height:  80%;\n",
       "            background:  linear-gradient(90deg,#6611ff 78.2%, transparent 78.2%);\n",
       "            max-width:  50px;\n",
       "        }#T_9f177044_e923_11ea_8c57_0242ac130202row0_col4,#T_9f177044_e923_11ea_8c57_0242ac130202row1_col5,#T_9f177044_e923_11ea_8c57_0242ac130202row1_col6,#T_9f177044_e923_11ea_8c57_0242ac130202row2_col3{\n",
       "            width:  10em;\n",
       "             height:  80%;\n",
       "            background:  linear-gradient(90deg,#6611ff 100.0%, transparent 100.0%);\n",
       "            max-width:  50px;\n",
       "        }#T_9f177044_e923_11ea_8c57_0242ac130202row0_col5{\n",
       "            width:  10em;\n",
       "             height:  80%;\n",
       "            background:  linear-gradient(90deg,#6611ff 32.7%, transparent 32.7%);\n",
       "            max-width:  50px;\n",
       "        }#T_9f177044_e923_11ea_8c57_0242ac130202row0_col6{\n",
       "            width:  10em;\n",
       "             height:  80%;\n",
       "            background:  linear-gradient(90deg,#6611ff 46.2%, transparent 46.2%);\n",
       "            max-width:  50px;\n",
       "        }#T_9f177044_e923_11ea_8c57_0242ac130202row1_col3{\n",
       "            width:  10em;\n",
       "             height:  80%;\n",
       "            background:  linear-gradient(90deg,#6611ff 96.7%, transparent 96.7%);\n",
       "            max-width:  50px;\n",
       "        }#T_9f177044_e923_11ea_8c57_0242ac130202row1_col4{\n",
       "            width:  10em;\n",
       "             height:  80%;\n",
       "            background:  linear-gradient(90deg,#6611ff 18.7%, transparent 18.7%);\n",
       "            max-width:  50px;\n",
       "        }</style><table id=\"T_9f177044_e923_11ea_8c57_0242ac130202\" ><thead>    <tr>        <th class=\"blank level0\" ></th>        <th class=\"col_heading level0 col0\" >0</th>        <th class=\"col_heading level0 col1\" >1</th>        <th class=\"col_heading level0 col2\" >2</th>        <th class=\"col_heading level0 col3\" >3</th>        <th class=\"col_heading level0 col4\" >4</th>        <th class=\"col_heading level0 col5\" >5</th>        <th class=\"col_heading level0 col6\" >6</th>    </tr></thead><tbody>\n",
       "                <tr>\n",
       "                        <th id=\"T_9f177044_e923_11ea_8c57_0242ac130202level0_row0\" class=\"row_heading level0 row0\" >x</th>\n",
       "                        <td id=\"T_9f177044_e923_11ea_8c57_0242ac130202row0_col0\" class=\"data row0 col0\" >0.673</td>\n",
       "                        <td id=\"T_9f177044_e923_11ea_8c57_0242ac130202row0_col1\" class=\"data row0 col1\" >0.155</td>\n",
       "                        <td id=\"T_9f177044_e923_11ea_8c57_0242ac130202row0_col2\" class=\"data row0 col2\" >0.913</td>\n",
       "                        <td id=\"T_9f177044_e923_11ea_8c57_0242ac130202row0_col3\" class=\"data row0 col3\" >0.440</td>\n",
       "                        <td id=\"T_9f177044_e923_11ea_8c57_0242ac130202row0_col4\" class=\"data row0 col4\" >0.471</td>\n",
       "                        <td id=\"T_9f177044_e923_11ea_8c57_0242ac130202row0_col5\" class=\"data row0 col5\" >0.167</td>\n",
       "                        <td id=\"T_9f177044_e923_11ea_8c57_0242ac130202row0_col6\" class=\"data row0 col6\" >0.301</td>\n",
       "            </tr>\n",
       "            <tr>\n",
       "                        <th id=\"T_9f177044_e923_11ea_8c57_0242ac130202level0_row1\" class=\"row_heading level0 row1\" >w_rotated</th>\n",
       "                        <td id=\"T_9f177044_e923_11ea_8c57_0242ac130202row1_col0\" class=\"data row1 col0\" >nan</td>\n",
       "                        <td id=\"T_9f177044_e923_11ea_8c57_0242ac130202row1_col1\" class=\"data row1 col1\" >nan</td>\n",
       "                        <td id=\"T_9f177044_e923_11ea_8c57_0242ac130202row1_col2\" class=\"data row1 col2\" >nan</td>\n",
       "                        <td id=\"T_9f177044_e923_11ea_8c57_0242ac130202row1_col3\" class=\"data row1 col3\" >0.543</td>\n",
       "                        <td id=\"T_9f177044_e923_11ea_8c57_0242ac130202row1_col4\" class=\"data row1 col4\" >0.088</td>\n",
       "                        <td id=\"T_9f177044_e923_11ea_8c57_0242ac130202row1_col5\" class=\"data row1 col5\" >0.511</td>\n",
       "                        <td id=\"T_9f177044_e923_11ea_8c57_0242ac130202row1_col6\" class=\"data row1 col6\" >0.652</td>\n",
       "            </tr>\n",
       "            <tr>\n",
       "                        <th id=\"T_9f177044_e923_11ea_8c57_0242ac130202level0_row2\" class=\"row_heading level0 row2\" >y</th>\n",
       "                        <td id=\"T_9f177044_e923_11ea_8c57_0242ac130202row2_col0\" class=\"data row2 col0\" >nan</td>\n",
       "                        <td id=\"T_9f177044_e923_11ea_8c57_0242ac130202row2_col1\" class=\"data row2 col1\" >nan</td>\n",
       "                        <td id=\"T_9f177044_e923_11ea_8c57_0242ac130202row2_col2\" class=\"data row2 col2\" >nan</td>\n",
       "                        <td id=\"T_9f177044_e923_11ea_8c57_0242ac130202row2_col3\" class=\"data row2 col3\" >0.562</td>\n",
       "                        <td id=\"T_9f177044_e923_11ea_8c57_0242ac130202row2_col4\" class=\"data row2 col4\" >nan</td>\n",
       "                        <td id=\"T_9f177044_e923_11ea_8c57_0242ac130202row2_col5\" class=\"data row2 col5\" >nan</td>\n",
       "                        <td id=\"T_9f177044_e923_11ea_8c57_0242ac130202row2_col6\" class=\"data row2 col6\" >nan</td>\n",
       "            </tr>\n",
       "    </tbody></table>"
      ],
      "text/plain": [
       "<pandas.io.formats.style.Styler at 0x7f242de37850>"
      ]
     },
     "metadata": {},
     "output_type": "display_data"
    }
   ],
   "source": [
    "def conv_step(x,i):\n",
    "    y=np.dot(x[i:i+len(w)],w_rotated)\n",
    "    display(\n",
    "        pd.DataFrame([x,i*[np.nan]+list(w_rotated),\n",
    "                      i*[np.nan]+[y]],\n",
    "                     index=['x','w_rotated','y'])\\\n",
    "        .style.bar(align='mid',color=c2,\n",
    "                   subset=list(range(i,i+len(w))))\\\n",
    "        .set_properties(**{'max-width':'50px'}))  \n",
    "for i in range(len(x)-len(w)+1): conv_step(x,i)"
   ]
  },
  {
   "cell_type": "code",
   "execution_count": 7,
   "metadata": {
    "execution": {
     "iopub.execute_input": "2020-08-28T11:42:59.087857Z",
     "iopub.status.busy": "2020-08-28T11:42:59.082451Z",
     "iopub.status.idle": "2020-08-28T11:42:59.130502Z",
     "shell.execute_reply": "2020-08-28T11:42:59.129862Z"
    },
    "papermill": {
     "duration": 0.065295,
     "end_time": "2020-08-28T11:42:59.130631",
     "exception": false,
     "start_time": "2020-08-28T11:42:59.065336",
     "status": "completed"
    },
    "tags": []
   },
   "outputs": [
    {
     "data": {
      "text/html": [
       "<style>\n",
       "    @import 'https://fonts.googleapis.com/css?family=Orbitron&effect=3d-float';</style>\n",
       "    <h1 class='font-effect-3d-float' \n",
       "    style='font-family:Orbitron; color:#6611ff; font-size:10px;'>\n",
       "    x: <br/>[0.67324837 0.15483326 0.91325406 0.4395432  0.47070641 0.16683894\n",
       " 0.30139649]<br/>padded x: </br>[0.         0.         0.67324837 0.15483326 0.91325406 0.4395432\n",
       " 0.47070641 0.16683894 0.30139649 0.         0.        ]<br/>w: <br/>[0.65167435 0.51070726 0.08782791 0.54324726]<br/>rotated w: <br/>[0.54324726 0.08782791 0.51070726 0.65167435]</h1>"
      ],
      "text/plain": [
       "<IPython.core.display.HTML object>"
      ]
     },
     "metadata": {},
     "output_type": "display_data"
    },
    {
     "data": {
      "text/html": [
       "<style  type=\"text/css\" >\n",
       "#T_9f22f536_e923_11ea_8c57_0242ac130202row0_col0,#T_9f22f536_e923_11ea_8c57_0242ac130202row1_col0{\n",
       "            background-color:  #07f8ff;\n",
       "            color:  #000000;\n",
       "            max-width:  50px;\n",
       "        }#T_9f22f536_e923_11ea_8c57_0242ac130202row0_col1,#T_9f22f536_e923_11ea_8c57_0242ac130202row1_col1{\n",
       "            background-color:  #6f90ff;\n",
       "            color:  #000000;\n",
       "            max-width:  50px;\n",
       "        }#T_9f22f536_e923_11ea_8c57_0242ac130202row0_col2,#T_9f22f536_e923_11ea_8c57_0242ac130202row1_col2{\n",
       "            background-color:  #ff00ff;\n",
       "            color:  #f1f1f1;\n",
       "            max-width:  50px;\n",
       "        }#T_9f22f536_e923_11ea_8c57_0242ac130202row0_col3,#T_9f22f536_e923_11ea_8c57_0242ac130202row1_col3{\n",
       "            background-color:  #629dff;\n",
       "            color:  #000000;\n",
       "            max-width:  50px;\n",
       "        }#T_9f22f536_e923_11ea_8c57_0242ac130202row0_col4,#T_9f22f536_e923_11ea_8c57_0242ac130202row1_col4{\n",
       "            background-color:  #a659ff;\n",
       "            color:  #000000;\n",
       "            max-width:  50px;\n",
       "        }#T_9f22f536_e923_11ea_8c57_0242ac130202row0_col5,#T_9f22f536_e923_11ea_8c57_0242ac130202row1_col5{\n",
       "            background-color:  #31ceff;\n",
       "            color:  #000000;\n",
       "            max-width:  50px;\n",
       "        }#T_9f22f536_e923_11ea_8c57_0242ac130202row0_col6,#T_9f22f536_e923_11ea_8c57_0242ac130202row1_col6{\n",
       "            background-color:  #00ffff;\n",
       "            color:  #000000;\n",
       "            max-width:  50px;\n",
       "        }</style><table id=\"T_9f22f536_e923_11ea_8c57_0242ac130202\" ><thead>    <tr>        <th class=\"blank level0\" ></th>        <th class=\"col_heading level0 col0\" >0</th>        <th class=\"col_heading level0 col1\" >1</th>        <th class=\"col_heading level0 col2\" >2</th>        <th class=\"col_heading level0 col3\" >3</th>        <th class=\"col_heading level0 col4\" >4</th>        <th class=\"col_heading level0 col5\" >5</th>        <th class=\"col_heading level0 col6\" >6</th>    </tr></thead><tbody>\n",
       "                <tr>\n",
       "                        <th id=\"T_9f22f536_e923_11ea_8c57_0242ac130202level0_row0\" class=\"row_heading level0 row0\" >conv1d</th>\n",
       "                        <td id=\"T_9f22f536_e923_11ea_8c57_0242ac130202row0_col0\" class=\"data row0 col0\" >0.445</td>\n",
       "                        <td id=\"T_9f22f536_e923_11ea_8c57_0242ac130202row0_col1\" class=\"data row0 col1\" >0.733</td>\n",
       "                        <td id=\"T_9f22f536_e923_11ea_8c57_0242ac130202row0_col2\" class=\"data row0 col2\" >1.132</td>\n",
       "                        <td id=\"T_9f22f536_e923_11ea_8c57_0242ac130202row0_col3\" class=\"data row0 col3\" >0.696</td>\n",
       "                        <td id=\"T_9f22f536_e923_11ea_8c57_0242ac130202row0_col4\" class=\"data row0 col4\" >0.884</td>\n",
       "                        <td id=\"T_9f22f536_e923_11ea_8c57_0242ac130202row0_col5\" class=\"data row0 col5\" >0.562</td>\n",
       "                        <td id=\"T_9f22f536_e923_11ea_8c57_0242ac130202row0_col6\" class=\"data row0 col6\" >0.424</td>\n",
       "            </tr>\n",
       "            <tr>\n",
       "                        <th id=\"T_9f22f536_e923_11ea_8c57_0242ac130202level0_row1\" class=\"row_heading level0 row1\" >numpy convolve</th>\n",
       "                        <td id=\"T_9f22f536_e923_11ea_8c57_0242ac130202row1_col0\" class=\"data row1 col0\" >0.445</td>\n",
       "                        <td id=\"T_9f22f536_e923_11ea_8c57_0242ac130202row1_col1\" class=\"data row1 col1\" >0.733</td>\n",
       "                        <td id=\"T_9f22f536_e923_11ea_8c57_0242ac130202row1_col2\" class=\"data row1 col2\" >1.132</td>\n",
       "                        <td id=\"T_9f22f536_e923_11ea_8c57_0242ac130202row1_col3\" class=\"data row1 col3\" >0.696</td>\n",
       "                        <td id=\"T_9f22f536_e923_11ea_8c57_0242ac130202row1_col4\" class=\"data row1 col4\" >0.884</td>\n",
       "                        <td id=\"T_9f22f536_e923_11ea_8c57_0242ac130202row1_col5\" class=\"data row1 col5\" >0.562</td>\n",
       "                        <td id=\"T_9f22f536_e923_11ea_8c57_0242ac130202row1_col6\" class=\"data row1 col6\" >0.424</td>\n",
       "            </tr>\n",
       "    </tbody></table>"
      ],
      "text/plain": [
       "<pandas.io.formats.style.Styler at 0x7f2410c8bd10>"
      ]
     },
     "execution_count": 7,
     "metadata": {},
     "output_type": "execute_result"
    }
   ],
   "source": [
    "def conv1d(x,w,p,s):\n",
    "    w_rotated=np.array(w[::-1])\n",
    "    x_padded=np.array(x)\n",
    "    w_length=w_rotated.shape[0]\n",
    "    x_length=x_padded.shape[0]+p*2\n",
    "    if p>0:\n",
    "        zero_pad=np.zeros(shape=p)\n",
    "        x_padded=np.concatenate([zero_pad,x_padded,zero_pad])\n",
    "    dhtml('x: <br/>'+str(x)+\\\n",
    "          '<br/>padded x: </br>'+str(x_padded)+\\\n",
    "          '<br/>w: <br/>'+str(w)+\\\n",
    "          '<br/>rotated w: <br/>'+str(w_rotated),\n",
    "          c2,f2,fs2)\n",
    "    result=[]; steps=int((x_length-w_length)/s)+w_length%2\n",
    "    for i in range(0,steps,s):\n",
    "        result.append(np.sum(x_padded[i:i+w_length]*w_rotated))\n",
    "    return np.array(result)\n",
    "pd.DataFrame([conv1d(x,w,p=2,s=1),\n",
    "             np.convolve(x,w,mode='same')],\n",
    "             index=['conv1d','numpy convolve'])\\\n",
    ".style.background_gradient(cmap='cool',axis=1)\\\n",
    ".set_properties(**{'max-width':'50px'})"
   ]
  },
  {
   "cell_type": "code",
   "execution_count": 8,
   "metadata": {
    "execution": {
     "iopub.execute_input": "2020-08-28T11:42:59.165646Z",
     "iopub.status.busy": "2020-08-28T11:42:59.163018Z",
     "iopub.status.idle": "2020-08-28T11:42:59.206316Z",
     "shell.execute_reply": "2020-08-28T11:42:59.205537Z"
    },
    "papermill": {
     "duration": 0.065967,
     "end_time": "2020-08-28T11:42:59.206447",
     "exception": false,
     "start_time": "2020-08-28T11:42:59.140480",
     "status": "completed"
    },
    "tags": []
   },
   "outputs": [
    {
     "data": {
      "text/html": [
       "<style  type=\"text/css\" >\n",
       "#T_9f2df60c_e923_11ea_8c57_0242ac130202row0_col0{\n",
       "            background-color:  #ae51ff;\n",
       "            color:  #000000;\n",
       "            max-width:  50px;\n",
       "        }#T_9f2df60c_e923_11ea_8c57_0242ac130202row0_col1,#T_9f2df60c_e923_11ea_8c57_0242ac130202row1_col2,#T_9f2df60c_e923_11ea_8c57_0242ac130202row2_col8,#T_9f2df60c_e923_11ea_8c57_0242ac130202row3_col6,#T_9f2df60c_e923_11ea_8c57_0242ac130202row4_col3{\n",
       "            background-color:  #00ffff;\n",
       "            color:  #000000;\n",
       "            max-width:  50px;\n",
       "        }#T_9f2df60c_e923_11ea_8c57_0242ac130202row0_col2,#T_9f2df60c_e923_11ea_8c57_0242ac130202row1_col0,#T_9f2df60c_e923_11ea_8c57_0242ac130202row2_col3,#T_9f2df60c_e923_11ea_8c57_0242ac130202row3_col2,#T_9f2df60c_e923_11ea_8c57_0242ac130202row4_col0{\n",
       "            background-color:  #ff00ff;\n",
       "            color:  #f1f1f1;\n",
       "            max-width:  50px;\n",
       "        }#T_9f2df60c_e923_11ea_8c57_0242ac130202row0_col3{\n",
       "            background-color:  #609fff;\n",
       "            color:  #000000;\n",
       "            max-width:  50px;\n",
       "        }#T_9f2df60c_e923_11ea_8c57_0242ac130202row0_col4{\n",
       "            background-color:  #6a95ff;\n",
       "            color:  #000000;\n",
       "            max-width:  50px;\n",
       "        }#T_9f2df60c_e923_11ea_8c57_0242ac130202row0_col5{\n",
       "            background-color:  #04fbff;\n",
       "            color:  #000000;\n",
       "            max-width:  50px;\n",
       "        }#T_9f2df60c_e923_11ea_8c57_0242ac130202row0_col6,#T_9f2df60c_e923_11ea_8c57_0242ac130202row3_col5{\n",
       "            background-color:  #31ceff;\n",
       "            color:  #000000;\n",
       "            max-width:  50px;\n",
       "        }#T_9f2df60c_e923_11ea_8c57_0242ac130202row0_col7,#T_9f2df60c_e923_11ea_8c57_0242ac130202row0_col8,#T_9f2df60c_e923_11ea_8c57_0242ac130202row0_col9,#T_9f2df60c_e923_11ea_8c57_0242ac130202row1_col4,#T_9f2df60c_e923_11ea_8c57_0242ac130202row1_col5,#T_9f2df60c_e923_11ea_8c57_0242ac130202row1_col6,#T_9f2df60c_e923_11ea_8c57_0242ac130202row1_col7,#T_9f2df60c_e923_11ea_8c57_0242ac130202row1_col8,#T_9f2df60c_e923_11ea_8c57_0242ac130202row1_col9,#T_9f2df60c_e923_11ea_8c57_0242ac130202row3_col7,#T_9f2df60c_e923_11ea_8c57_0242ac130202row3_col8,#T_9f2df60c_e923_11ea_8c57_0242ac130202row3_col9,#T_9f2df60c_e923_11ea_8c57_0242ac130202row4_col4,#T_9f2df60c_e923_11ea_8c57_0242ac130202row4_col5,#T_9f2df60c_e923_11ea_8c57_0242ac130202row4_col6,#T_9f2df60c_e923_11ea_8c57_0242ac130202row4_col7,#T_9f2df60c_e923_11ea_8c57_0242ac130202row4_col8,#T_9f2df60c_e923_11ea_8c57_0242ac130202row4_col9{\n",
       "            background-color:  #000000;\n",
       "            color:  #f1f1f1;\n",
       "            max-width:  50px;\n",
       "        }#T_9f2df60c_e923_11ea_8c57_0242ac130202row1_col1{\n",
       "            background-color:  #bf40ff;\n",
       "            color:  #000000;\n",
       "            max-width:  50px;\n",
       "        }#T_9f2df60c_e923_11ea_8c57_0242ac130202row1_col3{\n",
       "            background-color:  #ce31ff;\n",
       "            color:  #f1f1f1;\n",
       "            max-width:  50px;\n",
       "        }#T_9f2df60c_e923_11ea_8c57_0242ac130202row2_col0{\n",
       "            background-color:  #51aeff;\n",
       "            color:  #000000;\n",
       "            max-width:  50px;\n",
       "        }#T_9f2df60c_e923_11ea_8c57_0242ac130202row2_col1{\n",
       "            background-color:  #52adff;\n",
       "            color:  #000000;\n",
       "            max-width:  50px;\n",
       "        }#T_9f2df60c_e923_11ea_8c57_0242ac130202row2_col2{\n",
       "            background-color:  #9b64ff;\n",
       "            color:  #000000;\n",
       "            max-width:  50px;\n",
       "        }#T_9f2df60c_e923_11ea_8c57_0242ac130202row2_col4{\n",
       "            background-color:  #916eff;\n",
       "            color:  #000000;\n",
       "            max-width:  50px;\n",
       "        }#T_9f2df60c_e923_11ea_8c57_0242ac130202row2_col5{\n",
       "            background-color:  #c13eff;\n",
       "            color:  #f1f1f1;\n",
       "            max-width:  50px;\n",
       "        }#T_9f2df60c_e923_11ea_8c57_0242ac130202row2_col6{\n",
       "            background-color:  #708fff;\n",
       "            color:  #000000;\n",
       "            max-width:  50px;\n",
       "        }#T_9f2df60c_e923_11ea_8c57_0242ac130202row2_col7{\n",
       "            background-color:  #4db2ff;\n",
       "            color:  #000000;\n",
       "            max-width:  50px;\n",
       "        }#T_9f2df60c_e923_11ea_8c57_0242ac130202row2_col9{\n",
       "            background-color:  #0bf4ff;\n",
       "            color:  #000000;\n",
       "            max-width:  50px;\n",
       "        }#T_9f2df60c_e923_11ea_8c57_0242ac130202row3_col0{\n",
       "            background-color:  #07f8ff;\n",
       "            color:  #000000;\n",
       "            max-width:  50px;\n",
       "        }#T_9f2df60c_e923_11ea_8c57_0242ac130202row3_col1{\n",
       "            background-color:  #6f90ff;\n",
       "            color:  #000000;\n",
       "            max-width:  50px;\n",
       "        }#T_9f2df60c_e923_11ea_8c57_0242ac130202row3_col3{\n",
       "            background-color:  #629dff;\n",
       "            color:  #000000;\n",
       "            max-width:  50px;\n",
       "        }#T_9f2df60c_e923_11ea_8c57_0242ac130202row3_col4{\n",
       "            background-color:  #a659ff;\n",
       "            color:  #000000;\n",
       "            max-width:  50px;\n",
       "        }#T_9f2df60c_e923_11ea_8c57_0242ac130202row4_col1{\n",
       "            background-color:  #3cc3ff;\n",
       "            color:  #000000;\n",
       "            max-width:  50px;\n",
       "        }#T_9f2df60c_e923_11ea_8c57_0242ac130202row4_col2{\n",
       "            background-color:  #906fff;\n",
       "            color:  #000000;\n",
       "            max-width:  50px;\n",
       "        }</style><table id=\"T_9f2df60c_e923_11ea_8c57_0242ac130202\" ><thead>    <tr>        <th class=\"blank level0\" ></th>        <th class=\"col_heading level0 col0\" >0</th>        <th class=\"col_heading level0 col1\" >1</th>        <th class=\"col_heading level0 col2\" >2</th>        <th class=\"col_heading level0 col3\" >3</th>        <th class=\"col_heading level0 col4\" >4</th>        <th class=\"col_heading level0 col5\" >5</th>        <th class=\"col_heading level0 col6\" >6</th>        <th class=\"col_heading level0 col7\" >7</th>        <th class=\"col_heading level0 col8\" >8</th>        <th class=\"col_heading level0 col9\" >9</th>    </tr></thead><tbody>\n",
       "                <tr>\n",
       "                        <th id=\"T_9f2df60c_e923_11ea_8c57_0242ac130202level0_row0\" class=\"row_heading level0 row0\" >0</th>\n",
       "                        <td id=\"T_9f2df60c_e923_11ea_8c57_0242ac130202row0_col0\" class=\"data row0 col0\" >0.673</td>\n",
       "                        <td id=\"T_9f2df60c_e923_11ea_8c57_0242ac130202row0_col1\" class=\"data row0 col1\" >0.155</td>\n",
       "                        <td id=\"T_9f2df60c_e923_11ea_8c57_0242ac130202row0_col2\" class=\"data row0 col2\" >0.913</td>\n",
       "                        <td id=\"T_9f2df60c_e923_11ea_8c57_0242ac130202row0_col3\" class=\"data row0 col3\" >0.440</td>\n",
       "                        <td id=\"T_9f2df60c_e923_11ea_8c57_0242ac130202row0_col4\" class=\"data row0 col4\" >0.471</td>\n",
       "                        <td id=\"T_9f2df60c_e923_11ea_8c57_0242ac130202row0_col5\" class=\"data row0 col5\" >0.167</td>\n",
       "                        <td id=\"T_9f2df60c_e923_11ea_8c57_0242ac130202row0_col6\" class=\"data row0 col6\" >0.301</td>\n",
       "                        <td id=\"T_9f2df60c_e923_11ea_8c57_0242ac130202row0_col7\" class=\"data row0 col7\" >nan</td>\n",
       "                        <td id=\"T_9f2df60c_e923_11ea_8c57_0242ac130202row0_col8\" class=\"data row0 col8\" >nan</td>\n",
       "                        <td id=\"T_9f2df60c_e923_11ea_8c57_0242ac130202row0_col9\" class=\"data row0 col9\" >nan</td>\n",
       "            </tr>\n",
       "            <tr>\n",
       "                        <th id=\"T_9f2df60c_e923_11ea_8c57_0242ac130202level0_row1\" class=\"row_heading level0 row1\" >1</th>\n",
       "                        <td id=\"T_9f2df60c_e923_11ea_8c57_0242ac130202row1_col0\" class=\"data row1 col0\" >0.652</td>\n",
       "                        <td id=\"T_9f2df60c_e923_11ea_8c57_0242ac130202row1_col1\" class=\"data row1 col1\" >0.511</td>\n",
       "                        <td id=\"T_9f2df60c_e923_11ea_8c57_0242ac130202row1_col2\" class=\"data row1 col2\" >0.088</td>\n",
       "                        <td id=\"T_9f2df60c_e923_11ea_8c57_0242ac130202row1_col3\" class=\"data row1 col3\" >0.543</td>\n",
       "                        <td id=\"T_9f2df60c_e923_11ea_8c57_0242ac130202row1_col4\" class=\"data row1 col4\" >nan</td>\n",
       "                        <td id=\"T_9f2df60c_e923_11ea_8c57_0242ac130202row1_col5\" class=\"data row1 col5\" >nan</td>\n",
       "                        <td id=\"T_9f2df60c_e923_11ea_8c57_0242ac130202row1_col6\" class=\"data row1 col6\" >nan</td>\n",
       "                        <td id=\"T_9f2df60c_e923_11ea_8c57_0242ac130202row1_col7\" class=\"data row1 col7\" >nan</td>\n",
       "                        <td id=\"T_9f2df60c_e923_11ea_8c57_0242ac130202row1_col8\" class=\"data row1 col8\" >nan</td>\n",
       "                        <td id=\"T_9f2df60c_e923_11ea_8c57_0242ac130202row1_col9\" class=\"data row1 col9\" >nan</td>\n",
       "            </tr>\n",
       "            <tr>\n",
       "                        <th id=\"T_9f2df60c_e923_11ea_8c57_0242ac130202level0_row2\" class=\"row_heading level0 row2\" >2</th>\n",
       "                        <td id=\"T_9f2df60c_e923_11ea_8c57_0242ac130202row2_col0\" class=\"data row2 col0\" >0.439</td>\n",
       "                        <td id=\"T_9f2df60c_e923_11ea_8c57_0242ac130202row2_col1\" class=\"data row2 col1\" >0.445</td>\n",
       "                        <td id=\"T_9f2df60c_e923_11ea_8c57_0242ac130202row2_col2\" class=\"data row2 col2\" >0.733</td>\n",
       "                        <td id=\"T_9f2df60c_e923_11ea_8c57_0242ac130202row2_col3\" class=\"data row2 col3\" >1.132</td>\n",
       "                        <td id=\"T_9f2df60c_e923_11ea_8c57_0242ac130202row2_col4\" class=\"data row2 col4\" >0.696</td>\n",
       "                        <td id=\"T_9f2df60c_e923_11ea_8c57_0242ac130202row2_col5\" class=\"data row2 col5\" >0.884</td>\n",
       "                        <td id=\"T_9f2df60c_e923_11ea_8c57_0242ac130202row2_col6\" class=\"data row2 col6\" >0.562</td>\n",
       "                        <td id=\"T_9f2df60c_e923_11ea_8c57_0242ac130202row2_col7\" class=\"data row2 col7\" >0.424</td>\n",
       "                        <td id=\"T_9f2df60c_e923_11ea_8c57_0242ac130202row2_col8\" class=\"data row2 col8\" >0.117</td>\n",
       "                        <td id=\"T_9f2df60c_e923_11ea_8c57_0242ac130202row2_col9\" class=\"data row2 col9\" >0.164</td>\n",
       "            </tr>\n",
       "            <tr>\n",
       "                        <th id=\"T_9f2df60c_e923_11ea_8c57_0242ac130202level0_row3\" class=\"row_heading level0 row3\" >3</th>\n",
       "                        <td id=\"T_9f2df60c_e923_11ea_8c57_0242ac130202row3_col0\" class=\"data row3 col0\" >0.445</td>\n",
       "                        <td id=\"T_9f2df60c_e923_11ea_8c57_0242ac130202row3_col1\" class=\"data row3 col1\" >0.733</td>\n",
       "                        <td id=\"T_9f2df60c_e923_11ea_8c57_0242ac130202row3_col2\" class=\"data row3 col2\" >1.132</td>\n",
       "                        <td id=\"T_9f2df60c_e923_11ea_8c57_0242ac130202row3_col3\" class=\"data row3 col3\" >0.696</td>\n",
       "                        <td id=\"T_9f2df60c_e923_11ea_8c57_0242ac130202row3_col4\" class=\"data row3 col4\" >0.884</td>\n",
       "                        <td id=\"T_9f2df60c_e923_11ea_8c57_0242ac130202row3_col5\" class=\"data row3 col5\" >0.562</td>\n",
       "                        <td id=\"T_9f2df60c_e923_11ea_8c57_0242ac130202row3_col6\" class=\"data row3 col6\" >0.424</td>\n",
       "                        <td id=\"T_9f2df60c_e923_11ea_8c57_0242ac130202row3_col7\" class=\"data row3 col7\" >nan</td>\n",
       "                        <td id=\"T_9f2df60c_e923_11ea_8c57_0242ac130202row3_col8\" class=\"data row3 col8\" >nan</td>\n",
       "                        <td id=\"T_9f2df60c_e923_11ea_8c57_0242ac130202row3_col9\" class=\"data row3 col9\" >nan</td>\n",
       "            </tr>\n",
       "            <tr>\n",
       "                        <th id=\"T_9f2df60c_e923_11ea_8c57_0242ac130202level0_row4\" class=\"row_heading level0 row4\" >4</th>\n",
       "                        <td id=\"T_9f2df60c_e923_11ea_8c57_0242ac130202row4_col0\" class=\"data row4 col0\" >1.132</td>\n",
       "                        <td id=\"T_9f2df60c_e923_11ea_8c57_0242ac130202row4_col1\" class=\"data row4 col1\" >0.696</td>\n",
       "                        <td id=\"T_9f2df60c_e923_11ea_8c57_0242ac130202row4_col2\" class=\"data row4 col2\" >0.884</td>\n",
       "                        <td id=\"T_9f2df60c_e923_11ea_8c57_0242ac130202row4_col3\" class=\"data row4 col3\" >0.562</td>\n",
       "                        <td id=\"T_9f2df60c_e923_11ea_8c57_0242ac130202row4_col4\" class=\"data row4 col4\" >nan</td>\n",
       "                        <td id=\"T_9f2df60c_e923_11ea_8c57_0242ac130202row4_col5\" class=\"data row4 col5\" >nan</td>\n",
       "                        <td id=\"T_9f2df60c_e923_11ea_8c57_0242ac130202row4_col6\" class=\"data row4 col6\" >nan</td>\n",
       "                        <td id=\"T_9f2df60c_e923_11ea_8c57_0242ac130202row4_col7\" class=\"data row4 col7\" >nan</td>\n",
       "                        <td id=\"T_9f2df60c_e923_11ea_8c57_0242ac130202row4_col8\" class=\"data row4 col8\" >nan</td>\n",
       "                        <td id=\"T_9f2df60c_e923_11ea_8c57_0242ac130202row4_col9\" class=\"data row4 col9\" >nan</td>\n",
       "            </tr>\n",
       "    </tbody></table>"
      ],
      "text/plain": [
       "<pandas.io.formats.style.Styler at 0x7f2410bf4cd0>"
      ]
     },
     "execution_count": 8,
     "metadata": {},
     "output_type": "execute_result"
    }
   ],
   "source": [
    "pd.DataFrame([x,w]+[np.convolve(x,w,mode=m) \n",
    "              for m in ['full','same','valid']])\\\n",
    ".style.background_gradient(cmap='cool',axis=1)\\\n",
    ".set_properties(**{'max-width':'50px'})"
   ]
  },
  {
   "cell_type": "code",
   "execution_count": 9,
   "metadata": {
    "_kg_hide-input": true,
    "execution": {
     "iopub.execute_input": "2020-08-28T11:42:59.233597Z",
     "iopub.status.busy": "2020-08-28T11:42:59.232682Z",
     "iopub.status.idle": "2020-08-28T11:42:59.237043Z",
     "shell.execute_reply": "2020-08-28T11:42:59.236416Z"
    },
    "papermill": {
     "duration": 0.019199,
     "end_time": "2020-08-28T11:42:59.237161",
     "exception": false,
     "start_time": "2020-08-28T11:42:59.217962",
     "status": "completed"
    },
    "tags": []
   },
   "outputs": [
    {
     "data": {
      "text/html": [
       "<style>\n",
       "    @import 'https://fonts.googleapis.com/css?family=Lobster&effect=3d-float';</style>\n",
       "    <h1 class='font-effect-3d-float' \n",
       "    style='font-family:Lobster; color:#11ff66; font-size:30px;'>\n",
       "    Conv2d Exploration</h1>"
      ],
      "text/plain": [
       "<IPython.core.display.HTML object>"
      ]
     },
     "metadata": {},
     "output_type": "display_data"
    }
   ],
   "source": [
    "dhtml('Conv2d Exploration')"
   ]
  },
  {
   "cell_type": "code",
   "execution_count": 10,
   "metadata": {
    "_kg_hide-output": false,
    "execution": {
     "iopub.execute_input": "2020-08-28T11:42:59.279674Z",
     "iopub.status.busy": "2020-08-28T11:42:59.273352Z",
     "iopub.status.idle": "2020-08-28T11:42:59.312406Z",
     "shell.execute_reply": "2020-08-28T11:42:59.311816Z"
    },
    "papermill": {
     "duration": 0.06464,
     "end_time": "2020-08-28T11:42:59.312546",
     "exception": false,
     "start_time": "2020-08-28T11:42:59.247906",
     "status": "completed"
    },
    "tags": []
   },
   "outputs": [
    {
     "data": {
      "text/html": [
       "<style  type=\"text/css\" >\n",
       "#T_9f3e1af0_e923_11ea_8c57_0242ac130202row0_col0,#T_9f3e1af0_e923_11ea_8c57_0242ac130202row0_col1,#T_9f3e1af0_e923_11ea_8c57_0242ac130202row0_col2,#T_9f3e1af0_e923_11ea_8c57_0242ac130202row0_col3,#T_9f3e1af0_e923_11ea_8c57_0242ac130202row0_col4,#T_9f3e1af0_e923_11ea_8c57_0242ac130202row0_col5,#T_9f3e1af0_e923_11ea_8c57_0242ac130202row0_col6,#T_9f3e1af0_e923_11ea_8c57_0242ac130202row0_col7,#T_9f3e1af0_e923_11ea_8c57_0242ac130202row1_col0,#T_9f3e1af0_e923_11ea_8c57_0242ac130202row1_col7,#T_9f3e1af0_e923_11ea_8c57_0242ac130202row2_col0,#T_9f3e1af0_e923_11ea_8c57_0242ac130202row2_col7,#T_9f3e1af0_e923_11ea_8c57_0242ac130202row3_col0,#T_9f3e1af0_e923_11ea_8c57_0242ac130202row3_col7,#T_9f3e1af0_e923_11ea_8c57_0242ac130202row4_col0,#T_9f3e1af0_e923_11ea_8c57_0242ac130202row4_col7,#T_9f3e1af0_e923_11ea_8c57_0242ac130202row5_col0,#T_9f3e1af0_e923_11ea_8c57_0242ac130202row5_col7,#T_9f3e1af0_e923_11ea_8c57_0242ac130202row6_col0,#T_9f3e1af0_e923_11ea_8c57_0242ac130202row6_col7,#T_9f3e1af0_e923_11ea_8c57_0242ac130202row7_col0,#T_9f3e1af0_e923_11ea_8c57_0242ac130202row7_col1,#T_9f3e1af0_e923_11ea_8c57_0242ac130202row7_col2,#T_9f3e1af0_e923_11ea_8c57_0242ac130202row7_col3,#T_9f3e1af0_e923_11ea_8c57_0242ac130202row7_col4,#T_9f3e1af0_e923_11ea_8c57_0242ac130202row7_col5,#T_9f3e1af0_e923_11ea_8c57_0242ac130202row7_col6,#T_9f3e1af0_e923_11ea_8c57_0242ac130202row7_col7{\n",
       "            background-color:  #00ffff;\n",
       "            color:  #000000;\n",
       "            max-width:  50px;\n",
       "            height:  50px;\n",
       "        }#T_9f3e1af0_e923_11ea_8c57_0242ac130202row1_col1{\n",
       "            background-color:  #857aff;\n",
       "            color:  #000000;\n",
       "            max-width:  50px;\n",
       "            height:  50px;\n",
       "        }#T_9f3e1af0_e923_11ea_8c57_0242ac130202row1_col2,#T_9f3e1af0_e923_11ea_8c57_0242ac130202row2_col1,#T_9f3e1af0_e923_11ea_8c57_0242ac130202row3_col5,#T_9f3e1af0_e923_11ea_8c57_0242ac130202row4_col3,#T_9f3e1af0_e923_11ea_8c57_0242ac130202row5_col5,#T_9f3e1af0_e923_11ea_8c57_0242ac130202row6_col5{\n",
       "            background-color:  #ff00ff;\n",
       "            color:  #f1f1f1;\n",
       "            max-width:  50px;\n",
       "            height:  50px;\n",
       "        }#T_9f3e1af0_e923_11ea_8c57_0242ac130202row1_col3,#T_9f3e1af0_e923_11ea_8c57_0242ac130202row4_col1{\n",
       "            background-color:  #a15eff;\n",
       "            color:  #000000;\n",
       "            max-width:  50px;\n",
       "            height:  50px;\n",
       "        }#T_9f3e1af0_e923_11ea_8c57_0242ac130202row1_col4{\n",
       "            background-color:  #4cb3ff;\n",
       "            color:  #000000;\n",
       "            max-width:  50px;\n",
       "            height:  50px;\n",
       "        }#T_9f3e1af0_e923_11ea_8c57_0242ac130202row1_col5{\n",
       "            background-color:  #28d7ff;\n",
       "            color:  #000000;\n",
       "            max-width:  50px;\n",
       "            height:  50px;\n",
       "        }#T_9f3e1af0_e923_11ea_8c57_0242ac130202row1_col6{\n",
       "            background-color:  #827dff;\n",
       "            color:  #000000;\n",
       "            max-width:  50px;\n",
       "            height:  50px;\n",
       "        }#T_9f3e1af0_e923_11ea_8c57_0242ac130202row2_col2{\n",
       "            background-color:  #cb34ff;\n",
       "            color:  #f1f1f1;\n",
       "            max-width:  50px;\n",
       "            height:  50px;\n",
       "        }#T_9f3e1af0_e923_11ea_8c57_0242ac130202row2_col3{\n",
       "            background-color:  #758aff;\n",
       "            color:  #000000;\n",
       "            max-width:  50px;\n",
       "            height:  50px;\n",
       "        }#T_9f3e1af0_e923_11ea_8c57_0242ac130202row2_col4{\n",
       "            background-color:  #6d92ff;\n",
       "            color:  #000000;\n",
       "            max-width:  50px;\n",
       "            height:  50px;\n",
       "        }#T_9f3e1af0_e923_11ea_8c57_0242ac130202row2_col5{\n",
       "            background-color:  #936cff;\n",
       "            color:  #000000;\n",
       "            max-width:  50px;\n",
       "            height:  50px;\n",
       "        }#T_9f3e1af0_e923_11ea_8c57_0242ac130202row2_col6{\n",
       "            background-color:  #1de2ff;\n",
       "            color:  #000000;\n",
       "            max-width:  50px;\n",
       "            height:  50px;\n",
       "        }#T_9f3e1af0_e923_11ea_8c57_0242ac130202row3_col1{\n",
       "            background-color:  #54abff;\n",
       "            color:  #000000;\n",
       "            max-width:  50px;\n",
       "            height:  50px;\n",
       "        }#T_9f3e1af0_e923_11ea_8c57_0242ac130202row3_col2{\n",
       "            background-color:  #dc23ff;\n",
       "            color:  #f1f1f1;\n",
       "            max-width:  50px;\n",
       "            height:  50px;\n",
       "        }#T_9f3e1af0_e923_11ea_8c57_0242ac130202row3_col3{\n",
       "            background-color:  #7b84ff;\n",
       "            color:  #000000;\n",
       "            max-width:  50px;\n",
       "            height:  50px;\n",
       "        }#T_9f3e1af0_e923_11ea_8c57_0242ac130202row3_col4{\n",
       "            background-color:  #f807ff;\n",
       "            color:  #f1f1f1;\n",
       "            max-width:  50px;\n",
       "            height:  50px;\n",
       "        }#T_9f3e1af0_e923_11ea_8c57_0242ac130202row3_col6{\n",
       "            background-color:  #649bff;\n",
       "            color:  #000000;\n",
       "            max-width:  50px;\n",
       "            height:  50px;\n",
       "        }#T_9f3e1af0_e923_11ea_8c57_0242ac130202row4_col2{\n",
       "            background-color:  #46b9ff;\n",
       "            color:  #000000;\n",
       "            max-width:  50px;\n",
       "            height:  50px;\n",
       "        }#T_9f3e1af0_e923_11ea_8c57_0242ac130202row4_col4{\n",
       "            background-color:  #7f80ff;\n",
       "            color:  #000000;\n",
       "            max-width:  50px;\n",
       "            height:  50px;\n",
       "        }#T_9f3e1af0_e923_11ea_8c57_0242ac130202row4_col5{\n",
       "            background-color:  #7689ff;\n",
       "            color:  #000000;\n",
       "            max-width:  50px;\n",
       "            height:  50px;\n",
       "        }#T_9f3e1af0_e923_11ea_8c57_0242ac130202row4_col6{\n",
       "            background-color:  #04fbff;\n",
       "            color:  #000000;\n",
       "            max-width:  50px;\n",
       "            height:  50px;\n",
       "        }#T_9f3e1af0_e923_11ea_8c57_0242ac130202row5_col1{\n",
       "            background-color:  #6f90ff;\n",
       "            color:  #000000;\n",
       "            max-width:  50px;\n",
       "            height:  50px;\n",
       "        }#T_9f3e1af0_e923_11ea_8c57_0242ac130202row5_col2,#T_9f3e1af0_e923_11ea_8c57_0242ac130202row5_col3{\n",
       "            background-color:  #cc33ff;\n",
       "            color:  #f1f1f1;\n",
       "            max-width:  50px;\n",
       "            height:  50px;\n",
       "        }#T_9f3e1af0_e923_11ea_8c57_0242ac130202row5_col4{\n",
       "            background-color:  #8f70ff;\n",
       "            color:  #000000;\n",
       "            max-width:  50px;\n",
       "            height:  50px;\n",
       "        }#T_9f3e1af0_e923_11ea_8c57_0242ac130202row5_col6{\n",
       "            background-color:  #a956ff;\n",
       "            color:  #000000;\n",
       "            max-width:  50px;\n",
       "            height:  50px;\n",
       "        }#T_9f3e1af0_e923_11ea_8c57_0242ac130202row6_col1{\n",
       "            background-color:  #ac53ff;\n",
       "            color:  #000000;\n",
       "            max-width:  50px;\n",
       "            height:  50px;\n",
       "        }#T_9f3e1af0_e923_11ea_8c57_0242ac130202row6_col2{\n",
       "            background-color:  #9867ff;\n",
       "            color:  #000000;\n",
       "            max-width:  50px;\n",
       "            height:  50px;\n",
       "        }#T_9f3e1af0_e923_11ea_8c57_0242ac130202row6_col3{\n",
       "            background-color:  #a05fff;\n",
       "            color:  #000000;\n",
       "            max-width:  50px;\n",
       "            height:  50px;\n",
       "        }#T_9f3e1af0_e923_11ea_8c57_0242ac130202row6_col4{\n",
       "            background-color:  #4bb4ff;\n",
       "            color:  #000000;\n",
       "            max-width:  50px;\n",
       "            height:  50px;\n",
       "        }#T_9f3e1af0_e923_11ea_8c57_0242ac130202row6_col6{\n",
       "            background-color:  #c03fff;\n",
       "            color:  #000000;\n",
       "            max-width:  50px;\n",
       "            height:  50px;\n",
       "        }</style><table id=\"T_9f3e1af0_e923_11ea_8c57_0242ac130202\" ><thead>    <tr>        <th class=\"blank level0\" ></th>        <th class=\"col_heading level0 col0\" >0</th>        <th class=\"col_heading level0 col1\" >1</th>        <th class=\"col_heading level0 col2\" >2</th>        <th class=\"col_heading level0 col3\" >3</th>        <th class=\"col_heading level0 col4\" >4</th>        <th class=\"col_heading level0 col5\" >5</th>        <th class=\"col_heading level0 col6\" >6</th>        <th class=\"col_heading level0 col7\" >7</th>    </tr></thead><tbody>\n",
       "                <tr>\n",
       "                        <th id=\"T_9f3e1af0_e923_11ea_8c57_0242ac130202level0_row0\" class=\"row_heading level0 row0\" >0</th>\n",
       "                        <td id=\"T_9f3e1af0_e923_11ea_8c57_0242ac130202row0_col0\" class=\"data row0 col0\" >0.000</td>\n",
       "                        <td id=\"T_9f3e1af0_e923_11ea_8c57_0242ac130202row0_col1\" class=\"data row0 col1\" >0.000</td>\n",
       "                        <td id=\"T_9f3e1af0_e923_11ea_8c57_0242ac130202row0_col2\" class=\"data row0 col2\" >0.000</td>\n",
       "                        <td id=\"T_9f3e1af0_e923_11ea_8c57_0242ac130202row0_col3\" class=\"data row0 col3\" >0.000</td>\n",
       "                        <td id=\"T_9f3e1af0_e923_11ea_8c57_0242ac130202row0_col4\" class=\"data row0 col4\" >0.000</td>\n",
       "                        <td id=\"T_9f3e1af0_e923_11ea_8c57_0242ac130202row0_col5\" class=\"data row0 col5\" >0.000</td>\n",
       "                        <td id=\"T_9f3e1af0_e923_11ea_8c57_0242ac130202row0_col6\" class=\"data row0 col6\" >0.000</td>\n",
       "                        <td id=\"T_9f3e1af0_e923_11ea_8c57_0242ac130202row0_col7\" class=\"data row0 col7\" >0.000</td>\n",
       "            </tr>\n",
       "            <tr>\n",
       "                        <th id=\"T_9f3e1af0_e923_11ea_8c57_0242ac130202level0_row1\" class=\"row_heading level0 row1\" >1</th>\n",
       "                        <td id=\"T_9f3e1af0_e923_11ea_8c57_0242ac130202row1_col0\" class=\"data row1 col0\" >0.000</td>\n",
       "                        <td id=\"T_9f3e1af0_e923_11ea_8c57_0242ac130202row1_col1\" class=\"data row1 col1\" >0.459</td>\n",
       "                        <td id=\"T_9f3e1af0_e923_11ea_8c57_0242ac130202row1_col2\" class=\"data row1 col2\" >0.877</td>\n",
       "                        <td id=\"T_9f3e1af0_e923_11ea_8c57_0242ac130202row1_col3\" class=\"data row1 col3\" >0.551</td>\n",
       "                        <td id=\"T_9f3e1af0_e923_11ea_8c57_0242ac130202row1_col4\" class=\"data row1 col4\" >0.263</td>\n",
       "                        <td id=\"T_9f3e1af0_e923_11ea_8c57_0242ac130202row1_col5\" class=\"data row1 col5\" >0.138</td>\n",
       "                        <td id=\"T_9f3e1af0_e923_11ea_8c57_0242ac130202row1_col6\" class=\"data row1 col6\" >0.446</td>\n",
       "                        <td id=\"T_9f3e1af0_e923_11ea_8c57_0242ac130202row1_col7\" class=\"data row1 col7\" >0.000</td>\n",
       "            </tr>\n",
       "            <tr>\n",
       "                        <th id=\"T_9f3e1af0_e923_11ea_8c57_0242ac130202level0_row2\" class=\"row_heading level0 row2\" >2</th>\n",
       "                        <td id=\"T_9f3e1af0_e923_11ea_8c57_0242ac130202row2_col0\" class=\"data row2 col0\" >0.000</td>\n",
       "                        <td id=\"T_9f3e1af0_e923_11ea_8c57_0242ac130202row2_col1\" class=\"data row2 col1\" >0.994</td>\n",
       "                        <td id=\"T_9f3e1af0_e923_11ea_8c57_0242ac130202row2_col2\" class=\"data row2 col2\" >0.791</td>\n",
       "                        <td id=\"T_9f3e1af0_e923_11ea_8c57_0242ac130202row2_col3\" class=\"data row2 col3\" >0.456</td>\n",
       "                        <td id=\"T_9f3e1af0_e923_11ea_8c57_0242ac130202row2_col4\" class=\"data row2 col4\" >0.424</td>\n",
       "                        <td id=\"T_9f3e1af0_e923_11ea_8c57_0242ac130202row2_col5\" class=\"data row2 col5\" >0.575</td>\n",
       "                        <td id=\"T_9f3e1af0_e923_11ea_8c57_0242ac130202row2_col6\" class=\"data row2 col6\" >0.114</td>\n",
       "                        <td id=\"T_9f3e1af0_e923_11ea_8c57_0242ac130202row2_col7\" class=\"data row2 col7\" >0.000</td>\n",
       "            </tr>\n",
       "            <tr>\n",
       "                        <th id=\"T_9f3e1af0_e923_11ea_8c57_0242ac130202level0_row3\" class=\"row_heading level0 row3\" >3</th>\n",
       "                        <td id=\"T_9f3e1af0_e923_11ea_8c57_0242ac130202row3_col0\" class=\"data row3 col0\" >0.000</td>\n",
       "                        <td id=\"T_9f3e1af0_e923_11ea_8c57_0242ac130202row3_col1\" class=\"data row3 col1\" >0.270</td>\n",
       "                        <td id=\"T_9f3e1af0_e923_11ea_8c57_0242ac130202row3_col2\" class=\"data row3 col2\" >0.706</td>\n",
       "                        <td id=\"T_9f3e1af0_e923_11ea_8c57_0242ac130202row3_col3\" class=\"data row3 col3\" >0.395</td>\n",
       "                        <td id=\"T_9f3e1af0_e923_11ea_8c57_0242ac130202row3_col4\" class=\"data row3 col4\" >0.793</td>\n",
       "                        <td id=\"T_9f3e1af0_e923_11ea_8c57_0242ac130202row3_col5\" class=\"data row3 col5\" >0.818</td>\n",
       "                        <td id=\"T_9f3e1af0_e923_11ea_8c57_0242ac130202row3_col6\" class=\"data row3 col6\" >0.322</td>\n",
       "                        <td id=\"T_9f3e1af0_e923_11ea_8c57_0242ac130202row3_col7\" class=\"data row3 col7\" >0.000</td>\n",
       "            </tr>\n",
       "            <tr>\n",
       "                        <th id=\"T_9f3e1af0_e923_11ea_8c57_0242ac130202level0_row4\" class=\"row_heading level0 row4\" >4</th>\n",
       "                        <td id=\"T_9f3e1af0_e923_11ea_8c57_0242ac130202row4_col0\" class=\"data row4 col0\" >0.000</td>\n",
       "                        <td id=\"T_9f3e1af0_e923_11ea_8c57_0242ac130202row4_col1\" class=\"data row4 col1\" >0.466</td>\n",
       "                        <td id=\"T_9f3e1af0_e923_11ea_8c57_0242ac130202row4_col2\" class=\"data row4 col2\" >0.203</td>\n",
       "                        <td id=\"T_9f3e1af0_e923_11ea_8c57_0242ac130202row4_col3\" class=\"data row4 col3\" >0.741</td>\n",
       "                        <td id=\"T_9f3e1af0_e923_11ea_8c57_0242ac130202row4_col4\" class=\"data row4 col4\" >0.370</td>\n",
       "                        <td id=\"T_9f3e1af0_e923_11ea_8c57_0242ac130202row4_col5\" class=\"data row4 col5\" >0.344</td>\n",
       "                        <td id=\"T_9f3e1af0_e923_11ea_8c57_0242ac130202row4_col6\" class=\"data row4 col6\" >0.013</td>\n",
       "                        <td id=\"T_9f3e1af0_e923_11ea_8c57_0242ac130202row4_col7\" class=\"data row4 col7\" >0.000</td>\n",
       "            </tr>\n",
       "            <tr>\n",
       "                        <th id=\"T_9f3e1af0_e923_11ea_8c57_0242ac130202level0_row5\" class=\"row_heading level0 row5\" >5</th>\n",
       "                        <td id=\"T_9f3e1af0_e923_11ea_8c57_0242ac130202row5_col0\" class=\"data row5 col0\" >0.000</td>\n",
       "                        <td id=\"T_9f3e1af0_e923_11ea_8c57_0242ac130202row5_col1\" class=\"data row5 col1\" >0.200</td>\n",
       "                        <td id=\"T_9f3e1af0_e923_11ea_8c57_0242ac130202row5_col2\" class=\"data row5 col2\" >0.365</td>\n",
       "                        <td id=\"T_9f3e1af0_e923_11ea_8c57_0242ac130202row5_col3\" class=\"data row5 col3\" >0.364</td>\n",
       "                        <td id=\"T_9f3e1af0_e923_11ea_8c57_0242ac130202row5_col4\" class=\"data row5 col4\" >0.256</td>\n",
       "                        <td id=\"T_9f3e1af0_e923_11ea_8c57_0242ac130202row5_col5\" class=\"data row5 col5\" >0.457</td>\n",
       "                        <td id=\"T_9f3e1af0_e923_11ea_8c57_0242ac130202row5_col6\" class=\"data row5 col6\" >0.302</td>\n",
       "                        <td id=\"T_9f3e1af0_e923_11ea_8c57_0242ac130202row5_col7\" class=\"data row5 col7\" >0.000</td>\n",
       "            </tr>\n",
       "            <tr>\n",
       "                        <th id=\"T_9f3e1af0_e923_11ea_8c57_0242ac130202level0_row6\" class=\"row_heading level0 row6\" >6</th>\n",
       "                        <td id=\"T_9f3e1af0_e923_11ea_8c57_0242ac130202row6_col0\" class=\"data row6 col0\" >0.000</td>\n",
       "                        <td id=\"T_9f3e1af0_e923_11ea_8c57_0242ac130202row6_col1\" class=\"data row6 col1\" >0.559</td>\n",
       "                        <td id=\"T_9f3e1af0_e923_11ea_8c57_0242ac130202row6_col2\" class=\"data row6 col2\" >0.494</td>\n",
       "                        <td id=\"T_9f3e1af0_e923_11ea_8c57_0242ac130202row6_col3\" class=\"data row6 col3\" >0.519</td>\n",
       "                        <td id=\"T_9f3e1af0_e923_11ea_8c57_0242ac130202row6_col4\" class=\"data row6 col4\" >0.244</td>\n",
       "                        <td id=\"T_9f3e1af0_e923_11ea_8c57_0242ac130202row6_col5\" class=\"data row6 col5\" >0.830</td>\n",
       "                        <td id=\"T_9f3e1af0_e923_11ea_8c57_0242ac130202row6_col6\" class=\"data row6 col6\" >0.625</td>\n",
       "                        <td id=\"T_9f3e1af0_e923_11ea_8c57_0242ac130202row6_col7\" class=\"data row6 col7\" >0.000</td>\n",
       "            </tr>\n",
       "            <tr>\n",
       "                        <th id=\"T_9f3e1af0_e923_11ea_8c57_0242ac130202level0_row7\" class=\"row_heading level0 row7\" >7</th>\n",
       "                        <td id=\"T_9f3e1af0_e923_11ea_8c57_0242ac130202row7_col0\" class=\"data row7 col0\" >0.000</td>\n",
       "                        <td id=\"T_9f3e1af0_e923_11ea_8c57_0242ac130202row7_col1\" class=\"data row7 col1\" >0.000</td>\n",
       "                        <td id=\"T_9f3e1af0_e923_11ea_8c57_0242ac130202row7_col2\" class=\"data row7 col2\" >0.000</td>\n",
       "                        <td id=\"T_9f3e1af0_e923_11ea_8c57_0242ac130202row7_col3\" class=\"data row7 col3\" >0.000</td>\n",
       "                        <td id=\"T_9f3e1af0_e923_11ea_8c57_0242ac130202row7_col4\" class=\"data row7 col4\" >0.000</td>\n",
       "                        <td id=\"T_9f3e1af0_e923_11ea_8c57_0242ac130202row7_col5\" class=\"data row7 col5\" >0.000</td>\n",
       "                        <td id=\"T_9f3e1af0_e923_11ea_8c57_0242ac130202row7_col6\" class=\"data row7 col6\" >0.000</td>\n",
       "                        <td id=\"T_9f3e1af0_e923_11ea_8c57_0242ac130202row7_col7\" class=\"data row7 col7\" >0.000</td>\n",
       "            </tr>\n",
       "    </tbody></table>"
      ],
      "text/plain": [
       "<pandas.io.formats.style.Styler at 0x7f2410c40cd0>"
      ]
     },
     "execution_count": 10,
     "metadata": {},
     "output_type": "execute_result"
    }
   ],
   "source": [
    "num_X=6; p=[1,1]\n",
    "X=np.random.random([num_X,num_X])\n",
    "n1=X.shape[0]+2*p[0]\n",
    "n2=X.shape[1]+2*p[1]\n",
    "X_padded=np.zeros(shape=(n1,n2))\n",
    "X_padded[p[0]:p[0]+X.shape[0],\n",
    "         p[1]:p[1]+X.shape[1]]=X\n",
    "pd.DataFrame(X_padded)\\\n",
    ".style.background_gradient(cmap='cool',axis=1)\\\n",
    ".set_properties(**{'max-width':'50px',\n",
    "                   'height':'50px'})"
   ]
  },
  {
   "cell_type": "code",
   "execution_count": 11,
   "metadata": {
    "execution": {
     "iopub.execute_input": "2020-08-28T11:42:59.359220Z",
     "iopub.status.busy": "2020-08-28T11:42:59.358149Z",
     "iopub.status.idle": "2020-08-28T11:42:59.379575Z",
     "shell.execute_reply": "2020-08-28T11:42:59.378859Z"
    },
    "papermill": {
     "duration": 0.05616,
     "end_time": "2020-08-28T11:42:59.379696",
     "exception": false,
     "start_time": "2020-08-28T11:42:59.323536",
     "status": "completed"
    },
    "tags": []
   },
   "outputs": [
    {
     "data": {
      "text/html": [
       "<style  type=\"text/css\" >\n",
       "#T_9f468c58_e923_11ea_8c57_0242ac130202row0_col0{\n",
       "            background-color:  #33ccff;\n",
       "            color:  #000000;\n",
       "            max-width:  50px;\n",
       "            height:  50px;\n",
       "        }#T_9f468c58_e923_11ea_8c57_0242ac130202row0_col1,#T_9f468c58_e923_11ea_8c57_0242ac130202row1_col1,#T_9f468c58_e923_11ea_8c57_0242ac130202row2_col1{\n",
       "            background-color:  #00ffff;\n",
       "            color:  #000000;\n",
       "            max-width:  50px;\n",
       "            height:  50px;\n",
       "        }#T_9f468c58_e923_11ea_8c57_0242ac130202row0_col2,#T_9f468c58_e923_11ea_8c57_0242ac130202row1_col0,#T_9f468c58_e923_11ea_8c57_0242ac130202row2_col2{\n",
       "            background-color:  #ff00ff;\n",
       "            color:  #f1f1f1;\n",
       "            max-width:  50px;\n",
       "            height:  50px;\n",
       "        }#T_9f468c58_e923_11ea_8c57_0242ac130202row1_col2{\n",
       "            background-color:  #b34cff;\n",
       "            color:  #000000;\n",
       "            max-width:  50px;\n",
       "            height:  50px;\n",
       "        }#T_9f468c58_e923_11ea_8c57_0242ac130202row2_col0{\n",
       "            background-color:  #af50ff;\n",
       "            color:  #000000;\n",
       "            max-width:  50px;\n",
       "            height:  50px;\n",
       "        }</style><table id=\"T_9f468c58_e923_11ea_8c57_0242ac130202\" ><thead>    <tr>        <th class=\"blank level0\" ></th>        <th class=\"col_heading level0 col0\" >0</th>        <th class=\"col_heading level0 col1\" >1</th>        <th class=\"col_heading level0 col2\" >2</th>    </tr></thead><tbody>\n",
       "                <tr>\n",
       "                        <th id=\"T_9f468c58_e923_11ea_8c57_0242ac130202level0_row0\" class=\"row_heading level0 row0\" >0</th>\n",
       "                        <td id=\"T_9f468c58_e923_11ea_8c57_0242ac130202row0_col0\" class=\"data row0 col0\" >0.140</td>\n",
       "                        <td id=\"T_9f468c58_e923_11ea_8c57_0242ac130202row0_col1\" class=\"data row0 col1\" >0.026</td>\n",
       "                        <td id=\"T_9f468c58_e923_11ea_8c57_0242ac130202row0_col2\" class=\"data row0 col2\" >0.595</td>\n",
       "            </tr>\n",
       "            <tr>\n",
       "                        <th id=\"T_9f468c58_e923_11ea_8c57_0242ac130202level0_row1\" class=\"row_heading level0 row1\" >1</th>\n",
       "                        <td id=\"T_9f468c58_e923_11ea_8c57_0242ac130202row1_col0\" class=\"data row1 col0\" >0.852</td>\n",
       "                        <td id=\"T_9f468c58_e923_11ea_8c57_0242ac130202row1_col1\" class=\"data row1 col1\" >0.074</td>\n",
       "                        <td id=\"T_9f468c58_e923_11ea_8c57_0242ac130202row1_col2\" class=\"data row1 col2\" >0.619</td>\n",
       "            </tr>\n",
       "            <tr>\n",
       "                        <th id=\"T_9f468c58_e923_11ea_8c57_0242ac130202level0_row2\" class=\"row_heading level0 row2\" >2</th>\n",
       "                        <td id=\"T_9f468c58_e923_11ea_8c57_0242ac130202row2_col0\" class=\"data row2 col0\" >0.464</td>\n",
       "                        <td id=\"T_9f468c58_e923_11ea_8c57_0242ac130202row2_col1\" class=\"data row2 col1\" >0.112</td>\n",
       "                        <td id=\"T_9f468c58_e923_11ea_8c57_0242ac130202row2_col2\" class=\"data row2 col2\" >0.625</td>\n",
       "            </tr>\n",
       "    </tbody></table>"
      ],
      "text/plain": [
       "<pandas.io.formats.style.Styler at 0x7f2410cb0750>"
      ]
     },
     "metadata": {},
     "output_type": "display_data"
    },
    {
     "data": {
      "text/html": [
       "<style  type=\"text/css\" >\n",
       "#T_9f4942c2_e923_11ea_8c57_0242ac130202row0_col0,#T_9f4942c2_e923_11ea_8c57_0242ac130202row1_col2,#T_9f4942c2_e923_11ea_8c57_0242ac130202row2_col0{\n",
       "            background-color:  #ff00ff;\n",
       "            color:  #f1f1f1;\n",
       "            max-width:  50px;\n",
       "            height:  50px;\n",
       "        }#T_9f4942c2_e923_11ea_8c57_0242ac130202row0_col1,#T_9f4942c2_e923_11ea_8c57_0242ac130202row1_col1,#T_9f4942c2_e923_11ea_8c57_0242ac130202row2_col1{\n",
       "            background-color:  #00ffff;\n",
       "            color:  #000000;\n",
       "            max-width:  50px;\n",
       "            height:  50px;\n",
       "        }#T_9f4942c2_e923_11ea_8c57_0242ac130202row0_col2{\n",
       "            background-color:  #af50ff;\n",
       "            color:  #000000;\n",
       "            max-width:  50px;\n",
       "            height:  50px;\n",
       "        }#T_9f4942c2_e923_11ea_8c57_0242ac130202row1_col0{\n",
       "            background-color:  #b34cff;\n",
       "            color:  #000000;\n",
       "            max-width:  50px;\n",
       "            height:  50px;\n",
       "        }#T_9f4942c2_e923_11ea_8c57_0242ac130202row2_col2{\n",
       "            background-color:  #33ccff;\n",
       "            color:  #000000;\n",
       "            max-width:  50px;\n",
       "            height:  50px;\n",
       "        }</style><table id=\"T_9f4942c2_e923_11ea_8c57_0242ac130202\" ><thead>    <tr>        <th class=\"blank level0\" ></th>        <th class=\"col_heading level0 col0\" >0</th>        <th class=\"col_heading level0 col1\" >1</th>        <th class=\"col_heading level0 col2\" >2</th>    </tr></thead><tbody>\n",
       "                <tr>\n",
       "                        <th id=\"T_9f4942c2_e923_11ea_8c57_0242ac130202level0_row0\" class=\"row_heading level0 row0\" >0</th>\n",
       "                        <td id=\"T_9f4942c2_e923_11ea_8c57_0242ac130202row0_col0\" class=\"data row0 col0\" >0.625</td>\n",
       "                        <td id=\"T_9f4942c2_e923_11ea_8c57_0242ac130202row0_col1\" class=\"data row0 col1\" >0.112</td>\n",
       "                        <td id=\"T_9f4942c2_e923_11ea_8c57_0242ac130202row0_col2\" class=\"data row0 col2\" >0.464</td>\n",
       "            </tr>\n",
       "            <tr>\n",
       "                        <th id=\"T_9f4942c2_e923_11ea_8c57_0242ac130202level0_row1\" class=\"row_heading level0 row1\" >1</th>\n",
       "                        <td id=\"T_9f4942c2_e923_11ea_8c57_0242ac130202row1_col0\" class=\"data row1 col0\" >0.619</td>\n",
       "                        <td id=\"T_9f4942c2_e923_11ea_8c57_0242ac130202row1_col1\" class=\"data row1 col1\" >0.074</td>\n",
       "                        <td id=\"T_9f4942c2_e923_11ea_8c57_0242ac130202row1_col2\" class=\"data row1 col2\" >0.852</td>\n",
       "            </tr>\n",
       "            <tr>\n",
       "                        <th id=\"T_9f4942c2_e923_11ea_8c57_0242ac130202level0_row2\" class=\"row_heading level0 row2\" >2</th>\n",
       "                        <td id=\"T_9f4942c2_e923_11ea_8c57_0242ac130202row2_col0\" class=\"data row2 col0\" >0.595</td>\n",
       "                        <td id=\"T_9f4942c2_e923_11ea_8c57_0242ac130202row2_col1\" class=\"data row2 col1\" >0.026</td>\n",
       "                        <td id=\"T_9f4942c2_e923_11ea_8c57_0242ac130202row2_col2\" class=\"data row2 col2\" >0.140</td>\n",
       "            </tr>\n",
       "    </tbody></table>"
      ],
      "text/plain": [
       "<pandas.io.formats.style.Styler at 0x7f2410c40690>"
      ]
     },
     "metadata": {},
     "output_type": "display_data"
    }
   ],
   "source": [
    "num_W=3\n",
    "W=np.random.random([num_W,num_W])\n",
    "W_rotated=np.array(W)[::-1,::-1]\n",
    "for m in [W,W_rotated]:\n",
    "    display(pd.DataFrame(m)\\\n",
    "    .style.background_gradient(cmap='cool',axis=1)\\\n",
    "    .set_properties(**{'max-width':'50px',\n",
    "                       'height':'50px'}))  "
   ]
  },
  {
   "cell_type": "code",
   "execution_count": 12,
   "metadata": {
    "execution": {
     "iopub.execute_input": "2020-08-28T11:42:59.427950Z",
     "iopub.status.busy": "2020-08-28T11:42:59.427157Z",
     "iopub.status.idle": "2020-08-28T11:42:59.452723Z",
     "shell.execute_reply": "2020-08-28T11:42:59.451973Z"
    },
    "papermill": {
     "duration": 0.06071,
     "end_time": "2020-08-28T11:42:59.452850",
     "exception": false,
     "start_time": "2020-08-28T11:42:59.392140",
     "status": "completed"
    },
    "tags": []
   },
   "outputs": [
    {
     "data": {
      "text/html": [
       "<style  type=\"text/css\" >\n",
       "#T_9f51189e_e923_11ea_8c57_0242ac130202row0_col0,#T_9f51189e_e923_11ea_8c57_0242ac130202row0_col1,#T_9f51189e_e923_11ea_8c57_0242ac130202row0_col2,#T_9f51189e_e923_11ea_8c57_0242ac130202row1_col0,#T_9f51189e_e923_11ea_8c57_0242ac130202row2_col0{\n",
       "            background-color:  #00ffff;\n",
       "            color:  #000000;\n",
       "            max-width:  50px;\n",
       "            height:  50px;\n",
       "        }#T_9f51189e_e923_11ea_8c57_0242ac130202row1_col1{\n",
       "            background-color:  #857aff;\n",
       "            color:  #000000;\n",
       "            max-width:  50px;\n",
       "            height:  50px;\n",
       "        }#T_9f51189e_e923_11ea_8c57_0242ac130202row1_col2,#T_9f51189e_e923_11ea_8c57_0242ac130202row2_col1{\n",
       "            background-color:  #ff00ff;\n",
       "            color:  #f1f1f1;\n",
       "            max-width:  50px;\n",
       "            height:  50px;\n",
       "        }#T_9f51189e_e923_11ea_8c57_0242ac130202row2_col2{\n",
       "            background-color:  #cb34ff;\n",
       "            color:  #f1f1f1;\n",
       "            max-width:  50px;\n",
       "            height:  50px;\n",
       "        }</style><table id=\"T_9f51189e_e923_11ea_8c57_0242ac130202\" ><thead>    <tr>        <th class=\"blank level0\" ></th>        <th class=\"col_heading level0 col0\" >0</th>        <th class=\"col_heading level0 col1\" >1</th>        <th class=\"col_heading level0 col2\" >2</th>    </tr></thead><tbody>\n",
       "                <tr>\n",
       "                        <th id=\"T_9f51189e_e923_11ea_8c57_0242ac130202level0_row0\" class=\"row_heading level0 row0\" >0</th>\n",
       "                        <td id=\"T_9f51189e_e923_11ea_8c57_0242ac130202row0_col0\" class=\"data row0 col0\" >0.000</td>\n",
       "                        <td id=\"T_9f51189e_e923_11ea_8c57_0242ac130202row0_col1\" class=\"data row0 col1\" >0.000</td>\n",
       "                        <td id=\"T_9f51189e_e923_11ea_8c57_0242ac130202row0_col2\" class=\"data row0 col2\" >0.000</td>\n",
       "            </tr>\n",
       "            <tr>\n",
       "                        <th id=\"T_9f51189e_e923_11ea_8c57_0242ac130202level0_row1\" class=\"row_heading level0 row1\" >1</th>\n",
       "                        <td id=\"T_9f51189e_e923_11ea_8c57_0242ac130202row1_col0\" class=\"data row1 col0\" >0.000</td>\n",
       "                        <td id=\"T_9f51189e_e923_11ea_8c57_0242ac130202row1_col1\" class=\"data row1 col1\" >0.459</td>\n",
       "                        <td id=\"T_9f51189e_e923_11ea_8c57_0242ac130202row1_col2\" class=\"data row1 col2\" >0.877</td>\n",
       "            </tr>\n",
       "            <tr>\n",
       "                        <th id=\"T_9f51189e_e923_11ea_8c57_0242ac130202level0_row2\" class=\"row_heading level0 row2\" >2</th>\n",
       "                        <td id=\"T_9f51189e_e923_11ea_8c57_0242ac130202row2_col0\" class=\"data row2 col0\" >0.000</td>\n",
       "                        <td id=\"T_9f51189e_e923_11ea_8c57_0242ac130202row2_col1\" class=\"data row2 col1\" >0.994</td>\n",
       "                        <td id=\"T_9f51189e_e923_11ea_8c57_0242ac130202row2_col2\" class=\"data row2 col2\" >0.791</td>\n",
       "            </tr>\n",
       "    </tbody></table>"
      ],
      "text/plain": [
       "<pandas.io.formats.style.Styler at 0x7f2410cb0450>"
      ]
     },
     "metadata": {},
     "output_type": "display_data"
    },
    {
     "data": {
      "text/html": [
       "<style  type=\"text/css\" >\n",
       "#T_9f53fe7e_e923_11ea_8c57_0242ac130202row0_col0,#T_9f53fe7e_e923_11ea_8c57_0242ac130202row1_col2,#T_9f53fe7e_e923_11ea_8c57_0242ac130202row2_col0{\n",
       "            background-color:  #ff00ff;\n",
       "            color:  #f1f1f1;\n",
       "            max-width:  50px;\n",
       "            height:  50px;\n",
       "        }#T_9f53fe7e_e923_11ea_8c57_0242ac130202row0_col1,#T_9f53fe7e_e923_11ea_8c57_0242ac130202row1_col1,#T_9f53fe7e_e923_11ea_8c57_0242ac130202row2_col1{\n",
       "            background-color:  #00ffff;\n",
       "            color:  #000000;\n",
       "            max-width:  50px;\n",
       "            height:  50px;\n",
       "        }#T_9f53fe7e_e923_11ea_8c57_0242ac130202row0_col2{\n",
       "            background-color:  #af50ff;\n",
       "            color:  #000000;\n",
       "            max-width:  50px;\n",
       "            height:  50px;\n",
       "        }#T_9f53fe7e_e923_11ea_8c57_0242ac130202row1_col0{\n",
       "            background-color:  #b34cff;\n",
       "            color:  #000000;\n",
       "            max-width:  50px;\n",
       "            height:  50px;\n",
       "        }#T_9f53fe7e_e923_11ea_8c57_0242ac130202row2_col2{\n",
       "            background-color:  #33ccff;\n",
       "            color:  #000000;\n",
       "            max-width:  50px;\n",
       "            height:  50px;\n",
       "        }</style><table id=\"T_9f53fe7e_e923_11ea_8c57_0242ac130202\" ><thead>    <tr>        <th class=\"blank level0\" ></th>        <th class=\"col_heading level0 col0\" >0</th>        <th class=\"col_heading level0 col1\" >1</th>        <th class=\"col_heading level0 col2\" >2</th>    </tr></thead><tbody>\n",
       "                <tr>\n",
       "                        <th id=\"T_9f53fe7e_e923_11ea_8c57_0242ac130202level0_row0\" class=\"row_heading level0 row0\" >0</th>\n",
       "                        <td id=\"T_9f53fe7e_e923_11ea_8c57_0242ac130202row0_col0\" class=\"data row0 col0\" >0.625</td>\n",
       "                        <td id=\"T_9f53fe7e_e923_11ea_8c57_0242ac130202row0_col1\" class=\"data row0 col1\" >0.112</td>\n",
       "                        <td id=\"T_9f53fe7e_e923_11ea_8c57_0242ac130202row0_col2\" class=\"data row0 col2\" >0.464</td>\n",
       "            </tr>\n",
       "            <tr>\n",
       "                        <th id=\"T_9f53fe7e_e923_11ea_8c57_0242ac130202level0_row1\" class=\"row_heading level0 row1\" >1</th>\n",
       "                        <td id=\"T_9f53fe7e_e923_11ea_8c57_0242ac130202row1_col0\" class=\"data row1 col0\" >0.619</td>\n",
       "                        <td id=\"T_9f53fe7e_e923_11ea_8c57_0242ac130202row1_col1\" class=\"data row1 col1\" >0.074</td>\n",
       "                        <td id=\"T_9f53fe7e_e923_11ea_8c57_0242ac130202row1_col2\" class=\"data row1 col2\" >0.852</td>\n",
       "            </tr>\n",
       "            <tr>\n",
       "                        <th id=\"T_9f53fe7e_e923_11ea_8c57_0242ac130202level0_row2\" class=\"row_heading level0 row2\" >2</th>\n",
       "                        <td id=\"T_9f53fe7e_e923_11ea_8c57_0242ac130202row2_col0\" class=\"data row2 col0\" >0.595</td>\n",
       "                        <td id=\"T_9f53fe7e_e923_11ea_8c57_0242ac130202row2_col1\" class=\"data row2 col1\" >0.026</td>\n",
       "                        <td id=\"T_9f53fe7e_e923_11ea_8c57_0242ac130202row2_col2\" class=\"data row2 col2\" >0.140</td>\n",
       "            </tr>\n",
       "    </tbody></table>"
      ],
      "text/plain": [
       "<pandas.io.formats.style.Styler at 0x7f2410c9e2d0>"
      ]
     },
     "metadata": {},
     "output_type": "display_data"
    },
    {
     "data": {
      "text/html": [
       "<style>\n",
       "    @import 'https://fonts.googleapis.com/css?family=Lobster&effect=3d-float';</style>\n",
       "    <h1 class='font-effect-3d-float' \n",
       "    style='font-family:Lobster; color:#11ff66; font-size:30px;'>\n",
       "    &#x21e3;&#x21e3;&#x21e3;&#x21e3;&#x21e3;&#x21e3;&#x21e3;<br/>0.917443901</h1>"
      ],
      "text/plain": [
       "<IPython.core.display.HTML object>"
      ]
     },
     "metadata": {},
     "output_type": "display_data"
    }
   ],
   "source": [
    "X0=X_padded[:num_W,:num_W]\n",
    "Y0=round(np.sum(X0*W_rotated),9)\n",
    "for m in [X0,W_rotated]:\n",
    "    display(pd.DataFrame(m)\\\n",
    "    .style.background_gradient(cmap='cool',axis=1)\\\n",
    "    .set_properties(**{'max-width':'50px',\n",
    "                    'height':'50px'}))\n",
    "dhtml(7*'&#x21e3;'+'<br/>'+str(Y0))"
   ]
  },
  {
   "cell_type": "code",
   "execution_count": 13,
   "metadata": {
    "execution": {
     "iopub.execute_input": "2020-08-28T11:42:59.493349Z",
     "iopub.status.busy": "2020-08-28T11:42:59.492405Z",
     "iopub.status.idle": "2020-08-28T11:42:59.495752Z",
     "shell.execute_reply": "2020-08-28T11:42:59.495027Z"
    },
    "papermill": {
     "duration": 0.030812,
     "end_time": "2020-08-28T11:42:59.495877",
     "exception": false,
     "start_time": "2020-08-28T11:42:59.465065",
     "status": "completed"
    },
    "tags": []
   },
   "outputs": [],
   "source": [
    "def conv2d(X,W,p,s):\n",
    "    W_rotated=np.array(W)[::-1,::-1]\n",
    "    n1=X.shape[0]+2*p[0]\n",
    "    n2=X.shape[1]+2*p[1]\n",
    "    X_padded=np.zeros(shape=(n1,n2))\n",
    "    X_padded[p[0]:p[0]+X.shape[0],\n",
    "    p[1]:p[1]+X.shape[1]]=X\n",
    "    result=[]\n",
    "    l=(int((X_padded.shape[0]-W_rotated.shape[0])/s[0])+1,\n",
    "       int((X_padded.shape[1]-W_rotated.shape[1])/s[1])+1)\n",
    "    for i in range(0,l[0],s[0]):\n",
    "        result.append([])\n",
    "        for j in range(0,l[1],s[1]):\n",
    "            X_sub=X_padded[i:i+W_rotated.shape[0],\n",
    "                           j:j+W_rotated.shape[1]]\n",
    "            result[-1].append(np.sum(X_sub*W_rotated))\n",
    "    return(np.array(result))"
   ]
  },
  {
   "cell_type": "code",
   "execution_count": 14,
   "metadata": {
    "execution": {
     "iopub.execute_input": "2020-08-28T11:42:59.532788Z",
     "iopub.status.busy": "2020-08-28T11:42:59.531810Z",
     "iopub.status.idle": "2020-08-28T11:42:59.592141Z",
     "shell.execute_reply": "2020-08-28T11:42:59.592705Z"
    },
    "papermill": {
     "duration": 0.08483,
     "end_time": "2020-08-28T11:42:59.592884",
     "exception": false,
     "start_time": "2020-08-28T11:42:59.508054",
     "status": "completed"
    },
    "tags": []
   },
   "outputs": [
    {
     "data": {
      "text/html": [
       "<style  type=\"text/css\" >\n",
       "#T_9f647ac4_e923_11ea_8c57_0242ac130202row0_col0{\n",
       "            background-color:  #708fff;\n",
       "            color:  #000000;\n",
       "            max-width:  50px;\n",
       "        }#T_9f647ac4_e923_11ea_8c57_0242ac130202row0_col1,#T_9f647ac4_e923_11ea_8c57_0242ac130202row1_col2,#T_9f647ac4_e923_11ea_8c57_0242ac130202row2_col3,#T_9f647ac4_e923_11ea_8c57_0242ac130202row3_col3,#T_9f647ac4_e923_11ea_8c57_0242ac130202row4_col3,#T_9f647ac4_e923_11ea_8c57_0242ac130202row5_col3{\n",
       "            background-color:  #ff00ff;\n",
       "            color:  #f1f1f1;\n",
       "            max-width:  50px;\n",
       "        }#T_9f647ac4_e923_11ea_8c57_0242ac130202row0_col2{\n",
       "            background-color:  #dc23ff;\n",
       "            color:  #f1f1f1;\n",
       "            max-width:  50px;\n",
       "        }#T_9f647ac4_e923_11ea_8c57_0242ac130202row0_col3{\n",
       "            background-color:  #5da2ff;\n",
       "            color:  #000000;\n",
       "            max-width:  50px;\n",
       "        }#T_9f647ac4_e923_11ea_8c57_0242ac130202row0_col4,#T_9f647ac4_e923_11ea_8c57_0242ac130202row3_col5,#T_9f647ac4_e923_11ea_8c57_0242ac130202row4_col4{\n",
       "            background-color:  #5ca3ff;\n",
       "            color:  #000000;\n",
       "            max-width:  50px;\n",
       "        }#T_9f647ac4_e923_11ea_8c57_0242ac130202row0_col5,#T_9f647ac4_e923_11ea_8c57_0242ac130202row1_col5,#T_9f647ac4_e923_11ea_8c57_0242ac130202row2_col5,#T_9f647ac4_e923_11ea_8c57_0242ac130202row3_col0,#T_9f647ac4_e923_11ea_8c57_0242ac130202row4_col0,#T_9f647ac4_e923_11ea_8c57_0242ac130202row5_col0{\n",
       "            background-color:  #00ffff;\n",
       "            color:  #000000;\n",
       "            max-width:  50px;\n",
       "        }#T_9f647ac4_e923_11ea_8c57_0242ac130202row1_col0{\n",
       "            background-color:  #45baff;\n",
       "            color:  #000000;\n",
       "            max-width:  50px;\n",
       "        }#T_9f647ac4_e923_11ea_8c57_0242ac130202row1_col1{\n",
       "            background-color:  #cf30ff;\n",
       "            color:  #f1f1f1;\n",
       "            max-width:  50px;\n",
       "        }#T_9f647ac4_e923_11ea_8c57_0242ac130202row1_col3{\n",
       "            background-color:  #8778ff;\n",
       "            color:  #000000;\n",
       "            max-width:  50px;\n",
       "        }#T_9f647ac4_e923_11ea_8c57_0242ac130202row1_col4{\n",
       "            background-color:  #49b6ff;\n",
       "            color:  #000000;\n",
       "            max-width:  50px;\n",
       "        }#T_9f647ac4_e923_11ea_8c57_0242ac130202row2_col0{\n",
       "            background-color:  #08f7ff;\n",
       "            color:  #000000;\n",
       "            max-width:  50px;\n",
       "        }#T_9f647ac4_e923_11ea_8c57_0242ac130202row2_col1{\n",
       "            background-color:  #c33cff;\n",
       "            color:  #f1f1f1;\n",
       "            max-width:  50px;\n",
       "        }#T_9f647ac4_e923_11ea_8c57_0242ac130202row2_col2{\n",
       "            background-color:  #fa05ff;\n",
       "            color:  #f1f1f1;\n",
       "            max-width:  50px;\n",
       "        }#T_9f647ac4_e923_11ea_8c57_0242ac130202row2_col4{\n",
       "            background-color:  #55aaff;\n",
       "            color:  #000000;\n",
       "            max-width:  50px;\n",
       "        }#T_9f647ac4_e923_11ea_8c57_0242ac130202row3_col1{\n",
       "            background-color:  #cb34ff;\n",
       "            color:  #f1f1f1;\n",
       "            max-width:  50px;\n",
       "        }#T_9f647ac4_e923_11ea_8c57_0242ac130202row3_col2{\n",
       "            background-color:  #da25ff;\n",
       "            color:  #f1f1f1;\n",
       "            max-width:  50px;\n",
       "        }#T_9f647ac4_e923_11ea_8c57_0242ac130202row3_col4{\n",
       "            background-color:  #817eff;\n",
       "            color:  #000000;\n",
       "            max-width:  50px;\n",
       "        }#T_9f647ac4_e923_11ea_8c57_0242ac130202row4_col1{\n",
       "            background-color:  #d629ff;\n",
       "            color:  #f1f1f1;\n",
       "            max-width:  50px;\n",
       "        }#T_9f647ac4_e923_11ea_8c57_0242ac130202row4_col2{\n",
       "            background-color:  #8b74ff;\n",
       "            color:  #000000;\n",
       "            max-width:  50px;\n",
       "        }#T_9f647ac4_e923_11ea_8c57_0242ac130202row4_col5{\n",
       "            background-color:  #6798ff;\n",
       "            color:  #000000;\n",
       "            max-width:  50px;\n",
       "        }#T_9f647ac4_e923_11ea_8c57_0242ac130202row5_col1{\n",
       "            background-color:  #9669ff;\n",
       "            color:  #000000;\n",
       "            max-width:  50px;\n",
       "        }#T_9f647ac4_e923_11ea_8c57_0242ac130202row5_col2{\n",
       "            background-color:  #54abff;\n",
       "            color:  #000000;\n",
       "            max-width:  50px;\n",
       "        }#T_9f647ac4_e923_11ea_8c57_0242ac130202row5_col4{\n",
       "            background-color:  #837cff;\n",
       "            color:  #000000;\n",
       "            max-width:  50px;\n",
       "        }#T_9f647ac4_e923_11ea_8c57_0242ac130202row5_col5{\n",
       "            background-color:  #42bdff;\n",
       "            color:  #000000;\n",
       "            max-width:  50px;\n",
       "        }</style><table id=\"T_9f647ac4_e923_11ea_8c57_0242ac130202\" ><thead>    <tr>        <th class=\"blank level0\" ></th>        <th class=\"col_heading level0 col0\" >0</th>        <th class=\"col_heading level0 col1\" >1</th>        <th class=\"col_heading level0 col2\" >2</th>        <th class=\"col_heading level0 col3\" >3</th>        <th class=\"col_heading level0 col4\" >4</th>        <th class=\"col_heading level0 col5\" >5</th>    </tr></thead><tbody>\n",
       "                <tr>\n",
       "                        <th id=\"T_9f647ac4_e923_11ea_8c57_0242ac130202level0_row0\" class=\"row_heading level0 row0\" >0</th>\n",
       "                        <td id=\"T_9f647ac4_e923_11ea_8c57_0242ac130202row0_col0\" class=\"data row0 col0\" >0.917</td>\n",
       "                        <td id=\"T_9f647ac4_e923_11ea_8c57_0242ac130202row0_col1\" class=\"data row0 col1\" >1.494</td>\n",
       "                        <td id=\"T_9f647ac4_e923_11ea_8c57_0242ac130202row0_col2\" class=\"data row0 col2\" >1.349</td>\n",
       "                        <td id=\"T_9f647ac4_e923_11ea_8c57_0242ac130202row0_col3\" class=\"data row0 col3\" >0.841</td>\n",
       "                        <td id=\"T_9f647ac4_e923_11ea_8c57_0242ac130202row0_col4\" class=\"data row0 col4\" >0.836</td>\n",
       "                        <td id=\"T_9f647ac4_e923_11ea_8c57_0242ac130202row0_col5\" class=\"data row0 col5\" >0.463</td>\n",
       "            </tr>\n",
       "            <tr>\n",
       "                        <th id=\"T_9f647ac4_e923_11ea_8c57_0242ac130202level0_row1\" class=\"row_heading level0 row1\" >1</th>\n",
       "                        <td id=\"T_9f647ac4_e923_11ea_8c57_0242ac130202row1_col0\" class=\"data row1 col0\" >1.312</td>\n",
       "                        <td id=\"T_9f647ac4_e923_11ea_8c57_0242ac130202row1_col1\" class=\"data row1 col1\" >1.937</td>\n",
       "                        <td id=\"T_9f647ac4_e923_11ea_8c57_0242ac130202row1_col2\" class=\"data row1 col2\" >2.158</td>\n",
       "                        <td id=\"T_9f647ac4_e923_11ea_8c57_0242ac130202row1_col3\" class=\"data row1 col3\" >1.612</td>\n",
       "                        <td id=\"T_9f647ac4_e923_11ea_8c57_0242ac130202row1_col4\" class=\"data row1 col4\" >1.327</td>\n",
       "                        <td id=\"T_9f647ac4_e923_11ea_8c57_0242ac130202row1_col5\" class=\"data row1 col5\" >0.995</td>\n",
       "            </tr>\n",
       "            <tr>\n",
       "                        <th id=\"T_9f647ac4_e923_11ea_8c57_0242ac130202level0_row2\" class=\"row_heading level0 row2\" >2</th>\n",
       "                        <td id=\"T_9f647ac4_e923_11ea_8c57_0242ac130202row2_col0\" class=\"data row2 col0\" >1.140</td>\n",
       "                        <td id=\"T_9f647ac4_e923_11ea_8c57_0242ac130202row2_col1\" class=\"data row2 col1\" >1.864</td>\n",
       "                        <td id=\"T_9f647ac4_e923_11ea_8c57_0242ac130202row2_col2\" class=\"data row2 col2\" >2.076</td>\n",
       "                        <td id=\"T_9f647ac4_e923_11ea_8c57_0242ac130202row2_col3\" class=\"data row2 col3\" >2.098</td>\n",
       "                        <td id=\"T_9f647ac4_e923_11ea_8c57_0242ac130202row2_col4\" class=\"data row2 col4\" >1.438</td>\n",
       "                        <td id=\"T_9f647ac4_e923_11ea_8c57_0242ac130202row2_col5\" class=\"data row2 col5\" >1.107</td>\n",
       "            </tr>\n",
       "            <tr>\n",
       "                        <th id=\"T_9f647ac4_e923_11ea_8c57_0242ac130202level0_row3\" class=\"row_heading level0 row3\" >3</th>\n",
       "                        <td id=\"T_9f647ac4_e923_11ea_8c57_0242ac130202row3_col0\" class=\"data row3 col0\" >0.622</td>\n",
       "                        <td id=\"T_9f647ac4_e923_11ea_8c57_0242ac130202row3_col1\" class=\"data row3 col1\" >1.545</td>\n",
       "                        <td id=\"T_9f647ac4_e923_11ea_8c57_0242ac130202row3_col2\" class=\"data row3 col2\" >1.611</td>\n",
       "                        <td id=\"T_9f647ac4_e923_11ea_8c57_0242ac130202row3_col3\" class=\"data row3 col3\" >1.782</td>\n",
       "                        <td id=\"T_9f647ac4_e923_11ea_8c57_0242ac130202row3_col4\" class=\"data row3 col4\" >1.208</td>\n",
       "                        <td id=\"T_9f647ac4_e923_11ea_8c57_0242ac130202row3_col5\" class=\"data row3 col5\" >1.041</td>\n",
       "            </tr>\n",
       "            <tr>\n",
       "                        <th id=\"T_9f647ac4_e923_11ea_8c57_0242ac130202level0_row4\" class=\"row_heading level0 row4\" >4</th>\n",
       "                        <td id=\"T_9f647ac4_e923_11ea_8c57_0242ac130202row4_col0\" class=\"data row4 col0\" >0.556</td>\n",
       "                        <td id=\"T_9f647ac4_e923_11ea_8c57_0242ac130202row4_col1\" class=\"data row4 col1\" >1.537</td>\n",
       "                        <td id=\"T_9f647ac4_e923_11ea_8c57_0242ac130202row4_col2\" class=\"data row4 col2\" >1.194</td>\n",
       "                        <td id=\"T_9f647ac4_e923_11ea_8c57_0242ac130202row4_col3\" class=\"data row4 col3\" >1.729</td>\n",
       "                        <td id=\"T_9f647ac4_e923_11ea_8c57_0242ac130202row4_col4\" class=\"data row4 col4\" >0.978</td>\n",
       "                        <td id=\"T_9f647ac4_e923_11ea_8c57_0242ac130202row4_col5\" class=\"data row4 col5\" >1.031</td>\n",
       "            </tr>\n",
       "            <tr>\n",
       "                        <th id=\"T_9f647ac4_e923_11ea_8c57_0242ac130202level0_row5\" class=\"row_heading level0 row5\" >5</th>\n",
       "                        <td id=\"T_9f647ac4_e923_11ea_8c57_0242ac130202row5_col0\" class=\"data row5 col0\" >0.654</td>\n",
       "                        <td id=\"T_9f647ac4_e923_11ea_8c57_0242ac130202row5_col1\" class=\"data row5 col1\" >1.160</td>\n",
       "                        <td id=\"T_9f647ac4_e923_11ea_8c57_0242ac130202row5_col2\" class=\"data row5 col2\" >0.940</td>\n",
       "                        <td id=\"T_9f647ac4_e923_11ea_8c57_0242ac130202row5_col3\" class=\"data row5 col3\" >1.515</td>\n",
       "                        <td id=\"T_9f647ac4_e923_11ea_8c57_0242ac130202row5_col4\" class=\"data row5 col4\" >1.096</td>\n",
       "                        <td id=\"T_9f647ac4_e923_11ea_8c57_0242ac130202row5_col5\" class=\"data row5 col5\" >0.879</td>\n",
       "            </tr>\n",
       "    </tbody></table>"
      ],
      "text/plain": [
       "<pandas.io.formats.style.Styler at 0x7f2410bfe5d0>"
      ]
     },
     "metadata": {},
     "output_type": "display_data"
    },
    {
     "data": {
      "text/html": [
       "<style  type=\"text/css\" >\n",
       "#T_9f691bc4_e923_11ea_8c57_0242ac130202row0_col0{\n",
       "            background-color:  #708fff;\n",
       "            color:  #000000;\n",
       "            max-width:  50px;\n",
       "        }#T_9f691bc4_e923_11ea_8c57_0242ac130202row0_col1,#T_9f691bc4_e923_11ea_8c57_0242ac130202row1_col2,#T_9f691bc4_e923_11ea_8c57_0242ac130202row2_col3,#T_9f691bc4_e923_11ea_8c57_0242ac130202row3_col3,#T_9f691bc4_e923_11ea_8c57_0242ac130202row4_col3,#T_9f691bc4_e923_11ea_8c57_0242ac130202row5_col3{\n",
       "            background-color:  #ff00ff;\n",
       "            color:  #f1f1f1;\n",
       "            max-width:  50px;\n",
       "        }#T_9f691bc4_e923_11ea_8c57_0242ac130202row0_col2{\n",
       "            background-color:  #dc23ff;\n",
       "            color:  #f1f1f1;\n",
       "            max-width:  50px;\n",
       "        }#T_9f691bc4_e923_11ea_8c57_0242ac130202row0_col3{\n",
       "            background-color:  #5da2ff;\n",
       "            color:  #000000;\n",
       "            max-width:  50px;\n",
       "        }#T_9f691bc4_e923_11ea_8c57_0242ac130202row0_col4,#T_9f691bc4_e923_11ea_8c57_0242ac130202row3_col5,#T_9f691bc4_e923_11ea_8c57_0242ac130202row4_col4{\n",
       "            background-color:  #5ca3ff;\n",
       "            color:  #000000;\n",
       "            max-width:  50px;\n",
       "        }#T_9f691bc4_e923_11ea_8c57_0242ac130202row0_col5,#T_9f691bc4_e923_11ea_8c57_0242ac130202row1_col5,#T_9f691bc4_e923_11ea_8c57_0242ac130202row2_col5,#T_9f691bc4_e923_11ea_8c57_0242ac130202row3_col0,#T_9f691bc4_e923_11ea_8c57_0242ac130202row4_col0,#T_9f691bc4_e923_11ea_8c57_0242ac130202row5_col0{\n",
       "            background-color:  #00ffff;\n",
       "            color:  #000000;\n",
       "            max-width:  50px;\n",
       "        }#T_9f691bc4_e923_11ea_8c57_0242ac130202row1_col0{\n",
       "            background-color:  #45baff;\n",
       "            color:  #000000;\n",
       "            max-width:  50px;\n",
       "        }#T_9f691bc4_e923_11ea_8c57_0242ac130202row1_col1{\n",
       "            background-color:  #cf30ff;\n",
       "            color:  #f1f1f1;\n",
       "            max-width:  50px;\n",
       "        }#T_9f691bc4_e923_11ea_8c57_0242ac130202row1_col3{\n",
       "            background-color:  #8778ff;\n",
       "            color:  #000000;\n",
       "            max-width:  50px;\n",
       "        }#T_9f691bc4_e923_11ea_8c57_0242ac130202row1_col4{\n",
       "            background-color:  #49b6ff;\n",
       "            color:  #000000;\n",
       "            max-width:  50px;\n",
       "        }#T_9f691bc4_e923_11ea_8c57_0242ac130202row2_col0{\n",
       "            background-color:  #08f7ff;\n",
       "            color:  #000000;\n",
       "            max-width:  50px;\n",
       "        }#T_9f691bc4_e923_11ea_8c57_0242ac130202row2_col1{\n",
       "            background-color:  #c33cff;\n",
       "            color:  #f1f1f1;\n",
       "            max-width:  50px;\n",
       "        }#T_9f691bc4_e923_11ea_8c57_0242ac130202row2_col2{\n",
       "            background-color:  #fa05ff;\n",
       "            color:  #f1f1f1;\n",
       "            max-width:  50px;\n",
       "        }#T_9f691bc4_e923_11ea_8c57_0242ac130202row2_col4{\n",
       "            background-color:  #55aaff;\n",
       "            color:  #000000;\n",
       "            max-width:  50px;\n",
       "        }#T_9f691bc4_e923_11ea_8c57_0242ac130202row3_col1{\n",
       "            background-color:  #cb34ff;\n",
       "            color:  #f1f1f1;\n",
       "            max-width:  50px;\n",
       "        }#T_9f691bc4_e923_11ea_8c57_0242ac130202row3_col2{\n",
       "            background-color:  #da25ff;\n",
       "            color:  #f1f1f1;\n",
       "            max-width:  50px;\n",
       "        }#T_9f691bc4_e923_11ea_8c57_0242ac130202row3_col4{\n",
       "            background-color:  #817eff;\n",
       "            color:  #000000;\n",
       "            max-width:  50px;\n",
       "        }#T_9f691bc4_e923_11ea_8c57_0242ac130202row4_col1{\n",
       "            background-color:  #d629ff;\n",
       "            color:  #f1f1f1;\n",
       "            max-width:  50px;\n",
       "        }#T_9f691bc4_e923_11ea_8c57_0242ac130202row4_col2{\n",
       "            background-color:  #8b74ff;\n",
       "            color:  #000000;\n",
       "            max-width:  50px;\n",
       "        }#T_9f691bc4_e923_11ea_8c57_0242ac130202row4_col5{\n",
       "            background-color:  #6798ff;\n",
       "            color:  #000000;\n",
       "            max-width:  50px;\n",
       "        }#T_9f691bc4_e923_11ea_8c57_0242ac130202row5_col1{\n",
       "            background-color:  #9669ff;\n",
       "            color:  #000000;\n",
       "            max-width:  50px;\n",
       "        }#T_9f691bc4_e923_11ea_8c57_0242ac130202row5_col2{\n",
       "            background-color:  #54abff;\n",
       "            color:  #000000;\n",
       "            max-width:  50px;\n",
       "        }#T_9f691bc4_e923_11ea_8c57_0242ac130202row5_col4{\n",
       "            background-color:  #837cff;\n",
       "            color:  #000000;\n",
       "            max-width:  50px;\n",
       "        }#T_9f691bc4_e923_11ea_8c57_0242ac130202row5_col5{\n",
       "            background-color:  #42bdff;\n",
       "            color:  #000000;\n",
       "            max-width:  50px;\n",
       "        }</style><table id=\"T_9f691bc4_e923_11ea_8c57_0242ac130202\" ><thead>    <tr>        <th class=\"blank level0\" ></th>        <th class=\"col_heading level0 col0\" >0</th>        <th class=\"col_heading level0 col1\" >1</th>        <th class=\"col_heading level0 col2\" >2</th>        <th class=\"col_heading level0 col3\" >3</th>        <th class=\"col_heading level0 col4\" >4</th>        <th class=\"col_heading level0 col5\" >5</th>    </tr></thead><tbody>\n",
       "                <tr>\n",
       "                        <th id=\"T_9f691bc4_e923_11ea_8c57_0242ac130202level0_row0\" class=\"row_heading level0 row0\" >0</th>\n",
       "                        <td id=\"T_9f691bc4_e923_11ea_8c57_0242ac130202row0_col0\" class=\"data row0 col0\" >0.917</td>\n",
       "                        <td id=\"T_9f691bc4_e923_11ea_8c57_0242ac130202row0_col1\" class=\"data row0 col1\" >1.494</td>\n",
       "                        <td id=\"T_9f691bc4_e923_11ea_8c57_0242ac130202row0_col2\" class=\"data row0 col2\" >1.349</td>\n",
       "                        <td id=\"T_9f691bc4_e923_11ea_8c57_0242ac130202row0_col3\" class=\"data row0 col3\" >0.841</td>\n",
       "                        <td id=\"T_9f691bc4_e923_11ea_8c57_0242ac130202row0_col4\" class=\"data row0 col4\" >0.836</td>\n",
       "                        <td id=\"T_9f691bc4_e923_11ea_8c57_0242ac130202row0_col5\" class=\"data row0 col5\" >0.463</td>\n",
       "            </tr>\n",
       "            <tr>\n",
       "                        <th id=\"T_9f691bc4_e923_11ea_8c57_0242ac130202level0_row1\" class=\"row_heading level0 row1\" >1</th>\n",
       "                        <td id=\"T_9f691bc4_e923_11ea_8c57_0242ac130202row1_col0\" class=\"data row1 col0\" >1.312</td>\n",
       "                        <td id=\"T_9f691bc4_e923_11ea_8c57_0242ac130202row1_col1\" class=\"data row1 col1\" >1.937</td>\n",
       "                        <td id=\"T_9f691bc4_e923_11ea_8c57_0242ac130202row1_col2\" class=\"data row1 col2\" >2.158</td>\n",
       "                        <td id=\"T_9f691bc4_e923_11ea_8c57_0242ac130202row1_col3\" class=\"data row1 col3\" >1.612</td>\n",
       "                        <td id=\"T_9f691bc4_e923_11ea_8c57_0242ac130202row1_col4\" class=\"data row1 col4\" >1.327</td>\n",
       "                        <td id=\"T_9f691bc4_e923_11ea_8c57_0242ac130202row1_col5\" class=\"data row1 col5\" >0.995</td>\n",
       "            </tr>\n",
       "            <tr>\n",
       "                        <th id=\"T_9f691bc4_e923_11ea_8c57_0242ac130202level0_row2\" class=\"row_heading level0 row2\" >2</th>\n",
       "                        <td id=\"T_9f691bc4_e923_11ea_8c57_0242ac130202row2_col0\" class=\"data row2 col0\" >1.140</td>\n",
       "                        <td id=\"T_9f691bc4_e923_11ea_8c57_0242ac130202row2_col1\" class=\"data row2 col1\" >1.864</td>\n",
       "                        <td id=\"T_9f691bc4_e923_11ea_8c57_0242ac130202row2_col2\" class=\"data row2 col2\" >2.076</td>\n",
       "                        <td id=\"T_9f691bc4_e923_11ea_8c57_0242ac130202row2_col3\" class=\"data row2 col3\" >2.098</td>\n",
       "                        <td id=\"T_9f691bc4_e923_11ea_8c57_0242ac130202row2_col4\" class=\"data row2 col4\" >1.438</td>\n",
       "                        <td id=\"T_9f691bc4_e923_11ea_8c57_0242ac130202row2_col5\" class=\"data row2 col5\" >1.107</td>\n",
       "            </tr>\n",
       "            <tr>\n",
       "                        <th id=\"T_9f691bc4_e923_11ea_8c57_0242ac130202level0_row3\" class=\"row_heading level0 row3\" >3</th>\n",
       "                        <td id=\"T_9f691bc4_e923_11ea_8c57_0242ac130202row3_col0\" class=\"data row3 col0\" >0.622</td>\n",
       "                        <td id=\"T_9f691bc4_e923_11ea_8c57_0242ac130202row3_col1\" class=\"data row3 col1\" >1.545</td>\n",
       "                        <td id=\"T_9f691bc4_e923_11ea_8c57_0242ac130202row3_col2\" class=\"data row3 col2\" >1.611</td>\n",
       "                        <td id=\"T_9f691bc4_e923_11ea_8c57_0242ac130202row3_col3\" class=\"data row3 col3\" >1.782</td>\n",
       "                        <td id=\"T_9f691bc4_e923_11ea_8c57_0242ac130202row3_col4\" class=\"data row3 col4\" >1.208</td>\n",
       "                        <td id=\"T_9f691bc4_e923_11ea_8c57_0242ac130202row3_col5\" class=\"data row3 col5\" >1.041</td>\n",
       "            </tr>\n",
       "            <tr>\n",
       "                        <th id=\"T_9f691bc4_e923_11ea_8c57_0242ac130202level0_row4\" class=\"row_heading level0 row4\" >4</th>\n",
       "                        <td id=\"T_9f691bc4_e923_11ea_8c57_0242ac130202row4_col0\" class=\"data row4 col0\" >0.556</td>\n",
       "                        <td id=\"T_9f691bc4_e923_11ea_8c57_0242ac130202row4_col1\" class=\"data row4 col1\" >1.537</td>\n",
       "                        <td id=\"T_9f691bc4_e923_11ea_8c57_0242ac130202row4_col2\" class=\"data row4 col2\" >1.194</td>\n",
       "                        <td id=\"T_9f691bc4_e923_11ea_8c57_0242ac130202row4_col3\" class=\"data row4 col3\" >1.729</td>\n",
       "                        <td id=\"T_9f691bc4_e923_11ea_8c57_0242ac130202row4_col4\" class=\"data row4 col4\" >0.978</td>\n",
       "                        <td id=\"T_9f691bc4_e923_11ea_8c57_0242ac130202row4_col5\" class=\"data row4 col5\" >1.031</td>\n",
       "            </tr>\n",
       "            <tr>\n",
       "                        <th id=\"T_9f691bc4_e923_11ea_8c57_0242ac130202level0_row5\" class=\"row_heading level0 row5\" >5</th>\n",
       "                        <td id=\"T_9f691bc4_e923_11ea_8c57_0242ac130202row5_col0\" class=\"data row5 col0\" >0.654</td>\n",
       "                        <td id=\"T_9f691bc4_e923_11ea_8c57_0242ac130202row5_col1\" class=\"data row5 col1\" >1.160</td>\n",
       "                        <td id=\"T_9f691bc4_e923_11ea_8c57_0242ac130202row5_col2\" class=\"data row5 col2\" >0.940</td>\n",
       "                        <td id=\"T_9f691bc4_e923_11ea_8c57_0242ac130202row5_col3\" class=\"data row5 col3\" >1.515</td>\n",
       "                        <td id=\"T_9f691bc4_e923_11ea_8c57_0242ac130202row5_col4\" class=\"data row5 col4\" >1.096</td>\n",
       "                        <td id=\"T_9f691bc4_e923_11ea_8c57_0242ac130202row5_col5\" class=\"data row5 col5\" >0.879</td>\n",
       "            </tr>\n",
       "    </tbody></table>"
      ],
      "text/plain": [
       "<pandas.io.formats.style.Styler at 0x7f2410bb4450>"
      ]
     },
     "metadata": {},
     "output_type": "display_data"
    }
   ],
   "source": [
    "for el in [conv2d(X,W,p=(1,1),s=(1,1)),\n",
    "           sps.convolve2d(X,W,mode='same')]:\n",
    "    display(pd.DataFrame(el)\\\n",
    "            .style.background_gradient(cmap='cool',axis=1)\\\n",
    "            .set_properties(**{'max-width':'50px'}))"
   ]
  },
  {
   "cell_type": "code",
   "execution_count": 15,
   "metadata": {
    "_kg_hide-input": true,
    "execution": {
     "iopub.execute_input": "2020-08-28T11:42:59.625310Z",
     "iopub.status.busy": "2020-08-28T11:42:59.624379Z",
     "iopub.status.idle": "2020-08-28T11:42:59.629096Z",
     "shell.execute_reply": "2020-08-28T11:42:59.628353Z"
    },
    "papermill": {
     "duration": 0.022833,
     "end_time": "2020-08-28T11:42:59.629231",
     "exception": false,
     "start_time": "2020-08-28T11:42:59.606398",
     "status": "completed"
    },
    "tags": []
   },
   "outputs": [
    {
     "data": {
      "text/html": [
       "<style>\n",
       "    @import 'https://fonts.googleapis.com/css?family=Lobster&effect=3d-float';</style>\n",
       "    <h1 class='font-effect-3d-float' \n",
       "    style='font-family:Lobster; color:#11ff66; font-size:30px;'>\n",
       "    Pooling Exploration</h1>"
      ],
      "text/plain": [
       "<IPython.core.display.HTML object>"
      ]
     },
     "metadata": {},
     "output_type": "display_data"
    }
   ],
   "source": [
    "dhtml('Pooling Exploration')"
   ]
  },
  {
   "cell_type": "code",
   "execution_count": 16,
   "metadata": {
    "execution": {
     "iopub.execute_input": "2020-08-28T11:42:59.668946Z",
     "iopub.status.busy": "2020-08-28T11:42:59.667919Z",
     "iopub.status.idle": "2020-08-28T11:42:59.746069Z",
     "shell.execute_reply": "2020-08-28T11:42:59.745471Z"
    },
    "papermill": {
     "duration": 0.103883,
     "end_time": "2020-08-28T11:42:59.746210",
     "exception": false,
     "start_time": "2020-08-28T11:42:59.642327",
     "status": "completed"
    },
    "tags": []
   },
   "outputs": [
    {
     "data": {
      "text/html": [
       "<style  type=\"text/css\" >\n",
       "#T_9f7b12de_e923_11ea_8c57_0242ac130202row0_col0,#T_9f7b12de_e923_11ea_8c57_0242ac130202row0_col1,#T_9f7b12de_e923_11ea_8c57_0242ac130202row0_col2,#T_9f7b12de_e923_11ea_8c57_0242ac130202row1_col1,#T_9f7b12de_e923_11ea_8c57_0242ac130202row1_col2,#T_9f7b12de_e923_11ea_8c57_0242ac130202row2_col0,#T_9f7b12de_e923_11ea_8c57_0242ac130202row2_col1,#T_9f7b12de_e923_11ea_8c57_0242ac130202row2_col2{\n",
       "            max-width:  50px;\n",
       "            height:  50px;\n",
       "        }#T_9f7b12de_e923_11ea_8c57_0242ac130202row1_col0{\n",
       "            background-color:  #6611ff;\n",
       "            max-width:  50px;\n",
       "            height:  50px;\n",
       "        }</style><table id=\"T_9f7b12de_e923_11ea_8c57_0242ac130202\" ><thead>    <tr>        <th class=\"blank level0\" ></th>        <th class=\"col_heading level0 col0\" >0</th>        <th class=\"col_heading level0 col1\" >1</th>        <th class=\"col_heading level0 col2\" >2</th>    </tr></thead><tbody>\n",
       "                <tr>\n",
       "                        <th id=\"T_9f7b12de_e923_11ea_8c57_0242ac130202level0_row0\" class=\"row_heading level0 row0\" >0</th>\n",
       "                        <td id=\"T_9f7b12de_e923_11ea_8c57_0242ac130202row0_col0\" class=\"data row0 col0\" >0.459</td>\n",
       "                        <td id=\"T_9f7b12de_e923_11ea_8c57_0242ac130202row0_col1\" class=\"data row0 col1\" >0.877</td>\n",
       "                        <td id=\"T_9f7b12de_e923_11ea_8c57_0242ac130202row0_col2\" class=\"data row0 col2\" >0.551</td>\n",
       "            </tr>\n",
       "            <tr>\n",
       "                        <th id=\"T_9f7b12de_e923_11ea_8c57_0242ac130202level0_row1\" class=\"row_heading level0 row1\" >1</th>\n",
       "                        <td id=\"T_9f7b12de_e923_11ea_8c57_0242ac130202row1_col0\" class=\"data row1 col0\" >0.994</td>\n",
       "                        <td id=\"T_9f7b12de_e923_11ea_8c57_0242ac130202row1_col1\" class=\"data row1 col1\" >0.791</td>\n",
       "                        <td id=\"T_9f7b12de_e923_11ea_8c57_0242ac130202row1_col2\" class=\"data row1 col2\" >0.456</td>\n",
       "            </tr>\n",
       "            <tr>\n",
       "                        <th id=\"T_9f7b12de_e923_11ea_8c57_0242ac130202level0_row2\" class=\"row_heading level0 row2\" >2</th>\n",
       "                        <td id=\"T_9f7b12de_e923_11ea_8c57_0242ac130202row2_col0\" class=\"data row2 col0\" >0.270</td>\n",
       "                        <td id=\"T_9f7b12de_e923_11ea_8c57_0242ac130202row2_col1\" class=\"data row2 col1\" >0.706</td>\n",
       "                        <td id=\"T_9f7b12de_e923_11ea_8c57_0242ac130202row2_col2\" class=\"data row2 col2\" >0.395</td>\n",
       "            </tr>\n",
       "    </tbody></table>"
      ],
      "text/plain": [
       "<pandas.io.formats.style.Styler at 0x7f242de2bb90>"
      ]
     },
     "metadata": {},
     "output_type": "display_data"
    },
    {
     "data": {
      "text/html": [
       "<style  type=\"text/css\" >\n",
       "#T_9f7d0148_e923_11ea_8c57_0242ac130202row0_col0,#T_9f7d0148_e923_11ea_8c57_0242ac130202row0_col1,#T_9f7d0148_e923_11ea_8c57_0242ac130202row0_col2,#T_9f7d0148_e923_11ea_8c57_0242ac130202row1_col0,#T_9f7d0148_e923_11ea_8c57_0242ac130202row1_col1,#T_9f7d0148_e923_11ea_8c57_0242ac130202row1_col2,#T_9f7d0148_e923_11ea_8c57_0242ac130202row2_col0,#T_9f7d0148_e923_11ea_8c57_0242ac130202row2_col2{\n",
       "            max-width:  50px;\n",
       "            height:  50px;\n",
       "        }#T_9f7d0148_e923_11ea_8c57_0242ac130202row2_col1{\n",
       "            background-color:  #6611ff;\n",
       "            max-width:  50px;\n",
       "            height:  50px;\n",
       "        }</style><table id=\"T_9f7d0148_e923_11ea_8c57_0242ac130202\" ><thead>    <tr>        <th class=\"blank level0\" ></th>        <th class=\"col_heading level0 col0\" >0</th>        <th class=\"col_heading level0 col1\" >1</th>        <th class=\"col_heading level0 col2\" >2</th>    </tr></thead><tbody>\n",
       "                <tr>\n",
       "                        <th id=\"T_9f7d0148_e923_11ea_8c57_0242ac130202level0_row0\" class=\"row_heading level0 row0\" >0</th>\n",
       "                        <td id=\"T_9f7d0148_e923_11ea_8c57_0242ac130202row0_col0\" class=\"data row0 col0\" >0.263</td>\n",
       "                        <td id=\"T_9f7d0148_e923_11ea_8c57_0242ac130202row0_col1\" class=\"data row0 col1\" >0.138</td>\n",
       "                        <td id=\"T_9f7d0148_e923_11ea_8c57_0242ac130202row0_col2\" class=\"data row0 col2\" >0.446</td>\n",
       "            </tr>\n",
       "            <tr>\n",
       "                        <th id=\"T_9f7d0148_e923_11ea_8c57_0242ac130202level0_row1\" class=\"row_heading level0 row1\" >1</th>\n",
       "                        <td id=\"T_9f7d0148_e923_11ea_8c57_0242ac130202row1_col0\" class=\"data row1 col0\" >0.424</td>\n",
       "                        <td id=\"T_9f7d0148_e923_11ea_8c57_0242ac130202row1_col1\" class=\"data row1 col1\" >0.575</td>\n",
       "                        <td id=\"T_9f7d0148_e923_11ea_8c57_0242ac130202row1_col2\" class=\"data row1 col2\" >0.114</td>\n",
       "            </tr>\n",
       "            <tr>\n",
       "                        <th id=\"T_9f7d0148_e923_11ea_8c57_0242ac130202level0_row2\" class=\"row_heading level0 row2\" >2</th>\n",
       "                        <td id=\"T_9f7d0148_e923_11ea_8c57_0242ac130202row2_col0\" class=\"data row2 col0\" >0.793</td>\n",
       "                        <td id=\"T_9f7d0148_e923_11ea_8c57_0242ac130202row2_col1\" class=\"data row2 col1\" >0.818</td>\n",
       "                        <td id=\"T_9f7d0148_e923_11ea_8c57_0242ac130202row2_col2\" class=\"data row2 col2\" >0.322</td>\n",
       "            </tr>\n",
       "    </tbody></table>"
      ],
      "text/plain": [
       "<pandas.io.formats.style.Styler at 0x7f2410abf850>"
      ]
     },
     "metadata": {},
     "output_type": "display_data"
    },
    {
     "data": {
      "text/html": [
       "<style  type=\"text/css\" >\n",
       "#T_9f7ef44e_e923_11ea_8c57_0242ac130202row0_col0,#T_9f7ef44e_e923_11ea_8c57_0242ac130202row0_col1,#T_9f7ef44e_e923_11ea_8c57_0242ac130202row1_col0,#T_9f7ef44e_e923_11ea_8c57_0242ac130202row1_col1,#T_9f7ef44e_e923_11ea_8c57_0242ac130202row1_col2,#T_9f7ef44e_e923_11ea_8c57_0242ac130202row2_col0,#T_9f7ef44e_e923_11ea_8c57_0242ac130202row2_col1,#T_9f7ef44e_e923_11ea_8c57_0242ac130202row2_col2{\n",
       "            max-width:  50px;\n",
       "            height:  50px;\n",
       "        }#T_9f7ef44e_e923_11ea_8c57_0242ac130202row0_col2{\n",
       "            background-color:  #6611ff;\n",
       "            max-width:  50px;\n",
       "            height:  50px;\n",
       "        }</style><table id=\"T_9f7ef44e_e923_11ea_8c57_0242ac130202\" ><thead>    <tr>        <th class=\"blank level0\" ></th>        <th class=\"col_heading level0 col0\" >0</th>        <th class=\"col_heading level0 col1\" >1</th>        <th class=\"col_heading level0 col2\" >2</th>    </tr></thead><tbody>\n",
       "                <tr>\n",
       "                        <th id=\"T_9f7ef44e_e923_11ea_8c57_0242ac130202level0_row0\" class=\"row_heading level0 row0\" >0</th>\n",
       "                        <td id=\"T_9f7ef44e_e923_11ea_8c57_0242ac130202row0_col0\" class=\"data row0 col0\" >0.466</td>\n",
       "                        <td id=\"T_9f7ef44e_e923_11ea_8c57_0242ac130202row0_col1\" class=\"data row0 col1\" >0.203</td>\n",
       "                        <td id=\"T_9f7ef44e_e923_11ea_8c57_0242ac130202row0_col2\" class=\"data row0 col2\" >0.741</td>\n",
       "            </tr>\n",
       "            <tr>\n",
       "                        <th id=\"T_9f7ef44e_e923_11ea_8c57_0242ac130202level0_row1\" class=\"row_heading level0 row1\" >1</th>\n",
       "                        <td id=\"T_9f7ef44e_e923_11ea_8c57_0242ac130202row1_col0\" class=\"data row1 col0\" >0.200</td>\n",
       "                        <td id=\"T_9f7ef44e_e923_11ea_8c57_0242ac130202row1_col1\" class=\"data row1 col1\" >0.365</td>\n",
       "                        <td id=\"T_9f7ef44e_e923_11ea_8c57_0242ac130202row1_col2\" class=\"data row1 col2\" >0.364</td>\n",
       "            </tr>\n",
       "            <tr>\n",
       "                        <th id=\"T_9f7ef44e_e923_11ea_8c57_0242ac130202level0_row2\" class=\"row_heading level0 row2\" >2</th>\n",
       "                        <td id=\"T_9f7ef44e_e923_11ea_8c57_0242ac130202row2_col0\" class=\"data row2 col0\" >0.559</td>\n",
       "                        <td id=\"T_9f7ef44e_e923_11ea_8c57_0242ac130202row2_col1\" class=\"data row2 col1\" >0.494</td>\n",
       "                        <td id=\"T_9f7ef44e_e923_11ea_8c57_0242ac130202row2_col2\" class=\"data row2 col2\" >0.519</td>\n",
       "            </tr>\n",
       "    </tbody></table>"
      ],
      "text/plain": [
       "<pandas.io.formats.style.Styler at 0x7f2410abf150>"
      ]
     },
     "metadata": {},
     "output_type": "display_data"
    },
    {
     "data": {
      "text/html": [
       "<style  type=\"text/css\" >\n",
       "#T_9f810072_e923_11ea_8c57_0242ac130202row0_col0,#T_9f810072_e923_11ea_8c57_0242ac130202row0_col1,#T_9f810072_e923_11ea_8c57_0242ac130202row0_col2,#T_9f810072_e923_11ea_8c57_0242ac130202row1_col0,#T_9f810072_e923_11ea_8c57_0242ac130202row1_col1,#T_9f810072_e923_11ea_8c57_0242ac130202row1_col2,#T_9f810072_e923_11ea_8c57_0242ac130202row2_col0,#T_9f810072_e923_11ea_8c57_0242ac130202row2_col2{\n",
       "            max-width:  50px;\n",
       "            height:  50px;\n",
       "        }#T_9f810072_e923_11ea_8c57_0242ac130202row2_col1{\n",
       "            background-color:  #6611ff;\n",
       "            max-width:  50px;\n",
       "            height:  50px;\n",
       "        }</style><table id=\"T_9f810072_e923_11ea_8c57_0242ac130202\" ><thead>    <tr>        <th class=\"blank level0\" ></th>        <th class=\"col_heading level0 col0\" >0</th>        <th class=\"col_heading level0 col1\" >1</th>        <th class=\"col_heading level0 col2\" >2</th>    </tr></thead><tbody>\n",
       "                <tr>\n",
       "                        <th id=\"T_9f810072_e923_11ea_8c57_0242ac130202level0_row0\" class=\"row_heading level0 row0\" >0</th>\n",
       "                        <td id=\"T_9f810072_e923_11ea_8c57_0242ac130202row0_col0\" class=\"data row0 col0\" >0.370</td>\n",
       "                        <td id=\"T_9f810072_e923_11ea_8c57_0242ac130202row0_col1\" class=\"data row0 col1\" >0.344</td>\n",
       "                        <td id=\"T_9f810072_e923_11ea_8c57_0242ac130202row0_col2\" class=\"data row0 col2\" >0.013</td>\n",
       "            </tr>\n",
       "            <tr>\n",
       "                        <th id=\"T_9f810072_e923_11ea_8c57_0242ac130202level0_row1\" class=\"row_heading level0 row1\" >1</th>\n",
       "                        <td id=\"T_9f810072_e923_11ea_8c57_0242ac130202row1_col0\" class=\"data row1 col0\" >0.256</td>\n",
       "                        <td id=\"T_9f810072_e923_11ea_8c57_0242ac130202row1_col1\" class=\"data row1 col1\" >0.457</td>\n",
       "                        <td id=\"T_9f810072_e923_11ea_8c57_0242ac130202row1_col2\" class=\"data row1 col2\" >0.302</td>\n",
       "            </tr>\n",
       "            <tr>\n",
       "                        <th id=\"T_9f810072_e923_11ea_8c57_0242ac130202level0_row2\" class=\"row_heading level0 row2\" >2</th>\n",
       "                        <td id=\"T_9f810072_e923_11ea_8c57_0242ac130202row2_col0\" class=\"data row2 col0\" >0.244</td>\n",
       "                        <td id=\"T_9f810072_e923_11ea_8c57_0242ac130202row2_col1\" class=\"data row2 col1\" >0.830</td>\n",
       "                        <td id=\"T_9f810072_e923_11ea_8c57_0242ac130202row2_col2\" class=\"data row2 col2\" >0.625</td>\n",
       "            </tr>\n",
       "    </tbody></table>"
      ],
      "text/plain": [
       "<pandas.io.formats.style.Styler at 0x7f2410abfd90>"
      ]
     },
     "metadata": {},
     "output_type": "display_data"
    }
   ],
   "source": [
    "pool_size=3\n",
    "for [i,j] in [[0,0],[0,1],[1,0],[1,1]]:\n",
    "    display(pd.DataFrame(X[i*pool_size:(i+1)*pool_size,\n",
    "                           j*pool_size:(j+1)*pool_size])\\\n",
    "            .style.highlight_max(color=c2,axis=None)\\\n",
    "            .set_properties(**{'max-width':'50px',\n",
    "                               'height':'50px'}))"
   ]
  },
  {
   "cell_type": "code",
   "execution_count": 17,
   "metadata": {
    "execution": {
     "iopub.execute_input": "2020-08-28T11:42:59.791789Z",
     "iopub.status.busy": "2020-08-28T11:42:59.790921Z",
     "iopub.status.idle": "2020-08-28T11:42:59.795600Z",
     "shell.execute_reply": "2020-08-28T11:42:59.794966Z"
    },
    "papermill": {
     "duration": 0.035764,
     "end_time": "2020-08-28T11:42:59.795729",
     "exception": false,
     "start_time": "2020-08-28T11:42:59.759965",
     "status": "completed"
    },
    "tags": []
   },
   "outputs": [
    {
     "data": {
      "text/html": [
       "<style  type=\"text/css\" >\n",
       "#T_9f889db4_e923_11ea_8c57_0242ac130202row0_col0,#T_9f889db4_e923_11ea_8c57_0242ac130202row1_col1{\n",
       "            width:  10em;\n",
       "             height:  80%;\n",
       "            background:  linear-gradient(90deg,#6611ff 100.0%, transparent 100.0%);\n",
       "            max-width:  50px;\n",
       "        }#T_9f889db4_e923_11ea_8c57_0242ac130202row0_col1{\n",
       "            width:  10em;\n",
       "             height:  80%;\n",
       "            background:  linear-gradient(90deg,#6611ff 98.6%, transparent 98.6%);\n",
       "            max-width:  50px;\n",
       "        }#T_9f889db4_e923_11ea_8c57_0242ac130202row1_col0{\n",
       "            width:  10em;\n",
       "             height:  80%;\n",
       "            background:  linear-gradient(90deg,#6611ff 74.6%, transparent 74.6%);\n",
       "            max-width:  50px;\n",
       "        }</style><table id=\"T_9f889db4_e923_11ea_8c57_0242ac130202\" ><thead>    <tr>        <th class=\"blank level0\" ></th>        <th class=\"col_heading level0 col0\" >0</th>        <th class=\"col_heading level0 col1\" >1</th>    </tr></thead><tbody>\n",
       "                <tr>\n",
       "                        <th id=\"T_9f889db4_e923_11ea_8c57_0242ac130202level0_row0\" class=\"row_heading level0 row0\" >0</th>\n",
       "                        <td id=\"T_9f889db4_e923_11ea_8c57_0242ac130202row0_col0\" class=\"data row0 col0\" >0.994</td>\n",
       "                        <td id=\"T_9f889db4_e923_11ea_8c57_0242ac130202row0_col1\" class=\"data row0 col1\" >0.818</td>\n",
       "            </tr>\n",
       "            <tr>\n",
       "                        <th id=\"T_9f889db4_e923_11ea_8c57_0242ac130202level0_row1\" class=\"row_heading level0 row1\" >1</th>\n",
       "                        <td id=\"T_9f889db4_e923_11ea_8c57_0242ac130202row1_col0\" class=\"data row1 col0\" >0.741</td>\n",
       "                        <td id=\"T_9f889db4_e923_11ea_8c57_0242ac130202row1_col1\" class=\"data row1 col1\" >0.830</td>\n",
       "            </tr>\n",
       "    </tbody></table>"
      ],
      "text/plain": [
       "<pandas.io.formats.style.Styler at 0x7f2410abfbd0>"
      ]
     },
     "execution_count": 17,
     "metadata": {},
     "output_type": "execute_result"
    }
   ],
   "source": [
    "maxp=sim.block_reduce(X,(pool_size,pool_size),np.max)\n",
    "pd.DataFrame(maxp)\\\n",
    ".style.bar(align='mid',color=c2)\\\n",
    ".set_properties(**{'max-width':'50px'})"
   ]
  },
  {
   "cell_type": "code",
   "execution_count": 18,
   "metadata": {
    "execution": {
     "iopub.execute_input": "2020-08-28T11:42:59.843104Z",
     "iopub.status.busy": "2020-08-28T11:42:59.842212Z",
     "iopub.status.idle": "2020-08-28T11:42:59.846910Z",
     "shell.execute_reply": "2020-08-28T11:42:59.846269Z"
    },
    "papermill": {
     "duration": 0.036835,
     "end_time": "2020-08-28T11:42:59.847035",
     "exception": false,
     "start_time": "2020-08-28T11:42:59.810200",
     "status": "completed"
    },
    "tags": []
   },
   "outputs": [
    {
     "data": {
      "text/html": [
       "<style  type=\"text/css\" >\n",
       "#T_9f9081d2_e923_11ea_8c57_0242ac130202row0_col0,#T_9f9081d2_e923_11ea_8c57_0242ac130202row0_col1{\n",
       "            width:  10em;\n",
       "             height:  80%;\n",
       "            background:  linear-gradient(90deg,#6611ff 100.0%, transparent 100.0%);\n",
       "            max-width:  50px;\n",
       "        }#T_9f9081d2_e923_11ea_8c57_0242ac130202row1_col0{\n",
       "            width:  10em;\n",
       "             height:  80%;\n",
       "            background:  linear-gradient(90deg,#6611ff 71.2%, transparent 71.2%);\n",
       "            max-width:  50px;\n",
       "        }#T_9f9081d2_e923_11ea_8c57_0242ac130202row1_col1{\n",
       "            width:  10em;\n",
       "             height:  80%;\n",
       "            background:  linear-gradient(90deg,#6611ff 88.3%, transparent 88.3%);\n",
       "            max-width:  50px;\n",
       "        }</style><table id=\"T_9f9081d2_e923_11ea_8c57_0242ac130202\" ><thead>    <tr>        <th class=\"blank level0\" ></th>        <th class=\"col_heading level0 col0\" >0</th>        <th class=\"col_heading level0 col1\" >1</th>    </tr></thead><tbody>\n",
       "                <tr>\n",
       "                        <th id=\"T_9f9081d2_e923_11ea_8c57_0242ac130202level0_row0\" class=\"row_heading level0 row0\" >0</th>\n",
       "                        <td id=\"T_9f9081d2_e923_11ea_8c57_0242ac130202row0_col0\" class=\"data row0 col0\" >0.611</td>\n",
       "                        <td id=\"T_9f9081d2_e923_11ea_8c57_0242ac130202row0_col1\" class=\"data row0 col1\" >0.433</td>\n",
       "            </tr>\n",
       "            <tr>\n",
       "                        <th id=\"T_9f9081d2_e923_11ea_8c57_0242ac130202level0_row1\" class=\"row_heading level0 row1\" >1</th>\n",
       "                        <td id=\"T_9f9081d2_e923_11ea_8c57_0242ac130202row1_col0\" class=\"data row1 col0\" >0.435</td>\n",
       "                        <td id=\"T_9f9081d2_e923_11ea_8c57_0242ac130202row1_col1\" class=\"data row1 col1\" >0.382</td>\n",
       "            </tr>\n",
       "    </tbody></table>"
      ],
      "text/plain": [
       "<pandas.io.formats.style.Styler at 0x7f2410abff90>"
      ]
     },
     "execution_count": 18,
     "metadata": {},
     "output_type": "execute_result"
    }
   ],
   "source": [
    "meanp=sim.block_reduce(X,(pool_size,pool_size),np.mean)\n",
    "pd.DataFrame(meanp)\\\n",
    ".style.bar(align='mid',color=c2)\\\n",
    ".set_properties(**{'max-width':'50px'})"
   ]
  },
  {
   "cell_type": "code",
   "execution_count": 19,
   "metadata": {
    "_kg_hide-input": true,
    "execution": {
     "iopub.execute_input": "2020-08-28T11:42:59.881490Z",
     "iopub.status.busy": "2020-08-28T11:42:59.880393Z",
     "iopub.status.idle": "2020-08-28T11:42:59.883858Z",
     "shell.execute_reply": "2020-08-28T11:42:59.884408Z"
    },
    "papermill": {
     "duration": 0.023256,
     "end_time": "2020-08-28T11:42:59.884574",
     "exception": false,
     "start_time": "2020-08-28T11:42:59.861318",
     "status": "completed"
    },
    "tags": []
   },
   "outputs": [
    {
     "data": {
      "text/html": [
       "<style>\n",
       "    @import 'https://fonts.googleapis.com/css?family=Lobster&effect=3d-float';</style>\n",
       "    <h1 class='font-effect-3d-float' \n",
       "    style='font-family:Lobster; color:#11ff66; font-size:30px;'>\n",
       "    Keras Conv1D/MaxPool1D & Conv2D/MaxPool2D</h1>"
      ],
      "text/plain": [
       "<IPython.core.display.HTML object>"
      ]
     },
     "metadata": {},
     "output_type": "display_data"
    }
   ],
   "source": [
    "dhtml('Keras Conv1D/MaxPool1D & Conv2D/MaxPool2D')"
   ]
  },
  {
   "cell_type": "code",
   "execution_count": 20,
   "metadata": {
    "execution": {
     "iopub.execute_input": "2020-08-28T11:42:59.926246Z",
     "iopub.status.busy": "2020-08-28T11:42:59.925308Z",
     "iopub.status.idle": "2020-08-28T11:42:59.928369Z",
     "shell.execute_reply": "2020-08-28T11:42:59.927713Z"
    },
    "papermill": {
     "duration": 0.029588,
     "end_time": "2020-08-28T11:42:59.928504",
     "exception": false,
     "start_time": "2020-08-28T11:42:59.898916",
     "status": "completed"
    },
    "tags": []
   },
   "outputs": [],
   "source": [
    "@register_line_magic\n",
    "def get_model_plot1d(pars):\n",
    "    pars=pars.split()\n",
    "    num_timesteps=int(pars[0])\n",
    "    num_features=int(pars[1])\n",
    "    num_filters=int(pars[2])\n",
    "    ks=int(pars[3])\n",
    "    ps=int(pars[4])\n",
    "    model=tf.keras.Sequential()\n",
    "    model.add(tkl.InputLayer((num_timesteps,\n",
    "                              num_features),\n",
    "                             name='input'))\n",
    "    model.add(tkl.Conv1D(\n",
    "        filters=num_filters,\n",
    "        kernel_size=ks,\n",
    "        padding='same',name='conv1d',\n",
    "        activation='relu'))\n",
    "    model.add(tkl.MaxPool1D(\n",
    "        pool_size=ps,name='pool1d'))\n",
    "    display(tku.plot_model(model,show_shapes=True))"
   ]
  },
  {
   "cell_type": "code",
   "execution_count": 21,
   "metadata": {
    "execution": {
     "iopub.execute_input": "2020-08-28T11:42:59.964447Z",
     "iopub.status.busy": "2020-08-28T11:42:59.963720Z",
     "iopub.status.idle": "2020-08-28T11:43:00.764764Z",
     "shell.execute_reply": "2020-08-28T11:43:00.764065Z"
    },
    "papermill": {
     "duration": 0.822045,
     "end_time": "2020-08-28T11:43:00.764935",
     "exception": false,
     "start_time": "2020-08-28T11:42:59.942890",
     "status": "completed"
    },
    "tags": []
   },
   "outputs": [
    {
     "data": {
      "image/png": "[encoded data removed]",
      "text/plain": [
       "<IPython.core.display.Image object>"
      ]
     },
     "metadata": {},
     "output_type": "display_data"
    }
   ],
   "source": [
    "%get_model_plot1d 4 16 32 3 2"
   ]
  },
  {
   "cell_type": "code",
   "execution_count": 22,
   "metadata": {
    "_kg_hide-input": true,
    "execution": {
     "iopub.execute_input": "2020-08-28T11:43:00.808451Z",
     "iopub.status.busy": "2020-08-28T11:43:00.804554Z",
     "iopub.status.idle": "2020-08-28T11:43:00.811858Z",
     "shell.execute_reply": "2020-08-28T11:43:00.811171Z"
    },
    "papermill": {
     "duration": 0.031418,
     "end_time": "2020-08-28T11:43:00.811990",
     "exception": false,
     "start_time": "2020-08-28T11:43:00.780572",
     "status": "completed"
    },
    "tags": []
   },
   "outputs": [],
   "source": [
    "@register_line_magic\n",
    "def get_model_plot2d(pars):\n",
    "    pars=pars.split()\n",
    "    img_size=int(pars[0])\n",
    "    num_channels=int(pars[1])\n",
    "    num_filters=int(pars[2])\n",
    "    ks=int(pars[3])\n",
    "    ps=int(pars[4])\n",
    "    model=tf.keras.Sequential()\n",
    "    model.add(tkl.InputLayer((img_size,img_size,\n",
    "                              num_channels),\n",
    "                             name='input'))\n",
    "    model.add(tkl.Conv2D(\n",
    "        filters=num_filters,\n",
    "        kernel_size=(ks,ks),strides=(1,1),\n",
    "        padding='same',name='conv2d',\n",
    "        activation='relu'))\n",
    "    model.add(tkl.MaxPool2D(\n",
    "        pool_size=(ps,ps),name='pool2d'))\n",
    "    display(tku.plot_model(model,show_shapes=True))"
   ]
  },
  {
   "cell_type": "code",
   "execution_count": 23,
   "metadata": {
    "execution": {
     "iopub.execute_input": "2020-08-28T11:43:00.853902Z",
     "iopub.status.busy": "2020-08-28T11:43:00.852777Z",
     "iopub.status.idle": "2020-08-28T11:43:00.964595Z",
     "shell.execute_reply": "2020-08-28T11:43:00.963964Z"
    },
    "papermill": {
     "duration": 0.136975,
     "end_time": "2020-08-28T11:43:00.964727",
     "exception": false,
     "start_time": "2020-08-28T11:43:00.827752",
     "status": "completed"
    },
    "tags": []
   },
   "outputs": [
    {
     "data": {
      "image/png": "[encoded data removed]",
      "text/plain": [
       "<IPython.core.display.Image object>"
      ]
     },
     "metadata": {},
     "output_type": "display_data"
    }
   ],
   "source": [
    "%get_model_plot2d 32 3 64 5 4"
   ]
  },
  {
   "cell_type": "code",
   "execution_count": 24,
   "metadata": {
    "_kg_hide-input": true,
    "execution": {
     "iopub.execute_input": "2020-08-28T11:43:01.003385Z",
     "iopub.status.busy": "2020-08-28T11:43:01.002313Z",
     "iopub.status.idle": "2020-08-28T11:43:01.007069Z",
     "shell.execute_reply": "2020-08-28T11:43:01.006339Z"
    },
    "papermill": {
     "duration": 0.026414,
     "end_time": "2020-08-28T11:43:01.007195",
     "exception": false,
     "start_time": "2020-08-28T11:43:00.980781",
     "status": "completed"
    },
    "tags": []
   },
   "outputs": [
    {
     "data": {
      "text/html": [
       "<style>\n",
       "    @import 'https://fonts.googleapis.com/css?family=Lobster&effect=3d-float';</style>\n",
       "    <h1 class='font-effect-3d-float' \n",
       "    style='font-family:Lobster; color:#11ff66; font-size:30px;'>\n",
       "    Keras Dropout</h1>"
      ],
      "text/plain": [
       "<IPython.core.display.HTML object>"
      ]
     },
     "metadata": {},
     "output_type": "display_data"
    }
   ],
   "source": [
    "dhtml('Keras Dropout')"
   ]
  },
  {
   "cell_type": "code",
   "execution_count": 25,
   "metadata": {
    "execution": {
     "iopub.execute_input": "2020-08-28T11:43:01.051133Z",
     "iopub.status.busy": "2020-08-28T11:43:01.050316Z",
     "iopub.status.idle": "2020-08-28T11:43:01.841987Z",
     "shell.execute_reply": "2020-08-28T11:43:01.841169Z"
    },
    "papermill": {
     "duration": 0.818758,
     "end_time": "2020-08-28T11:43:01.842120",
     "exception": false,
     "start_time": "2020-08-28T11:43:01.023362",
     "status": "completed"
    },
    "tags": []
   },
   "outputs": [
    {
     "data": {
      "image/png": "[encoded data removed]",
      "text/plain": [
       "<Figure size 504x144 with 1 Axes>"
      ]
     },
     "metadata": {
      "needs_background": "light"
     },
     "output_type": "display_data"
    },
    {
     "data": {
      "image/png": "[encoded data removed]",
      "text/plain": [
       "<Figure size 504x144 with 1 Axes>"
      ]
     },
     "metadata": {
      "needs_background": "light"
     },
     "output_type": "display_data"
    },
    {
     "data": {
      "image/png": "[encoded data removed]",
      "text/plain": [
       "<Figure size 504x144 with 1 Axes>"
      ]
     },
     "metadata": {
      "needs_background": "light"
     },
     "output_type": "display_data"
    },
    {
     "data": {
      "image/png": "[encoded data removed]",
      "text/plain": [
       "<Figure size 504x144 with 1 Axes>"
      ]
     },
     "metadata": {
      "needs_background": "light"
     },
     "output_type": "display_data"
    }
   ],
   "source": [
    "num_Y=100; dr=[.2*i for i in range(1,4)]\n",
    "Y=np.random.random(num_Y)\n",
    "pl.figure(figsize=(7,2))\n",
    "pl.scatter(range(num_Y),Y,c=c2)\n",
    "pl.title('input'); pl.grid(); pl.show()\n",
    "for i in range(3):\n",
    "    pl.figure(figsize=(7,2))\n",
    "    pl.scatter(range(num_Y),\n",
    "               tkl.Dropout(rate=dr[i])\\\n",
    "               (Y,training=True),c=c2)\n",
    "    pl.title('dropout rate: '+str(dr[i]))\n",
    "    pl.grid(); pl.show()"
   ]
  }
 ],
 "metadata": {
  "kernelspec": {
   "display_name": "Python 3",
   "language": "python",
   "name": "python3"
  },
  "language_info": {
   "codemirror_mode": {
    "name": "ipython",
    "version": 3
   },
   "file_extension": ".py",
   "mimetype": "text/x-python",
   "name": "python",
   "nbconvert_exporter": "python",
   "pygments_lexer": "ipython3",
   "version": "3.7.6"
  },
  "papermill": {
   "duration": 17.189287,
   "end_time": "2020-08-28T11:43:01.967801",
   "environment_variables": {},
   "exception": null,
   "input_path": "__notebook__.ipynb",
   "output_path": "__notebook__.ipynb",
   "parameters": {},
   "start_time": "2020-08-28T11:42:44.778514",
   "version": "2.1.0"
  }
 },
 "nbformat": 4,
 "nbformat_minor": 4
}
