{
 "cells": [
  {
   "cell_type": "markdown",
   "execution_count": null,
   "metadata": {
    "papermill": {
     "duration": 0.009054,
     "end_time": "2020-08-27T20:30:03.209593",
     "exception": false,
     "start_time": "2020-08-27T20:30:03.200539",
     "status": "completed"
    },
    "tags": []
   },
   "source": [
    "Reading classics [Python Machine Learning 3rd Edition](https://github.com/rasbt/python-machine-learning-book-3rd-edition/blob/master/ch15/ch15_part1.ipynb)"
   ]
  },
  {
   "cell_type": "code",
   "execution_count": 1,
   "metadata": {
    "_cell_guid": "b1076dfc-b9ad-4769-8c92-a6c4dae69d19",
    "_kg_hide-input": true,
    "_uuid": "8f2839f25d086af736a60e9eeb907d3b93b6e0e5",
    "execution": {
     "iopub.execute_input": "2020-08-27T20:30:03.233861Z",
     "iopub.status.busy": "2020-08-27T20:30:03.233078Z",
     "iopub.status.idle": "2020-08-27T20:30:03.236691Z",
     "shell.execute_reply": "2020-08-27T20:30:03.236003Z"
    },
    "papermill": {
     "duration": 0.019752,
     "end_time": "2020-08-27T20:30:03.236837",
     "exception": false,
     "start_time": "2020-08-27T20:30:03.217085",
     "status": "completed"
    },
    "tags": []
   },
   "outputs": [],
   "source": [
    "from IPython.display import display,HTML\n",
    "c1,c2,f1,f2,fs1,fs2=\\\n",
    "'#11ff66','#6611ff','Lobster','Orbitron',30,10\n",
    "def dhtml(string,fontcolor=c1,font=f1,fontsize=fs1):\n",
    "    display(HTML(\"\"\"<style>\n",
    "    @import 'https://fonts.googleapis.com/css?family=\"\"\"\\\n",
    "    +font+\"\"\"&effect=3d-float';</style>\n",
    "    <h1 class='font-effect-3d-float' \n",
    "    style='font-family:\"\"\"+font+\\\n",
    "    \"\"\"; color:\"\"\"+fontcolor+\\\n",
    "    \"\"\"; font-size:\"\"\"+str(fontsize)+\"\"\"px;'>\n",
    "    %s</h1>\"\"\"%string))"
   ]
  },
  {
   "cell_type": "code",
   "execution_count": 2,
   "metadata": {
    "_cell_guid": "79c7e3d0-c299-4dcb-8224-4455121ee9b0",
    "_kg_hide-input": true,
    "_uuid": "d629ff2d2480ee46fbb7e2d37f6b5fab8052498a",
    "execution": {
     "iopub.execute_input": "2020-08-27T20:30:03.259400Z",
     "iopub.status.busy": "2020-08-27T20:30:03.258544Z",
     "iopub.status.idle": "2020-08-27T20:30:03.263366Z",
     "shell.execute_reply": "2020-08-27T20:30:03.262592Z"
    },
    "papermill": {
     "duration": 0.019202,
     "end_time": "2020-08-27T20:30:03.263495",
     "exception": false,
     "start_time": "2020-08-27T20:30:03.244293",
     "status": "completed"
    },
    "tags": []
   },
   "outputs": [
    {
     "data": {
      "text/html": [
       "<style>\n",
       "    @import 'https://fonts.googleapis.com/css?family=Lobster&effect=3d-float';</style>\n",
       "    <h1 class='font-effect-3d-float' \n",
       "    style='font-family:Lobster; color:#11ff66; font-size:30px;'>\n",
       "    Code Modules, Setting, & Functions</h1>"
      ],
      "text/plain": [
       "<IPython.core.display.HTML object>"
      ]
     },
     "metadata": {},
     "output_type": "display_data"
    }
   ],
   "source": [
    "dhtml('Code Modules, Setting, & Functions')"
   ]
  },
  {
   "cell_type": "code",
   "execution_count": 3,
   "metadata": {
    "execution": {
     "iopub.execute_input": "2020-08-27T20:30:03.288998Z",
     "iopub.status.busy": "2020-08-27T20:30:03.288078Z",
     "iopub.status.idle": "2020-08-27T20:30:10.752015Z",
     "shell.execute_reply": "2020-08-27T20:30:10.751298Z"
    },
    "papermill": {
     "duration": 7.479145,
     "end_time": "2020-08-27T20:30:10.752136",
     "exception": false,
     "start_time": "2020-08-27T20:30:03.272991",
     "status": "completed"
    },
    "tags": []
   },
   "outputs": [],
   "source": [
    "import warnings; warnings.filterwarnings('ignore')\n",
    "import tensorflow as tf,pylab as pl\n",
    "import pandas as pd,numpy as np\n",
    "import scipy.signal as sps\n",
    "import skimage.measure as sim\n",
    "import tensorflow.keras.layers as tkl\n",
    "import tensorflow.keras.utils as tku\n",
    "from IPython.core.magic import register_line_magic\n",
    "pd.set_option('precision',3)"
   ]
  },
  {
   "cell_type": "code",
   "execution_count": 4,
   "metadata": {
    "_kg_hide-input": true,
    "execution": {
     "iopub.execute_input": "2020-08-27T20:30:10.774481Z",
     "iopub.status.busy": "2020-08-27T20:30:10.773440Z",
     "iopub.status.idle": "2020-08-27T20:30:10.778529Z",
     "shell.execute_reply": "2020-08-27T20:30:10.777755Z"
    },
    "papermill": {
     "duration": 0.018501,
     "end_time": "2020-08-27T20:30:10.778653",
     "exception": false,
     "start_time": "2020-08-27T20:30:10.760152",
     "status": "completed"
    },
    "tags": []
   },
   "outputs": [
    {
     "data": {
      "text/html": [
       "<style>\n",
       "    @import 'https://fonts.googleapis.com/css?family=Lobster&effect=3d-float';</style>\n",
       "    <h1 class='font-effect-3d-float' \n",
       "    style='font-family:Lobster; color:#11ff66; font-size:30px;'>\n",
       "    Conv1d Exploration</h1>"
      ],
      "text/plain": [
       "<IPython.core.display.HTML object>"
      ]
     },
     "metadata": {},
     "output_type": "display_data"
    }
   ],
   "source": [
    "dhtml('Conv1d Exploration')"
   ]
  },
  {
   "cell_type": "code",
   "execution_count": 5,
   "metadata": {
    "execution": {
     "iopub.execute_input": "2020-08-27T20:30:10.803076Z",
     "iopub.status.busy": "2020-08-27T20:30:10.802265Z",
     "iopub.status.idle": "2020-08-27T20:30:11.132771Z",
     "shell.execute_reply": "2020-08-27T20:30:11.133370Z"
    },
    "papermill": {
     "duration": 0.346909,
     "end_time": "2020-08-27T20:30:11.133536",
     "exception": false,
     "start_time": "2020-08-27T20:30:10.786627",
     "status": "completed"
    },
    "tags": []
   },
   "outputs": [
    {
     "data": {
      "text/html": [
       "<style  type=\"text/css\" >\n",
       "#T_1add72e4_e8a4_11ea_b87e_0242ac130202row0_col0,#T_1add72e4_e8a4_11ea_b87e_0242ac130202row1_col3{\n",
       "            background-color:  #ab54ff;\n",
       "            color:  #000000;\n",
       "        }#T_1add72e4_e8a4_11ea_b87e_0242ac130202row0_col1,#T_1add72e4_e8a4_11ea_b87e_0242ac130202row1_col2{\n",
       "            background-color:  #ff00ff;\n",
       "            color:  #f1f1f1;\n",
       "        }#T_1add72e4_e8a4_11ea_b87e_0242ac130202row0_col2,#T_1add72e4_e8a4_11ea_b87e_0242ac130202row1_col1{\n",
       "            background-color:  #17e8ff;\n",
       "            color:  #000000;\n",
       "        }#T_1add72e4_e8a4_11ea_b87e_0242ac130202row0_col3,#T_1add72e4_e8a4_11ea_b87e_0242ac130202row1_col0{\n",
       "            background-color:  #00ffff;\n",
       "            color:  #000000;\n",
       "        }</style><table id=\"T_1add72e4_e8a4_11ea_b87e_0242ac130202\" ><thead>    <tr>        <th class=\"blank level0\" ></th>        <th class=\"col_heading level0 col0\" >0</th>        <th class=\"col_heading level0 col1\" >1</th>        <th class=\"col_heading level0 col2\" >2</th>        <th class=\"col_heading level0 col3\" >3</th>    </tr></thead><tbody>\n",
       "                <tr>\n",
       "                        <th id=\"T_1add72e4_e8a4_11ea_b87e_0242ac130202level0_row0\" class=\"row_heading level0 row0\" >w</th>\n",
       "                        <td id=\"T_1add72e4_e8a4_11ea_b87e_0242ac130202row0_col0\" class=\"data row0 col0\" >0.608</td>\n",
       "                        <td id=\"T_1add72e4_e8a4_11ea_b87e_0242ac130202row0_col1\" class=\"data row0 col1\" >0.743</td>\n",
       "                        <td id=\"T_1add72e4_e8a4_11ea_b87e_0242ac130202row0_col2\" class=\"data row0 col2\" >0.372</td>\n",
       "                        <td id=\"T_1add72e4_e8a4_11ea_b87e_0242ac130202row0_col3\" class=\"data row0 col3\" >0.334</td>\n",
       "            </tr>\n",
       "            <tr>\n",
       "                        <th id=\"T_1add72e4_e8a4_11ea_b87e_0242ac130202level0_row1\" class=\"row_heading level0 row1\" >w_rotated</th>\n",
       "                        <td id=\"T_1add72e4_e8a4_11ea_b87e_0242ac130202row1_col0\" class=\"data row1 col0\" >0.334</td>\n",
       "                        <td id=\"T_1add72e4_e8a4_11ea_b87e_0242ac130202row1_col1\" class=\"data row1 col1\" >0.372</td>\n",
       "                        <td id=\"T_1add72e4_e8a4_11ea_b87e_0242ac130202row1_col2\" class=\"data row1 col2\" >0.743</td>\n",
       "                        <td id=\"T_1add72e4_e8a4_11ea_b87e_0242ac130202row1_col3\" class=\"data row1 col3\" >0.608</td>\n",
       "            </tr>\n",
       "    </tbody></table>"
      ],
      "text/plain": [
       "<pandas.io.formats.style.Styler at 0x7f53043c9650>"
      ]
     },
     "execution_count": 5,
     "metadata": {},
     "output_type": "execute_result"
    }
   ],
   "source": [
    "num_w,num_x=4,7 #num_w>3!\n",
    "w=np.random.random(num_w)\n",
    "x=np.random.random(num_x)\n",
    "w_rotated=np.array(w[::-1])\n",
    "pd.DataFrame([w,w_rotated],\n",
    "             index=['w','w_rotated'])\\\n",
    ".style.background_gradient(cmap='cool',axis=1)"
   ]
  },
  {
   "cell_type": "code",
   "execution_count": 6,
   "metadata": {
    "_kg_hide-output": true,
    "execution": {
     "iopub.execute_input": "2020-08-27T20:30:11.161147Z",
     "iopub.status.busy": "2020-08-27T20:30:11.160325Z",
     "iopub.status.idle": "2020-08-27T20:30:11.260227Z",
     "shell.execute_reply": "2020-08-27T20:30:11.259519Z"
    },
    "papermill": {
     "duration": 0.118514,
     "end_time": "2020-08-27T20:30:11.260365",
     "exception": false,
     "start_time": "2020-08-27T20:30:11.141851",
     "status": "completed"
    },
    "tags": []
   },
   "outputs": [
    {
     "data": {
      "text/html": [
       "<style  type=\"text/css\" >\n",
       "#T_1ae6734e_e8a4_11ea_b87e_0242ac130202row0_col0{\n",
       "            width:  10em;\n",
       "             height:  80%;\n",
       "            background:  linear-gradient(90deg,#6611ff 3.8%, transparent 3.8%);\n",
       "            max-width:  50px;\n",
       "        }#T_1ae6734e_e8a4_11ea_b87e_0242ac130202row0_col1,#T_1ae6734e_e8a4_11ea_b87e_0242ac130202row0_col3,#T_1ae6734e_e8a4_11ea_b87e_0242ac130202row1_col2,#T_1ae6734e_e8a4_11ea_b87e_0242ac130202row2_col0{\n",
       "            width:  10em;\n",
       "             height:  80%;\n",
       "            background:  linear-gradient(90deg,#6611ff 100.0%, transparent 100.0%);\n",
       "            max-width:  50px;\n",
       "        }#T_1ae6734e_e8a4_11ea_b87e_0242ac130202row0_col2{\n",
       "            width:  10em;\n",
       "             height:  80%;\n",
       "            background:  linear-gradient(90deg,#6611ff 91.5%, transparent 91.5%);\n",
       "            max-width:  50px;\n",
       "        }#T_1ae6734e_e8a4_11ea_b87e_0242ac130202row0_col4,#T_1ae6734e_e8a4_11ea_b87e_0242ac130202row0_col5,#T_1ae6734e_e8a4_11ea_b87e_0242ac130202row0_col6,#T_1ae6734e_e8a4_11ea_b87e_0242ac130202row1_col4,#T_1ae6734e_e8a4_11ea_b87e_0242ac130202row1_col5,#T_1ae6734e_e8a4_11ea_b87e_0242ac130202row1_col6,#T_1ae6734e_e8a4_11ea_b87e_0242ac130202row2_col1,#T_1ae6734e_e8a4_11ea_b87e_0242ac130202row2_col2,#T_1ae6734e_e8a4_11ea_b87e_0242ac130202row2_col3,#T_1ae6734e_e8a4_11ea_b87e_0242ac130202row2_col4,#T_1ae6734e_e8a4_11ea_b87e_0242ac130202row2_col5,#T_1ae6734e_e8a4_11ea_b87e_0242ac130202row2_col6{\n",
       "            max-width:  50px;\n",
       "        }#T_1ae6734e_e8a4_11ea_b87e_0242ac130202row1_col0{\n",
       "            width:  10em;\n",
       "             height:  80%;\n",
       "            background:  linear-gradient(90deg,#6611ff 25.8%, transparent 25.8%);\n",
       "            max-width:  50px;\n",
       "        }#T_1ae6734e_e8a4_11ea_b87e_0242ac130202row1_col1{\n",
       "            width:  10em;\n",
       "             height:  80%;\n",
       "            background:  linear-gradient(90deg,#6611ff 67.9%, transparent 67.9%);\n",
       "            max-width:  50px;\n",
       "        }#T_1ae6734e_e8a4_11ea_b87e_0242ac130202row1_col3{\n",
       "            width:  10em;\n",
       "             height:  80%;\n",
       "            background:  linear-gradient(90deg,#6611ff 65.0%, transparent 65.0%);\n",
       "            max-width:  50px;\n",
       "        }</style><table id=\"T_1ae6734e_e8a4_11ea_b87e_0242ac130202\" ><thead>    <tr>        <th class=\"blank level0\" ></th>        <th class=\"col_heading level0 col0\" >0</th>        <th class=\"col_heading level0 col1\" >1</th>        <th class=\"col_heading level0 col2\" >2</th>        <th class=\"col_heading level0 col3\" >3</th>        <th class=\"col_heading level0 col4\" >4</th>        <th class=\"col_heading level0 col5\" >5</th>        <th class=\"col_heading level0 col6\" >6</th>    </tr></thead><tbody>\n",
       "                <tr>\n",
       "                        <th id=\"T_1ae6734e_e8a4_11ea_b87e_0242ac130202level0_row0\" class=\"row_heading level0 row0\" >x</th>\n",
       "                        <td id=\"T_1ae6734e_e8a4_11ea_b87e_0242ac130202row0_col0\" class=\"data row0 col0\" >0.049</td>\n",
       "                        <td id=\"T_1ae6734e_e8a4_11ea_b87e_0242ac130202row0_col1\" class=\"data row0 col1\" >0.547</td>\n",
       "                        <td id=\"T_1ae6734e_e8a4_11ea_b87e_0242ac130202row0_col2\" class=\"data row0 col2\" >0.680</td>\n",
       "                        <td id=\"T_1ae6734e_e8a4_11ea_b87e_0242ac130202row0_col3\" class=\"data row0 col3\" >0.935</td>\n",
       "                        <td id=\"T_1ae6734e_e8a4_11ea_b87e_0242ac130202row0_col4\" class=\"data row0 col4\" >0.678</td>\n",
       "                        <td id=\"T_1ae6734e_e8a4_11ea_b87e_0242ac130202row0_col5\" class=\"data row0 col5\" >0.270</td>\n",
       "                        <td id=\"T_1ae6734e_e8a4_11ea_b87e_0242ac130202row0_col6\" class=\"data row0 col6\" >0.151</td>\n",
       "            </tr>\n",
       "            <tr>\n",
       "                        <th id=\"T_1ae6734e_e8a4_11ea_b87e_0242ac130202level0_row1\" class=\"row_heading level0 row1\" >w_rotated</th>\n",
       "                        <td id=\"T_1ae6734e_e8a4_11ea_b87e_0242ac130202row1_col0\" class=\"data row1 col0\" >0.334</td>\n",
       "                        <td id=\"T_1ae6734e_e8a4_11ea_b87e_0242ac130202row1_col1\" class=\"data row1 col1\" >0.372</td>\n",
       "                        <td id=\"T_1ae6734e_e8a4_11ea_b87e_0242ac130202row1_col2\" class=\"data row1 col2\" >0.743</td>\n",
       "                        <td id=\"T_1ae6734e_e8a4_11ea_b87e_0242ac130202row1_col3\" class=\"data row1 col3\" >0.608</td>\n",
       "                        <td id=\"T_1ae6734e_e8a4_11ea_b87e_0242ac130202row1_col4\" class=\"data row1 col4\" >nan</td>\n",
       "                        <td id=\"T_1ae6734e_e8a4_11ea_b87e_0242ac130202row1_col5\" class=\"data row1 col5\" >nan</td>\n",
       "                        <td id=\"T_1ae6734e_e8a4_11ea_b87e_0242ac130202row1_col6\" class=\"data row1 col6\" >nan</td>\n",
       "            </tr>\n",
       "            <tr>\n",
       "                        <th id=\"T_1ae6734e_e8a4_11ea_b87e_0242ac130202level0_row2\" class=\"row_heading level0 row2\" >y</th>\n",
       "                        <td id=\"T_1ae6734e_e8a4_11ea_b87e_0242ac130202row2_col0\" class=\"data row2 col0\" >1.293</td>\n",
       "                        <td id=\"T_1ae6734e_e8a4_11ea_b87e_0242ac130202row2_col1\" class=\"data row2 col1\" >nan</td>\n",
       "                        <td id=\"T_1ae6734e_e8a4_11ea_b87e_0242ac130202row2_col2\" class=\"data row2 col2\" >nan</td>\n",
       "                        <td id=\"T_1ae6734e_e8a4_11ea_b87e_0242ac130202row2_col3\" class=\"data row2 col3\" >nan</td>\n",
       "                        <td id=\"T_1ae6734e_e8a4_11ea_b87e_0242ac130202row2_col4\" class=\"data row2 col4\" >nan</td>\n",
       "                        <td id=\"T_1ae6734e_e8a4_11ea_b87e_0242ac130202row2_col5\" class=\"data row2 col5\" >nan</td>\n",
       "                        <td id=\"T_1ae6734e_e8a4_11ea_b87e_0242ac130202row2_col6\" class=\"data row2 col6\" >nan</td>\n",
       "            </tr>\n",
       "    </tbody></table>"
      ],
      "text/plain": [
       "<pandas.io.formats.style.Styler at 0x7f53041c0550>"
      ]
     },
     "metadata": {},
     "output_type": "display_data"
    },
    {
     "data": {
      "text/html": [
       "<style  type=\"text/css\" >\n",
       "#T_1ae9efce_e8a4_11ea_b87e_0242ac130202row0_col0,#T_1ae9efce_e8a4_11ea_b87e_0242ac130202row0_col5,#T_1ae9efce_e8a4_11ea_b87e_0242ac130202row0_col6,#T_1ae9efce_e8a4_11ea_b87e_0242ac130202row1_col0,#T_1ae9efce_e8a4_11ea_b87e_0242ac130202row1_col5,#T_1ae9efce_e8a4_11ea_b87e_0242ac130202row1_col6,#T_1ae9efce_e8a4_11ea_b87e_0242ac130202row2_col0,#T_1ae9efce_e8a4_11ea_b87e_0242ac130202row2_col2,#T_1ae9efce_e8a4_11ea_b87e_0242ac130202row2_col3,#T_1ae9efce_e8a4_11ea_b87e_0242ac130202row2_col4,#T_1ae9efce_e8a4_11ea_b87e_0242ac130202row2_col5,#T_1ae9efce_e8a4_11ea_b87e_0242ac130202row2_col6{\n",
       "            max-width:  50px;\n",
       "        }#T_1ae9efce_e8a4_11ea_b87e_0242ac130202row0_col1{\n",
       "            width:  10em;\n",
       "             height:  80%;\n",
       "            background:  linear-gradient(90deg,#6611ff 35.5%, transparent 35.5%);\n",
       "            max-width:  50px;\n",
       "        }#T_1ae9efce_e8a4_11ea_b87e_0242ac130202row0_col2,#T_1ae9efce_e8a4_11ea_b87e_0242ac130202row0_col3,#T_1ae9efce_e8a4_11ea_b87e_0242ac130202row0_col4,#T_1ae9efce_e8a4_11ea_b87e_0242ac130202row2_col1{\n",
       "            width:  10em;\n",
       "             height:  80%;\n",
       "            background:  linear-gradient(90deg,#6611ff 100.0%, transparent 100.0%);\n",
       "            max-width:  50px;\n",
       "        }#T_1ae9efce_e8a4_11ea_b87e_0242ac130202row1_col1{\n",
       "            width:  10em;\n",
       "             height:  80%;\n",
       "            background:  linear-gradient(90deg,#6611ff 21.7%, transparent 21.7%);\n",
       "            max-width:  50px;\n",
       "        }#T_1ae9efce_e8a4_11ea_b87e_0242ac130202row1_col2{\n",
       "            width:  10em;\n",
       "             height:  80%;\n",
       "            background:  linear-gradient(90deg,#6611ff 54.7%, transparent 54.7%);\n",
       "            max-width:  50px;\n",
       "        }#T_1ae9efce_e8a4_11ea_b87e_0242ac130202row1_col3{\n",
       "            width:  10em;\n",
       "             height:  80%;\n",
       "            background:  linear-gradient(90deg,#6611ff 79.4%, transparent 79.4%);\n",
       "            max-width:  50px;\n",
       "        }#T_1ae9efce_e8a4_11ea_b87e_0242ac130202row1_col4{\n",
       "            width:  10em;\n",
       "             height:  80%;\n",
       "            background:  linear-gradient(90deg,#6611ff 89.6%, transparent 89.6%);\n",
       "            max-width:  50px;\n",
       "        }</style><table id=\"T_1ae9efce_e8a4_11ea_b87e_0242ac130202\" ><thead>    <tr>        <th class=\"blank level0\" ></th>        <th class=\"col_heading level0 col0\" >0</th>        <th class=\"col_heading level0 col1\" >1</th>        <th class=\"col_heading level0 col2\" >2</th>        <th class=\"col_heading level0 col3\" >3</th>        <th class=\"col_heading level0 col4\" >4</th>        <th class=\"col_heading level0 col5\" >5</th>        <th class=\"col_heading level0 col6\" >6</th>    </tr></thead><tbody>\n",
       "                <tr>\n",
       "                        <th id=\"T_1ae9efce_e8a4_11ea_b87e_0242ac130202level0_row0\" class=\"row_heading level0 row0\" >x</th>\n",
       "                        <td id=\"T_1ae9efce_e8a4_11ea_b87e_0242ac130202row0_col0\" class=\"data row0 col0\" >0.049</td>\n",
       "                        <td id=\"T_1ae9efce_e8a4_11ea_b87e_0242ac130202row0_col1\" class=\"data row0 col1\" >0.547</td>\n",
       "                        <td id=\"T_1ae9efce_e8a4_11ea_b87e_0242ac130202row0_col2\" class=\"data row0 col2\" >0.680</td>\n",
       "                        <td id=\"T_1ae9efce_e8a4_11ea_b87e_0242ac130202row0_col3\" class=\"data row0 col3\" >0.935</td>\n",
       "                        <td id=\"T_1ae9efce_e8a4_11ea_b87e_0242ac130202row0_col4\" class=\"data row0 col4\" >0.678</td>\n",
       "                        <td id=\"T_1ae9efce_e8a4_11ea_b87e_0242ac130202row0_col5\" class=\"data row0 col5\" >0.270</td>\n",
       "                        <td id=\"T_1ae9efce_e8a4_11ea_b87e_0242ac130202row0_col6\" class=\"data row0 col6\" >0.151</td>\n",
       "            </tr>\n",
       "            <tr>\n",
       "                        <th id=\"T_1ae9efce_e8a4_11ea_b87e_0242ac130202level0_row1\" class=\"row_heading level0 row1\" >w_rotated</th>\n",
       "                        <td id=\"T_1ae9efce_e8a4_11ea_b87e_0242ac130202row1_col0\" class=\"data row1 col0\" >nan</td>\n",
       "                        <td id=\"T_1ae9efce_e8a4_11ea_b87e_0242ac130202row1_col1\" class=\"data row1 col1\" >0.334</td>\n",
       "                        <td id=\"T_1ae9efce_e8a4_11ea_b87e_0242ac130202row1_col2\" class=\"data row1 col2\" >0.372</td>\n",
       "                        <td id=\"T_1ae9efce_e8a4_11ea_b87e_0242ac130202row1_col3\" class=\"data row1 col3\" >0.743</td>\n",
       "                        <td id=\"T_1ae9efce_e8a4_11ea_b87e_0242ac130202row1_col4\" class=\"data row1 col4\" >0.608</td>\n",
       "                        <td id=\"T_1ae9efce_e8a4_11ea_b87e_0242ac130202row1_col5\" class=\"data row1 col5\" >nan</td>\n",
       "                        <td id=\"T_1ae9efce_e8a4_11ea_b87e_0242ac130202row1_col6\" class=\"data row1 col6\" >nan</td>\n",
       "            </tr>\n",
       "            <tr>\n",
       "                        <th id=\"T_1ae9efce_e8a4_11ea_b87e_0242ac130202level0_row2\" class=\"row_heading level0 row2\" >y</th>\n",
       "                        <td id=\"T_1ae9efce_e8a4_11ea_b87e_0242ac130202row2_col0\" class=\"data row2 col0\" >nan</td>\n",
       "                        <td id=\"T_1ae9efce_e8a4_11ea_b87e_0242ac130202row2_col1\" class=\"data row2 col1\" >1.542</td>\n",
       "                        <td id=\"T_1ae9efce_e8a4_11ea_b87e_0242ac130202row2_col2\" class=\"data row2 col2\" >nan</td>\n",
       "                        <td id=\"T_1ae9efce_e8a4_11ea_b87e_0242ac130202row2_col3\" class=\"data row2 col3\" >nan</td>\n",
       "                        <td id=\"T_1ae9efce_e8a4_11ea_b87e_0242ac130202row2_col4\" class=\"data row2 col4\" >nan</td>\n",
       "                        <td id=\"T_1ae9efce_e8a4_11ea_b87e_0242ac130202row2_col5\" class=\"data row2 col5\" >nan</td>\n",
       "                        <td id=\"T_1ae9efce_e8a4_11ea_b87e_0242ac130202row2_col6\" class=\"data row2 col6\" >nan</td>\n",
       "            </tr>\n",
       "    </tbody></table>"
      ],
      "text/plain": [
       "<pandas.io.formats.style.Styler at 0x7f530416a2d0>"
      ]
     },
     "metadata": {},
     "output_type": "display_data"
    },
    {
     "data": {
      "text/html": [
       "<style  type=\"text/css\" >\n",
       "#T_1aed8440_e8a4_11ea_b87e_0242ac130202row0_col0,#T_1aed8440_e8a4_11ea_b87e_0242ac130202row0_col1,#T_1aed8440_e8a4_11ea_b87e_0242ac130202row0_col6,#T_1aed8440_e8a4_11ea_b87e_0242ac130202row1_col0,#T_1aed8440_e8a4_11ea_b87e_0242ac130202row1_col1,#T_1aed8440_e8a4_11ea_b87e_0242ac130202row1_col6,#T_1aed8440_e8a4_11ea_b87e_0242ac130202row2_col0,#T_1aed8440_e8a4_11ea_b87e_0242ac130202row2_col1,#T_1aed8440_e8a4_11ea_b87e_0242ac130202row2_col3,#T_1aed8440_e8a4_11ea_b87e_0242ac130202row2_col4,#T_1aed8440_e8a4_11ea_b87e_0242ac130202row2_col5,#T_1aed8440_e8a4_11ea_b87e_0242ac130202row2_col6{\n",
       "            max-width:  50px;\n",
       "        }#T_1aed8440_e8a4_11ea_b87e_0242ac130202row0_col2{\n",
       "            width:  10em;\n",
       "             height:  80%;\n",
       "            background:  linear-gradient(90deg,#6611ff 54.7%, transparent 54.7%);\n",
       "            max-width:  50px;\n",
       "        }#T_1aed8440_e8a4_11ea_b87e_0242ac130202row0_col3,#T_1aed8440_e8a4_11ea_b87e_0242ac130202row1_col4,#T_1aed8440_e8a4_11ea_b87e_0242ac130202row1_col5,#T_1aed8440_e8a4_11ea_b87e_0242ac130202row2_col2{\n",
       "            width:  10em;\n",
       "             height:  80%;\n",
       "            background:  linear-gradient(90deg,#6611ff 100.0%, transparent 100.0%);\n",
       "            max-width:  50px;\n",
       "        }#T_1aed8440_e8a4_11ea_b87e_0242ac130202row0_col4{\n",
       "            width:  10em;\n",
       "             height:  80%;\n",
       "            background:  linear-gradient(90deg,#6611ff 91.3%, transparent 91.3%);\n",
       "            max-width:  50px;\n",
       "        }#T_1aed8440_e8a4_11ea_b87e_0242ac130202row0_col5{\n",
       "            width:  10em;\n",
       "             height:  80%;\n",
       "            background:  linear-gradient(90deg,#6611ff 44.4%, transparent 44.4%);\n",
       "            max-width:  50px;\n",
       "        }#T_1aed8440_e8a4_11ea_b87e_0242ac130202row1_col2{\n",
       "            width:  10em;\n",
       "             height:  80%;\n",
       "            background:  linear-gradient(90deg,#6611ff 26.9%, transparent 26.9%);\n",
       "            max-width:  50px;\n",
       "        }#T_1aed8440_e8a4_11ea_b87e_0242ac130202row1_col3{\n",
       "            width:  10em;\n",
       "             height:  80%;\n",
       "            background:  linear-gradient(90deg,#6611ff 39.8%, transparent 39.8%);\n",
       "            max-width:  50px;\n",
       "        }</style><table id=\"T_1aed8440_e8a4_11ea_b87e_0242ac130202\" ><thead>    <tr>        <th class=\"blank level0\" ></th>        <th class=\"col_heading level0 col0\" >0</th>        <th class=\"col_heading level0 col1\" >1</th>        <th class=\"col_heading level0 col2\" >2</th>        <th class=\"col_heading level0 col3\" >3</th>        <th class=\"col_heading level0 col4\" >4</th>        <th class=\"col_heading level0 col5\" >5</th>        <th class=\"col_heading level0 col6\" >6</th>    </tr></thead><tbody>\n",
       "                <tr>\n",
       "                        <th id=\"T_1aed8440_e8a4_11ea_b87e_0242ac130202level0_row0\" class=\"row_heading level0 row0\" >x</th>\n",
       "                        <td id=\"T_1aed8440_e8a4_11ea_b87e_0242ac130202row0_col0\" class=\"data row0 col0\" >0.049</td>\n",
       "                        <td id=\"T_1aed8440_e8a4_11ea_b87e_0242ac130202row0_col1\" class=\"data row0 col1\" >0.547</td>\n",
       "                        <td id=\"T_1aed8440_e8a4_11ea_b87e_0242ac130202row0_col2\" class=\"data row0 col2\" >0.680</td>\n",
       "                        <td id=\"T_1aed8440_e8a4_11ea_b87e_0242ac130202row0_col3\" class=\"data row0 col3\" >0.935</td>\n",
       "                        <td id=\"T_1aed8440_e8a4_11ea_b87e_0242ac130202row0_col4\" class=\"data row0 col4\" >0.678</td>\n",
       "                        <td id=\"T_1aed8440_e8a4_11ea_b87e_0242ac130202row0_col5\" class=\"data row0 col5\" >0.270</td>\n",
       "                        <td id=\"T_1aed8440_e8a4_11ea_b87e_0242ac130202row0_col6\" class=\"data row0 col6\" >0.151</td>\n",
       "            </tr>\n",
       "            <tr>\n",
       "                        <th id=\"T_1aed8440_e8a4_11ea_b87e_0242ac130202level0_row1\" class=\"row_heading level0 row1\" >w_rotated</th>\n",
       "                        <td id=\"T_1aed8440_e8a4_11ea_b87e_0242ac130202row1_col0\" class=\"data row1 col0\" >nan</td>\n",
       "                        <td id=\"T_1aed8440_e8a4_11ea_b87e_0242ac130202row1_col1\" class=\"data row1 col1\" >nan</td>\n",
       "                        <td id=\"T_1aed8440_e8a4_11ea_b87e_0242ac130202row1_col2\" class=\"data row1 col2\" >0.334</td>\n",
       "                        <td id=\"T_1aed8440_e8a4_11ea_b87e_0242ac130202row1_col3\" class=\"data row1 col3\" >0.372</td>\n",
       "                        <td id=\"T_1aed8440_e8a4_11ea_b87e_0242ac130202row1_col4\" class=\"data row1 col4\" >0.743</td>\n",
       "                        <td id=\"T_1aed8440_e8a4_11ea_b87e_0242ac130202row1_col5\" class=\"data row1 col5\" >0.608</td>\n",
       "                        <td id=\"T_1aed8440_e8a4_11ea_b87e_0242ac130202row1_col6\" class=\"data row1 col6\" >nan</td>\n",
       "            </tr>\n",
       "            <tr>\n",
       "                        <th id=\"T_1aed8440_e8a4_11ea_b87e_0242ac130202level0_row2\" class=\"row_heading level0 row2\" >y</th>\n",
       "                        <td id=\"T_1aed8440_e8a4_11ea_b87e_0242ac130202row2_col0\" class=\"data row2 col0\" >nan</td>\n",
       "                        <td id=\"T_1aed8440_e8a4_11ea_b87e_0242ac130202row2_col1\" class=\"data row2 col1\" >nan</td>\n",
       "                        <td id=\"T_1aed8440_e8a4_11ea_b87e_0242ac130202row2_col2\" class=\"data row2 col2\" >1.242</td>\n",
       "                        <td id=\"T_1aed8440_e8a4_11ea_b87e_0242ac130202row2_col3\" class=\"data row2 col3\" >nan</td>\n",
       "                        <td id=\"T_1aed8440_e8a4_11ea_b87e_0242ac130202row2_col4\" class=\"data row2 col4\" >nan</td>\n",
       "                        <td id=\"T_1aed8440_e8a4_11ea_b87e_0242ac130202row2_col5\" class=\"data row2 col5\" >nan</td>\n",
       "                        <td id=\"T_1aed8440_e8a4_11ea_b87e_0242ac130202row2_col6\" class=\"data row2 col6\" >nan</td>\n",
       "            </tr>\n",
       "    </tbody></table>"
      ],
      "text/plain": [
       "<pandas.io.formats.style.Styler at 0x7f53043b7c50>"
      ]
     },
     "metadata": {},
     "output_type": "display_data"
    },
    {
     "data": {
      "text/html": [
       "<style  type=\"text/css\" >\n",
       "#T_1af1109c_e8a4_11ea_b87e_0242ac130202row0_col0,#T_1af1109c_e8a4_11ea_b87e_0242ac130202row0_col1,#T_1af1109c_e8a4_11ea_b87e_0242ac130202row0_col2,#T_1af1109c_e8a4_11ea_b87e_0242ac130202row1_col0,#T_1af1109c_e8a4_11ea_b87e_0242ac130202row1_col1,#T_1af1109c_e8a4_11ea_b87e_0242ac130202row1_col2,#T_1af1109c_e8a4_11ea_b87e_0242ac130202row2_col0,#T_1af1109c_e8a4_11ea_b87e_0242ac130202row2_col1,#T_1af1109c_e8a4_11ea_b87e_0242ac130202row2_col2,#T_1af1109c_e8a4_11ea_b87e_0242ac130202row2_col4,#T_1af1109c_e8a4_11ea_b87e_0242ac130202row2_col5,#T_1af1109c_e8a4_11ea_b87e_0242ac130202row2_col6{\n",
       "            max-width:  50px;\n",
       "        }#T_1af1109c_e8a4_11ea_b87e_0242ac130202row0_col3,#T_1af1109c_e8a4_11ea_b87e_0242ac130202row0_col4,#T_1af1109c_e8a4_11ea_b87e_0242ac130202row1_col5,#T_1af1109c_e8a4_11ea_b87e_0242ac130202row1_col6{\n",
       "            width:  10em;\n",
       "             height:  80%;\n",
       "            background:  linear-gradient(90deg,#6611ff 100.0%, transparent 100.0%);\n",
       "            max-width:  50px;\n",
       "        }#T_1af1109c_e8a4_11ea_b87e_0242ac130202row0_col5{\n",
       "            width:  10em;\n",
       "             height:  80%;\n",
       "            background:  linear-gradient(90deg,#6611ff 36.3%, transparent 36.3%);\n",
       "            max-width:  50px;\n",
       "        }#T_1af1109c_e8a4_11ea_b87e_0242ac130202row0_col6{\n",
       "            width:  10em;\n",
       "             height:  80%;\n",
       "            background:  linear-gradient(90deg,#6611ff 24.8%, transparent 24.8%);\n",
       "            max-width:  50px;\n",
       "        }#T_1af1109c_e8a4_11ea_b87e_0242ac130202row1_col3{\n",
       "            width:  10em;\n",
       "             height:  80%;\n",
       "            background:  linear-gradient(90deg,#6611ff 35.7%, transparent 35.7%);\n",
       "            max-width:  50px;\n",
       "        }#T_1af1109c_e8a4_11ea_b87e_0242ac130202row1_col4{\n",
       "            width:  10em;\n",
       "             height:  80%;\n",
       "            background:  linear-gradient(90deg,#6611ff 54.8%, transparent 54.8%);\n",
       "            max-width:  50px;\n",
       "        }#T_1af1109c_e8a4_11ea_b87e_0242ac130202row2_col3{\n",
       "            width:  10em;\n",
       "             height:  80%;\n",
       "            background:  linear-gradient(90deg,#6611ff 91.6%, transparent 91.6%);\n",
       "            max-width:  50px;\n",
       "        }</style><table id=\"T_1af1109c_e8a4_11ea_b87e_0242ac130202\" ><thead>    <tr>        <th class=\"blank level0\" ></th>        <th class=\"col_heading level0 col0\" >0</th>        <th class=\"col_heading level0 col1\" >1</th>        <th class=\"col_heading level0 col2\" >2</th>        <th class=\"col_heading level0 col3\" >3</th>        <th class=\"col_heading level0 col4\" >4</th>        <th class=\"col_heading level0 col5\" >5</th>        <th class=\"col_heading level0 col6\" >6</th>    </tr></thead><tbody>\n",
       "                <tr>\n",
       "                        <th id=\"T_1af1109c_e8a4_11ea_b87e_0242ac130202level0_row0\" class=\"row_heading level0 row0\" >x</th>\n",
       "                        <td id=\"T_1af1109c_e8a4_11ea_b87e_0242ac130202row0_col0\" class=\"data row0 col0\" >0.049</td>\n",
       "                        <td id=\"T_1af1109c_e8a4_11ea_b87e_0242ac130202row0_col1\" class=\"data row0 col1\" >0.547</td>\n",
       "                        <td id=\"T_1af1109c_e8a4_11ea_b87e_0242ac130202row0_col2\" class=\"data row0 col2\" >0.680</td>\n",
       "                        <td id=\"T_1af1109c_e8a4_11ea_b87e_0242ac130202row0_col3\" class=\"data row0 col3\" >0.935</td>\n",
       "                        <td id=\"T_1af1109c_e8a4_11ea_b87e_0242ac130202row0_col4\" class=\"data row0 col4\" >0.678</td>\n",
       "                        <td id=\"T_1af1109c_e8a4_11ea_b87e_0242ac130202row0_col5\" class=\"data row0 col5\" >0.270</td>\n",
       "                        <td id=\"T_1af1109c_e8a4_11ea_b87e_0242ac130202row0_col6\" class=\"data row0 col6\" >0.151</td>\n",
       "            </tr>\n",
       "            <tr>\n",
       "                        <th id=\"T_1af1109c_e8a4_11ea_b87e_0242ac130202level0_row1\" class=\"row_heading level0 row1\" >w_rotated</th>\n",
       "                        <td id=\"T_1af1109c_e8a4_11ea_b87e_0242ac130202row1_col0\" class=\"data row1 col0\" >nan</td>\n",
       "                        <td id=\"T_1af1109c_e8a4_11ea_b87e_0242ac130202row1_col1\" class=\"data row1 col1\" >nan</td>\n",
       "                        <td id=\"T_1af1109c_e8a4_11ea_b87e_0242ac130202row1_col2\" class=\"data row1 col2\" >nan</td>\n",
       "                        <td id=\"T_1af1109c_e8a4_11ea_b87e_0242ac130202row1_col3\" class=\"data row1 col3\" >0.334</td>\n",
       "                        <td id=\"T_1af1109c_e8a4_11ea_b87e_0242ac130202row1_col4\" class=\"data row1 col4\" >0.372</td>\n",
       "                        <td id=\"T_1af1109c_e8a4_11ea_b87e_0242ac130202row1_col5\" class=\"data row1 col5\" >0.743</td>\n",
       "                        <td id=\"T_1af1109c_e8a4_11ea_b87e_0242ac130202row1_col6\" class=\"data row1 col6\" >0.608</td>\n",
       "            </tr>\n",
       "            <tr>\n",
       "                        <th id=\"T_1af1109c_e8a4_11ea_b87e_0242ac130202level0_row2\" class=\"row_heading level0 row2\" >y</th>\n",
       "                        <td id=\"T_1af1109c_e8a4_11ea_b87e_0242ac130202row2_col0\" class=\"data row2 col0\" >nan</td>\n",
       "                        <td id=\"T_1af1109c_e8a4_11ea_b87e_0242ac130202row2_col1\" class=\"data row2 col1\" >nan</td>\n",
       "                        <td id=\"T_1af1109c_e8a4_11ea_b87e_0242ac130202row2_col2\" class=\"data row2 col2\" >nan</td>\n",
       "                        <td id=\"T_1af1109c_e8a4_11ea_b87e_0242ac130202row2_col3\" class=\"data row2 col3\" >0.856</td>\n",
       "                        <td id=\"T_1af1109c_e8a4_11ea_b87e_0242ac130202row2_col4\" class=\"data row2 col4\" >nan</td>\n",
       "                        <td id=\"T_1af1109c_e8a4_11ea_b87e_0242ac130202row2_col5\" class=\"data row2 col5\" >nan</td>\n",
       "                        <td id=\"T_1af1109c_e8a4_11ea_b87e_0242ac130202row2_col6\" class=\"data row2 col6\" >nan</td>\n",
       "            </tr>\n",
       "    </tbody></table>"
      ],
      "text/plain": [
       "<pandas.io.formats.style.Styler at 0x7f53041b7d90>"
      ]
     },
     "metadata": {},
     "output_type": "display_data"
    }
   ],
   "source": [
    "def conv_step(x,i):\n",
    "    y=np.dot(x[i:i+len(w)],w_rotated)\n",
    "    display(\n",
    "        pd.DataFrame([x,i*[np.nan]+list(w_rotated),\n",
    "                      i*[np.nan]+[y]],\n",
    "                     index=['x','w_rotated','y'])\\\n",
    "        .style.bar(align='mid',color=c2,\n",
    "                   subset=list(range(i,i+len(w))))\\\n",
    "        .set_properties(**{'max-width':'50px'}))  \n",
    "for i in range(len(x)-len(w)+1): conv_step(x,i)"
   ]
  },
  {
   "cell_type": "code",
   "execution_count": 7,
   "metadata": {
    "execution": {
     "iopub.execute_input": "2020-08-27T20:30:11.293060Z",
     "iopub.status.busy": "2020-08-27T20:30:11.287710Z",
     "iopub.status.idle": "2020-08-27T20:30:11.333595Z",
     "shell.execute_reply": "2020-08-27T20:30:11.334146Z"
    },
    "papermill": {
     "duration": 0.064741,
     "end_time": "2020-08-27T20:30:11.334313",
     "exception": false,
     "start_time": "2020-08-27T20:30:11.269572",
     "status": "completed"
    },
    "tags": []
   },
   "outputs": [
    {
     "data": {
      "text/html": [
       "<style>\n",
       "    @import 'https://fonts.googleapis.com/css?family=Orbitron&effect=3d-float';</style>\n",
       "    <h1 class='font-effect-3d-float' \n",
       "    style='font-family:Orbitron; color:#6611ff; font-size:10px;'>\n",
       "    x: <br/>[0.04949807 0.54704406 0.67970612 0.93498242 0.67825948 0.26964019\n",
       " 0.15075491]<br/>padded x: </br>[0.         0.         0.04949807 0.54704406 0.67970612 0.93498242\n",
       " 0.67825948 0.26964019 0.15075491 0.         0.        ]<br/>w: <br/>[0.60782793 0.74284119 0.37170672 0.33399754]<br/>rotated w: <br/>[0.33399754 0.37170672 0.74284119 0.60782793]</h1>"
      ],
      "text/plain": [
       "<IPython.core.display.HTML object>"
      ]
     },
     "metadata": {},
     "output_type": "display_data"
    },
    {
     "data": {
      "text/html": [
       "<style  type=\"text/css\" >\n",
       "#T_1afc6208_e8a4_11ea_b87e_0242ac130202row0_col0,#T_1afc6208_e8a4_11ea_b87e_0242ac130202row1_col0{\n",
       "            background-color:  #00ffff;\n",
       "            color:  #000000;\n",
       "            max-width:  50px;\n",
       "        }#T_1afc6208_e8a4_11ea_b87e_0242ac130202row0_col1,#T_1afc6208_e8a4_11ea_b87e_0242ac130202row1_col1{\n",
       "            background-color:  #6699ff;\n",
       "            color:  #000000;\n",
       "            max-width:  50px;\n",
       "        }#T_1afc6208_e8a4_11ea_b87e_0242ac130202row0_col2,#T_1afc6208_e8a4_11ea_b87e_0242ac130202row1_col2{\n",
       "            background-color:  #c936ff;\n",
       "            color:  #f1f1f1;\n",
       "            max-width:  50px;\n",
       "        }#T_1afc6208_e8a4_11ea_b87e_0242ac130202row0_col3,#T_1afc6208_e8a4_11ea_b87e_0242ac130202row1_col3{\n",
       "            background-color:  #ff00ff;\n",
       "            color:  #f1f1f1;\n",
       "            max-width:  50px;\n",
       "        }#T_1afc6208_e8a4_11ea_b87e_0242ac130202row0_col4,#T_1afc6208_e8a4_11ea_b87e_0242ac130202row1_col4{\n",
       "            background-color:  #be41ff;\n",
       "            color:  #000000;\n",
       "            max-width:  50px;\n",
       "        }#T_1afc6208_e8a4_11ea_b87e_0242ac130202row0_col5,#T_1afc6208_e8a4_11ea_b87e_0242ac130202row1_col5{\n",
       "            background-color:  #6a95ff;\n",
       "            color:  #000000;\n",
       "            max-width:  50px;\n",
       "        }#T_1afc6208_e8a4_11ea_b87e_0242ac130202row0_col6,#T_1afc6208_e8a4_11ea_b87e_0242ac130202row1_col6{\n",
       "            background-color:  #0ff0ff;\n",
       "            color:  #000000;\n",
       "            max-width:  50px;\n",
       "        }</style><table id=\"T_1afc6208_e8a4_11ea_b87e_0242ac130202\" ><thead>    <tr>        <th class=\"blank level0\" ></th>        <th class=\"col_heading level0 col0\" >0</th>        <th class=\"col_heading level0 col1\" >1</th>        <th class=\"col_heading level0 col2\" >2</th>        <th class=\"col_heading level0 col3\" >3</th>        <th class=\"col_heading level0 col4\" >4</th>        <th class=\"col_heading level0 col5\" >5</th>        <th class=\"col_heading level0 col6\" >6</th>    </tr></thead><tbody>\n",
       "                <tr>\n",
       "                        <th id=\"T_1afc6208_e8a4_11ea_b87e_0242ac130202level0_row0\" class=\"row_heading level0 row0\" >conv1d</th>\n",
       "                        <td id=\"T_1afc6208_e8a4_11ea_b87e_0242ac130202row0_col0\" class=\"data row0 col0\" >0.369</td>\n",
       "                        <td id=\"T_1afc6208_e8a4_11ea_b87e_0242ac130202row0_col1\" class=\"data row0 col1\" >0.838</td>\n",
       "                        <td id=\"T_1afc6208_e8a4_11ea_b87e_0242ac130202row0_col2\" class=\"data row0 col2\" >1.293</td>\n",
       "                        <td id=\"T_1afc6208_e8a4_11ea_b87e_0242ac130202row0_col3\" class=\"data row0 col3\" >1.542</td>\n",
       "                        <td id=\"T_1afc6208_e8a4_11ea_b87e_0242ac130202row0_col4\" class=\"data row0 col4\" >1.242</td>\n",
       "                        <td id=\"T_1afc6208_e8a4_11ea_b87e_0242ac130202row0_col5\" class=\"data row0 col5\" >0.856</td>\n",
       "                        <td id=\"T_1afc6208_e8a4_11ea_b87e_0242ac130202row0_col6\" class=\"data row0 col6\" >0.439</td>\n",
       "            </tr>\n",
       "            <tr>\n",
       "                        <th id=\"T_1afc6208_e8a4_11ea_b87e_0242ac130202level0_row1\" class=\"row_heading level0 row1\" >numpy convolve</th>\n",
       "                        <td id=\"T_1afc6208_e8a4_11ea_b87e_0242ac130202row1_col0\" class=\"data row1 col0\" >0.369</td>\n",
       "                        <td id=\"T_1afc6208_e8a4_11ea_b87e_0242ac130202row1_col1\" class=\"data row1 col1\" >0.838</td>\n",
       "                        <td id=\"T_1afc6208_e8a4_11ea_b87e_0242ac130202row1_col2\" class=\"data row1 col2\" >1.293</td>\n",
       "                        <td id=\"T_1afc6208_e8a4_11ea_b87e_0242ac130202row1_col3\" class=\"data row1 col3\" >1.542</td>\n",
       "                        <td id=\"T_1afc6208_e8a4_11ea_b87e_0242ac130202row1_col4\" class=\"data row1 col4\" >1.242</td>\n",
       "                        <td id=\"T_1afc6208_e8a4_11ea_b87e_0242ac130202row1_col5\" class=\"data row1 col5\" >0.856</td>\n",
       "                        <td id=\"T_1afc6208_e8a4_11ea_b87e_0242ac130202row1_col6\" class=\"data row1 col6\" >0.439</td>\n",
       "            </tr>\n",
       "    </tbody></table>"
      ],
      "text/plain": [
       "<pandas.io.formats.style.Styler at 0x7f53040fea50>"
      ]
     },
     "execution_count": 7,
     "metadata": {},
     "output_type": "execute_result"
    }
   ],
   "source": [
    "def conv1d(x,w,p,s):\n",
    "    w_rotated=np.array(w[::-1])\n",
    "    x_padded=np.array(x)\n",
    "    w_length=w_rotated.shape[0]\n",
    "    x_length=x_padded.shape[0]+p*2\n",
    "    if p>0:\n",
    "        zero_pad=np.zeros(shape=p)\n",
    "        x_padded=np.concatenate([zero_pad,x_padded,zero_pad])\n",
    "    dhtml('x: <br/>'+str(x)+\\\n",
    "          '<br/>padded x: </br>'+str(x_padded)+\\\n",
    "          '<br/>w: <br/>'+str(w)+\\\n",
    "          '<br/>rotated w: <br/>'+str(w_rotated),\n",
    "          c2,f2,fs2)\n",
    "    result=[]; steps=int((x_length-w_length)/s)+w_length%2\n",
    "    for i in range(0,steps,s):\n",
    "        result.append(np.sum(x_padded[i:i+w_length]*w_rotated))\n",
    "    return np.array(result)\n",
    "pd.DataFrame([conv1d(x,w,p=2,s=1),\n",
    "             np.convolve(x,w,mode='same')],\n",
    "             index=['conv1d','numpy convolve'])\\\n",
    ".style.background_gradient(cmap='cool',axis=1)\\\n",
    ".set_properties(**{'max-width':'50px'})"
   ]
  },
  {
   "cell_type": "code",
   "execution_count": 8,
   "metadata": {
    "execution": {
     "iopub.execute_input": "2020-08-27T20:30:11.367103Z",
     "iopub.status.busy": "2020-08-27T20:30:11.366288Z",
     "iopub.status.idle": "2020-08-27T20:30:11.406775Z",
     "shell.execute_reply": "2020-08-27T20:30:11.406017Z"
    },
    "papermill": {
     "duration": 0.063013,
     "end_time": "2020-08-27T20:30:11.406895",
     "exception": false,
     "start_time": "2020-08-27T20:30:11.343882",
     "status": "completed"
    },
    "tags": []
   },
   "outputs": [
    {
     "data": {
      "text/html": [
       "<style  type=\"text/css\" >\n",
       "#T_1b06ffba_e8a4_11ea_b87e_0242ac130202row0_col0,#T_1b06ffba_e8a4_11ea_b87e_0242ac130202row1_col3,#T_1b06ffba_e8a4_11ea_b87e_0242ac130202row2_col0,#T_1b06ffba_e8a4_11ea_b87e_0242ac130202row3_col0,#T_1b06ffba_e8a4_11ea_b87e_0242ac130202row4_col3{\n",
       "            background-color:  #00ffff;\n",
       "            color:  #000000;\n",
       "            max-width:  50px;\n",
       "        }#T_1b06ffba_e8a4_11ea_b87e_0242ac130202row0_col1{\n",
       "            background-color:  #8f70ff;\n",
       "            color:  #000000;\n",
       "            max-width:  50px;\n",
       "        }#T_1b06ffba_e8a4_11ea_b87e_0242ac130202row0_col2{\n",
       "            background-color:  #b649ff;\n",
       "            color:  #000000;\n",
       "            max-width:  50px;\n",
       "        }#T_1b06ffba_e8a4_11ea_b87e_0242ac130202row0_col3,#T_1b06ffba_e8a4_11ea_b87e_0242ac130202row1_col1,#T_1b06ffba_e8a4_11ea_b87e_0242ac130202row2_col4,#T_1b06ffba_e8a4_11ea_b87e_0242ac130202row3_col3,#T_1b06ffba_e8a4_11ea_b87e_0242ac130202row4_col1{\n",
       "            background-color:  #ff00ff;\n",
       "            color:  #f1f1f1;\n",
       "            max-width:  50px;\n",
       "        }#T_1b06ffba_e8a4_11ea_b87e_0242ac130202row0_col4{\n",
       "            background-color:  #b54aff;\n",
       "            color:  #000000;\n",
       "            max-width:  50px;\n",
       "        }#T_1b06ffba_e8a4_11ea_b87e_0242ac130202row0_col5{\n",
       "            background-color:  #3fc0ff;\n",
       "            color:  #000000;\n",
       "            max-width:  50px;\n",
       "        }#T_1b06ffba_e8a4_11ea_b87e_0242ac130202row0_col6{\n",
       "            background-color:  #1de2ff;\n",
       "            color:  #000000;\n",
       "            max-width:  50px;\n",
       "        }#T_1b06ffba_e8a4_11ea_b87e_0242ac130202row0_col7,#T_1b06ffba_e8a4_11ea_b87e_0242ac130202row0_col8,#T_1b06ffba_e8a4_11ea_b87e_0242ac130202row0_col9,#T_1b06ffba_e8a4_11ea_b87e_0242ac130202row1_col4,#T_1b06ffba_e8a4_11ea_b87e_0242ac130202row1_col5,#T_1b06ffba_e8a4_11ea_b87e_0242ac130202row1_col6,#T_1b06ffba_e8a4_11ea_b87e_0242ac130202row1_col7,#T_1b06ffba_e8a4_11ea_b87e_0242ac130202row1_col8,#T_1b06ffba_e8a4_11ea_b87e_0242ac130202row1_col9,#T_1b06ffba_e8a4_11ea_b87e_0242ac130202row3_col7,#T_1b06ffba_e8a4_11ea_b87e_0242ac130202row3_col8,#T_1b06ffba_e8a4_11ea_b87e_0242ac130202row3_col9,#T_1b06ffba_e8a4_11ea_b87e_0242ac130202row4_col4,#T_1b06ffba_e8a4_11ea_b87e_0242ac130202row4_col5,#T_1b06ffba_e8a4_11ea_b87e_0242ac130202row4_col6,#T_1b06ffba_e8a4_11ea_b87e_0242ac130202row4_col7,#T_1b06ffba_e8a4_11ea_b87e_0242ac130202row4_col8,#T_1b06ffba_e8a4_11ea_b87e_0242ac130202row4_col9{\n",
       "            background-color:  #000000;\n",
       "            color:  #f1f1f1;\n",
       "            max-width:  50px;\n",
       "        }#T_1b06ffba_e8a4_11ea_b87e_0242ac130202row1_col0{\n",
       "            background-color:  #ab54ff;\n",
       "            color:  #000000;\n",
       "            max-width:  50px;\n",
       "        }#T_1b06ffba_e8a4_11ea_b87e_0242ac130202row1_col2{\n",
       "            background-color:  #17e8ff;\n",
       "            color:  #000000;\n",
       "            max-width:  50px;\n",
       "        }#T_1b06ffba_e8a4_11ea_b87e_0242ac130202row2_col1{\n",
       "            background-color:  #39c6ff;\n",
       "            color:  #000000;\n",
       "            max-width:  50px;\n",
       "        }#T_1b06ffba_e8a4_11ea_b87e_0242ac130202row2_col2{\n",
       "            background-color:  #8877ff;\n",
       "            color:  #000000;\n",
       "            max-width:  50px;\n",
       "        }#T_1b06ffba_e8a4_11ea_b87e_0242ac130202row2_col3{\n",
       "            background-color:  #d52aff;\n",
       "            color:  #f1f1f1;\n",
       "            max-width:  50px;\n",
       "        }#T_1b06ffba_e8a4_11ea_b87e_0242ac130202row2_col5{\n",
       "            background-color:  #cd32ff;\n",
       "            color:  #f1f1f1;\n",
       "            max-width:  50px;\n",
       "        }#T_1b06ffba_e8a4_11ea_b87e_0242ac130202row2_col6{\n",
       "            background-color:  #8b74ff;\n",
       "            color:  #000000;\n",
       "            max-width:  50px;\n",
       "        }#T_1b06ffba_e8a4_11ea_b87e_0242ac130202row2_col7{\n",
       "            background-color:  #45baff;\n",
       "            color:  #000000;\n",
       "            max-width:  50px;\n",
       "        }#T_1b06ffba_e8a4_11ea_b87e_0242ac130202row2_col8{\n",
       "            background-color:  #13ecff;\n",
       "            color:  #000000;\n",
       "            max-width:  50px;\n",
       "        }#T_1b06ffba_e8a4_11ea_b87e_0242ac130202row2_col9{\n",
       "            background-color:  #03fcff;\n",
       "            color:  #000000;\n",
       "            max-width:  50px;\n",
       "        }#T_1b06ffba_e8a4_11ea_b87e_0242ac130202row3_col1{\n",
       "            background-color:  #6699ff;\n",
       "            color:  #000000;\n",
       "            max-width:  50px;\n",
       "        }#T_1b06ffba_e8a4_11ea_b87e_0242ac130202row3_col2{\n",
       "            background-color:  #c936ff;\n",
       "            color:  #f1f1f1;\n",
       "            max-width:  50px;\n",
       "        }#T_1b06ffba_e8a4_11ea_b87e_0242ac130202row3_col4{\n",
       "            background-color:  #be41ff;\n",
       "            color:  #000000;\n",
       "            max-width:  50px;\n",
       "        }#T_1b06ffba_e8a4_11ea_b87e_0242ac130202row3_col5{\n",
       "            background-color:  #6a95ff;\n",
       "            color:  #000000;\n",
       "            max-width:  50px;\n",
       "        }#T_1b06ffba_e8a4_11ea_b87e_0242ac130202row3_col6{\n",
       "            background-color:  #0ff0ff;\n",
       "            color:  #000000;\n",
       "            max-width:  50px;\n",
       "        }#T_1b06ffba_e8a4_11ea_b87e_0242ac130202row4_col0{\n",
       "            background-color:  #a35cff;\n",
       "            color:  #000000;\n",
       "            max-width:  50px;\n",
       "        }#T_1b06ffba_e8a4_11ea_b87e_0242ac130202row4_col2{\n",
       "            background-color:  #906fff;\n",
       "            color:  #000000;\n",
       "            max-width:  50px;\n",
       "        }</style><table id=\"T_1b06ffba_e8a4_11ea_b87e_0242ac130202\" ><thead>    <tr>        <th class=\"blank level0\" ></th>        <th class=\"col_heading level0 col0\" >0</th>        <th class=\"col_heading level0 col1\" >1</th>        <th class=\"col_heading level0 col2\" >2</th>        <th class=\"col_heading level0 col3\" >3</th>        <th class=\"col_heading level0 col4\" >4</th>        <th class=\"col_heading level0 col5\" >5</th>        <th class=\"col_heading level0 col6\" >6</th>        <th class=\"col_heading level0 col7\" >7</th>        <th class=\"col_heading level0 col8\" >8</th>        <th class=\"col_heading level0 col9\" >9</th>    </tr></thead><tbody>\n",
       "                <tr>\n",
       "                        <th id=\"T_1b06ffba_e8a4_11ea_b87e_0242ac130202level0_row0\" class=\"row_heading level0 row0\" >0</th>\n",
       "                        <td id=\"T_1b06ffba_e8a4_11ea_b87e_0242ac130202row0_col0\" class=\"data row0 col0\" >0.049</td>\n",
       "                        <td id=\"T_1b06ffba_e8a4_11ea_b87e_0242ac130202row0_col1\" class=\"data row0 col1\" >0.547</td>\n",
       "                        <td id=\"T_1b06ffba_e8a4_11ea_b87e_0242ac130202row0_col2\" class=\"data row0 col2\" >0.680</td>\n",
       "                        <td id=\"T_1b06ffba_e8a4_11ea_b87e_0242ac130202row0_col3\" class=\"data row0 col3\" >0.935</td>\n",
       "                        <td id=\"T_1b06ffba_e8a4_11ea_b87e_0242ac130202row0_col4\" class=\"data row0 col4\" >0.678</td>\n",
       "                        <td id=\"T_1b06ffba_e8a4_11ea_b87e_0242ac130202row0_col5\" class=\"data row0 col5\" >0.270</td>\n",
       "                        <td id=\"T_1b06ffba_e8a4_11ea_b87e_0242ac130202row0_col6\" class=\"data row0 col6\" >0.151</td>\n",
       "                        <td id=\"T_1b06ffba_e8a4_11ea_b87e_0242ac130202row0_col7\" class=\"data row0 col7\" >nan</td>\n",
       "                        <td id=\"T_1b06ffba_e8a4_11ea_b87e_0242ac130202row0_col8\" class=\"data row0 col8\" >nan</td>\n",
       "                        <td id=\"T_1b06ffba_e8a4_11ea_b87e_0242ac130202row0_col9\" class=\"data row0 col9\" >nan</td>\n",
       "            </tr>\n",
       "            <tr>\n",
       "                        <th id=\"T_1b06ffba_e8a4_11ea_b87e_0242ac130202level0_row1\" class=\"row_heading level0 row1\" >1</th>\n",
       "                        <td id=\"T_1b06ffba_e8a4_11ea_b87e_0242ac130202row1_col0\" class=\"data row1 col0\" >0.608</td>\n",
       "                        <td id=\"T_1b06ffba_e8a4_11ea_b87e_0242ac130202row1_col1\" class=\"data row1 col1\" >0.743</td>\n",
       "                        <td id=\"T_1b06ffba_e8a4_11ea_b87e_0242ac130202row1_col2\" class=\"data row1 col2\" >0.372</td>\n",
       "                        <td id=\"T_1b06ffba_e8a4_11ea_b87e_0242ac130202row1_col3\" class=\"data row1 col3\" >0.334</td>\n",
       "                        <td id=\"T_1b06ffba_e8a4_11ea_b87e_0242ac130202row1_col4\" class=\"data row1 col4\" >nan</td>\n",
       "                        <td id=\"T_1b06ffba_e8a4_11ea_b87e_0242ac130202row1_col5\" class=\"data row1 col5\" >nan</td>\n",
       "                        <td id=\"T_1b06ffba_e8a4_11ea_b87e_0242ac130202row1_col6\" class=\"data row1 col6\" >nan</td>\n",
       "                        <td id=\"T_1b06ffba_e8a4_11ea_b87e_0242ac130202row1_col7\" class=\"data row1 col7\" >nan</td>\n",
       "                        <td id=\"T_1b06ffba_e8a4_11ea_b87e_0242ac130202row1_col8\" class=\"data row1 col8\" >nan</td>\n",
       "                        <td id=\"T_1b06ffba_e8a4_11ea_b87e_0242ac130202row1_col9\" class=\"data row1 col9\" >nan</td>\n",
       "            </tr>\n",
       "            <tr>\n",
       "                        <th id=\"T_1b06ffba_e8a4_11ea_b87e_0242ac130202level0_row2\" class=\"row_heading level0 row2\" >2</th>\n",
       "                        <td id=\"T_1b06ffba_e8a4_11ea_b87e_0242ac130202row2_col0\" class=\"data row2 col0\" >0.030</td>\n",
       "                        <td id=\"T_1b06ffba_e8a4_11ea_b87e_0242ac130202row2_col1\" class=\"data row2 col1\" >0.369</td>\n",
       "                        <td id=\"T_1b06ffba_e8a4_11ea_b87e_0242ac130202row2_col2\" class=\"data row2 col2\" >0.838</td>\n",
       "                        <td id=\"T_1b06ffba_e8a4_11ea_b87e_0242ac130202row2_col3\" class=\"data row2 col3\" >1.293</td>\n",
       "                        <td id=\"T_1b06ffba_e8a4_11ea_b87e_0242ac130202row2_col4\" class=\"data row2 col4\" >1.542</td>\n",
       "                        <td id=\"T_1b06ffba_e8a4_11ea_b87e_0242ac130202row2_col5\" class=\"data row2 col5\" >1.242</td>\n",
       "                        <td id=\"T_1b06ffba_e8a4_11ea_b87e_0242ac130202row2_col6\" class=\"data row2 col6\" >0.856</td>\n",
       "                        <td id=\"T_1b06ffba_e8a4_11ea_b87e_0242ac130202row2_col7\" class=\"data row2 col7\" >0.439</td>\n",
       "                        <td id=\"T_1b06ffba_e8a4_11ea_b87e_0242ac130202row2_col8\" class=\"data row2 col8\" >0.146</td>\n",
       "                        <td id=\"T_1b06ffba_e8a4_11ea_b87e_0242ac130202row2_col9\" class=\"data row2 col9\" >0.050</td>\n",
       "            </tr>\n",
       "            <tr>\n",
       "                        <th id=\"T_1b06ffba_e8a4_11ea_b87e_0242ac130202level0_row3\" class=\"row_heading level0 row3\" >3</th>\n",
       "                        <td id=\"T_1b06ffba_e8a4_11ea_b87e_0242ac130202row3_col0\" class=\"data row3 col0\" >0.369</td>\n",
       "                        <td id=\"T_1b06ffba_e8a4_11ea_b87e_0242ac130202row3_col1\" class=\"data row3 col1\" >0.838</td>\n",
       "                        <td id=\"T_1b06ffba_e8a4_11ea_b87e_0242ac130202row3_col2\" class=\"data row3 col2\" >1.293</td>\n",
       "                        <td id=\"T_1b06ffba_e8a4_11ea_b87e_0242ac130202row3_col3\" class=\"data row3 col3\" >1.542</td>\n",
       "                        <td id=\"T_1b06ffba_e8a4_11ea_b87e_0242ac130202row3_col4\" class=\"data row3 col4\" >1.242</td>\n",
       "                        <td id=\"T_1b06ffba_e8a4_11ea_b87e_0242ac130202row3_col5\" class=\"data row3 col5\" >0.856</td>\n",
       "                        <td id=\"T_1b06ffba_e8a4_11ea_b87e_0242ac130202row3_col6\" class=\"data row3 col6\" >0.439</td>\n",
       "                        <td id=\"T_1b06ffba_e8a4_11ea_b87e_0242ac130202row3_col7\" class=\"data row3 col7\" >nan</td>\n",
       "                        <td id=\"T_1b06ffba_e8a4_11ea_b87e_0242ac130202row3_col8\" class=\"data row3 col8\" >nan</td>\n",
       "                        <td id=\"T_1b06ffba_e8a4_11ea_b87e_0242ac130202row3_col9\" class=\"data row3 col9\" >nan</td>\n",
       "            </tr>\n",
       "            <tr>\n",
       "                        <th id=\"T_1b06ffba_e8a4_11ea_b87e_0242ac130202level0_row4\" class=\"row_heading level0 row4\" >4</th>\n",
       "                        <td id=\"T_1b06ffba_e8a4_11ea_b87e_0242ac130202row4_col0\" class=\"data row4 col0\" >1.293</td>\n",
       "                        <td id=\"T_1b06ffba_e8a4_11ea_b87e_0242ac130202row4_col1\" class=\"data row4 col1\" >1.542</td>\n",
       "                        <td id=\"T_1b06ffba_e8a4_11ea_b87e_0242ac130202row4_col2\" class=\"data row4 col2\" >1.242</td>\n",
       "                        <td id=\"T_1b06ffba_e8a4_11ea_b87e_0242ac130202row4_col3\" class=\"data row4 col3\" >0.856</td>\n",
       "                        <td id=\"T_1b06ffba_e8a4_11ea_b87e_0242ac130202row4_col4\" class=\"data row4 col4\" >nan</td>\n",
       "                        <td id=\"T_1b06ffba_e8a4_11ea_b87e_0242ac130202row4_col5\" class=\"data row4 col5\" >nan</td>\n",
       "                        <td id=\"T_1b06ffba_e8a4_11ea_b87e_0242ac130202row4_col6\" class=\"data row4 col6\" >nan</td>\n",
       "                        <td id=\"T_1b06ffba_e8a4_11ea_b87e_0242ac130202row4_col7\" class=\"data row4 col7\" >nan</td>\n",
       "                        <td id=\"T_1b06ffba_e8a4_11ea_b87e_0242ac130202row4_col8\" class=\"data row4 col8\" >nan</td>\n",
       "                        <td id=\"T_1b06ffba_e8a4_11ea_b87e_0242ac130202row4_col9\" class=\"data row4 col9\" >nan</td>\n",
       "            </tr>\n",
       "    </tbody></table>"
      ],
      "text/plain": [
       "<pandas.io.formats.style.Styler at 0x7f5304162c10>"
      ]
     },
     "execution_count": 8,
     "metadata": {},
     "output_type": "execute_result"
    }
   ],
   "source": [
    "pd.DataFrame([x,w]+[np.convolve(x,w,mode=m) \n",
    "              for m in ['full','same','valid']])\\\n",
    ".style.background_gradient(cmap='cool',axis=1)\\\n",
    ".set_properties(**{'max-width':'50px'})"
   ]
  },
  {
   "cell_type": "code",
   "execution_count": 9,
   "metadata": {
    "_kg_hide-input": true,
    "execution": {
     "iopub.execute_input": "2020-08-27T20:30:11.434147Z",
     "iopub.status.busy": "2020-08-27T20:30:11.432993Z",
     "iopub.status.idle": "2020-08-27T20:30:11.438292Z",
     "shell.execute_reply": "2020-08-27T20:30:11.437639Z"
    },
    "papermill": {
     "duration": 0.02116,
     "end_time": "2020-08-27T20:30:11.438436",
     "exception": false,
     "start_time": "2020-08-27T20:30:11.417276",
     "status": "completed"
    },
    "tags": []
   },
   "outputs": [
    {
     "data": {
      "text/html": [
       "<style>\n",
       "    @import 'https://fonts.googleapis.com/css?family=Lobster&effect=3d-float';</style>\n",
       "    <h1 class='font-effect-3d-float' \n",
       "    style='font-family:Lobster; color:#11ff66; font-size:30px;'>\n",
       "    Conv2d Exploration</h1>"
      ],
      "text/plain": [
       "<IPython.core.display.HTML object>"
      ]
     },
     "metadata": {},
     "output_type": "display_data"
    }
   ],
   "source": [
    "dhtml('Conv2d Exploration')"
   ]
  },
  {
   "cell_type": "code",
   "execution_count": 10,
   "metadata": {
    "_kg_hide-output": false,
    "execution": {
     "iopub.execute_input": "2020-08-27T20:30:11.474288Z",
     "iopub.status.busy": "2020-08-27T20:30:11.467384Z",
     "iopub.status.idle": "2020-08-27T20:30:11.514539Z",
     "shell.execute_reply": "2020-08-27T20:30:11.513905Z"
    },
    "papermill": {
     "duration": 0.065973,
     "end_time": "2020-08-27T20:30:11.514680",
     "exception": false,
     "start_time": "2020-08-27T20:30:11.448707",
     "status": "completed"
    },
    "tags": []
   },
   "outputs": [
    {
     "data": {
      "text/html": [
       "<style  type=\"text/css\" >\n",
       "#T_1b172d04_e8a4_11ea_b87e_0242ac130202row0_col0,#T_1b172d04_e8a4_11ea_b87e_0242ac130202row0_col1,#T_1b172d04_e8a4_11ea_b87e_0242ac130202row0_col2,#T_1b172d04_e8a4_11ea_b87e_0242ac130202row0_col3,#T_1b172d04_e8a4_11ea_b87e_0242ac130202row0_col4,#T_1b172d04_e8a4_11ea_b87e_0242ac130202row0_col5,#T_1b172d04_e8a4_11ea_b87e_0242ac130202row0_col6,#T_1b172d04_e8a4_11ea_b87e_0242ac130202row0_col7,#T_1b172d04_e8a4_11ea_b87e_0242ac130202row1_col0,#T_1b172d04_e8a4_11ea_b87e_0242ac130202row1_col7,#T_1b172d04_e8a4_11ea_b87e_0242ac130202row2_col0,#T_1b172d04_e8a4_11ea_b87e_0242ac130202row2_col7,#T_1b172d04_e8a4_11ea_b87e_0242ac130202row3_col0,#T_1b172d04_e8a4_11ea_b87e_0242ac130202row3_col7,#T_1b172d04_e8a4_11ea_b87e_0242ac130202row4_col0,#T_1b172d04_e8a4_11ea_b87e_0242ac130202row4_col7,#T_1b172d04_e8a4_11ea_b87e_0242ac130202row5_col0,#T_1b172d04_e8a4_11ea_b87e_0242ac130202row5_col7,#T_1b172d04_e8a4_11ea_b87e_0242ac130202row6_col0,#T_1b172d04_e8a4_11ea_b87e_0242ac130202row6_col7,#T_1b172d04_e8a4_11ea_b87e_0242ac130202row7_col0,#T_1b172d04_e8a4_11ea_b87e_0242ac130202row7_col1,#T_1b172d04_e8a4_11ea_b87e_0242ac130202row7_col2,#T_1b172d04_e8a4_11ea_b87e_0242ac130202row7_col3,#T_1b172d04_e8a4_11ea_b87e_0242ac130202row7_col4,#T_1b172d04_e8a4_11ea_b87e_0242ac130202row7_col5,#T_1b172d04_e8a4_11ea_b87e_0242ac130202row7_col6,#T_1b172d04_e8a4_11ea_b87e_0242ac130202row7_col7{\n",
       "            background-color:  #00ffff;\n",
       "            color:  #000000;\n",
       "            max-width:  50px;\n",
       "            height:  50px;\n",
       "        }#T_1b172d04_e8a4_11ea_b87e_0242ac130202row1_col1,#T_1b172d04_e8a4_11ea_b87e_0242ac130202row1_col3{\n",
       "            background-color:  #d02fff;\n",
       "            color:  #f1f1f1;\n",
       "            max-width:  50px;\n",
       "            height:  50px;\n",
       "        }#T_1b172d04_e8a4_11ea_b87e_0242ac130202row1_col2{\n",
       "            background-color:  #32cdff;\n",
       "            color:  #000000;\n",
       "            max-width:  50px;\n",
       "            height:  50px;\n",
       "        }#T_1b172d04_e8a4_11ea_b87e_0242ac130202row1_col4,#T_1b172d04_e8a4_11ea_b87e_0242ac130202row1_col6{\n",
       "            background-color:  #d12eff;\n",
       "            color:  #f1f1f1;\n",
       "            max-width:  50px;\n",
       "            height:  50px;\n",
       "        }#T_1b172d04_e8a4_11ea_b87e_0242ac130202row1_col5,#T_1b172d04_e8a4_11ea_b87e_0242ac130202row2_col6,#T_1b172d04_e8a4_11ea_b87e_0242ac130202row3_col3,#T_1b172d04_e8a4_11ea_b87e_0242ac130202row4_col5,#T_1b172d04_e8a4_11ea_b87e_0242ac130202row5_col6,#T_1b172d04_e8a4_11ea_b87e_0242ac130202row6_col5{\n",
       "            background-color:  #ff00ff;\n",
       "            color:  #f1f1f1;\n",
       "            max-width:  50px;\n",
       "            height:  50px;\n",
       "        }#T_1b172d04_e8a4_11ea_b87e_0242ac130202row2_col1{\n",
       "            background-color:  #817eff;\n",
       "            color:  #000000;\n",
       "            max-width:  50px;\n",
       "            height:  50px;\n",
       "        }#T_1b172d04_e8a4_11ea_b87e_0242ac130202row2_col2{\n",
       "            background-color:  #45baff;\n",
       "            color:  #000000;\n",
       "            max-width:  50px;\n",
       "            height:  50px;\n",
       "        }#T_1b172d04_e8a4_11ea_b87e_0242ac130202row2_col3{\n",
       "            background-color:  #8d72ff;\n",
       "            color:  #000000;\n",
       "            max-width:  50px;\n",
       "            height:  50px;\n",
       "        }#T_1b172d04_e8a4_11ea_b87e_0242ac130202row2_col4{\n",
       "            background-color:  #36c9ff;\n",
       "            color:  #000000;\n",
       "            max-width:  50px;\n",
       "            height:  50px;\n",
       "        }#T_1b172d04_e8a4_11ea_b87e_0242ac130202row2_col5{\n",
       "            background-color:  #af50ff;\n",
       "            color:  #000000;\n",
       "            max-width:  50px;\n",
       "            height:  50px;\n",
       "        }#T_1b172d04_e8a4_11ea_b87e_0242ac130202row3_col1{\n",
       "            background-color:  #c03fff;\n",
       "            color:  #000000;\n",
       "            max-width:  50px;\n",
       "            height:  50px;\n",
       "        }#T_1b172d04_e8a4_11ea_b87e_0242ac130202row3_col2{\n",
       "            background-color:  #8976ff;\n",
       "            color:  #000000;\n",
       "            max-width:  50px;\n",
       "            height:  50px;\n",
       "        }#T_1b172d04_e8a4_11ea_b87e_0242ac130202row3_col4,#T_1b172d04_e8a4_11ea_b87e_0242ac130202row6_col4{\n",
       "            background-color:  #1be4ff;\n",
       "            color:  #000000;\n",
       "            max-width:  50px;\n",
       "            height:  50px;\n",
       "        }#T_1b172d04_e8a4_11ea_b87e_0242ac130202row3_col5{\n",
       "            background-color:  #6a95ff;\n",
       "            color:  #000000;\n",
       "            max-width:  50px;\n",
       "            height:  50px;\n",
       "        }#T_1b172d04_e8a4_11ea_b87e_0242ac130202row3_col6{\n",
       "            background-color:  #ad52ff;\n",
       "            color:  #000000;\n",
       "            max-width:  50px;\n",
       "            height:  50px;\n",
       "        }#T_1b172d04_e8a4_11ea_b87e_0242ac130202row4_col1{\n",
       "            background-color:  #07f8ff;\n",
       "            color:  #000000;\n",
       "            max-width:  50px;\n",
       "            height:  50px;\n",
       "        }#T_1b172d04_e8a4_11ea_b87e_0242ac130202row4_col2{\n",
       "            background-color:  #48b7ff;\n",
       "            color:  #000000;\n",
       "            max-width:  50px;\n",
       "            height:  50px;\n",
       "        }#T_1b172d04_e8a4_11ea_b87e_0242ac130202row4_col3{\n",
       "            background-color:  #fa05ff;\n",
       "            color:  #f1f1f1;\n",
       "            max-width:  50px;\n",
       "            height:  50px;\n",
       "        }#T_1b172d04_e8a4_11ea_b87e_0242ac130202row4_col4{\n",
       "            background-color:  #c639ff;\n",
       "            color:  #f1f1f1;\n",
       "            max-width:  50px;\n",
       "            height:  50px;\n",
       "        }#T_1b172d04_e8a4_11ea_b87e_0242ac130202row4_col6{\n",
       "            background-color:  #ac53ff;\n",
       "            color:  #000000;\n",
       "            max-width:  50px;\n",
       "            height:  50px;\n",
       "        }#T_1b172d04_e8a4_11ea_b87e_0242ac130202row5_col1{\n",
       "            background-color:  #fc03ff;\n",
       "            color:  #f1f1f1;\n",
       "            max-width:  50px;\n",
       "            height:  50px;\n",
       "        }#T_1b172d04_e8a4_11ea_b87e_0242ac130202row5_col2{\n",
       "            background-color:  #eb14ff;\n",
       "            color:  #f1f1f1;\n",
       "            max-width:  50px;\n",
       "            height:  50px;\n",
       "        }#T_1b172d04_e8a4_11ea_b87e_0242ac130202row5_col3{\n",
       "            background-color:  #cd32ff;\n",
       "            color:  #f1f1f1;\n",
       "            max-width:  50px;\n",
       "            height:  50px;\n",
       "        }#T_1b172d04_e8a4_11ea_b87e_0242ac130202row5_col4{\n",
       "            background-color:  #bc43ff;\n",
       "            color:  #000000;\n",
       "            max-width:  50px;\n",
       "            height:  50px;\n",
       "        }#T_1b172d04_e8a4_11ea_b87e_0242ac130202row5_col5{\n",
       "            background-color:  #946bff;\n",
       "            color:  #000000;\n",
       "            max-width:  50px;\n",
       "            height:  50px;\n",
       "        }#T_1b172d04_e8a4_11ea_b87e_0242ac130202row6_col1,#T_1b172d04_e8a4_11ea_b87e_0242ac130202row6_col2{\n",
       "            background-color:  #7b84ff;\n",
       "            color:  #000000;\n",
       "            max-width:  50px;\n",
       "            height:  50px;\n",
       "        }#T_1b172d04_e8a4_11ea_b87e_0242ac130202row6_col3{\n",
       "            background-color:  #3cc3ff;\n",
       "            color:  #000000;\n",
       "            max-width:  50px;\n",
       "            height:  50px;\n",
       "        }#T_1b172d04_e8a4_11ea_b87e_0242ac130202row6_col6{\n",
       "            background-color:  #5da2ff;\n",
       "            color:  #000000;\n",
       "            max-width:  50px;\n",
       "            height:  50px;\n",
       "        }</style><table id=\"T_1b172d04_e8a4_11ea_b87e_0242ac130202\" ><thead>    <tr>        <th class=\"blank level0\" ></th>        <th class=\"col_heading level0 col0\" >0</th>        <th class=\"col_heading level0 col1\" >1</th>        <th class=\"col_heading level0 col2\" >2</th>        <th class=\"col_heading level0 col3\" >3</th>        <th class=\"col_heading level0 col4\" >4</th>        <th class=\"col_heading level0 col5\" >5</th>        <th class=\"col_heading level0 col6\" >6</th>        <th class=\"col_heading level0 col7\" >7</th>    </tr></thead><tbody>\n",
       "                <tr>\n",
       "                        <th id=\"T_1b172d04_e8a4_11ea_b87e_0242ac130202level0_row0\" class=\"row_heading level0 row0\" >0</th>\n",
       "                        <td id=\"T_1b172d04_e8a4_11ea_b87e_0242ac130202row0_col0\" class=\"data row0 col0\" >0.000</td>\n",
       "                        <td id=\"T_1b172d04_e8a4_11ea_b87e_0242ac130202row0_col1\" class=\"data row0 col1\" >0.000</td>\n",
       "                        <td id=\"T_1b172d04_e8a4_11ea_b87e_0242ac130202row0_col2\" class=\"data row0 col2\" >0.000</td>\n",
       "                        <td id=\"T_1b172d04_e8a4_11ea_b87e_0242ac130202row0_col3\" class=\"data row0 col3\" >0.000</td>\n",
       "                        <td id=\"T_1b172d04_e8a4_11ea_b87e_0242ac130202row0_col4\" class=\"data row0 col4\" >0.000</td>\n",
       "                        <td id=\"T_1b172d04_e8a4_11ea_b87e_0242ac130202row0_col5\" class=\"data row0 col5\" >0.000</td>\n",
       "                        <td id=\"T_1b172d04_e8a4_11ea_b87e_0242ac130202row0_col6\" class=\"data row0 col6\" >0.000</td>\n",
       "                        <td id=\"T_1b172d04_e8a4_11ea_b87e_0242ac130202row0_col7\" class=\"data row0 col7\" >0.000</td>\n",
       "            </tr>\n",
       "            <tr>\n",
       "                        <th id=\"T_1b172d04_e8a4_11ea_b87e_0242ac130202level0_row1\" class=\"row_heading level0 row1\" >1</th>\n",
       "                        <td id=\"T_1b172d04_e8a4_11ea_b87e_0242ac130202row1_col0\" class=\"data row1 col0\" >0.000</td>\n",
       "                        <td id=\"T_1b172d04_e8a4_11ea_b87e_0242ac130202row1_col1\" class=\"data row1 col1\" >0.609</td>\n",
       "                        <td id=\"T_1b172d04_e8a4_11ea_b87e_0242ac130202row1_col2\" class=\"data row1 col2\" >0.148</td>\n",
       "                        <td id=\"T_1b172d04_e8a4_11ea_b87e_0242ac130202row1_col3\" class=\"data row1 col3\" >0.608</td>\n",
       "                        <td id=\"T_1b172d04_e8a4_11ea_b87e_0242ac130202row1_col4\" class=\"data row1 col4\" >0.610</td>\n",
       "                        <td id=\"T_1b172d04_e8a4_11ea_b87e_0242ac130202row1_col5\" class=\"data row1 col5\" >0.747</td>\n",
       "                        <td id=\"T_1b172d04_e8a4_11ea_b87e_0242ac130202row1_col6\" class=\"data row1 col6\" >0.612</td>\n",
       "                        <td id=\"T_1b172d04_e8a4_11ea_b87e_0242ac130202row1_col7\" class=\"data row1 col7\" >0.000</td>\n",
       "            </tr>\n",
       "            <tr>\n",
       "                        <th id=\"T_1b172d04_e8a4_11ea_b87e_0242ac130202level0_row2\" class=\"row_heading level0 row2\" >2</th>\n",
       "                        <td id=\"T_1b172d04_e8a4_11ea_b87e_0242ac130202row2_col0\" class=\"data row2 col0\" >0.000</td>\n",
       "                        <td id=\"T_1b172d04_e8a4_11ea_b87e_0242ac130202row2_col1\" class=\"data row2 col1\" >0.434</td>\n",
       "                        <td id=\"T_1b172d04_e8a4_11ea_b87e_0242ac130202row2_col2\" class=\"data row2 col2\" >0.232</td>\n",
       "                        <td id=\"T_1b172d04_e8a4_11ea_b87e_0242ac130202row2_col3\" class=\"data row2 col3\" >0.472</td>\n",
       "                        <td id=\"T_1b172d04_e8a4_11ea_b87e_0242ac130202row2_col4\" class=\"data row2 col4\" >0.183</td>\n",
       "                        <td id=\"T_1b172d04_e8a4_11ea_b87e_0242ac130202row2_col5\" class=\"data row2 col5\" >0.588</td>\n",
       "                        <td id=\"T_1b172d04_e8a4_11ea_b87e_0242ac130202row2_col6\" class=\"data row2 col6\" >0.857</td>\n",
       "                        <td id=\"T_1b172d04_e8a4_11ea_b87e_0242ac130202row2_col7\" class=\"data row2 col7\" >0.000</td>\n",
       "            </tr>\n",
       "            <tr>\n",
       "                        <th id=\"T_1b172d04_e8a4_11ea_b87e_0242ac130202level0_row3\" class=\"row_heading level0 row3\" >3</th>\n",
       "                        <td id=\"T_1b172d04_e8a4_11ea_b87e_0242ac130202row3_col0\" class=\"data row3 col0\" >0.000</td>\n",
       "                        <td id=\"T_1b172d04_e8a4_11ea_b87e_0242ac130202row3_col1\" class=\"data row3 col1\" >0.659</td>\n",
       "                        <td id=\"T_1b172d04_e8a4_11ea_b87e_0242ac130202row3_col2\" class=\"data row3 col2\" >0.472</td>\n",
       "                        <td id=\"T_1b172d04_e8a4_11ea_b87e_0242ac130202row3_col3\" class=\"data row3 col3\" >0.877</td>\n",
       "                        <td id=\"T_1b172d04_e8a4_11ea_b87e_0242ac130202row3_col4\" class=\"data row3 col4\" >0.094</td>\n",
       "                        <td id=\"T_1b172d04_e8a4_11ea_b87e_0242ac130202row3_col5\" class=\"data row3 col5\" >0.365</td>\n",
       "                        <td id=\"T_1b172d04_e8a4_11ea_b87e_0242ac130202row3_col6\" class=\"data row3 col6\" >0.594</td>\n",
       "                        <td id=\"T_1b172d04_e8a4_11ea_b87e_0242ac130202row3_col7\" class=\"data row3 col7\" >0.000</td>\n",
       "            </tr>\n",
       "            <tr>\n",
       "                        <th id=\"T_1b172d04_e8a4_11ea_b87e_0242ac130202level0_row4\" class=\"row_heading level0 row4\" >4</th>\n",
       "                        <td id=\"T_1b172d04_e8a4_11ea_b87e_0242ac130202row4_col0\" class=\"data row4 col0\" >0.000</td>\n",
       "                        <td id=\"T_1b172d04_e8a4_11ea_b87e_0242ac130202row4_col1\" class=\"data row4 col1\" >0.027</td>\n",
       "                        <td id=\"T_1b172d04_e8a4_11ea_b87e_0242ac130202row4_col2\" class=\"data row4 col2\" >0.266</td>\n",
       "                        <td id=\"T_1b172d04_e8a4_11ea_b87e_0242ac130202row4_col3\" class=\"data row4 col3\" >0.921</td>\n",
       "                        <td id=\"T_1b172d04_e8a4_11ea_b87e_0242ac130202row4_col4\" class=\"data row4 col4\" >0.728</td>\n",
       "                        <td id=\"T_1b172d04_e8a4_11ea_b87e_0242ac130202row4_col5\" class=\"data row4 col5\" >0.941</td>\n",
       "                        <td id=\"T_1b172d04_e8a4_11ea_b87e_0242ac130202row4_col6\" class=\"data row4 col6\" >0.634</td>\n",
       "                        <td id=\"T_1b172d04_e8a4_11ea_b87e_0242ac130202row4_col7\" class=\"data row4 col7\" >0.000</td>\n",
       "            </tr>\n",
       "            <tr>\n",
       "                        <th id=\"T_1b172d04_e8a4_11ea_b87e_0242ac130202level0_row5\" class=\"row_heading level0 row5\" >5</th>\n",
       "                        <td id=\"T_1b172d04_e8a4_11ea_b87e_0242ac130202row5_col0\" class=\"data row5 col0\" >0.000</td>\n",
       "                        <td id=\"T_1b172d04_e8a4_11ea_b87e_0242ac130202row5_col1\" class=\"data row5 col1\" >0.881</td>\n",
       "                        <td id=\"T_1b172d04_e8a4_11ea_b87e_0242ac130202row5_col2\" class=\"data row5 col2\" >0.824</td>\n",
       "                        <td id=\"T_1b172d04_e8a4_11ea_b87e_0242ac130202row5_col3\" class=\"data row5 col3\" >0.719</td>\n",
       "                        <td id=\"T_1b172d04_e8a4_11ea_b87e_0242ac130202row5_col4\" class=\"data row5 col4\" >0.658</td>\n",
       "                        <td id=\"T_1b172d04_e8a4_11ea_b87e_0242ac130202row5_col5\" class=\"data row5 col5\" >0.520</td>\n",
       "                        <td id=\"T_1b172d04_e8a4_11ea_b87e_0242ac130202row5_col6\" class=\"data row5 col6\" >0.895</td>\n",
       "                        <td id=\"T_1b172d04_e8a4_11ea_b87e_0242ac130202row5_col7\" class=\"data row5 col7\" >0.000</td>\n",
       "            </tr>\n",
       "            <tr>\n",
       "                        <th id=\"T_1b172d04_e8a4_11ea_b87e_0242ac130202level0_row6\" class=\"row_heading level0 row6\" >6</th>\n",
       "                        <td id=\"T_1b172d04_e8a4_11ea_b87e_0242ac130202row6_col0\" class=\"data row6 col0\" >0.000</td>\n",
       "                        <td id=\"T_1b172d04_e8a4_11ea_b87e_0242ac130202row6_col1\" class=\"data row6 col1\" >0.447</td>\n",
       "                        <td id=\"T_1b172d04_e8a4_11ea_b87e_0242ac130202row6_col2\" class=\"data row6 col2\" >0.447</td>\n",
       "                        <td id=\"T_1b172d04_e8a4_11ea_b87e_0242ac130202row6_col3\" class=\"data row6 col3\" >0.220</td>\n",
       "                        <td id=\"T_1b172d04_e8a4_11ea_b87e_0242ac130202row6_col4\" class=\"data row6 col4\" >0.100</td>\n",
       "                        <td id=\"T_1b172d04_e8a4_11ea_b87e_0242ac130202row6_col5\" class=\"data row6 col5\" >0.928</td>\n",
       "                        <td id=\"T_1b172d04_e8a4_11ea_b87e_0242ac130202row6_col6\" class=\"data row6 col6\" >0.338</td>\n",
       "                        <td id=\"T_1b172d04_e8a4_11ea_b87e_0242ac130202row6_col7\" class=\"data row6 col7\" >0.000</td>\n",
       "            </tr>\n",
       "            <tr>\n",
       "                        <th id=\"T_1b172d04_e8a4_11ea_b87e_0242ac130202level0_row7\" class=\"row_heading level0 row7\" >7</th>\n",
       "                        <td id=\"T_1b172d04_e8a4_11ea_b87e_0242ac130202row7_col0\" class=\"data row7 col0\" >0.000</td>\n",
       "                        <td id=\"T_1b172d04_e8a4_11ea_b87e_0242ac130202row7_col1\" class=\"data row7 col1\" >0.000</td>\n",
       "                        <td id=\"T_1b172d04_e8a4_11ea_b87e_0242ac130202row7_col2\" class=\"data row7 col2\" >0.000</td>\n",
       "                        <td id=\"T_1b172d04_e8a4_11ea_b87e_0242ac130202row7_col3\" class=\"data row7 col3\" >0.000</td>\n",
       "                        <td id=\"T_1b172d04_e8a4_11ea_b87e_0242ac130202row7_col4\" class=\"data row7 col4\" >0.000</td>\n",
       "                        <td id=\"T_1b172d04_e8a4_11ea_b87e_0242ac130202row7_col5\" class=\"data row7 col5\" >0.000</td>\n",
       "                        <td id=\"T_1b172d04_e8a4_11ea_b87e_0242ac130202row7_col6\" class=\"data row7 col6\" >0.000</td>\n",
       "                        <td id=\"T_1b172d04_e8a4_11ea_b87e_0242ac130202row7_col7\" class=\"data row7 col7\" >0.000</td>\n",
       "            </tr>\n",
       "    </tbody></table>"
      ],
      "text/plain": [
       "<pandas.io.formats.style.Styler at 0x7f530416ae50>"
      ]
     },
     "execution_count": 10,
     "metadata": {},
     "output_type": "execute_result"
    }
   ],
   "source": [
    "num_X=6; p=[1,1]\n",
    "X=np.random.random([num_X,num_X])\n",
    "n1=X.shape[0]+2*p[0]\n",
    "n2=X.shape[1]+2*p[1]\n",
    "X_padded=np.zeros(shape=(n1,n2))\n",
    "X_padded[p[0]:p[0]+X.shape[0],\n",
    "         p[1]:p[1]+X.shape[1]]=X\n",
    "pd.DataFrame(X_padded)\\\n",
    ".style.background_gradient(cmap='cool',axis=1)\\\n",
    ".set_properties(**{'max-width':'50px',\n",
    "                   'height':'50px'})"
   ]
  },
  {
   "cell_type": "code",
   "execution_count": 11,
   "metadata": {
    "execution": {
     "iopub.execute_input": "2020-08-27T20:30:11.562287Z",
     "iopub.status.busy": "2020-08-27T20:30:11.561194Z",
     "iopub.status.idle": "2020-08-27T20:30:11.586043Z",
     "shell.execute_reply": "2020-08-27T20:30:11.585426Z"
    },
    "papermill": {
     "duration": 0.060469,
     "end_time": "2020-08-27T20:30:11.586169",
     "exception": false,
     "start_time": "2020-08-27T20:30:11.525700",
     "status": "completed"
    },
    "tags": []
   },
   "outputs": [
    {
     "data": {
      "text/html": [
       "<style  type=\"text/css\" >\n",
       "#T_1b1feba6_e8a4_11ea_b87e_0242ac130202row0_col0,#T_1b1feba6_e8a4_11ea_b87e_0242ac130202row1_col0,#T_1b1feba6_e8a4_11ea_b87e_0242ac130202row2_col1{\n",
       "            background-color:  #ff00ff;\n",
       "            color:  #f1f1f1;\n",
       "            max-width:  50px;\n",
       "            height:  50px;\n",
       "        }#T_1b1feba6_e8a4_11ea_b87e_0242ac130202row0_col1,#T_1b1feba6_e8a4_11ea_b87e_0242ac130202row1_col1,#T_1b1feba6_e8a4_11ea_b87e_0242ac130202row2_col0{\n",
       "            background-color:  #00ffff;\n",
       "            color:  #000000;\n",
       "            max-width:  50px;\n",
       "            height:  50px;\n",
       "        }#T_1b1feba6_e8a4_11ea_b87e_0242ac130202row0_col2{\n",
       "            background-color:  #ad52ff;\n",
       "            color:  #000000;\n",
       "            max-width:  50px;\n",
       "            height:  50px;\n",
       "        }#T_1b1feba6_e8a4_11ea_b87e_0242ac130202row1_col2{\n",
       "            background-color:  #0df2ff;\n",
       "            color:  #000000;\n",
       "            max-width:  50px;\n",
       "            height:  50px;\n",
       "        }#T_1b1feba6_e8a4_11ea_b87e_0242ac130202row2_col2{\n",
       "            background-color:  #f807ff;\n",
       "            color:  #f1f1f1;\n",
       "            max-width:  50px;\n",
       "            height:  50px;\n",
       "        }</style><table id=\"T_1b1feba6_e8a4_11ea_b87e_0242ac130202\" ><thead>    <tr>        <th class=\"blank level0\" ></th>        <th class=\"col_heading level0 col0\" >0</th>        <th class=\"col_heading level0 col1\" >1</th>        <th class=\"col_heading level0 col2\" >2</th>    </tr></thead><tbody>\n",
       "                <tr>\n",
       "                        <th id=\"T_1b1feba6_e8a4_11ea_b87e_0242ac130202level0_row0\" class=\"row_heading level0 row0\" >0</th>\n",
       "                        <td id=\"T_1b1feba6_e8a4_11ea_b87e_0242ac130202row0_col0\" class=\"data row0 col0\" >0.524</td>\n",
       "                        <td id=\"T_1b1feba6_e8a4_11ea_b87e_0242ac130202row0_col1\" class=\"data row0 col1\" >0.077</td>\n",
       "                        <td id=\"T_1b1feba6_e8a4_11ea_b87e_0242ac130202row0_col2\" class=\"data row0 col2\" >0.381</td>\n",
       "            </tr>\n",
       "            <tr>\n",
       "                        <th id=\"T_1b1feba6_e8a4_11ea_b87e_0242ac130202level0_row1\" class=\"row_heading level0 row1\" >1</th>\n",
       "                        <td id=\"T_1b1feba6_e8a4_11ea_b87e_0242ac130202row1_col0\" class=\"data row1 col0\" >0.195</td>\n",
       "                        <td id=\"T_1b1feba6_e8a4_11ea_b87e_0242ac130202row1_col1\" class=\"data row1 col1\" >0.059</td>\n",
       "                        <td id=\"T_1b1feba6_e8a4_11ea_b87e_0242ac130202row1_col2\" class=\"data row1 col2\" >0.066</td>\n",
       "            </tr>\n",
       "            <tr>\n",
       "                        <th id=\"T_1b1feba6_e8a4_11ea_b87e_0242ac130202level0_row2\" class=\"row_heading level0 row2\" >2</th>\n",
       "                        <td id=\"T_1b1feba6_e8a4_11ea_b87e_0242ac130202row2_col0\" class=\"data row2 col0\" >0.009</td>\n",
       "                        <td id=\"T_1b1feba6_e8a4_11ea_b87e_0242ac130202row2_col1\" class=\"data row2 col1\" >0.448</td>\n",
       "                        <td id=\"T_1b1feba6_e8a4_11ea_b87e_0242ac130202row2_col2\" class=\"data row2 col2\" >0.436</td>\n",
       "            </tr>\n",
       "    </tbody></table>"
      ],
      "text/plain": [
       "<pandas.io.formats.style.Styler at 0x7f530422fcd0>"
      ]
     },
     "metadata": {},
     "output_type": "display_data"
    },
    {
     "data": {
      "text/html": [
       "<style  type=\"text/css\" >\n",
       "#T_1b22f512_e8a4_11ea_b87e_0242ac130202row0_col0{\n",
       "            background-color:  #f807ff;\n",
       "            color:  #f1f1f1;\n",
       "            max-width:  50px;\n",
       "            height:  50px;\n",
       "        }#T_1b22f512_e8a4_11ea_b87e_0242ac130202row0_col1,#T_1b22f512_e8a4_11ea_b87e_0242ac130202row1_col2,#T_1b22f512_e8a4_11ea_b87e_0242ac130202row2_col2{\n",
       "            background-color:  #ff00ff;\n",
       "            color:  #f1f1f1;\n",
       "            max-width:  50px;\n",
       "            height:  50px;\n",
       "        }#T_1b22f512_e8a4_11ea_b87e_0242ac130202row0_col2,#T_1b22f512_e8a4_11ea_b87e_0242ac130202row1_col1,#T_1b22f512_e8a4_11ea_b87e_0242ac130202row2_col1{\n",
       "            background-color:  #00ffff;\n",
       "            color:  #000000;\n",
       "            max-width:  50px;\n",
       "            height:  50px;\n",
       "        }#T_1b22f512_e8a4_11ea_b87e_0242ac130202row1_col0{\n",
       "            background-color:  #0df2ff;\n",
       "            color:  #000000;\n",
       "            max-width:  50px;\n",
       "            height:  50px;\n",
       "        }#T_1b22f512_e8a4_11ea_b87e_0242ac130202row2_col0{\n",
       "            background-color:  #ad52ff;\n",
       "            color:  #000000;\n",
       "            max-width:  50px;\n",
       "            height:  50px;\n",
       "        }</style><table id=\"T_1b22f512_e8a4_11ea_b87e_0242ac130202\" ><thead>    <tr>        <th class=\"blank level0\" ></th>        <th class=\"col_heading level0 col0\" >0</th>        <th class=\"col_heading level0 col1\" >1</th>        <th class=\"col_heading level0 col2\" >2</th>    </tr></thead><tbody>\n",
       "                <tr>\n",
       "                        <th id=\"T_1b22f512_e8a4_11ea_b87e_0242ac130202level0_row0\" class=\"row_heading level0 row0\" >0</th>\n",
       "                        <td id=\"T_1b22f512_e8a4_11ea_b87e_0242ac130202row0_col0\" class=\"data row0 col0\" >0.436</td>\n",
       "                        <td id=\"T_1b22f512_e8a4_11ea_b87e_0242ac130202row0_col1\" class=\"data row0 col1\" >0.448</td>\n",
       "                        <td id=\"T_1b22f512_e8a4_11ea_b87e_0242ac130202row0_col2\" class=\"data row0 col2\" >0.009</td>\n",
       "            </tr>\n",
       "            <tr>\n",
       "                        <th id=\"T_1b22f512_e8a4_11ea_b87e_0242ac130202level0_row1\" class=\"row_heading level0 row1\" >1</th>\n",
       "                        <td id=\"T_1b22f512_e8a4_11ea_b87e_0242ac130202row1_col0\" class=\"data row1 col0\" >0.066</td>\n",
       "                        <td id=\"T_1b22f512_e8a4_11ea_b87e_0242ac130202row1_col1\" class=\"data row1 col1\" >0.059</td>\n",
       "                        <td id=\"T_1b22f512_e8a4_11ea_b87e_0242ac130202row1_col2\" class=\"data row1 col2\" >0.195</td>\n",
       "            </tr>\n",
       "            <tr>\n",
       "                        <th id=\"T_1b22f512_e8a4_11ea_b87e_0242ac130202level0_row2\" class=\"row_heading level0 row2\" >2</th>\n",
       "                        <td id=\"T_1b22f512_e8a4_11ea_b87e_0242ac130202row2_col0\" class=\"data row2 col0\" >0.381</td>\n",
       "                        <td id=\"T_1b22f512_e8a4_11ea_b87e_0242ac130202row2_col1\" class=\"data row2 col1\" >0.077</td>\n",
       "                        <td id=\"T_1b22f512_e8a4_11ea_b87e_0242ac130202row2_col2\" class=\"data row2 col2\" >0.524</td>\n",
       "            </tr>\n",
       "    </tbody></table>"
      ],
      "text/plain": [
       "<pandas.io.formats.style.Styler at 0x7f53041636d0>"
      ]
     },
     "metadata": {},
     "output_type": "display_data"
    }
   ],
   "source": [
    "num_W=3\n",
    "W=np.random.random([num_W,num_W])\n",
    "W_rotated=np.array(W)[::-1,::-1]\n",
    "for m in [W,W_rotated]:\n",
    "    display(pd.DataFrame(m)\\\n",
    "    .style.background_gradient(cmap='cool',axis=1)\\\n",
    "    .set_properties(**{'max-width':'50px',\n",
    "                       'height':'50px'}))  "
   ]
  },
  {
   "cell_type": "code",
   "execution_count": 12,
   "metadata": {
    "execution": {
     "iopub.execute_input": "2020-08-27T20:30:11.636007Z",
     "iopub.status.busy": "2020-08-27T20:30:11.620955Z",
     "iopub.status.idle": "2020-08-27T20:30:11.667755Z",
     "shell.execute_reply": "2020-08-27T20:30:11.667079Z"
    },
    "papermill": {
     "duration": 0.070329,
     "end_time": "2020-08-27T20:30:11.667883",
     "exception": false,
     "start_time": "2020-08-27T20:30:11.597554",
     "status": "completed"
    },
    "tags": []
   },
   "outputs": [
    {
     "data": {
      "text/html": [
       "<style  type=\"text/css\" >\n",
       "#T_1b2b587e_e8a4_11ea_b87e_0242ac130202row0_col0,#T_1b2b587e_e8a4_11ea_b87e_0242ac130202row0_col1,#T_1b2b587e_e8a4_11ea_b87e_0242ac130202row0_col2,#T_1b2b587e_e8a4_11ea_b87e_0242ac130202row1_col0,#T_1b2b587e_e8a4_11ea_b87e_0242ac130202row2_col0{\n",
       "            background-color:  #00ffff;\n",
       "            color:  #000000;\n",
       "            max-width:  50px;\n",
       "            height:  50px;\n",
       "        }#T_1b2b587e_e8a4_11ea_b87e_0242ac130202row1_col1,#T_1b2b587e_e8a4_11ea_b87e_0242ac130202row2_col1{\n",
       "            background-color:  #ff00ff;\n",
       "            color:  #f1f1f1;\n",
       "            max-width:  50px;\n",
       "            height:  50px;\n",
       "        }#T_1b2b587e_e8a4_11ea_b87e_0242ac130202row1_col2{\n",
       "            background-color:  #3ec1ff;\n",
       "            color:  #000000;\n",
       "            max-width:  50px;\n",
       "            height:  50px;\n",
       "        }#T_1b2b587e_e8a4_11ea_b87e_0242ac130202row2_col2{\n",
       "            background-color:  #8877ff;\n",
       "            color:  #000000;\n",
       "            max-width:  50px;\n",
       "            height:  50px;\n",
       "        }</style><table id=\"T_1b2b587e_e8a4_11ea_b87e_0242ac130202\" ><thead>    <tr>        <th class=\"blank level0\" ></th>        <th class=\"col_heading level0 col0\" >0</th>        <th class=\"col_heading level0 col1\" >1</th>        <th class=\"col_heading level0 col2\" >2</th>    </tr></thead><tbody>\n",
       "                <tr>\n",
       "                        <th id=\"T_1b2b587e_e8a4_11ea_b87e_0242ac130202level0_row0\" class=\"row_heading level0 row0\" >0</th>\n",
       "                        <td id=\"T_1b2b587e_e8a4_11ea_b87e_0242ac130202row0_col0\" class=\"data row0 col0\" >0.000</td>\n",
       "                        <td id=\"T_1b2b587e_e8a4_11ea_b87e_0242ac130202row0_col1\" class=\"data row0 col1\" >0.000</td>\n",
       "                        <td id=\"T_1b2b587e_e8a4_11ea_b87e_0242ac130202row0_col2\" class=\"data row0 col2\" >0.000</td>\n",
       "            </tr>\n",
       "            <tr>\n",
       "                        <th id=\"T_1b2b587e_e8a4_11ea_b87e_0242ac130202level0_row1\" class=\"row_heading level0 row1\" >1</th>\n",
       "                        <td id=\"T_1b2b587e_e8a4_11ea_b87e_0242ac130202row1_col0\" class=\"data row1 col0\" >0.000</td>\n",
       "                        <td id=\"T_1b2b587e_e8a4_11ea_b87e_0242ac130202row1_col1\" class=\"data row1 col1\" >0.609</td>\n",
       "                        <td id=\"T_1b2b587e_e8a4_11ea_b87e_0242ac130202row1_col2\" class=\"data row1 col2\" >0.148</td>\n",
       "            </tr>\n",
       "            <tr>\n",
       "                        <th id=\"T_1b2b587e_e8a4_11ea_b87e_0242ac130202level0_row2\" class=\"row_heading level0 row2\" >2</th>\n",
       "                        <td id=\"T_1b2b587e_e8a4_11ea_b87e_0242ac130202row2_col0\" class=\"data row2 col0\" >0.000</td>\n",
       "                        <td id=\"T_1b2b587e_e8a4_11ea_b87e_0242ac130202row2_col1\" class=\"data row2 col1\" >0.434</td>\n",
       "                        <td id=\"T_1b2b587e_e8a4_11ea_b87e_0242ac130202row2_col2\" class=\"data row2 col2\" >0.232</td>\n",
       "            </tr>\n",
       "    </tbody></table>"
      ],
      "text/plain": [
       "<pandas.io.formats.style.Styler at 0x7f5304110550>"
      ]
     },
     "metadata": {},
     "output_type": "display_data"
    },
    {
     "data": {
      "text/html": [
       "<style  type=\"text/css\" >\n",
       "#T_1b2ea934_e8a4_11ea_b87e_0242ac130202row0_col0{\n",
       "            background-color:  #f807ff;\n",
       "            color:  #f1f1f1;\n",
       "            max-width:  50px;\n",
       "            height:  50px;\n",
       "        }#T_1b2ea934_e8a4_11ea_b87e_0242ac130202row0_col1,#T_1b2ea934_e8a4_11ea_b87e_0242ac130202row1_col2,#T_1b2ea934_e8a4_11ea_b87e_0242ac130202row2_col2{\n",
       "            background-color:  #ff00ff;\n",
       "            color:  #f1f1f1;\n",
       "            max-width:  50px;\n",
       "            height:  50px;\n",
       "        }#T_1b2ea934_e8a4_11ea_b87e_0242ac130202row0_col2,#T_1b2ea934_e8a4_11ea_b87e_0242ac130202row1_col1,#T_1b2ea934_e8a4_11ea_b87e_0242ac130202row2_col1{\n",
       "            background-color:  #00ffff;\n",
       "            color:  #000000;\n",
       "            max-width:  50px;\n",
       "            height:  50px;\n",
       "        }#T_1b2ea934_e8a4_11ea_b87e_0242ac130202row1_col0{\n",
       "            background-color:  #0df2ff;\n",
       "            color:  #000000;\n",
       "            max-width:  50px;\n",
       "            height:  50px;\n",
       "        }#T_1b2ea934_e8a4_11ea_b87e_0242ac130202row2_col0{\n",
       "            background-color:  #ad52ff;\n",
       "            color:  #000000;\n",
       "            max-width:  50px;\n",
       "            height:  50px;\n",
       "        }</style><table id=\"T_1b2ea934_e8a4_11ea_b87e_0242ac130202\" ><thead>    <tr>        <th class=\"blank level0\" ></th>        <th class=\"col_heading level0 col0\" >0</th>        <th class=\"col_heading level0 col1\" >1</th>        <th class=\"col_heading level0 col2\" >2</th>    </tr></thead><tbody>\n",
       "                <tr>\n",
       "                        <th id=\"T_1b2ea934_e8a4_11ea_b87e_0242ac130202level0_row0\" class=\"row_heading level0 row0\" >0</th>\n",
       "                        <td id=\"T_1b2ea934_e8a4_11ea_b87e_0242ac130202row0_col0\" class=\"data row0 col0\" >0.436</td>\n",
       "                        <td id=\"T_1b2ea934_e8a4_11ea_b87e_0242ac130202row0_col1\" class=\"data row0 col1\" >0.448</td>\n",
       "                        <td id=\"T_1b2ea934_e8a4_11ea_b87e_0242ac130202row0_col2\" class=\"data row0 col2\" >0.009</td>\n",
       "            </tr>\n",
       "            <tr>\n",
       "                        <th id=\"T_1b2ea934_e8a4_11ea_b87e_0242ac130202level0_row1\" class=\"row_heading level0 row1\" >1</th>\n",
       "                        <td id=\"T_1b2ea934_e8a4_11ea_b87e_0242ac130202row1_col0\" class=\"data row1 col0\" >0.066</td>\n",
       "                        <td id=\"T_1b2ea934_e8a4_11ea_b87e_0242ac130202row1_col1\" class=\"data row1 col1\" >0.059</td>\n",
       "                        <td id=\"T_1b2ea934_e8a4_11ea_b87e_0242ac130202row1_col2\" class=\"data row1 col2\" >0.195</td>\n",
       "            </tr>\n",
       "            <tr>\n",
       "                        <th id=\"T_1b2ea934_e8a4_11ea_b87e_0242ac130202level0_row2\" class=\"row_heading level0 row2\" >2</th>\n",
       "                        <td id=\"T_1b2ea934_e8a4_11ea_b87e_0242ac130202row2_col0\" class=\"data row2 col0\" >0.381</td>\n",
       "                        <td id=\"T_1b2ea934_e8a4_11ea_b87e_0242ac130202row2_col1\" class=\"data row2 col1\" >0.077</td>\n",
       "                        <td id=\"T_1b2ea934_e8a4_11ea_b87e_0242ac130202row2_col2\" class=\"data row2 col2\" >0.524</td>\n",
       "            </tr>\n",
       "    </tbody></table>"
      ],
      "text/plain": [
       "<pandas.io.formats.style.Styler at 0x7f5304174f90>"
      ]
     },
     "metadata": {},
     "output_type": "display_data"
    },
    {
     "data": {
      "text/html": [
       "<style>\n",
       "    @import 'https://fonts.googleapis.com/css?family=Lobster&effect=3d-float';</style>\n",
       "    <h1 class='font-effect-3d-float' \n",
       "    style='font-family:Lobster; color:#11ff66; font-size:30px;'>\n",
       "    &#x21e3;&#x21e3;&#x21e3;&#x21e3;&#x21e3;&#x21e3;&#x21e3;<br/>0.219536492</h1>"
      ],
      "text/plain": [
       "<IPython.core.display.HTML object>"
      ]
     },
     "metadata": {},
     "output_type": "display_data"
    }
   ],
   "source": [
    "X0=X_padded[:num_W,:num_W]\n",
    "Y0=round(np.sum(X0*W_rotated),9)\n",
    "for m in [X0,W_rotated]:\n",
    "    display(pd.DataFrame(m)\\\n",
    "    .style.background_gradient(cmap='cool',axis=1)\\\n",
    "    .set_properties(**{'max-width':'50px',\n",
    "                    'height':'50px'}))\n",
    "dhtml(7*'&#x21e3;'+'<br/>'+str(Y0))"
   ]
  },
  {
   "cell_type": "code",
   "execution_count": 13,
   "metadata": {
    "execution": {
     "iopub.execute_input": "2020-08-27T20:30:11.709293Z",
     "iopub.status.busy": "2020-08-27T20:30:11.708494Z",
     "iopub.status.idle": "2020-08-27T20:30:11.712171Z",
     "shell.execute_reply": "2020-08-27T20:30:11.711567Z"
    },
    "papermill": {
     "duration": 0.032112,
     "end_time": "2020-08-27T20:30:11.712297",
     "exception": false,
     "start_time": "2020-08-27T20:30:11.680185",
     "status": "completed"
    },
    "tags": []
   },
   "outputs": [],
   "source": [
    "def conv2d(X,W,p,s):\n",
    "    W_rotated=np.array(W)[::-1,::-1]\n",
    "    n1=X.shape[0]+2*p[0]\n",
    "    n2=X.shape[1]+2*p[1]\n",
    "    X_padded=np.zeros(shape=(n1,n2))\n",
    "    X_padded[p[0]:p[0]+X.shape[0],\n",
    "    p[1]:p[1]+X.shape[1]]=X\n",
    "    result=[]\n",
    "    l=(int((X_padded.shape[0]-W_rotated.shape[0])/s[0])+1,\n",
    "       int((X_padded.shape[1]-W_rotated.shape[1])/s[1])+1)\n",
    "    for i in range(0,l[0],s[0]):\n",
    "        result.append([])\n",
    "        for j in range(0,l[1],s[1]):\n",
    "            X_sub=X_padded[i:i+W_rotated.shape[0],\n",
    "                           j:j+W_rotated.shape[1]]\n",
    "            result[-1].append(np.sum(X_sub*W_rotated))\n",
    "    return(np.array(result))"
   ]
  },
  {
   "cell_type": "code",
   "execution_count": 14,
   "metadata": {
    "execution": {
     "iopub.execute_input": "2020-08-27T20:30:11.750809Z",
     "iopub.status.busy": "2020-08-27T20:30:11.749972Z",
     "iopub.status.idle": "2020-08-27T20:30:11.810131Z",
     "shell.execute_reply": "2020-08-27T20:30:11.809376Z"
    },
    "papermill": {
     "duration": 0.085607,
     "end_time": "2020-08-27T20:30:11.810252",
     "exception": false,
     "start_time": "2020-08-27T20:30:11.724645",
     "status": "completed"
    },
    "tags": []
   },
   "outputs": [
    {
     "data": {
      "text/html": [
       "<style  type=\"text/css\" >\n",
       "#T_1b40123c_e8a4_11ea_b87e_0242ac130202row0_col0,#T_1b40123c_e8a4_11ea_b87e_0242ac130202row1_col0,#T_1b40123c_e8a4_11ea_b87e_0242ac130202row2_col0,#T_1b40123c_e8a4_11ea_b87e_0242ac130202row3_col5,#T_1b40123c_e8a4_11ea_b87e_0242ac130202row4_col0,#T_1b40123c_e8a4_11ea_b87e_0242ac130202row5_col0{\n",
       "            background-color:  #00ffff;\n",
       "            color:  #000000;\n",
       "            max-width:  50px;\n",
       "        }#T_1b40123c_e8a4_11ea_b87e_0242ac130202row0_col1{\n",
       "            background-color:  #b04fff;\n",
       "            color:  #000000;\n",
       "            max-width:  50px;\n",
       "        }#T_1b40123c_e8a4_11ea_b87e_0242ac130202row0_col2{\n",
       "            background-color:  #4db2ff;\n",
       "            color:  #000000;\n",
       "            max-width:  50px;\n",
       "        }#T_1b40123c_e8a4_11ea_b87e_0242ac130202row0_col3{\n",
       "            background-color:  #eb14ff;\n",
       "            color:  #f1f1f1;\n",
       "            max-width:  50px;\n",
       "        }#T_1b40123c_e8a4_11ea_b87e_0242ac130202row0_col4,#T_1b40123c_e8a4_11ea_b87e_0242ac130202row1_col3,#T_1b40123c_e8a4_11ea_b87e_0242ac130202row2_col3,#T_1b40123c_e8a4_11ea_b87e_0242ac130202row3_col2,#T_1b40123c_e8a4_11ea_b87e_0242ac130202row4_col3,#T_1b40123c_e8a4_11ea_b87e_0242ac130202row5_col1{\n",
       "            background-color:  #ff00ff;\n",
       "            color:  #f1f1f1;\n",
       "            max-width:  50px;\n",
       "        }#T_1b40123c_e8a4_11ea_b87e_0242ac130202row0_col5{\n",
       "            background-color:  #48b7ff;\n",
       "            color:  #000000;\n",
       "            max-width:  50px;\n",
       "        }#T_1b40123c_e8a4_11ea_b87e_0242ac130202row1_col1{\n",
       "            background-color:  #f906ff;\n",
       "            color:  #f1f1f1;\n",
       "            max-width:  50px;\n",
       "        }#T_1b40123c_e8a4_11ea_b87e_0242ac130202row1_col2{\n",
       "            background-color:  #20dfff;\n",
       "            color:  #000000;\n",
       "            max-width:  50px;\n",
       "        }#T_1b40123c_e8a4_11ea_b87e_0242ac130202row1_col4{\n",
       "            background-color:  #ee11ff;\n",
       "            color:  #f1f1f1;\n",
       "            max-width:  50px;\n",
       "        }#T_1b40123c_e8a4_11ea_b87e_0242ac130202row1_col5{\n",
       "            background-color:  #639cff;\n",
       "            color:  #000000;\n",
       "            max-width:  50px;\n",
       "        }#T_1b40123c_e8a4_11ea_b87e_0242ac130202row2_col1,#T_1b40123c_e8a4_11ea_b87e_0242ac130202row5_col2{\n",
       "            background-color:  #ae51ff;\n",
       "            color:  #000000;\n",
       "            max-width:  50px;\n",
       "        }#T_1b40123c_e8a4_11ea_b87e_0242ac130202row2_col2{\n",
       "            background-color:  #956aff;\n",
       "            color:  #000000;\n",
       "            max-width:  50px;\n",
       "        }#T_1b40123c_e8a4_11ea_b87e_0242ac130202row2_col4{\n",
       "            background-color:  #d22dff;\n",
       "            color:  #f1f1f1;\n",
       "            max-width:  50px;\n",
       "        }#T_1b40123c_e8a4_11ea_b87e_0242ac130202row2_col5{\n",
       "            background-color:  #bd42ff;\n",
       "            color:  #000000;\n",
       "            max-width:  50px;\n",
       "        }#T_1b40123c_e8a4_11ea_b87e_0242ac130202row3_col0{\n",
       "            background-color:  #15eaff;\n",
       "            color:  #000000;\n",
       "            max-width:  50px;\n",
       "        }#T_1b40123c_e8a4_11ea_b87e_0242ac130202row3_col1{\n",
       "            background-color:  #ef10ff;\n",
       "            color:  #f1f1f1;\n",
       "            max-width:  50px;\n",
       "        }#T_1b40123c_e8a4_11ea_b87e_0242ac130202row3_col3{\n",
       "            background-color:  #b54aff;\n",
       "            color:  #000000;\n",
       "            max-width:  50px;\n",
       "        }#T_1b40123c_e8a4_11ea_b87e_0242ac130202row3_col4{\n",
       "            background-color:  #8c73ff;\n",
       "            color:  #000000;\n",
       "            max-width:  50px;\n",
       "        }#T_1b40123c_e8a4_11ea_b87e_0242ac130202row4_col1{\n",
       "            background-color:  #35caff;\n",
       "            color:  #000000;\n",
       "            max-width:  50px;\n",
       "        }#T_1b40123c_e8a4_11ea_b87e_0242ac130202row4_col2{\n",
       "            background-color:  #807fff;\n",
       "            color:  #000000;\n",
       "            max-width:  50px;\n",
       "        }#T_1b40123c_e8a4_11ea_b87e_0242ac130202row4_col4{\n",
       "            background-color:  #c738ff;\n",
       "            color:  #f1f1f1;\n",
       "            max-width:  50px;\n",
       "        }#T_1b40123c_e8a4_11ea_b87e_0242ac130202row4_col5{\n",
       "            background-color:  #a956ff;\n",
       "            color:  #000000;\n",
       "            max-width:  50px;\n",
       "        }#T_1b40123c_e8a4_11ea_b87e_0242ac130202row5_col3{\n",
       "            background-color:  #df20ff;\n",
       "            color:  #f1f1f1;\n",
       "            max-width:  50px;\n",
       "        }#T_1b40123c_e8a4_11ea_b87e_0242ac130202row5_col4{\n",
       "            background-color:  #6897ff;\n",
       "            color:  #000000;\n",
       "            max-width:  50px;\n",
       "        }#T_1b40123c_e8a4_11ea_b87e_0242ac130202row5_col5{\n",
       "            background-color:  #906fff;\n",
       "            color:  #000000;\n",
       "            max-width:  50px;\n",
       "        }</style><table id=\"T_1b40123c_e8a4_11ea_b87e_0242ac130202\" ><thead>    <tr>        <th class=\"blank level0\" ></th>        <th class=\"col_heading level0 col0\" >0</th>        <th class=\"col_heading level0 col1\" >1</th>        <th class=\"col_heading level0 col2\" >2</th>        <th class=\"col_heading level0 col3\" >3</th>        <th class=\"col_heading level0 col4\" >4</th>        <th class=\"col_heading level0 col5\" >5</th>    </tr></thead><tbody>\n",
       "                <tr>\n",
       "                        <th id=\"T_1b40123c_e8a4_11ea_b87e_0242ac130202level0_row0\" class=\"row_heading level0 row0\" >0</th>\n",
       "                        <td id=\"T_1b40123c_e8a4_11ea_b87e_0242ac130202row0_col0\" class=\"data row0 col0\" >0.220</td>\n",
       "                        <td id=\"T_1b40123c_e8a4_11ea_b87e_0242ac130202row0_col1\" class=\"data row0 col1\" >0.598</td>\n",
       "                        <td id=\"T_1b40123c_e8a4_11ea_b87e_0242ac130202row0_col2\" class=\"data row0 col2\" >0.385</td>\n",
       "                        <td id=\"T_1b40123c_e8a4_11ea_b87e_0242ac130202row0_col3\" class=\"data row0 col3\" >0.723</td>\n",
       "                        <td id=\"T_1b40123c_e8a4_11ea_b87e_0242ac130202row0_col4\" class=\"data row0 col4\" >0.767</td>\n",
       "                        <td id=\"T_1b40123c_e8a4_11ea_b87e_0242ac130202row0_col5\" class=\"data row0 col5\" >0.375</td>\n",
       "            </tr>\n",
       "            <tr>\n",
       "                        <th id=\"T_1b40123c_e8a4_11ea_b87e_0242ac130202level0_row1\" class=\"row_heading level0 row1\" >1</th>\n",
       "                        <td id=\"T_1b40123c_e8a4_11ea_b87e_0242ac130202row1_col0\" class=\"data row1 col0\" >0.643</td>\n",
       "                        <td id=\"T_1b40123c_e8a4_11ea_b87e_0242ac130202row1_col1\" class=\"data row1 col1\" >1.218</td>\n",
       "                        <td id=\"T_1b40123c_e8a4_11ea_b87e_0242ac130202row1_col2\" class=\"data row1 col2\" >0.718</td>\n",
       "                        <td id=\"T_1b40123c_e8a4_11ea_b87e_0242ac130202row1_col3\" class=\"data row1 col3\" >1.234</td>\n",
       "                        <td id=\"T_1b40123c_e8a4_11ea_b87e_0242ac130202row1_col4\" class=\"data row1 col4\" >1.194</td>\n",
       "                        <td id=\"T_1b40123c_e8a4_11ea_b87e_0242ac130202row1_col5\" class=\"data row1 col5\" >0.873</td>\n",
       "            </tr>\n",
       "            <tr>\n",
       "                        <th id=\"T_1b40123c_e8a4_11ea_b87e_0242ac130202level0_row2\" class=\"row_heading level0 row2\" >2</th>\n",
       "                        <td id=\"T_1b40123c_e8a4_11ea_b87e_0242ac130202row2_col0\" class=\"data row2 col0\" >0.469</td>\n",
       "                        <td id=\"T_1b40123c_e8a4_11ea_b87e_0242ac130202row2_col1\" class=\"data row2 col1\" >1.052</td>\n",
       "                        <td id=\"T_1b40123c_e8a4_11ea_b87e_0242ac130202row2_col2\" class=\"data row2 col2\" >0.969</td>\n",
       "                        <td id=\"T_1b40123c_e8a4_11ea_b87e_0242ac130202row2_col3\" class=\"data row2 col3\" >1.327</td>\n",
       "                        <td id=\"T_1b40123c_e8a4_11ea_b87e_0242ac130202row2_col4\" class=\"data row2 col4\" >1.176</td>\n",
       "                        <td id=\"T_1b40123c_e8a4_11ea_b87e_0242ac130202row2_col5\" class=\"data row2 col5\" >1.106</td>\n",
       "            </tr>\n",
       "            <tr>\n",
       "                        <th id=\"T_1b40123c_e8a4_11ea_b87e_0242ac130202level0_row3\" class=\"row_heading level0 row3\" >3</th>\n",
       "                        <td id=\"T_1b40123c_e8a4_11ea_b87e_0242ac130202row3_col0\" class=\"data row3 col0\" >0.852</td>\n",
       "                        <td id=\"T_1b40123c_e8a4_11ea_b87e_0242ac130202row3_col1\" class=\"data row3 col1\" >1.479</td>\n",
       "                        <td id=\"T_1b40123c_e8a4_11ea_b87e_0242ac130202row3_col2\" class=\"data row3 col2\" >1.527</td>\n",
       "                        <td id=\"T_1b40123c_e8a4_11ea_b87e_0242ac130202row3_col3\" class=\"data row3 col3\" >1.311</td>\n",
       "                        <td id=\"T_1b40123c_e8a4_11ea_b87e_0242ac130202row3_col4\" class=\"data row3 col4\" >1.196</td>\n",
       "                        <td id=\"T_1b40123c_e8a4_11ea_b87e_0242ac130202row3_col5\" class=\"data row3 col5\" >0.791</td>\n",
       "            </tr>\n",
       "            <tr>\n",
       "                        <th id=\"T_1b40123c_e8a4_11ea_b87e_0242ac130202level0_row4\" class=\"row_heading level0 row4\" >4</th>\n",
       "                        <td id=\"T_1b40123c_e8a4_11ea_b87e_0242ac130202row4_col0\" class=\"data row4 col0\" >0.495</td>\n",
       "                        <td id=\"T_1b40123c_e8a4_11ea_b87e_0242ac130202row4_col1\" class=\"data row4 col1\" >0.706</td>\n",
       "                        <td id=\"T_1b40123c_e8a4_11ea_b87e_0242ac130202row4_col2\" class=\"data row4 col2\" >0.999</td>\n",
       "                        <td id=\"T_1b40123c_e8a4_11ea_b87e_0242ac130202row4_col3\" class=\"data row4 col3\" >1.501</td>\n",
       "                        <td id=\"T_1b40123c_e8a4_11ea_b87e_0242ac130202row4_col4\" class=\"data row4 col4\" >1.279</td>\n",
       "                        <td id=\"T_1b40123c_e8a4_11ea_b87e_0242ac130202row4_col5\" class=\"data row4 col5\" >1.160</td>\n",
       "            </tr>\n",
       "            <tr>\n",
       "                        <th id=\"T_1b40123c_e8a4_11ea_b87e_0242ac130202level0_row5\" class=\"row_heading level0 row5\" >5</th>\n",
       "                        <td id=\"T_1b40123c_e8a4_11ea_b87e_0242ac130202row5_col0\" class=\"data row5 col0\" >0.515</td>\n",
       "                        <td id=\"T_1b40123c_e8a4_11ea_b87e_0242ac130202row5_col1\" class=\"data row5 col1\" >0.858</td>\n",
       "                        <td id=\"T_1b40123c_e8a4_11ea_b87e_0242ac130202row5_col2\" class=\"data row5 col2\" >0.749</td>\n",
       "                        <td id=\"T_1b40123c_e8a4_11ea_b87e_0242ac130202row5_col3\" class=\"data row5 col3\" >0.814</td>\n",
       "                        <td id=\"T_1b40123c_e8a4_11ea_b87e_0242ac130202row5_col4\" class=\"data row5 col4\" >0.654</td>\n",
       "                        <td id=\"T_1b40123c_e8a4_11ea_b87e_0242ac130202row5_col5\" class=\"data row5 col5\" >0.708</td>\n",
       "            </tr>\n",
       "    </tbody></table>"
      ],
      "text/plain": [
       "<pandas.io.formats.style.Styler at 0x7f53041b7d50>"
      ]
     },
     "metadata": {},
     "output_type": "display_data"
    },
    {
     "data": {
      "text/html": [
       "<style  type=\"text/css\" >\n",
       "#T_1b44d4ca_e8a4_11ea_b87e_0242ac130202row0_col0,#T_1b44d4ca_e8a4_11ea_b87e_0242ac130202row1_col0,#T_1b44d4ca_e8a4_11ea_b87e_0242ac130202row2_col0,#T_1b44d4ca_e8a4_11ea_b87e_0242ac130202row3_col5,#T_1b44d4ca_e8a4_11ea_b87e_0242ac130202row4_col0,#T_1b44d4ca_e8a4_11ea_b87e_0242ac130202row5_col0{\n",
       "            background-color:  #00ffff;\n",
       "            color:  #000000;\n",
       "            max-width:  50px;\n",
       "        }#T_1b44d4ca_e8a4_11ea_b87e_0242ac130202row0_col1{\n",
       "            background-color:  #b04fff;\n",
       "            color:  #000000;\n",
       "            max-width:  50px;\n",
       "        }#T_1b44d4ca_e8a4_11ea_b87e_0242ac130202row0_col2{\n",
       "            background-color:  #4db2ff;\n",
       "            color:  #000000;\n",
       "            max-width:  50px;\n",
       "        }#T_1b44d4ca_e8a4_11ea_b87e_0242ac130202row0_col3{\n",
       "            background-color:  #eb14ff;\n",
       "            color:  #f1f1f1;\n",
       "            max-width:  50px;\n",
       "        }#T_1b44d4ca_e8a4_11ea_b87e_0242ac130202row0_col4,#T_1b44d4ca_e8a4_11ea_b87e_0242ac130202row1_col3,#T_1b44d4ca_e8a4_11ea_b87e_0242ac130202row2_col3,#T_1b44d4ca_e8a4_11ea_b87e_0242ac130202row3_col2,#T_1b44d4ca_e8a4_11ea_b87e_0242ac130202row4_col3,#T_1b44d4ca_e8a4_11ea_b87e_0242ac130202row5_col1{\n",
       "            background-color:  #ff00ff;\n",
       "            color:  #f1f1f1;\n",
       "            max-width:  50px;\n",
       "        }#T_1b44d4ca_e8a4_11ea_b87e_0242ac130202row0_col5{\n",
       "            background-color:  #48b7ff;\n",
       "            color:  #000000;\n",
       "            max-width:  50px;\n",
       "        }#T_1b44d4ca_e8a4_11ea_b87e_0242ac130202row1_col1{\n",
       "            background-color:  #f906ff;\n",
       "            color:  #f1f1f1;\n",
       "            max-width:  50px;\n",
       "        }#T_1b44d4ca_e8a4_11ea_b87e_0242ac130202row1_col2{\n",
       "            background-color:  #20dfff;\n",
       "            color:  #000000;\n",
       "            max-width:  50px;\n",
       "        }#T_1b44d4ca_e8a4_11ea_b87e_0242ac130202row1_col4{\n",
       "            background-color:  #ee11ff;\n",
       "            color:  #f1f1f1;\n",
       "            max-width:  50px;\n",
       "        }#T_1b44d4ca_e8a4_11ea_b87e_0242ac130202row1_col5{\n",
       "            background-color:  #639cff;\n",
       "            color:  #000000;\n",
       "            max-width:  50px;\n",
       "        }#T_1b44d4ca_e8a4_11ea_b87e_0242ac130202row2_col1,#T_1b44d4ca_e8a4_11ea_b87e_0242ac130202row5_col2{\n",
       "            background-color:  #ae51ff;\n",
       "            color:  #000000;\n",
       "            max-width:  50px;\n",
       "        }#T_1b44d4ca_e8a4_11ea_b87e_0242ac130202row2_col2{\n",
       "            background-color:  #956aff;\n",
       "            color:  #000000;\n",
       "            max-width:  50px;\n",
       "        }#T_1b44d4ca_e8a4_11ea_b87e_0242ac130202row2_col4{\n",
       "            background-color:  #d22dff;\n",
       "            color:  #f1f1f1;\n",
       "            max-width:  50px;\n",
       "        }#T_1b44d4ca_e8a4_11ea_b87e_0242ac130202row2_col5{\n",
       "            background-color:  #bd42ff;\n",
       "            color:  #000000;\n",
       "            max-width:  50px;\n",
       "        }#T_1b44d4ca_e8a4_11ea_b87e_0242ac130202row3_col0{\n",
       "            background-color:  #15eaff;\n",
       "            color:  #000000;\n",
       "            max-width:  50px;\n",
       "        }#T_1b44d4ca_e8a4_11ea_b87e_0242ac130202row3_col1{\n",
       "            background-color:  #ef10ff;\n",
       "            color:  #f1f1f1;\n",
       "            max-width:  50px;\n",
       "        }#T_1b44d4ca_e8a4_11ea_b87e_0242ac130202row3_col3{\n",
       "            background-color:  #b54aff;\n",
       "            color:  #000000;\n",
       "            max-width:  50px;\n",
       "        }#T_1b44d4ca_e8a4_11ea_b87e_0242ac130202row3_col4{\n",
       "            background-color:  #8c73ff;\n",
       "            color:  #000000;\n",
       "            max-width:  50px;\n",
       "        }#T_1b44d4ca_e8a4_11ea_b87e_0242ac130202row4_col1{\n",
       "            background-color:  #35caff;\n",
       "            color:  #000000;\n",
       "            max-width:  50px;\n",
       "        }#T_1b44d4ca_e8a4_11ea_b87e_0242ac130202row4_col2{\n",
       "            background-color:  #807fff;\n",
       "            color:  #000000;\n",
       "            max-width:  50px;\n",
       "        }#T_1b44d4ca_e8a4_11ea_b87e_0242ac130202row4_col4{\n",
       "            background-color:  #c738ff;\n",
       "            color:  #f1f1f1;\n",
       "            max-width:  50px;\n",
       "        }#T_1b44d4ca_e8a4_11ea_b87e_0242ac130202row4_col5{\n",
       "            background-color:  #a956ff;\n",
       "            color:  #000000;\n",
       "            max-width:  50px;\n",
       "        }#T_1b44d4ca_e8a4_11ea_b87e_0242ac130202row5_col3{\n",
       "            background-color:  #df20ff;\n",
       "            color:  #f1f1f1;\n",
       "            max-width:  50px;\n",
       "        }#T_1b44d4ca_e8a4_11ea_b87e_0242ac130202row5_col4{\n",
       "            background-color:  #6897ff;\n",
       "            color:  #000000;\n",
       "            max-width:  50px;\n",
       "        }#T_1b44d4ca_e8a4_11ea_b87e_0242ac130202row5_col5{\n",
       "            background-color:  #906fff;\n",
       "            color:  #000000;\n",
       "            max-width:  50px;\n",
       "        }</style><table id=\"T_1b44d4ca_e8a4_11ea_b87e_0242ac130202\" ><thead>    <tr>        <th class=\"blank level0\" ></th>        <th class=\"col_heading level0 col0\" >0</th>        <th class=\"col_heading level0 col1\" >1</th>        <th class=\"col_heading level0 col2\" >2</th>        <th class=\"col_heading level0 col3\" >3</th>        <th class=\"col_heading level0 col4\" >4</th>        <th class=\"col_heading level0 col5\" >5</th>    </tr></thead><tbody>\n",
       "                <tr>\n",
       "                        <th id=\"T_1b44d4ca_e8a4_11ea_b87e_0242ac130202level0_row0\" class=\"row_heading level0 row0\" >0</th>\n",
       "                        <td id=\"T_1b44d4ca_e8a4_11ea_b87e_0242ac130202row0_col0\" class=\"data row0 col0\" >0.220</td>\n",
       "                        <td id=\"T_1b44d4ca_e8a4_11ea_b87e_0242ac130202row0_col1\" class=\"data row0 col1\" >0.598</td>\n",
       "                        <td id=\"T_1b44d4ca_e8a4_11ea_b87e_0242ac130202row0_col2\" class=\"data row0 col2\" >0.385</td>\n",
       "                        <td id=\"T_1b44d4ca_e8a4_11ea_b87e_0242ac130202row0_col3\" class=\"data row0 col3\" >0.723</td>\n",
       "                        <td id=\"T_1b44d4ca_e8a4_11ea_b87e_0242ac130202row0_col4\" class=\"data row0 col4\" >0.767</td>\n",
       "                        <td id=\"T_1b44d4ca_e8a4_11ea_b87e_0242ac130202row0_col5\" class=\"data row0 col5\" >0.375</td>\n",
       "            </tr>\n",
       "            <tr>\n",
       "                        <th id=\"T_1b44d4ca_e8a4_11ea_b87e_0242ac130202level0_row1\" class=\"row_heading level0 row1\" >1</th>\n",
       "                        <td id=\"T_1b44d4ca_e8a4_11ea_b87e_0242ac130202row1_col0\" class=\"data row1 col0\" >0.643</td>\n",
       "                        <td id=\"T_1b44d4ca_e8a4_11ea_b87e_0242ac130202row1_col1\" class=\"data row1 col1\" >1.218</td>\n",
       "                        <td id=\"T_1b44d4ca_e8a4_11ea_b87e_0242ac130202row1_col2\" class=\"data row1 col2\" >0.718</td>\n",
       "                        <td id=\"T_1b44d4ca_e8a4_11ea_b87e_0242ac130202row1_col3\" class=\"data row1 col3\" >1.234</td>\n",
       "                        <td id=\"T_1b44d4ca_e8a4_11ea_b87e_0242ac130202row1_col4\" class=\"data row1 col4\" >1.194</td>\n",
       "                        <td id=\"T_1b44d4ca_e8a4_11ea_b87e_0242ac130202row1_col5\" class=\"data row1 col5\" >0.873</td>\n",
       "            </tr>\n",
       "            <tr>\n",
       "                        <th id=\"T_1b44d4ca_e8a4_11ea_b87e_0242ac130202level0_row2\" class=\"row_heading level0 row2\" >2</th>\n",
       "                        <td id=\"T_1b44d4ca_e8a4_11ea_b87e_0242ac130202row2_col0\" class=\"data row2 col0\" >0.469</td>\n",
       "                        <td id=\"T_1b44d4ca_e8a4_11ea_b87e_0242ac130202row2_col1\" class=\"data row2 col1\" >1.052</td>\n",
       "                        <td id=\"T_1b44d4ca_e8a4_11ea_b87e_0242ac130202row2_col2\" class=\"data row2 col2\" >0.969</td>\n",
       "                        <td id=\"T_1b44d4ca_e8a4_11ea_b87e_0242ac130202row2_col3\" class=\"data row2 col3\" >1.327</td>\n",
       "                        <td id=\"T_1b44d4ca_e8a4_11ea_b87e_0242ac130202row2_col4\" class=\"data row2 col4\" >1.176</td>\n",
       "                        <td id=\"T_1b44d4ca_e8a4_11ea_b87e_0242ac130202row2_col5\" class=\"data row2 col5\" >1.106</td>\n",
       "            </tr>\n",
       "            <tr>\n",
       "                        <th id=\"T_1b44d4ca_e8a4_11ea_b87e_0242ac130202level0_row3\" class=\"row_heading level0 row3\" >3</th>\n",
       "                        <td id=\"T_1b44d4ca_e8a4_11ea_b87e_0242ac130202row3_col0\" class=\"data row3 col0\" >0.852</td>\n",
       "                        <td id=\"T_1b44d4ca_e8a4_11ea_b87e_0242ac130202row3_col1\" class=\"data row3 col1\" >1.479</td>\n",
       "                        <td id=\"T_1b44d4ca_e8a4_11ea_b87e_0242ac130202row3_col2\" class=\"data row3 col2\" >1.527</td>\n",
       "                        <td id=\"T_1b44d4ca_e8a4_11ea_b87e_0242ac130202row3_col3\" class=\"data row3 col3\" >1.311</td>\n",
       "                        <td id=\"T_1b44d4ca_e8a4_11ea_b87e_0242ac130202row3_col4\" class=\"data row3 col4\" >1.196</td>\n",
       "                        <td id=\"T_1b44d4ca_e8a4_11ea_b87e_0242ac130202row3_col5\" class=\"data row3 col5\" >0.791</td>\n",
       "            </tr>\n",
       "            <tr>\n",
       "                        <th id=\"T_1b44d4ca_e8a4_11ea_b87e_0242ac130202level0_row4\" class=\"row_heading level0 row4\" >4</th>\n",
       "                        <td id=\"T_1b44d4ca_e8a4_11ea_b87e_0242ac130202row4_col0\" class=\"data row4 col0\" >0.495</td>\n",
       "                        <td id=\"T_1b44d4ca_e8a4_11ea_b87e_0242ac130202row4_col1\" class=\"data row4 col1\" >0.706</td>\n",
       "                        <td id=\"T_1b44d4ca_e8a4_11ea_b87e_0242ac130202row4_col2\" class=\"data row4 col2\" >0.999</td>\n",
       "                        <td id=\"T_1b44d4ca_e8a4_11ea_b87e_0242ac130202row4_col3\" class=\"data row4 col3\" >1.501</td>\n",
       "                        <td id=\"T_1b44d4ca_e8a4_11ea_b87e_0242ac130202row4_col4\" class=\"data row4 col4\" >1.279</td>\n",
       "                        <td id=\"T_1b44d4ca_e8a4_11ea_b87e_0242ac130202row4_col5\" class=\"data row4 col5\" >1.160</td>\n",
       "            </tr>\n",
       "            <tr>\n",
       "                        <th id=\"T_1b44d4ca_e8a4_11ea_b87e_0242ac130202level0_row5\" class=\"row_heading level0 row5\" >5</th>\n",
       "                        <td id=\"T_1b44d4ca_e8a4_11ea_b87e_0242ac130202row5_col0\" class=\"data row5 col0\" >0.515</td>\n",
       "                        <td id=\"T_1b44d4ca_e8a4_11ea_b87e_0242ac130202row5_col1\" class=\"data row5 col1\" >0.858</td>\n",
       "                        <td id=\"T_1b44d4ca_e8a4_11ea_b87e_0242ac130202row5_col2\" class=\"data row5 col2\" >0.749</td>\n",
       "                        <td id=\"T_1b44d4ca_e8a4_11ea_b87e_0242ac130202row5_col3\" class=\"data row5 col3\" >0.814</td>\n",
       "                        <td id=\"T_1b44d4ca_e8a4_11ea_b87e_0242ac130202row5_col4\" class=\"data row5 col4\" >0.654</td>\n",
       "                        <td id=\"T_1b44d4ca_e8a4_11ea_b87e_0242ac130202row5_col5\" class=\"data row5 col5\" >0.708</td>\n",
       "            </tr>\n",
       "    </tbody></table>"
      ],
      "text/plain": [
       "<pandas.io.formats.style.Styler at 0x7f530412cb50>"
      ]
     },
     "metadata": {},
     "output_type": "display_data"
    }
   ],
   "source": [
    "for el in [conv2d(X,W,p=(1,1),s=(1,1)),\n",
    "           sps.convolve2d(X,W,mode='same')]:\n",
    "    display(pd.DataFrame(el)\\\n",
    "            .style.background_gradient(cmap='cool',axis=1)\\\n",
    "            .set_properties(**{'max-width':'50px'}))"
   ]
  },
  {
   "cell_type": "code",
   "execution_count": 15,
   "metadata": {
    "_kg_hide-input": true,
    "execution": {
     "iopub.execute_input": "2020-08-27T20:30:11.843122Z",
     "iopub.status.busy": "2020-08-27T20:30:11.841939Z",
     "iopub.status.idle": "2020-08-27T20:30:11.846054Z",
     "shell.execute_reply": "2020-08-27T20:30:11.846626Z"
    },
    "papermill": {
     "duration": 0.023265,
     "end_time": "2020-08-27T20:30:11.846787",
     "exception": false,
     "start_time": "2020-08-27T20:30:11.823522",
     "status": "completed"
    },
    "tags": []
   },
   "outputs": [
    {
     "data": {
      "text/html": [
       "<style>\n",
       "    @import 'https://fonts.googleapis.com/css?family=Lobster&effect=3d-float';</style>\n",
       "    <h1 class='font-effect-3d-float' \n",
       "    style='font-family:Lobster; color:#11ff66; font-size:30px;'>\n",
       "    Pooling Exploration</h1>"
      ],
      "text/plain": [
       "<IPython.core.display.HTML object>"
      ]
     },
     "metadata": {},
     "output_type": "display_data"
    }
   ],
   "source": [
    "dhtml('Pooling Exploration')"
   ]
  },
  {
   "cell_type": "code",
   "execution_count": 16,
   "metadata": {
    "execution": {
     "iopub.execute_input": "2020-08-27T20:30:11.886186Z",
     "iopub.status.busy": "2020-08-27T20:30:11.885323Z",
     "iopub.status.idle": "2020-08-27T20:30:11.962873Z",
     "shell.execute_reply": "2020-08-27T20:30:11.962188Z"
    },
    "papermill": {
     "duration": 0.103231,
     "end_time": "2020-08-27T20:30:11.962994",
     "exception": false,
     "start_time": "2020-08-27T20:30:11.859763",
     "status": "completed"
    },
    "tags": []
   },
   "outputs": [
    {
     "data": {
      "text/html": [
       "<style  type=\"text/css\" >\n",
       "#T_1b55b7a4_e8a4_11ea_b87e_0242ac130202row0_col0,#T_1b55b7a4_e8a4_11ea_b87e_0242ac130202row0_col1,#T_1b55b7a4_e8a4_11ea_b87e_0242ac130202row0_col2,#T_1b55b7a4_e8a4_11ea_b87e_0242ac130202row1_col0,#T_1b55b7a4_e8a4_11ea_b87e_0242ac130202row1_col1,#T_1b55b7a4_e8a4_11ea_b87e_0242ac130202row1_col2,#T_1b55b7a4_e8a4_11ea_b87e_0242ac130202row2_col0,#T_1b55b7a4_e8a4_11ea_b87e_0242ac130202row2_col1{\n",
       "            max-width:  50px;\n",
       "            height:  50px;\n",
       "        }#T_1b55b7a4_e8a4_11ea_b87e_0242ac130202row2_col2{\n",
       "            background-color:  #6611ff;\n",
       "            max-width:  50px;\n",
       "            height:  50px;\n",
       "        }</style><table id=\"T_1b55b7a4_e8a4_11ea_b87e_0242ac130202\" ><thead>    <tr>        <th class=\"blank level0\" ></th>        <th class=\"col_heading level0 col0\" >0</th>        <th class=\"col_heading level0 col1\" >1</th>        <th class=\"col_heading level0 col2\" >2</th>    </tr></thead><tbody>\n",
       "                <tr>\n",
       "                        <th id=\"T_1b55b7a4_e8a4_11ea_b87e_0242ac130202level0_row0\" class=\"row_heading level0 row0\" >0</th>\n",
       "                        <td id=\"T_1b55b7a4_e8a4_11ea_b87e_0242ac130202row0_col0\" class=\"data row0 col0\" >0.609</td>\n",
       "                        <td id=\"T_1b55b7a4_e8a4_11ea_b87e_0242ac130202row0_col1\" class=\"data row0 col1\" >0.148</td>\n",
       "                        <td id=\"T_1b55b7a4_e8a4_11ea_b87e_0242ac130202row0_col2\" class=\"data row0 col2\" >0.608</td>\n",
       "            </tr>\n",
       "            <tr>\n",
       "                        <th id=\"T_1b55b7a4_e8a4_11ea_b87e_0242ac130202level0_row1\" class=\"row_heading level0 row1\" >1</th>\n",
       "                        <td id=\"T_1b55b7a4_e8a4_11ea_b87e_0242ac130202row1_col0\" class=\"data row1 col0\" >0.434</td>\n",
       "                        <td id=\"T_1b55b7a4_e8a4_11ea_b87e_0242ac130202row1_col1\" class=\"data row1 col1\" >0.232</td>\n",
       "                        <td id=\"T_1b55b7a4_e8a4_11ea_b87e_0242ac130202row1_col2\" class=\"data row1 col2\" >0.472</td>\n",
       "            </tr>\n",
       "            <tr>\n",
       "                        <th id=\"T_1b55b7a4_e8a4_11ea_b87e_0242ac130202level0_row2\" class=\"row_heading level0 row2\" >2</th>\n",
       "                        <td id=\"T_1b55b7a4_e8a4_11ea_b87e_0242ac130202row2_col0\" class=\"data row2 col0\" >0.659</td>\n",
       "                        <td id=\"T_1b55b7a4_e8a4_11ea_b87e_0242ac130202row2_col1\" class=\"data row2 col1\" >0.472</td>\n",
       "                        <td id=\"T_1b55b7a4_e8a4_11ea_b87e_0242ac130202row2_col2\" class=\"data row2 col2\" >0.877</td>\n",
       "            </tr>\n",
       "    </tbody></table>"
      ],
      "text/plain": [
       "<pandas.io.formats.style.Styler at 0x7f530422f6d0>"
      ]
     },
     "metadata": {},
     "output_type": "display_data"
    },
    {
     "data": {
      "text/html": [
       "<style  type=\"text/css\" >\n",
       "#T_1b57dcd2_e8a4_11ea_b87e_0242ac130202row0_col0,#T_1b57dcd2_e8a4_11ea_b87e_0242ac130202row0_col1,#T_1b57dcd2_e8a4_11ea_b87e_0242ac130202row0_col2,#T_1b57dcd2_e8a4_11ea_b87e_0242ac130202row1_col0,#T_1b57dcd2_e8a4_11ea_b87e_0242ac130202row1_col1,#T_1b57dcd2_e8a4_11ea_b87e_0242ac130202row2_col0,#T_1b57dcd2_e8a4_11ea_b87e_0242ac130202row2_col1,#T_1b57dcd2_e8a4_11ea_b87e_0242ac130202row2_col2{\n",
       "            max-width:  50px;\n",
       "            height:  50px;\n",
       "        }#T_1b57dcd2_e8a4_11ea_b87e_0242ac130202row1_col2{\n",
       "            background-color:  #6611ff;\n",
       "            max-width:  50px;\n",
       "            height:  50px;\n",
       "        }</style><table id=\"T_1b57dcd2_e8a4_11ea_b87e_0242ac130202\" ><thead>    <tr>        <th class=\"blank level0\" ></th>        <th class=\"col_heading level0 col0\" >0</th>        <th class=\"col_heading level0 col1\" >1</th>        <th class=\"col_heading level0 col2\" >2</th>    </tr></thead><tbody>\n",
       "                <tr>\n",
       "                        <th id=\"T_1b57dcd2_e8a4_11ea_b87e_0242ac130202level0_row0\" class=\"row_heading level0 row0\" >0</th>\n",
       "                        <td id=\"T_1b57dcd2_e8a4_11ea_b87e_0242ac130202row0_col0\" class=\"data row0 col0\" >0.610</td>\n",
       "                        <td id=\"T_1b57dcd2_e8a4_11ea_b87e_0242ac130202row0_col1\" class=\"data row0 col1\" >0.747</td>\n",
       "                        <td id=\"T_1b57dcd2_e8a4_11ea_b87e_0242ac130202row0_col2\" class=\"data row0 col2\" >0.612</td>\n",
       "            </tr>\n",
       "            <tr>\n",
       "                        <th id=\"T_1b57dcd2_e8a4_11ea_b87e_0242ac130202level0_row1\" class=\"row_heading level0 row1\" >1</th>\n",
       "                        <td id=\"T_1b57dcd2_e8a4_11ea_b87e_0242ac130202row1_col0\" class=\"data row1 col0\" >0.183</td>\n",
       "                        <td id=\"T_1b57dcd2_e8a4_11ea_b87e_0242ac130202row1_col1\" class=\"data row1 col1\" >0.588</td>\n",
       "                        <td id=\"T_1b57dcd2_e8a4_11ea_b87e_0242ac130202row1_col2\" class=\"data row1 col2\" >0.857</td>\n",
       "            </tr>\n",
       "            <tr>\n",
       "                        <th id=\"T_1b57dcd2_e8a4_11ea_b87e_0242ac130202level0_row2\" class=\"row_heading level0 row2\" >2</th>\n",
       "                        <td id=\"T_1b57dcd2_e8a4_11ea_b87e_0242ac130202row2_col0\" class=\"data row2 col0\" >0.094</td>\n",
       "                        <td id=\"T_1b57dcd2_e8a4_11ea_b87e_0242ac130202row2_col1\" class=\"data row2 col1\" >0.365</td>\n",
       "                        <td id=\"T_1b57dcd2_e8a4_11ea_b87e_0242ac130202row2_col2\" class=\"data row2 col2\" >0.594</td>\n",
       "            </tr>\n",
       "    </tbody></table>"
      ],
      "text/plain": [
       "<pandas.io.formats.style.Styler at 0x7f53040effd0>"
      ]
     },
     "metadata": {},
     "output_type": "display_data"
    },
    {
     "data": {
      "text/html": [
       "<style  type=\"text/css\" >\n",
       "#T_1b59f350_e8a4_11ea_b87e_0242ac130202row0_col0,#T_1b59f350_e8a4_11ea_b87e_0242ac130202row0_col1,#T_1b59f350_e8a4_11ea_b87e_0242ac130202row1_col0,#T_1b59f350_e8a4_11ea_b87e_0242ac130202row1_col1,#T_1b59f350_e8a4_11ea_b87e_0242ac130202row1_col2,#T_1b59f350_e8a4_11ea_b87e_0242ac130202row2_col0,#T_1b59f350_e8a4_11ea_b87e_0242ac130202row2_col1,#T_1b59f350_e8a4_11ea_b87e_0242ac130202row2_col2{\n",
       "            max-width:  50px;\n",
       "            height:  50px;\n",
       "        }#T_1b59f350_e8a4_11ea_b87e_0242ac130202row0_col2{\n",
       "            background-color:  #6611ff;\n",
       "            max-width:  50px;\n",
       "            height:  50px;\n",
       "        }</style><table id=\"T_1b59f350_e8a4_11ea_b87e_0242ac130202\" ><thead>    <tr>        <th class=\"blank level0\" ></th>        <th class=\"col_heading level0 col0\" >0</th>        <th class=\"col_heading level0 col1\" >1</th>        <th class=\"col_heading level0 col2\" >2</th>    </tr></thead><tbody>\n",
       "                <tr>\n",
       "                        <th id=\"T_1b59f350_e8a4_11ea_b87e_0242ac130202level0_row0\" class=\"row_heading level0 row0\" >0</th>\n",
       "                        <td id=\"T_1b59f350_e8a4_11ea_b87e_0242ac130202row0_col0\" class=\"data row0 col0\" >0.027</td>\n",
       "                        <td id=\"T_1b59f350_e8a4_11ea_b87e_0242ac130202row0_col1\" class=\"data row0 col1\" >0.266</td>\n",
       "                        <td id=\"T_1b59f350_e8a4_11ea_b87e_0242ac130202row0_col2\" class=\"data row0 col2\" >0.921</td>\n",
       "            </tr>\n",
       "            <tr>\n",
       "                        <th id=\"T_1b59f350_e8a4_11ea_b87e_0242ac130202level0_row1\" class=\"row_heading level0 row1\" >1</th>\n",
       "                        <td id=\"T_1b59f350_e8a4_11ea_b87e_0242ac130202row1_col0\" class=\"data row1 col0\" >0.881</td>\n",
       "                        <td id=\"T_1b59f350_e8a4_11ea_b87e_0242ac130202row1_col1\" class=\"data row1 col1\" >0.824</td>\n",
       "                        <td id=\"T_1b59f350_e8a4_11ea_b87e_0242ac130202row1_col2\" class=\"data row1 col2\" >0.719</td>\n",
       "            </tr>\n",
       "            <tr>\n",
       "                        <th id=\"T_1b59f350_e8a4_11ea_b87e_0242ac130202level0_row2\" class=\"row_heading level0 row2\" >2</th>\n",
       "                        <td id=\"T_1b59f350_e8a4_11ea_b87e_0242ac130202row2_col0\" class=\"data row2 col0\" >0.447</td>\n",
       "                        <td id=\"T_1b59f350_e8a4_11ea_b87e_0242ac130202row2_col1\" class=\"data row2 col1\" >0.447</td>\n",
       "                        <td id=\"T_1b59f350_e8a4_11ea_b87e_0242ac130202row2_col2\" class=\"data row2 col2\" >0.220</td>\n",
       "            </tr>\n",
       "    </tbody></table>"
      ],
      "text/plain": [
       "<pandas.io.formats.style.Styler at 0x7f530403eb90>"
      ]
     },
     "metadata": {},
     "output_type": "display_data"
    },
    {
     "data": {
      "text/html": [
       "<style  type=\"text/css\" >\n",
       "#T_1b5c6810_e8a4_11ea_b87e_0242ac130202row0_col0,#T_1b5c6810_e8a4_11ea_b87e_0242ac130202row0_col2,#T_1b5c6810_e8a4_11ea_b87e_0242ac130202row1_col0,#T_1b5c6810_e8a4_11ea_b87e_0242ac130202row1_col1,#T_1b5c6810_e8a4_11ea_b87e_0242ac130202row1_col2,#T_1b5c6810_e8a4_11ea_b87e_0242ac130202row2_col0,#T_1b5c6810_e8a4_11ea_b87e_0242ac130202row2_col1,#T_1b5c6810_e8a4_11ea_b87e_0242ac130202row2_col2{\n",
       "            max-width:  50px;\n",
       "            height:  50px;\n",
       "        }#T_1b5c6810_e8a4_11ea_b87e_0242ac130202row0_col1{\n",
       "            background-color:  #6611ff;\n",
       "            max-width:  50px;\n",
       "            height:  50px;\n",
       "        }</style><table id=\"T_1b5c6810_e8a4_11ea_b87e_0242ac130202\" ><thead>    <tr>        <th class=\"blank level0\" ></th>        <th class=\"col_heading level0 col0\" >0</th>        <th class=\"col_heading level0 col1\" >1</th>        <th class=\"col_heading level0 col2\" >2</th>    </tr></thead><tbody>\n",
       "                <tr>\n",
       "                        <th id=\"T_1b5c6810_e8a4_11ea_b87e_0242ac130202level0_row0\" class=\"row_heading level0 row0\" >0</th>\n",
       "                        <td id=\"T_1b5c6810_e8a4_11ea_b87e_0242ac130202row0_col0\" class=\"data row0 col0\" >0.728</td>\n",
       "                        <td id=\"T_1b5c6810_e8a4_11ea_b87e_0242ac130202row0_col1\" class=\"data row0 col1\" >0.941</td>\n",
       "                        <td id=\"T_1b5c6810_e8a4_11ea_b87e_0242ac130202row0_col2\" class=\"data row0 col2\" >0.634</td>\n",
       "            </tr>\n",
       "            <tr>\n",
       "                        <th id=\"T_1b5c6810_e8a4_11ea_b87e_0242ac130202level0_row1\" class=\"row_heading level0 row1\" >1</th>\n",
       "                        <td id=\"T_1b5c6810_e8a4_11ea_b87e_0242ac130202row1_col0\" class=\"data row1 col0\" >0.658</td>\n",
       "                        <td id=\"T_1b5c6810_e8a4_11ea_b87e_0242ac130202row1_col1\" class=\"data row1 col1\" >0.520</td>\n",
       "                        <td id=\"T_1b5c6810_e8a4_11ea_b87e_0242ac130202row1_col2\" class=\"data row1 col2\" >0.895</td>\n",
       "            </tr>\n",
       "            <tr>\n",
       "                        <th id=\"T_1b5c6810_e8a4_11ea_b87e_0242ac130202level0_row2\" class=\"row_heading level0 row2\" >2</th>\n",
       "                        <td id=\"T_1b5c6810_e8a4_11ea_b87e_0242ac130202row2_col0\" class=\"data row2 col0\" >0.100</td>\n",
       "                        <td id=\"T_1b5c6810_e8a4_11ea_b87e_0242ac130202row2_col1\" class=\"data row2 col1\" >0.928</td>\n",
       "                        <td id=\"T_1b5c6810_e8a4_11ea_b87e_0242ac130202row2_col2\" class=\"data row2 col2\" >0.338</td>\n",
       "            </tr>\n",
       "    </tbody></table>"
      ],
      "text/plain": [
       "<pandas.io.formats.style.Styler at 0x7f530412c8d0>"
      ]
     },
     "metadata": {},
     "output_type": "display_data"
    }
   ],
   "source": [
    "pool_size=3\n",
    "for [i,j] in [[0,0],[0,1],[1,0],[1,1]]:\n",
    "    display(pd.DataFrame(X[i*pool_size:(i+1)*pool_size,\n",
    "                           j*pool_size:(j+1)*pool_size])\\\n",
    "            .style.highlight_max(color=c2,axis=None)\\\n",
    "            .set_properties(**{'max-width':'50px',\n",
    "                               'height':'50px'}))"
   ]
  },
  {
   "cell_type": "code",
   "execution_count": 17,
   "metadata": {
    "execution": {
     "iopub.execute_input": "2020-08-27T20:30:12.010891Z",
     "iopub.status.busy": "2020-08-27T20:30:12.009998Z",
     "iopub.status.idle": "2020-08-27T20:30:12.015194Z",
     "shell.execute_reply": "2020-08-27T20:30:12.014464Z"
    },
    "papermill": {
     "duration": 0.038227,
     "end_time": "2020-08-27T20:30:12.015324",
     "exception": false,
     "start_time": "2020-08-27T20:30:11.977097",
     "status": "completed"
    },
    "tags": []
   },
   "outputs": [
    {
     "data": {
      "text/html": [
       "<style  type=\"text/css\" >\n",
       "#T_1b647686_e8a4_11ea_b87e_0242ac130202row0_col0{\n",
       "            width:  10em;\n",
       "             height:  80%;\n",
       "            background:  linear-gradient(90deg,#6611ff 95.3%, transparent 95.3%);\n",
       "            max-width:  50px;\n",
       "        }#T_1b647686_e8a4_11ea_b87e_0242ac130202row0_col1{\n",
       "            width:  10em;\n",
       "             height:  80%;\n",
       "            background:  linear-gradient(90deg,#6611ff 91.0%, transparent 91.0%);\n",
       "            max-width:  50px;\n",
       "        }#T_1b647686_e8a4_11ea_b87e_0242ac130202row1_col0,#T_1b647686_e8a4_11ea_b87e_0242ac130202row1_col1{\n",
       "            width:  10em;\n",
       "             height:  80%;\n",
       "            background:  linear-gradient(90deg,#6611ff 100.0%, transparent 100.0%);\n",
       "            max-width:  50px;\n",
       "        }</style><table id=\"T_1b647686_e8a4_11ea_b87e_0242ac130202\" ><thead>    <tr>        <th class=\"blank level0\" ></th>        <th class=\"col_heading level0 col0\" >0</th>        <th class=\"col_heading level0 col1\" >1</th>    </tr></thead><tbody>\n",
       "                <tr>\n",
       "                        <th id=\"T_1b647686_e8a4_11ea_b87e_0242ac130202level0_row0\" class=\"row_heading level0 row0\" >0</th>\n",
       "                        <td id=\"T_1b647686_e8a4_11ea_b87e_0242ac130202row0_col0\" class=\"data row0 col0\" >0.877</td>\n",
       "                        <td id=\"T_1b647686_e8a4_11ea_b87e_0242ac130202row0_col1\" class=\"data row0 col1\" >0.857</td>\n",
       "            </tr>\n",
       "            <tr>\n",
       "                        <th id=\"T_1b647686_e8a4_11ea_b87e_0242ac130202level0_row1\" class=\"row_heading level0 row1\" >1</th>\n",
       "                        <td id=\"T_1b647686_e8a4_11ea_b87e_0242ac130202row1_col0\" class=\"data row1 col0\" >0.921</td>\n",
       "                        <td id=\"T_1b647686_e8a4_11ea_b87e_0242ac130202row1_col1\" class=\"data row1 col1\" >0.941</td>\n",
       "            </tr>\n",
       "    </tbody></table>"
      ],
      "text/plain": [
       "<pandas.io.formats.style.Styler at 0x7f53040374d0>"
      ]
     },
     "execution_count": 17,
     "metadata": {},
     "output_type": "execute_result"
    }
   ],
   "source": [
    "maxp=sim.block_reduce(X,(pool_size,pool_size),np.max)\n",
    "pd.DataFrame(maxp)\\\n",
    ".style.bar(align='mid',color=c2)\\\n",
    ".set_properties(**{'max-width':'50px'})"
   ]
  },
  {
   "cell_type": "code",
   "execution_count": 18,
   "metadata": {
    "execution": {
     "iopub.execute_input": "2020-08-27T20:30:12.064144Z",
     "iopub.status.busy": "2020-08-27T20:30:12.063173Z",
     "iopub.status.idle": "2020-08-27T20:30:12.067329Z",
     "shell.execute_reply": "2020-08-27T20:30:12.067889Z"
    },
    "papermill": {
     "duration": 0.038042,
     "end_time": "2020-08-27T20:30:12.068051",
     "exception": false,
     "start_time": "2020-08-27T20:30:12.030009",
     "status": "completed"
    },
    "tags": []
   },
   "outputs": [
    {
     "data": {
      "text/html": [
       "<style  type=\"text/css\" >\n",
       "#T_1b6c93b6_e8a4_11ea_b87e_0242ac130202row0_col0{\n",
       "            width:  10em;\n",
       "             height:  80%;\n",
       "            background:  linear-gradient(90deg,#6611ff 94.9%, transparent 94.9%);\n",
       "            max-width:  50px;\n",
       "        }#T_1b6c93b6_e8a4_11ea_b87e_0242ac130202row0_col1{\n",
       "            width:  10em;\n",
       "             height:  80%;\n",
       "            background:  linear-gradient(90deg,#6611ff 81.0%, transparent 81.0%);\n",
       "            max-width:  50px;\n",
       "        }#T_1b6c93b6_e8a4_11ea_b87e_0242ac130202row1_col0,#T_1b6c93b6_e8a4_11ea_b87e_0242ac130202row1_col1{\n",
       "            width:  10em;\n",
       "             height:  80%;\n",
       "            background:  linear-gradient(90deg,#6611ff 100.0%, transparent 100.0%);\n",
       "            max-width:  50px;\n",
       "        }</style><table id=\"T_1b6c93b6_e8a4_11ea_b87e_0242ac130202\" ><thead>    <tr>        <th class=\"blank level0\" ></th>        <th class=\"col_heading level0 col0\" >0</th>        <th class=\"col_heading level0 col1\" >1</th>    </tr></thead><tbody>\n",
       "                <tr>\n",
       "                        <th id=\"T_1b6c93b6_e8a4_11ea_b87e_0242ac130202level0_row0\" class=\"row_heading level0 row0\" >0</th>\n",
       "                        <td id=\"T_1b6c93b6_e8a4_11ea_b87e_0242ac130202row0_col0\" class=\"data row0 col0\" >0.501</td>\n",
       "                        <td id=\"T_1b6c93b6_e8a4_11ea_b87e_0242ac130202row0_col1\" class=\"data row0 col1\" >0.517</td>\n",
       "            </tr>\n",
       "            <tr>\n",
       "                        <th id=\"T_1b6c93b6_e8a4_11ea_b87e_0242ac130202level0_row1\" class=\"row_heading level0 row1\" >1</th>\n",
       "                        <td id=\"T_1b6c93b6_e8a4_11ea_b87e_0242ac130202row1_col0\" class=\"data row1 col0\" >0.528</td>\n",
       "                        <td id=\"T_1b6c93b6_e8a4_11ea_b87e_0242ac130202row1_col1\" class=\"data row1 col1\" >0.638</td>\n",
       "            </tr>\n",
       "    </tbody></table>"
      ],
      "text/plain": [
       "<pandas.io.formats.style.Styler at 0x7f530403eb90>"
      ]
     },
     "execution_count": 18,
     "metadata": {},
     "output_type": "execute_result"
    }
   ],
   "source": [
    "meanp=sim.block_reduce(X,(pool_size,pool_size),np.mean)\n",
    "pd.DataFrame(meanp)\\\n",
    ".style.bar(align='mid',color=c2)\\\n",
    ".set_properties(**{'max-width':'50px'})"
   ]
  },
  {
   "cell_type": "code",
   "execution_count": 19,
   "metadata": {
    "_kg_hide-input": true,
    "execution": {
     "iopub.execute_input": "2020-08-27T20:30:12.103101Z",
     "iopub.status.busy": "2020-08-27T20:30:12.102021Z",
     "iopub.status.idle": "2020-08-27T20:30:12.106396Z",
     "shell.execute_reply": "2020-08-27T20:30:12.105772Z"
    },
    "papermill": {
     "duration": 0.023868,
     "end_time": "2020-08-27T20:30:12.106530",
     "exception": false,
     "start_time": "2020-08-27T20:30:12.082662",
     "status": "completed"
    },
    "tags": []
   },
   "outputs": [
    {
     "data": {
      "text/html": [
       "<style>\n",
       "    @import 'https://fonts.googleapis.com/css?family=Lobster&effect=3d-float';</style>\n",
       "    <h1 class='font-effect-3d-float' \n",
       "    style='font-family:Lobster; color:#11ff66; font-size:30px;'>\n",
       "    Keras Conv1D/MaxPool1D & Conv2D/MaxPool2D</h1>"
      ],
      "text/plain": [
       "<IPython.core.display.HTML object>"
      ]
     },
     "metadata": {},
     "output_type": "display_data"
    }
   ],
   "source": [
    "dhtml('Keras Conv1D/MaxPool1D & Conv2D/MaxPool2D')"
   ]
  },
  {
   "cell_type": "code",
   "execution_count": 20,
   "metadata": {
    "execution": {
     "iopub.execute_input": "2020-08-27T20:30:12.149694Z",
     "iopub.status.busy": "2020-08-27T20:30:12.148718Z",
     "iopub.status.idle": "2020-08-27T20:30:12.151495Z",
     "shell.execute_reply": "2020-08-27T20:30:12.152087Z"
    },
    "papermill": {
     "duration": 0.03012,
     "end_time": "2020-08-27T20:30:12.152238",
     "exception": false,
     "start_time": "2020-08-27T20:30:12.122118",
     "status": "completed"
    },
    "tags": []
   },
   "outputs": [],
   "source": [
    "@register_line_magic\n",
    "def get_model_plot1d(pars):\n",
    "    pars=pars.split()\n",
    "    num_timesteps=int(pars[0])\n",
    "    num_features=int(pars[1])\n",
    "    num_filters=int(pars[2])\n",
    "    ks=int(pars[3])\n",
    "    ps=int(pars[4])\n",
    "    model=tf.keras.Sequential()\n",
    "    model.add(tkl.InputLayer((num_timesteps,\n",
    "                              num_features),\n",
    "                             name='input'))\n",
    "    model.add(tkl.Conv1D(\n",
    "        filters=num_filters,\n",
    "        kernel_size=ks,\n",
    "        padding='same',name='conv1d',\n",
    "        activation='relu'))\n",
    "    model.add(tkl.MaxPool1D(\n",
    "        pool_size=ps,name='pool1d'))\n",
    "    display(tku.plot_model(model,show_shapes=True))"
   ]
  },
  {
   "cell_type": "code",
   "execution_count": 21,
   "metadata": {
    "execution": {
     "iopub.execute_input": "2020-08-27T20:30:12.188717Z",
     "iopub.status.busy": "2020-08-27T20:30:12.187886Z",
     "iopub.status.idle": "2020-08-27T20:30:12.903048Z",
     "shell.execute_reply": "2020-08-27T20:30:12.902299Z"
    },
    "papermill": {
     "duration": 0.736243,
     "end_time": "2020-08-27T20:30:12.903174",
     "exception": false,
     "start_time": "2020-08-27T20:30:12.166931",
     "status": "completed"
    },
    "tags": []
   },
   "outputs": [
    {
     "data": {
      "image/png": "[encoded data removed]",
      "text/plain": [
       "<IPython.core.display.Image object>"
      ]
     },
     "metadata": {},
     "output_type": "display_data"
    }
   ],
   "source": [
    "%get_model_plot1d 4 16 32 3 2"
   ]
  },
  {
   "cell_type": "code",
   "execution_count": 22,
   "metadata": {
    "_kg_hide-input": true,
    "execution": {
     "iopub.execute_input": "2020-08-27T20:30:12.948180Z",
     "iopub.status.busy": "2020-08-27T20:30:12.946895Z",
     "iopub.status.idle": "2020-08-27T20:30:12.950987Z",
     "shell.execute_reply": "2020-08-27T20:30:12.950071Z"
    },
    "papermill": {
     "duration": 0.032533,
     "end_time": "2020-08-27T20:30:12.951147",
     "exception": false,
     "start_time": "2020-08-27T20:30:12.918614",
     "status": "completed"
    },
    "tags": []
   },
   "outputs": [],
   "source": [
    "@register_line_magic\n",
    "def get_model_plot2d(pars):\n",
    "    pars=pars.split()\n",
    "    img_size=int(pars[0])\n",
    "    num_channels=int(pars[1])\n",
    "    num_filters=int(pars[2])\n",
    "    ks=int(pars[3])\n",
    "    ps=int(pars[4])\n",
    "    model=tf.keras.Sequential()\n",
    "    model.add(tkl.InputLayer((img_size,img_size,\n",
    "                              num_channels),\n",
    "                             name='input'))\n",
    "    model.add(tkl.Conv2D(\n",
    "        filters=num_filters,\n",
    "        kernel_size=(ks,ks),strides=(1,1),\n",
    "        padding='same',name='conv2d',\n",
    "        activation='relu'))\n",
    "    model.add(tkl.MaxPool2D(\n",
    "        pool_size=(ps,ps),name='pool2d'))\n",
    "    display(tku.plot_model(model,show_shapes=True))"
   ]
  },
  {
   "cell_type": "code",
   "execution_count": 23,
   "metadata": {
    "execution": {
     "iopub.execute_input": "2020-08-27T20:30:12.991681Z",
     "iopub.status.busy": "2020-08-27T20:30:12.990897Z",
     "iopub.status.idle": "2020-08-27T20:30:13.104215Z",
     "shell.execute_reply": "2020-08-27T20:30:13.103562Z"
    },
    "papermill": {
     "duration": 0.137296,
     "end_time": "2020-08-27T20:30:13.104374",
     "exception": false,
     "start_time": "2020-08-27T20:30:12.967078",
     "status": "completed"
    },
    "tags": []
   },
   "outputs": [
    {
     "data": {
      "image/png": "[encoded data removed]",
      "text/plain": [
       "<IPython.core.display.Image object>"
      ]
     },
     "metadata": {},
     "output_type": "display_data"
    }
   ],
   "source": [
    "%get_model_plot2d 32 3 64 5 4"
   ]
  }
 ],
 "metadata": {
  "kernelspec": {
   "display_name": "Python 3",
   "language": "python",
   "name": "python3"
  },
  "language_info": {
   "codemirror_mode": {
    "name": "ipython",
    "version": 3
   },
   "file_extension": ".py",
   "mimetype": "text/x-python",
   "name": "python",
   "nbconvert_exporter": "python",
   "pygments_lexer": "ipython3",
   "version": "3.7.6"
  },
  "papermill": {
   "duration": 15.111901,
   "end_time": "2020-08-27T20:30:13.228432",
   "environment_variables": {},
   "exception": null,
   "input_path": "__notebook__.ipynb",
   "output_path": "__notebook__.ipynb",
   "parameters": {},
   "start_time": "2020-08-27T20:29:58.116531",
   "version": "2.1.0"
  }
 },
 "nbformat": 4,
 "nbformat_minor": 4
}
