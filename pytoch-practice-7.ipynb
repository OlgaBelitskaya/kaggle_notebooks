{
 "cells": [
  {
   "cell_type": "markdown",
   "execution_count": null,
   "metadata": {},
   "source": [
    "Reading classics [Deep Learning Models](https://nbviewer.jupyter.org/github/rasbt/deeplearning-models/blob/master/pytorch_ipynb/cnn//cnn-lenet5-cifar10.ipynb)\n",
    "\n",
    "## Code Modules, Classes & Functions"
   ]
  },
  {
   "cell_type": "code",
   "execution_count": 1,
   "metadata": {
    "_cell_guid": "b1076dfc-b9ad-4769-8c92-a6c4dae69d19",
    "_uuid": "8f2839f25d086af736a60e9eeb907d3b93b6e0e5"
   },
   "outputs": [],
   "source": [
    "import numpy as np,pandas as pd,pylab as pl\n",
    "import h5py,torch\n",
    "from torchvision.datasets import CIFAR10 as tcifar10\n",
    "from torchvision import transforms,utils\n",
    "from torch.utils.data import DataLoader as tdl\n",
    "from torch.utils.data import Dataset as tds\n",
    "import torch.nn as tnn\n",
    "from IPython.core.magic import register_line_magic\n",
    "dev=torch.device(\"cuda:0\" if torch.cuda.is_available() \n",
    "                 else \"cpu\")"
   ]
  },
  {
   "cell_type": "code",
   "execution_count": 2,
   "metadata": {},
   "outputs": [],
   "source": [
    "class TData(tds):\n",
    "    def __init__(self,X,y):   \n",
    "        self.X=torch.tensor(X,dtype=torch.float32)\n",
    "        self.y=torch.tensor(y,dtype=torch.int32)\n",
    "    def __getitem__(self,index):\n",
    "        train_img,train_lbl=self.X[index],self.y[index]\n",
    "        return train_img,train_lbl\n",
    "    def __len__(self):\n",
    "        return self.y.shape[0]"
   ]
  },
  {
   "cell_type": "code",
   "execution_count": 3,
   "metadata": {},
   "outputs": [],
   "source": [
    "class LeNN5(tnn.Module):\n",
    "    def __init__(self,num_classes,grayscale=False):\n",
    "        super(LeNN5,self).__init__()        \n",
    "        self.grayscale=grayscale\n",
    "        self.num_classes=num_classes\n",
    "        if self.grayscale: in_channels=1\n",
    "        else: in_channels=3\n",
    "        self.features=tnn.Sequential(            \n",
    "            tnn.Conv2d(in_channels,6*in_channels,\n",
    "                       kernel_size=5),\n",
    "            tnn.Tanh(),\n",
    "            tnn.MaxPool2d(kernel_size=2),\n",
    "            tnn.Conv2d(6*in_channels,16*in_channels,\n",
    "                       kernel_size=5),\n",
    "            tnn.Tanh(),\n",
    "            tnn.MaxPool2d(kernel_size=2))\n",
    "        self.classifier=tnn.Sequential(\n",
    "            tnn.Linear(16*5*5*in_channels,120*in_channels),\n",
    "            tnn.Tanh(),\n",
    "            tnn.Linear(120*in_channels,84*in_channels),\n",
    "            tnn.Tanh(),\n",
    "            tnn.Linear(84*in_channels,num_classes),)\n",
    "    def forward(self, x):\n",
    "        x=self.features(x)\n",
    "        x=torch.flatten(x,1)\n",
    "        logits=self.classifier(x)\n",
    "        probs=tnn.functional.softmax(logits,dim=1)\n",
    "        return logits,probs"
   ]
  },
  {
   "cell_type": "code",
   "execution_count": 4,
   "metadata": {
    "_cell_guid": "79c7e3d0-c299-4dcb-8224-4455121ee9b0",
    "_kg_hide-input": true,
    "_uuid": "d629ff2d2480ee46fbb7e2d37f6b5fab8052498a"
   },
   "outputs": [],
   "source": [
    "def model_acc(model,data_loader):\n",
    "    correct_preds,num_examples=0,0    \n",
    "    for features,targets in data_loader:\n",
    "        features=features.to(dev)\n",
    "        targets=targets.to(dev)\n",
    "        logits,probs=model(features)\n",
    "        _,pred_labels=torch.max(probs,1)\n",
    "        num_examples+=targets.size(0)\n",
    "        correct_preds+=(pred_labels==targets).sum()        \n",
    "    return correct_preds.float()/num_examples*100\n",
    "def display_examples(data_loader):\n",
    "    for images,labels in data_loader:  \n",
    "        print('Image dimensions: %s'%str(images.shape))\n",
    "        print('Label dimensions: %s'%str(labels.shape))\n",
    "        n=np.random.randint(1,50)\n",
    "        fig=pl.figure(figsize=(11,4))\n",
    "        for i in range(n,n+5):\n",
    "            ax=fig.add_subplot(1,5,i-n+1,\\\n",
    "            xticks=[],yticks=[],title=labels[i].item())\n",
    "            ax.imshow((images[i]).reshape(32,32,3))\n",
    "        break\n",
    "def show_image(img):\n",
    "    npimg=img.numpy()/2.+.5; tr=(1,2,0)\n",
    "    pl.figure(figsize=(10,2))\n",
    "    pl.imshow(np.transpose(npimg,tr))\n",
    "    pl.xticks([]); pl.show()\n",
    "def show_examples(train_loader,classes,num_examples):\n",
    "    dataiter=iter(train_loader)\n",
    "    images,labels=dataiter.next()\n",
    "    show_image(utils.make_grid(images[0:num_examples]))\n",
    "    print('^'.join('%9s'%classes[labels[j]] \n",
    "                   for j in range(num_examples)),\n",
    "          end='^')"
   ]
  },
  {
   "cell_type": "code",
   "execution_count": 5,
   "metadata": {
    "_kg_hide-input": true
   },
   "outputs": [],
   "source": [
    "@register_line_magic\n",
    "def train_run(epochs):\n",
    "    epochs=int(epochs)\n",
    "    for epoch in range(epochs):\n",
    "        for batch_ids,(features,targets) in enumerate(train_loader):        \n",
    "            features=features.to(dev)\n",
    "            targets=targets.to(dev)\n",
    "            logits,probs=model(features)\n",
    "            cost=tnn.functional.cross_entropy(logits,targets)\n",
    "            optimizer.zero_grad(); cost.backward()\n",
    "            optimizer.step()\n",
    "            if not batch_ids%300:\n",
    "                print ('Epoch: %03d/%03d | Batch %03d/%03d | Cost: %.4f' \n",
    "                       %(epoch+1,epochs,batch_ids, \n",
    "                         len(train)//batch_size,cost))           \n",
    "        with torch.set_grad_enabled(False):\n",
    "            print('Epoch: %03d/%03d train accuracy: %.2f%%'%\\\n",
    "                  (epoch+1,epochs,model_acc(model,train_loader)))\n",
    "@register_line_magic\n",
    "def print_acc(t):\n",
    "    if t=='test':\n",
    "        print('Test accuracy: %.4f%%'%\\\n",
    "        (model_acc(model,test_loader)))\n",
    "    if t=='train':\n",
    "        print('Train accuracy: %.4f%%'%\\\n",
    "        (model_acc(model,train_loader)))"
   ]
  },
  {
   "cell_type": "code",
   "execution_count": 6,
   "metadata": {
    "_kg_hide-input": true
   },
   "outputs": [],
   "source": [
    "@register_line_magic\n",
    "def train_run2(epochs):\n",
    "    epochs=int(epochs)\n",
    "    for epoch in range(epochs):\n",
    "        for batch_ids,(features,targets) in enumerate(train_loader2):        \n",
    "            features=features.to(dev)\n",
    "            targets=targets.to(dev)\n",
    "            logits,probs=model(features)\n",
    "            cost=tnn.functional.cross_entropy(logits,targets.long())\n",
    "            optimizer.zero_grad(); cost.backward()\n",
    "            optimizer.step()\n",
    "            if not batch_ids%300:\n",
    "                print ('Epoch: %03d/%03d | Batch %03d/%03d | Cost: %.4f' \n",
    "                       %(epoch+1,epochs,batch_ids, \n",
    "                         len(train2)//batch_size2,cost))           \n",
    "        with torch.set_grad_enabled(False):\n",
    "            print('Epoch: %03d/%03d train accuracy: %.2f%%'%\\\n",
    "                  (epoch+1,epochs,model_acc(model,train_loader2)))\n",
    "@register_line_magic\n",
    "def print_acc2(t):\n",
    "    if t=='test':\n",
    "        print('Test accuracy: %.4f%%'%\\\n",
    "        (model_acc(model,test_loader2)))\n",
    "    if t=='train':\n",
    "        print('Train accuracy: %.4f%%'%\\\n",
    "        (model_acc(model,train_loader2)))"
   ]
  },
  {
   "cell_type": "markdown",
   "execution_count": null,
   "metadata": {},
   "source": [
    "## Data"
   ]
  },
  {
   "cell_type": "code",
   "execution_count": 7,
   "metadata": {
    "_kg_hide-output": true,
    "collapsed": true
   },
   "outputs": [
    {
     "name": "stdout",
     "output_type": "stream",
     "text": [
      "Downloading https://www.cs.toronto.edu/~kriz/cifar-10-python.tar.gz to data/cifar-10-python.tar.gz\n"
     ]
    },
    {
     "data": {
      "application/vnd.jupyter.widget-view+json": {
       "model_id": "9b1fecf5c4944d1c804a167e73c418af",
       "version_major": 2,
       "version_minor": 0
      },
      "text/plain": [
       "HBox(children=(FloatProgress(value=1.0, bar_style='info', max=1.0), HTML(value='')))"
      ]
     },
     "metadata": {},
     "output_type": "display_data"
    },
    {
     "name": "stdout",
     "output_type": "stream",
     "text": [
      "Extracting data/cifar-10-python.tar.gz to data\n"
     ]
    }
   ],
   "source": [
    "random_seed=12; batch_size=128\n",
    "tr0=(.5,.5,.5)\n",
    "transform=transforms\\\n",
    ".Compose([transforms.ToTensor(),\n",
    "          transforms.Normalize(tr0,tr0)])\n",
    "train=tcifar10(root='data',train=True,download=True,\n",
    "               transform=transform)\n",
    "test=tcifar10(root='data',train=False, \n",
    "              transform=transform)\n",
    "train_loader=tdl(dataset=train,shuffle=True, \n",
    "                 batch_size=batch_size)\n",
    "test_loader=tdl(dataset=test,shuffle=False, \n",
    "                batch_size=batch_size)"
   ]
  },
  {
   "cell_type": "code",
   "execution_count": 8,
   "metadata": {},
   "outputs": [
    {
     "name": "stdout",
     "output_type": "stream",
     "text": [
      "\n"
     ]
    },
    {
     "data": {
      "image/png": "[encoded data removed]",
      "text/plain": [
       "<Figure size 720x144 with 1 Axes>"
      ]
     },
     "metadata": {
      "needs_background": "light"
     },
     "output_type": "display_data"
    }
   ],
   "source": [
    "classes=('plane','car','bird','cat','deer',\n",
    "         'dog','frog','horse','ship','truck')\n",
    "show_examples(train_loader,classes,7)"
   ]
  },
  {
   "cell_type": "code",
   "execution_count": 9,
   "metadata": {},
   "outputs": [
    {
     "name": "stdout",
     "output_type": "stream",
     "text": [
      "['backgrounds', 'images', 'labels']\n"
     ]
    },
    {
     "data": {
      "text/plain": [
       "((11352, 3, 32, 32), (11352,))"
      ]
     },
     "execution_count": 9,
     "metadata": {},
     "output_type": "execute_result"
    }
   ],
   "source": [
    "fpath='../input/classification-of-handwritten-letters/'\n",
    "f='LetterColorImages_123.h5'\n",
    "f=h5py.File(fpath+f,'r')\n",
    "keys=list(f.keys()); print(keys)\n",
    "x=np.array(f[keys[1]],dtype='float32')/255\n",
    "x=x.reshape(-1,3,32,32)\n",
    "y=np.array(f[keys[2]],dtype='int32')-1\n",
    "N=len(y); n=int(.2*N)\n",
    "shuffle_ids=np.arange(N)\n",
    "np.random.RandomState(23).shuffle(shuffle_ids)\n",
    "x,y=x[shuffle_ids],y[shuffle_ids]\n",
    "x_test,x_train=x[:n],x[n:]\n",
    "y_test,y_train=y[:n],y[n:]\n",
    "x_train.shape,y_train.shape"
   ]
  },
  {
   "cell_type": "code",
   "execution_count": 10,
   "metadata": {},
   "outputs": [
    {
     "name": "stdout",
     "output_type": "stream",
     "text": [
      "Image dimensions: torch.Size([128, 3, 32, 32])\n",
      "Label dimensions: torch.Size([128])\n"
     ]
    },
    {
     "data": {
      "image/png": "[encoded data removed]",
      "text/plain": [
       "<Figure size 792x288 with 5 Axes>"
      ]
     },
     "metadata": {},
     "output_type": "display_data"
    }
   ],
   "source": [
    "random_seed=1; batch_size2=128\n",
    "train2=TData(x_train,y_train)\n",
    "test2=TData(x_test,y_test)\n",
    "train_loader2=tdl(dataset=train2,batch_size=batch_size2,shuffle=True)\n",
    "test_loader2=tdl(dataset=test2,batch_size=batch_size2,shuffle=False)\n",
    "display_examples(train_loader2)"
   ]
  },
  {
   "cell_type": "markdown",
   "execution_count": null,
   "metadata": {},
   "source": [
    "## LeNet 5 Training"
   ]
  },
  {
   "cell_type": "code",
   "execution_count": 11,
   "metadata": {
    "_kg_hide-output": true
   },
   "outputs": [
    {
     "name": "stdout",
     "output_type": "stream",
     "text": [
      "Epoch: 001/010 | Batch 000/390 | Cost: 2.3064\n",
      "Epoch: 001/010 | Batch 300/390 | Cost: 1.3073\n",
      "Epoch: 001/010 train accuracy: 58.87%\n",
      "Epoch: 002/010 | Batch 000/390 | Cost: 1.2783\n",
      "Epoch: 002/010 | Batch 300/390 | Cost: 1.0786\n",
      "Epoch: 002/010 train accuracy: 63.72%\n",
      "Epoch: 003/010 | Batch 000/390 | Cost: 1.0027\n",
      "Epoch: 003/010 | Batch 300/390 | Cost: 0.9327\n",
      "Epoch: 003/010 train accuracy: 69.73%\n",
      "Epoch: 004/010 | Batch 000/390 | Cost: 0.9481\n",
      "Epoch: 004/010 | Batch 300/390 | Cost: 0.6879\n",
      "Epoch: 004/010 train accuracy: 73.91%\n",
      "Epoch: 005/010 | Batch 000/390 | Cost: 0.8962\n",
      "Epoch: 005/010 | Batch 300/390 | Cost: 0.7727\n",
      "Epoch: 005/010 train accuracy: 78.57%\n",
      "Epoch: 006/010 | Batch 000/390 | Cost: 0.5368\n",
      "Epoch: 006/010 | Batch 300/390 | Cost: 0.6083\n",
      "Epoch: 006/010 train accuracy: 83.29%\n",
      "Epoch: 007/010 | Batch 000/390 | Cost: 0.6029\n",
      "Epoch: 007/010 | Batch 300/390 | Cost: 0.5659\n",
      "Epoch: 007/010 train accuracy: 87.13%\n",
      "Epoch: 008/010 | Batch 000/390 | Cost: 0.3106\n",
      "Epoch: 008/010 | Batch 300/390 | Cost: 0.3992\n",
      "Epoch: 008/010 train accuracy: 89.72%\n",
      "Epoch: 009/010 | Batch 000/390 | Cost: 0.2871\n",
      "Epoch: 009/010 | Batch 300/390 | Cost: 0.2920\n",
      "Epoch: 009/010 train accuracy: 93.10%\n",
      "Epoch: 010/010 | Batch 000/390 | Cost: 0.1938\n",
      "Epoch: 010/010 | Batch 300/390 | Cost: 0.3279\n",
      "Epoch: 010/010 train accuracy: 93.90%\n"
     ]
    }
   ],
   "source": [
    "torch.manual_seed(random_seed)\n",
    "num_classes=10; learning_rate=.001\n",
    "model=LeNN5(num_classes,False)\n",
    "model.to(dev)\n",
    "optimizer=torch.optim.Adam(model.parameters(),\n",
    "                           lr=learning_rate) \n",
    "%train_run 10"
   ]
  },
  {
   "cell_type": "code",
   "execution_count": 12,
   "metadata": {},
   "outputs": [
    {
     "name": "stdout",
     "output_type": "stream",
     "text": [
      "Train accuracy: 93.9000%\n",
      "Test accuracy: 66.1600%\n"
     ]
    }
   ],
   "source": [
    "%print_acc train\n",
    "%print_acc test"
   ]
  },
  {
   "cell_type": "code",
   "execution_count": 13,
   "metadata": {
    "_kg_hide-output": true
   },
   "outputs": [
    {
     "name": "stdout",
     "output_type": "stream",
     "text": [
      "Epoch: 001/015 | Batch 000/088 | Cost: 3.4956\n",
      "Epoch: 001/015 train accuracy: 11.13%\n",
      "Epoch: 002/015 | Batch 000/088 | Cost: 3.1358\n",
      "Epoch: 002/015 train accuracy: 25.32%\n",
      "Epoch: 003/015 | Batch 000/088 | Cost: 2.6797\n",
      "Epoch: 003/015 train accuracy: 33.69%\n",
      "Epoch: 004/015 | Batch 000/088 | Cost: 2.3652\n",
      "Epoch: 004/015 train accuracy: 41.70%\n",
      "Epoch: 005/015 | Batch 000/088 | Cost: 2.2236\n",
      "Epoch: 005/015 train accuracy: 50.09%\n",
      "Epoch: 006/015 | Batch 000/088 | Cost: 1.8126\n",
      "Epoch: 006/015 train accuracy: 53.61%\n",
      "Epoch: 007/015 | Batch 000/088 | Cost: 1.6468\n",
      "Epoch: 007/015 train accuracy: 58.17%\n",
      "Epoch: 008/015 | Batch 000/088 | Cost: 1.5662\n",
      "Epoch: 008/015 train accuracy: 61.02%\n",
      "Epoch: 009/015 | Batch 000/088 | Cost: 1.2950\n",
      "Epoch: 009/015 train accuracy: 61.22%\n",
      "Epoch: 010/015 | Batch 000/088 | Cost: 1.2639\n",
      "Epoch: 010/015 train accuracy: 68.88%\n",
      "Epoch: 011/015 | Batch 000/088 | Cost: 1.1006\n",
      "Epoch: 011/015 train accuracy: 73.61%\n",
      "Epoch: 012/015 | Batch 000/088 | Cost: 1.0259\n",
      "Epoch: 012/015 train accuracy: 75.81%\n",
      "Epoch: 013/015 | Batch 000/088 | Cost: 0.8465\n",
      "Epoch: 013/015 train accuracy: 76.57%\n",
      "Epoch: 014/015 | Batch 000/088 | Cost: 0.7839\n",
      "Epoch: 014/015 train accuracy: 79.01%\n",
      "Epoch: 015/015 | Batch 000/088 | Cost: 0.7933\n",
      "Epoch: 015/015 train accuracy: 81.42%\n"
     ]
    }
   ],
   "source": [
    "torch.manual_seed(random_seed)\n",
    "num_classes=33; learning_rate=.001\n",
    "model=LeNN5(num_classes,False)\n",
    "model.to(dev)\n",
    "optimizer=torch.optim.Adam(model.parameters(),\n",
    "                           lr=learning_rate) \n",
    "%train_run2 15"
   ]
  },
  {
   "cell_type": "code",
   "execution_count": 14,
   "metadata": {},
   "outputs": [
    {
     "name": "stdout",
     "output_type": "stream",
     "text": [
      "Train accuracy: 81.4218%\n",
      "Test accuracy: 64.9049%\n"
     ]
    }
   ],
   "source": [
    "%print_acc2 train\n",
    "%print_acc2 test"
   ]
  }
 ],
 "metadata": {
  "kernelspec": {
   "display_name": "Python 3",
   "language": "python",
   "name": "python3"
  },
  "language_info": {
   "codemirror_mode": {
    "name": "ipython",
    "version": 3
   },
   "file_extension": ".py",
   "mimetype": "text/x-python",
   "name": "python",
   "nbconvert_exporter": "python",
   "pygments_lexer": "ipython3",
   "version": "3.7.6"
  },
  "widgets": {
   "application/vnd.jupyter.widget-state+json": {
    "state": {
     "5b5d8a74161b465b894fbbf4ef930336": {
      "model_module": "@jupyter-widgets/base",
      "model_module_version": "1.2.0",
      "model_name": "LayoutModel",
      "state": {
       "_model_module": "@jupyter-widgets/base",
       "_model_module_version": "1.2.0",
       "_model_name": "LayoutModel",
       "_view_count": null,
       "_view_module": "@jupyter-widgets/base",
       "_view_module_version": "1.2.0",
       "_view_name": "LayoutView",
       "align_content": null,
       "align_items": null,
       "align_self": null,
       "border": null,
       "bottom": null,
       "display": null,
       "flex": null,
       "flex_flow": null,
       "grid_area": null,
       "grid_auto_columns": null,
       "grid_auto_flow": null,
       "grid_auto_rows": null,
       "grid_column": null,
       "grid_gap": null,
       "grid_row": null,
       "grid_template_areas": null,
       "grid_template_columns": null,
       "grid_template_rows": null,
       "height": null,
       "justify_content": null,
       "justify_items": null,
       "left": null,
       "margin": null,
       "max_height": null,
       "max_width": null,
       "min_height": null,
       "min_width": null,
       "object_fit": null,
       "object_position": null,
       "order": null,
       "overflow": null,
       "overflow_x": null,
       "overflow_y": null,
       "padding": null,
       "right": null,
       "top": null,
       "visibility": null,
       "width": null
      }
     },
     "90a4b6a8e4bf40b482717ab01dbfcae3": {
      "model_module": "@jupyter-widgets/controls",
      "model_module_version": "1.5.0",
      "model_name": "HTMLModel",
      "state": {
       "_dom_classes": [],
       "_model_module": "@jupyter-widgets/controls",
       "_model_module_version": "1.5.0",
       "_model_name": "HTMLModel",
       "_view_count": null,
       "_view_module": "@jupyter-widgets/controls",
       "_view_module_version": "1.5.0",
       "_view_name": "HTMLView",
       "description": "",
       "description_tooltip": null,
       "layout": "IPY_MODEL_bbd336235c784f1286a502a6da732777",
       "placeholder": "​",
       "style": "IPY_MODEL_db9173ab9e124752b6aa9ebb2bd9d57f",
       "value": " 170500096/? [00:09&lt;00:00, 17162941.26it/s]"
      }
     },
     "9b1fecf5c4944d1c804a167e73c418af": {
      "model_module": "@jupyter-widgets/controls",
      "model_module_version": "1.5.0",
      "model_name": "HBoxModel",
      "state": {
       "_dom_classes": [],
       "_model_module": "@jupyter-widgets/controls",
       "_model_module_version": "1.5.0",
       "_model_name": "HBoxModel",
       "_view_count": null,
       "_view_module": "@jupyter-widgets/controls",
       "_view_module_version": "1.5.0",
       "_view_name": "HBoxView",
       "box_style": "",
       "children": [
        "IPY_MODEL_f6044aa8120d46b6823f2d52ce0204aa",
        "IPY_MODEL_90a4b6a8e4bf40b482717ab01dbfcae3"
       ],
       "layout": "IPY_MODEL_5b5d8a74161b465b894fbbf4ef930336"
      }
     },
     "bbd336235c784f1286a502a6da732777": {
      "model_module": "@jupyter-widgets/base",
      "model_module_version": "1.2.0",
      "model_name": "LayoutModel",
      "state": {
       "_model_module": "@jupyter-widgets/base",
       "_model_module_version": "1.2.0",
       "_model_name": "LayoutModel",
       "_view_count": null,
       "_view_module": "@jupyter-widgets/base",
       "_view_module_version": "1.2.0",
       "_view_name": "LayoutView",
       "align_content": null,
       "align_items": null,
       "align_self": null,
       "border": null,
       "bottom": null,
       "display": null,
       "flex": null,
       "flex_flow": null,
       "grid_area": null,
       "grid_auto_columns": null,
       "grid_auto_flow": null,
       "grid_auto_rows": null,
       "grid_column": null,
       "grid_gap": null,
       "grid_row": null,
       "grid_template_areas": null,
       "grid_template_columns": null,
       "grid_template_rows": null,
       "height": null,
       "justify_content": null,
       "justify_items": null,
       "left": null,
       "margin": null,
       "max_height": null,
       "max_width": null,
       "min_height": null,
       "min_width": null,
       "object_fit": null,
       "object_position": null,
       "order": null,
       "overflow": null,
       "overflow_x": null,
       "overflow_y": null,
       "padding": null,
       "right": null,
       "top": null,
       "visibility": null,
       "width": null
      }
     },
     "d673cc69fe074e26b94008b05c26252c": {
      "model_module": "@jupyter-widgets/controls",
      "model_module_version": "1.5.0",
      "model_name": "ProgressStyleModel",
      "state": {
       "_model_module": "@jupyter-widgets/controls",
       "_model_module_version": "1.5.0",
       "_model_name": "ProgressStyleModel",
       "_view_count": null,
       "_view_module": "@jupyter-widgets/base",
       "_view_module_version": "1.2.0",
       "_view_name": "StyleView",
       "bar_color": null,
       "description_width": "initial"
      }
     },
     "db9173ab9e124752b6aa9ebb2bd9d57f": {
      "model_module": "@jupyter-widgets/controls",
      "model_module_version": "1.5.0",
      "model_name": "DescriptionStyleModel",
      "state": {
       "_model_module": "@jupyter-widgets/controls",
       "_model_module_version": "1.5.0",
       "_model_name": "DescriptionStyleModel",
       "_view_count": null,
       "_view_module": "@jupyter-widgets/base",
       "_view_module_version": "1.2.0",
       "_view_name": "StyleView",
       "description_width": ""
      }
     },
     "f0d963e83c6c4d4ba9cd03789e5ef9ca": {
      "model_module": "@jupyter-widgets/base",
      "model_module_version": "1.2.0",
      "model_name": "LayoutModel",
      "state": {
       "_model_module": "@jupyter-widgets/base",
       "_model_module_version": "1.2.0",
       "_model_name": "LayoutModel",
       "_view_count": null,
       "_view_module": "@jupyter-widgets/base",
       "_view_module_version": "1.2.0",
       "_view_name": "LayoutView",
       "align_content": null,
       "align_items": null,
       "align_self": null,
       "border": null,
       "bottom": null,
       "display": null,
       "flex": null,
       "flex_flow": null,
       "grid_area": null,
       "grid_auto_columns": null,
       "grid_auto_flow": null,
       "grid_auto_rows": null,
       "grid_column": null,
       "grid_gap": null,
       "grid_row": null,
       "grid_template_areas": null,
       "grid_template_columns": null,
       "grid_template_rows": null,
       "height": null,
       "justify_content": null,
       "justify_items": null,
       "left": null,
       "margin": null,
       "max_height": null,
       "max_width": null,
       "min_height": null,
       "min_width": null,
       "object_fit": null,
       "object_position": null,
       "order": null,
       "overflow": null,
       "overflow_x": null,
       "overflow_y": null,
       "padding": null,
       "right": null,
       "top": null,
       "visibility": null,
       "width": null
      }
     },
     "f6044aa8120d46b6823f2d52ce0204aa": {
      "model_module": "@jupyter-widgets/controls",
      "model_module_version": "1.5.0",
      "model_name": "FloatProgressModel",
      "state": {
       "_dom_classes": [],
       "_model_module": "@jupyter-widgets/controls",
       "_model_module_version": "1.5.0",
       "_model_name": "FloatProgressModel",
       "_view_count": null,
       "_view_module": "@jupyter-widgets/controls",
       "_view_module_version": "1.5.0",
       "_view_name": "ProgressView",
       "bar_style": "success",
       "description": "",
       "description_tooltip": null,
       "layout": "IPY_MODEL_f0d963e83c6c4d4ba9cd03789e5ef9ca",
       "max": 1.0,
       "min": 0.0,
       "orientation": "horizontal",
       "style": "IPY_MODEL_d673cc69fe074e26b94008b05c26252c",
       "value": 1.0
      }
     }
    },
    "version_major": 2,
    "version_minor": 0
   }
  }
 },
 "nbformat": 4,
 "nbformat_minor": 4
}
