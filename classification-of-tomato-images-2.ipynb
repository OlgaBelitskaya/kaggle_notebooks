{
 "cells": [
  {
   "cell_type": "markdown",
   "execution_count": null,
   "metadata": {},
   "source": [
    "[Google Colaboratory Variant](https://colab.research.google.com/drive/1pymaadPUhSm0T9N5h44ls-mAcrylfa2F)\n",
    "## Code Modules & Functions"
   ]
  },
  {
   "cell_type": "code",
   "execution_count": 1,
   "metadata": {},
   "outputs": [
    {
     "name": "stdout",
     "output_type": "stream",
     "text": [
      "Collecting neural_structured_learning\r\n",
      "  Downloading neural_structured_learning-1.3.0-py2.py3-none-any.whl (120 kB)\r\n",
      "\u001b[K     |████████████████████████████████| 120 kB 2.6 MB/s \r\n",
      "\u001b[?25hRequirement already satisfied, skipping upgrade: absl-py in /opt/conda/lib/python3.7/site-packages (from neural_structured_learning) (0.9.0)\r\n",
      "Requirement already satisfied, skipping upgrade: six in /opt/conda/lib/python3.7/site-packages (from neural_structured_learning) (1.14.0)\r\n",
      "Requirement already satisfied, skipping upgrade: scipy in /opt/conda/lib/python3.7/site-packages (from neural_structured_learning) (1.4.1)\r\n",
      "Requirement already satisfied, skipping upgrade: attrs in /opt/conda/lib/python3.7/site-packages (from neural_structured_learning) (19.3.0)\r\n",
      "Requirement already satisfied, skipping upgrade: numpy>=1.13.3 in /opt/conda/lib/python3.7/site-packages (from scipy->neural_structured_learning) (1.18.1)\r\n",
      "Installing collected packages: neural-structured-learning\r\n",
      "Successfully installed neural-structured-learning-1.3.0\r\n",
      "\u001b[33mWARNING: You are using pip version 20.1.1; however, version 20.2 is available.\r\n",
      "You should consider upgrading via the '/opt/conda/bin/python3.7 -m pip install --upgrade pip' command.\u001b[0m\r\n"
     ]
    }
   ],
   "source": [
    "!pip install --upgrade neural_structured_learning --user"
   ]
  },
  {
   "cell_type": "code",
   "execution_count": 2,
   "metadata": {
    "_cell_guid": "b1076dfc-b9ad-4769-8c92-a6c4dae69d19",
    "_uuid": "8f2839f25d086af736a60e9eeb907d3b93b6e0e5"
   },
   "outputs": [
    {
     "name": "stderr",
     "output_type": "stream",
     "text": [
      "Using TensorFlow backend.\n"
     ]
    }
   ],
   "source": [
    "import warnings; warnings.filterwarnings('ignore')\n",
    "import pandas as pd,numpy as np\n",
    "import tensorflow_hub as th,tensorflow as tf\n",
    "import neural_structured_learning as nsl\n",
    "import os,pylab as pl\n",
    "from keras.preprocessing import image as kimage\n",
    "from tqdm import tqdm\n",
    "from PIL import ImageFile\n",
    "ImageFile.LOAD_TRUNCATED_IMAGES=True \n",
    "fpath='../input/tomato-cultivars/'"
   ]
  },
  {
   "cell_type": "code",
   "execution_count": 3,
   "metadata": {
    "_cell_guid": "79c7e3d0-c299-4dcb-8224-4455121ee9b0",
    "_uuid": "d629ff2d2480ee46fbb7e2d37f6b5fab8052498a"
   },
   "outputs": [],
   "source": [
    "def path_to_tensor(img_path,fpath=fpath):\n",
    "    img=kimage.load_img(fpath+img_path, \n",
    "                        target_size=(160,160))\n",
    "    x=kimage.img_to_array(img)\n",
    "    return np.expand_dims(x,axis=0)\n",
    "def paths_to_tensor(img_paths):\n",
    "    tensor_list=[path_to_tensor(img_path) \n",
    "                 for img_path in tqdm(img_paths)]\n",
    "    return np.vstack(tensor_list)"
   ]
  },
  {
   "cell_type": "markdown",
   "execution_count": null,
   "metadata": {},
   "source": [
    "## Data"
   ]
  },
  {
   "cell_type": "code",
   "execution_count": 4,
   "metadata": {},
   "outputs": [
    {
     "name": "stderr",
     "output_type": "stream",
     "text": [
      "100%|██████████| 776/776 [00:02<00:00, 265.15it/s]\n"
     ]
    }
   ],
   "source": [
    "names=['Kumato','Beefsteak','Tigerella',\n",
    "       'Roma','Japanese Black Trifele',\n",
    "       'Yellow Pear','Sun Gold','Green Zebra',\n",
    "       'Cherokee Purple','Oxheart','Blue Berries',\n",
    "       'San Marzano','Banana Legs',\n",
    "       'German Orange Strawberry','Supersweet 100']\n",
    "flist=sorted(os.listdir(fpath))\n",
    "labels=np.array([int(el[:2]) for el in flist],\n",
    "               dtype='float32')-1\n",
    "images=np.array(paths_to_tensor(flist),\n",
    "                dtype='float32')/255\n",
    "N=labels.shape[0]; n=int(.1*N)\n",
    "shuffle_ids=np.arange(N)\n",
    "np.random.RandomState(12).shuffle(shuffle_ids)\n",
    "images,labels=images[shuffle_ids],labels[shuffle_ids]\n",
    "x_test,x_valid,x_train=images[:n],images[n:2*n],images[2*n:]\n",
    "y_test,y_valid,y_train=labels[:n],labels[n:2*n],labels[2*n:]"
   ]
  },
  {
   "cell_type": "code",
   "execution_count": 5,
   "metadata": {
    "_kg_hide-output": true
   },
   "outputs": [
    {
     "data": {
      "text/plain": [
       "{0.0,\n",
       " 1.0,\n",
       " 2.0,\n",
       " 3.0,\n",
       " 4.0,\n",
       " 5.0,\n",
       " 6.0,\n",
       " 7.0,\n",
       " 8.0,\n",
       " 9.0,\n",
       " 10.0,\n",
       " 11.0,\n",
       " 12.0,\n",
       " 13.0,\n",
       " 14.0}"
      ]
     },
     "execution_count": 5,
     "metadata": {},
     "output_type": "execute_result"
    }
   ],
   "source": [
    "set(labels)"
   ]
  },
  {
   "cell_type": "code",
   "execution_count": 6,
   "metadata": {},
   "outputs": [
    {
     "data": {
      "text/html": [
       "<div>\n",
       "<style scoped>\n",
       "    .dataframe tbody tr th:only-of-type {\n",
       "        vertical-align: middle;\n",
       "    }\n",
       "\n",
       "    .dataframe tbody tr th {\n",
       "        vertical-align: top;\n",
       "    }\n",
       "\n",
       "    .dataframe thead th {\n",
       "        text-align: right;\n",
       "    }\n",
       "</style>\n",
       "<table border=\"1\" class=\"dataframe\">\n",
       "  <thead>\n",
       "    <tr style=\"text-align: right;\">\n",
       "      <th></th>\n",
       "      <th>train</th>\n",
       "      <th>valid</th>\n",
       "      <th>test</th>\n",
       "    </tr>\n",
       "  </thead>\n",
       "  <tbody>\n",
       "    <tr>\n",
       "      <th>0</th>\n",
       "      <td>(622, 160, 160, 3)</td>\n",
       "      <td>(77, 160, 160, 3)</td>\n",
       "      <td>(77, 160, 160, 3)</td>\n",
       "    </tr>\n",
       "    <tr>\n",
       "      <th>1</th>\n",
       "      <td>float32</td>\n",
       "      <td>float32</td>\n",
       "      <td>float32</td>\n",
       "    </tr>\n",
       "    <tr>\n",
       "      <th>2</th>\n",
       "      <td>(622,)</td>\n",
       "      <td>(77,)</td>\n",
       "      <td>(77,)</td>\n",
       "    </tr>\n",
       "    <tr>\n",
       "      <th>3</th>\n",
       "      <td>float32</td>\n",
       "      <td>float32</td>\n",
       "      <td>float32</td>\n",
       "    </tr>\n",
       "  </tbody>\n",
       "</table>\n",
       "</div>"
      ],
      "text/plain": [
       "                train              valid               test\n",
       "0  (622, 160, 160, 3)  (77, 160, 160, 3)  (77, 160, 160, 3)\n",
       "1             float32            float32            float32\n",
       "2              (622,)              (77,)              (77,)\n",
       "3             float32            float32            float32"
      ]
     },
     "execution_count": 6,
     "metadata": {},
     "output_type": "execute_result"
    }
   ],
   "source": [
    "pd.DataFrame([[x_train.shape,x_valid.shape,x_test.shape],\n",
    "              [x_train.dtype,x_valid.dtype,x_test.dtype],\n",
    "              [y_train.shape,y_valid.shape,y_test.shape],\n",
    "              [y_train.dtype,y_valid.dtype,y_test.dtype]],               \n",
    "             columns=['train','valid','test'])"
   ]
  },
  {
   "cell_type": "code",
   "execution_count": 7,
   "metadata": {},
   "outputs": [
    {
     "name": "stdout",
     "output_type": "stream",
     "text": [
      "Label:  8.0 Cherokee Purple\n"
     ]
    },
    {
     "data": {
      "image/png": "[encoded data removed]",
      "text/plain": [
       "<Figure size 216x216 with 1 Axes>"
      ]
     },
     "metadata": {
      "needs_background": "light"
     },
     "output_type": "display_data"
    }
   ],
   "source": [
    "k=np.random.randint(40)\n",
    "print('Label: ',y_test[k],\n",
    "      names[int(y_test[k])])\n",
    "pl.figure(figsize=(3,3))\n",
    "pl.imshow((x_test[k]));"
   ]
  },
  {
   "cell_type": "markdown",
   "execution_count": null,
   "metadata": {},
   "source": [
    "## NN Examples"
   ]
  },
  {
   "cell_type": "code",
   "execution_count": 8,
   "metadata": {},
   "outputs": [],
   "source": [
    "fw='weights.best.hdf5'\n",
    "def premodel(pix,den,mh,lbl,activ,loss):\n",
    "    model=tf.keras.Sequential([\n",
    "        tf.keras.layers.Input((pix,pix,3),\n",
    "                              name='input'),\n",
    "        th.KerasLayer(mh,trainable=True),\n",
    "        tf.keras.layers.Flatten(),\n",
    "        tf.keras.layers.Dense(den,activation='relu'),\n",
    "        tf.keras.layers.Dropout(rate=.5),\n",
    "        tf.keras.layers.Dense(lbl,activation=activ)])\n",
    "    model.compile(optimizer='adam',\n",
    "                  metrics=['accuracy'],loss=loss)\n",
    "    display(model.summary())\n",
    "    return model\n",
    "def cb(fw):\n",
    "    early_stopping=tf.keras.callbacks\\\n",
    "    .EarlyStopping(monitor='val_loss',patience=20,verbose=2)\n",
    "    checkpointer=tf.keras.callbacks\\\n",
    "    .ModelCheckpoint(filepath=fw,save_best_only=True,verbose=2)\n",
    "    lr_reduction=tf.keras.callbacks\\\n",
    "    .ReduceLROnPlateau(monitor='val_loss',verbose=2,\n",
    "                       patience=5,factor=.8)\n",
    "    return [checkpointer,early_stopping,lr_reduction]"
   ]
  },
  {
   "cell_type": "code",
   "execution_count": 9,
   "metadata": {},
   "outputs": [],
   "source": [
    "[handle_base,pixels]=[\"inception_v3\",160]\n",
    "mhandle=\"https://tfhub.dev/google/imagenet/{}/classification/4\"\\\n",
    ".format(handle_base)"
   ]
  },
  {
   "cell_type": "code",
   "execution_count": 10,
   "metadata": {
    "_kg_hide-output": true
   },
   "outputs": [
    {
     "name": "stdout",
     "output_type": "stream",
     "text": [
      "Model: \"sequential\"\n",
      "_________________________________________________________________\n",
      "Layer (type)                 Output Shape              Param #   \n",
      "=================================================================\n",
      "keras_layer (KerasLayer)     (None, 1001)              23853833  \n",
      "_________________________________________________________________\n",
      "flatten (Flatten)            (None, 1001)              0         \n",
      "_________________________________________________________________\n",
      "dense (Dense)                (None, 1024)              1026048   \n",
      "_________________________________________________________________\n",
      "dropout (Dropout)            (None, 1024)              0         \n",
      "_________________________________________________________________\n",
      "dense_1 (Dense)              (None, 15)                15375     \n",
      "=================================================================\n",
      "Total params: 24,895,256\n",
      "Trainable params: 24,860,824\n",
      "Non-trainable params: 34,432\n",
      "_________________________________________________________________\n"
     ]
    },
    {
     "data": {
      "text/plain": [
       "None"
      ]
     },
     "metadata": {},
     "output_type": "display_data"
    },
    {
     "name": "stdout",
     "output_type": "stream",
     "text": [
      "Epoch 1/70\n",
      "20/20 [==============================] - ETA: 0s - loss: 3.5874 - accuracy: 0.1527\n",
      "Epoch 00001: val_loss improved from inf to 424.18121, saving model to weights.best.hdf5\n",
      "20/20 [==============================] - 6s 282ms/step - loss: 3.5874 - accuracy: 0.1527 - val_loss: 424.1812 - val_accuracy: 0.0519 - lr: 0.0010\n",
      "Epoch 2/70\n",
      "20/20 [==============================] - ETA: 0s - loss: 2.8554 - accuracy: 0.2765\n",
      "Epoch 00002: val_loss improved from 424.18121 to 105.56178, saving model to weights.best.hdf5\n",
      "20/20 [==============================] - 3s 152ms/step - loss: 2.8554 - accuracy: 0.2765 - val_loss: 105.5618 - val_accuracy: 0.0519 - lr: 0.0010\n",
      "Epoch 3/70\n",
      "20/20 [==============================] - ETA: 0s - loss: 2.1695 - accuracy: 0.4566\n",
      "Epoch 00003: val_loss did not improve from 105.56178\n",
      "20/20 [==============================] - 2s 96ms/step - loss: 2.1695 - accuracy: 0.4566 - val_loss: 134.5296 - val_accuracy: 0.0909 - lr: 0.0010\n",
      "Epoch 4/70\n",
      "20/20 [==============================] - ETA: 0s - loss: 1.8076 - accuracy: 0.5707\n",
      "Epoch 00004: val_loss did not improve from 105.56178\n",
      "20/20 [==============================] - 2s 96ms/step - loss: 1.8076 - accuracy: 0.5707 - val_loss: 803.9833 - val_accuracy: 0.0779 - lr: 0.0010\n",
      "Epoch 5/70\n",
      "20/20 [==============================] - ETA: 0s - loss: 1.7262 - accuracy: 0.6093\n",
      "Epoch 00005: val_loss improved from 105.56178 to 13.99724, saving model to weights.best.hdf5\n",
      "20/20 [==============================] - 3s 161ms/step - loss: 1.7262 - accuracy: 0.6093 - val_loss: 13.9972 - val_accuracy: 0.0909 - lr: 0.0010\n",
      "Epoch 6/70\n",
      "20/20 [==============================] - ETA: 0s - loss: 1.4200 - accuracy: 0.6977\n",
      "Epoch 00006: val_loss did not improve from 13.99724\n",
      "20/20 [==============================] - 2s 94ms/step - loss: 1.4200 - accuracy: 0.6977 - val_loss: 47.4860 - val_accuracy: 0.2468 - lr: 0.0010\n",
      "Epoch 7/70\n",
      "20/20 [==============================] - ETA: 0s - loss: 1.4281 - accuracy: 0.6994\n",
      "Epoch 00007: val_loss improved from 13.99724 to 4.98481, saving model to weights.best.hdf5\n",
      "20/20 [==============================] - 4s 175ms/step - loss: 1.4281 - accuracy: 0.6994 - val_loss: 4.9848 - val_accuracy: 0.1299 - lr: 0.0010\n",
      "Epoch 8/70\n",
      "20/20 [==============================] - ETA: 0s - loss: 1.6137 - accuracy: 0.6720\n",
      "Epoch 00008: val_loss did not improve from 4.98481\n",
      "20/20 [==============================] - 2s 95ms/step - loss: 1.6137 - accuracy: 0.6720 - val_loss: 36.1701 - val_accuracy: 0.1429 - lr: 0.0010\n",
      "Epoch 9/70\n",
      "20/20 [==============================] - ETA: 0s - loss: 1.3036 - accuracy: 0.7026\n",
      "Epoch 00009: val_loss did not improve from 4.98481\n",
      "20/20 [==============================] - 2s 99ms/step - loss: 1.3036 - accuracy: 0.7026 - val_loss: 6.0519 - val_accuracy: 0.3117 - lr: 0.0010\n",
      "Epoch 10/70\n",
      "20/20 [==============================] - ETA: 0s - loss: 1.2370 - accuracy: 0.7508\n",
      "Epoch 00010: val_loss improved from 4.98481 to 2.61897, saving model to weights.best.hdf5\n",
      "20/20 [==============================] - 3s 155ms/step - loss: 1.2370 - accuracy: 0.7508 - val_loss: 2.6190 - val_accuracy: 0.5065 - lr: 0.0010\n",
      "Epoch 11/70\n",
      "20/20 [==============================] - ETA: 0s - loss: 1.2042 - accuracy: 0.7637\n",
      "Epoch 00011: val_loss did not improve from 2.61897\n",
      "20/20 [==============================] - 2s 98ms/step - loss: 1.2042 - accuracy: 0.7637 - val_loss: 8.5452 - val_accuracy: 0.3636 - lr: 0.0010\n",
      "Epoch 12/70\n",
      "20/20 [==============================] - ETA: 0s - loss: 1.0253 - accuracy: 0.7990\n",
      "Epoch 00012: val_loss did not improve from 2.61897\n",
      "20/20 [==============================] - 2s 96ms/step - loss: 1.0253 - accuracy: 0.7990 - val_loss: 2.9827 - val_accuracy: 0.5325 - lr: 0.0010\n",
      "Epoch 13/70\n",
      "20/20 [==============================] - ETA: 0s - loss: 1.0258 - accuracy: 0.7990\n",
      "Epoch 00013: val_loss did not improve from 2.61897\n",
      "20/20 [==============================] - 2s 97ms/step - loss: 1.0258 - accuracy: 0.7990 - val_loss: 27.9024 - val_accuracy: 0.5065 - lr: 0.0010\n",
      "Epoch 14/70\n",
      "20/20 [==============================] - ETA: 0s - loss: 0.9216 - accuracy: 0.8344\n",
      "Epoch 00014: val_loss did not improve from 2.61897\n",
      "20/20 [==============================] - 2s 96ms/step - loss: 0.9216 - accuracy: 0.8344 - val_loss: 9.4304 - val_accuracy: 0.4026 - lr: 0.0010\n",
      "Epoch 15/70\n",
      "20/20 [==============================] - ETA: 0s - loss: 0.6854 - accuracy: 0.9035\n",
      "Epoch 00015: val_loss did not improve from 2.61897\n",
      "\n",
      "Epoch 00015: ReduceLROnPlateau reducing learning rate to 0.000800000037997961.\n",
      "20/20 [==============================] - 2s 96ms/step - loss: 0.6854 - accuracy: 0.9035 - val_loss: 7.1396 - val_accuracy: 0.5455 - lr: 0.0010\n",
      "Epoch 16/70\n",
      "20/20 [==============================] - ETA: 0s - loss: 0.6244 - accuracy: 0.9068\n",
      "Epoch 00016: val_loss did not improve from 2.61897\n",
      "20/20 [==============================] - 2s 95ms/step - loss: 0.6244 - accuracy: 0.9068 - val_loss: 3.5687 - val_accuracy: 0.5584 - lr: 8.0000e-04\n",
      "Epoch 17/70\n",
      "20/20 [==============================] - ETA: 0s - loss: 0.5541 - accuracy: 0.9196\n",
      "Epoch 00017: val_loss did not improve from 2.61897\n",
      "20/20 [==============================] - 2s 95ms/step - loss: 0.5541 - accuracy: 0.9196 - val_loss: 2.6539 - val_accuracy: 0.6364 - lr: 8.0000e-04\n",
      "Epoch 18/70\n",
      "20/20 [==============================] - ETA: 0s - loss: 0.4767 - accuracy: 0.9550\n",
      "Epoch 00018: val_loss improved from 2.61897 to 1.34391, saving model to weights.best.hdf5\n",
      "20/20 [==============================] - 3s 149ms/step - loss: 0.4767 - accuracy: 0.9550 - val_loss: 1.3439 - val_accuracy: 0.7662 - lr: 8.0000e-04\n",
      "Epoch 19/70\n",
      "20/20 [==============================] - ETA: 0s - loss: 0.4993 - accuracy: 0.9405\n",
      "Epoch 00019: val_loss did not improve from 1.34391\n",
      "20/20 [==============================] - 2s 95ms/step - loss: 0.4993 - accuracy: 0.9405 - val_loss: 2.1864 - val_accuracy: 0.6753 - lr: 8.0000e-04\n",
      "Epoch 20/70\n",
      "20/20 [==============================] - ETA: 0s - loss: 0.5076 - accuracy: 0.9357\n",
      "Epoch 00020: val_loss did not improve from 1.34391\n",
      "20/20 [==============================] - 2s 95ms/step - loss: 0.5076 - accuracy: 0.9357 - val_loss: 2.0174 - val_accuracy: 0.6753 - lr: 8.0000e-04\n",
      "Epoch 21/70\n",
      "20/20 [==============================] - ETA: 0s - loss: 0.5014 - accuracy: 0.9341\n",
      "Epoch 00021: val_loss did not improve from 1.34391\n",
      "20/20 [==============================] - 2s 95ms/step - loss: 0.5014 - accuracy: 0.9341 - val_loss: 2.2318 - val_accuracy: 0.5844 - lr: 8.0000e-04\n",
      "Epoch 22/70\n",
      "20/20 [==============================] - ETA: 0s - loss: 0.5988 - accuracy: 0.9341\n",
      "Epoch 00022: val_loss did not improve from 1.34391\n",
      "20/20 [==============================] - 2s 95ms/step - loss: 0.5988 - accuracy: 0.9341 - val_loss: 2.6787 - val_accuracy: 0.6753 - lr: 8.0000e-04\n",
      "Epoch 23/70\n",
      "20/20 [==============================] - ETA: 0s - loss: 0.5873 - accuracy: 0.9132\n",
      "Epoch 00023: val_loss did not improve from 1.34391\n",
      "\n",
      "Epoch 00023: ReduceLROnPlateau reducing learning rate to 0.0006400000303983689.\n",
      "20/20 [==============================] - 2s 95ms/step - loss: 0.5873 - accuracy: 0.9132 - val_loss: 2.1387 - val_accuracy: 0.6104 - lr: 8.0000e-04\n",
      "Epoch 24/70\n",
      "20/20 [==============================] - ETA: 0s - loss: 0.4424 - accuracy: 0.9630\n",
      "Epoch 00024: val_loss did not improve from 1.34391\n",
      "20/20 [==============================] - 2s 95ms/step - loss: 0.4424 - accuracy: 0.9630 - val_loss: 2.0149 - val_accuracy: 0.6883 - lr: 6.4000e-04\n",
      "Epoch 25/70\n",
      "20/20 [==============================] - ETA: 0s - loss: 0.4140 - accuracy: 0.9662\n",
      "Epoch 00025: val_loss did not improve from 1.34391\n",
      "20/20 [==============================] - 2s 96ms/step - loss: 0.4140 - accuracy: 0.9662 - val_loss: 2.1424 - val_accuracy: 0.7662 - lr: 6.4000e-04\n",
      "Epoch 26/70\n",
      "20/20 [==============================] - ETA: 0s - loss: 0.3672 - accuracy: 0.9775\n",
      "Epoch 00026: val_loss did not improve from 1.34391\n",
      "20/20 [==============================] - 2s 95ms/step - loss: 0.3672 - accuracy: 0.9775 - val_loss: 1.6827 - val_accuracy: 0.7532 - lr: 6.4000e-04\n",
      "Epoch 27/70\n",
      "20/20 [==============================] - ETA: 0s - loss: 0.4209 - accuracy: 0.9630\n",
      "Epoch 00027: val_loss did not improve from 1.34391\n",
      "20/20 [==============================] - 2s 94ms/step - loss: 0.4209 - accuracy: 0.9630 - val_loss: 2.8201 - val_accuracy: 0.6753 - lr: 6.4000e-04\n",
      "Epoch 28/70\n",
      "20/20 [==============================] - ETA: 0s - loss: 0.4847 - accuracy: 0.9502\n",
      "Epoch 00028: val_loss did not improve from 1.34391\n",
      "\n",
      "Epoch 00028: ReduceLROnPlateau reducing learning rate to 0.0005120000336319208.\n",
      "20/20 [==============================] - 2s 94ms/step - loss: 0.4847 - accuracy: 0.9502 - val_loss: 2.4665 - val_accuracy: 0.6883 - lr: 6.4000e-04\n",
      "Epoch 29/70\n",
      "20/20 [==============================] - ETA: 0s - loss: 0.4218 - accuracy: 0.9678\n",
      "Epoch 00029: val_loss did not improve from 1.34391\n",
      "20/20 [==============================] - 2s 96ms/step - loss: 0.4218 - accuracy: 0.9678 - val_loss: 1.6980 - val_accuracy: 0.7143 - lr: 5.1200e-04\n",
      "Epoch 30/70\n",
      "20/20 [==============================] - ETA: 0s - loss: 0.4297 - accuracy: 0.9646\n",
      "Epoch 00030: val_loss did not improve from 1.34391\n",
      "20/20 [==============================] - 2s 95ms/step - loss: 0.4297 - accuracy: 0.9646 - val_loss: 1.3724 - val_accuracy: 0.7143 - lr: 5.1200e-04\n",
      "Epoch 31/70\n",
      "20/20 [==============================] - ETA: 0s - loss: 0.4031 - accuracy: 0.9775\n",
      "Epoch 00031: val_loss improved from 1.34391 to 1.33570, saving model to weights.best.hdf5\n",
      "20/20 [==============================] - 3s 158ms/step - loss: 0.4031 - accuracy: 0.9775 - val_loss: 1.3357 - val_accuracy: 0.7922 - lr: 5.1200e-04\n",
      "Epoch 32/70\n",
      "20/20 [==============================] - ETA: 0s - loss: 0.4017 - accuracy: 0.9743\n",
      "Epoch 00032: val_loss did not improve from 1.33570\n",
      "20/20 [==============================] - 2s 96ms/step - loss: 0.4017 - accuracy: 0.9743 - val_loss: 1.6609 - val_accuracy: 0.7273 - lr: 5.1200e-04\n",
      "Epoch 33/70\n",
      "20/20 [==============================] - ETA: 0s - loss: 0.3418 - accuracy: 0.9887\n",
      "Epoch 00033: val_loss did not improve from 1.33570\n",
      "20/20 [==============================] - 2s 95ms/step - loss: 0.3418 - accuracy: 0.9887 - val_loss: 2.0150 - val_accuracy: 0.6753 - lr: 5.1200e-04\n",
      "Epoch 34/70\n",
      "20/20 [==============================] - ETA: 0s - loss: 0.3652 - accuracy: 0.9791\n",
      "Epoch 00034: val_loss did not improve from 1.33570\n",
      "20/20 [==============================] - 2s 96ms/step - loss: 0.3652 - accuracy: 0.9791 - val_loss: 2.0048 - val_accuracy: 0.6753 - lr: 5.1200e-04\n",
      "Epoch 35/70\n",
      "20/20 [==============================] - ETA: 0s - loss: 0.3974 - accuracy: 0.9727\n",
      "Epoch 00035: val_loss did not improve from 1.33570\n",
      "20/20 [==============================] - 2s 95ms/step - loss: 0.3974 - accuracy: 0.9727 - val_loss: 1.8124 - val_accuracy: 0.6623 - lr: 5.1200e-04\n",
      "Epoch 36/70\n",
      "20/20 [==============================] - ETA: 0s - loss: 0.3661 - accuracy: 0.9823\n",
      "Epoch 00036: val_loss did not improve from 1.33570\n",
      "\n",
      "Epoch 00036: ReduceLROnPlateau reducing learning rate to 0.00040960004553198815.\n",
      "20/20 [==============================] - 2s 96ms/step - loss: 0.3661 - accuracy: 0.9823 - val_loss: 1.9923 - val_accuracy: 0.6883 - lr: 5.1200e-04\n",
      "Epoch 37/70\n",
      "20/20 [==============================] - ETA: 0s - loss: 0.3852 - accuracy: 0.9775\n",
      "Epoch 00037: val_loss did not improve from 1.33570\n",
      "20/20 [==============================] - 2s 99ms/step - loss: 0.3852 - accuracy: 0.9775 - val_loss: 2.1173 - val_accuracy: 0.6623 - lr: 4.0960e-04\n",
      "Epoch 38/70\n",
      "20/20 [==============================] - ETA: 0s - loss: 0.3296 - accuracy: 0.9920\n",
      "Epoch 00038: val_loss did not improve from 1.33570\n",
      "20/20 [==============================] - 2s 97ms/step - loss: 0.3296 - accuracy: 0.9920 - val_loss: 1.8472 - val_accuracy: 0.7403 - lr: 4.0960e-04\n",
      "Epoch 39/70\n",
      "20/20 [==============================] - ETA: 0s - loss: 0.3442 - accuracy: 0.9904\n",
      "Epoch 00039: val_loss did not improve from 1.33570\n",
      "20/20 [==============================] - 2s 97ms/step - loss: 0.3442 - accuracy: 0.9904 - val_loss: 1.9938 - val_accuracy: 0.7143 - lr: 4.0960e-04\n",
      "Epoch 40/70\n",
      "20/20 [==============================] - ETA: 0s - loss: 0.3324 - accuracy: 0.9952\n",
      "Epoch 00040: val_loss did not improve from 1.33570\n",
      "20/20 [==============================] - 2s 97ms/step - loss: 0.3324 - accuracy: 0.9952 - val_loss: 2.0275 - val_accuracy: 0.6623 - lr: 4.0960e-04\n",
      "Epoch 41/70\n",
      "20/20 [==============================] - ETA: 0s - loss: 0.3656 - accuracy: 0.9887\n",
      "Epoch 00041: val_loss did not improve from 1.33570\n",
      "\n",
      "Epoch 00041: ReduceLROnPlateau reducing learning rate to 0.00032768002711236477.\n",
      "20/20 [==============================] - 2s 99ms/step - loss: 0.3656 - accuracy: 0.9887 - val_loss: 2.2301 - val_accuracy: 0.6364 - lr: 4.0960e-04\n",
      "Epoch 42/70\n",
      "20/20 [==============================] - ETA: 0s - loss: 0.3804 - accuracy: 0.9791\n",
      "Epoch 00042: val_loss did not improve from 1.33570\n",
      "20/20 [==============================] - 2s 95ms/step - loss: 0.3804 - accuracy: 0.9791 - val_loss: 2.0228 - val_accuracy: 0.7273 - lr: 3.2768e-04\n",
      "Epoch 43/70\n",
      "20/20 [==============================] - ETA: 0s - loss: 0.3675 - accuracy: 0.9823\n",
      "Epoch 00043: val_loss did not improve from 1.33570\n",
      "20/20 [==============================] - 2s 96ms/step - loss: 0.3675 - accuracy: 0.9823 - val_loss: 2.2005 - val_accuracy: 0.6623 - lr: 3.2768e-04\n",
      "Epoch 44/70\n",
      "20/20 [==============================] - ETA: 0s - loss: 0.3567 - accuracy: 0.9887\n",
      "Epoch 00044: val_loss did not improve from 1.33570\n",
      "20/20 [==============================] - 2s 97ms/step - loss: 0.3567 - accuracy: 0.9887 - val_loss: 1.9212 - val_accuracy: 0.6494 - lr: 3.2768e-04\n",
      "Epoch 45/70\n",
      "20/20 [==============================] - ETA: 0s - loss: 0.3374 - accuracy: 0.9904\n",
      "Epoch 00045: val_loss did not improve from 1.33570\n",
      "20/20 [==============================] - 2s 96ms/step - loss: 0.3374 - accuracy: 0.9904 - val_loss: 1.6784 - val_accuracy: 0.7143 - lr: 3.2768e-04\n",
      "Epoch 46/70\n",
      "20/20 [==============================] - ETA: 0s - loss: 0.3557 - accuracy: 0.9920\n",
      "Epoch 00046: val_loss did not improve from 1.33570\n",
      "\n",
      "Epoch 00046: ReduceLROnPlateau reducing learning rate to 0.0002621440216898918.\n",
      "20/20 [==============================] - 2s 97ms/step - loss: 0.3557 - accuracy: 0.9920 - val_loss: 1.7518 - val_accuracy: 0.7273 - lr: 3.2768e-04\n",
      "Epoch 47/70\n",
      "20/20 [==============================] - ETA: 0s - loss: 0.3261 - accuracy: 0.9920\n",
      "Epoch 00047: val_loss did not improve from 1.33570\n",
      "20/20 [==============================] - 2s 96ms/step - loss: 0.3261 - accuracy: 0.9920 - val_loss: 1.5393 - val_accuracy: 0.7532 - lr: 2.6214e-04\n",
      "Epoch 48/70\n",
      "20/20 [==============================] - ETA: 0s - loss: 0.3253 - accuracy: 0.9952\n",
      "Epoch 00048: val_loss did not improve from 1.33570\n",
      "20/20 [==============================] - 2s 95ms/step - loss: 0.3253 - accuracy: 0.9952 - val_loss: 1.3995 - val_accuracy: 0.7403 - lr: 2.6214e-04\n",
      "Epoch 49/70\n",
      "20/20 [==============================] - ETA: 0s - loss: 0.3226 - accuracy: 0.9936\n",
      "Epoch 00049: val_loss did not improve from 1.33570\n",
      "20/20 [==============================] - 2s 94ms/step - loss: 0.3226 - accuracy: 0.9936 - val_loss: 1.4868 - val_accuracy: 0.7403 - lr: 2.6214e-04\n",
      "Epoch 50/70\n",
      "20/20 [==============================] - ETA: 0s - loss: 0.3110 - accuracy: 0.9968\n",
      "Epoch 00050: val_loss did not improve from 1.33570\n",
      "20/20 [==============================] - 2s 95ms/step - loss: 0.3110 - accuracy: 0.9968 - val_loss: 1.7004 - val_accuracy: 0.7403 - lr: 2.6214e-04\n",
      "Epoch 51/70\n",
      "20/20 [==============================] - ETA: 0s - loss: 0.3285 - accuracy: 0.9920\n",
      "Epoch 00051: val_loss did not improve from 1.33570\n",
      "\n",
      "Epoch 00051: ReduceLROnPlateau reducing learning rate to 0.00020971521735191345.\n",
      "20/20 [==============================] - 2s 98ms/step - loss: 0.3285 - accuracy: 0.9920 - val_loss: 1.6168 - val_accuracy: 0.7273 - lr: 2.6214e-04\n",
      "Epoch 00051: early stopping\n"
     ]
    }
   ],
   "source": [
    "model=premodel(pixels,1024,mhandle,15,\n",
    "               'softmax','sparse_categorical_crossentropy')\n",
    "history=model.fit(x=x_train,y=y_train,batch_size=32,\n",
    "                  epochs=70,callbacks=cb(fw),\n",
    "                  validation_data=(x_valid,y_valid))"
   ]
  },
  {
   "cell_type": "code",
   "execution_count": 11,
   "metadata": {},
   "outputs": [
    {
     "name": "stdout",
     "output_type": "stream",
     "text": [
      "3/3 [==============================] - 0s 20ms/step - loss: 1.9695 - accuracy: 0.6883\n"
     ]
    },
    {
     "data": {
      "text/plain": [
       "[1.9695203304290771, 0.6883116960525513]"
      ]
     },
     "execution_count": 11,
     "metadata": {},
     "output_type": "execute_result"
    }
   ],
   "source": [
    "model.load_weights(fw)\n",
    "model.evaluate(x_test,y_test)"
   ]
  },
  {
   "cell_type": "code",
   "execution_count": 12,
   "metadata": {},
   "outputs": [],
   "source": [
    "[handle_base,pixels]=[\"mobilenet_v2_100_160\",160]\n",
    "mhandle=\"https://tfhub.dev/google/imagenet/{}/classification/4\"\\\n",
    ".format(handle_base)"
   ]
  },
  {
   "cell_type": "code",
   "execution_count": 13,
   "metadata": {
    "_kg_hide-output": true
   },
   "outputs": [
    {
     "name": "stdout",
     "output_type": "stream",
     "text": [
      "Model: \"sequential_1\"\n",
      "_________________________________________________________________\n",
      "Layer (type)                 Output Shape              Param #   \n",
      "=================================================================\n",
      "keras_layer_1 (KerasLayer)   (None, 1001)              3540265   \n",
      "_________________________________________________________________\n",
      "flatten_1 (Flatten)          (None, 1001)              0         \n",
      "_________________________________________________________________\n",
      "dense_2 (Dense)              (None, 1024)              1026048   \n",
      "_________________________________________________________________\n",
      "dropout_1 (Dropout)          (None, 1024)              0         \n",
      "_________________________________________________________________\n",
      "dense_3 (Dense)              (None, 15)                15375     \n",
      "=================================================================\n",
      "Total params: 4,581,688\n",
      "Trainable params: 4,547,576\n",
      "Non-trainable params: 34,112\n",
      "_________________________________________________________________\n"
     ]
    },
    {
     "data": {
      "text/plain": [
       "None"
      ]
     },
     "metadata": {},
     "output_type": "display_data"
    },
    {
     "name": "stdout",
     "output_type": "stream",
     "text": [
      "Epoch 1/70\n",
      "20/20 [==============================] - ETA: 0s - loss: 2.2770 - accuracy: 0.4164\n",
      "Epoch 00001: val_loss improved from inf to 9.88961, saving model to weights.best.hdf5\n",
      "20/20 [==============================] - 3s 172ms/step - loss: 2.2770 - accuracy: 0.4164 - val_loss: 9.8896 - val_accuracy: 0.3117 - lr: 0.0010\n",
      "Epoch 2/70\n",
      "20/20 [==============================] - ETA: 0s - loss: 1.1169 - accuracy: 0.7170\n",
      "Epoch 00002: val_loss did not improve from 9.88961\n",
      "20/20 [==============================] - 2s 88ms/step - loss: 1.1169 - accuracy: 0.7170 - val_loss: 12.4484 - val_accuracy: 0.2727 - lr: 0.0010\n",
      "Epoch 3/70\n",
      "19/20 [===========================>..] - ETA: 0s - loss: 1.0816 - accuracy: 0.7516\n",
      "Epoch 00003: val_loss did not improve from 9.88961\n",
      "20/20 [==============================] - 2s 87ms/step - loss: 1.0799 - accuracy: 0.7492 - val_loss: 11.7061 - val_accuracy: 0.3247 - lr: 0.0010\n",
      "Epoch 4/70\n",
      "19/20 [===========================>..] - ETA: 0s - loss: 0.7968 - accuracy: 0.8405\n",
      "Epoch 00004: val_loss did not improve from 9.88961\n",
      "20/20 [==============================] - 2s 86ms/step - loss: 0.7931 - accuracy: 0.8408 - val_loss: 10.2553 - val_accuracy: 0.3766 - lr: 0.0010\n",
      "Epoch 5/70\n",
      "19/20 [===========================>..] - ETA: 0s - loss: 1.0414 - accuracy: 0.7895\n",
      "Epoch 00005: val_loss improved from 9.88961 to 5.49163, saving model to weights.best.hdf5\n",
      "20/20 [==============================] - 2s 114ms/step - loss: 1.0566 - accuracy: 0.7846 - val_loss: 5.4916 - val_accuracy: 0.4675 - lr: 0.0010\n",
      "Epoch 6/70\n",
      "20/20 [==============================] - ETA: 0s - loss: 1.4151 - accuracy: 0.7669\n",
      "Epoch 00006: val_loss did not improve from 5.49163\n",
      "20/20 [==============================] - 2s 89ms/step - loss: 1.4151 - accuracy: 0.7669 - val_loss: 13.2698 - val_accuracy: 0.4416 - lr: 0.0010\n",
      "Epoch 7/70\n",
      "19/20 [===========================>..] - ETA: 0s - loss: 1.0001 - accuracy: 0.7895\n",
      "Epoch 00007: val_loss did not improve from 5.49163\n",
      "20/20 [==============================] - 2s 87ms/step - loss: 0.9933 - accuracy: 0.7862 - val_loss: 17.6861 - val_accuracy: 0.3766 - lr: 0.0010\n",
      "Epoch 8/70\n",
      "19/20 [===========================>..] - ETA: 0s - loss: 1.0318 - accuracy: 0.8224\n",
      "Epoch 00008: val_loss did not improve from 5.49163\n",
      "20/20 [==============================] - 2s 89ms/step - loss: 1.0322 - accuracy: 0.8215 - val_loss: 6.8284 - val_accuracy: 0.4286 - lr: 0.0010\n",
      "Epoch 9/70\n",
      "20/20 [==============================] - ETA: 0s - loss: 1.0474 - accuracy: 0.8167\n",
      "Epoch 00009: val_loss improved from 5.49163 to 5.29372, saving model to weights.best.hdf5\n",
      "20/20 [==============================] - 3s 127ms/step - loss: 1.0474 - accuracy: 0.8167 - val_loss: 5.2937 - val_accuracy: 0.4805 - lr: 0.0010\n",
      "Epoch 10/70\n",
      "20/20 [==============================] - ETA: 0s - loss: 1.1930 - accuracy: 0.8039\n",
      "Epoch 00010: val_loss did not improve from 5.29372\n",
      "20/20 [==============================] - 2s 90ms/step - loss: 1.1930 - accuracy: 0.8039 - val_loss: 21.6597 - val_accuracy: 0.3117 - lr: 0.0010\n",
      "Epoch 11/70\n",
      "19/20 [===========================>..] - ETA: 0s - loss: 1.2328 - accuracy: 0.8043\n",
      "Epoch 00011: val_loss did not improve from 5.29372\n",
      "20/20 [==============================] - 2s 87ms/step - loss: 1.2267 - accuracy: 0.8006 - val_loss: 12.6501 - val_accuracy: 0.4026 - lr: 0.0010\n",
      "Epoch 12/70\n",
      "19/20 [===========================>..] - ETA: 0s - loss: 0.8039 - accuracy: 0.8503\n",
      "Epoch 00012: val_loss improved from 5.29372 to 4.74009, saving model to weights.best.hdf5\n",
      "20/20 [==============================] - 2s 114ms/step - loss: 0.8344 - accuracy: 0.8457 - val_loss: 4.7401 - val_accuracy: 0.5325 - lr: 0.0010\n",
      "Epoch 13/70\n",
      "19/20 [===========================>..] - ETA: 0s - loss: 0.5821 - accuracy: 0.8882\n",
      "Epoch 00013: val_loss improved from 4.74009 to 4.14116, saving model to weights.best.hdf5\n",
      "20/20 [==============================] - 2s 113ms/step - loss: 0.5889 - accuracy: 0.8859 - val_loss: 4.1412 - val_accuracy: 0.6234 - lr: 0.0010\n",
      "Epoch 14/70\n",
      "19/20 [===========================>..] - ETA: 0s - loss: 0.4160 - accuracy: 0.9441\n",
      "Epoch 00014: val_loss did not improve from 4.14116\n",
      "20/20 [==============================] - 2s 87ms/step - loss: 0.4245 - accuracy: 0.9389 - val_loss: 4.6412 - val_accuracy: 0.6104 - lr: 0.0010\n",
      "Epoch 15/70\n",
      "20/20 [==============================] - ETA: 0s - loss: 0.3897 - accuracy: 0.9373\n",
      "Epoch 00015: val_loss improved from 4.14116 to 3.45462, saving model to weights.best.hdf5\n",
      "20/20 [==============================] - 2s 121ms/step - loss: 0.3897 - accuracy: 0.9373 - val_loss: 3.4546 - val_accuracy: 0.6364 - lr: 0.0010\n",
      "Epoch 16/70\n",
      "20/20 [==============================] - ETA: 0s - loss: 0.4089 - accuracy: 0.9421\n",
      "Epoch 00016: val_loss improved from 3.45462 to 3.11351, saving model to weights.best.hdf5\n",
      "20/20 [==============================] - 2s 113ms/step - loss: 0.4089 - accuracy: 0.9421 - val_loss: 3.1135 - val_accuracy: 0.6494 - lr: 0.0010\n",
      "Epoch 17/70\n",
      "19/20 [===========================>..] - ETA: 0s - loss: 0.3487 - accuracy: 0.9408\n",
      "Epoch 00017: val_loss improved from 3.11351 to 2.56663, saving model to weights.best.hdf5\n",
      "20/20 [==============================] - 2s 111ms/step - loss: 0.3448 - accuracy: 0.9421 - val_loss: 2.5666 - val_accuracy: 0.7403 - lr: 0.0010\n",
      "Epoch 18/70\n",
      "19/20 [===========================>..] - ETA: 0s - loss: 0.3555 - accuracy: 0.9556\n",
      "Epoch 00018: val_loss did not improve from 2.56663\n",
      "20/20 [==============================] - 2s 87ms/step - loss: 0.3881 - accuracy: 0.9486 - val_loss: 5.8741 - val_accuracy: 0.5844 - lr: 0.0010\n",
      "Epoch 19/70\n",
      "19/20 [===========================>..] - ETA: 0s - loss: 0.6027 - accuracy: 0.8898\n",
      "Epoch 00019: val_loss did not improve from 2.56663\n",
      "20/20 [==============================] - 2s 88ms/step - loss: 0.6075 - accuracy: 0.8875 - val_loss: 3.4881 - val_accuracy: 0.6623 - lr: 0.0010\n",
      "Epoch 20/70\n",
      "19/20 [===========================>..] - ETA: 0s - loss: 0.5885 - accuracy: 0.8980\n",
      "Epoch 00020: val_loss did not improve from 2.56663\n",
      "20/20 [==============================] - 2s 88ms/step - loss: 0.5912 - accuracy: 0.8971 - val_loss: 3.8077 - val_accuracy: 0.5455 - lr: 0.0010\n",
      "Epoch 21/70\n",
      "19/20 [===========================>..] - ETA: 0s - loss: 0.4884 - accuracy: 0.9095\n",
      "Epoch 00021: val_loss did not improve from 2.56663\n",
      "20/20 [==============================] - 2s 87ms/step - loss: 0.4880 - accuracy: 0.9084 - val_loss: 5.1605 - val_accuracy: 0.5844 - lr: 0.0010\n",
      "Epoch 22/70\n",
      "20/20 [==============================] - ETA: 0s - loss: 0.5837 - accuracy: 0.9100\n",
      "Epoch 00022: val_loss did not improve from 2.56663\n",
      "\n",
      "Epoch 00022: ReduceLROnPlateau reducing learning rate to 0.000800000037997961.\n",
      "20/20 [==============================] - 2s 88ms/step - loss: 0.5837 - accuracy: 0.9100 - val_loss: 6.2834 - val_accuracy: 0.5714 - lr: 0.0010\n",
      "Epoch 23/70\n",
      "19/20 [===========================>..] - ETA: 0s - loss: 0.3943 - accuracy: 0.9408\n",
      "Epoch 00023: val_loss did not improve from 2.56663\n",
      "20/20 [==============================] - 2s 86ms/step - loss: 0.3939 - accuracy: 0.9405 - val_loss: 4.2839 - val_accuracy: 0.6753 - lr: 8.0000e-04\n",
      "Epoch 24/70\n",
      "19/20 [===========================>..] - ETA: 0s - loss: 0.3680 - accuracy: 0.9556\n",
      "Epoch 00024: val_loss did not improve from 2.56663\n",
      "20/20 [==============================] - 2s 87ms/step - loss: 0.3751 - accuracy: 0.9534 - val_loss: 3.4257 - val_accuracy: 0.6753 - lr: 8.0000e-04\n",
      "Epoch 25/70\n",
      "19/20 [===========================>..] - ETA: 0s - loss: 0.2608 - accuracy: 0.9770\n",
      "Epoch 00025: val_loss improved from 2.56663 to 2.33290, saving model to weights.best.hdf5\n",
      "20/20 [==============================] - 2s 112ms/step - loss: 0.2582 - accuracy: 0.9775 - val_loss: 2.3329 - val_accuracy: 0.7013 - lr: 8.0000e-04\n",
      "Epoch 26/70\n",
      "20/20 [==============================] - ETA: 0s - loss: 0.3115 - accuracy: 0.9614\n",
      "Epoch 00026: val_loss improved from 2.33290 to 2.25410, saving model to weights.best.hdf5\n",
      "20/20 [==============================] - 2s 116ms/step - loss: 0.3115 - accuracy: 0.9614 - val_loss: 2.2541 - val_accuracy: 0.7013 - lr: 8.0000e-04\n",
      "Epoch 27/70\n",
      "19/20 [===========================>..] - ETA: 0s - loss: 0.2691 - accuracy: 0.9605\n",
      "Epoch 00027: val_loss improved from 2.25410 to 1.66664, saving model to weights.best.hdf5\n",
      "20/20 [==============================] - 2s 118ms/step - loss: 0.2661 - accuracy: 0.9614 - val_loss: 1.6666 - val_accuracy: 0.7532 - lr: 8.0000e-04\n",
      "Epoch 28/70\n",
      "20/20 [==============================] - ETA: 0s - loss: 0.2412 - accuracy: 0.9711\n",
      "Epoch 00028: val_loss improved from 1.66664 to 1.63954, saving model to weights.best.hdf5\n",
      "20/20 [==============================] - 2s 111ms/step - loss: 0.2412 - accuracy: 0.9711 - val_loss: 1.6395 - val_accuracy: 0.7922 - lr: 8.0000e-04\n",
      "Epoch 29/70\n",
      "19/20 [===========================>..] - ETA: 0s - loss: 0.1948 - accuracy: 0.9753\n",
      "Epoch 00029: val_loss improved from 1.63954 to 0.90048, saving model to weights.best.hdf5\n",
      "20/20 [==============================] - 2s 111ms/step - loss: 0.1938 - accuracy: 0.9759 - val_loss: 0.9005 - val_accuracy: 0.7922 - lr: 8.0000e-04\n",
      "Epoch 30/70\n",
      "19/20 [===========================>..] - ETA: 0s - loss: 0.3047 - accuracy: 0.9688\n",
      "Epoch 00030: val_loss did not improve from 0.90048\n",
      "20/20 [==============================] - 2s 86ms/step - loss: 0.3220 - accuracy: 0.9662 - val_loss: 1.7880 - val_accuracy: 0.6623 - lr: 8.0000e-04\n",
      "Epoch 31/70\n",
      "20/20 [==============================] - ETA: 0s - loss: 0.2758 - accuracy: 0.9598\n",
      "Epoch 00031: val_loss did not improve from 0.90048\n",
      "20/20 [==============================] - 2s 90ms/step - loss: 0.2758 - accuracy: 0.9598 - val_loss: 1.0489 - val_accuracy: 0.7403 - lr: 8.0000e-04\n",
      "Epoch 32/70\n",
      "19/20 [===========================>..] - ETA: 0s - loss: 0.2775 - accuracy: 0.9572\n",
      "Epoch 00032: val_loss did not improve from 0.90048\n",
      "20/20 [==============================] - 2s 87ms/step - loss: 0.2760 - accuracy: 0.9582 - val_loss: 0.9863 - val_accuracy: 0.7922 - lr: 8.0000e-04\n",
      "Epoch 33/70\n",
      "19/20 [===========================>..] - ETA: 0s - loss: 0.2073 - accuracy: 0.9852\n",
      "Epoch 00033: val_loss did not improve from 0.90048\n",
      "20/20 [==============================] - 2s 88ms/step - loss: 0.2080 - accuracy: 0.9839 - val_loss: 1.1444 - val_accuracy: 0.7662 - lr: 8.0000e-04\n",
      "Epoch 34/70\n",
      "19/20 [===========================>..] - ETA: 0s - loss: 0.2228 - accuracy: 0.9770\n",
      "Epoch 00034: val_loss did not improve from 0.90048\n",
      "\n",
      "Epoch 00034: ReduceLROnPlateau reducing learning rate to 0.0006400000303983689.\n",
      "20/20 [==============================] - 2s 88ms/step - loss: 0.2215 - accuracy: 0.9775 - val_loss: 1.0076 - val_accuracy: 0.7922 - lr: 8.0000e-04\n",
      "Epoch 35/70\n",
      "20/20 [==============================] - ETA: 0s - loss: 0.1779 - accuracy: 0.9904\n",
      "Epoch 00035: val_loss did not improve from 0.90048\n",
      "20/20 [==============================] - 2s 88ms/step - loss: 0.1779 - accuracy: 0.9904 - val_loss: 1.1889 - val_accuracy: 0.7922 - lr: 6.4000e-04\n",
      "Epoch 36/70\n",
      "19/20 [===========================>..] - ETA: 0s - loss: 0.1541 - accuracy: 0.9918\n",
      "Epoch 00036: val_loss did not improve from 0.90048\n",
      "20/20 [==============================] - 2s 85ms/step - loss: 0.1537 - accuracy: 0.9920 - val_loss: 1.3598 - val_accuracy: 0.7662 - lr: 6.4000e-04\n",
      "Epoch 37/70\n",
      "20/20 [==============================] - ETA: 0s - loss: 0.2128 - accuracy: 0.9871\n",
      "Epoch 00037: val_loss did not improve from 0.90048\n",
      "20/20 [==============================] - 2s 88ms/step - loss: 0.2128 - accuracy: 0.9871 - val_loss: 1.2636 - val_accuracy: 0.7922 - lr: 6.4000e-04\n",
      "Epoch 38/70\n",
      "19/20 [===========================>..] - ETA: 0s - loss: 0.1574 - accuracy: 0.9951\n",
      "Epoch 00038: val_loss did not improve from 0.90048\n",
      "20/20 [==============================] - 2s 88ms/step - loss: 0.1795 - accuracy: 0.9904 - val_loss: 1.1487 - val_accuracy: 0.7922 - lr: 6.4000e-04\n",
      "Epoch 39/70\n",
      "19/20 [===========================>..] - ETA: 0s - loss: 0.2093 - accuracy: 0.9819\n",
      "Epoch 00039: val_loss did not improve from 0.90048\n",
      "\n",
      "Epoch 00039: ReduceLROnPlateau reducing learning rate to 0.0005120000336319208.\n",
      "20/20 [==============================] - 2s 94ms/step - loss: 0.2077 - accuracy: 0.9823 - val_loss: 1.1676 - val_accuracy: 0.7922 - lr: 6.4000e-04\n",
      "Epoch 40/70\n",
      "19/20 [===========================>..] - ETA: 0s - loss: 0.2326 - accuracy: 0.9786\n",
      "Epoch 00040: val_loss did not improve from 0.90048\n",
      "20/20 [==============================] - 2s 90ms/step - loss: 0.2304 - accuracy: 0.9791 - val_loss: 0.9259 - val_accuracy: 0.8442 - lr: 5.1200e-04\n",
      "Epoch 41/70\n",
      "19/20 [===========================>..] - ETA: 0s - loss: 0.2656 - accuracy: 0.9770\n",
      "Epoch 00041: val_loss did not improve from 0.90048\n",
      "20/20 [==============================] - 2s 88ms/step - loss: 0.2629 - accuracy: 0.9775 - val_loss: 0.9664 - val_accuracy: 0.8442 - lr: 5.1200e-04\n",
      "Epoch 42/70\n",
      "19/20 [===========================>..] - ETA: 0s - loss: 0.1898 - accuracy: 0.9836\n",
      "Epoch 00042: val_loss did not improve from 0.90048\n",
      "20/20 [==============================] - 2s 88ms/step - loss: 0.1888 - accuracy: 0.9839 - val_loss: 0.9855 - val_accuracy: 0.8442 - lr: 5.1200e-04\n",
      "Epoch 43/70\n",
      "19/20 [===========================>..] - ETA: 0s - loss: 0.1752 - accuracy: 0.9901\n",
      "Epoch 00043: val_loss did not improve from 0.90048\n",
      "20/20 [==============================] - 2s 90ms/step - loss: 0.1792 - accuracy: 0.9871 - val_loss: 1.0580 - val_accuracy: 0.8312 - lr: 5.1200e-04\n",
      "Epoch 44/70\n",
      "20/20 [==============================] - ETA: 0s - loss: 0.1744 - accuracy: 0.9904\n",
      "Epoch 00044: val_loss did not improve from 0.90048\n",
      "\n",
      "Epoch 00044: ReduceLROnPlateau reducing learning rate to 0.00040960004553198815.\n",
      "20/20 [==============================] - 2s 89ms/step - loss: 0.1744 - accuracy: 0.9904 - val_loss: 1.3678 - val_accuracy: 0.7922 - lr: 5.1200e-04\n",
      "Epoch 45/70\n",
      "20/20 [==============================] - ETA: 0s - loss: 0.1876 - accuracy: 0.9871\n",
      "Epoch 00045: val_loss did not improve from 0.90048\n",
      "20/20 [==============================] - 2s 87ms/step - loss: 0.1876 - accuracy: 0.9871 - val_loss: 1.1689 - val_accuracy: 0.8052 - lr: 4.0960e-04\n",
      "Epoch 46/70\n",
      "19/20 [===========================>..] - ETA: 0s - loss: 0.1835 - accuracy: 0.9852\n",
      "Epoch 00046: val_loss did not improve from 0.90048\n",
      "20/20 [==============================] - 2s 87ms/step - loss: 0.1835 - accuracy: 0.9855 - val_loss: 1.2378 - val_accuracy: 0.7922 - lr: 4.0960e-04\n",
      "Epoch 47/70\n",
      "19/20 [===========================>..] - ETA: 0s - loss: 0.1507 - accuracy: 0.9967\n",
      "Epoch 00047: val_loss did not improve from 0.90048\n",
      "20/20 [==============================] - 2s 87ms/step - loss: 0.1511 - accuracy: 0.9968 - val_loss: 1.5583 - val_accuracy: 0.8052 - lr: 4.0960e-04\n",
      "Epoch 48/70\n",
      "19/20 [===========================>..] - ETA: 0s - loss: 0.1953 - accuracy: 0.9901\n",
      "Epoch 00048: val_loss did not improve from 0.90048\n",
      "20/20 [==============================] - 2s 85ms/step - loss: 0.1939 - accuracy: 0.9904 - val_loss: 1.2631 - val_accuracy: 0.8312 - lr: 4.0960e-04\n",
      "Epoch 49/70\n",
      "19/20 [===========================>..] - ETA: 0s - loss: 0.1591 - accuracy: 0.9967\n",
      "Epoch 00049: val_loss did not improve from 0.90048\n",
      "\n",
      "Epoch 00049: ReduceLROnPlateau reducing learning rate to 0.00032768002711236477.\n",
      "20/20 [==============================] - 2s 88ms/step - loss: 0.1762 - accuracy: 0.9920 - val_loss: 1.2080 - val_accuracy: 0.8312 - lr: 4.0960e-04\n",
      "Epoch 00049: early stopping\n"
     ]
    }
   ],
   "source": [
    "model=premodel(pixels,1024,mhandle,15,\n",
    "               'softmax','sparse_categorical_crossentropy')\n",
    "history=model.fit(x=x_train,y=y_train,batch_size=32,\n",
    "                  epochs=70,callbacks=cb(fw),\n",
    "                  validation_data=(x_valid,y_valid))"
   ]
  },
  {
   "cell_type": "code",
   "execution_count": 14,
   "metadata": {},
   "outputs": [
    {
     "name": "stdout",
     "output_type": "stream",
     "text": [
      "3/3 [==============================] - 0s 9ms/step - loss: 1.5742 - accuracy: 0.7273\n"
     ]
    },
    {
     "data": {
      "text/plain": [
       "[1.5742274522781372, 0.7272727489471436]"
      ]
     },
     "execution_count": 14,
     "metadata": {},
     "output_type": "execute_result"
    }
   ],
   "source": [
    "model.load_weights(fw)\n",
    "model.evaluate(x_test,y_test)"
   ]
  },
  {
   "cell_type": "code",
   "execution_count": 15,
   "metadata": {},
   "outputs": [],
   "source": [
    "batch_size=64; img_size=x_train.shape[1]; epochs=30\n",
    "base_model=tf.keras.Sequential([\n",
    "    tf.keras.Input((img_size,img_size,3),name='input'),\n",
    "    tf.keras.layers.Conv2D(32,(5,5),padding='same'),\n",
    "    tf.keras.layers.Activation('relu'),\n",
    "    tf.keras.layers.MaxPooling2D(pool_size=(2,2)),\n",
    "    tf.keras.layers.Dropout(.25),\n",
    "    tf.keras.layers.Conv2D(196,(5,5)),\n",
    "    tf.keras.layers.Activation('relu'),    \n",
    "    tf.keras.layers.MaxPooling2D(pool_size=(2,2)),\n",
    "    tf.keras.layers.Dropout(.25),\n",
    "    tf.keras.layers.GlobalMaxPooling2D(),    \n",
    "    tf.keras.layers.Dense(512),\n",
    "    tf.keras.layers.Activation('relu'),\n",
    "    tf.keras.layers.Dropout(.25),\n",
    "    tf.keras.layers.Dense(128),\n",
    "    tf.keras.layers.Activation('relu'),\n",
    "    tf.keras.layers.Dropout(.25),\n",
    "    tf.keras.layers.Dense(15,activation='softmax')\n",
    "])\n",
    "adv_config=nsl.configs\\\n",
    ".make_adv_reg_config(multiplier=.2,adv_step_size=.05)\n",
    "adv_model=nsl.keras\\\n",
    ".AdversarialRegularization(base_model,adv_config=adv_config)\n",
    "adv_model.compile(optimizer='adam',\n",
    "                  loss='sparse_categorical_crossentropy',\n",
    "                  metrics=['accuracy'])"
   ]
  },
  {
   "cell_type": "code",
   "execution_count": 16,
   "metadata": {
    "_kg_hide-output": true
   },
   "outputs": [
    {
     "name": "stdout",
     "output_type": "stream",
     "text": [
      "Epoch 1/30\n",
      "10/10 - 2s - loss: 3.2608 - sparse_categorical_crossentropy: 2.7150 - sparse_categorical_accuracy: 0.0836 - scaled_adversarial_loss: 0.5458 - val_loss: 3.2250 - val_sparse_categorical_crossentropy: 2.6871 - val_sparse_categorical_accuracy: 0.0625 - val_scaled_adversarial_loss: 0.5379\n",
      "Epoch 2/30\n",
      "10/10 - 1s - loss: 3.1183 - sparse_categorical_crossentropy: 2.5997 - sparse_categorical_accuracy: 0.1592 - scaled_adversarial_loss: 0.5186 - val_loss: 3.0784 - val_sparse_categorical_crossentropy: 2.5648 - val_sparse_categorical_accuracy: 0.1250 - val_scaled_adversarial_loss: 0.5136\n",
      "Epoch 3/30\n",
      "10/10 - 1s - loss: 2.8154 - sparse_categorical_crossentropy: 2.3458 - sparse_categorical_accuracy: 0.1945 - scaled_adversarial_loss: 0.4696 - val_loss: 2.7053 - val_sparse_categorical_crossentropy: 2.2531 - val_sparse_categorical_accuracy: 0.2500 - val_scaled_adversarial_loss: 0.4522\n",
      "Epoch 4/30\n",
      "10/10 - 1s - loss: 2.5396 - sparse_categorical_crossentropy: 2.1174 - sparse_categorical_accuracy: 0.2299 - scaled_adversarial_loss: 0.4222 - val_loss: 2.4942 - val_sparse_categorical_crossentropy: 2.0768 - val_sparse_categorical_accuracy: 0.3125 - val_scaled_adversarial_loss: 0.4174\n",
      "Epoch 5/30\n",
      "10/10 - 1s - loss: 2.4129 - sparse_categorical_crossentropy: 2.0125 - sparse_categorical_accuracy: 0.2363 - scaled_adversarial_loss: 0.4003 - val_loss: 2.3871 - val_sparse_categorical_crossentropy: 1.9873 - val_sparse_categorical_accuracy: 0.3281 - val_scaled_adversarial_loss: 0.3998\n",
      "Epoch 6/30\n",
      "10/10 - 1s - loss: 2.2888 - sparse_categorical_crossentropy: 1.9057 - sparse_categorical_accuracy: 0.2781 - scaled_adversarial_loss: 0.3832 - val_loss: 2.3303 - val_sparse_categorical_crossentropy: 1.9398 - val_sparse_categorical_accuracy: 0.3281 - val_scaled_adversarial_loss: 0.3905\n",
      "Epoch 7/30\n",
      "10/10 - 1s - loss: 2.2236 - sparse_categorical_crossentropy: 1.8484 - sparse_categorical_accuracy: 0.2926 - scaled_adversarial_loss: 0.3752 - val_loss: 2.2347 - val_sparse_categorical_crossentropy: 1.8598 - val_sparse_categorical_accuracy: 0.3125 - val_scaled_adversarial_loss: 0.3749\n",
      "Epoch 8/30\n",
      "10/10 - 1s - loss: 2.1419 - sparse_categorical_crossentropy: 1.7831 - sparse_categorical_accuracy: 0.3264 - scaled_adversarial_loss: 0.3589 - val_loss: 2.1481 - val_sparse_categorical_crossentropy: 1.7873 - val_sparse_categorical_accuracy: 0.3906 - val_scaled_adversarial_loss: 0.3607\n",
      "Epoch 9/30\n",
      "10/10 - 1s - loss: 2.1087 - sparse_categorical_crossentropy: 1.7616 - sparse_categorical_accuracy: 0.3151 - scaled_adversarial_loss: 0.3471 - val_loss: 2.0833 - val_sparse_categorical_crossentropy: 1.7334 - val_sparse_categorical_accuracy: 0.4219 - val_scaled_adversarial_loss: 0.3499\n",
      "Epoch 10/30\n",
      "10/10 - 1s - loss: 2.0034 - sparse_categorical_crossentropy: 1.6622 - sparse_categorical_accuracy: 0.3923 - scaled_adversarial_loss: 0.3412 - val_loss: 2.0436 - val_sparse_categorical_crossentropy: 1.7001 - val_sparse_categorical_accuracy: 0.4062 - val_scaled_adversarial_loss: 0.3435\n",
      "Epoch 11/30\n",
      "10/10 - 1s - loss: 1.9626 - sparse_categorical_crossentropy: 1.6357 - sparse_categorical_accuracy: 0.3714 - scaled_adversarial_loss: 0.3269 - val_loss: 1.9408 - val_sparse_categorical_crossentropy: 1.6141 - val_sparse_categorical_accuracy: 0.4219 - val_scaled_adversarial_loss: 0.3267\n",
      "Epoch 12/30\n",
      "10/10 - 1s - loss: 1.9326 - sparse_categorical_crossentropy: 1.6096 - sparse_categorical_accuracy: 0.3859 - scaled_adversarial_loss: 0.3231 - val_loss: 1.9319 - val_sparse_categorical_crossentropy: 1.6065 - val_sparse_categorical_accuracy: 0.4062 - val_scaled_adversarial_loss: 0.3254\n",
      "Epoch 13/30\n",
      "10/10 - 1s - loss: 1.8442 - sparse_categorical_crossentropy: 1.5354 - sparse_categorical_accuracy: 0.4260 - scaled_adversarial_loss: 0.3087 - val_loss: 1.8601 - val_sparse_categorical_crossentropy: 1.5463 - val_sparse_categorical_accuracy: 0.4531 - val_scaled_adversarial_loss: 0.3138\n",
      "Epoch 14/30\n",
      "10/10 - 1s - loss: 1.8014 - sparse_categorical_crossentropy: 1.5024 - sparse_categorical_accuracy: 0.4646 - scaled_adversarial_loss: 0.2990 - val_loss: 1.8761 - val_sparse_categorical_crossentropy: 1.5595 - val_sparse_categorical_accuracy: 0.3906 - val_scaled_adversarial_loss: 0.3165\n",
      "Epoch 15/30\n",
      "10/10 - 1s - loss: 1.7503 - sparse_categorical_crossentropy: 1.4563 - sparse_categorical_accuracy: 0.4582 - scaled_adversarial_loss: 0.2939 - val_loss: 1.7639 - val_sparse_categorical_crossentropy: 1.4656 - val_sparse_categorical_accuracy: 0.5625 - val_scaled_adversarial_loss: 0.2983\n",
      "Epoch 16/30\n",
      "10/10 - 1s - loss: 1.7891 - sparse_categorical_crossentropy: 1.4975 - sparse_categorical_accuracy: 0.4260 - scaled_adversarial_loss: 0.2916 - val_loss: 1.8248 - val_sparse_categorical_crossentropy: 1.5165 - val_sparse_categorical_accuracy: 0.4375 - val_scaled_adversarial_loss: 0.3083\n",
      "Epoch 17/30\n",
      "10/10 - 1s - loss: 1.6305 - sparse_categorical_crossentropy: 1.3554 - sparse_categorical_accuracy: 0.5080 - scaled_adversarial_loss: 0.2751 - val_loss: 1.7498 - val_sparse_categorical_crossentropy: 1.4536 - val_sparse_categorical_accuracy: 0.5938 - val_scaled_adversarial_loss: 0.2962\n",
      "Epoch 18/30\n",
      "10/10 - 1s - loss: 1.6136 - sparse_categorical_crossentropy: 1.3409 - sparse_categorical_accuracy: 0.4791 - scaled_adversarial_loss: 0.2726 - val_loss: 1.7006 - val_sparse_categorical_crossentropy: 1.4124 - val_sparse_categorical_accuracy: 0.5000 - val_scaled_adversarial_loss: 0.2882\n",
      "Epoch 19/30\n",
      "10/10 - 1s - loss: 1.5986 - sparse_categorical_crossentropy: 1.3347 - sparse_categorical_accuracy: 0.4871 - scaled_adversarial_loss: 0.2639 - val_loss: 1.6879 - val_sparse_categorical_crossentropy: 1.4016 - val_sparse_categorical_accuracy: 0.5625 - val_scaled_adversarial_loss: 0.2863\n",
      "Epoch 20/30\n",
      "10/10 - 1s - loss: 1.5862 - sparse_categorical_crossentropy: 1.3174 - sparse_categorical_accuracy: 0.5129 - scaled_adversarial_loss: 0.2687 - val_loss: 1.7410 - val_sparse_categorical_crossentropy: 1.4457 - val_sparse_categorical_accuracy: 0.5000 - val_scaled_adversarial_loss: 0.2953\n",
      "Epoch 21/30\n",
      "10/10 - 1s - loss: 1.5163 - sparse_categorical_crossentropy: 1.2591 - sparse_categorical_accuracy: 0.5370 - scaled_adversarial_loss: 0.2572 - val_loss: 1.7056 - val_sparse_categorical_crossentropy: 1.4160 - val_sparse_categorical_accuracy: 0.4844 - val_scaled_adversarial_loss: 0.2896\n",
      "Epoch 22/30\n",
      "10/10 - 1s - loss: 1.5365 - sparse_categorical_crossentropy: 1.2842 - sparse_categorical_accuracy: 0.4968 - scaled_adversarial_loss: 0.2524 - val_loss: 1.6381 - val_sparse_categorical_crossentropy: 1.3596 - val_sparse_categorical_accuracy: 0.5469 - val_scaled_adversarial_loss: 0.2786\n",
      "Epoch 23/30\n",
      "10/10 - 1s - loss: 1.5002 - sparse_categorical_crossentropy: 1.2525 - sparse_categorical_accuracy: 0.5016 - scaled_adversarial_loss: 0.2476 - val_loss: 1.7124 - val_sparse_categorical_crossentropy: 1.4216 - val_sparse_categorical_accuracy: 0.4531 - val_scaled_adversarial_loss: 0.2908\n",
      "Epoch 24/30\n",
      "10/10 - 1s - loss: 1.5210 - sparse_categorical_crossentropy: 1.2573 - sparse_categorical_accuracy: 0.5193 - scaled_adversarial_loss: 0.2637 - val_loss: 1.7372 - val_sparse_categorical_crossentropy: 1.4416 - val_sparse_categorical_accuracy: 0.5156 - val_scaled_adversarial_loss: 0.2956\n",
      "Epoch 25/30\n",
      "10/10 - 1s - loss: 1.5255 - sparse_categorical_crossentropy: 1.2672 - sparse_categorical_accuracy: 0.4920 - scaled_adversarial_loss: 0.2583 - val_loss: 1.7151 - val_sparse_categorical_crossentropy: 1.4233 - val_sparse_categorical_accuracy: 0.5312 - val_scaled_adversarial_loss: 0.2918\n",
      "Epoch 26/30\n",
      "10/10 - 1s - loss: 1.4895 - sparse_categorical_crossentropy: 1.2420 - sparse_categorical_accuracy: 0.5096 - scaled_adversarial_loss: 0.2475 - val_loss: 1.7436 - val_sparse_categorical_crossentropy: 1.4467 - val_sparse_categorical_accuracy: 0.5312 - val_scaled_adversarial_loss: 0.2968\n",
      "Epoch 27/30\n",
      "10/10 - 1s - loss: 1.4786 - sparse_categorical_crossentropy: 1.2312 - sparse_categorical_accuracy: 0.5241 - scaled_adversarial_loss: 0.2474 - val_loss: 1.6463 - val_sparse_categorical_crossentropy: 1.3656 - val_sparse_categorical_accuracy: 0.5156 - val_scaled_adversarial_loss: 0.2807\n",
      "Epoch 28/30\n",
      "10/10 - 1s - loss: 1.4194 - sparse_categorical_crossentropy: 1.1837 - sparse_categorical_accuracy: 0.5450 - scaled_adversarial_loss: 0.2357 - val_loss: 1.5914 - val_sparse_categorical_crossentropy: 1.3200 - val_sparse_categorical_accuracy: 0.5312 - val_scaled_adversarial_loss: 0.2714\n",
      "Epoch 29/30\n",
      "10/10 - 1s - loss: 1.3525 - sparse_categorical_crossentropy: 1.1201 - sparse_categorical_accuracy: 0.5772 - scaled_adversarial_loss: 0.2324 - val_loss: 1.5250 - val_sparse_categorical_crossentropy: 1.2650 - val_sparse_categorical_accuracy: 0.5938 - val_scaled_adversarial_loss: 0.2600\n",
      "Epoch 30/30\n",
      "10/10 - 1s - loss: 1.3189 - sparse_categorical_crossentropy: 1.0988 - sparse_categorical_accuracy: 0.5740 - scaled_adversarial_loss: 0.2201 - val_loss: 1.5980 - val_sparse_categorical_crossentropy: 1.3246 - val_sparse_categorical_accuracy: 0.4844 - val_scaled_adversarial_loss: 0.2734\n"
     ]
    },
    {
     "data": {
      "text/plain": [
       "<tensorflow.python.keras.callbacks.History at 0x7f6a040a3b10>"
      ]
     },
     "execution_count": 16,
     "metadata": {},
     "output_type": "execute_result"
    }
   ],
   "source": [
    "train=tf.data.Dataset.from_tensor_slices(\n",
    "    {'input':x_train,'label':y_train})\\\n",
    "     .batch(batch_size)\n",
    "valid=tf.data.Dataset.from_tensor_slices(\n",
    "    {'input':x_valid,'label':y_valid})\\\n",
    "     .batch(batch_size)\n",
    "valid_steps=x_valid.shape[0]//batch_size\n",
    "adv_model.fit(train,validation_data=valid,verbose=2,\n",
    "              validation_steps=valid_steps,epochs=epochs)"
   ]
  },
  {
   "cell_type": "code",
   "execution_count": 17,
   "metadata": {},
   "outputs": [
    {
     "name": "stdout",
     "output_type": "stream",
     "text": [
      "3/3 [==============================] - 0s 42ms/step - loss: 1.8773 - sparse_categorical_crossentropy: 1.5571 - sparse_categorical_accuracy: 0.4416 - scaled_adversarial_loss: 0.3202\n"
     ]
    },
    {
     "data": {
      "text/plain": [
       "[1.8772954940795898,\n",
       " 1.5570834875106812,\n",
       " 0.44155845046043396,\n",
       " 0.3202119767665863]"
      ]
     },
     "execution_count": 17,
     "metadata": {},
     "output_type": "execute_result"
    }
   ],
   "source": [
    "adv_model.evaluate({'input':x_test,'label':y_test})"
   ]
  }
 ],
 "metadata": {
  "kernelspec": {
   "display_name": "Python 3",
   "language": "python",
   "name": "python3"
  },
  "language_info": {
   "codemirror_mode": {
    "name": "ipython",
    "version": 3
   },
   "file_extension": ".py",
   "mimetype": "text/x-python",
   "name": "python",
   "nbconvert_exporter": "python",
   "pygments_lexer": "ipython3",
   "version": "3.7.6"
  }
 },
 "nbformat": 4,
 "nbformat_minor": 4
}
