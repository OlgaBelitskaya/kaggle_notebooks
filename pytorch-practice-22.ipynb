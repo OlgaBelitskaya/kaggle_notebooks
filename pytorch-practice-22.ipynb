{
 "cells": [
  {
   "cell_type": "code",
   "execution_count": 1,
   "metadata": {
    "_cell_guid": "b1076dfc-b9ad-4769-8c92-a6c4dae69d19",
    "_kg_hide-input": true,
    "_uuid": "8f2839f25d086af736a60e9eeb907d3b93b6e0e5"
   },
   "outputs": [],
   "source": [
    "from IPython.display import display,HTML\n",
    "def dhtml(str):\n",
    "    display(HTML(\"\"\"<style>\n",
    "    @import 'https://fonts.googleapis.com/css?family=Smokum&effect=3d';      \n",
    "    </style><h1 class='font-effect-3d' \n",
    "    style='font-family:Smokum; color:#ff5511; font-size:35px;'>\n",
    "    %s</h1>\"\"\"%str))"
   ]
  },
  {
   "cell_type": "markdown",
   "execution_count": null,
   "metadata": {},
   "source": [
    "[Google Colaboratory Version](https://colab.research.google.com/drive/1PxqVoIvUkv-bYDMTGtCNYNji3-ObqNWz)"
   ]
  },
  {
   "cell_type": "code",
   "execution_count": 2,
   "metadata": {
    "_kg_hide-input": true
   },
   "outputs": [
    {
     "data": {
      "text/html": [
       "<style>\n",
       "    @import 'https://fonts.googleapis.com/css?family=Smokum&effect=3d';      \n",
       "    </style><h1 class='font-effect-3d' \n",
       "    style='font-family:Smokum; color:#ff5511; font-size:35px;'>\n",
       "    Code Modules, Functions, & Classes</h1>"
      ],
      "text/plain": [
       "<IPython.core.display.HTML object>"
      ]
     },
     "metadata": {},
     "output_type": "display_data"
    }
   ],
   "source": [
    "dhtml('Code Modules, Functions, & Classes')"
   ]
  },
  {
   "cell_type": "code",
   "execution_count": 3,
   "metadata": {
    "_cell_guid": "79c7e3d0-c299-4dcb-8224-4455121ee9b0",
    "_uuid": "d629ff2d2480ee46fbb7e2d37f6b5fab8052498a"
   },
   "outputs": [],
   "source": [
    "import numpy as np,pandas as pd,pylab as pl\n",
    "import h5py,torch,time,copy,urllib,zipfile\n",
    "from torchvision.datasets import CIFAR10 as tcifar10\n",
    "from torchvision import transforms,utils,models\n",
    "from torch.utils.data import DataLoader as tdl\n",
    "from torch.utils.data import Dataset as tds\n",
    "from torch.utils.data.dataset import Subset\n",
    "import torch.nn.functional as tnnf\n",
    "import torch.nn as tnn\n",
    "import tensorflow.image as timage\n",
    "from IPython.core.magic import register_line_magic\n",
    "dev=torch.device(\"cuda:0\" \\\n",
    "if torch.cuda.is_available() else \"cpu\")"
   ]
  },
  {
   "cell_type": "code",
   "execution_count": 4,
   "metadata": {},
   "outputs": [],
   "source": [
    "class TData(tds):\n",
    "    def __init__(self,x,y):   \n",
    "        self.x=torch.tensor(x,dtype=torch.float32)\n",
    "        self.y=torch.tensor(y,dtype=torch.int32)\n",
    "    def __getitem__(self,index):\n",
    "        img,lbl=self.x[index],self.y[index]\n",
    "        return img,lbl\n",
    "    def __len__(self):\n",
    "        return self.y.shape[0]"
   ]
  },
  {
   "cell_type": "code",
   "execution_count": 5,
   "metadata": {
    "_kg_hide-input": true
   },
   "outputs": [],
   "source": [
    "@register_line_magic\n",
    "def display_examples(d):\n",
    "    if d=='1': loaders=dataloaders\n",
    "    if d=='2': loaders=dataloaders2\n",
    "    for images,labels in loaders['valid']:  \n",
    "        print('Image dimensions: %s'%str(images.shape))\n",
    "        print('Label dimensions: %s'%str(labels.shape))\n",
    "        n=np.random.randint(1,50)\n",
    "        images=np.transpose(images,(0,2,3,1))/2.+.5\n",
    "        fig=pl.figure(figsize=(10,4))\n",
    "        for i in range(n,n+5):\n",
    "            ax=fig.add_subplot(1,5,i-n+1,\\\n",
    "            xticks=[],yticks=[],title=labels[i].item())\n",
    "            ax.imshow((images[i]).reshape(img_size,img_size,3))\n",
    "        break"
   ]
  },
  {
   "cell_type": "code",
   "execution_count": 6,
   "metadata": {
    "_kg_hide-input": true
   },
   "outputs": [],
   "source": [
    "def model_acc(model,data_loader):\n",
    "    correct_preds,num_examples=0,0    \n",
    "    for features,targets in data_loader:\n",
    "        features=features.to(dev)\n",
    "        targets=targets.to(dev).long()\n",
    "        logits=model(features)\n",
    "        _,pred_labels=torch.max(logits,1)\n",
    "        num_examples+=targets.size(0)\n",
    "        correct_preds+=(pred_labels==targets).sum()        \n",
    "    return correct_preds.float()/num_examples*100\n",
    "def epoch_loss(model,data_loader):\n",
    "    model.eval()\n",
    "    curr_loss,num_examples=0.,0\n",
    "    with torch.no_grad():\n",
    "        for features,targets in data_loader:\n",
    "            features=features.to(dev)\n",
    "            targets=targets.to(dev).long()\n",
    "            logits=model(features)\n",
    "            loss=tnnf.cross_entropy(logits,targets,\n",
    "                                    reduction='sum')\n",
    "            num_examples+=targets.size(0)\n",
    "            curr_loss+=loss\n",
    "        return curr_loss/num_examples"
   ]
  },
  {
   "cell_type": "code",
   "execution_count": 7,
   "metadata": {
    "_kg_hide-input": true
   },
   "outputs": [
    {
     "data": {
      "text/html": [
       "<style>\n",
       "    @import 'https://fonts.googleapis.com/css?family=Smokum&effect=3d';      \n",
       "    </style><h1 class='font-effect-3d' \n",
       "    style='font-family:Smokum; color:#ff5511; font-size:35px;'>\n",
       "    Data</h1>"
      ],
      "text/plain": [
       "<IPython.core.display.HTML object>"
      ]
     },
     "metadata": {},
     "output_type": "display_data"
    }
   ],
   "source": [
    "dhtml('Data')"
   ]
  },
  {
   "cell_type": "code",
   "execution_count": 8,
   "metadata": {
    "_kg_hide-output": true
   },
   "outputs": [
    {
     "name": "stdout",
     "output_type": "stream",
     "text": [
      "Downloading https://www.cs.toronto.edu/~kriz/cifar-10-python.tar.gz to data/cifar-10-python.tar.gz\n"
     ]
    },
    {
     "data": {
      "application/vnd.jupyter.widget-view+json": {
       "model_id": "15db613f67134ee2a30078453f1dd16d",
       "version_major": 2,
       "version_minor": 0
      },
      "text/plain": [
       "HBox(children=(FloatProgress(value=1.0, bar_style='info', max=1.0), HTML(value='')))"
      ]
     },
     "metadata": {},
     "output_type": "display_data"
    },
    {
     "name": "stdout",
     "output_type": "stream",
     "text": [
      "Extracting data/cifar-10-python.tar.gz to data\n"
     ]
    }
   ],
   "source": [
    "img_size=64\n",
    "classes=('plane','car','bird','cat','deer',\n",
    "          'dog','frog','horse','ship','truck')\n",
    "random_seed=12; batch_size=128\n",
    "train_ids=torch.arange(0,44000)\n",
    "valid_ids=torch.arange(44000,50000)\n",
    "tr0=(.5,.5,.5)\n",
    "trans=transforms\\\n",
    ".Compose([transforms.Resize((img_size,img_size)),\n",
    "          transforms.ToTensor(),\n",
    "          transforms.Normalize(tr0,tr0)])\n",
    "train_valid=tcifar10(root='data',train=True,\n",
    "                     download=True,\n",
    "                     transform=trans)\n",
    "train=Subset(train_valid,train_ids)\n",
    "valid=Subset(train_valid,valid_ids)\n",
    "test=tcifar10(root='data',train=False, \n",
    "              transform=trans)\n",
    "dataloaders={'train':tdl(dataset=train,shuffle=True, \n",
    "                         batch_size=batch_size), \n",
    "             'valid':tdl(dataset=valid,shuffle=True, \n",
    "                         batch_size=batch_size),\n",
    "             'test':tdl(dataset=test,shuffle=True, \n",
    "                        batch_size=batch_size)}"
   ]
  },
  {
   "cell_type": "code",
   "execution_count": 9,
   "metadata": {},
   "outputs": [
    {
     "name": "stdout",
     "output_type": "stream",
     "text": [
      "Image dimensions: torch.Size([128, 3, 64, 64])\n",
      "Label dimensions: torch.Size([128])\n"
     ]
    },
    {
     "data": {
      "image/png": "[encoded data removed]",
      "text/plain": [
       "<Figure size 720x288 with 5 Axes>"
      ]
     },
     "metadata": {},
     "output_type": "display_data"
    }
   ],
   "source": [
    "%display_examples 1"
   ]
  },
  {
   "cell_type": "code",
   "execution_count": 10,
   "metadata": {},
   "outputs": [
    {
     "name": "stdout",
     "output_type": "stream",
     "text": [
      "['backgrounds', 'images', 'labels']\n",
      "0.18010285 0.2764116\n"
     ]
    }
   ],
   "source": [
    "fpath='https://olgabelitskaya.github.io/' # from my website \n",
    "zf='LetterColorImages_123.h5.zip'\n",
    "input_file=urllib.request.urlopen(fpath+zf)\n",
    "output_file=open(zf,'wb'); \n",
    "output_file.write(input_file.read())\n",
    "output_file.close(); input_file.close()\n",
    "zipf=zipfile.ZipFile(zf,'r')\n",
    "zipf.extractall(''); zipf.close()\n",
    "f=h5py.File(zf[:-4],'r')\n",
    "keys=list(f.keys()); print(keys)\n",
    "x=np.array(f[keys[1]],dtype='float32')\n",
    "x=timage.resize(x,[img_size,img_size])/255\n",
    "x=2*np.transpose(x.numpy(),(0,3,1,2))-1\n",
    "print(x.mean(),x.std())\n",
    "y=np.array(f[keys[2]],dtype='int32')-1\n",
    "N=len(y); n=int(.1*N)\n",
    "shuffle_ids=np.arange(N)\n",
    "np.random.RandomState(23).shuffle(shuffle_ids)\n",
    "x,y=x[shuffle_ids],y[shuffle_ids]\n",
    "x_test,x_valid,x_train=x[:n],x[n:2*n],x[2*n:]\n",
    "y_test,y_valid,y_train=y[:n],y[n:2*n],y[2*n:]\n",
    "random_seed=23\n",
    "train2=TData(x_train,y_train)\n",
    "valid2=TData(x_valid,y_valid)\n",
    "test2=TData(x_test,y_test)\n",
    "dataloaders2={'train':tdl(dataset=train2,shuffle=True, \n",
    "                          batch_size=batch_size), \n",
    "              'valid':tdl(dataset=valid2,shuffle=True, \n",
    "                          batch_size=batch_size),\n",
    "              'test':tdl(dataset=test2,shuffle=True, \n",
    "                         batch_size=batch_size)}"
   ]
  },
  {
   "cell_type": "code",
   "execution_count": 11,
   "metadata": {},
   "outputs": [
    {
     "name": "stdout",
     "output_type": "stream",
     "text": [
      "Image dimensions: torch.Size([128, 3, 64, 64])\n",
      "Label dimensions: torch.Size([128])\n"
     ]
    },
    {
     "data": {
      "image/png": "[encoded data removed]",
      "text/plain": [
       "<Figure size 720x288 with 5 Axes>"
      ]
     },
     "metadata": {},
     "output_type": "display_data"
    }
   ],
   "source": [
    "%display_examples 2"
   ]
  },
  {
   "cell_type": "code",
   "execution_count": 12,
   "metadata": {
    "_kg_hide-input": true
   },
   "outputs": [
    {
     "data": {
      "text/html": [
       "<style>\n",
       "    @import 'https://fonts.googleapis.com/css?family=Smokum&effect=3d';      \n",
       "    </style><h1 class='font-effect-3d' \n",
       "    style='font-family:Smokum; color:#ff5511; font-size:35px;'>\n",
       "    VGG16</h1>"
      ],
      "text/plain": [
       "<IPython.core.display.HTML object>"
      ]
     },
     "metadata": {},
     "output_type": "display_data"
    }
   ],
   "source": [
    "dhtml('VGG16')"
   ]
  },
  {
   "cell_type": "code",
   "execution_count": 13,
   "metadata": {
    "_kg_hide-output": true
   },
   "outputs": [
    {
     "name": "stderr",
     "output_type": "stream",
     "text": [
      "Downloading: \"https://download.pytorch.org/models/vgg16-397923af.pth\" to /root/.cache/torch/checkpoints/vgg16-397923af.pth\n"
     ]
    },
    {
     "data": {
      "application/vnd.jupyter.widget-view+json": {
       "model_id": "26e8f2ffcd704d7bbc4469350600e578",
       "version_major": 2,
       "version_minor": 0
      },
      "text/plain": [
       "HBox(children=(FloatProgress(value=0.0, max=553433881.0), HTML(value='')))"
      ]
     },
     "metadata": {},
     "output_type": "display_data"
    },
    {
     "name": "stdout",
     "output_type": "stream",
     "text": [
      "\n"
     ]
    },
    {
     "data": {
      "text/plain": [
       "VGG(\n",
       "  (features): Sequential(\n",
       "    (0): Conv2d(3, 64, kernel_size=(3, 3), stride=(1, 1), padding=(1, 1))\n",
       "    (1): ReLU(inplace=True)\n",
       "    (2): Conv2d(64, 64, kernel_size=(3, 3), stride=(1, 1), padding=(1, 1))\n",
       "    (3): ReLU(inplace=True)\n",
       "    (4): MaxPool2d(kernel_size=2, stride=2, padding=0, dilation=1, ceil_mode=False)\n",
       "    (5): Conv2d(64, 128, kernel_size=(3, 3), stride=(1, 1), padding=(1, 1))\n",
       "    (6): ReLU(inplace=True)\n",
       "    (7): Conv2d(128, 128, kernel_size=(3, 3), stride=(1, 1), padding=(1, 1))\n",
       "    (8): ReLU(inplace=True)\n",
       "    (9): MaxPool2d(kernel_size=2, stride=2, padding=0, dilation=1, ceil_mode=False)\n",
       "    (10): Conv2d(128, 256, kernel_size=(3, 3), stride=(1, 1), padding=(1, 1))\n",
       "    (11): ReLU(inplace=True)\n",
       "    (12): Conv2d(256, 256, kernel_size=(3, 3), stride=(1, 1), padding=(1, 1))\n",
       "    (13): ReLU(inplace=True)\n",
       "    (14): Conv2d(256, 256, kernel_size=(3, 3), stride=(1, 1), padding=(1, 1))\n",
       "    (15): ReLU(inplace=True)\n",
       "    (16): MaxPool2d(kernel_size=2, stride=2, padding=0, dilation=1, ceil_mode=False)\n",
       "    (17): Conv2d(256, 512, kernel_size=(3, 3), stride=(1, 1), padding=(1, 1))\n",
       "    (18): ReLU(inplace=True)\n",
       "    (19): Conv2d(512, 512, kernel_size=(3, 3), stride=(1, 1), padding=(1, 1))\n",
       "    (20): ReLU(inplace=True)\n",
       "    (21): Conv2d(512, 512, kernel_size=(3, 3), stride=(1, 1), padding=(1, 1))\n",
       "    (22): ReLU(inplace=True)\n",
       "    (23): MaxPool2d(kernel_size=2, stride=2, padding=0, dilation=1, ceil_mode=False)\n",
       "    (24): Conv2d(512, 512, kernel_size=(3, 3), stride=(1, 1), padding=(1, 1))\n",
       "    (25): ReLU(inplace=True)\n",
       "    (26): Conv2d(512, 512, kernel_size=(3, 3), stride=(1, 1), padding=(1, 1))\n",
       "    (27): ReLU(inplace=True)\n",
       "    (28): Conv2d(512, 512, kernel_size=(3, 3), stride=(1, 1), padding=(1, 1))\n",
       "    (29): ReLU(inplace=True)\n",
       "    (30): MaxPool2d(kernel_size=2, stride=2, padding=0, dilation=1, ceil_mode=False)\n",
       "  )\n",
       "  (avgpool): AdaptiveAvgPool2d(output_size=(7, 7))\n",
       "  (classifier): Sequential(\n",
       "    (0): Linear(in_features=25088, out_features=4096, bias=True)\n",
       "    (1): ReLU(inplace=True)\n",
       "    (2): Dropout(p=0.5, inplace=False)\n",
       "    (3): Linear(in_features=4096, out_features=4096, bias=True)\n",
       "    (4): ReLU(inplace=True)\n",
       "    (5): Dropout(p=0.5, inplace=False)\n",
       "    (6): Linear(in_features=4096, out_features=1000, bias=True)\n",
       "  )\n",
       ")"
      ]
     },
     "execution_count": 13,
     "metadata": {},
     "output_type": "execute_result"
    }
   ],
   "source": [
    "model=models.vgg16(pretrained=True)\n",
    "for param in model.parameters():\n",
    "    param.requires_grad=False\n",
    "model.classifier[3].requires_grad=True\n",
    "model"
   ]
  },
  {
   "cell_type": "code",
   "execution_count": 14,
   "metadata": {
    "_kg_hide-input": true
   },
   "outputs": [
    {
     "data": {
      "text/html": [
       "<style>\n",
       "    @import 'https://fonts.googleapis.com/css?family=Smokum&effect=3d';      \n",
       "    </style><h1 class='font-effect-3d' \n",
       "    style='font-family:Smokum; color:#ff5511; font-size:35px;'>\n",
       "    Training</h1>"
      ],
      "text/plain": [
       "<IPython.core.display.HTML object>"
      ]
     },
     "metadata": {},
     "output_type": "display_data"
    }
   ],
   "source": [
    "dhtml('Training')"
   ]
  },
  {
   "cell_type": "code",
   "execution_count": 15,
   "metadata": {},
   "outputs": [],
   "source": [
    "@register_line_magic\n",
    "def train_run(pars):\n",
    "    [epochs,n]=pars.split()\n",
    "    epochs=int(epochs); n=int(n)\n",
    "    if n==1: loaders=dataloaders\n",
    "    if n==2: loaders=dataloaders2\n",
    "    for epoch in range(epochs):\n",
    "        model.train()\n",
    "        for batch_ids,(features,targets) \\\n",
    "        in enumerate(loaders['train']):        \n",
    "            features=features.to(dev)\n",
    "            targets=targets.to(dev).long()\n",
    "            logits=model(features)\n",
    "            cost=tnnf.cross_entropy(logits,targets)\n",
    "            optimizer.zero_grad(); cost.backward()\n",
    "            optimizer.step()\n",
    "            if not batch_ids%100:\n",
    "                print ('Epoch: %03d/%03d | Batch: %03d/%03d | Cost: %.4f' \n",
    "                       %(epoch+1,epochs,batch_ids,\n",
    "                         len(loaders['train']),cost))\n",
    "        model.eval()\n",
    "        with torch.set_grad_enabled(False):\n",
    "            print('Epoch: %03d/%03d'%(epoch+1,epochs))\n",
    "            print('train acc/loss: %.2f%%/%.2f valid acc/loss: %.2f%%/%.2f'%\\\n",
    "                  (model_acc(model,loaders['train']),\n",
    "                   epoch_loss(model,loaders['train']),\n",
    "                   model_acc(model,loaders['valid']),\n",
    "                   epoch_loss(model,loaders['valid'])))"
   ]
  },
  {
   "cell_type": "code",
   "execution_count": 16,
   "metadata": {},
   "outputs": [],
   "source": [
    "num_classes=10\n",
    "model.classifier[6]=tnn.Sequential(\n",
    "    tnn.Linear(4096,512),tnn.ReLU(),\n",
    "    tnn.Dropout(.5),tnn.Linear(512,num_classes))\n",
    "model=model.to(dev)\n",
    "optimizer=torch.optim.Adam(model.parameters())"
   ]
  },
  {
   "cell_type": "code",
   "execution_count": 17,
   "metadata": {
    "_kg_hide-output": true
   },
   "outputs": [
    {
     "name": "stdout",
     "output_type": "stream",
     "text": [
      "Epoch: 001/015 | Batch: 000/344 | Cost: 2.3789\n",
      "Epoch: 001/015 | Batch: 100/344 | Cost: 1.0759\n",
      "Epoch: 001/015 | Batch: 200/344 | Cost: 0.8555\n",
      "Epoch: 001/015 | Batch: 300/344 | Cost: 1.0543\n",
      "Epoch: 001/015\n",
      "train acc/loss: 72.14%/0.80 valid acc/loss: 70.47%/0.85\n",
      "Epoch: 002/015 | Batch: 000/344 | Cost: 0.9064\n",
      "Epoch: 002/015 | Batch: 100/344 | Cost: 0.9688\n",
      "Epoch: 002/015 | Batch: 200/344 | Cost: 0.9133\n",
      "Epoch: 002/015 | Batch: 300/344 | Cost: 1.0207\n",
      "Epoch: 002/015\n",
      "train acc/loss: 74.12%/0.75 valid acc/loss: 71.12%/0.82\n",
      "Epoch: 003/015 | Batch: 000/344 | Cost: 0.7694\n",
      "Epoch: 003/015 | Batch: 100/344 | Cost: 0.7502\n",
      "Epoch: 003/015 | Batch: 200/344 | Cost: 0.8608\n",
      "Epoch: 003/015 | Batch: 300/344 | Cost: 0.8774\n",
      "Epoch: 003/015\n",
      "train acc/loss: 75.80%/0.71 valid acc/loss: 72.43%/0.80\n",
      "Epoch: 004/015 | Batch: 000/344 | Cost: 0.9299\n",
      "Epoch: 004/015 | Batch: 100/344 | Cost: 0.8841\n",
      "Epoch: 004/015 | Batch: 200/344 | Cost: 0.9410\n",
      "Epoch: 004/015 | Batch: 300/344 | Cost: 0.8863\n",
      "Epoch: 004/015\n",
      "train acc/loss: 76.29%/0.69 valid acc/loss: 72.12%/0.79\n",
      "Epoch: 005/015 | Batch: 000/344 | Cost: 0.8889\n",
      "Epoch: 005/015 | Batch: 100/344 | Cost: 0.7956\n",
      "Epoch: 005/015 | Batch: 200/344 | Cost: 0.8341\n",
      "Epoch: 005/015 | Batch: 300/344 | Cost: 1.0103\n",
      "Epoch: 005/015\n",
      "train acc/loss: 77.02%/0.66 valid acc/loss: 71.65%/0.79\n",
      "Epoch: 006/015 | Batch: 000/344 | Cost: 0.8633\n",
      "Epoch: 006/015 | Batch: 100/344 | Cost: 0.7358\n",
      "Epoch: 006/015 | Batch: 200/344 | Cost: 0.8556\n",
      "Epoch: 006/015 | Batch: 300/344 | Cost: 0.8723\n",
      "Epoch: 006/015\n",
      "train acc/loss: 78.06%/0.64 valid acc/loss: 72.63%/0.78\n",
      "Epoch: 007/015 | Batch: 000/344 | Cost: 0.7728\n",
      "Epoch: 007/015 | Batch: 100/344 | Cost: 0.8669\n",
      "Epoch: 007/015 | Batch: 200/344 | Cost: 0.9244\n",
      "Epoch: 007/015 | Batch: 300/344 | Cost: 0.8969\n",
      "Epoch: 007/015\n",
      "train acc/loss: 78.62%/0.62 valid acc/loss: 72.53%/0.78\n",
      "Epoch: 008/015 | Batch: 000/344 | Cost: 0.8334\n",
      "Epoch: 008/015 | Batch: 100/344 | Cost: 1.0783\n",
      "Epoch: 008/015 | Batch: 200/344 | Cost: 1.0424\n",
      "Epoch: 008/015 | Batch: 300/344 | Cost: 1.0099\n",
      "Epoch: 008/015\n",
      "train acc/loss: 79.48%/0.60 valid acc/loss: 73.15%/0.77\n",
      "Epoch: 009/015 | Batch: 000/344 | Cost: 0.7278\n",
      "Epoch: 009/015 | Batch: 100/344 | Cost: 0.7693\n",
      "Epoch: 009/015 | Batch: 200/344 | Cost: 0.8117\n",
      "Epoch: 009/015 | Batch: 300/344 | Cost: 0.9144\n",
      "Epoch: 009/015\n",
      "train acc/loss: 80.46%/0.59 valid acc/loss: 73.28%/0.77\n",
      "Epoch: 010/015 | Batch: 000/344 | Cost: 0.8092\n",
      "Epoch: 010/015 | Batch: 100/344 | Cost: 0.7995\n",
      "Epoch: 010/015 | Batch: 200/344 | Cost: 0.8678\n",
      "Epoch: 010/015 | Batch: 300/344 | Cost: 1.0121\n",
      "Epoch: 010/015\n",
      "train acc/loss: 80.79%/0.57 valid acc/loss: 73.55%/0.76\n",
      "Epoch: 011/015 | Batch: 000/344 | Cost: 1.0727\n",
      "Epoch: 011/015 | Batch: 100/344 | Cost: 1.0190\n",
      "Epoch: 011/015 | Batch: 200/344 | Cost: 0.7949\n",
      "Epoch: 011/015 | Batch: 300/344 | Cost: 0.9126\n",
      "Epoch: 011/015\n",
      "train acc/loss: 81.32%/0.55 valid acc/loss: 72.82%/0.77\n",
      "Epoch: 012/015 | Batch: 000/344 | Cost: 0.9161\n",
      "Epoch: 012/015 | Batch: 100/344 | Cost: 0.7782\n",
      "Epoch: 012/015 | Batch: 200/344 | Cost: 0.6490\n",
      "Epoch: 012/015 | Batch: 300/344 | Cost: 0.5999\n",
      "Epoch: 012/015\n",
      "train acc/loss: 81.45%/0.55 valid acc/loss: 72.88%/0.77\n",
      "Epoch: 013/015 | Batch: 000/344 | Cost: 0.6862\n",
      "Epoch: 013/015 | Batch: 100/344 | Cost: 0.7528\n",
      "Epoch: 013/015 | Batch: 200/344 | Cost: 0.8653\n",
      "Epoch: 013/015 | Batch: 300/344 | Cost: 0.8102\n",
      "Epoch: 013/015\n",
      "train acc/loss: 81.44%/0.55 valid acc/loss: 72.82%/0.77\n",
      "Epoch: 014/015 | Batch: 000/344 | Cost: 0.8904\n",
      "Epoch: 014/015 | Batch: 100/344 | Cost: 0.6169\n",
      "Epoch: 014/015 | Batch: 200/344 | Cost: 0.9873\n",
      "Epoch: 014/015 | Batch: 300/344 | Cost: 1.1320\n",
      "Epoch: 014/015\n",
      "train acc/loss: 82.67%/0.53 valid acc/loss: 73.60%/0.76\n",
      "Epoch: 015/015 | Batch: 000/344 | Cost: 0.8160\n",
      "Epoch: 015/015 | Batch: 100/344 | Cost: 0.9724\n",
      "Epoch: 015/015 | Batch: 200/344 | Cost: 0.8799\n",
      "Epoch: 015/015 | Batch: 300/344 | Cost: 0.8534\n",
      "Epoch: 015/015\n",
      "train acc/loss: 83.38%/0.52 valid acc/loss: 73.72%/0.76\n"
     ]
    }
   ],
   "source": [
    "%train_run 15 1"
   ]
  },
  {
   "cell_type": "code",
   "execution_count": 18,
   "metadata": {},
   "outputs": [],
   "source": [
    "#model=models.vgg16(pretrained=True)\n",
    "#for param in model.parameters():\n",
    "#    param.requires_grad=False#model.classifier[3].requires_grad=True\n",
    "#num_classes=33\n",
    "#model.classifier[6]=tnn.Sequential(\n",
    "#    tnn.Linear(4096,256),tnn.ReLU(),\n",
    "#    tnn.Dropout(.5),tnn.Linear(256,num_classes))\n",
    "#model=model.to(dev)\n",
    "#optimizer=torch.optim.Adam(model.parameters())"
   ]
  },
  {
   "cell_type": "code",
   "execution_count": 19,
   "metadata": {},
   "outputs": [],
   "source": [
    "#%train_run 3 2"
   ]
  }
 ],
 "metadata": {
  "kernelspec": {
   "display_name": "Python 3",
   "language": "python",
   "name": "python3"
  },
  "language_info": {
   "codemirror_mode": {
    "name": "ipython",
    "version": 3
   },
   "file_extension": ".py",
   "mimetype": "text/x-python",
   "name": "python",
   "nbconvert_exporter": "python",
   "pygments_lexer": "ipython3",
   "version": "3.7.6"
  },
  "widgets": {
   "application/vnd.jupyter.widget-state+json": {
    "state": {
     "1087d036c1ba49d385b0d29ba5a0cb5a": {
      "model_module": "@jupyter-widgets/controls",
      "model_module_version": "1.5.0",
      "model_name": "FloatProgressModel",
      "state": {
       "_dom_classes": [],
       "_model_module": "@jupyter-widgets/controls",
       "_model_module_version": "1.5.0",
       "_model_name": "FloatProgressModel",
       "_view_count": null,
       "_view_module": "@jupyter-widgets/controls",
       "_view_module_version": "1.5.0",
       "_view_name": "ProgressView",
       "bar_style": "info",
       "description": "",
       "description_tooltip": null,
       "layout": "IPY_MODEL_33f92bfa01f348bbad164858c542cae1",
       "max": 1.0,
       "min": 0.0,
       "orientation": "horizontal",
       "style": "IPY_MODEL_8554c0b65b57482e943013e162583af7",
       "value": 1.0
      }
     },
     "15db613f67134ee2a30078453f1dd16d": {
      "model_module": "@jupyter-widgets/controls",
      "model_module_version": "1.5.0",
      "model_name": "HBoxModel",
      "state": {
       "_dom_classes": [],
       "_model_module": "@jupyter-widgets/controls",
       "_model_module_version": "1.5.0",
       "_model_name": "HBoxModel",
       "_view_count": null,
       "_view_module": "@jupyter-widgets/controls",
       "_view_module_version": "1.5.0",
       "_view_name": "HBoxView",
       "box_style": "",
       "children": [
        "IPY_MODEL_1087d036c1ba49d385b0d29ba5a0cb5a",
        "IPY_MODEL_16d424fd63424a0ab156ec3d807c432a"
       ],
       "layout": "IPY_MODEL_687bf582f3bc4aeca910a6be6d728cb5"
      }
     },
     "16d424fd63424a0ab156ec3d807c432a": {
      "model_module": "@jupyter-widgets/controls",
      "model_module_version": "1.5.0",
      "model_name": "HTMLModel",
      "state": {
       "_dom_classes": [],
       "_model_module": "@jupyter-widgets/controls",
       "_model_module_version": "1.5.0",
       "_model_name": "HTMLModel",
       "_view_count": null,
       "_view_module": "@jupyter-widgets/controls",
       "_view_module_version": "1.5.0",
       "_view_name": "HTMLView",
       "description": "",
       "description_tooltip": null,
       "layout": "IPY_MODEL_75b2be52934f4498ab60865dfe34f0af",
       "placeholder": "​",
       "style": "IPY_MODEL_9b0fb143d8a34ce48ec4a0c217015217",
       "value": " 170500096/? [00:24&lt;00:00, 16221719.34it/s]"
      }
     },
     "26e8f2ffcd704d7bbc4469350600e578": {
      "model_module": "@jupyter-widgets/controls",
      "model_module_version": "1.5.0",
      "model_name": "HBoxModel",
      "state": {
       "_dom_classes": [],
       "_model_module": "@jupyter-widgets/controls",
       "_model_module_version": "1.5.0",
       "_model_name": "HBoxModel",
       "_view_count": null,
       "_view_module": "@jupyter-widgets/controls",
       "_view_module_version": "1.5.0",
       "_view_name": "HBoxView",
       "box_style": "",
       "children": [
        "IPY_MODEL_de7b44c135374f0abab376c77522730e",
        "IPY_MODEL_fde1ea81f6754cf194c46e2cee6a1b59"
       ],
       "layout": "IPY_MODEL_594b48b3c9c24b7b902c92dd014d6780"
      }
     },
     "33f92bfa01f348bbad164858c542cae1": {
      "model_module": "@jupyter-widgets/base",
      "model_module_version": "1.2.0",
      "model_name": "LayoutModel",
      "state": {
       "_model_module": "@jupyter-widgets/base",
       "_model_module_version": "1.2.0",
       "_model_name": "LayoutModel",
       "_view_count": null,
       "_view_module": "@jupyter-widgets/base",
       "_view_module_version": "1.2.0",
       "_view_name": "LayoutView",
       "align_content": null,
       "align_items": null,
       "align_self": null,
       "border": null,
       "bottom": null,
       "display": null,
       "flex": null,
       "flex_flow": null,
       "grid_area": null,
       "grid_auto_columns": null,
       "grid_auto_flow": null,
       "grid_auto_rows": null,
       "grid_column": null,
       "grid_gap": null,
       "grid_row": null,
       "grid_template_areas": null,
       "grid_template_columns": null,
       "grid_template_rows": null,
       "height": null,
       "justify_content": null,
       "justify_items": null,
       "left": null,
       "margin": null,
       "max_height": null,
       "max_width": null,
       "min_height": null,
       "min_width": null,
       "object_fit": null,
       "object_position": null,
       "order": null,
       "overflow": null,
       "overflow_x": null,
       "overflow_y": null,
       "padding": null,
       "right": null,
       "top": null,
       "visibility": null,
       "width": null
      }
     },
     "4e8edcedcf994efc8625559d220eaea9": {
      "model_module": "@jupyter-widgets/base",
      "model_module_version": "1.2.0",
      "model_name": "LayoutModel",
      "state": {
       "_model_module": "@jupyter-widgets/base",
       "_model_module_version": "1.2.0",
       "_model_name": "LayoutModel",
       "_view_count": null,
       "_view_module": "@jupyter-widgets/base",
       "_view_module_version": "1.2.0",
       "_view_name": "LayoutView",
       "align_content": null,
       "align_items": null,
       "align_self": null,
       "border": null,
       "bottom": null,
       "display": null,
       "flex": null,
       "flex_flow": null,
       "grid_area": null,
       "grid_auto_columns": null,
       "grid_auto_flow": null,
       "grid_auto_rows": null,
       "grid_column": null,
       "grid_gap": null,
       "grid_row": null,
       "grid_template_areas": null,
       "grid_template_columns": null,
       "grid_template_rows": null,
       "height": null,
       "justify_content": null,
       "justify_items": null,
       "left": null,
       "margin": null,
       "max_height": null,
       "max_width": null,
       "min_height": null,
       "min_width": null,
       "object_fit": null,
       "object_position": null,
       "order": null,
       "overflow": null,
       "overflow_x": null,
       "overflow_y": null,
       "padding": null,
       "right": null,
       "top": null,
       "visibility": null,
       "width": null
      }
     },
     "5556bc48cf7a4aef8345725e6eee660b": {
      "model_module": "@jupyter-widgets/controls",
      "model_module_version": "1.5.0",
      "model_name": "DescriptionStyleModel",
      "state": {
       "_model_module": "@jupyter-widgets/controls",
       "_model_module_version": "1.5.0",
       "_model_name": "DescriptionStyleModel",
       "_view_count": null,
       "_view_module": "@jupyter-widgets/base",
       "_view_module_version": "1.2.0",
       "_view_name": "StyleView",
       "description_width": ""
      }
     },
     "594b48b3c9c24b7b902c92dd014d6780": {
      "model_module": "@jupyter-widgets/base",
      "model_module_version": "1.2.0",
      "model_name": "LayoutModel",
      "state": {
       "_model_module": "@jupyter-widgets/base",
       "_model_module_version": "1.2.0",
       "_model_name": "LayoutModel",
       "_view_count": null,
       "_view_module": "@jupyter-widgets/base",
       "_view_module_version": "1.2.0",
       "_view_name": "LayoutView",
       "align_content": null,
       "align_items": null,
       "align_self": null,
       "border": null,
       "bottom": null,
       "display": null,
       "flex": null,
       "flex_flow": null,
       "grid_area": null,
       "grid_auto_columns": null,
       "grid_auto_flow": null,
       "grid_auto_rows": null,
       "grid_column": null,
       "grid_gap": null,
       "grid_row": null,
       "grid_template_areas": null,
       "grid_template_columns": null,
       "grid_template_rows": null,
       "height": null,
       "justify_content": null,
       "justify_items": null,
       "left": null,
       "margin": null,
       "max_height": null,
       "max_width": null,
       "min_height": null,
       "min_width": null,
       "object_fit": null,
       "object_position": null,
       "order": null,
       "overflow": null,
       "overflow_x": null,
       "overflow_y": null,
       "padding": null,
       "right": null,
       "top": null,
       "visibility": null,
       "width": null
      }
     },
     "687bf582f3bc4aeca910a6be6d728cb5": {
      "model_module": "@jupyter-widgets/base",
      "model_module_version": "1.2.0",
      "model_name": "LayoutModel",
      "state": {
       "_model_module": "@jupyter-widgets/base",
       "_model_module_version": "1.2.0",
       "_model_name": "LayoutModel",
       "_view_count": null,
       "_view_module": "@jupyter-widgets/base",
       "_view_module_version": "1.2.0",
       "_view_name": "LayoutView",
       "align_content": null,
       "align_items": null,
       "align_self": null,
       "border": null,
       "bottom": null,
       "display": null,
       "flex": null,
       "flex_flow": null,
       "grid_area": null,
       "grid_auto_columns": null,
       "grid_auto_flow": null,
       "grid_auto_rows": null,
       "grid_column": null,
       "grid_gap": null,
       "grid_row": null,
       "grid_template_areas": null,
       "grid_template_columns": null,
       "grid_template_rows": null,
       "height": null,
       "justify_content": null,
       "justify_items": null,
       "left": null,
       "margin": null,
       "max_height": null,
       "max_width": null,
       "min_height": null,
       "min_width": null,
       "object_fit": null,
       "object_position": null,
       "order": null,
       "overflow": null,
       "overflow_x": null,
       "overflow_y": null,
       "padding": null,
       "right": null,
       "top": null,
       "visibility": null,
       "width": null
      }
     },
     "75b2be52934f4498ab60865dfe34f0af": {
      "model_module": "@jupyter-widgets/base",
      "model_module_version": "1.2.0",
      "model_name": "LayoutModel",
      "state": {
       "_model_module": "@jupyter-widgets/base",
       "_model_module_version": "1.2.0",
       "_model_name": "LayoutModel",
       "_view_count": null,
       "_view_module": "@jupyter-widgets/base",
       "_view_module_version": "1.2.0",
       "_view_name": "LayoutView",
       "align_content": null,
       "align_items": null,
       "align_self": null,
       "border": null,
       "bottom": null,
       "display": null,
       "flex": null,
       "flex_flow": null,
       "grid_area": null,
       "grid_auto_columns": null,
       "grid_auto_flow": null,
       "grid_auto_rows": null,
       "grid_column": null,
       "grid_gap": null,
       "grid_row": null,
       "grid_template_areas": null,
       "grid_template_columns": null,
       "grid_template_rows": null,
       "height": null,
       "justify_content": null,
       "justify_items": null,
       "left": null,
       "margin": null,
       "max_height": null,
       "max_width": null,
       "min_height": null,
       "min_width": null,
       "object_fit": null,
       "object_position": null,
       "order": null,
       "overflow": null,
       "overflow_x": null,
       "overflow_y": null,
       "padding": null,
       "right": null,
       "top": null,
       "visibility": null,
       "width": null
      }
     },
     "8554c0b65b57482e943013e162583af7": {
      "model_module": "@jupyter-widgets/controls",
      "model_module_version": "1.5.0",
      "model_name": "ProgressStyleModel",
      "state": {
       "_model_module": "@jupyter-widgets/controls",
       "_model_module_version": "1.5.0",
       "_model_name": "ProgressStyleModel",
       "_view_count": null,
       "_view_module": "@jupyter-widgets/base",
       "_view_module_version": "1.2.0",
       "_view_name": "StyleView",
       "bar_color": null,
       "description_width": "initial"
      }
     },
     "91c46abdb9124c8aa9562353e520a55b": {
      "model_module": "@jupyter-widgets/controls",
      "model_module_version": "1.5.0",
      "model_name": "ProgressStyleModel",
      "state": {
       "_model_module": "@jupyter-widgets/controls",
       "_model_module_version": "1.5.0",
       "_model_name": "ProgressStyleModel",
       "_view_count": null,
       "_view_module": "@jupyter-widgets/base",
       "_view_module_version": "1.2.0",
       "_view_name": "StyleView",
       "bar_color": null,
       "description_width": "initial"
      }
     },
     "9b0fb143d8a34ce48ec4a0c217015217": {
      "model_module": "@jupyter-widgets/controls",
      "model_module_version": "1.5.0",
      "model_name": "DescriptionStyleModel",
      "state": {
       "_model_module": "@jupyter-widgets/controls",
       "_model_module_version": "1.5.0",
       "_model_name": "DescriptionStyleModel",
       "_view_count": null,
       "_view_module": "@jupyter-widgets/base",
       "_view_module_version": "1.2.0",
       "_view_name": "StyleView",
       "description_width": ""
      }
     },
     "de7b44c135374f0abab376c77522730e": {
      "model_module": "@jupyter-widgets/controls",
      "model_module_version": "1.5.0",
      "model_name": "FloatProgressModel",
      "state": {
       "_dom_classes": [],
       "_model_module": "@jupyter-widgets/controls",
       "_model_module_version": "1.5.0",
       "_model_name": "FloatProgressModel",
       "_view_count": null,
       "_view_module": "@jupyter-widgets/controls",
       "_view_module_version": "1.5.0",
       "_view_name": "ProgressView",
       "bar_style": "success",
       "description": "100%",
       "description_tooltip": null,
       "layout": "IPY_MODEL_4e8edcedcf994efc8625559d220eaea9",
       "max": 553433881.0,
       "min": 0.0,
       "orientation": "horizontal",
       "style": "IPY_MODEL_91c46abdb9124c8aa9562353e520a55b",
       "value": 553433881.0
      }
     },
     "e82fe09fa14c46ff83b546c0863f9c91": {
      "model_module": "@jupyter-widgets/base",
      "model_module_version": "1.2.0",
      "model_name": "LayoutModel",
      "state": {
       "_model_module": "@jupyter-widgets/base",
       "_model_module_version": "1.2.0",
       "_model_name": "LayoutModel",
       "_view_count": null,
       "_view_module": "@jupyter-widgets/base",
       "_view_module_version": "1.2.0",
       "_view_name": "LayoutView",
       "align_content": null,
       "align_items": null,
       "align_self": null,
       "border": null,
       "bottom": null,
       "display": null,
       "flex": null,
       "flex_flow": null,
       "grid_area": null,
       "grid_auto_columns": null,
       "grid_auto_flow": null,
       "grid_auto_rows": null,
       "grid_column": null,
       "grid_gap": null,
       "grid_row": null,
       "grid_template_areas": null,
       "grid_template_columns": null,
       "grid_template_rows": null,
       "height": null,
       "justify_content": null,
       "justify_items": null,
       "left": null,
       "margin": null,
       "max_height": null,
       "max_width": null,
       "min_height": null,
       "min_width": null,
       "object_fit": null,
       "object_position": null,
       "order": null,
       "overflow": null,
       "overflow_x": null,
       "overflow_y": null,
       "padding": null,
       "right": null,
       "top": null,
       "visibility": null,
       "width": null
      }
     },
     "fde1ea81f6754cf194c46e2cee6a1b59": {
      "model_module": "@jupyter-widgets/controls",
      "model_module_version": "1.5.0",
      "model_name": "HTMLModel",
      "state": {
       "_dom_classes": [],
       "_model_module": "@jupyter-widgets/controls",
       "_model_module_version": "1.5.0",
       "_model_name": "HTMLModel",
       "_view_count": null,
       "_view_module": "@jupyter-widgets/controls",
       "_view_module_version": "1.5.0",
       "_view_name": "HTMLView",
       "description": "",
       "description_tooltip": null,
       "layout": "IPY_MODEL_e82fe09fa14c46ff83b546c0863f9c91",
       "placeholder": "​",
       "style": "IPY_MODEL_5556bc48cf7a4aef8345725e6eee660b",
       "value": " 528M/528M [00:13&lt;00:00, 40.6MB/s]"
      }
     }
    },
    "version_major": 2,
    "version_minor": 0
   }
  }
 },
 "nbformat": 4,
 "nbformat_minor": 4
}
