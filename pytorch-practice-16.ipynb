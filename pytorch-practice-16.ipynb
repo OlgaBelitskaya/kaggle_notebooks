{
 "cells": [
  {
   "cell_type": "markdown",
   "execution_count": null,
   "metadata": {},
   "source": [
    "Reading classics [Deep Learning Models](https://nbviewer.jupyter.org/github/rasbt/deeplearning-models/blob/master/pytorch_ipynb/autoencoder/ae-conv-var.ipynb)"
   ]
  },
  {
   "cell_type": "code",
   "execution_count": 1,
   "metadata": {
    "_cell_guid": "b1076dfc-b9ad-4769-8c92-a6c4dae69d19",
    "_kg_hide-input": true,
    "_uuid": "8f2839f25d086af736a60e9eeb907d3b93b6e0e5"
   },
   "outputs": [],
   "source": [
    "from IPython.display import display,HTML\n",
    "def dhtml(str):\n",
    "    display(HTML(\"\"\"<style>\n",
    "    @import 'https://fonts.googleapis.com/css?family=Ewert&effect=3d';      \n",
    "    </style><h1 class='font-effect-3d' \n",
    "    style='font-family:Ewert; color:#ff6633;'>\n",
    "    %s</h1>\"\"\"%str))"
   ]
  },
  {
   "cell_type": "code",
   "execution_count": 2,
   "metadata": {
    "_cell_guid": "79c7e3d0-c299-4dcb-8224-4455121ee9b0",
    "_kg_hide-input": true,
    "_uuid": "d629ff2d2480ee46fbb7e2d37f6b5fab8052498a"
   },
   "outputs": [
    {
     "data": {
      "text/html": [
       "<style>\n",
       "    @import 'https://fonts.googleapis.com/css?family=Ewert&effect=3d';      \n",
       "    </style><h1 class='font-effect-3d' \n",
       "    style='font-family:Ewert; color:#ff6633;'>\n",
       "    Code Modules, Functions, & Classes</h1>"
      ],
      "text/plain": [
       "<IPython.core.display.HTML object>"
      ]
     },
     "metadata": {},
     "output_type": "display_data"
    }
   ],
   "source": [
    "dhtml('Code Modules, Functions, & Classes')"
   ]
  },
  {
   "cell_type": "code",
   "execution_count": 3,
   "metadata": {},
   "outputs": [],
   "source": [
    "import numpy as np,pandas as pd,pylab as pl\n",
    "import h5py,torch\n",
    "from torchvision.datasets import MNIST as tmnist\n",
    "from torchvision import transforms,utils\n",
    "from torch.utils.data import DataLoader as tdl\n",
    "from torch.utils.data import Dataset as tds\n",
    "import torch.nn.functional as tnnf\n",
    "import torch.nn as tnn\n",
    "import tensorflow.image as timage\n",
    "from IPython.core.magic import register_line_magic\n",
    "dev=torch.device(\"cuda:0\" \\\n",
    "if torch.cuda.is_available() else \"cpu\")"
   ]
  },
  {
   "cell_type": "code",
   "execution_count": 4,
   "metadata": {},
   "outputs": [],
   "source": [
    "class TData(tds):\n",
    "    def __init__(self,x,y):   \n",
    "        self.x=torch.tensor(x,dtype=torch.float32)\n",
    "        self.y=torch.tensor(y,dtype=torch.int32)\n",
    "    def __getitem__(self,index):\n",
    "        img,lbl=self.x[index],self.y[index]\n",
    "        return img,lbl\n",
    "    def __len__(self):\n",
    "        return self.y.shape[0]"
   ]
  },
  {
   "cell_type": "code",
   "execution_count": 5,
   "metadata": {
    "_kg_hide-input": true
   },
   "outputs": [],
   "source": [
    "@register_line_magic\n",
    "def display_examples(n):\n",
    "    if n=='1': data_loader=train_loader\n",
    "    if n=='2': data_loader=train_loader2\n",
    "    for images,labels in data_loader:  \n",
    "        print('Image dimensions: %s'%str(images.shape))\n",
    "        print('Label dimensions: %s'%str(labels.shape))\n",
    "        n=np.random.randint(1,50)\n",
    "        fig=pl.figure(figsize=(10,4))\n",
    "        for i in range(n,n+5):\n",
    "            ax=fig.add_subplot(1,5,i-n+1,\\\n",
    "            xticks=[],yticks=[],title=labels[i].item())\n",
    "            ax.imshow((images[i]).reshape(img_size,img_size),\n",
    "                      cmap=pl.cm.bone)\n",
    "        break"
   ]
  },
  {
   "cell_type": "code",
   "execution_count": 6,
   "metadata": {
    "_kg_hide-input": true
   },
   "outputs": [
    {
     "data": {
      "text/html": [
       "<style>\n",
       "    @import 'https://fonts.googleapis.com/css?family=Ewert&effect=3d';      \n",
       "    </style><h1 class='font-effect-3d' \n",
       "    style='font-family:Ewert; color:#ff6633;'>\n",
       "    Data</h1>"
      ],
      "text/plain": [
       "<IPython.core.display.HTML object>"
      ]
     },
     "metadata": {},
     "output_type": "display_data"
    }
   ],
   "source": [
    "dhtml('Data')"
   ]
  },
  {
   "cell_type": "code",
   "execution_count": 7,
   "metadata": {
    "_kg_hide-output": true
   },
   "outputs": [
    {
     "name": "stdout",
     "output_type": "stream",
     "text": [
      "Downloading http://yann.lecun.com/exdb/mnist/train-images-idx3-ubyte.gz to data/MNIST/raw/train-images-idx3-ubyte.gz\n"
     ]
    },
    {
     "data": {
      "application/vnd.jupyter.widget-view+json": {
       "model_id": "4df5e3174bff432e9d3c265bb20be67a",
       "version_major": 2,
       "version_minor": 0
      },
      "text/plain": [
       "HBox(children=(FloatProgress(value=1.0, bar_style='info', max=1.0), HTML(value='')))"
      ]
     },
     "metadata": {},
     "output_type": "display_data"
    },
    {
     "name": "stdout",
     "output_type": "stream",
     "text": [
      "Extracting data/MNIST/raw/train-images-idx3-ubyte.gz to data/MNIST/raw\n",
      "Downloading http://yann.lecun.com/exdb/mnist/train-labels-idx1-ubyte.gz to data/MNIST/raw/train-labels-idx1-ubyte.gz\n"
     ]
    },
    {
     "data": {
      "application/vnd.jupyter.widget-view+json": {
       "model_id": "83535a8028a947f0b03509b7b9b773a9",
       "version_major": 2,
       "version_minor": 0
      },
      "text/plain": [
       "HBox(children=(FloatProgress(value=1.0, bar_style='info', max=1.0), HTML(value='')))"
      ]
     },
     "metadata": {},
     "output_type": "display_data"
    },
    {
     "name": "stdout",
     "output_type": "stream",
     "text": [
      "Extracting data/MNIST/raw/train-labels-idx1-ubyte.gz to data/MNIST/raw\n",
      "Downloading http://yann.lecun.com/exdb/mnist/t10k-images-idx3-ubyte.gz to data/MNIST/raw/t10k-images-idx3-ubyte.gz\n"
     ]
    },
    {
     "data": {
      "application/vnd.jupyter.widget-view+json": {
       "model_id": "07e232bc949f4128b4f67e207ca13384",
       "version_major": 2,
       "version_minor": 0
      },
      "text/plain": [
       "HBox(children=(FloatProgress(value=1.0, bar_style='info', max=1.0), HTML(value='')))"
      ]
     },
     "metadata": {},
     "output_type": "display_data"
    },
    {
     "name": "stdout",
     "output_type": "stream",
     "text": [
      "Extracting data/MNIST/raw/t10k-images-idx3-ubyte.gz to data/MNIST/raw\n",
      "Downloading http://yann.lecun.com/exdb/mnist/t10k-labels-idx1-ubyte.gz to data/MNIST/raw/t10k-labels-idx1-ubyte.gz\n",
      "\n",
      "\n"
     ]
    },
    {
     "data": {
      "application/vnd.jupyter.widget-view+json": {
       "model_id": "c2393960fbe04df488e589e9c0f580cd",
       "version_major": 2,
       "version_minor": 0
      },
      "text/plain": [
       "HBox(children=(FloatProgress(value=1.0, bar_style='info', max=1.0), HTML(value='')))"
      ]
     },
     "metadata": {},
     "output_type": "display_data"
    },
    {
     "name": "stdout",
     "output_type": "stream",
     "text": [
      "Extracting data/MNIST/raw/t10k-labels-idx1-ubyte.gz to data/MNIST/raw\n",
      "Processing...\n",
      "Done!\n"
     ]
    },
    {
     "name": "stderr",
     "output_type": "stream",
     "text": [
      "/pytorch/torch/csrc/utils/tensor_numpy.cpp:141: UserWarning: The given NumPy array is not writeable, and PyTorch does not support non-writeable tensors. This means you can write to the underlying (supposedly non-writeable) NumPy array using the tensor. You may want to copy the array to protect its data or make it writeable before converting it to a tensor. This type of warning will be suppressed for the rest of this program.\n"
     ]
    }
   ],
   "source": [
    "random_seed=12; batch_size=128; img_size=28\n",
    "trans=transforms\\\n",
    ".Compose([transforms.Resize((img_size,img_size)),\n",
    "          transforms.ToTensor()])\n",
    "train=tmnist(root='data',train=True,\n",
    "             download=True,transform=trans)\n",
    "test=tmnist(root='data',train=False, \n",
    "            transform=trans)\n",
    "train_loader=tdl(dataset=train,shuffle=True, \n",
    "                 batch_size=batch_size)\n",
    "test_loader=tdl(dataset=test,shuffle=False, \n",
    "                batch_size=batch_size)"
   ]
  },
  {
   "cell_type": "code",
   "execution_count": 8,
   "metadata": {},
   "outputs": [
    {
     "name": "stdout",
     "output_type": "stream",
     "text": [
      "Image dimensions: torch.Size([128, 1, 28, 28])\n",
      "Label dimensions: torch.Size([128])\n",
      "\n",
      "\n"
     ]
    },
    {
     "data": {
      "image/png": "[encoded data removed]",
      "text/plain": [
       "<Figure size 720x288 with 5 Axes>"
      ]
     },
     "metadata": {},
     "output_type": "display_data"
    }
   ],
   "source": [
    "%display_examples 1"
   ]
  },
  {
   "cell_type": "code",
   "execution_count": 9,
   "metadata": {},
   "outputs": [
    {
     "name": "stdout",
     "output_type": "stream",
     "text": [
      "['backgrounds', 'images', 'labels']\n"
     ]
    }
   ],
   "source": [
    "fpath='../input/classification-of-handwritten-letters/'\n",
    "f='LetterColorImages_123.h5'\n",
    "f=h5py.File(fpath+f,'r')\n",
    "keys=list(f.keys()); print(keys)\n",
    "x=1-np.array(f[keys[1]],dtype='float32')/255\n",
    "x=timage.resize(x,[img_size,img_size])\n",
    "x=(np.dot(x.numpy(),[.299,.587,.114]))\\\n",
    ".reshape(-1,1,img_size,img_size)\n",
    "y=np.array(f[keys[2]],dtype='int32')-1\n",
    "N=y.shape[0]; n=int(.2*N)\n",
    "shuffle_ids=np.arange(N)\n",
    "np.random.RandomState(23).shuffle(shuffle_ids)\n",
    "x,y=x[shuffle_ids],y[shuffle_ids]\n",
    "x_test,x_train=x[:n],x[n:]\n",
    "y_test,y_train=y[:n],y[n:]\n",
    "random_seed=23; batch_size2=128\n",
    "train2=TData(x_train,y_train)\n",
    "test2=TData(x_test,y_test)\n",
    "train_loader2=tdl(dataset=train2,shuffle=True,\n",
    "                  batch_size=batch_size2)\n",
    "test_loader2=tdl(dataset=test2,shuffle=False,\n",
    "                 batch_size=batch_size2)"
   ]
  },
  {
   "cell_type": "code",
   "execution_count": 10,
   "metadata": {},
   "outputs": [
    {
     "name": "stdout",
     "output_type": "stream",
     "text": [
      "Image dimensions: torch.Size([128, 1, 28, 28])\n",
      "Label dimensions: torch.Size([128])\n"
     ]
    },
    {
     "data": {
      "image/png": "[encoded data removed]",
      "text/plain": [
       "<Figure size 720x288 with 5 Axes>"
      ]
     },
     "metadata": {},
     "output_type": "display_data"
    }
   ],
   "source": [
    "%display_examples 2"
   ]
  },
  {
   "cell_type": "code",
   "execution_count": 11,
   "metadata": {
    "_kg_hide-input": true
   },
   "outputs": [
    {
     "data": {
      "text/html": [
       "<style>\n",
       "    @import 'https://fonts.googleapis.com/css?family=Ewert&effect=3d';      \n",
       "    </style><h1 class='font-effect-3d' \n",
       "    style='font-family:Ewert; color:#ff6633;'>\n",
       "    Convolutional Variational <br/>Autoencoder</h1>"
      ],
      "text/plain": [
       "<IPython.core.display.HTML object>"
      ]
     },
     "metadata": {},
     "output_type": "display_data"
    }
   ],
   "source": [
    "dhtml('Convolutional Variational <br/>Autoencoder')"
   ]
  },
  {
   "cell_type": "code",
   "execution_count": 12,
   "metadata": {},
   "outputs": [],
   "source": [
    "class ConvVarAE(tnn.Module):\n",
    "    def __init__(self,num_features,num_latent):\n",
    "        super(ConvVarAE,self).__init__()\n",
    "        # encoder\n",
    "        self.conv_en1=tnn\\\n",
    "        .Conv2d(in_channels=1,out_channels=16,\n",
    "                kernel_size=(6,6),stride=(2,2),\n",
    "                padding=0)\n",
    "        self.conv_en2=tnn\\\n",
    "        .Conv2d(in_channels=16,out_channels=32,\n",
    "                kernel_size=(4,4),stride=(2,2),\n",
    "                padding=0)                        \n",
    "        self.conv_en3=tnn\\\n",
    "        .Conv2d(in_channels=32,out_channels=64,\n",
    "                kernel_size=(2,2),stride=(2,2),\n",
    "                padding=0)                           \n",
    "        self.z_mean=tnn.Linear(64*2*2,num_latent)\n",
    "        self.z_log_var=tnn.Linear(64*2*2,num_latent)\n",
    "        # decoder\n",
    "        self.linear_de1=tnn.Linear(num_latent,64*2*2)             \n",
    "        self.deconv_de1=tnn\\\n",
    "        .ConvTranspose2d(in_channels=64,out_channels=32,\n",
    "                         kernel_size=(2,2),stride=(2,2),\n",
    "                         padding=0)                         \n",
    "        self.deconv_de2=tnn\\\n",
    "        .ConvTranspose2d(in_channels=32,out_channels=16,\n",
    "                         kernel_size=(4,4),stride=(3,3),\n",
    "                         padding=1)       \n",
    "        self.deconv_de3=tnn\\\n",
    "        .ConvTranspose2d(in_channels=16,out_channels=1,\n",
    "                         kernel_size=(6,6),stride=(3,3),\n",
    "                         padding=4)\n",
    "    def reparameterize(self,z_mu,z_log_var):\n",
    "        eps=torch.randn(z_mu.size(0),z_mu.size(1)).to(dev)\n",
    "        return z_mu+eps*torch.exp(z_log_var/2.)       \n",
    "    def encoder(self,features):\n",
    "        x=self.conv_en1(features); x=tnnf.leaky_relu(x)       \n",
    "        x=self.conv_en2(x); x=tnnf.leaky_relu(x)\n",
    "        x=self.conv_en3(x); x=tnnf.leaky_relu(x)      \n",
    "        z_mean=self.z_mean(x.view(-1,64*2*2))\n",
    "        z_log_var=self.z_log_var(x.view(-1,64*2*2))\n",
    "        encoded=self.reparameterize(z_mean,z_log_var)  \n",
    "        return z_mean,z_log_var,encoded  \n",
    "    def decoder(self,encoded):\n",
    "        x=self.linear_de1(encoded)\n",
    "        x=x.view(-1,64,2,2)     \n",
    "        x=self.deconv_de1(x); x=tnnf.leaky_relu(x)       \n",
    "        x=self.deconv_de2(x); x=tnnf.leaky_relu(x)      \n",
    "        x=self.deconv_de3(x); x=tnnf.leaky_relu(x)\n",
    "        decoded=torch.sigmoid(x)\n",
    "        return decoded\n",
    "    def forward(self,features):\n",
    "        z_mean,z_log_var,encoded=self.encoder(features)\n",
    "        decoded=self.decoder(encoded)\n",
    "        return z_mean,z_log_var,encoded,decoded"
   ]
  },
  {
   "cell_type": "code",
   "execution_count": 13,
   "metadata": {
    "_kg_hide-input": true
   },
   "outputs": [
    {
     "data": {
      "text/html": [
       "<style>\n",
       "    @import 'https://fonts.googleapis.com/css?family=Ewert&effect=3d';      \n",
       "    </style><h1 class='font-effect-3d' \n",
       "    style='font-family:Ewert; color:#ff6633;'>\n",
       "    Training</h1>"
      ],
      "text/plain": [
       "<IPython.core.display.HTML object>"
      ]
     },
     "metadata": {},
     "output_type": "display_data"
    }
   ],
   "source": [
    "dhtml('Training')"
   ]
  },
  {
   "cell_type": "code",
   "execution_count": 14,
   "metadata": {},
   "outputs": [],
   "source": [
    "torch.manual_seed(random_seed)\n",
    "learning_rate=.005; num_latent=15\n",
    "model=ConvVarAE(num_features=img_size**2,\n",
    "                num_latent=num_latent)\n",
    "model=model.to(dev)\n",
    "optimizer=torch.optim.Adam(model.parameters(),\n",
    "                           lr=learning_rate)"
   ]
  },
  {
   "cell_type": "code",
   "execution_count": 15,
   "metadata": {
    "_kg_hide-output": true
   },
   "outputs": [
    {
     "name": "stdout",
     "output_type": "stream",
     "text": [
      "Epoch: 001/030 | Batch: 000/469 | Cost: 69506.0156\n",
      "Epoch: 001/030 | Batch: 100/469 | Cost: 27100.7715\n",
      "Epoch: 001/030 | Batch: 200/469 | Cost: 24661.5410\n",
      "Epoch: 001/030 | Batch: 300/469 | Cost: 22608.0918\n",
      "Epoch: 001/030 | Batch: 400/469 | Cost: 21796.2207\n",
      "Epoch: 002/030 | Batch: 000/469 | Cost: 21358.4883\n",
      "Epoch: 002/030 | Batch: 100/469 | Cost: 20267.4238\n",
      "Epoch: 002/030 | Batch: 200/469 | Cost: 20079.6074\n",
      "Epoch: 002/030 | Batch: 300/469 | Cost: 19594.9668\n",
      "Epoch: 002/030 | Batch: 400/469 | Cost: 19105.3672\n",
      "Epoch: 003/030 | Batch: 000/469 | Cost: 18361.7266\n",
      "Epoch: 003/030 | Batch: 100/469 | Cost: 18132.7324\n",
      "Epoch: 003/030 | Batch: 200/469 | Cost: 17654.6211\n",
      "Epoch: 003/030 | Batch: 300/469 | Cost: 17208.3730\n",
      "Epoch: 003/030 | Batch: 400/469 | Cost: 16903.4219\n",
      "Epoch: 004/030 | Batch: 000/469 | Cost: 17135.9570\n",
      "Epoch: 004/030 | Batch: 100/469 | Cost: 17170.3867\n",
      "Epoch: 004/030 | Batch: 200/469 | Cost: 16206.3164\n",
      "Epoch: 004/030 | Batch: 300/469 | Cost: 16334.6504\n",
      "Epoch: 004/030 | Batch: 400/469 | Cost: 16443.6270\n",
      "Epoch: 005/030 | Batch: 000/469 | Cost: 15809.8086\n",
      "Epoch: 005/030 | Batch: 100/469 | Cost: 16537.7129\n",
      "Epoch: 005/030 | Batch: 200/469 | Cost: 15178.6992\n",
      "Epoch: 005/030 | Batch: 300/469 | Cost: 15779.2002\n",
      "Epoch: 005/030 | Batch: 400/469 | Cost: 15243.2285\n",
      "Epoch: 006/030 | Batch: 000/469 | Cost: 15920.6250\n",
      "Epoch: 006/030 | Batch: 100/469 | Cost: 15771.6133\n",
      "Epoch: 006/030 | Batch: 200/469 | Cost: 15984.8330\n",
      "Epoch: 006/030 | Batch: 300/469 | Cost: 15490.3574\n",
      "Epoch: 006/030 | Batch: 400/469 | Cost: 15499.8389\n",
      "Epoch: 007/030 | Batch: 000/469 | Cost: 15363.8623\n",
      "Epoch: 007/030 | Batch: 100/469 | Cost: 15779.5137\n",
      "Epoch: 007/030 | Batch: 200/469 | Cost: 15411.6992\n",
      "Epoch: 007/030 | Batch: 300/469 | Cost: 14939.7432\n",
      "Epoch: 007/030 | Batch: 400/469 | Cost: 16026.5527\n",
      "Epoch: 008/030 | Batch: 000/469 | Cost: 14929.5508\n",
      "Epoch: 008/030 | Batch: 100/469 | Cost: 15413.1309\n",
      "Epoch: 008/030 | Batch: 200/469 | Cost: 15098.4668\n",
      "Epoch: 008/030 | Batch: 300/469 | Cost: 14679.3477\n",
      "Epoch: 008/030 | Batch: 400/469 | Cost: 14748.6084\n",
      "Epoch: 009/030 | Batch: 000/469 | Cost: 15225.7012\n",
      "Epoch: 009/030 | Batch: 100/469 | Cost: 15204.9980\n",
      "Epoch: 009/030 | Batch: 200/469 | Cost: 15097.4287\n",
      "Epoch: 009/030 | Batch: 300/469 | Cost: 14595.3115\n",
      "Epoch: 009/030 | Batch: 400/469 | Cost: 14805.2520\n",
      "Epoch: 010/030 | Batch: 000/469 | Cost: 15047.2119\n",
      "Epoch: 010/030 | Batch: 100/469 | Cost: 14908.2549\n",
      "Epoch: 010/030 | Batch: 200/469 | Cost: 14962.7910\n",
      "Epoch: 010/030 | Batch: 300/469 | Cost: 14534.9863\n",
      "Epoch: 010/030 | Batch: 400/469 | Cost: 14731.3555\n",
      "Epoch: 011/030 | Batch: 000/469 | Cost: 14510.8047\n",
      "Epoch: 011/030 | Batch: 100/469 | Cost: 14725.1348\n",
      "Epoch: 011/030 | Batch: 200/469 | Cost: 14551.4697\n",
      "Epoch: 011/030 | Batch: 300/469 | Cost: 14336.5889\n",
      "Epoch: 011/030 | Batch: 400/469 | Cost: 14595.2529\n",
      "Epoch: 012/030 | Batch: 000/469 | Cost: 14046.2988\n",
      "Epoch: 012/030 | Batch: 100/469 | Cost: 15094.3223\n",
      "Epoch: 012/030 | Batch: 200/469 | Cost: 14923.4893\n",
      "Epoch: 012/030 | Batch: 300/469 | Cost: 14750.7412\n",
      "Epoch: 012/030 | Batch: 400/469 | Cost: 14303.5605\n",
      "Epoch: 013/030 | Batch: 000/469 | Cost: 14736.7305\n",
      "Epoch: 013/030 | Batch: 100/469 | Cost: 14369.5928\n",
      "Epoch: 013/030 | Batch: 200/469 | Cost: 14759.7695\n",
      "Epoch: 013/030 | Batch: 300/469 | Cost: 14520.8057\n",
      "Epoch: 013/030 | Batch: 400/469 | Cost: 14774.4385\n",
      "Epoch: 014/030 | Batch: 000/469 | Cost: 14232.7793\n",
      "Epoch: 014/030 | Batch: 100/469 | Cost: 14940.7627\n",
      "Epoch: 014/030 | Batch: 200/469 | Cost: 13882.5781\n",
      "Epoch: 014/030 | Batch: 300/469 | Cost: 14339.8828\n",
      "Epoch: 014/030 | Batch: 400/469 | Cost: 14978.3105\n",
      "Epoch: 015/030 | Batch: 000/469 | Cost: 13944.9883\n",
      "Epoch: 015/030 | Batch: 100/469 | Cost: 14111.7197\n",
      "Epoch: 015/030 | Batch: 200/469 | Cost: 15012.2871\n",
      "Epoch: 015/030 | Batch: 300/469 | Cost: 14471.7871\n",
      "Epoch: 015/030 | Batch: 400/469 | Cost: 14762.6016\n",
      "Epoch: 016/030 | Batch: 000/469 | Cost: 14797.2793\n",
      "Epoch: 016/030 | Batch: 100/469 | Cost: 14282.0400\n",
      "Epoch: 016/030 | Batch: 200/469 | Cost: 14859.9531\n",
      "Epoch: 016/030 | Batch: 300/469 | Cost: 14166.1465\n",
      "Epoch: 016/030 | Batch: 400/469 | Cost: 14995.7461\n",
      "Epoch: 017/030 | Batch: 000/469 | Cost: 14754.0205\n",
      "Epoch: 017/030 | Batch: 100/469 | Cost: 14458.8799\n",
      "Epoch: 017/030 | Batch: 200/469 | Cost: 14554.8535\n",
      "Epoch: 017/030 | Batch: 300/469 | Cost: 14633.2168\n",
      "Epoch: 017/030 | Batch: 400/469 | Cost: 14365.7979\n",
      "Epoch: 018/030 | Batch: 000/469 | Cost: 14649.1719\n",
      "Epoch: 018/030 | Batch: 100/469 | Cost: 14139.5908\n",
      "Epoch: 018/030 | Batch: 200/469 | Cost: 14124.0957\n",
      "Epoch: 018/030 | Batch: 300/469 | Cost: 14656.0293\n",
      "Epoch: 018/030 | Batch: 400/469 | Cost: 14756.6582\n",
      "Epoch: 019/030 | Batch: 000/469 | Cost: 14168.7598\n",
      "Epoch: 019/030 | Batch: 100/469 | Cost: 13806.4004\n",
      "Epoch: 019/030 | Batch: 200/469 | Cost: 14135.1172\n",
      "Epoch: 019/030 | Batch: 300/469 | Cost: 13262.2969\n",
      "Epoch: 019/030 | Batch: 400/469 | Cost: 14366.4854\n",
      "Epoch: 020/030 | Batch: 000/469 | Cost: 14385.9600\n",
      "Epoch: 020/030 | Batch: 100/469 | Cost: 14507.8359\n",
      "Epoch: 020/030 | Batch: 200/469 | Cost: 14672.6143\n",
      "Epoch: 020/030 | Batch: 300/469 | Cost: 14159.3301\n",
      "Epoch: 020/030 | Batch: 400/469 | Cost: 14454.1914\n",
      "Epoch: 021/030 | Batch: 000/469 | Cost: 14214.1699\n",
      "Epoch: 021/030 | Batch: 100/469 | Cost: 14430.8809\n",
      "Epoch: 021/030 | Batch: 200/469 | Cost: 14505.4355\n",
      "Epoch: 021/030 | Batch: 300/469 | Cost: 14313.5312\n",
      "Epoch: 021/030 | Batch: 400/469 | Cost: 14334.2217\n",
      "Epoch: 022/030 | Batch: 000/469 | Cost: 13837.9629\n",
      "Epoch: 022/030 | Batch: 100/469 | Cost: 14264.7100\n",
      "Epoch: 022/030 | Batch: 200/469 | Cost: 14143.2559\n",
      "Epoch: 022/030 | Batch: 300/469 | Cost: 14515.9434\n",
      "Epoch: 022/030 | Batch: 400/469 | Cost: 14352.8057\n",
      "Epoch: 023/030 | Batch: 000/469 | Cost: 14116.2852\n",
      "Epoch: 023/030 | Batch: 100/469 | Cost: 13998.3848\n",
      "Epoch: 023/030 | Batch: 200/469 | Cost: 13717.4189\n",
      "Epoch: 023/030 | Batch: 300/469 | Cost: 14629.5840\n",
      "Epoch: 023/030 | Batch: 400/469 | Cost: 14238.6504\n",
      "Epoch: 024/030 | Batch: 000/469 | Cost: 14513.7256\n",
      "Epoch: 024/030 | Batch: 100/469 | Cost: 14662.3105\n",
      "Epoch: 024/030 | Batch: 200/469 | Cost: 14094.1797\n",
      "Epoch: 024/030 | Batch: 300/469 | Cost: 14255.3125\n",
      "Epoch: 024/030 | Batch: 400/469 | Cost: 14570.5098\n",
      "Epoch: 025/030 | Batch: 000/469 | Cost: 14484.0215\n",
      "Epoch: 025/030 | Batch: 100/469 | Cost: 14210.3809\n",
      "Epoch: 025/030 | Batch: 200/469 | Cost: 14251.4980\n",
      "Epoch: 025/030 | Batch: 300/469 | Cost: 14451.1699\n",
      "Epoch: 025/030 | Batch: 400/469 | Cost: 14065.8018\n",
      "Epoch: 026/030 | Batch: 000/469 | Cost: 14425.7588\n",
      "Epoch: 026/030 | Batch: 100/469 | Cost: 14698.2930\n",
      "Epoch: 026/030 | Batch: 200/469 | Cost: 14364.4375\n",
      "Epoch: 026/030 | Batch: 300/469 | Cost: 14362.9277\n",
      "Epoch: 026/030 | Batch: 400/469 | Cost: 14018.4707\n",
      "Epoch: 027/030 | Batch: 000/469 | Cost: 14300.1406\n",
      "Epoch: 027/030 | Batch: 100/469 | Cost: 14199.2783\n",
      "Epoch: 027/030 | Batch: 200/469 | Cost: 13834.2852\n",
      "Epoch: 027/030 | Batch: 300/469 | Cost: 14309.3027\n",
      "Epoch: 027/030 | Batch: 400/469 | Cost: 14035.4463\n",
      "Epoch: 028/030 | Batch: 000/469 | Cost: 13810.3818\n",
      "Epoch: 028/030 | Batch: 100/469 | Cost: 13872.7500\n",
      "Epoch: 028/030 | Batch: 200/469 | Cost: 14347.1797\n",
      "Epoch: 028/030 | Batch: 300/469 | Cost: 14627.5410\n",
      "Epoch: 028/030 | Batch: 400/469 | Cost: 14581.9395\n",
      "Epoch: 029/030 | Batch: 000/469 | Cost: 13795.1475\n",
      "Epoch: 029/030 | Batch: 100/469 | Cost: 14168.5596\n",
      "Epoch: 029/030 | Batch: 200/469 | Cost: 14054.3555\n",
      "Epoch: 029/030 | Batch: 300/469 | Cost: 14101.6348\n",
      "Epoch: 029/030 | Batch: 400/469 | Cost: 13879.0117\n",
      "Epoch: 030/030 | Batch: 000/469 | Cost: 13518.7676\n",
      "Epoch: 030/030 | Batch: 100/469 | Cost: 13735.1904\n",
      "Epoch: 030/030 | Batch: 200/469 | Cost: 14012.6680\n",
      "Epoch: 030/030 | Batch: 300/469 | Cost: 13677.7695\n",
      "Epoch: 030/030 | Batch: 400/469 | Cost: 14172.0273\n"
     ]
    }
   ],
   "source": [
    "epochs=30\n",
    "for epoch in range(epochs):\n",
    "    for batch_ids,(features,targets) in enumerate(train_loader):\n",
    "        features=features.to(dev)\n",
    "        z_mean,z_log_var,encoded,decoded=model(features)\n",
    "        kl_divergence=(.5*(z_mean**2+torch.exp(z_log_var)-\n",
    "                           z_log_var-1)).sum()\n",
    "        pixelwise_bce=tnnf\\\n",
    "        .binary_cross_entropy(decoded,features,reduction='sum')\n",
    "        cost=kl_divergence+pixelwise_bce\n",
    "        optimizer.zero_grad()\n",
    "        cost.backward(); optimizer.step()\n",
    "        if not batch_ids%100:\n",
    "            print ('Epoch: %03d/%03d | Batch: %03d/%03d | Cost: %.4f' \n",
    "                   %(epoch+1,epochs,batch_ids, \n",
    "                     len(train_loader),cost))"
   ]
  },
  {
   "cell_type": "code",
   "execution_count": 16,
   "metadata": {
    "_kg_hide-input": true
   },
   "outputs": [
    {
     "data": {
      "text/html": [
       "<style>\n",
       "    @import 'https://fonts.googleapis.com/css?family=Ewert&effect=3d';      \n",
       "    </style><h1 class='font-effect-3d' \n",
       "    style='font-family:Ewert; color:#ff6633;'>\n",
       "    Reconstruction</h1>"
      ],
      "text/plain": [
       "<IPython.core.display.HTML object>"
      ]
     },
     "metadata": {},
     "output_type": "display_data"
    }
   ],
   "source": [
    "dhtml('Reconstruction')"
   ]
  },
  {
   "cell_type": "code",
   "execution_count": 17,
   "metadata": {},
   "outputs": [
    {
     "data": {
      "image/png": "[encoded data removed]",
      "text/plain": [
       "<Figure size 720x288 with 10 Axes>"
      ]
     },
     "metadata": {
      "needs_background": "light"
     },
     "output_type": "display_data"
    }
   ],
   "source": [
    "num_images=5\n",
    "fig,axes=pl.subplots(nrows=2,ncols=num_images, \n",
    "                     sharex=True,sharey=True,\n",
    "                     figsize=(10,4))\n",
    "original_images=features[:num_images]\n",
    "decoded_images=decoded[:num_images]\n",
    "for i in range(num_images):\n",
    "    for ax,img in zip(axes,[original_images,\n",
    "                            decoded_images]):\n",
    "        ax[i].imshow(img[i].detach().to(torch.device('cpu'))\\\n",
    "                     .reshape((img_size,img_size)),cmap='bone')"
   ]
  },
  {
   "cell_type": "code",
   "execution_count": 18,
   "metadata": {
    "_kg_hide-input": true
   },
   "outputs": [
    {
     "data": {
      "text/html": [
       "<style>\n",
       "    @import 'https://fonts.googleapis.com/css?family=Ewert&effect=3d';      \n",
       "    </style><h1 class='font-effect-3d' \n",
       "    style='font-family:Ewert; color:#ff6633;'>\n",
       "    Generating</h1>"
      ],
      "text/plain": [
       "<IPython.core.display.HTML object>"
      ]
     },
     "metadata": {},
     "output_type": "display_data"
    }
   ],
   "source": [
    "dhtml('Generating')"
   ]
  },
  {
   "cell_type": "code",
   "execution_count": 19,
   "metadata": {},
   "outputs": [
    {
     "data": {
      "image/png": "[encoded data removed]",
      "text/plain": [
       "<Figure size 720x288 with 10 Axes>"
      ]
     },
     "metadata": {
      "needs_background": "light"
     },
     "output_type": "display_data"
    }
   ],
   "source": [
    "num_images=10\n",
    "latent_features=\\\n",
    "torch.randn(num_images,num_latent).to(dev)\n",
    "generated_images=model.decoder(latent_features)\n",
    "decoded_images=generated_images[:num_images]\n",
    "fig,axes=pl.subplots(nrows=2,ncols=num_images//2,\n",
    "                     figsize=(10,4),sharey=True)\n",
    "for ax,img in zip(axes.reshape(num_images),decoded_images):\n",
    "    ax.imshow(img.detach().to(torch.device('cpu'))\\\n",
    "              .reshape((img_size,img_size)),cmap='bone')"
   ]
  },
  {
   "cell_type": "code",
   "execution_count": 20,
   "metadata": {
    "_kg_hide-input": true
   },
   "outputs": [
    {
     "data": {
      "text/html": [
       "<style>\n",
       "    @import 'https://fonts.googleapis.com/css?family=Ewert&effect=3d';      \n",
       "    </style><h1 class='font-effect-3d' \n",
       "    style='font-family:Ewert; color:#ff6633;'>\n",
       "    Convolutional Conditional <br/>Variational Autoencoder</h1>"
      ],
      "text/plain": [
       "<IPython.core.display.HTML object>"
      ]
     },
     "metadata": {},
     "output_type": "display_data"
    }
   ],
   "source": [
    "dhtml('Convolutional Conditional <br/>Variational Autoencoder')"
   ]
  },
  {
   "cell_type": "code",
   "execution_count": 21,
   "metadata": {},
   "outputs": [],
   "source": [
    "ch1,ch2,ch3=16,48,144\n",
    "def to_onehot(labels,num_classes,device):\n",
    "    labels_ohe=torch.zeros(labels.size()[0],\n",
    "                           num_classes).to(device)\n",
    "    labels_ohe.scatter_(1,labels.view(-1,1),1)\n",
    "    return labels_ohe\n",
    "class CondVarAE(tnn.Module):\n",
    "    def __init__(self,num_features,num_latent,num_classes):\n",
    "        super(CondVarAE,self).__init__()\n",
    "        self.num_classes=num_classes\n",
    "        # ENCODER\n",
    "        self.conv_en1=tnn\\\n",
    "        .Conv2d(in_channels=1+self.num_classes,\n",
    "                out_channels=ch1,kernel_size=(6,6),\n",
    "                stride=(2,2),padding=0)\n",
    "        self.conv_en2=tnn\\\n",
    "        .Conv2d(in_channels=ch1,out_channels=ch2,\n",
    "                kernel_size=(4,4),stride=(2,2),\n",
    "                padding=0)                        \n",
    "        self.conv_en3=tnn\\\n",
    "        .Conv2d(in_channels=ch2,out_channels=ch3,\n",
    "                kernel_size=(2,2),stride=(2,2),\n",
    "                padding=0)                     \n",
    "        self.z_mean=tnn.Linear(ch3*2*2,num_latent)\n",
    "        self.z_log_var=tnn.Linear(ch3*2*2,num_latent)\n",
    "        # DECODER\n",
    "        self.linear_de1=tnn\\\n",
    "        .Linear(num_latent+self.num_classes,ch3*2*2)\n",
    "        self.deconv_de1=tnn\\\n",
    "        .ConvTranspose2d(in_channels=ch3,out_channels=ch2,\n",
    "                         kernel_size=(2,2),stride=(2,2),\n",
    "                         padding=0)                              \n",
    "        self.deconv_de2=tnn\\\n",
    "        .ConvTranspose2d(in_channels=ch2,out_channels=ch1,\n",
    "                         kernel_size=(4,4),stride=(3,3),\n",
    "                         padding=1)\n",
    "        \n",
    "        self.deconv_de3=tnn\\\n",
    "        .ConvTranspose2d(in_channels=ch1,out_channels=1,\n",
    "                         kernel_size=(6,6),stride=(3,3),\n",
    "                         padding=4)        \n",
    "    def reparameterize(self, z_mu, z_log_var):\n",
    "        eps=torch.randn(z_mu.size(0),z_mu.size(1)).to(dev)\n",
    "        return z_mu+eps*torch.exp(z_log_var/2.)    \n",
    "    def encoder(self,features,targets):\n",
    "        onehot_targets=\\\n",
    "        to_onehot(targets,self.num_classes,dev)\n",
    "        onehot_targets=\\\n",
    "        onehot_targets.view(-1,self.num_classes,1,1)        \n",
    "        ones=torch.ones(features.size()[0], self.num_classes,\n",
    "                        features.size()[2],features.size()[3], \n",
    "                        dtype=features.dtype).to(dev)\n",
    "        ones=ones*onehot_targets\n",
    "        x=torch.cat((features,ones),dim=1)        \n",
    "        x=self.conv_en1(x); x=tnnf.leaky_relu(x)      \n",
    "        x=self.conv_en2(x); x=tnnf.leaky_relu(x)\n",
    "        x=self.conv_en3(x); x=tnnf.leaky_relu(x)     \n",
    "        z_mean=self.z_mean(x.view(-1,ch3*2*2))\n",
    "        z_log_var=self.z_log_var(x.view(-1,ch3*2*2))\n",
    "        encoded=self.reparameterize(z_mean,z_log_var)\n",
    "        return z_mean,z_log_var,encoded  \n",
    "    def decoder(self,encoded,targets):\n",
    "        onehot_targets=\\\n",
    "        to_onehot(targets,self.num_classes,dev)\n",
    "        encoded=torch.cat((encoded,onehot_targets),dim=1)        \n",
    "        x=self.linear_de1(encoded)\n",
    "        x=x.view(-1,ch3,2,2)  \n",
    "        x=self.deconv_de1(x); x=tnnf.leaky_relu(x)      \n",
    "        x=self.deconv_de2(x); x=tnnf.leaky_relu(x)\n",
    "        x=self.deconv_de3(x); x=tnnf.leaky_relu(x)\n",
    "        decoded=torch.sigmoid(x)\n",
    "        return decoded\n",
    "    def forward(self,features,targets):      \n",
    "        z_mean,z_log_var,encoded=self.encoder(features,targets)\n",
    "        decoded=self.decoder(encoded,targets)     \n",
    "        return z_mean,z_log_var,encoded,decoded"
   ]
  },
  {
   "cell_type": "code",
   "execution_count": 22,
   "metadata": {
    "_kg_hide-input": true
   },
   "outputs": [
    {
     "data": {
      "text/html": [
       "<style>\n",
       "    @import 'https://fonts.googleapis.com/css?family=Ewert&effect=3d';      \n",
       "    </style><h1 class='font-effect-3d' \n",
       "    style='font-family:Ewert; color:#ff6633;'>\n",
       "    Training 2</h1>"
      ],
      "text/plain": [
       "<IPython.core.display.HTML object>"
      ]
     },
     "metadata": {},
     "output_type": "display_data"
    }
   ],
   "source": [
    "dhtml('Training 2')"
   ]
  },
  {
   "cell_type": "code",
   "execution_count": 23,
   "metadata": {},
   "outputs": [],
   "source": [
    "torch.manual_seed(random_seed)\n",
    "learning_rate=.0015; num_latent=121; num_classes=33\n",
    "model=CondVarAE(num_features=img_size**2,\n",
    "                num_latent=num_latent,\n",
    "                num_classes=num_classes)\n",
    "model=model.to(dev)\n",
    "optimizer=torch.optim.Adam(model.parameters(),\n",
    "                           lr=learning_rate)"
   ]
  },
  {
   "cell_type": "code",
   "execution_count": 24,
   "metadata": {
    "_kg_hide-output": true
   },
   "outputs": [
    {
     "name": "stdout",
     "output_type": "stream",
     "text": [
      "Epoch: 001/200 | Batch: 000/089 | Cost: 70784.0859\n",
      "Epoch: 001/200 | Batch: 050/089 | Cost: 69402.9141\n",
      "Epoch: 002/200 | Batch: 000/089 | Cost: 65449.6953\n",
      "Epoch: 002/200 | Batch: 050/089 | Cost: 65639.2109\n",
      "Epoch: 003/200 | Batch: 000/089 | Cost: 66259.8203\n",
      "Epoch: 003/200 | Batch: 050/089 | Cost: 66133.5547\n",
      "Epoch: 004/200 | Batch: 000/089 | Cost: 66136.6875\n",
      "Epoch: 004/200 | Batch: 050/089 | Cost: 65442.6641\n",
      "Epoch: 005/200 | Batch: 000/089 | Cost: 64987.1133\n",
      "Epoch: 005/200 | Batch: 050/089 | Cost: 65188.4766\n",
      "Epoch: 006/200 | Batch: 000/089 | Cost: 64605.6250\n",
      "Epoch: 006/200 | Batch: 050/089 | Cost: 65826.8125\n",
      "Epoch: 007/200 | Batch: 000/089 | Cost: 64856.4766\n",
      "Epoch: 007/200 | Batch: 050/089 | Cost: 64741.5273\n",
      "Epoch: 008/200 | Batch: 000/089 | Cost: 65559.3828\n",
      "Epoch: 008/200 | Batch: 050/089 | Cost: 64932.1484\n",
      "Epoch: 009/200 | Batch: 000/089 | Cost: 64037.4141\n",
      "Epoch: 009/200 | Batch: 050/089 | Cost: 64567.3516\n",
      "Epoch: 010/200 | Batch: 000/089 | Cost: 64503.9414\n",
      "Epoch: 010/200 | Batch: 050/089 | Cost: 65829.0000\n",
      "Epoch: 011/200 | Batch: 000/089 | Cost: 65496.0273\n",
      "Epoch: 011/200 | Batch: 050/089 | Cost: 65306.8789\n",
      "Epoch: 012/200 | Batch: 000/089 | Cost: 63413.0820\n",
      "Epoch: 012/200 | Batch: 050/089 | Cost: 64761.5391\n",
      "Epoch: 013/200 | Batch: 000/089 | Cost: 64897.8594\n",
      "Epoch: 013/200 | Batch: 050/089 | Cost: 64900.7539\n",
      "Epoch: 014/200 | Batch: 000/089 | Cost: 64909.6875\n",
      "Epoch: 014/200 | Batch: 050/089 | Cost: 64570.2734\n",
      "Epoch: 015/200 | Batch: 000/089 | Cost: 65129.3438\n",
      "Epoch: 015/200 | Batch: 050/089 | Cost: 64636.1016\n",
      "Epoch: 016/200 | Batch: 000/089 | Cost: 65174.0234\n",
      "Epoch: 016/200 | Batch: 050/089 | Cost: 65501.9570\n",
      "Epoch: 017/200 | Batch: 000/089 | Cost: 64403.8672\n",
      "Epoch: 017/200 | Batch: 050/089 | Cost: 64510.0117\n",
      "Epoch: 018/200 | Batch: 000/089 | Cost: 64593.4648\n",
      "Epoch: 018/200 | Batch: 050/089 | Cost: 65034.2930\n",
      "Epoch: 019/200 | Batch: 000/089 | Cost: 64774.1680\n",
      "Epoch: 019/200 | Batch: 050/089 | Cost: 64828.8359\n",
      "Epoch: 020/200 | Batch: 000/089 | Cost: 65173.2109\n",
      "Epoch: 020/200 | Batch: 050/089 | Cost: 64444.6133\n",
      "Epoch: 021/200 | Batch: 000/089 | Cost: 64992.2109\n",
      "Epoch: 021/200 | Batch: 050/089 | Cost: 65398.4922\n",
      "Epoch: 022/200 | Batch: 000/089 | Cost: 64736.9297\n",
      "Epoch: 022/200 | Batch: 050/089 | Cost: 64870.1172\n",
      "Epoch: 023/200 | Batch: 000/089 | Cost: 64876.7031\n",
      "Epoch: 023/200 | Batch: 050/089 | Cost: 65635.3750\n",
      "Epoch: 024/200 | Batch: 000/089 | Cost: 63919.9453\n",
      "Epoch: 024/200 | Batch: 050/089 | Cost: 64844.2578\n",
      "Epoch: 025/200 | Batch: 000/089 | Cost: 64270.4453\n",
      "Epoch: 025/200 | Batch: 050/089 | Cost: 64942.6523\n",
      "Epoch: 026/200 | Batch: 000/089 | Cost: 65249.0430\n",
      "Epoch: 026/200 | Batch: 050/089 | Cost: 64376.4180\n",
      "Epoch: 027/200 | Batch: 000/089 | Cost: 64236.0664\n",
      "Epoch: 027/200 | Batch: 050/089 | Cost: 64119.0156\n",
      "Epoch: 028/200 | Batch: 000/089 | Cost: 65208.8555\n",
      "Epoch: 028/200 | Batch: 050/089 | Cost: 63817.9141\n",
      "Epoch: 029/200 | Batch: 000/089 | Cost: 64568.8438\n",
      "Epoch: 029/200 | Batch: 050/089 | Cost: 64636.4023\n",
      "Epoch: 030/200 | Batch: 000/089 | Cost: 65114.7344\n",
      "Epoch: 030/200 | Batch: 050/089 | Cost: 65359.0352\n",
      "Epoch: 031/200 | Batch: 000/089 | Cost: 66075.8672\n",
      "Epoch: 031/200 | Batch: 050/089 | Cost: 65029.2812\n",
      "Epoch: 032/200 | Batch: 000/089 | Cost: 65361.8828\n",
      "Epoch: 032/200 | Batch: 050/089 | Cost: 65079.4570\n",
      "Epoch: 033/200 | Batch: 000/089 | Cost: 64379.1562\n",
      "Epoch: 033/200 | Batch: 050/089 | Cost: 65143.5039\n",
      "Epoch: 034/200 | Batch: 000/089 | Cost: 64957.1602\n",
      "Epoch: 034/200 | Batch: 050/089 | Cost: 64266.6055\n",
      "Epoch: 035/200 | Batch: 000/089 | Cost: 64777.5078\n",
      "Epoch: 035/200 | Batch: 050/089 | Cost: 63874.4375\n",
      "Epoch: 036/200 | Batch: 000/089 | Cost: 64694.5312\n",
      "Epoch: 036/200 | Batch: 050/089 | Cost: 65488.6367\n",
      "Epoch: 037/200 | Batch: 000/089 | Cost: 64322.6094\n",
      "Epoch: 037/200 | Batch: 050/089 | Cost: 64572.4336\n",
      "Epoch: 038/200 | Batch: 000/089 | Cost: 65936.2969\n",
      "Epoch: 038/200 | Batch: 050/089 | Cost: 65116.0391\n",
      "Epoch: 039/200 | Batch: 000/089 | Cost: 65166.7031\n",
      "Epoch: 039/200 | Batch: 050/089 | Cost: 64984.3750\n",
      "Epoch: 040/200 | Batch: 000/089 | Cost: 65509.5430\n",
      "Epoch: 040/200 | Batch: 050/089 | Cost: 65131.1133\n",
      "Epoch: 041/200 | Batch: 000/089 | Cost: 64962.8477\n",
      "Epoch: 041/200 | Batch: 050/089 | Cost: 65400.9492\n",
      "Epoch: 042/200 | Batch: 000/089 | Cost: 65200.1328\n",
      "Epoch: 042/200 | Batch: 050/089 | Cost: 65301.3594\n",
      "Epoch: 043/200 | Batch: 000/089 | Cost: 64427.4648\n",
      "Epoch: 043/200 | Batch: 050/089 | Cost: 64777.6523\n",
      "Epoch: 044/200 | Batch: 000/089 | Cost: 65030.7891\n",
      "Epoch: 044/200 | Batch: 050/089 | Cost: 65395.4180\n",
      "Epoch: 045/200 | Batch: 000/089 | Cost: 63540.7656\n",
      "Epoch: 045/200 | Batch: 050/089 | Cost: 64569.2031\n",
      "Epoch: 046/200 | Batch: 000/089 | Cost: 64067.6914\n",
      "Epoch: 046/200 | Batch: 050/089 | Cost: 64990.6914\n",
      "Epoch: 047/200 | Batch: 000/089 | Cost: 65337.2539\n",
      "Epoch: 047/200 | Batch: 050/089 | Cost: 65590.0547\n",
      "Epoch: 048/200 | Batch: 000/089 | Cost: 65111.9180\n",
      "Epoch: 048/200 | Batch: 050/089 | Cost: 65105.5469\n",
      "Epoch: 049/200 | Batch: 000/089 | Cost: 65377.1172\n",
      "Epoch: 049/200 | Batch: 050/089 | Cost: 65289.2227\n",
      "Epoch: 050/200 | Batch: 000/089 | Cost: 65214.4844\n",
      "Epoch: 050/200 | Batch: 050/089 | Cost: 64395.6719\n",
      "Epoch: 051/200 | Batch: 000/089 | Cost: 65309.7031\n",
      "Epoch: 051/200 | Batch: 050/089 | Cost: 65718.0078\n",
      "Epoch: 052/200 | Batch: 000/089 | Cost: 64309.2773\n",
      "Epoch: 052/200 | Batch: 050/089 | Cost: 65156.6797\n",
      "Epoch: 053/200 | Batch: 000/089 | Cost: 64615.2109\n",
      "Epoch: 053/200 | Batch: 050/089 | Cost: 65180.3750\n",
      "Epoch: 054/200 | Batch: 000/089 | Cost: 64568.9219\n",
      "Epoch: 054/200 | Batch: 050/089 | Cost: 64140.6133\n",
      "Epoch: 055/200 | Batch: 000/089 | Cost: 65216.9258\n",
      "Epoch: 055/200 | Batch: 050/089 | Cost: 64973.9648\n",
      "Epoch: 056/200 | Batch: 000/089 | Cost: 65075.6445\n",
      "Epoch: 056/200 | Batch: 050/089 | Cost: 65896.7656\n",
      "Epoch: 057/200 | Batch: 000/089 | Cost: 65276.9609\n",
      "Epoch: 057/200 | Batch: 050/089 | Cost: 65331.1211\n",
      "Epoch: 058/200 | Batch: 000/089 | Cost: 64779.5469\n",
      "Epoch: 058/200 | Batch: 050/089 | Cost: 65125.2266\n",
      "Epoch: 059/200 | Batch: 000/089 | Cost: 64485.0430\n",
      "Epoch: 059/200 | Batch: 050/089 | Cost: 65271.5898\n",
      "Epoch: 060/200 | Batch: 000/089 | Cost: 65052.8398\n",
      "Epoch: 060/200 | Batch: 050/089 | Cost: 63584.7852\n",
      "Epoch: 061/200 | Batch: 000/089 | Cost: 65219.3594\n",
      "Epoch: 061/200 | Batch: 050/089 | Cost: 65147.8164\n",
      "Epoch: 062/200 | Batch: 000/089 | Cost: 64714.0273\n",
      "Epoch: 062/200 | Batch: 050/089 | Cost: 64132.8711\n",
      "Epoch: 063/200 | Batch: 000/089 | Cost: 65340.4844\n",
      "Epoch: 063/200 | Batch: 050/089 | Cost: 63856.7070\n",
      "Epoch: 064/200 | Batch: 000/089 | Cost: 64897.4648\n",
      "Epoch: 064/200 | Batch: 050/089 | Cost: 64727.8516\n",
      "Epoch: 065/200 | Batch: 000/089 | Cost: 65417.5625\n",
      "Epoch: 065/200 | Batch: 050/089 | Cost: 64988.1445\n",
      "Epoch: 066/200 | Batch: 000/089 | Cost: 64549.6914\n",
      "Epoch: 066/200 | Batch: 050/089 | Cost: 64996.7578\n",
      "Epoch: 067/200 | Batch: 000/089 | Cost: 64603.4805\n",
      "Epoch: 067/200 | Batch: 050/089 | Cost: 64704.8359\n",
      "Epoch: 068/200 | Batch: 000/089 | Cost: 64138.1445\n",
      "Epoch: 068/200 | Batch: 050/089 | Cost: 64896.0078\n",
      "Epoch: 069/200 | Batch: 000/089 | Cost: 65298.2070\n",
      "Epoch: 069/200 | Batch: 050/089 | Cost: 64582.7773\n",
      "Epoch: 070/200 | Batch: 000/089 | Cost: 65147.6523\n",
      "Epoch: 070/200 | Batch: 050/089 | Cost: 65056.5938\n",
      "Epoch: 071/200 | Batch: 000/089 | Cost: 65232.6094\n",
      "Epoch: 071/200 | Batch: 050/089 | Cost: 65205.5391\n",
      "Epoch: 072/200 | Batch: 000/089 | Cost: 64644.3867\n",
      "Epoch: 072/200 | Batch: 050/089 | Cost: 65491.5664\n",
      "Epoch: 073/200 | Batch: 000/089 | Cost: 64726.3203\n",
      "Epoch: 073/200 | Batch: 050/089 | Cost: 65084.6875\n",
      "Epoch: 074/200 | Batch: 000/089 | Cost: 64726.0625\n",
      "Epoch: 074/200 | Batch: 050/089 | Cost: 64896.1875\n",
      "Epoch: 075/200 | Batch: 000/089 | Cost: 65195.4258\n",
      "Epoch: 075/200 | Batch: 050/089 | Cost: 64591.0977\n",
      "Epoch: 076/200 | Batch: 000/089 | Cost: 65369.0859\n",
      "Epoch: 076/200 | Batch: 050/089 | Cost: 64238.5586\n",
      "Epoch: 077/200 | Batch: 000/089 | Cost: 64042.1914\n",
      "Epoch: 077/200 | Batch: 050/089 | Cost: 65201.1211\n",
      "Epoch: 078/200 | Batch: 000/089 | Cost: 64559.2344\n",
      "Epoch: 078/200 | Batch: 050/089 | Cost: 65375.8164\n",
      "Epoch: 079/200 | Batch: 000/089 | Cost: 65071.2812\n",
      "Epoch: 079/200 | Batch: 050/089 | Cost: 65457.3438\n",
      "Epoch: 080/200 | Batch: 000/089 | Cost: 64208.5547\n",
      "Epoch: 080/200 | Batch: 050/089 | Cost: 65197.0352\n",
      "Epoch: 081/200 | Batch: 000/089 | Cost: 64819.5352\n",
      "Epoch: 081/200 | Batch: 050/089 | Cost: 65325.9648\n",
      "Epoch: 082/200 | Batch: 000/089 | Cost: 64805.2305\n",
      "Epoch: 082/200 | Batch: 050/089 | Cost: 65022.1016\n",
      "Epoch: 083/200 | Batch: 000/089 | Cost: 64796.3203\n",
      "Epoch: 083/200 | Batch: 050/089 | Cost: 64543.8867\n",
      "Epoch: 084/200 | Batch: 000/089 | Cost: 64664.0312\n",
      "Epoch: 084/200 | Batch: 050/089 | Cost: 65125.9297\n",
      "Epoch: 085/200 | Batch: 000/089 | Cost: 64984.8789\n",
      "Epoch: 085/200 | Batch: 050/089 | Cost: 65527.0859\n",
      "Epoch: 086/200 | Batch: 000/089 | Cost: 64165.9023\n",
      "Epoch: 086/200 | Batch: 050/089 | Cost: 64642.5938\n",
      "Epoch: 087/200 | Batch: 000/089 | Cost: 64204.3477\n",
      "Epoch: 087/200 | Batch: 050/089 | Cost: 64912.3867\n",
      "Epoch: 088/200 | Batch: 000/089 | Cost: 64922.2188\n",
      "Epoch: 088/200 | Batch: 050/089 | Cost: 64517.5859\n",
      "Epoch: 089/200 | Batch: 000/089 | Cost: 64394.8633\n",
      "Epoch: 089/200 | Batch: 050/089 | Cost: 65073.0703\n",
      "Epoch: 090/200 | Batch: 000/089 | Cost: 65123.8203\n",
      "Epoch: 090/200 | Batch: 050/089 | Cost: 66065.9219\n",
      "Epoch: 091/200 | Batch: 000/089 | Cost: 65044.5781\n",
      "Epoch: 091/200 | Batch: 050/089 | Cost: 64258.1875\n",
      "Epoch: 092/200 | Batch: 000/089 | Cost: 65023.5391\n",
      "Epoch: 092/200 | Batch: 050/089 | Cost: 65289.8359\n",
      "Epoch: 093/200 | Batch: 000/089 | Cost: 65094.6875\n",
      "Epoch: 093/200 | Batch: 050/089 | Cost: 65765.1719\n",
      "Epoch: 094/200 | Batch: 000/089 | Cost: 65012.8789\n",
      "Epoch: 094/200 | Batch: 050/089 | Cost: 64260.0234\n",
      "Epoch: 095/200 | Batch: 000/089 | Cost: 65003.0195\n",
      "Epoch: 095/200 | Batch: 050/089 | Cost: 65040.6797\n",
      "Epoch: 096/200 | Batch: 000/089 | Cost: 64848.5938\n",
      "Epoch: 096/200 | Batch: 050/089 | Cost: 64809.4727\n",
      "Epoch: 097/200 | Batch: 000/089 | Cost: 65071.1406\n",
      "Epoch: 097/200 | Batch: 050/089 | Cost: 65107.9922\n",
      "Epoch: 098/200 | Batch: 000/089 | Cost: 65559.5234\n",
      "Epoch: 098/200 | Batch: 050/089 | Cost: 64558.8281\n",
      "Epoch: 099/200 | Batch: 000/089 | Cost: 64984.2617\n",
      "Epoch: 099/200 | Batch: 050/089 | Cost: 64785.3477\n",
      "Epoch: 100/200 | Batch: 000/089 | Cost: 65392.7734\n",
      "Epoch: 100/200 | Batch: 050/089 | Cost: 65648.7422\n",
      "Epoch: 101/200 | Batch: 000/089 | Cost: 65307.1602\n",
      "Epoch: 101/200 | Batch: 050/089 | Cost: 65064.7031\n",
      "Epoch: 102/200 | Batch: 000/089 | Cost: 64923.8477\n",
      "Epoch: 102/200 | Batch: 050/089 | Cost: 65048.1133\n",
      "Epoch: 103/200 | Batch: 000/089 | Cost: 64458.4844\n",
      "Epoch: 103/200 | Batch: 050/089 | Cost: 64458.8516\n",
      "Epoch: 104/200 | Batch: 000/089 | Cost: 64644.6211\n",
      "Epoch: 104/200 | Batch: 050/089 | Cost: 64625.0234\n",
      "Epoch: 105/200 | Batch: 000/089 | Cost: 65412.1172\n",
      "Epoch: 105/200 | Batch: 050/089 | Cost: 64426.0000\n",
      "Epoch: 106/200 | Batch: 000/089 | Cost: 63773.5312\n",
      "Epoch: 106/200 | Batch: 050/089 | Cost: 65188.9102\n",
      "Epoch: 107/200 | Batch: 000/089 | Cost: 64852.8711\n",
      "Epoch: 107/200 | Batch: 050/089 | Cost: 65189.7852\n",
      "Epoch: 108/200 | Batch: 000/089 | Cost: 65390.7344\n",
      "Epoch: 108/200 | Batch: 050/089 | Cost: 64901.8320\n",
      "Epoch: 109/200 | Batch: 000/089 | Cost: 65185.3594\n",
      "Epoch: 109/200 | Batch: 050/089 | Cost: 65164.8984\n",
      "Epoch: 110/200 | Batch: 000/089 | Cost: 65242.6367\n",
      "Epoch: 110/200 | Batch: 050/089 | Cost: 65430.6133\n",
      "Epoch: 111/200 | Batch: 000/089 | Cost: 64419.8555\n",
      "Epoch: 111/200 | Batch: 050/089 | Cost: 65142.1484\n",
      "Epoch: 112/200 | Batch: 000/089 | Cost: 64720.4180\n",
      "Epoch: 112/200 | Batch: 050/089 | Cost: 65280.4297\n",
      "Epoch: 113/200 | Batch: 000/089 | Cost: 65011.9023\n",
      "Epoch: 113/200 | Batch: 050/089 | Cost: 65009.2734\n",
      "Epoch: 114/200 | Batch: 000/089 | Cost: 63886.3633\n",
      "Epoch: 114/200 | Batch: 050/089 | Cost: 64853.2070\n",
      "Epoch: 115/200 | Batch: 000/089 | Cost: 64543.5742\n",
      "Epoch: 115/200 | Batch: 050/089 | Cost: 65001.6406\n",
      "Epoch: 116/200 | Batch: 000/089 | Cost: 65553.6094\n",
      "Epoch: 116/200 | Batch: 050/089 | Cost: 64521.8242\n",
      "Epoch: 117/200 | Batch: 000/089 | Cost: 64207.5781\n",
      "Epoch: 117/200 | Batch: 050/089 | Cost: 64937.9141\n",
      "Epoch: 118/200 | Batch: 000/089 | Cost: 64184.4805\n",
      "Epoch: 118/200 | Batch: 050/089 | Cost: 65255.7617\n",
      "Epoch: 119/200 | Batch: 000/089 | Cost: 64674.5234\n",
      "Epoch: 119/200 | Batch: 050/089 | Cost: 65454.3867\n",
      "Epoch: 120/200 | Batch: 000/089 | Cost: 64145.9297\n",
      "Epoch: 120/200 | Batch: 050/089 | Cost: 64164.5430\n",
      "Epoch: 121/200 | Batch: 000/089 | Cost: 65533.5312\n",
      "Epoch: 121/200 | Batch: 050/089 | Cost: 64871.4492\n",
      "Epoch: 122/200 | Batch: 000/089 | Cost: 64570.1055\n",
      "Epoch: 122/200 | Batch: 050/089 | Cost: 65440.5469\n",
      "Epoch: 123/200 | Batch: 000/089 | Cost: 65315.0508\n",
      "Epoch: 123/200 | Batch: 050/089 | Cost: 64693.7031\n",
      "Epoch: 124/200 | Batch: 000/089 | Cost: 65472.3359\n",
      "Epoch: 124/200 | Batch: 050/089 | Cost: 65260.4805\n",
      "Epoch: 125/200 | Batch: 000/089 | Cost: 65323.5430\n",
      "Epoch: 125/200 | Batch: 050/089 | Cost: 64058.1445\n",
      "Epoch: 126/200 | Batch: 000/089 | Cost: 64513.5273\n",
      "Epoch: 126/200 | Batch: 050/089 | Cost: 64825.9766\n",
      "Epoch: 127/200 | Batch: 000/089 | Cost: 65045.9062\n",
      "Epoch: 127/200 | Batch: 050/089 | Cost: 65341.3750\n",
      "Epoch: 128/200 | Batch: 000/089 | Cost: 64663.7578\n",
      "Epoch: 128/200 | Batch: 050/089 | Cost: 65148.8125\n",
      "Epoch: 129/200 | Batch: 000/089 | Cost: 65236.4297\n",
      "Epoch: 129/200 | Batch: 050/089 | Cost: 65404.3984\n",
      "Epoch: 130/200 | Batch: 000/089 | Cost: 63875.8906\n",
      "Epoch: 130/200 | Batch: 050/089 | Cost: 65026.7969\n",
      "Epoch: 131/200 | Batch: 000/089 | Cost: 65034.5000\n",
      "Epoch: 131/200 | Batch: 050/089 | Cost: 64983.5703\n",
      "Epoch: 132/200 | Batch: 000/089 | Cost: 64456.8125\n",
      "Epoch: 132/200 | Batch: 050/089 | Cost: 63754.0859\n",
      "Epoch: 133/200 | Batch: 000/089 | Cost: 64835.8047\n",
      "Epoch: 133/200 | Batch: 050/089 | Cost: 65143.7227\n",
      "Epoch: 134/200 | Batch: 000/089 | Cost: 64489.4258\n",
      "Epoch: 134/200 | Batch: 050/089 | Cost: 65694.9688\n",
      "Epoch: 135/200 | Batch: 000/089 | Cost: 64873.2734\n",
      "Epoch: 135/200 | Batch: 050/089 | Cost: 64673.6250\n",
      "Epoch: 136/200 | Batch: 000/089 | Cost: 65231.9805\n",
      "Epoch: 136/200 | Batch: 050/089 | Cost: 65304.4648\n",
      "Epoch: 137/200 | Batch: 000/089 | Cost: 65566.0234\n",
      "Epoch: 137/200 | Batch: 050/089 | Cost: 64774.8633\n",
      "Epoch: 138/200 | Batch: 000/089 | Cost: 64974.8828\n",
      "Epoch: 138/200 | Batch: 050/089 | Cost: 64852.6367\n",
      "Epoch: 139/200 | Batch: 000/089 | Cost: 64858.3789\n",
      "Epoch: 139/200 | Batch: 050/089 | Cost: 64469.8477\n",
      "Epoch: 140/200 | Batch: 000/089 | Cost: 64418.8438\n",
      "Epoch: 140/200 | Batch: 050/089 | Cost: 64501.1719\n",
      "Epoch: 141/200 | Batch: 000/089 | Cost: 64550.3906\n",
      "Epoch: 141/200 | Batch: 050/089 | Cost: 65200.9648\n",
      "Epoch: 142/200 | Batch: 000/089 | Cost: 65089.9883\n",
      "Epoch: 142/200 | Batch: 050/089 | Cost: 64249.0742\n",
      "Epoch: 143/200 | Batch: 000/089 | Cost: 64765.8672\n",
      "Epoch: 143/200 | Batch: 050/089 | Cost: 64758.3594\n",
      "Epoch: 144/200 | Batch: 000/089 | Cost: 65038.6641\n",
      "Epoch: 144/200 | Batch: 050/089 | Cost: 65115.6523\n",
      "Epoch: 145/200 | Batch: 000/089 | Cost: 65719.2656\n",
      "Epoch: 145/200 | Batch: 050/089 | Cost: 64639.1016\n",
      "Epoch: 146/200 | Batch: 000/089 | Cost: 65172.2539\n",
      "Epoch: 146/200 | Batch: 050/089 | Cost: 65311.6758\n",
      "Epoch: 147/200 | Batch: 000/089 | Cost: 65362.6680\n",
      "Epoch: 147/200 | Batch: 050/089 | Cost: 65165.9883\n",
      "Epoch: 148/200 | Batch: 000/089 | Cost: 64944.7734\n",
      "Epoch: 148/200 | Batch: 050/089 | Cost: 63971.8867\n",
      "Epoch: 149/200 | Batch: 000/089 | Cost: 64838.3906\n",
      "Epoch: 149/200 | Batch: 050/089 | Cost: 64605.3594\n",
      "Epoch: 150/200 | Batch: 000/089 | Cost: 65853.3047\n",
      "Epoch: 150/200 | Batch: 050/089 | Cost: 64943.3359\n",
      "Epoch: 151/200 | Batch: 000/089 | Cost: 63739.0820\n",
      "Epoch: 151/200 | Batch: 050/089 | Cost: 64378.2500\n",
      "Epoch: 152/200 | Batch: 000/089 | Cost: 65358.4062\n",
      "Epoch: 152/200 | Batch: 050/089 | Cost: 64497.6797\n",
      "Epoch: 153/200 | Batch: 000/089 | Cost: 65254.3047\n",
      "Epoch: 153/200 | Batch: 050/089 | Cost: 64971.6016\n",
      "Epoch: 154/200 | Batch: 000/089 | Cost: 65361.9180\n",
      "Epoch: 154/200 | Batch: 050/089 | Cost: 64700.4062\n",
      "Epoch: 155/200 | Batch: 000/089 | Cost: 64302.4219\n",
      "Epoch: 155/200 | Batch: 050/089 | Cost: 64695.8438\n",
      "Epoch: 156/200 | Batch: 000/089 | Cost: 65265.9609\n",
      "Epoch: 156/200 | Batch: 050/089 | Cost: 64277.5781\n",
      "Epoch: 157/200 | Batch: 000/089 | Cost: 64631.9102\n",
      "Epoch: 157/200 | Batch: 050/089 | Cost: 64630.0078\n",
      "Epoch: 158/200 | Batch: 000/089 | Cost: 65364.5156\n",
      "Epoch: 158/200 | Batch: 050/089 | Cost: 64317.9141\n",
      "Epoch: 159/200 | Batch: 000/089 | Cost: 64912.0781\n",
      "Epoch: 159/200 | Batch: 050/089 | Cost: 64256.9062\n",
      "Epoch: 160/200 | Batch: 000/089 | Cost: 64710.9531\n",
      "Epoch: 160/200 | Batch: 050/089 | Cost: 64582.8203\n",
      "Epoch: 161/200 | Batch: 000/089 | Cost: 64865.6602\n",
      "Epoch: 161/200 | Batch: 050/089 | Cost: 65028.0195\n",
      "Epoch: 162/200 | Batch: 000/089 | Cost: 64899.1133\n",
      "Epoch: 162/200 | Batch: 050/089 | Cost: 64836.3086\n",
      "Epoch: 163/200 | Batch: 000/089 | Cost: 65340.1445\n",
      "Epoch: 163/200 | Batch: 050/089 | Cost: 64576.1094\n",
      "Epoch: 164/200 | Batch: 000/089 | Cost: 65475.5352\n",
      "Epoch: 164/200 | Batch: 050/089 | Cost: 64850.0000\n",
      "Epoch: 165/200 | Batch: 000/089 | Cost: 64555.6289\n",
      "Epoch: 165/200 | Batch: 050/089 | Cost: 64237.6250\n",
      "Epoch: 166/200 | Batch: 000/089 | Cost: 65313.9727\n",
      "Epoch: 166/200 | Batch: 050/089 | Cost: 64648.5547\n",
      "Epoch: 167/200 | Batch: 000/089 | Cost: 65658.0078\n",
      "Epoch: 167/200 | Batch: 050/089 | Cost: 64217.2070\n",
      "Epoch: 168/200 | Batch: 000/089 | Cost: 65207.1758\n",
      "Epoch: 168/200 | Batch: 050/089 | Cost: 64926.8438\n",
      "Epoch: 169/200 | Batch: 000/089 | Cost: 65116.5234\n",
      "Epoch: 169/200 | Batch: 050/089 | Cost: 64341.6172\n",
      "Epoch: 170/200 | Batch: 000/089 | Cost: 65079.3359\n",
      "Epoch: 170/200 | Batch: 050/089 | Cost: 65057.0977\n",
      "Epoch: 171/200 | Batch: 000/089 | Cost: 65387.7578\n",
      "Epoch: 171/200 | Batch: 050/089 | Cost: 65612.9609\n",
      "Epoch: 172/200 | Batch: 000/089 | Cost: 253821.7188\n",
      "Epoch: 172/200 | Batch: 050/089 | Cost: 65262.9375\n",
      "Epoch: 173/200 | Batch: 000/089 | Cost: 64873.9258\n",
      "Epoch: 173/200 | Batch: 050/089 | Cost: 64684.8398\n",
      "Epoch: 174/200 | Batch: 000/089 | Cost: 65013.8984\n",
      "Epoch: 174/200 | Batch: 050/089 | Cost: 65526.5703\n",
      "Epoch: 175/200 | Batch: 000/089 | Cost: 65023.5234\n",
      "Epoch: 175/200 | Batch: 050/089 | Cost: 64621.8086\n",
      "Epoch: 176/200 | Batch: 000/089 | Cost: 64430.8086\n",
      "Epoch: 176/200 | Batch: 050/089 | Cost: 64995.9727\n",
      "Epoch: 177/200 | Batch: 000/089 | Cost: 65117.4492\n",
      "Epoch: 177/200 | Batch: 050/089 | Cost: 64636.2812\n",
      "Epoch: 178/200 | Batch: 000/089 | Cost: 65298.4023\n",
      "Epoch: 178/200 | Batch: 050/089 | Cost: 64343.6211\n",
      "Epoch: 179/200 | Batch: 000/089 | Cost: 65610.8281\n",
      "Epoch: 179/200 | Batch: 050/089 | Cost: 65153.9844\n",
      "Epoch: 180/200 | Batch: 000/089 | Cost: 64602.0117\n",
      "Epoch: 180/200 | Batch: 050/089 | Cost: 64506.6680\n",
      "Epoch: 181/200 | Batch: 000/089 | Cost: 64316.0547\n",
      "Epoch: 181/200 | Batch: 050/089 | Cost: 64729.1094\n",
      "Epoch: 182/200 | Batch: 000/089 | Cost: 64469.8242\n",
      "Epoch: 182/200 | Batch: 050/089 | Cost: 64768.3398\n",
      "Epoch: 183/200 | Batch: 000/089 | Cost: 64979.7852\n",
      "Epoch: 183/200 | Batch: 050/089 | Cost: 65404.3320\n",
      "Epoch: 184/200 | Batch: 000/089 | Cost: 65294.7773\n",
      "Epoch: 184/200 | Batch: 050/089 | Cost: 65288.3711\n",
      "Epoch: 185/200 | Batch: 000/089 | Cost: 64269.5469\n",
      "Epoch: 185/200 | Batch: 050/089 | Cost: 65036.3477\n",
      "Epoch: 186/200 | Batch: 000/089 | Cost: 64584.6641\n",
      "Epoch: 186/200 | Batch: 050/089 | Cost: 64936.0703\n",
      "Epoch: 187/200 | Batch: 000/089 | Cost: 65156.6016\n",
      "Epoch: 187/200 | Batch: 050/089 | Cost: 64305.4844\n",
      "Epoch: 188/200 | Batch: 000/089 | Cost: 64277.9766\n",
      "Epoch: 188/200 | Batch: 050/089 | Cost: 65366.7734\n",
      "Epoch: 189/200 | Batch: 000/089 | Cost: 65101.6836\n",
      "Epoch: 189/200 | Batch: 050/089 | Cost: 65447.9688\n",
      "Epoch: 190/200 | Batch: 000/089 | Cost: 64368.3828\n",
      "Epoch: 190/200 | Batch: 050/089 | Cost: 64626.8750\n",
      "Epoch: 191/200 | Batch: 000/089 | Cost: 63522.5234\n",
      "Epoch: 191/200 | Batch: 050/089 | Cost: 64559.5078\n",
      "Epoch: 192/200 | Batch: 000/089 | Cost: 65540.4219\n",
      "Epoch: 192/200 | Batch: 050/089 | Cost: 64373.0664\n",
      "Epoch: 193/200 | Batch: 000/089 | Cost: 64960.0234\n",
      "Epoch: 193/200 | Batch: 050/089 | Cost: 64805.8633\n",
      "Epoch: 194/200 | Batch: 000/089 | Cost: 64978.9727\n",
      "Epoch: 194/200 | Batch: 050/089 | Cost: 64841.3594\n",
      "Epoch: 195/200 | Batch: 000/089 | Cost: 64948.6016\n",
      "Epoch: 195/200 | Batch: 050/089 | Cost: 65145.0430\n",
      "Epoch: 196/200 | Batch: 000/089 | Cost: 64775.8477\n",
      "Epoch: 196/200 | Batch: 050/089 | Cost: 64718.4492\n",
      "Epoch: 197/200 | Batch: 000/089 | Cost: 65388.3516\n",
      "Epoch: 197/200 | Batch: 050/089 | Cost: 64907.6953\n",
      "Epoch: 198/200 | Batch: 000/089 | Cost: 65759.1094\n",
      "Epoch: 198/200 | Batch: 050/089 | Cost: 64513.3516\n",
      "Epoch: 199/200 | Batch: 000/089 | Cost: 64290.1875\n",
      "Epoch: 199/200 | Batch: 050/089 | Cost: 64723.4297\n",
      "Epoch: 200/200 | Batch: 000/089 | Cost: 64581.8750\n",
      "Epoch: 200/200 | Batch: 050/089 | Cost: 64463.7188\n"
     ]
    }
   ],
   "source": [
    "epochs=200\n",
    "for epoch in range(epochs):\n",
    "    for batch_ids,(features,targets) in enumerate(train_loader2):\n",
    "        features=features.to(dev)\n",
    "        targets=targets.to(dev)\n",
    "        z_mean,z_log_var,encoded,decoded=model(features,targets.long())\n",
    "        kl_divergence=(.5*(z_mean**2+torch.exp(z_log_var)-\n",
    "                           z_log_var-1)).sum()\n",
    "        pixelwise_bce=tnnf\\\n",
    "        .binary_cross_entropy(decoded,features,reduction='sum')\n",
    "        cost=kl_divergence+pixelwise_bce\n",
    "        optimizer.zero_grad()\n",
    "        cost.backward(); optimizer.step()\n",
    "        if not batch_ids%50:\n",
    "            print ('Epoch: %03d/%03d | Batch: %03d/%03d | Cost: %.4f' \n",
    "                   %(epoch+1,epochs,batch_ids, \n",
    "                     len(train_loader2),cost))"
   ]
  },
  {
   "cell_type": "code",
   "execution_count": 25,
   "metadata": {
    "_kg_hide-input": true
   },
   "outputs": [
    {
     "data": {
      "text/html": [
       "<style>\n",
       "    @import 'https://fonts.googleapis.com/css?family=Ewert&effect=3d';      \n",
       "    </style><h1 class='font-effect-3d' \n",
       "    style='font-family:Ewert; color:#ff6633;'>\n",
       "    Reconstruction 2</h1>"
      ],
      "text/plain": [
       "<IPython.core.display.HTML object>"
      ]
     },
     "metadata": {},
     "output_type": "display_data"
    }
   ],
   "source": [
    "dhtml('Reconstruction 2')"
   ]
  },
  {
   "cell_type": "code",
   "execution_count": 26,
   "metadata": {},
   "outputs": [
    {
     "data": {
      "image/png": "[encoded data removed]",
      "text/plain": [
       "<Figure size 720x288 with 10 Axes>"
      ]
     },
     "metadata": {
      "needs_background": "light"
     },
     "output_type": "display_data"
    }
   ],
   "source": [
    "num_images=5\n",
    "fig,axes=pl.subplots(nrows=2,ncols=num_images, \n",
    "                     sharex=True,sharey=True,\n",
    "                     figsize=(10,4))\n",
    "original_images=features[:num_images]\n",
    "decoded_images=decoded[:num_images]\n",
    "for i in range(num_images):\n",
    "    for ax,img in zip(axes,[original_images,\n",
    "                            decoded_images]):\n",
    "        ax[i].imshow(img[i].detach().to(torch.device('cpu'))\\\n",
    "                     .reshape((img_size,img_size)),cmap='bone')"
   ]
  },
  {
   "cell_type": "code",
   "execution_count": 27,
   "metadata": {
    "_kg_hide-input": true
   },
   "outputs": [
    {
     "data": {
      "text/html": [
       "<style>\n",
       "    @import 'https://fonts.googleapis.com/css?family=Ewert&effect=3d';      \n",
       "    </style><h1 class='font-effect-3d' \n",
       "    style='font-family:Ewert; color:#ff6633;'>\n",
       "    Generating 2</h1>"
      ],
      "text/plain": [
       "<IPython.core.display.HTML object>"
      ]
     },
     "metadata": {},
     "output_type": "display_data"
    }
   ],
   "source": [
    "dhtml('Generating 2')"
   ]
  },
  {
   "cell_type": "code",
   "execution_count": 28,
   "metadata": {},
   "outputs": [],
   "source": [
    "@register_line_magic\n",
    "def display_gen(l):\n",
    "    l=int(l); num_images=5\n",
    "    labels=torch.tensor([l]*num_images).to(dev)\n",
    "    latent_features=\\\n",
    "    torch.randn(num_images,num_latent).to(dev)\n",
    "    generated_images=model.decoder(latent_features,labels)\n",
    "    decoded_images=generated_images[:num_images]\n",
    "    fig,axes=pl.subplots(nrows=1,ncols=num_images,\n",
    "                         figsize=(10,2),sharey=True)\n",
    "    for ax,img in zip(axes,decoded_images):\n",
    "        ax.imshow(img.detach().to(torch.device('cpu'))\\\n",
    "                  .reshape((img_size,img_size)),cmap='bone')"
   ]
  },
  {
   "cell_type": "code",
   "execution_count": 29,
   "metadata": {},
   "outputs": [
    {
     "data": {
      "image/png": "[encoded data removed]",
      "text/plain": [
       "<Figure size 720x144 with 5 Axes>"
      ]
     },
     "metadata": {
      "needs_background": "light"
     },
     "output_type": "display_data"
    },
    {
     "data": {
      "image/png": "[encoded data removed]",
      "text/plain": [
       "<Figure size 720x144 with 5 Axes>"
      ]
     },
     "metadata": {
      "needs_background": "light"
     },
     "output_type": "display_data"
    },
    {
     "data": {
      "image/png": "[encoded data removed]",
      "text/plain": [
       "<Figure size 720x144 with 5 Axes>"
      ]
     },
     "metadata": {
      "needs_background": "light"
     },
     "output_type": "display_data"
    },
    {
     "data": {
      "image/png": "[encoded data removed]",
      "text/plain": [
       "<Figure size 720x144 with 5 Axes>"
      ]
     },
     "metadata": {
      "needs_background": "light"
     },
     "output_type": "display_data"
    },
    {
     "data": {
      "image/png": "[encoded data removed]",
      "text/plain": [
       "<Figure size 720x144 with 5 Axes>"
      ]
     },
     "metadata": {
      "needs_background": "light"
     },
     "output_type": "display_data"
    }
   ],
   "source": [
    "%display_gen 0\n",
    "%display_gen 1\n",
    "%display_gen 2\n",
    "%display_gen 3\n",
    "%display_gen 4"
   ]
  }
 ],
 "metadata": {
  "kernelspec": {
   "display_name": "Python 3",
   "language": "python",
   "name": "python3"
  },
  "language_info": {
   "codemirror_mode": {
    "name": "ipython",
    "version": 3
   },
   "file_extension": ".py",
   "mimetype": "text/x-python",
   "name": "python",
   "nbconvert_exporter": "python",
   "pygments_lexer": "ipython3",
   "version": "3.7.6"
  },
  "widgets": {
   "application/vnd.jupyter.widget-state+json": {
    "state": {
     "07d96149af4d4cdb80843886d9c465f3": {
      "model_module": "@jupyter-widgets/base",
      "model_module_version": "1.2.0",
      "model_name": "LayoutModel",
      "state": {
       "_model_module": "@jupyter-widgets/base",
       "_model_module_version": "1.2.0",
       "_model_name": "LayoutModel",
       "_view_count": null,
       "_view_module": "@jupyter-widgets/base",
       "_view_module_version": "1.2.0",
       "_view_name": "LayoutView",
       "align_content": null,
       "align_items": null,
       "align_self": null,
       "border": null,
       "bottom": null,
       "display": null,
       "flex": null,
       "flex_flow": null,
       "grid_area": null,
       "grid_auto_columns": null,
       "grid_auto_flow": null,
       "grid_auto_rows": null,
       "grid_column": null,
       "grid_gap": null,
       "grid_row": null,
       "grid_template_areas": null,
       "grid_template_columns": null,
       "grid_template_rows": null,
       "height": null,
       "justify_content": null,
       "justify_items": null,
       "left": null,
       "margin": null,
       "max_height": null,
       "max_width": null,
       "min_height": null,
       "min_width": null,
       "object_fit": null,
       "object_position": null,
       "order": null,
       "overflow": null,
       "overflow_x": null,
       "overflow_y": null,
       "padding": null,
       "right": null,
       "top": null,
       "visibility": null,
       "width": null
      }
     },
     "07e232bc949f4128b4f67e207ca13384": {
      "model_module": "@jupyter-widgets/controls",
      "model_module_version": "1.5.0",
      "model_name": "HBoxModel",
      "state": {
       "_dom_classes": [],
       "_model_module": "@jupyter-widgets/controls",
       "_model_module_version": "1.5.0",
       "_model_name": "HBoxModel",
       "_view_count": null,
       "_view_module": "@jupyter-widgets/controls",
       "_view_module_version": "1.5.0",
       "_view_name": "HBoxView",
       "box_style": "",
       "children": [
        "IPY_MODEL_3e74323b200d43f4ae988615d87dd86c",
        "IPY_MODEL_220e38d457024b108502bf03fab84d7c"
       ],
       "layout": "IPY_MODEL_6d35d85a903546bf9417147780b48f8c"
      }
     },
     "220e38d457024b108502bf03fab84d7c": {
      "model_module": "@jupyter-widgets/controls",
      "model_module_version": "1.5.0",
      "model_name": "HTMLModel",
      "state": {
       "_dom_classes": [],
       "_model_module": "@jupyter-widgets/controls",
       "_model_module_version": "1.5.0",
       "_model_name": "HTMLModel",
       "_view_count": null,
       "_view_module": "@jupyter-widgets/controls",
       "_view_module_version": "1.5.0",
       "_view_name": "HTMLView",
       "description": "",
       "description_tooltip": null,
       "layout": "IPY_MODEL_6b2a566d10f742e7b30a2482407d206e",
       "placeholder": "​",
       "style": "IPY_MODEL_90c210eb83bc4849bd38b9b32e08e62f",
       "value": " 1654784/? [00:00&lt;00:00, 2135532.73it/s]"
      }
     },
     "24609b6670d04e06a3c0ef8919966d74": {
      "model_module": "@jupyter-widgets/controls",
      "model_module_version": "1.5.0",
      "model_name": "ProgressStyleModel",
      "state": {
       "_model_module": "@jupyter-widgets/controls",
       "_model_module_version": "1.5.0",
       "_model_name": "ProgressStyleModel",
       "_view_count": null,
       "_view_module": "@jupyter-widgets/base",
       "_view_module_version": "1.2.0",
       "_view_name": "StyleView",
       "bar_color": null,
       "description_width": "initial"
      }
     },
     "2cb00b68f04f4e7596140740fd1e7622": {
      "model_module": "@jupyter-widgets/base",
      "model_module_version": "1.2.0",
      "model_name": "LayoutModel",
      "state": {
       "_model_module": "@jupyter-widgets/base",
       "_model_module_version": "1.2.0",
       "_model_name": "LayoutModel",
       "_view_count": null,
       "_view_module": "@jupyter-widgets/base",
       "_view_module_version": "1.2.0",
       "_view_name": "LayoutView",
       "align_content": null,
       "align_items": null,
       "align_self": null,
       "border": null,
       "bottom": null,
       "display": null,
       "flex": null,
       "flex_flow": null,
       "grid_area": null,
       "grid_auto_columns": null,
       "grid_auto_flow": null,
       "grid_auto_rows": null,
       "grid_column": null,
       "grid_gap": null,
       "grid_row": null,
       "grid_template_areas": null,
       "grid_template_columns": null,
       "grid_template_rows": null,
       "height": null,
       "justify_content": null,
       "justify_items": null,
       "left": null,
       "margin": null,
       "max_height": null,
       "max_width": null,
       "min_height": null,
       "min_width": null,
       "object_fit": null,
       "object_position": null,
       "order": null,
       "overflow": null,
       "overflow_x": null,
       "overflow_y": null,
       "padding": null,
       "right": null,
       "top": null,
       "visibility": null,
       "width": null
      }
     },
     "2efdb27aed7a47878478446df3e8e98f": {
      "model_module": "@jupyter-widgets/controls",
      "model_module_version": "1.5.0",
      "model_name": "FloatProgressModel",
      "state": {
       "_dom_classes": [],
       "_model_module": "@jupyter-widgets/controls",
       "_model_module_version": "1.5.0",
       "_model_name": "FloatProgressModel",
       "_view_count": null,
       "_view_module": "@jupyter-widgets/controls",
       "_view_module_version": "1.5.0",
       "_view_name": "ProgressView",
       "bar_style": "success",
       "description": "",
       "description_tooltip": null,
       "layout": "IPY_MODEL_2cb00b68f04f4e7596140740fd1e7622",
       "max": 1.0,
       "min": 0.0,
       "orientation": "horizontal",
       "style": "IPY_MODEL_349ecb0cbac34d1fb614204f22e06eb8",
       "value": 1.0
      }
     },
     "32ad13e418f347d897dc584707164e32": {
      "model_module": "@jupyter-widgets/controls",
      "model_module_version": "1.5.0",
      "model_name": "DescriptionStyleModel",
      "state": {
       "_model_module": "@jupyter-widgets/controls",
       "_model_module_version": "1.5.0",
       "_model_name": "DescriptionStyleModel",
       "_view_count": null,
       "_view_module": "@jupyter-widgets/base",
       "_view_module_version": "1.2.0",
       "_view_name": "StyleView",
       "description_width": ""
      }
     },
     "345f5f2084c24ba5a28b91b4631778cc": {
      "model_module": "@jupyter-widgets/base",
      "model_module_version": "1.2.0",
      "model_name": "LayoutModel",
      "state": {
       "_model_module": "@jupyter-widgets/base",
       "_model_module_version": "1.2.0",
       "_model_name": "LayoutModel",
       "_view_count": null,
       "_view_module": "@jupyter-widgets/base",
       "_view_module_version": "1.2.0",
       "_view_name": "LayoutView",
       "align_content": null,
       "align_items": null,
       "align_self": null,
       "border": null,
       "bottom": null,
       "display": null,
       "flex": null,
       "flex_flow": null,
       "grid_area": null,
       "grid_auto_columns": null,
       "grid_auto_flow": null,
       "grid_auto_rows": null,
       "grid_column": null,
       "grid_gap": null,
       "grid_row": null,
       "grid_template_areas": null,
       "grid_template_columns": null,
       "grid_template_rows": null,
       "height": null,
       "justify_content": null,
       "justify_items": null,
       "left": null,
       "margin": null,
       "max_height": null,
       "max_width": null,
       "min_height": null,
       "min_width": null,
       "object_fit": null,
       "object_position": null,
       "order": null,
       "overflow": null,
       "overflow_x": null,
       "overflow_y": null,
       "padding": null,
       "right": null,
       "top": null,
       "visibility": null,
       "width": null
      }
     },
     "349ecb0cbac34d1fb614204f22e06eb8": {
      "model_module": "@jupyter-widgets/controls",
      "model_module_version": "1.5.0",
      "model_name": "ProgressStyleModel",
      "state": {
       "_model_module": "@jupyter-widgets/controls",
       "_model_module_version": "1.5.0",
       "_model_name": "ProgressStyleModel",
       "_view_count": null,
       "_view_module": "@jupyter-widgets/base",
       "_view_module_version": "1.2.0",
       "_view_name": "StyleView",
       "bar_color": null,
       "description_width": "initial"
      }
     },
     "3e74323b200d43f4ae988615d87dd86c": {
      "model_module": "@jupyter-widgets/controls",
      "model_module_version": "1.5.0",
      "model_name": "FloatProgressModel",
      "state": {
       "_dom_classes": [],
       "_model_module": "@jupyter-widgets/controls",
       "_model_module_version": "1.5.0",
       "_model_name": "FloatProgressModel",
       "_view_count": null,
       "_view_module": "@jupyter-widgets/controls",
       "_view_module_version": "1.5.0",
       "_view_name": "ProgressView",
       "bar_style": "success",
       "description": "",
       "description_tooltip": null,
       "layout": "IPY_MODEL_426b886651954301beb834dcdde249f7",
       "max": 1.0,
       "min": 0.0,
       "orientation": "horizontal",
       "style": "IPY_MODEL_4021fb9bd29746de9368f4306de886e1",
       "value": 1.0
      }
     },
     "4021fb9bd29746de9368f4306de886e1": {
      "model_module": "@jupyter-widgets/controls",
      "model_module_version": "1.5.0",
      "model_name": "ProgressStyleModel",
      "state": {
       "_model_module": "@jupyter-widgets/controls",
       "_model_module_version": "1.5.0",
       "_model_name": "ProgressStyleModel",
       "_view_count": null,
       "_view_module": "@jupyter-widgets/base",
       "_view_module_version": "1.2.0",
       "_view_name": "StyleView",
       "bar_color": null,
       "description_width": "initial"
      }
     },
     "426b886651954301beb834dcdde249f7": {
      "model_module": "@jupyter-widgets/base",
      "model_module_version": "1.2.0",
      "model_name": "LayoutModel",
      "state": {
       "_model_module": "@jupyter-widgets/base",
       "_model_module_version": "1.2.0",
       "_model_name": "LayoutModel",
       "_view_count": null,
       "_view_module": "@jupyter-widgets/base",
       "_view_module_version": "1.2.0",
       "_view_name": "LayoutView",
       "align_content": null,
       "align_items": null,
       "align_self": null,
       "border": null,
       "bottom": null,
       "display": null,
       "flex": null,
       "flex_flow": null,
       "grid_area": null,
       "grid_auto_columns": null,
       "grid_auto_flow": null,
       "grid_auto_rows": null,
       "grid_column": null,
       "grid_gap": null,
       "grid_row": null,
       "grid_template_areas": null,
       "grid_template_columns": null,
       "grid_template_rows": null,
       "height": null,
       "justify_content": null,
       "justify_items": null,
       "left": null,
       "margin": null,
       "max_height": null,
       "max_width": null,
       "min_height": null,
       "min_width": null,
       "object_fit": null,
       "object_position": null,
       "order": null,
       "overflow": null,
       "overflow_x": null,
       "overflow_y": null,
       "padding": null,
       "right": null,
       "top": null,
       "visibility": null,
       "width": null
      }
     },
     "467ebd9cf82b4b0d9b5c7ae8956b3d24": {
      "model_module": "@jupyter-widgets/controls",
      "model_module_version": "1.5.0",
      "model_name": "HTMLModel",
      "state": {
       "_dom_classes": [],
       "_model_module": "@jupyter-widgets/controls",
       "_model_module_version": "1.5.0",
       "_model_name": "HTMLModel",
       "_view_count": null,
       "_view_module": "@jupyter-widgets/controls",
       "_view_module_version": "1.5.0",
       "_view_name": "HTMLView",
       "description": "",
       "description_tooltip": null,
       "layout": "IPY_MODEL_345f5f2084c24ba5a28b91b4631778cc",
       "placeholder": "​",
       "style": "IPY_MODEL_32ad13e418f347d897dc584707164e32",
       "value": " 9920512/? [00:03&lt;00:00, 3048334.89it/s]"
      }
     },
     "4df5e3174bff432e9d3c265bb20be67a": {
      "model_module": "@jupyter-widgets/controls",
      "model_module_version": "1.5.0",
      "model_name": "HBoxModel",
      "state": {
       "_dom_classes": [],
       "_model_module": "@jupyter-widgets/controls",
       "_model_module_version": "1.5.0",
       "_model_name": "HBoxModel",
       "_view_count": null,
       "_view_module": "@jupyter-widgets/controls",
       "_view_module_version": "1.5.0",
       "_view_name": "HBoxView",
       "box_style": "",
       "children": [
        "IPY_MODEL_ed482512e9004a489735e0d7498ca270",
        "IPY_MODEL_467ebd9cf82b4b0d9b5c7ae8956b3d24"
       ],
       "layout": "IPY_MODEL_9ea5ede7dba5463c9c1a27dbd18d2b4f"
      }
     },
     "6b2a566d10f742e7b30a2482407d206e": {
      "model_module": "@jupyter-widgets/base",
      "model_module_version": "1.2.0",
      "model_name": "LayoutModel",
      "state": {
       "_model_module": "@jupyter-widgets/base",
       "_model_module_version": "1.2.0",
       "_model_name": "LayoutModel",
       "_view_count": null,
       "_view_module": "@jupyter-widgets/base",
       "_view_module_version": "1.2.0",
       "_view_name": "LayoutView",
       "align_content": null,
       "align_items": null,
       "align_self": null,
       "border": null,
       "bottom": null,
       "display": null,
       "flex": null,
       "flex_flow": null,
       "grid_area": null,
       "grid_auto_columns": null,
       "grid_auto_flow": null,
       "grid_auto_rows": null,
       "grid_column": null,
       "grid_gap": null,
       "grid_row": null,
       "grid_template_areas": null,
       "grid_template_columns": null,
       "grid_template_rows": null,
       "height": null,
       "justify_content": null,
       "justify_items": null,
       "left": null,
       "margin": null,
       "max_height": null,
       "max_width": null,
       "min_height": null,
       "min_width": null,
       "object_fit": null,
       "object_position": null,
       "order": null,
       "overflow": null,
       "overflow_x": null,
       "overflow_y": null,
       "padding": null,
       "right": null,
       "top": null,
       "visibility": null,
       "width": null
      }
     },
     "6d35d85a903546bf9417147780b48f8c": {
      "model_module": "@jupyter-widgets/base",
      "model_module_version": "1.2.0",
      "model_name": "LayoutModel",
      "state": {
       "_model_module": "@jupyter-widgets/base",
       "_model_module_version": "1.2.0",
       "_model_name": "LayoutModel",
       "_view_count": null,
       "_view_module": "@jupyter-widgets/base",
       "_view_module_version": "1.2.0",
       "_view_name": "LayoutView",
       "align_content": null,
       "align_items": null,
       "align_self": null,
       "border": null,
       "bottom": null,
       "display": null,
       "flex": null,
       "flex_flow": null,
       "grid_area": null,
       "grid_auto_columns": null,
       "grid_auto_flow": null,
       "grid_auto_rows": null,
       "grid_column": null,
       "grid_gap": null,
       "grid_row": null,
       "grid_template_areas": null,
       "grid_template_columns": null,
       "grid_template_rows": null,
       "height": null,
       "justify_content": null,
       "justify_items": null,
       "left": null,
       "margin": null,
       "max_height": null,
       "max_width": null,
       "min_height": null,
       "min_width": null,
       "object_fit": null,
       "object_position": null,
       "order": null,
       "overflow": null,
       "overflow_x": null,
       "overflow_y": null,
       "padding": null,
       "right": null,
       "top": null,
       "visibility": null,
       "width": null
      }
     },
     "83535a8028a947f0b03509b7b9b773a9": {
      "model_module": "@jupyter-widgets/controls",
      "model_module_version": "1.5.0",
      "model_name": "HBoxModel",
      "state": {
       "_dom_classes": [],
       "_model_module": "@jupyter-widgets/controls",
       "_model_module_version": "1.5.0",
       "_model_name": "HBoxModel",
       "_view_count": null,
       "_view_module": "@jupyter-widgets/controls",
       "_view_module_version": "1.5.0",
       "_view_name": "HBoxView",
       "box_style": "",
       "children": [
        "IPY_MODEL_2efdb27aed7a47878478446df3e8e98f",
        "IPY_MODEL_e14ad45707b9433a9f556dbf12877c3b"
       ],
       "layout": "IPY_MODEL_ddf09db1fab7460e920f8993692389df"
      }
     },
     "8c25137c4997403fa2bc480d0b5b00bd": {
      "model_module": "@jupyter-widgets/controls",
      "model_module_version": "1.5.0",
      "model_name": "DescriptionStyleModel",
      "state": {
       "_model_module": "@jupyter-widgets/controls",
       "_model_module_version": "1.5.0",
       "_model_name": "DescriptionStyleModel",
       "_view_count": null,
       "_view_module": "@jupyter-widgets/base",
       "_view_module_version": "1.2.0",
       "_view_name": "StyleView",
       "description_width": ""
      }
     },
     "90c210eb83bc4849bd38b9b32e08e62f": {
      "model_module": "@jupyter-widgets/controls",
      "model_module_version": "1.5.0",
      "model_name": "DescriptionStyleModel",
      "state": {
       "_model_module": "@jupyter-widgets/controls",
       "_model_module_version": "1.5.0",
       "_model_name": "DescriptionStyleModel",
       "_view_count": null,
       "_view_module": "@jupyter-widgets/base",
       "_view_module_version": "1.2.0",
       "_view_name": "StyleView",
       "description_width": ""
      }
     },
     "9ea5ede7dba5463c9c1a27dbd18d2b4f": {
      "model_module": "@jupyter-widgets/base",
      "model_module_version": "1.2.0",
      "model_name": "LayoutModel",
      "state": {
       "_model_module": "@jupyter-widgets/base",
       "_model_module_version": "1.2.0",
       "_model_name": "LayoutModel",
       "_view_count": null,
       "_view_module": "@jupyter-widgets/base",
       "_view_module_version": "1.2.0",
       "_view_name": "LayoutView",
       "align_content": null,
       "align_items": null,
       "align_self": null,
       "border": null,
       "bottom": null,
       "display": null,
       "flex": null,
       "flex_flow": null,
       "grid_area": null,
       "grid_auto_columns": null,
       "grid_auto_flow": null,
       "grid_auto_rows": null,
       "grid_column": null,
       "grid_gap": null,
       "grid_row": null,
       "grid_template_areas": null,
       "grid_template_columns": null,
       "grid_template_rows": null,
       "height": null,
       "justify_content": null,
       "justify_items": null,
       "left": null,
       "margin": null,
       "max_height": null,
       "max_width": null,
       "min_height": null,
       "min_width": null,
       "object_fit": null,
       "object_position": null,
       "order": null,
       "overflow": null,
       "overflow_x": null,
       "overflow_y": null,
       "padding": null,
       "right": null,
       "top": null,
       "visibility": null,
       "width": null
      }
     },
     "a121613ec7f3425ea6fb100cdbebeea0": {
      "model_module": "@jupyter-widgets/base",
      "model_module_version": "1.2.0",
      "model_name": "LayoutModel",
      "state": {
       "_model_module": "@jupyter-widgets/base",
       "_model_module_version": "1.2.0",
       "_model_name": "LayoutModel",
       "_view_count": null,
       "_view_module": "@jupyter-widgets/base",
       "_view_module_version": "1.2.0",
       "_view_name": "LayoutView",
       "align_content": null,
       "align_items": null,
       "align_self": null,
       "border": null,
       "bottom": null,
       "display": null,
       "flex": null,
       "flex_flow": null,
       "grid_area": null,
       "grid_auto_columns": null,
       "grid_auto_flow": null,
       "grid_auto_rows": null,
       "grid_column": null,
       "grid_gap": null,
       "grid_row": null,
       "grid_template_areas": null,
       "grid_template_columns": null,
       "grid_template_rows": null,
       "height": null,
       "justify_content": null,
       "justify_items": null,
       "left": null,
       "margin": null,
       "max_height": null,
       "max_width": null,
       "min_height": null,
       "min_width": null,
       "object_fit": null,
       "object_position": null,
       "order": null,
       "overflow": null,
       "overflow_x": null,
       "overflow_y": null,
       "padding": null,
       "right": null,
       "top": null,
       "visibility": null,
       "width": null
      }
     },
     "a27737a5612845a8a4efd62c15d3d73d": {
      "model_module": "@jupyter-widgets/base",
      "model_module_version": "1.2.0",
      "model_name": "LayoutModel",
      "state": {
       "_model_module": "@jupyter-widgets/base",
       "_model_module_version": "1.2.0",
       "_model_name": "LayoutModel",
       "_view_count": null,
       "_view_module": "@jupyter-widgets/base",
       "_view_module_version": "1.2.0",
       "_view_name": "LayoutView",
       "align_content": null,
       "align_items": null,
       "align_self": null,
       "border": null,
       "bottom": null,
       "display": null,
       "flex": null,
       "flex_flow": null,
       "grid_area": null,
       "grid_auto_columns": null,
       "grid_auto_flow": null,
       "grid_auto_rows": null,
       "grid_column": null,
       "grid_gap": null,
       "grid_row": null,
       "grid_template_areas": null,
       "grid_template_columns": null,
       "grid_template_rows": null,
       "height": null,
       "justify_content": null,
       "justify_items": null,
       "left": null,
       "margin": null,
       "max_height": null,
       "max_width": null,
       "min_height": null,
       "min_width": null,
       "object_fit": null,
       "object_position": null,
       "order": null,
       "overflow": null,
       "overflow_x": null,
       "overflow_y": null,
       "padding": null,
       "right": null,
       "top": null,
       "visibility": null,
       "width": null
      }
     },
     "c2393960fbe04df488e589e9c0f580cd": {
      "model_module": "@jupyter-widgets/controls",
      "model_module_version": "1.5.0",
      "model_name": "HBoxModel",
      "state": {
       "_dom_classes": [],
       "_model_module": "@jupyter-widgets/controls",
       "_model_module_version": "1.5.0",
       "_model_name": "HBoxModel",
       "_view_count": null,
       "_view_module": "@jupyter-widgets/controls",
       "_view_module_version": "1.5.0",
       "_view_name": "HBoxView",
       "box_style": "",
       "children": [
        "IPY_MODEL_e94ab54d98ad45bfa7891378eeb98461",
        "IPY_MODEL_c6477eda9d1f4b4cb15c4a1e5704f05b"
       ],
       "layout": "IPY_MODEL_cfd7c0353ff542e5a9cb0c84a400f28d"
      }
     },
     "c6477eda9d1f4b4cb15c4a1e5704f05b": {
      "model_module": "@jupyter-widgets/controls",
      "model_module_version": "1.5.0",
      "model_name": "HTMLModel",
      "state": {
       "_dom_classes": [],
       "_model_module": "@jupyter-widgets/controls",
       "_model_module_version": "1.5.0",
       "_model_name": "HTMLModel",
       "_view_count": null,
       "_view_module": "@jupyter-widgets/controls",
       "_view_module_version": "1.5.0",
       "_view_name": "HTMLView",
       "description": "",
       "description_tooltip": null,
       "layout": "IPY_MODEL_a27737a5612845a8a4efd62c15d3d73d",
       "placeholder": "​",
       "style": "IPY_MODEL_8c25137c4997403fa2bc480d0b5b00bd",
       "value": " 8192/? [00:00&lt;00:00, 13258.85it/s]"
      }
     },
     "cfd7c0353ff542e5a9cb0c84a400f28d": {
      "model_module": "@jupyter-widgets/base",
      "model_module_version": "1.2.0",
      "model_name": "LayoutModel",
      "state": {
       "_model_module": "@jupyter-widgets/base",
       "_model_module_version": "1.2.0",
       "_model_name": "LayoutModel",
       "_view_count": null,
       "_view_module": "@jupyter-widgets/base",
       "_view_module_version": "1.2.0",
       "_view_name": "LayoutView",
       "align_content": null,
       "align_items": null,
       "align_self": null,
       "border": null,
       "bottom": null,
       "display": null,
       "flex": null,
       "flex_flow": null,
       "grid_area": null,
       "grid_auto_columns": null,
       "grid_auto_flow": null,
       "grid_auto_rows": null,
       "grid_column": null,
       "grid_gap": null,
       "grid_row": null,
       "grid_template_areas": null,
       "grid_template_columns": null,
       "grid_template_rows": null,
       "height": null,
       "justify_content": null,
       "justify_items": null,
       "left": null,
       "margin": null,
       "max_height": null,
       "max_width": null,
       "min_height": null,
       "min_width": null,
       "object_fit": null,
       "object_position": null,
       "order": null,
       "overflow": null,
       "overflow_x": null,
       "overflow_y": null,
       "padding": null,
       "right": null,
       "top": null,
       "visibility": null,
       "width": null
      }
     },
     "d960bacd9fe346c4ad8dd25cf61b9251": {
      "model_module": "@jupyter-widgets/base",
      "model_module_version": "1.2.0",
      "model_name": "LayoutModel",
      "state": {
       "_model_module": "@jupyter-widgets/base",
       "_model_module_version": "1.2.0",
       "_model_name": "LayoutModel",
       "_view_count": null,
       "_view_module": "@jupyter-widgets/base",
       "_view_module_version": "1.2.0",
       "_view_name": "LayoutView",
       "align_content": null,
       "align_items": null,
       "align_self": null,
       "border": null,
       "bottom": null,
       "display": null,
       "flex": null,
       "flex_flow": null,
       "grid_area": null,
       "grid_auto_columns": null,
       "grid_auto_flow": null,
       "grid_auto_rows": null,
       "grid_column": null,
       "grid_gap": null,
       "grid_row": null,
       "grid_template_areas": null,
       "grid_template_columns": null,
       "grid_template_rows": null,
       "height": null,
       "justify_content": null,
       "justify_items": null,
       "left": null,
       "margin": null,
       "max_height": null,
       "max_width": null,
       "min_height": null,
       "min_width": null,
       "object_fit": null,
       "object_position": null,
       "order": null,
       "overflow": null,
       "overflow_x": null,
       "overflow_y": null,
       "padding": null,
       "right": null,
       "top": null,
       "visibility": null,
       "width": null
      }
     },
     "ddf09db1fab7460e920f8993692389df": {
      "model_module": "@jupyter-widgets/base",
      "model_module_version": "1.2.0",
      "model_name": "LayoutModel",
      "state": {
       "_model_module": "@jupyter-widgets/base",
       "_model_module_version": "1.2.0",
       "_model_name": "LayoutModel",
       "_view_count": null,
       "_view_module": "@jupyter-widgets/base",
       "_view_module_version": "1.2.0",
       "_view_name": "LayoutView",
       "align_content": null,
       "align_items": null,
       "align_self": null,
       "border": null,
       "bottom": null,
       "display": null,
       "flex": null,
       "flex_flow": null,
       "grid_area": null,
       "grid_auto_columns": null,
       "grid_auto_flow": null,
       "grid_auto_rows": null,
       "grid_column": null,
       "grid_gap": null,
       "grid_row": null,
       "grid_template_areas": null,
       "grid_template_columns": null,
       "grid_template_rows": null,
       "height": null,
       "justify_content": null,
       "justify_items": null,
       "left": null,
       "margin": null,
       "max_height": null,
       "max_width": null,
       "min_height": null,
       "min_width": null,
       "object_fit": null,
       "object_position": null,
       "order": null,
       "overflow": null,
       "overflow_x": null,
       "overflow_y": null,
       "padding": null,
       "right": null,
       "top": null,
       "visibility": null,
       "width": null
      }
     },
     "de6eb7a986a7447dbc6bfbf344e65f42": {
      "model_module": "@jupyter-widgets/controls",
      "model_module_version": "1.5.0",
      "model_name": "ProgressStyleModel",
      "state": {
       "_model_module": "@jupyter-widgets/controls",
       "_model_module_version": "1.5.0",
       "_model_name": "ProgressStyleModel",
       "_view_count": null,
       "_view_module": "@jupyter-widgets/base",
       "_view_module_version": "1.2.0",
       "_view_name": "StyleView",
       "bar_color": null,
       "description_width": "initial"
      }
     },
     "e14ad45707b9433a9f556dbf12877c3b": {
      "model_module": "@jupyter-widgets/controls",
      "model_module_version": "1.5.0",
      "model_name": "HTMLModel",
      "state": {
       "_dom_classes": [],
       "_model_module": "@jupyter-widgets/controls",
       "_model_module_version": "1.5.0",
       "_model_name": "HTMLModel",
       "_view_count": null,
       "_view_module": "@jupyter-widgets/controls",
       "_view_module_version": "1.5.0",
       "_view_name": "HTMLView",
       "description": "",
       "description_tooltip": null,
       "layout": "IPY_MODEL_d960bacd9fe346c4ad8dd25cf61b9251",
       "placeholder": "​",
       "style": "IPY_MODEL_f76ffda180734637939cf2a13e29e332",
       "value": " 32768/? [00:01&lt;00:00, 30654.24it/s]"
      }
     },
     "e94ab54d98ad45bfa7891378eeb98461": {
      "model_module": "@jupyter-widgets/controls",
      "model_module_version": "1.5.0",
      "model_name": "FloatProgressModel",
      "state": {
       "_dom_classes": [],
       "_model_module": "@jupyter-widgets/controls",
       "_model_module_version": "1.5.0",
       "_model_name": "FloatProgressModel",
       "_view_count": null,
       "_view_module": "@jupyter-widgets/controls",
       "_view_module_version": "1.5.0",
       "_view_name": "ProgressView",
       "bar_style": "success",
       "description": "",
       "description_tooltip": null,
       "layout": "IPY_MODEL_07d96149af4d4cdb80843886d9c465f3",
       "max": 1.0,
       "min": 0.0,
       "orientation": "horizontal",
       "style": "IPY_MODEL_24609b6670d04e06a3c0ef8919966d74",
       "value": 1.0
      }
     },
     "ed482512e9004a489735e0d7498ca270": {
      "model_module": "@jupyter-widgets/controls",
      "model_module_version": "1.5.0",
      "model_name": "FloatProgressModel",
      "state": {
       "_dom_classes": [],
       "_model_module": "@jupyter-widgets/controls",
       "_model_module_version": "1.5.0",
       "_model_name": "FloatProgressModel",
       "_view_count": null,
       "_view_module": "@jupyter-widgets/controls",
       "_view_module_version": "1.5.0",
       "_view_name": "ProgressView",
       "bar_style": "success",
       "description": "",
       "description_tooltip": null,
       "layout": "IPY_MODEL_a121613ec7f3425ea6fb100cdbebeea0",
       "max": 1.0,
       "min": 0.0,
       "orientation": "horizontal",
       "style": "IPY_MODEL_de6eb7a986a7447dbc6bfbf344e65f42",
       "value": 1.0
      }
     },
     "f76ffda180734637939cf2a13e29e332": {
      "model_module": "@jupyter-widgets/controls",
      "model_module_version": "1.5.0",
      "model_name": "DescriptionStyleModel",
      "state": {
       "_model_module": "@jupyter-widgets/controls",
       "_model_module_version": "1.5.0",
       "_model_name": "DescriptionStyleModel",
       "_view_count": null,
       "_view_module": "@jupyter-widgets/base",
       "_view_module_version": "1.2.0",
       "_view_name": "StyleView",
       "description_width": ""
      }
     }
    },
    "version_major": 2,
    "version_minor": 0
   }
  }
 },
 "nbformat": 4,
 "nbformat_minor": 4
}
