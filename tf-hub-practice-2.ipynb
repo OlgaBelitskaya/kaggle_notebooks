{
 "cells": [
  {
   "cell_type": "markdown",
   "execution_count": null,
   "metadata": {},
   "source": [
    "## Code Modules"
   ]
  },
  {
   "cell_type": "code",
   "execution_count": 1,
   "metadata": {
    "_cell_guid": "b1076dfc-b9ad-4769-8c92-a6c4dae69d19",
    "_uuid": "8f2839f25d086af736a60e9eeb907d3b93b6e0e5"
   },
   "outputs": [],
   "source": [
    "import numpy as np,pandas as pd\n",
    "import h5py,pylab as pl\n",
    "import tensorflow_hub as th,tensorflow as tf\n",
    "from tensorflow import image as timage"
   ]
  },
  {
   "cell_type": "markdown",
   "execution_count": null,
   "metadata": {},
   "source": [
    "## Data"
   ]
  },
  {
   "cell_type": "code",
   "execution_count": 2,
   "metadata": {
    "_cell_guid": "79c7e3d0-c299-4dcb-8224-4455121ee9b0",
    "_uuid": "d629ff2d2480ee46fbb7e2d37f6b5fab8052498a"
   },
   "outputs": [
    {
     "name": "stdout",
     "output_type": "stream",
     "text": [
      "['test_images', 'test_labels', 'train_images', 'train_labels']\n"
     ]
    },
    {
     "data": {
      "text/html": [
       "<div>\n",
       "<style scoped>\n",
       "    .dataframe tbody tr th:only-of-type {\n",
       "        vertical-align: middle;\n",
       "    }\n",
       "\n",
       "    .dataframe tbody tr th {\n",
       "        vertical-align: top;\n",
       "    }\n",
       "\n",
       "    .dataframe thead th {\n",
       "        text-align: right;\n",
       "    }\n",
       "</style>\n",
       "<table border=\"1\" class=\"dataframe\">\n",
       "  <thead>\n",
       "    <tr style=\"text-align: right;\">\n",
       "      <th></th>\n",
       "      <th>train</th>\n",
       "      <th>valid</th>\n",
       "      <th>test</th>\n",
       "    </tr>\n",
       "  </thead>\n",
       "  <tbody>\n",
       "    <tr>\n",
       "      <th>image shape</th>\n",
       "      <td>(18610, 128, 128, 3)</td>\n",
       "      <td>(2326, 128, 128, 3)</td>\n",
       "      <td>(2326, 128, 128, 3)</td>\n",
       "    </tr>\n",
       "    <tr>\n",
       "      <th>image type</th>\n",
       "      <td>float32</td>\n",
       "      <td>float32</td>\n",
       "      <td>float32</td>\n",
       "    </tr>\n",
       "    <tr>\n",
       "      <th>label shape</th>\n",
       "      <td>(18610, 1)</td>\n",
       "      <td>(2326, 1)</td>\n",
       "      <td>(2326, 1)</td>\n",
       "    </tr>\n",
       "    <tr>\n",
       "      <th>label type</th>\n",
       "      <td>int8</td>\n",
       "      <td>int8</td>\n",
       "      <td>int8</td>\n",
       "    </tr>\n",
       "  </tbody>\n",
       "</table>\n",
       "</div>"
      ],
      "text/plain": [
       "                            train                valid                 test\n",
       "image shape  (18610, 128, 128, 3)  (2326, 128, 128, 3)  (2326, 128, 128, 3)\n",
       "image type                float32              float32              float32\n",
       "label shape            (18610, 1)            (2326, 1)            (2326, 1)\n",
       "label type                   int8                 int8                 int8"
      ]
     },
     "execution_count": 2,
     "metadata": {},
     "output_type": "execute_result"
    }
   ],
   "source": [
    "fpath='../input/tf-cats-vs-dogs/'\n",
    "f='CatDogImages.h5'\n",
    "f=h5py.File(fpath+f,'r')\n",
    "keys=list(f.keys()); print(keys)\n",
    "x_test=np.array(f[keys[0]])\n",
    "y_test=np.array(f[keys[1]],dtype='int8')\n",
    "x_train=np.array(f[keys[2]])\n",
    "y_train=np.array(f[keys[3]],dtype='int8')\n",
    "N=len(y_train); shuffle_ids=np.arange(N)\n",
    "np.random.RandomState(12).shuffle(shuffle_ids)\n",
    "x_train,y_train=x_train[shuffle_ids],y_train[shuffle_ids]\n",
    "N=len(y_test); shuffle_ids=np.arange(N)\n",
    "np.random.RandomState(23).shuffle(shuffle_ids)\n",
    "x_test,y_test=x_test[shuffle_ids],y_test[shuffle_ids]\n",
    "n=int(len(x_test)/2)\n",
    "x_valid,y_valid=x_test[:n],y_test[:n]\n",
    "x_test,y_test=x_test[n:],y_test[n:]\n",
    "del f\n",
    "pd.DataFrame([[x_train.shape,x_valid.shape,x_test.shape],\n",
    "              [x_train.dtype,x_valid.dtype,x_test.dtype],\n",
    "              [y_train.shape,y_valid.shape,y_test.shape],\n",
    "              [y_train.dtype,y_valid.dtype,y_test.dtype]],\n",
    "             columns=['train','valid','test'],\n",
    "             index=['image shape','image type',\n",
    "                    'label shape','label type'])"
   ]
  },
  {
   "cell_type": "markdown",
   "execution_count": null,
   "metadata": {},
   "source": [
    "## TF Hub Models"
   ]
  },
  {
   "cell_type": "code",
   "execution_count": 3,
   "metadata": {},
   "outputs": [],
   "source": [
    "fw='weights.best.hdf5'\n",
    "def premodel(pix,den,mh,lbl,activ,loss):\n",
    "    model=tf.keras.Sequential([\n",
    "        tf.keras.layers.Input((pix,pix,3),\n",
    "                              name='input'),\n",
    "        th.KerasLayer(mh,trainable=True),\n",
    "        tf.keras.layers.Flatten(),\n",
    "        tf.keras.layers.Dense(den,activation='relu'),\n",
    "        tf.keras.layers.Dropout(rate=.5),\n",
    "        tf.keras.layers.Dense(lbl,activation=activ)])\n",
    "    model.compile(optimizer='adam',\n",
    "                  metrics=['accuracy'],loss=loss)\n",
    "    display(model.summary())\n",
    "    return model\n",
    "def cb(fw):\n",
    "    early_stopping=tf.keras.callbacks\\\n",
    "    .EarlyStopping(monitor='val_loss',patience=20,verbose=2)\n",
    "    checkpointer=tf.keras.callbacks\\\n",
    "    .ModelCheckpoint(filepath=fw,save_best_only=True,verbose=2)\n",
    "    lr_reduction=tf.keras.callbacks\\\n",
    "    .ReduceLROnPlateau(monitor='val_loss',verbose=2,\n",
    "                       patience=5,factor=.8)\n",
    "    return [checkpointer,early_stopping,lr_reduction]"
   ]
  },
  {
   "cell_type": "code",
   "execution_count": 4,
   "metadata": {},
   "outputs": [],
   "source": [
    "[handle_base,pixels]=[\"inception_v3\",128]\n",
    "mhandle=\"https://tfhub.dev/google/imagenet/{}/classification/4\"\\\n",
    ".format(handle_base)"
   ]
  },
  {
   "cell_type": "code",
   "execution_count": 5,
   "metadata": {
    "_kg_hide-output": true
   },
   "outputs": [
    {
     "name": "stdout",
     "output_type": "stream",
     "text": [
      "Model: \"sequential\"\n",
      "_________________________________________________________________\n",
      "Layer (type)                 Output Shape              Param #   \n",
      "=================================================================\n",
      "keras_layer (KerasLayer)     (None, 1001)              23853833  \n",
      "_________________________________________________________________\n",
      "flatten (Flatten)            (None, 1001)              0         \n",
      "_________________________________________________________________\n",
      "dense (Dense)                (None, 1024)              1026048   \n",
      "_________________________________________________________________\n",
      "dropout (Dropout)            (None, 1024)              0         \n",
      "_________________________________________________________________\n",
      "dense_1 (Dense)              (None, 1)                 1025      \n",
      "=================================================================\n",
      "Total params: 24,880,906\n",
      "Trainable params: 24,846,474\n",
      "Non-trainable params: 34,432\n",
      "_________________________________________________________________\n"
     ]
    },
    {
     "data": {
      "text/plain": [
       "None"
      ]
     },
     "metadata": {},
     "output_type": "display_data"
    },
    {
     "name": "stdout",
     "output_type": "stream",
     "text": [
      "Epoch 1/5\n",
      "146/146 [==============================] - ETA: 0s - loss: 0.6670 - accuracy: 0.8270\n",
      "Epoch 00001: val_loss improved from inf to 8.17650, saving model to weights.best.hdf5\n",
      "146/146 [==============================] - 33s 224ms/step - loss: 0.6670 - accuracy: 0.8270 - val_loss: 8.1765 - val_accuracy: 0.9058 - lr: 0.0010\n",
      "Epoch 2/5\n",
      "146/146 [==============================] - ETA: 0s - loss: 0.3909 - accuracy: 0.9566\n",
      "Epoch 00002: val_loss improved from 8.17650 to 0.54738, saving model to weights.best.hdf5\n",
      "146/146 [==============================] - 30s 206ms/step - loss: 0.3909 - accuracy: 0.9566 - val_loss: 0.5474 - val_accuracy: 0.9076 - lr: 0.0010\n",
      "Epoch 3/5\n",
      "146/146 [==============================] - ETA: 0s - loss: 0.9184 - accuracy: 0.8153\n",
      "Epoch 00003: val_loss did not improve from 0.54738\n",
      "146/146 [==============================] - 29s 198ms/step - loss: 0.9184 - accuracy: 0.8153 - val_loss: 321199.9062 - val_accuracy: 0.4979 - lr: 0.0010\n",
      "Epoch 4/5\n",
      "146/146 [==============================] - ETA: 0s - loss: 0.9302 - accuracy: 0.8208\n",
      "Epoch 00004: val_loss did not improve from 0.54738\n",
      "146/146 [==============================] - 29s 198ms/step - loss: 0.9302 - accuracy: 0.8208 - val_loss: 2802.4973 - val_accuracy: 0.5310 - lr: 0.0010\n",
      "Epoch 5/5\n",
      "146/146 [==============================] - ETA: 0s - loss: 0.8512 - accuracy: 0.8006\n",
      "Epoch 00005: val_loss did not improve from 0.54738\n",
      "146/146 [==============================] - 29s 199ms/step - loss: 0.8512 - accuracy: 0.8006 - val_loss: 0.9614 - val_accuracy: 0.7889 - lr: 0.0010\n"
     ]
    }
   ],
   "source": [
    "model=premodel(pixels,1024,mhandle,1,\n",
    "               'sigmoid','binary_crossentropy')\n",
    "history=model.fit(x=x_train,y=y_train,batch_size=128,\n",
    "                  epochs=5,callbacks=cb(fw),\n",
    "                  validation_data=(x_valid,y_valid))"
   ]
  },
  {
   "cell_type": "code",
   "execution_count": 6,
   "metadata": {},
   "outputs": [
    {
     "name": "stdout",
     "output_type": "stream",
     "text": [
      "73/73 [==============================] - 2s 27ms/step - loss: 0.5350 - accuracy: 0.9127\n"
     ]
    },
    {
     "data": {
      "text/plain": [
       "[0.5349528193473816, 0.9127256870269775]"
      ]
     },
     "execution_count": 6,
     "metadata": {},
     "output_type": "execute_result"
    }
   ],
   "source": [
    "model.load_weights(fw)\n",
    "model.evaluate(x_test,y_test)"
   ]
  }
 ],
 "metadata": {
  "kernelspec": {
   "display_name": "Python 3",
   "language": "python",
   "name": "python3"
  },
  "language_info": {
   "codemirror_mode": {
    "name": "ipython",
    "version": 3
   },
   "file_extension": ".py",
   "mimetype": "text/x-python",
   "name": "python",
   "nbconvert_exporter": "python",
   "pygments_lexer": "ipython3",
   "version": "3.7.6"
  }
 },
 "nbformat": 4,
 "nbformat_minor": 4
}
