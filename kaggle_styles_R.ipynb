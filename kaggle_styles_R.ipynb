{
 "cells": [
  {
   "cell_type": "markdown",
   "metadata": {},
   "source": [
    "# &#x1F4D1; &nbsp;   Multi-Label Classification of Style Images"
   ]
  },
  {
   "cell_type": "markdown",
   "metadata": {},
   "source": [
    "## &#x1F310; &nbsp; 0. Code Library, Style, and Links"
   ]
  },
  {
   "cell_type": "code",
   "execution_count": 2,
   "metadata": {},
   "outputs": [],
   "source": [
    "library(IRdisplay)\n",
    "library(repr)\n",
    "library(tensorflow)\n",
    "library(keras)\n",
    "library(imager)\n",
    "library(R6)"
   ]
  },
  {
   "cell_type": "code",
   "execution_count": 3,
   "metadata": {},
   "outputs": [],
   "source": [
    "keras_backend <- backend()"
   ]
  },
  {
   "cell_type": "code",
   "execution_count": null,
   "metadata": {},
   "outputs": [],
   "source": [
    "display_html(\"<style> \n",
    "@import url('https://fonts.googleapis.com/css?family=Orbitron|Roboto');\n",
    "body {background-color: gainsboro;} \n",
    "a {color: #818286; font-family: 'Roboto';} \n",
    "h1 {color: #37c9e1; font-family: 'Orbitron'; text-shadow: 4px 4px 4px #ccc;} \n",
    "h2, h3 {color: slategray; font-family: 'Orbitron'; text-shadow: 4px 4px 4px #ccc;}\n",
    "h4 {color: #818286; font-family: 'Roboto';}\n",
    "span {text-shadow: 4px 4px 4px #ccc;}\n",
    "div.output_prompt, div.output_area pre {color: slategray;}\n",
    "div.input_prompt, div.output_subarea {color: #37c9e1;}      \n",
    "div.output_stderr pre {background-color: gainsboro;}  \n",
    "div.output_stderr {background-color: slategrey;}\n",
    "</style>\")"
   ]
  },
  {
   "cell_type": "code",
   "execution_count": 4,
   "metadata": {},
   "outputs": [],
   "source": [
    "image_loading <- function(image_path) {\n",
    "    image <- keras::image_load(image_path, target_size=c(150,150))\n",
    "    image <- image_to_array(image) / 255\n",
    "    image <- array_reshape(image, c(1, dim(image)))\n",
    "    return(image)\n",
    "}"
   ]
  },
  {
   "cell_type": "code",
   "execution_count": 5,
   "metadata": {},
   "outputs": [],
   "source": [
    "image_grayscaled_loading <- function(image_path) {\n",
    "    image <- keras::image_load(image_path, \n",
    "                               target_size=c(150,150),\n",
    "                               grayscale=T)\n",
    "    image <- image_to_array(image) / 255\n",
    "    image <- array_reshape(image, c(1, dim(image)))\n",
    "    return(image)\n",
    "}"
   ]
  },
  {
   "cell_type": "markdown",
   "metadata": {},
   "source": [
    "## &#x1F310; &nbsp; 1. Load and Explore the Data"
   ]
  },
  {
   "cell_type": "code",
   "execution_count": 55,
   "metadata": {},
   "outputs": [
    {
     "data": {
      "text/html": [
       "<table>\n",
       "<thead><tr><th scope=col>brand_name</th><th scope=col>brand_label</th><th scope=col>product_name</th><th scope=col>product_label</th><th scope=col>file</th></tr></thead>\n",
       "<tbody>\n",
       "\t<tr><td>Christian Louboutin</td><td>0                  </td><td>shoes              </td><td>0                  </td><td>0_0_001.png        </td></tr>\n",
       "\t<tr><td>Christian Louboutin</td><td>0                  </td><td>shoes              </td><td>0                  </td><td>0_0_002.png        </td></tr>\n",
       "\t<tr><td>Christian Louboutin</td><td>0                  </td><td>shoes              </td><td>0                  </td><td>0_0_003.png        </td></tr>\n",
       "\t<tr><td>Christian Louboutin</td><td>0                  </td><td>shoes              </td><td>0                  </td><td>0_0_004.png        </td></tr>\n",
       "\t<tr><td>Christian Louboutin</td><td>0                  </td><td>shoes              </td><td>0                  </td><td>0_0_005.png        </td></tr>\n",
       "\t<tr><td>Christian Louboutin</td><td>0                  </td><td>shoes              </td><td>0                  </td><td>0_0_006.png        </td></tr>\n",
       "</tbody>\n",
       "</table>\n"
      ],
      "text/latex": [
       "\\begin{tabular}{r|lllll}\n",
       " brand\\_name & brand\\_label & product\\_name & product\\_label & file\\\\\n",
       "\\hline\n",
       "\t Christian Louboutin & 0                   & shoes               & 0                   & 0\\_0\\_001.png    \\\\\n",
       "\t Christian Louboutin & 0                   & shoes               & 0                   & 0\\_0\\_002.png    \\\\\n",
       "\t Christian Louboutin & 0                   & shoes               & 0                   & 0\\_0\\_003.png    \\\\\n",
       "\t Christian Louboutin & 0                   & shoes               & 0                   & 0\\_0\\_004.png    \\\\\n",
       "\t Christian Louboutin & 0                   & shoes               & 0                   & 0\\_0\\_005.png    \\\\\n",
       "\t Christian Louboutin & 0                   & shoes               & 0                   & 0\\_0\\_006.png    \\\\\n",
       "\\end{tabular}\n"
      ],
      "text/markdown": [
       "\n",
       "brand_name | brand_label | product_name | product_label | file | \n",
       "|---|---|---|---|---|---|\n",
       "| Christian Louboutin | 0                   | shoes               | 0                   | 0_0_001.png         | \n",
       "| Christian Louboutin | 0                   | shoes               | 0                   | 0_0_002.png         | \n",
       "| Christian Louboutin | 0                   | shoes               | 0                   | 0_0_003.png         | \n",
       "| Christian Louboutin | 0                   | shoes               | 0                   | 0_0_004.png         | \n",
       "| Christian Louboutin | 0                   | shoes               | 0                   | 0_0_005.png         | \n",
       "| Christian Louboutin | 0                   | shoes               | 0                   | 0_0_006.png         | \n",
       "\n",
       "\n"
      ],
      "text/plain": [
       "  brand_name          brand_label product_name product_label file       \n",
       "1 Christian Louboutin 0           shoes        0             0_0_001.png\n",
       "2 Christian Louboutin 0           shoes        0             0_0_002.png\n",
       "3 Christian Louboutin 0           shoes        0             0_0_003.png\n",
       "4 Christian Louboutin 0           shoes        0             0_0_004.png\n",
       "5 Christian Louboutin 0           shoes        0             0_0_005.png\n",
       "6 Christian Louboutin 0           shoes        0             0_0_006.png"
      ]
     },
     "metadata": {},
     "output_type": "display_data"
    }
   ],
   "source": [
    "data <- read.csv(\"/Users/olgabelitskaya/deep_learning_projects/DL_PP4/data/style.csv\")\n",
    "head(data)"
   ]
  },
  {
   "cell_type": "code",
   "execution_count": 56,
   "metadata": {},
   "outputs": [
    {
     "data": {
      "text/html": [
       "<ol class=list-inline>\n",
       "\t<li>150</li>\n",
       "\t<li>150</li>\n",
       "\t<li>1</li>\n",
       "\t<li>4</li>\n",
       "</ol>\n"
      ],
      "text/latex": [
       "\\begin{enumerate*}\n",
       "\\item 150\n",
       "\\item 150\n",
       "\\item 1\n",
       "\\item 4\n",
       "\\end{enumerate*}\n"
      ],
      "text/markdown": [
       "1. 150\n",
       "2. 150\n",
       "3. 1\n",
       "4. 4\n",
       "\n",
       "\n"
      ],
      "text/plain": [
       "[1] 150 150   1   4"
      ]
     },
     "metadata": {},
     "output_type": "display_data"
    },
    {
     "data": {
      "image/png": "[encoded data removed]",
      "text/plain": [
       "Plot with title “”"
      ]
     },
     "metadata": {},
     "output_type": "display_data"
    }
   ],
   "source": [
    "im <- load.image(\"/Users/olgabelitskaya/deep_learning_projects/DL_PP4/data/0_0_005.png\")\n",
    "options(repr.plot.width=2,repr.plot.height=2)\n",
    "par(mar=c(2,2,2,2))\n",
    "dim(im)\n",
    "plot(im)"
   ]
  },
  {
   "cell_type": "code",
   "execution_count": 57,
   "metadata": {},
   "outputs": [
    {
     "data": {
      "text/html": [
       "<ol class=list-inline>\n",
       "\t<li>'/Users/olgabelitskaya/deep_learning_projects/DL_PP4/data/6_9_002.png'</li>\n",
       "\t<li>'/Users/olgabelitskaya/deep_learning_projects/DL_PP4/data/6_9_003.png'</li>\n",
       "\t<li>'/Users/olgabelitskaya/deep_learning_projects/DL_PP4/data/6_9_004.png'</li>\n",
       "\t<li>'/Users/olgabelitskaya/deep_learning_projects/DL_PP4/data/6_9_005.png'</li>\n",
       "\t<li>'/Users/olgabelitskaya/deep_learning_projects/DL_PP4/data/6_9_006.png'</li>\n",
       "\t<li>'/Users/olgabelitskaya/deep_learning_projects/DL_PP4/data/6_9_007.png'</li>\n",
       "</ol>\n"
      ],
      "text/latex": [
       "\\begin{enumerate*}\n",
       "\\item '/Users/olgabelitskaya/deep\\_learning\\_projects/DL\\_PP4/data/6\\_9\\_002.png'\n",
       "\\item '/Users/olgabelitskaya/deep\\_learning\\_projects/DL\\_PP4/data/6\\_9\\_003.png'\n",
       "\\item '/Users/olgabelitskaya/deep\\_learning\\_projects/DL\\_PP4/data/6\\_9\\_004.png'\n",
       "\\item '/Users/olgabelitskaya/deep\\_learning\\_projects/DL\\_PP4/data/6\\_9\\_005.png'\n",
       "\\item '/Users/olgabelitskaya/deep\\_learning\\_projects/DL\\_PP4/data/6\\_9\\_006.png'\n",
       "\\item '/Users/olgabelitskaya/deep\\_learning\\_projects/DL\\_PP4/data/6\\_9\\_007.png'\n",
       "\\end{enumerate*}\n"
      ],
      "text/markdown": [
       "1. '/Users/olgabelitskaya/deep_learning_projects/DL_PP4/data/6_9_002.png'\n",
       "2. '/Users/olgabelitskaya/deep_learning_projects/DL_PP4/data/6_9_003.png'\n",
       "3. '/Users/olgabelitskaya/deep_learning_projects/DL_PP4/data/6_9_004.png'\n",
       "4. '/Users/olgabelitskaya/deep_learning_projects/DL_PP4/data/6_9_005.png'\n",
       "5. '/Users/olgabelitskaya/deep_learning_projects/DL_PP4/data/6_9_006.png'\n",
       "6. '/Users/olgabelitskaya/deep_learning_projects/DL_PP4/data/6_9_007.png'\n",
       "\n",
       "\n"
      ],
      "text/plain": [
       "[1] \"/Users/olgabelitskaya/deep_learning_projects/DL_PP4/data/6_9_002.png\"\n",
       "[2] \"/Users/olgabelitskaya/deep_learning_projects/DL_PP4/data/6_9_003.png\"\n",
       "[3] \"/Users/olgabelitskaya/deep_learning_projects/DL_PP4/data/6_9_004.png\"\n",
       "[4] \"/Users/olgabelitskaya/deep_learning_projects/DL_PP4/data/6_9_005.png\"\n",
       "[5] \"/Users/olgabelitskaya/deep_learning_projects/DL_PP4/data/6_9_006.png\"\n",
       "[6] \"/Users/olgabelitskaya/deep_learning_projects/DL_PP4/data/6_9_007.png\""
      ]
     },
     "metadata": {},
     "output_type": "display_data"
    }
   ],
   "source": [
    "image_paths <- list.files(\"/Users/olgabelitskaya/deep_learning_projects/DL_PP4/data\", \n",
    "                           recursive = TRUE, full.names = TRUE)\n",
    "image_paths <- image_paths[1:(length(image_paths)-3)]\n",
    "tail(image_paths)"
   ]
  },
  {
   "cell_type": "code",
   "execution_count": 95,
   "metadata": {},
   "outputs": [
    {
     "data": {
      "text/html": [
       "<strong>$brand_name</strong> = <ol class=list-inline>\n",
       "\t<li>Christian Louboutin</li>\n",
       "\t<li>Chanel</li>\n",
       "\t<li>Dolce &amp; Gabbana</li>\n",
       "\t<li>Gucci</li>\n",
       "\t<li>Christian Dior</li>\n",
       "\t<li>Versace</li>\n",
       "\t<li>Yves Saint Laurent</li>\n",
       "</ol>\n",
       "\n",
       "<details>\n",
       "\t<summary style=display:list-item;cursor:pointer>\n",
       "\t\t<strong>Levels</strong>:\n",
       "\t</summary>\n",
       "\t<ol class=list-inline>\n",
       "\t\t<li>'Chanel'</li>\n",
       "\t\t<li>'Christian Dior'</li>\n",
       "\t\t<li>'Christian Louboutin'</li>\n",
       "\t\t<li>'Dolce &amp; Gabbana'</li>\n",
       "\t\t<li>'Gucci'</li>\n",
       "\t\t<li>'Versace'</li>\n",
       "\t\t<li>'Yves Saint Laurent'</li>\n",
       "\t</ol>\n",
       "</details>"
      ],
      "text/latex": [
       "\\textbf{\\$brand\\_name} = \\begin{enumerate*}\n",
       "\\item Christian Louboutin\n",
       "\\item Chanel\n",
       "\\item Dolce \\& Gabbana\n",
       "\\item Gucci\n",
       "\\item Christian Dior\n",
       "\\item Versace\n",
       "\\item Yves Saint Laurent\n",
       "\\end{enumerate*}\n",
       "\n",
       "\\emph{Levels}: \\begin{enumerate*}\n",
       "\\item 'Chanel'\n",
       "\\item 'Christian Dior'\n",
       "\\item 'Christian Louboutin'\n",
       "\\item 'Dolce \\& Gabbana'\n",
       "\\item 'Gucci'\n",
       "\\item 'Versace'\n",
       "\\item 'Yves Saint Laurent'\n",
       "\\end{enumerate*}\n"
      ],
      "text/markdown": [
       "**$brand_name** = 1. Christian Louboutin\n",
       "2. Chanel\n",
       "3. Dolce &amp; Gabbana\n",
       "4. Gucci\n",
       "5. Christian Dior\n",
       "6. Versace\n",
       "7. Yves Saint Laurent\n",
       "\n",
       "\n",
       "\n",
       "**Levels**: 1. 'Chanel'\n",
       "2. 'Christian Dior'\n",
       "3. 'Christian Louboutin'\n",
       "4. 'Dolce &amp; Gabbana'\n",
       "5. 'Gucci'\n",
       "6. 'Versace'\n",
       "7. 'Yves Saint Laurent'\n",
       "\n",
       "\n"
      ],
      "text/plain": [
       "$brand_name\n",
       "[1] Christian Louboutin Chanel              Dolce & Gabbana    \n",
       "[4] Gucci               Christian Dior      Versace            \n",
       "[7] Yves Saint Laurent \n",
       "7 Levels: Chanel Christian Dior Christian Louboutin Dolce & Gabbana ... Yves Saint Laurent\n"
      ]
     },
     "metadata": {},
     "output_type": "display_data"
    }
   ],
   "source": [
    "c(unique(data['brand_name']))"
   ]
  },
  {
   "cell_type": "code",
   "execution_count": 59,
   "metadata": {},
   "outputs": [
    {
     "data": {
      "text/html": [
       "<strong>$product_name</strong> = <ol class=list-inline>\n",
       "\t<li>shoes</li>\n",
       "\t<li>lipstick</li>\n",
       "\t<li>handbag</li>\n",
       "\t<li>nail polish</li>\n",
       "\t<li>boots</li>\n",
       "\t<li>necklace</li>\n",
       "\t<li>watches</li>\n",
       "\t<li>ring</li>\n",
       "\t<li>bracelet</li>\n",
       "\t<li>earrings</li>\n",
       "</ol>\n",
       "\n",
       "<details>\n",
       "\t<summary style=display:list-item;cursor:pointer>\n",
       "\t\t<strong>Levels</strong>:\n",
       "\t</summary>\n",
       "\t<ol class=list-inline>\n",
       "\t\t<li>'boots'</li>\n",
       "\t\t<li>'bracelet'</li>\n",
       "\t\t<li>'earrings'</li>\n",
       "\t\t<li>'handbag'</li>\n",
       "\t\t<li>'lipstick'</li>\n",
       "\t\t<li>'nail polish'</li>\n",
       "\t\t<li>'necklace'</li>\n",
       "\t\t<li>'ring'</li>\n",
       "\t\t<li>'shoes'</li>\n",
       "\t\t<li>'watches'</li>\n",
       "\t</ol>\n",
       "</details>"
      ],
      "text/latex": [
       "\\textbf{\\$product\\_name} = \\begin{enumerate*}\n",
       "\\item shoes\n",
       "\\item lipstick\n",
       "\\item handbag\n",
       "\\item nail polish\n",
       "\\item boots\n",
       "\\item necklace\n",
       "\\item watches\n",
       "\\item ring\n",
       "\\item bracelet\n",
       "\\item earrings\n",
       "\\end{enumerate*}\n",
       "\n",
       "\\emph{Levels}: \\begin{enumerate*}\n",
       "\\item 'boots'\n",
       "\\item 'bracelet'\n",
       "\\item 'earrings'\n",
       "\\item 'handbag'\n",
       "\\item 'lipstick'\n",
       "\\item 'nail polish'\n",
       "\\item 'necklace'\n",
       "\\item 'ring'\n",
       "\\item 'shoes'\n",
       "\\item 'watches'\n",
       "\\end{enumerate*}\n"
      ],
      "text/markdown": [
       "**$product_name** = 1. shoes\n",
       "2. lipstick\n",
       "3. handbag\n",
       "4. nail polish\n",
       "5. boots\n",
       "6. necklace\n",
       "7. watches\n",
       "8. ring\n",
       "9. bracelet\n",
       "10. earrings\n",
       "\n",
       "\n",
       "\n",
       "**Levels**: 1. 'boots'\n",
       "2. 'bracelet'\n",
       "3. 'earrings'\n",
       "4. 'handbag'\n",
       "5. 'lipstick'\n",
       "6. 'nail polish'\n",
       "7. 'necklace'\n",
       "8. 'ring'\n",
       "9. 'shoes'\n",
       "10. 'watches'\n",
       "\n",
       "\n"
      ],
      "text/plain": [
       "$product_name\n",
       " [1] shoes       lipstick    handbag     nail polish boots       necklace   \n",
       " [7] watches     ring        bracelet    earrings   \n",
       "10 Levels: boots bracelet earrings handbag lipstick nail polish ... watches\n"
      ]
     },
     "metadata": {},
     "output_type": "display_data"
    }
   ],
   "source": [
    "c(unique(data['product_name']))"
   ]
  },
  {
   "cell_type": "markdown",
   "metadata": {},
   "source": [
    "## &#x1F310; &nbsp; 2. Implement Preprocess Functions"
   ]
  },
  {
   "cell_type": "code",
   "execution_count": 60,
   "metadata": {},
   "outputs": [
    {
     "data": {
      "text/html": [
       "<ol class=list-inline>\n",
       "\t<li>894</li>\n",
       "\t<li>1</li>\n",
       "</ol>\n"
      ],
      "text/latex": [
       "\\begin{enumerate*}\n",
       "\\item 894\n",
       "\\item 1\n",
       "\\end{enumerate*}\n"
      ],
      "text/markdown": [
       "1. 894\n",
       "2. 1\n",
       "\n",
       "\n"
      ],
      "text/plain": [
       "[1] 894   1"
      ]
     },
     "metadata": {},
     "output_type": "display_data"
    },
    {
     "data": {
      "text/html": [
       "<ol class=list-inline>\n",
       "\t<li>894</li>\n",
       "\t<li>1</li>\n",
       "</ol>\n"
      ],
      "text/latex": [
       "\\begin{enumerate*}\n",
       "\\item 894\n",
       "\\item 1\n",
       "\\end{enumerate*}\n"
      ],
      "text/markdown": [
       "1. 894\n",
       "2. 1\n",
       "\n",
       "\n"
      ],
      "text/plain": [
       "[1] 894   1"
      ]
     },
     "metadata": {},
     "output_type": "display_data"
    },
    {
     "data": {
      "text/html": [
       "<ol class=list-inline>\n",
       "\t<li>894</li>\n",
       "\t<li>7</li>\n",
       "</ol>\n"
      ],
      "text/latex": [
       "\\begin{enumerate*}\n",
       "\\item 894\n",
       "\\item 7\n",
       "\\end{enumerate*}\n"
      ],
      "text/markdown": [
       "1. 894\n",
       "2. 7\n",
       "\n",
       "\n"
      ],
      "text/plain": [
       "[1] 894   7"
      ]
     },
     "metadata": {},
     "output_type": "display_data"
    },
    {
     "data": {
      "text/html": [
       "<ol class=list-inline>\n",
       "\t<li>894</li>\n",
       "\t<li>10</li>\n",
       "</ol>\n"
      ],
      "text/latex": [
       "\\begin{enumerate*}\n",
       "\\item 894\n",
       "\\item 10\n",
       "\\end{enumerate*}\n"
      ],
      "text/markdown": [
       "1. 894\n",
       "2. 10\n",
       "\n",
       "\n"
      ],
      "text/plain": [
       "[1] 894  10"
      ]
     },
     "metadata": {},
     "output_type": "display_data"
    }
   ],
   "source": [
    "brands <- as.matrix(data[\"brand_label\"])\n",
    "products <- as.matrix(data[\"product_label\"])\n",
    "brand_targets <- keras::to_categorical(brands,7)\n",
    "product_targets <- keras::to_categorical(products,10)\n",
    "dim(brands); dim(products); dim(brand_targets); dim(product_targets)"
   ]
  },
  {
   "cell_type": "code",
   "execution_count": 61,
   "metadata": {},
   "outputs": [],
   "source": [
    "image_tensors <- lapply(image_paths, image_loading)\n",
    "image_tensors <- array_reshape(image_tensors, c(-1,150*150*3))"
   ]
  },
  {
   "cell_type": "code",
   "execution_count": 62,
   "metadata": {},
   "outputs": [],
   "source": [
    "targets <- cbind(brand_targets,product_targets)"
   ]
  },
  {
   "cell_type": "code",
   "execution_count": 63,
   "metadata": {},
   "outputs": [
    {
     "data": {
      "text/html": [
       "<ol class=list-inline>\n",
       "\t<li>894</li>\n",
       "\t<li>67500</li>\n",
       "</ol>\n"
      ],
      "text/latex": [
       "\\begin{enumerate*}\n",
       "\\item 894\n",
       "\\item 67500\n",
       "\\end{enumerate*}\n"
      ],
      "text/markdown": [
       "1. 894\n",
       "2. 67500\n",
       "\n",
       "\n"
      ],
      "text/plain": [
       "[1]   894 67500"
      ]
     },
     "metadata": {},
     "output_type": "display_data"
    },
    {
     "data": {
      "text/html": [
       "<ol class=list-inline>\n",
       "\t<li>894</li>\n",
       "\t<li>17</li>\n",
       "</ol>\n"
      ],
      "text/latex": [
       "\\begin{enumerate*}\n",
       "\\item 894\n",
       "\\item 17\n",
       "\\end{enumerate*}\n"
      ],
      "text/markdown": [
       "1. 894\n",
       "2. 17\n",
       "\n",
       "\n"
      ],
      "text/plain": [
       "[1] 894  17"
      ]
     },
     "metadata": {},
     "output_type": "display_data"
    }
   ],
   "source": [
    "dim(image_tensors); dim(targets)"
   ]
  },
  {
   "cell_type": "code",
   "execution_count": 64,
   "metadata": {},
   "outputs": [
    {
     "data": {
      "text/html": [
       "<ol class=list-inline>\n",
       "\t<li>894</li>\n",
       "\t<li>67534</li>\n",
       "</ol>\n"
      ],
      "text/latex": [
       "\\begin{enumerate*}\n",
       "\\item 894\n",
       "\\item 67534\n",
       "\\end{enumerate*}\n"
      ],
      "text/markdown": [
       "1. 894\n",
       "2. 67534\n",
       "\n",
       "\n"
      ],
      "text/plain": [
       "[1]   894 67534"
      ]
     },
     "metadata": {},
     "output_type": "display_data"
    }
   ],
   "source": [
    "df <- data.frame(image_tensors,brand_targets,product_targets,targets)\n",
    "df <- df[sample(nrow(df)),]\n",
    "dim(df)"
   ]
  },
  {
   "cell_type": "code",
   "execution_count": 80,
   "metadata": {},
   "outputs": [
    {
     "name": "stdout",
     "output_type": "stream",
     "text": [
      "Dimensions: 150 150 3    Brand:  3    Product:  8"
     ]
    },
    {
     "data": {
      "image/png": "[encoded data removed]",
      "text/plain": [
       "plot without title"
      ]
     },
     "metadata": {},
     "output_type": "display_data"
    }
   ],
   "source": [
    "options(repr.plot.width=2,repr.plot.height=2)\n",
    "par(mar=c(2,2,2,2))\n",
    "image_example <- array_reshape(as.matrix(df[200,1:67500]),c(150,150,3))\n",
    "cat(\"Dimensions:\", dim(image_example), \"  \", \n",
    "    \"Brand: \",which(df[200,67501:67507]==1),\"  \",\n",
    "    \"Product: \",which(df[200,67508:67517]==1))\n",
    "plot(as.raster(image_example))"
   ]
  },
  {
   "cell_type": "code",
   "execution_count": 83,
   "metadata": {},
   "outputs": [],
   "source": [
    "train_indices <- 1:round(0.8 * nrow(df))\n",
    "valid_indices <- (round(0.8 * nrow(df)) + 1):round(0.9 * nrow(df))\n",
    "test_indices <- (round(0.9 * nrow(df)) + 1):nrow(df)"
   ]
  },
  {
   "cell_type": "code",
   "execution_count": 84,
   "metadata": {},
   "outputs": [],
   "source": [
    "x_train1 <- as.matrix(df[train_indices,1:67500])\n",
    "x_valid1 <- as.matrix(df[valid_indices,1:67500])\n",
    "x_test1 <- as.matrix(df[test_indices,1:67500])"
   ]
  },
  {
   "cell_type": "code",
   "execution_count": 85,
   "metadata": {},
   "outputs": [],
   "source": [
    "y_train1 <- as.matrix(df[train_indices,67501:67507])\n",
    "y_valid1 <- as.matrix(df[valid_indices,67501:67507])\n",
    "y_test1 <- as.matrix(df[test_indices,67501:67507])\n",
    "\n",
    "y_train2 <- as.matrix(df[train_indices,67508:67517])\n",
    "y_valid2 <- as.matrix(df[valid_indices,67508:67517])\n",
    "y_test2 <- as.matrix(df[test_indices,67508:67517])\n",
    "\n",
    "y_train3 <- as.matrix(df[train_indices,67518:67534])\n",
    "y_valid3 <- as.matrix(df[valid_indices,67518:67534])\n",
    "y_test3 <- as.matrix(df[test_indices,67518:67534])"
   ]
  },
  {
   "cell_type": "code",
   "execution_count": 86,
   "metadata": {},
   "outputs": [
    {
     "data": {
      "text/html": [
       "<ol class=list-inline>\n",
       "\t<li>715</li>\n",
       "\t<li>67500</li>\n",
       "</ol>\n"
      ],
      "text/latex": [
       "\\begin{enumerate*}\n",
       "\\item 715\n",
       "\\item 67500\n",
       "\\end{enumerate*}\n"
      ],
      "text/markdown": [
       "1. 715\n",
       "2. 67500\n",
       "\n",
       "\n"
      ],
      "text/plain": [
       "[1]   715 67500"
      ]
     },
     "metadata": {},
     "output_type": "display_data"
    },
    {
     "data": {
      "text/html": [
       "<ol class=list-inline>\n",
       "\t<li>90</li>\n",
       "\t<li>67500</li>\n",
       "</ol>\n"
      ],
      "text/latex": [
       "\\begin{enumerate*}\n",
       "\\item 90\n",
       "\\item 67500\n",
       "\\end{enumerate*}\n"
      ],
      "text/markdown": [
       "1. 90\n",
       "2. 67500\n",
       "\n",
       "\n"
      ],
      "text/plain": [
       "[1]    90 67500"
      ]
     },
     "metadata": {},
     "output_type": "display_data"
    },
    {
     "data": {
      "text/html": [
       "<ol class=list-inline>\n",
       "\t<li>89</li>\n",
       "\t<li>67500</li>\n",
       "</ol>\n"
      ],
      "text/latex": [
       "\\begin{enumerate*}\n",
       "\\item 89\n",
       "\\item 67500\n",
       "\\end{enumerate*}\n"
      ],
      "text/markdown": [
       "1. 89\n",
       "2. 67500\n",
       "\n",
       "\n"
      ],
      "text/plain": [
       "[1]    89 67500"
      ]
     },
     "metadata": {},
     "output_type": "display_data"
    },
    {
     "data": {
      "text/html": [
       "<ol class=list-inline>\n",
       "\t<li>715</li>\n",
       "\t<li>17</li>\n",
       "</ol>\n"
      ],
      "text/latex": [
       "\\begin{enumerate*}\n",
       "\\item 715\n",
       "\\item 17\n",
       "\\end{enumerate*}\n"
      ],
      "text/markdown": [
       "1. 715\n",
       "2. 17\n",
       "\n",
       "\n"
      ],
      "text/plain": [
       "[1] 715  17"
      ]
     },
     "metadata": {},
     "output_type": "display_data"
    },
    {
     "data": {
      "text/html": [
       "<ol class=list-inline>\n",
       "\t<li>90</li>\n",
       "\t<li>17</li>\n",
       "</ol>\n"
      ],
      "text/latex": [
       "\\begin{enumerate*}\n",
       "\\item 90\n",
       "\\item 17\n",
       "\\end{enumerate*}\n"
      ],
      "text/markdown": [
       "1. 90\n",
       "2. 17\n",
       "\n",
       "\n"
      ],
      "text/plain": [
       "[1] 90 17"
      ]
     },
     "metadata": {},
     "output_type": "display_data"
    },
    {
     "data": {
      "text/html": [
       "<ol class=list-inline>\n",
       "\t<li>89</li>\n",
       "\t<li>17</li>\n",
       "</ol>\n"
      ],
      "text/latex": [
       "\\begin{enumerate*}\n",
       "\\item 89\n",
       "\\item 17\n",
       "\\end{enumerate*}\n"
      ],
      "text/markdown": [
       "1. 89\n",
       "2. 17\n",
       "\n",
       "\n"
      ],
      "text/plain": [
       "[1] 89 17"
      ]
     },
     "metadata": {},
     "output_type": "display_data"
    }
   ],
   "source": [
    "dim(x_train1); dim(x_valid1); dim(x_test1); dim(y_train3); dim(y_valid3); dim(y_test3)"
   ]
  },
  {
   "cell_type": "code",
   "execution_count": 87,
   "metadata": {},
   "outputs": [],
   "source": [
    "gray_image_tensors <- lapply(image_paths, image_grayscaled_loading)\n",
    "gray_image_tensors <- array_reshape(gray_image_tensors, c(-1,150*150))"
   ]
  },
  {
   "cell_type": "code",
   "execution_count": 88,
   "metadata": {},
   "outputs": [
    {
     "data": {
      "text/html": [
       "<ol class=list-inline>\n",
       "\t<li>894</li>\n",
       "\t<li>22534</li>\n",
       "</ol>\n"
      ],
      "text/latex": [
       "\\begin{enumerate*}\n",
       "\\item 894\n",
       "\\item 22534\n",
       "\\end{enumerate*}\n"
      ],
      "text/markdown": [
       "1. 894\n",
       "2. 22534\n",
       "\n",
       "\n"
      ],
      "text/plain": [
       "[1]   894 22534"
      ]
     },
     "metadata": {},
     "output_type": "display_data"
    }
   ],
   "source": [
    "gray_df <- data.frame(gray_image_tensors,brand_targets,product_targets,targets)\n",
    "gray_df <- gray_df[sample(nrow(gray_df)),]\n",
    "dim(gray_df)"
   ]
  },
  {
   "cell_type": "code",
   "execution_count": 89,
   "metadata": {},
   "outputs": [
    {
     "name": "stdout",
     "output_type": "stream",
     "text": [
      "Dimensions: 150 150    Brand:  5    Product:  9"
     ]
    },
    {
     "data": {
      "image/png": "[encoded data removed]",
      "text/plain": [
       "plot without title"
      ]
     },
     "metadata": {},
     "output_type": "display_data"
    }
   ],
   "source": [
    "options(repr.plot.width=2,repr.plot.height=2)\n",
    "par(mar=c(2,2,2,2))\n",
    "image_example <- array_reshape(as.matrix(gray_df[500,1:22500]),c(150,150))\n",
    "cat(\"Dimensions:\", dim(image_example), \"  \", \n",
    "    \"Brand: \",which(gray_df[500,22501:22507]==1),\"  \",\n",
    "    \"Product: \",which(gray_df[500,22508:22517]==1))\n",
    "plot(as.raster(image_example))"
   ]
  },
  {
   "cell_type": "code",
   "execution_count": 100,
   "metadata": {},
   "outputs": [],
   "source": [
    "x_train2 <- as.matrix(gray_df[train_indices,1:22500])\n",
    "x_valid2 <- as.matrix(gray_df[valid_indices,1:22500])\n",
    "x_test2 <- as.matrix(gray_df[test_indices,1:22500])"
   ]
  },
  {
   "cell_type": "code",
   "execution_count": 101,
   "metadata": {},
   "outputs": [],
   "source": [
    "y_train4 <- as.matrix(gray_df[train_indices,22501:22507])\n",
    "y_valid4 <- as.matrix(gray_df[valid_indices,22501:22507])\n",
    "y_test4 <- as.matrix(gray_df[test_indices,22501:22507])\n",
    "\n",
    "y_train5 <- as.matrix(gray_df[train_indices,22508:22517])\n",
    "y_valid5 <- as.matrix(gray_df[valid_indices,22508:22517])\n",
    "y_test5 <- as.matrix(gray_df[test_indices,22508:22517])\n",
    "\n",
    "y_train6 <- as.matrix(gray_df[train_indices,22518:22534])\n",
    "y_valid6 <- as.matrix(gray_df[valid_indices,22518:22534])\n",
    "y_test6 <- as.matrix(gray_df[test_indices,22518:22534])"
   ]
  },
  {
   "cell_type": "code",
   "execution_count": 102,
   "metadata": {},
   "outputs": [
    {
     "data": {
      "text/html": [
       "<ol class=list-inline>\n",
       "\t<li>715</li>\n",
       "\t<li>22500</li>\n",
       "</ol>\n"
      ],
      "text/latex": [
       "\\begin{enumerate*}\n",
       "\\item 715\n",
       "\\item 22500\n",
       "\\end{enumerate*}\n"
      ],
      "text/markdown": [
       "1. 715\n",
       "2. 22500\n",
       "\n",
       "\n"
      ],
      "text/plain": [
       "[1]   715 22500"
      ]
     },
     "metadata": {},
     "output_type": "display_data"
    },
    {
     "data": {
      "text/html": [
       "<ol class=list-inline>\n",
       "\t<li>90</li>\n",
       "\t<li>22500</li>\n",
       "</ol>\n"
      ],
      "text/latex": [
       "\\begin{enumerate*}\n",
       "\\item 90\n",
       "\\item 22500\n",
       "\\end{enumerate*}\n"
      ],
      "text/markdown": [
       "1. 90\n",
       "2. 22500\n",
       "\n",
       "\n"
      ],
      "text/plain": [
       "[1]    90 22500"
      ]
     },
     "metadata": {},
     "output_type": "display_data"
    },
    {
     "data": {
      "text/html": [
       "<ol class=list-inline>\n",
       "\t<li>89</li>\n",
       "\t<li>22500</li>\n",
       "</ol>\n"
      ],
      "text/latex": [
       "\\begin{enumerate*}\n",
       "\\item 89\n",
       "\\item 22500\n",
       "\\end{enumerate*}\n"
      ],
      "text/markdown": [
       "1. 89\n",
       "2. 22500\n",
       "\n",
       "\n"
      ],
      "text/plain": [
       "[1]    89 22500"
      ]
     },
     "metadata": {},
     "output_type": "display_data"
    },
    {
     "data": {
      "text/html": [
       "<ol class=list-inline>\n",
       "\t<li>715</li>\n",
       "\t<li>17</li>\n",
       "</ol>\n"
      ],
      "text/latex": [
       "\\begin{enumerate*}\n",
       "\\item 715\n",
       "\\item 17\n",
       "\\end{enumerate*}\n"
      ],
      "text/markdown": [
       "1. 715\n",
       "2. 17\n",
       "\n",
       "\n"
      ],
      "text/plain": [
       "[1] 715  17"
      ]
     },
     "metadata": {},
     "output_type": "display_data"
    },
    {
     "data": {
      "text/html": [
       "<ol class=list-inline>\n",
       "\t<li>90</li>\n",
       "\t<li>17</li>\n",
       "</ol>\n"
      ],
      "text/latex": [
       "\\begin{enumerate*}\n",
       "\\item 90\n",
       "\\item 17\n",
       "\\end{enumerate*}\n"
      ],
      "text/markdown": [
       "1. 90\n",
       "2. 17\n",
       "\n",
       "\n"
      ],
      "text/plain": [
       "[1] 90 17"
      ]
     },
     "metadata": {},
     "output_type": "display_data"
    },
    {
     "data": {
      "text/html": [
       "<ol class=list-inline>\n",
       "\t<li>89</li>\n",
       "\t<li>17</li>\n",
       "</ol>\n"
      ],
      "text/latex": [
       "\\begin{enumerate*}\n",
       "\\item 89\n",
       "\\item 17\n",
       "\\end{enumerate*}\n"
      ],
      "text/markdown": [
       "1. 89\n",
       "2. 17\n",
       "\n",
       "\n"
      ],
      "text/plain": [
       "[1] 89 17"
      ]
     },
     "metadata": {},
     "output_type": "display_data"
    }
   ],
   "source": [
    "dim(x_train2); dim(x_valid2); dim(x_test2); dim(y_train6); dim(y_valid6); dim(y_test6)"
   ]
  },
  {
   "cell_type": "markdown",
   "metadata": {},
   "source": [
    "## &#x1F310; &nbsp; 3. One-Label Classification Models"
   ]
  },
  {
   "cell_type": "code",
   "execution_count": null,
   "metadata": {},
   "outputs": [],
   "source": []
  }
 ],
 "metadata": {
  "kernelspec": {
   "display_name": "R",
   "language": "R",
   "name": "ir"
  },
  "language_info": {
   "codemirror_mode": "r",
   "file_extension": ".r",
   "mimetype": "text/x-r-source",
   "name": "R",
   "pygments_lexer": "r",
   "version": "3.5.0"
  }
 },
 "nbformat": 4,
 "nbformat_minor": 2
}
