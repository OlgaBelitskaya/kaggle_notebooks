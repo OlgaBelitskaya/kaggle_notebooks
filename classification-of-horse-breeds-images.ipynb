{
 "cells": [
  {
   "cell_type": "code",
   "execution_count": 1,
   "metadata": {
    "_kg_hide-input": true
   },
   "outputs": [],
   "source": [
    "from IPython.display import display,HTML\n",
    "def dhtml(str):\n",
    "    display(HTML(\"\"\"<style>\n",
    "    @import 'https://fonts.googleapis.com/css?family=Smokum&effect=3d';      \n",
    "    </style><h1 class='font-effect-3d' \n",
    "    style='font-family:Smokum; color:#ff55ee; font-size:35px;'>\n",
    "    %s</h1>\"\"\"%str))"
   ]
  },
  {
   "cell_type": "code",
   "execution_count": 2,
   "metadata": {
    "_kg_hide-input": true
   },
   "outputs": [
    {
     "data": {
      "text/html": [
       "<style>\n",
       "    @import 'https://fonts.googleapis.com/css?family=Smokum&effect=3d';      \n",
       "    </style><h1 class='font-effect-3d' \n",
       "    style='font-family:Smokum; color:#ff55ee; font-size:35px;'>\n",
       "    Code Modules, Functions, & Classes</h1>"
      ],
      "text/plain": [
       "<IPython.core.display.HTML object>"
      ]
     },
     "metadata": {},
     "output_type": "display_data"
    }
   ],
   "source": [
    "dhtml('Code Modules, Functions, & Classes')"
   ]
  },
  {
   "cell_type": "code",
   "execution_count": 3,
   "metadata": {
    "_cell_guid": "b1076dfc-b9ad-4769-8c92-a6c4dae69d19",
    "_uuid": "8f2839f25d086af736a60e9eeb907d3b93b6e0e5"
   },
   "outputs": [],
   "source": [
    "import warnings; warnings.filterwarnings('ignore')\n",
    "import pandas as pd,numpy as np\n",
    "import tensorflow_hub as th,tensorflow as tf\n",
    "import h5py,imageio,os,torch,pylab as pl\n",
    "from keras.preprocessing import image as kimage\n",
    "from tqdm import tqdm\n",
    "from PIL import ImageFile,Image\n",
    "ImageFile.LOAD_TRUNCATED_IMAGES=True\n",
    "from torch.utils.data import DataLoader as tdl\n",
    "from torch.utils.data import Dataset as tds\n",
    "from torchvision import transforms,utils,models\n",
    "import torch.nn.functional as tnnf\n",
    "import torch.nn as tnn\n",
    "dev=torch.device(\"cuda:0\" \\\n",
    "if torch.cuda.is_available() else \"cpu\")\n",
    "from IPython.core.magic import register_line_magic"
   ]
  },
  {
   "cell_type": "code",
   "execution_count": 4,
   "metadata": {
    "_cell_guid": "79c7e3d0-c299-4dcb-8224-4455121ee9b0",
    "_kg_hide-input": true,
    "_uuid": "d629ff2d2480ee46fbb7e2d37f6b5fab8052498a"
   },
   "outputs": [],
   "source": [
    "def path_to_tensor(img_path,fpath,img_size):\n",
    "    img=kimage.load_img(fpath+img_path, \n",
    "                        target_size=(img_size,img_size))\n",
    "    x=kimage.img_to_array(img)\n",
    "    return np.expand_dims(x,axis=0)\n",
    "def paths_to_tensor(img_paths,fpath,img_size):\n",
    "    tensor_list=[path_to_tensor(img_path,fpath,img_size) \n",
    "                 for img_path in tqdm(img_paths)]\n",
    "    return np.vstack(tensor_list)"
   ]
  },
  {
   "cell_type": "code",
   "execution_count": 5,
   "metadata": {
    "_kg_hide-input": true
   },
   "outputs": [],
   "source": [
    "@register_line_magic\n",
    "def display_examples(data):\n",
    "    for images,labels in dataloaders[data]:  \n",
    "        print('Image dimensions: %s'%str(images.shape))\n",
    "        print('Label dimensions: %s'%str(labels.shape))\n",
    "        n=np.random.randint(1,3)\n",
    "        fig=pl.figure(figsize=(10,4))\n",
    "        for i in range(n,n+5):\n",
    "            ax=fig.add_subplot(1,5,i-n+1,\\\n",
    "            xticks=[],yticks=[],title=names[labels[i].item()])\n",
    "            ax.imshow(np.transpose(images[i],(1,2,0)))\n",
    "        break"
   ]
  },
  {
   "cell_type": "code",
   "execution_count": 6,
   "metadata": {
    "_kg_hide-input": true
   },
   "outputs": [],
   "source": [
    "def model_acc(model,data_loader):\n",
    "    correct_preds,num_examples=0,0    \n",
    "    for features,targets in data_loader:\n",
    "        features=features.to(dev)\n",
    "        targets=targets.to(dev).long()\n",
    "        logits=model(features)\n",
    "        _,pred_labels=torch.max(logits,1)\n",
    "        num_examples+=targets.size(0)\n",
    "        correct_preds+=(pred_labels==targets).sum()        \n",
    "    return correct_preds.float()/num_examples*100\n",
    "def epoch_loss(model,data_loader):\n",
    "    model.eval()\n",
    "    curr_loss,num_examples=0.,0\n",
    "    with torch.no_grad():\n",
    "        for features,targets in data_loader:\n",
    "            features=features.to(dev)\n",
    "            targets=targets.to(dev).long()\n",
    "            logits=model(features)\n",
    "            loss=tnnf.cross_entropy(logits,targets,\n",
    "                                    reduction='sum')\n",
    "            num_examples+=targets.size(0)\n",
    "            curr_loss+=loss\n",
    "        return curr_loss/num_examples"
   ]
  },
  {
   "cell_type": "code",
   "execution_count": 7,
   "metadata": {},
   "outputs": [],
   "source": [
    "class HorseBreedsData(tds):\n",
    "    def __init__(self,csv_path,img_dir,transform=None):\n",
    "        df=pd.read_csv(csv_path,index_col=0)\n",
    "        self.img_dir=img_dir\n",
    "        self.csv_path=csv_path\n",
    "        self.img_paths=df['path']\n",
    "        self.y=df['label'].values\n",
    "        self.transform=transform\n",
    "    def __getitem__(self,index):\n",
    "        img=Image.open(os.path\\\n",
    "        .join(self.img_dir,self.img_paths[index]))\n",
    "        img=img.convert('RGB')\n",
    "        if self.transform is not None:\n",
    "            img=self.transform(img)\n",
    "        lbl=self.y[index]\n",
    "        return img,lbl\n",
    "    def __len__(self):\n",
    "        return self.y.shape[0]"
   ]
  },
  {
   "cell_type": "code",
   "execution_count": 8,
   "metadata": {
    "_kg_hide-input": true
   },
   "outputs": [
    {
     "data": {
      "text/html": [
       "<style>\n",
       "    @import 'https://fonts.googleapis.com/css?family=Smokum&effect=3d';      \n",
       "    </style><h1 class='font-effect-3d' \n",
       "    style='font-family:Smokum; color:#ff55ee; font-size:35px;'>\n",
       "    Data Loaders</h1>"
      ],
      "text/plain": [
       "<IPython.core.display.HTML object>"
      ]
     },
     "metadata": {},
     "output_type": "display_data"
    }
   ],
   "source": [
    "dhtml('Data Loaders')"
   ]
  },
  {
   "cell_type": "code",
   "execution_count": 9,
   "metadata": {},
   "outputs": [
    {
     "name": "stderr",
     "output_type": "stream",
     "text": [
      "100%|██████████| 139/139 [00:01<00:00, 128.28it/s]\n"
     ]
    },
    {
     "data": {
      "text/html": [
       "<div>\n",
       "<style scoped>\n",
       "    .dataframe tbody tr th:only-of-type {\n",
       "        vertical-align: middle;\n",
       "    }\n",
       "\n",
       "    .dataframe tbody tr th {\n",
       "        vertical-align: top;\n",
       "    }\n",
       "\n",
       "    .dataframe thead th {\n",
       "        text-align: right;\n",
       "    }\n",
       "</style>\n",
       "<table border=\"1\" class=\"dataframe\">\n",
       "  <thead>\n",
       "    <tr style=\"text-align: right;\">\n",
       "      <th></th>\n",
       "      <th>train</th>\n",
       "      <th>valid</th>\n",
       "      <th>test</th>\n",
       "    </tr>\n",
       "  </thead>\n",
       "  <tbody>\n",
       "    <tr>\n",
       "      <th>0</th>\n",
       "      <td>(113, 160, 160, 3)</td>\n",
       "      <td>(13, 160, 160, 3)</td>\n",
       "      <td>(13, 160, 160, 3)</td>\n",
       "    </tr>\n",
       "    <tr>\n",
       "      <th>1</th>\n",
       "      <td>float32</td>\n",
       "      <td>float32</td>\n",
       "      <td>float32</td>\n",
       "    </tr>\n",
       "    <tr>\n",
       "      <th>2</th>\n",
       "      <td>(113,)</td>\n",
       "      <td>(13,)</td>\n",
       "      <td>(13,)</td>\n",
       "    </tr>\n",
       "    <tr>\n",
       "      <th>3</th>\n",
       "      <td>int8</td>\n",
       "      <td>int8</td>\n",
       "      <td>int8</td>\n",
       "    </tr>\n",
       "  </tbody>\n",
       "</table>\n",
       "</div>"
      ],
      "text/plain": [
       "                train              valid               test\n",
       "0  (113, 160, 160, 3)  (13, 160, 160, 3)  (13, 160, 160, 3)\n",
       "1             float32            float32            float32\n",
       "2              (113,)              (13,)              (13,)\n",
       "3                int8               int8               int8"
      ]
     },
     "execution_count": 9,
     "metadata": {},
     "output_type": "execute_result"
    }
   ],
   "source": [
    "img_size=160\n",
    "fpath='../input/horse-breeds/'\n",
    "names=['Akhal-Teke','Appaloosa','Orlov Trotter',\n",
    "       'Vladimir Heavy Draft','Percheron']\n",
    "flist=sorted(os.listdir(fpath))\n",
    "labels=np.array([int(el[:2]) for el in flist],\n",
    "                dtype='int8')-1\n",
    "images=np.array(paths_to_tensor(flist,fpath,img_size),\n",
    "                dtype='float32')/255\n",
    "N=labels.shape[0]; n=int(.1*N)\n",
    "shuffle_ids=np.arange(N)\n",
    "np.random.RandomState(12).shuffle(shuffle_ids)\n",
    "images,labels=images[shuffle_ids],labels[shuffle_ids]\n",
    "x_test,x_valid,x_train=images[:n],images[n:2*n],images[2*n:]\n",
    "y_test,y_valid,y_train=labels[:n],labels[n:2*n],labels[2*n:]\n",
    "pd.DataFrame([[x_train.shape,x_valid.shape,x_test.shape],\n",
    "              [x_train.dtype,x_valid.dtype,x_test.dtype],\n",
    "              [y_train.shape,y_valid.shape,y_test.shape],\n",
    "              [y_train.dtype,y_valid.dtype,y_test.dtype]],               \n",
    "             columns=['train','valid','test'])"
   ]
  },
  {
   "cell_type": "code",
   "execution_count": 10,
   "metadata": {},
   "outputs": [
    {
     "name": "stdout",
     "output_type": "stream",
     "text": [
      "[5, 139]\n"
     ]
    },
    {
     "data": {
      "text/html": [
       "<div>\n",
       "<style scoped>\n",
       "    .dataframe tbody tr th:only-of-type {\n",
       "        vertical-align: middle;\n",
       "    }\n",
       "\n",
       "    .dataframe tbody tr th {\n",
       "        vertical-align: top;\n",
       "    }\n",
       "\n",
       "    .dataframe thead th {\n",
       "        text-align: right;\n",
       "    }\n",
       "</style>\n",
       "<table border=\"1\" class=\"dataframe\">\n",
       "  <thead>\n",
       "    <tr style=\"text-align: right;\">\n",
       "      <th></th>\n",
       "      <th>label</th>\n",
       "      <th>breed</th>\n",
       "      <th>path</th>\n",
       "    </tr>\n",
       "    <tr>\n",
       "      <th>file</th>\n",
       "      <th></th>\n",
       "      <th></th>\n",
       "      <th></th>\n",
       "    </tr>\n",
       "  </thead>\n",
       "  <tbody>\n",
       "    <tr>\n",
       "      <th>03_016.png</th>\n",
       "      <td>2</td>\n",
       "      <td>Orlov Trotter</td>\n",
       "      <td>horse-breeds/03_016.png</td>\n",
       "    </tr>\n",
       "    <tr>\n",
       "      <th>03_008.png</th>\n",
       "      <td>2</td>\n",
       "      <td>Orlov Trotter</td>\n",
       "      <td>horse-breeds/03_008.png</td>\n",
       "    </tr>\n",
       "    <tr>\n",
       "      <th>04_027.png</th>\n",
       "      <td>3</td>\n",
       "      <td>Vladimir Heavy Draft</td>\n",
       "      <td>horse-breeds/04_027.png</td>\n",
       "    </tr>\n",
       "    <tr>\n",
       "      <th>02_001.png</th>\n",
       "      <td>1</td>\n",
       "      <td>Appaloosa</td>\n",
       "      <td>horse-breeds/02_001.png</td>\n",
       "    </tr>\n",
       "    <tr>\n",
       "      <th>05_024.png</th>\n",
       "      <td>4</td>\n",
       "      <td>Percheron</td>\n",
       "      <td>horse-breeds/05_024.png</td>\n",
       "    </tr>\n",
       "  </tbody>\n",
       "</table>\n",
       "</div>"
      ],
      "text/plain": [
       "            label                 breed                     path\n",
       "file                                                            \n",
       "03_016.png      2         Orlov Trotter  horse-breeds/03_016.png\n",
       "03_008.png      2         Orlov Trotter  horse-breeds/03_008.png\n",
       "04_027.png      3  Vladimir Heavy Draft  horse-breeds/04_027.png\n",
       "02_001.png      1             Appaloosa  horse-breeds/02_001.png\n",
       "05_024.png      4             Percheron  horse-breeds/05_024.png"
      ]
     },
     "execution_count": 10,
     "metadata": {},
     "output_type": "execute_result"
    }
   ],
   "source": [
    "train_csv='train.csv'\n",
    "valid_csv='valid_csv'; test_csv='test.csv'\n",
    "img_path='../input'; img_size2=64\n",
    "files=[os.path.relpath(os.path.join(dirpath,fn),img_path) \\\n",
    "for (dirpath,dirnames,filenames) in os.walk(img_path) \\\n",
    "for fn in filenames if fn.endswith('.png')]\n",
    "d={'label':[],'breed':[],'file':[],'path':[]}\n",
    "for f in files:\n",
    "    _,fn=f.split('/')\n",
    "    label=int(fn[:2])-1\n",
    "    breed=names[label]        \n",
    "    d['label'].append(label)\n",
    "    d['breed'].append(breed)\n",
    "    d['file'].append(fn)\n",
    "    d['path'].append(f)\n",
    "df=pd.DataFrame.from_dict(d)\n",
    "np.random.seed(123)\n",
    "ids=np.random.rand(len(df))<.8\n",
    "df_train=df[ids]; df_test=df[~ids]\n",
    "df_train.set_index('file',inplace=True)\n",
    "df_train.to_csv(train_csv)\n",
    "df_test.set_index('file',inplace=True)\n",
    "df_test[:df_test.shape[0]//2].to_csv(test_csv)\n",
    "df_test[df_test.shape[0]//2:].to_csv(valid_csv)\n",
    "num_classes=np.unique(df['label'].values).shape[0]\n",
    "print([num_classes,len(files)]); df_test.head()"
   ]
  },
  {
   "cell_type": "code",
   "execution_count": 11,
   "metadata": {},
   "outputs": [],
   "source": [
    "batch_size=8; num_workers=4; grayscale=False\n",
    "trans=transforms\\\n",
    ".Compose([transforms.Resize((img_size2,img_size2)),\n",
    "          transforms.ToTensor()])\n",
    "train=HorseBreedsData(csv_path=train_csv,\n",
    "                      img_dir=img_path,\n",
    "                      transform=trans)\n",
    "test=HorseBreedsData(csv_path=test_csv,\n",
    "                     img_dir=img_path,\n",
    "                     transform=trans)\n",
    "valid=HorseBreedsData(csv_path=valid_csv,\n",
    "                     img_dir=img_path,\n",
    "                     transform=trans)\n",
    "dataloaders={'train':tdl(dataset=train,batch_size=batch_size,\n",
    "                         shuffle=True,num_workers=num_workers),\n",
    "             'test':tdl(dataset=test,batch_size=batch_size,\n",
    "                        shuffle=True,num_workers=num_workers),\n",
    "             'valid':tdl(dataset=valid,batch_size=batch_size,\n",
    "                         shuffle=True,num_workers=num_workers)}"
   ]
  },
  {
   "cell_type": "code",
   "execution_count": 12,
   "metadata": {},
   "outputs": [
    {
     "name": "stdout",
     "output_type": "stream",
     "text": [
      "Image dimensions: torch.Size([8, 3, 64, 64])\n",
      "Label dimensions: torch.Size([8])\n"
     ]
    },
    {
     "data": {
      "image/png": "[encoded data removed]",
      "text/plain": [
       "<Figure size 720x288 with 5 Axes>"
      ]
     },
     "metadata": {},
     "output_type": "display_data"
    }
   ],
   "source": [
    "%display_examples valid"
   ]
  },
  {
   "cell_type": "code",
   "execution_count": 13,
   "metadata": {
    "_kg_hide-input": true
   },
   "outputs": [
    {
     "data": {
      "text/html": [
       "<style>\n",
       "    @import 'https://fonts.googleapis.com/css?family=Smokum&effect=3d';      \n",
       "    </style><h1 class='font-effect-3d' \n",
       "    style='font-family:Smokum; color:#ff55ee; font-size:35px;'>\n",
       "    Classifiers</h1>"
      ],
      "text/plain": [
       "<IPython.core.display.HTML object>"
      ]
     },
     "metadata": {},
     "output_type": "display_data"
    }
   ],
   "source": [
    "dhtml('Classifiers')"
   ]
  },
  {
   "cell_type": "code",
   "execution_count": 14,
   "metadata": {},
   "outputs": [],
   "source": [
    "fw='weights.best.hdf5'\n",
    "def premodel(pix,den,mh,lbl,activ,loss):\n",
    "    model=tf.keras.Sequential([\n",
    "        tf.keras.layers.Input((pix,pix,3),\n",
    "                              name='input'),\n",
    "        th.KerasLayer(mh,trainable=True),\n",
    "        tf.keras.layers.Flatten(),\n",
    "        tf.keras.layers.Dense(den,activation='relu'),\n",
    "        tf.keras.layers.Dropout(rate=.5),\n",
    "        tf.keras.layers.Dense(lbl,activation=activ)])\n",
    "    model.compile(optimizer='adam',\n",
    "                  metrics=['accuracy'],loss=loss)\n",
    "    display(model.summary())\n",
    "    return model\n",
    "def cb(fw):\n",
    "    early_stopping=tf.keras.callbacks\\\n",
    "    .EarlyStopping(monitor='val_loss',patience=20,verbose=2)\n",
    "    checkpointer=tf.keras.callbacks\\\n",
    "    .ModelCheckpoint(filepath=fw,save_best_only=True,verbose=2)\n",
    "    lr_reduction=tf.keras.callbacks\\\n",
    "    .ReduceLROnPlateau(monitor='val_loss',verbose=2,\n",
    "                       patience=5,factor=.8)\n",
    "    return [checkpointer,early_stopping,lr_reduction]"
   ]
  },
  {
   "cell_type": "code",
   "execution_count": 15,
   "metadata": {},
   "outputs": [],
   "source": [
    "handle_base=\"mobilenet_v2_100_160\"\n",
    "mhandle=\"https://tfhub.dev/google/imagenet/{}/classification/4\"\\\n",
    ".format(handle_base)"
   ]
  },
  {
   "cell_type": "code",
   "execution_count": 16,
   "metadata": {
    "_kg_hide-output": true
   },
   "outputs": [
    {
     "name": "stdout",
     "output_type": "stream",
     "text": [
      "Model: \"sequential\"\n",
      "_________________________________________________________________\n",
      "Layer (type)                 Output Shape              Param #   \n",
      "=================================================================\n",
      "keras_layer (KerasLayer)     (None, 1001)              3540265   \n",
      "_________________________________________________________________\n",
      "flatten (Flatten)            (None, 1001)              0         \n",
      "_________________________________________________________________\n",
      "dense (Dense)                (None, 2048)              2052096   \n",
      "_________________________________________________________________\n",
      "dropout (Dropout)            (None, 2048)              0         \n",
      "_________________________________________________________________\n",
      "dense_1 (Dense)              (None, 5)                 10245     \n",
      "=================================================================\n",
      "Total params: 5,602,606\n",
      "Trainable params: 5,568,494\n",
      "Non-trainable params: 34,112\n",
      "_________________________________________________________________\n"
     ]
    },
    {
     "data": {
      "text/plain": [
       "None"
      ]
     },
     "metadata": {},
     "output_type": "display_data"
    },
    {
     "name": "stdout",
     "output_type": "stream",
     "text": [
      "Epoch 1/25\n",
      "15/15 [==============================] - ETA: 0s - loss: 2.5618 - accuracy: 0.4248\n",
      "Epoch 00001: val_loss improved from inf to 7.47467, saving model to weights.best.hdf5\n",
      "15/15 [==============================] - 7s 463ms/step - loss: 2.5618 - accuracy: 0.4248 - val_loss: 7.4747 - val_accuracy: 0.3846 - lr: 0.0010\n",
      "Epoch 2/25\n",
      "15/15 [==============================] - ETA: 0s - loss: 1.9626 - accuracy: 0.6637\n",
      "Epoch 00002: val_loss improved from 7.47467 to 2.47763, saving model to weights.best.hdf5\n",
      "15/15 [==============================] - 6s 420ms/step - loss: 1.9626 - accuracy: 0.6637 - val_loss: 2.4776 - val_accuracy: 0.4615 - lr: 0.0010\n",
      "Epoch 3/25\n",
      "15/15 [==============================] - ETA: 0s - loss: 1.9301 - accuracy: 0.7168\n",
      "Epoch 00003: val_loss did not improve from 2.47763\n",
      "15/15 [==============================] - 6s 388ms/step - loss: 1.9301 - accuracy: 0.7168 - val_loss: 9.0035 - val_accuracy: 0.3846 - lr: 0.0010\n",
      "Epoch 4/25\n",
      "15/15 [==============================] - ETA: 0s - loss: 2.1768 - accuracy: 0.6903\n",
      "Epoch 00004: val_loss did not improve from 2.47763\n",
      "15/15 [==============================] - 6s 387ms/step - loss: 2.1768 - accuracy: 0.6903 - val_loss: 32.6459 - val_accuracy: 0.5385 - lr: 0.0010\n",
      "Epoch 5/25\n",
      "15/15 [==============================] - ETA: 0s - loss: 2.2152 - accuracy: 0.6814\n",
      "Epoch 00005: val_loss did not improve from 2.47763\n",
      "15/15 [==============================] - 6s 393ms/step - loss: 2.2152 - accuracy: 0.6814 - val_loss: 11.9172 - val_accuracy: 0.6154 - lr: 0.0010\n",
      "Epoch 6/25\n",
      "15/15 [==============================] - ETA: 0s - loss: 1.4187 - accuracy: 0.7788\n",
      "Epoch 00006: val_loss did not improve from 2.47763\n",
      "15/15 [==============================] - 6s 385ms/step - loss: 1.4187 - accuracy: 0.7788 - val_loss: 2.6552 - val_accuracy: 0.6154 - lr: 0.0010\n",
      "Epoch 7/25\n",
      "15/15 [==============================] - ETA: 0s - loss: 2.2110 - accuracy: 0.7434\n",
      "Epoch 00007: val_loss did not improve from 2.47763\n",
      "\n",
      "Epoch 00007: ReduceLROnPlateau reducing learning rate to 0.000800000037997961.\n",
      "15/15 [==============================] - 6s 396ms/step - loss: 2.2110 - accuracy: 0.7434 - val_loss: 5.8523 - val_accuracy: 0.3077 - lr: 0.0010\n",
      "Epoch 8/25\n",
      "15/15 [==============================] - ETA: 0s - loss: 1.7320 - accuracy: 0.6991\n",
      "Epoch 00008: val_loss did not improve from 2.47763\n",
      "15/15 [==============================] - 6s 396ms/step - loss: 1.7320 - accuracy: 0.6991 - val_loss: 11.5910 - val_accuracy: 0.2308 - lr: 8.0000e-04\n",
      "Epoch 9/25\n",
      "15/15 [==============================] - ETA: 0s - loss: 1.1277 - accuracy: 0.8230\n",
      "Epoch 00009: val_loss did not improve from 2.47763\n",
      "15/15 [==============================] - 6s 393ms/step - loss: 1.1277 - accuracy: 0.8230 - val_loss: 7.8118 - val_accuracy: 0.4615 - lr: 8.0000e-04\n",
      "Epoch 10/25\n",
      "15/15 [==============================] - ETA: 0s - loss: 0.9209 - accuracy: 0.8319\n",
      "Epoch 00010: val_loss improved from 2.47763 to 2.23090, saving model to weights.best.hdf5\n",
      "15/15 [==============================] - 6s 422ms/step - loss: 0.9209 - accuracy: 0.8319 - val_loss: 2.2309 - val_accuracy: 0.7692 - lr: 8.0000e-04\n",
      "Epoch 11/25\n",
      "15/15 [==============================] - ETA: 0s - loss: 1.5373 - accuracy: 0.7965\n",
      "Epoch 00011: val_loss did not improve from 2.23090\n",
      "15/15 [==============================] - 6s 387ms/step - loss: 1.5373 - accuracy: 0.7965 - val_loss: 7.9290 - val_accuracy: 0.4615 - lr: 8.0000e-04\n",
      "Epoch 12/25\n",
      "15/15 [==============================] - ETA: 0s - loss: 1.1912 - accuracy: 0.8230\n",
      "Epoch 00012: val_loss did not improve from 2.23090\n",
      "15/15 [==============================] - 6s 387ms/step - loss: 1.1912 - accuracy: 0.8230 - val_loss: 9.5973 - val_accuracy: 0.3077 - lr: 8.0000e-04\n",
      "Epoch 13/25\n",
      "15/15 [==============================] - ETA: 0s - loss: 0.8621 - accuracy: 0.7699\n",
      "Epoch 00013: val_loss did not improve from 2.23090\n",
      "15/15 [==============================] - 6s 384ms/step - loss: 0.8621 - accuracy: 0.7699 - val_loss: 4.4547 - val_accuracy: 0.6923 - lr: 8.0000e-04\n",
      "Epoch 14/25\n",
      "15/15 [==============================] - ETA: 0s - loss: 1.2109 - accuracy: 0.7876\n",
      "Epoch 00014: val_loss did not improve from 2.23090\n",
      "15/15 [==============================] - 6s 394ms/step - loss: 1.2109 - accuracy: 0.7876 - val_loss: 6.7369 - val_accuracy: 0.5385 - lr: 8.0000e-04\n",
      "Epoch 15/25\n",
      "15/15 [==============================] - ETA: 0s - loss: 0.8121 - accuracy: 0.8407\n",
      "Epoch 00015: val_loss did not improve from 2.23090\n",
      "\n",
      "Epoch 00015: ReduceLROnPlateau reducing learning rate to 0.0006400000303983689.\n",
      "15/15 [==============================] - 6s 391ms/step - loss: 0.8121 - accuracy: 0.8407 - val_loss: 5.6317 - val_accuracy: 0.6154 - lr: 8.0000e-04\n",
      "Epoch 16/25\n",
      "15/15 [==============================] - ETA: 0s - loss: 2.3607 - accuracy: 0.7876\n",
      "Epoch 00016: val_loss did not improve from 2.23090\n",
      "15/15 [==============================] - 6s 383ms/step - loss: 2.3607 - accuracy: 0.7876 - val_loss: 7.6035 - val_accuracy: 0.6154 - lr: 6.4000e-04\n",
      "Epoch 17/25\n",
      "15/15 [==============================] - ETA: 0s - loss: 1.3201 - accuracy: 0.7965\n",
      "Epoch 00017: val_loss did not improve from 2.23090\n",
      "15/15 [==============================] - 6s 404ms/step - loss: 1.3201 - accuracy: 0.7965 - val_loss: 3.6178 - val_accuracy: 0.6923 - lr: 6.4000e-04\n",
      "Epoch 18/25\n",
      "15/15 [==============================] - ETA: 0s - loss: 0.8384 - accuracy: 0.8407\n",
      "Epoch 00018: val_loss did not improve from 2.23090\n",
      "15/15 [==============================] - 6s 400ms/step - loss: 0.8384 - accuracy: 0.8407 - val_loss: 2.9532 - val_accuracy: 0.6923 - lr: 6.4000e-04\n",
      "Epoch 19/25\n",
      "15/15 [==============================] - ETA: 0s - loss: 1.3042 - accuracy: 0.8142\n",
      "Epoch 00019: val_loss did not improve from 2.23090\n",
      "15/15 [==============================] - 6s 386ms/step - loss: 1.3042 - accuracy: 0.8142 - val_loss: 6.5539 - val_accuracy: 0.5385 - lr: 6.4000e-04\n",
      "Epoch 20/25\n",
      "15/15 [==============================] - ETA: 0s - loss: 0.6155 - accuracy: 0.8584\n",
      "Epoch 00020: val_loss did not improve from 2.23090\n",
      "\n",
      "Epoch 00020: ReduceLROnPlateau reducing learning rate to 0.0005120000336319208.\n",
      "15/15 [==============================] - 6s 389ms/step - loss: 0.6155 - accuracy: 0.8584 - val_loss: 3.1160 - val_accuracy: 0.4615 - lr: 6.4000e-04\n",
      "Epoch 21/25\n",
      "15/15 [==============================] - ETA: 0s - loss: 0.6211 - accuracy: 0.8407\n",
      "Epoch 00021: val_loss did not improve from 2.23090\n",
      "15/15 [==============================] - 6s 385ms/step - loss: 0.6211 - accuracy: 0.8407 - val_loss: 4.8734 - val_accuracy: 0.6154 - lr: 5.1200e-04\n",
      "Epoch 22/25\n",
      "15/15 [==============================] - ETA: 0s - loss: 0.4529 - accuracy: 0.9292\n",
      "Epoch 00022: val_loss improved from 2.23090 to 1.53076, saving model to weights.best.hdf5\n",
      "15/15 [==============================] - 6s 415ms/step - loss: 0.4529 - accuracy: 0.9292 - val_loss: 1.5308 - val_accuracy: 0.6154 - lr: 5.1200e-04\n",
      "Epoch 23/25\n",
      "15/15 [==============================] - ETA: 0s - loss: 0.4125 - accuracy: 0.9469\n",
      "Epoch 00023: val_loss did not improve from 1.53076\n",
      "15/15 [==============================] - 6s 408ms/step - loss: 0.4125 - accuracy: 0.9469 - val_loss: 2.2266 - val_accuracy: 0.6154 - lr: 5.1200e-04\n",
      "Epoch 24/25\n",
      "15/15 [==============================] - ETA: 0s - loss: 0.3428 - accuracy: 0.9204\n",
      "Epoch 00024: val_loss did not improve from 1.53076\n",
      "15/15 [==============================] - 6s 391ms/step - loss: 0.3428 - accuracy: 0.9204 - val_loss: 2.0046 - val_accuracy: 0.6923 - lr: 5.1200e-04\n",
      "Epoch 25/25\n",
      "15/15 [==============================] - ETA: 0s - loss: 0.3743 - accuracy: 0.9204\n",
      "Epoch 00025: val_loss did not improve from 1.53076\n",
      "15/15 [==============================] - 6s 388ms/step - loss: 0.3743 - accuracy: 0.9204 - val_loss: 4.2903 - val_accuracy: 0.5385 - lr: 5.1200e-04\n"
     ]
    }
   ],
   "source": [
    "kmodel=premodel(img_size,2048,mhandle,5,\n",
    "                'softmax','sparse_categorical_crossentropy')\n",
    "history=kmodel.fit(x=x_train,y=y_train,batch_size=8,\n",
    "                   epochs=25,callbacks=cb(fw),\n",
    "                   validation_data=(x_valid,y_valid))"
   ]
  },
  {
   "cell_type": "code",
   "execution_count": 17,
   "metadata": {},
   "outputs": [
    {
     "name": "stdout",
     "output_type": "stream",
     "text": [
      "1/1 [==============================] - 0s 1ms/step - loss: 4.3083 - accuracy: 0.5385\n"
     ]
    },
    {
     "data": {
      "text/plain": [
       "[4.308346271514893, 0.5384615659713745]"
      ]
     },
     "execution_count": 17,
     "metadata": {},
     "output_type": "execute_result"
    }
   ],
   "source": [
    "kmodel.load_weights(fw)\n",
    "kmodel.evaluate(x_test,y_test)"
   ]
  },
  {
   "cell_type": "code",
   "execution_count": 18,
   "metadata": {
    "_kg_hide-input": false,
    "_kg_hide-output": true,
    "collapsed": true
   },
   "outputs": [
    {
     "name": "stderr",
     "output_type": "stream",
     "text": [
      "Downloading: \"https://download.pytorch.org/models/vgg16-397923af.pth\" to /root/.cache/torch/checkpoints/vgg16-397923af.pth\n"
     ]
    },
    {
     "data": {
      "application/vnd.jupyter.widget-view+json": {
       "model_id": "b58282b1aada47dcb49f6a24174908ec",
       "version_major": 2,
       "version_minor": 0
      },
      "text/plain": [
       "HBox(children=(FloatProgress(value=0.0, max=553433881.0), HTML(value='')))"
      ]
     },
     "metadata": {},
     "output_type": "display_data"
    },
    {
     "name": "stdout",
     "output_type": "stream",
     "text": [
      "\n"
     ]
    },
    {
     "data": {
      "text/plain": [
       "VGG(\n",
       "  (features): Sequential(\n",
       "    (0): Conv2d(3, 64, kernel_size=(3, 3), stride=(1, 1), padding=(1, 1))\n",
       "    (1): ReLU(inplace=True)\n",
       "    (2): Conv2d(64, 64, kernel_size=(3, 3), stride=(1, 1), padding=(1, 1))\n",
       "    (3): ReLU(inplace=True)\n",
       "    (4): MaxPool2d(kernel_size=2, stride=2, padding=0, dilation=1, ceil_mode=False)\n",
       "    (5): Conv2d(64, 128, kernel_size=(3, 3), stride=(1, 1), padding=(1, 1))\n",
       "    (6): ReLU(inplace=True)\n",
       "    (7): Conv2d(128, 128, kernel_size=(3, 3), stride=(1, 1), padding=(1, 1))\n",
       "    (8): ReLU(inplace=True)\n",
       "    (9): MaxPool2d(kernel_size=2, stride=2, padding=0, dilation=1, ceil_mode=False)\n",
       "    (10): Conv2d(128, 256, kernel_size=(3, 3), stride=(1, 1), padding=(1, 1))\n",
       "    (11): ReLU(inplace=True)\n",
       "    (12): Conv2d(256, 256, kernel_size=(3, 3), stride=(1, 1), padding=(1, 1))\n",
       "    (13): ReLU(inplace=True)\n",
       "    (14): Conv2d(256, 256, kernel_size=(3, 3), stride=(1, 1), padding=(1, 1))\n",
       "    (15): ReLU(inplace=True)\n",
       "    (16): MaxPool2d(kernel_size=2, stride=2, padding=0, dilation=1, ceil_mode=False)\n",
       "    (17): Conv2d(256, 512, kernel_size=(3, 3), stride=(1, 1), padding=(1, 1))\n",
       "    (18): ReLU(inplace=True)\n",
       "    (19): Conv2d(512, 512, kernel_size=(3, 3), stride=(1, 1), padding=(1, 1))\n",
       "    (20): ReLU(inplace=True)\n",
       "    (21): Conv2d(512, 512, kernel_size=(3, 3), stride=(1, 1), padding=(1, 1))\n",
       "    (22): ReLU(inplace=True)\n",
       "    (23): MaxPool2d(kernel_size=2, stride=2, padding=0, dilation=1, ceil_mode=False)\n",
       "    (24): Conv2d(512, 512, kernel_size=(3, 3), stride=(1, 1), padding=(1, 1))\n",
       "    (25): ReLU(inplace=True)\n",
       "    (26): Conv2d(512, 512, kernel_size=(3, 3), stride=(1, 1), padding=(1, 1))\n",
       "    (27): ReLU(inplace=True)\n",
       "    (28): Conv2d(512, 512, kernel_size=(3, 3), stride=(1, 1), padding=(1, 1))\n",
       "    (29): ReLU(inplace=True)\n",
       "    (30): MaxPool2d(kernel_size=2, stride=2, padding=0, dilation=1, ceil_mode=False)\n",
       "  )\n",
       "  (avgpool): AdaptiveAvgPool2d(output_size=(7, 7))\n",
       "  (classifier): Sequential(\n",
       "    (0): Linear(in_features=25088, out_features=4096, bias=True)\n",
       "    (1): ReLU(inplace=True)\n",
       "    (2): Dropout(p=0.5, inplace=False)\n",
       "    (3): Linear(in_features=4096, out_features=4096, bias=True)\n",
       "    (4): ReLU(inplace=True)\n",
       "    (5): Dropout(p=0.5, inplace=False)\n",
       "    (6): Linear(in_features=4096, out_features=1000, bias=True)\n",
       "  )\n",
       ")"
      ]
     },
     "execution_count": 18,
     "metadata": {},
     "output_type": "execute_result"
    }
   ],
   "source": [
    "tmodel=models.vgg16(pretrained=True)\n",
    "for param in tmodel.parameters():\n",
    "    param.requires_grad=False\n",
    "tmodel.classifier[3].requires_grad=True\n",
    "tmodel"
   ]
  },
  {
   "cell_type": "code",
   "execution_count": 19,
   "metadata": {},
   "outputs": [],
   "source": [
    "@register_line_magic\n",
    "def train_run(epochs):\n",
    "    epochs=int(epochs)\n",
    "    for epoch in range(epochs):\n",
    "        tmodel.train()\n",
    "        for batch_ids,(features,targets) \\\n",
    "        in enumerate(dataloaders['train']):        \n",
    "            features=features.to(dev)\n",
    "            targets=targets.to(dev).long()\n",
    "            logits=tmodel(features)\n",
    "            cost=tnnf.cross_entropy(logits,targets)\n",
    "            optimizer.zero_grad(); cost.backward()\n",
    "            optimizer.step()\n",
    "            if not batch_ids%100:\n",
    "                print ('Epoch: %03d/%03d | Batch: %03d/%03d | Cost: %.4f' \n",
    "                       %(epoch+1,epochs,batch_ids,\n",
    "                         len(dataloaders['train']),cost))\n",
    "        tmodel.eval()\n",
    "        with torch.set_grad_enabled(False):\n",
    "            print('Epoch: %03d/%03d'%(epoch+1,epochs))\n",
    "            print('train acc/loss: %.2f%%/%.2f valid acc/loss: %.2f%%/%.2f'%\\\n",
    "                  (model_acc(tmodel,dataloaders['train']),\n",
    "                   epoch_loss(tmodel,dataloaders['train']),\n",
    "                   model_acc(tmodel,dataloaders['valid']),\n",
    "                   epoch_loss(tmodel,dataloaders['valid'])))"
   ]
  },
  {
   "cell_type": "code",
   "execution_count": 20,
   "metadata": {},
   "outputs": [],
   "source": [
    "num_classes=5\n",
    "tmodel.classifier[6]=tnn.Sequential(\n",
    "    tnn.Linear(4096,512),tnn.ReLU(),\n",
    "    tnn.Dropout(.5),tnn.Linear(512,num_classes))\n",
    "tmodel=tmodel.to(dev)\n",
    "optimizer=torch.optim.Adam(tmodel.parameters())"
   ]
  },
  {
   "cell_type": "code",
   "execution_count": 21,
   "metadata": {
    "_kg_hide-output": true
   },
   "outputs": [
    {
     "name": "stdout",
     "output_type": "stream",
     "text": [
      "Epoch: 001/015 | Batch: 000/015 | Cost: 1.5907\n",
      "Epoch: 001/015\n",
      "train acc/loss: 59.48%/1.14 valid acc/loss: 25.00%/1.90\n",
      "Epoch: 002/015 | Batch: 000/015 | Cost: 1.8031\n",
      "Epoch: 002/015\n",
      "train acc/loss: 75.86%/0.66 valid acc/loss: 33.33%/1.53\n",
      "Epoch: 003/015 | Batch: 000/015 | Cost: 1.1847\n",
      "Epoch: 003/015\n",
      "train acc/loss: 86.21%/0.45 valid acc/loss: 41.67%/1.58\n",
      "Epoch: 004/015 | Batch: 000/015 | Cost: 0.6170\n",
      "Epoch: 004/015\n",
      "train acc/loss: 89.66%/0.34 valid acc/loss: 50.00%/1.43\n",
      "Epoch: 005/015 | Batch: 000/015 | Cost: 0.1506\n",
      "Epoch: 005/015\n",
      "train acc/loss: 92.24%/0.33 valid acc/loss: 66.67%/1.53\n",
      "Epoch: 006/015 | Batch: 000/015 | Cost: 0.7298\n",
      "Epoch: 006/015\n",
      "train acc/loss: 95.69%/0.19 valid acc/loss: 41.67%/1.23\n",
      "Epoch: 007/015 | Batch: 000/015 | Cost: 1.0727\n",
      "Epoch: 007/015\n",
      "train acc/loss: 93.10%/0.23 valid acc/loss: 41.67%/1.64\n",
      "Epoch: 008/015 | Batch: 000/015 | Cost: 0.8757\n",
      "Epoch: 008/015\n",
      "train acc/loss: 93.97%/0.17 valid acc/loss: 41.67%/1.58\n",
      "Epoch: 009/015 | Batch: 000/015 | Cost: 1.4022\n",
      "Epoch: 009/015\n",
      "train acc/loss: 97.41%/0.12 valid acc/loss: 58.33%/1.62\n",
      "Epoch: 010/015 | Batch: 000/015 | Cost: 0.3953\n",
      "Epoch: 010/015\n",
      "train acc/loss: 94.83%/0.17 valid acc/loss: 50.00%/1.72\n",
      "Epoch: 011/015 | Batch: 000/015 | Cost: 0.4249\n",
      "Epoch: 011/015\n",
      "train acc/loss: 96.55%/0.12 valid acc/loss: 33.33%/2.06\n",
      "Epoch: 012/015 | Batch: 000/015 | Cost: 0.2096\n",
      "Epoch: 012/015\n",
      "train acc/loss: 98.28%/0.09 valid acc/loss: 33.33%/1.93\n",
      "Epoch: 013/015 | Batch: 000/015 | Cost: 0.0854\n",
      "Epoch: 013/015\n",
      "train acc/loss: 99.14%/0.06 valid acc/loss: 50.00%/1.78\n",
      "Epoch: 014/015 | Batch: 000/015 | Cost: 0.2206\n",
      "Epoch: 014/015\n",
      "train acc/loss: 100.00%/0.06 valid acc/loss: 33.33%/1.67\n",
      "Epoch: 015/015 | Batch: 000/015 | Cost: 0.0676\n",
      "Epoch: 015/015\n",
      "train acc/loss: 100.00%/0.05 valid acc/loss: 41.67%/1.72\n"
     ]
    }
   ],
   "source": [
    "%train_run 15"
   ]
  },
  {
   "cell_type": "code",
   "execution_count": 22,
   "metadata": {},
   "outputs": [
    {
     "name": "stdout",
     "output_type": "stream",
     "text": [
      "train acc: 100.00% || test acc: 72.73%\n"
     ]
    }
   ],
   "source": [
    "tmodel.eval()\n",
    "with torch.set_grad_enabled(False):\n",
    "    print('train acc: %.2f%% || test acc: %.2f%%'%\\\n",
    "          (model_acc(tmodel,dataloaders['train']),\n",
    "           model_acc(tmodel,dataloaders['test'])))"
   ]
  }
 ],
 "metadata": {
  "kernelspec": {
   "display_name": "Python 3",
   "language": "python",
   "name": "python3"
  },
  "language_info": {
   "codemirror_mode": {
    "name": "ipython",
    "version": 3
   },
   "file_extension": ".py",
   "mimetype": "text/x-python",
   "name": "python",
   "nbconvert_exporter": "python",
   "pygments_lexer": "ipython3",
   "version": "3.7.6"
  },
  "widgets": {
   "application/vnd.jupyter.widget-state+json": {
    "state": {
     "1654618b06ca416e967486358b2f262f": {
      "model_module": "@jupyter-widgets/controls",
      "model_module_version": "1.5.0",
      "model_name": "ProgressStyleModel",
      "state": {
       "_model_module": "@jupyter-widgets/controls",
       "_model_module_version": "1.5.0",
       "_model_name": "ProgressStyleModel",
       "_view_count": null,
       "_view_module": "@jupyter-widgets/base",
       "_view_module_version": "1.2.0",
       "_view_name": "StyleView",
       "bar_color": null,
       "description_width": "initial"
      }
     },
     "45af473f0a074776a9a869995e95148b": {
      "model_module": "@jupyter-widgets/controls",
      "model_module_version": "1.5.0",
      "model_name": "HTMLModel",
      "state": {
       "_dom_classes": [],
       "_model_module": "@jupyter-widgets/controls",
       "_model_module_version": "1.5.0",
       "_model_name": "HTMLModel",
       "_view_count": null,
       "_view_module": "@jupyter-widgets/controls",
       "_view_module_version": "1.5.0",
       "_view_name": "HTMLView",
       "description": "",
       "description_tooltip": null,
       "layout": "IPY_MODEL_79b00c521b6e4ed38bd8ed7df5741747",
       "placeholder": "​",
       "style": "IPY_MODEL_ca4a2f5606994ffc9c2e791b78d5636b",
       "value": " 528M/528M [00:03&lt;00:00, 165MB/s]"
      }
     },
     "507d38a259194493bd4a6662ce401286": {
      "model_module": "@jupyter-widgets/base",
      "model_module_version": "1.2.0",
      "model_name": "LayoutModel",
      "state": {
       "_model_module": "@jupyter-widgets/base",
       "_model_module_version": "1.2.0",
       "_model_name": "LayoutModel",
       "_view_count": null,
       "_view_module": "@jupyter-widgets/base",
       "_view_module_version": "1.2.0",
       "_view_name": "LayoutView",
       "align_content": null,
       "align_items": null,
       "align_self": null,
       "border": null,
       "bottom": null,
       "display": null,
       "flex": null,
       "flex_flow": null,
       "grid_area": null,
       "grid_auto_columns": null,
       "grid_auto_flow": null,
       "grid_auto_rows": null,
       "grid_column": null,
       "grid_gap": null,
       "grid_row": null,
       "grid_template_areas": null,
       "grid_template_columns": null,
       "grid_template_rows": null,
       "height": null,
       "justify_content": null,
       "justify_items": null,
       "left": null,
       "margin": null,
       "max_height": null,
       "max_width": null,
       "min_height": null,
       "min_width": null,
       "object_fit": null,
       "object_position": null,
       "order": null,
       "overflow": null,
       "overflow_x": null,
       "overflow_y": null,
       "padding": null,
       "right": null,
       "top": null,
       "visibility": null,
       "width": null
      }
     },
     "75d37fbba404413f83230869f534d03c": {
      "model_module": "@jupyter-widgets/controls",
      "model_module_version": "1.5.0",
      "model_name": "FloatProgressModel",
      "state": {
       "_dom_classes": [],
       "_model_module": "@jupyter-widgets/controls",
       "_model_module_version": "1.5.0",
       "_model_name": "FloatProgressModel",
       "_view_count": null,
       "_view_module": "@jupyter-widgets/controls",
       "_view_module_version": "1.5.0",
       "_view_name": "ProgressView",
       "bar_style": "success",
       "description": "100%",
       "description_tooltip": null,
       "layout": "IPY_MODEL_f93ae3bc27554dafb20a97d16601bdfd",
       "max": 553433881.0,
       "min": 0.0,
       "orientation": "horizontal",
       "style": "IPY_MODEL_1654618b06ca416e967486358b2f262f",
       "value": 553433881.0
      }
     },
     "79b00c521b6e4ed38bd8ed7df5741747": {
      "model_module": "@jupyter-widgets/base",
      "model_module_version": "1.2.0",
      "model_name": "LayoutModel",
      "state": {
       "_model_module": "@jupyter-widgets/base",
       "_model_module_version": "1.2.0",
       "_model_name": "LayoutModel",
       "_view_count": null,
       "_view_module": "@jupyter-widgets/base",
       "_view_module_version": "1.2.0",
       "_view_name": "LayoutView",
       "align_content": null,
       "align_items": null,
       "align_self": null,
       "border": null,
       "bottom": null,
       "display": null,
       "flex": null,
       "flex_flow": null,
       "grid_area": null,
       "grid_auto_columns": null,
       "grid_auto_flow": null,
       "grid_auto_rows": null,
       "grid_column": null,
       "grid_gap": null,
       "grid_row": null,
       "grid_template_areas": null,
       "grid_template_columns": null,
       "grid_template_rows": null,
       "height": null,
       "justify_content": null,
       "justify_items": null,
       "left": null,
       "margin": null,
       "max_height": null,
       "max_width": null,
       "min_height": null,
       "min_width": null,
       "object_fit": null,
       "object_position": null,
       "order": null,
       "overflow": null,
       "overflow_x": null,
       "overflow_y": null,
       "padding": null,
       "right": null,
       "top": null,
       "visibility": null,
       "width": null
      }
     },
     "b58282b1aada47dcb49f6a24174908ec": {
      "model_module": "@jupyter-widgets/controls",
      "model_module_version": "1.5.0",
      "model_name": "HBoxModel",
      "state": {
       "_dom_classes": [],
       "_model_module": "@jupyter-widgets/controls",
       "_model_module_version": "1.5.0",
       "_model_name": "HBoxModel",
       "_view_count": null,
       "_view_module": "@jupyter-widgets/controls",
       "_view_module_version": "1.5.0",
       "_view_name": "HBoxView",
       "box_style": "",
       "children": [
        "IPY_MODEL_75d37fbba404413f83230869f534d03c",
        "IPY_MODEL_45af473f0a074776a9a869995e95148b"
       ],
       "layout": "IPY_MODEL_507d38a259194493bd4a6662ce401286"
      }
     },
     "ca4a2f5606994ffc9c2e791b78d5636b": {
      "model_module": "@jupyter-widgets/controls",
      "model_module_version": "1.5.0",
      "model_name": "DescriptionStyleModel",
      "state": {
       "_model_module": "@jupyter-widgets/controls",
       "_model_module_version": "1.5.0",
       "_model_name": "DescriptionStyleModel",
       "_view_count": null,
       "_view_module": "@jupyter-widgets/base",
       "_view_module_version": "1.2.0",
       "_view_name": "StyleView",
       "description_width": ""
      }
     },
     "f93ae3bc27554dafb20a97d16601bdfd": {
      "model_module": "@jupyter-widgets/base",
      "model_module_version": "1.2.0",
      "model_name": "LayoutModel",
      "state": {
       "_model_module": "@jupyter-widgets/base",
       "_model_module_version": "1.2.0",
       "_model_name": "LayoutModel",
       "_view_count": null,
       "_view_module": "@jupyter-widgets/base",
       "_view_module_version": "1.2.0",
       "_view_name": "LayoutView",
       "align_content": null,
       "align_items": null,
       "align_self": null,
       "border": null,
       "bottom": null,
       "display": null,
       "flex": null,
       "flex_flow": null,
       "grid_area": null,
       "grid_auto_columns": null,
       "grid_auto_flow": null,
       "grid_auto_rows": null,
       "grid_column": null,
       "grid_gap": null,
       "grid_row": null,
       "grid_template_areas": null,
       "grid_template_columns": null,
       "grid_template_rows": null,
       "height": null,
       "justify_content": null,
       "justify_items": null,
       "left": null,
       "margin": null,
       "max_height": null,
       "max_width": null,
       "min_height": null,
       "min_width": null,
       "object_fit": null,
       "object_position": null,
       "order": null,
       "overflow": null,
       "overflow_x": null,
       "overflow_y": null,
       "padding": null,
       "right": null,
       "top": null,
       "visibility": null,
       "width": null
      }
     }
    },
    "version_major": 2,
    "version_minor": 0
   }
  }
 },
 "nbformat": 4,
 "nbformat_minor": 4
}
