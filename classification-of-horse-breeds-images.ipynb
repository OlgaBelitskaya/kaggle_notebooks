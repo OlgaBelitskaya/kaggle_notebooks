{
 "cells": [
  {
   "cell_type": "code",
   "execution_count": 1,
   "metadata": {
    "_kg_hide-input": true
   },
   "outputs": [],
   "source": [
    "from IPython.display import display,HTML\n",
    "def dhtml(str):\n",
    "    display(HTML(\"\"\"<style>\n",
    "    @import 'https://fonts.googleapis.com/css?family=Smokum&effect=3d';      \n",
    "    </style><h1 class='font-effect-3d' \n",
    "    style='font-family:Smokum; color:#ff55ee; font-size:35px;'>\n",
    "    %s</h1>\"\"\"%str))"
   ]
  },
  {
   "cell_type": "code",
   "execution_count": 2,
   "metadata": {
    "_kg_hide-input": true
   },
   "outputs": [
    {
     "data": {
      "text/html": [
       "<style>\n",
       "    @import 'https://fonts.googleapis.com/css?family=Smokum&effect=3d';      \n",
       "    </style><h1 class='font-effect-3d' \n",
       "    style='font-family:Smokum; color:#ff55ee; font-size:35px;'>\n",
       "    Code Modules, Functions, & Classes</h1>"
      ],
      "text/plain": [
       "<IPython.core.display.HTML object>"
      ]
     },
     "metadata": {},
     "output_type": "display_data"
    }
   ],
   "source": [
    "dhtml('Code Modules, Functions, & Classes')"
   ]
  },
  {
   "cell_type": "code",
   "execution_count": 3,
   "metadata": {
    "_cell_guid": "b1076dfc-b9ad-4769-8c92-a6c4dae69d19",
    "_uuid": "8f2839f25d086af736a60e9eeb907d3b93b6e0e5"
   },
   "outputs": [],
   "source": [
    "import warnings; warnings.filterwarnings('ignore')\n",
    "import pandas as pd,numpy as np\n",
    "import tensorflow_hub as th,tensorflow as tf\n",
    "import h5py,imageio,os,torch,pylab as pl\n",
    "from keras.preprocessing import image as kimage\n",
    "from tqdm import tqdm\n",
    "from PIL import ImageFile,Image\n",
    "ImageFile.LOAD_TRUNCATED_IMAGES=True\n",
    "from torch.utils.data import DataLoader as tdl\n",
    "from torch.utils.data import Dataset as tds\n",
    "from torchvision import transforms,utils,models\n",
    "import torch.nn.functional as tnnf\n",
    "import torch.nn as tnn\n",
    "dev=torch.device(\"cuda:0\" \\\n",
    "if torch.cuda.is_available() else \"cpu\")\n",
    "from IPython.core.magic import register_line_magic"
   ]
  },
  {
   "cell_type": "code",
   "execution_count": 4,
   "metadata": {
    "_cell_guid": "79c7e3d0-c299-4dcb-8224-4455121ee9b0",
    "_kg_hide-input": true,
    "_uuid": "d629ff2d2480ee46fbb7e2d37f6b5fab8052498a"
   },
   "outputs": [],
   "source": [
    "def path_to_tensor(img_path,fpath,img_size):\n",
    "    img=kimage.load_img(fpath+img_path, \n",
    "                        target_size=(img_size,img_size))\n",
    "    x=kimage.img_to_array(img)\n",
    "    return np.expand_dims(x,axis=0)\n",
    "def paths_to_tensor(img_paths,fpath,img_size):\n",
    "    tensor_list=[path_to_tensor(img_path,fpath,img_size) \n",
    "                 for img_path in tqdm(img_paths)]\n",
    "    return np.vstack(tensor_list)"
   ]
  },
  {
   "cell_type": "code",
   "execution_count": 5,
   "metadata": {
    "_kg_hide-input": true
   },
   "outputs": [],
   "source": [
    "@register_line_magic\n",
    "def display_examples(data):\n",
    "    for images,labels in dataloaders[data]:  \n",
    "        print('Image dimensions: %s'%str(images.shape))\n",
    "        print('Label dimensions: %s'%str(labels.shape))\n",
    "        n=np.random.randint(1,3)\n",
    "        fig=pl.figure(figsize=(10,4))\n",
    "        for i in range(n,n+5):\n",
    "            ax=fig.add_subplot(1,5,i-n+1,\\\n",
    "            xticks=[],yticks=[],title=names[labels[i].item()])\n",
    "            ax.imshow(np.transpose(images[i],(1,2,0)))\n",
    "        break"
   ]
  },
  {
   "cell_type": "code",
   "execution_count": 6,
   "metadata": {
    "_kg_hide-input": true
   },
   "outputs": [],
   "source": [
    "def model_acc(model,data_loader):\n",
    "    correct_preds,num_examples=0,0    \n",
    "    for features,targets in data_loader:\n",
    "        features=features.to(dev)\n",
    "        targets=targets.to(dev).long()\n",
    "        logits=model(features)\n",
    "        _,pred_labels=torch.max(logits,1)\n",
    "        num_examples+=targets.size(0)\n",
    "        correct_preds+=(pred_labels==targets).sum()        \n",
    "    return correct_preds.float()/num_examples*100\n",
    "def epoch_loss(model,data_loader):\n",
    "    model.eval()\n",
    "    curr_loss,num_examples=0.,0\n",
    "    with torch.no_grad():\n",
    "        for features,targets in data_loader:\n",
    "            features=features.to(dev)\n",
    "            targets=targets.to(dev).long()\n",
    "            logits=model(features)\n",
    "            loss=tnnf.cross_entropy(logits,targets,\n",
    "                                    reduction='sum')\n",
    "            num_examples+=targets.size(0)\n",
    "            curr_loss+=loss\n",
    "        return curr_loss/num_examples"
   ]
  },
  {
   "cell_type": "code",
   "execution_count": 7,
   "metadata": {},
   "outputs": [],
   "source": [
    "class HorseBreedsData(tds):\n",
    "    def __init__(self,csv_path,img_dir,transform=None):\n",
    "        df=pd.read_csv(csv_path,index_col=0)\n",
    "        self.img_dir=img_dir\n",
    "        self.csv_path=csv_path\n",
    "        self.img_paths=df['path']\n",
    "        self.y=df['label'].values\n",
    "        self.transform=transform\n",
    "    def __getitem__(self,index):\n",
    "        img=Image.open(os.path\\\n",
    "        .join(self.img_dir,self.img_paths[index]))\n",
    "        img=img.convert('RGB')\n",
    "        if self.transform is not None:\n",
    "            img=self.transform(img)\n",
    "        lbl=self.y[index]\n",
    "        return img,lbl\n",
    "    def __len__(self):\n",
    "        return self.y.shape[0]"
   ]
  },
  {
   "cell_type": "code",
   "execution_count": 8,
   "metadata": {
    "_kg_hide-input": true
   },
   "outputs": [
    {
     "data": {
      "text/html": [
       "<style>\n",
       "    @import 'https://fonts.googleapis.com/css?family=Smokum&effect=3d';      \n",
       "    </style><h1 class='font-effect-3d' \n",
       "    style='font-family:Smokum; color:#ff55ee; font-size:35px;'>\n",
       "    Data Loaders</h1>"
      ],
      "text/plain": [
       "<IPython.core.display.HTML object>"
      ]
     },
     "metadata": {},
     "output_type": "display_data"
    }
   ],
   "source": [
    "dhtml('Data Loaders')"
   ]
  },
  {
   "cell_type": "code",
   "execution_count": 9,
   "metadata": {},
   "outputs": [
    {
     "name": "stderr",
     "output_type": "stream",
     "text": [
      "100%|██████████| 273/273 [00:02<00:00, 116.88it/s]\n"
     ]
    },
    {
     "data": {
      "text/html": [
       "<div>\n",
       "<style scoped>\n",
       "    .dataframe tbody tr th:only-of-type {\n",
       "        vertical-align: middle;\n",
       "    }\n",
       "\n",
       "    .dataframe tbody tr th {\n",
       "        vertical-align: top;\n",
       "    }\n",
       "\n",
       "    .dataframe thead th {\n",
       "        text-align: right;\n",
       "    }\n",
       "</style>\n",
       "<table border=\"1\" class=\"dataframe\">\n",
       "  <thead>\n",
       "    <tr style=\"text-align: right;\">\n",
       "      <th></th>\n",
       "      <th>train</th>\n",
       "      <th>valid</th>\n",
       "      <th>test</th>\n",
       "    </tr>\n",
       "  </thead>\n",
       "  <tbody>\n",
       "    <tr>\n",
       "      <th>0</th>\n",
       "      <td>(219, 160, 160, 3)</td>\n",
       "      <td>(27, 160, 160, 3)</td>\n",
       "      <td>(27, 160, 160, 3)</td>\n",
       "    </tr>\n",
       "    <tr>\n",
       "      <th>1</th>\n",
       "      <td>float32</td>\n",
       "      <td>float32</td>\n",
       "      <td>float32</td>\n",
       "    </tr>\n",
       "    <tr>\n",
       "      <th>2</th>\n",
       "      <td>(219,)</td>\n",
       "      <td>(27,)</td>\n",
       "      <td>(27,)</td>\n",
       "    </tr>\n",
       "    <tr>\n",
       "      <th>3</th>\n",
       "      <td>int8</td>\n",
       "      <td>int8</td>\n",
       "      <td>int8</td>\n",
       "    </tr>\n",
       "  </tbody>\n",
       "</table>\n",
       "</div>"
      ],
      "text/plain": [
       "                train              valid               test\n",
       "0  (219, 160, 160, 3)  (27, 160, 160, 3)  (27, 160, 160, 3)\n",
       "1             float32            float32            float32\n",
       "2              (219,)              (27,)              (27,)\n",
       "3                int8               int8               int8"
      ]
     },
     "execution_count": 9,
     "metadata": {},
     "output_type": "execute_result"
    }
   ],
   "source": [
    "img_size=160\n",
    "fpath='../input/horse-breeds/'\n",
    "names=['Akhal-Teke','Appaloosa','Orlov Trotter',\n",
    "       'Vladimir Heavy Draft','Percheron']\n",
    "flist=sorted(os.listdir(fpath))\n",
    "labels=np.array([int(el[:2]) for el in flist],\n",
    "                dtype='int8')-1\n",
    "images=np.array(paths_to_tensor(flist,fpath,img_size),\n",
    "                dtype='float32')/255\n",
    "N=labels.shape[0]; n=int(.1*N)\n",
    "shuffle_ids=np.arange(N)\n",
    "np.random.RandomState(12).shuffle(shuffle_ids)\n",
    "images,labels=images[shuffle_ids],labels[shuffle_ids]\n",
    "x_test,x_valid,x_train=images[:n],images[n:2*n],images[2*n:]\n",
    "y_test,y_valid,y_train=labels[:n],labels[n:2*n],labels[2*n:]\n",
    "pd.DataFrame([[x_train.shape,x_valid.shape,x_test.shape],\n",
    "              [x_train.dtype,x_valid.dtype,x_test.dtype],\n",
    "              [y_train.shape,y_valid.shape,y_test.shape],\n",
    "              [y_train.dtype,y_valid.dtype,y_test.dtype]],               \n",
    "             columns=['train','valid','test'])"
   ]
  },
  {
   "cell_type": "code",
   "execution_count": 10,
   "metadata": {},
   "outputs": [
    {
     "name": "stdout",
     "output_type": "stream",
     "text": [
      "[5, 273]\n"
     ]
    },
    {
     "data": {
      "text/html": [
       "<div>\n",
       "<style scoped>\n",
       "    .dataframe tbody tr th:only-of-type {\n",
       "        vertical-align: middle;\n",
       "    }\n",
       "\n",
       "    .dataframe tbody tr th {\n",
       "        vertical-align: top;\n",
       "    }\n",
       "\n",
       "    .dataframe thead th {\n",
       "        text-align: right;\n",
       "    }\n",
       "</style>\n",
       "<table border=\"1\" class=\"dataframe\">\n",
       "  <thead>\n",
       "    <tr style=\"text-align: right;\">\n",
       "      <th></th>\n",
       "      <th>label</th>\n",
       "      <th>breed</th>\n",
       "      <th>path</th>\n",
       "    </tr>\n",
       "    <tr>\n",
       "      <th>file</th>\n",
       "      <th></th>\n",
       "      <th></th>\n",
       "      <th></th>\n",
       "    </tr>\n",
       "  </thead>\n",
       "  <tbody>\n",
       "    <tr>\n",
       "      <th>02_017.png</th>\n",
       "      <td>1</td>\n",
       "      <td>Appaloosa</td>\n",
       "      <td>horse-breeds/02_017.png</td>\n",
       "    </tr>\n",
       "    <tr>\n",
       "      <th>01_046.png</th>\n",
       "      <td>0</td>\n",
       "      <td>Akhal-Teke</td>\n",
       "      <td>horse-breeds/01_046.png</td>\n",
       "    </tr>\n",
       "    <tr>\n",
       "      <th>03_004.png</th>\n",
       "      <td>2</td>\n",
       "      <td>Orlov Trotter</td>\n",
       "      <td>horse-breeds/03_004.png</td>\n",
       "    </tr>\n",
       "    <tr>\n",
       "      <th>04_004.png</th>\n",
       "      <td>3</td>\n",
       "      <td>Vladimir Heavy Draft</td>\n",
       "      <td>horse-breeds/04_004.png</td>\n",
       "    </tr>\n",
       "    <tr>\n",
       "      <th>02_004.png</th>\n",
       "      <td>1</td>\n",
       "      <td>Appaloosa</td>\n",
       "      <td>horse-breeds/02_004.png</td>\n",
       "    </tr>\n",
       "  </tbody>\n",
       "</table>\n",
       "</div>"
      ],
      "text/plain": [
       "            label                 breed                     path\n",
       "file                                                            \n",
       "02_017.png      1             Appaloosa  horse-breeds/02_017.png\n",
       "01_046.png      0            Akhal-Teke  horse-breeds/01_046.png\n",
       "03_004.png      2         Orlov Trotter  horse-breeds/03_004.png\n",
       "04_004.png      3  Vladimir Heavy Draft  horse-breeds/04_004.png\n",
       "02_004.png      1             Appaloosa  horse-breeds/02_004.png"
      ]
     },
     "execution_count": 10,
     "metadata": {},
     "output_type": "execute_result"
    }
   ],
   "source": [
    "train_csv='train.csv'\n",
    "valid_csv='valid_csv'; test_csv='test.csv'\n",
    "img_path='../input'; img_size2=64\n",
    "files=[os.path.relpath(os.path.join(dirpath,fn),img_path) \\\n",
    "for (dirpath,dirnames,filenames) in os.walk(img_path) \\\n",
    "for fn in filenames if fn.endswith('.png')]\n",
    "d={'label':[],'breed':[],'file':[],'path':[]}\n",
    "for f in files:\n",
    "    _,fn=f.split('/')\n",
    "    label=int(fn[:2])-1\n",
    "    breed=names[label]        \n",
    "    d['label'].append(label)\n",
    "    d['breed'].append(breed)\n",
    "    d['file'].append(fn)\n",
    "    d['path'].append(f)\n",
    "df=pd.DataFrame.from_dict(d)\n",
    "np.random.seed(123)\n",
    "ids=np.random.rand(len(df))<.8\n",
    "df_train=df[ids]; df_test=df[~ids]\n",
    "df_train.set_index('file',inplace=True)\n",
    "df_train.to_csv(train_csv)\n",
    "df_test.set_index('file',inplace=True)\n",
    "df_test[:df_test.shape[0]//2].to_csv(test_csv)\n",
    "df_test[df_test.shape[0]//2:].to_csv(valid_csv)\n",
    "num_classes=np.unique(df['label'].values).shape[0]\n",
    "print([num_classes,len(files)]); df_test.head()"
   ]
  },
  {
   "cell_type": "code",
   "execution_count": 11,
   "metadata": {},
   "outputs": [],
   "source": [
    "batch_size=8; num_workers=4; grayscale=False\n",
    "trans=transforms\\\n",
    ".Compose([transforms.Resize((img_size2,img_size2)),\n",
    "          transforms.ToTensor()])\n",
    "train=HorseBreedsData(csv_path=train_csv,\n",
    "                      img_dir=img_path,\n",
    "                      transform=trans)\n",
    "test=HorseBreedsData(csv_path=test_csv,\n",
    "                     img_dir=img_path,\n",
    "                     transform=trans)\n",
    "valid=HorseBreedsData(csv_path=valid_csv,\n",
    "                     img_dir=img_path,\n",
    "                     transform=trans)\n",
    "dataloaders={'train':tdl(dataset=train,batch_size=batch_size,\n",
    "                         shuffle=True,num_workers=num_workers),\n",
    "             'test':tdl(dataset=test,batch_size=batch_size,\n",
    "                        shuffle=True,num_workers=num_workers),\n",
    "             'valid':tdl(dataset=valid,batch_size=batch_size,\n",
    "                         shuffle=True,num_workers=num_workers)}"
   ]
  },
  {
   "cell_type": "code",
   "execution_count": 12,
   "metadata": {},
   "outputs": [
    {
     "name": "stdout",
     "output_type": "stream",
     "text": [
      "Image dimensions: torch.Size([8, 3, 64, 64])\n",
      "Label dimensions: torch.Size([8])\n"
     ]
    },
    {
     "data": {
      "image/png": "[encoded data removed]",
      "text/plain": [
       "<Figure size 720x288 with 5 Axes>"
      ]
     },
     "metadata": {},
     "output_type": "display_data"
    }
   ],
   "source": [
    "%display_examples valid"
   ]
  },
  {
   "cell_type": "code",
   "execution_count": 13,
   "metadata": {
    "_kg_hide-input": true
   },
   "outputs": [
    {
     "data": {
      "text/html": [
       "<style>\n",
       "    @import 'https://fonts.googleapis.com/css?family=Smokum&effect=3d';      \n",
       "    </style><h1 class='font-effect-3d' \n",
       "    style='font-family:Smokum; color:#ff55ee; font-size:35px;'>\n",
       "    Classifiers</h1>"
      ],
      "text/plain": [
       "<IPython.core.display.HTML object>"
      ]
     },
     "metadata": {},
     "output_type": "display_data"
    }
   ],
   "source": [
    "dhtml('Classifiers')"
   ]
  },
  {
   "cell_type": "code",
   "execution_count": 14,
   "metadata": {},
   "outputs": [],
   "source": [
    "fw='weights.best.hdf5'\n",
    "def premodel(pix,den,mh,lbl,activ,loss):\n",
    "    model=tf.keras.Sequential([\n",
    "        tf.keras.layers.Input((pix,pix,3),\n",
    "                              name='input'),\n",
    "        th.KerasLayer(mh,trainable=True),\n",
    "        tf.keras.layers.Flatten(),\n",
    "        tf.keras.layers.Dense(den,activation='relu'),\n",
    "        tf.keras.layers.Dropout(rate=.5),\n",
    "        tf.keras.layers.Dense(lbl,activation=activ)])\n",
    "    model.compile(optimizer='adam',\n",
    "                  metrics=['accuracy'],loss=loss)\n",
    "    display(model.summary())\n",
    "    return model\n",
    "def cb(fw):\n",
    "    early_stopping=tf.keras.callbacks\\\n",
    "    .EarlyStopping(monitor='val_loss',patience=20,verbose=2)\n",
    "    checkpointer=tf.keras.callbacks\\\n",
    "    .ModelCheckpoint(filepath=fw,save_best_only=True,verbose=2)\n",
    "    lr_reduction=tf.keras.callbacks\\\n",
    "    .ReduceLROnPlateau(monitor='val_loss',verbose=2,\n",
    "                       patience=5,factor=.8)\n",
    "    return [checkpointer,early_stopping,lr_reduction]"
   ]
  },
  {
   "cell_type": "code",
   "execution_count": 15,
   "metadata": {},
   "outputs": [],
   "source": [
    "handle_base=\"mobilenet_v2_100_160\"\n",
    "mhandle=\"https://tfhub.dev/google/imagenet/{}/classification/4\"\\\n",
    ".format(handle_base)"
   ]
  },
  {
   "cell_type": "code",
   "execution_count": 16,
   "metadata": {
    "_kg_hide-output": true
   },
   "outputs": [
    {
     "name": "stdout",
     "output_type": "stream",
     "text": [
      "Model: \"sequential\"\n",
      "_________________________________________________________________\n",
      "Layer (type)                 Output Shape              Param #   \n",
      "=================================================================\n",
      "keras_layer (KerasLayer)     (None, 1001)              3540265   \n",
      "_________________________________________________________________\n",
      "flatten (Flatten)            (None, 1001)              0         \n",
      "_________________________________________________________________\n",
      "dense (Dense)                (None, 2048)              2052096   \n",
      "_________________________________________________________________\n",
      "dropout (Dropout)            (None, 2048)              0         \n",
      "_________________________________________________________________\n",
      "dense_1 (Dense)              (None, 5)                 10245     \n",
      "=================================================================\n",
      "Total params: 5,602,606\n",
      "Trainable params: 5,568,494\n",
      "Non-trainable params: 34,112\n",
      "_________________________________________________________________\n"
     ]
    },
    {
     "data": {
      "text/plain": [
       "None"
      ]
     },
     "metadata": {},
     "output_type": "display_data"
    },
    {
     "name": "stdout",
     "output_type": "stream",
     "text": [
      "Epoch 1/30\n",
      "28/28 [==============================] - ETA: 0s - loss: 2.6462 - accuracy: 0.4932\n",
      "Epoch 00001: val_loss improved from inf to 6.00100, saving model to weights.best.hdf5\n",
      "28/28 [==============================] - 15s 543ms/step - loss: 2.6462 - accuracy: 0.4932 - val_loss: 6.0010 - val_accuracy: 0.5926 - lr: 0.0010\n",
      "Epoch 2/30\n",
      "28/28 [==============================] - ETA: 0s - loss: 2.2908 - accuracy: 0.6301\n",
      "Epoch 00002: val_loss did not improve from 6.00100\n",
      "28/28 [==============================] - 14s 492ms/step - loss: 2.2908 - accuracy: 0.6301 - val_loss: 22.3927 - val_accuracy: 0.4815 - lr: 0.0010\n",
      "Epoch 3/30\n",
      "28/28 [==============================] - ETA: 0s - loss: 2.3496 - accuracy: 0.5616\n",
      "Epoch 00003: val_loss improved from 6.00100 to 4.31543, saving model to weights.best.hdf5\n",
      "28/28 [==============================] - 15s 523ms/step - loss: 2.3496 - accuracy: 0.5616 - val_loss: 4.3154 - val_accuracy: 0.5556 - lr: 0.0010\n",
      "Epoch 4/30\n",
      "28/28 [==============================] - ETA: 0s - loss: 1.3382 - accuracy: 0.7260\n",
      "Epoch 00004: val_loss did not improve from 4.31543\n",
      "28/28 [==============================] - 14s 489ms/step - loss: 1.3382 - accuracy: 0.7260 - val_loss: 6.2330 - val_accuracy: 0.4074 - lr: 0.0010\n",
      "Epoch 5/30\n",
      "28/28 [==============================] - ETA: 0s - loss: 1.3520 - accuracy: 0.6941\n",
      "Epoch 00005: val_loss improved from 4.31543 to 3.85924, saving model to weights.best.hdf5\n",
      "28/28 [==============================] - 14s 502ms/step - loss: 1.3520 - accuracy: 0.6941 - val_loss: 3.8592 - val_accuracy: 0.7037 - lr: 0.0010\n",
      "Epoch 6/30\n",
      "28/28 [==============================] - ETA: 0s - loss: 2.0897 - accuracy: 0.6621\n",
      "Epoch 00006: val_loss did not improve from 3.85924\n",
      "28/28 [==============================] - 14s 488ms/step - loss: 2.0897 - accuracy: 0.6621 - val_loss: 7.0345 - val_accuracy: 0.3704 - lr: 0.0010\n",
      "Epoch 7/30\n",
      "28/28 [==============================] - ETA: 0s - loss: 1.8767 - accuracy: 0.6758\n",
      "Epoch 00007: val_loss did not improve from 3.85924\n",
      "28/28 [==============================] - 14s 501ms/step - loss: 1.8767 - accuracy: 0.6758 - val_loss: 15.9548 - val_accuracy: 0.1852 - lr: 0.0010\n",
      "Epoch 8/30\n",
      "28/28 [==============================] - ETA: 0s - loss: 1.6672 - accuracy: 0.6164\n",
      "Epoch 00008: val_loss did not improve from 3.85924\n",
      "28/28 [==============================] - 14s 495ms/step - loss: 1.6672 - accuracy: 0.6164 - val_loss: 8.6607 - val_accuracy: 0.2963 - lr: 0.0010\n",
      "Epoch 9/30\n",
      "28/28 [==============================] - ETA: 0s - loss: 0.9838 - accuracy: 0.7397\n",
      "Epoch 00009: val_loss did not improve from 3.85924\n",
      "28/28 [==============================] - 14s 495ms/step - loss: 0.9838 - accuracy: 0.7397 - val_loss: 3.8970 - val_accuracy: 0.5556 - lr: 0.0010\n",
      "Epoch 10/30\n",
      "28/28 [==============================] - ETA: 0s - loss: 0.9247 - accuracy: 0.8219\n",
      "Epoch 00010: val_loss improved from 3.85924 to 2.82899, saving model to weights.best.hdf5\n",
      "28/28 [==============================] - 14s 503ms/step - loss: 0.9247 - accuracy: 0.8219 - val_loss: 2.8290 - val_accuracy: 0.4815 - lr: 0.0010\n",
      "Epoch 11/30\n",
      "28/28 [==============================] - ETA: 0s - loss: 0.8195 - accuracy: 0.8082\n",
      "Epoch 00011: val_loss improved from 2.82899 to 2.11695, saving model to weights.best.hdf5\n",
      "28/28 [==============================] - 14s 511ms/step - loss: 0.8195 - accuracy: 0.8082 - val_loss: 2.1169 - val_accuracy: 0.6296 - lr: 0.0010\n",
      "Epoch 12/30\n",
      "28/28 [==============================] - ETA: 0s - loss: 0.5964 - accuracy: 0.8402\n",
      "Epoch 00012: val_loss improved from 2.11695 to 1.42543, saving model to weights.best.hdf5\n",
      "28/28 [==============================] - 14s 501ms/step - loss: 0.5964 - accuracy: 0.8402 - val_loss: 1.4254 - val_accuracy: 0.7037 - lr: 0.0010\n",
      "Epoch 13/30\n",
      "28/28 [==============================] - ETA: 0s - loss: 0.4226 - accuracy: 0.9406\n",
      "Epoch 00013: val_loss did not improve from 1.42543\n",
      "28/28 [==============================] - 14s 488ms/step - loss: 0.4226 - accuracy: 0.9406 - val_loss: 2.4306 - val_accuracy: 0.6296 - lr: 0.0010\n",
      "Epoch 14/30\n",
      "28/28 [==============================] - ETA: 0s - loss: 0.6277 - accuracy: 0.8493\n",
      "Epoch 00014: val_loss did not improve from 1.42543\n",
      "28/28 [==============================] - 13s 478ms/step - loss: 0.6277 - accuracy: 0.8493 - val_loss: 1.5457 - val_accuracy: 0.6667 - lr: 0.0010\n",
      "Epoch 15/30\n",
      "28/28 [==============================] - ETA: 0s - loss: 0.7910 - accuracy: 0.8447\n",
      "Epoch 00015: val_loss did not improve from 1.42543\n",
      "28/28 [==============================] - 14s 484ms/step - loss: 0.7910 - accuracy: 0.8447 - val_loss: 3.0118 - val_accuracy: 0.6667 - lr: 0.0010\n",
      "Epoch 16/30\n",
      "28/28 [==============================] - ETA: 0s - loss: 0.9631 - accuracy: 0.7900\n",
      "Epoch 00016: val_loss improved from 1.42543 to 1.32842, saving model to weights.best.hdf5\n",
      "28/28 [==============================] - 14s 513ms/step - loss: 0.9631 - accuracy: 0.7900 - val_loss: 1.3284 - val_accuracy: 0.7037 - lr: 0.0010\n",
      "Epoch 17/30\n",
      "28/28 [==============================] - ETA: 0s - loss: 0.9844 - accuracy: 0.7763\n",
      "Epoch 00017: val_loss did not improve from 1.32842\n",
      "28/28 [==============================] - 14s 518ms/step - loss: 0.9844 - accuracy: 0.7763 - val_loss: 5.1076 - val_accuracy: 0.2222 - lr: 0.0010\n",
      "Epoch 18/30\n",
      "28/28 [==============================] - ETA: 0s - loss: 1.1360 - accuracy: 0.7443\n",
      "Epoch 00018: val_loss did not improve from 1.32842\n",
      "28/28 [==============================] - 13s 481ms/step - loss: 1.1360 - accuracy: 0.7443 - val_loss: 2.9478 - val_accuracy: 0.2593 - lr: 0.0010\n",
      "Epoch 19/30\n",
      "28/28 [==============================] - ETA: 0s - loss: 1.0639 - accuracy: 0.7900\n",
      "Epoch 00019: val_loss did not improve from 1.32842\n",
      "28/28 [==============================] - 13s 480ms/step - loss: 1.0639 - accuracy: 0.7900 - val_loss: 3.4289 - val_accuracy: 0.3704 - lr: 0.0010\n",
      "Epoch 20/30\n",
      "28/28 [==============================] - ETA: 0s - loss: 1.4411 - accuracy: 0.7123\n",
      "Epoch 00020: val_loss did not improve from 1.32842\n",
      "28/28 [==============================] - 14s 500ms/step - loss: 1.4411 - accuracy: 0.7123 - val_loss: 2.7272 - val_accuracy: 0.5926 - lr: 0.0010\n",
      "Epoch 21/30\n",
      "28/28 [==============================] - ETA: 0s - loss: 1.1693 - accuracy: 0.7626\n",
      "Epoch 00021: val_loss did not improve from 1.32842\n",
      "\n",
      "Epoch 00021: ReduceLROnPlateau reducing learning rate to 0.000800000037997961.\n",
      "28/28 [==============================] - 13s 481ms/step - loss: 1.1693 - accuracy: 0.7626 - val_loss: 1.7837 - val_accuracy: 0.6667 - lr: 0.0010\n",
      "Epoch 22/30\n",
      "28/28 [==============================] - ETA: 0s - loss: 1.0624 - accuracy: 0.7763\n",
      "Epoch 00022: val_loss did not improve from 1.32842\n",
      "28/28 [==============================] - 14s 482ms/step - loss: 1.0624 - accuracy: 0.7763 - val_loss: 2.1152 - val_accuracy: 0.5926 - lr: 8.0000e-04\n",
      "Epoch 23/30\n",
      "28/28 [==============================] - ETA: 0s - loss: 1.5725 - accuracy: 0.7123\n",
      "Epoch 00023: val_loss did not improve from 1.32842\n",
      "28/28 [==============================] - 13s 479ms/step - loss: 1.5725 - accuracy: 0.7123 - val_loss: 2.5661 - val_accuracy: 0.1852 - lr: 8.0000e-04\n",
      "Epoch 24/30\n",
      "28/28 [==============================] - ETA: 0s - loss: 0.7458 - accuracy: 0.8128\n",
      "Epoch 00024: val_loss did not improve from 1.32842\n",
      "28/28 [==============================] - 14s 490ms/step - loss: 0.7458 - accuracy: 0.8128 - val_loss: 2.7015 - val_accuracy: 0.4444 - lr: 8.0000e-04\n",
      "Epoch 25/30\n",
      "28/28 [==============================] - ETA: 0s - loss: 0.5384 - accuracy: 0.8813\n",
      "Epoch 00025: val_loss did not improve from 1.32842\n",
      "28/28 [==============================] - 14s 484ms/step - loss: 0.5384 - accuracy: 0.8813 - val_loss: 1.5292 - val_accuracy: 0.5185 - lr: 8.0000e-04\n",
      "Epoch 26/30\n",
      "28/28 [==============================] - ETA: 0s - loss: 0.6752 - accuracy: 0.8539\n",
      "Epoch 00026: val_loss improved from 1.32842 to 1.14554, saving model to weights.best.hdf5\n",
      "28/28 [==============================] - 14s 500ms/step - loss: 0.6752 - accuracy: 0.8539 - val_loss: 1.1455 - val_accuracy: 0.6667 - lr: 8.0000e-04\n",
      "Epoch 27/30\n",
      "28/28 [==============================] - ETA: 0s - loss: 0.5073 - accuracy: 0.9041\n",
      "Epoch 00027: val_loss did not improve from 1.14554\n",
      "28/28 [==============================] - 13s 479ms/step - loss: 0.5073 - accuracy: 0.9041 - val_loss: 1.2464 - val_accuracy: 0.6667 - lr: 8.0000e-04\n",
      "Epoch 28/30\n",
      "28/28 [==============================] - ETA: 0s - loss: 0.5428 - accuracy: 0.8904\n",
      "Epoch 00028: val_loss did not improve from 1.14554\n",
      "28/28 [==============================] - 14s 493ms/step - loss: 0.5428 - accuracy: 0.8904 - val_loss: 1.3085 - val_accuracy: 0.6296 - lr: 8.0000e-04\n",
      "Epoch 29/30\n",
      "28/28 [==============================] - ETA: 0s - loss: 0.3787 - accuracy: 0.9224\n",
      "Epoch 00029: val_loss did not improve from 1.14554\n",
      "28/28 [==============================] - 14s 487ms/step - loss: 0.3787 - accuracy: 0.9224 - val_loss: 1.2466 - val_accuracy: 0.6296 - lr: 8.0000e-04\n",
      "Epoch 30/30\n",
      "28/28 [==============================] - ETA: 0s - loss: 0.3168 - accuracy: 0.9635\n",
      "Epoch 00030: val_loss did not improve from 1.14554\n",
      "28/28 [==============================] - 14s 492ms/step - loss: 0.3168 - accuracy: 0.9635 - val_loss: 1.6041 - val_accuracy: 0.6296 - lr: 8.0000e-04\n"
     ]
    }
   ],
   "source": [
    "kmodel=premodel(img_size,2048,mhandle,5,\n",
    "                'softmax','sparse_categorical_crossentropy')\n",
    "history=kmodel.fit(x=x_train,y=y_train,batch_size=8,\n",
    "                   epochs=30,callbacks=cb(fw),\n",
    "                   validation_data=(x_valid,y_valid))"
   ]
  },
  {
   "cell_type": "code",
   "execution_count": 17,
   "metadata": {},
   "outputs": [
    {
     "name": "stdout",
     "output_type": "stream",
     "text": [
      "1/1 [==============================] - 0s 2ms/step - loss: 1.3756 - accuracy: 0.7778\n"
     ]
    },
    {
     "data": {
      "text/plain": [
       "[1.3755897283554077, 0.7777777910232544]"
      ]
     },
     "execution_count": 17,
     "metadata": {},
     "output_type": "execute_result"
    }
   ],
   "source": [
    "kmodel.load_weights(fw)\n",
    "kmodel.evaluate(x_test,y_test)"
   ]
  },
  {
   "cell_type": "code",
   "execution_count": 18,
   "metadata": {
    "_kg_hide-input": false,
    "_kg_hide-output": true
   },
   "outputs": [
    {
     "name": "stderr",
     "output_type": "stream",
     "text": [
      "Downloading: \"https://download.pytorch.org/models/vgg16-397923af.pth\" to /root/.cache/torch/checkpoints/vgg16-397923af.pth\n"
     ]
    },
    {
     "data": {
      "application/vnd.jupyter.widget-view+json": {
       "model_id": "db7c8f2a65a348a1a13160e95aadf474",
       "version_major": 2,
       "version_minor": 0
      },
      "text/plain": [
       "HBox(children=(FloatProgress(value=0.0, max=553433881.0), HTML(value='')))"
      ]
     },
     "metadata": {},
     "output_type": "display_data"
    },
    {
     "name": "stdout",
     "output_type": "stream",
     "text": [
      "\n"
     ]
    },
    {
     "data": {
      "text/plain": [
       "VGG(\n",
       "  (features): Sequential(\n",
       "    (0): Conv2d(3, 64, kernel_size=(3, 3), stride=(1, 1), padding=(1, 1))\n",
       "    (1): ReLU(inplace=True)\n",
       "    (2): Conv2d(64, 64, kernel_size=(3, 3), stride=(1, 1), padding=(1, 1))\n",
       "    (3): ReLU(inplace=True)\n",
       "    (4): MaxPool2d(kernel_size=2, stride=2, padding=0, dilation=1, ceil_mode=False)\n",
       "    (5): Conv2d(64, 128, kernel_size=(3, 3), stride=(1, 1), padding=(1, 1))\n",
       "    (6): ReLU(inplace=True)\n",
       "    (7): Conv2d(128, 128, kernel_size=(3, 3), stride=(1, 1), padding=(1, 1))\n",
       "    (8): ReLU(inplace=True)\n",
       "    (9): MaxPool2d(kernel_size=2, stride=2, padding=0, dilation=1, ceil_mode=False)\n",
       "    (10): Conv2d(128, 256, kernel_size=(3, 3), stride=(1, 1), padding=(1, 1))\n",
       "    (11): ReLU(inplace=True)\n",
       "    (12): Conv2d(256, 256, kernel_size=(3, 3), stride=(1, 1), padding=(1, 1))\n",
       "    (13): ReLU(inplace=True)\n",
       "    (14): Conv2d(256, 256, kernel_size=(3, 3), stride=(1, 1), padding=(1, 1))\n",
       "    (15): ReLU(inplace=True)\n",
       "    (16): MaxPool2d(kernel_size=2, stride=2, padding=0, dilation=1, ceil_mode=False)\n",
       "    (17): Conv2d(256, 512, kernel_size=(3, 3), stride=(1, 1), padding=(1, 1))\n",
       "    (18): ReLU(inplace=True)\n",
       "    (19): Conv2d(512, 512, kernel_size=(3, 3), stride=(1, 1), padding=(1, 1))\n",
       "    (20): ReLU(inplace=True)\n",
       "    (21): Conv2d(512, 512, kernel_size=(3, 3), stride=(1, 1), padding=(1, 1))\n",
       "    (22): ReLU(inplace=True)\n",
       "    (23): MaxPool2d(kernel_size=2, stride=2, padding=0, dilation=1, ceil_mode=False)\n",
       "    (24): Conv2d(512, 512, kernel_size=(3, 3), stride=(1, 1), padding=(1, 1))\n",
       "    (25): ReLU(inplace=True)\n",
       "    (26): Conv2d(512, 512, kernel_size=(3, 3), stride=(1, 1), padding=(1, 1))\n",
       "    (27): ReLU(inplace=True)\n",
       "    (28): Conv2d(512, 512, kernel_size=(3, 3), stride=(1, 1), padding=(1, 1))\n",
       "    (29): ReLU(inplace=True)\n",
       "    (30): MaxPool2d(kernel_size=2, stride=2, padding=0, dilation=1, ceil_mode=False)\n",
       "  )\n",
       "  (avgpool): AdaptiveAvgPool2d(output_size=(7, 7))\n",
       "  (classifier): Sequential(\n",
       "    (0): Linear(in_features=25088, out_features=4096, bias=True)\n",
       "    (1): ReLU(inplace=True)\n",
       "    (2): Dropout(p=0.5, inplace=False)\n",
       "    (3): Linear(in_features=4096, out_features=4096, bias=True)\n",
       "    (4): ReLU(inplace=True)\n",
       "    (5): Dropout(p=0.5, inplace=False)\n",
       "    (6): Linear(in_features=4096, out_features=1000, bias=True)\n",
       "  )\n",
       ")"
      ]
     },
     "execution_count": 18,
     "metadata": {},
     "output_type": "execute_result"
    }
   ],
   "source": [
    "tmodel=models.vgg16(pretrained=True)\n",
    "for param in tmodel.parameters():\n",
    "    param.requires_grad=False\n",
    "tmodel.classifier[3].requires_grad=True\n",
    "tmodel"
   ]
  },
  {
   "cell_type": "code",
   "execution_count": 19,
   "metadata": {},
   "outputs": [],
   "source": [
    "@register_line_magic\n",
    "def train_run(epochs):\n",
    "    epochs=int(epochs)\n",
    "    for epoch in range(epochs):\n",
    "        tmodel.train()\n",
    "        for batch_ids,(features,targets) \\\n",
    "        in enumerate(dataloaders['train']):        \n",
    "            features=features.to(dev)\n",
    "            targets=targets.to(dev).long()\n",
    "            logits=tmodel(features)\n",
    "            cost=tnnf.cross_entropy(logits,targets)\n",
    "            optimizer.zero_grad(); cost.backward()\n",
    "            optimizer.step()\n",
    "            if not batch_ids%10:\n",
    "                print ('Epoch: %03d/%03d | Batch: %03d/%03d | Cost: %.4f' \n",
    "                       %(epoch+1,epochs,batch_ids,\n",
    "                         len(dataloaders['train']),cost))\n",
    "        tmodel.eval()\n",
    "        with torch.set_grad_enabled(False):\n",
    "            print('Epoch: %03d/%03d'%(epoch+1,epochs))\n",
    "            print('train acc/loss: %.2f%%/%.2f valid acc/loss: %.2f%%/%.2f'%\\\n",
    "                  (model_acc(tmodel,dataloaders['train']),\n",
    "                   epoch_loss(tmodel,dataloaders['train']),\n",
    "                   model_acc(tmodel,dataloaders['valid']),\n",
    "                   epoch_loss(tmodel,dataloaders['valid'])))"
   ]
  },
  {
   "cell_type": "code",
   "execution_count": 20,
   "metadata": {},
   "outputs": [],
   "source": [
    "num_classes=5\n",
    "tmodel.classifier[6]=tnn.Sequential(\n",
    "    tnn.Linear(4096,512),tnn.ReLU(),\n",
    "    tnn.Dropout(.5),tnn.Linear(512,num_classes))\n",
    "tmodel=tmodel.to(dev)\n",
    "optimizer=torch.optim.Adam(tmodel.parameters())"
   ]
  },
  {
   "cell_type": "code",
   "execution_count": 21,
   "metadata": {
    "_kg_hide-output": true
   },
   "outputs": [
    {
     "name": "stdout",
     "output_type": "stream",
     "text": [
      "Epoch: 001/015 | Batch: 000/029 | Cost: 1.6827\n",
      "Epoch: 001/015 | Batch: 010/029 | Cost: 1.0541\n",
      "Epoch: 001/015 | Batch: 020/029 | Cost: 0.6661\n",
      "Epoch: 001/015\n",
      "train acc/loss: 68.58%/0.86 valid acc/loss: 58.33%/1.16\n",
      "Epoch: 002/015 | Batch: 000/029 | Cost: 1.4024\n",
      "Epoch: 002/015 | Batch: 010/029 | Cost: 0.5631\n",
      "Epoch: 002/015 | Batch: 020/029 | Cost: 1.4982\n",
      "Epoch: 002/015\n",
      "train acc/loss: 76.99%/0.59 valid acc/loss: 54.17%/1.19\n",
      "Epoch: 003/015 | Batch: 000/029 | Cost: 0.4190\n",
      "Epoch: 003/015 | Batch: 010/029 | Cost: 1.1080\n",
      "Epoch: 003/015 | Batch: 020/029 | Cost: 0.8423\n",
      "Epoch: 003/015\n",
      "train acc/loss: 82.74%/0.52 valid acc/loss: 58.33%/1.06\n",
      "Epoch: 004/015 | Batch: 000/029 | Cost: 0.9260\n",
      "Epoch: 004/015 | Batch: 010/029 | Cost: 0.6792\n",
      "Epoch: 004/015 | Batch: 020/029 | Cost: 1.0984\n",
      "Epoch: 004/015\n",
      "train acc/loss: 84.07%/0.48 valid acc/loss: 54.17%/1.15\n",
      "Epoch: 005/015 | Batch: 000/029 | Cost: 0.8679\n",
      "Epoch: 005/015 | Batch: 010/029 | Cost: 1.2905\n",
      "Epoch: 005/015 | Batch: 020/029 | Cost: 0.6682\n",
      "Epoch: 005/015\n",
      "train acc/loss: 88.05%/0.38 valid acc/loss: 50.00%/1.33\n",
      "Epoch: 006/015 | Batch: 000/029 | Cost: 0.3310\n",
      "Epoch: 006/015 | Batch: 010/029 | Cost: 0.9360\n",
      "Epoch: 006/015 | Batch: 020/029 | Cost: 0.6074\n",
      "Epoch: 006/015\n",
      "train acc/loss: 89.82%/0.33 valid acc/loss: 54.17%/1.48\n",
      "Epoch: 007/015 | Batch: 000/029 | Cost: 0.2287\n",
      "Epoch: 007/015 | Batch: 010/029 | Cost: 0.2946\n",
      "Epoch: 007/015 | Batch: 020/029 | Cost: 0.3475\n",
      "Epoch: 007/015\n",
      "train acc/loss: 93.36%/0.26 valid acc/loss: 54.17%/1.35\n",
      "Epoch: 008/015 | Batch: 000/029 | Cost: 0.7752\n",
      "Epoch: 008/015 | Batch: 010/029 | Cost: 1.0067\n",
      "Epoch: 008/015 | Batch: 020/029 | Cost: 0.5345\n",
      "Epoch: 008/015\n",
      "train acc/loss: 90.71%/0.29 valid acc/loss: 54.17%/1.45\n",
      "Epoch: 009/015 | Batch: 000/029 | Cost: 0.7415\n",
      "Epoch: 009/015 | Batch: 010/029 | Cost: 0.8757\n",
      "Epoch: 009/015 | Batch: 020/029 | Cost: 0.1598\n",
      "Epoch: 009/015\n",
      "train acc/loss: 87.61%/0.29 valid acc/loss: 54.17%/1.42\n",
      "Epoch: 010/015 | Batch: 000/029 | Cost: 0.3591\n",
      "Epoch: 010/015 | Batch: 010/029 | Cost: 0.4398\n",
      "Epoch: 010/015 | Batch: 020/029 | Cost: 0.9876\n",
      "Epoch: 010/015\n",
      "train acc/loss: 96.02%/0.18 valid acc/loss: 58.33%/1.17\n",
      "Epoch: 011/015 | Batch: 000/029 | Cost: 0.3334\n",
      "Epoch: 011/015 | Batch: 010/029 | Cost: 0.4048\n",
      "Epoch: 011/015 | Batch: 020/029 | Cost: 0.4568\n",
      "Epoch: 011/015\n",
      "train acc/loss: 92.92%/0.21 valid acc/loss: 58.33%/1.49\n",
      "Epoch: 012/015 | Batch: 000/029 | Cost: 0.2064\n",
      "Epoch: 012/015 | Batch: 010/029 | Cost: 0.1811\n",
      "Epoch: 012/015 | Batch: 020/029 | Cost: 0.2896\n",
      "Epoch: 012/015\n",
      "train acc/loss: 94.25%/0.17 valid acc/loss: 50.00%/1.31\n",
      "Epoch: 013/015 | Batch: 000/029 | Cost: 0.4208\n",
      "Epoch: 013/015 | Batch: 010/029 | Cost: 0.5058\n",
      "Epoch: 013/015 | Batch: 020/029 | Cost: 0.2331\n",
      "Epoch: 013/015\n",
      "train acc/loss: 94.25%/0.15 valid acc/loss: 58.33%/1.22\n",
      "Epoch: 014/015 | Batch: 000/029 | Cost: 0.1637\n",
      "Epoch: 014/015 | Batch: 010/029 | Cost: 1.1283\n",
      "Epoch: 014/015 | Batch: 020/029 | Cost: 0.5119\n",
      "Epoch: 014/015\n",
      "train acc/loss: 97.79%/0.12 valid acc/loss: 62.50%/1.28\n",
      "Epoch: 015/015 | Batch: 000/029 | Cost: 0.7096\n",
      "Epoch: 015/015 | Batch: 010/029 | Cost: 0.3350\n",
      "Epoch: 015/015 | Batch: 020/029 | Cost: 0.4949\n",
      "Epoch: 015/015\n",
      "train acc/loss: 97.35%/0.11 valid acc/loss: 58.33%/1.35\n"
     ]
    }
   ],
   "source": [
    "%train_run 15"
   ]
  },
  {
   "cell_type": "code",
   "execution_count": 22,
   "metadata": {},
   "outputs": [
    {
     "name": "stdout",
     "output_type": "stream",
     "text": [
      "train acc: 97.35% || test acc: 56.52%\n"
     ]
    }
   ],
   "source": [
    "tmodel.eval()\n",
    "with torch.set_grad_enabled(False):\n",
    "    print('train acc: %.2f%% || test acc: %.2f%%'%\\\n",
    "          (model_acc(tmodel,dataloaders['train']),\n",
    "           model_acc(tmodel,dataloaders['test'])))"
   ]
  }
 ],
 "metadata": {
  "kernelspec": {
   "display_name": "Python 3",
   "language": "python",
   "name": "python3"
  },
  "language_info": {
   "codemirror_mode": {
    "name": "ipython",
    "version": 3
   },
   "file_extension": ".py",
   "mimetype": "text/x-python",
   "name": "python",
   "nbconvert_exporter": "python",
   "pygments_lexer": "ipython3",
   "version": "3.7.6"
  },
  "widgets": {
   "application/vnd.jupyter.widget-state+json": {
    "state": {
     "092160b1cc7f4f60bea8056575f93658": {
      "model_module": "@jupyter-widgets/controls",
      "model_module_version": "1.5.0",
      "model_name": "DescriptionStyleModel",
      "state": {
       "_model_module": "@jupyter-widgets/controls",
       "_model_module_version": "1.5.0",
       "_model_name": "DescriptionStyleModel",
       "_view_count": null,
       "_view_module": "@jupyter-widgets/base",
       "_view_module_version": "1.2.0",
       "_view_name": "StyleView",
       "description_width": ""
      }
     },
     "3314f11ed59f4977859eb8a05a733fb9": {
      "model_module": "@jupyter-widgets/controls",
      "model_module_version": "1.5.0",
      "model_name": "HTMLModel",
      "state": {
       "_dom_classes": [],
       "_model_module": "@jupyter-widgets/controls",
       "_model_module_version": "1.5.0",
       "_model_name": "HTMLModel",
       "_view_count": null,
       "_view_module": "@jupyter-widgets/controls",
       "_view_module_version": "1.5.0",
       "_view_name": "HTMLView",
       "description": "",
       "description_tooltip": null,
       "layout": "IPY_MODEL_6810c447a59f478a93a125ca922d3786",
       "placeholder": "​",
       "style": "IPY_MODEL_092160b1cc7f4f60bea8056575f93658",
       "value": " 528M/528M [00:03&lt;00:00, 158MB/s]"
      }
     },
     "64ec63c95bcf407685acd16d202b85a6": {
      "model_module": "@jupyter-widgets/base",
      "model_module_version": "1.2.0",
      "model_name": "LayoutModel",
      "state": {
       "_model_module": "@jupyter-widgets/base",
       "_model_module_version": "1.2.0",
       "_model_name": "LayoutModel",
       "_view_count": null,
       "_view_module": "@jupyter-widgets/base",
       "_view_module_version": "1.2.0",
       "_view_name": "LayoutView",
       "align_content": null,
       "align_items": null,
       "align_self": null,
       "border": null,
       "bottom": null,
       "display": null,
       "flex": null,
       "flex_flow": null,
       "grid_area": null,
       "grid_auto_columns": null,
       "grid_auto_flow": null,
       "grid_auto_rows": null,
       "grid_column": null,
       "grid_gap": null,
       "grid_row": null,
       "grid_template_areas": null,
       "grid_template_columns": null,
       "grid_template_rows": null,
       "height": null,
       "justify_content": null,
       "justify_items": null,
       "left": null,
       "margin": null,
       "max_height": null,
       "max_width": null,
       "min_height": null,
       "min_width": null,
       "object_fit": null,
       "object_position": null,
       "order": null,
       "overflow": null,
       "overflow_x": null,
       "overflow_y": null,
       "padding": null,
       "right": null,
       "top": null,
       "visibility": null,
       "width": null
      }
     },
     "6810c447a59f478a93a125ca922d3786": {
      "model_module": "@jupyter-widgets/base",
      "model_module_version": "1.2.0",
      "model_name": "LayoutModel",
      "state": {
       "_model_module": "@jupyter-widgets/base",
       "_model_module_version": "1.2.0",
       "_model_name": "LayoutModel",
       "_view_count": null,
       "_view_module": "@jupyter-widgets/base",
       "_view_module_version": "1.2.0",
       "_view_name": "LayoutView",
       "align_content": null,
       "align_items": null,
       "align_self": null,
       "border": null,
       "bottom": null,
       "display": null,
       "flex": null,
       "flex_flow": null,
       "grid_area": null,
       "grid_auto_columns": null,
       "grid_auto_flow": null,
       "grid_auto_rows": null,
       "grid_column": null,
       "grid_gap": null,
       "grid_row": null,
       "grid_template_areas": null,
       "grid_template_columns": null,
       "grid_template_rows": null,
       "height": null,
       "justify_content": null,
       "justify_items": null,
       "left": null,
       "margin": null,
       "max_height": null,
       "max_width": null,
       "min_height": null,
       "min_width": null,
       "object_fit": null,
       "object_position": null,
       "order": null,
       "overflow": null,
       "overflow_x": null,
       "overflow_y": null,
       "padding": null,
       "right": null,
       "top": null,
       "visibility": null,
       "width": null
      }
     },
     "7d8dc585e8754f2bad6c2c6d3f5904f0": {
      "model_module": "@jupyter-widgets/base",
      "model_module_version": "1.2.0",
      "model_name": "LayoutModel",
      "state": {
       "_model_module": "@jupyter-widgets/base",
       "_model_module_version": "1.2.0",
       "_model_name": "LayoutModel",
       "_view_count": null,
       "_view_module": "@jupyter-widgets/base",
       "_view_module_version": "1.2.0",
       "_view_name": "LayoutView",
       "align_content": null,
       "align_items": null,
       "align_self": null,
       "border": null,
       "bottom": null,
       "display": null,
       "flex": null,
       "flex_flow": null,
       "grid_area": null,
       "grid_auto_columns": null,
       "grid_auto_flow": null,
       "grid_auto_rows": null,
       "grid_column": null,
       "grid_gap": null,
       "grid_row": null,
       "grid_template_areas": null,
       "grid_template_columns": null,
       "grid_template_rows": null,
       "height": null,
       "justify_content": null,
       "justify_items": null,
       "left": null,
       "margin": null,
       "max_height": null,
       "max_width": null,
       "min_height": null,
       "min_width": null,
       "object_fit": null,
       "object_position": null,
       "order": null,
       "overflow": null,
       "overflow_x": null,
       "overflow_y": null,
       "padding": null,
       "right": null,
       "top": null,
       "visibility": null,
       "width": null
      }
     },
     "946989f22b6b4969a7816f30404c35a0": {
      "model_module": "@jupyter-widgets/controls",
      "model_module_version": "1.5.0",
      "model_name": "FloatProgressModel",
      "state": {
       "_dom_classes": [],
       "_model_module": "@jupyter-widgets/controls",
       "_model_module_version": "1.5.0",
       "_model_name": "FloatProgressModel",
       "_view_count": null,
       "_view_module": "@jupyter-widgets/controls",
       "_view_module_version": "1.5.0",
       "_view_name": "ProgressView",
       "bar_style": "success",
       "description": "100%",
       "description_tooltip": null,
       "layout": "IPY_MODEL_7d8dc585e8754f2bad6c2c6d3f5904f0",
       "max": 553433881.0,
       "min": 0.0,
       "orientation": "horizontal",
       "style": "IPY_MODEL_a95e2a398cc04070a143cce91ee21820",
       "value": 553433881.0
      }
     },
     "a95e2a398cc04070a143cce91ee21820": {
      "model_module": "@jupyter-widgets/controls",
      "model_module_version": "1.5.0",
      "model_name": "ProgressStyleModel",
      "state": {
       "_model_module": "@jupyter-widgets/controls",
       "_model_module_version": "1.5.0",
       "_model_name": "ProgressStyleModel",
       "_view_count": null,
       "_view_module": "@jupyter-widgets/base",
       "_view_module_version": "1.2.0",
       "_view_name": "StyleView",
       "bar_color": null,
       "description_width": "initial"
      }
     },
     "db7c8f2a65a348a1a13160e95aadf474": {
      "model_module": "@jupyter-widgets/controls",
      "model_module_version": "1.5.0",
      "model_name": "HBoxModel",
      "state": {
       "_dom_classes": [],
       "_model_module": "@jupyter-widgets/controls",
       "_model_module_version": "1.5.0",
       "_model_name": "HBoxModel",
       "_view_count": null,
       "_view_module": "@jupyter-widgets/controls",
       "_view_module_version": "1.5.0",
       "_view_name": "HBoxView",
       "box_style": "",
       "children": [
        "IPY_MODEL_946989f22b6b4969a7816f30404c35a0",
        "IPY_MODEL_3314f11ed59f4977859eb8a05a733fb9"
       ],
       "layout": "IPY_MODEL_64ec63c95bcf407685acd16d202b85a6"
      }
     }
    },
    "version_major": 2,
    "version_minor": 0
   }
  }
 },
 "nbformat": 4,
 "nbformat_minor": 4
}
