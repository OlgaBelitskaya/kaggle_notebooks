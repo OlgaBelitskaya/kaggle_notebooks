{
 "cells": [
  {
   "cell_type": "markdown",
   "metadata": {},
   "source": [
    "# Multi-Label Classification of Handwritten Letters\n",
    "\n",
    "## Step 0. Style and Libraries\n",
    "Let's choose a style of the Jupyter notebook and import the software libraries. The command hide_code will hide the code cells."
   ]
  },
  {
   "cell_type": "code",
   "execution_count": 1,
   "metadata": {},
   "outputs": [
    {
     "data": {
      "text/html": [
       "<style>        \n",
       "@import url('https://fonts.googleapis.com/css?family=Orbitron|Roboto');\n",
       "body {background-color: gainsboro;} \n",
       "a {color: #818286; font-family: 'Roboto';} \n",
       "h1 {color: #37c9e1; font-family: 'Orbitron'; text-shadow: 4px 4px 4px #ccc;} \n",
       "h2, h3 {color: slategray; font-family: 'Orbitron'; text-shadow: 4px 4px 4px #ccc;}\n",
       "h4 {color: #818286; font-family: 'Roboto';}\n",
       "span {text-shadow: 4px 4px 4px #ccc;}\n",
       "div.output_prompt, div.output_area pre {color: slategray;}\n",
       "div.input_prompt, div.output_subarea {color: #37c9e1;}      \n",
       "div.output_stderr pre {background-color: gainsboro;}  \n",
       "div.output_stderr {background-color: slategrey;} \n",
       "</style>"
      ],
      "text/plain": [
       "<IPython.core.display.HTML object>"
      ]
     },
     "metadata": {},
     "output_type": "display_data"
    }
   ],
   "source": [
    "%%html\n",
    "<style>        \n",
    "@import url('https://fonts.googleapis.com/css?family=Orbitron|Roboto');\n",
    "body {background-color: gainsboro;} \n",
    "a {color: #818286; font-family: 'Roboto';} \n",
    "h1 {color: #37c9e1; font-family: 'Orbitron'; text-shadow: 4px 4px 4px #ccc;} \n",
    "h2, h3 {color: slategray; font-family: 'Orbitron'; text-shadow: 4px 4px 4px #ccc;}\n",
    "h4 {color: #818286; font-family: 'Roboto';}\n",
    "span {text-shadow: 4px 4px 4px #ccc;}\n",
    "div.output_prompt, div.output_area pre {color: slategray;}\n",
    "div.input_prompt, div.output_subarea {color: #37c9e1;}      \n",
    "div.output_stderr pre {background-color: gainsboro;}  \n",
    "div.output_stderr {background-color: slategrey;} \n",
    "</style>"
   ]
  },
  {
   "cell_type": "code",
   "execution_count": 2,
   "metadata": {},
   "outputs": [
    {
     "name": "stderr",
     "output_type": "stream",
     "text": [
      "Using TensorFlow backend.\n"
     ]
    }
   ],
   "source": [
    "import numpy as np \n",
    "import pandas as pd\n",
    "import tensorflow as tf\n",
    "\n",
    "from PIL import ImageFile\n",
    "from tqdm import tqdm\n",
    "import h5py\n",
    "import cv2\n",
    "\n",
    "import matplotlib.pylab as plt\n",
    "from matplotlib import cm\n",
    "%matplotlib inline\n",
    "\n",
    "from sklearn.model_selection import train_test_split\n",
    "from sklearn.ensemble import GradientBoostingClassifier, RandomForestClassifier\n",
    "\n",
    "from keras.utils import to_categorical\n",
    "from keras.preprocessing import image as keras_image\n",
    "from keras.callbacks import ModelCheckpoint\n",
    "from keras.preprocessing.image import ImageDataGenerator\n",
    "\n",
    "from keras.models import Sequential, load_model, Model\n",
    "from keras.layers import Input, BatchNormalization\n",
    "from keras.layers import Dense, LSTM, GlobalAveragePooling1D, GlobalAveragePooling2D\n",
    "from keras.layers import Activation, Flatten, Dropout, BatchNormalization\n",
    "from keras.layers.advanced_activations import PReLU, LeakyReLU\n",
    "from keras.layers import Conv2D, MaxPooling2D, GlobalMaxPooling2D\n",
    "\n",
    "from keras.applications.inception_v3 import InceptionV3, preprocess_input\n",
    "import scipy\n",
    "from scipy import misc"
   ]
  },
  {
   "cell_type": "code",
   "execution_count": 3,
   "metadata": {},
   "outputs": [],
   "source": [
    "# Plot the neural network fitting history\n",
    "def history_plot(fit_history, n):\n",
    "    plt.figure(figsize=(18, 12))\n",
    "    \n",
    "    plt.subplot(211)\n",
    "    plt.plot(fit_history.history['loss'][n:], color='slategray', label = 'train')\n",
    "    plt.plot(fit_history.history['val_loss'][n:], color='#4876ff', label = 'valid')\n",
    "    plt.xlabel(\"Epochs\")\n",
    "    plt.ylabel(\"Loss\")\n",
    "    plt.legend()\n",
    "    plt.title('Loss Function');  \n",
    "    \n",
    "    plt.subplot(212)\n",
    "    plt.plot(fit_history.history['acc'][n:], color='slategray', label = 'train')\n",
    "    plt.plot(fit_history.history['val_acc'][n:], color='#4876ff', label = 'valid')\n",
    "    plt.xlabel(\"Epochs\")\n",
    "    plt.ylabel(\"Accuracy\")    \n",
    "    plt.legend()\n",
    "    plt.title('Accuracy');"
   ]
  },
  {
   "cell_type": "markdown",
   "metadata": {},
   "source": [
    "## Step 1. Load and Explore the Data\n",
    "For this project, I have created the dataset of 5940 (180x33) color images (32x32x3) with 33 handwritten letters.\n",
    "Run the following cell to download the dataset."
   ]
  },
  {
   "cell_type": "code",
   "execution_count": 4,
   "metadata": {},
   "outputs": [],
   "source": [
    "# Function for processing an image\n",
    "def image_to_tensor(img_path, folder_path):\n",
    "    img = keras_image.load_img(folder_path + img_path, target_size=(32, 32))\n",
    "    x = keras_image.img_to_array(img)\n",
    "    return np.expand_dims(x, axis=0)\n",
    "# Function for creating the data tensor\n",
    "def data_to_tensor(img_paths, folder_path):\n",
    "    list_of_tensors = [image_to_tensor(img_path, folder_path) for img_path in tqdm(img_paths)]\n",
    "    return np.vstack(list_of_tensors)\n",
    "ImageFile.LOAD_TRUNCATED_IMAGES = True "
   ]
  },
  {
   "cell_type": "code",
   "execution_count": 5,
   "metadata": {},
   "outputs": [
    {
     "name": "stderr",
     "output_type": "stream",
     "text": [
      "100%|██████████| 1650/1650 [01:04<00:00, 25.53it/s]\n"
     ]
    }
   ],
   "source": [
    "# Load the dataset #1\n",
    "data = pd.read_csv(\"/Users/olgabelitskaya/deep_learning_projects/DL_PP2/data/letters.csv\")\n",
    "files = data['file']\n",
    "letters = data['letter']\n",
    "backgrounds = data['background'].values\n",
    "targets = data['label'].values\n",
    "tensors = data_to_tensor(files, \"/Users/olgabelitskaya/deep_learning_projects/DL_PP2/data/\");"
   ]
  },
  {
   "cell_type": "code",
   "execution_count": 6,
   "metadata": {},
   "outputs": [
    {
     "name": "stderr",
     "output_type": "stream",
     "text": [
      "100%|██████████| 5940/5940 [06:48<00:00, 14.55it/s]\n"
     ]
    }
   ],
   "source": [
    "# Load the dataset #2\n",
    "data2 = pd.read_csv(\"/Users/olgabelitskaya/deep_learning_projects/DL_PP2/data2/letters2.csv\")\n",
    "files2 = data2['file']\n",
    "letters2 = data2['letter']\n",
    "backgrounds2 = data2['background'].values\n",
    "targets2 = data2['label'].values\n",
    "tensors2 = data_to_tensor(files2, \"/Users/olgabelitskaya/deep_learning_projects/DL_PP2/data2/\");"
   ]
  },
  {
   "cell_type": "code",
   "execution_count": 7,
   "metadata": {},
   "outputs": [
    {
     "name": "stdout",
     "output_type": "stream",
     "text": [
      "Tensor shape: (1650, 32, 32, 3)\n",
      "Target shape (1650,)\n",
      "Tensor #2 shape: (5940, 32, 32, 3)\n",
      "Target #2 shape (5940,)\n"
     ]
    }
   ],
   "source": [
    "# Print the shape \n",
    "print ('Tensor shape:', tensors.shape)\n",
    "print ('Target shape', targets.shape)\n",
    "print ('Tensor #2 shape:', tensors2.shape)\n",
    "print ('Target #2 shape', targets2.shape)"
   ]
  },
  {
   "cell_type": "code",
   "execution_count": 8,
   "metadata": {},
   "outputs": [
    {
     "name": "stdout",
     "output_type": "stream",
     "text": [
      "Tensor shape: (7590, 32, 32, 3)\n",
      "Target shape (7590,)\n",
      "Background shape: (7590,)\n"
     ]
    }
   ],
   "source": [
    "# Concatenate arrays\n",
    "tensors = np.concatenate((tensors, tensors2), axis=0)\n",
    "targets = np.concatenate((targets, targets2), axis=0)\n",
    "backgrounds = np.concatenate((backgrounds, backgrounds2), axis=0)\n",
    "print ('Tensor shape:', tensors.shape)\n",
    "print ('Target shape', targets.shape)\n",
    "print ('Background shape:', backgrounds.shape)"
   ]
  },
  {
   "cell_type": "code",
   "execution_count": 9,
   "metadata": {},
   "outputs": [
    {
     "data": {
      "text/plain": [
       "7590"
      ]
     },
     "execution_count": 9,
     "metadata": {},
     "output_type": "execute_result"
    }
   ],
   "source": [
    "# Concatenate series\n",
    "letters = pd.concat((letters, letters2), axis=0, ignore_index=True)\n",
    "len(letters)"
   ]
  },
  {
   "cell_type": "code",
   "execution_count": 10,
   "metadata": {},
   "outputs": [
    {
     "data": {
      "image/png": "[encoded data removed]",
      "text/plain": [
       "<matplotlib.figure.Figure at 0x10325f898>"
      ]
     },
     "metadata": {},
     "output_type": "display_data"
    }
   ],
   "source": [
    "# Read from files and display images using OpenCV\n",
    "def display_images(img_path, ax):\n",
    "    img = cv2.imread(\"/Users/olgabelitskaya/deep_learning_projects/DL_PP2/data/\" + img_path)\n",
    "    ax.imshow(cv2.cvtColor(img, cv2.COLOR_BGR2RGB))\n",
    "    \n",
    "fig = plt.figure(figsize=(18, 6))\n",
    "for i in range(12):\n",
    "    ax = fig.add_subplot(2, 6, i + 1, xticks=[], yticks=[], title=letters[i*100])\n",
    "    display_images(files[i*100], ax)"
   ]
  },
  {
   "cell_type": "markdown",
   "metadata": {},
   "source": [
    "## Step 2. Save and Load the Data\n",
    "The data tensors can be saved in the appropriate format of files .h5."
   ]
  },
  {
   "cell_type": "code",
   "execution_count": 22,
   "metadata": {},
   "outputs": [],
   "source": [
    "# Create the tensor file\n",
    "with h5py.File('LetterColorImages.h5', 'w') as f:\n",
    "    f.create_dataset('images', data=tensors)\n",
    "    f.create_dataset('labels', data=targets)\n",
    "    f.create_dataset('backgrounds', data=backgrounds)\n",
    "    f.close()"
   ]
  },
  {
   "cell_type": "code",
   "execution_count": 23,
   "metadata": {},
   "outputs": [
    {
     "data": {
      "text/plain": [
       "['backgrounds', 'images', 'labels']"
      ]
     },
     "execution_count": 23,
     "metadata": {},
     "output_type": "execute_result"
    }
   ],
   "source": [
    "# Read the h5 file\n",
    "f = h5py.File('LetterColorImages.h5', 'r')\n",
    "\n",
    "# List all groups\n",
    "keys = list(f.keys())\n",
    "keys"
   ]
  },
  {
   "cell_type": "code",
   "execution_count": 24,
   "metadata": {},
   "outputs": [
    {
     "name": "stdout",
     "output_type": "stream",
     "text": [
      "Tensor shape: (7590, 32, 32, 3)\n",
      "Target shape (7590,)\n"
     ]
    }
   ],
   "source": [
    "# Create tensors and targets\n",
    "tensors = np.array(f[keys[1]])\n",
    "targets = np.array(f[keys[2]])\n",
    "print ('Tensor shape:', tensors.shape)\n",
    "print ('Target shape', targets.shape)"
   ]
  },
  {
   "cell_type": "markdown",
   "metadata": {},
   "source": [
    "## Step 3. Implement Preprocess Functions\n",
    "### Normalize and Gray Scale\n",
    "In the cell below, normalize the image tensors, and return them as a normalized Numpy array."
   ]
  },
  {
   "cell_type": "code",
   "execution_count": 11,
   "metadata": {},
   "outputs": [],
   "source": [
    "# Normalize the tensors\n",
    "tensors = tensors.astype('float32')/255"
   ]
  },
  {
   "cell_type": "code",
   "execution_count": 12,
   "metadata": {},
   "outputs": [
    {
     "name": "stdout",
     "output_type": "stream",
     "text": [
      "Label:  б\n"
     ]
    },
    {
     "data": {
      "image/png": "[encoded data removed]",
      "text/plain": [
       "<matplotlib.figure.Figure at 0x1207959e8>"
      ]
     },
     "metadata": {},
     "output_type": "display_data"
    }
   ],
   "source": [
    "# Read and display a tensor using Matplotlib\n",
    "print('Label: ', letters[2000])\n",
    "plt.figure(figsize=(3,3))\n",
    "plt.imshow(tensors[2000]);"
   ]
  },
  {
   "cell_type": "markdown",
   "metadata": {},
   "source": [
    "Create tensors of grayscaled images and display their shape."
   ]
  },
  {
   "cell_type": "code",
   "execution_count": 13,
   "metadata": {},
   "outputs": [
    {
     "name": "stdout",
     "output_type": "stream",
     "text": [
      "Grayscaled Tensor shape: (7590, 32, 32)\n"
     ]
    }
   ],
   "source": [
    "# Grayscaled tensors\n",
    "gray_tensors = np.dot(tensors[...,:3], [0.299, 0.587, 0.114])\n",
    "print ('Grayscaled Tensor shape:', gray_tensors.shape)"
   ]
  },
  {
   "cell_type": "code",
   "execution_count": 14,
   "metadata": {},
   "outputs": [
    {
     "name": "stdout",
     "output_type": "stream",
     "text": [
      "Label:  б\n"
     ]
    },
    {
     "data": {
      "image/png": "[encoded data removed]",
      "text/plain": [
       "<matplotlib.figure.Figure at 0x111b73668>"
      ]
     },
     "metadata": {},
     "output_type": "display_data"
    }
   ],
   "source": [
    "# Read and display a grayscaled tensor using Matplotlib\n",
    "print('Label: ', letters[2000])\n",
    "plt.figure(figsize=(3,3))\n",
    "plt.imshow(gray_tensors[2000], cmap=cm.bone);"
   ]
  },
  {
   "cell_type": "markdown",
   "metadata": {},
   "source": [
    "### One-hot Encode\n",
    "Now we'll implement the one-hot encoding function to_categorical."
   ]
  },
  {
   "cell_type": "code",
   "execution_count": 15,
   "metadata": {},
   "outputs": [
    {
     "name": "stdout",
     "output_type": "stream",
     "text": [
      "{1, 2, 3, 4, 5, 6, 7, 8, 9, 10, 11, 12, 13, 14, 15, 16, 17, 18, 19, 20, 21, 22, 23, 24, 25, 26, 27, 28, 29, 30, 31, 32, 33}\n"
     ]
    }
   ],
   "source": [
    "# Print the target unique values\n",
    "print(set(targets))"
   ]
  },
  {
   "cell_type": "code",
   "execution_count": 16,
   "metadata": {},
   "outputs": [
    {
     "data": {
      "text/plain": [
       "(7590, 33)"
      ]
     },
     "execution_count": 16,
     "metadata": {},
     "output_type": "execute_result"
    }
   ],
   "source": [
    "# One-hot encode the targets, started from the zero label\n",
    "cat_targets = to_categorical(np.array(targets-1), 33)\n",
    "cat_targets.shape"
   ]
  },
  {
   "cell_type": "code",
   "execution_count": 17,
   "metadata": {},
   "outputs": [
    {
     "data": {
      "text/plain": [
       "(7590, 3)"
      ]
     },
     "execution_count": 17,
     "metadata": {},
     "output_type": "execute_result"
    }
   ],
   "source": [
    "# One-hot encode the background targets\n",
    "backgrounds = to_categorical(backgrounds, 3)\n",
    "backgrounds.shape"
   ]
  },
  {
   "cell_type": "markdown",
   "metadata": {},
   "source": [
    "### Add Background"
   ]
  },
  {
   "cell_type": "code",
   "execution_count": 18,
   "metadata": {},
   "outputs": [
    {
     "data": {
      "text/plain": [
       "(7590, 36)"
      ]
     },
     "execution_count": 18,
     "metadata": {},
     "output_type": "execute_result"
    }
   ],
   "source": [
    "# Create multi-label targets\n",
    "back_targets = np.concatenate((cat_targets, backgrounds), axis=1)\n",
    "back_targets.shape"
   ]
  },
  {
   "cell_type": "markdown",
   "metadata": {},
   "source": [
    "### Split\n",
    "#### Color Images\n",
    "Apply the function train_test_split and split the data into training and testing sets. Set up the size of the testing set - 20%."
   ]
  },
  {
   "cell_type": "code",
   "execution_count": 19,
   "metadata": {},
   "outputs": [],
   "source": [
    "# Split the data\n",
    "x_train, x_test, y_train, y_test = train_test_split(tensors, cat_targets, \n",
    "                                                    test_size = 0.2, \n",
    "                                                    random_state = 1)\n",
    "n = int(len(x_test)/2)\n",
    "x_valid, y_valid = x_test[:n], y_test[:n]\n",
    "x_test, y_test = x_test[n:], y_test[n:]"
   ]
  },
  {
   "cell_type": "code",
   "execution_count": 20,
   "metadata": {},
   "outputs": [
    {
     "name": "stdout",
     "output_type": "stream",
     "text": [
      "Training tensor's shape: (6072, 32, 32, 3)\n",
      "Training target's shape (6072, 33)\n",
      "Validating tensor's shape: (759, 32, 32, 3)\n",
      "Validating target's shape (759, 33)\n",
      "Testing tensor's shape: (759, 32, 32, 3)\n",
      "Testing target's shape (759, 33)\n"
     ]
    }
   ],
   "source": [
    "# Print the shape\n",
    "print (\"Training tensor's shape:\", x_train.shape)\n",
    "print (\"Training target's shape\", y_train.shape)\n",
    "print (\"Validating tensor's shape:\", x_valid.shape)\n",
    "print (\"Validating target's shape\", y_valid.shape)\n",
    "print (\"Testing tensor's shape:\", x_test.shape)\n",
    "print (\"Testing target's shape\", y_test.shape)"
   ]
  },
  {
   "cell_type": "markdown",
   "metadata": {},
   "source": [
    "#### Grayscaled Images"
   ]
  },
  {
   "cell_type": "code",
   "execution_count": 21,
   "metadata": {},
   "outputs": [],
   "source": [
    "# Split the grayscaled data\n",
    "x_train2, x_test2, y_train2, y_test2 = train_test_split(gray_tensors, cat_targets, \n",
    "                                                        test_size = 0.2, \n",
    "                                                        random_state = 1)\n",
    "x_valid2, y_valid2 = x_test2[:n], y_test2[:n]\n",
    "x_test2, y_test2 = x_test2[n:], y_test2[n:]"
   ]
  },
  {
   "cell_type": "code",
   "execution_count": 22,
   "metadata": {},
   "outputs": [],
   "source": [
    "# Reshape the grayscaled data\n",
    "x_train2, x_test2, x_valid2 = \\\n",
    "x_train2.reshape(-1, 32, 32, 1), x_test2.reshape(-1, 32, 32, 1), x_valid2.reshape(-1, 32, 32, 1)"
   ]
  },
  {
   "cell_type": "code",
   "execution_count": 23,
   "metadata": {},
   "outputs": [
    {
     "name": "stdout",
     "output_type": "stream",
     "text": [
      "Training grayscaled tensor's shape: (6072, 32, 32, 1)\n",
      "Training grayscaled target's shape (6072, 33)\n",
      "Validating grayscaled tensor's shape: (759, 32, 32, 1)\n",
      "Validating grayscaled target's shape (759, 33)\n",
      "Testing grayscaled tensor's shape: (759, 32, 32, 1)\n",
      "Testing grayscaled target's shape (759, 33)\n"
     ]
    }
   ],
   "source": [
    "# Print the shape\n",
    "print (\"Training grayscaled tensor's shape:\", x_train2.shape)\n",
    "print (\"Training grayscaled target's shape\", y_train2.shape)\n",
    "print (\"Validating grayscaled tensor's shape:\", x_valid2.shape)\n",
    "print (\"Validating grayscaled target's shape\", y_valid2.shape)\n",
    "print (\"Testing grayscaled tensor's shape:\", x_test2.shape)\n",
    "print (\"Testing grayscaled target's shape\", y_test2.shape)"
   ]
  },
  {
   "cell_type": "code",
   "execution_count": 38,
   "metadata": {},
   "outputs": [
    {
     "data": {
      "text/plain": [
       "((6072, 32, 32, 3), (759, 32, 32, 3), (759, 32, 32, 3))"
      ]
     },
     "execution_count": 38,
     "metadata": {},
     "output_type": "execute_result"
    }
   ],
   "source": [
    "# Convert images from grayscaled to RGB\n",
    "x_train2_tensor = tf.image.grayscale_to_rgb(x_train2, name=None)\n",
    "x_test2_tensor = tf.image.grayscale_to_rgb(x_test2, name=None)\n",
    "x_valid2_tensor = tf.image.grayscale_to_rgb(x_valid2, name=None)\n",
    "# Run tensorflow session\n",
    "sess = tf.Session()\n",
    "with sess.as_default():\n",
    "    x_train2_color = x_train2_tensor.eval()\n",
    "    x_test2_color = x_test2_tensor.eval()\n",
    "    x_valid2_color = x_valid2_tensor.eval()\n",
    "# Check the shape    \n",
    "x_train2_color.shape, x_test2_color.shape, x_valid2_color.shape"
   ]
  },
  {
   "cell_type": "markdown",
   "metadata": {},
   "source": [
    "#### Multi-Label Targets, Color Images"
   ]
  },
  {
   "cell_type": "code",
   "execution_count": 24,
   "metadata": {},
   "outputs": [],
   "source": [
    "# Split with multi-label targets\n",
    "x_train3, x_test3, y_train3, y_test3 = train_test_split(tensors, back_targets, \n",
    "                                                        test_size = 0.2, \n",
    "                                                        random_state = 1)\n",
    "x_valid3, y_valid3 = x_test3[:n], y_test3[:n]\n",
    "x_test3, y_test3 = x_test3[n:], y_test3[n:]"
   ]
  },
  {
   "cell_type": "code",
   "execution_count": 25,
   "metadata": {},
   "outputs": [
    {
     "name": "stdout",
     "output_type": "stream",
     "text": [
      "Training tensor's shape: (6072, 32, 32, 3)\n",
      "Training target's shape (6072, 36)\n",
      "Validating tensor's shape: (759, 32, 32, 3)\n",
      "Validating target's shape (759, 36)\n",
      "Testing tensor's shape: (759, 32, 32, 3)\n",
      "Testing target's shape (759, 36)\n"
     ]
    }
   ],
   "source": [
    "# Print the shape\n",
    "print (\"Training tensor's shape:\", x_train3.shape)\n",
    "print (\"Training target's shape\", y_train3.shape)\n",
    "print (\"Validating tensor's shape:\", x_valid3.shape)\n",
    "print (\"Validating target's shape\", y_valid3.shape)\n",
    "print (\"Testing tensor's shape:\", x_test3.shape)\n",
    "print (\"Testing target's shape\", y_test3.shape)"
   ]
  },
  {
   "cell_type": "code",
   "execution_count": 26,
   "metadata": {},
   "outputs": [],
   "source": [
    "# Create a list of targets\n",
    "y_train3_list = [y_train3[:, :33], y_train3[:, 33:]]\n",
    "y_test3_list = [y_test3[:, :33], y_valid3[:, 33:]]\n",
    "y_valid3_list = [y_valid3[:, :33], y_valid3[:, 33:]]"
   ]
  },
  {
   "cell_type": "markdown",
   "metadata": {},
   "source": [
    "#### Multi-Label Targets, Grayscaled Images"
   ]
  },
  {
   "cell_type": "code",
   "execution_count": 27,
   "metadata": {},
   "outputs": [],
   "source": [
    "# Split the grayscaled data\n",
    "x_train4, x_test4, y_train4, y_test4 = train_test_split(gray_tensors, back_targets, \n",
    "                                                        test_size = 0.2, \n",
    "                                                        random_state = 1)\n",
    "x_valid4, y_valid4 = x_test4[:n], y_test4[:n]\n",
    "x_test4, y_test4 = x_test4[n:], y_test4[n:]"
   ]
  },
  {
   "cell_type": "code",
   "execution_count": 28,
   "metadata": {},
   "outputs": [],
   "source": [
    "# Reshape the grayscaled data\n",
    "x_train4, x_test4, x_valid4 = \\\n",
    "x_train4.reshape(-1, 32, 32, 1), x_test4.reshape(-1, 32, 32, 1), x_valid4.reshape(-1, 32, 32, 1)"
   ]
  },
  {
   "cell_type": "code",
   "execution_count": 29,
   "metadata": {},
   "outputs": [
    {
     "name": "stdout",
     "output_type": "stream",
     "text": [
      "Training grayscaled tensor's shape: (6072, 32, 32, 1)\n",
      "Training grayscaled target's shape (6072, 36)\n",
      "Validating grayscaled tensor's shape: (759, 32, 32, 1)\n",
      "Validating grayscaled target's shape (759, 36)\n",
      "Testing grayscaled tensor's shape: (759, 32, 32, 1)\n",
      "Testing grayscaled target's shape (759, 36)\n"
     ]
    }
   ],
   "source": [
    "# Print the shape\n",
    "print (\"Training grayscaled tensor's shape:\", x_train4.shape)\n",
    "print (\"Training grayscaled target's shape\", y_train4.shape)\n",
    "print (\"Validating grayscaled tensor's shape:\", x_valid4.shape)\n",
    "print (\"Validating grayscaled target's shape\", y_valid4.shape)\n",
    "print (\"Testing grayscaled tensor's shape:\", x_test4.shape)\n",
    "print (\"Testing grayscaled target's shape\", y_test4.shape)"
   ]
  },
  {
   "cell_type": "code",
   "execution_count": 30,
   "metadata": {},
   "outputs": [],
   "source": [
    "# Create a list of targets\n",
    "y_train4_list = [y_train4[:, :33], y_train4[:, 33:]]\n",
    "y_test4_list = [y_test4[:, :33], y_test4[:, 33:]]\n",
    "y_valid4_list = [y_valid4[:, :33], y_valid4[:, 33:]]"
   ]
  },
  {
   "cell_type": "markdown",
   "metadata": {},
   "source": [
    "## Step 4. Create a One-Label Classification Model\n",
    "### Color Images\n",
    "Define a model architecture and compile the model for color images."
   ]
  },
  {
   "cell_type": "code",
   "execution_count": 31,
   "metadata": {},
   "outputs": [],
   "source": [
    "def model():\n",
    "    model = Sequential()\n",
    "    \n",
    "    # Define a model architecture    \n",
    "    model.add(Conv2D(32, (5, 5), padding='same', input_shape=x_train.shape[1:]))\n",
    "    model.add(LeakyReLU(alpha=0.02))\n",
    "    \n",
    "    model.add(MaxPooling2D(pool_size=(2, 2)))\n",
    "    model.add(Dropout(0.2))\n",
    "\n",
    "    model.add(Conv2D(196, (5, 5)))\n",
    "    model.add(LeakyReLU(alpha=0.02))\n",
    "    \n",
    "    model.add(MaxPooling2D(pool_size=(2, 2)))\n",
    "    model.add(Dropout(0.2))\n",
    "\n",
    "    model.add(GlobalMaxPooling2D())\n",
    "    \n",
    "    model.add(Dense(1024))\n",
    "    model.add(LeakyReLU(alpha=0.02))\n",
    "    model.add(Dropout(0.5)) \n",
    "    \n",
    "    model.add(Dense(33))\n",
    "    model.add(Activation('softmax'))\n",
    "    \n",
    "    # Compile the model\n",
    "    model.compile(loss='categorical_crossentropy', optimizer='adam', metrics=['accuracy'])\n",
    "    \n",
    "    return model\n",
    "\n",
    "model = model()"
   ]
  },
  {
   "cell_type": "code",
   "execution_count": 34,
   "metadata": {},
   "outputs": [],
   "source": [
    "checkpointer = ModelCheckpoint(filepath='weights.best.letters.model.hdf5', \n",
    "                               verbose=2, save_best_only=True)"
   ]
  },
  {
   "cell_type": "code",
   "execution_count": 48,
   "metadata": {
    "scrolled": false
   },
   "outputs": [
    {
     "name": "stdout",
     "output_type": "stream",
     "text": [
      "Train on 6072 samples, validate on 759 samples\n",
      "Epoch 1/100\n",
      " - 38s - loss: 3.4973 - acc: 0.0316 - val_loss: 3.4868 - val_acc: 0.0382\n",
      "\n",
      "Epoch 00001: val_loss improved from inf to 3.48679, saving model to weights.best.letters.model.hdf5\n",
      "Epoch 2/100\n",
      " - 38s - loss: 3.4509 - acc: 0.0422 - val_loss: 3.4172 - val_acc: 0.0422\n",
      "\n",
      "Epoch 00002: val_loss improved from 3.48679 to 3.41718, saving model to weights.best.letters.model.hdf5\n",
      "Epoch 3/100\n",
      " - 37s - loss: 3.3819 - acc: 0.0527 - val_loss: 3.3260 - val_acc: 0.0606\n",
      "\n",
      "Epoch 00003: val_loss improved from 3.41718 to 3.32604, saving model to weights.best.letters.model.hdf5\n",
      "Epoch 4/100\n",
      " - 34s - loss: 3.3079 - acc: 0.0624 - val_loss: 3.2908 - val_acc: 0.0619\n",
      "\n",
      "Epoch 00004: val_loss improved from 3.32604 to 3.29080, saving model to weights.best.letters.model.hdf5\n",
      "Epoch 5/100\n",
      " - 34s - loss: 3.2961 - acc: 0.0730 - val_loss: 3.2676 - val_acc: 0.0711\n",
      "\n",
      "Epoch 00005: val_loss improved from 3.29080 to 3.26759, saving model to weights.best.letters.model.hdf5\n",
      "Epoch 6/100\n",
      " - 33s - loss: 3.2662 - acc: 0.0763 - val_loss: 3.2606 - val_acc: 0.0777\n",
      "\n",
      "Epoch 00006: val_loss improved from 3.26759 to 3.26063, saving model to weights.best.letters.model.hdf5\n",
      "Epoch 7/100\n",
      " - 33s - loss: 3.2497 - acc: 0.0855 - val_loss: 3.2764 - val_acc: 0.0738\n",
      "\n",
      "Epoch 00007: val_loss did not improve from 3.26063\n",
      "Epoch 8/100\n",
      " - 34s - loss: 3.2155 - acc: 0.0916 - val_loss: 3.2109 - val_acc: 0.1067\n",
      "\n",
      "Epoch 00008: val_loss improved from 3.26063 to 3.21088, saving model to weights.best.letters.model.hdf5\n",
      "Epoch 9/100\n",
      " - 33s - loss: 3.1948 - acc: 0.0978 - val_loss: 3.2647 - val_acc: 0.1028\n",
      "\n",
      "Epoch 00009: val_loss did not improve from 3.21088\n",
      "Epoch 10/100\n",
      " - 33s - loss: 3.1825 - acc: 0.1003 - val_loss: 3.2214 - val_acc: 0.0949\n",
      "\n",
      "Epoch 00010: val_loss did not improve from 3.21088\n",
      "Epoch 11/100\n",
      " - 33s - loss: 3.1897 - acc: 0.0957 - val_loss: 3.2365 - val_acc: 0.0988\n",
      "\n",
      "Epoch 00011: val_loss did not improve from 3.21088\n",
      "Epoch 12/100\n",
      " - 34s - loss: 3.1493 - acc: 0.1039 - val_loss: 3.1513 - val_acc: 0.0962\n",
      "\n",
      "Epoch 00012: val_loss improved from 3.21088 to 3.15125, saving model to weights.best.letters.model.hdf5\n",
      "Epoch 13/100\n",
      " - 35s - loss: 3.1274 - acc: 0.1123 - val_loss: 3.0985 - val_acc: 0.1291\n",
      "\n",
      "Epoch 00013: val_loss improved from 3.15125 to 3.09848, saving model to weights.best.letters.model.hdf5\n",
      "Epoch 14/100\n",
      " - 35s - loss: 3.1151 - acc: 0.1150 - val_loss: 3.1299 - val_acc: 0.1120\n",
      "\n",
      "Epoch 00014: val_loss did not improve from 3.09848\n",
      "Epoch 15/100\n",
      " - 36s - loss: 3.1071 - acc: 0.1126 - val_loss: 3.1246 - val_acc: 0.1054\n",
      "\n",
      "Epoch 00015: val_loss did not improve from 3.09848\n",
      "Epoch 16/100\n",
      " - 34s - loss: 3.0688 - acc: 0.1238 - val_loss: 3.1691 - val_acc: 0.0962\n",
      "\n",
      "Epoch 00016: val_loss did not improve from 3.09848\n",
      "Epoch 17/100\n",
      " - 34s - loss: 3.0839 - acc: 0.1257 - val_loss: 3.0155 - val_acc: 0.1528\n",
      "\n",
      "Epoch 00017: val_loss improved from 3.09848 to 3.01547, saving model to weights.best.letters.model.hdf5\n",
      "Epoch 18/100\n",
      " - 34s - loss: 3.0015 - acc: 0.1462 - val_loss: 2.9643 - val_acc: 0.1686\n",
      "\n",
      "Epoch 00018: val_loss improved from 3.01547 to 2.96427, saving model to weights.best.letters.model.hdf5\n",
      "Epoch 19/100\n",
      " - 34s - loss: 2.8948 - acc: 0.1683 - val_loss: 2.7906 - val_acc: 0.2200\n",
      "\n",
      "Epoch 00019: val_loss improved from 2.96427 to 2.79056, saving model to weights.best.letters.model.hdf5\n",
      "Epoch 20/100\n",
      " - 34s - loss: 2.7895 - acc: 0.1851 - val_loss: 2.6816 - val_acc: 0.2279\n",
      "\n",
      "Epoch 00020: val_loss improved from 2.79056 to 2.68162, saving model to weights.best.letters.model.hdf5\n",
      "Epoch 21/100\n",
      " - 34s - loss: 2.6777 - acc: 0.2126 - val_loss: 2.5743 - val_acc: 0.2490\n",
      "\n",
      "Epoch 00021: val_loss improved from 2.68162 to 2.57427, saving model to weights.best.letters.model.hdf5\n",
      "Epoch 22/100\n",
      " - 35s - loss: 2.5336 - acc: 0.2502 - val_loss: 2.5597 - val_acc: 0.2266\n",
      "\n",
      "Epoch 00022: val_loss improved from 2.57427 to 2.55969, saving model to weights.best.letters.model.hdf5\n",
      "Epoch 23/100\n",
      " - 35s - loss: 2.4566 - acc: 0.2721 - val_loss: 2.3549 - val_acc: 0.3149\n",
      "\n",
      "Epoch 00023: val_loss improved from 2.55969 to 2.35489, saving model to weights.best.letters.model.hdf5\n",
      "Epoch 24/100\n",
      " - 35s - loss: 2.3437 - acc: 0.2958 - val_loss: 2.2143 - val_acc: 0.3399\n",
      "\n",
      "Epoch 00024: val_loss improved from 2.35489 to 2.21435, saving model to weights.best.letters.model.hdf5\n",
      "Epoch 25/100\n",
      " - 34s - loss: 2.2546 - acc: 0.3300 - val_loss: 2.1471 - val_acc: 0.3729\n",
      "\n",
      "Epoch 00025: val_loss improved from 2.21435 to 2.14705, saving model to weights.best.letters.model.hdf5\n",
      "Epoch 26/100\n",
      " - 34s - loss: 2.1510 - acc: 0.3569 - val_loss: 2.0151 - val_acc: 0.4124\n",
      "\n",
      "Epoch 00026: val_loss improved from 2.14705 to 2.01513, saving model to weights.best.letters.model.hdf5\n",
      "Epoch 27/100\n",
      " - 34s - loss: 2.0167 - acc: 0.3821 - val_loss: 1.8508 - val_acc: 0.4401\n",
      "\n",
      "Epoch 00027: val_loss improved from 2.01513 to 1.85081, saving model to weights.best.letters.model.hdf5\n",
      "Epoch 28/100\n",
      " - 34s - loss: 1.9333 - acc: 0.4124 - val_loss: 1.7703 - val_acc: 0.4717\n",
      "\n",
      "Epoch 00028: val_loss improved from 1.85081 to 1.77030, saving model to weights.best.letters.model.hdf5\n",
      "Epoch 29/100\n",
      " - 34s - loss: 1.8554 - acc: 0.4379 - val_loss: 1.6112 - val_acc: 0.5283\n",
      "\n",
      "Epoch 00029: val_loss improved from 1.77030 to 1.61120, saving model to weights.best.letters.model.hdf5\n",
      "Epoch 30/100\n",
      " - 36s - loss: 1.7146 - acc: 0.4758 - val_loss: 1.5187 - val_acc: 0.5336\n",
      "\n",
      "Epoch 00030: val_loss improved from 1.61120 to 1.51869, saving model to weights.best.letters.model.hdf5\n",
      "Epoch 31/100\n",
      " - 37s - loss: 1.6544 - acc: 0.4987 - val_loss: 1.5573 - val_acc: 0.5534\n",
      "\n",
      "Epoch 00031: val_loss did not improve from 1.51869\n",
      "Epoch 32/100\n",
      " - 36s - loss: 1.5891 - acc: 0.5158 - val_loss: 1.4517 - val_acc: 0.5823\n",
      "\n",
      "Epoch 00032: val_loss improved from 1.51869 to 1.45170, saving model to weights.best.letters.model.hdf5\n",
      "Epoch 33/100\n",
      " - 35s - loss: 1.5000 - acc: 0.5575 - val_loss: 1.3247 - val_acc: 0.6100\n",
      "\n",
      "Epoch 00033: val_loss improved from 1.45170 to 1.32475, saving model to weights.best.letters.model.hdf5\n",
      "Epoch 34/100\n",
      " - 34s - loss: 1.4398 - acc: 0.5627 - val_loss: 1.2139 - val_acc: 0.6350\n",
      "\n",
      "Epoch 00034: val_loss improved from 1.32475 to 1.21387, saving model to weights.best.letters.model.hdf5\n",
      "Epoch 35/100\n",
      " - 37s - loss: 1.3479 - acc: 0.5825 - val_loss: 1.1607 - val_acc: 0.6469\n",
      "\n",
      "Epoch 00035: val_loss improved from 1.21387 to 1.16067, saving model to weights.best.letters.model.hdf5\n",
      "Epoch 36/100\n",
      " - 40s - loss: 1.2935 - acc: 0.6089 - val_loss: 1.0876 - val_acc: 0.6970\n",
      "\n",
      "Epoch 00036: val_loss improved from 1.16067 to 1.08764, saving model to weights.best.letters.model.hdf5\n",
      "Epoch 37/100\n",
      " - 37s - loss: 1.2851 - acc: 0.6070 - val_loss: 1.1692 - val_acc: 0.6456\n",
      "\n",
      "Epoch 00037: val_loss did not improve from 1.08764\n",
      "Epoch 38/100\n",
      " - 37s - loss: 1.2390 - acc: 0.6250 - val_loss: 1.0210 - val_acc: 0.7260\n",
      "\n",
      "Epoch 00038: val_loss improved from 1.08764 to 1.02105, saving model to weights.best.letters.model.hdf5\n",
      "Epoch 39/100\n",
      " - 44s - loss: 1.1529 - acc: 0.6466 - val_loss: 1.0160 - val_acc: 0.6825\n",
      "\n",
      "Epoch 00039: val_loss improved from 1.02105 to 1.01598, saving model to weights.best.letters.model.hdf5\n",
      "Epoch 40/100\n",
      " - 42s - loss: 1.1537 - acc: 0.6367 - val_loss: 0.9967 - val_acc: 0.7194\n",
      "\n",
      "Epoch 00040: val_loss improved from 1.01598 to 0.99674, saving model to weights.best.letters.model.hdf5\n",
      "Epoch 41/100\n",
      " - 40s - loss: 1.0798 - acc: 0.6675 - val_loss: 0.9167 - val_acc: 0.7260\n",
      "\n",
      "Epoch 00041: val_loss improved from 0.99674 to 0.91669, saving model to weights.best.letters.model.hdf5\n",
      "Epoch 42/100\n",
      " - 38s - loss: 1.0402 - acc: 0.6742 - val_loss: 0.9059 - val_acc: 0.7339\n",
      "\n",
      "Epoch 00042: val_loss improved from 0.91669 to 0.90591, saving model to weights.best.letters.model.hdf5\n",
      "Epoch 43/100\n",
      " - 40s - loss: 1.0257 - acc: 0.6899 - val_loss: 0.9519 - val_acc: 0.7075\n",
      "\n",
      "Epoch 00043: val_loss did not improve from 0.90591\n",
      "Epoch 44/100\n",
      " - 38s - loss: 1.0109 - acc: 0.6828 - val_loss: 0.8724 - val_acc: 0.7339\n",
      "\n",
      "Epoch 00044: val_loss improved from 0.90591 to 0.87236, saving model to weights.best.letters.model.hdf5\n",
      "Epoch 45/100\n",
      " - 36s - loss: 0.9869 - acc: 0.6961 - val_loss: 0.8719 - val_acc: 0.7563\n",
      "\n",
      "Epoch 00045: val_loss improved from 0.87236 to 0.87188, saving model to weights.best.letters.model.hdf5\n",
      "Epoch 46/100\n",
      " - 35s - loss: 0.9219 - acc: 0.7176 - val_loss: 0.8267 - val_acc: 0.7523\n",
      "\n",
      "Epoch 00046: val_loss improved from 0.87188 to 0.82668, saving model to weights.best.letters.model.hdf5\n"
     ]
    },
    {
     "name": "stdout",
     "output_type": "stream",
     "text": [
      "Epoch 47/100\n",
      " - 34s - loss: 0.9078 - acc: 0.7144 - val_loss: 0.8031 - val_acc: 0.7391\n",
      "\n",
      "Epoch 00047: val_loss improved from 0.82668 to 0.80308, saving model to weights.best.letters.model.hdf5\n",
      "Epoch 48/100\n",
      " - 34s - loss: 0.8730 - acc: 0.7269 - val_loss: 0.7489 - val_acc: 0.7642\n",
      "\n",
      "Epoch 00048: val_loss improved from 0.80308 to 0.74894, saving model to weights.best.letters.model.hdf5\n",
      "Epoch 49/100\n",
      " - 36s - loss: 0.8384 - acc: 0.7363 - val_loss: 0.8309 - val_acc: 0.7549\n",
      "\n",
      "Epoch 00049: val_loss did not improve from 0.74894\n",
      "Epoch 50/100\n",
      " - 37s - loss: 0.8444 - acc: 0.7414 - val_loss: 0.7351 - val_acc: 0.7694\n",
      "\n",
      "Epoch 00050: val_loss improved from 0.74894 to 0.73506, saving model to weights.best.letters.model.hdf5\n",
      "Epoch 51/100\n",
      " - 38s - loss: 0.8051 - acc: 0.7469 - val_loss: 0.7322 - val_acc: 0.7668\n",
      "\n",
      "Epoch 00051: val_loss improved from 0.73506 to 0.73222, saving model to weights.best.letters.model.hdf5\n",
      "Epoch 52/100\n",
      " - 38s - loss: 0.7664 - acc: 0.7559 - val_loss: 0.6674 - val_acc: 0.7945\n",
      "\n",
      "Epoch 00052: val_loss improved from 0.73222 to 0.66744, saving model to weights.best.letters.model.hdf5\n",
      "Epoch 53/100\n",
      " - 40s - loss: 0.7755 - acc: 0.7484 - val_loss: 0.6965 - val_acc: 0.7879\n",
      "\n",
      "Epoch 00053: val_loss did not improve from 0.66744\n",
      "Epoch 54/100\n",
      " - 45s - loss: 0.7433 - acc: 0.7671 - val_loss: 0.6931 - val_acc: 0.7866\n",
      "\n",
      "Epoch 00054: val_loss did not improve from 0.66744\n",
      "Epoch 55/100\n",
      " - 40s - loss: 0.7171 - acc: 0.7795 - val_loss: 0.6655 - val_acc: 0.8076\n",
      "\n",
      "Epoch 00055: val_loss improved from 0.66744 to 0.66552, saving model to weights.best.letters.model.hdf5\n",
      "Epoch 56/100\n",
      " - 38s - loss: 0.7088 - acc: 0.7731 - val_loss: 0.6290 - val_acc: 0.8011\n",
      "\n",
      "Epoch 00056: val_loss improved from 0.66552 to 0.62897, saving model to weights.best.letters.model.hdf5\n",
      "Epoch 57/100\n",
      " - 34s - loss: 0.6980 - acc: 0.7790 - val_loss: 0.6384 - val_acc: 0.8024\n",
      "\n",
      "Epoch 00057: val_loss did not improve from 0.62897\n",
      "Epoch 58/100\n",
      " - 35s - loss: 0.6852 - acc: 0.7813 - val_loss: 0.8008 - val_acc: 0.7628\n",
      "\n",
      "Epoch 00058: val_loss did not improve from 0.62897\n",
      "Epoch 59/100\n",
      " - 39s - loss: 0.6602 - acc: 0.7907 - val_loss: 0.6373 - val_acc: 0.7879\n",
      "\n",
      "Epoch 00059: val_loss did not improve from 0.62897\n",
      "Epoch 60/100\n",
      " - 38s - loss: 0.6600 - acc: 0.7844 - val_loss: 0.6089 - val_acc: 0.8076\n",
      "\n",
      "Epoch 00060: val_loss improved from 0.62897 to 0.60893, saving model to weights.best.letters.model.hdf5\n",
      "Epoch 61/100\n",
      " - 36s - loss: 0.6506 - acc: 0.8007 - val_loss: 0.5756 - val_acc: 0.8221\n",
      "\n",
      "Epoch 00061: val_loss improved from 0.60893 to 0.57563, saving model to weights.best.letters.model.hdf5\n",
      "Epoch 62/100\n",
      " - 35s - loss: 0.6248 - acc: 0.8029 - val_loss: 0.5672 - val_acc: 0.8327\n",
      "\n",
      "Epoch 00062: val_loss improved from 0.57563 to 0.56721, saving model to weights.best.letters.model.hdf5\n",
      "Epoch 63/100\n",
      " - 35s - loss: 0.6050 - acc: 0.8075 - val_loss: 0.5830 - val_acc: 0.8142\n",
      "\n",
      "Epoch 00063: val_loss did not improve from 0.56721\n",
      "Epoch 64/100\n",
      " - 35s - loss: 0.5877 - acc: 0.8123 - val_loss: 0.5512 - val_acc: 0.8406\n",
      "\n",
      "Epoch 00064: val_loss improved from 0.56721 to 0.55123, saving model to weights.best.letters.model.hdf5\n",
      "Epoch 65/100\n",
      " - 38s - loss: 0.5528 - acc: 0.8205 - val_loss: 0.5574 - val_acc: 0.8445\n",
      "\n",
      "Epoch 00065: val_loss did not improve from 0.55123\n",
      "Epoch 66/100\n",
      " - 44s - loss: 0.5379 - acc: 0.8274 - val_loss: 0.5841 - val_acc: 0.8221\n",
      "\n",
      "Epoch 00066: val_loss did not improve from 0.55123\n",
      "Epoch 67/100\n",
      " - 39s - loss: 0.5426 - acc: 0.8226 - val_loss: 0.5329 - val_acc: 0.8340\n",
      "\n",
      "Epoch 00067: val_loss improved from 0.55123 to 0.53289, saving model to weights.best.letters.model.hdf5\n",
      "Epoch 68/100\n",
      " - 38s - loss: 0.5315 - acc: 0.8300 - val_loss: 0.5696 - val_acc: 0.8169\n",
      "\n",
      "Epoch 00068: val_loss did not improve from 0.53289\n",
      "Epoch 69/100\n",
      " - 43s - loss: 0.5072 - acc: 0.8363 - val_loss: 0.5511 - val_acc: 0.8248\n",
      "\n",
      "Epoch 00069: val_loss did not improve from 0.53289\n",
      "Epoch 70/100\n",
      " - 38s - loss: 0.5211 - acc: 0.8274 - val_loss: 0.5834 - val_acc: 0.8235\n",
      "\n",
      "Epoch 00070: val_loss did not improve from 0.53289\n",
      "Epoch 71/100\n",
      " - 38s - loss: 0.5358 - acc: 0.8304 - val_loss: 0.5398 - val_acc: 0.8287\n",
      "\n",
      "Epoch 00071: val_loss did not improve from 0.53289\n",
      "Epoch 72/100\n",
      " - 35s - loss: 0.4807 - acc: 0.8388 - val_loss: 0.5227 - val_acc: 0.8498\n",
      "\n",
      "Epoch 00072: val_loss improved from 0.53289 to 0.52269, saving model to weights.best.letters.model.hdf5\n",
      "Epoch 73/100\n",
      " - 34s - loss: 0.5305 - acc: 0.8302 - val_loss: 0.5642 - val_acc: 0.8432\n",
      "\n",
      "Epoch 00073: val_loss did not improve from 0.52269\n",
      "Epoch 74/100\n",
      " - 34s - loss: 0.4546 - acc: 0.8500 - val_loss: 0.5085 - val_acc: 0.8340\n",
      "\n",
      "Epoch 00074: val_loss improved from 0.52269 to 0.50853, saving model to weights.best.letters.model.hdf5\n",
      "Epoch 75/100\n",
      " - 34s - loss: 0.4675 - acc: 0.8498 - val_loss: 0.5015 - val_acc: 0.8603\n",
      "\n",
      "Epoch 00075: val_loss improved from 0.50853 to 0.50147, saving model to weights.best.letters.model.hdf5\n",
      "Epoch 76/100\n",
      " - 34s - loss: 0.4587 - acc: 0.8521 - val_loss: 0.5837 - val_acc: 0.8155\n",
      "\n",
      "Epoch 00076: val_loss did not improve from 0.50147\n",
      "Epoch 77/100\n",
      " - 34s - loss: 0.4715 - acc: 0.8454 - val_loss: 0.4871 - val_acc: 0.8393\n",
      "\n",
      "Epoch 00077: val_loss improved from 0.50147 to 0.48710, saving model to weights.best.letters.model.hdf5\n",
      "Epoch 78/100\n",
      " - 34s - loss: 0.4287 - acc: 0.8557 - val_loss: 0.5864 - val_acc: 0.8248\n",
      "\n",
      "Epoch 00078: val_loss did not improve from 0.48710\n",
      "Epoch 79/100\n",
      " - 34s - loss: 0.4345 - acc: 0.8551 - val_loss: 0.4956 - val_acc: 0.8485\n",
      "\n",
      "Epoch 00079: val_loss did not improve from 0.48710\n",
      "Epoch 80/100\n",
      " - 35s - loss: 0.4131 - acc: 0.8720 - val_loss: 0.4882 - val_acc: 0.8617\n",
      "\n",
      "Epoch 00080: val_loss did not improve from 0.48710\n",
      "Epoch 81/100\n",
      " - 35s - loss: 0.4249 - acc: 0.8587 - val_loss: 0.5339 - val_acc: 0.8538\n",
      "\n",
      "Epoch 00081: val_loss did not improve from 0.48710\n",
      "Epoch 82/100\n",
      " - 35s - loss: 0.4159 - acc: 0.8613 - val_loss: 0.6055 - val_acc: 0.8221\n",
      "\n",
      "Epoch 00082: val_loss did not improve from 0.48710\n",
      "Epoch 83/100\n",
      " - 35s - loss: 0.4235 - acc: 0.8635 - val_loss: 0.4903 - val_acc: 0.8458\n",
      "\n",
      "Epoch 00083: val_loss did not improve from 0.48710\n",
      "Epoch 84/100\n",
      " - 35s - loss: 0.3896 - acc: 0.8707 - val_loss: 0.4961 - val_acc: 0.8564\n",
      "\n",
      "Epoch 00084: val_loss did not improve from 0.48710\n",
      "Epoch 85/100\n",
      " - 35s - loss: 0.4244 - acc: 0.8602 - val_loss: 0.4870 - val_acc: 0.8485\n",
      "\n",
      "Epoch 00085: val_loss improved from 0.48710 to 0.48699, saving model to weights.best.letters.model.hdf5\n",
      "Epoch 86/100\n",
      " - 36s - loss: 0.3924 - acc: 0.8706 - val_loss: 0.4653 - val_acc: 0.8669\n",
      "\n",
      "Epoch 00086: val_loss improved from 0.48699 to 0.46530, saving model to weights.best.letters.model.hdf5\n",
      "Epoch 87/100\n",
      " - 35s - loss: 0.3879 - acc: 0.8694 - val_loss: 0.4887 - val_acc: 0.8472\n",
      "\n",
      "Epoch 00087: val_loss did not improve from 0.46530\n",
      "Epoch 88/100\n",
      " - 35s - loss: 0.3936 - acc: 0.8742 - val_loss: 0.4748 - val_acc: 0.8564\n",
      "\n",
      "Epoch 00088: val_loss did not improve from 0.46530\n",
      "Epoch 89/100\n",
      " - 34s - loss: 0.3740 - acc: 0.8803 - val_loss: 0.5242 - val_acc: 0.8340\n",
      "\n",
      "Epoch 00089: val_loss did not improve from 0.46530\n",
      "Epoch 90/100\n",
      " - 34s - loss: 0.3732 - acc: 0.8770 - val_loss: 0.4451 - val_acc: 0.8630\n",
      "\n",
      "Epoch 00090: val_loss improved from 0.46530 to 0.44508, saving model to weights.best.letters.model.hdf5\n",
      "Epoch 91/100\n",
      " - 34s - loss: 0.3876 - acc: 0.8706 - val_loss: 0.5162 - val_acc: 0.8366\n",
      "\n",
      "Epoch 00091: val_loss did not improve from 0.44508\n",
      "Epoch 92/100\n",
      " - 34s - loss: 0.3565 - acc: 0.8783 - val_loss: 0.5071 - val_acc: 0.8458\n",
      "\n",
      "Epoch 00092: val_loss did not improve from 0.44508\n",
      "Epoch 93/100\n",
      " - 36s - loss: 0.3468 - acc: 0.8839 - val_loss: 0.4529 - val_acc: 0.8590\n",
      "\n",
      "Epoch 00093: val_loss did not improve from 0.44508\n",
      "Epoch 94/100\n",
      " - 36s - loss: 0.3591 - acc: 0.8798 - val_loss: 0.4823 - val_acc: 0.8406\n",
      "\n",
      "Epoch 00094: val_loss did not improve from 0.44508\n",
      "Epoch 95/100\n",
      " - 35s - loss: 0.3231 - acc: 0.8888 - val_loss: 0.4674 - val_acc: 0.8564\n",
      "\n",
      "Epoch 00095: val_loss did not improve from 0.44508\n",
      "Epoch 96/100\n",
      " - 34s - loss: 0.3662 - acc: 0.8818 - val_loss: 0.4527 - val_acc: 0.8669\n",
      "\n",
      "Epoch 00096: val_loss did not improve from 0.44508\n",
      "Epoch 97/100\n",
      " - 34s - loss: 0.3433 - acc: 0.8850 - val_loss: 0.4541 - val_acc: 0.8617\n",
      "\n",
      "Epoch 00097: val_loss did not improve from 0.44508\n",
      "Epoch 98/100\n",
      " - 34s - loss: 0.3269 - acc: 0.8918 - val_loss: 0.4155 - val_acc: 0.8748\n",
      "\n",
      "Epoch 00098: val_loss improved from 0.44508 to 0.41545, saving model to weights.best.letters.model.hdf5\n"
     ]
    },
    {
     "name": "stdout",
     "output_type": "stream",
     "text": [
      "Epoch 99/100\n",
      " - 34s - loss: 0.3231 - acc: 0.8920 - val_loss: 0.4405 - val_acc: 0.8603\n",
      "\n",
      "Epoch 00099: val_loss did not improve from 0.41545\n",
      "Epoch 100/100\n",
      " - 34s - loss: 0.3237 - acc: 0.8939 - val_loss: 0.4865 - val_acc: 0.8524\n",
      "\n",
      "Epoch 00100: val_loss did not improve from 0.41545\n"
     ]
    }
   ],
   "source": [
    "# Train the model\n",
    "history = model.fit(x_train, y_train, \n",
    "                    epochs=100, batch_size=64, verbose=2,\n",
    "                    validation_data=(x_valid, y_valid),\n",
    "                    callbacks=[checkpointer])"
   ]
  },
  {
   "cell_type": "markdown",
   "metadata": {},
   "source": [
    "We should have an accuracy greater than 3%"
   ]
  },
  {
   "cell_type": "code",
   "execution_count": 32,
   "metadata": {},
   "outputs": [
    {
     "name": "stdout",
     "output_type": "stream",
     "text": [
      "759/759 [==============================] - 4s 5ms/step\n"
     ]
    },
    {
     "data": {
      "text/plain": [
       "[0.41009520742261835, 0.8787878794161227]"
      ]
     },
     "execution_count": 32,
     "metadata": {},
     "output_type": "execute_result"
    }
   ],
   "source": [
    "# Load the model with the best validation accuracy\n",
    "model.load_weights('weights.best.letters.model.hdf5')\n",
    "# Calculate classification accuracy on the testing set\n",
    "score = model.evaluate(x_test, y_test)\n",
    "score"
   ]
  },
  {
   "cell_type": "markdown",
   "metadata": {},
   "source": [
    "Apply the ImageDataGenerator() function."
   ]
  },
  {
   "cell_type": "code",
   "execution_count": 35,
   "metadata": {},
   "outputs": [
    {
     "name": "stdout",
     "output_type": "stream",
     "text": [
      "Epoch 1/10\n",
      " - 403s - loss: 0.8083 - acc: 0.7530 - val_loss: 0.4721 - val_acc: 0.8630\n",
      "\n",
      "Epoch 00001: val_loss improved from inf to 0.47210, saving model to weights.best.letters.model.hdf5\n",
      "Epoch 2/10\n",
      " - 385s - loss: 0.6892 - acc: 0.7850 - val_loss: 0.4063 - val_acc: 0.8682\n",
      "\n",
      "Epoch 00002: val_loss improved from 0.47210 to 0.40633, saving model to weights.best.letters.model.hdf5\n",
      "Epoch 3/10\n",
      " - 396s - loss: 0.6359 - acc: 0.7989 - val_loss: 0.4051 - val_acc: 0.8682\n",
      "\n",
      "Epoch 00003: val_loss improved from 0.40633 to 0.40511, saving model to weights.best.letters.model.hdf5\n",
      "Epoch 4/10\n",
      " - 389s - loss: 0.5756 - acc: 0.8162 - val_loss: 0.3857 - val_acc: 0.8854\n",
      "\n",
      "Epoch 00004: val_loss improved from 0.40511 to 0.38570, saving model to weights.best.letters.model.hdf5\n",
      "Epoch 5/10\n",
      " - 363s - loss: 0.5420 - acc: 0.8280 - val_loss: 0.3037 - val_acc: 0.8959\n",
      "\n",
      "Epoch 00005: val_loss improved from 0.38570 to 0.30371, saving model to weights.best.letters.model.hdf5\n",
      "Epoch 6/10\n",
      " - 364s - loss: 0.5104 - acc: 0.8360 - val_loss: 0.3152 - val_acc: 0.8999\n",
      "\n",
      "Epoch 00006: val_loss did not improve from 0.30371\n",
      "Epoch 7/10\n",
      " - 362s - loss: 0.4908 - acc: 0.8442 - val_loss: 0.3073 - val_acc: 0.8933\n",
      "\n",
      "Epoch 00007: val_loss did not improve from 0.30371\n",
      "Epoch 8/10\n",
      " - 359s - loss: 0.4532 - acc: 0.8557 - val_loss: 0.3288 - val_acc: 0.8946\n",
      "\n",
      "Epoch 00008: val_loss did not improve from 0.30371\n",
      "Epoch 9/10\n",
      " - 370s - loss: 0.4446 - acc: 0.8573 - val_loss: 0.3139 - val_acc: 0.8999\n",
      "\n",
      "Epoch 00009: val_loss did not improve from 0.30371\n",
      "Epoch 10/10\n",
      " - 405s - loss: 0.4206 - acc: 0.8644 - val_loss: 0.2835 - val_acc: 0.9065\n",
      "\n",
      "Epoch 00010: val_loss improved from 0.30371 to 0.28353, saving model to weights.best.letters.model.hdf5\n"
     ]
    }
   ],
   "source": [
    "# Fit the model with ImageDataGenerator()\n",
    "# TODO: Define parameters\n",
    "steps, epochs = 1000, 10\n",
    "data_generator = ImageDataGenerator(zoom_range=0.2, shear_range=0.2, rotation_range=20)\n",
    "\n",
    "generator = model.fit_generator(data_generator.flow(x_train, y_train, batch_size=64),\n",
    "                                steps_per_epoch=steps, epochs=epochs,\n",
    "                                validation_data=(x_valid, y_valid), \n",
    "                                callbacks=[checkpointer], verbose=2)"
   ]
  },
  {
   "cell_type": "code",
   "execution_count": 36,
   "metadata": {},
   "outputs": [
    {
     "name": "stdout",
     "output_type": "stream",
     "text": [
      "759/759 [==============================] - 1s 2ms/step\n"
     ]
    },
    {
     "data": {
      "text/plain": [
       "[0.2782733061096885, 0.9209486172290344]"
      ]
     },
     "execution_count": 36,
     "metadata": {},
     "output_type": "execute_result"
    }
   ],
   "source": [
    "# Load the model with the best validation accuracy\n",
    "model.load_weights('weights.best.letters.model.hdf5')\n",
    "# Calculate classification accuracy on the testing set\n",
    "score = model.evaluate(x_test, y_test)\n",
    "score"
   ]
  },
  {
   "cell_type": "markdown",
   "metadata": {},
   "source": [
    "Let's compare the results with classifying algorithms."
   ]
  },
  {
   "cell_type": "code",
   "execution_count": 86,
   "metadata": {},
   "outputs": [
    {
     "data": {
      "text/plain": [
       "0.25296442687747034"
      ]
     },
     "execution_count": 86,
     "metadata": {},
     "output_type": "execute_result"
    }
   ],
   "source": [
    "# Fit the classifier and get the accuracy score\n",
    "y_train_c = np.array([np.argmax(y) for y in y_train])\n",
    "y_test_c = np.array([np.argmax(y) for y in y_test])\n",
    "clf = GradientBoostingClassifier().fit(x_train.reshape(-1, 32*32*3), y_train_c)\n",
    "clf.score(x_test.reshape(-1, 32*32*3), y_test_c)"
   ]
  },
  {
   "cell_type": "code",
   "execution_count": 87,
   "metadata": {},
   "outputs": [
    {
     "data": {
      "text/plain": [
       "0.21870882740447958"
      ]
     },
     "execution_count": 87,
     "metadata": {},
     "output_type": "execute_result"
    }
   ],
   "source": [
    "# Fit the classifier and get the accuracy score\n",
    "clf2 = RandomForestClassifier().fit(x_train.reshape(-1, 32*32*3), y_train_c)\n",
    "clf2.score(x_test.reshape(-1, 32*32*3), y_test_c)"
   ]
  },
  {
   "cell_type": "markdown",
   "metadata": {},
   "source": [
    "### Grayscaled Images\n",
    "Define a model architecture and compile the model for grayscaled images."
   ]
  },
  {
   "cell_type": "code",
   "execution_count": 37,
   "metadata": {},
   "outputs": [],
   "source": [
    "def gray_model():\n",
    "    model = Sequential()\n",
    "    \n",
    "    # Define a model architecture\n",
    "    model.add(Conv2D(32, (5, 5), padding='same', input_shape=x_train2.shape[1:]))\n",
    "    model.add(LeakyReLU(alpha=0.02))    \n",
    "    model.add(MaxPooling2D(pool_size=(2, 2)))\n",
    "    model.add(Dropout(0.25))\n",
    "\n",
    "    model.add(Conv2D(128, (5, 5)))\n",
    "    model.add(LeakyReLU(alpha=0.02))    \n",
    "    model.add(MaxPooling2D(pool_size=(2, 2)))\n",
    "    model.add(Dropout(0.25))\n",
    "    \n",
    "    model.add(GlobalMaxPooling2D()) \n",
    "    \n",
    "    model.add(Dense(1024))\n",
    "    model.add(LeakyReLU(alpha=0.02)) \n",
    "    model.add(Dropout(0.25)) \n",
    "    \n",
    "    model.add(Dense(128))\n",
    "    model.add(LeakyReLU(alpha=0.02)) \n",
    "    model.add(Dropout(0.25))    \n",
    "\n",
    "    model.add(Dense(33))\n",
    "    model.add(Activation('softmax'))\n",
    "    \n",
    "    # Compile the model\n",
    "    model.compile(loss='categorical_crossentropy', optimizer='rmsprop', metrics=['accuracy'])\n",
    "    \n",
    "    return model\n",
    "\n",
    "gray_model = gray_model()"
   ]
  },
  {
   "cell_type": "code",
   "execution_count": 38,
   "metadata": {},
   "outputs": [],
   "source": [
    "gray_checkpointer = ModelCheckpoint(filepath='weights.best.letters.gray_model.hdf5', \n",
    "                                    verbose=2, save_best_only=True)"
   ]
  },
  {
   "cell_type": "code",
   "execution_count": 53,
   "metadata": {
    "scrolled": false
   },
   "outputs": [
    {
     "name": "stdout",
     "output_type": "stream",
     "text": [
      "\n",
      "Epoch 00001: val_loss improved from inf to 3.49205, saving model to weights.best.letters.gray_model.hdf5\n",
      "\n",
      "Epoch 00002: val_loss improved from 3.49205 to 3.42396, saving model to weights.best.letters.gray_model.hdf5\n",
      "\n",
      "Epoch 00003: val_loss improved from 3.42396 to 3.40152, saving model to weights.best.letters.gray_model.hdf5\n",
      "\n",
      "Epoch 00004: val_loss did not improve from 3.40152\n",
      "\n",
      "Epoch 00005: val_loss improved from 3.40152 to 3.37310, saving model to weights.best.letters.gray_model.hdf5\n",
      "\n",
      "Epoch 00006: val_loss improved from 3.37310 to 3.32898, saving model to weights.best.letters.gray_model.hdf5\n",
      "\n",
      "Epoch 00007: val_loss improved from 3.32898 to 3.21467, saving model to weights.best.letters.gray_model.hdf5\n",
      "\n",
      "Epoch 00008: val_loss improved from 3.21467 to 2.99934, saving model to weights.best.letters.gray_model.hdf5\n",
      "\n",
      "Epoch 00009: val_loss improved from 2.99934 to 2.89259, saving model to weights.best.letters.gray_model.hdf5\n",
      "\n",
      "Epoch 00010: val_loss improved from 2.89259 to 2.56374, saving model to weights.best.letters.gray_model.hdf5\n",
      "\n",
      "Epoch 00011: val_loss did not improve from 2.56374\n",
      "\n",
      "Epoch 00012: val_loss improved from 2.56374 to 2.34020, saving model to weights.best.letters.gray_model.hdf5\n",
      "\n",
      "Epoch 00013: val_loss improved from 2.34020 to 2.22500, saving model to weights.best.letters.gray_model.hdf5\n",
      "\n",
      "Epoch 00014: val_loss did not improve from 2.22500\n",
      "\n",
      "Epoch 00015: val_loss improved from 2.22500 to 2.04112, saving model to weights.best.letters.gray_model.hdf5\n",
      "\n",
      "Epoch 00016: val_loss improved from 2.04112 to 1.77666, saving model to weights.best.letters.gray_model.hdf5\n",
      "\n",
      "Epoch 00017: val_loss improved from 1.77666 to 1.76763, saving model to weights.best.letters.gray_model.hdf5\n",
      "\n",
      "Epoch 00018: val_loss improved from 1.76763 to 1.53015, saving model to weights.best.letters.gray_model.hdf5\n",
      "\n",
      "Epoch 00019: val_loss did not improve from 1.53015\n",
      "\n",
      "Epoch 00020: val_loss improved from 1.53015 to 1.45172, saving model to weights.best.letters.gray_model.hdf5\n",
      "\n",
      "Epoch 00021: val_loss improved from 1.45172 to 1.37342, saving model to weights.best.letters.gray_model.hdf5\n",
      "\n",
      "Epoch 00022: val_loss did not improve from 1.37342\n",
      "\n",
      "Epoch 00023: val_loss improved from 1.37342 to 1.31681, saving model to weights.best.letters.gray_model.hdf5\n",
      "\n",
      "Epoch 00024: val_loss did not improve from 1.31681\n",
      "\n",
      "Epoch 00025: val_loss improved from 1.31681 to 1.27389, saving model to weights.best.letters.gray_model.hdf5\n",
      "\n",
      "Epoch 00026: val_loss improved from 1.27389 to 1.09925, saving model to weights.best.letters.gray_model.hdf5\n",
      "\n",
      "Epoch 00027: val_loss improved from 1.09925 to 1.05474, saving model to weights.best.letters.gray_model.hdf5\n",
      "\n",
      "Epoch 00028: val_loss did not improve from 1.05474\n",
      "\n",
      "Epoch 00029: val_loss improved from 1.05474 to 0.95061, saving model to weights.best.letters.gray_model.hdf5\n",
      "\n",
      "Epoch 00030: val_loss did not improve from 0.95061\n",
      "\n",
      "Epoch 00031: val_loss improved from 0.95061 to 0.87738, saving model to weights.best.letters.gray_model.hdf5\n",
      "\n",
      "Epoch 00032: val_loss improved from 0.87738 to 0.86876, saving model to weights.best.letters.gray_model.hdf5\n",
      "\n",
      "Epoch 00033: val_loss improved from 0.86876 to 0.86680, saving model to weights.best.letters.gray_model.hdf5\n",
      "\n",
      "Epoch 00034: val_loss improved from 0.86680 to 0.84466, saving model to weights.best.letters.gray_model.hdf5\n",
      "\n",
      "Epoch 00035: val_loss did not improve from 0.84466\n",
      "\n",
      "Epoch 00036: val_loss did not improve from 0.84466\n",
      "\n",
      "Epoch 00037: val_loss improved from 0.84466 to 0.76588, saving model to weights.best.letters.gray_model.hdf5\n",
      "\n",
      "Epoch 00038: val_loss improved from 0.76588 to 0.73786, saving model to weights.best.letters.gray_model.hdf5\n",
      "\n",
      "Epoch 00039: val_loss did not improve from 0.73786\n",
      "\n",
      "Epoch 00040: val_loss improved from 0.73786 to 0.72084, saving model to weights.best.letters.gray_model.hdf5\n",
      "\n",
      "Epoch 00041: val_loss improved from 0.72084 to 0.72049, saving model to weights.best.letters.gray_model.hdf5\n",
      "\n",
      "Epoch 00042: val_loss improved from 0.72049 to 0.65537, saving model to weights.best.letters.gray_model.hdf5\n",
      "\n",
      "Epoch 00043: val_loss did not improve from 0.65537\n",
      "\n",
      "Epoch 00044: val_loss did not improve from 0.65537\n",
      "\n",
      "Epoch 00045: val_loss did not improve from 0.65537\n",
      "\n",
      "Epoch 00046: val_loss did not improve from 0.65537\n",
      "\n",
      "Epoch 00047: val_loss did not improve from 0.65537\n",
      "\n",
      "Epoch 00048: val_loss did not improve from 0.65537\n",
      "\n",
      "Epoch 00049: val_loss did not improve from 0.65537\n",
      "\n",
      "Epoch 00050: val_loss improved from 0.65537 to 0.61516, saving model to weights.best.letters.gray_model.hdf5\n",
      "\n",
      "Epoch 00051: val_loss improved from 0.61516 to 0.60383, saving model to weights.best.letters.gray_model.hdf5\n",
      "\n",
      "Epoch 00052: val_loss did not improve from 0.60383\n",
      "\n",
      "Epoch 00053: val_loss did not improve from 0.60383\n",
      "\n",
      "Epoch 00054: val_loss did not improve from 0.60383\n",
      "\n",
      "Epoch 00055: val_loss did not improve from 0.60383\n",
      "\n",
      "Epoch 00056: val_loss did not improve from 0.60383\n",
      "\n",
      "Epoch 00057: val_loss did not improve from 0.60383\n",
      "\n",
      "Epoch 00058: val_loss did not improve from 0.60383\n",
      "\n",
      "Epoch 00059: val_loss improved from 0.60383 to 0.54648, saving model to weights.best.letters.gray_model.hdf5\n",
      "\n",
      "Epoch 00060: val_loss did not improve from 0.54648\n",
      "\n",
      "Epoch 00061: val_loss improved from 0.54648 to 0.54232, saving model to weights.best.letters.gray_model.hdf5\n",
      "\n",
      "Epoch 00062: val_loss did not improve from 0.54232\n",
      "\n",
      "Epoch 00063: val_loss did not improve from 0.54232\n",
      "\n",
      "Epoch 00064: val_loss did not improve from 0.54232\n",
      "\n",
      "Epoch 00065: val_loss did not improve from 0.54232\n",
      "\n",
      "Epoch 00066: val_loss improved from 0.54232 to 0.49774, saving model to weights.best.letters.gray_model.hdf5\n",
      "\n",
      "Epoch 00067: val_loss did not improve from 0.49774\n",
      "\n",
      "Epoch 00068: val_loss did not improve from 0.49774\n",
      "\n",
      "Epoch 00069: val_loss did not improve from 0.49774\n",
      "\n",
      "Epoch 00070: val_loss did not improve from 0.49774\n",
      "\n",
      "Epoch 00071: val_loss did not improve from 0.49774\n",
      "\n",
      "Epoch 00072: val_loss did not improve from 0.49774\n",
      "\n",
      "Epoch 00073: val_loss did not improve from 0.49774\n",
      "\n",
      "Epoch 00074: val_loss did not improve from 0.49774\n",
      "\n",
      "Epoch 00075: val_loss did not improve from 0.49774\n",
      "\n",
      "Epoch 00076: val_loss did not improve from 0.49774\n",
      "\n",
      "Epoch 00077: val_loss did not improve from 0.49774\n",
      "\n",
      "Epoch 00078: val_loss did not improve from 0.49774\n",
      "\n",
      "Epoch 00079: val_loss did not improve from 0.49774\n",
      "\n",
      "Epoch 00080: val_loss did not improve from 0.49774\n",
      "\n",
      "Epoch 00081: val_loss did not improve from 0.49774\n",
      "\n",
      "Epoch 00082: val_loss improved from 0.49774 to 0.49454, saving model to weights.best.letters.gray_model.hdf5\n",
      "\n",
      "Epoch 00083: val_loss did not improve from 0.49454\n",
      "\n",
      "Epoch 00084: val_loss did not improve from 0.49454\n",
      "\n",
      "Epoch 00085: val_loss improved from 0.49454 to 0.47416, saving model to weights.best.letters.gray_model.hdf5\n",
      "\n",
      "Epoch 00086: val_loss did not improve from 0.47416\n",
      "\n",
      "Epoch 00087: val_loss did not improve from 0.47416\n",
      "\n",
      "Epoch 00088: val_loss did not improve from 0.47416\n",
      "\n",
      "Epoch 00089: val_loss did not improve from 0.47416\n",
      "\n",
      "Epoch 00090: val_loss did not improve from 0.47416\n",
      "\n",
      "Epoch 00091: val_loss did not improve from 0.47416\n",
      "\n",
      "Epoch 00092: val_loss did not improve from 0.47416\n",
      "\n",
      "Epoch 00093: val_loss did not improve from 0.47416\n",
      "\n",
      "Epoch 00094: val_loss did not improve from 0.47416\n",
      "\n",
      "Epoch 00095: val_loss did not improve from 0.47416\n",
      "\n",
      "Epoch 00096: val_loss did not improve from 0.47416\n",
      "\n",
      "Epoch 00097: val_loss did not improve from 0.47416\n",
      "\n",
      "Epoch 00098: val_loss did not improve from 0.47416\n",
      "\n",
      "Epoch 00099: val_loss improved from 0.47416 to 0.45422, saving model to weights.best.letters.gray_model.hdf5\n",
      "\n",
      "Epoch 00100: val_loss did not improve from 0.45422\n"
     ]
    }
   ],
   "source": [
    "# Train the model\n",
    "gray_history = gray_model.fit(x_train2, y_train2, \n",
    "                              epochs=100, batch_size=64, verbose=0,\n",
    "                              validation_data=(x_valid2, y_valid2),\n",
    "                              callbacks=[gray_checkpointer])"
   ]
  },
  {
   "cell_type": "code",
   "execution_count": 54,
   "metadata": {},
   "outputs": [
    {
     "data": {
      "image/png": "[encoded data removed]",
      "text/plain": [
       "<matplotlib.figure.Figure at 0x125616da0>"
      ]
     },
     "metadata": {},
     "output_type": "display_data"
    }
   ],
   "source": [
    "# Plot the training history\n",
    "history_plot(gray_history, 0)"
   ]
  },
  {
   "cell_type": "markdown",
   "metadata": {},
   "source": [
    "Try to reach an accuracy greater than 80%"
   ]
  },
  {
   "cell_type": "code",
   "execution_count": 55,
   "metadata": {},
   "outputs": [
    {
     "name": "stdout",
     "output_type": "stream",
     "text": [
      "759/759 [==============================] - 2s 3ms/step\n"
     ]
    },
    {
     "data": {
      "text/plain": [
       "[0.5873400140578253, 0.836627141289089]"
      ]
     },
     "execution_count": 55,
     "metadata": {},
     "output_type": "execute_result"
    }
   ],
   "source": [
    "# Load the model with the best validation accuracy\n",
    "gray_model.load_weights('weights.best.letters.gray_model.hdf5')\n",
    "# Calculate classification accuracy on the testing set\n",
    "gray_score = gray_model.evaluate(x_test2, y_test2)\n",
    "gray_score"
   ]
  },
  {
   "cell_type": "markdown",
   "metadata": {},
   "source": [
    "Apply the ImageDataGenerator() function."
   ]
  },
  {
   "cell_type": "code",
   "execution_count": 39,
   "metadata": {},
   "outputs": [
    {
     "name": "stdout",
     "output_type": "stream",
     "text": [
      "Epoch 1/10\n",
      "Epoch 00000: val_loss did not improve\n",
      "306s - loss: 1.3917 - acc: 0.5991 - val_loss: 0.7545 - val_acc: 0.7931\n",
      "Epoch 2/10\n",
      "Epoch 00001: val_loss did not improve\n",
      "313s - loss: 1.3115 - acc: 0.6195 - val_loss: 0.5701 - val_acc: 0.8327\n",
      "Epoch 3/10\n",
      "Epoch 00002: val_loss did not improve\n",
      "337s - loss: 1.2793 - acc: 0.6314 - val_loss: 0.6493 - val_acc: 0.8103\n",
      "Epoch 4/10\n",
      "Epoch 00003: val_loss improved from 0.56455 to 0.53525, saving model to weights.best.letters.gray_model.hdf5\n",
      "330s - loss: 1.2487 - acc: 0.6383 - val_loss: 0.5352 - val_acc: 0.8406\n",
      "Epoch 5/10\n",
      "Epoch 00004: val_loss did not improve\n",
      "316s - loss: 1.2331 - acc: 0.6450 - val_loss: 0.5956 - val_acc: 0.8235\n",
      "Epoch 6/10\n",
      "Epoch 00005: val_loss did not improve\n",
      "335s - loss: 1.2352 - acc: 0.6487 - val_loss: 0.5874 - val_acc: 0.8195\n",
      "Epoch 7/10\n",
      "Epoch 00006: val_loss did not improve\n",
      "299s - loss: 1.2192 - acc: 0.6542 - val_loss: 0.6007 - val_acc: 0.8235\n",
      "Epoch 8/10\n",
      "Epoch 00007: val_loss did not improve\n",
      "294s - loss: 1.2197 - acc: 0.6533 - val_loss: 0.8374 - val_acc: 0.7655\n",
      "Epoch 9/10\n",
      "Epoch 00008: val_loss did not improve\n",
      "297s - loss: 1.2207 - acc: 0.6562 - val_loss: 0.5838 - val_acc: 0.8195\n",
      "Epoch 10/10\n",
      "Epoch 00009: val_loss did not improve\n",
      "295s - loss: 1.2367 - acc: 0.6543 - val_loss: 0.7807 - val_acc: 0.7800\n"
     ]
    }
   ],
   "source": [
    "# Fit the model with ImageDataGenerator()\n",
    "# TODO: Define parameters\n",
    "steps, epochs = 1000, 10\n",
    "data_generator = ImageDataGenerator(zoom_range=0.2, shear_range=0.2, rotation_range=20)\n",
    "\n",
    "gray_generator = gray_model.fit_generator(data_generator.flow(x_train2, y_train2, batch_size=64),\n",
    "                                          steps_per_epoch = steps, epochs = epochs,\n",
    "                                          validation_data = (x_test2, y_test2), \n",
    "                                          callbacks=[gray_checkpointer], verbose=2)"
   ]
  },
  {
   "cell_type": "code",
   "execution_count": 40,
   "metadata": {},
   "outputs": [
    {
     "name": "stdout",
     "output_type": "stream",
     "text": [
      "736/759 [============================>.] - ETA: 0s"
     ]
    },
    {
     "data": {
      "text/plain": [
       "[0.53524808253852429, 0.84057971045904956]"
      ]
     },
     "execution_count": 40,
     "metadata": {},
     "output_type": "execute_result"
    }
   ],
   "source": [
    "# Load the model with the best validation accuracy\n",
    "gray_model.load_weights('weights.best.letters.gray_model.hdf5')\n",
    "# Calculate classification accuracy on the testing set\n",
    "gray_score = gray_model.evaluate(x_test2, y_test2)\n",
    "gray_score"
   ]
  },
  {
   "cell_type": "markdown",
   "metadata": {},
   "source": [
    "Let's compare the results with classifying algorithms."
   ]
  },
  {
   "cell_type": "code",
   "execution_count": 41,
   "metadata": {},
   "outputs": [
    {
     "data": {
      "text/plain": [
       "0.22924901185770752"
      ]
     },
     "execution_count": 41,
     "metadata": {},
     "output_type": "execute_result"
    }
   ],
   "source": [
    "# Fit the classifier and get the accuracy score\n",
    "y_train2_c = np.array([np.argmax(y) for y in y_train2])\n",
    "y_test2_c = np.array([np.argmax(y) for y in y_test2])\n",
    "clf = GradientBoostingClassifier().fit(x_train2.reshape(-1, 32*32), y_train2_c)\n",
    "clf.score(x_test2.reshape(-1, 32*32), y_test2_c)"
   ]
  },
  {
   "cell_type": "code",
   "execution_count": 42,
   "metadata": {},
   "outputs": [
    {
     "data": {
      "text/plain": [
       "0.1541501976284585"
      ]
     },
     "execution_count": 42,
     "metadata": {},
     "output_type": "execute_result"
    }
   ],
   "source": [
    "# Fit the classifier and get the accuracy score\n",
    "clf2 = RandomForestClassifier().fit(x_train2.reshape(-1, 32*32), y_train2_c)\n",
    "clf2.score(x_test2.reshape(-1, 32*32), y_test2_c)"
   ]
  },
  {
   "cell_type": "markdown",
   "metadata": {},
   "source": [
    "## Step 5. Create a Multi-Label Classification Model\n",
    "### Color Images"
   ]
  },
  {
   "cell_type": "code",
   "execution_count": 35,
   "metadata": {
    "collapsed": true
   },
   "outputs": [],
   "source": [
    "def multi_model():    \n",
    "    model_input = Input(shape=(32, 32, 3))\n",
    "    x = BatchNormalization()(model_input)\n",
    "    # TODO: Define a model architecture\n",
    "    x = Conv2D(32, (5, 5), activation='relu', padding='same')(model_input)\n",
    "    x = MaxPooling2D(pool_size=(2, 2))(x)    \n",
    "    x = Dropout(0.25)(x)\n",
    "    \n",
    "    x = Conv2D(128, (5, 5), activation='relu', padding='same')(x)       \n",
    "    x = MaxPooling2D(pool_size=(2, 2))(x)    \n",
    "    x = Dropout(0.25)(x)\n",
    "              \n",
    "    x = GlobalMaxPooling2D()(x)\n",
    "    \n",
    "    x = Dense(1024, activation='relu')(x)    \n",
    "    x = Dropout(0.25)(x)\n",
    "    \n",
    "#    x = Dense(128, activation='relu')(x)    \n",
    "#    x = Dropout(0.25)(x)    \n",
    "    \n",
    "    y1 = Dense(33, activation='softmax')(x)\n",
    "    y2 = Dense(3, activation='softmax')(x)\n",
    "    \n",
    "    model = Model(inputs=model_input, outputs=[y1, y2])\n",
    "    \n",
    "    # TODO: Compile the model\n",
    "    model.compile(loss='categorical_crossentropy', optimizer='adam', metrics=['accuracy'])\n",
    "    return model\n",
    "\n",
    "multi_model = multi_model()"
   ]
  },
  {
   "cell_type": "code",
   "execution_count": 36,
   "metadata": {},
   "outputs": [
    {
     "name": "stdout",
     "output_type": "stream",
     "text": [
      "____________________________________________________________________________________________________\n",
      "Layer (type)                     Output Shape          Param #     Connected to                     \n",
      "====================================================================================================\n",
      "input_1 (InputLayer)             (None, 32, 32, 3)     0                                            \n",
      "____________________________________________________________________________________________________\n",
      "conv2d_1 (Conv2D)                (None, 32, 32, 32)    2432        input_1[0][0]                    \n",
      "____________________________________________________________________________________________________\n",
      "max_pooling2d_1 (MaxPooling2D)   (None, 16, 16, 32)    0           conv2d_1[0][0]                   \n",
      "____________________________________________________________________________________________________\n",
      "dropout_1 (Dropout)              (None, 16, 16, 32)    0           max_pooling2d_1[0][0]            \n",
      "____________________________________________________________________________________________________\n",
      "conv2d_2 (Conv2D)                (None, 16, 16, 128)   102528      dropout_1[0][0]                  \n",
      "____________________________________________________________________________________________________\n",
      "max_pooling2d_2 (MaxPooling2D)   (None, 8, 8, 128)     0           conv2d_2[0][0]                   \n",
      "____________________________________________________________________________________________________\n",
      "dropout_2 (Dropout)              (None, 8, 8, 128)     0           max_pooling2d_2[0][0]            \n",
      "____________________________________________________________________________________________________\n",
      "global_max_pooling2d_1 (GlobalMa (None, 128)           0           dropout_2[0][0]                  \n",
      "____________________________________________________________________________________________________\n",
      "dense_1 (Dense)                  (None, 1024)          132096      global_max_pooling2d_1[0][0]     \n",
      "____________________________________________________________________________________________________\n",
      "dropout_3 (Dropout)              (None, 1024)          0           dense_1[0][0]                    \n",
      "____________________________________________________________________________________________________\n",
      "dense_2 (Dense)                  (None, 33)            33825       dropout_3[0][0]                  \n",
      "____________________________________________________________________________________________________\n",
      "dense_3 (Dense)                  (None, 3)             3075        dropout_3[0][0]                  \n",
      "====================================================================================================\n",
      "Total params: 273,956\n",
      "Trainable params: 273,956\n",
      "Non-trainable params: 0\n",
      "____________________________________________________________________________________________________\n"
     ]
    }
   ],
   "source": [
    "# Display the model architecture\n",
    "multi_model.summary()"
   ]
  },
  {
   "cell_type": "code",
   "execution_count": 37,
   "metadata": {},
   "outputs": [
    {
     "name": "stdout",
     "output_type": "stream",
     "text": [
      "Epoch 00000: val_loss improved from inf to 4.24103, saving model to weights.best.letters.multi.hdf5\n",
      "Epoch 00001: val_loss did not improve\n",
      "Epoch 00002: val_loss improved from 4.24103 to 4.21858, saving model to weights.best.letters.multi.hdf5\n",
      "Epoch 00003: val_loss improved from 4.21858 to 4.14341, saving model to weights.best.letters.multi.hdf5\n",
      "Epoch 00004: val_loss improved from 4.14341 to 4.09419, saving model to weights.best.letters.multi.hdf5\n",
      "Epoch 00005: val_loss improved from 4.09419 to 4.09170, saving model to weights.best.letters.multi.hdf5\n",
      "Epoch 00006: val_loss improved from 4.09170 to 4.08563, saving model to weights.best.letters.multi.hdf5\n",
      "Epoch 00007: val_loss improved from 4.08563 to 4.07615, saving model to weights.best.letters.multi.hdf5\n",
      "Epoch 00008: val_loss improved from 4.07615 to 3.96762, saving model to weights.best.letters.multi.hdf5\n",
      "Epoch 00009: val_loss improved from 3.96762 to 3.82059, saving model to weights.best.letters.multi.hdf5\n",
      "Epoch 00010: val_loss improved from 3.82059 to 3.76746, saving model to weights.best.letters.multi.hdf5\n",
      "Epoch 00011: val_loss improved from 3.76746 to 3.56167, saving model to weights.best.letters.multi.hdf5\n",
      "Epoch 00012: val_loss did not improve\n",
      "Epoch 00013: val_loss improved from 3.56167 to 3.52598, saving model to weights.best.letters.multi.hdf5\n",
      "Epoch 00014: val_loss improved from 3.52598 to 3.44174, saving model to weights.best.letters.multi.hdf5\n",
      "Epoch 00015: val_loss improved from 3.44174 to 3.28350, saving model to weights.best.letters.multi.hdf5\n",
      "Epoch 00016: val_loss did not improve\n",
      "Epoch 00017: val_loss improved from 3.28350 to 3.21433, saving model to weights.best.letters.multi.hdf5\n",
      "Epoch 00018: val_loss improved from 3.21433 to 3.13028, saving model to weights.best.letters.multi.hdf5\n",
      "Epoch 00019: val_loss improved from 3.13028 to 3.01444, saving model to weights.best.letters.multi.hdf5\n",
      "Epoch 00020: val_loss did not improve\n",
      "Epoch 00021: val_loss improved from 3.01444 to 2.86931, saving model to weights.best.letters.multi.hdf5\n",
      "Epoch 00022: val_loss did not improve\n",
      "Epoch 00023: val_loss did not improve\n",
      "Epoch 00024: val_loss improved from 2.86931 to 2.78363, saving model to weights.best.letters.multi.hdf5\n",
      "Epoch 00025: val_loss did not improve\n",
      "Epoch 00026: val_loss did not improve\n",
      "Epoch 00027: val_loss did not improve\n",
      "Epoch 00028: val_loss did not improve\n",
      "Epoch 00029: val_loss did not improve\n"
     ]
    }
   ],
   "source": [
    "# Train the model\n",
    "multi_checkpointer = ModelCheckpoint(filepath='weights.best.letters.multi.hdf5', \n",
    "                                     verbose=2, save_best_only=True)\n",
    "multi_history = multi_model.fit(x_train3, y_train3_list, \n",
    "                                validation_data=(x_test3, y_test3_list), \n",
    "                                epochs=30, batch_size=64, verbose=0, \n",
    "                                callbacks=[multi_checkpointer])"
   ]
  },
  {
   "cell_type": "markdown",
   "metadata": {},
   "source": [
    "We should have an accuracy greater than 3% for the first target (letter) and 30% for the second target (background)."
   ]
  },
  {
   "cell_type": "code",
   "execution_count": 38,
   "metadata": {},
   "outputs": [
    {
     "name": "stdout",
     "output_type": "stream",
     "text": [
      "Scores: \n",
      " [2.7836263308569063, 1.7998781450809382, 0.98374816928456421, 0.51646903742286365, 0.6613965736547478]\n",
      "First label. Accuracy: 51.65%\n",
      "Second label. Accuracy: 66.14%\n"
     ]
    }
   ],
   "source": [
    "# Load the model with the best validation accuracy\n",
    "multi_model.load_weights('weights.best.letters.multi.hdf5')\n",
    "# Calculate classification accuracy on the testing set\n",
    "multi_scores = multi_model.evaluate(x_test3, y_test3_list, verbose=0)\n",
    "\n",
    "print(\"Scores: \\n\" , (multi_scores))\n",
    "print(\"First label. Accuracy: %.2f%%\" % (multi_scores[3]*100))\n",
    "print(\"Second label. Accuracy: %.2f%%\" % (multi_scores[4]*100))"
   ]
  },
  {
   "cell_type": "markdown",
   "metadata": {
    "collapsed": true
   },
   "source": [
    "### Grayscaled Images"
   ]
  },
  {
   "cell_type": "code",
   "execution_count": 59,
   "metadata": {
    "collapsed": true
   },
   "outputs": [],
   "source": [
    "def gray_multi_model():    \n",
    "    model_input = Input(shape=(32, 32, 1))\n",
    "    x = BatchNormalization()(model_input)\n",
    "    # TODO: Define a model architecture\n",
    "    x = Conv2D(32, (5, 5), activation='relu', padding='same')(model_input)\n",
    "    x = MaxPooling2D(pool_size=(2, 2))(x)    \n",
    "    x = Dropout(0.25)(x)\n",
    "    \n",
    "    x = Conv2D(256, (5, 5), activation='relu', padding='same')(x)       \n",
    "    x = MaxPooling2D(pool_size=(2, 2))(x)    \n",
    "    x = Dropout(0.25)(x)\n",
    "              \n",
    "    x = GlobalMaxPooling2D()(x)\n",
    "    \n",
    "    x = Dense(1024, activation='relu')(x)    \n",
    "    x = Dropout(0.25)(x)\n",
    "    \n",
    "    x = Dense(256, activation='relu')(x)    \n",
    "    x = Dropout(0.25)(x)\n",
    "    \n",
    "    y1 = Dense(33, activation='softmax')(x)\n",
    "    y2 = Dense(3, activation='softmax')(x)\n",
    "       \n",
    "    model = Model(inputs=model_input, outputs=[y1, y2])\n",
    "    # TODO: Compile the model\n",
    "\n",
    "    model.compile(loss='categorical_crossentropy', optimizer='rmsprop', metrics=['accuracy'])   \n",
    "    return model\n",
    "\n",
    "gray_multi_model = gray_multi_model()"
   ]
  },
  {
   "cell_type": "code",
   "execution_count": 60,
   "metadata": {
    "scrolled": false
   },
   "outputs": [
    {
     "name": "stdout",
     "output_type": "stream",
     "text": [
      "Epoch 00000: val_loss improved from inf to 4.21238, saving model to weights.best.letters.gray_multi.hdf5\n",
      "Epoch 00001: val_loss improved from 4.21238 to 4.14618, saving model to weights.best.letters.gray_multi.hdf5\n",
      "Epoch 00002: val_loss improved from 4.14618 to 4.09458, saving model to weights.best.letters.gray_multi.hdf5\n",
      "Epoch 00003: val_loss did not improve\n",
      "Epoch 00004: val_loss did not improve\n",
      "Epoch 00005: val_loss improved from 4.09458 to 4.01250, saving model to weights.best.letters.gray_multi.hdf5\n",
      "Epoch 00006: val_loss did not improve\n",
      "Epoch 00007: val_loss improved from 4.01250 to 3.99474, saving model to weights.best.letters.gray_multi.hdf5\n",
      "Epoch 00008: val_loss did not improve\n",
      "Epoch 00009: val_loss did not improve\n",
      "Epoch 00010: val_loss did not improve\n",
      "Epoch 00011: val_loss did not improve\n",
      "Epoch 00012: val_loss improved from 3.99474 to 3.98766, saving model to weights.best.letters.gray_multi.hdf5\n",
      "Epoch 00013: val_loss improved from 3.98766 to 3.94370, saving model to weights.best.letters.gray_multi.hdf5\n",
      "Epoch 00014: val_loss did not improve\n",
      "Epoch 00015: val_loss did not improve\n",
      "Epoch 00016: val_loss did not improve\n",
      "Epoch 00017: val_loss improved from 3.94370 to 3.92857, saving model to weights.best.letters.gray_multi.hdf5\n",
      "Epoch 00018: val_loss did not improve\n",
      "Epoch 00019: val_loss did not improve\n",
      "Epoch 00020: val_loss improved from 3.92857 to 3.92817, saving model to weights.best.letters.gray_multi.hdf5\n",
      "Epoch 00021: val_loss did not improve\n",
      "Epoch 00022: val_loss did not improve\n",
      "Epoch 00023: val_loss did not improve\n",
      "Epoch 00024: val_loss improved from 3.92817 to 3.84638, saving model to weights.best.letters.gray_multi.hdf5\n",
      "Epoch 00025: val_loss did not improve\n",
      "Epoch 00026: val_loss did not improve\n",
      "Epoch 00027: val_loss did not improve\n",
      "Epoch 00028: val_loss improved from 3.84638 to 3.81901, saving model to weights.best.letters.gray_multi.hdf5\n",
      "Epoch 00029: val_loss improved from 3.81901 to 3.81234, saving model to weights.best.letters.gray_multi.hdf5\n",
      "Epoch 00030: val_loss did not improve\n",
      "Epoch 00031: val_loss did not improve\n",
      "Epoch 00032: val_loss improved from 3.81234 to 3.75132, saving model to weights.best.letters.gray_multi.hdf5\n",
      "Epoch 00033: val_loss did not improve\n",
      "Epoch 00034: val_loss improved from 3.75132 to 3.63502, saving model to weights.best.letters.gray_multi.hdf5\n",
      "Epoch 00035: val_loss did not improve\n",
      "Epoch 00036: val_loss did not improve\n",
      "Epoch 00037: val_loss improved from 3.63502 to 3.55845, saving model to weights.best.letters.gray_multi.hdf5\n",
      "Epoch 00038: val_loss improved from 3.55845 to 3.54641, saving model to weights.best.letters.gray_multi.hdf5\n",
      "Epoch 00039: val_loss improved from 3.54641 to 3.54189, saving model to weights.best.letters.gray_multi.hdf5\n",
      "Epoch 00040: val_loss improved from 3.54189 to 3.53803, saving model to weights.best.letters.gray_multi.hdf5\n",
      "Epoch 00041: val_loss improved from 3.53803 to 3.42176, saving model to weights.best.letters.gray_multi.hdf5\n",
      "Epoch 00042: val_loss did not improve\n",
      "Epoch 00043: val_loss did not improve\n",
      "Epoch 00044: val_loss did not improve\n",
      "Epoch 00045: val_loss improved from 3.42176 to 3.19178, saving model to weights.best.letters.gray_multi.hdf5\n",
      "Epoch 00046: val_loss did not improve\n",
      "Epoch 00047: val_loss did not improve\n",
      "Epoch 00048: val_loss improved from 3.19178 to 3.16260, saving model to weights.best.letters.gray_multi.hdf5\n",
      "Epoch 00049: val_loss did not improve\n",
      "Epoch 00050: val_loss improved from 3.16260 to 3.12460, saving model to weights.best.letters.gray_multi.hdf5\n",
      "Epoch 00051: val_loss did not improve\n",
      "Epoch 00052: val_loss improved from 3.12460 to 2.97462, saving model to weights.best.letters.gray_multi.hdf5\n",
      "Epoch 00053: val_loss did not improve\n",
      "Epoch 00054: val_loss did not improve\n",
      "Epoch 00055: val_loss did not improve\n",
      "Epoch 00056: val_loss improved from 2.97462 to 2.84980, saving model to weights.best.letters.gray_multi.hdf5\n",
      "Epoch 00057: val_loss did not improve\n",
      "Epoch 00058: val_loss improved from 2.84980 to 2.81775, saving model to weights.best.letters.gray_multi.hdf5\n",
      "Epoch 00059: val_loss did not improve\n",
      "Epoch 00060: val_loss did not improve\n",
      "Epoch 00061: val_loss improved from 2.81775 to 2.72539, saving model to weights.best.letters.gray_multi.hdf5\n",
      "Epoch 00062: val_loss did not improve\n",
      "Epoch 00063: val_loss did not improve\n",
      "Epoch 00064: val_loss improved from 2.72539 to 2.69906, saving model to weights.best.letters.gray_multi.hdf5\n",
      "Epoch 00065: val_loss did not improve\n",
      "Epoch 00066: val_loss improved from 2.69906 to 2.54668, saving model to weights.best.letters.gray_multi.hdf5\n",
      "Epoch 00067: val_loss did not improve\n",
      "Epoch 00068: val_loss improved from 2.54668 to 2.50314, saving model to weights.best.letters.gray_multi.hdf5\n",
      "Epoch 00069: val_loss did not improve\n",
      "Epoch 00070: val_loss improved from 2.50314 to 2.42454, saving model to weights.best.letters.gray_multi.hdf5\n",
      "Epoch 00071: val_loss did not improve\n",
      "Epoch 00072: val_loss improved from 2.42454 to 2.31276, saving model to weights.best.letters.gray_multi.hdf5\n",
      "Epoch 00073: val_loss did not improve\n",
      "Epoch 00074: val_loss did not improve\n",
      "Epoch 00075: val_loss improved from 2.31276 to 2.30224, saving model to weights.best.letters.gray_multi.hdf5\n",
      "Epoch 00076: val_loss improved from 2.30224 to 2.29320, saving model to weights.best.letters.gray_multi.hdf5\n",
      "Epoch 00077: val_loss did not improve\n",
      "Epoch 00078: val_loss improved from 2.29320 to 2.27964, saving model to weights.best.letters.gray_multi.hdf5\n",
      "Epoch 00079: val_loss improved from 2.27964 to 2.15521, saving model to weights.best.letters.gray_multi.hdf5\n",
      "Epoch 00080: val_loss improved from 2.15521 to 2.12911, saving model to weights.best.letters.gray_multi.hdf5\n",
      "Epoch 00081: val_loss did not improve\n",
      "Epoch 00082: val_loss did not improve\n",
      "Epoch 00083: val_loss improved from 2.12911 to 2.08030, saving model to weights.best.letters.gray_multi.hdf5\n",
      "Epoch 00084: val_loss did not improve\n",
      "Epoch 00085: val_loss improved from 2.08030 to 2.03928, saving model to weights.best.letters.gray_multi.hdf5\n",
      "Epoch 00086: val_loss improved from 2.03928 to 2.02203, saving model to weights.best.letters.gray_multi.hdf5\n",
      "Epoch 00087: val_loss improved from 2.02203 to 2.01164, saving model to weights.best.letters.gray_multi.hdf5\n",
      "Epoch 00088: val_loss did not improve\n",
      "Epoch 00089: val_loss improved from 2.01164 to 1.92088, saving model to weights.best.letters.gray_multi.hdf5\n",
      "Epoch 00090: val_loss improved from 1.92088 to 1.86093, saving model to weights.best.letters.gray_multi.hdf5\n",
      "Epoch 00091: val_loss did not improve\n",
      "Epoch 00092: val_loss improved from 1.86093 to 1.80908, saving model to weights.best.letters.gray_multi.hdf5\n",
      "Epoch 00093: val_loss did not improve\n",
      "Epoch 00094: val_loss improved from 1.80908 to 1.67775, saving model to weights.best.letters.gray_multi.hdf5\n",
      "Epoch 00095: val_loss did not improve\n",
      "Epoch 00096: val_loss did not improve\n",
      "Epoch 00097: val_loss did not improve\n",
      "Epoch 00098: val_loss improved from 1.67775 to 1.61598, saving model to weights.best.letters.gray_multi.hdf5\n",
      "Epoch 00099: val_loss did not improve\n",
      "Epoch 00100: val_loss did not improve\n",
      "Epoch 00101: val_loss did not improve\n",
      "Epoch 00102: val_loss did not improve\n",
      "Epoch 00103: val_loss did not improve\n",
      "Epoch 00104: val_loss improved from 1.61598 to 1.55320, saving model to weights.best.letters.gray_multi.hdf5\n",
      "Epoch 00105: val_loss did not improve\n",
      "Epoch 00106: val_loss did not improve\n",
      "Epoch 00107: val_loss did not improve\n",
      "Epoch 00108: val_loss improved from 1.55320 to 1.50381, saving model to weights.best.letters.gray_multi.hdf5\n",
      "Epoch 00109: val_loss improved from 1.50381 to 1.45387, saving model to weights.best.letters.gray_multi.hdf5\n",
      "Epoch 00110: val_loss improved from 1.45387 to 1.39179, saving model to weights.best.letters.gray_multi.hdf5\n",
      "Epoch 00111: val_loss did not improve\n",
      "Epoch 00112: val_loss did not improve\n",
      "Epoch 00113: val_loss improved from 1.39179 to 1.37310, saving model to weights.best.letters.gray_multi.hdf5\n",
      "Epoch 00114: val_loss did not improve\n",
      "Epoch 00115: val_loss did not improve\n",
      "Epoch 00116: val_loss did not improve\n",
      "Epoch 00117: val_loss did not improve\n",
      "Epoch 00118: val_loss did not improve\n",
      "Epoch 00119: val_loss improved from 1.37310 to 1.32442, saving model to weights.best.letters.gray_multi.hdf5\n",
      "Epoch 00120: val_loss did not improve\n"
     ]
    },
    {
     "name": "stdout",
     "output_type": "stream",
     "text": [
      "Epoch 00121: val_loss did not improve\n",
      "Epoch 00122: val_loss did not improve\n",
      "Epoch 00123: val_loss did not improve\n",
      "Epoch 00124: val_loss did not improve\n",
      "Epoch 00125: val_loss did not improve\n",
      "Epoch 00126: val_loss did not improve\n",
      "Epoch 00127: val_loss improved from 1.32442 to 1.30072, saving model to weights.best.letters.gray_multi.hdf5\n",
      "Epoch 00128: val_loss improved from 1.30072 to 1.19615, saving model to weights.best.letters.gray_multi.hdf5\n",
      "Epoch 00129: val_loss did not improve\n",
      "Epoch 00130: val_loss did not improve\n",
      "Epoch 00131: val_loss did not improve\n",
      "Epoch 00132: val_loss did not improve\n",
      "Epoch 00133: val_loss improved from 1.19615 to 1.16374, saving model to weights.best.letters.gray_multi.hdf5\n",
      "Epoch 00134: val_loss did not improve\n",
      "Epoch 00135: val_loss did not improve\n",
      "Epoch 00136: val_loss did not improve\n",
      "Epoch 00137: val_loss did not improve\n",
      "Epoch 00138: val_loss did not improve\n",
      "Epoch 00139: val_loss did not improve\n",
      "Epoch 00140: val_loss did not improve\n",
      "Epoch 00141: val_loss did not improve\n",
      "Epoch 00142: val_loss did not improve\n",
      "Epoch 00143: val_loss did not improve\n",
      "Epoch 00144: val_loss did not improve\n",
      "Epoch 00145: val_loss improved from 1.16374 to 1.12270, saving model to weights.best.letters.gray_multi.hdf5\n",
      "Epoch 00146: val_loss did not improve\n",
      "Epoch 00147: val_loss did not improve\n",
      "Epoch 00148: val_loss did not improve\n",
      "Epoch 00149: val_loss did not improve\n",
      "Epoch 00150: val_loss did not improve\n",
      "Epoch 00151: val_loss did not improve\n",
      "Epoch 00152: val_loss did not improve\n",
      "Epoch 00153: val_loss did not improve\n",
      "Epoch 00154: val_loss did not improve\n",
      "Epoch 00155: val_loss did not improve\n",
      "Epoch 00156: val_loss improved from 1.12270 to 1.11291, saving model to weights.best.letters.gray_multi.hdf5\n",
      "Epoch 00157: val_loss did not improve\n",
      "Epoch 00158: val_loss did not improve\n",
      "Epoch 00159: val_loss did not improve\n",
      "Epoch 00160: val_loss did not improve\n",
      "Epoch 00161: val_loss did not improve\n",
      "Epoch 00162: val_loss did not improve\n",
      "Epoch 00163: val_loss did not improve\n",
      "Epoch 00164: val_loss did not improve\n",
      "Epoch 00165: val_loss did not improve\n",
      "Epoch 00166: val_loss did not improve\n",
      "Epoch 00167: val_loss did not improve\n",
      "Epoch 00168: val_loss did not improve\n",
      "Epoch 00169: val_loss did not improve\n",
      "Epoch 00170: val_loss improved from 1.11291 to 1.06591, saving model to weights.best.letters.gray_multi.hdf5\n",
      "Epoch 00171: val_loss improved from 1.06591 to 1.03498, saving model to weights.best.letters.gray_multi.hdf5\n",
      "Epoch 00172: val_loss did not improve\n",
      "Epoch 00173: val_loss did not improve\n",
      "Epoch 00174: val_loss did not improve\n",
      "Epoch 00175: val_loss did not improve\n",
      "Epoch 00176: val_loss did not improve\n",
      "Epoch 00177: val_loss did not improve\n",
      "Epoch 00178: val_loss did not improve\n",
      "Epoch 00179: val_loss did not improve\n",
      "Epoch 00180: val_loss did not improve\n",
      "Epoch 00181: val_loss did not improve\n",
      "Epoch 00182: val_loss did not improve\n",
      "Epoch 00183: val_loss did not improve\n",
      "Epoch 00184: val_loss did not improve\n",
      "Epoch 00185: val_loss did not improve\n",
      "Epoch 00186: val_loss did not improve\n",
      "Epoch 00187: val_loss did not improve\n",
      "Epoch 00188: val_loss did not improve\n",
      "Epoch 00189: val_loss did not improve\n",
      "Epoch 00190: val_loss did not improve\n",
      "Epoch 00191: val_loss did not improve\n",
      "Epoch 00192: val_loss did not improve\n",
      "Epoch 00193: val_loss did not improve\n",
      "Epoch 00194: val_loss did not improve\n",
      "Epoch 00195: val_loss did not improve\n",
      "Epoch 00196: val_loss did not improve\n",
      "Epoch 00197: val_loss did not improve\n",
      "Epoch 00198: val_loss did not improve\n",
      "Epoch 00199: val_loss improved from 1.03498 to 1.02463, saving model to weights.best.letters.gray_multi.hdf5\n"
     ]
    }
   ],
   "source": [
    "# Train the model\n",
    "gray_multi_checkpointer = ModelCheckpoint(filepath='weights.best.letters.gray_multi.hdf5', \n",
    "                                          verbose=2, save_best_only=True)\n",
    "gray_multi_history = gray_multi_model.fit(x_train4, y_train4_list, \n",
    "                                          validation_data=(x_test4, y_test4_list), \n",
    "                                          epochs=200, batch_size=64, verbose=0, \n",
    "                                          callbacks=[gray_multi_checkpointer])"
   ]
  },
  {
   "cell_type": "markdown",
   "metadata": {},
   "source": [
    "We should have an accuracy greater than 3% for the first target (letter) and 30% for the second target (background)."
   ]
  },
  {
   "cell_type": "code",
   "execution_count": 61,
   "metadata": {},
   "outputs": [
    {
     "name": "stdout",
     "output_type": "stream",
     "text": [
      "Scores: \n",
      " [1.0246299333251982, 0.98210754664676148, 0.042522395086107834, 0.72200263543876575, 0.98814229249011853]\n",
      "First label. Accuracy: 72.20%\n",
      "Second label. Accuracy: 98.81%\n"
     ]
    }
   ],
   "source": [
    "# Load the model with the best validation accuracy\n",
    "gray_multi_model.load_weights('weights.best.letters.gray_multi.hdf5')\n",
    "# Calculate classification accuracy on the testing set\n",
    "gray_multi_scores = gray_multi_model.evaluate(x_test4, y_test4_list, verbose=0)\n",
    "\n",
    "print(\"Scores: \\n\" , (gray_multi_scores))\n",
    "print(\"First label. Accuracy: %.2f%%\" % (gray_multi_scores[3]*100))\n",
    "print(\"Second label. Accuracy: %.2f%%\" % (gray_multi_scores[4]*100))"
   ]
  },
  {
   "cell_type": "markdown",
   "metadata": {},
   "source": [
    "---\n",
    "## Step 6. Keras Applications\n",
    "Choose one of the keras applications and try to reach an accuracy greater than 30%\n",
    "### Color Images"
   ]
  },
  {
   "cell_type": "code",
   "execution_count": 29,
   "metadata": {
    "collapsed": true
   },
   "outputs": [],
   "source": [
    "# Create bottleneck features\n",
    "resize_x_train = np.array([scipy.misc.imresize(x_train[i], (139, 139, 3)) \n",
    "                           for i in range(0, len(x_train))]).astype('float32')\n",
    "resize_x_test = np.array([scipy.misc.imresize(x_test[i], (139, 139, 3)) \n",
    "                          for i in range(0, len(x_test))]).astype('float32')\n",
    "resize_x_valid = np.array([scipy.misc.imresize(x_valid[i], (139, 139, 3)) \n",
    "                          for i in range(0, len(x_valid))]).astype('float32')\n",
    "\n",
    "iv3_x_train = preprocess_input(resize_x_train)\n",
    "iv3_x_test = preprocess_input(resize_x_test)\n",
    "iv3_x_valid = preprocess_input(resize_x_valid)\n",
    "\n",
    "iv3_base_model = InceptionV3(weights='imagenet', include_top=False)\n",
    "x_train_bn = iv3_base_model.predict(iv3_x_train)\n",
    "x_test_bn = iv3_base_model.predict(iv3_x_test)\n",
    "x_valid_bn = iv3_base_model.predict(iv3_x_valid)"
   ]
  },
  {
   "cell_type": "code",
   "execution_count": 30,
   "metadata": {
    "collapsed": true
   },
   "outputs": [],
   "source": [
    "# Save bottleneck features\n",
    "x_train_bn = np.squeeze(x_train_bn)\n",
    "x_test_bn = np.squeeze(x_test_bn)\n",
    "x_valid_bn = np.squeeze(x_valid_bn)\n",
    "\n",
    "np.save('x_train_bn.npy', x_train_bn)\n",
    "np.save('x_test_bn.npy', x_test_bn)\n",
    "np.save('x_valid_bn.npy', x_valid_bn)\n",
    "\n",
    "np.save('y_train.npy', y_train)\n",
    "np.save('y_test.npy', y_test)\n",
    "np.save('y_valid.npy', y_valid)"
   ]
  },
  {
   "cell_type": "code",
   "execution_count": 31,
   "metadata": {
    "collapsed": true
   },
   "outputs": [],
   "source": [
    "# Load bottleneck features\n",
    "x_train_bn = np.load('x_train_bn.npy')\n",
    "x_test_bn = np.load('x_test_bn.npy')\n",
    "x_valid_bn = np.load('x_valid_bn.npy')\n",
    "\n",
    "y_train = np.load('y_train.npy')\n",
    "y_test = np.load('y_test.npy')\n",
    "y_valid = np.load('y_valid.npy')"
   ]
  },
  {
   "cell_type": "code",
   "execution_count": 36,
   "metadata": {
    "collapsed": true
   },
   "outputs": [],
   "source": [
    "def iv3_model():\n",
    "    model = Sequential()\n",
    "    # TODO: Define a model architecture\n",
    "    model.add(Conv2D(filters=32, kernel_size=2, input_shape=x_train_bn.shape[1:]))\n",
    "    model.add(MaxPooling2D(pool_size=(2, 2)))\n",
    "    model.add(Dropout(0.25))\n",
    "    \n",
    "    model.add(GlobalAveragePooling2D())\n",
    "    model.add(Dropout(0.25))\n",
    "    \n",
    "    model.add(Dense(2048, activation='relu'))\n",
    "    model.add(Dropout(0.25))\n",
    "        \n",
    "    model.add(Dense(128, activation='relu'))\n",
    "    model.add(Dropout(0.25))\n",
    "    \n",
    "    model.add(Dense(33, activation='softmax'))\n",
    "    \n",
    "    # TODO: Compile the model \n",
    "    model.compile(loss='categorical_crossentropy', optimizer='rmsprop', metrics=['accuracy'])    \n",
    "\n",
    "    return model\n",
    "\n",
    "iv3_model = iv3_model()"
   ]
  },
  {
   "cell_type": "code",
   "execution_count": 37,
   "metadata": {},
   "outputs": [
    {
     "name": "stdout",
     "output_type": "stream",
     "text": [
      "Epoch 00000: val_loss improved from inf to 3.18183, saving model to weights.best.letters.iv3.hdf5\n",
      "Epoch 00001: val_loss improved from 3.18183 to 2.90532, saving model to weights.best.letters.iv3.hdf5\n",
      "Epoch 00002: val_loss improved from 2.90532 to 2.62292, saving model to weights.best.letters.iv3.hdf5\n",
      "Epoch 00003: val_loss improved from 2.62292 to 2.22312, saving model to weights.best.letters.iv3.hdf5\n",
      "Epoch 00004: val_loss improved from 2.22312 to 2.08494, saving model to weights.best.letters.iv3.hdf5\n",
      "Epoch 00005: val_loss improved from 2.08494 to 2.06108, saving model to weights.best.letters.iv3.hdf5\n",
      "Epoch 00006: val_loss improved from 2.06108 to 2.06026, saving model to weights.best.letters.iv3.hdf5\n",
      "Epoch 00007: val_loss improved from 2.06026 to 1.89141, saving model to weights.best.letters.iv3.hdf5\n",
      "Epoch 00008: val_loss improved from 1.89141 to 1.76281, saving model to weights.best.letters.iv3.hdf5\n",
      "Epoch 00009: val_loss improved from 1.76281 to 1.74077, saving model to weights.best.letters.iv3.hdf5\n",
      "Epoch 00010: val_loss did not improve\n",
      "Epoch 00011: val_loss did not improve\n",
      "Epoch 00012: val_loss improved from 1.74077 to 1.59924, saving model to weights.best.letters.iv3.hdf5\n",
      "Epoch 00013: val_loss did not improve\n",
      "Epoch 00014: val_loss improved from 1.59924 to 1.53354, saving model to weights.best.letters.iv3.hdf5\n",
      "Epoch 00015: val_loss improved from 1.53354 to 1.51100, saving model to weights.best.letters.iv3.hdf5\n",
      "Epoch 00016: val_loss improved from 1.51100 to 1.38904, saving model to weights.best.letters.iv3.hdf5\n",
      "Epoch 00017: val_loss did not improve\n",
      "Epoch 00018: val_loss did not improve\n",
      "Epoch 00019: val_loss did not improve\n",
      "Epoch 00020: val_loss did not improve\n",
      "Epoch 00021: val_loss did not improve\n",
      "Epoch 00022: val_loss did not improve\n",
      "Epoch 00023: val_loss did not improve\n",
      "Epoch 00024: val_loss improved from 1.38904 to 1.38291, saving model to weights.best.letters.iv3.hdf5\n",
      "Epoch 00025: val_loss did not improve\n",
      "Epoch 00026: val_loss did not improve\n",
      "Epoch 00027: val_loss did not improve\n",
      "Epoch 00028: val_loss did not improve\n",
      "Epoch 00029: val_loss improved from 1.38291 to 1.33327, saving model to weights.best.letters.iv3.hdf5\n",
      "Epoch 00030: val_loss did not improve\n",
      "Epoch 00031: val_loss did not improve\n",
      "Epoch 00032: val_loss did not improve\n",
      "Epoch 00033: val_loss improved from 1.33327 to 1.30414, saving model to weights.best.letters.iv3.hdf5\n",
      "Epoch 00034: val_loss did not improve\n",
      "Epoch 00035: val_loss improved from 1.30414 to 1.27271, saving model to weights.best.letters.iv3.hdf5\n",
      "Epoch 00036: val_loss did not improve\n",
      "Epoch 00037: val_loss did not improve\n",
      "Epoch 00038: val_loss did not improve\n",
      "Epoch 00039: val_loss did not improve\n",
      "Epoch 00040: val_loss did not improve\n",
      "Epoch 00041: val_loss did not improve\n",
      "Epoch 00042: val_loss did not improve\n",
      "Epoch 00043: val_loss did not improve\n",
      "Epoch 00044: val_loss did not improve\n",
      "Epoch 00045: val_loss did not improve\n",
      "Epoch 00046: val_loss improved from 1.27271 to 1.25457, saving model to weights.best.letters.iv3.hdf5\n",
      "Epoch 00047: val_loss did not improve\n",
      "Epoch 00048: val_loss did not improve\n",
      "Epoch 00049: val_loss did not improve\n"
     ]
    }
   ],
   "source": [
    "# Fit the model \n",
    "iv3_checkpointer = ModelCheckpoint(filepath='weights.best.letters.iv3.hdf5', \n",
    "                                     verbose=2, save_best_only=True)\n",
    "iv3_history = iv3_model.fit(x_train_bn, y_train, \n",
    "                            validation_data=(x_valid_bn, y_valid),\n",
    "                            epochs=50, batch_size=64, \n",
    "                            callbacks=[iv3_checkpointer], verbose=0);"
   ]
  },
  {
   "cell_type": "code",
   "execution_count": 38,
   "metadata": {},
   "outputs": [
    {
     "data": {
      "image/png": "[encoded data removed]",
      "text/plain": [
       "<matplotlib.figure.Figure at 0x1197f2c88>"
      ]
     },
     "metadata": {},
     "output_type": "display_data"
    }
   ],
   "source": [
    "# Plot the training history\n",
    "history_plot(iv3_history, 0)"
   ]
  },
  {
   "cell_type": "code",
   "execution_count": 39,
   "metadata": {},
   "outputs": [
    {
     "name": "stdout",
     "output_type": "stream",
     "text": [
      "759/759 [==============================] - 0s     \n",
      "Accuracy: 65.61%\n"
     ]
    },
    {
     "data": {
      "text/plain": [
       "[1.2880885231950381, 0.65612648229196924]"
      ]
     },
     "execution_count": 39,
     "metadata": {},
     "output_type": "execute_result"
    }
   ],
   "source": [
    "# Load the model with the best validation accuracy\n",
    "iv3_model.load_weights('weights.best.letters.iv3.hdf5')\n",
    "# Calculate classification accuracy on the testing set\n",
    "iv3_scores = iv3_model.evaluate(x_test_bn, y_test)\n",
    "print(\"Accuracy: %.2f%%\" % (iv3_scores[1]*100))\n",
    "iv3_scores"
   ]
  },
  {
   "cell_type": "markdown",
   "metadata": {},
   "source": [
    "### Grayscaled Images"
   ]
  },
  {
   "cell_type": "code",
   "execution_count": 42,
   "metadata": {
    "collapsed": true
   },
   "outputs": [],
   "source": [
    "# Create bottleneck features\n",
    "resize_x_train2 = np.array([scipy.misc.imresize(x_train2_color[i], (139, 139, 3)) \n",
    "                            for i in range(0, len(x_train2_color))]).astype('float32')\n",
    "resize_x_test2 = np.array([scipy.misc.imresize(x_test2_color[i], (139, 139, 3)) \n",
    "                           for i in range(0, len(x_test2_color))]).astype('float32')\n",
    "resize_x_valid2 = np.array([scipy.misc.imresize(x_valid2_color[i], (139, 139, 3)) \n",
    "                           for i in range(0, len(x_valid2_color))]).astype('float32')\n",
    "\n",
    "iv3_x_train2 = preprocess_input(resize_x_train2)\n",
    "iv3_x_test2 = preprocess_input(resize_x_test2)\n",
    "iv3_x_valid2 = preprocess_input(resize_x_valid2)\n",
    "\n",
    "iv3_base_model2 = InceptionV3(weights='imagenet', include_top=False)\n",
    "x_train_bn2 = iv3_base_model2.predict(iv3_x_train2)\n",
    "x_test_bn2 = iv3_base_model2.predict(iv3_x_test2)\n",
    "x_valid_bn2 = iv3_base_model2.predict(iv3_x_valid2)"
   ]
  },
  {
   "cell_type": "code",
   "execution_count": 43,
   "metadata": {
    "collapsed": true
   },
   "outputs": [],
   "source": [
    "# Save bottleneck features\n",
    "x_train_bn2 = np.squeeze(x_train_bn2)\n",
    "x_test_bn2 = np.squeeze(x_test_bn2)\n",
    "x_valid_bn2 = np.squeeze(x_valid_bn2)\n",
    "\n",
    "np.save('x_train_bn2.npy', x_train_bn2)\n",
    "np.save('x_test_bn2.npy', x_test_bn2)\n",
    "np.save('x_valid_bn2.npy', x_valid_bn2)"
   ]
  },
  {
   "cell_type": "code",
   "execution_count": 44,
   "metadata": {
    "collapsed": true
   },
   "outputs": [],
   "source": [
    "# Load bottleneck features\n",
    "x_train_bn2 = np.load('x_train_bn2.npy')\n",
    "x_test_bn2 = np.load('x_test_bn2.npy')\n",
    "x_valid_bn2 = np.load('x_valid_bn2.npy')"
   ]
  },
  {
   "cell_type": "code",
   "execution_count": 45,
   "metadata": {
    "collapsed": true
   },
   "outputs": [],
   "source": [
    "def iv3_gray_model():\n",
    "    model = Sequential()\n",
    "    # TODO: Define a model architecture\n",
    "    model.add(Conv2D(filters=32, kernel_size=2, input_shape=x_train_bn2.shape[1:]))\n",
    "    model.add(MaxPooling2D(pool_size=(2, 2)))\n",
    "    model.add(Dropout(0.25))\n",
    "    \n",
    "    model.add(GlobalAveragePooling2D())\n",
    "    model.add(Dropout(0.25))\n",
    "    \n",
    "    model.add(Dense(1024, activation='relu'))\n",
    "    model.add(Dropout(0.25))\n",
    "        \n",
    "    model.add(Dense(256, activation='relu'))\n",
    "    model.add(Dropout(0.25))\n",
    "    \n",
    "    model.add(Dense(33, activation='softmax'))\n",
    "    # TODO: Compile the model     \n",
    "    model.compile(loss='categorical_crossentropy', optimizer='rmsprop', metrics=['accuracy'])\n",
    "    return model\n",
    "\n",
    "iv3_gray_model = iv3_gray_model()"
   ]
  },
  {
   "cell_type": "code",
   "execution_count": 46,
   "metadata": {},
   "outputs": [
    {
     "name": "stdout",
     "output_type": "stream",
     "text": [
      "Epoch 00000: val_loss improved from inf to 2.65396, saving model to weights.best.letters.iv3_gray.hdf5\n",
      "Epoch 00001: val_loss improved from 2.65396 to 2.24445, saving model to weights.best.letters.iv3_gray.hdf5\n",
      "Epoch 00002: val_loss improved from 2.24445 to 2.00583, saving model to weights.best.letters.iv3_gray.hdf5\n",
      "Epoch 00003: val_loss improved from 2.00583 to 1.98057, saving model to weights.best.letters.iv3_gray.hdf5\n",
      "Epoch 00004: val_loss improved from 1.98057 to 1.65476, saving model to weights.best.letters.iv3_gray.hdf5\n",
      "Epoch 00005: val_loss did not improve\n",
      "Epoch 00006: val_loss improved from 1.65476 to 1.36385, saving model to weights.best.letters.iv3_gray.hdf5\n",
      "Epoch 00007: val_loss improved from 1.36385 to 1.23775, saving model to weights.best.letters.iv3_gray.hdf5\n",
      "Epoch 00008: val_loss did not improve\n",
      "Epoch 00009: val_loss did not improve\n",
      "Epoch 00010: val_loss did not improve\n",
      "Epoch 00011: val_loss improved from 1.23775 to 1.22006, saving model to weights.best.letters.iv3_gray.hdf5\n",
      "Epoch 00012: val_loss did not improve\n",
      "Epoch 00013: val_loss improved from 1.22006 to 1.09533, saving model to weights.best.letters.iv3_gray.hdf5\n",
      "Epoch 00014: val_loss did not improve\n",
      "Epoch 00015: val_loss did not improve\n",
      "Epoch 00016: val_loss did not improve\n",
      "Epoch 00017: val_loss did not improve\n",
      "Epoch 00018: val_loss did not improve\n",
      "Epoch 00019: val_loss did not improve\n",
      "Epoch 00020: val_loss did not improve\n",
      "Epoch 00021: val_loss did not improve\n",
      "Epoch 00022: val_loss improved from 1.09533 to 1.02848, saving model to weights.best.letters.iv3_gray.hdf5\n",
      "Epoch 00023: val_loss did not improve\n",
      "Epoch 00024: val_loss did not improve\n",
      "Epoch 00025: val_loss did not improve\n",
      "Epoch 00026: val_loss improved from 1.02848 to 1.01993, saving model to weights.best.letters.iv3_gray.hdf5\n",
      "Epoch 00027: val_loss did not improve\n",
      "Epoch 00028: val_loss did not improve\n",
      "Epoch 00029: val_loss did not improve\n",
      "Epoch 00030: val_loss did not improve\n",
      "Epoch 00031: val_loss did not improve\n",
      "Epoch 00032: val_loss did not improve\n",
      "Epoch 00033: val_loss did not improve\n",
      "Epoch 00034: val_loss did not improve\n",
      "Epoch 00035: val_loss did not improve\n",
      "Epoch 00036: val_loss did not improve\n",
      "Epoch 00037: val_loss did not improve\n",
      "Epoch 00038: val_loss did not improve\n",
      "Epoch 00039: val_loss did not improve\n",
      "Epoch 00040: val_loss did not improve\n",
      "Epoch 00041: val_loss did not improve\n",
      "Epoch 00042: val_loss did not improve\n",
      "Epoch 00043: val_loss did not improve\n",
      "Epoch 00044: val_loss did not improve\n",
      "Epoch 00045: val_loss did not improve\n",
      "Epoch 00046: val_loss did not improve\n",
      "Epoch 00047: val_loss did not improve\n",
      "Epoch 00048: val_loss did not improve\n",
      "Epoch 00049: val_loss did not improve\n"
     ]
    }
   ],
   "source": [
    "# Fit the model \n",
    "iv3_gray_checkpointer = ModelCheckpoint(filepath='weights.best.letters.iv3_gray.hdf5', \n",
    "                                        verbose=2, save_best_only=True)\n",
    "iv3_gray_history = iv3_gray_model.fit(x_train_bn2, y_train2, \n",
    "                                      validation_data=(x_valid_bn2, y_valid2),\n",
    "                                      epochs=50, batch_size=64, \n",
    "                                      callbacks=[iv3_gray_checkpointer], verbose=0);"
   ]
  },
  {
   "cell_type": "code",
   "execution_count": 47,
   "metadata": {},
   "outputs": [
    {
     "data": {
      "image/png": "[encoded data removed]",
      "text/plain": [
       "<matplotlib.figure.Figure at 0x16c23b588>"
      ]
     },
     "metadata": {},
     "output_type": "display_data"
    }
   ],
   "source": [
    "# Plot the training history\n",
    "history_plot(iv3_gray_history, 0)"
   ]
  },
  {
   "cell_type": "code",
   "execution_count": 48,
   "metadata": {},
   "outputs": [
    {
     "name": "stdout",
     "output_type": "stream",
     "text": [
      "736/759 [============================>.] - ETA: 0sAccuracy: 66.01%\n"
     ]
    },
    {
     "data": {
      "text/plain": [
       "[1.1513739697075644, 0.66007905177605164]"
      ]
     },
     "execution_count": 48,
     "metadata": {},
     "output_type": "execute_result"
    }
   ],
   "source": [
    "# Load the model with the best validation accuracy\n",
    "iv3_gray_model.load_weights('weights.best.letters.iv3_gray.hdf5')\n",
    "# Calculate classification accuracy on the testing set\n",
    "iv3_gray_scores = iv3_gray_model.evaluate(x_test_bn2, y_test2)\n",
    "print(\"Accuracy: %.2f%%\" % (iv3_gray_scores[1]*100))\n",
    "iv3_gray_scores"
   ]
  },
  {
   "cell_type": "markdown",
   "metadata": {},
   "source": [
    "## Step 7. Predictions\n",
    "Display predictions for the models with the best accuracy.\n",
    "### Color Images"
   ]
  },
  {
   "cell_type": "code",
   "execution_count": 49,
   "metadata": {
    "collapsed": true
   },
   "outputs": [],
   "source": [
    "# Create a list of symbols\n",
    "symbols = ['а','б','в','г','д','е','ё','ж','з','и','й',\n",
    "           'к','л','м','н','о','п','р','с','т','у','ф',\n",
    "           'х','ц','ч','ш','щ','ъ','ы','ь','э','ю','я']"
   ]
  },
  {
   "cell_type": "code",
   "execution_count": 50,
   "metadata": {},
   "outputs": [
    {
     "name": "stdout",
     "output_type": "stream",
     "text": [
      "759/759 [==============================] - 60s    \n"
     ]
    }
   ],
   "source": [
    "# Model predictions for the testing dataset\n",
    "y_test_predict = iv3_model.predict_classes(x_test_bn)"
   ]
  },
  {
   "cell_type": "code",
   "execution_count": 51,
   "metadata": {},
   "outputs": [
    {
     "data": {
      "image/png": "[encoded data removed]",
      "text/plain": [
       "<matplotlib.figure.Figure at 0x1fcf99c88>"
      ]
     },
     "metadata": {},
     "output_type": "display_data"
    }
   ],
   "source": [
    "# Display true labels and predictions\n",
    "fig = plt.figure(figsize=(18, 18))\n",
    "for i, idx in enumerate(np.random.choice(x_test.shape[0], size=16, replace=False)):\n",
    "    ax = fig.add_subplot(4, 4, i + 1, xticks=[], yticks=[])\n",
    "    ax.imshow(np.squeeze(x_test[idx]))\n",
    "    pred_idx = y_test_predict[idx]\n",
    "    true_idx = np.argmax(y_test[idx])\n",
    "    ax.set_title(\"{} ({})\".format(symbols[pred_idx], symbols[true_idx]),\n",
    "                 color=(\"#4876ff\" if pred_idx == true_idx else \"darkred\"))"
   ]
  },
  {
   "cell_type": "markdown",
   "metadata": {},
   "source": [
    "### Grayscaled Images"
   ]
  },
  {
   "cell_type": "code",
   "execution_count": 59,
   "metadata": {},
   "outputs": [
    {
     "name": "stdout",
     "output_type": "stream",
     "text": [
      "720/720 [==============================] - 4s     \n"
     ]
    }
   ],
   "source": [
    "# Model predictions for the testing dataset\n",
    "y_test2_predict = gray_model.predict_classes(x_test2)"
   ]
  },
  {
   "cell_type": "code",
   "execution_count": 62,
   "metadata": {},
   "outputs": [
    {
     "data": {
      "image/png": "[encoded data removed]",
      "text/plain": [
       "<matplotlib.figure.Figure at 0x145e927b8>"
      ]
     },
     "metadata": {},
     "output_type": "display_data"
    }
   ],
   "source": [
    "# Display true labels and predictions\n",
    "fig = plt.figure(figsize=(18, 18))\n",
    "for i, idx in enumerate(np.random.choice(x_test2.shape[0], size=16, replace=False)):\n",
    "    ax = fig.add_subplot(4, 4, i + 1, xticks=[], yticks=[])\n",
    "    ax.imshow(np.squeeze(x_test2[idx]), cmap=cm.bone)\n",
    "    pred_idx = y_test2_predict[idx]\n",
    "    true_idx = np.argmax(y_test2[idx])\n",
    "    ax.set_title(\"{} ({})\".format(symbols[pred_idx], symbols[true_idx]),\n",
    "                 color=(\"#4876ff\" if pred_idx == true_idx else \"darkred\"))"
   ]
  }
 ],
 "metadata": {
  "kernelspec": {
   "display_name": "Python 3",
   "language": "python",
   "name": "python3"
  },
  "language_info": {
   "codemirror_mode": {
    "name": "ipython",
    "version": 3
   },
   "file_extension": ".py",
   "mimetype": "text/x-python",
   "name": "python",
   "nbconvert_exporter": "python",
   "pygments_lexer": "ipython3",
   "version": "3.6.4"
  }
 },
 "nbformat": 4,
 "nbformat_minor": 2
}
