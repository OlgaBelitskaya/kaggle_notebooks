{
 "cells": [
  {
   "cell_type": "markdown",
   "metadata": {},
   "source": [
    "## &#x1F310; &nbsp; Code Library, Style, and Links\n",
    "The previous notebooks:\n",
    "\n",
    "&#x1F310; &nbsp; [PASSNYC. Data Exploration](https://www.kaggle.com/olgabelitskaya/passnyc-data-exploration)\n",
    "\n",
    "&#x1F310; &nbsp; [PASSNYC. Numeric and Categorical Variables](https://www.kaggle.com/olgabelitskaya/passnyc-numeric-and-categorical-variables)\n",
    "\n",
    "&#x1F310; &nbsp; [PASSNYC. Comparing All Districts with 5th District](passnyc-comparing-all-districts-with-5th-district)\n",
    "\n",
    "&#x1F310; &nbsp; [PASSNYC. Regression Methods](https://www.kaggle.com/olgabelitskaya/passnyc-regression-methods)"
   ]
  },
  {
   "cell_type": "code",
   "execution_count": 8,
   "metadata": {},
   "outputs": [
    {
     "data": {
      "text/html": [
       "<style> \n",
       "@import url('https://fonts.googleapis.com/css?family=Orbitron|Roboto');\n",
       "body {background-color: gainsboro;} \n",
       "a {color: #37c9e1; font-family: 'Roboto';} \n",
       "h1 {color: #37c9e1; font-family: 'Orbitron'; text-shadow: 4px 4px 4px #aaa;} \n",
       "h2, h3 {color: slategray; font-family: 'Orbitron'; text-shadow: 4px 4px 4px #aaa;}\n",
       "h4 {color: #37c9e1; font-family: 'Roboto';}\n",
       "span {text-shadow: 4px 4px 4px #aaa;}\n",
       "div.output_prompt, div.output_area pre {color: slategray;}\n",
       "div.input_prompt, div.output_subarea {color: #37c9e1;}      \n",
       "div.output_stderr pre {background-color: gainsboro;}  \n",
       "div.output_stderr {background-color: slategrey;}               \n",
       "</style>"
      ],
      "text/plain": [
       "<IPython.core.display.HTML object>"
      ]
     },
     "metadata": {},
     "output_type": "display_data"
    }
   ],
   "source": [
    "%%html\n",
    "<style> \n",
    "@import url('https://fonts.googleapis.com/css?family=Orbitron|Roboto');\n",
    "body {background-color: gainsboro;} \n",
    "a {color: #37c9e1; font-family: 'Roboto';} \n",
    "h1 {color: #37c9e1; font-family: 'Orbitron'; text-shadow: 4px 4px 4px #aaa;} \n",
    "h2, h3 {color: slategray; font-family: 'Orbitron'; text-shadow: 4px 4px 4px #aaa;}\n",
    "h4 {color: #37c9e1; font-family: 'Roboto';}\n",
    "span {text-shadow: 4px 4px 4px #aaa;}\n",
    "div.output_prompt, div.output_area pre {color: slategray;}\n",
    "div.input_prompt, div.output_subarea {color: #37c9e1;}      \n",
    "div.output_stderr pre {background-color: gainsboro;}  \n",
    "div.output_stderr {background-color: slategrey;}               \n",
    "</style>"
   ]
  },
  {
   "cell_type": "code",
   "execution_count": 19,
   "metadata": {},
   "outputs": [],
   "source": [
    "import numpy as np \n",
    "import pandas as pd\n",
    "import geopandas as gpd\n",
    "\n",
    "import matplotlib.pyplot as plt\n",
    "import matplotlib.cm as cm\n",
    "from descartes import PolygonPatch\n",
    "\n",
    "from sklearn.model_selection import train_test_split\n",
    "from sklearn.metrics import mean_squared_error, median_absolute_error, mean_absolute_error\n",
    "from sklearn.metrics import r2_score, explained_variance_score\n",
    "\n",
    "from keras.models import Sequential, load_model, Model\n",
    "from keras.optimizers import SGD, RMSprop\n",
    "from keras.layers import Dense, Dropout, LSTM\n",
    "from keras.layers import Activation, Flatten, Input, BatchNormalization\n",
    "from keras.layers import Conv1D, MaxPooling1D, Conv2D, MaxPooling2D\n",
    "from keras.layers.embeddings import Embedding\n",
    "\n",
    "from keras.wrappers.scikit_learn import KerasRegressor\n",
    "from keras.callbacks import EarlyStopping, ReduceLROnPlateau\n",
    "from keras.layers.advanced_activations import PReLU, LeakyReLU\n",
    "from keras.callbacks import ModelCheckpoint"
   ]
  },
  {
   "cell_type": "code",
   "execution_count": 34,
   "metadata": {},
   "outputs": [],
   "source": [
    "def scores(regressor, y_train, y_valid, y_test, y_train_reg, y_valid_reg, y_test_reg):\n",
    "    print(\"_______________________________________\")\n",
    "    print(regressor)\n",
    "    print(\"_______________________________________\")\n",
    "    print(\"EV score. Train: \", explained_variance_score(y_train, y_train_reg))\n",
    "    print(\"EV score. Valid: \", explained_variance_score(y_valid, y_valid_reg))\n",
    "    print(\"EV score. Test: \", explained_variance_score(y_test, y_test_reg))\n",
    "    print(\"---------\")\n",
    "    print(\"R2 score. Train: \", r2_score(y_train, y_train_reg))\n",
    "    print(\"R2 score. Valid: \", r2_score(y_valid, y_valid_reg))\n",
    "    print(\"R2 score. Test: \", r2_score(y_test, y_test_reg))\n",
    "    print(\"---------\")\n",
    "    print(\"MSE score. Train: \", mean_squared_error(y_train, y_train_reg))\n",
    "    print(\"MSE score. Valid: \", mean_squared_error(y_valid, y_valid_reg))\n",
    "    print(\"MSE score. Test: \", mean_squared_error(y_test, y_test_reg))\n",
    "    print(\"---------\")\n",
    "    print(\"MAE score. Train: \", mean_absolute_error(y_train, y_train_reg))\n",
    "    print(\"MAE score. Valid: \", mean_absolute_error(y_valid, y_valid_reg))\n",
    "    print(\"MAE score. Test: \", mean_absolute_error(y_test, y_test_reg))\n",
    "    print(\"---------\")\n",
    "    print(\"MdAE score. Train: \", median_absolute_error(y_train, y_train_reg))\n",
    "    print(\"MdAE score. Valid: \", median_absolute_error(y_valid, y_valid_reg))\n",
    "    print(\"MdAE score. Test: \", median_absolute_error(y_test, y_test_reg))\n",
    "    \n",
    "def loss_plot(fit_history, n):\n",
    "    plt.figure(figsize=(14, 6))\n",
    "\n",
    "    plt.plot(fit_history.history['loss'][n:], \n",
    "             color='slategray', label = 'train')\n",
    "    plt.plot(fit_history.history['val_loss'][n:], \n",
    "             color='#37c9e1', label = 'valid')\n",
    "\n",
    "    plt.legend()\n",
    "    plt.title('Loss Function');  \n",
    "    \n",
    "def mae_plot(fit_history, n):\n",
    "    plt.figure(figsize=(14, 6))\n",
    "\n",
    "    plt.plot(fit_history.history['mean_absolute_error'][n:], \n",
    "             color='slategray', label = 'train')\n",
    "    plt.plot(fit_history.history['val_mean_absolute_error'][n:], \n",
    "             color='#37c9e1', label = 'valid')\n",
    "\n",
    "    plt.legend()\n",
    "    plt.title('Mean Absolute Error');"
   ]
  },
  {
   "cell_type": "code",
   "execution_count": 3,
   "metadata": {},
   "outputs": [],
   "source": [
    "style_dict = {'background-color':'slategray',\n",
    "              'color':'#37c9e1'}"
   ]
  },
  {
   "cell_type": "markdown",
   "metadata": {},
   "source": [
    "## &#x1F310; &nbsp; Load and Preprocess the Data"
   ]
  },
  {
   "cell_type": "code",
   "execution_count": 4,
   "metadata": {},
   "outputs": [
    {
     "data": {
      "text/plain": [
       "((1272, 161), (140, 7))"
      ]
     },
     "execution_count": 4,
     "metadata": {},
     "output_type": "execute_result"
    }
   ],
   "source": [
    "school_explorer = pd.read_csv('2016 School Explorer.csv')\n",
    "d5_shsat = pd.read_csv('D5 SHSAT Registrations and Testers.csv')\n",
    "school_explorer.shape, d5_shsat.shape"
   ]
  },
  {
   "cell_type": "code",
   "execution_count": 5,
   "metadata": {},
   "outputs": [
    {
     "name": "stdout",
     "output_type": "stream",
     "text": [
      "NaN count =  0\n"
     ]
    }
   ],
   "source": [
    "# Fillna or replace values\n",
    "numeric_list = list(school_explorer\\\n",
    ".columns[[7,8]+list(range(16,27))+[28,30,32,34,36]+list(range(41,161))])\n",
    "target_list = ['Average ELA Proficiency','Average Math Proficiency']\n",
    "\n",
    "school_explorer = school_explorer.drop(['Adjusted Grade',\n",
    "                                        'New?',\n",
    "                                        'Other Location Code in LCGMS'], \n",
    "                                       axis=1)\n",
    "school_explorer.loc[[427,1023,712,908],'School Name'] = \\\n",
    "['P.S. 212 D12','P.S. 212 D30','P.S. 253 D21','P.S. 253 D27']\n",
    "\n",
    "percent_list = ['Percent ELL','Percent Asian','Percent Black',\n",
    "                'Percent Hispanic','Percent Black / Hispanic',\n",
    "                'Percent White','Student Attendance Rate',\n",
    "                'Percent of Students Chronically Absent',\n",
    "                'Rigorous Instruction %','Collaborative Teachers %',\n",
    "                'Supportive Environment %','Effective School Leadership %',\n",
    "                'Strong Family-Community Ties %','Trust %']\n",
    "\n",
    "for el in percent_list:\n",
    "    school_explorer[el] = school_explorer[el].astype('str')\n",
    "    school_explorer[el] = school_explorer[el].str.replace(\"%\", \"\")\n",
    "    school_explorer[el] = school_explorer[el].str.replace(\"nan\", \"0\")\n",
    "    school_explorer[el] = school_explorer[el].astype(float)\n",
    "    school_explorer[el].replace(0, np.NaN, inplace=True)\n",
    "    school_explorer[el] = school_explorer[el].interpolate()\n",
    "    \n",
    "school_explorer['Economic Need Index'] = \\\n",
    "school_explorer['Economic Need Index'].interpolate()\n",
    "school_explorer['Average ELA Proficiency'] = \\\n",
    "school_explorer['Average ELA Proficiency'].interpolate()\n",
    "school_explorer['Average Math Proficiency'] = \\\n",
    "school_explorer['Average Math Proficiency'].interpolate()\n",
    "\n",
    "school_explorer['School Income Estimate'] = \\\n",
    "school_explorer['School Income Estimate'].astype('str') \n",
    "for s in [\",\",\"$\",\" \"]:\n",
    "    school_explorer['School Income Estimate'] = \\\n",
    "    school_explorer['School Income Estimate'].str.replace(s, \"\")\n",
    "school_explorer['School Income Estimate'] = \\\n",
    "school_explorer['School Income Estimate'].str.replace(\"nan\", \"0\")\n",
    "\n",
    "school_explorer['School Income Estimate'] = \\\n",
    "school_explorer['School Income Estimate'].astype(float)\n",
    "school_explorer['School Income Estimate'].replace(0, np.NaN, inplace=True)\n",
    "school_explorer['School Income Estimate'] = \\\n",
    "school_explorer['School Income Estimate'].interpolate()\n",
    "\n",
    "rating_list = ['Rigorous Instruction Rating','Collaborative Teachers Rating',\n",
    "               'Supportive Environment Rating','Effective School Leadership Rating',\n",
    "               'Strong Family-Community Ties Rating','Strong Family-Community Ties Rating',\n",
    "               'Trust Rating','Student Achievement Rating']\n",
    "\n",
    "for el in rating_list:\n",
    "    moda_value = school_explorer[el].value_counts().idxmax()\n",
    "    school_explorer[el] = school_explorer[el].fillna(moda_value) \n",
    "    \n",
    "category_list1 = ['District','Community School?','City','Grades']\n",
    "                  \n",
    "category_list2 = ['Rigorous Instruction Rating',\n",
    "                  'Collaborative Teachers Rating',\n",
    "                  'Supportive Environment Rating',\n",
    "                  'Effective School Leadership Rating',\n",
    "                  'Strong Family-Community Ties Rating',\n",
    "                  'Trust Rating','Student Achievement Rating']\n",
    "\n",
    "for feature in category_list1:\n",
    "    feature_cat = pd.factorize(school_explorer[feature])\n",
    "    school_explorer[feature] = feature_cat[0]\n",
    "    \n",
    "for feature in category_list2:\n",
    "    feature_pairs = dict(zip(['Not Meeting Target', 'Meeting Target', \n",
    "                              'Approaching Target', 'Exceeding Target'],\n",
    "                             ['0','2','1','3']))\n",
    "    school_explorer[feature].replace(feature_pairs,inplace=True)\n",
    "    school_explorer[feature] = school_explorer[feature].astype(int)\n",
    "    \n",
    "category_list = list(category_list1+category_list2)\n",
    "    \n",
    "print('NaN count = ', sum(school_explorer.isna().sum()))  "
   ]
  },
  {
   "cell_type": "code",
   "execution_count": 6,
   "metadata": {},
   "outputs": [
    {
     "data": {
      "text/plain": [
       "(21, 144)"
      ]
     },
     "execution_count": 6,
     "metadata": {},
     "output_type": "execute_result"
    }
   ],
   "source": [
    "# Merge two datasets\n",
    "d5_shsat_2016 = d5_shsat[['DBN','Number of students who registered for the SHSAT',\n",
    "                          'Number of students who took the SHSAT']][d5_shsat['Year of SHST']==2016]\\\n",
    ".groupby(['DBN'],as_index=False).agg(np.sum)\n",
    "\n",
    "d5_shsat_2016['Took SHSAT %'] = d5_shsat_2016['Number of students who took the SHSAT']\\\n",
    "/d5_shsat_2016['Number of students who registered for the SHSAT']\n",
    "\n",
    "d5_shsat_2016['Took SHSAT %'] = d5_shsat_2016['Took SHSAT %'].fillna(0).apply(lambda x: round(x,3))\n",
    "d5_shsat_2016.rename(columns={'DBN':'Location Code'}, inplace=True)\n",
    "\n",
    "d5_shsat_2016 = pd.merge(school_explorer[['Location Code']+numeric_list+target_list],\n",
    "                         d5_shsat_2016, \n",
    "                         on='Location Code')\n",
    "d5_shsat_2016.shape"
   ]
  },
  {
   "cell_type": "markdown",
   "metadata": {},
   "source": [
    "## &#x1F310; &nbsp; Split the Data for Neural Networks Training\n",
    "The predictions of economic indicators for schools are based on the data about social environment, ethnic composition and educational results."
   ]
  },
  {
   "cell_type": "markdown",
   "metadata": {},
   "source": [
    "#### The first set of features"
   ]
  },
  {
   "cell_type": "code",
   "execution_count": 37,
   "metadata": {},
   "outputs": [
    {
     "data": {
      "text/plain": [
       "((890, 138), (191, 138), (191, 138), (890,), (191,), (191,))"
      ]
     },
     "execution_count": 37,
     "metadata": {},
     "output_type": "execute_result"
    }
   ],
   "source": [
    "# data = school_explorer\n",
    "# features = numeric veriables+target_list-economic_indicators, targets = Economic Need Index\n",
    "features = school_explorer[numeric_list+target_list]\\\n",
    ".drop(['Economic Need Index','School Income Estimate'], axis=1).values\n",
    "targets = school_explorer['Economic Need Index'].values\n",
    "\n",
    "X_train1, X_test1, y_train1, y_test1 = \\\n",
    "train_test_split(features, targets, test_size=0.3, random_state=1)\n",
    "\n",
    "n = int(len(X_test1)/2)\n",
    "X_valid1, y_valid1 = X_test1[:n], y_test1[:n]\n",
    "X_test1, y_test1 = X_test1[n:], y_test1[n:]\n",
    "X_train1.shape, X_test1.shape, X_valid1.shape, y_train1.shape, y_test1.shape, y_valid1.shape"
   ]
  },
  {
   "cell_type": "markdown",
   "metadata": {},
   "source": [
    "#### The second set of features"
   ]
  },
  {
   "cell_type": "code",
   "execution_count": 38,
   "metadata": {},
   "outputs": [
    {
     "data": {
      "text/plain": [
       "((890, 138), (191, 138), (191, 138), (890,), (191,), (191,))"
      ]
     },
     "execution_count": 38,
     "metadata": {},
     "output_type": "execute_result"
    }
   ],
   "source": [
    "# data = school_explorer\n",
    "# features = numeric veriables+target_list-economic_indicators, targets = School Income Estimate\n",
    "features = school_explorer[numeric_list+target_list]\\\n",
    ".drop(['Economic Need Index','School Income Estimate'], axis=1).values\n",
    "targets = school_explorer['School Income Estimate'].values\n",
    "\n",
    "X_train2, X_test2, y_train2, y_test2 = \\\n",
    "train_test_split(features, targets, test_size=0.3, random_state=1)\n",
    "\n",
    "n = int(len(X_test2)/2)\n",
    "X_valid2, y_valid2 = X_test2[:n], y_test2[:n]\n",
    "X_test2, y_test2 = X_test2[n:], y_test2[n:]\n",
    "X_train2.shape, X_test2.shape, X_valid2.shape, y_train2.shape, y_test2.shape, y_valid2.shape"
   ]
  },
  {
   "cell_type": "markdown",
   "metadata": {},
   "source": [
    "## &#x1F310; &nbsp; Neural Network Regressors\n",
    "### MLP\n",
    "#### The first set of features"
   ]
  },
  {
   "cell_type": "code",
   "execution_count": 47,
   "metadata": {},
   "outputs": [],
   "source": [
    "def mlp_model1():\n",
    "    model = Sequential()\n",
    "    \n",
    "    model.add(Dense(138, input_dim=138))\n",
    "    model.add(LeakyReLU(alpha=0.02))\n",
    "    model.add(Dense(138))\n",
    "    model.add(LeakyReLU(alpha=0.02))\n",
    "    \n",
    "    model.add(Dropout(0.1))\n",
    "    \n",
    "    model.add(Dense(138*8))\n",
    "    model.add(LeakyReLU(alpha=0.02))\n",
    "    model.add(Dense(138*8))\n",
    "    model.add(LeakyReLU(alpha=0.02))\n",
    "    \n",
    "    model.add(Dense(1))\n",
    "    \n",
    "    model.compile(loss='mse', optimizer='rmsprop', metrics=['mae'])\n",
    "    return model\n",
    "\n",
    "mlp_model1 = mlp_model1()"
   ]
  },
  {
   "cell_type": "code",
   "execution_count": 48,
   "metadata": {},
   "outputs": [],
   "source": [
    "mlp_checkpointer1 = ModelCheckpoint(filepath='mlp_model1.passnyc.hdf5', \n",
    "                                    verbose=2, save_best_only=True)\n",
    "mlp_lr_reduction1 = ReduceLROnPlateau(monitor='val_loss', \n",
    "                                      patience=5, verbose=2, factor=0.1)"
   ]
  },
  {
   "cell_type": "code",
   "execution_count": 49,
   "metadata": {
    "scrolled": false
   },
   "outputs": [
    {
     "name": "stdout",
     "output_type": "stream",
     "text": [
      "Train on 890 samples, validate on 191 samples\n",
      "Epoch 1/35\n",
      " - 1s - loss: 7107.8187 - mean_absolute_error: 26.0676 - val_loss: 11.3594 - val_mean_absolute_error: 3.0481\n",
      "\n",
      "Epoch 00001: val_loss improved from inf to 11.35943, saving model to mlp_model1.passnyc.hdf5\n",
      "Epoch 2/35\n",
      " - 0s - loss: 31.1538 - mean_absolute_error: 4.5519 - val_loss: 9.9296 - val_mean_absolute_error: 2.9634\n",
      "\n",
      "Epoch 00002: val_loss improved from 11.35943 to 9.92960, saving model to mlp_model1.passnyc.hdf5\n",
      "Epoch 3/35\n",
      " - 0s - loss: 27.0614 - mean_absolute_error: 3.9291 - val_loss: 103.9833 - val_mean_absolute_error: 8.9930\n",
      "\n",
      "Epoch 00003: val_loss did not improve from 9.92960\n",
      "Epoch 4/35\n",
      " - 0s - loss: 20.3127 - mean_absolute_error: 2.6967 - val_loss: 2.9420 - val_mean_absolute_error: 1.5763\n",
      "\n",
      "Epoch 00004: val_loss improved from 9.92960 to 2.94195, saving model to mlp_model1.passnyc.hdf5\n",
      "Epoch 5/35\n",
      " - 0s - loss: 16.7811 - mean_absolute_error: 2.9219 - val_loss: 4.9902 - val_mean_absolute_error: 1.5694\n",
      "\n",
      "Epoch 00005: val_loss did not improve from 2.94195\n",
      "Epoch 6/35\n",
      " - 0s - loss: 18.3840 - mean_absolute_error: 2.4825 - val_loss: 0.5563 - val_mean_absolute_error: 0.3934\n",
      "\n",
      "Epoch 00006: val_loss improved from 2.94195 to 0.55635, saving model to mlp_model1.passnyc.hdf5\n",
      "Epoch 7/35\n",
      " - 0s - loss: 5.1729 - mean_absolute_error: 1.6198 - val_loss: 4.7789 - val_mean_absolute_error: 1.4759\n",
      "\n",
      "Epoch 00007: val_loss did not improve from 0.55635\n",
      "Epoch 8/35\n",
      " - 0s - loss: 1.7918 - mean_absolute_error: 0.8719 - val_loss: 0.4756 - val_mean_absolute_error: 0.6300\n",
      "\n",
      "Epoch 00008: val_loss improved from 0.55635 to 0.47562, saving model to mlp_model1.passnyc.hdf5\n",
      "Epoch 9/35\n",
      " - 0s - loss: 2.2911 - mean_absolute_error: 1.0045 - val_loss: 0.0960 - val_mean_absolute_error: 0.2171\n",
      "\n",
      "Epoch 00009: val_loss improved from 0.47562 to 0.09601, saving model to mlp_model1.passnyc.hdf5\n",
      "Epoch 10/35\n",
      " - 0s - loss: 0.3626 - mean_absolute_error: 0.4312 - val_loss: 0.2972 - val_mean_absolute_error: 0.3624\n",
      "\n",
      "Epoch 00010: val_loss did not improve from 0.09601\n",
      "Epoch 11/35\n",
      " - 0s - loss: 0.4597 - mean_absolute_error: 0.4864 - val_loss: 0.0411 - val_mean_absolute_error: 0.1361\n",
      "\n",
      "Epoch 00011: val_loss improved from 0.09601 to 0.04107, saving model to mlp_model1.passnyc.hdf5\n",
      "Epoch 12/35\n",
      " - 0s - loss: 0.2195 - mean_absolute_error: 0.3002 - val_loss: 0.0280 - val_mean_absolute_error: 0.1248\n",
      "\n",
      "Epoch 00012: val_loss improved from 0.04107 to 0.02805, saving model to mlp_model1.passnyc.hdf5\n",
      "Epoch 13/35\n",
      " - 0s - loss: 0.1212 - mean_absolute_error: 0.2595 - val_loss: 0.3117 - val_mean_absolute_error: 0.5276\n",
      "\n",
      "Epoch 00013: val_loss did not improve from 0.02805\n",
      "Epoch 14/35\n",
      " - 0s - loss: 0.1177 - mean_absolute_error: 0.2407 - val_loss: 0.0206 - val_mean_absolute_error: 0.1138\n",
      "\n",
      "Epoch 00014: val_loss improved from 0.02805 to 0.02064, saving model to mlp_model1.passnyc.hdf5\n",
      "Epoch 15/35\n",
      " - 0s - loss: 0.1020 - mean_absolute_error: 0.2350 - val_loss: 0.1310 - val_mean_absolute_error: 0.3264\n",
      "\n",
      "Epoch 00015: val_loss did not improve from 0.02064\n",
      "Epoch 16/35\n",
      " - 0s - loss: 0.0745 - mean_absolute_error: 0.2227 - val_loss: 0.1618 - val_mean_absolute_error: 0.3504\n",
      "\n",
      "Epoch 00016: val_loss did not improve from 0.02064\n",
      "Epoch 17/35\n",
      " - 0s - loss: 0.0686 - mean_absolute_error: 0.2036 - val_loss: 0.0695 - val_mean_absolute_error: 0.2091\n",
      "\n",
      "Epoch 00017: val_loss did not improve from 0.02064\n",
      "Epoch 18/35\n",
      " - 0s - loss: 0.0773 - mean_absolute_error: 0.2259 - val_loss: 0.0311 - val_mean_absolute_error: 0.1380\n",
      "\n",
      "Epoch 00018: val_loss did not improve from 0.02064\n",
      "Epoch 19/35\n",
      " - 0s - loss: 0.0547 - mean_absolute_error: 0.1976 - val_loss: 0.0558 - val_mean_absolute_error: 0.1869\n",
      "\n",
      "Epoch 00019: val_loss did not improve from 0.02064\n",
      "\n",
      "Epoch 00019: ReduceLROnPlateau reducing learning rate to 0.00010000000474974513.\n",
      "Epoch 20/35\n",
      " - 0s - loss: 0.0224 - mean_absolute_error: 0.1078 - val_loss: 0.0158 - val_mean_absolute_error: 0.1016\n",
      "\n",
      "Epoch 00020: val_loss improved from 0.02064 to 0.01576, saving model to mlp_model1.passnyc.hdf5\n",
      "Epoch 21/35\n",
      " - 0s - loss: 0.0123 - mean_absolute_error: 0.0842 - val_loss: 0.0144 - val_mean_absolute_error: 0.0980\n",
      "\n",
      "Epoch 00021: val_loss improved from 0.01576 to 0.01442, saving model to mlp_model1.passnyc.hdf5\n",
      "Epoch 22/35\n",
      " - 0s - loss: 0.0102 - mean_absolute_error: 0.0776 - val_loss: 0.0139 - val_mean_absolute_error: 0.0966\n",
      "\n",
      "Epoch 00022: val_loss improved from 0.01442 to 0.01387, saving model to mlp_model1.passnyc.hdf5\n",
      "Epoch 23/35\n",
      " - 0s - loss: 0.0101 - mean_absolute_error: 0.0765 - val_loss: 0.0121 - val_mean_absolute_error: 0.0870\n",
      "\n",
      "Epoch 00023: val_loss improved from 0.01387 to 0.01207, saving model to mlp_model1.passnyc.hdf5\n",
      "Epoch 24/35\n",
      " - 0s - loss: 0.0087 - mean_absolute_error: 0.0710 - val_loss: 0.0132 - val_mean_absolute_error: 0.0941\n",
      "\n",
      "Epoch 00024: val_loss did not improve from 0.01207\n",
      "Epoch 25/35\n",
      " - 0s - loss: 0.0084 - mean_absolute_error: 0.0701 - val_loss: 0.0130 - val_mean_absolute_error: 0.0923\n",
      "\n",
      "Epoch 00025: val_loss did not improve from 0.01207\n",
      "Epoch 26/35\n",
      " - 0s - loss: 0.0079 - mean_absolute_error: 0.0674 - val_loss: 0.0116 - val_mean_absolute_error: 0.0851\n",
      "\n",
      "Epoch 00026: val_loss improved from 0.01207 to 0.01156, saving model to mlp_model1.passnyc.hdf5\n",
      "Epoch 27/35\n",
      " - 0s - loss: 0.0074 - mean_absolute_error: 0.0658 - val_loss: 0.0132 - val_mean_absolute_error: 0.0918\n",
      "\n",
      "Epoch 00027: val_loss did not improve from 0.01156\n",
      "Epoch 28/35\n",
      " - 0s - loss: 0.0076 - mean_absolute_error: 0.0675 - val_loss: 0.0101 - val_mean_absolute_error: 0.0743\n",
      "\n",
      "Epoch 00028: val_loss improved from 0.01156 to 0.01012, saving model to mlp_model1.passnyc.hdf5\n",
      "Epoch 29/35\n",
      " - 1s - loss: 0.0074 - mean_absolute_error: 0.0647 - val_loss: 0.0129 - val_mean_absolute_error: 0.0930\n",
      "\n",
      "Epoch 00029: val_loss did not improve from 0.01012\n",
      "Epoch 30/35\n",
      " - 0s - loss: 0.0065 - mean_absolute_error: 0.0618 - val_loss: 0.0126 - val_mean_absolute_error: 0.0913\n",
      "\n",
      "Epoch 00030: val_loss did not improve from 0.01012\n",
      "Epoch 31/35\n",
      " - 0s - loss: 0.0065 - mean_absolute_error: 0.0607 - val_loss: 0.0120 - val_mean_absolute_error: 0.0894\n",
      "\n",
      "Epoch 00031: val_loss did not improve from 0.01012\n",
      "Epoch 32/35\n",
      " - 1s - loss: 0.0066 - mean_absolute_error: 0.0629 - val_loss: 0.0120 - val_mean_absolute_error: 0.0890\n",
      "\n",
      "Epoch 00032: val_loss did not improve from 0.01012\n",
      "Epoch 33/35\n",
      " - 0s - loss: 0.0065 - mean_absolute_error: 0.0603 - val_loss: 0.0116 - val_mean_absolute_error: 0.0869\n",
      "\n",
      "Epoch 00033: val_loss did not improve from 0.01012\n",
      "\n",
      "Epoch 00033: ReduceLROnPlateau reducing learning rate to 1.0000000474974514e-05.\n",
      "Epoch 34/35\n",
      " - 0s - loss: 0.0053 - mean_absolute_error: 0.0561 - val_loss: 0.0109 - val_mean_absolute_error: 0.0825\n",
      "\n",
      "Epoch 00034: val_loss did not improve from 0.01012\n",
      "Epoch 35/35\n",
      " - 0s - loss: 0.0056 - mean_absolute_error: 0.0563 - val_loss: 0.0108 - val_mean_absolute_error: 0.0824\n",
      "\n",
      "Epoch 00035: val_loss did not improve from 0.01012\n"
     ]
    }
   ],
   "source": [
    "mlp_history1 = mlp_model1.fit(X_train1, y_train1, \n",
    "                              epochs=35, batch_size=64, verbose=2,\n",
    "                              validation_data=(X_valid1, y_valid1),\n",
    "                              callbacks=[mlp_checkpointer1,mlp_lr_reduction1])"
   ]
  },
  {
   "cell_type": "code",
   "execution_count": 50,
   "metadata": {},
   "outputs": [
    {
     "data": {
      "image/png": "[encoded data removed]",
      "text/plain": [
       "<Figure size 1008x432 with 1 Axes>"
      ]
     },
     "metadata": {},
     "output_type": "display_data"
    },
    {
     "data": {
      "image/png": "[encoded data removed]",
      "text/plain": [
       "<Figure size 1008x432 with 1 Axes>"
      ]
     },
     "metadata": {},
     "output_type": "display_data"
    }
   ],
   "source": [
    "loss_plot(mlp_history1,5)\n",
    "mae_plot(mlp_history1,5)"
   ]
  },
  {
   "cell_type": "code",
   "execution_count": 51,
   "metadata": {},
   "outputs": [
    {
     "name": "stdout",
     "output_type": "stream",
     "text": [
      "_______________________________________\n",
      "MLP; Economic Need Index\n",
      "_______________________________________\n",
      "EV score. Train:  0.8763279269573927\n",
      "EV score. Valid:  0.8056372966397766\n",
      "EV score. Test:  0.7640083544137508\n",
      "---------\n",
      "R2 score. Train:  0.8743824322084917\n",
      "R2 score. Valid:  0.8050620681444952\n",
      "R2 score. Test:  0.7630214788552201\n",
      "---------\n",
      "MSE score. Train:  0.005293868639277571\n",
      "MSE score. Valid:  0.010115094178608779\n",
      "MSE score. Test:  0.010337615750766901\n",
      "---------\n",
      "MAE score. Train:  0.05590035007807646\n",
      "MAE score. Valid:  0.07434087941183158\n",
      "MAE score. Test:  0.07548642137755898\n",
      "---------\n",
      "MdAE score. Train:  0.04377669405937201\n",
      "MdAE score. Valid:  0.055610644817352284\n",
      "MdAE score. Test:  0.05515877771377564\n"
     ]
    }
   ],
   "source": [
    "mlp_model1.load_weights('mlp_model1.passnyc.hdf5')\n",
    "\n",
    "y_train_mlp1 = mlp_model1.predict(X_train1)\n",
    "y_valid_mlp1 = mlp_model1.predict(X_valid1)\n",
    "y_test_mlp1 = mlp_model1.predict(X_test1)\n",
    "\n",
    "scores('MLP; Economic Need Index', \n",
    "       y_train1, y_valid1, y_test1, y_train_mlp1, y_valid_mlp1, y_test_mlp1)"
   ]
  },
  {
   "cell_type": "markdown",
   "metadata": {},
   "source": [
    "#### The second set of features"
   ]
  },
  {
   "cell_type": "code",
   "execution_count": 52,
   "metadata": {},
   "outputs": [],
   "source": [
    "def mlp_model2():\n",
    "    model = Sequential()\n",
    "    \n",
    "    model.add(Dense(138, input_dim=138))\n",
    "    model.add(LeakyReLU(alpha=0.02))\n",
    "    model.add(Dense(138))\n",
    "    model.add(LeakyReLU(alpha=0.02))\n",
    "    \n",
    "    model.add(Dropout(0.1))\n",
    "    \n",
    "    model.add(Dense(138*8))\n",
    "    model.add(LeakyReLU(alpha=0.02))\n",
    "    model.add(Dense(138*8))\n",
    "    model.add(LeakyReLU(alpha=0.02))\n",
    "    \n",
    "    model.add(Dense(1))\n",
    "    \n",
    "    model.compile(loss='mse', optimizer='rmsprop', metrics=['mae'])\n",
    "    return model\n",
    "\n",
    "mlp_model2 = mlp_model2()"
   ]
  },
  {
   "cell_type": "code",
   "execution_count": 53,
   "metadata": {},
   "outputs": [],
   "source": [
    "mlp_checkpointer2 = ModelCheckpoint(filepath='mlp_model2.passnyc.hdf5', \n",
    "                                    verbose=2, save_best_only=True)\n",
    "mlp_lr_reduction2 = ReduceLROnPlateau(monitor='val_loss', \n",
    "                                      patience=5, verbose=2, factor=0.1)"
   ]
  },
  {
   "cell_type": "code",
   "execution_count": 55,
   "metadata": {
    "scrolled": false
   },
   "outputs": [
    {
     "name": "stdout",
     "output_type": "stream",
     "text": [
      "Train on 890 samples, validate on 191 samples\n",
      "Epoch 1/35\n",
      " - 1s - loss: 1210110458.5348 - mean_absolute_error: 26455.2474 - val_loss: 504321425.0890 - val_mean_absolute_error: 15197.4786\n",
      "\n",
      "Epoch 00001: val_loss improved from inf to 504321425.08901, saving model to mlp_model2.passnyc.hdf5\n",
      "Epoch 2/35\n",
      " - 0s - loss: 422221132.8000 - mean_absolute_error: 15077.1990 - val_loss: 402741575.0366 - val_mean_absolute_error: 13478.2230\n",
      "\n",
      "Epoch 00002: val_loss improved from 504321425.08901 to 402741575.03665, saving model to mlp_model2.passnyc.hdf5\n",
      "Epoch 3/35\n",
      " - 0s - loss: 332014954.8584 - mean_absolute_error: 13439.7539 - val_loss: 326759193.1309 - val_mean_absolute_error: 13968.3357\n",
      "\n",
      "Epoch 00003: val_loss improved from 402741575.03665 to 326759193.13089, saving model to mlp_model2.passnyc.hdf5\n",
      "Epoch 4/35\n",
      " - 0s - loss: 292512011.6494 - mean_absolute_error: 12872.7286 - val_loss: 274062614.7853 - val_mean_absolute_error: 12567.9727\n",
      "\n",
      "Epoch 00004: val_loss improved from 326759193.13089 to 274062614.78534, saving model to mlp_model2.passnyc.hdf5\n",
      "Epoch 5/35\n",
      " - 0s - loss: 280717038.4899 - mean_absolute_error: 12441.4572 - val_loss: 260950916.0209 - val_mean_absolute_error: 12145.5158\n",
      "\n",
      "Epoch 00005: val_loss improved from 274062614.78534 to 260950916.02094, saving model to mlp_model2.passnyc.hdf5\n",
      "Epoch 6/35\n",
      " - 1s - loss: 259909460.2787 - mean_absolute_error: 11868.0209 - val_loss: 220030712.4607 - val_mean_absolute_error: 10319.7995\n",
      "\n",
      "Epoch 00006: val_loss improved from 260950916.02094 to 220030712.46073, saving model to mlp_model2.passnyc.hdf5\n",
      "Epoch 7/35\n",
      " - 0s - loss: 231299648.7551 - mean_absolute_error: 11451.1537 - val_loss: 214162754.3455 - val_mean_absolute_error: 10143.0008\n",
      "\n",
      "Epoch 00007: val_loss improved from 220030712.46073 to 214162754.34555, saving model to mlp_model2.passnyc.hdf5\n",
      "Epoch 8/35\n",
      " - 0s - loss: 245781998.1303 - mean_absolute_error: 11633.5678 - val_loss: 205626289.4241 - val_mean_absolute_error: 9710.1269\n",
      "\n",
      "Epoch 00008: val_loss improved from 214162754.34555 to 205626289.42408, saving model to mlp_model2.passnyc.hdf5\n",
      "Epoch 9/35\n",
      " - 0s - loss: 237089072.8629 - mean_absolute_error: 11564.1258 - val_loss: 329400267.7277 - val_mean_absolute_error: 12502.8049\n",
      "\n",
      "Epoch 00009: val_loss did not improve from 205626289.42408\n",
      "Epoch 10/35\n",
      " - 0s - loss: 235665105.4742 - mean_absolute_error: 11281.0187 - val_loss: 199212995.9372 - val_mean_absolute_error: 9749.5907\n",
      "\n",
      "Epoch 00010: val_loss improved from 205626289.42408 to 199212995.93717, saving model to mlp_model2.passnyc.hdf5\n",
      "Epoch 11/35\n",
      " - 0s - loss: 220760133.9326 - mean_absolute_error: 10989.5831 - val_loss: 218418551.7906 - val_mean_absolute_error: 10003.8049\n",
      "\n",
      "Epoch 00011: val_loss did not improve from 199212995.93717\n",
      "Epoch 12/35\n",
      " - 1s - loss: 226210149.3933 - mean_absolute_error: 11077.6338 - val_loss: 231470949.2775 - val_mean_absolute_error: 11335.0713\n",
      "\n",
      "Epoch 00012: val_loss did not improve from 199212995.93717\n",
      "Epoch 13/35\n",
      " - 0s - loss: 204226724.2427 - mean_absolute_error: 10826.3035 - val_loss: 193227097.8848 - val_mean_absolute_error: 9645.8829\n",
      "\n",
      "Epoch 00013: val_loss improved from 199212995.93717 to 193227097.88482, saving model to mlp_model2.passnyc.hdf5\n",
      "Epoch 14/35\n",
      " - 0s - loss: 208239512.5933 - mean_absolute_error: 10792.4305 - val_loss: 389181701.3613 - val_mean_absolute_error: 14244.8548\n",
      "\n",
      "Epoch 00014: val_loss did not improve from 193227097.88482\n",
      "Epoch 15/35\n",
      " - 0s - loss: 214997519.0652 - mean_absolute_error: 10820.2657 - val_loss: 187455032.6283 - val_mean_absolute_error: 9620.1199\n",
      "\n",
      "Epoch 00015: val_loss improved from 193227097.88482 to 187455032.62827, saving model to mlp_model2.passnyc.hdf5\n",
      "Epoch 16/35\n",
      " - 0s - loss: 208138921.9236 - mean_absolute_error: 10787.0699 - val_loss: 185507549.8220 - val_mean_absolute_error: 9539.5358\n",
      "\n",
      "Epoch 00016: val_loss improved from 187455032.62827 to 185507549.82199, saving model to mlp_model2.passnyc.hdf5\n",
      "Epoch 17/35\n",
      " - 0s - loss: 213259630.2742 - mean_absolute_error: 10803.0022 - val_loss: 262442006.1152 - val_mean_absolute_error: 11031.3705\n",
      "\n",
      "Epoch 00017: val_loss did not improve from 185507549.82199\n",
      "Epoch 18/35\n",
      " - 0s - loss: 223718553.8876 - mean_absolute_error: 10974.8358 - val_loss: 191236564.1047 - val_mean_absolute_error: 9552.8728\n",
      "\n",
      "Epoch 00018: val_loss did not improve from 185507549.82199\n",
      "Epoch 19/35\n",
      " - 0s - loss: 209787113.3843 - mean_absolute_error: 10814.6750 - val_loss: 186933911.2042 - val_mean_absolute_error: 9609.3579\n",
      "\n",
      "Epoch 00019: val_loss did not improve from 185507549.82199\n",
      "Epoch 20/35\n",
      " - 0s - loss: 192195064.2337 - mean_absolute_error: 10346.5716 - val_loss: 367935896.1257 - val_mean_absolute_error: 13728.2123\n",
      "\n",
      "Epoch 00020: val_loss did not improve from 185507549.82199\n",
      "Epoch 21/35\n",
      " - 0s - loss: 219771100.1888 - mean_absolute_error: 10830.6586 - val_loss: 289341750.7853 - val_mean_absolute_error: 13574.1110\n",
      "\n",
      "Epoch 00021: val_loss did not improve from 185507549.82199\n",
      "\n",
      "Epoch 00021: ReduceLROnPlateau reducing learning rate to 0.00010000000474974513.\n",
      "Epoch 22/35\n",
      " - 0s - loss: 176602074.8944 - mean_absolute_error: 10220.0807 - val_loss: 182345370.4712 - val_mean_absolute_error: 9607.0870\n",
      "\n",
      "Epoch 00022: val_loss improved from 185507549.82199 to 182345370.47120, saving model to mlp_model2.passnyc.hdf5\n",
      "Epoch 23/35\n",
      " - 0s - loss: 160403743.3888 - mean_absolute_error: 9412.9405 - val_loss: 182029505.3403 - val_mean_absolute_error: 9592.4196\n",
      "\n",
      "Epoch 00023: val_loss improved from 182345370.47120 to 182029505.34031, saving model to mlp_model2.passnyc.hdf5\n",
      "Epoch 24/35\n",
      " - 0s - loss: 162385294.7416 - mean_absolute_error: 9485.7345 - val_loss: 182511463.9581 - val_mean_absolute_error: 9670.8151\n",
      "\n",
      "Epoch 00024: val_loss did not improve from 182029505.34031\n",
      "Epoch 25/35\n",
      " - 0s - loss: 165199744.7730 - mean_absolute_error: 9564.5944 - val_loss: 181289175.6230 - val_mean_absolute_error: 9589.2316\n",
      "\n",
      "Epoch 00025: val_loss improved from 182029505.34031 to 181289175.62304, saving model to mlp_model2.passnyc.hdf5\n",
      "Epoch 26/35\n",
      " - 0s - loss: 160782032.3955 - mean_absolute_error: 9395.4488 - val_loss: 182803546.6387 - val_mean_absolute_error: 9722.7483\n",
      "\n",
      "Epoch 00026: val_loss did not improve from 181289175.62304\n",
      "Epoch 27/35\n",
      " - 0s - loss: 163337480.9888 - mean_absolute_error: 9491.3571 - val_loss: 183433731.2670 - val_mean_absolute_error: 9442.4916\n",
      "\n",
      "Epoch 00027: val_loss did not improve from 181289175.62304\n",
      "Epoch 28/35\n",
      " - 0s - loss: 163085138.6966 - mean_absolute_error: 9455.7970 - val_loss: 180408302.0733 - val_mean_absolute_error: 9477.6359\n",
      "\n",
      "Epoch 00028: val_loss improved from 181289175.62304 to 180408302.07330, saving model to mlp_model2.passnyc.hdf5\n",
      "Epoch 29/35\n",
      " - 0s - loss: 160445022.9753 - mean_absolute_error: 9400.4431 - val_loss: 180228666.4712 - val_mean_absolute_error: 9483.5537\n",
      "\n",
      "Epoch 00029: val_loss improved from 180408302.07330 to 180228666.47120, saving model to mlp_model2.passnyc.hdf5\n",
      "Epoch 30/35\n",
      " - 0s - loss: 163858086.0404 - mean_absolute_error: 9543.9680 - val_loss: 180030810.9738 - val_mean_absolute_error: 9525.3220\n",
      "\n",
      "Epoch 00030: val_loss improved from 180228666.47120 to 180030810.97382, saving model to mlp_model2.passnyc.hdf5\n",
      "Epoch 31/35\n",
      " - 0s - loss: 161631428.0629 - mean_absolute_error: 9386.8382 - val_loss: 187050045.7382 - val_mean_absolute_error: 9969.1106\n",
      "\n",
      "Epoch 00031: val_loss did not improve from 180030810.97382\n",
      "Epoch 32/35\n",
      " - 0s - loss: 158205451.6854 - mean_absolute_error: 9435.9250 - val_loss: 179485480.3770 - val_mean_absolute_error: 9522.8385\n",
      "\n",
      "Epoch 00032: val_loss improved from 180030810.97382 to 179485480.37696, saving model to mlp_model2.passnyc.hdf5\n",
      "Epoch 33/35\n",
      " - 0s - loss: 159295555.0562 - mean_absolute_error: 9332.2636 - val_loss: 182731939.3508 - val_mean_absolute_error: 9789.1094\n",
      "\n",
      "Epoch 00033: val_loss did not improve from 179485480.37696\n",
      "Epoch 34/35\n",
      " - 0s - loss: 163100121.8517 - mean_absolute_error: 9516.8197 - val_loss: 179398294.4503 - val_mean_absolute_error: 9540.8693\n",
      "\n",
      "Epoch 00034: val_loss improved from 179485480.37696 to 179398294.45026, saving model to mlp_model2.passnyc.hdf5\n",
      "Epoch 35/35\n",
      " - 0s - loss: 154051434.1034 - mean_absolute_error: 9218.8255 - val_loss: 180270651.1414 - val_mean_absolute_error: 9667.5338\n",
      "\n",
      "Epoch 00035: val_loss did not improve from 179398294.45026\n"
     ]
    }
   ],
   "source": [
    "mlp_history2 = mlp_model2.fit(X_train2, y_train2, \n",
    "                              epochs=35, batch_size=64, verbose=2,\n",
    "                              validation_data=(X_valid2, y_valid2),\n",
    "                              callbacks=[mlp_checkpointer2,mlp_lr_reduction2])"
   ]
  },
  {
   "cell_type": "code",
   "execution_count": 56,
   "metadata": {},
   "outputs": [
    {
     "data": {
      "image/png": "[encoded data removed]",
      "text/plain": [
       "<Figure size 1008x432 with 1 Axes>"
      ]
     },
     "metadata": {},
     "output_type": "display_data"
    },
    {
     "data": {
      "image/png": "[encoded data removed]",
      "text/plain": [
       "<Figure size 1008x432 with 1 Axes>"
      ]
     },
     "metadata": {},
     "output_type": "display_data"
    }
   ],
   "source": [
    "loss_plot(mlp_history2,5)\n",
    "mae_plot(mlp_history2,5)"
   ]
  },
  {
   "cell_type": "code",
   "execution_count": 57,
   "metadata": {},
   "outputs": [
    {
     "name": "stdout",
     "output_type": "stream",
     "text": [
      "_______________________________________\n",
      "MLP; School Income Estimate\n",
      "_______________________________________\n",
      "EV score. Train:  0.6488275841314393\n",
      "EV score. Valid:  0.6502580453534286\n",
      "EV score. Test:  0.5946482093719807\n",
      "---------\n",
      "R2 score. Train:  0.6479330865046751\n",
      "R2 score. Valid:  0.6502310875336996\n",
      "R2 score. Test:  0.5941727752819342\n",
      "---------\n",
      "MSE score. Train:  153485759.16886923\n",
      "MSE score. Valid:  179398281.042733\n",
      "MSE score. Test:  159216381.42940935\n",
      "---------\n",
      "MAE score. Train:  9140.634333290089\n",
      "MAE score. Valid:  9540.868868844344\n",
      "MAE score. Test:  9746.050438858478\n",
      "---------\n",
      "MdAE score. Train:  7001.370117187502\n",
      "MdAE score. Valid:  7597.4820312500015\n",
      "MdAE score. Test:  8368.498124999998\n"
     ]
    }
   ],
   "source": [
    "mlp_model2.load_weights('mlp_model2.passnyc.hdf5')\n",
    "\n",
    "y_train_mlp2 = mlp_model2.predict(X_train2)\n",
    "y_valid_mlp2 = mlp_model2.predict(X_valid2)\n",
    "y_test_mlp2 = mlp_model2.predict(X_test2)\n",
    "\n",
    "scores('MLP; School Income Estimate', \n",
    "       y_train2, y_valid2, y_test2, y_train_mlp2, y_valid_mlp2, y_test_mlp2)"
   ]
  },
  {
   "cell_type": "code",
   "execution_count": null,
   "metadata": {},
   "outputs": [],
   "source": []
  }
 ],
 "metadata": {
  "kernelspec": {
   "display_name": "Python 3",
   "language": "python",
   "name": "python3"
  },
  "language_info": {
   "codemirror_mode": {
    "name": "ipython",
    "version": 3
   },
   "file_extension": ".py",
   "mimetype": "text/x-python",
   "name": "python",
   "nbconvert_exporter": "python",
   "pygments_lexer": "ipython3",
   "version": "3.6.4"
  }
 },
 "nbformat": 4,
 "nbformat_minor": 2
}
