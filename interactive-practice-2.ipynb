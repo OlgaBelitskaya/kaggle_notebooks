{
 "cells": [
  {
   "cell_type": "markdown",
   "metadata": {
    "papermill": {
     "duration": 0.009665,
     "end_time": "2020-10-08T19:35:05.405163",
     "exception": false,
     "start_time": "2020-10-08T19:35:05.395498",
     "status": "completed"
    },
    "tags": []
   },
   "source": [
    "<h2 style='color:#ff35ef;'>$$\\mathscr{Code \\; Modules}$$</h2>"
   ]
  },
  {
   "cell_type": "code",
   "execution_count": 1,
   "metadata": {
    "_cell_guid": "b1076dfc-b9ad-4769-8c92-a6c4dae69d19",
    "_uuid": "8f2839f25d086af736a60e9eeb907d3b93b6e0e5",
    "execution": {
     "iopub.execute_input": "2020-10-08T19:35:05.427573Z",
     "iopub.status.busy": "2020-10-08T19:35:05.426780Z",
     "iopub.status.idle": "2020-10-08T19:35:05.430335Z",
     "shell.execute_reply": "2020-10-08T19:35:05.429564Z"
    },
    "papermill": {
     "duration": 0.016685,
     "end_time": "2020-10-08T19:35:05.430485",
     "exception": false,
     "start_time": "2020-10-08T19:35:05.413800",
     "status": "completed"
    },
    "tags": []
   },
   "outputs": [],
   "source": [
    "import ipywidgets as widgets\n",
    "from IPython.display import display,HTML"
   ]
  },
  {
   "cell_type": "markdown",
   "metadata": {
    "papermill": {
     "duration": 0.008104,
     "end_time": "2020-10-08T19:35:05.447290",
     "exception": false,
     "start_time": "2020-10-08T19:35:05.439186",
     "status": "completed"
    },
    "tags": []
   },
   "source": [
    "<h2 style='color:#ff35ef;'>$$\\mathscr{Linked \\; Interactive \\;Cells}$$</h2>"
   ]
  },
  {
   "cell_type": "code",
   "execution_count": 2,
   "metadata": {
    "execution": {
     "iopub.execute_input": "2020-10-08T19:35:05.469761Z",
     "iopub.status.busy": "2020-10-08T19:35:05.468715Z",
     "iopub.status.idle": "2020-10-08T19:35:05.478387Z",
     "shell.execute_reply": "2020-10-08T19:35:05.479048Z"
    },
    "papermill": {
     "duration": 0.02384,
     "end_time": "2020-10-08T19:35:05.479227",
     "exception": false,
     "start_time": "2020-10-08T19:35:05.455387",
     "status": "completed"
    },
    "tags": []
   },
   "outputs": [
    {
     "data": {
      "text/html": [
       "<!DOCTYPE HTML>\n",
       "<html>\n",
       "  <head>\n",
       "    <meta charset='utf-8'>\n",
       "    <meta name='viewport' content='width=device-width'>\n",
       "    <script src='https://sagecell.sagemath.org/static/embedded_sagecell.js'></script>\n",
       "    <script>$(function () {\n",
       "    sagecell.makeSagecell({inputLocation:'div.linked',template:sagecell.templates.minimal,\n",
       "                           linked:true,evalButtonText:'run linked cells'}); });\n",
       "    </script>\n",
       "  </head>\n",
       "  <style>\n",
       "  h1 {color:#aa33ff; text-shadow:4px 4px 4px #aaa;}\n",
       "  h2 {color:slategray; text-shadow:4px 4px 4px #aaa;}\n",
       "  .sagecell .CodeMirror-scroll {min-height:3em; max-height:50em;}\n",
       "  body {margin:5px 5px 5px 15px;}\n",
       "  </style>  \n",
       "  <body>\n",
       "    <h1>$\\mathbb{Sklearn \\; Clusters}$</h1>\n",
       "    <h2>$\\mathbb{Code \\; Modules \\; and \\; Data}$</h2>\n",
       "<pre style='border:1px double #aaa;'><code>\n",
       "import sklearn.datasets as sds\n",
       "import sklearn.cluster as scl\n",
       "import pylab as pl\n",
       "from IPython.core.magic import register_line_magic\n",
       "N=1000; n_clusters=7\n",
       "X,y=sds.make_blobs(n_samples=N,n_features=2, \n",
       "                   centers=n_clusters,\n",
       "                   cluster_std=.7, \n",
       "                   shuffle=True,random_state=0)\n",
       "pl.figure(figsize=(4,4))\n",
       "pl.scatter(X[:,0],X[:,1],\n",
       "           c='white',marker='v',\n",
       "           edgecolor='#aa33ff',s=10)\n",
       "pl.grid(); pl.title('Artificial Data'); pl.show()\n",
       "    \n",
       "</pre></code><br/> \n",
       "<div id='cell1' class='linked'><script type='text/x-sage'>\n",
       "import sklearn.datasets as sds\n",
       "import sklearn.cluster as scl\n",
       "import pylab as pl\n",
       "from IPython.core.magic import register_line_magic\n",
       "N=1000; n_clusters=7\n",
       "X,y=sds.make_blobs(n_samples=N,n_features=2, \n",
       "                   centers=n_clusters,\n",
       "                   cluster_std=.7, \n",
       "                   shuffle=True,random_state=0)\n",
       "pl.figure(figsize=(4,4))\n",
       "pl.scatter(X[:,0],X[:,1],\n",
       "           c='white',marker='v',\n",
       "           edgecolor='#aa33ff',s=10)\n",
       "pl.grid(); pl.title('Artificial Data'); pl.show()\n",
       "</script></div><br/>\n",
       "    <h2>$\\mathbb{Clustering}$</h2>\n",
       "<pre style='border:1px double #aaa;'><code>\n",
       "km,y_km=[],[]\n",
       "@register_line_magic\n",
       "def kmeans_clusters(c):\n",
       "    n_clusters=int(c)\n",
       "    global km,y_km\n",
       "    km=scl.KMeans(n_clusters=n_clusters,\n",
       "                  init='k-means++',n_init=10,\n",
       "                  max_iter=500,tol=1e-04,\n",
       "                  random_state=0)\n",
       "    y_km=km.fit_predict(X)\n",
       "%kmeans_clusters 7\n",
       "pl.figure(figsize=(4,4))\n",
       "for i in range(n_clusters):\n",
       "    color=pl.cm.hsv(float(i)/n_clusters)\n",
       "    pl.scatter(X[y_km==i,0],X[y_km==i,1],\n",
       "               s=15,color=color,marker='v',\n",
       "               edgecolor='#aa33ff',\n",
       "               label='cluster %d'%i)\n",
       "pl.scatter(km.cluster_centers_[:,0],\n",
       "           km.cluster_centers_[:,1],\n",
       "           s=100, marker='*',c='black',\n",
       "           edgecolor='#aa33ff',label='centroids')\n",
       "pl.legend(scatterpoints=1); pl.show()\n",
       "    \n",
       "</pre></code><br/> \n",
       "<div id='cell2' class='linked'><script type='text/x-sage'>\n",
       "km,y_km=[],[]\n",
       "@register_line_magic\n",
       "def kmeans_clusters(c):\n",
       "    n_clusters=int(c)\n",
       "    global km,y_km\n",
       "    km=scl.KMeans(n_clusters=n_clusters,\n",
       "                  init='k-means++',n_init=10,\n",
       "                  max_iter=500,tol=1e-04,\n",
       "                  random_state=0)\n",
       "    y_km=km.fit_predict(X)\n",
       "%kmeans_clusters 7\n",
       "pl.figure(figsize=(4,4))\n",
       "for i in range(n_clusters):\n",
       "    color=pl.cm.hsv(float(i)/n_clusters)\n",
       "    pl.scatter(X[y_km==i,0],X[y_km==i,1],\n",
       "               s=15,color=color,marker='v',\n",
       "               edgecolor='#aa33ff',\n",
       "               label='cluster %d'%i)\n",
       "pl.scatter(km.cluster_centers_[:,0],\n",
       "           km.cluster_centers_[:,1],\n",
       "           s=100, marker='*',c='black',\n",
       "           edgecolor='#aa33ff',label='centroids')\n",
       "pl.legend(scatterpoints=1); pl.show()\n",
       "</script></div><br/>\n",
       "  </body>\n",
       "</html>"
      ],
      "text/plain": [
       "<IPython.core.display.HTML object>"
      ]
     },
     "execution_count": 2,
     "metadata": {},
     "output_type": "execute_result"
    }
   ],
   "source": [
    "file='../input/html-recipes/sklearn_clusters.html'\n",
    "with open(file,'r') as f:\n",
    "    html_str=f.read()\n",
    "    f.close()\n",
    "HTML(html_str)"
   ]
  },
  {
   "cell_type": "markdown",
   "metadata": {
    "papermill": {
     "duration": 0.008339,
     "end_time": "2020-10-08T19:35:05.496823",
     "exception": false,
     "start_time": "2020-10-08T19:35:05.488484",
     "status": "completed"
    },
    "tags": []
   },
   "source": [
    "<h2 style='color:#ff35ef;'>$$\\mathscr{Linked \\; Interactive \\;Widgets}$$</h2>"
   ]
  },
  {
   "cell_type": "code",
   "execution_count": 3,
   "metadata": {
    "_cell_guid": "79c7e3d0-c299-4dcb-8224-4455121ee9b0",
    "_uuid": "d629ff2d2480ee46fbb7e2d37f6b5fab8052498a",
    "execution": {
     "iopub.execute_input": "2020-10-08T19:35:05.540918Z",
     "iopub.status.busy": "2020-10-08T19:35:05.540119Z",
     "iopub.status.idle": "2020-10-08T19:35:05.550440Z",
     "shell.execute_reply": "2020-10-08T19:35:05.549814Z"
    },
    "papermill": {
     "duration": 0.045091,
     "end_time": "2020-10-08T19:35:05.550585",
     "exception": false,
     "start_time": "2020-10-08T19:35:05.505494",
     "status": "completed"
    },
    "tags": []
   },
   "outputs": [
    {
     "data": {
      "application/vnd.jupyter.widget-view+json": {
       "model_id": "2388497a533343028a15f68ad6a67104",
       "version_major": 2,
       "version_minor": 0
      },
      "text/plain": [
       "IntText(value=0)"
      ]
     },
     "metadata": {},
     "output_type": "display_data"
    },
    {
     "data": {
      "application/vnd.jupyter.widget-view+json": {
       "model_id": "bd9676fe87494962a61529ba75f8636b",
       "version_major": 2,
       "version_minor": 0
      },
      "text/plain": [
       "IntProgress(value=0)"
      ]
     },
     "metadata": {},
     "output_type": "display_data"
    }
   ],
   "source": [
    "progress=widgets.IntProgress()\n",
    "text=widgets.IntText(min=0,max=100)\n",
    "widgets.jslink((progress,'value'),\n",
    "               (text,'value'))\n",
    "display(text,progress)"
   ]
  },
  {
   "cell_type": "code",
   "execution_count": 4,
   "metadata": {
    "execution": {
     "iopub.execute_input": "2020-10-08T19:35:05.600806Z",
     "iopub.status.busy": "2020-10-08T19:35:05.599837Z",
     "iopub.status.idle": "2020-10-08T19:35:05.610063Z",
     "shell.execute_reply": "2020-10-08T19:35:05.608260Z"
    },
    "papermill": {
     "duration": 0.049494,
     "end_time": "2020-10-08T19:35:05.610204",
     "exception": false,
     "start_time": "2020-10-08T19:35:05.560710",
     "status": "completed"
    },
    "tags": []
   },
   "outputs": [
    {
     "data": {
      "application/vnd.jupyter.widget-view+json": {
       "model_id": "f8527226ed314d9a95d91f90cb1b462b",
       "version_major": 2,
       "version_minor": 0
      },
      "text/plain": [
       "Play(value=1, description='Click Play', interval=1000, min=1)"
      ]
     },
     "metadata": {},
     "output_type": "display_data"
    },
    {
     "data": {
      "application/vnd.jupyter.widget-view+json": {
       "model_id": "341bbcf56bb646279f46effda90c18b2",
       "version_major": 2,
       "version_minor": 0
      },
      "text/plain": [
       "IntSlider(value=1, continuous_update=False, min=1)"
      ]
     },
     "metadata": {},
     "output_type": "display_data"
    }
   ],
   "source": [
    "l=[]\n",
    "def on_value_change(change):\n",
    "    l.append(change['new'])\n",
    "slider=widgets.IntSlider(min=1,max=100,step=1,\n",
    "                         continuous_update=False)\n",
    "play=widgets.Play(min=1,interval=1000,\n",
    "                  description=\"Click Play\")\n",
    "widgets.jslink((play,'value'),(slider,'value'))\n",
    "slider.observe(on_value_change,names='value')\n",
    "display(play,slider)"
   ]
  },
  {
   "cell_type": "code",
   "execution_count": 5,
   "metadata": {
    "execution": {
     "iopub.execute_input": "2020-10-08T19:35:05.676979Z",
     "iopub.status.busy": "2020-10-08T19:35:05.676092Z",
     "iopub.status.idle": "2020-10-08T19:35:05.688666Z",
     "shell.execute_reply": "2020-10-08T19:35:05.683320Z"
    },
    "papermill": {
     "duration": 0.067101,
     "end_time": "2020-10-08T19:35:05.688820",
     "exception": false,
     "start_time": "2020-10-08T19:35:05.621719",
     "status": "completed"
    },
    "tags": []
   },
   "outputs": [
    {
     "data": {
      "application/vnd.jupyter.widget-view+json": {
       "model_id": "83d5874311b34c2096b35e87866b703a",
       "version_major": 2,
       "version_minor": 0
      },
      "text/plain": [
       "VBox(children=(Play(value=1, description='Click Play', interval=1000, min=1), IntProgress(value=1, min=1), Out…"
      ]
     },
     "metadata": {},
     "output_type": "display_data"
    }
   ],
   "source": [
    "out=widgets.Output()\n",
    "def value_change(change):\n",
    "    with out: change['new']\n",
    "progress=widgets.IntProgress(min=1,max=100,step=1,\n",
    "                             continuous_update=False)\n",
    "play=widgets.Play(min=1,interval=1000,\n",
    "                  description=\"Click Play\")\n",
    "widgets.jslink((play,'value'),(progress,'value'))\n",
    "progress.observe(value_change,names='value')\n",
    "widgets.VBox([play,progress,out])"
   ]
  },
  {
   "cell_type": "code",
   "execution_count": 6,
   "metadata": {
    "execution": {
     "iopub.execute_input": "2020-10-08T19:35:05.746941Z",
     "iopub.status.busy": "2020-10-08T19:35:05.722165Z",
     "iopub.status.idle": "2020-10-08T19:35:05.760577Z",
     "shell.execute_reply": "2020-10-08T19:35:05.758837Z"
    },
    "papermill": {
     "duration": 0.059631,
     "end_time": "2020-10-08T19:35:05.760706",
     "exception": false,
     "start_time": "2020-10-08T19:35:05.701075",
     "status": "completed"
    },
    "tags": []
   },
   "outputs": [
    {
     "data": {
      "application/vnd.jupyter.widget-view+json": {
       "model_id": "1fe2155ea3bf4effad948e57bbdd9c6c",
       "version_major": 2,
       "version_minor": 0
      },
      "text/plain": [
       "IntSlider(value=1, max=10, min=1)"
      ]
     },
     "metadata": {},
     "output_type": "display_data"
    },
    {
     "data": {
      "application/vnd.jupyter.widget-view+json": {
       "model_id": "770ef82d4d8e4a1a89e4185331e336ca",
       "version_major": 2,
       "version_minor": 0
      },
      "text/plain": [
       "HTML(value='1', description='HTML')"
      ]
     },
     "metadata": {},
     "output_type": "display_data"
    },
    {
     "data": {
      "application/vnd.jupyter.widget-view+json": {
       "model_id": "39a1b2089df84337b79e9e04e3a47da8",
       "version_major": 2,
       "version_minor": 0
      },
      "text/plain": [
       "Output()"
      ]
     },
     "metadata": {},
     "output_type": "display_data"
    }
   ],
   "source": [
    "out=widgets.Output()\n",
    "def value_change(change):\n",
    "    with out: change['new']\n",
    "slider=widgets.IntSlider(min=1,max=10)\n",
    "whtml=widgets.HTML(value='%d'%1,\n",
    "                   description='HTML')\n",
    "widgets.jslink((whtml,'value'),(slider,'value'))\n",
    "slider.observe(value_change,names='value')\n",
    "display(slider,whtml,out)"
   ]
  }
 ],
 "metadata": {
  "kernelspec": {
   "display_name": "Python 3",
   "language": "python",
   "name": "python3"
  },
  "language_info": {
   "codemirror_mode": {
    "name": "ipython",
    "version": 3
   },
   "file_extension": ".py",
   "mimetype": "text/x-python",
   "name": "python",
   "nbconvert_exporter": "python",
   "pygments_lexer": "ipython3",
   "version": "3.7.6"
  },
  "papermill": {
   "duration": 7.122773,
   "end_time": "2020-10-08T19:35:06.813403",
   "environment_variables": {},
   "exception": null,
   "input_path": "__notebook__.ipynb",
   "output_path": "__notebook__.ipynb",
   "parameters": {},
   "start_time": "2020-10-08T19:34:59.690630",
   "version": "2.1.0"
  },
  "widgets": {
   "application/vnd.jupyter.widget-state+json": {
    "state": {
     "001cd5a2e2224db3b0886adb93992484": {
      "model_module": "@jupyter-widgets/base",
      "model_module_version": "1.2.0",
      "model_name": "LayoutModel",
      "state": {
       "_model_module": "@jupyter-widgets/base",
       "_model_module_version": "1.2.0",
       "_model_name": "LayoutModel",
       "_view_count": null,
       "_view_module": "@jupyter-widgets/base",
       "_view_module_version": "1.2.0",
       "_view_name": "LayoutView",
       "align_content": null,
       "align_items": null,
       "align_self": null,
       "border": null,
       "bottom": null,
       "display": null,
       "flex": null,
       "flex_flow": null,
       "grid_area": null,
       "grid_auto_columns": null,
       "grid_auto_flow": null,
       "grid_auto_rows": null,
       "grid_column": null,
       "grid_gap": null,
       "grid_row": null,
       "grid_template_areas": null,
       "grid_template_columns": null,
       "grid_template_rows": null,
       "height": null,
       "justify_content": null,
       "justify_items": null,
       "left": null,
       "margin": null,
       "max_height": null,
       "max_width": null,
       "min_height": null,
       "min_width": null,
       "object_fit": null,
       "object_position": null,
       "order": null,
       "overflow": null,
       "overflow_x": null,
       "overflow_y": null,
       "padding": null,
       "right": null,
       "top": null,
       "visibility": null,
       "width": null
      }
     },
     "03b4ca2c672c4a4f9d5e51a725e40864": {
      "model_module": "@jupyter-widgets/base",
      "model_module_version": "1.2.0",
      "model_name": "LayoutModel",
      "state": {
       "_model_module": "@jupyter-widgets/base",
       "_model_module_version": "1.2.0",
       "_model_name": "LayoutModel",
       "_view_count": null,
       "_view_module": "@jupyter-widgets/base",
       "_view_module_version": "1.2.0",
       "_view_name": "LayoutView",
       "align_content": null,
       "align_items": null,
       "align_self": null,
       "border": null,
       "bottom": null,
       "display": null,
       "flex": null,
       "flex_flow": null,
       "grid_area": null,
       "grid_auto_columns": null,
       "grid_auto_flow": null,
       "grid_auto_rows": null,
       "grid_column": null,
       "grid_gap": null,
       "grid_row": null,
       "grid_template_areas": null,
       "grid_template_columns": null,
       "grid_template_rows": null,
       "height": null,
       "justify_content": null,
       "justify_items": null,
       "left": null,
       "margin": null,
       "max_height": null,
       "max_width": null,
       "min_height": null,
       "min_width": null,
       "object_fit": null,
       "object_position": null,
       "order": null,
       "overflow": null,
       "overflow_x": null,
       "overflow_y": null,
       "padding": null,
       "right": null,
       "top": null,
       "visibility": null,
       "width": null
      }
     },
     "1fe2155ea3bf4effad948e57bbdd9c6c": {
      "model_module": "@jupyter-widgets/controls",
      "model_module_version": "1.5.0",
      "model_name": "IntSliderModel",
      "state": {
       "_dom_classes": [],
       "_model_module": "@jupyter-widgets/controls",
       "_model_module_version": "1.5.0",
       "_model_name": "IntSliderModel",
       "_view_count": null,
       "_view_module": "@jupyter-widgets/controls",
       "_view_module_version": "1.5.0",
       "_view_name": "IntSliderView",
       "continuous_update": true,
       "description": "",
       "description_tooltip": null,
       "disabled": false,
       "layout": "IPY_MODEL_853d6c037f9249acb10b7e7b5dc78aab",
       "max": 10,
       "min": 1,
       "orientation": "horizontal",
       "readout": true,
       "readout_format": "d",
       "step": 1,
       "style": "IPY_MODEL_a207f7e084fc47e8b5666e45d5220205",
       "value": 1
      }
     },
     "2388497a533343028a15f68ad6a67104": {
      "model_module": "@jupyter-widgets/controls",
      "model_module_version": "1.5.0",
      "model_name": "IntTextModel",
      "state": {
       "_dom_classes": [],
       "_model_module": "@jupyter-widgets/controls",
       "_model_module_version": "1.5.0",
       "_model_name": "IntTextModel",
       "_view_count": null,
       "_view_module": "@jupyter-widgets/controls",
       "_view_module_version": "1.5.0",
       "_view_name": "IntTextView",
       "continuous_update": false,
       "description": "",
       "description_tooltip": null,
       "disabled": false,
       "layout": "IPY_MODEL_e654159fe0b34b50994f05f7662b4d89",
       "step": 1,
       "style": "IPY_MODEL_cffc53e7f7e84c2b857739dfc9aefec0",
       "value": 0
      }
     },
     "341bbcf56bb646279f46effda90c18b2": {
      "model_module": "@jupyter-widgets/controls",
      "model_module_version": "1.5.0",
      "model_name": "IntSliderModel",
      "state": {
       "_dom_classes": [],
       "_model_module": "@jupyter-widgets/controls",
       "_model_module_version": "1.5.0",
       "_model_name": "IntSliderModel",
       "_view_count": null,
       "_view_module": "@jupyter-widgets/controls",
       "_view_module_version": "1.5.0",
       "_view_name": "IntSliderView",
       "continuous_update": false,
       "description": "",
       "description_tooltip": null,
       "disabled": false,
       "layout": "IPY_MODEL_001cd5a2e2224db3b0886adb93992484",
       "max": 100,
       "min": 1,
       "orientation": "horizontal",
       "readout": true,
       "readout_format": "d",
       "step": 1,
       "style": "IPY_MODEL_a3aac53dfaf84afba76def6201a38131",
       "value": 1
      }
     },
     "39a1b2089df84337b79e9e04e3a47da8": {
      "model_module": "@jupyter-widgets/output",
      "model_module_version": "1.0.0",
      "model_name": "OutputModel",
      "state": {
       "_dom_classes": [],
       "_model_module": "@jupyter-widgets/output",
       "_model_module_version": "1.0.0",
       "_model_name": "OutputModel",
       "_view_count": null,
       "_view_module": "@jupyter-widgets/output",
       "_view_module_version": "1.0.0",
       "_view_name": "OutputView",
       "layout": "IPY_MODEL_b2e4f010637c4e03b2a1a2925f3b9b88",
       "msg_id": "",
       "outputs": []
      }
     },
     "3bbd4b0af00547d0b7932dfbb1576eab": {
      "model_module": "@jupyter-widgets/controls",
      "model_module_version": "1.5.0",
      "model_name": "ProgressStyleModel",
      "state": {
       "_model_module": "@jupyter-widgets/controls",
       "_model_module_version": "1.5.0",
       "_model_name": "ProgressStyleModel",
       "_view_count": null,
       "_view_module": "@jupyter-widgets/base",
       "_view_module_version": "1.2.0",
       "_view_name": "StyleView",
       "bar_color": null,
       "description_width": ""
      }
     },
     "43fc7ce6aa7d4179ae705859cbfe482d": {
      "model_module": "@jupyter-widgets/controls",
      "model_module_version": "1.5.0",
      "model_name": "DescriptionStyleModel",
      "state": {
       "_model_module": "@jupyter-widgets/controls",
       "_model_module_version": "1.5.0",
       "_model_name": "DescriptionStyleModel",
       "_view_count": null,
       "_view_module": "@jupyter-widgets/base",
       "_view_module_version": "1.2.0",
       "_view_name": "StyleView",
       "description_width": ""
      }
     },
     "441dc24cd13f4b6ebb0395805cb28e7c": {
      "model_module": "@jupyter-widgets/controls",
      "model_module_version": "1.5.0",
      "model_name": "DescriptionStyleModel",
      "state": {
       "_model_module": "@jupyter-widgets/controls",
       "_model_module_version": "1.5.0",
       "_model_name": "DescriptionStyleModel",
       "_view_count": null,
       "_view_module": "@jupyter-widgets/base",
       "_view_module_version": "1.2.0",
       "_view_name": "StyleView",
       "description_width": ""
      }
     },
     "4a287a24cfc3428d99dc9b4dcc1149dc": {
      "model_module": "@jupyter-widgets/controls",
      "model_module_version": "1.5.0",
      "model_name": "IntProgressModel",
      "state": {
       "_dom_classes": [],
       "_model_module": "@jupyter-widgets/controls",
       "_model_module_version": "1.5.0",
       "_model_name": "IntProgressModel",
       "_view_count": null,
       "_view_module": "@jupyter-widgets/controls",
       "_view_module_version": "1.5.0",
       "_view_name": "ProgressView",
       "bar_style": "",
       "description": "",
       "description_tooltip": null,
       "layout": "IPY_MODEL_03b4ca2c672c4a4f9d5e51a725e40864",
       "max": 100,
       "min": 1,
       "orientation": "horizontal",
       "style": "IPY_MODEL_644f646b86804d87a4feaa077c23ec8d",
       "value": 1
      }
     },
     "54c02bf3fcb949c896f6a891abe739c7": {
      "model_module": "@jupyter-widgets/base",
      "model_module_version": "1.2.0",
      "model_name": "LayoutModel",
      "state": {
       "_model_module": "@jupyter-widgets/base",
       "_model_module_version": "1.2.0",
       "_model_name": "LayoutModel",
       "_view_count": null,
       "_view_module": "@jupyter-widgets/base",
       "_view_module_version": "1.2.0",
       "_view_name": "LayoutView",
       "align_content": null,
       "align_items": null,
       "align_self": null,
       "border": null,
       "bottom": null,
       "display": null,
       "flex": null,
       "flex_flow": null,
       "grid_area": null,
       "grid_auto_columns": null,
       "grid_auto_flow": null,
       "grid_auto_rows": null,
       "grid_column": null,
       "grid_gap": null,
       "grid_row": null,
       "grid_template_areas": null,
       "grid_template_columns": null,
       "grid_template_rows": null,
       "height": null,
       "justify_content": null,
       "justify_items": null,
       "left": null,
       "margin": null,
       "max_height": null,
       "max_width": null,
       "min_height": null,
       "min_width": null,
       "object_fit": null,
       "object_position": null,
       "order": null,
       "overflow": null,
       "overflow_x": null,
       "overflow_y": null,
       "padding": null,
       "right": null,
       "top": null,
       "visibility": null,
       "width": null
      }
     },
     "59d117b991994582b5fa6676b1689d4f": {
      "model_module": "@jupyter-widgets/controls",
      "model_module_version": "1.5.0",
      "model_name": "PlayModel",
      "state": {
       "_dom_classes": [],
       "_model_module": "@jupyter-widgets/controls",
       "_model_module_version": "1.5.0",
       "_model_name": "PlayModel",
       "_playing": false,
       "_repeat": false,
       "_view_count": null,
       "_view_module": "@jupyter-widgets/controls",
       "_view_module_version": "1.5.0",
       "_view_name": "PlayView",
       "description": "Click Play",
       "description_tooltip": null,
       "disabled": false,
       "interval": 1000,
       "layout": "IPY_MODEL_ffdc8f5101224f4f81ef8009afcb164c",
       "max": 100,
       "min": 1,
       "show_repeat": true,
       "step": 1,
       "style": "IPY_MODEL_441dc24cd13f4b6ebb0395805cb28e7c",
       "value": 1
      }
     },
     "644f646b86804d87a4feaa077c23ec8d": {
      "model_module": "@jupyter-widgets/controls",
      "model_module_version": "1.5.0",
      "model_name": "ProgressStyleModel",
      "state": {
       "_model_module": "@jupyter-widgets/controls",
       "_model_module_version": "1.5.0",
       "_model_name": "ProgressStyleModel",
       "_view_count": null,
       "_view_module": "@jupyter-widgets/base",
       "_view_module_version": "1.2.0",
       "_view_name": "StyleView",
       "bar_color": null,
       "description_width": ""
      }
     },
     "74483fe0c60d4c63b79a292042c40132": {
      "model_module": "@jupyter-widgets/output",
      "model_module_version": "1.0.0",
      "model_name": "OutputModel",
      "state": {
       "_dom_classes": [],
       "_model_module": "@jupyter-widgets/output",
       "_model_module_version": "1.0.0",
       "_model_name": "OutputModel",
       "_view_count": null,
       "_view_module": "@jupyter-widgets/output",
       "_view_module_version": "1.0.0",
       "_view_name": "OutputView",
       "layout": "IPY_MODEL_85dc4b1f025545199432ff242f101d33",
       "msg_id": "",
       "outputs": []
      }
     },
     "770ef82d4d8e4a1a89e4185331e336ca": {
      "model_module": "@jupyter-widgets/controls",
      "model_module_version": "1.5.0",
      "model_name": "HTMLModel",
      "state": {
       "_dom_classes": [],
       "_model_module": "@jupyter-widgets/controls",
       "_model_module_version": "1.5.0",
       "_model_name": "HTMLModel",
       "_view_count": null,
       "_view_module": "@jupyter-widgets/controls",
       "_view_module_version": "1.5.0",
       "_view_name": "HTMLView",
       "description": "HTML",
       "description_tooltip": null,
       "layout": "IPY_MODEL_f16cc3b1667a4512844e6e3168336fe4",
       "placeholder": "​",
       "style": "IPY_MODEL_7e6352a849df438cbc661332f66770ec",
       "value": "1"
      }
     },
     "7e6352a849df438cbc661332f66770ec": {
      "model_module": "@jupyter-widgets/controls",
      "model_module_version": "1.5.0",
      "model_name": "DescriptionStyleModel",
      "state": {
       "_model_module": "@jupyter-widgets/controls",
       "_model_module_version": "1.5.0",
       "_model_name": "DescriptionStyleModel",
       "_view_count": null,
       "_view_module": "@jupyter-widgets/base",
       "_view_module_version": "1.2.0",
       "_view_name": "StyleView",
       "description_width": ""
      }
     },
     "7fd78a21215147aa9c866e1b7e26a343": {
      "model_module": "@jupyter-widgets/controls",
      "model_module_version": "1.5.0",
      "model_name": "LinkModel",
      "state": {
       "_model_module": "@jupyter-widgets/controls",
       "_model_module_version": "1.5.0",
       "_model_name": "LinkModel",
       "_view_count": null,
       "_view_module": "@jupyter-widgets/controls",
       "_view_module_version": "1.5.0",
       "_view_name": null,
       "source": [
        "IPY_MODEL_59d117b991994582b5fa6676b1689d4f",
        "value"
       ],
       "target": [
        "IPY_MODEL_4a287a24cfc3428d99dc9b4dcc1149dc",
        "value"
       ]
      }
     },
     "83d5874311b34c2096b35e87866b703a": {
      "model_module": "@jupyter-widgets/controls",
      "model_module_version": "1.5.0",
      "model_name": "VBoxModel",
      "state": {
       "_dom_classes": [],
       "_model_module": "@jupyter-widgets/controls",
       "_model_module_version": "1.5.0",
       "_model_name": "VBoxModel",
       "_view_count": null,
       "_view_module": "@jupyter-widgets/controls",
       "_view_module_version": "1.5.0",
       "_view_name": "VBoxView",
       "box_style": "",
       "children": [
        "IPY_MODEL_59d117b991994582b5fa6676b1689d4f",
        "IPY_MODEL_4a287a24cfc3428d99dc9b4dcc1149dc",
        "IPY_MODEL_74483fe0c60d4c63b79a292042c40132"
       ],
       "layout": "IPY_MODEL_edf8b04f5b77486a990304d6e53d46b0"
      }
     },
     "853d6c037f9249acb10b7e7b5dc78aab": {
      "model_module": "@jupyter-widgets/base",
      "model_module_version": "1.2.0",
      "model_name": "LayoutModel",
      "state": {
       "_model_module": "@jupyter-widgets/base",
       "_model_module_version": "1.2.0",
       "_model_name": "LayoutModel",
       "_view_count": null,
       "_view_module": "@jupyter-widgets/base",
       "_view_module_version": "1.2.0",
       "_view_name": "LayoutView",
       "align_content": null,
       "align_items": null,
       "align_self": null,
       "border": null,
       "bottom": null,
       "display": null,
       "flex": null,
       "flex_flow": null,
       "grid_area": null,
       "grid_auto_columns": null,
       "grid_auto_flow": null,
       "grid_auto_rows": null,
       "grid_column": null,
       "grid_gap": null,
       "grid_row": null,
       "grid_template_areas": null,
       "grid_template_columns": null,
       "grid_template_rows": null,
       "height": null,
       "justify_content": null,
       "justify_items": null,
       "left": null,
       "margin": null,
       "max_height": null,
       "max_width": null,
       "min_height": null,
       "min_width": null,
       "object_fit": null,
       "object_position": null,
       "order": null,
       "overflow": null,
       "overflow_x": null,
       "overflow_y": null,
       "padding": null,
       "right": null,
       "top": null,
       "visibility": null,
       "width": null
      }
     },
     "85dc4b1f025545199432ff242f101d33": {
      "model_module": "@jupyter-widgets/base",
      "model_module_version": "1.2.0",
      "model_name": "LayoutModel",
      "state": {
       "_model_module": "@jupyter-widgets/base",
       "_model_module_version": "1.2.0",
       "_model_name": "LayoutModel",
       "_view_count": null,
       "_view_module": "@jupyter-widgets/base",
       "_view_module_version": "1.2.0",
       "_view_name": "LayoutView",
       "align_content": null,
       "align_items": null,
       "align_self": null,
       "border": null,
       "bottom": null,
       "display": null,
       "flex": null,
       "flex_flow": null,
       "grid_area": null,
       "grid_auto_columns": null,
       "grid_auto_flow": null,
       "grid_auto_rows": null,
       "grid_column": null,
       "grid_gap": null,
       "grid_row": null,
       "grid_template_areas": null,
       "grid_template_columns": null,
       "grid_template_rows": null,
       "height": null,
       "justify_content": null,
       "justify_items": null,
       "left": null,
       "margin": null,
       "max_height": null,
       "max_width": null,
       "min_height": null,
       "min_width": null,
       "object_fit": null,
       "object_position": null,
       "order": null,
       "overflow": null,
       "overflow_x": null,
       "overflow_y": null,
       "padding": null,
       "right": null,
       "top": null,
       "visibility": null,
       "width": null
      }
     },
     "88778d054e05473c96098e60a1d8adf8": {
      "model_module": "@jupyter-widgets/controls",
      "model_module_version": "1.5.0",
      "model_name": "LinkModel",
      "state": {
       "_model_module": "@jupyter-widgets/controls",
       "_model_module_version": "1.5.0",
       "_model_name": "LinkModel",
       "_view_count": null,
       "_view_module": "@jupyter-widgets/controls",
       "_view_module_version": "1.5.0",
       "_view_name": null,
       "source": [
        "IPY_MODEL_770ef82d4d8e4a1a89e4185331e336ca",
        "value"
       ],
       "target": [
        "IPY_MODEL_1fe2155ea3bf4effad948e57bbdd9c6c",
        "value"
       ]
      }
     },
     "9875f8bd1d1c4efeb1fb844a84e20cb5": {
      "model_module": "@jupyter-widgets/base",
      "model_module_version": "1.2.0",
      "model_name": "LayoutModel",
      "state": {
       "_model_module": "@jupyter-widgets/base",
       "_model_module_version": "1.2.0",
       "_model_name": "LayoutModel",
       "_view_count": null,
       "_view_module": "@jupyter-widgets/base",
       "_view_module_version": "1.2.0",
       "_view_name": "LayoutView",
       "align_content": null,
       "align_items": null,
       "align_self": null,
       "border": null,
       "bottom": null,
       "display": null,
       "flex": null,
       "flex_flow": null,
       "grid_area": null,
       "grid_auto_columns": null,
       "grid_auto_flow": null,
       "grid_auto_rows": null,
       "grid_column": null,
       "grid_gap": null,
       "grid_row": null,
       "grid_template_areas": null,
       "grid_template_columns": null,
       "grid_template_rows": null,
       "height": null,
       "justify_content": null,
       "justify_items": null,
       "left": null,
       "margin": null,
       "max_height": null,
       "max_width": null,
       "min_height": null,
       "min_width": null,
       "object_fit": null,
       "object_position": null,
       "order": null,
       "overflow": null,
       "overflow_x": null,
       "overflow_y": null,
       "padding": null,
       "right": null,
       "top": null,
       "visibility": null,
       "width": null
      }
     },
     "a082485b085442d986232c3a25c22db9": {
      "model_module": "@jupyter-widgets/controls",
      "model_module_version": "1.5.0",
      "model_name": "LinkModel",
      "state": {
       "_model_module": "@jupyter-widgets/controls",
       "_model_module_version": "1.5.0",
       "_model_name": "LinkModel",
       "_view_count": null,
       "_view_module": "@jupyter-widgets/controls",
       "_view_module_version": "1.5.0",
       "_view_name": null,
       "source": [
        "IPY_MODEL_bd9676fe87494962a61529ba75f8636b",
        "value"
       ],
       "target": [
        "IPY_MODEL_2388497a533343028a15f68ad6a67104",
        "value"
       ]
      }
     },
     "a207f7e084fc47e8b5666e45d5220205": {
      "model_module": "@jupyter-widgets/controls",
      "model_module_version": "1.5.0",
      "model_name": "SliderStyleModel",
      "state": {
       "_model_module": "@jupyter-widgets/controls",
       "_model_module_version": "1.5.0",
       "_model_name": "SliderStyleModel",
       "_view_count": null,
       "_view_module": "@jupyter-widgets/base",
       "_view_module_version": "1.2.0",
       "_view_name": "StyleView",
       "description_width": "",
       "handle_color": null
      }
     },
     "a3aac53dfaf84afba76def6201a38131": {
      "model_module": "@jupyter-widgets/controls",
      "model_module_version": "1.5.0",
      "model_name": "SliderStyleModel",
      "state": {
       "_model_module": "@jupyter-widgets/controls",
       "_model_module_version": "1.5.0",
       "_model_name": "SliderStyleModel",
       "_view_count": null,
       "_view_module": "@jupyter-widgets/base",
       "_view_module_version": "1.2.0",
       "_view_name": "StyleView",
       "description_width": "",
       "handle_color": null
      }
     },
     "b2e4f010637c4e03b2a1a2925f3b9b88": {
      "model_module": "@jupyter-widgets/base",
      "model_module_version": "1.2.0",
      "model_name": "LayoutModel",
      "state": {
       "_model_module": "@jupyter-widgets/base",
       "_model_module_version": "1.2.0",
       "_model_name": "LayoutModel",
       "_view_count": null,
       "_view_module": "@jupyter-widgets/base",
       "_view_module_version": "1.2.0",
       "_view_name": "LayoutView",
       "align_content": null,
       "align_items": null,
       "align_self": null,
       "border": null,
       "bottom": null,
       "display": null,
       "flex": null,
       "flex_flow": null,
       "grid_area": null,
       "grid_auto_columns": null,
       "grid_auto_flow": null,
       "grid_auto_rows": null,
       "grid_column": null,
       "grid_gap": null,
       "grid_row": null,
       "grid_template_areas": null,
       "grid_template_columns": null,
       "grid_template_rows": null,
       "height": null,
       "justify_content": null,
       "justify_items": null,
       "left": null,
       "margin": null,
       "max_height": null,
       "max_width": null,
       "min_height": null,
       "min_width": null,
       "object_fit": null,
       "object_position": null,
       "order": null,
       "overflow": null,
       "overflow_x": null,
       "overflow_y": null,
       "padding": null,
       "right": null,
       "top": null,
       "visibility": null,
       "width": null
      }
     },
     "bd9676fe87494962a61529ba75f8636b": {
      "model_module": "@jupyter-widgets/controls",
      "model_module_version": "1.5.0",
      "model_name": "IntProgressModel",
      "state": {
       "_dom_classes": [],
       "_model_module": "@jupyter-widgets/controls",
       "_model_module_version": "1.5.0",
       "_model_name": "IntProgressModel",
       "_view_count": null,
       "_view_module": "@jupyter-widgets/controls",
       "_view_module_version": "1.5.0",
       "_view_name": "ProgressView",
       "bar_style": "",
       "description": "",
       "description_tooltip": null,
       "layout": "IPY_MODEL_54c02bf3fcb949c896f6a891abe739c7",
       "max": 100,
       "min": 0,
       "orientation": "horizontal",
       "style": "IPY_MODEL_3bbd4b0af00547d0b7932dfbb1576eab",
       "value": 0
      }
     },
     "cffc53e7f7e84c2b857739dfc9aefec0": {
      "model_module": "@jupyter-widgets/controls",
      "model_module_version": "1.5.0",
      "model_name": "DescriptionStyleModel",
      "state": {
       "_model_module": "@jupyter-widgets/controls",
       "_model_module_version": "1.5.0",
       "_model_name": "DescriptionStyleModel",
       "_view_count": null,
       "_view_module": "@jupyter-widgets/base",
       "_view_module_version": "1.2.0",
       "_view_name": "StyleView",
       "description_width": ""
      }
     },
     "e654159fe0b34b50994f05f7662b4d89": {
      "model_module": "@jupyter-widgets/base",
      "model_module_version": "1.2.0",
      "model_name": "LayoutModel",
      "state": {
       "_model_module": "@jupyter-widgets/base",
       "_model_module_version": "1.2.0",
       "_model_name": "LayoutModel",
       "_view_count": null,
       "_view_module": "@jupyter-widgets/base",
       "_view_module_version": "1.2.0",
       "_view_name": "LayoutView",
       "align_content": null,
       "align_items": null,
       "align_self": null,
       "border": null,
       "bottom": null,
       "display": null,
       "flex": null,
       "flex_flow": null,
       "grid_area": null,
       "grid_auto_columns": null,
       "grid_auto_flow": null,
       "grid_auto_rows": null,
       "grid_column": null,
       "grid_gap": null,
       "grid_row": null,
       "grid_template_areas": null,
       "grid_template_columns": null,
       "grid_template_rows": null,
       "height": null,
       "justify_content": null,
       "justify_items": null,
       "left": null,
       "margin": null,
       "max_height": null,
       "max_width": null,
       "min_height": null,
       "min_width": null,
       "object_fit": null,
       "object_position": null,
       "order": null,
       "overflow": null,
       "overflow_x": null,
       "overflow_y": null,
       "padding": null,
       "right": null,
       "top": null,
       "visibility": null,
       "width": null
      }
     },
     "edf8b04f5b77486a990304d6e53d46b0": {
      "model_module": "@jupyter-widgets/base",
      "model_module_version": "1.2.0",
      "model_name": "LayoutModel",
      "state": {
       "_model_module": "@jupyter-widgets/base",
       "_model_module_version": "1.2.0",
       "_model_name": "LayoutModel",
       "_view_count": null,
       "_view_module": "@jupyter-widgets/base",
       "_view_module_version": "1.2.0",
       "_view_name": "LayoutView",
       "align_content": null,
       "align_items": null,
       "align_self": null,
       "border": null,
       "bottom": null,
       "display": null,
       "flex": null,
       "flex_flow": null,
       "grid_area": null,
       "grid_auto_columns": null,
       "grid_auto_flow": null,
       "grid_auto_rows": null,
       "grid_column": null,
       "grid_gap": null,
       "grid_row": null,
       "grid_template_areas": null,
       "grid_template_columns": null,
       "grid_template_rows": null,
       "height": null,
       "justify_content": null,
       "justify_items": null,
       "left": null,
       "margin": null,
       "max_height": null,
       "max_width": null,
       "min_height": null,
       "min_width": null,
       "object_fit": null,
       "object_position": null,
       "order": null,
       "overflow": null,
       "overflow_x": null,
       "overflow_y": null,
       "padding": null,
       "right": null,
       "top": null,
       "visibility": null,
       "width": null
      }
     },
     "f16cc3b1667a4512844e6e3168336fe4": {
      "model_module": "@jupyter-widgets/base",
      "model_module_version": "1.2.0",
      "model_name": "LayoutModel",
      "state": {
       "_model_module": "@jupyter-widgets/base",
       "_model_module_version": "1.2.0",
       "_model_name": "LayoutModel",
       "_view_count": null,
       "_view_module": "@jupyter-widgets/base",
       "_view_module_version": "1.2.0",
       "_view_name": "LayoutView",
       "align_content": null,
       "align_items": null,
       "align_self": null,
       "border": null,
       "bottom": null,
       "display": null,
       "flex": null,
       "flex_flow": null,
       "grid_area": null,
       "grid_auto_columns": null,
       "grid_auto_flow": null,
       "grid_auto_rows": null,
       "grid_column": null,
       "grid_gap": null,
       "grid_row": null,
       "grid_template_areas": null,
       "grid_template_columns": null,
       "grid_template_rows": null,
       "height": null,
       "justify_content": null,
       "justify_items": null,
       "left": null,
       "margin": null,
       "max_height": null,
       "max_width": null,
       "min_height": null,
       "min_width": null,
       "object_fit": null,
       "object_position": null,
       "order": null,
       "overflow": null,
       "overflow_x": null,
       "overflow_y": null,
       "padding": null,
       "right": null,
       "top": null,
       "visibility": null,
       "width": null
      }
     },
     "f3d8748e033f42fd82087f0edaa14e1a": {
      "model_module": "@jupyter-widgets/controls",
      "model_module_version": "1.5.0",
      "model_name": "LinkModel",
      "state": {
       "_model_module": "@jupyter-widgets/controls",
       "_model_module_version": "1.5.0",
       "_model_name": "LinkModel",
       "_view_count": null,
       "_view_module": "@jupyter-widgets/controls",
       "_view_module_version": "1.5.0",
       "_view_name": null,
       "source": [
        "IPY_MODEL_f8527226ed314d9a95d91f90cb1b462b",
        "value"
       ],
       "target": [
        "IPY_MODEL_341bbcf56bb646279f46effda90c18b2",
        "value"
       ]
      }
     },
     "f8527226ed314d9a95d91f90cb1b462b": {
      "model_module": "@jupyter-widgets/controls",
      "model_module_version": "1.5.0",
      "model_name": "PlayModel",
      "state": {
       "_dom_classes": [],
       "_model_module": "@jupyter-widgets/controls",
       "_model_module_version": "1.5.0",
       "_model_name": "PlayModel",
       "_playing": false,
       "_repeat": false,
       "_view_count": null,
       "_view_module": "@jupyter-widgets/controls",
       "_view_module_version": "1.5.0",
       "_view_name": "PlayView",
       "description": "Click Play",
       "description_tooltip": null,
       "disabled": false,
       "interval": 1000,
       "layout": "IPY_MODEL_9875f8bd1d1c4efeb1fb844a84e20cb5",
       "max": 100,
       "min": 1,
       "show_repeat": true,
       "step": 1,
       "style": "IPY_MODEL_43fc7ce6aa7d4179ae705859cbfe482d",
       "value": 1
      }
     },
     "ffdc8f5101224f4f81ef8009afcb164c": {
      "model_module": "@jupyter-widgets/base",
      "model_module_version": "1.2.0",
      "model_name": "LayoutModel",
      "state": {
       "_model_module": "@jupyter-widgets/base",
       "_model_module_version": "1.2.0",
       "_model_name": "LayoutModel",
       "_view_count": null,
       "_view_module": "@jupyter-widgets/base",
       "_view_module_version": "1.2.0",
       "_view_name": "LayoutView",
       "align_content": null,
       "align_items": null,
       "align_self": null,
       "border": null,
       "bottom": null,
       "display": null,
       "flex": null,
       "flex_flow": null,
       "grid_area": null,
       "grid_auto_columns": null,
       "grid_auto_flow": null,
       "grid_auto_rows": null,
       "grid_column": null,
       "grid_gap": null,
       "grid_row": null,
       "grid_template_areas": null,
       "grid_template_columns": null,
       "grid_template_rows": null,
       "height": null,
       "justify_content": null,
       "justify_items": null,
       "left": null,
       "margin": null,
       "max_height": null,
       "max_width": null,
       "min_height": null,
       "min_width": null,
       "object_fit": null,
       "object_position": null,
       "order": null,
       "overflow": null,
       "overflow_x": null,
       "overflow_y": null,
       "padding": null,
       "right": null,
       "top": null,
       "visibility": null,
       "width": null
      }
     }
    },
    "version_major": 2,
    "version_minor": 0
   }
  }
 },
 "nbformat": 4,
 "nbformat_minor": 4
}
