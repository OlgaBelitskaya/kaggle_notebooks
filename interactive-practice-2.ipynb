{
 "cells": [
  {
   "cell_type": "markdown",
   "metadata": {
    "papermill": {
     "duration": 0.00893,
     "end_time": "2020-10-08T17:29:24.473000",
     "exception": false,
     "start_time": "2020-10-08T17:29:24.464070",
     "status": "completed"
    },
    "tags": []
   },
   "source": [
    "<h2 style='color:#ff35ef;'>$$\\mathscr{Code \\; Modules}$$</h2>"
   ]
  },
  {
   "cell_type": "code",
   "execution_count": 1,
   "metadata": {
    "_cell_guid": "b1076dfc-b9ad-4769-8c92-a6c4dae69d19",
    "_uuid": "8f2839f25d086af736a60e9eeb907d3b93b6e0e5",
    "execution": {
     "iopub.execute_input": "2020-10-08T17:29:24.495173Z",
     "iopub.status.busy": "2020-10-08T17:29:24.494093Z",
     "iopub.status.idle": "2020-10-08T17:29:24.497443Z",
     "shell.execute_reply": "2020-10-08T17:29:24.496645Z"
    },
    "papermill": {
     "duration": 0.01642,
     "end_time": "2020-10-08T17:29:24.497577",
     "exception": false,
     "start_time": "2020-10-08T17:29:24.481157",
     "status": "completed"
    },
    "tags": []
   },
   "outputs": [],
   "source": [
    "import ipywidgets as widgets\n",
    "from IPython.display import display,HTML"
   ]
  },
  {
   "cell_type": "markdown",
   "metadata": {
    "papermill": {
     "duration": 0.007196,
     "end_time": "2020-10-08T17:29:24.512798",
     "exception": false,
     "start_time": "2020-10-08T17:29:24.505602",
     "status": "completed"
    },
    "tags": []
   },
   "source": [
    "<h2 style='color:#ff35ef;'>$$\\mathscr{Linked \\; Interactive \\;Cells}$$</h2>"
   ]
  },
  {
   "cell_type": "code",
   "execution_count": 2,
   "metadata": {
    "execution": {
     "iopub.execute_input": "2020-10-08T17:29:24.535166Z",
     "iopub.status.busy": "2020-10-08T17:29:24.534041Z",
     "iopub.status.idle": "2020-10-08T17:29:24.543149Z",
     "shell.execute_reply": "2020-10-08T17:29:24.542424Z"
    },
    "papermill": {
     "duration": 0.022967,
     "end_time": "2020-10-08T17:29:24.543268",
     "exception": false,
     "start_time": "2020-10-08T17:29:24.520301",
     "status": "completed"
    },
    "tags": []
   },
   "outputs": [
    {
     "data": {
      "text/html": [
       "<!DOCTYPE HTML>\n",
       "<html>\n",
       "  <head>\n",
       "    <meta charset='utf-8'>\n",
       "    <meta name='viewport' content='width=device-width'>\n",
       "    <script src='https://sagecell.sagemath.org/static/embedded_sagecell.js'></script>\n",
       "    <script>$(function () {\n",
       "    sagecell.makeSagecell({inputLocation:'div.linked',template:sagecell.templates.minimal,\n",
       "                           linked:true,evalButtonText:'run linked cells'}); });\n",
       "    </script>\n",
       "  </head>\n",
       "  <style>\n",
       "  h1 {color:#aa33ff; text-shadow:4px 4px 4px #aaa;}\n",
       "  h2 {color:slategray; text-shadow:4px 4px 4px #aaa;}\n",
       "  .sagecell .CodeMirror-scroll {min-height:3em; max-height:50em;}\n",
       "  body {margin:5px 5px 5px 15px;}\n",
       "  </style>  \n",
       "  <body>\n",
       "    <h1>$\\mathbb{Sklearn \\; Clusters}$</h1>\n",
       "    <h2>$\\mathbb{Code \\; Modules \\; and \\; Data}$</h2>\n",
       "<pre style='border:1px double #aaa;'><code>\n",
       "import sklearn.datasets as sds\n",
       "import sklearn.cluster as scl\n",
       "import pylab as pl\n",
       "from IPython.core.magic import register_line_magic\n",
       "N=1000; n_clusters=7\n",
       "X,y=sds.make_blobs(n_samples=N,n_features=2, \n",
       "                   centers=n_clusters,\n",
       "                   cluster_std=.7, \n",
       "                   shuffle=True,random_state=0)\n",
       "pl.figure(figsize=(4,4))\n",
       "pl.scatter(X[:,0],X[:,1],\n",
       "           c='white',marker='v',\n",
       "           edgecolor='#aa33ff',s=10)\n",
       "pl.grid(); pl.title('Artificial Data'); pl.show()\n",
       "    \n",
       "</pre></code><br/> \n",
       "<div id='cell1' class='linked'><script type='text/x-sage'>\n",
       "import sklearn.datasets as sds\n",
       "import sklearn.cluster as scl\n",
       "import pylab as pl\n",
       "from IPython.core.magic import register_line_magic\n",
       "N=1000; n_clusters=7\n",
       "X,y=sds.make_blobs(n_samples=N,n_features=2, \n",
       "                   centers=n_clusters,\n",
       "                   cluster_std=.7, \n",
       "                   shuffle=True,random_state=0)\n",
       "pl.figure(figsize=(4,4))\n",
       "pl.scatter(X[:,0],X[:,1],\n",
       "           c='white',marker='v',\n",
       "           edgecolor='#aa33ff',s=10)\n",
       "pl.grid(); pl.title('Artificial Data'); pl.show()\n",
       "</script></div><br/>\n",
       "    <h2>$\\mathbb{Clustering}$</h2>\n",
       "<pre style='border:1px double #aaa;'><code>\n",
       "km,y_km=[],[]\n",
       "@register_line_magic\n",
       "def kmeans_clusters(c):\n",
       "    n_clusters=int(c)\n",
       "    global km,y_km\n",
       "    km=scl.KMeans(n_clusters=n_clusters,\n",
       "                  init='k-means++',n_init=10,\n",
       "                  max_iter=500,tol=1e-04,\n",
       "                  random_state=0)\n",
       "    y_km=km.fit_predict(X)\n",
       "%kmeans_clusters 7\n",
       "pl.figure(figsize=(4,4))\n",
       "for i in range(n_clusters):\n",
       "    color=pl.cm.hsv(float(i)/n_clusters)\n",
       "    pl.scatter(X[y_km==i,0],X[y_km==i,1],\n",
       "               s=15,color=color,marker='v',\n",
       "               edgecolor='#aa33ff',\n",
       "               label='cluster %d'%i)\n",
       "pl.scatter(km.cluster_centers_[:,0],\n",
       "           km.cluster_centers_[:,1],\n",
       "           s=100, marker='*',c='black',\n",
       "           edgecolor='#aa33ff',label='centroids')\n",
       "pl.legend(scatterpoints=1); pl.show()\n",
       "    \n",
       "</pre></code><br/> \n",
       "<div id='cell2' class='linked'><script type='text/x-sage'>\n",
       "km,y_km=[],[]\n",
       "@register_line_magic\n",
       "def kmeans_clusters(c):\n",
       "    n_clusters=int(c)\n",
       "    global km,y_km\n",
       "    km=scl.KMeans(n_clusters=n_clusters,\n",
       "                  init='k-means++',n_init=10,\n",
       "                  max_iter=500,tol=1e-04,\n",
       "                  random_state=0)\n",
       "    y_km=km.fit_predict(X)\n",
       "%kmeans_clusters 7\n",
       "pl.figure(figsize=(4,4))\n",
       "for i in range(n_clusters):\n",
       "    color=pl.cm.hsv(float(i)/n_clusters)\n",
       "    pl.scatter(X[y_km==i,0],X[y_km==i,1],\n",
       "               s=15,color=color,marker='v',\n",
       "               edgecolor='#aa33ff',\n",
       "               label='cluster %d'%i)\n",
       "pl.scatter(km.cluster_centers_[:,0],\n",
       "           km.cluster_centers_[:,1],\n",
       "           s=100, marker='*',c='black',\n",
       "           edgecolor='#aa33ff',label='centroids')\n",
       "pl.legend(scatterpoints=1); pl.show()\n",
       "</script></div><br/>\n",
       "  </body>\n",
       "</html>"
      ],
      "text/plain": [
       "<IPython.core.display.HTML object>"
      ]
     },
     "execution_count": 2,
     "metadata": {},
     "output_type": "execute_result"
    }
   ],
   "source": [
    "file='../input/html-recipes/sklearn_clusters.html'\n",
    "with open(file,'r') as f:\n",
    "    html_str=f.read()\n",
    "    f.close()\n",
    "HTML(html_str)"
   ]
  },
  {
   "cell_type": "markdown",
   "metadata": {
    "papermill": {
     "duration": 0.00827,
     "end_time": "2020-10-08T17:29:24.560503",
     "exception": false,
     "start_time": "2020-10-08T17:29:24.552233",
     "status": "completed"
    },
    "tags": []
   },
   "source": [
    "<h2 style='color:#ff35ef;'>$$\\mathscr{Linked \\; Interactive \\;Widgets}$$</h2>"
   ]
  },
  {
   "cell_type": "code",
   "execution_count": 3,
   "metadata": {
    "_cell_guid": "79c7e3d0-c299-4dcb-8224-4455121ee9b0",
    "_uuid": "d629ff2d2480ee46fbb7e2d37f6b5fab8052498a",
    "execution": {
     "iopub.execute_input": "2020-10-08T17:29:24.603783Z",
     "iopub.status.busy": "2020-10-08T17:29:24.602989Z",
     "iopub.status.idle": "2020-10-08T17:29:24.612540Z",
     "shell.execute_reply": "2020-10-08T17:29:24.611920Z"
    },
    "papermill": {
     "duration": 0.043641,
     "end_time": "2020-10-08T17:29:24.612662",
     "exception": false,
     "start_time": "2020-10-08T17:29:24.569021",
     "status": "completed"
    },
    "tags": []
   },
   "outputs": [
    {
     "data": {
      "application/vnd.jupyter.widget-view+json": {
       "model_id": "7608128beffd46e3a2abeff932e1d46c",
       "version_major": 2,
       "version_minor": 0
      },
      "text/plain": [
       "IntText(value=0)"
      ]
     },
     "metadata": {},
     "output_type": "display_data"
    },
    {
     "data": {
      "application/vnd.jupyter.widget-view+json": {
       "model_id": "c05c327ea72a497fb710d10f13c18a39",
       "version_major": 2,
       "version_minor": 0
      },
      "text/plain": [
       "IntProgress(value=0)"
      ]
     },
     "metadata": {},
     "output_type": "display_data"
    }
   ],
   "source": [
    "progress=widgets.IntProgress()\n",
    "text=widgets.IntText(min=0,max=100)\n",
    "widgets.jslink((progress,'value'),\n",
    "               (text,'value'))\n",
    "display(text,progress)"
   ]
  },
  {
   "cell_type": "code",
   "execution_count": 4,
   "metadata": {
    "execution": {
     "iopub.execute_input": "2020-10-08T17:29:24.660550Z",
     "iopub.status.busy": "2020-10-08T17:29:24.659799Z",
     "iopub.status.idle": "2020-10-08T17:29:24.669279Z",
     "shell.execute_reply": "2020-10-08T17:29:24.667557Z"
    },
    "papermill": {
     "duration": 0.046983,
     "end_time": "2020-10-08T17:29:24.669426",
     "exception": false,
     "start_time": "2020-10-08T17:29:24.622443",
     "status": "completed"
    },
    "tags": []
   },
   "outputs": [
    {
     "data": {
      "application/vnd.jupyter.widget-view+json": {
       "model_id": "1f3b0d30ae1342d4863f0f5770cce511",
       "version_major": 2,
       "version_minor": 0
      },
      "text/plain": [
       "Play(value=1, description='Click Play', interval=1000, min=1)"
      ]
     },
     "metadata": {},
     "output_type": "display_data"
    },
    {
     "data": {
      "application/vnd.jupyter.widget-view+json": {
       "model_id": "141148c14ce142589618a0369820dfd3",
       "version_major": 2,
       "version_minor": 0
      },
      "text/plain": [
       "IntSlider(value=1, continuous_update=False, min=1)"
      ]
     },
     "metadata": {},
     "output_type": "display_data"
    }
   ],
   "source": [
    "l=[]\n",
    "def on_value_change(change):\n",
    "    l.append(change['new'])\n",
    "slider=widgets.IntSlider(min=1,max=100,step=1,\n",
    "                         continuous_update=False)\n",
    "play=widgets.Play(min=1,interval=1000,\n",
    "                  description=\"Click Play\")\n",
    "widgets.jslink((play,'value'),(slider,'value'))\n",
    "slider.observe(on_value_change,names='value')\n",
    "display(play,slider)"
   ]
  },
  {
   "cell_type": "code",
   "execution_count": 5,
   "metadata": {
    "execution": {
     "iopub.execute_input": "2020-10-08T17:29:24.734273Z",
     "iopub.status.busy": "2020-10-08T17:29:24.733154Z",
     "iopub.status.idle": "2020-10-08T17:29:24.744462Z",
     "shell.execute_reply": "2020-10-08T17:29:24.739937Z"
    },
    "papermill": {
     "duration": 0.06398,
     "end_time": "2020-10-08T17:29:24.744593",
     "exception": false,
     "start_time": "2020-10-08T17:29:24.680613",
     "status": "completed"
    },
    "tags": []
   },
   "outputs": [
    {
     "data": {
      "application/vnd.jupyter.widget-view+json": {
       "model_id": "4a566eb53cf645639f0537c8c6aa1710",
       "version_major": 2,
       "version_minor": 0
      },
      "text/plain": [
       "VBox(children=(Play(value=1, description='Click Play', interval=1000, min=1), IntProgress(value=1, min=1), Out…"
      ]
     },
     "metadata": {},
     "output_type": "display_data"
    }
   ],
   "source": [
    "out=widgets.Output()\n",
    "def value_change(change):\n",
    "    with out: change['new']\n",
    "progress=widgets.IntProgress(min=1,max=100,step=1,\n",
    "                             continuous_update=False)\n",
    "play=widgets.Play(min=1,interval=1000,\n",
    "                  description=\"Click Play\")\n",
    "widgets.jslink((play,'value'),(progress,'value'))\n",
    "progress.observe(value_change,names='value')\n",
    "widgets.VBox([play,progress,out])"
   ]
  },
  {
   "cell_type": "code",
   "execution_count": 6,
   "metadata": {
    "execution": {
     "iopub.execute_input": "2020-10-08T17:29:24.801634Z",
     "iopub.status.busy": "2020-10-08T17:29:24.777419Z",
     "iopub.status.idle": "2020-10-08T17:29:24.813431Z",
     "shell.execute_reply": "2020-10-08T17:29:24.812818Z"
    },
    "papermill": {
     "duration": 0.056711,
     "end_time": "2020-10-08T17:29:24.813552",
     "exception": false,
     "start_time": "2020-10-08T17:29:24.756841",
     "status": "completed"
    },
    "tags": []
   },
   "outputs": [
    {
     "data": {
      "application/vnd.jupyter.widget-view+json": {
       "model_id": "4b814a80c3f04dfca0d074086478ac33",
       "version_major": 2,
       "version_minor": 0
      },
      "text/plain": [
       "IntSlider(value=1, max=10, min=1)"
      ]
     },
     "metadata": {},
     "output_type": "display_data"
    },
    {
     "data": {
      "application/vnd.jupyter.widget-view+json": {
       "model_id": "10dba0020c87463eb94113c9e0daff5d",
       "version_major": 2,
       "version_minor": 0
      },
      "text/plain": [
       "HTML(value='1', description='HTML')"
      ]
     },
     "metadata": {},
     "output_type": "display_data"
    },
    {
     "data": {
      "application/vnd.jupyter.widget-view+json": {
       "model_id": "371f49fccbb846fe85fa779a286c9828",
       "version_major": 2,
       "version_minor": 0
      },
      "text/plain": [
       "Output()"
      ]
     },
     "metadata": {},
     "output_type": "display_data"
    }
   ],
   "source": [
    "out=widgets.Output()\n",
    "def value_change(change):\n",
    "    with out: change['new']\n",
    "slider=widgets.IntSlider(min=1,max=10)\n",
    "whtml=widgets.HTML(value='%d'%1,\n",
    "                   description='HTML')\n",
    "widgets.jslink((whtml,'value'),(slider,'value'))\n",
    "slider.observe(value_change,names='value')\n",
    "display(slider,whtml,out)"
   ]
  }
 ],
 "metadata": {
  "kernelspec": {
   "display_name": "Python 3",
   "language": "python",
   "name": "python3"
  },
  "language_info": {
   "codemirror_mode": {
    "name": "ipython",
    "version": 3
   },
   "file_extension": ".py",
   "mimetype": "text/x-python",
   "name": "python",
   "nbconvert_exporter": "python",
   "pygments_lexer": "ipython3",
   "version": "3.7.6"
  },
  "papermill": {
   "duration": 5.784755,
   "end_time": "2020-10-08T17:29:24.936857",
   "environment_variables": {},
   "exception": null,
   "input_path": "__notebook__.ipynb",
   "output_path": "__notebook__.ipynb",
   "parameters": {},
   "start_time": "2020-10-08T17:29:19.152102",
   "version": "2.1.0"
  },
  "widgets": {
   "application/vnd.jupyter.widget-state+json": {
    "state": {
     "01e1cd5b42fc4fa281376145c2a83954": {
      "model_module": "@jupyter-widgets/controls",
      "model_module_version": "1.5.0",
      "model_name": "LinkModel",
      "state": {
       "_model_module": "@jupyter-widgets/controls",
       "_model_module_version": "1.5.0",
       "_model_name": "LinkModel",
       "_view_count": null,
       "_view_module": "@jupyter-widgets/controls",
       "_view_module_version": "1.5.0",
       "_view_name": null,
       "source": [
        "IPY_MODEL_1f3b0d30ae1342d4863f0f5770cce511",
        "value"
       ],
       "target": [
        "IPY_MODEL_141148c14ce142589618a0369820dfd3",
        "value"
       ]
      }
     },
     "0397ee670dba4e72b3c9daebd1138c17": {
      "model_module": "@jupyter-widgets/base",
      "model_module_version": "1.2.0",
      "model_name": "LayoutModel",
      "state": {
       "_model_module": "@jupyter-widgets/base",
       "_model_module_version": "1.2.0",
       "_model_name": "LayoutModel",
       "_view_count": null,
       "_view_module": "@jupyter-widgets/base",
       "_view_module_version": "1.2.0",
       "_view_name": "LayoutView",
       "align_content": null,
       "align_items": null,
       "align_self": null,
       "border": null,
       "bottom": null,
       "display": null,
       "flex": null,
       "flex_flow": null,
       "grid_area": null,
       "grid_auto_columns": null,
       "grid_auto_flow": null,
       "grid_auto_rows": null,
       "grid_column": null,
       "grid_gap": null,
       "grid_row": null,
       "grid_template_areas": null,
       "grid_template_columns": null,
       "grid_template_rows": null,
       "height": null,
       "justify_content": null,
       "justify_items": null,
       "left": null,
       "margin": null,
       "max_height": null,
       "max_width": null,
       "min_height": null,
       "min_width": null,
       "object_fit": null,
       "object_position": null,
       "order": null,
       "overflow": null,
       "overflow_x": null,
       "overflow_y": null,
       "padding": null,
       "right": null,
       "top": null,
       "visibility": null,
       "width": null
      }
     },
     "10dba0020c87463eb94113c9e0daff5d": {
      "model_module": "@jupyter-widgets/controls",
      "model_module_version": "1.5.0",
      "model_name": "HTMLModel",
      "state": {
       "_dom_classes": [],
       "_model_module": "@jupyter-widgets/controls",
       "_model_module_version": "1.5.0",
       "_model_name": "HTMLModel",
       "_view_count": null,
       "_view_module": "@jupyter-widgets/controls",
       "_view_module_version": "1.5.0",
       "_view_name": "HTMLView",
       "description": "HTML",
       "description_tooltip": null,
       "layout": "IPY_MODEL_665321e2d1834eb8b631e14c9b334ed6",
       "placeholder": "​",
       "style": "IPY_MODEL_53a8b5f55bed4e87a087353428998fbe",
       "value": "1"
      }
     },
     "11bacab9bbf647bda9e775a7294c3036": {
      "model_module": "@jupyter-widgets/base",
      "model_module_version": "1.2.0",
      "model_name": "LayoutModel",
      "state": {
       "_model_module": "@jupyter-widgets/base",
       "_model_module_version": "1.2.0",
       "_model_name": "LayoutModel",
       "_view_count": null,
       "_view_module": "@jupyter-widgets/base",
       "_view_module_version": "1.2.0",
       "_view_name": "LayoutView",
       "align_content": null,
       "align_items": null,
       "align_self": null,
       "border": null,
       "bottom": null,
       "display": null,
       "flex": null,
       "flex_flow": null,
       "grid_area": null,
       "grid_auto_columns": null,
       "grid_auto_flow": null,
       "grid_auto_rows": null,
       "grid_column": null,
       "grid_gap": null,
       "grid_row": null,
       "grid_template_areas": null,
       "grid_template_columns": null,
       "grid_template_rows": null,
       "height": null,
       "justify_content": null,
       "justify_items": null,
       "left": null,
       "margin": null,
       "max_height": null,
       "max_width": null,
       "min_height": null,
       "min_width": null,
       "object_fit": null,
       "object_position": null,
       "order": null,
       "overflow": null,
       "overflow_x": null,
       "overflow_y": null,
       "padding": null,
       "right": null,
       "top": null,
       "visibility": null,
       "width": null
      }
     },
     "141148c14ce142589618a0369820dfd3": {
      "model_module": "@jupyter-widgets/controls",
      "model_module_version": "1.5.0",
      "model_name": "IntSliderModel",
      "state": {
       "_dom_classes": [],
       "_model_module": "@jupyter-widgets/controls",
       "_model_module_version": "1.5.0",
       "_model_name": "IntSliderModel",
       "_view_count": null,
       "_view_module": "@jupyter-widgets/controls",
       "_view_module_version": "1.5.0",
       "_view_name": "IntSliderView",
       "continuous_update": false,
       "description": "",
       "description_tooltip": null,
       "disabled": false,
       "layout": "IPY_MODEL_2cb7941bc4344149bd46d9acd9875d59",
       "max": 100,
       "min": 1,
       "orientation": "horizontal",
       "readout": true,
       "readout_format": "d",
       "step": 1,
       "style": "IPY_MODEL_1ef2bd10d9c54bb78584e14f4a115520",
       "value": 1
      }
     },
     "16b11c99329848769ec7e783e125bed4": {
      "model_module": "@jupyter-widgets/output",
      "model_module_version": "1.0.0",
      "model_name": "OutputModel",
      "state": {
       "_dom_classes": [],
       "_model_module": "@jupyter-widgets/output",
       "_model_module_version": "1.0.0",
       "_model_name": "OutputModel",
       "_view_count": null,
       "_view_module": "@jupyter-widgets/output",
       "_view_module_version": "1.0.0",
       "_view_name": "OutputView",
       "layout": "IPY_MODEL_11bacab9bbf647bda9e775a7294c3036",
       "msg_id": "",
       "outputs": []
      }
     },
     "1cde466edd634d36b41cad8e7bc3d670": {
      "model_module": "@jupyter-widgets/controls",
      "model_module_version": "1.5.0",
      "model_name": "LinkModel",
      "state": {
       "_model_module": "@jupyter-widgets/controls",
       "_model_module_version": "1.5.0",
       "_model_name": "LinkModel",
       "_view_count": null,
       "_view_module": "@jupyter-widgets/controls",
       "_view_module_version": "1.5.0",
       "_view_name": null,
       "source": [
        "IPY_MODEL_c05c327ea72a497fb710d10f13c18a39",
        "value"
       ],
       "target": [
        "IPY_MODEL_7608128beffd46e3a2abeff932e1d46c",
        "value"
       ]
      }
     },
     "1ef2bd10d9c54bb78584e14f4a115520": {
      "model_module": "@jupyter-widgets/controls",
      "model_module_version": "1.5.0",
      "model_name": "SliderStyleModel",
      "state": {
       "_model_module": "@jupyter-widgets/controls",
       "_model_module_version": "1.5.0",
       "_model_name": "SliderStyleModel",
       "_view_count": null,
       "_view_module": "@jupyter-widgets/base",
       "_view_module_version": "1.2.0",
       "_view_name": "StyleView",
       "description_width": "",
       "handle_color": null
      }
     },
     "1f3b0d30ae1342d4863f0f5770cce511": {
      "model_module": "@jupyter-widgets/controls",
      "model_module_version": "1.5.0",
      "model_name": "PlayModel",
      "state": {
       "_dom_classes": [],
       "_model_module": "@jupyter-widgets/controls",
       "_model_module_version": "1.5.0",
       "_model_name": "PlayModel",
       "_playing": false,
       "_repeat": false,
       "_view_count": null,
       "_view_module": "@jupyter-widgets/controls",
       "_view_module_version": "1.5.0",
       "_view_name": "PlayView",
       "description": "Click Play",
       "description_tooltip": null,
       "disabled": false,
       "interval": 1000,
       "layout": "IPY_MODEL_3a3cf92661fe46d880138664bfbb8597",
       "max": 100,
       "min": 1,
       "show_repeat": true,
       "step": 1,
       "style": "IPY_MODEL_74f34b00c8f046dd846b51f46a2f1a3c",
       "value": 1
      }
     },
     "1fdfc83ca72944babbafd2d2541ffd2f": {
      "model_module": "@jupyter-widgets/controls",
      "model_module_version": "1.5.0",
      "model_name": "LinkModel",
      "state": {
       "_model_module": "@jupyter-widgets/controls",
       "_model_module_version": "1.5.0",
       "_model_name": "LinkModel",
       "_view_count": null,
       "_view_module": "@jupyter-widgets/controls",
       "_view_module_version": "1.5.0",
       "_view_name": null,
       "source": [
        "IPY_MODEL_2716cae8335048299d71f0af83ec52f0",
        "value"
       ],
       "target": [
        "IPY_MODEL_d62ef3f08cab4c21a8716942c7f1adff",
        "value"
       ]
      }
     },
     "2716cae8335048299d71f0af83ec52f0": {
      "model_module": "@jupyter-widgets/controls",
      "model_module_version": "1.5.0",
      "model_name": "PlayModel",
      "state": {
       "_dom_classes": [],
       "_model_module": "@jupyter-widgets/controls",
       "_model_module_version": "1.5.0",
       "_model_name": "PlayModel",
       "_playing": false,
       "_repeat": false,
       "_view_count": null,
       "_view_module": "@jupyter-widgets/controls",
       "_view_module_version": "1.5.0",
       "_view_name": "PlayView",
       "description": "Click Play",
       "description_tooltip": null,
       "disabled": false,
       "interval": 1000,
       "layout": "IPY_MODEL_686cdaea0a03447a9c83a96c4ea987d6",
       "max": 100,
       "min": 1,
       "show_repeat": true,
       "step": 1,
       "style": "IPY_MODEL_e77325fcd8e9476da2ed96e7a8a999b5",
       "value": 1
      }
     },
     "2cb7941bc4344149bd46d9acd9875d59": {
      "model_module": "@jupyter-widgets/base",
      "model_module_version": "1.2.0",
      "model_name": "LayoutModel",
      "state": {
       "_model_module": "@jupyter-widgets/base",
       "_model_module_version": "1.2.0",
       "_model_name": "LayoutModel",
       "_view_count": null,
       "_view_module": "@jupyter-widgets/base",
       "_view_module_version": "1.2.0",
       "_view_name": "LayoutView",
       "align_content": null,
       "align_items": null,
       "align_self": null,
       "border": null,
       "bottom": null,
       "display": null,
       "flex": null,
       "flex_flow": null,
       "grid_area": null,
       "grid_auto_columns": null,
       "grid_auto_flow": null,
       "grid_auto_rows": null,
       "grid_column": null,
       "grid_gap": null,
       "grid_row": null,
       "grid_template_areas": null,
       "grid_template_columns": null,
       "grid_template_rows": null,
       "height": null,
       "justify_content": null,
       "justify_items": null,
       "left": null,
       "margin": null,
       "max_height": null,
       "max_width": null,
       "min_height": null,
       "min_width": null,
       "object_fit": null,
       "object_position": null,
       "order": null,
       "overflow": null,
       "overflow_x": null,
       "overflow_y": null,
       "padding": null,
       "right": null,
       "top": null,
       "visibility": null,
       "width": null
      }
     },
     "371f49fccbb846fe85fa779a286c9828": {
      "model_module": "@jupyter-widgets/output",
      "model_module_version": "1.0.0",
      "model_name": "OutputModel",
      "state": {
       "_dom_classes": [],
       "_model_module": "@jupyter-widgets/output",
       "_model_module_version": "1.0.0",
       "_model_name": "OutputModel",
       "_view_count": null,
       "_view_module": "@jupyter-widgets/output",
       "_view_module_version": "1.0.0",
       "_view_name": "OutputView",
       "layout": "IPY_MODEL_7f979736a30943e88d9615336cc3bac8",
       "msg_id": "",
       "outputs": []
      }
     },
     "3a3cf92661fe46d880138664bfbb8597": {
      "model_module": "@jupyter-widgets/base",
      "model_module_version": "1.2.0",
      "model_name": "LayoutModel",
      "state": {
       "_model_module": "@jupyter-widgets/base",
       "_model_module_version": "1.2.0",
       "_model_name": "LayoutModel",
       "_view_count": null,
       "_view_module": "@jupyter-widgets/base",
       "_view_module_version": "1.2.0",
       "_view_name": "LayoutView",
       "align_content": null,
       "align_items": null,
       "align_self": null,
       "border": null,
       "bottom": null,
       "display": null,
       "flex": null,
       "flex_flow": null,
       "grid_area": null,
       "grid_auto_columns": null,
       "grid_auto_flow": null,
       "grid_auto_rows": null,
       "grid_column": null,
       "grid_gap": null,
       "grid_row": null,
       "grid_template_areas": null,
       "grid_template_columns": null,
       "grid_template_rows": null,
       "height": null,
       "justify_content": null,
       "justify_items": null,
       "left": null,
       "margin": null,
       "max_height": null,
       "max_width": null,
       "min_height": null,
       "min_width": null,
       "object_fit": null,
       "object_position": null,
       "order": null,
       "overflow": null,
       "overflow_x": null,
       "overflow_y": null,
       "padding": null,
       "right": null,
       "top": null,
       "visibility": null,
       "width": null
      }
     },
     "4a566eb53cf645639f0537c8c6aa1710": {
      "model_module": "@jupyter-widgets/controls",
      "model_module_version": "1.5.0",
      "model_name": "VBoxModel",
      "state": {
       "_dom_classes": [],
       "_model_module": "@jupyter-widgets/controls",
       "_model_module_version": "1.5.0",
       "_model_name": "VBoxModel",
       "_view_count": null,
       "_view_module": "@jupyter-widgets/controls",
       "_view_module_version": "1.5.0",
       "_view_name": "VBoxView",
       "box_style": "",
       "children": [
        "IPY_MODEL_2716cae8335048299d71f0af83ec52f0",
        "IPY_MODEL_d62ef3f08cab4c21a8716942c7f1adff",
        "IPY_MODEL_16b11c99329848769ec7e783e125bed4"
       ],
       "layout": "IPY_MODEL_bfdac4e24e6e420499aeb37bae75f1d9"
      }
     },
     "4b814a80c3f04dfca0d074086478ac33": {
      "model_module": "@jupyter-widgets/controls",
      "model_module_version": "1.5.0",
      "model_name": "IntSliderModel",
      "state": {
       "_dom_classes": [],
       "_model_module": "@jupyter-widgets/controls",
       "_model_module_version": "1.5.0",
       "_model_name": "IntSliderModel",
       "_view_count": null,
       "_view_module": "@jupyter-widgets/controls",
       "_view_module_version": "1.5.0",
       "_view_name": "IntSliderView",
       "continuous_update": true,
       "description": "",
       "description_tooltip": null,
       "disabled": false,
       "layout": "IPY_MODEL_92749ae850b04781a6278a95b6609ca0",
       "max": 10,
       "min": 1,
       "orientation": "horizontal",
       "readout": true,
       "readout_format": "d",
       "step": 1,
       "style": "IPY_MODEL_60662d5b69ff4449b69fb3831549fb8b",
       "value": 1
      }
     },
     "53a8b5f55bed4e87a087353428998fbe": {
      "model_module": "@jupyter-widgets/controls",
      "model_module_version": "1.5.0",
      "model_name": "DescriptionStyleModel",
      "state": {
       "_model_module": "@jupyter-widgets/controls",
       "_model_module_version": "1.5.0",
       "_model_name": "DescriptionStyleModel",
       "_view_count": null,
       "_view_module": "@jupyter-widgets/base",
       "_view_module_version": "1.2.0",
       "_view_name": "StyleView",
       "description_width": ""
      }
     },
     "566f9705c833405fa0267b4b8cef3cf4": {
      "model_module": "@jupyter-widgets/controls",
      "model_module_version": "1.5.0",
      "model_name": "ProgressStyleModel",
      "state": {
       "_model_module": "@jupyter-widgets/controls",
       "_model_module_version": "1.5.0",
       "_model_name": "ProgressStyleModel",
       "_view_count": null,
       "_view_module": "@jupyter-widgets/base",
       "_view_module_version": "1.2.0",
       "_view_name": "StyleView",
       "bar_color": null,
       "description_width": ""
      }
     },
     "60662d5b69ff4449b69fb3831549fb8b": {
      "model_module": "@jupyter-widgets/controls",
      "model_module_version": "1.5.0",
      "model_name": "SliderStyleModel",
      "state": {
       "_model_module": "@jupyter-widgets/controls",
       "_model_module_version": "1.5.0",
       "_model_name": "SliderStyleModel",
       "_view_count": null,
       "_view_module": "@jupyter-widgets/base",
       "_view_module_version": "1.2.0",
       "_view_name": "StyleView",
       "description_width": "",
       "handle_color": null
      }
     },
     "665321e2d1834eb8b631e14c9b334ed6": {
      "model_module": "@jupyter-widgets/base",
      "model_module_version": "1.2.0",
      "model_name": "LayoutModel",
      "state": {
       "_model_module": "@jupyter-widgets/base",
       "_model_module_version": "1.2.0",
       "_model_name": "LayoutModel",
       "_view_count": null,
       "_view_module": "@jupyter-widgets/base",
       "_view_module_version": "1.2.0",
       "_view_name": "LayoutView",
       "align_content": null,
       "align_items": null,
       "align_self": null,
       "border": null,
       "bottom": null,
       "display": null,
       "flex": null,
       "flex_flow": null,
       "grid_area": null,
       "grid_auto_columns": null,
       "grid_auto_flow": null,
       "grid_auto_rows": null,
       "grid_column": null,
       "grid_gap": null,
       "grid_row": null,
       "grid_template_areas": null,
       "grid_template_columns": null,
       "grid_template_rows": null,
       "height": null,
       "justify_content": null,
       "justify_items": null,
       "left": null,
       "margin": null,
       "max_height": null,
       "max_width": null,
       "min_height": null,
       "min_width": null,
       "object_fit": null,
       "object_position": null,
       "order": null,
       "overflow": null,
       "overflow_x": null,
       "overflow_y": null,
       "padding": null,
       "right": null,
       "top": null,
       "visibility": null,
       "width": null
      }
     },
     "686cdaea0a03447a9c83a96c4ea987d6": {
      "model_module": "@jupyter-widgets/base",
      "model_module_version": "1.2.0",
      "model_name": "LayoutModel",
      "state": {
       "_model_module": "@jupyter-widgets/base",
       "_model_module_version": "1.2.0",
       "_model_name": "LayoutModel",
       "_view_count": null,
       "_view_module": "@jupyter-widgets/base",
       "_view_module_version": "1.2.0",
       "_view_name": "LayoutView",
       "align_content": null,
       "align_items": null,
       "align_self": null,
       "border": null,
       "bottom": null,
       "display": null,
       "flex": null,
       "flex_flow": null,
       "grid_area": null,
       "grid_auto_columns": null,
       "grid_auto_flow": null,
       "grid_auto_rows": null,
       "grid_column": null,
       "grid_gap": null,
       "grid_row": null,
       "grid_template_areas": null,
       "grid_template_columns": null,
       "grid_template_rows": null,
       "height": null,
       "justify_content": null,
       "justify_items": null,
       "left": null,
       "margin": null,
       "max_height": null,
       "max_width": null,
       "min_height": null,
       "min_width": null,
       "object_fit": null,
       "object_position": null,
       "order": null,
       "overflow": null,
       "overflow_x": null,
       "overflow_y": null,
       "padding": null,
       "right": null,
       "top": null,
       "visibility": null,
       "width": null
      }
     },
     "74f34b00c8f046dd846b51f46a2f1a3c": {
      "model_module": "@jupyter-widgets/controls",
      "model_module_version": "1.5.0",
      "model_name": "DescriptionStyleModel",
      "state": {
       "_model_module": "@jupyter-widgets/controls",
       "_model_module_version": "1.5.0",
       "_model_name": "DescriptionStyleModel",
       "_view_count": null,
       "_view_module": "@jupyter-widgets/base",
       "_view_module_version": "1.2.0",
       "_view_name": "StyleView",
       "description_width": ""
      }
     },
     "7608128beffd46e3a2abeff932e1d46c": {
      "model_module": "@jupyter-widgets/controls",
      "model_module_version": "1.5.0",
      "model_name": "IntTextModel",
      "state": {
       "_dom_classes": [],
       "_model_module": "@jupyter-widgets/controls",
       "_model_module_version": "1.5.0",
       "_model_name": "IntTextModel",
       "_view_count": null,
       "_view_module": "@jupyter-widgets/controls",
       "_view_module_version": "1.5.0",
       "_view_name": "IntTextView",
       "continuous_update": false,
       "description": "",
       "description_tooltip": null,
       "disabled": false,
       "layout": "IPY_MODEL_0397ee670dba4e72b3c9daebd1138c17",
       "step": 1,
       "style": "IPY_MODEL_e7034cb2c4314fc3a4ad4ebb3a7bbab6",
       "value": 0
      }
     },
     "7f979736a30943e88d9615336cc3bac8": {
      "model_module": "@jupyter-widgets/base",
      "model_module_version": "1.2.0",
      "model_name": "LayoutModel",
      "state": {
       "_model_module": "@jupyter-widgets/base",
       "_model_module_version": "1.2.0",
       "_model_name": "LayoutModel",
       "_view_count": null,
       "_view_module": "@jupyter-widgets/base",
       "_view_module_version": "1.2.0",
       "_view_name": "LayoutView",
       "align_content": null,
       "align_items": null,
       "align_self": null,
       "border": null,
       "bottom": null,
       "display": null,
       "flex": null,
       "flex_flow": null,
       "grid_area": null,
       "grid_auto_columns": null,
       "grid_auto_flow": null,
       "grid_auto_rows": null,
       "grid_column": null,
       "grid_gap": null,
       "grid_row": null,
       "grid_template_areas": null,
       "grid_template_columns": null,
       "grid_template_rows": null,
       "height": null,
       "justify_content": null,
       "justify_items": null,
       "left": null,
       "margin": null,
       "max_height": null,
       "max_width": null,
       "min_height": null,
       "min_width": null,
       "object_fit": null,
       "object_position": null,
       "order": null,
       "overflow": null,
       "overflow_x": null,
       "overflow_y": null,
       "padding": null,
       "right": null,
       "top": null,
       "visibility": null,
       "width": null
      }
     },
     "84eb72ece22742ebbe2ac02962a3d00e": {
      "model_module": "@jupyter-widgets/controls",
      "model_module_version": "1.5.0",
      "model_name": "LinkModel",
      "state": {
       "_model_module": "@jupyter-widgets/controls",
       "_model_module_version": "1.5.0",
       "_model_name": "LinkModel",
       "_view_count": null,
       "_view_module": "@jupyter-widgets/controls",
       "_view_module_version": "1.5.0",
       "_view_name": null,
       "source": [
        "IPY_MODEL_10dba0020c87463eb94113c9e0daff5d",
        "value"
       ],
       "target": [
        "IPY_MODEL_4b814a80c3f04dfca0d074086478ac33",
        "value"
       ]
      }
     },
     "92749ae850b04781a6278a95b6609ca0": {
      "model_module": "@jupyter-widgets/base",
      "model_module_version": "1.2.0",
      "model_name": "LayoutModel",
      "state": {
       "_model_module": "@jupyter-widgets/base",
       "_model_module_version": "1.2.0",
       "_model_name": "LayoutModel",
       "_view_count": null,
       "_view_module": "@jupyter-widgets/base",
       "_view_module_version": "1.2.0",
       "_view_name": "LayoutView",
       "align_content": null,
       "align_items": null,
       "align_self": null,
       "border": null,
       "bottom": null,
       "display": null,
       "flex": null,
       "flex_flow": null,
       "grid_area": null,
       "grid_auto_columns": null,
       "grid_auto_flow": null,
       "grid_auto_rows": null,
       "grid_column": null,
       "grid_gap": null,
       "grid_row": null,
       "grid_template_areas": null,
       "grid_template_columns": null,
       "grid_template_rows": null,
       "height": null,
       "justify_content": null,
       "justify_items": null,
       "left": null,
       "margin": null,
       "max_height": null,
       "max_width": null,
       "min_height": null,
       "min_width": null,
       "object_fit": null,
       "object_position": null,
       "order": null,
       "overflow": null,
       "overflow_x": null,
       "overflow_y": null,
       "padding": null,
       "right": null,
       "top": null,
       "visibility": null,
       "width": null
      }
     },
     "bd176a3ad262424a8d6a7f38dc39862f": {
      "model_module": "@jupyter-widgets/base",
      "model_module_version": "1.2.0",
      "model_name": "LayoutModel",
      "state": {
       "_model_module": "@jupyter-widgets/base",
       "_model_module_version": "1.2.0",
       "_model_name": "LayoutModel",
       "_view_count": null,
       "_view_module": "@jupyter-widgets/base",
       "_view_module_version": "1.2.0",
       "_view_name": "LayoutView",
       "align_content": null,
       "align_items": null,
       "align_self": null,
       "border": null,
       "bottom": null,
       "display": null,
       "flex": null,
       "flex_flow": null,
       "grid_area": null,
       "grid_auto_columns": null,
       "grid_auto_flow": null,
       "grid_auto_rows": null,
       "grid_column": null,
       "grid_gap": null,
       "grid_row": null,
       "grid_template_areas": null,
       "grid_template_columns": null,
       "grid_template_rows": null,
       "height": null,
       "justify_content": null,
       "justify_items": null,
       "left": null,
       "margin": null,
       "max_height": null,
       "max_width": null,
       "min_height": null,
       "min_width": null,
       "object_fit": null,
       "object_position": null,
       "order": null,
       "overflow": null,
       "overflow_x": null,
       "overflow_y": null,
       "padding": null,
       "right": null,
       "top": null,
       "visibility": null,
       "width": null
      }
     },
     "bef03d7604414aa493029bc4be5af03a": {
      "model_module": "@jupyter-widgets/controls",
      "model_module_version": "1.5.0",
      "model_name": "ProgressStyleModel",
      "state": {
       "_model_module": "@jupyter-widgets/controls",
       "_model_module_version": "1.5.0",
       "_model_name": "ProgressStyleModel",
       "_view_count": null,
       "_view_module": "@jupyter-widgets/base",
       "_view_module_version": "1.2.0",
       "_view_name": "StyleView",
       "bar_color": null,
       "description_width": ""
      }
     },
     "bfdac4e24e6e420499aeb37bae75f1d9": {
      "model_module": "@jupyter-widgets/base",
      "model_module_version": "1.2.0",
      "model_name": "LayoutModel",
      "state": {
       "_model_module": "@jupyter-widgets/base",
       "_model_module_version": "1.2.0",
       "_model_name": "LayoutModel",
       "_view_count": null,
       "_view_module": "@jupyter-widgets/base",
       "_view_module_version": "1.2.0",
       "_view_name": "LayoutView",
       "align_content": null,
       "align_items": null,
       "align_self": null,
       "border": null,
       "bottom": null,
       "display": null,
       "flex": null,
       "flex_flow": null,
       "grid_area": null,
       "grid_auto_columns": null,
       "grid_auto_flow": null,
       "grid_auto_rows": null,
       "grid_column": null,
       "grid_gap": null,
       "grid_row": null,
       "grid_template_areas": null,
       "grid_template_columns": null,
       "grid_template_rows": null,
       "height": null,
       "justify_content": null,
       "justify_items": null,
       "left": null,
       "margin": null,
       "max_height": null,
       "max_width": null,
       "min_height": null,
       "min_width": null,
       "object_fit": null,
       "object_position": null,
       "order": null,
       "overflow": null,
       "overflow_x": null,
       "overflow_y": null,
       "padding": null,
       "right": null,
       "top": null,
       "visibility": null,
       "width": null
      }
     },
     "c05c327ea72a497fb710d10f13c18a39": {
      "model_module": "@jupyter-widgets/controls",
      "model_module_version": "1.5.0",
      "model_name": "IntProgressModel",
      "state": {
       "_dom_classes": [],
       "_model_module": "@jupyter-widgets/controls",
       "_model_module_version": "1.5.0",
       "_model_name": "IntProgressModel",
       "_view_count": null,
       "_view_module": "@jupyter-widgets/controls",
       "_view_module_version": "1.5.0",
       "_view_name": "ProgressView",
       "bar_style": "",
       "description": "",
       "description_tooltip": null,
       "layout": "IPY_MODEL_e2cd14fbf7fb453290e95cf55785b0a8",
       "max": 100,
       "min": 0,
       "orientation": "horizontal",
       "style": "IPY_MODEL_bef03d7604414aa493029bc4be5af03a",
       "value": 0
      }
     },
     "d62ef3f08cab4c21a8716942c7f1adff": {
      "model_module": "@jupyter-widgets/controls",
      "model_module_version": "1.5.0",
      "model_name": "IntProgressModel",
      "state": {
       "_dom_classes": [],
       "_model_module": "@jupyter-widgets/controls",
       "_model_module_version": "1.5.0",
       "_model_name": "IntProgressModel",
       "_view_count": null,
       "_view_module": "@jupyter-widgets/controls",
       "_view_module_version": "1.5.0",
       "_view_name": "ProgressView",
       "bar_style": "",
       "description": "",
       "description_tooltip": null,
       "layout": "IPY_MODEL_bd176a3ad262424a8d6a7f38dc39862f",
       "max": 100,
       "min": 1,
       "orientation": "horizontal",
       "style": "IPY_MODEL_566f9705c833405fa0267b4b8cef3cf4",
       "value": 1
      }
     },
     "e2cd14fbf7fb453290e95cf55785b0a8": {
      "model_module": "@jupyter-widgets/base",
      "model_module_version": "1.2.0",
      "model_name": "LayoutModel",
      "state": {
       "_model_module": "@jupyter-widgets/base",
       "_model_module_version": "1.2.0",
       "_model_name": "LayoutModel",
       "_view_count": null,
       "_view_module": "@jupyter-widgets/base",
       "_view_module_version": "1.2.0",
       "_view_name": "LayoutView",
       "align_content": null,
       "align_items": null,
       "align_self": null,
       "border": null,
       "bottom": null,
       "display": null,
       "flex": null,
       "flex_flow": null,
       "grid_area": null,
       "grid_auto_columns": null,
       "grid_auto_flow": null,
       "grid_auto_rows": null,
       "grid_column": null,
       "grid_gap": null,
       "grid_row": null,
       "grid_template_areas": null,
       "grid_template_columns": null,
       "grid_template_rows": null,
       "height": null,
       "justify_content": null,
       "justify_items": null,
       "left": null,
       "margin": null,
       "max_height": null,
       "max_width": null,
       "min_height": null,
       "min_width": null,
       "object_fit": null,
       "object_position": null,
       "order": null,
       "overflow": null,
       "overflow_x": null,
       "overflow_y": null,
       "padding": null,
       "right": null,
       "top": null,
       "visibility": null,
       "width": null
      }
     },
     "e7034cb2c4314fc3a4ad4ebb3a7bbab6": {
      "model_module": "@jupyter-widgets/controls",
      "model_module_version": "1.5.0",
      "model_name": "DescriptionStyleModel",
      "state": {
       "_model_module": "@jupyter-widgets/controls",
       "_model_module_version": "1.5.0",
       "_model_name": "DescriptionStyleModel",
       "_view_count": null,
       "_view_module": "@jupyter-widgets/base",
       "_view_module_version": "1.2.0",
       "_view_name": "StyleView",
       "description_width": ""
      }
     },
     "e77325fcd8e9476da2ed96e7a8a999b5": {
      "model_module": "@jupyter-widgets/controls",
      "model_module_version": "1.5.0",
      "model_name": "DescriptionStyleModel",
      "state": {
       "_model_module": "@jupyter-widgets/controls",
       "_model_module_version": "1.5.0",
       "_model_name": "DescriptionStyleModel",
       "_view_count": null,
       "_view_module": "@jupyter-widgets/base",
       "_view_module_version": "1.2.0",
       "_view_name": "StyleView",
       "description_width": ""
      }
     }
    },
    "version_major": 2,
    "version_minor": 0
   }
  }
 },
 "nbformat": 4,
 "nbformat_minor": 4
}
