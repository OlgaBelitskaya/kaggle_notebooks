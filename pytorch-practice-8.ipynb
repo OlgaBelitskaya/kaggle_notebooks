{
 "cells": [
  {
   "cell_type": "markdown",
   "execution_count": null,
   "metadata": {},
   "source": [
    "Reading classics [Deep Learning Models](https://nbviewer.jupyter.org/github/rasbt/deeplearning-models/blob/master/pytorch_ipynb/cnn/cnn-alexnet-cifar10.ipynb)\n",
    "\n",
    "## Code Modules, Classes & Functions"
   ]
  },
  {
   "cell_type": "code",
   "execution_count": 1,
   "metadata": {
    "_cell_guid": "b1076dfc-b9ad-4769-8c92-a6c4dae69d19",
    "_uuid": "8f2839f25d086af736a60e9eeb907d3b93b6e0e5"
   },
   "outputs": [],
   "source": [
    "import numpy as np,pandas as pd,pylab as pl\n",
    "import h5py,torch\n",
    "from tensorflow import image as timage\n",
    "from torchvision.datasets import CIFAR10 as tcifar10\n",
    "from torchvision import transforms,utils\n",
    "from torch.utils.data import DataLoader as tdl\n",
    "from torch.utils.data import Dataset as tds\n",
    "from torch.utils.data.dataset import Subset\n",
    "import torch.nn as tnn\n",
    "from IPython.core.magic import register_line_magic\n",
    "dev=torch.device(\"cuda:0\" if torch.cuda.is_available() \n",
    "                 else \"cpu\")"
   ]
  },
  {
   "cell_type": "code",
   "execution_count": 2,
   "metadata": {
    "_cell_guid": "79c7e3d0-c299-4dcb-8224-4455121ee9b0",
    "_uuid": "d629ff2d2480ee46fbb7e2d37f6b5fab8052498a"
   },
   "outputs": [],
   "source": [
    "class TData(tds):\n",
    "    def __init__(self,X,y):   \n",
    "        self.X=torch.tensor(X,dtype=torch.float32)\n",
    "        self.y=torch.tensor(y,dtype=torch.int32)\n",
    "    def __getitem__(self,index):\n",
    "        train_img,train_lbl=self.X[index],self.y[index]\n",
    "        return train_img,train_lbl\n",
    "    def __len__(self):\n",
    "        return self.y.shape[0]"
   ]
  },
  {
   "cell_type": "code",
   "execution_count": 3,
   "metadata": {},
   "outputs": [],
   "source": [
    "class AlexNN(tnn.Module):\n",
    "    def __init__(self,num_classes):\n",
    "        super(AlexNN,self).__init__()\n",
    "        self.features=tnn.Sequential(\n",
    "            tnn.Conv2d(3,64,kernel_size=11,\n",
    "                       stride=4,padding=2),\n",
    "            tnn.ReLU(inplace=True),\n",
    "            tnn.MaxPool2d(kernel_size=3,stride=2),\n",
    "            tnn.Conv2d(64,192,kernel_size=5,padding=2),\n",
    "            tnn.ReLU(inplace=True),\n",
    "            tnn.MaxPool2d(kernel_size=3,stride=2),\n",
    "            tnn.Conv2d(192,384,kernel_size=3,padding=1),\n",
    "            tnn.ReLU(inplace=True),\n",
    "            tnn.Conv2d(384,256,kernel_size=3,padding=1),\n",
    "            tnn.ReLU(inplace=True),\n",
    "            tnn.Conv2d(256,256,kernel_size=3,padding=1),\n",
    "            tnn.ReLU(inplace=True),\n",
    "            tnn.MaxPool2d(kernel_size=3,stride=2))\n",
    "        self.avgpool=tnn.AdaptiveAvgPool2d((6,6))\n",
    "        self.classifier=tnn.Sequential(\n",
    "            tnn.Dropout(.5),\n",
    "            tnn.Linear(256*6*6,4096),\n",
    "            tnn.ReLU(inplace=True),\n",
    "            tnn.Dropout(.5),\n",
    "            tnn.Linear(4096,4096),\n",
    "            tnn.ReLU(inplace=True),\n",
    "            tnn.Linear(4096,num_classes))\n",
    "    def forward(self,x):\n",
    "        x=self.features(x)\n",
    "        x=self.avgpool(x)\n",
    "        x=x.view(x.size(0),256*6*6)\n",
    "        logits=self.classifier(x)\n",
    "        probs=tnn.functional.softmax(logits,dim=1)\n",
    "        return logits,probs"
   ]
  },
  {
   "cell_type": "code",
   "execution_count": 4,
   "metadata": {
    "_kg_hide-input": true
   },
   "outputs": [],
   "source": [
    "def model_acc(model,data_loader):\n",
    "    correct_preds,num_examples=0,0    \n",
    "    for features,targets in data_loader:\n",
    "        features=features.to(dev)\n",
    "        targets=targets.to(dev)\n",
    "        logits,probs=model(features)\n",
    "        _,pred_labels=torch.max(probs,1)\n",
    "        num_examples+=targets.size(0)\n",
    "        correct_preds+=(pred_labels==targets).sum()        \n",
    "    return correct_preds.float()/num_examples*100"
   ]
  },
  {
   "cell_type": "code",
   "execution_count": 5,
   "metadata": {
    "_kg_hide-input": true
   },
   "outputs": [],
   "source": [
    "def display_examples(data_loader):\n",
    "    for images,labels in data_loader:  \n",
    "        print('Image dimensions: %s'%str(images.shape))\n",
    "        print('Label dimensions: %s'%str(labels.shape))\n",
    "        n=np.random.randint(1,50)\n",
    "        fig=pl.figure(figsize=(11,4))\n",
    "        for i in range(n,n+5):\n",
    "            ax=fig.add_subplot(1,5,i-n+1,\\\n",
    "            xticks=[],yticks=[],title=labels[i].item())\n",
    "            ax.imshow((images[i]).reshape(64,64,3))\n",
    "        break\n",
    "def show_image(img):\n",
    "    npimg=img.numpy()/2.+.5; tr=(1,2,0)\n",
    "    pl.figure(figsize=(10,2))\n",
    "    pl.imshow(np.transpose(npimg,tr))\n",
    "    pl.xticks([]); pl.show()\n",
    "def show_examples(train_loader,classes,num_examples):\n",
    "    dataiter=iter(train_loader)\n",
    "    images,labels=dataiter.next()\n",
    "    show_image(utils.make_grid(images[0:num_examples]))\n",
    "    print('^'.join('%9s'%classes[labels[j]] \n",
    "                   for j in range(num_examples)),end='^')"
   ]
  },
  {
   "cell_type": "code",
   "execution_count": 6,
   "metadata": {
    "_kg_hide-input": true
   },
   "outputs": [],
   "source": [
    "@register_line_magic\n",
    "def train_run(epochs):\n",
    "    epochs=int(epochs)\n",
    "    for epoch in range(epochs):\n",
    "        model.train()\n",
    "        for batch_ids,(features,targets) in enumerate(train_loader):        \n",
    "            features=features.to(dev); targets=targets.to(dev)\n",
    "            logits,probs=model(features)\n",
    "            cost=tnn.functional.cross_entropy(logits,targets)\n",
    "            optimizer.zero_grad(); cost.backward()\n",
    "            optimizer.step()\n",
    "            if not batch_ids%200:\n",
    "                print ('Epoch: %03d/%03d | Batch %03d/%03d | Cost: %.4f' \n",
    "                       %(epoch+1,epochs,batch_ids, \n",
    "                         len(train)//batch_size,cost))\n",
    "        model.eval()         \n",
    "        with torch.set_grad_enabled(False):\n",
    "            print('Epoch: %03d/%03d train acc: %.2f%% valid acc: %.2f%%'%\\\n",
    "                  (epoch+1,epochs,\n",
    "                   model_acc(model,train_loader),\n",
    "                   model_acc(model,valid_loader)))\n",
    "@register_line_magic\n",
    "def train_run2(epochs):\n",
    "    epochs=int(epochs)\n",
    "    for epoch in range(epochs):\n",
    "        model.train()\n",
    "        for batch_ids,(features,targets) in enumerate(train_loader2):        \n",
    "            features=features.to(dev); targets=targets.to(dev)\n",
    "            logits,probs=model(features)\n",
    "            cost=tnn.functional.cross_entropy(logits,targets.long())\n",
    "            optimizer.zero_grad(); cost.backward()\n",
    "            optimizer.step()\n",
    "            if not batch_ids%50:\n",
    "                print ('Epoch: %03d/%03d | Batch %03d/%03d | Cost: %.4f' \n",
    "                       %(epoch+1,epochs,batch_ids, \n",
    "                         len(train2)//batch_size2,cost))\n",
    "        model.eval()         \n",
    "        with torch.set_grad_enabled(False):\n",
    "            print('Epoch: %03d/%03d train acc: %.2f%% valid acc: %.2f%%'%\\\n",
    "                  (epoch+1,epochs,\n",
    "                   model_acc(model,train_loader2),\n",
    "                   model_acc(model,valid_loader2)))\n",
    "@register_line_magic\n",
    "def print_acc(n):\n",
    "    if int(n)==1:\n",
    "        data_loader=\\\n",
    "        [train_loader,valid_loader,test_loader]\n",
    "    if int(n)==2:\n",
    "        data_loader=\\\n",
    "        [train_loader2,valid_loader2,test_loader2]\n",
    "    print('Train accuracy: %.4f%%'%\\\n",
    "    (model_acc(model,data_loader[0])))\n",
    "    print('Valid accuracy: %.4f%%'%\\\n",
    "    (model_acc(model,data_loader[1])))\n",
    "    print('Test accuracy: %.4f%%'%\\\n",
    "    (model_acc(model,data_loader[2])))"
   ]
  },
  {
   "cell_type": "markdown",
   "execution_count": null,
   "metadata": {},
   "source": [
    "## Data"
   ]
  },
  {
   "cell_type": "code",
   "execution_count": 7,
   "metadata": {
    "_kg_hide-output": true
   },
   "outputs": [
    {
     "name": "stdout",
     "output_type": "stream",
     "text": [
      "Downloading https://www.cs.toronto.edu/~kriz/cifar-10-python.tar.gz to data/cifar-10-python.tar.gz\n"
     ]
    },
    {
     "data": {
      "application/vnd.jupyter.widget-view+json": {
       "model_id": "6f08f54a4f05423e89e7999958c95801",
       "version_major": 2,
       "version_minor": 0
      },
      "text/plain": [
       "HBox(children=(FloatProgress(value=1.0, bar_style='info', max=1.0), HTML(value='')))"
      ]
     },
     "metadata": {},
     "output_type": "display_data"
    },
    {
     "name": "stdout",
     "output_type": "stream",
     "text": [
      "Extracting data/cifar-10-python.tar.gz to data\n"
     ]
    }
   ],
   "source": [
    "random_seed=1; batch_size=128\n",
    "train_ids=torch.arange(0,44000)\n",
    "valid_ids=torch.arange(44000,50000)\n",
    "tr0=(.5,.5,.5)\n",
    "train_transform=transforms\\\n",
    ".Compose([transforms.Resize((70,70)),\n",
    "          transforms.RandomCrop((64,64)),\n",
    "          transforms.ToTensor(),\n",
    "          transforms.Normalize(tr0,tr0)])\n",
    "test_transform=transforms\\\n",
    ".Compose([transforms.Resize((70,70)),\n",
    "          transforms.CenterCrop((64,64)),\n",
    "          transforms.ToTensor(),\n",
    "          transforms.Normalize(tr0,tr0)])\n",
    "train_valid=tcifar10(root='data',train=True,download=True,\n",
    "                     transform=train_transform)\n",
    "train=Subset(train_valid,train_ids)\n",
    "valid=Subset(train_valid,valid_ids)\n",
    "test=tcifar10(root='data',train=False, \n",
    "              transform=test_transform)\n",
    "train_loader=tdl(dataset=train,shuffle=True, \n",
    "                 batch_size=batch_size)\n",
    "valid_loader=tdl(dataset=valid,shuffle=True, \n",
    "                 batch_size=batch_size)\n",
    "test_loader=tdl(dataset=test,shuffle=False, \n",
    "                batch_size=batch_size)"
   ]
  },
  {
   "cell_type": "code",
   "execution_count": 8,
   "metadata": {},
   "outputs": [
    {
     "data": {
      "image/png": "[encoded data removed]",
      "text/plain": [
       "<Figure size 720x144 with 1 Axes>"
      ]
     },
     "metadata": {
      "needs_background": "light"
     },
     "output_type": "display_data"
    },
    {
     "name": "stdout",
     "output_type": "stream",
     "text": [
      "    plane^     deer^    plane^    horse^      car^      cat^      dog^"
     ]
    }
   ],
   "source": [
    "classes=('plane','car','bird','cat','deer',\n",
    "         'dog','frog','horse','ship','truck')\n",
    "show_examples(valid_loader,classes,7)"
   ]
  },
  {
   "cell_type": "code",
   "execution_count": 9,
   "metadata": {},
   "outputs": [
    {
     "name": "stdout",
     "output_type": "stream",
     "text": [
      "['backgrounds', 'images', 'labels']\n"
     ]
    },
    {
     "data": {
      "text/plain": [
       "((1419, 3, 64, 64), (1419,))"
      ]
     },
     "execution_count": 9,
     "metadata": {},
     "output_type": "execute_result"
    }
   ],
   "source": [
    "fpath='../input/classification-of-handwritten-letters/'\n",
    "f='LetterColorImages_123.h5'\n",
    "f=h5py.File(fpath+f,'r')\n",
    "keys=list(f.keys()); print(keys)\n",
    "x=np.array(f[keys[1]],dtype='float32')/255\n",
    "x=np.array(timage.resize(x,[64,64]))\\\n",
    ".reshape(-1,3,64,64)\n",
    "y=np.array(f[keys[2]],dtype='int32')-1\n",
    "N=len(y); n=int(.1*N)\n",
    "shuffle_ids=np.arange(N)\n",
    "np.random.RandomState(23).shuffle(shuffle_ids)\n",
    "x,y=x[shuffle_ids],y[shuffle_ids]\n",
    "x_test,x_valid,x_train=x[:n],x[n:2*n],x[2*n:]\n",
    "y_test,y_valid,y_train=y[:n],y[n:2*n],y[2*n:]\n",
    "x_valid.shape,y_valid.shape"
   ]
  },
  {
   "cell_type": "code",
   "execution_count": 10,
   "metadata": {},
   "outputs": [
    {
     "name": "stdout",
     "output_type": "stream",
     "text": [
      "Image dimensions: torch.Size([128, 3, 64, 64])\n",
      "Label dimensions: torch.Size([128])\n"
     ]
    },
    {
     "data": {
      "image/png": "[encoded data removed]",
      "text/plain": [
       "<Figure size 792x288 with 5 Axes>"
      ]
     },
     "metadata": {},
     "output_type": "display_data"
    }
   ],
   "source": [
    "random_seed=1; batch_size2=128\n",
    "train2=TData(x_train,y_train)\n",
    "valid2=TData(x_valid,y_valid)\n",
    "test2=TData(x_test,y_test)\n",
    "train_loader2=tdl(dataset=train2,\n",
    "                  batch_size=batch_size2,shuffle=True)\n",
    "valid_loader2=tdl(dataset=valid2,\n",
    "                  batch_size=batch_size2,shuffle=True)\n",
    "test_loader2=tdl(dataset=test2,\n",
    "                 batch_size=batch_size2,shuffle=False)\n",
    "display_examples(valid_loader2)"
   ]
  },
  {
   "cell_type": "markdown",
   "execution_count": null,
   "metadata": {},
   "source": [
    "## AlexNet Training"
   ]
  },
  {
   "cell_type": "code",
   "execution_count": 11,
   "metadata": {},
   "outputs": [],
   "source": [
    "torch.manual_seed(random_seed)\n",
    "num_classes=10; learning_rate=.0001\n",
    "model=AlexNN(num_classes)\n",
    "model.to(dev)\n",
    "optimizer=torch.optim.Adam(model.parameters(),\n",
    "                           lr=learning_rate)"
   ]
  },
  {
   "cell_type": "code",
   "execution_count": 12,
   "metadata": {
    "_kg_hide-output": true
   },
   "outputs": [
    {
     "name": "stdout",
     "output_type": "stream",
     "text": [
      "Epoch: 001/010 | Batch 000/343 | Cost: 2.3028\n",
      "Epoch: 001/010 | Batch 200/343 | Cost: 1.5471\n",
      "Epoch: 001/010 train acc: 41.36% valid acc: 40.78%\n",
      "Epoch: 002/010 | Batch 000/343 | Cost: 1.6713\n",
      "Epoch: 002/010 | Batch 200/343 | Cost: 1.4370\n",
      "Epoch: 002/010 train acc: 50.92% valid acc: 51.17%\n",
      "Epoch: 003/010 | Batch 000/343 | Cost: 1.2911\n",
      "Epoch: 003/010 | Batch 200/343 | Cost: 1.0617\n",
      "Epoch: 003/010 train acc: 60.55% valid acc: 60.45%\n",
      "Epoch: 004/010 | Batch 000/343 | Cost: 1.0571\n",
      "Epoch: 004/010 | Batch 200/343 | Cost: 1.1223\n",
      "Epoch: 004/010 train acc: 66.17% valid acc: 63.87%\n",
      "Epoch: 005/010 | Batch 000/343 | Cost: 0.7744\n",
      "Epoch: 005/010 | Batch 200/343 | Cost: 0.9316\n",
      "Epoch: 005/010 train acc: 69.89% valid acc: 66.63%\n",
      "Epoch: 006/010 | Batch 000/343 | Cost: 0.8511\n",
      "Epoch: 006/010 | Batch 200/343 | Cost: 0.7265\n",
      "Epoch: 006/010 train acc: 72.53% valid acc: 68.28%\n",
      "Epoch: 007/010 | Batch 000/343 | Cost: 0.8516\n",
      "Epoch: 007/010 | Batch 200/343 | Cost: 0.7178\n",
      "Epoch: 007/010 train acc: 71.35% valid acc: 66.02%\n",
      "Epoch: 008/010 | Batch 000/343 | Cost: 0.8684\n",
      "Epoch: 008/010 | Batch 200/343 | Cost: 0.5947\n",
      "Epoch: 008/010 train acc: 75.82% valid acc: 70.22%\n",
      "Epoch: 009/010 | Batch 000/343 | Cost: 0.7462\n",
      "Epoch: 009/010 | Batch 200/343 | Cost: 0.6235\n",
      "Epoch: 009/010 train acc: 80.37% valid acc: 71.65%\n",
      "Epoch: 010/010 | Batch 000/343 | Cost: 0.5455\n",
      "Epoch: 010/010 | Batch 200/343 | Cost: 0.6070\n",
      "Epoch: 010/010 train acc: 80.45% valid acc: 71.33%\n"
     ]
    }
   ],
   "source": [
    "%train_run 10"
   ]
  },
  {
   "cell_type": "code",
   "execution_count": 13,
   "metadata": {},
   "outputs": [
    {
     "name": "stdout",
     "output_type": "stream",
     "text": [
      "Train accuracy: 80.2091%\n",
      "Valid accuracy: 71.2167%\n",
      "Test accuracy: 71.2900%\n"
     ]
    }
   ],
   "source": [
    "%print_acc 1"
   ]
  },
  {
   "cell_type": "code",
   "execution_count": 14,
   "metadata": {},
   "outputs": [],
   "source": [
    "torch.manual_seed(random_seed)\n",
    "num_classes=33; learning_rate=.0001\n",
    "model=AlexNN(num_classes)\n",
    "model.to(dev)\n",
    "optimizer=torch.optim.Adam(model.parameters(),\n",
    "                           lr=learning_rate) "
   ]
  },
  {
   "cell_type": "code",
   "execution_count": 15,
   "metadata": {
    "_kg_hide-output": true
   },
   "outputs": [
    {
     "name": "stdout",
     "output_type": "stream",
     "text": [
      "Epoch: 001/030 | Batch 000/088 | Cost: 3.4962\n",
      "Epoch: 001/030 | Batch 050/088 | Cost: 3.5042\n",
      "Epoch: 001/030 train acc: 3.83% valid acc: 4.23%\n",
      "Epoch: 002/030 | Batch 000/088 | Cost: 3.4586\n",
      "Epoch: 002/030 | Batch 050/088 | Cost: 3.4302\n",
      "Epoch: 002/030 train acc: 4.92% valid acc: 4.58%\n",
      "Epoch: 003/030 | Batch 000/088 | Cost: 3.3900\n",
      "Epoch: 003/030 | Batch 050/088 | Cost: 3.3879\n",
      "Epoch: 003/030 train acc: 5.46% valid acc: 5.00%\n",
      "Epoch: 004/030 | Batch 000/088 | Cost: 3.4042\n",
      "Epoch: 004/030 | Batch 050/088 | Cost: 3.3362\n",
      "Epoch: 004/030 train acc: 4.99% valid acc: 5.07%\n",
      "Epoch: 005/030 | Batch 000/088 | Cost: 3.3495\n",
      "Epoch: 005/030 | Batch 050/088 | Cost: 3.3904\n",
      "Epoch: 005/030 train acc: 5.93% valid acc: 6.34%\n",
      "Epoch: 006/030 | Batch 000/088 | Cost: 3.3989\n",
      "Epoch: 006/030 | Batch 050/088 | Cost: 3.2906\n",
      "Epoch: 006/030 train acc: 6.71% valid acc: 6.41%\n",
      "Epoch: 007/030 | Batch 000/088 | Cost: 3.4285\n",
      "Epoch: 007/030 | Batch 050/088 | Cost: 3.4549\n",
      "Epoch: 007/030 train acc: 7.38% valid acc: 7.33%\n",
      "Epoch: 008/030 | Batch 000/088 | Cost: 3.3126\n",
      "Epoch: 008/030 | Batch 050/088 | Cost: 3.1928\n",
      "Epoch: 008/030 train acc: 8.90% valid acc: 9.44%\n",
      "Epoch: 009/030 | Batch 000/088 | Cost: 3.1063\n",
      "Epoch: 009/030 | Batch 050/088 | Cost: 3.0985\n",
      "Epoch: 009/030 train acc: 10.80% valid acc: 10.36%\n",
      "Epoch: 010/030 | Batch 000/088 | Cost: 2.9845\n",
      "Epoch: 010/030 | Batch 050/088 | Cost: 3.0212\n",
      "Epoch: 010/030 train acc: 9.12% valid acc: 9.94%\n",
      "Epoch: 011/030 | Batch 000/088 | Cost: 3.0316\n",
      "Epoch: 011/030 | Batch 050/088 | Cost: 2.7907\n",
      "Epoch: 011/030 train acc: 13.82% valid acc: 13.74%\n",
      "Epoch: 012/030 | Batch 000/088 | Cost: 2.8492\n",
      "Epoch: 012/030 | Batch 050/088 | Cost: 2.8550\n",
      "Epoch: 012/030 train acc: 13.90% valid acc: 13.95%\n",
      "Epoch: 013/030 | Batch 000/088 | Cost: 2.9822\n",
      "Epoch: 013/030 | Batch 050/088 | Cost: 2.5713\n",
      "Epoch: 013/030 train acc: 21.34% valid acc: 22.41%\n",
      "Epoch: 014/030 | Batch 000/088 | Cost: 2.6345\n",
      "Epoch: 014/030 | Batch 050/088 | Cost: 2.6367\n",
      "Epoch: 014/030 train acc: 22.66% valid acc: 22.13%\n",
      "Epoch: 015/030 | Batch 000/088 | Cost: 2.6057\n",
      "Epoch: 015/030 | Batch 050/088 | Cost: 2.4988\n",
      "Epoch: 015/030 train acc: 23.63% valid acc: 21.85%\n",
      "Epoch: 016/030 | Batch 000/088 | Cost: 2.5803\n",
      "Epoch: 016/030 | Batch 050/088 | Cost: 2.2311\n",
      "Epoch: 016/030 train acc: 29.63% valid acc: 27.77%\n",
      "Epoch: 017/030 | Batch 000/088 | Cost: 2.3546\n",
      "Epoch: 017/030 | Batch 050/088 | Cost: 2.3780\n",
      "Epoch: 017/030 train acc: 29.72% valid acc: 28.26%\n",
      "Epoch: 018/030 | Batch 000/088 | Cost: 2.2991\n",
      "Epoch: 018/030 | Batch 050/088 | Cost: 2.2039\n",
      "Epoch: 018/030 train acc: 33.57% valid acc: 30.16%\n",
      "Epoch: 019/030 | Batch 000/088 | Cost: 2.1916\n",
      "Epoch: 019/030 | Batch 050/088 | Cost: 1.9959\n",
      "Epoch: 019/030 train acc: 34.89% valid acc: 33.19%\n",
      "Epoch: 020/030 | Batch 000/088 | Cost: 2.4057\n",
      "Epoch: 020/030 | Batch 050/088 | Cost: 2.0860\n",
      "Epoch: 020/030 train acc: 37.48% valid acc: 35.17%\n",
      "Epoch: 021/030 | Batch 000/088 | Cost: 1.9724\n",
      "Epoch: 021/030 | Batch 050/088 | Cost: 1.8972\n",
      "Epoch: 021/030 train acc: 41.15% valid acc: 37.98%\n",
      "Epoch: 022/030 | Batch 000/088 | Cost: 2.0155\n",
      "Epoch: 022/030 | Batch 050/088 | Cost: 2.1313\n",
      "Epoch: 022/030 train acc: 42.85% valid acc: 39.96%\n",
      "Epoch: 023/030 | Batch 000/088 | Cost: 1.8909\n",
      "Epoch: 023/030 | Batch 050/088 | Cost: 1.8035\n",
      "Epoch: 023/030 train acc: 46.34% valid acc: 41.30%\n",
      "Epoch: 024/030 | Batch 000/088 | Cost: 1.7428\n",
      "Epoch: 024/030 | Batch 050/088 | Cost: 1.7146\n",
      "Epoch: 024/030 train acc: 48.51% valid acc: 44.19%\n",
      "Epoch: 025/030 | Batch 000/088 | Cost: 1.7556\n",
      "Epoch: 025/030 | Batch 050/088 | Cost: 1.6495\n",
      "Epoch: 025/030 train acc: 48.61% valid acc: 44.33%\n",
      "Epoch: 026/030 | Batch 000/088 | Cost: 1.9509\n",
      "Epoch: 026/030 | Batch 050/088 | Cost: 1.6534\n",
      "Epoch: 026/030 train acc: 52.70% valid acc: 46.02%\n",
      "Epoch: 027/030 | Batch 000/088 | Cost: 1.5673\n",
      "Epoch: 027/030 | Batch 050/088 | Cost: 1.5492\n",
      "Epoch: 027/030 train acc: 51.36% valid acc: 46.23%\n",
      "Epoch: 028/030 | Batch 000/088 | Cost: 1.4428\n",
      "Epoch: 028/030 | Batch 050/088 | Cost: 1.4787\n",
      "Epoch: 028/030 train acc: 50.42% valid acc: 43.27%\n",
      "Epoch: 029/030 | Batch 000/088 | Cost: 1.6938\n",
      "Epoch: 029/030 | Batch 050/088 | Cost: 1.5663\n",
      "Epoch: 029/030 train acc: 54.68% valid acc: 45.81%\n",
      "Epoch: 030/030 | Batch 000/088 | Cost: 1.4354\n",
      "Epoch: 030/030 | Batch 050/088 | Cost: 1.4080\n",
      "Epoch: 030/030 train acc: 56.22% valid acc: 46.93%\n"
     ]
    }
   ],
   "source": [
    "%train_run2 30"
   ]
  },
  {
   "cell_type": "code",
   "execution_count": 16,
   "metadata": {},
   "outputs": [
    {
     "name": "stdout",
     "output_type": "stream",
     "text": [
      "Train accuracy: 56.2192%\n",
      "Valid accuracy: 46.9345%\n",
      "Test accuracy: 46.7935%\n"
     ]
    }
   ],
   "source": [
    "%print_acc 2"
   ]
  }
 ],
 "metadata": {
  "kernelspec": {
   "display_name": "Python 3",
   "language": "python",
   "name": "python3"
  },
  "language_info": {
   "codemirror_mode": {
    "name": "ipython",
    "version": 3
   },
   "file_extension": ".py",
   "mimetype": "text/x-python",
   "name": "python",
   "nbconvert_exporter": "python",
   "pygments_lexer": "ipython3",
   "version": "3.7.6"
  },
  "widgets": {
   "application/vnd.jupyter.widget-state+json": {
    "state": {
     "119e83b1922e4401b7c4e1c0256f3dac": {
      "model_module": "@jupyter-widgets/controls",
      "model_module_version": "1.5.0",
      "model_name": "DescriptionStyleModel",
      "state": {
       "_model_module": "@jupyter-widgets/controls",
       "_model_module_version": "1.5.0",
       "_model_name": "DescriptionStyleModel",
       "_view_count": null,
       "_view_module": "@jupyter-widgets/base",
       "_view_module_version": "1.2.0",
       "_view_name": "StyleView",
       "description_width": ""
      }
     },
     "2e31d70700c244c1bb60b8182ec578bf": {
      "model_module": "@jupyter-widgets/base",
      "model_module_version": "1.2.0",
      "model_name": "LayoutModel",
      "state": {
       "_model_module": "@jupyter-widgets/base",
       "_model_module_version": "1.2.0",
       "_model_name": "LayoutModel",
       "_view_count": null,
       "_view_module": "@jupyter-widgets/base",
       "_view_module_version": "1.2.0",
       "_view_name": "LayoutView",
       "align_content": null,
       "align_items": null,
       "align_self": null,
       "border": null,
       "bottom": null,
       "display": null,
       "flex": null,
       "flex_flow": null,
       "grid_area": null,
       "grid_auto_columns": null,
       "grid_auto_flow": null,
       "grid_auto_rows": null,
       "grid_column": null,
       "grid_gap": null,
       "grid_row": null,
       "grid_template_areas": null,
       "grid_template_columns": null,
       "grid_template_rows": null,
       "height": null,
       "justify_content": null,
       "justify_items": null,
       "left": null,
       "margin": null,
       "max_height": null,
       "max_width": null,
       "min_height": null,
       "min_width": null,
       "object_fit": null,
       "object_position": null,
       "order": null,
       "overflow": null,
       "overflow_x": null,
       "overflow_y": null,
       "padding": null,
       "right": null,
       "top": null,
       "visibility": null,
       "width": null
      }
     },
     "55eb3bf01e764f35961ce657a1f20c2a": {
      "model_module": "@jupyter-widgets/controls",
      "model_module_version": "1.5.0",
      "model_name": "FloatProgressModel",
      "state": {
       "_dom_classes": [],
       "_model_module": "@jupyter-widgets/controls",
       "_model_module_version": "1.5.0",
       "_model_name": "FloatProgressModel",
       "_view_count": null,
       "_view_module": "@jupyter-widgets/controls",
       "_view_module_version": "1.5.0",
       "_view_name": "ProgressView",
       "bar_style": "info",
       "description": "",
       "description_tooltip": null,
       "layout": "IPY_MODEL_9bc9b2b965c042c89f97aa0595a2c8f7",
       "max": 1.0,
       "min": 0.0,
       "orientation": "horizontal",
       "style": "IPY_MODEL_dae5076914f8482e843f4fb188f80310",
       "value": 1.0
      }
     },
     "6f08f54a4f05423e89e7999958c95801": {
      "model_module": "@jupyter-widgets/controls",
      "model_module_version": "1.5.0",
      "model_name": "HBoxModel",
      "state": {
       "_dom_classes": [],
       "_model_module": "@jupyter-widgets/controls",
       "_model_module_version": "1.5.0",
       "_model_name": "HBoxModel",
       "_view_count": null,
       "_view_module": "@jupyter-widgets/controls",
       "_view_module_version": "1.5.0",
       "_view_name": "HBoxView",
       "box_style": "",
       "children": [
        "IPY_MODEL_55eb3bf01e764f35961ce657a1f20c2a",
        "IPY_MODEL_bdaf247660ee4e1e802da86b81f6619d"
       ],
       "layout": "IPY_MODEL_2e31d70700c244c1bb60b8182ec578bf"
      }
     },
     "9354bed7165d432084f61950fe71ff44": {
      "model_module": "@jupyter-widgets/base",
      "model_module_version": "1.2.0",
      "model_name": "LayoutModel",
      "state": {
       "_model_module": "@jupyter-widgets/base",
       "_model_module_version": "1.2.0",
       "_model_name": "LayoutModel",
       "_view_count": null,
       "_view_module": "@jupyter-widgets/base",
       "_view_module_version": "1.2.0",
       "_view_name": "LayoutView",
       "align_content": null,
       "align_items": null,
       "align_self": null,
       "border": null,
       "bottom": null,
       "display": null,
       "flex": null,
       "flex_flow": null,
       "grid_area": null,
       "grid_auto_columns": null,
       "grid_auto_flow": null,
       "grid_auto_rows": null,
       "grid_column": null,
       "grid_gap": null,
       "grid_row": null,
       "grid_template_areas": null,
       "grid_template_columns": null,
       "grid_template_rows": null,
       "height": null,
       "justify_content": null,
       "justify_items": null,
       "left": null,
       "margin": null,
       "max_height": null,
       "max_width": null,
       "min_height": null,
       "min_width": null,
       "object_fit": null,
       "object_position": null,
       "order": null,
       "overflow": null,
       "overflow_x": null,
       "overflow_y": null,
       "padding": null,
       "right": null,
       "top": null,
       "visibility": null,
       "width": null
      }
     },
     "9bc9b2b965c042c89f97aa0595a2c8f7": {
      "model_module": "@jupyter-widgets/base",
      "model_module_version": "1.2.0",
      "model_name": "LayoutModel",
      "state": {
       "_model_module": "@jupyter-widgets/base",
       "_model_module_version": "1.2.0",
       "_model_name": "LayoutModel",
       "_view_count": null,
       "_view_module": "@jupyter-widgets/base",
       "_view_module_version": "1.2.0",
       "_view_name": "LayoutView",
       "align_content": null,
       "align_items": null,
       "align_self": null,
       "border": null,
       "bottom": null,
       "display": null,
       "flex": null,
       "flex_flow": null,
       "grid_area": null,
       "grid_auto_columns": null,
       "grid_auto_flow": null,
       "grid_auto_rows": null,
       "grid_column": null,
       "grid_gap": null,
       "grid_row": null,
       "grid_template_areas": null,
       "grid_template_columns": null,
       "grid_template_rows": null,
       "height": null,
       "justify_content": null,
       "justify_items": null,
       "left": null,
       "margin": null,
       "max_height": null,
       "max_width": null,
       "min_height": null,
       "min_width": null,
       "object_fit": null,
       "object_position": null,
       "order": null,
       "overflow": null,
       "overflow_x": null,
       "overflow_y": null,
       "padding": null,
       "right": null,
       "top": null,
       "visibility": null,
       "width": null
      }
     },
     "bdaf247660ee4e1e802da86b81f6619d": {
      "model_module": "@jupyter-widgets/controls",
      "model_module_version": "1.5.0",
      "model_name": "HTMLModel",
      "state": {
       "_dom_classes": [],
       "_model_module": "@jupyter-widgets/controls",
       "_model_module_version": "1.5.0",
       "_model_name": "HTMLModel",
       "_view_count": null,
       "_view_module": "@jupyter-widgets/controls",
       "_view_module_version": "1.5.0",
       "_view_name": "HTMLView",
       "description": "",
       "description_tooltip": null,
       "layout": "IPY_MODEL_9354bed7165d432084f61950fe71ff44",
       "placeholder": "​",
       "style": "IPY_MODEL_119e83b1922e4401b7c4e1c0256f3dac",
       "value": " 170500096/? [00:20&lt;00:00, 32676568.30it/s]"
      }
     },
     "dae5076914f8482e843f4fb188f80310": {
      "model_module": "@jupyter-widgets/controls",
      "model_module_version": "1.5.0",
      "model_name": "ProgressStyleModel",
      "state": {
       "_model_module": "@jupyter-widgets/controls",
       "_model_module_version": "1.5.0",
       "_model_name": "ProgressStyleModel",
       "_view_count": null,
       "_view_module": "@jupyter-widgets/base",
       "_view_module_version": "1.2.0",
       "_view_name": "StyleView",
       "bar_color": null,
       "description_width": "initial"
      }
     }
    },
    "version_major": 2,
    "version_minor": 0
   }
  }
 },
 "nbformat": 4,
 "nbformat_minor": 4
}
